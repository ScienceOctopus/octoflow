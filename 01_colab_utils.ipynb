{
 "cells": [
  {
   "cell_type": "code",
   "execution_count": null,
   "id": "eff197b4",
   "metadata": {},
   "outputs": [],
   "source": [
    "import gspread\n",
    "from google.colab import auth\n",
    "from oauth2client.client import GoogleCredentials\n",
    "import sys\n",
    "import pandas as pd\n",
    "\n",
    "URL = \"{your spreadsheet URL}\"\n",
    "\n",
    "if 'google.colab' in sys.modules:\n",
    "    auth.authenticate_user()\n",
    "    gc = gspread.authorize(GoogleCredentials.get_application_default())\n",
    "elif not credential_path:\n",
    "    raise Exception(\"Add the $GSHEET_CREDENTIALS variable to your .env file.\")\n",
    "else:\n",
    "    gc = gspread.service_account(filename=credential_path)\n",
    "    \n",
    "wb = gc.open_by_url(URL)\n",
    "worksheet = wb.get_worksheet(0)\n",
    "worksheet"
   ]
  },
  {
   "cell_type": "code",
   "execution_count": null,
   "id": "8bb1bf8e",
   "metadata": {},
   "outputs": [],
   "source": [
    "dataframe = DataFrame(worksheet.get_all_records())"
   ]
  },
  {
   "cell_type": "code",
   "execution_count": null,
   "id": "2a4af468",
   "metadata": {},
   "outputs": [],
   "source": [
    "from gspread_dataframe import set_with_dataframe\n",
    "\n",
    "sh = gc.create('human-labeled problem statements')\n",
    "sh.share('strasser.ms@gmail.com', perm_type='user', role='writer')\n",
    "worksheet = sh.get_worksheet(0)\n",
    "\n",
    "set_with_dataframe(worksheet, d)\n",
    "print(\"https://docs.google.com/spreadsheets/d/\" + sh.id)"
   ]
  }
 ],
 "metadata": {
  "kernelspec": {
   "display_name": "conda_python3",
   "language": "python",
   "name": "conda_python3"
  },
  "language_info": {
   "codemirror_mode": {
    "name": "ipython",
    "version": 3
   },
   "file_extension": ".py",
   "mimetype": "text/x-python",
   "name": "python",
   "nbconvert_exporter": "python",
   "pygments_lexer": "ipython3",
   "version": "3.6.13"
  }
 },
 "nbformat": 4,
 "nbformat_minor": 5
}
