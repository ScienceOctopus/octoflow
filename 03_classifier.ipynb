{
 "cells": [
  {
   "cell_type": "code",
   "execution_count": 1,
   "id": "b4a289a6",
   "metadata": {},
   "outputs": [
    {
     "name": "stdout",
     "output_type": "stream",
     "text": [
      "42140\n"
     ]
    },
    {
     "data": {
      "text/plain": [
       "('2.5.3', 41840)"
      ]
     },
     "execution_count": 1,
     "metadata": {},
     "output_type": "execute_result"
    }
   ],
   "source": [
    "import pandas as pd \n",
    "import fastai\n",
    "\n",
    "df = pd.read_csv(\"downloads/40k_balanced_pm_acl.csv\").sample(frac=1)\n",
    "df = df.dropna(subset=[\"labels\"])\n",
    "df[\"text_nomask\"] = df[\"text\"] #backup\n",
    "print(len(df))\n",
    "df_test = df[:300]\n",
    "df = df[300:]\n",
    "\n",
    "fastai.__version__, len(df)"
   ]
  },
  {
   "cell_type": "code",
   "execution_count": 6,
   "id": "2f655dca",
   "metadata": {},
   "outputs": [],
   "source": [
    "df[\"text_length\"]= df[\"text\"].map(lambda t: len(t.split(\" \")))"
   ]
  },
  {
   "cell_type": "code",
   "execution_count": 8,
   "id": "1594c2d7",
   "metadata": {},
   "outputs": [],
   "source": [
    "df = df[df[\"text_length\"] > 7]\n"
   ]
  },
  {
   "cell_type": "code",
   "execution_count": 9,
   "id": "81482d76",
   "metadata": {},
   "outputs": [
    {
     "name": "stderr",
     "output_type": "stream",
     "text": [
      "/home/ec2-user/anaconda3/envs/JupyterSystemEnv/lib/python3.6/site-packages/ipykernel_launcher.py:3: SettingWithCopyWarning: \n",
      "A value is trying to be set on a copy of a slice from a DataFrame.\n",
      "Try using .loc[row_indexer,col_indexer] = value instead\n",
      "\n",
      "See the caveats in the documentation: http://pandas.pydata.org/pandas-docs/stable/indexing.html#indexing-view-versus-copy\n",
      "  This is separate from the ipykernel package so we can avoid doing imports until\n"
     ]
    }
   ],
   "source": [
    "from octoflow.core import replace_outof_vocab_words, vocab30k\n",
    "\n",
    "df[\"text\"] = df[\"text\"].map(lambda t: replace_outof_vocab_words(t, vocab30k))\n",
    "df_test[\"text\"] = df_test[\"text\"].map(lambda t: replace_outof_vocab_words(t,vocab30k))"
   ]
  },
  {
   "cell_type": "code",
   "execution_count": 10,
   "id": "2bcdb937",
   "metadata": {},
   "outputs": [
    {
     "name": "stderr",
     "output_type": "stream",
     "text": [
      "/home/ec2-user/anaconda3/envs/JupyterSystemEnv/lib/python3.6/site-packages/ipykernel_launcher.py:1: SettingWithCopyWarning: \n",
      "A value is trying to be set on a copy of a slice from a DataFrame.\n",
      "Try using .loc[row_indexer,col_indexer] = value instead\n",
      "\n",
      "See the caveats in the documentation: http://pandas.pydata.org/pandas-docs/stable/indexing.html#indexing-view-versus-copy\n",
      "  \"\"\"Entry point for launching an IPython kernel.\n",
      "/home/ec2-user/anaconda3/envs/JupyterSystemEnv/lib/python3.6/site-packages/ipykernel_launcher.py:2: SettingWithCopyWarning: \n",
      "A value is trying to be set on a copy of a slice from a DataFrame.\n",
      "Try using .loc[row_indexer,col_indexer] = value instead\n",
      "\n",
      "See the caveats in the documentation: http://pandas.pydata.org/pandas-docs/stable/indexing.html#indexing-view-versus-copy\n",
      "  \n"
     ]
    }
   ],
   "source": [
    "df[\"text\"] = df[\"text\"].astype(str)\n",
    "df[\"labels\"] = df[\"labels\"].astype(int)"
   ]
  },
  {
   "cell_type": "code",
   "execution_count": 11,
   "id": "90ed75e9",
   "metadata": {},
   "outputs": [],
   "source": [
    "df = df[(df[\"labels\"] == 1) | (df[\"labels\"] == 0)]\n",
    "df[\"lab\"] = df[\"labels\"] #worst fastai bug in history"
   ]
  },
  {
   "cell_type": "code",
   "execution_count": 12,
   "id": "8f26e371",
   "metadata": {},
   "outputs": [],
   "source": [
    "from fastai.text.all import *\n",
    "dls = TextDataLoaders.from_df(df, text_col='text', label_col='lab')\n",
    "\n",
    "dls.show_batch()\n",
    "\n",
    "learn = text_classifier_learner(dls, AWD_LSTM, drop_mult=0.5, metrics=[accuracy, FBeta(beta=1)])\n",
    "learn.fine_tune(2, 1e-2)\n",
    "learn.show_results()\n",
    "\n",
    "\n",
    "interp = ClassificationInterpretation.from_learner(learn)\n",
    "interp.plot_top_losses(3)  \n",
    "interp.plot_confusion_matrix()\n",
    "\n",
    "learn.predict(\"We discuss the implications of a more 'civic-minded journalism.\")"
   ]
  },
  {
   "cell_type": "code",
   "execution_count": 14,
   "id": "7360e90e",
   "metadata": {},
   "outputs": [
    {
     "name": "stdout",
     "output_type": "stream",
     "text": [
      "epoch     train_loss  valid_loss  accuracy  fbeta_score  time    \n",
      "0         0.039256    0.034981    0.987027  0.987857     00:22     \n",
      "epoch     train_loss  valid_loss  accuracy  fbeta_score  time    \n",
      "0         0.037926    0.032206    0.988016  0.988824     00:45     \n",
      "1         0.030831    0.029084    0.988386  0.989168     00:46     \n"
     ]
    }
   ],
   "source": [
    "learn.fine_tune(2, 1e-2)"
   ]
  },
  {
   "cell_type": "code",
   "execution_count": 15,
   "id": "1a726bbb",
   "metadata": {},
   "outputs": [
    {
     "data": {
      "text/plain": [
       "Path('models/oc15_40k.pth')"
      ]
     },
     "execution_count": 15,
     "metadata": {},
     "output_type": "execute_result"
    }
   ],
   "source": [
    "learn.export('oct15_40k.pkl')\n",
    "learn.save(\"oc15_40k\")"
   ]
  },
  {
   "cell_type": "markdown",
   "id": "417147cd",
   "metadata": {},
   "source": [
    "## Sanity Check: Tough Cases\n",
    "0 = non-problem\n",
    "1 = problem"
   ]
  },
  {
   "cell_type": "code",
   "execution_count": 16,
   "id": "09919a0b",
   "metadata": {},
   "outputs": [
    {
     "name": "stdout",
     "output_type": "stream",
     "text": [
      "█\r"
     ]
    },
    {
     "data": {
      "text/plain": [
       "('1', TensorText(1), TensorText([0.0353, 0.9647]))"
      ]
     },
     "execution_count": 16,
     "metadata": {},
     "output_type": "execute_result"
    }
   ],
   "source": [
    "learn.predict(\"Anaphylaxis is a life-threatening emergency of which reliable epidemiological data are lacking\")"
   ]
  },
  {
   "cell_type": "code",
   "execution_count": 17,
   "id": "56243d8d",
   "metadata": {},
   "outputs": [
    {
     "name": "stdout",
     "output_type": "stream",
     "text": [
      "█\r"
     ]
    }
   ],
   "source": [
    "predicts = df_test[\"text\"].map(learn.predict)"
   ]
  },
  {
   "cell_type": "code",
   "execution_count": 18,
   "id": "a9196ba1",
   "metadata": {},
   "outputs": [],
   "source": [
    "df_test[\"predicted\"] = [int(p[0]) for p in predicts]\n",
    "df_test[\"confidence_0\"] =  [round(p[2][0].item(),2) for p in predicts]\n",
    "df_test[\"confidence_1\"] =  [round(p[2][1].item(),2) for p in predicts]"
   ]
  },
  {
   "cell_type": "code",
   "execution_count": 19,
   "id": "985abdfd",
   "metadata": {},
   "outputs": [],
   "source": [
    "df_test.to_csv(\"downloads/oct15_40k_test300.csv\")"
   ]
  },
  {
   "cell_type": "code",
   "execution_count": 20,
   "id": "4b78a01e",
   "metadata": {},
   "outputs": [
    {
     "name": "stdout",
     "output_type": "stream",
     "text": [
      "accuracy in test set: 0.9833333333333333\n"
     ]
    }
   ],
   "source": [
    "print(\"accuracy in test set:\", len(df_test[df_test[\"predicted\"] == df_test[\"labels\"]])/len(df_test))"
   ]
  },
  {
   "cell_type": "code",
   "execution_count": 21,
   "id": "14e3b0fc",
   "metadata": {},
   "outputs": [
    {
     "name": "stdout",
     "output_type": "stream",
     "text": [
      "█\r"
     ]
    }
   ],
   "source": [
    "predicts2 = df_test[\"text_nomask\"].map(learn.predict)"
   ]
  },
  {
   "cell_type": "code",
   "execution_count": 22,
   "id": "6a24079a",
   "metadata": {},
   "outputs": [
    {
     "name": "stdout",
     "output_type": "stream",
     "text": [
      "accuracy in test set with no masking: 0.9866666666666667\n"
     ]
    }
   ],
   "source": [
    "df_test[\"predicted2\"] = [int(p[0]) for p in predicts2]\n",
    "print(\"accuracy in test set with no masking:\", len(df_test[df_test[\"predicted2\"] == df_test[\"labels\"]])/len(df_test))"
   ]
  },
  {
   "cell_type": "markdown",
   "id": "f5b4716b",
   "metadata": {},
   "source": [
    "That's very weird ... masking doesn't effect predictions"
   ]
  }
 ],
 "metadata": {
  "kernelspec": {
   "display_name": "conda_python3",
   "language": "python",
   "name": "conda_python3"
  },
  "language_info": {
   "codemirror_mode": {
    "name": "ipython",
    "version": 3
   },
   "file_extension": ".py",
   "mimetype": "text/x-python",
   "name": "python",
   "nbconvert_exporter": "python",
   "pygments_lexer": "ipython3",
   "version": "3.6.13"
  }
 },
 "nbformat": 4,
 "nbformat_minor": 5
}
