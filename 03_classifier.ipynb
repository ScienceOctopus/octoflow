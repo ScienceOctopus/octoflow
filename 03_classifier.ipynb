{
 "cells": [
  {
   "cell_type": "code",
   "execution_count": null,
   "id": "7ec5e360",
   "metadata": {},
   "outputs": [
    {
     "name": "stdout",
     "output_type": "stream",
     "text": [
      "42140\n"
     ]
    },
    {
     "data": {
      "text/plain": [
       "('2.5.3', 41840)"
      ]
     },
     "execution_count": null,
     "metadata": {},
     "output_type": "execute_result"
    }
   ],
   "source": [
    "import pandas as pd \n",
    "import fastai\n",
    "\n",
    "df = pd.read_csv(\"downloads/40k_balanced_pm_acl.csv\").sample(frac=1)\n",
    "df = df.dropna(subset=[\"labels\"])\n",
    "df[\"text_nomask\"] = df[\"text\"] #backup\n",
    "print(len(df))\n",
    "df_test = df[:300]\n",
    "df = df[300:]\n",
    "\n",
    "fastai.__version__, len(df)"
   ]
  },
  {
   "cell_type": "code",
   "execution_count": null,
   "id": "7a817202",
   "metadata": {},
   "outputs": [],
   "source": [
    "df[\"text_length\"]= df[\"text\"].map(lambda t: len(t.split(\" \")))"
   ]
  },
  {
   "cell_type": "code",
   "execution_count": null,
   "id": "9af39d2d",
   "metadata": {},
   "outputs": [],
   "source": [
    "df = df[df[\"text_length\"] > 7]\n"
   ]
  },
  {
   "cell_type": "code",
   "execution_count": null,
   "id": "d978926c",
   "metadata": {},
   "outputs": [
    {
     "name": "stderr",
     "output_type": "stream",
     "text": [
      "/home/ec2-user/anaconda3/envs/JupyterSystemEnv/lib/python3.6/site-packages/ipykernel_launcher.py:3: SettingWithCopyWarning: \n",
      "A value is trying to be set on a copy of a slice from a DataFrame.\n",
      "Try using .loc[row_indexer,col_indexer] = value instead\n",
      "\n",
      "See the caveats in the documentation: http://pandas.pydata.org/pandas-docs/stable/indexing.html#indexing-view-versus-copy\n",
      "  This is separate from the ipykernel package so we can avoid doing imports until\n"
     ]
    }
   ],
   "source": [
    "from octoflow.core import replace_outof_vocab_words, vocab30k\n",
    "\n",
    "df[\"text\"] = df[\"text\"].map(lambda t: replace_outof_vocab_words(t, vocab30k))\n",
    "df_test[\"text\"] = df_test[\"text\"].map(lambda t: replace_outof_vocab_words(t,vocab30k))"
   ]
  },
  {
   "cell_type": "code",
   "execution_count": null,
   "id": "da604784",
   "metadata": {},
   "outputs": [],
   "source": [
    "df[\"text\"] = df[\"text\"].astype(str)\n",
    "df[\"labels\"] = df[\"labels\"].astype(int)"
   ]
  },
  {
   "cell_type": "code",
   "execution_count": null,
   "id": "00ecab30",
   "metadata": {},
   "outputs": [],
   "source": [
    "df = df[(df[\"labels\"] == 1) | (df[\"labels\"] == 0)]\n",
    "df[\"lab\"] = df[\"labels\"] #worst fastai bug in history"
   ]
  },
  {
   "cell_type": "code",
   "execution_count": null,
   "id": "93100cbd",
   "metadata": {},
   "outputs": [
    {
     "data": {
      "text/html": [],
      "text/plain": [
       "<IPython.core.display.HTML object>"
      ]
     },
     "metadata": {},
     "output_type": "display_data"
    },
    {
     "name": "stderr",
     "output_type": "stream",
     "text": [
      "/home/ec2-user/anaconda3/envs/python3/lib/python3.6/site-packages/numpy/core/_asarray.py:83: VisibleDeprecationWarning: Creating an ndarray from ragged nested sequences (which is a list-or-tuple of lists-or-tuples-or ndarrays with different lengths or shapes) is deprecated. If you meant to do this, you must specify 'dtype=object' when creating the ndarray\n",
      "  return array(a, dtype, copy=False, order=order)\n"
     ]
    },
    {
     "data": {
      "text/html": [
       "<table border=\"1\" class=\"dataframe\">\n",
       "  <thead>\n",
       "    <tr style=\"text-align: right;\">\n",
       "      <th></th>\n",
       "      <th>text</th>\n",
       "      <th>category</th>\n",
       "    </tr>\n",
       "  </thead>\n",
       "  <tbody>\n",
       "    <tr>\n",
       "      <th>0</th>\n",
       "      <td>xxbos xxmaj from xxmaj january 2016 to xxmaj january 2019 at xxmaj xxunk xxmaj hospital xxmaj affiliated with xxmaj shanghai xxmaj xxunk xxmaj xxunk xxmaj university xxmaj school of xxmaj medicine , 208 donors were recruited and randomly assigned to four groups : xxup s - ripc group ( no intervention ; &lt; i &gt; n &lt; / i &gt; = 55 ) , xxup d - ripc group ( donors received xxup ripc ; &lt; i &gt; n &lt; / i &gt; = 51 ) , xxup r - ripc group ( recipients received xxup ripc , &lt; i &gt; n &lt; / i &gt; = 51 ) and xxup dr - ripc group ( both donors and recipients received xxup ripc ; &lt; i &gt; n &lt; / i &gt; = 51 ) .</td>\n",
       "      <td>0</td>\n",
       "    </tr>\n",
       "    <tr>\n",
       "      <th>1</th>\n",
       "      <td>xxbos xxmaj the study included 90 patients with xxmaj american xxmaj society of xxmaj anesthesiologists ' ( asa ) class i and xxup ii , in good cardiopulmonary health , who were assigned to one of three groups : xxmaj restrictive group , which received 1 ml / kg / hr intraoperatively and six hours postoperatively ; xxmaj low liberal group , which received 5 ml / kg / hr of xxmaj ringer 's solution intraoperatively and six hours postoperatively and xxmaj high liberal group , which received 15 ml / kg / hr intraoperatively and 10 ml / kg / hr six hours postoperatively .</td>\n",
       "      <td>0</td>\n",
       "    </tr>\n",
       "    <tr>\n",
       "      <th>2</th>\n",
       "      <td>xxbos xxmaj in this single - dose , open - label , crossover study , healthy adults ( age range , 18 - 65 years ) were randomized equally to one of six treatment sequences for three 72 - hour treatment periods with xxup gsp301 ( xxunk xxunk μg - mometasone 50 μg ) , the mometasone xxunk monotherapy component of xxup gsp301 ( mf - xxunk , 50 μg ) , and xxup u.s . xxmaj food and xxmaj drug xxmaj administration - approved mometasone ( mf , 50 μg ) ; all the treatments were administered as two xxunk per xxunk .</td>\n",
       "      <td>0</td>\n",
       "    </tr>\n",
       "    <tr>\n",
       "      <th>3</th>\n",
       "      <td>xxbos xxmaj twenty - five patients with advanced cancer pancreas progressed or failed on 1st line treatments and justified the inclusion criteria were eligible to receive xxmaj docetaxel 75   mg / m &lt; sup&gt;2 &lt; / sup &gt; over xxunk iv infusion on day 1 , xxmaj oxaliplatin 80   mg / m &lt; sup&gt;2 &lt; / sup &gt; over 2   h iv infusion on day 2 , the cycle was repeated every 3 weeks for 6 - 8 cycles unless disease progression or severe toxicity appeared .</td>\n",
       "      <td>0</td>\n",
       "    </tr>\n",
       "    <tr>\n",
       "      <th>4</th>\n",
       "      <td>xxbos xxmaj this paper contributes to the identification of risk factors for xxup koa progression via a robust feature selection ( xxup fs ) methodology that overcomes two crucial challenges : ( i ) the observed high dimensionality and heterogeneity of the available data that are obtained from the xxmaj osteoarthritis xxmaj initiative ( xxup xxunk ) database and ( ii ) a severe class imbalance problem posed by the fact that the xxup koa xxunk class is significantly smaller than the non - xxunk ' class .</td>\n",
       "      <td>1</td>\n",
       "    </tr>\n",
       "    <tr>\n",
       "      <th>5</th>\n",
       "      <td>xxbos xxmaj the objective of this article is to describe and trigger a serious discussion of such challenges , which include : adopting a new concept of health ; positioning self - rated health as the main outcome of the system ; creating a health - oriented model to guide service provision ; facilitating the identification , scaling up , and sustaining of innovations that can create and spread health ; promoting a culture of health promotion ; and encouraging the emergence of xxmaj precision xxmaj health .</td>\n",
       "      <td>1</td>\n",
       "    </tr>\n",
       "    <tr>\n",
       "      <th>6</th>\n",
       "      <td>xxbos xxmaj the xxunk determined that the main barriers to optimal care of community - based patients with xxup niddm are that 1 ) xxup niddm is not considered or managed as a serious problem by most physicians and their patients ; 2 ) the genetic basis for and refractory nature of obesity are not generally appreciated ; and 3 ) as a complex , multisystemic chronic illness , diabetes xxunk poorly in a health care delivery system designed to deal with acute and episodic illnesses .</td>\n",
       "      <td>1</td>\n",
       "    </tr>\n",
       "    <tr>\n",
       "      <th>7</th>\n",
       "      <td>xxbos xxmaj intimate partner violence ( xxup ipv ) is a serious public health problem that disproportionately affects racial / ethnic minorities in the xxup u.s . xxmaj this study examines risk factors for xxup ipv perpetration that are salient for racial / ethnic minorities ; specifically , we test if racial / ethnic discrimination among xxmaj latino men is associated with xxup ipv perpetration , if poor mental health ( xxup xxunk ) mediates this link , and whether relationships differ by immigrant status .</td>\n",
       "      <td>1</td>\n",
       "    </tr>\n",
       "    <tr>\n",
       "      <th>8</th>\n",
       "      <td>xxbos xxmaj the problem lies in the proximity of \" truly \" and \" only . \" xxmaj it was indeed the writer 's intention to emphasise \" truly \" with an xxunk xxunk : \" xxmaj are you sure you need it ? \" xxmaj however , the effect is xxunk by the xxunk strength of \" only . \" xxmaj the reader 's unconscious reading may be that , truly , she needs the help that only modern obstetrics can provide .</td>\n",
       "      <td>1</td>\n",
       "    </tr>\n",
       "  </tbody>\n",
       "</table>"
      ],
      "text/plain": [
       "<IPython.core.display.HTML object>"
      ]
     },
     "metadata": {},
     "output_type": "display_data"
    }
   ],
   "source": [
    "from fastai.text.all import *\n",
    "dls = TextDataLoaders.from_df(df, text_col='text', label_col='lab')\n",
    "\n",
    "dls.show_batch()\n",
    "\n",
    "learn = text_classifier_learner(dls, AWD_LSTM, drop_mult=0.5, metrics=[accuracy, FBeta(beta=1)])\n"
   ]
  },
  {
   "cell_type": "code",
   "execution_count": null,
   "id": "09fa4fae",
   "metadata": {},
   "outputs": [],
   "source": []
  },
  {
   "cell_type": "code",
   "execution_count": null,
   "id": "d4987762",
   "metadata": {},
   "outputs": [
    {
     "data": {
      "text/html": [
       "<table border=\"1\" class=\"dataframe\">\n",
       "  <thead>\n",
       "    <tr style=\"text-align: left;\">\n",
       "      <th>epoch</th>\n",
       "      <th>train_loss</th>\n",
       "      <th>valid_loss</th>\n",
       "      <th>accuracy</th>\n",
       "      <th>fbeta_score</th>\n",
       "      <th>time</th>\n",
       "    </tr>\n",
       "  </thead>\n",
       "  <tbody>\n",
       "    <tr>\n",
       "      <td>0</td>\n",
       "      <td>0.195548</td>\n",
       "      <td>0.103302</td>\n",
       "      <td>0.961329</td>\n",
       "      <td>0.963422</td>\n",
       "      <td>00:21</td>\n",
       "    </tr>\n",
       "  </tbody>\n",
       "</table>"
      ],
      "text/plain": [
       "<IPython.core.display.HTML object>"
      ]
     },
     "metadata": {},
     "output_type": "display_data"
    },
    {
     "data": {
      "text/html": [
       "<table border=\"1\" class=\"dataframe\">\n",
       "  <thead>\n",
       "    <tr style=\"text-align: left;\">\n",
       "      <th>epoch</th>\n",
       "      <th>train_loss</th>\n",
       "      <th>valid_loss</th>\n",
       "      <th>accuracy</th>\n",
       "      <th>fbeta_score</th>\n",
       "      <th>time</th>\n",
       "    </tr>\n",
       "  </thead>\n",
       "  <tbody>\n",
       "    <tr>\n",
       "      <td>0</td>\n",
       "      <td>0.059184</td>\n",
       "      <td>0.041885</td>\n",
       "      <td>0.985051</td>\n",
       "      <td>0.985896</td>\n",
       "      <td>00:45</td>\n",
       "    </tr>\n",
       "    <tr>\n",
       "      <td>1</td>\n",
       "      <td>0.038300</td>\n",
       "      <td>0.028888</td>\n",
       "      <td>0.989004</td>\n",
       "      <td>0.989575</td>\n",
       "      <td>00:46</td>\n",
       "    </tr>\n",
       "  </tbody>\n",
       "</table>"
      ],
      "text/plain": [
       "<IPython.core.display.HTML object>"
      ]
     },
     "metadata": {},
     "output_type": "display_data"
    },
    {
     "data": {
      "text/html": [],
      "text/plain": [
       "<IPython.core.display.HTML object>"
      ]
     },
     "metadata": {},
     "output_type": "display_data"
    },
    {
     "data": {
      "text/html": [
       "<table border=\"1\" class=\"dataframe\">\n",
       "  <thead>\n",
       "    <tr style=\"text-align: right;\">\n",
       "      <th></th>\n",
       "      <th>text</th>\n",
       "      <th>category</th>\n",
       "      <th>category_</th>\n",
       "    </tr>\n",
       "  </thead>\n",
       "  <tbody>\n",
       "    <tr>\n",
       "      <th>0</th>\n",
       "      <td>xxbos xxmaj this observational study reviews data on the number of cases of yaws identified by each of the five yaws detection approaches : 1 ) passive yaws detection at local clinics after staff attended xxmaj neglected xxmaj tropical xxmaj disease awareness workshops , 2 ) community - based case detection carried out in remote communities by hospital staff who relied on community health workers to identify cases , 3 ) yaws screening following mass xxmaj xxunk xxmaj ulcer outreach programs being xxunk in the district , 4 ) school - based screening programs conducted as stand - alone and follow - up activities to mass outreach events , and 5 ) house to house active surveillance activities conducted in thirty - eight communities .</td>\n",
       "      <td>0</td>\n",
       "      <td>0</td>\n",
       "    </tr>\n",
       "    <tr>\n",
       "      <th>1</th>\n",
       "      <td>xxbos randomized , prospective single center study , primary setting ; 16 patients with moderate chronic rhinosinusitis with polyps ( xxunk ) , corresponding to a xxmaj lund / xxmaj xxunk score of 6 - 12 ; home based electrostimulation therapy ( est ) with amplitude xxunk current ( base frequency of 4 xxrep 3 0 xxmaj hz , frequency band of 100 - 250 xxmaj hz ) over 2 weeks adjuvant to a concurrent sinusitis therapy with topical corticosteroids ; measurement of nasal nitric oxide concentration and self - assessment of complaints with the questionnaire instrument xxup xxunk xxup xxunk ; survey points t0 before xxup est , t1 after xxup est , t2 6 weeks after t1 .</td>\n",
       "      <td>0</td>\n",
       "      <td>0</td>\n",
       "    </tr>\n",
       "    <tr>\n",
       "      <th>2</th>\n",
       "      <td>xxbos xxmaj the problem with this is that video - feedback teaching of the necessary type is not always available , so we have developed xxunk that we can xxunk out to distant locations , and which focus the attention of both local xxunk and xxunk on what should be learned . xxmaj because it is essential that most of the teaching is done by the live teacher rather than the xxunk , there are always several \" discussion points \" so that xxunk can ask questions , or describe their own way of dealing with particular situations .</td>\n",
       "      <td>1</td>\n",
       "      <td>1</td>\n",
       "    </tr>\n",
       "    <tr>\n",
       "      <th>3</th>\n",
       "      <td>xxbos xxmaj the authors performed a prospective economic substudy alongside the xxup xxunk - timi 54 ( prevention of xxmaj cardiovascular xxmaj events in xxmaj patients xxmaj with xxmaj prior xxmaj heart xxmaj attack xxmaj using xxmaj ticagrelor xxmaj compared to xxmaj placebo on a xxmaj background of aspirin - thrombolysis xxmaj in xxmaj myocardial xxmaj infarction 54 ) trial , which randomized xxunk patients to xxup asa alone , ticagrelor 60   mg twice daily   + low - dose xxup asa , or ticagrelor 90   mg twice daily   + low - dose xxup asa .</td>\n",
       "      <td>0</td>\n",
       "      <td>0</td>\n",
       "    </tr>\n",
       "    <tr>\n",
       "      <th>4</th>\n",
       "      <td>xxbos a total of xxunk patients were grouped according to their tumor diameter : diameter xxunk   cm , xxmaj xxunk ( g &lt; sub &gt; lg &lt; / sub &gt; ) ( n   =   30 ) ; diameter 6 to 8   cm , xxmaj xxunk ( g &lt; sub &gt; md &lt; / sub &gt; ) ( n   =   57 ) ; and diameter &lt; 6   cm , xxmaj xxunk ( g &lt; sub &gt; sm &lt; / sub &gt; ) ( n   =   166 ) .</td>\n",
       "      <td>0</td>\n",
       "      <td>0</td>\n",
       "    </tr>\n",
       "    <tr>\n",
       "      <th>5</th>\n",
       "      <td>xxbos xxmaj with the xxup who now placing global emphasis on the primary prevention of hypertension , the goals of this proof - of - concept study were to ( i ) examine whether sex differences exist in the ambulatory bp - lowering effects of xxup irt in young , normotensive men and women and ( ii ) determine whether these reductions can be predicted by simple laboratory stress tasks ( a 2 - min sustained isometric contraction and a math task involving xxunk a two - digit number from a series of numbers ) .</td>\n",
       "      <td>0</td>\n",
       "      <td>0</td>\n",
       "    </tr>\n",
       "    <tr>\n",
       "      <th>6</th>\n",
       "      <td>xxbos xxmaj twelve women and 16 men , both xxunk trained , performed four sessions in a random order : 1 ) xxup bp followed by xxup lp with three - minutes rest ( xxunk with rest ) ; 2 ) xxup lp followed by xxup bp with three - minutes rest ( xxunk with rest ) ; 3 ) xxup bp followed by xxup lp without rest interval ( xxunk no rest ) , and 4 ) xxup lp followed by xxup bp without rest interval ( xxunk no rest ) .</td>\n",
       "      <td>0</td>\n",
       "      <td>0</td>\n",
       "    </tr>\n",
       "    <tr>\n",
       "      <th>7</th>\n",
       "      <td>xxbos xxmaj evaluation of singlet - singlet energy transfer between tyrosine ( donor ) and tryptophan ( acceptor ) in the biologically active analog i resulted in a low transfer efficiency ( e approximately xxunk ) xxmaj since xxunk of the xxunk and xxunk residues ( analog xxup ii ) produced a transfer efficiency similar to that observed in compound i , the orientation factor did not present a serious problem for the determination of the xxunk xxunk - trp distances in these peptides on the basis of the xxmaj xxunk equation .</td>\n",
       "      <td>1</td>\n",
       "      <td>1</td>\n",
       "    </tr>\n",
       "    <tr>\n",
       "      <th>8</th>\n",
       "      <td>xxbos xxmaj to measure minimal model parameters during an insulin - modified frequently sampled intravenous glucose tolerance test ( xxunk ) after adaptation to a forage only diet ( xxunk ) or forage supplemented with either starch / sugar - rich ( ss ) or oil / fibre - rich ( ff ) concentrate feeds ; and to assess glucose and insulin responses to a standardised meal challenge ( xxunk , 4   g / kg xxup bw of xxup ss ) after diet adaptation in adult and aged xxunk .</td>\n",
       "      <td>0</td>\n",
       "      <td>0</td>\n",
       "    </tr>\n",
       "  </tbody>\n",
       "</table>"
      ],
      "text/plain": [
       "<IPython.core.display.HTML object>"
      ]
     },
     "metadata": {},
     "output_type": "display_data"
    },
    {
     "data": {
      "text/html": [],
      "text/plain": [
       "<IPython.core.display.HTML object>"
      ]
     },
     "metadata": {},
     "output_type": "display_data"
    },
    {
     "data": {
      "text/html": [
       "<table border=\"1\" class=\"dataframe\">\n",
       "  <thead>\n",
       "    <tr style=\"text-align: right;\">\n",
       "      <th></th>\n",
       "      <th>input</th>\n",
       "      <th>target</th>\n",
       "      <th>predicted</th>\n",
       "      <th>probability</th>\n",
       "      <th>loss</th>\n",
       "    </tr>\n",
       "  </thead>\n",
       "  <tbody>\n",
       "    <tr>\n",
       "      <th>0</th>\n",
       "      <td>xxbos xxmaj in metastatic colorectal cancer , no xxunk or on - treatment markers are available to determine the prognosis or efficacy for chemotherapy in combination with bevacizumab .</td>\n",
       "      <td>1</td>\n",
       "      <td>0</td>\n",
       "      <td>0.999539852142334</td>\n",
       "      <td>7.683861255645752</td>\n",
       "    </tr>\n",
       "  </tbody>\n",
       "</table>"
      ],
      "text/plain": [
       "<IPython.core.display.HTML object>"
      ]
     },
     "metadata": {},
     "output_type": "display_data"
    },
    {
     "data": {
      "text/html": [],
      "text/plain": [
       "<IPython.core.display.HTML object>"
      ]
     },
     "metadata": {},
     "output_type": "display_data"
    },
    {
     "data": {
      "text/plain": [
       "('0', TensorText(0), TensorText([0.9788, 0.0212]))"
      ]
     },
     "execution_count": null,
     "metadata": {},
     "output_type": "execute_result"
    },
    {
     "data": {
      "image/png": "[encoded data removed]",
      "text/plain": [
       "<Figure size 432x288 with 1 Axes>"
      ]
     },
     "metadata": {
      "needs_background": "light"
     },
     "output_type": "display_data"
    }
   ],
   "source": [
    "learn.fine_tune(2, 1e-2)\n",
    "learn.show_results()\n",
    "\n",
    "\n",
    "interp = ClassificationInterpretation.from_learner(learn)\n",
    "interp.plot_top_losses(3)  \n",
    "interp.plot_confusion_matrix()\n",
    "\n",
    "learn.predict(\"We discuss the implications of a more 'civic-minded journalism.\")"
   ]
  },
  {
   "cell_type": "code",
   "execution_count": null,
   "id": "c95950a1",
   "metadata": {},
   "outputs": [
    {
     "data": {
      "text/html": [
       "<table border=\"1\" class=\"dataframe\">\n",
       "  <thead>\n",
       "    <tr style=\"text-align: left;\">\n",
       "      <th>epoch</th>\n",
       "      <th>train_loss</th>\n",
       "      <th>valid_loss</th>\n",
       "      <th>accuracy</th>\n",
       "      <th>fbeta_score</th>\n",
       "      <th>time</th>\n",
       "    </tr>\n",
       "  </thead>\n",
       "  <tbody>\n",
       "    <tr>\n",
       "      <td>0</td>\n",
       "      <td>0.034807</td>\n",
       "      <td>0.032858</td>\n",
       "      <td>0.988386</td>\n",
       "      <td>0.988920</td>\n",
       "      <td>00:24</td>\n",
       "    </tr>\n",
       "  </tbody>\n",
       "</table>"
      ],
      "text/plain": [
       "<IPython.core.display.HTML object>"
      ]
     },
     "metadata": {},
     "output_type": "display_data"
    },
    {
     "data": {
      "text/html": [
       "<table border=\"1\" class=\"dataframe\">\n",
       "  <thead>\n",
       "    <tr style=\"text-align: left;\">\n",
       "      <th>epoch</th>\n",
       "      <th>train_loss</th>\n",
       "      <th>valid_loss</th>\n",
       "      <th>accuracy</th>\n",
       "      <th>fbeta_score</th>\n",
       "      <th>time</th>\n",
       "    </tr>\n",
       "  </thead>\n",
       "  <tbody>\n",
       "    <tr>\n",
       "      <td>0</td>\n",
       "      <td>0.036854</td>\n",
       "      <td>0.032124</td>\n",
       "      <td>0.989375</td>\n",
       "      <td>0.989930</td>\n",
       "      <td>00:47</td>\n",
       "    </tr>\n",
       "    <tr>\n",
       "      <td>1</td>\n",
       "      <td>0.020941</td>\n",
       "      <td>0.033860</td>\n",
       "      <td>0.989128</td>\n",
       "      <td>0.989669</td>\n",
       "      <td>00:48</td>\n",
       "    </tr>\n",
       "  </tbody>\n",
       "</table>"
      ],
      "text/plain": [
       "<IPython.core.display.HTML object>"
      ]
     },
     "metadata": {},
     "output_type": "display_data"
    }
   ],
   "source": [
    "learn.fine_tune(2, 1e-2)"
   ]
  },
  {
   "cell_type": "code",
   "execution_count": null,
   "id": "165b64ca",
   "metadata": {},
   "outputs": [
    {
     "data": {
      "text/plain": [
       "Path('models/oc15_40k.pth')"
      ]
     },
     "execution_count": null,
     "metadata": {},
     "output_type": "execute_result"
    }
   ],
   "source": [
    "learn.export('oct15_40k.pkl')\n",
    "learn.save(\"oc15_40k\")"
   ]
  },
  {
   "cell_type": "markdown",
   "id": "6a5571ca",
   "metadata": {},
   "source": [
    "## Sanity Check: Tough Cases\n",
    "0 = non-problem\n",
    "1 = problem"
   ]
  },
  {
   "cell_type": "code",
   "execution_count": null,
   "id": "d5727da9",
   "metadata": {},
   "outputs": [
    {
     "data": {
      "text/html": [],
      "text/plain": [
       "<IPython.core.display.HTML object>"
      ]
     },
     "metadata": {},
     "output_type": "display_data"
    },
    {
     "data": {
      "text/plain": [
       "('0', TensorText(0), TensorText([0.5266, 0.4734]))"
      ]
     },
     "execution_count": null,
     "metadata": {},
     "output_type": "execute_result"
    }
   ],
   "source": [
    "learn.predict(\"Anaphylaxis is a life-threatening emergency of which reliable epidemiological data are lacking\")\n",
    "#('1', TensorText(1), TensorText([0.0353, 0.9647]))\n"
   ]
  },
  {
   "cell_type": "code",
   "execution_count": null,
   "id": "c0e287e3",
   "metadata": {},
   "outputs": [],
   "source": [
    "from fastai.vision.all import *\n",
    "def predict_batch(self, item, rm_type_tfms=None, with_input=False):\n",
    "    dl = self.dls.test_dl(item, rm_type_tfms=rm_type_tfms, num_workers=0)\n",
    "    ret = self.get_preds(dl=dl)\n",
    "    return ret\n",
    "\n",
    "learn.predict_batch = predict_batch"
   ]
  },
  {
   "cell_type": "code",
   "execution_count": null,
   "id": "de8829ef",
   "metadata": {},
   "outputs": [
    {
     "ename": "TypeError",
     "evalue": "predict_batch() missing 1 required positional argument: 'item'",
     "output_type": "error",
     "traceback": [
      "\u001b[0;31m---------------------------------------------------------------------------\u001b[0m",
      "\u001b[0;31mTypeError\u001b[0m                                 Traceback (most recent call last)",
      "\u001b[0;32m<ipython-input-24-4eb0c02ad080>\u001b[0m in \u001b[0;36m<module>\u001b[0;34m\u001b[0m\n\u001b[0;32m----> 1\u001b[0;31m \u001b[0mpredicts\u001b[0m \u001b[0;34m=\u001b[0m \u001b[0mlearn\u001b[0m\u001b[0;34m.\u001b[0m\u001b[0mpredict_batch\u001b[0m\u001b[0;34m(\u001b[0m\u001b[0mdf_test\u001b[0m\u001b[0;34m[\u001b[0m\u001b[0;34m\"text\"\u001b[0m\u001b[0;34m]\u001b[0m\u001b[0;34m)\u001b[0m\u001b[0;34m\u001b[0m\u001b[0;34m\u001b[0m\u001b[0m\n\u001b[0m",
      "\u001b[0;31mTypeError\u001b[0m: predict_batch() missing 1 required positional argument: 'item'"
     ]
    }
   ],
   "source": [
    "predicts = df_test[\"text\"].map(learn.predict)"
   ]
  },
  {
   "cell_type": "code",
   "execution_count": null,
   "id": "5957226b",
   "metadata": {},
   "outputs": [],
   "source": [
    "df_test[\"predicted\"] = [int(p[0]) for p in predicts]\n",
    "df_test[\"confidence_0\"] =  [round(p[2][0].item(),2) for p in predicts]\n",
    "df_test[\"confidence_1\"] =  [round(p[2][1].item(),2) for p in predicts]"
   ]
  },
  {
   "cell_type": "code",
   "execution_count": null,
   "id": "394c3ff6",
   "metadata": {},
   "outputs": [],
   "source": [
    "df_test.to_csv(\"downloads/oct15_40k_test300.csv\")"
   ]
  },
  {
   "cell_type": "code",
   "execution_count": null,
   "id": "79473707",
   "metadata": {},
   "outputs": [
    {
     "name": "stdout",
     "output_type": "stream",
     "text": [
      "accuracy in test set: 0.9833333333333333\n"
     ]
    }
   ],
   "source": [
    "print(\"accuracy in test set:\", len(df_test[df_test[\"predicted\"] == df_test[\"labels\"]])/len(df_test))"
   ]
  },
  {
   "cell_type": "code",
   "execution_count": null,
   "id": "c4a03a8c",
   "metadata": {},
   "outputs": [
    {
     "name": "stdout",
     "output_type": "stream",
     "text": [
      "█\r"
     ]
    }
   ],
   "source": [
    "predicts2 = df_test[\"text_nomask\"].map(learn.predict)"
   ]
  },
  {
   "cell_type": "code",
   "execution_count": null,
   "id": "c13eb8be",
   "metadata": {},
   "outputs": [
    {
     "name": "stdout",
     "output_type": "stream",
     "text": [
      "accuracy in test set with no masking: 0.9866666666666667\n"
     ]
    }
   ],
   "source": [
    "df_test[\"predicted2\"] = [int(p[0]) for p in predicts2]\n",
    "print(\"accuracy in test set with no masking:\", len(df_test[df_test[\"predicted2\"] == df_test[\"labels\"]])/len(df_test))"
   ]
  },
  {
   "cell_type": "markdown",
   "id": "ff5e4e31",
   "metadata": {},
   "source": [
    "That's very weird ... masking doesn't effect predictions"
   ]
  }
 ],
 "metadata": {
  "kernelspec": {
   "display_name": "conda_python3",
   "language": "python",
   "name": "conda_python3"
  },
  "language_info": {
   "codemirror_mode": {
    "name": "ipython",
    "version": 3
   },
   "file_extension": ".py",
   "mimetype": "text/x-python",
   "name": "python",
   "nbconvert_exporter": "python",
   "pygments_lexer": "ipython3",
   "version": "3.6.13"
  }
 },
 "nbformat": 4,
 "nbformat_minor": 5
}
