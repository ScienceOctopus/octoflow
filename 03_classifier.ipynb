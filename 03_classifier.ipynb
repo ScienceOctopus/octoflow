{
 "cells": [
  {
   "cell_type": "code",
   "execution_count": 3,
   "id": "8734e24a",
   "metadata": {},
   "outputs": [
    {
     "name": "stdout",
     "output_type": "stream",
     "text": [
      "42140\n"
     ]
    },
    {
     "data": {
      "text/plain": [
       "('2.5.2', 41840)"
      ]
     },
     "execution_count": 3,
     "metadata": {},
     "output_type": "execute_result"
    }
   ],
   "source": [
    "import pandas as pd \n",
    "import fastai\n",
    "\n",
    "df = pd.read_csv(\"downloads/40k_balanced_pm_acl.csv\").sample(frac=1)\n",
    "df = df.dropna(subset=[\"labels\"])\n",
    "df[\"text_nomask\"] = df[\"text\"] #backup\n",
    "print(len(df))\n",
    "df_test = df[:300]\n",
    "df = df[300:]\n",
    "fastai.__version__, len(df)"
   ]
  },
  {
   "cell_type": "code",
   "execution_count": 20,
   "id": "64caadd8",
   "metadata": {},
   "outputs": [
    {
     "data": {
      "text/plain": [
       "40474"
      ]
     },
     "execution_count": 20,
     "metadata": {},
     "output_type": "execute_result"
    }
   ],
   "source": [
    "df = df[df[\"text_length\"] > 7]\n",
    "len(df)"
   ]
  },
  {
   "cell_type": "code",
   "execution_count": null,
   "id": "5154ee6c",
   "metadata": {},
   "outputs": [],
   "source": [
    "from octoflow.core import replace_outof_vocab_words, vocab30k\n",
    "\n",
    "df[\"text\"] = df[\"text\"].map(lambda t: replace_outof_vocab_words(t, vocab30k))\n",
    "df_test[\"text\"] = df_test[\"text\"].map(lambda t: replace_outof_vocab_words(t,vocab30k))"
   ]
  },
  {
   "cell_type": "code",
   "execution_count": null,
   "id": "2205721a",
   "metadata": {},
   "outputs": [],
   "source": [
    "df[\"text\"] = df[\"text\"].astype(str)\n",
    "df[\"labels\"] = df[\"labels\"].astype(int)"
   ]
  },
  {
   "cell_type": "code",
   "execution_count": null,
   "id": "a98e2c9f",
   "metadata": {},
   "outputs": [],
   "source": [
    "df = df[(df[\"labels\"] == 1) | (df[\"labels\"] == 0)]\n",
    "df[\"lab\"] = df[\"labels\"] #worst fastai bug in history"
   ]
  },
  {
   "cell_type": "code",
   "execution_count": null,
   "id": "dea6d443",
   "metadata": {},
   "outputs": [
    {
     "name": "stdout",
     "output_type": "stream",
     "text": [
      "█\r"
     ]
    },
    {
     "name": "stderr",
     "output_type": "stream",
     "text": [
      "/home/ec2-user/anaconda3/envs/JupyterSystemEnv/lib/python3.6/site-packages/numpy/core/_asarray.py:83: VisibleDeprecationWarning: Creating an ndarray from ragged nested sequences (which is a list-or-tuple of lists-or-tuples-or ndarrays with different lengths or shapes) is deprecated. If you meant to do this, you must specify 'dtype=object' when creating the ndarray\n",
      "  return array(a, dtype, copy=False, order=order)\n"
     ]
    }
   ],
   "source": [
    "from fastai.text.all import *\n",
    "dls = TextDataLoaders.from_df(df, text_col='text', label_col='lab')"
   ]
  },
  {
   "cell_type": "code",
   "execution_count": null,
   "id": "41596d79",
   "metadata": {},
   "outputs": [
    {
     "data": {
      "text/html": [
       "<table border=\"1\" class=\"dataframe\">\n",
       "  <thead>\n",
       "    <tr style=\"text-align: right;\">\n",
       "      <th></th>\n",
       "      <th>text</th>\n",
       "      <th>category</th>\n",
       "    </tr>\n",
       "  </thead>\n",
       "  <tbody>\n",
       "    <tr>\n",
       "      <th>0</th>\n",
       "      <td>xxbos iicd , if all of the a ; , are in a then so is at least one of the iinnp ; , ii . xxmaj in fact , the other two conditions are just special cases of this condition . iinnp the assertion component of the latter is essentially limited to atomic iinns and their iinns , so that ordinary statements such as xxmaj most students who passed the xxup ai exam also passed the theory exam , or xxmaj if xxmaj kim and xxmaj sandy get divorced , then xxmaj kim will probably get custody of their children , can not be represented , let alone reasoned with</td>\n",
       "      <td>0</td>\n",
       "    </tr>\n",
       "    <tr>\n",
       "      <th>1</th>\n",
       "      <td>xxbos xxmaj in this iijj study , patients with personality disorders -lrb- n ii_sp iisym ii_sp iicd -rrb- treated at iinnp xxmaj psychotherapy xxmaj xxunk , xxmaj mental xxmaj health xxmaj services , xxmaj xxunk xxmaj xxunk of xxmaj xxunk were xxunk to two different kinds of treatment ii : a standardized treatment package with a xxunk number of treatment hours -lrb- basic hospital service -rrb- and iils ii : a specialized treatment program for the most severely affected patients without a iivbn restricted number of treatment hours and significantly more individual psychotherapy -lrb- xxunk...</td>\n",
       "      <td>0</td>\n",
       "    </tr>\n",
       "    <tr>\n",
       "      <th>2</th>\n",
       "      <td>xxbos xxmaj examples are iijj clauses ii , these are an old xxmaj indo iihyph xxmaj european feature which most modern xxmaj european languages have lost ii : , extensive use of complex iinn , and rampant pro iijj drop . using only those iinnps that exactly match clean lists leaves out some good data -lrb- iirb , a tuple with an iinn of ii ` ` xxmaj univ of xxmaj wash ii '' will not match against a list of universities that spells it as ii ` ` xxmaj university of xxmaj washington ii '' -rrb-</td>\n",
       "      <td>0</td>\n",
       "    </tr>\n",
       "    <tr>\n",
       "      <th>3</th>\n",
       "      <td>xxbos xxmaj examples are iijj clauses ii , these are an old xxmaj indo iihyph xxmaj european feature which most modern xxmaj european languages have lost ii : , extensive use of complex iinn , and rampant pro iijj drop . using only those iinnps that exactly match clean lists leaves out some good data -lrb- iirb , a tuple with an iinn of ii ` ` xxmaj univ of xxmaj wash ii '' will not match against a list of universities that spells it as ii ` ` xxmaj university of xxmaj washington ii '' -rrb-</td>\n",
       "      <td>0</td>\n",
       "    </tr>\n",
       "    <tr>\n",
       "      <th>4</th>\n",
       "      <td>xxbos xxmaj for suffix separation , we identify a number of linguistic rules for both xxmaj tamil and xxmaj english . in assigning an induced word cluster to a known target category , such as noun , and evaluating the goodness of the cluster according to how well it represents the class noun , the assumption is made that it is fine for a target class to be represented by multiple induced clusters , but it is unacceptable for a single induced category to represent a combination of multiple target categories</td>\n",
       "      <td>0</td>\n",
       "    </tr>\n",
       "    <tr>\n",
       "      <th>5</th>\n",
       "      <td>xxbos xxmaj for suffix separation , we identify a number of linguistic rules for both xxmaj tamil and xxmaj english . in assigning an induced word cluster to a known target category , such as noun , and evaluating the goodness of the cluster according to how well it represents the class noun , the assumption is made that it is fine for a target class to be represented by multiple induced clusters , but it is unacceptable for a single induced category to represent a combination of multiple target categories</td>\n",
       "      <td>0</td>\n",
       "    </tr>\n",
       "    <tr>\n",
       "      <th>6</th>\n",
       "      <td>xxbos xxmaj for suffix separation , we identify a number of linguistic rules for both xxmaj tamil and xxmaj english . in assigning an induced word cluster to a known target category , such as noun , and evaluating the goodness of the cluster according to how well it represents the class noun , the assumption is made that it is fine for a target class to be represented by multiple induced clusters , but it is unacceptable for a single induced category to represent a combination of multiple target categories</td>\n",
       "      <td>0</td>\n",
       "    </tr>\n",
       "    <tr>\n",
       "      <th>7</th>\n",
       "      <td>xxbos a major limitation of xxunk natural language to xxup xxunk iihyph xxup xxunk is that the assertion component of the latter is essentially limited to atomic iinns and their iinns , so that ordinary statements such as xxmaj most students who passed the xxup ai exam also passed the theory exam , or xxmaj if xxmaj kim and xxmaj sandy get divorced , then xxmaj kim will probably get custody of their children , can not be represented , let alone reasoned with</td>\n",
       "      <td>1</td>\n",
       "    </tr>\n",
       "    <tr>\n",
       "      <th>8</th>\n",
       "      <td>xxbos xxmaj the iijj structure of ii ` ` ii ` ` switching ii '' is ii : ii ` ` ii ` ` schools ii '' ii : agent ii : ; ii ` ` ii ` ` constantly ii '' ii : time iisym frequency ii , ; ii ` ` ii ` ` uniforms ii '' ii : theme iiuh . the resulting reliance on manually annotated examples , which are expensive and time iihyph consuming to create</td>\n",
       "      <td>0</td>\n",
       "    </tr>\n",
       "  </tbody>\n",
       "</table>"
      ],
      "text/plain": [
       "<IPython.core.display.HTML object>"
      ]
     },
     "metadata": {},
     "output_type": "display_data"
    },
    {
     "name": "stdout",
     "output_type": "stream",
     "text": [
      "epoch     train_loss  valid_loss  accuracy  fbeta_score  time    \n",
      "0         0.622685    0.469395    0.786260  0.611111     00:02     \n",
      "epoch     train_loss  valid_loss  accuracy  fbeta_score  time    \n",
      "0         0.478588    0.542257    0.741985  0.606061     00:03     \n",
      "1         0.422714    0.288439    0.879389  0.752351     00:03     \n",
      "2         0.346093    0.277274    0.882443  0.744186     00:03     \n",
      "3         0.290636    0.261418    0.890076  0.755102     00:03     \n",
      "█\r"
     ]
    },
    {
     "data": {
      "text/html": [
       "<table border=\"1\" class=\"dataframe\">\n",
       "  <thead>\n",
       "    <tr style=\"text-align: right;\">\n",
       "      <th></th>\n",
       "      <th>text</th>\n",
       "      <th>category</th>\n",
       "      <th>category_</th>\n",
       "    </tr>\n",
       "  </thead>\n",
       "  <tbody>\n",
       "    <tr>\n",
       "      <th>0</th>\n",
       "      <td>xxbos iicd , if all of the a ; , are in a then so is at least one of the iinnp ; , ii . xxmaj in fact , the other two conditions are just special cases of this condition . iinnp the assertion component of the latter is essentially limited to atomic iinns and their iinns , so that ordinary statements such as xxmaj most students who passed the xxup ai exam also passed the theory exam , or xxmaj if xxmaj kim and xxmaj sandy get divorced , then xxmaj kim will probably get custody of their children , can not be represented , let alone reasoned with</td>\n",
       "      <td>0</td>\n",
       "      <td>0</td>\n",
       "    </tr>\n",
       "    <tr>\n",
       "      <th>1</th>\n",
       "      <td>xxbos iicd , if all of the a ; , are in a then so is at least one of the iinnp ; , ii . xxmaj in fact , the other two conditions are just special cases of this condition . iinnp the assertion component of the latter is essentially limited to atomic iinns and their iinns , so that ordinary statements such as xxmaj most students who passed the xxup ai exam also passed the theory exam , or xxmaj if xxmaj kim and xxmaj sandy get divorced , then xxmaj kim will probably get custody of their children , can not be represented , let alone reasoned with</td>\n",
       "      <td>0</td>\n",
       "      <td>0</td>\n",
       "    </tr>\n",
       "    <tr>\n",
       "      <th>2</th>\n",
       "      <td>xxbos a iinn which is common to all of these approaches using a ii ` ` xxunk correct ii '' measurement to evaluate models of part iihyph of iihyph speech xxunk is that in assigning an induced word cluster to a known target category , such as noun , and evaluating the goodness of the cluster according to how well it represents the class noun , the assumption is made that it is fine for a target class to be represented by multiple induced clusters , but it is unacceptable for a single induced category to represent a combination of multiple target categories</td>\n",
       "      <td>1</td>\n",
       "      <td>0</td>\n",
       "    </tr>\n",
       "    <tr>\n",
       "      <th>3</th>\n",
       "      <td>xxbos xxmaj although patients receiving iinn -lrb- iinnp -rrb- have significantly different backgrounds , including a history of progressive iijj disease , compared with those not receiving iinn -lrb- iinns -rrb- , there are no studies evaluating the risks for loss of primary iinn -lrb- xxup xxunk -rrb- and need for target lesion iinn -lrb- iinnp -rrb- in iijj patients following xxunk self iihyph xxunk iinn iinn -lrb- iinnp -rrb- implantation to iivb -lrb- xxup xxunk -rrb- artery iijj lesions , after adjusting for differences using iinn score -lrb- xxup ps -rrb- analysis in observed charac...</td>\n",
       "      <td>0</td>\n",
       "      <td>0</td>\n",
       "    </tr>\n",
       "    <tr>\n",
       "      <th>4</th>\n",
       "      <td>xxbos xxmaj examples are iijj clauses ii , these are an old xxmaj indo iihyph xxmaj european feature which most modern xxmaj european languages have lost ii : , extensive use of complex iinn , and rampant pro iijj drop . using only those iinnps that exactly match clean lists leaves out some good data -lrb- iirb , a tuple with an iinn of ii ` ` xxmaj univ of xxmaj wash ii '' will not match against a list of universities that spells it as ii ` ` xxmaj university of xxmaj washington ii '' -rrb-</td>\n",
       "      <td>0</td>\n",
       "      <td>0</td>\n",
       "    </tr>\n",
       "    <tr>\n",
       "      <th>5</th>\n",
       "      <td>xxbos xxmaj the iijj structure of ii ` ` ii ` ` switching ii '' is ii : ii ` ` ii ` ` schools ii '' ii : agent ii : ; ii ` ` ii ` ` constantly ii '' ii : time iisym frequency ii , ; ii ` ` ii ` ` uniforms ii '' ii : theme iiuh . the resulting reliance on manually annotated examples , which are expensive and time iihyph consuming to create</td>\n",
       "      <td>0</td>\n",
       "      <td>0</td>\n",
       "    </tr>\n",
       "    <tr>\n",
       "      <th>6</th>\n",
       "      <td>xxbos xxmaj bridging the two are genres such as discussion boards , web iinnp , and mailing lists . they strongly depend on the arbitrarily defined window size parameter and do not iivb all error types equally , iirb , pk iivbz false negatives more than false positives and wd iivbz false positive and negative boundaries more at the beginning and end of the text -lrb- iinnp , et al . , iicd -rrb-</td>\n",
       "      <td>0</td>\n",
       "      <td>0</td>\n",
       "    </tr>\n",
       "    <tr>\n",
       "      <th>7</th>\n",
       "      <td>xxbos xxmaj xxunk the answer of a yes iisym no query is simply a matter of parsing a query , adding its semantic parse to the xxup kb , and iivbg the xxunk function ii : which is iijj in iinnp iiuh . the fact that the iinn of iinn at the micro iijj planning level is restricted to the iinn and the linguistic realization of rhetorical relations</td>\n",
       "      <td>0</td>\n",
       "      <td>0</td>\n",
       "    </tr>\n",
       "    <tr>\n",
       "      <th>8</th>\n",
       "      <td>xxbos xxmaj an equivalent notation , using the xxmaj xerox ii ` ` ii ` ` contain ii '' operator ii : iiadd ii , is ii$ iinfp ii . xxmaj art ii : iinfp ii ` ` ii ` ` iivb ii . . they require an exact match of the constituents in extracted phrases , so it faces the risk of losing coverage of the rules</td>\n",
       "      <td>0</td>\n",
       "      <td>0</td>\n",
       "    </tr>\n",
       "  </tbody>\n",
       "</table>"
      ],
      "text/plain": [
       "<IPython.core.display.HTML object>"
      ]
     },
     "metadata": {},
     "output_type": "display_data"
    },
    {
     "name": "stdout",
     "output_type": "stream",
     "text": [
      "█\r"
     ]
    },
    {
     "data": {
      "text/html": [
       "<table border=\"1\" class=\"dataframe\">\n",
       "  <thead>\n",
       "    <tr style=\"text-align: right;\">\n",
       "      <th></th>\n",
       "      <th>input</th>\n",
       "      <th>target</th>\n",
       "      <th>predicted</th>\n",
       "      <th>probability</th>\n",
       "      <th>loss</th>\n",
       "    </tr>\n",
       "  </thead>\n",
       "  <tbody>\n",
       "    <tr>\n",
       "      <th>0</th>\n",
       "      <td>xxbos xxmaj evidence for treating iijj iinn with acupuncture is xxunk .</td>\n",
       "      <td>1</td>\n",
       "      <td>0</td>\n",
       "      <td>0.9905828237533569</td>\n",
       "      <td>4.66521692276001</td>\n",
       "    </tr>\n",
       "    <tr>\n",
       "      <th>1</th>\n",
       "      <td>xxbos xxmaj xxunk skin biopsies are essential procedures xxunk physicians diagnose iijj lesions .</td>\n",
       "      <td>1</td>\n",
       "      <td>0</td>\n",
       "      <td>0.9815025925636292</td>\n",
       "      <td>3.9901232719421387</td>\n",
       "    </tr>\n",
       "    <tr>\n",
       "      <th>2</th>\n",
       "      <td>xxbos xxmaj addressing xxunk dependence is key to effective xxunk xxunk</td>\n",
       "      <td>1</td>\n",
       "      <td>0</td>\n",
       "      <td>0.9788379669189453</td>\n",
       "      <td>3.855548620223999</td>\n",
       "    </tr>\n",
       "  </tbody>\n",
       "</table>"
      ],
      "text/plain": [
       "<IPython.core.display.HTML object>"
      ]
     },
     "metadata": {},
     "output_type": "display_data"
    },
    {
     "name": "stdout",
     "output_type": "stream",
     "text": [
      "█\r"
     ]
    },
    {
     "data": {
      "text/plain": [
       "('0', tensor(0), tensor([0.9287, 0.0713]))"
      ]
     },
     "execution_count": null,
     "metadata": {},
     "output_type": "execute_result"
    },
    {
     "data": {
      "image/png": "[encoded data removed]",
      "text/plain": [
       "<Figure size 432x288 with 1 Axes>"
      ]
     },
     "metadata": {
      "needs_background": "light"
     },
     "output_type": "display_data"
    }
   ],
   "source": [
    "dls.show_batch()\n",
    "\n",
    "learn = text_classifier_learner(dls, AWD_LSTM, drop_mult=0.5, metrics=[accuracy, FBeta(beta=1)])\n",
    "learn.fine_tune(4, 1e-2)\n",
    "learn.show_results()\n",
    "learn.save(\"model_3\")\n",
    "\n",
    "interp = ClassificationInterpretation.from_learner(learn)\n",
    "interp.plot_top_losses(3)  \n",
    "interp.plot_confusion_matrix()\n",
    "\n",
    "learn.predict(\"We discuss the implications of a more 'civic-minded journalism.\")"
   ]
  },
  {
   "cell_type": "code",
   "execution_count": null,
   "id": "664141d9",
   "metadata": {},
   "outputs": [
    {
     "name": "stdout",
     "output_type": "stream",
     "text": [
      "█\r"
     ]
    }
   ],
   "source": [
    "predicts = df_test[\"text\"].map(learn.predict)"
   ]
  },
  {
   "cell_type": "code",
   "execution_count": null,
   "id": "eb0a993e",
   "metadata": {},
   "outputs": [],
   "source": [
    "df_test[\"predicted\"] = [int(p[0]) for p in predicts]\n",
    "df_test[\"confidence_0\"] =  [round(p[2][0].item(),2) for p in predicts]\n",
    "df_test[\"confidence_1\"] =  [round(p[2][1].item(),2) for p in predicts]"
   ]
  },
  {
   "cell_type": "code",
   "execution_count": null,
   "id": "787c02bc",
   "metadata": {},
   "outputs": [],
   "source": [
    "mkdir downloads"
   ]
  },
  {
   "cell_type": "code",
   "execution_count": null,
   "id": "d979abbd",
   "metadata": {},
   "outputs": [],
   "source": [
    "df_test.to_csv(\"downloads/oct7_test300.csv\")"
   ]
  },
  {
   "cell_type": "code",
   "execution_count": null,
   "id": "3c07b8d9",
   "metadata": {},
   "outputs": [
    {
     "name": "stdout",
     "output_type": "stream",
     "text": [
      "accuracy in test set: 0.8966666666666666\n"
     ]
    }
   ],
   "source": [
    "print(\"accuracy in test set:\", len(df_test[df_test[\"predicted\"] == df_test[\"labels\"]])/len(df_test))"
   ]
  },
  {
   "cell_type": "code",
   "execution_count": null,
   "id": "ef547dc4",
   "metadata": {},
   "outputs": [
    {
     "name": "stdout",
     "output_type": "stream",
     "text": [
      "█\r"
     ]
    }
   ],
   "source": [
    "predicts2 = df_test[\"text_nomask\"].map(learn.predict)"
   ]
  },
  {
   "cell_type": "code",
   "execution_count": null,
   "id": "e217352e",
   "metadata": {},
   "outputs": [
    {
     "name": "stdout",
     "output_type": "stream",
     "text": [
      "accuracy in test set with no masking: 0.8966666666666666\n"
     ]
    }
   ],
   "source": [
    "df_test[\"predicted2\"] = [int(p[0]) for p in predicts2]\n",
    "print(\"accuracy in test set with no masking:\", len(df_test[df_test[\"predicted2\"] == df_test[\"labels\"]])/len(df_test))"
   ]
  },
  {
   "cell_type": "markdown",
   "id": "ba4cd049",
   "metadata": {},
   "source": [
    "That's very weird ... masking doesn't effect predictions"
   ]
  },
  {
   "cell_type": "code",
   "execution_count": null,
   "id": "0237132e",
   "metadata": {},
   "outputs": [],
   "source": []
  }
 ],
 "metadata": {
  "kernelspec": {
   "display_name": "conda_python3",
   "language": "python",
   "name": "conda_python3"
  },
  "language_info": {
   "codemirror_mode": {
    "name": "ipython",
    "version": 3
   },
   "file_extension": ".py",
   "mimetype": "text/x-python",
   "name": "python",
   "nbconvert_exporter": "python",
   "pygments_lexer": "ipython3",
   "version": "3.6.13"
  }
 },
 "nbformat": 4,
 "nbformat_minor": 5
}
