{
 "cells": [
  {
   "cell_type": "code",
   "execution_count": null,
   "id": "e08b9d24",
   "metadata": {},
   "outputs": [],
   "source": [
    "import pandas as pd"
   ]
  },
  {
   "cell_type": "code",
   "execution_count": null,
   "id": "133b17a7",
   "metadata": {},
   "outputs": [],
   "source": [
    "df=pd.read_csv(\"downloads/65k_enriched_topic.csv\")"
   ]
  },
  {
   "cell_type": "code",
   "execution_count": 332,
   "id": "2f0b15ef",
   "metadata": {},
   "outputs": [],
   "source": [
    "df[\"len\"] = df.text.apply(lambda t: len(t.split(\" \")))"
   ]
  },
  {
   "cell_type": "code",
   "execution_count": 333,
   "id": "bd8eb085",
   "metadata": {},
   "outputs": [],
   "source": [
    "df = df[df[\"len\"] > 7]"
   ]
  },
  {
   "cell_type": "code",
   "execution_count": 334,
   "id": "2bff3aeb",
   "metadata": {},
   "outputs": [
    {
     "name": "stderr",
     "output_type": "stream",
     "text": [
      "/home/ec2-user/anaconda3/envs/python3/lib/python3.6/site-packages/IPython/core/interactiveshell.py:3072: DtypeWarning: Columns (4,5,10) have mixed types.Specify dtype option on import or set low_memory=False.\n",
      "  interactivity=interactivity, compiler=compiler, result=result)\n"
     ]
    }
   ],
   "source": [
    "pcm = pd.read_csv(\"downloads/PMC-ids.csv\")"
   ]
  },
  {
   "cell_type": "code",
   "execution_count": 335,
   "id": "66f91a9c",
   "metadata": {},
   "outputs": [
    {
     "data": {
      "text/html": [
       "<div>\n",
       "<style scoped>\n",
       "    .dataframe tbody tr th:only-of-type {\n",
       "        vertical-align: middle;\n",
       "    }\n",
       "\n",
       "    .dataframe tbody tr th {\n",
       "        vertical-align: top;\n",
       "    }\n",
       "\n",
       "    .dataframe thead th {\n",
       "        text-align: right;\n",
       "    }\n",
       "</style>\n",
       "<table border=\"1\" class=\"dataframe\">\n",
       "  <thead>\n",
       "    <tr style=\"text-align: right;\">\n",
       "      <th></th>\n",
       "      <th>Journal Title</th>\n",
       "      <th>ISSN</th>\n",
       "      <th>eISSN</th>\n",
       "      <th>Year</th>\n",
       "      <th>Volume</th>\n",
       "      <th>Issue</th>\n",
       "      <th>Page</th>\n",
       "      <th>DOI</th>\n",
       "      <th>PMCID</th>\n",
       "      <th>PMID</th>\n",
       "      <th>Manuscript Id</th>\n",
       "      <th>Release Date</th>\n",
       "    </tr>\n",
       "  </thead>\n",
       "  <tbody>\n",
       "    <tr>\n",
       "      <th>0</th>\n",
       "      <td>Breast Cancer Res</td>\n",
       "      <td>1465-5411</td>\n",
       "      <td>1465-542X</td>\n",
       "      <td>2000</td>\n",
       "      <td>3</td>\n",
       "      <td>1</td>\n",
       "      <td>55</td>\n",
       "      <td>10.1186/bcr271</td>\n",
       "      <td>PMC13900</td>\n",
       "      <td>11250746.0</td>\n",
       "      <td>NaN</td>\n",
       "      <td>live</td>\n",
       "    </tr>\n",
       "    <tr>\n",
       "      <th>1</th>\n",
       "      <td>Breast Cancer Res</td>\n",
       "      <td>1465-5411</td>\n",
       "      <td>1465-542X</td>\n",
       "      <td>2000</td>\n",
       "      <td>3</td>\n",
       "      <td>1</td>\n",
       "      <td>61</td>\n",
       "      <td>10.1186/bcr272</td>\n",
       "      <td>PMC13901</td>\n",
       "      <td>11250747.0</td>\n",
       "      <td>NaN</td>\n",
       "      <td>live</td>\n",
       "    </tr>\n",
       "    <tr>\n",
       "      <th>2</th>\n",
       "      <td>Breast Cancer Res</td>\n",
       "      <td>1465-5411</td>\n",
       "      <td>1465-542X</td>\n",
       "      <td>2000</td>\n",
       "      <td>3</td>\n",
       "      <td>1</td>\n",
       "      <td>66</td>\n",
       "      <td>10.1186/bcr273</td>\n",
       "      <td>PMC13902</td>\n",
       "      <td>11250748.0</td>\n",
       "      <td>NaN</td>\n",
       "      <td>live</td>\n",
       "    </tr>\n",
       "    <tr>\n",
       "      <th>3</th>\n",
       "      <td>Breast Cancer Res</td>\n",
       "      <td>1465-5411</td>\n",
       "      <td>1465-542X</td>\n",
       "      <td>1999</td>\n",
       "      <td>2</td>\n",
       "      <td>1</td>\n",
       "      <td>59</td>\n",
       "      <td>10.1186/bcr29</td>\n",
       "      <td>PMC13911</td>\n",
       "      <td>11056684.0</td>\n",
       "      <td>NaN</td>\n",
       "      <td>live</td>\n",
       "    </tr>\n",
       "    <tr>\n",
       "      <th>4</th>\n",
       "      <td>Breast Cancer Res</td>\n",
       "      <td>1465-5411</td>\n",
       "      <td>1465-542X</td>\n",
       "      <td>1999</td>\n",
       "      <td>2</td>\n",
       "      <td>1</td>\n",
       "      <td>64</td>\n",
       "      <td>10.1186/bcr30</td>\n",
       "      <td>PMC13912</td>\n",
       "      <td>11400682.0</td>\n",
       "      <td>NaN</td>\n",
       "      <td>live</td>\n",
       "    </tr>\n",
       "  </tbody>\n",
       "</table>\n",
       "</div>"
      ],
      "text/plain": [
       "       Journal Title       ISSN      eISSN  Year Volume Issue Page  \\\n",
       "0  Breast Cancer Res  1465-5411  1465-542X  2000      3     1   55   \n",
       "1  Breast Cancer Res  1465-5411  1465-542X  2000      3     1   61   \n",
       "2  Breast Cancer Res  1465-5411  1465-542X  2000      3     1   66   \n",
       "3  Breast Cancer Res  1465-5411  1465-542X  1999      2     1   59   \n",
       "4  Breast Cancer Res  1465-5411  1465-542X  1999      2     1   64   \n",
       "\n",
       "              DOI     PMCID        PMID Manuscript Id Release Date  \n",
       "0  10.1186/bcr271  PMC13900  11250746.0           NaN         live  \n",
       "1  10.1186/bcr272  PMC13901  11250747.0           NaN         live  \n",
       "2  10.1186/bcr273  PMC13902  11250748.0           NaN         live  \n",
       "3   10.1186/bcr29  PMC13911  11056684.0           NaN         live  \n",
       "4   10.1186/bcr30  PMC13912  11400682.0           NaN         live  "
      ]
     },
     "execution_count": 335,
     "metadata": {},
     "output_type": "execute_result"
    }
   ],
   "source": [
    "pcm.head()"
   ]
  },
  {
   "cell_type": "code",
   "execution_count": 346,
   "id": "8f410f1b",
   "metadata": {},
   "outputs": [],
   "source": [
    "import math\n",
    "def lookup_DOI(val, lookup, key=\"PMCID\"): \n",
    "#     print(val, type(val))\n",
    "#     if val is None or math.isnan(val):\n",
    "#         return None\n",
    "#     print(val)\n",
    "    if type(val) == str:\n",
    "        #print(val)\n",
    "        #print(val, type(val))\n",
    "\n",
    "        match = lookup[key] == val\n",
    "        DOI = lookup['DOI'][match]\n",
    "        return DOI.values[0]\n",
    "    return None\n",
    "\n",
    "df[\"pdoi\"] = df['PMCID'].apply(lambda x: lookup_DOI(x, pcm, \"PMCID\"))"
   ]
  },
  {
   "cell_type": "code",
   "execution_count": null,
   "id": "e1897903",
   "metadata": {},
   "outputs": [],
   "source": [
    "\n"
   ]
  },
  {
   "cell_type": "code",
   "execution_count": null,
   "id": "39cf783f",
   "metadata": {},
   "outputs": [
    {
     "data": {
      "text/html": [
       "<div>\n",
       "<style scoped>\n",
       "    .dataframe tbody tr th:only-of-type {\n",
       "        vertical-align: middle;\n",
       "    }\n",
       "\n",
       "    .dataframe tbody tr th {\n",
       "        vertical-align: top;\n",
       "    }\n",
       "\n",
       "    .dataframe thead th {\n",
       "        text-align: right;\n",
       "    }\n",
       "</style>\n",
       "<table border=\"1\" class=\"dataframe\">\n",
       "  <thead>\n",
       "    <tr style=\"text-align: right;\">\n",
       "      <th></th>\n",
       "      <th>level_0</th>\n",
       "      <th>problem_id</th>\n",
       "      <th>title</th>\n",
       "      <th>article_link</th>\n",
       "      <th>text</th>\n",
       "      <th>mesh_list</th>\n",
       "      <th>journal_title</th>\n",
       "      <th>volume</th>\n",
       "      <th>issue</th>\n",
       "      <th>label</th>\n",
       "      <th>...</th>\n",
       "      <th>cluster_id</th>\n",
       "      <th>topic_id</th>\n",
       "      <th>probs</th>\n",
       "      <th>topic_name</th>\n",
       "      <th>closest_problem_id</th>\n",
       "      <th>doi</th>\n",
       "      <th>coreId</th>\n",
       "      <th>oai</th>\n",
       "      <th>len</th>\n",
       "      <th>pdoi</th>\n",
       "    </tr>\n",
       "  </thead>\n",
       "  <tbody>\n",
       "    <tr>\n",
       "      <th>50</th>\n",
       "      <td>3295.0</td>\n",
       "      <td>2869.0</td>\n",
       "      <td>NaN</td>\n",
       "      <td>NaN</td>\n",
       "      <td>Parkinson's disease (PD) is an important disab...</td>\n",
       "      <td>NaN</td>\n",
       "      <td>NaN</td>\n",
       "      <td>NaN</td>\n",
       "      <td>NaN</td>\n",
       "      <td>1.0</td>\n",
       "      <td>...</td>\n",
       "      <td>2720.0</td>\n",
       "      <td>26</td>\n",
       "      <td>[26, 108, 27]</td>\n",
       "      <td>parkinson dopaminergic neurodegenerative</td>\n",
       "      <td>[2817, 2909, 2919]</td>\n",
       "      <td>NaN</td>\n",
       "      <td>NaN</td>\n",
       "      <td>NaN</td>\n",
       "      <td>17</td>\n",
       "      <td>10.3892/ijmm.2020.4806</td>\n",
       "    </tr>\n",
       "    <tr>\n",
       "      <th>63</th>\n",
       "      <td>1685.0</td>\n",
       "      <td>1486.0</td>\n",
       "      <td>NaN</td>\n",
       "      <td>NaN</td>\n",
       "      <td>Cognitive impairment, including dementia, is a...</td>\n",
       "      <td>NaN</td>\n",
       "      <td>NaN</td>\n",
       "      <td>NaN</td>\n",
       "      <td>NaN</td>\n",
       "      <td>1.0</td>\n",
       "      <td>...</td>\n",
       "      <td>41.0</td>\n",
       "      <td>354</td>\n",
       "      <td>[354, 364, 363]</td>\n",
       "      <td>dementia alzheimer caregivers</td>\n",
       "      <td>[3250, 3168, 17200]</td>\n",
       "      <td>NaN</td>\n",
       "      <td>NaN</td>\n",
       "      <td>NaN</td>\n",
       "      <td>14</td>\n",
       "      <td>10.1186/1471-2458-14-643</td>\n",
       "    </tr>\n",
       "    <tr>\n",
       "      <th>126</th>\n",
       "      <td>3989.0</td>\n",
       "      <td>3403.0</td>\n",
       "      <td>NaN</td>\n",
       "      <td>NaN</td>\n",
       "      <td>The prevention of falls among older people is ...</td>\n",
       "      <td>NaN</td>\n",
       "      <td>NaN</td>\n",
       "      <td>NaN</td>\n",
       "      <td>NaN</td>\n",
       "      <td>1.0</td>\n",
       "      <td>...</td>\n",
       "      <td>367.0</td>\n",
       "      <td>8</td>\n",
       "      <td>[8, 121, 199]</td>\n",
       "      <td>falls fall falling</td>\n",
       "      <td>[22715, 21764, 8303]</td>\n",
       "      <td>NaN</td>\n",
       "      <td>NaN</td>\n",
       "      <td>NaN</td>\n",
       "      <td>13</td>\n",
       "      <td>10.1371/journal.pmed.1002112</td>\n",
       "    </tr>\n",
       "    <tr>\n",
       "      <th>165</th>\n",
       "      <td>179.0</td>\n",
       "      <td>178.0</td>\n",
       "      <td>NaN</td>\n",
       "      <td>NaN</td>\n",
       "      <td>Lung cancer is one of the most common human ma...</td>\n",
       "      <td>NaN</td>\n",
       "      <td>NaN</td>\n",
       "      <td>NaN</td>\n",
       "      <td>NaN</td>\n",
       "      <td>1.0</td>\n",
       "      <td>...</td>\n",
       "      <td>603.0</td>\n",
       "      <td>344</td>\n",
       "      <td>[344, 343, 216]</td>\n",
       "      <td>lung radon death</td>\n",
       "      <td>[1160, 242, 385]</td>\n",
       "      <td>NaN</td>\n",
       "      <td>NaN</td>\n",
       "      <td>NaN</td>\n",
       "      <td>19</td>\n",
       "      <td>10.1371/journal.pone.0128201</td>\n",
       "    </tr>\n",
       "    <tr>\n",
       "      <th>177</th>\n",
       "      <td>619.0</td>\n",
       "      <td>601.0</td>\n",
       "      <td>NaN</td>\n",
       "      <td>NaN</td>\n",
       "      <td>Depression and obesity are significant global ...</td>\n",
       "      <td>NaN</td>\n",
       "      <td>NaN</td>\n",
       "      <td>NaN</td>\n",
       "      <td>NaN</td>\n",
       "      <td>1.0</td>\n",
       "      <td>...</td>\n",
       "      <td>1625.0</td>\n",
       "      <td>-1</td>\n",
       "      <td>[202, 201, 183]</td>\n",
       "      <td>depression depressive psychiatric</td>\n",
       "      <td>[523, 462, 680]</td>\n",
       "      <td>NaN</td>\n",
       "      <td>NaN</td>\n",
       "      <td>NaN</td>\n",
       "      <td>12</td>\n",
       "      <td>10.1186/s40359-020-00400-w</td>\n",
       "    </tr>\n",
       "    <tr>\n",
       "      <th>...</th>\n",
       "      <td>...</td>\n",
       "      <td>...</td>\n",
       "      <td>...</td>\n",
       "      <td>...</td>\n",
       "      <td>...</td>\n",
       "      <td>...</td>\n",
       "      <td>...</td>\n",
       "      <td>...</td>\n",
       "      <td>...</td>\n",
       "      <td>...</td>\n",
       "      <td>...</td>\n",
       "      <td>...</td>\n",
       "      <td>...</td>\n",
       "      <td>...</td>\n",
       "      <td>...</td>\n",
       "      <td>...</td>\n",
       "      <td>...</td>\n",
       "      <td>...</td>\n",
       "      <td>...</td>\n",
       "      <td>...</td>\n",
       "      <td>...</td>\n",
       "    </tr>\n",
       "    <tr>\n",
       "      <th>66169</th>\n",
       "      <td>3674.0</td>\n",
       "      <td>3174.0</td>\n",
       "      <td>NaN</td>\n",
       "      <td>NaN</td>\n",
       "      <td>Hypertension in the elderly with cognitive imp...</td>\n",
       "      <td>NaN</td>\n",
       "      <td>NaN</td>\n",
       "      <td>NaN</td>\n",
       "      <td>NaN</td>\n",
       "      <td>1.0</td>\n",
       "      <td>...</td>\n",
       "      <td>1693.0</td>\n",
       "      <td>149</td>\n",
       "      <td>[149, 148, 147]</td>\n",
       "      <td>cognitive memory fearful</td>\n",
       "      <td>[3251, 1593, 14335]</td>\n",
       "      <td>NaN</td>\n",
       "      <td>NaN</td>\n",
       "      <td>NaN</td>\n",
       "      <td>15</td>\n",
       "      <td>10.1097/MD.0000000000020789</td>\n",
       "    </tr>\n",
       "    <tr>\n",
       "      <th>66289</th>\n",
       "      <td>3290.0</td>\n",
       "      <td>2864.0</td>\n",
       "      <td>NaN</td>\n",
       "      <td>NaN</td>\n",
       "      <td>A cardinal manifestation of chronic autonomic ...</td>\n",
       "      <td>NaN</td>\n",
       "      <td>NaN</td>\n",
       "      <td>NaN</td>\n",
       "      <td>NaN</td>\n",
       "      <td>1.0</td>\n",
       "      <td>...</td>\n",
       "      <td>1931.0</td>\n",
       "      <td>108</td>\n",
       "      <td>[108, 397, 374]</td>\n",
       "      <td>hypertension cardiovascular orthostatic</td>\n",
       "      <td>[19649, 23525, 17595]</td>\n",
       "      <td>NaN</td>\n",
       "      <td>NaN</td>\n",
       "      <td>NaN</td>\n",
       "      <td>23</td>\n",
       "      <td>10.1007/s10286-012-0176-4</td>\n",
       "    </tr>\n",
       "    <tr>\n",
       "      <th>66514</th>\n",
       "      <td>3990.0</td>\n",
       "      <td>3404.0</td>\n",
       "      <td>NaN</td>\n",
       "      <td>NaN</td>\n",
       "      <td>Gulf War illness (GWI) is a disorder related t...</td>\n",
       "      <td>NaN</td>\n",
       "      <td>NaN</td>\n",
       "      <td>NaN</td>\n",
       "      <td>NaN</td>\n",
       "      <td>1.0</td>\n",
       "      <td>...</td>\n",
       "      <td>2575.0</td>\n",
       "      <td>213</td>\n",
       "      <td>[217, 213, 378]</td>\n",
       "      <td>guillain postinfectious hypokalaemic</td>\n",
       "      <td>[1881, 14315, 7754]</td>\n",
       "      <td>NaN</td>\n",
       "      <td>NaN</td>\n",
       "      <td>NaN</td>\n",
       "      <td>15</td>\n",
       "      <td>10.1371/journal.pone.0177121</td>\n",
       "    </tr>\n",
       "    <tr>\n",
       "      <th>66526</th>\n",
       "      <td>2752.0</td>\n",
       "      <td>2403.0</td>\n",
       "      <td>NaN</td>\n",
       "      <td>NaN</td>\n",
       "      <td>Skin cancers remain the most common group of c...</td>\n",
       "      <td>NaN</td>\n",
       "      <td>NaN</td>\n",
       "      <td>NaN</td>\n",
       "      <td>NaN</td>\n",
       "      <td>1.0</td>\n",
       "      <td>...</td>\n",
       "      <td>742.0</td>\n",
       "      <td>293</td>\n",
       "      <td>[293, 296, 300]</td>\n",
       "      <td>melanoma melasma cancers</td>\n",
       "      <td>[3249, 22718, 16505]</td>\n",
       "      <td>NaN</td>\n",
       "      <td>NaN</td>\n",
       "      <td>NaN</td>\n",
       "      <td>16</td>\n",
       "      <td>10.1007/s40259-020-00428-9</td>\n",
       "    </tr>\n",
       "    <tr>\n",
       "      <th>66531</th>\n",
       "      <td>1472.0</td>\n",
       "      <td>1305.0</td>\n",
       "      <td>NaN</td>\n",
       "      <td>NaN</td>\n",
       "      <td>Exhaled breath condensate (EBC) analyses promi...</td>\n",
       "      <td>NaN</td>\n",
       "      <td>NaN</td>\n",
       "      <td>NaN</td>\n",
       "      <td>NaN</td>\n",
       "      <td>1.0</td>\n",
       "      <td>...</td>\n",
       "      <td>270.0</td>\n",
       "      <td>-1</td>\n",
       "      <td>[100, 96, 99]</td>\n",
       "      <td>congenital surgery autosomal</td>\n",
       "      <td>[1283, 1251, 12783]</td>\n",
       "      <td>NaN</td>\n",
       "      <td>NaN</td>\n",
       "      <td>NaN</td>\n",
       "      <td>19</td>\n",
       "      <td>10.1152/ajplung.90512.2008</td>\n",
       "    </tr>\n",
       "  </tbody>\n",
       "</table>\n",
       "<p>1309 rows × 36 columns</p>\n",
       "</div>"
      ],
      "text/plain": [
       "       level_0  problem_id title  article_link  \\\n",
       "50      3295.0      2869.0   NaN           NaN   \n",
       "63      1685.0      1486.0   NaN           NaN   \n",
       "126     3989.0      3403.0   NaN           NaN   \n",
       "165      179.0       178.0   NaN           NaN   \n",
       "177      619.0       601.0   NaN           NaN   \n",
       "...        ...         ...   ...           ...   \n",
       "66169   3674.0      3174.0   NaN           NaN   \n",
       "66289   3290.0      2864.0   NaN           NaN   \n",
       "66514   3990.0      3404.0   NaN           NaN   \n",
       "66526   2752.0      2403.0   NaN           NaN   \n",
       "66531   1472.0      1305.0   NaN           NaN   \n",
       "\n",
       "                                                    text  mesh_list  \\\n",
       "50     Parkinson's disease (PD) is an important disab...        NaN   \n",
       "63     Cognitive impairment, including dementia, is a...        NaN   \n",
       "126    The prevention of falls among older people is ...        NaN   \n",
       "165    Lung cancer is one of the most common human ma...        NaN   \n",
       "177    Depression and obesity are significant global ...        NaN   \n",
       "...                                                  ...        ...   \n",
       "66169  Hypertension in the elderly with cognitive imp...        NaN   \n",
       "66289  A cardinal manifestation of chronic autonomic ...        NaN   \n",
       "66514  Gulf War illness (GWI) is a disorder related t...        NaN   \n",
       "66526  Skin cancers remain the most common group of c...        NaN   \n",
       "66531  Exhaled breath condensate (EBC) analyses promi...        NaN   \n",
       "\n",
       "       journal_title  volume  issue  label  ... cluster_id  topic_id  \\\n",
       "50               NaN     NaN    NaN    1.0  ...     2720.0        26   \n",
       "63               NaN     NaN    NaN    1.0  ...       41.0       354   \n",
       "126              NaN     NaN    NaN    1.0  ...      367.0         8   \n",
       "165              NaN     NaN    NaN    1.0  ...      603.0       344   \n",
       "177              NaN     NaN    NaN    1.0  ...     1625.0        -1   \n",
       "...              ...     ...    ...    ...  ...        ...       ...   \n",
       "66169            NaN     NaN    NaN    1.0  ...     1693.0       149   \n",
       "66289            NaN     NaN    NaN    1.0  ...     1931.0       108   \n",
       "66514            NaN     NaN    NaN    1.0  ...     2575.0       213   \n",
       "66526            NaN     NaN    NaN    1.0  ...      742.0       293   \n",
       "66531            NaN     NaN    NaN    1.0  ...      270.0        -1   \n",
       "\n",
       "                 probs                                topic_name  \\\n",
       "50       [26, 108, 27]  parkinson dopaminergic neurodegenerative   \n",
       "63     [354, 364, 363]             dementia alzheimer caregivers   \n",
       "126      [8, 121, 199]                        falls fall falling   \n",
       "165    [344, 343, 216]                          lung radon death   \n",
       "177    [202, 201, 183]         depression depressive psychiatric   \n",
       "...                ...                                       ...   \n",
       "66169  [149, 148, 147]                  cognitive memory fearful   \n",
       "66289  [108, 397, 374]   hypertension cardiovascular orthostatic   \n",
       "66514  [217, 213, 378]      guillain postinfectious hypokalaemic   \n",
       "66526  [293, 296, 300]                  melanoma melasma cancers   \n",
       "66531    [100, 96, 99]              congenital surgery autosomal   \n",
       "\n",
       "          closest_problem_id  doi coreId  oai  len  \\\n",
       "50        [2817, 2909, 2919]  NaN    NaN  NaN   17   \n",
       "63       [3250, 3168, 17200]  NaN    NaN  NaN   14   \n",
       "126     [22715, 21764, 8303]  NaN    NaN  NaN   13   \n",
       "165         [1160, 242, 385]  NaN    NaN  NaN   19   \n",
       "177          [523, 462, 680]  NaN    NaN  NaN   12   \n",
       "...                      ...  ...    ...  ...  ...   \n",
       "66169    [3251, 1593, 14335]  NaN    NaN  NaN   15   \n",
       "66289  [19649, 23525, 17595]  NaN    NaN  NaN   23   \n",
       "66514    [1881, 14315, 7754]  NaN    NaN  NaN   15   \n",
       "66526   [3249, 22718, 16505]  NaN    NaN  NaN   16   \n",
       "66531    [1283, 1251, 12783]  NaN    NaN  NaN   19   \n",
       "\n",
       "                               pdoi  \n",
       "50           10.3892/ijmm.2020.4806  \n",
       "63         10.1186/1471-2458-14-643  \n",
       "126    10.1371/journal.pmed.1002112  \n",
       "165    10.1371/journal.pone.0128201  \n",
       "177      10.1186/s40359-020-00400-w  \n",
       "...                             ...  \n",
       "66169   10.1097/MD.0000000000020789  \n",
       "66289     10.1007/s10286-012-0176-4  \n",
       "66514  10.1371/journal.pone.0177121  \n",
       "66526    10.1007/s40259-020-00428-9  \n",
       "66531    10.1152/ajplung.90512.2008  \n",
       "\n",
       "[1309 rows x 36 columns]"
      ]
     },
     "execution_count": 350,
     "metadata": {},
     "output_type": "execute_result"
    }
   ],
   "source": [
    "df[df[\"pdoi\"].notna()]"
   ]
  },
  {
   "cell_type": "code",
   "execution_count": 108,
   "id": "93ba4f28",
   "metadata": {},
   "outputs": [
    {
     "data": {
      "text/plain": [
       "7828449"
      ]
     },
     "execution_count": 108,
     "metadata": {},
     "output_type": "execute_result"
    }
   ],
   "source": [
    "len(pcm)"
   ]
  },
  {
   "cell_type": "code",
   "execution_count": null,
   "id": "eeeef37a",
   "metadata": {},
   "outputs": [
    {
     "data": {
      "text/html": [
       "<div>\n",
       "<style scoped>\n",
       "    .dataframe tbody tr th:only-of-type {\n",
       "        vertical-align: middle;\n",
       "    }\n",
       "\n",
       "    .dataframe tbody tr th {\n",
       "        vertical-align: top;\n",
       "    }\n",
       "\n",
       "    .dataframe thead th {\n",
       "        text-align: right;\n",
       "    }\n",
       "</style>\n",
       "<table border=\"1\" class=\"dataframe\">\n",
       "  <thead>\n",
       "    <tr style=\"text-align: right;\">\n",
       "      <th></th>\n",
       "      <th>text</th>\n",
       "      <th>topic_id</th>\n",
       "    </tr>\n",
       "  </thead>\n",
       "  <tbody>\n",
       "    <tr>\n",
       "      <th>0</th>\n",
       "      <td>Dengue is a potentially serious common viral i...</td>\n",
       "      <td>22</td>\n",
       "    </tr>\n",
       "    <tr>\n",
       "      <th>1</th>\n",
       "      <td>The article also includes new emerging zoonoti...</td>\n",
       "      <td>91</td>\n",
       "    </tr>\n",
       "    <tr>\n",
       "      <th>2</th>\n",
       "      <td>Chagas' disease is a potentially life-threaten...</td>\n",
       "      <td>40</td>\n",
       "    </tr>\n",
       "    <tr>\n",
       "      <th>3</th>\n",
       "      <td>Glaucoma is the third-leading cause of blindne...</td>\n",
       "      <td>348</td>\n",
       "    </tr>\n",
       "    <tr>\n",
       "      <th>4</th>\n",
       "      <td>Pancreatic cancer (PC) remains difficult to tr...</td>\n",
       "      <td>34</td>\n",
       "    </tr>\n",
       "    <tr>\n",
       "      <th>...</th>\n",
       "      <td>...</td>\n",
       "      <td>...</td>\n",
       "    </tr>\n",
       "    <tr>\n",
       "      <th>66542</th>\n",
       "      <td>The biggest problem with most biological monit...</td>\n",
       "      <td>-1</td>\n",
       "    </tr>\n",
       "    <tr>\n",
       "      <th>66543</th>\n",
       "      <td>Uterine myometrial tumors are the most commonl...</td>\n",
       "      <td>173</td>\n",
       "    </tr>\n",
       "    <tr>\n",
       "      <th>66544</th>\n",
       "      <td>The death of a young patient is a difficult bu...</td>\n",
       "      <td>414</td>\n",
       "    </tr>\n",
       "    <tr>\n",
       "      <th>66545</th>\n",
       "      <td>A major challenge in the post-genome era of pl...</td>\n",
       "      <td>163</td>\n",
       "    </tr>\n",
       "    <tr>\n",
       "      <th>66546</th>\n",
       "      <td>Lysosomal storage diseases (LSD) are metabolic...</td>\n",
       "      <td>330</td>\n",
       "    </tr>\n",
       "  </tbody>\n",
       "</table>\n",
       "<p>56895 rows × 2 columns</p>\n",
       "</div>"
      ],
      "text/plain": [
       "                                                    text  topic_id\n",
       "0      Dengue is a potentially serious common viral i...        22\n",
       "1      The article also includes new emerging zoonoti...        91\n",
       "2      Chagas' disease is a potentially life-threaten...        40\n",
       "3      Glaucoma is the third-leading cause of blindne...       348\n",
       "4      Pancreatic cancer (PC) remains difficult to tr...        34\n",
       "...                                                  ...       ...\n",
       "66542  The biggest problem with most biological monit...        -1\n",
       "66543  Uterine myometrial tumors are the most commonl...       173\n",
       "66544  The death of a young patient is a difficult bu...       414\n",
       "66545  A major challenge in the post-genome era of pl...       163\n",
       "66546  Lysosomal storage diseases (LSD) are metabolic...       330\n",
       "\n",
       "[56895 rows x 2 columns]"
      ]
     },
     "execution_count": 351,
     "metadata": {},
     "output_type": "execute_result"
    }
   ],
   "source": [
    "df[[\"text\", \"topic_id\"]]"
   ]
  },
  {
   "cell_type": "code",
   "execution_count": null,
   "id": "167bb83c",
   "metadata": {},
   "outputs": [],
   "source": []
  },
  {
   "cell_type": "code",
   "execution_count": 6,
   "id": "61995da9",
   "metadata": {},
   "outputs": [],
   "source": [
    "topics = list(df[\"topic_name\"].unique())#unique_values()"
   ]
  },
  {
   "cell_type": "code",
   "execution_count": 7,
   "id": "4609a235",
   "metadata": {},
   "outputs": [],
   "source": [
    "# topics #1200"
   ]
  },
  {
   "cell_type": "code",
   "execution_count": 352,
   "id": "95f7c8c6",
   "metadata": {},
   "outputs": [],
   "source": [
    "with open(\"vocab30k.txt\") as f:\n",
    "    vocab30k = f.read().split(\"\\t\\n\")"
   ]
  },
  {
   "cell_type": "code",
   "execution_count": 353,
   "id": "d5945e6b",
   "metadata": {},
   "outputs": [],
   "source": [
    "dfa = df[:15]"
   ]
  },
  {
   "cell_type": "code",
   "execution_count": 354,
   "id": "c63929bf",
   "metadata": {},
   "outputs": [],
   "source": [
    "def extract_domain_words(sent, vocab=vocab30k):\n",
    "    words = sent.split(\" \")\n",
    "    domain = []\n",
    "    for word in words:\n",
    "        if word not in vocab:\n",
    "            domain += [word]\n",
    "    return domain"
   ]
  },
  {
   "cell_type": "code",
   "execution_count": 355,
   "id": "39e04019",
   "metadata": {},
   "outputs": [],
   "source": [
    "df[\"domain_words\"] = df[\"text\"].apply(extract_domain_words)"
   ]
  },
  {
   "cell_type": "markdown",
   "id": "b819bba7",
   "metadata": {},
   "source": [
    " ## TODOs:\n",
    " \n",
    " * find frequency of domain words within cluster\n",
    " * find subfrequency of that word (coocurrence)"
   ]
  },
  {
   "cell_type": "markdown",
   "id": "33e974ca",
   "metadata": {},
   "source": [
    "# Keyphrase extraction"
   ]
  },
  {
   "cell_type": "code",
   "execution_count": 357,
   "id": "20516365",
   "metadata": {},
   "outputs": [
    {
     "name": "stdout",
     "output_type": "stream",
     "text": [
      "Requirement already satisfied: keybert in /home/ec2-user/anaconda3/envs/python3/lib/python3.6/site-packages (0.5.0)\n",
      "Requirement already satisfied: numpy>=1.18.5 in /home/ec2-user/anaconda3/envs/python3/lib/python3.6/site-packages (from keybert) (1.19.5)\n",
      "Requirement already satisfied: scikit-learn>=0.22.2 in /home/ec2-user/anaconda3/envs/python3/lib/python3.6/site-packages (from keybert) (0.24.1)\n",
      "Requirement already satisfied: sentence-transformers>=0.3.8 in /home/ec2-user/anaconda3/envs/python3/lib/python3.6/site-packages (from keybert) (2.2.0)\n",
      "Requirement already satisfied: rich>=10.4.0 in /home/ec2-user/anaconda3/envs/python3/lib/python3.6/site-packages (from keybert) (11.2.0)\n",
      "Requirement already satisfied: commonmark<0.10.0,>=0.9.0 in /home/ec2-user/anaconda3/envs/python3/lib/python3.6/site-packages (from rich>=10.4.0->keybert) (0.9.1)\n",
      "Requirement already satisfied: colorama<0.5.0,>=0.4.0 in /home/ec2-user/anaconda3/envs/python3/lib/python3.6/site-packages (from rich>=10.4.0->keybert) (0.4.3)\n",
      "Requirement already satisfied: typing-extensions<5.0,>=3.7.4 in /home/ec2-user/anaconda3/envs/python3/lib/python3.6/site-packages (from rich>=10.4.0->keybert) (3.10.0.2)\n",
      "Requirement already satisfied: pygments<3.0.0,>=2.6.0 in /home/ec2-user/anaconda3/envs/python3/lib/python3.6/site-packages (from rich>=10.4.0->keybert) (2.8.0)\n",
      "Requirement already satisfied: dataclasses<0.9,>=0.7 in /home/ec2-user/anaconda3/envs/python3/lib/python3.6/site-packages (from rich>=10.4.0->keybert) (0.8)\n",
      "Requirement already satisfied: threadpoolctl>=2.0.0 in /home/ec2-user/anaconda3/envs/python3/lib/python3.6/site-packages (from scikit-learn>=0.22.2->keybert) (2.1.0)\n",
      "Requirement already satisfied: joblib>=0.11 in /home/ec2-user/anaconda3/envs/python3/lib/python3.6/site-packages (from scikit-learn>=0.22.2->keybert) (1.0.1)\n",
      "Requirement already satisfied: scipy>=0.19.1 in /home/ec2-user/anaconda3/envs/python3/lib/python3.6/site-packages (from scikit-learn>=0.22.2->keybert) (1.5.3)\n",
      "Requirement already satisfied: sentencepiece in /home/ec2-user/anaconda3/envs/python3/lib/python3.6/site-packages (from sentence-transformers>=0.3.8->keybert) (0.1.96)\n",
      "Requirement already satisfied: transformers<5.0.0,>=4.6.0 in /home/ec2-user/anaconda3/envs/python3/lib/python3.6/site-packages (from sentence-transformers>=0.3.8->keybert) (4.17.0)\n",
      "Requirement already satisfied: tqdm in /home/ec2-user/anaconda3/envs/python3/lib/python3.6/site-packages (from sentence-transformers>=0.3.8->keybert) (4.62.3)\n",
      "Requirement already satisfied: nltk in /home/ec2-user/anaconda3/envs/python3/lib/python3.6/site-packages (from sentence-transformers>=0.3.8->keybert) (3.4.4)\n",
      "Requirement already satisfied: huggingface-hub in /home/ec2-user/anaconda3/envs/python3/lib/python3.6/site-packages (from sentence-transformers>=0.3.8->keybert) (0.4.0)\n",
      "Requirement already satisfied: torchvision in /home/ec2-user/anaconda3/envs/python3/lib/python3.6/site-packages (from sentence-transformers>=0.3.8->keybert) (0.11.2)\n",
      "Requirement already satisfied: torch>=1.6.0 in /home/ec2-user/anaconda3/envs/python3/lib/python3.6/site-packages (from sentence-transformers>=0.3.8->keybert) (1.10.1)\n",
      "Requirement already satisfied: sacremoses in /home/ec2-user/anaconda3/envs/python3/lib/python3.6/site-packages (from transformers<5.0.0,>=4.6.0->sentence-transformers>=0.3.8->keybert) (0.0.47)\n",
      "Requirement already satisfied: requests in /home/ec2-user/anaconda3/envs/python3/lib/python3.6/site-packages (from transformers<5.0.0,>=4.6.0->sentence-transformers>=0.3.8->keybert) (2.26.0)\n",
      "Requirement already satisfied: importlib-metadata in /home/ec2-user/anaconda3/envs/python3/lib/python3.6/site-packages (from transformers<5.0.0,>=4.6.0->sentence-transformers>=0.3.8->keybert) (3.7.0)\n",
      "Requirement already satisfied: filelock in /home/ec2-user/anaconda3/envs/python3/lib/python3.6/site-packages (from transformers<5.0.0,>=4.6.0->sentence-transformers>=0.3.8->keybert) (3.4.1)\n",
      "Requirement already satisfied: pyyaml>=5.1 in /home/ec2-user/anaconda3/envs/python3/lib/python3.6/site-packages (from transformers<5.0.0,>=4.6.0->sentence-transformers>=0.3.8->keybert) (5.4.1)\n",
      "Requirement already satisfied: tokenizers!=0.11.3,>=0.11.1 in /home/ec2-user/anaconda3/envs/python3/lib/python3.6/site-packages (from transformers<5.0.0,>=4.6.0->sentence-transformers>=0.3.8->keybert) (0.11.6)\n",
      "Requirement already satisfied: regex!=2019.12.17 in /home/ec2-user/anaconda3/envs/python3/lib/python3.6/site-packages (from transformers<5.0.0,>=4.6.0->sentence-transformers>=0.3.8->keybert) (2020.11.13)\n",
      "Requirement already satisfied: packaging>=20.0 in /home/ec2-user/anaconda3/envs/python3/lib/python3.6/site-packages (from transformers<5.0.0,>=4.6.0->sentence-transformers>=0.3.8->keybert) (21.3)\n",
      "Requirement already satisfied: six in /home/ec2-user/anaconda3/envs/python3/lib/python3.6/site-packages (from nltk->sentence-transformers>=0.3.8->keybert) (1.15.0)\n",
      "Requirement already satisfied: pillow!=8.3.0,>=5.3.0 in /home/ec2-user/anaconda3/envs/python3/lib/python3.6/site-packages (from torchvision->sentence-transformers>=0.3.8->keybert) (8.4.0)\n",
      "Requirement already satisfied: pyparsing!=3.0.5,>=2.0.2 in /home/ec2-user/anaconda3/envs/python3/lib/python3.6/site-packages (from packaging>=20.0->transformers<5.0.0,>=4.6.0->sentence-transformers>=0.3.8->keybert) (2.4.7)\n",
      "Requirement already satisfied: zipp>=0.5 in /home/ec2-user/anaconda3/envs/python3/lib/python3.6/site-packages (from importlib-metadata->transformers<5.0.0,>=4.6.0->sentence-transformers>=0.3.8->keybert) (3.4.0)\n",
      "Requirement already satisfied: certifi>=2017.4.17 in /home/ec2-user/anaconda3/envs/python3/lib/python3.6/site-packages (from requests->transformers<5.0.0,>=4.6.0->sentence-transformers>=0.3.8->keybert) (2021.5.30)\n",
      "Requirement already satisfied: charset-normalizer~=2.0.0 in /home/ec2-user/anaconda3/envs/python3/lib/python3.6/site-packages (from requests->transformers<5.0.0,>=4.6.0->sentence-transformers>=0.3.8->keybert) (2.0.9)\n",
      "Requirement already satisfied: urllib3<1.27,>=1.21.1 in /home/ec2-user/anaconda3/envs/python3/lib/python3.6/site-packages (from requests->transformers<5.0.0,>=4.6.0->sentence-transformers>=0.3.8->keybert) (1.26.8)\n",
      "Requirement already satisfied: idna<4,>=2.5 in /home/ec2-user/anaconda3/envs/python3/lib/python3.6/site-packages (from requests->transformers<5.0.0,>=4.6.0->sentence-transformers>=0.3.8->keybert) (3.1)\n",
      "Requirement already satisfied: click in /home/ec2-user/anaconda3/envs/python3/lib/python3.6/site-packages (from sacremoses->transformers<5.0.0,>=4.6.0->sentence-transformers>=0.3.8->keybert) (7.1.2)\n"
     ]
    }
   ],
   "source": [
    "!pip install keybert\n"
   ]
  },
  {
   "cell_type": "code",
   "execution_count": 360,
   "id": "15816995",
   "metadata": {},
   "outputs": [],
   "source": [
    "from keybert import KeyBERT\n",
    "kw_model = KeyBERT()\n"
   ]
  },
  {
   "cell_type": "code",
   "execution_count": 361,
   "id": "ba412cfc",
   "metadata": {},
   "outputs": [
    {
     "data": {
      "text/plain": [
       "[('supervised', 0.6676),\n",
       " ('labeled', 0.4896),\n",
       " ('learning', 0.4813),\n",
       " ('training', 0.4134),\n",
       " ('labels', 0.3947)]"
      ]
     },
     "execution_count": 361,
     "metadata": {},
     "output_type": "execute_result"
    }
   ],
   "source": [
    "keywords"
   ]
  },
  {
   "cell_type": "code",
   "execution_count": 362,
   "id": "73fb32fc",
   "metadata": {},
   "outputs": [
    {
     "data": {
      "text/plain": [
       "[('everybody', 0.3188),\n",
       " ('cancer', 0.5017),\n",
       " ('cervical', 0.5567),\n",
       " ('everybody cervical', 0.7245),\n",
       " ('cervical cancer', 0.7957)]"
      ]
     },
     "execution_count": 362,
     "metadata": {},
     "output_type": "execute_result"
    }
   ],
   "source": [
    "kws = kw_model.extract_keywords(\"everybody has cervical cancer\", keyphrase_ngram_range=(1, 2), stop_words='english', \n",
    "                              use_mmr=True, diversity=0.3)\n",
    "\n",
    "kws.sort(key=lambda x: x[1])\n",
    "kws"
   ]
  },
  {
   "cell_type": "code",
   "execution_count": 363,
   "id": "cf86efe6",
   "metadata": {},
   "outputs": [],
   "source": [
    "#%%timeit\n"
   ]
  },
  {
   "cell_type": "code",
   "execution_count": 364,
   "id": "9fe3855b",
   "metadata": {},
   "outputs": [
    {
     "data": {
      "text/plain": [
       "56895"
      ]
     },
     "execution_count": 364,
     "metadata": {},
     "output_type": "execute_result"
    }
   ],
   "source": [
    "sentences = list(df[\"text\"])\n",
    "len(sentences)"
   ]
  },
  {
   "cell_type": "code",
   "execution_count": 365,
   "id": "2f4a01da",
   "metadata": {},
   "outputs": [
    {
     "name": "stdout",
     "output_type": "stream",
     "text": [
      "Encode the corpus ... get a coffee in the meantime\n"
     ]
    },
    {
     "data": {
      "application/vnd.jupyter.widget-view+json": {
       "model_id": "21b4636d6fc244f0b2d6256a0d58cd42",
       "version_major": 2,
       "version_minor": 0
      },
      "text/plain": [
       "Batches:   0%|          | 0/889 [00:00<?, ?it/s]"
      ]
     },
     "metadata": {},
     "output_type": "display_data"
    }
   ],
   "source": [
    "from sentence_transformers import SentenceTransformer, util\n",
    "import time\n",
    "\n",
    "print(\"Encode the corpus ... get a coffee in the meantime\")\n",
    "model = SentenceTransformer('sentence-transformers/all-mpnet-base-v2')\n",
    "embeddings = model.encode(sentences, batch_size=64, show_progress_bar=True, convert_to_tensor=True)"
   ]
  },
  {
   "cell_type": "code",
   "execution_count": 366,
   "id": "0acd8f25",
   "metadata": {},
   "outputs": [
    {
     "data": {
      "text/plain": [
       "56895"
      ]
     },
     "execution_count": 366,
     "metadata": {},
     "output_type": "execute_result"
    }
   ],
   "source": [
    "len(embeddings)"
   ]
  },
  {
   "cell_type": "code",
   "execution_count": 367,
   "id": "976b568a",
   "metadata": {},
   "outputs": [
    {
     "name": "stdout",
     "output_type": "stream",
     "text": [
      "Start clustering\n",
      "Clustering took 6.68 sec len 270\n"
     ]
    }
   ],
   "source": [
    "print(\"Start clustering\")\n",
    "start_time = time.time()\n",
    "\n",
    "clusters = util.community_detection(embeddings, threshold=0.9)\n",
    "print(\"Clustering took {:.2f} sec\".format(time.time() - start_time), \"len\", len(clusters))"
   ]
  },
  {
   "cell_type": "code",
   "execution_count": 368,
   "id": "45b09f08",
   "metadata": {},
   "outputs": [],
   "source": [
    "def get_kw(text):\n",
    "    kws = kw_model.extract_keywords(text, \n",
    "                          keyphrase_ngram_range=(1, 2), \n",
    "                          stop_words='english',\n",
    "                          use_mmr=True, \n",
    "                          diversity=0.2)\n",
    "    \n",
    "    kws.sort(key=lambda x: x[1], reverse=True)\n",
    "    return kws"
   ]
  },
  {
   "cell_type": "code",
   "execution_count": 369,
   "id": "cb557e66",
   "metadata": {},
   "outputs": [],
   "source": [
    "df[\"kws\"] = df[\"text\"].apply(get_kw)"
   ]
  },
  {
   "cell_type": "code",
   "execution_count": 370,
   "id": "22bfd964",
   "metadata": {},
   "outputs": [],
   "source": [
    "def likely(ts):\n",
    "    #if a unigram is in the two highest likely probs THEN take the unigram]\n",
    "    try:\n",
    "        s0=ts[0][0]\n",
    "        s1=ts[1][0]\n",
    "        if len(s0.split(\" \")) > 1 and len(s1.split(\" \")) == 1:\n",
    "            return s1\n",
    "        return s0\n",
    "    except:\n",
    "        return None\n"
   ]
  },
  {
   "cell_type": "code",
   "execution_count": 371,
   "id": "532993da",
   "metadata": {},
   "outputs": [],
   "source": [
    "def contender(topics):\n",
    "    #take the first \"different\" option that breaks with the main options\n",
    "    #iterate until the topic that breaks with the terms of previous topics\n",
    "    terms = []\n",
    "    idx=0\n",
    "    for idx, t in enumerate(topics):\n",
    "        words = t[0].split(\" \")\n",
    "#         print(words, \"words\")\n",
    "        if set.intersection(set(words), set(terms)):\n",
    "            break #word\n",
    "        terms += words\n",
    "    return likely(topics[idx+1:])"
   ]
  },
  {
   "cell_type": "code",
   "execution_count": 372,
   "id": "edeeaa64",
   "metadata": {},
   "outputs": [],
   "source": [
    "df[\"kw1\"] = df.kws.apply(likely)"
   ]
  },
  {
   "cell_type": "code",
   "execution_count": 374,
   "id": "19dff6a6",
   "metadata": {},
   "outputs": [],
   "source": [
    "df[\"kw2\"] = df.kws.apply(contender)"
   ]
  },
  {
   "cell_type": "code",
   "execution_count": 375,
   "id": "84937c22",
   "metadata": {},
   "outputs": [
    {
     "data": {
      "text/plain": [
       "0                   dengue\n",
       "1        zoonotic bacteria\n",
       "2           chagas disease\n",
       "3                 glaucoma\n",
       "4               pancreatic\n",
       "               ...        \n",
       "66542           biological\n",
       "66543    myometrial tumors\n",
       "66544                death\n",
       "66545         plant genome\n",
       "66546         diseases lsd\n",
       "Name: kw1, Length: 56895, dtype: object"
      ]
     },
     "execution_count": 375,
     "metadata": {},
     "output_type": "execute_result"
    }
   ],
   "source": [
    "df[\"kw1\"]"
   ]
  },
  {
   "cell_type": "code",
   "execution_count": 376,
   "id": "86d432ae",
   "metadata": {},
   "outputs": [
    {
     "data": {
      "text/plain": [
       "0                   viral infection\n",
       "1        staphylococcus intermedius\n",
       "2                       trypanosoma\n",
       "3                         blindness\n",
       "4              anticancer therapies\n",
       "                    ...            \n",
       "66542            problem biological\n",
       "66543                neoplasm women\n",
       "66544                   death young\n",
       "66545                 plant biology\n",
       "66546                     lysosomal\n",
       "Name: kw2, Length: 56895, dtype: object"
      ]
     },
     "execution_count": 376,
     "metadata": {},
     "output_type": "execute_result"
    }
   ],
   "source": [
    "df[\"kw2\"]"
   ]
  },
  {
   "cell_type": "code",
   "execution_count": 377,
   "id": "95be443e",
   "metadata": {},
   "outputs": [],
   "source": [
    "df.to_csv (\"downloads/58k_enriched_topics.csv\", index = False, header=True)"
   ]
  },
  {
   "cell_type": "code",
   "execution_count": null,
   "id": "763c44df",
   "metadata": {},
   "outputs": [],
   "source": []
  },
  {
   "cell_type": "markdown",
   "id": "61b33a35",
   "metadata": {},
   "source": [
    "## Topic ANalysis\n",
    "\n",
    "* check KW1 \n",
    "* check sub KW2s for that KW\n",
    "\n",
    "* group sentences (group their topics)\n",
    "* build dictionaries of topics"
   ]
  },
  {
   "cell_type": "code",
   "execution_count": 3,
   "id": "d946c876",
   "metadata": {},
   "outputs": [],
   "source": [
    "df = pd.read_csv(\"downloads/58k_enriched_topics.csv\")"
   ]
  },
  {
   "cell_type": "code",
   "execution_count": 11,
   "id": "fe071226",
   "metadata": {},
   "outputs": [
    {
     "data": {
      "text/plain": [
       "(30172, 28607)"
      ]
     },
     "execution_count": 11,
     "metadata": {},
     "output_type": "execute_result"
    }
   ],
   "source": [
    "len(set(list(df.kw1))), len(set(list(df.kw2)))"
   ]
  },
  {
   "cell_type": "code",
   "execution_count": null,
   "id": "fba655c3",
   "metadata": {},
   "outputs": [],
   "source": []
  },
  {
   "cell_type": "code",
   "execution_count": 7,
   "id": "ef1afc54",
   "metadata": {},
   "outputs": [
    {
     "data": {
      "text/plain": [
       "4500"
      ]
     },
     "execution_count": 7,
     "metadata": {},
     "output_type": "execute_result"
    }
   ],
   "source": [
    "len(set.intersection(set(list(df.kw1)), set(list(df.kw2))))"
   ]
  },
  {
   "cell_type": "code",
   "execution_count": 212,
   "id": "6ce09030",
   "metadata": {},
   "outputs": [
    {
     "data": {
      "text/plain": [
       "32541"
      ]
     },
     "execution_count": 212,
     "metadata": {},
     "output_type": "execute_result"
    }
   ],
   "source": [
    "for cluster_idxs in clusters[:1]:\n",
    "    sample = df.iloc[cluster_idxs]\n",
    "    sample"
   ]
  },
  {
   "cell_type": "code",
   "execution_count": 217,
   "id": "e17e771d",
   "metadata": {},
   "outputs": [
    {
     "data": {
      "text/html": [
       "<div>\n",
       "<style scoped>\n",
       "    .dataframe tbody tr th:only-of-type {\n",
       "        vertical-align: middle;\n",
       "    }\n",
       "\n",
       "    .dataframe tbody tr th {\n",
       "        vertical-align: top;\n",
       "    }\n",
       "\n",
       "    .dataframe thead th {\n",
       "        text-align: right;\n",
       "    }\n",
       "</style>\n",
       "<table border=\"1\" class=\"dataframe\">\n",
       "  <thead>\n",
       "    <tr style=\"text-align: right;\">\n",
       "      <th></th>\n",
       "      <th>level_0</th>\n",
       "      <th>problem_id</th>\n",
       "      <th>title</th>\n",
       "      <th>article_link</th>\n",
       "      <th>text</th>\n",
       "      <th>mesh_list</th>\n",
       "      <th>journal_title</th>\n",
       "      <th>volume</th>\n",
       "      <th>issue</th>\n",
       "      <th>label</th>\n",
       "      <th>...</th>\n",
       "      <th>topic_id</th>\n",
       "      <th>probs</th>\n",
       "      <th>topic_name</th>\n",
       "      <th>closest_problem_id</th>\n",
       "      <th>doi</th>\n",
       "      <th>coreId</th>\n",
       "      <th>oai</th>\n",
       "      <th>len</th>\n",
       "      <th>domain_words</th>\n",
       "      <th>pdoi</th>\n",
       "    </tr>\n",
       "  </thead>\n",
       "  <tbody>\n",
       "    <tr>\n",
       "      <th>38007</th>\n",
       "      <td>18583.0</td>\n",
       "      <td>20735.0</td>\n",
       "      <td>NaN</td>\n",
       "      <td>NaN</td>\n",
       "      <td>Obesity represents a serious health problem as...</td>\n",
       "      <td>NaN</td>\n",
       "      <td>NaN</td>\n",
       "      <td>NaN</td>\n",
       "      <td>NaN</td>\n",
       "      <td>1.0</td>\n",
       "      <td>...</td>\n",
       "      <td>130</td>\n",
       "      <td>[130, 131, 111]</td>\n",
       "      <td>obesity overweight epidemic</td>\n",
       "      <td>[13282, 12611, 24022]</td>\n",
       "      <td>None</td>\n",
       "      <td>NaN</td>\n",
       "      <td>NaN</td>\n",
       "      <td>13</td>\n",
       "      <td>[Obesity, .]</td>\n",
       "      <td>None</td>\n",
       "    </tr>\n",
       "    <tr>\n",
       "      <th>22</th>\n",
       "      <td>17266.0</td>\n",
       "      <td>19449.0</td>\n",
       "      <td>NaN</td>\n",
       "      <td>NaN</td>\n",
       "      <td>Calcification , the major cause of bioprosthet...</td>\n",
       "      <td>NaN</td>\n",
       "      <td>NaN</td>\n",
       "      <td>NaN</td>\n",
       "      <td>NaN</td>\n",
       "      <td>1.0</td>\n",
       "      <td>...</td>\n",
       "      <td>394</td>\n",
       "      <td>[394, 392, 393]</td>\n",
       "      <td>ventricular valves aortic</td>\n",
       "      <td>[22850, 17528, 7007]</td>\n",
       "      <td>None</td>\n",
       "      <td>NaN</td>\n",
       "      <td>NaN</td>\n",
       "      <td>20</td>\n",
       "      <td>[Calcification, ,, bioprosthetic, ,, .]</td>\n",
       "      <td>None</td>\n",
       "    </tr>\n",
       "  </tbody>\n",
       "</table>\n",
       "<p>2 rows × 37 columns</p>\n",
       "</div>"
      ],
      "text/plain": [
       "       level_0  problem_id title  article_link  \\\n",
       "38007  18583.0     20735.0   NaN           NaN   \n",
       "22     17266.0     19449.0   NaN           NaN   \n",
       "\n",
       "                                                    text  mesh_list  \\\n",
       "38007  Obesity represents a serious health problem as...        NaN   \n",
       "22     Calcification , the major cause of bioprosthet...        NaN   \n",
       "\n",
       "       journal_title  volume  issue  label  ... topic_id            probs  \\\n",
       "38007            NaN     NaN    NaN    1.0  ...      130  [130, 131, 111]   \n",
       "22               NaN     NaN    NaN    1.0  ...      394  [394, 392, 393]   \n",
       "\n",
       "                        topic_name     closest_problem_id   doi coreId  oai  \\\n",
       "38007  obesity overweight epidemic  [13282, 12611, 24022]  None    NaN  NaN   \n",
       "22       ventricular valves aortic   [22850, 17528, 7007]  None    NaN  NaN   \n",
       "\n",
       "      len                             domain_words  pdoi  \n",
       "38007  13                             [Obesity, .]  None  \n",
       "22     20  [Calcification, ,, bioprosthetic, ,, .]  None  \n",
       "\n",
       "[2 rows x 37 columns]"
      ]
     },
     "execution_count": 217,
     "metadata": {},
     "output_type": "execute_result"
    }
   ],
   "source": [
    "df.iloc[[32541, 22]]"
   ]
  },
  {
   "cell_type": "code",
   "execution_count": 214,
   "id": "a7202515",
   "metadata": {},
   "outputs": [
    {
     "name": "stdout",
     "output_type": "stream",
     "text": [
      "\n",
      "Cluster 1, #241 Elements \n",
      "\t Obesity represents a serious health problem as it is rapidly increasing worldwide .\n",
      "\t Obesity is a serious and rapidly growing health problem worldwide .\n",
      "\t Obesity is a serious public health problem that is growing alarmingly worldwide .\n",
      "\t ...\n",
      "\t Morbid obesity and its rapidly increasing prevalence has became a serious health , social and economic problem not only in Europe , but in other developed countries in the Western world .\n",
      "\t Obesity is a serious health problem for all age groups and it also promotes Type 2 diabetes , cardiovascular diseases , cancer and hypertension .\n",
      "\t Obesity is a serious health problem that increased risk for many complications , including diabetes and cardiovascular disease .\n",
      "\n",
      "Cluster 2, #118 Elements \n",
      "\t Hepatitis C virus ( HCV ) is a serious global health problem and establishes chronic infection in a significant number of infected humans worldwide .\n",
      "\t Hepatitis C virus ( HCV ) is a serious global health problem affecting approximately 130 - 150 million individuals .\n",
      "\t Hepatitis C virus (HCV) is a global public health problem that mediates a persistent infection in nearly 200 million people.\n",
      "\t ...\n",
      "\t The hepatitis C is a severe public health problem worldwide because its consequences .\n",
      "\t Infections by HCV represent a serious global health problem , because millions of people worldwide are infected and no efficient treatment is available at the present time .\n",
      "\t Hepatitis C virus ( HCV ) infection is a serious and significant global health problem in the Pakistan and elsewhere .\n",
      "\n",
      "Cluster 3, #114 Elements \n",
      "\t The burden of hepatitis B virus ( HBV ) infection is a serious public health problem all over the world .\n",
      "\t Infection with Hepatitis B virus ( HBV ) is a serious public health problem worldwide , with over 360 million carriers .\n",
      "\t Hepatitis B virus ( HBV ) infection is a serious public health problem in many parts of the world .\n",
      "\t ...\n",
      "\t Hepatitis B is a serious public health problem leading to chronic infection , liver cirrhosis , and hepatocellular carcinoma .\n",
      "\t Chronic hepatitis B is a serious public health concern .\n",
      "\t Hepatitis B virus ( HBV ) infection is still a serious worldwide problem , and vaccination is the most effective strategy for primary prevention of the infection .\n",
      "\n",
      "Cluster 4, #106 Elements \n",
      "\t Alzheimer's Disease (AD) is a progressive neurodegenerative disorder, rapidly increasing in prevalence as the population ages.\n",
      "\t Alzheimer's disease (AD) is a progressive, neurodegenerative disease of increasing incidence.\n",
      "\t Alzheimer's disease (AD) is a progressive neurodegenerative disease, with increasing incidence all over the world.\n",
      "\t ...\n",
      "\t Alzheimer disease (AD) is the leading cause of dementia in the elderly and has no known cure.\n",
      "\t Alzheimer 's disease ( AD ) is widely recognized as a serious public health problem and heavy financial burden .\n",
      "\t Alzheimer's disease (AD)—the most common type of dementia among the elderly—represents one of the most challenging and urgent medical mysteries affecting our aging population.\n",
      "\n",
      "Cluster 5, #104 Elements \n",
      "\t Tuberculosis ( TB ) remains a serious public-health problem worldwide .\n",
      "\t Tuberculosis ( TB ) remains a serious public health problem worldwide .\n",
      "\t Tuberculosis ( TB ) continues to be a serious global health problem .\n",
      "\t ...\n",
      "\t Tuberculosis is a chronic infectious disease which causes major health problems globally.\n",
      "\t BACKGROUND: Tuberculosis (TB) is a major public health problem in developing countries.\n",
      "\t Hence , tuberculosis is once again a serious global problem not only in the developing countries of Africa or South East Asia , but also in highly-developed communities .\n",
      "\n",
      "Cluster 6, #93 Elements \n",
      "\t Lung cancer is a leading cause of cancer death in the world.\n",
      "\t Lung cancer is the leading cause of cancer-related death in the world.\n",
      "\t Lung cancer is the leading cause of cancer death worldwide.\n",
      "\t ...\n",
      "\t Lung cancer, particularly non-small-cell lung cancer (NSCLC) is the leading cause of cancer mortality.\n",
      "\t Lung cancer is a serious health problem , since it is one of the leading causes for death worldwide .\n",
      "\t Lung cancer is a serious health problem and the leading cause of cancer death worldwide , due to its high incidence and mortality .\n",
      "\n",
      "Cluster 7, #93 Elements \n",
      "\t Parkinson's disease (PD) is a common, degenerative disorder of the central nervous system.\n",
      "\t Parkinson's disease (PD) is a degenerative disorder that affects the central nervous system.\n",
      "\t Parkinson's disease (PD) is a progressive disorder of the central nervous system.\n",
      "\t ...\n",
      "\t Parkinson's disease (PD) is a common neurodegenerative disorder in the elderly that may lead to both motor and non-motor symptoms with consequent severe impairment of quality of life.\n",
      "\t Parkinson's disease (PD) is the most common neurodegenerative movement disorder that affects about 1% of the population worldwide.\n",
      "\t Parkinson's disease (PD) is one of the most common forms of neurodegenerative disorders, and its etiology remains unclear.\n",
      "\n",
      "Cluster 8, #89 Elements \n",
      "\t Childhood obesity is a serious health problem worldwide with a prevalence rising to epidemic proportions .\n",
      "\t Childhood obesity is a serious public health problem and its prevalence is increasing worldwide .\n",
      "\t Over the past decade, childhood obesity has been recognized as an increasing health problem worldwide.\n",
      "\t ...\n",
      "\t Childhood obesity is a serious concern associated with ill health later in life .\n",
      "\t The prevalence of obesity in pediatric population is increasing at an accelerated rate in many countries, and has become a major public health concern.\n",
      "\t Overweight and obesity in children are a serious problem .\n",
      "\n",
      "Cluster 9, #77 Elements \n",
      "\t Amyotrophic lateral sclerosis (ALS) is a fatal neurologic disease characterized by progressive motor neuron degeneration.\n",
      "\t Amyotrophic lateral sclerosis (ALS) is a fatal neurological disorder characterized by motor neuron degeneration.\n",
      "\t Amyotrophic lateral sclerosis (ALS) is a fatal neurodegenerative disease characterized by progressive weakness from loss of motor neurons.\n",
      "\t ...\n",
      "\t Amyotrophic lateral sclerosis (ALS) is a fatal motoneuronal disease which occurs in sporadic or familial forms, clinically indistinguishable.\n",
      "\t Amyotrophic lateral sclerosis is a fatal neurodegenerative disease characterized by progressive motoneuron loss.\n",
      "\t Amyotrophic lateral sclerosis (ALS) is a severe progressive disease that cannot be prevented or cured.\n",
      "\n",
      "Cluster 10, #72 Elements \n",
      "\t Hepatocellular carcinoma (HCC) is one of the most common and rapidly fatal malignancies worldwide.\n",
      "\t Hepatocellular carcinoma (HCC) is one of the commonest cancers worldwide, as well as a common cause of cancer-related death.\n",
      "\t Hepatocellular carcinoma (HCC) is one of the most common malignant tumors worldwide.\n",
      "\t ...\n",
      "\t Hepatocellular carcinoma (HCC) is a highly prevalent and lethal cancer worldwide; despite the curative treatment for HCC, the rate of tumor recurrence after hepatectomy remains high.\n",
      "\t Hepatocellular carcinoma (HCC) is a common lethal disease in Asia and there is no effective chemotherapy.\n",
      "\t Hepatocellular carcinoma (HCC) is a common and highly malignant tumor that is prevalent in Southeast Asia.\n",
      "\n",
      "Cluster 11, #70 Elements \n",
      "\t Multiple sclerosis (MS) is a chronic inflammatory autoimmune demyelinating disease of the central nervous system.\n",
      "\t Multiple sclerosis (MS) is a disabling inflammatory, autoimmune demyelinating disease of the central nervous system.\n",
      "\t Multiple sclerosis (MS) is an inflammatory, autoimmune disease of the central nervous system.\n",
      "\t ...\n",
      "\t Multiple Sclerosis (MS), a chronic inflammatory and neurodegenerative disease of the central nervous system (CNS), is characterized by recurrent relapses of CNS inflammation ranging from mild to severely disabling.\n",
      "\t Multiple sclerosis (MS) is a demyelinating disorder of the central nervous system of unknown etiology.\n",
      "\t Multiple sclerosis is an inflammatory disease of the central nervous system that leads to loss of myelin and oligodendrocytes and damage to axons.\n",
      "\n",
      "Cluster 12, #69 Elements \n",
      "\t Cervical cancer is the second most common cancer and the third leading cause of cancer-related death among females in less developed countries.\n",
      "\t Cervical cancer is the most common female malignancy in the developing nations and the third most common cancer in women globally.\n",
      "\t Cervical cancer is one of the major health problems and the third prevalent cancer in women all around the world.\n",
      "\t ...\n",
      "\t Cervical cancer remains one of the greatest killers of women worldwide.\n",
      "\t Cervical cancer lesions represent a major threat to the health of  the women worldwide.\n",
      "\t Cervical cancer is one of the leading causes of cancer-related deaths among women and it is caused by the human papillomavirus (HPV).\n",
      "\n",
      "Cluster 13, #68 Elements \n",
      "\t Idiopathic pulmonary fibrosis (IPF) is a devastating and progressive lung disease.\n",
      "\t Idiopathic pulmonary fibrosis (IPF) is a progressive lung disease with few treatment options.\n",
      "\t Idiopathic pulmonary fibrosis (IPF) is a chronic, devastating, lung disease, with few therapeutic options.\n",
      "\t ...\n",
      "\t Idiopathic pulmonary fibrosis is a progressive interstitial lung disease with no current effective therapies.\n",
      "\t Idiopathic pulmonary fibrosis (IPF) is a lethal parenchymal lung disease characterized by myofibroblast proliferation.\n",
      "\t Idiopathic pulmonary fibrosis is a progressive lung disease with a high mortality rate.\n",
      "\n",
      "Cluster 14, #67 Elements \n",
      "\t Antibiotic resistance is an increasing phenomenon and has become a serious public health concern .\n",
      "\t Antibiotic resistance is one of the greatest challenges in the health system nowadays , representing a serious problem for public health .\n",
      "\t Antibiotic resistance is a serious problem in health care and is of widespread public concern .\n",
      "\t ...\n",
      "\t Increasing resistance to antimicrobial agents is of growing concern to public health officials worldwide.\n",
      "\t The increasing incidence of antibiotic resistance is a serious worldwide problem , as underlined by European Union documents .\n",
      "\t Bacterial drug resistance is a serious concern for human health .\n",
      "\n",
      "Cluster 15, #66 Elements \n",
      "\t Prion diseases are fatal neurodegenerative disorders of animals and humans that are characterized by the conversion of the host-encoded prion protein (PrP) to an abnormal isoform.\n",
      "\t Prion diseases are fatal neurodegenerative disorders caused by prion proteins (PrP).\n",
      "\t Prion diseases are a group of neurodegenerative disorders in humans and animals that seem to result from a conformational change in the prion protein (PrP).\n",
      "\t ...\n",
      "\t Human prion diseases like Creutzfeldt-Jakob disease are infectious, inherited, or sporadic neurodegenerative disorders, characterized by the accumulationof an abnormal isoform of the host-encoded prion protein.\n",
      "\t Transmissible spongiform encephalopathies are fatal neurodegenerative diseases caused by the conversion of prion protein (PrPC) into an infectious isoform (PrPSc).\n",
      "\t The prion protein is infamous for its role in devastating neurological diseases, but its normal, physiological function has remained mysterious.\n",
      "\n",
      "Cluster 16, #60 Elements \n",
      "\t Breast cancer is the most frequent tumor among women worldwide and is the second cause of cancer-related mortality in the US.\n",
      "\t Breast cancer is the most common malignant disease and among the most frequent causes of cancer mortality in females worldwide.\n",
      "\t Breast cancer is the most common type of cancer among American women, and remains the second leading cause of cancer-related death for female in the United States.\n",
      "\t ...\n",
      "\t Breast cancer is the most common cause of cancer death among women worldwide.\n",
      "\t Breast cancer is the most common cause of cancer-related death worldwide, thus remaining a crucial health problem among women despite advances in conventional therapy.\n",
      "\t Despite diagnostic advances, breast cancer remains the most prevalent cancer among women in the United States.\n",
      "\n",
      "Cluster 17, #60 Elements \n",
      "\t Chagas disease (American trypanosomiasis) is caused by the protozoan parasite Trypanosoma cruzi and represents a major public health problem in Latin America.\n",
      "\t Chagas' disease is caused by the protozoan parasite Trypanosoma cruzi and is one of the most important endemic problems in Latin America.\n",
      "\t Chagas disease , caused by the parasite Trypanosoma cruzi , is a serious health problem in Latin America and is an emerging disease in non-endemic countries .\n",
      "\t ...\n",
      "\t The etiologic agent of Chagas Disease is the Trypanosoma cruzi, transmitted through blood-sucking insect vectors of the Triatominae subfamily, representing one of the most serious public health concerns in Latin America.\n",
      "\t Trypanosoma cruzi is the protozoan parasite that causes Chagas’ disease, a frequently fatal illness affecting the heart and gastrointestinal systems.\n",
      "\t Chagas disease is a serious public health problem in Ecuador , where nearly 230,000 individuals show Trypanosoma cruzi infection .\n",
      "\n",
      "Cluster 18, #60 Elements \n",
      "\t Methicillin-resistant Staphylococcus aureus ( MRSA ) has recently become a serious problem in various fields of medicine .\n",
      "\t Methicillin-resistant Staphylococcus aureus ( MRSA ) infection is a serious clinical problem worldwide .\n",
      "\t An increasing prevalence of methicillin-resistant Staphylococcus aureus ( MRSA ) has created a serious therapeutic problem .\n",
      "\t ...\n",
      "\t Nosocomial infections involving epidemic methicillin-resistant Staphylococcus aureus ( MRSA ) strains are a serious problem in many countries .\n",
      "\t Methicillin-resistant Staphylococcus aureus-related infections have become a serious problem worldwide .\n",
      "\t BACKGROUND: Community-associated methicillin-resistant Staphylococcus aureus (CA-MRSA) is a serious pathogen in several regions in the United States.\n",
      "\n",
      "Cluster 19, #59 Elements \n",
      "\t Dengue virus infections are a serious public health problem in tropical and subtropical areas of the world .\n",
      "\t Dengue virus constitutes a significant public health problem in tropical regions of the world.\n",
      "\t Dengue infection is a serious public health problem in tropical and subtropical areas .\n",
      "\t ...\n",
      "\t Dengue virus ( DENV ) is spread through most tropical and subtropical areas of the world and represents a serious public health problem .\n",
      "\t Dengue fever is a serious public health problem and is emerging as a continuous threat in Guangdong Province .\n",
      "\t Dengue is a rapidly spreading mosquito-borne disease caused by the dengue virus ( DENV ) and has emerged as a severe public health problem around the world .\n",
      "\n",
      "Cluster 20, #55 Elements \n",
      "\t Colorectal cancer (CRC) is the third leading cause of cancer-related death worldwide.\n",
      "\t Colorectal cancer (CRC) is the fourth leading cause of cancer-related deaths worldwide.\n",
      "\t Colorectal cancer (CRC) is the second leading cause of cancer-related mortality in the United States.\n",
      "\t ...\n",
      "\t Colorectal cancer (CRC) is the third most common cancer in the word.\n",
      "\t Colorectal cancer is the second leading cause of cancer death in the developed world, due to formation of distant metastases.\n",
      "\t Colorectal cancer is the second most common cause of cancer related deaths in the United States.\n"
     ]
    }
   ],
   "source": [
    "#Print for all clusters the top 3 and bottom 3 elements\n",
    "clus = {}\n",
    "for i, cluster in enumerate(clusters[:20]):\n",
    "    print(\"\\nCluster {}, #{} Elements \".format(i+1, len(cluster)))\n",
    "    clus[\"cluster_number \" + str(i)] = cluster\n",
    "    \n",
    "    for sentence_id in cluster[0:3]:\n",
    "        print(\"\\t\", sentences[sentence_id])\n",
    "    print(\"\\t\", \"...\")\n",
    "    for sentence_id in cluster[-3:]:\n",
    "        print(\"\\t\", sentences[sentence_id])"
   ]
  },
  {
   "cell_type": "markdown",
   "id": "31b50666",
   "metadata": {},
   "source": [
    "# NetworkX hierarchy"
   ]
  },
  {
   "cell_type": "code",
   "execution_count": null,
   "id": "e60784d7",
   "metadata": {},
   "outputs": [],
   "source": []
  }
 ],
 "metadata": {
  "kernelspec": {
   "display_name": "conda_amazonei_mxnet_p27",
   "language": "python",
   "name": "conda_amazonei_mxnet_p27"
  },
  "language_info": {
   "codemirror_mode": {
    "name": "ipython",
    "version": 3
   },
   "file_extension": ".py",
   "mimetype": "text/x-python",
   "name": "python",
   "nbconvert_exporter": "python",
   "pygments_lexer": "ipython3",
   "version": "3.6.13"
  }
 },
 "nbformat": 4,
 "nbformat_minor": 5
}
