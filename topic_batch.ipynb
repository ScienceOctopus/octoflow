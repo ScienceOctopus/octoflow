{
 "cells": [
  {
   "cell_type": "code",
   "execution_count": 1,
   "id": "0bf690ea",
   "metadata": {},
   "outputs": [],
   "source": [
    "import pandas as pd\n",
    "df = pd.read_csv(\"downloads/60k_core_all.csv\")"
   ]
  },
  {
   "cell_type": "code",
   "execution_count": 2,
   "id": "33d10458",
   "metadata": {
    "collapsed": true,
    "jupyter": {
     "outputs_hidden": true
    }
   },
   "outputs": [
    {
     "name": "stdout",
     "output_type": "stream",
     "text": [
      "Collecting bertopic\n",
      "  Downloading bertopic-0.9.3-py2.py3-none-any.whl (57 kB)\n",
      "     |████████████████████████████████| 57 kB 8.7 MB/s             \n",
      "\u001b[?25h  Downloading bertopic-0.9.2-py2.py3-none-any.whl (57 kB)\n",
      "     |████████████████████████████████| 57 kB 7.7 MB/s             \n",
      "\u001b[?25h  Downloading bertopic-0.9.1-py2.py3-none-any.whl (55 kB)\n",
      "     |████████████████████████████████| 55 kB 849 kB/s              \n",
      "\u001b[?25h  Downloading bertopic-0.9.0-py2.py3-none-any.whl (55 kB)\n",
      "     |████████████████████████████████| 55 kB 6.5 MB/s              \n",
      "\u001b[?25h  Downloading bertopic-0.8.1-py2.py3-none-any.whl (53 kB)\n",
      "     |████████████████████████████████| 53 kB 5.1 MB/s              \n",
      "\u001b[?25h  Downloading bertopic-0.8.0-py2.py3-none-any.whl (53 kB)\n",
      "     |████████████████████████████████| 53 kB 3.7 MB/s              \n",
      "\u001b[?25h  Downloading bertopic-0.7.0-py2.py3-none-any.whl (40 kB)\n",
      "     |████████████████████████████████| 40 kB 1.7 MB/s             \n",
      "\u001b[?25h  Downloading bertopic-0.6.0-py2.py3-none-any.whl (25 kB)\n",
      "Collecting torch>=1.4.0\n",
      "  Downloading torch-1.10.2-cp36-cp36m-manylinux1_x86_64.whl (881.9 MB)\n",
      "     |████████████▋                   | 348.7 MB 135.8 MB/s eta 0:00:04"
     ]
    },
    {
     "name": "stderr",
     "output_type": "stream",
     "text": [
      "IOPub data rate exceeded.\n",
      "The notebook server will temporarily stop sending output\n",
      "to the client in order to avoid crashing it.\n",
      "To change this limit, set the config variable\n",
      "`--NotebookApp.iopub_data_rate_limit`.\n",
      "\n",
      "Current values:\n",
      "NotebookApp.iopub_data_rate_limit=1000000.0 (bytes/sec)\n",
      "NotebookApp.rate_limit_window=3.0 (secs)\n",
      "\n"
     ]
    },
    {
     "name": "stdout",
     "output_type": "stream",
     "text": [
      "     |████████████████████████▏       | 664.9 MB 143.8 MB/s eta 0:00:02"
     ]
    },
    {
     "name": "stderr",
     "output_type": "stream",
     "text": [
      "IOPub data rate exceeded.\n",
      "The notebook server will temporarily stop sending output\n",
      "to the client in order to avoid crashing it.\n",
      "To change this limit, set the config variable\n",
      "`--NotebookApp.iopub_data_rate_limit`.\n",
      "\n",
      "Current values:\n",
      "NotebookApp.iopub_data_rate_limit=1000000.0 (bytes/sec)\n",
      "NotebookApp.rate_limit_window=3.0 (secs)\n",
      "\n"
     ]
    },
    {
     "name": "stdout",
     "output_type": "stream",
     "text": [
      "     |█████████████████████████████   | 798.9 MB 143.0 MB/s eta 0:00:01"
     ]
    },
    {
     "name": "stderr",
     "output_type": "stream",
     "text": [
      "IOPub data rate exceeded.\n",
      "The notebook server will temporarily stop sending output\n",
      "to the client in order to avoid crashing it.\n",
      "To change this limit, set the config variable\n",
      "`--NotebookApp.iopub_data_rate_limit`.\n",
      "\n",
      "Current values:\n",
      "NotebookApp.iopub_data_rate_limit=1000000.0 (bytes/sec)\n",
      "NotebookApp.rate_limit_window=3.0 (secs)\n",
      "\n"
     ]
    },
    {
     "name": "stdout",
     "output_type": "stream",
     "text": [
      "     |████████████████████████████████| 881.9 MB 6.4 kB/s              \n",
      "\u001b[?25hRequirement already satisfied: pandas>=1.1.5 in /home/ec2-user/anaconda3/envs/mxnet_p36/lib/python3.6/site-packages (from bertopic) (1.1.5)\n",
      "Requirement already satisfied: scikit-learn>=0.22.2.post1 in /home/ec2-user/anaconda3/envs/mxnet_p36/lib/python3.6/site-packages (from bertopic) (0.24.1)\n",
      "Collecting sentence-transformers>=0.4.1\n",
      "  Downloading sentence-transformers-2.2.0.tar.gz (79 kB)\n",
      "     |████████████████████████████████| 79 kB 345 kB/s             \n",
      "\u001b[?25h  Preparing metadata (setup.py) ... \u001b[?25ldone\n",
      "\u001b[?25hRequirement already satisfied: numpy>=1.19.2 in /home/ec2-user/anaconda3/envs/mxnet_p36/lib/python3.6/site-packages (from bertopic) (1.19.5)\n",
      "Requirement already satisfied: tqdm>=4.41.1 in /home/ec2-user/anaconda3/envs/mxnet_p36/lib/python3.6/site-packages (from bertopic) (4.62.3)\n",
      "Collecting umap-learn>=0.5.0\n",
      "  Downloading umap-learn-0.5.2.tar.gz (86 kB)\n",
      "     |████████████████████████████████| 86 kB 295 kB/s             \n",
      "\u001b[?25h  Preparing metadata (setup.py) ... \u001b[?25ldone\n",
      "\u001b[?25hCollecting hdbscan>=0.8.27\n",
      "  Downloading hdbscan-0.8.28.tar.gz (5.2 MB)\n",
      "     |████████████████████████████████| 5.2 MB 70.8 MB/s            \n",
      "\u001b[?25h  Installing build dependencies ... \u001b[?25ldone\n",
      "\u001b[?25h  Getting requirements to build wheel ... \u001b[?25ldone\n",
      "\u001b[?25h  Preparing metadata (pyproject.toml) ... \u001b[?25ldone\n",
      "\u001b[?25h  Downloading hdbscan-0.8.27.tar.gz (6.4 MB)\n",
      "     |████████████████████████████████| 6.4 MB 90.5 MB/s            \n",
      "\u001b[?25h  Installing build dependencies ... \u001b[?25ldone\n",
      "\u001b[?25h  Getting requirements to build wheel ... \u001b[?25ldone\n",
      "\u001b[?25h  Preparing metadata (pyproject.toml) ... \u001b[?25ldone\n",
      "\u001b[?25hRequirement already satisfied: joblib>=1.0 in /home/ec2-user/anaconda3/envs/mxnet_p36/lib/python3.6/site-packages (from hdbscan>=0.8.27->bertopic) (1.0.1)\n",
      "Requirement already satisfied: scipy>=1.0 in /home/ec2-user/anaconda3/envs/mxnet_p36/lib/python3.6/site-packages (from hdbscan>=0.8.27->bertopic) (1.5.3)\n",
      "Requirement already satisfied: six in /home/ec2-user/anaconda3/envs/mxnet_p36/lib/python3.6/site-packages (from hdbscan>=0.8.27->bertopic) (1.15.0)\n",
      "Requirement already satisfied: cython>=0.27 in /home/ec2-user/anaconda3/envs/mxnet_p36/lib/python3.6/site-packages (from hdbscan>=0.8.27->bertopic) (0.29.22)\n",
      "Requirement already satisfied: python-dateutil>=2.7.3 in /home/ec2-user/anaconda3/envs/mxnet_p36/lib/python3.6/site-packages (from pandas>=1.1.5->bertopic) (2.8.1)\n",
      "Requirement already satisfied: pytz>=2017.2 in /home/ec2-user/anaconda3/envs/mxnet_p36/lib/python3.6/site-packages (from pandas>=1.1.5->bertopic) (2021.1)\n",
      "Requirement already satisfied: threadpoolctl>=2.0.0 in /home/ec2-user/anaconda3/envs/mxnet_p36/lib/python3.6/site-packages (from scikit-learn>=0.22.2.post1->bertopic) (2.1.0)\n",
      "Collecting transformers<5.0.0,>=4.6.0\n",
      "  Downloading transformers-4.17.0-py3-none-any.whl (3.8 MB)\n",
      "     |████████████████████████████████| 3.8 MB 109.5 MB/s            \n",
      "\u001b[?25hCollecting torchvision\n",
      "  Downloading torchvision-0.11.2-cp36-cp36m-manylinux1_x86_64.whl (23.3 MB)\n",
      "     |████████████████████████████████| 23.3 MB 22.4 MB/s            \n",
      "\u001b[?25hRequirement already satisfied: nltk in /home/ec2-user/anaconda3/envs/mxnet_p36/lib/python3.6/site-packages (from sentence-transformers>=0.4.1->bertopic) (3.4.4)\n",
      "Collecting sentencepiece\n",
      "  Downloading sentencepiece-0.1.96-cp36-cp36m-manylinux_2_17_x86_64.manylinux2014_x86_64.whl (1.2 MB)\n",
      "     |████████████████████████████████| 1.2 MB 105.6 MB/s            \n",
      "\u001b[?25hCollecting huggingface-hub\n",
      "  Downloading huggingface_hub-0.4.0-py3-none-any.whl (67 kB)\n",
      "     |████████████████████████████████| 67 kB 992 kB/s              \n",
      "\u001b[?25hRequirement already satisfied: typing-extensions in /home/ec2-user/anaconda3/envs/mxnet_p36/lib/python3.6/site-packages (from torch>=1.4.0->bertopic) (4.0.1)\n",
      "Requirement already satisfied: dataclasses in /home/ec2-user/anaconda3/envs/mxnet_p36/lib/python3.6/site-packages (from torch>=1.4.0->bertopic) (0.8)\n",
      "Requirement already satisfied: numba>=0.49 in /home/ec2-user/anaconda3/envs/mxnet_p36/lib/python3.6/site-packages (from umap-learn>=0.5.0->bertopic) (0.52.0)\n",
      "Collecting pynndescent>=0.5\n",
      "  Downloading pynndescent-0.5.6.tar.gz (1.1 MB)\n",
      "     |████████████████████████████████| 1.1 MB 73.5 MB/s            \n",
      "\u001b[?25h  Preparing metadata (setup.py) ... \u001b[?25ldone\n",
      "\u001b[?25hRequirement already satisfied: llvmlite<0.36,>=0.35.0 in /home/ec2-user/anaconda3/envs/mxnet_p36/lib/python3.6/site-packages (from numba>=0.49->umap-learn>=0.5.0->bertopic) (0.35.0)\n",
      "Requirement already satisfied: setuptools in /home/ec2-user/anaconda3/envs/mxnet_p36/lib/python3.6/site-packages (from numba>=0.49->umap-learn>=0.5.0->bertopic) (49.6.0.post20210108)\n",
      "Collecting sacremoses\n",
      "  Downloading sacremoses-0.0.47-py2.py3-none-any.whl (895 kB)\n",
      "     |████████████████████████████████| 895 kB 89.3 MB/s            \n",
      "\u001b[?25hRequirement already satisfied: requests in /home/ec2-user/anaconda3/envs/mxnet_p36/lib/python3.6/site-packages (from transformers<5.0.0,>=4.6.0->sentence-transformers>=0.4.1->bertopic) (2.26.0)\n",
      "Requirement already satisfied: filelock in /home/ec2-user/anaconda3/envs/mxnet_p36/lib/python3.6/site-packages (from transformers<5.0.0,>=4.6.0->sentence-transformers>=0.4.1->bertopic) (3.0.12)\n",
      "Requirement already satisfied: pyyaml>=5.1 in /home/ec2-user/anaconda3/envs/mxnet_p36/lib/python3.6/site-packages (from transformers<5.0.0,>=4.6.0->sentence-transformers>=0.4.1->bertopic) (5.4.1)\n",
      "Requirement already satisfied: importlib-metadata in /home/ec2-user/anaconda3/envs/mxnet_p36/lib/python3.6/site-packages (from transformers<5.0.0,>=4.6.0->sentence-transformers>=0.4.1->bertopic) (3.7.0)\n",
      "Requirement already satisfied: packaging>=20.0 in /home/ec2-user/anaconda3/envs/mxnet_p36/lib/python3.6/site-packages (from transformers<5.0.0,>=4.6.0->sentence-transformers>=0.4.1->bertopic) (21.3)\n",
      "Requirement already satisfied: regex!=2019.12.17 in /home/ec2-user/anaconda3/envs/mxnet_p36/lib/python3.6/site-packages (from transformers<5.0.0,>=4.6.0->sentence-transformers>=0.4.1->bertopic) (2020.11.13)\n",
      "Collecting tokenizers!=0.11.3,>=0.11.1\n",
      "  Downloading tokenizers-0.11.6-cp36-cp36m-manylinux_2_12_x86_64.manylinux2010_x86_64.whl (6.5 MB)\n",
      "     |████████████████████████████████| 6.5 MB 21.0 MB/s            \n",
      "\u001b[?25hRequirement already satisfied: pillow!=8.3.0,>=5.3.0 in /home/ec2-user/anaconda3/envs/mxnet_p36/lib/python3.6/site-packages (from torchvision->sentence-transformers>=0.4.1->bertopic) (8.4.0)\n",
      "Collecting torch>=1.4.0\n",
      "  Downloading torch-1.10.1-cp36-cp36m-manylinux1_x86_64.whl (881.9 MB)\n",
      "     |████████████▌                   | 344.4 MB 137.1 MB/s eta 0:00:04"
     ]
    },
    {
     "name": "stderr",
     "output_type": "stream",
     "text": [
      "IOPub data rate exceeded.\n",
      "The notebook server will temporarily stop sending output\n",
      "to the client in order to avoid crashing it.\n",
      "To change this limit, set the config variable\n",
      "`--NotebookApp.iopub_data_rate_limit`.\n",
      "\n",
      "Current values:\n",
      "NotebookApp.iopub_data_rate_limit=1000000.0 (bytes/sec)\n",
      "NotebookApp.rate_limit_window=3.0 (secs)\n",
      "\n"
     ]
    },
    {
     "name": "stdout",
     "output_type": "stream",
     "text": [
      "     |████████████████████████▉       | 683.1 MB 137.5 MB/s eta 0:00:02"
     ]
    },
    {
     "name": "stderr",
     "output_type": "stream",
     "text": [
      "IOPub data rate exceeded.\n",
      "The notebook server will temporarily stop sending output\n",
      "to the client in order to avoid crashing it.\n",
      "To change this limit, set the config variable\n",
      "`--NotebookApp.iopub_data_rate_limit`.\n",
      "\n",
      "Current values:\n",
      "NotebookApp.iopub_data_rate_limit=1000000.0 (bytes/sec)\n",
      "NotebookApp.rate_limit_window=3.0 (secs)\n",
      "\n"
     ]
    },
    {
     "name": "stdout",
     "output_type": "stream",
     "text": [
      "     |████████████████████████████████| 881.9 MB 7.5 kB/s              \n",
      "\u001b[?25hRequirement already satisfied: pyparsing!=3.0.5,>=2.0.2 in /home/ec2-user/anaconda3/envs/mxnet_p36/lib/python3.6/site-packages (from packaging>=20.0->transformers<5.0.0,>=4.6.0->sentence-transformers>=0.4.1->bertopic) (2.4.7)\n",
      "Requirement already satisfied: zipp>=0.5 in /home/ec2-user/anaconda3/envs/mxnet_p36/lib/python3.6/site-packages (from importlib-metadata->transformers<5.0.0,>=4.6.0->sentence-transformers>=0.4.1->bertopic) (3.4.0)\n",
      "Requirement already satisfied: urllib3<1.27,>=1.21.1 in /home/ec2-user/anaconda3/envs/mxnet_p36/lib/python3.6/site-packages (from requests->transformers<5.0.0,>=4.6.0->sentence-transformers>=0.4.1->bertopic) (1.26.7)\n",
      "Requirement already satisfied: certifi>=2017.4.17 in /home/ec2-user/anaconda3/envs/mxnet_p36/lib/python3.6/site-packages (from requests->transformers<5.0.0,>=4.6.0->sentence-transformers>=0.4.1->bertopic) (2021.5.30)\n",
      "Requirement already satisfied: charset-normalizer~=2.0.0 in /home/ec2-user/anaconda3/envs/mxnet_p36/lib/python3.6/site-packages (from requests->transformers<5.0.0,>=4.6.0->sentence-transformers>=0.4.1->bertopic) (2.0.9)\n",
      "Requirement already satisfied: idna<4,>=2.5 in /home/ec2-user/anaconda3/envs/mxnet_p36/lib/python3.6/site-packages (from requests->transformers<5.0.0,>=4.6.0->sentence-transformers>=0.4.1->bertopic) (3.1)\n",
      "Requirement already satisfied: click in /home/ec2-user/anaconda3/envs/mxnet_p36/lib/python3.6/site-packages (from sacremoses->transformers<5.0.0,>=4.6.0->sentence-transformers>=0.4.1->bertopic) (7.1.2)\n",
      "Building wheels for collected packages: hdbscan, sentence-transformers, umap-learn, pynndescent\n",
      "  Building wheel for hdbscan (pyproject.toml) ... \u001b[?25ldone\n",
      "\u001b[?25h  Created wheel for hdbscan: filename=hdbscan-0.8.27-cp36-cp36m-linux_x86_64.whl size=805388 sha256=0f60dbef69f251c5ae39010223d314c4b1fd5a9a4e72dcc1530ee5895eb844f0\n",
      "  Stored in directory: /home/ec2-user/.cache/pip/wheels/70/52/fe/83ef5a0e879c48df9968d931d41046226e4cb19a166f0223d2\n",
      "  Building wheel for sentence-transformers (setup.py) ... \u001b[?25ldone\n",
      "\u001b[?25h  Created wheel for sentence-transformers: filename=sentence_transformers-2.2.0-py3-none-any.whl size=120747 sha256=36dad4e767b556943a543a1f4719940464b49cc5e6e976eb36db6c1fbf9e6e32\n",
      "  Stored in directory: /home/ec2-user/.cache/pip/wheels/ce/2d/86/18ade2fbe66e17694cf8f5667a68d2bd06a65bce42546ea675\n",
      "  Building wheel for umap-learn (setup.py) ... \u001b[?25ldone\n",
      "\u001b[?25h  Created wheel for umap-learn: filename=umap_learn-0.5.2-py3-none-any.whl size=82696 sha256=063f51203b497276ecbffa370d72e390a1106d98e8d428428565d2458c6eb6c8\n",
      "  Stored in directory: /home/ec2-user/.cache/pip/wheels/21/13/d2/20d08b12788c5c75e5e02cba181b9c8f1e4cdc8616aabf9209\n",
      "  Building wheel for pynndescent (setup.py) ... \u001b[?25ldone\n",
      "\u001b[?25h  Created wheel for pynndescent: filename=pynndescent-0.5.6-py3-none-any.whl size=53931 sha256=716df57c299b92273ed137b7babe80cfe6c281937c0e7afa29ad9a20fb664108\n",
      "  Stored in directory: /home/ec2-user/.cache/pip/wheels/84/0d/b8/fe1e8979b56095e4ea147085c997acf209f61e758765074f5a\n",
      "Successfully built hdbscan sentence-transformers umap-learn pynndescent\n",
      "Installing collected packages: torch, tokenizers, sacremoses, huggingface-hub, transformers, torchvision, sentencepiece, pynndescent, umap-learn, sentence-transformers, hdbscan, bertopic\n",
      "Successfully installed bertopic-0.6.0 hdbscan-0.8.27 huggingface-hub-0.4.0 pynndescent-0.5.6 sacremoses-0.0.47 sentence-transformers-2.2.0 sentencepiece-0.1.96 tokenizers-0.11.6 torch-1.10.1 torchvision-0.11.2 transformers-4.17.0 umap-learn-0.5.2\n"
     ]
    }
   ],
   "source": [
    "!pip install bertopic\n",
    "!pip uninstall umap\n",
    "!pip install umap-learn\n",
    "!pip install stop-words"
   ]
  },
  {
   "cell_type": "markdown",
   "id": "f4cf52ab",
   "metadata": {},
   "source": [
    "## BERTOPIC"
   ]
  },
  {
   "cell_type": "code",
   "execution_count": 2,
   "id": "348a15b7",
   "metadata": {},
   "outputs": [],
   "source": [
    "from bertopic import BERTopic\n",
    "m = BERTopic(embedding_model='sentence-transformers/all-mpnet-base-v2', calculate_probabilities=True, verbose=True)"
   ]
  },
  {
   "cell_type": "code",
   "execution_count": 3,
   "id": "81a397af",
   "metadata": {},
   "outputs": [],
   "source": [
    "def extract_topics(texts, distance_thresh=0.035, model=m):\n",
    "    topic_labels = model.transform(texts)[0]\n",
    "    topic_dict = {}\n",
    "    for idx, ID in enumerate(topic_labels):\n",
    "        topics = model.get_topic(ID)\n",
    "        for t in topics:\n",
    "            topic = t[0]\n",
    "            dist = t[1]\n",
    "            if dist > distance_thresh:\n",
    "                if not topic_dict.get(topic):\n",
    "                    topic_dict[topic] = [ texts[idx] ] \n",
    "                else:\n",
    "                    sents = topic_dict[topic] + [texts[idx]]\n",
    "                    topic_dict[topic] = sents\n",
    "    return topic_dict"
   ]
  },
  {
   "cell_type": "code",
   "execution_count": 32,
   "id": "1ec16dff",
   "metadata": {},
   "outputs": [],
   "source": [
    "from stop_words import get_stop_words\n",
    "def get_topic_name(topic_id, m, take=3,):\n",
    "    try:\n",
    "        ts = m.get_topic(topic_id)\n",
    "        ts = [word[0] for word in ts if word not in get_stop_words('english')]\n",
    "\n",
    "        name = \"\"\n",
    "        for t in ts[:take]:\n",
    "            name += t\n",
    "            name += \" \"\n",
    "        return name.strip()\n",
    "    except Exception as e:\n",
    "        print(\"Except\", topic_id, e)\n",
    "        return None"
   ]
  },
  {
   "cell_type": "code",
   "execution_count": 46,
   "id": "d527c291",
   "metadata": {},
   "outputs": [
    {
     "name": "stdout",
     "output_type": "stream",
     "text": [
      "25k_enriched_small.csv\t60k_core_all.csv  core_pos_min.csv  df1.csv  df2.csv\n"
     ]
    }
   ],
   "source": [
    "!ls downloads/"
   ]
  },
  {
   "cell_type": "code",
   "execution_count": 5,
   "id": "6056d497",
   "metadata": {},
   "outputs": [],
   "source": [
    "df=df.sample(frac=1)"
   ]
  },
  {
   "cell_type": "code",
   "execution_count": 47,
   "id": "d4aee23d",
   "metadata": {},
   "outputs": [],
   "source": [
    "df1 = df[40000:]"
   ]
  },
  {
   "cell_type": "code",
   "execution_count": 48,
   "id": "55381bcc",
   "metadata": {},
   "outputs": [],
   "source": [
    "sents1= list(df1[\"text\"])"
   ]
  },
  {
   "cell_type": "code",
   "execution_count": 49,
   "id": "ad1040c7",
   "metadata": {},
   "outputs": [
    {
     "data": {
      "application/vnd.jupyter.widget-view+json": {
       "model_id": "6a6360a25ba14537a1cc4d78bd8634d9",
       "version_major": 2,
       "version_minor": 0
      },
      "text/plain": [
       "Batches:   0%|          | 0/830 [00:00<?, ?it/s]"
      ]
     },
     "metadata": {},
     "output_type": "display_data"
    },
    {
     "name": "stderr",
     "output_type": "stream",
     "text": [
      "2022-03-07 23:15:38,200 - BERTopic - Transformed documents to Embeddings\n",
      "2022-03-07 23:15:59,403 - BERTopic - Reduced dimensionality with UMAP\n",
      "2022-03-07 23:22:21,221 - BERTopic - Clustered UMAP embeddings with HDBSCAN\n"
     ]
    }
   ],
   "source": [
    "topics, probs = m.fit_transform(sents1)\n",
    "#4:27"
   ]
  },
  {
   "cell_type": "code",
   "execution_count": 50,
   "id": "c51880d7",
   "metadata": {},
   "outputs": [
    {
     "data": {
      "text/plain": [
       "[5, 223]"
      ]
     },
     "execution_count": 50,
     "metadata": {},
     "output_type": "execute_result"
    }
   ],
   "source": [
    "topics[:2]"
   ]
  },
  {
   "cell_type": "code",
   "execution_count": 51,
   "id": "3c9b5e21",
   "metadata": {},
   "outputs": [
    {
     "data": {
      "text/plain": [
       "'listeria monocytogenes listeriosis'"
      ]
     },
     "execution_count": 51,
     "metadata": {},
     "output_type": "execute_result"
    }
   ],
   "source": [
    "get_topic_name(22, m, 3)\n",
    "#tuberculosis tb mycobacterium'"
   ]
  },
  {
   "cell_type": "code",
   "execution_count": 52,
   "id": "e51ba908",
   "metadata": {},
   "outputs": [
    {
     "name": "stderr",
     "output_type": "stream",
     "text": [
      "/home/ec2-user/anaconda3/envs/mxnet_p36/lib/python3.6/site-packages/ipykernel/__main__.py:2: SettingWithCopyWarning:\n",
      "\n",
      "\n",
      "A value is trying to be set on a copy of a slice from a DataFrame.\n",
      "Try using .loc[row_indexer,col_indexer] = value instead\n",
      "\n",
      "See the caveats in the documentation: https://pandas.pydata.org/pandas-docs/stable/user_guide/indexing.html#returning-a-view-versus-a-copy\n",
      "\n",
      "/home/ec2-user/anaconda3/envs/mxnet_p36/lib/python3.6/site-packages/ipykernel/__main__.py:3: SettingWithCopyWarning:\n",
      "\n",
      "\n",
      "A value is trying to be set on a copy of a slice from a DataFrame.\n",
      "Try using .loc[row_indexer,col_indexer] = value instead\n",
      "\n",
      "See the caveats in the documentation: https://pandas.pydata.org/pandas-docs/stable/user_guide/indexing.html#returning-a-view-versus-a-copy\n",
      "\n",
      "/home/ec2-user/anaconda3/envs/mxnet_p36/lib/python3.6/site-packages/ipykernel/__main__.py:4: SettingWithCopyWarning:\n",
      "\n",
      "\n",
      "A value is trying to be set on a copy of a slice from a DataFrame.\n",
      "Try using .loc[row_indexer,col_indexer] = value instead\n",
      "\n",
      "See the caveats in the documentation: https://pandas.pydata.org/pandas-docs/stable/user_guide/indexing.html#returning-a-view-versus-a-copy\n",
      "\n"
     ]
    }
   ],
   "source": [
    "import numpy as np\n",
    "df1[\"probs\"] = [list(reversed(list(np.argpartition(ps, -3)[-3:]))) for ps in probs]\n",
    "df1[\"topic_id\"] = topics\n",
    "df1[\"topic_name\"] = df1[\"topic_id\"].apply(lambda t: get_topic_name(t,m, 3))\n",
    "df1.to_csv (\"downloads/df3.csv\", index = False, header=True)"
   ]
  },
  {
   "cell_type": "code",
   "execution_count": 54,
   "id": "ee187549",
   "metadata": {},
   "outputs": [],
   "source": [
    "df2 = pd.read_csv(\"downloads/df2.csv\")\n",
    "df0 = pd.read_csv(\"downloads/df1.csv\")"
   ]
  },
  {
   "cell_type": "code",
   "execution_count": 56,
   "id": "28194baf",
   "metadata": {},
   "outputs": [],
   "source": [
    "df = df0.append(df1).append(df2)"
   ]
  },
  {
   "cell_type": "code",
   "execution_count": 59,
   "id": "3cf145e4",
   "metadata": {},
   "outputs": [],
   "source": [
    "df.to_csv (\"downloads/65k_enriched_topic.csv\", index = False, header=True)"
   ]
  },
  {
   "cell_type": "code",
   "execution_count": 12,
   "id": "b2e22a0e",
   "metadata": {},
   "outputs": [],
   "source": [
    "import numpy as np\n",
    "def stepwise(step, df, f, key):\n",
    "    l = []\n",
    "    tn=[]\n",
    "    for idx in range(step, len(df)+step-1, step):\n",
    "        m = BERTopic(embedding_model='sentence-transformers/all-mpnet-base-v2', calculate_probabilities=True, verbose=True)\n",
    "        print(idx-step, idx)# dataframe[idx-step:idx])\n",
    "        sl = df[idx-step:idx][key]\n",
    "        batch = m.fit_transform(list(sl))\n",
    "        l = l + list([batch])\n",
    "#         print(batch[1])\n",
    "        probs = [list(reversed(list(np.argpartition(ps, -3)[-3:]))) for ps in batch[1]]\n",
    "        t_names = [get_topic_name(p[0], m, 3) for p in probs]\n",
    "        tn += [t_names]\n",
    "    return l, tn"
   ]
  },
  {
   "cell_type": "code",
   "execution_count": 15,
   "id": "77b4b9d3",
   "metadata": {},
   "outputs": [],
   "source": [
    "#batches, t_names = stepwise(100, df[:300], m.fit_transform, \"text\")"
   ]
  },
  {
   "cell_type": "code",
   "execution_count": 80,
   "id": "4f85cd4b",
   "metadata": {},
   "outputs": [],
   "source": [
    "def flatten(l):\n",
    "    return [item for sublist in l for item in sublist]\n"
   ]
  },
  {
   "cell_type": "code",
   "execution_count": null,
   "id": "0cbd9787",
   "metadata": {},
   "outputs": [
    {
     "data": {
      "text/plain": [
       "(2, 66547)"
      ]
     },
     "execution_count": 87,
     "metadata": {},
     "output_type": "execute_result"
    }
   ],
   "source": [
    "t =[]\n",
    "ps = []\n",
    "for batch in batches:\n",
    "    #print(batch[0])\n",
    "    t += [batch[0]]\n",
    "    ps += [batch[1]]\n",
    "#        a+=[t]\n",
    "\n",
    "a = [flatten(t), flatten(ps)]\n",
    "len(a), len(a[0])"
   ]
  },
  {
   "cell_type": "code",
   "execution_count": null,
   "id": "b275396d",
   "metadata": {},
   "outputs": [],
   "source": [
    "topics,probs = a"
   ]
  },
  {
   "cell_type": "code",
   "execution_count": null,
   "id": "cb996718",
   "metadata": {},
   "outputs": [],
   "source": [
    "# td = extract_topics(sentences)"
   ]
  },
  {
   "cell_type": "code",
   "execution_count": null,
   "id": "d427613f",
   "metadata": {},
   "outputs": [],
   "source": []
  },
  {
   "cell_type": "code",
   "execution_count": 94,
   "id": "e087704f",
   "metadata": {},
   "outputs": [],
   "source": [
    "import numpy as np"
   ]
  },
  {
   "cell_type": "code",
   "execution_count": 102,
   "id": "828ab715",
   "metadata": {},
   "outputs": [
    {
     "data": {
      "text/plain": [
       "array([<class 'list'>], dtype=object)"
      ]
     },
     "execution_count": 102,
     "metadata": {},
     "output_type": "execute_result"
    }
   ],
   "source": [
    "df[\"probs\"].map(type).unique()"
   ]
  },
  {
   "cell_type": "code",
   "execution_count": 104,
   "id": "dcc8e17c",
   "metadata": {},
   "outputs": [
    {
     "data": {
      "text/plain": [
       "False"
      ]
     },
     "execution_count": 104,
     "metadata": {},
     "output_type": "execute_result"
    }
   ],
   "source": [
    "m.get_topic()"
   ]
  },
  {
   "cell_type": "code",
   "execution_count": 101,
   "id": "a5b79f6f",
   "metadata": {},
   "outputs": [
    {
     "data": {
      "text/plain": [
       "['amyotrophic',\n",
       " 'als',\n",
       " 'sclerosis',\n",
       " 'neuron',\n",
       " 'neurons',\n",
       " 'neurodegenerative',\n",
       " 'spinal',\n",
       " 'degeneration',\n",
       " 'death',\n",
       " 'neurone']"
      ]
     },
     "execution_count": 101,
     "metadata": {},
     "output_type": "execute_result"
    }
   ],
   "source": [
    "\n",
    "[word[0] for word in m.get_topic(14) if word not in get_stop_words('english')]"
   ]
  },
  {
   "cell_type": "code",
   "execution_count": null,
   "id": "c36981a4",
   "metadata": {},
   "outputs": [],
   "source": []
  },
  {
   "cell_type": "code",
   "execution_count": 237,
   "id": "8f2ef01b",
   "metadata": {},
   "outputs": [],
   "source": [
    "df = df.rename(columns={\"sentence_id\": \"problem_id\"})"
   ]
  },
  {
   "cell_type": "code",
   "execution_count": 2,
   "id": "cf63e063",
   "metadata": {},
   "outputs": [
    {
     "data": {
      "text/html": [
       "<div>\n",
       "<style scoped>\n",
       "    .dataframe tbody tr th:only-of-type {\n",
       "        vertical-align: middle;\n",
       "    }\n",
       "\n",
       "    .dataframe tbody tr th {\n",
       "        vertical-align: top;\n",
       "    }\n",
       "\n",
       "    .dataframe thead th {\n",
       "        text-align: right;\n",
       "    }\n",
       "</style>\n",
       "<table border=\"1\" class=\"dataframe\">\n",
       "  <thead>\n",
       "    <tr style=\"text-align: right;\">\n",
       "      <th></th>\n",
       "      <th>first_sent</th>\n",
       "      <th>doi</th>\n",
       "      <th>coreId</th>\n",
       "      <th>oai</th>\n",
       "      <th>title</th>\n",
       "    </tr>\n",
       "  </thead>\n",
       "  <tbody>\n",
       "    <tr>\n",
       "      <th>0</th>\n",
       "      <td>Liu and Mertz (Genes Dev.</td>\n",
       "      <td>10.1128/MCB.25.15.6303-6313.2005</td>\n",
       "      <td>3717551</td>\n",
       "      <td>oai:pubmedcentral.nih.gov:1190326</td>\n",
       "      <td>Binding of hnRNP L to the Pre-mRNA Processing ...</td>\n",
       "    </tr>\n",
       "    <tr>\n",
       "      <th>1</th>\n",
       "      <td>Rett syndrome (RTT), a neurodevelopmental diso...</td>\n",
       "      <td>10.1086/382228</td>\n",
       "      <td>3710391</td>\n",
       "      <td>oai:pubmedcentral.nih.gov:1182264</td>\n",
       "      <td>X-Chromosome Inactivation Patterns Are Unbalan...</td>\n",
       "    </tr>\n",
       "    <tr>\n",
       "      <th>2</th>\n",
       "      <td>Estimating optimal sample size for microbiolog...</td>\n",
       "      <td>10.1128/AEM.69.10.6174-6178.2003</td>\n",
       "      <td>3286476</td>\n",
       "      <td>oai:pubmedcentral.nih.gov:201250</td>\n",
       "      <td>A Model To Estimate the Optimal Sample Size fo...</td>\n",
       "    </tr>\n",
       "    <tr>\n",
       "      <th>3</th>\n",
       "      <td>The antiphospholipid syndrome is a thrombotic ...</td>\n",
       "      <td>NaN</td>\n",
       "      <td>8064782</td>\n",
       "      <td>oai:pubmedcentral.nih.gov:2398067</td>\n",
       "      <td>Antiphospholipid syndrome in a patient with ra...</td>\n",
       "    </tr>\n",
       "    <tr>\n",
       "      <th>4</th>\n",
       "      <td>Alcohol dependence (AD) is a complex disorder ...</td>\n",
       "      <td>NaN</td>\n",
       "      <td>8674979</td>\n",
       "      <td>oai:pubmedcentral.nih.gov:3266269</td>\n",
       "      <td>Genome-Wide Association Study of Copy Number V...</td>\n",
       "    </tr>\n",
       "    <tr>\n",
       "      <th>...</th>\n",
       "      <td>...</td>\n",
       "      <td>...</td>\n",
       "      <td>...</td>\n",
       "      <td>...</td>\n",
       "      <td>...</td>\n",
       "    </tr>\n",
       "    <tr>\n",
       "      <th>42196</th>\n",
       "      <td>Autism spectrum disorder (ASD) is a common neu...</td>\n",
       "      <td>NaN</td>\n",
       "      <td>8273706</td>\n",
       "      <td>oai:pubmedcentral.nih.gov:2662567</td>\n",
       "      <td>The genetic and neurobiologic compass points t...</td>\n",
       "    </tr>\n",
       "    <tr>\n",
       "      <th>42197</th>\n",
       "      <td>This paper revisits the problem of the readine...</td>\n",
       "      <td>NaN</td>\n",
       "      <td>8689613</td>\n",
       "      <td>oai:pubmedcentral.nih.gov:3291942</td>\n",
       "      <td>On the Relevance of Using Open Wireless Sensor...</td>\n",
       "    </tr>\n",
       "    <tr>\n",
       "      <th>42198</th>\n",
       "      <td>Thyroid cancer is a rare disease.</td>\n",
       "      <td>NaN</td>\n",
       "      <td>8126095</td>\n",
       "      <td>oai:pubmedcentral.nih.gov:2466601</td>\n",
       "      <td>Thyroid carcinoma and its treatment</td>\n",
       "    </tr>\n",
       "    <tr>\n",
       "      <th>42199</th>\n",
       "      <td>Hyperosmolar hyperglycaemic state (HHS) is a m...</td>\n",
       "      <td>NaN</td>\n",
       "      <td>8696563</td>\n",
       "      <td>oai:pubmedcentral.nih.gov:3302717</td>\n",
       "      <td>A case of hyperosmolar hyperglycaemic state wi...</td>\n",
       "    </tr>\n",
       "    <tr>\n",
       "      <th>42200</th>\n",
       "      <td>Craniopharyngiomas are difficult to treat.</td>\n",
       "      <td>NaN</td>\n",
       "      <td>8729638</td>\n",
       "      <td>oai:pubmedcentral.nih.gov:3356029</td>\n",
       "      <td>Outcome of Endoscopy-Assisted Microscopic Exte...</td>\n",
       "    </tr>\n",
       "  </tbody>\n",
       "</table>\n",
       "<p>42201 rows × 5 columns</p>\n",
       "</div>"
      ],
      "text/plain": [
       "                                              first_sent  \\\n",
       "0                              Liu and Mertz (Genes Dev.   \n",
       "1      Rett syndrome (RTT), a neurodevelopmental diso...   \n",
       "2      Estimating optimal sample size for microbiolog...   \n",
       "3      The antiphospholipid syndrome is a thrombotic ...   \n",
       "4      Alcohol dependence (AD) is a complex disorder ...   \n",
       "...                                                  ...   \n",
       "42196  Autism spectrum disorder (ASD) is a common neu...   \n",
       "42197  This paper revisits the problem of the readine...   \n",
       "42198                  Thyroid cancer is a rare disease.   \n",
       "42199  Hyperosmolar hyperglycaemic state (HHS) is a m...   \n",
       "42200         Craniopharyngiomas are difficult to treat.   \n",
       "\n",
       "                                    doi   coreId  \\\n",
       "0      10.1128/MCB.25.15.6303-6313.2005  3717551   \n",
       "1                        10.1086/382228  3710391   \n",
       "2      10.1128/AEM.69.10.6174-6178.2003  3286476   \n",
       "3                                   NaN  8064782   \n",
       "4                                   NaN  8674979   \n",
       "...                                 ...      ...   \n",
       "42196                               NaN  8273706   \n",
       "42197                               NaN  8689613   \n",
       "42198                               NaN  8126095   \n",
       "42199                               NaN  8696563   \n",
       "42200                               NaN  8729638   \n",
       "\n",
       "                                     oai  \\\n",
       "0      oai:pubmedcentral.nih.gov:1190326   \n",
       "1      oai:pubmedcentral.nih.gov:1182264   \n",
       "2       oai:pubmedcentral.nih.gov:201250   \n",
       "3      oai:pubmedcentral.nih.gov:2398067   \n",
       "4      oai:pubmedcentral.nih.gov:3266269   \n",
       "...                                  ...   \n",
       "42196  oai:pubmedcentral.nih.gov:2662567   \n",
       "42197  oai:pubmedcentral.nih.gov:3291942   \n",
       "42198  oai:pubmedcentral.nih.gov:2466601   \n",
       "42199  oai:pubmedcentral.nih.gov:3302717   \n",
       "42200  oai:pubmedcentral.nih.gov:3356029   \n",
       "\n",
       "                                                   title  \n",
       "0      Binding of hnRNP L to the Pre-mRNA Processing ...  \n",
       "1      X-Chromosome Inactivation Patterns Are Unbalan...  \n",
       "2      A Model To Estimate the Optimal Sample Size fo...  \n",
       "3      Antiphospholipid syndrome in a patient with ra...  \n",
       "4      Genome-Wide Association Study of Copy Number V...  \n",
       "...                                                  ...  \n",
       "42196  The genetic and neurobiologic compass points t...  \n",
       "42197  On the Relevance of Using Open Wireless Sensor...  \n",
       "42198                Thyroid carcinoma and its treatment  \n",
       "42199  A case of hyperosmolar hyperglycaemic state wi...  \n",
       "42200  Outcome of Endoscopy-Assisted Microscopic Exte...  \n",
       "\n",
       "[42201 rows x 5 columns]"
      ]
     },
     "execution_count": 2,
     "metadata": {},
     "output_type": "execute_result"
    }
   ],
   "source": [
    "df"
   ]
  },
  {
   "cell_type": "code",
   "execution_count": null,
   "id": "43e35395",
   "metadata": {},
   "outputs": [],
   "source": []
  }
 ],
 "metadata": {
  "kernelspec": {
   "display_name": "conda_mxnet_p36",
   "language": "python",
   "name": "conda_mxnet_p36"
  },
  "language_info": {
   "codemirror_mode": {
    "name": "ipython",
    "version": 3
   },
   "file_extension": ".py",
   "mimetype": "text/x-python",
   "name": "python",
   "nbconvert_exporter": "python",
   "pygments_lexer": "ipython3",
   "version": "3.6.13"
  }
 },
 "nbformat": 4,
 "nbformat_minor": 5
}
