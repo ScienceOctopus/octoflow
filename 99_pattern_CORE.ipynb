{
 "cells": [
  {
   "cell_type": "markdown",
   "id": "f6d403b5",
   "metadata": {},
   "source": [
    "# Pattern Sanity Check on CORE Abstracts"
   ]
  },
  {
   "cell_type": "code",
   "execution_count": null,
   "id": "e9646497",
   "metadata": {},
   "outputs": [],
   "source": [
    "%load_ext autoreload\n",
    "%autoreload 2"
   ]
  },
  {
   "cell_type": "code",
   "execution_count": null,
   "id": "aea7a8d9",
   "metadata": {},
   "outputs": [
    {
     "data": {
      "text/plain": [
       "(2956,\n",
       " ['with this', 'problem with', 'main drawback'],\n",
       " {'doi': '10.1029/2006GL027886',\n",
       "  'coreId': '71102',\n",
       "  'oai': 'oai:eprints.lancs.ac.uk:6706',\n",
       "  'identifiers': ['oai:eprints.lancs.ac.uk:6706', '10.1029/2006GL027886'],\n",
       "  'title': 'Transport of plasma sheet material to the inner magnetosphere',\n",
       "  'authors': ['Denton, M. H.',\n",
       "   'Thomsen, M. F.',\n",
       "   'Borovsky, J. E.',\n",
       "   'Lavraud, B.',\n",
       "   'Henderson, M. G.',\n",
       "   'Skoug, R. M.',\n",
       "   'Funsten, H. O.',\n",
       "   'Jahn, J.M.',\n",
       "   'Pollock, C. J.',\n",
       "   'Weygand, J. M.'],\n",
       "  'enrichments': {'references': [], 'documentType': {'type': None}},\n",
       "  'contributors': [],\n",
       "  'datePublished': '2007',\n",
       "  'abstract': 'The reaction of the plasma sheet in response to an increase in magnetospheric convection is examined using a combination of energetic neutral atom (ENA) imaging and in situ observations. Data from the IMAGE/MENA instrument are examined in conjunction with observations from the magnetospheric plasma analyzer (MPA) instrument onboard the Los Alamos 1994-084 satellite located in geosynchronous orbit. Examination of the MENA data during an enhanced convection event reveal that between 12:00 and 14:30 UT on 26 June 2001, ENA emissions from the plasma sheet material are observed to strengthen and move Earthwards. A simple calculation of the motion of the peak in ENA emissions following an increase in the convection gives an averaged speed of this sunward surge of around 8 km s−1 between 12:00 and 14:30 UT',\n",
       "  'downloadUrl': '',\n",
       "  'fullTextIdentifier': None,\n",
       "  'pdfHashValue': None,\n",
       "  'publisher': None,\n",
       "  'rawRecordXml': '<record><header><identifier>\\n    \\n    \\n      oai:eprints.lancs.ac.uk:6706</identifier><datestamp>\\n      2018-01-24T03:15:57Z</datestamp><setSpec>\\n      7374617475733D707562</setSpec><setSpec>\\n      7375626A656374733D54:5431</setSpec><setSpec>\\n      74797065733D61727469636C65</setSpec></header><metadata><oai_dc:dc xmlns:oai_dc=\"http://www.openarchives.org/OAI/2.0/oai_dc/\" xmlns:dc=\"http://purl.org/dc/elements/1.1/\" xmlns:xsi=\"http://www.w3.org/2001/XMLSchema-instance\" xsi:schemaLocation=\"http://www.openarchives.org/OAI/2.0/oai_dc/ http://www.openarchives.org/OAI/2.0/oai_dc.xsd\" ><dc:title>\\n    \\n      \\n        Transport of plasma sheet material to the inner magnetosphere</dc:title><dc:creator>\\n        Denton, M. H.</dc:creator><dc:creator>\\n        Thomsen, M. F.</dc:creator><dc:creator>\\n        Borovsky, J. E.</dc:creator><dc:creator>\\n        Lavraud, B.</dc:creator><dc:creator>\\n        Henderson, M. G.</dc:creator><dc:creator>\\n        Skoug, R. M.</dc:creator><dc:creator>\\n        Funsten, H. O.</dc:creator><dc:creator>\\n        Jahn, J.M.</dc:creator><dc:creator>\\n        Pollock, C. J.</dc:creator><dc:creator>\\n        Weygand, J. M.</dc:creator><dc:subject>\\n        T Technology (General)</dc:subject><dc:description>\\n        The reaction of the plasma sheet in response to an increase in magnetospheric convection is examined using a combination of energetic neutral atom (ENA) imaging and in situ observations. Data from the IMAGE/MENA instrument are examined in conjunction with observations from the magnetospheric plasma analyzer (MPA) instrument onboard the Los Alamos 1994-084 satellite located in geosynchronous orbit. Examination of the MENA data during an enhanced convection event reveal that between 12:00 and 14:30 UT on 26 June 2001, ENA emissions from the plasma sheet material are observed to strengthen and move Earthwards. A simple calculation of the motion of the peak in ENA emissions following an increase in the convection gives an averaged speed of this sunward surge of around 8 km s−1 between 12:00 and 14:30 UT.</dc:description><dc:date>\\n        2007</dc:date><dc:type>\\n        Journal Article</dc:type><dc:type>\\n        PeerReviewed</dc:type><dc:relation>\\n        http://dx.doi.org/10.1029/2006GL027886</dc:relation><dc:identifier>\\n        Denton, M. H. and Thomsen, M. F. and Borovsky, J. E. and Lavraud, B. and Henderson, M. G. and Skoug, R. M. and Funsten, H. O. and Jahn, J.M. and Pollock, C. J. and Weygand, J. M. (2007) Transport of plasma sheet material to the inner magnetosphere. Geophysical Research Letters, 34 (L04105). pp. 1-5. ISSN 0094-8276</dc:identifier><dc:relation>\\n        http://eprints.lancs.ac.uk/6706/</dc:relation></oai_dc:dc></metadata></record>',\n",
       "  'journals': None,\n",
       "  'language': None,\n",
       "  'relations': ['http://dx.doi.org/10.1029/2006GL027886',\n",
       "   'http://eprints.lancs.ac.uk/6706/'],\n",
       "  'year': 2007,\n",
       "  'topics': ['T Technology (General)'],\n",
       "  'subject': ['Journal Article', 'PeerReviewed'],\n",
       "  'fullText': None})"
      ]
     },
     "execution_count": null,
     "metadata": {},
     "output_type": "execute_result"
    }
   ],
   "source": [
    "import json\n",
    "\n",
    "with open(\"downloads/sample_4k.json\") as f:\n",
    "    data = json.loads(f.read())\n",
    "    #print(data['data'][0])\n",
    "\n",
    "with open(\"ngrams_pos_only_lemmatized.txt\") as f:\n",
    "    ngrams = f.read().split(\"\\n\")\n",
    "    \n",
    "d = dict(data)\n",
    "\n",
    "abst = [entry for entry in d[\"data\"] if entry[\"abstract\"]]\n",
    "\n",
    "len(abst), ngrams[:3], abst[0]"
   ]
  },
  {
   "cell_type": "code",
   "execution_count": null,
   "id": "093900d1",
   "metadata": {},
   "outputs": [],
   "source": [
    "trigrams = [gram for gram in ngrams if len(gram.split(\" \"))> 2]\n",
    "bigrams = [gram for gram in ngrams if len(gram.split(\" \")) == 2]"
   ]
  },
  {
   "cell_type": "code",
   "execution_count": null,
   "id": "011d7805",
   "metadata": {},
   "outputs": [],
   "source": [
    "from octoflow.core import lemmatize, find_sentence_in_abstract, split_into_sentences, sentence_has_phrase\n",
    "import pandas as pd"
   ]
  },
  {
   "cell_type": "code",
   "execution_count": null,
   "id": "0a83b8cc",
   "metadata": {},
   "outputs": [],
   "source": [
    "df = pd.DataFrame(abst)[[\"title\", \"doi\", \"abstract\", \"journals\"]] #fulltext"
   ]
  },
  {
   "cell_type": "code",
   "execution_count": null,
   "id": "3aa9e3f2",
   "metadata": {},
   "outputs": [],
   "source": [
    "df[\"lemma_text\"] = df[\"abstract\"].map(lemmatizetize)"
   ]
  },
  {
   "cell_type": "code",
   "execution_count": null,
   "id": "62bcfc51",
   "metadata": {},
   "outputs": [],
   "source": [
    "df.to_csv(\"downloads/core_3k_lemma_abst_only.csv\")"
   ]
  },
  {
   "cell_type": "code",
   "execution_count": null,
   "id": "8629f064",
   "metadata": {},
   "outputs": [],
   "source": [
    "hits = df[df[\"lemma_text\"].str.contains(\"|\".join(ngrams))]"
   ]
  },
  {
   "cell_type": "code",
   "execution_count": null,
   "id": "f88a1f7b",
   "metadata": {},
   "outputs": [
    {
     "data": {
      "text/html": [
       "<div>\n",
       "<style scoped>\n",
       "    .dataframe tbody tr th:only-of-type {\n",
       "        vertical-align: middle;\n",
       "    }\n",
       "\n",
       "    .dataframe tbody tr th {\n",
       "        vertical-align: top;\n",
       "    }\n",
       "\n",
       "    .dataframe thead th {\n",
       "        text-align: right;\n",
       "    }\n",
       "</style>\n",
       "<table border=\"1\" class=\"dataframe\">\n",
       "  <thead>\n",
       "    <tr style=\"text-align: right;\">\n",
       "      <th></th>\n",
       "      <th>title</th>\n",
       "      <th>doi</th>\n",
       "      <th>abstract</th>\n",
       "      <th>journals</th>\n",
       "      <th>lemma_text</th>\n",
       "    </tr>\n",
       "  </thead>\n",
       "  <tbody>\n",
       "    <tr>\n",
       "      <th>11</th>\n",
       "      <td>The single-payer option: a reconsideration</td>\n",
       "      <td>10.1215/03616878-2009-013</td>\n",
       "      <td>This article discusses some of the merits and ...</td>\n",
       "      <td>None</td>\n",
       "      <td>this article discuss some of the merit and dem...</td>\n",
       "    </tr>\n",
       "    <tr>\n",
       "      <th>38</th>\n",
       "      <td>A systematic review of the experiences and per...</td>\n",
       "      <td>10.1016/j.nedt.2009.10.017</td>\n",
       "      <td>Aim: A systematic literature review of the exp...</td>\n",
       "      <td>None</td>\n",
       "      <td>aim : a systematic literature review of the ex...</td>\n",
       "    </tr>\n",
       "    <tr>\n",
       "      <th>44</th>\n",
       "      <td>Talking with pictures: Exploring the possibili...</td>\n",
       "      <td>10.1080/0968776930010104</td>\n",
       "      <td>As multimedia computing becomes the order of t...</td>\n",
       "      <td>None</td>\n",
       "      <td>as multimedia computing become the order of th...</td>\n",
       "    </tr>\n",
       "    <tr>\n",
       "      <th>57</th>\n",
       "      <td>Cost Model for Evaluation of SDMB Service over...</td>\n",
       "      <td>10.1109/ISWCS.2005.1547789</td>\n",
       "      <td>The number of broadband users has beengrowing ...</td>\n",
       "      <td>None</td>\n",
       "      <td>the number of broadband user have beengrowe ra...</td>\n",
       "    </tr>\n",
       "    <tr>\n",
       "      <th>61</th>\n",
       "      <td>Renewable hydrogen utilisation for the product...</td>\n",
       "      <td>10.1016/j.enconman.2006.06.011</td>\n",
       "      <td>Electrolytic hydrogen production is an efficie...</td>\n",
       "      <td>[{'title': None, 'identifiers': ['issn:0196-89...</td>\n",
       "      <td>electrolytic hydrogen production be an efficie...</td>\n",
       "    </tr>\n",
       "    <tr>\n",
       "      <th>...</th>\n",
       "      <td>...</td>\n",
       "      <td>...</td>\n",
       "      <td>...</td>\n",
       "      <td>...</td>\n",
       "      <td>...</td>\n",
       "    </tr>\n",
       "    <tr>\n",
       "      <th>2887</th>\n",
       "      <td>Error management in ATLAS TDAQ : an intelligen...</td>\n",
       "      <td>None</td>\n",
       "      <td>This thesis is concerned with the use of intel...</td>\n",
       "      <td>None</td>\n",
       "      <td>this thesis be concern with the use of intelli...</td>\n",
       "    </tr>\n",
       "    <tr>\n",
       "      <th>2914</th>\n",
       "      <td>International economic analysis of primary pre...</td>\n",
       "      <td>10.1053/euhj.1999.1193</td>\n",
       "      <td>Aims: The results of the West of Scotland Coro...</td>\n",
       "      <td>None</td>\n",
       "      <td>aim : the result of the West of Scotland Coron...</td>\n",
       "    </tr>\n",
       "    <tr>\n",
       "      <th>2927</th>\n",
       "      <td>Including older people with dementia in resear...</td>\n",
       "      <td>10.1080/1360786031000150685</td>\n",
       "      <td>NoThis paper examines key challenges and strat...</td>\n",
       "      <td>None</td>\n",
       "      <td>NoThis paper examine key challenge and strateg...</td>\n",
       "    </tr>\n",
       "    <tr>\n",
       "      <th>2930</th>\n",
       "      <td>Leadership in the European Convention</td>\n",
       "      <td>10.1080/13501760701656437</td>\n",
       "      <td>Did the Chairman of the European Convention, V...</td>\n",
       "      <td>None</td>\n",
       "      <td>do the Chairman of the European Convention , V...</td>\n",
       "    </tr>\n",
       "    <tr>\n",
       "      <th>2942</th>\n",
       "      <td>Medication errors with electronic prescribing ...</td>\n",
       "      <td>10.1186/1472-6963-10-135</td>\n",
       "      <td>Background: Quantitative prospective methods a...</td>\n",
       "      <td>None</td>\n",
       "      <td>background : quantitative prospective method b...</td>\n",
       "    </tr>\n",
       "  </tbody>\n",
       "</table>\n",
       "<p>309 rows × 5 columns</p>\n",
       "</div>"
      ],
      "text/plain": [
       "                                                  title  \\\n",
       "11           The single-payer option: a reconsideration   \n",
       "38    A systematic review of the experiences and per...   \n",
       "44    Talking with pictures: Exploring the possibili...   \n",
       "57    Cost Model for Evaluation of SDMB Service over...   \n",
       "61    Renewable hydrogen utilisation for the product...   \n",
       "...                                                 ...   \n",
       "2887  Error management in ATLAS TDAQ : an intelligen...   \n",
       "2914  International economic analysis of primary pre...   \n",
       "2927  Including older people with dementia in resear...   \n",
       "2930              Leadership in the European Convention   \n",
       "2942  Medication errors with electronic prescribing ...   \n",
       "\n",
       "                                 doi  \\\n",
       "11         10.1215/03616878-2009-013   \n",
       "38        10.1016/j.nedt.2009.10.017   \n",
       "44          10.1080/0968776930010104   \n",
       "57        10.1109/ISWCS.2005.1547789   \n",
       "61    10.1016/j.enconman.2006.06.011   \n",
       "...                              ...   \n",
       "2887                            None   \n",
       "2914          10.1053/euhj.1999.1193   \n",
       "2927     10.1080/1360786031000150685   \n",
       "2930       10.1080/13501760701656437   \n",
       "2942        10.1186/1472-6963-10-135   \n",
       "\n",
       "                                               abstract  \\\n",
       "11    This article discusses some of the merits and ...   \n",
       "38    Aim: A systematic literature review of the exp...   \n",
       "44    As multimedia computing becomes the order of t...   \n",
       "57    The number of broadband users has beengrowing ...   \n",
       "61    Electrolytic hydrogen production is an efficie...   \n",
       "...                                                 ...   \n",
       "2887  This thesis is concerned with the use of intel...   \n",
       "2914  Aims: The results of the West of Scotland Coro...   \n",
       "2927  NoThis paper examines key challenges and strat...   \n",
       "2930  Did the Chairman of the European Convention, V...   \n",
       "2942  Background: Quantitative prospective methods a...   \n",
       "\n",
       "                                               journals  \\\n",
       "11                                                 None   \n",
       "38                                                 None   \n",
       "44                                                 None   \n",
       "57                                                 None   \n",
       "61    [{'title': None, 'identifiers': ['issn:0196-89...   \n",
       "...                                                 ...   \n",
       "2887                                               None   \n",
       "2914                                               None   \n",
       "2927                                               None   \n",
       "2930                                               None   \n",
       "2942                                               None   \n",
       "\n",
       "                                             lemma_text  \n",
       "11    this article discuss some of the merit and dem...  \n",
       "38    aim : a systematic literature review of the ex...  \n",
       "44    as multimedia computing become the order of th...  \n",
       "57    the number of broadband user have beengrowe ra...  \n",
       "61    electrolytic hydrogen production be an efficie...  \n",
       "...                                                 ...  \n",
       "2887  this thesis be concern with the use of intelli...  \n",
       "2914  aim : the result of the West of Scotland Coron...  \n",
       "2927  NoThis paper examine key challenge and strateg...  \n",
       "2930  do the Chairman of the European Convention , V...  \n",
       "2942  background : quantitative prospective method b...  \n",
       "\n",
       "[309 rows x 5 columns]"
      ]
     },
     "execution_count": null,
     "metadata": {},
     "output_type": "execute_result"
    }
   ],
   "source": [
    "hits"
   ]
  },
  {
   "cell_type": "code",
   "execution_count": null,
   "id": "e8546b7c",
   "metadata": {},
   "outputs": [],
   "source": [
    "from pydash import find_index\n",
    "\n",
    "def find_sentence_in_abstract(paragraph, bias=0):\n",
    "    \"\"\"checks paragraph for key sentences. Returns first matching hit\"\"\"\n",
    "    p_sents = split_into_sentences(paragraph)\n",
    "    idx = find_index(p_sents, sentence_has_phrase)\n",
    "    if idx < 0:\n",
    "        return \"\"\n",
    "    \n",
    "    i = idx + bias #bias- for sentence before or after\n",
    "    if i < 0:\n",
    "        return \"\"\n",
    "    return get(p_sents, i)"
   ]
  },
  {
   "cell_type": "code",
   "execution_count": null,
   "id": "5eebd17c",
   "metadata": {},
   "outputs": [],
   "source": [
    "def get_first_with_pattern(paragraph, patterns):\n",
    "    for s in split_into_sentences(paragraph):\n",
    "        if any(substring in s for substring in patterns):\n",
    "            return s\n",
    "    return \"\"\n",
    "#df[df[\"lemma_text\"].str.contains(\"|\".join(ngrams))]"
   ]
  },
  {
   "cell_type": "code",
   "execution_count": null,
   "id": "85aabb83",
   "metadata": {},
   "outputs": [],
   "source": [
    "mask1 = [get_first_with_pattern(abst, ngrams) != \"\" for abst in df[\"lemma_text\"]]"
   ]
  },
  {
   "cell_type": "code",
   "execution_count": null,
   "id": "7232d071",
   "metadata": {},
   "outputs": [],
   "source": [
    "from re import search\n",
    "mask2 = [search(\"|\".join(ngrams), abst)  is not None for abst in df[\"lemma_text\"] ]"
   ]
  },
  {
   "cell_type": "code",
   "execution_count": null,
   "id": "b3202304",
   "metadata": {},
   "outputs": [
    {
     "data": {
      "text/plain": [
       "11      True\n",
       "38      True\n",
       "44      True\n",
       "57      True\n",
       "61      True\n",
       "        ... \n",
       "2887    True\n",
       "2914    True\n",
       "2927    True\n",
       "2930    True\n",
       "2942    True\n",
       "Name: title, Length: 244, dtype: bool"
      ]
     },
     "execution_count": null,
     "metadata": {},
     "output_type": "execute_result"
    }
   ],
   "source": [
    "df[mask1][\"title\"].isin(df[mask2][\"title\"])"
   ]
  },
  {
   "cell_type": "code",
   "execution_count": null,
   "id": "8b1f1ee6",
   "metadata": {},
   "outputs": [
    {
     "data": {
      "text/plain": [
       "'Ph . D'"
      ]
     },
     "execution_count": null,
     "metadata": {},
     "output_type": "execute_result"
    }
   ],
   "source": [
    "lemmatize(\"Ph.D\")"
   ]
  },
  {
   "cell_type": "code",
   "execution_count": null,
   "id": "c1644f4a",
   "metadata": {},
   "outputs": [
    {
     "data": {
      "text/plain": [
       "'this article discuss some of the merit and demerit of the single - payer model of health care financing , with particular reference to the English National Health Service ( NHS ) . specifically , it be argue that the main merit be that the model can directly provide universal health care coverage , thus eradicate or at least alleviate market failure and equity concern , and that it can achieve this with relatively low total health care expenditure in general and — as compare to the commercial multiple insurance model — low administrative cost in particular . a perceive demerit of the single - payer model be that it can lead to excessive health care rationing , particularly in term of waiting time , although it be argue here that long wait be probably cause by insufficient funding rather than by the single - payer model per se . moreover , rationing of one form or another occur in all health care system , and single - payer model may be the good option if the aim be to incorporate structured ration such that an entire population be subject to the same rule and be thus treat equitably . a far perceive disadvantage of the single - payer model be that it offer limited choice , which be necessarily true with respect to choice of insurer , but choice of provider can be , and increasingly be , a feature of centrally tax - finance health care system . no model of health care funding be perfect ; trade - off be inevitable . whether the merit of the single - payer model be judge to outweigh the demerit will typically vary both across country at any point in time and within a country over time'"
      ]
     },
     "execution_count": null,
     "metadata": {},
     "output_type": "execute_result"
    }
   ],
   "source": [
    "hits[\"lemma_text\"][11]"
   ]
  },
  {
   "cell_type": "code",
   "execution_count": null,
   "id": "f5d337e8",
   "metadata": {},
   "outputs": [],
   "source": [
    "candidates = [entry for entry in abst if any(substring in entry[\"abstract\"] for substring in ngrams)]"
   ]
  }
 ],
 "metadata": {
  "kernelspec": {
   "display_name": "conda_python3",
   "language": "python",
   "name": "conda_python3"
  }
 },
 "nbformat": 4,
 "nbformat_minor": 5
}
