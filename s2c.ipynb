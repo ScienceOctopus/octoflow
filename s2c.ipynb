{
 "cells": [
  {
   "cell_type": "code",
   "execution_count": 83,
   "id": "b00c946a",
   "metadata": {},
   "outputs": [],
   "source": [
    "import gzip\n",
    "import json\n",
    "\n",
    "def fix_json_str(js):\n",
    "    t = \"[\" + js\n",
    "    t = t.replace(\"\\n\", \",\")\n",
    "    t = t[:-1]\n",
    "    t += \"]\"\n",
    "    return t"
   ]
  },
  {
   "cell_type": "code",
   "execution_count": 72,
   "id": "a3f97a5e",
   "metadata": {},
   "outputs": [],
   "source": [
    "\n",
    "def format_number(number):\n",
    "    if number < 10:\n",
    "        return \"00\" + str(number)\n",
    "    elif number < 100:\n",
    "        return \"0\" + str(number)\n",
    "    else:\n",
    "        return str(number)"
   ]
  },
  {
   "cell_type": "code",
   "execution_count": 73,
   "id": "b7efb22f",
   "metadata": {},
   "outputs": [
    {
     "data": {
      "text/plain": [
       "'012'"
      ]
     },
     "execution_count": 73,
     "metadata": {},
     "output_type": "execute_result"
    }
   ],
   "source": [
    "\"My name is {}, I'm {}\".format(\"John\",36)"
   ]
  },
  {
   "cell_type": "code",
   "execution_count": 76,
   "id": "6cc735fd",
   "metadata": {},
   "outputs": [],
   "source": [
    "data = []\n",
    "for i in range(100):\n",
    "    path = 'downloads/s2c/s2-corpus-{}.gz'.format(format_number(i))\n",
    "    with gzip.open(path, 'r') as f:\n",
    "        json_bytes = fix_json_str(f.read().decode('utf-8'))\n",
    "        data += json.loads(json_bytes)"
   ]
  },
  {
   "cell_type": "code",
   "execution_count": 77,
   "id": "f810264f",
   "metadata": {},
   "outputs": [
    {
     "data": {
      "text/plain": [
       "1704534"
      ]
     },
     "execution_count": 77,
     "metadata": {},
     "output_type": "execute_result"
    }
   ],
   "source": [
    "len(data)"
   ]
  },
  {
   "cell_type": "code",
   "execution_count": 81,
   "id": "4786bf76",
   "metadata": {},
   "outputs": [],
   "source": [
    "bio = [d for d in data if \"Biology\" in d[\"fieldsOfStudy\"]]"
   ]
  },
  {
   "cell_type": "code",
   "execution_count": 82,
   "id": "22a7ece0",
   "metadata": {},
   "outputs": [
    {
     "data": {
      "text/plain": [
       "120697"
      ]
     },
     "execution_count": 82,
     "metadata": {},
     "output_type": "execute_result"
    }
   ],
   "source": [
    "len(bio)"
   ]
  },
  {
   "cell_type": "code",
   "execution_count": 87,
   "id": "0c4b1240",
   "metadata": {},
   "outputs": [],
   "source": [
    "import json\n",
    "import re\n",
    "from pydash import get\n",
    "\n",
    "\n",
    "alphabets= \"([A-Za-z])\"\n",
    "prefixes = \"(Mr|St|Mrs|Ms|Dr)[.]\"\n",
    "suffixes = \"(Inc|Ltd|Jr|Sr|Co)\"\n",
    "starters = \"(Mr|Mrs|Ms|Dr|He\\s|She\\s|It\\s|They\\s|Their\\s|Our\\s|We\\s|But\\s|However\\s|That\\s|This\\s|Wherever)\"\n",
    "acronyms = \"([A-Z][.][A-Z][.](?:[A-Z][.])?)\"\n",
    "websites = \"[.](com|net|org|io|gov)\"\n",
    "\n",
    "def split_into_sentences(text):\n",
    "    text = \" \" + text + \"  \"\n",
    "    text = text.replace(\"\\n\",\" \")\n",
    "    text = re.sub(prefixes,\"\\\\1<prd>\",text)\n",
    "    text = re.sub(websites,\"<prd>\\\\1\",text)\n",
    "    if \"Ph.D\" in text: text = text.replace(\"Ph.D.\",\"Ph<prd>D<prd>\")\n",
    "    text = re.sub(\"\\s\" + alphabets + \"[.] \",\" \\\\1<prd> \",text)\n",
    "    text = re.sub(acronyms+\" \"+starters,\"\\\\1<stop> \\\\2\",text)\n",
    "    text = re.sub(alphabets + \"[.]\" + alphabets + \"[.]\" + alphabets + \"[.]\",\"\\\\1<prd>\\\\2<prd>\\\\3<prd>\",text)\n",
    "    text = re.sub(alphabets + \"[.]\" + alphabets + \"[.]\",\"\\\\1<prd>\\\\2<prd>\",text)\n",
    "    text = re.sub(\" \"+suffixes+\"[.] \"+starters,\" \\\\1<stop> \\\\2\",text)\n",
    "    text = re.sub(\" \"+suffixes+\"[.]\",\" \\\\1<prd>\",text)\n",
    "    text = re.sub(\" \" + alphabets + \"[.]\",\" \\\\1<prd>\",text)\n",
    "    if \"”\" in text: text = text.replace(\".”\",\"”.\")\n",
    "    if \"\\\"\" in text: text = text.replace(\".\\\"\",\"\\\".\")\n",
    "    if \"!\" in text: text = text.replace(\"!\\\"\",\"\\\"!\")\n",
    "    if \"?\" in text: text = text.replace(\"?\\\"\",\"\\\"?\")\n",
    "    text = text.replace(\".\",\".<stop>\")\n",
    "    text = text.replace(\"?\",\"?<stop>\")\n",
    "    text = text.replace(\"!\",\"!<stop>\")\n",
    "    text = text.replace(\"<prd>\",\".\")\n",
    "    sentences = text.split(\"<stop>\")\n",
    "    sentences = sentences[:-1]\n",
    "    sentences = [s.strip() for s in sentences]\n",
    "    return sentences\n",
    "\n",
    "def get_first_sent(abst):\n",
    "    return get(split_into_sentences(abst), 0)"
   ]
  },
  {
   "cell_type": "code",
   "execution_count": 84,
   "id": "b25aacce",
   "metadata": {},
   "outputs": [],
   "source": [
    "import pandas as pd\n",
    "df = pd.DataFrame(bio)\n",
    "len(df)"
   ]
  },
  {
   "cell_type": "code",
   "execution_count": 101,
   "id": "d827b8fe",
   "metadata": {},
   "outputs": [
    {
     "data": {
      "text/plain": [
       "87398"
      ]
     },
     "execution_count": 101,
     "metadata": {},
     "output_type": "execute_result"
    }
   ],
   "source": [
    "df=df.dropna(subset=[\"paperAbstract\"])\n",
    "df = df[df[\"paperAbstract\"].str.len() > 3]\n",
    "len(df)"
   ]
  },
  {
   "cell_type": "code",
   "execution_count": 102,
   "id": "ce24d645",
   "metadata": {},
   "outputs": [],
   "source": [
    "df[\"first_sent\"] = df[\"paperAbstract\"].map(get_first_sent)"
   ]
  },
  {
   "cell_type": "code",
   "execution_count": 113,
   "id": "97545f1c",
   "metadata": {},
   "outputs": [],
   "source": [
    "dfx = df[[\"first_sent\", \"s2Url\", \"doi\", \"journalName\", \"title\"]]"
   ]
  },
  {
   "cell_type": "code",
   "execution_count": 115,
   "id": "79711d9e",
   "metadata": {},
   "outputs": [],
   "source": [
    "dfx.to_csv (\"downloads/biology_85k_s2c.csv\",index = False, header=True)"
   ]
  },
  {
   "cell_type": "code",
   "execution_count": 78,
   "id": "2e2c9ecf",
   "metadata": {},
   "outputs": [
    {
     "name": "stdout",
     "output_type": "stream",
     "text": [
      "{'Mathematics', 'Geography', 'Political Science', 'Sociology', 'Physics', 'Chemistry', 'History', 'Psychology', 'Philosophy', 'Medicine', 'Environmental Science', 'Geology', 'Business', 'Materials Science', 'Computer Science', 'Art', 'Economics', 'Engineering', 'Biology'}\n"
     ]
    }
   ],
   "source": [
    "FoS = []\n",
    "for d in data:\n",
    "    FoS += d[\"fieldsOfStudy\"]\n",
    "\n",
    "print(set(FoS))"
   ]
  },
  {
   "cell_type": "code",
   "execution_count": 45,
   "id": "a06dfb45",
   "metadata": {},
   "outputs": [
    {
     "data": {
      "text/plain": [
       "'ies\":[]},'"
      ]
     },
     "execution_count": 45,
     "metadata": {},
     "output_type": "execute_result"
    }
   ],
   "source": []
  },
  {
   "cell_type": "code",
   "execution_count": null,
   "id": "9e0250a2",
   "metadata": {},
   "outputs": [],
   "source": []
  }
 ],
 "metadata": {
  "kernelspec": {
   "display_name": "conda_python3",
   "language": "python",
   "name": "conda_python3"
  },
  "language_info": {
   "codemirror_mode": {
    "name": "ipython",
    "version": 3
   },
   "file_extension": ".py",
   "mimetype": "text/x-python",
   "name": "python",
   "nbconvert_exporter": "python",
   "pygments_lexer": "ipython3",
   "version": "3.6.13"
  }
 },
 "nbformat": 4,
 "nbformat_minor": 5
}
