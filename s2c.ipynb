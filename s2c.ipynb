{
 "cells": [
  {
   "cell_type": "code",
   "execution_count": 1,
   "id": "dd9e959e",
   "metadata": {},
   "outputs": [],
   "source": [
    "import gzip\n",
    "import json\n",
    "\n",
    "def fix_json_str(js):\n",
    "    t = \"[\" + js\n",
    "    t = t.replace(\"\\n\", \",\")\n",
    "    t = t[:-1]\n",
    "    t += \"]\"\n",
    "    return t"
   ]
  },
  {
   "cell_type": "code",
   "execution_count": 2,
   "id": "6d2e6308",
   "metadata": {},
   "outputs": [
    {
     "name": "stdout",
     "output_type": "stream",
     "text": [
      "Collecting pydash\n",
      "  Downloading pydash-5.1.0-py3-none-any.whl (84 kB)\n",
      "     |████████████████████████████████| 84 kB 5.7 MB/s             \n",
      "\u001b[?25hInstalling collected packages: pydash\n",
      "Successfully installed pydash-5.1.0\n"
     ]
    }
   ],
   "source": [
    "!pip install pydash"
   ]
  },
  {
   "cell_type": "code",
   "execution_count": 3,
   "id": "7f3d0703",
   "metadata": {},
   "outputs": [],
   "source": [
    "def format_number(number):\n",
    "    if number < 10:\n",
    "        return \"00\" + str(number)\n",
    "    elif number < 100:\n",
    "        return \"0\" + str(number)\n",
    "    else:\n",
    "        return str(number)"
   ]
  },
  {
   "cell_type": "code",
   "execution_count": 4,
   "id": "4c59a449",
   "metadata": {},
   "outputs": [
    {
     "data": {
      "text/plain": [
       "0"
      ]
     },
     "execution_count": 4,
     "metadata": {},
     "output_type": "execute_result"
    }
   ],
   "source": [
    "import gc\n",
    "gc.collect()"
   ]
  },
  {
   "cell_type": "code",
   "execution_count": 5,
   "id": "26f59e7f",
   "metadata": {},
   "outputs": [],
   "source": [
    "import json\n",
    "import re\n",
    "from pydash import get\n",
    "\n",
    "\n",
    "alphabets= \"([A-Za-z])\"\n",
    "prefixes = \"(Mr|St|Mrs|Ms|Dr)[.]\"\n",
    "suffixes = \"(Inc|Ltd|Jr|Sr|Co)\"\n",
    "starters = \"(Mr|Mrs|Ms|Dr|He\\s|She\\s|It\\s|They\\s|Their\\s|Our\\s|We\\s|But\\s|However\\s|That\\s|This\\s|Wherever)\"\n",
    "acronyms = \"([A-Z][.][A-Z][.](?:[A-Z][.])?)\"\n",
    "websites = \"[.](com|net|org|io|gov)\"\n",
    "\n",
    "def split_into_sentences(text):\n",
    "    text = \" \" + text + \"  \"\n",
    "    text = text.replace(\"\\n\",\" \")\n",
    "    text = re.sub(prefixes,\"\\\\1<prd>\",text)\n",
    "    text = re.sub(websites,\"<prd>\\\\1\",text)\n",
    "    if \"Ph.D\" in text: text = text.replace(\"Ph.D.\",\"Ph<prd>D<prd>\")\n",
    "    text = re.sub(\"\\s\" + alphabets + \"[.] \",\" \\\\1<prd> \",text)\n",
    "    text = re.sub(acronyms+\" \"+starters,\"\\\\1<stop> \\\\2\",text)\n",
    "    text = re.sub(alphabets + \"[.]\" + alphabets + \"[.]\" + alphabets + \"[.]\",\"\\\\1<prd>\\\\2<prd>\\\\3<prd>\",text)\n",
    "    text = re.sub(alphabets + \"[.]\" + alphabets + \"[.]\",\"\\\\1<prd>\\\\2<prd>\",text)\n",
    "    text = re.sub(\" \"+suffixes+\"[.] \"+starters,\" \\\\1<stop> \\\\2\",text)\n",
    "    text = re.sub(\" \"+suffixes+\"[.]\",\" \\\\1<prd>\",text)\n",
    "    text = re.sub(\" \" + alphabets + \"[.]\",\" \\\\1<prd>\",text)\n",
    "    if \"”\" in text: text = text.replace(\".”\",\"”.\")\n",
    "    if \"\\\"\" in text: text = text.replace(\".\\\"\",\"\\\".\")\n",
    "    if \"!\" in text: text = text.replace(\"!\\\"\",\"\\\"!\")\n",
    "    if \"?\" in text: text = text.replace(\"?\\\"\",\"\\\"?\")\n",
    "    text = text.replace(\".\",\".<stop>\")\n",
    "    text = text.replace(\"?\",\"?<stop>\")\n",
    "    text = text.replace(\"!\",\"!<stop>\")\n",
    "    text = text.replace(\"<prd>\",\".\")\n",
    "    sentences = text.split(\"<stop>\")\n",
    "    sentences = sentences[:-1]\n",
    "    sentences = [s.strip() for s in sentences]\n",
    "    return sentences\n",
    "\n",
    "def get_first_sent(abst):\n",
    "    return get(split_into_sentences(abst), 0)"
   ]
  },
  {
   "cell_type": "code",
   "execution_count": 6,
   "id": "0f22e008",
   "metadata": {},
   "outputs": [],
   "source": [
    "import time\n",
    "import pandas as pd"
   ]
  },
  {
   "cell_type": "code",
   "execution_count": null,
   "id": "057cfe85",
   "metadata": {},
   "outputs": [
    {
     "name": "stdout",
     "output_type": "stream",
     "text": [
      "zip:  1420  t  1655465703.260025\n",
      "zip:  1440  t  1655465974.528785\n",
      "zip:  1460  t  1655466324.260637\n",
      "zip:  1480  t  1655466760.2007763\n",
      "zip:  1500  t  1655467277.3670113\n",
      "zip:  1520  t  1655467885.0655344\n",
      "zip:  1540  t  1655468577.9910586\n",
      "zip:  1560  t  1655469359.7247002\n",
      "zip:  1580  t  1655470184.2112591\n",
      "ERROR: downloads/s2c/s2-corpus-1584.gz\n",
      "ERROR: downloads/s2c/s2-corpus-1585.gz\n",
      "ERROR: downloads/s2c/s2-corpus-1586.gz\n",
      "ERROR: downloads/s2c/s2-corpus-1587.gz\n",
      "ERROR: downloads/s2c/s2-corpus-1588.gz\n",
      "ERROR: downloads/s2c/s2-corpus-1589.gz\n",
      "ERROR: downloads/s2c/s2-corpus-1590.gz\n",
      "ERROR: downloads/s2c/s2-corpus-1591.gz\n",
      "ERROR: downloads/s2c/s2-corpus-1592.gz\n",
      "ERROR: downloads/s2c/s2-corpus-1593.gz\n",
      "ERROR: downloads/s2c/s2-corpus-1594.gz\n",
      "ERROR: downloads/s2c/s2-corpus-1595.gz\n",
      "ERROR: downloads/s2c/s2-corpus-1596.gz\n",
      "ERROR: downloads/s2c/s2-corpus-1597.gz\n",
      "ERROR: downloads/s2c/s2-corpus-1598.gz\n",
      "ERROR: downloads/s2c/s2-corpus-1599.gz\n"
     ]
    }
   ],
   "source": [
    "data = []\n",
    "errors = []\n",
    "start=1400\n",
    "end = 1600\n",
    "for i in range(start,end):\n",
    "    path = 'downloads/s2c/s2-corpus-{}.gz'.format(format_number(i))\n",
    "    try:\n",
    "        with gzip.open(path, 'r') as f:\n",
    "            if (i % 20) == 0 and len(data):\n",
    "                print(\"zip: \", i, \" t \", time.time())\n",
    "\n",
    "                df = pd.DataFrame(data)\n",
    "                df[\"text\"] = df[\"paperAbstract\"].map(get_first_sent)\n",
    "                df = df[[\"text\", \"s2Url\", \"doi\", \"journalName\", \"title\", \"fieldsOfStudy\"]]\n",
    "    #             df = df.drop(columns=[\"paperAbstract\"])\n",
    "                df.to_csv(\"downloads/s2c_{}_{}.csv\".format(start, end), index = False, header=True)\n",
    "            json_bytes = fix_json_str(f.read().decode('utf-8'))\n",
    "            data += json.loads(json_bytes)\n",
    "    except:\n",
    "        print(\"ERROR:\", path)\n",
    "        errors += path\n",
    "        "
   ]
  },
  {
   "cell_type": "code",
   "execution_count": 1,
   "id": "8903e0ea",
   "metadata": {},
   "outputs": [],
   "source": [
    "import pandas as pd"
   ]
  },
  {
   "cell_type": "code",
   "execution_count": 2,
   "id": "36088806",
   "metadata": {},
   "outputs": [],
   "source": [
    "df1 = pd.read_csv(\"downloads/s2c_0_300.csv\",  lineterminator='\\n')\n"
   ]
  },
  {
   "cell_type": "code",
   "execution_count": 4,
   "id": "637c42d9",
   "metadata": {},
   "outputs": [
    {
     "data": {
      "text/plain": [
       "6136274"
      ]
     },
     "execution_count": 4,
     "metadata": {},
     "output_type": "execute_result"
    }
   ],
   "source": [
    "len(df1)"
   ]
  },
  {
   "cell_type": "code",
   "execution_count": 6,
   "id": "a2254e20",
   "metadata": {},
   "outputs": [
    {
     "data": {
      "text/plain": [
       "array([\"['Computer Science']\", \"['Medicine']\", '[]', ...,\n",
       "       \"['Psychology', 'Sociology', 'Engineering', 'Medicine']\",\n",
       "       \"['History', 'Geography', 'Economics']\",\n",
       "       \"['Computer Science', 'Mathematics', 'Medicine', 'Engineering']\"],\n",
       "      dtype=object)"
      ]
     },
     "execution_count": 6,
     "metadata": {},
     "output_type": "execute_result"
    }
   ],
   "source": [
    "df1.fieldsOfStudy.unique()"
   ]
  },
  {
   "cell_type": "code",
   "execution_count": 9,
   "id": "c2158507",
   "metadata": {},
   "outputs": [
    {
     "name": "stdout",
     "output_type": "stream",
     "text": [
      "Collecting pydash\n",
      "  Using cached pydash-5.1.0-py3-none-any.whl (84 kB)\n",
      "Installing collected packages: pydash\n",
      "Successfully installed pydash-5.1.0\n"
     ]
    }
   ],
   "source": [
    "!pip install pydash\n",
    "from pydash import get"
   ]
  },
  {
   "cell_type": "code",
   "execution_count": 10,
   "id": "2f43aa1c",
   "metadata": {},
   "outputs": [],
   "source": [
    "df1[\"fields\"] = df1.fieldsOfStudy.map(lambda a: get(eval(a), 0))"
   ]
  },
  {
   "cell_type": "code",
   "execution_count": 11,
   "id": "ac6a280d",
   "metadata": {},
   "outputs": [
    {
     "data": {
      "text/plain": [
       "array(['Computer Science', 'Medicine', None, 'Art', 'Materials Science',\n",
       "       'Engineering', 'Chemistry', 'Physics', 'Biology', 'History',\n",
       "       'Psychology', 'Geography', 'Business', 'Mathematics', 'Geology',\n",
       "       'Economics', 'Political Science', 'Environmental Science',\n",
       "       'Philosophy', 'Sociology'], dtype=object)"
      ]
     },
     "execution_count": 11,
     "metadata": {},
     "output_type": "execute_result"
    }
   ],
   "source": [
    "df1.fields.unique()"
   ]
  },
  {
   "cell_type": "code",
   "execution_count": 12,
   "id": "9a57753f",
   "metadata": {},
   "outputs": [
    {
     "data": {
      "text/html": [
       "<div>\n",
       "<style scoped>\n",
       "    .dataframe tbody tr th:only-of-type {\n",
       "        vertical-align: middle;\n",
       "    }\n",
       "\n",
       "    .dataframe tbody tr th {\n",
       "        vertical-align: top;\n",
       "    }\n",
       "\n",
       "    .dataframe thead th {\n",
       "        text-align: right;\n",
       "    }\n",
       "</style>\n",
       "<table border=\"1\" class=\"dataframe\">\n",
       "  <thead>\n",
       "    <tr style=\"text-align: right;\">\n",
       "      <th></th>\n",
       "      <th>text</th>\n",
       "      <th>s2Url</th>\n",
       "      <th>doi</th>\n",
       "      <th>journalName</th>\n",
       "      <th>title</th>\n",
       "      <th>fieldsOfStudy</th>\n",
       "      <th>fields</th>\n",
       "    </tr>\n",
       "  </thead>\n",
       "  <tbody>\n",
       "    <tr>\n",
       "      <th>0</th>\n",
       "      <td>NaN</td>\n",
       "      <td>https://semanticscholar.org/paper/33b237709dbd...</td>\n",
       "      <td>10.14529/build190307</td>\n",
       "      <td>Bulletin of South Ural State University series...</td>\n",
       "      <td>USING PHOTO IMAGES TO DETERMINE THE GEOMETRIC ...</td>\n",
       "      <td>['Computer Science']</td>\n",
       "      <td>Computer Science</td>\n",
       "    </tr>\n",
       "    <tr>\n",
       "      <th>1</th>\n",
       "      <td>Automated medication dispensing systems for ho...</td>\n",
       "      <td>https://semanticscholar.org/paper/062e9c7579ad...</td>\n",
       "      <td>10.2190/W2BT-FGXQ-QL0G-YNL9</td>\n",
       "      <td>International Journal of Health Services</td>\n",
       "      <td>Clinical or Industrial Pharmacy? Case Studies ...</td>\n",
       "      <td>['Medicine']</td>\n",
       "      <td>Medicine</td>\n",
       "    </tr>\n",
       "    <tr>\n",
       "      <th>2</th>\n",
       "      <td>In the future, the use of imaging methods to q...</td>\n",
       "      <td>https://semanticscholar.org/paper/771723e7e2d9...</td>\n",
       "      <td>10.1016/S1052-5149(02)00023-0</td>\n",
       "      <td>Neuroimaging clinics of North America</td>\n",
       "      <td>Noncoronary and coronary atherothrombotic plaq...</td>\n",
       "      <td>['Medicine']</td>\n",
       "      <td>Medicine</td>\n",
       "    </tr>\n",
       "    <tr>\n",
       "      <th>3</th>\n",
       "      <td>NaN</td>\n",
       "      <td>https://semanticscholar.org/paper/263f70167ba7...</td>\n",
       "      <td>NaN</td>\n",
       "      <td>NaN</td>\n",
       "      <td>국어 명사구 접속의 연구</td>\n",
       "      <td>[]</td>\n",
       "      <td>None</td>\n",
       "    </tr>\n",
       "    <tr>\n",
       "      <th>4</th>\n",
       "      <td>NaN</td>\n",
       "      <td>https://semanticscholar.org/paper/9ea1148fa657...</td>\n",
       "      <td>NaN</td>\n",
       "      <td>NaN</td>\n",
       "      <td>Who'll Take My Place : When I'm Gone</td>\n",
       "      <td>['Art']</td>\n",
       "      <td>Art</td>\n",
       "    </tr>\n",
       "    <tr>\n",
       "      <th>...</th>\n",
       "      <td>...</td>\n",
       "      <td>...</td>\n",
       "      <td>...</td>\n",
       "      <td>...</td>\n",
       "      <td>...</td>\n",
       "      <td>...</td>\n",
       "      <td>...</td>\n",
       "    </tr>\n",
       "    <tr>\n",
       "      <th>6136269</th>\n",
       "      <td>NaN</td>\n",
       "      <td>https://semanticscholar.org/paper/4dc00bd1953b...</td>\n",
       "      <td>10.1111/J.1445-2197.1997.TB04602.X</td>\n",
       "      <td>The Australian and New Zealand journal of surgery</td>\n",
       "      <td>Where are we now with adjuvant therapy for rec...</td>\n",
       "      <td>['Medicine']</td>\n",
       "      <td>Medicine</td>\n",
       "    </tr>\n",
       "    <tr>\n",
       "      <th>6136270</th>\n",
       "      <td>化粧品は各種界面活性剤や油剤等の混合系であり, 製品中からの界面活性剤の分析には, できるだ...</td>\n",
       "      <td>https://semanticscholar.org/paper/7315cf092574...</td>\n",
       "      <td>10.2116/BUNSEKIKAGAKU.51.921</td>\n",
       "      <td>Bunseki Kagaku</td>\n",
       "      <td>Determination of cationic and nonionic surfact...</td>\n",
       "      <td>['Chemistry']</td>\n",
       "      <td>Chemistry</td>\n",
       "    </tr>\n",
       "    <tr>\n",
       "      <th>6136271</th>\n",
       "      <td>NaN</td>\n",
       "      <td>https://semanticscholar.org/paper/0c6d7f8c8e3a...</td>\n",
       "      <td>NaN</td>\n",
       "      <td>NaN</td>\n",
       "      <td>Обретая Путь. Павел Флоренский в университетск...</td>\n",
       "      <td>[]</td>\n",
       "      <td>None</td>\n",
       "    </tr>\n",
       "    <tr>\n",
       "      <th>6136272</th>\n",
       "      <td>NaN</td>\n",
       "      <td>https://semanticscholar.org/paper/d79f92d7fe00...</td>\n",
       "      <td>10.11501/3054420</td>\n",
       "      <td>NaN</td>\n",
       "      <td>二次イオン質量分析(SIMS)の機能拡張に関する基礎的研究</td>\n",
       "      <td>[]</td>\n",
       "      <td>None</td>\n",
       "    </tr>\n",
       "    <tr>\n",
       "      <th>6136273</th>\n",
       "      <td>NaN</td>\n",
       "      <td>https://semanticscholar.org/paper/df53b21aee7c...</td>\n",
       "      <td>NaN</td>\n",
       "      <td>NaN</td>\n",
       "      <td>La necròpolis neolítica de cal pessetero de Ca...</td>\n",
       "      <td>[]</td>\n",
       "      <td>None</td>\n",
       "    </tr>\n",
       "  </tbody>\n",
       "</table>\n",
       "<p>6136274 rows × 7 columns</p>\n",
       "</div>"
      ],
      "text/plain": [
       "                                                      text  \\\n",
       "0                                                      NaN   \n",
       "1        Automated medication dispensing systems for ho...   \n",
       "2        In the future, the use of imaging methods to q...   \n",
       "3                                                      NaN   \n",
       "4                                                      NaN   \n",
       "...                                                    ...   \n",
       "6136269                                                NaN   \n",
       "6136270  化粧品は各種界面活性剤や油剤等の混合系であり, 製品中からの界面活性剤の分析には, できるだ...   \n",
       "6136271                                                NaN   \n",
       "6136272                                                NaN   \n",
       "6136273                                                NaN   \n",
       "\n",
       "                                                     s2Url  \\\n",
       "0        https://semanticscholar.org/paper/33b237709dbd...   \n",
       "1        https://semanticscholar.org/paper/062e9c7579ad...   \n",
       "2        https://semanticscholar.org/paper/771723e7e2d9...   \n",
       "3        https://semanticscholar.org/paper/263f70167ba7...   \n",
       "4        https://semanticscholar.org/paper/9ea1148fa657...   \n",
       "...                                                    ...   \n",
       "6136269  https://semanticscholar.org/paper/4dc00bd1953b...   \n",
       "6136270  https://semanticscholar.org/paper/7315cf092574...   \n",
       "6136271  https://semanticscholar.org/paper/0c6d7f8c8e3a...   \n",
       "6136272  https://semanticscholar.org/paper/d79f92d7fe00...   \n",
       "6136273  https://semanticscholar.org/paper/df53b21aee7c...   \n",
       "\n",
       "                                        doi  \\\n",
       "0                      10.14529/build190307   \n",
       "1               10.2190/W2BT-FGXQ-QL0G-YNL9   \n",
       "2             10.1016/S1052-5149(02)00023-0   \n",
       "3                                       NaN   \n",
       "4                                       NaN   \n",
       "...                                     ...   \n",
       "6136269  10.1111/J.1445-2197.1997.TB04602.X   \n",
       "6136270        10.2116/BUNSEKIKAGAKU.51.921   \n",
       "6136271                                 NaN   \n",
       "6136272                    10.11501/3054420   \n",
       "6136273                                 NaN   \n",
       "\n",
       "                                               journalName  \\\n",
       "0        Bulletin of South Ural State University series...   \n",
       "1                 International Journal of Health Services   \n",
       "2                    Neuroimaging clinics of North America   \n",
       "3                                                      NaN   \n",
       "4                                                      NaN   \n",
       "...                                                    ...   \n",
       "6136269  The Australian and New Zealand journal of surgery   \n",
       "6136270                                     Bunseki Kagaku   \n",
       "6136271                                                NaN   \n",
       "6136272                                                NaN   \n",
       "6136273                                                NaN   \n",
       "\n",
       "                                                     title  \\\n",
       "0        USING PHOTO IMAGES TO DETERMINE THE GEOMETRIC ...   \n",
       "1        Clinical or Industrial Pharmacy? Case Studies ...   \n",
       "2        Noncoronary and coronary atherothrombotic plaq...   \n",
       "3                                            국어 명사구 접속의 연구   \n",
       "4                     Who'll Take My Place : When I'm Gone   \n",
       "...                                                    ...   \n",
       "6136269  Where are we now with adjuvant therapy for rec...   \n",
       "6136270  Determination of cationic and nonionic surfact...   \n",
       "6136271  Обретая Путь. Павел Флоренский в университетск...   \n",
       "6136272                      二次イオン質量分析(SIMS)の機能拡張に関する基礎的研究   \n",
       "6136273  La necròpolis neolítica de cal pessetero de Ca...   \n",
       "\n",
       "                fieldsOfStudy            fields  \n",
       "0        ['Computer Science']  Computer Science  \n",
       "1                ['Medicine']          Medicine  \n",
       "2                ['Medicine']          Medicine  \n",
       "3                          []              None  \n",
       "4                     ['Art']               Art  \n",
       "...                       ...               ...  \n",
       "6136269          ['Medicine']          Medicine  \n",
       "6136270         ['Chemistry']         Chemistry  \n",
       "6136271                    []              None  \n",
       "6136272                    []              None  \n",
       "6136273                    []              None  \n",
       "\n",
       "[6136274 rows x 7 columns]"
      ]
     },
     "execution_count": 12,
     "metadata": {},
     "output_type": "execute_result"
    }
   ],
   "source": [
    "df1"
   ]
  },
  {
   "cell_type": "code",
   "execution_count": 13,
   "id": "93cea49f",
   "metadata": {},
   "outputs": [],
   "source": [
    "csvs = [\n",
    "    \"s2c_0_300.csv\",\n",
    "    \"s2c_100_2M.csv\",\n",
    "    \"s2c_180_340.csv\",\n",
    "    \"s2c_340_500.csv\",\n",
    "    \"s2c_1000_1300.csv\",\n",
    "    \"s2c_1300_1500.csv\",\n",
    "    \"s2c_1400_1600.csv\",    \n",
    "]"
   ]
  },
  {
   "cell_type": "code",
   "execution_count": 20,
   "id": "930a05a6",
   "metadata": {},
   "outputs": [
    {
     "name": "stdout",
     "output_type": "stream",
     "text": [
      "--- 34.989346981048584 seconds ---\n",
      "--- 40.790671825408936 seconds ---\n",
      "--- 49.05041289329529 seconds ---\n",
      "--- 57.82132124900818 seconds ---\n",
      "--- 63.667720556259155 seconds ---\n",
      "--- 69.1860704421997 seconds ---\n",
      "--- 75.48966336250305 seconds ---\n"
     ]
    }
   ],
   "source": [
    "import time\n",
    "df=df1\n",
    "for csv in csvs:\n",
    "    start_time = time.time()\n",
    "    dfn= pd.read_csv(\"downloads/\" + \"s2c_0_300.csv\", lineterminator='\\n', error_bad_lines=False)\n",
    "    df = df.append(dfn)\n",
    "    print(\"--- %s seconds ---\" % (time.time() - start_time))"
   ]
  },
  {
   "cell_type": "code",
   "execution_count": 21,
   "id": "edd970f2",
   "metadata": {},
   "outputs": [
    {
     "data": {
      "text/html": [
       "<div>\n",
       "<style scoped>\n",
       "    .dataframe tbody tr th:only-of-type {\n",
       "        vertical-align: middle;\n",
       "    }\n",
       "\n",
       "    .dataframe tbody tr th {\n",
       "        vertical-align: top;\n",
       "    }\n",
       "\n",
       "    .dataframe thead th {\n",
       "        text-align: right;\n",
       "    }\n",
       "</style>\n",
       "<table border=\"1\" class=\"dataframe\">\n",
       "  <thead>\n",
       "    <tr style=\"text-align: right;\">\n",
       "      <th></th>\n",
       "      <th>text</th>\n",
       "      <th>s2Url</th>\n",
       "      <th>doi</th>\n",
       "      <th>journalName</th>\n",
       "      <th>title</th>\n",
       "      <th>fieldsOfStudy</th>\n",
       "      <th>fields</th>\n",
       "    </tr>\n",
       "  </thead>\n",
       "  <tbody>\n",
       "    <tr>\n",
       "      <th>0</th>\n",
       "      <td>NaN</td>\n",
       "      <td>https://semanticscholar.org/paper/33b237709dbd...</td>\n",
       "      <td>10.14529/build190307</td>\n",
       "      <td>Bulletin of South Ural State University series...</td>\n",
       "      <td>USING PHOTO IMAGES TO DETERMINE THE GEOMETRIC ...</td>\n",
       "      <td>['Computer Science']</td>\n",
       "      <td>Computer Science</td>\n",
       "    </tr>\n",
       "    <tr>\n",
       "      <th>1</th>\n",
       "      <td>Automated medication dispensing systems for ho...</td>\n",
       "      <td>https://semanticscholar.org/paper/062e9c7579ad...</td>\n",
       "      <td>10.2190/W2BT-FGXQ-QL0G-YNL9</td>\n",
       "      <td>International Journal of Health Services</td>\n",
       "      <td>Clinical or Industrial Pharmacy? Case Studies ...</td>\n",
       "      <td>['Medicine']</td>\n",
       "      <td>Medicine</td>\n",
       "    </tr>\n",
       "    <tr>\n",
       "      <th>2</th>\n",
       "      <td>In the future, the use of imaging methods to q...</td>\n",
       "      <td>https://semanticscholar.org/paper/771723e7e2d9...</td>\n",
       "      <td>10.1016/S1052-5149(02)00023-0</td>\n",
       "      <td>Neuroimaging clinics of North America</td>\n",
       "      <td>Noncoronary and coronary atherothrombotic plaq...</td>\n",
       "      <td>['Medicine']</td>\n",
       "      <td>Medicine</td>\n",
       "    </tr>\n",
       "    <tr>\n",
       "      <th>3</th>\n",
       "      <td>NaN</td>\n",
       "      <td>https://semanticscholar.org/paper/263f70167ba7...</td>\n",
       "      <td>NaN</td>\n",
       "      <td>NaN</td>\n",
       "      <td>국어 명사구 접속의 연구</td>\n",
       "      <td>[]</td>\n",
       "      <td>None</td>\n",
       "    </tr>\n",
       "    <tr>\n",
       "      <th>4</th>\n",
       "      <td>NaN</td>\n",
       "      <td>https://semanticscholar.org/paper/9ea1148fa657...</td>\n",
       "      <td>NaN</td>\n",
       "      <td>NaN</td>\n",
       "      <td>Who'll Take My Place : When I'm Gone</td>\n",
       "      <td>['Art']</td>\n",
       "      <td>Art</td>\n",
       "    </tr>\n",
       "    <tr>\n",
       "      <th>...</th>\n",
       "      <td>...</td>\n",
       "      <td>...</td>\n",
       "      <td>...</td>\n",
       "      <td>...</td>\n",
       "      <td>...</td>\n",
       "      <td>...</td>\n",
       "      <td>...</td>\n",
       "    </tr>\n",
       "    <tr>\n",
       "      <th>6136269</th>\n",
       "      <td>NaN</td>\n",
       "      <td>https://semanticscholar.org/paper/4dc00bd1953b...</td>\n",
       "      <td>10.1111/J.1445-2197.1997.TB04602.X</td>\n",
       "      <td>The Australian and New Zealand journal of surgery</td>\n",
       "      <td>Where are we now with adjuvant therapy for rec...</td>\n",
       "      <td>['Medicine']</td>\n",
       "      <td>NaN</td>\n",
       "    </tr>\n",
       "    <tr>\n",
       "      <th>6136270</th>\n",
       "      <td>化粧品は各種界面活性剤や油剤等の混合系であり, 製品中からの界面活性剤の分析には, できるだ...</td>\n",
       "      <td>https://semanticscholar.org/paper/7315cf092574...</td>\n",
       "      <td>10.2116/BUNSEKIKAGAKU.51.921</td>\n",
       "      <td>Bunseki Kagaku</td>\n",
       "      <td>Determination of cationic and nonionic surfact...</td>\n",
       "      <td>['Chemistry']</td>\n",
       "      <td>NaN</td>\n",
       "    </tr>\n",
       "    <tr>\n",
       "      <th>6136271</th>\n",
       "      <td>NaN</td>\n",
       "      <td>https://semanticscholar.org/paper/0c6d7f8c8e3a...</td>\n",
       "      <td>NaN</td>\n",
       "      <td>NaN</td>\n",
       "      <td>Обретая Путь. Павел Флоренский в университетск...</td>\n",
       "      <td>[]</td>\n",
       "      <td>NaN</td>\n",
       "    </tr>\n",
       "    <tr>\n",
       "      <th>6136272</th>\n",
       "      <td>NaN</td>\n",
       "      <td>https://semanticscholar.org/paper/d79f92d7fe00...</td>\n",
       "      <td>10.11501/3054420</td>\n",
       "      <td>NaN</td>\n",
       "      <td>二次イオン質量分析(SIMS)の機能拡張に関する基礎的研究</td>\n",
       "      <td>[]</td>\n",
       "      <td>NaN</td>\n",
       "    </tr>\n",
       "    <tr>\n",
       "      <th>6136273</th>\n",
       "      <td>NaN</td>\n",
       "      <td>https://semanticscholar.org/paper/df53b21aee7c...</td>\n",
       "      <td>NaN</td>\n",
       "      <td>NaN</td>\n",
       "      <td>La necròpolis neolítica de cal pessetero de Ca...</td>\n",
       "      <td>[]</td>\n",
       "      <td>NaN</td>\n",
       "    </tr>\n",
       "  </tbody>\n",
       "</table>\n",
       "<p>49090192 rows × 7 columns</p>\n",
       "</div>"
      ],
      "text/plain": [
       "                                                      text  \\\n",
       "0                                                      NaN   \n",
       "1        Automated medication dispensing systems for ho...   \n",
       "2        In the future, the use of imaging methods to q...   \n",
       "3                                                      NaN   \n",
       "4                                                      NaN   \n",
       "...                                                    ...   \n",
       "6136269                                                NaN   \n",
       "6136270  化粧品は各種界面活性剤や油剤等の混合系であり, 製品中からの界面活性剤の分析には, できるだ...   \n",
       "6136271                                                NaN   \n",
       "6136272                                                NaN   \n",
       "6136273                                                NaN   \n",
       "\n",
       "                                                     s2Url  \\\n",
       "0        https://semanticscholar.org/paper/33b237709dbd...   \n",
       "1        https://semanticscholar.org/paper/062e9c7579ad...   \n",
       "2        https://semanticscholar.org/paper/771723e7e2d9...   \n",
       "3        https://semanticscholar.org/paper/263f70167ba7...   \n",
       "4        https://semanticscholar.org/paper/9ea1148fa657...   \n",
       "...                                                    ...   \n",
       "6136269  https://semanticscholar.org/paper/4dc00bd1953b...   \n",
       "6136270  https://semanticscholar.org/paper/7315cf092574...   \n",
       "6136271  https://semanticscholar.org/paper/0c6d7f8c8e3a...   \n",
       "6136272  https://semanticscholar.org/paper/d79f92d7fe00...   \n",
       "6136273  https://semanticscholar.org/paper/df53b21aee7c...   \n",
       "\n",
       "                                        doi  \\\n",
       "0                      10.14529/build190307   \n",
       "1               10.2190/W2BT-FGXQ-QL0G-YNL9   \n",
       "2             10.1016/S1052-5149(02)00023-0   \n",
       "3                                       NaN   \n",
       "4                                       NaN   \n",
       "...                                     ...   \n",
       "6136269  10.1111/J.1445-2197.1997.TB04602.X   \n",
       "6136270        10.2116/BUNSEKIKAGAKU.51.921   \n",
       "6136271                                 NaN   \n",
       "6136272                    10.11501/3054420   \n",
       "6136273                                 NaN   \n",
       "\n",
       "                                               journalName  \\\n",
       "0        Bulletin of South Ural State University series...   \n",
       "1                 International Journal of Health Services   \n",
       "2                    Neuroimaging clinics of North America   \n",
       "3                                                      NaN   \n",
       "4                                                      NaN   \n",
       "...                                                    ...   \n",
       "6136269  The Australian and New Zealand journal of surgery   \n",
       "6136270                                     Bunseki Kagaku   \n",
       "6136271                                                NaN   \n",
       "6136272                                                NaN   \n",
       "6136273                                                NaN   \n",
       "\n",
       "                                                     title  \\\n",
       "0        USING PHOTO IMAGES TO DETERMINE THE GEOMETRIC ...   \n",
       "1        Clinical or Industrial Pharmacy? Case Studies ...   \n",
       "2        Noncoronary and coronary atherothrombotic plaq...   \n",
       "3                                            국어 명사구 접속의 연구   \n",
       "4                     Who'll Take My Place : When I'm Gone   \n",
       "...                                                    ...   \n",
       "6136269  Where are we now with adjuvant therapy for rec...   \n",
       "6136270  Determination of cationic and nonionic surfact...   \n",
       "6136271  Обретая Путь. Павел Флоренский в университетск...   \n",
       "6136272                      二次イオン質量分析(SIMS)の機能拡張に関する基礎的研究   \n",
       "6136273  La necròpolis neolítica de cal pessetero de Ca...   \n",
       "\n",
       "                fieldsOfStudy            fields  \n",
       "0        ['Computer Science']  Computer Science  \n",
       "1                ['Medicine']          Medicine  \n",
       "2                ['Medicine']          Medicine  \n",
       "3                          []              None  \n",
       "4                     ['Art']               Art  \n",
       "...                       ...               ...  \n",
       "6136269          ['Medicine']               NaN  \n",
       "6136270         ['Chemistry']               NaN  \n",
       "6136271                    []               NaN  \n",
       "6136272                    []               NaN  \n",
       "6136273                    []               NaN  \n",
       "\n",
       "[49090192 rows x 7 columns]"
      ]
     },
     "execution_count": 21,
     "metadata": {},
     "output_type": "execute_result"
    }
   ],
   "source": [
    "df"
   ]
  },
  {
   "cell_type": "code",
   "execution_count": 24,
   "id": "a5becb57",
   "metadata": {},
   "outputs": [],
   "source": [
    "dfb = df"
   ]
  },
  {
   "cell_type": "code",
   "execution_count": null,
   "id": "b275fb6d",
   "metadata": {},
   "outputs": [],
   "source": [
    "#df2 = pd.read_csv(\"downloads/s2c_180_340.csv\", lineterminator='\\n' )\n",
    "\n",
    "#df= df1.append(df2)\n",
    "\n",
    "#df.to_csv(\"downloads/s2c_11M_short.csv\", index = False, header=True)\n",
    "\n",
    "#dfs = pd.read_csv(\"downloads/s2c_11M_short.csv\", lineterminator='\\n', error_bad_lines=False)"
   ]
  },
  {
   "cell_type": "code",
   "execution_count": 22,
   "id": "3ab15b63",
   "metadata": {},
   "outputs": [],
   "source": [
    "!rm -rf cache_dir/"
   ]
  },
  {
   "cell_type": "code",
   "execution_count": 27,
   "id": "1923e32f",
   "metadata": {},
   "outputs": [],
   "source": [
    "df = df[df.fieldsOfStudy.notna() & df.doi.notna()]\n",
    "\n"
   ]
  },
  {
   "cell_type": "code",
   "execution_count": 28,
   "id": "c25c0b09",
   "metadata": {},
   "outputs": [
    {
     "data": {
      "text/plain": [
       "26630816"
      ]
     },
     "execution_count": 28,
     "metadata": {},
     "output_type": "execute_result"
    }
   ],
   "source": [
    "len(df)"
   ]
  },
  {
   "cell_type": "code",
   "execution_count": 30,
   "id": "bdb89872",
   "metadata": {},
   "outputs": [],
   "source": [
    "df=df.dropna(subset=[\"text\"])\n",
    "#df=df.dropna(subset=[\"doi\"])\n"
   ]
  },
  {
   "cell_type": "code",
   "execution_count": 32,
   "id": "662283fa",
   "metadata": {},
   "outputs": [
    {
     "data": {
      "text/plain": [
       "17779400"
      ]
     },
     "execution_count": 32,
     "metadata": {},
     "output_type": "execute_result"
    }
   ],
   "source": [
    "len(df)"
   ]
  },
  {
   "cell_type": "code",
   "execution_count": 33,
   "id": "5845ee32",
   "metadata": {},
   "outputs": [
    {
     "data": {
      "text/plain": [
       "17359784"
      ]
     },
     "execution_count": 33,
     "metadata": {},
     "output_type": "execute_result"
    }
   ],
   "source": [
    "df = df[df[\"text\"].str.len() > 25]\n",
    "len(df)"
   ]
  },
  {
   "cell_type": "code",
   "execution_count": 35,
   "id": "f838b1a1",
   "metadata": {},
   "outputs": [],
   "source": [
    "df[\"fields\"] = df.fieldsOfStudy.map(lambda a: get(eval(a), 0))"
   ]
  },
  {
   "cell_type": "code",
   "execution_count": 37,
   "id": "2022128c",
   "metadata": {},
   "outputs": [
    {
     "data": {
      "text/plain": [
       "Index(['text', 's2Url', 'doi', 'journalName', 'title', 'fieldsOfStudy',\n",
       "       'fields'],\n",
       "      dtype='object')"
      ]
     },
     "execution_count": 37,
     "metadata": {},
     "output_type": "execute_result"
    }
   ],
   "source": [
    "df.columns"
   ]
  },
  {
   "cell_type": "code",
   "execution_count": 44,
   "id": "4f6ed256",
   "metadata": {},
   "outputs": [
    {
     "data": {
      "text/html": [
       "<div>\n",
       "<style scoped>\n",
       "    .dataframe tbody tr th:only-of-type {\n",
       "        vertical-align: middle;\n",
       "    }\n",
       "\n",
       "    .dataframe tbody tr th {\n",
       "        vertical-align: top;\n",
       "    }\n",
       "\n",
       "    .dataframe thead th {\n",
       "        text-align: right;\n",
       "    }\n",
       "</style>\n",
       "<table border=\"1\" class=\"dataframe\">\n",
       "  <thead>\n",
       "    <tr style=\"text-align: right;\">\n",
       "      <th></th>\n",
       "      <th>text</th>\n",
       "      <th>s2Url</th>\n",
       "      <th>doi</th>\n",
       "      <th>journalName</th>\n",
       "      <th>title</th>\n",
       "      <th>fieldsOfStudy</th>\n",
       "      <th>fields</th>\n",
       "    </tr>\n",
       "  </thead>\n",
       "  <tbody>\n",
       "    <tr>\n",
       "      <th>1</th>\n",
       "      <td>Automated medication dispensing systems for ho...</td>\n",
       "      <td>https://semanticscholar.org/paper/062e9c7579ad...</td>\n",
       "      <td>10.2190/W2BT-FGXQ-QL0G-YNL9</td>\n",
       "      <td>International Journal of Health Services</td>\n",
       "      <td>Clinical or Industrial Pharmacy? Case Studies ...</td>\n",
       "      <td>['Medicine']</td>\n",
       "      <td>Medicine</td>\n",
       "    </tr>\n",
       "    <tr>\n",
       "      <th>2</th>\n",
       "      <td>In the future, the use of imaging methods to q...</td>\n",
       "      <td>https://semanticscholar.org/paper/771723e7e2d9...</td>\n",
       "      <td>10.1016/S1052-5149(02)00023-0</td>\n",
       "      <td>Neuroimaging clinics of North America</td>\n",
       "      <td>Noncoronary and coronary atherothrombotic plaq...</td>\n",
       "      <td>['Medicine']</td>\n",
       "      <td>Medicine</td>\n",
       "    </tr>\n",
       "    <tr>\n",
       "      <th>6</th>\n",
       "      <td>BackgroundCorneal endothelium (CE) images prov...</td>\n",
       "      <td>https://semanticscholar.org/paper/984774e366d3...</td>\n",
       "      <td>10.1186/s42490-019-0003-2</td>\n",
       "      <td>BMC Biomedical Engineering</td>\n",
       "      <td>Fully convolutional architecture vs sliding-wi...</td>\n",
       "      <td>['Medicine', 'Computer Science']</td>\n",
       "      <td>Medicine</td>\n",
       "    </tr>\n",
       "    <tr>\n",
       "      <th>7</th>\n",
       "      <td>Falsified and substandard drugs are a global h...</td>\n",
       "      <td>https://semanticscholar.org/paper/0d0467c4cccb...</td>\n",
       "      <td>10.1371/journal.pone.0090601</td>\n",
       "      <td>PLoS ONE</td>\n",
       "      <td>Technologies for Detecting Falsified and Subst...</td>\n",
       "      <td>['Medicine']</td>\n",
       "      <td>Medicine</td>\n",
       "    </tr>\n",
       "    <tr>\n",
       "      <th>11</th>\n",
       "      <td>Objectives To explore the molecular epidemiolo...</td>\n",
       "      <td>https://semanticscholar.org/paper/878a852598fb...</td>\n",
       "      <td>10.1371/journal.pone.0211261</td>\n",
       "      <td>PLoS ONE</td>\n",
       "      <td>Mutation screening in non-syndromic hearing lo...</td>\n",
       "      <td>['Medicine']</td>\n",
       "      <td>Medicine</td>\n",
       "    </tr>\n",
       "    <tr>\n",
       "      <th>...</th>\n",
       "      <td>...</td>\n",
       "      <td>...</td>\n",
       "      <td>...</td>\n",
       "      <td>...</td>\n",
       "      <td>...</td>\n",
       "      <td>...</td>\n",
       "      <td>...</td>\n",
       "    </tr>\n",
       "    <tr>\n",
       "      <th>6136252</th>\n",
       "      <td>Computed tomography of the normal female pelvi...</td>\n",
       "      <td>https://semanticscholar.org/paper/5e0ae92aa402...</td>\n",
       "      <td>10.1177/028418519103200219</td>\n",
       "      <td>Acta Radiologica</td>\n",
       "      <td>Air in Vagina</td>\n",
       "      <td>['Medicine']</td>\n",
       "      <td>Medicine</td>\n",
       "    </tr>\n",
       "    <tr>\n",
       "      <th>6136254</th>\n",
       "      <td>Masih tingginya angka kematian ibu dan bayi me...</td>\n",
       "      <td>https://semanticscholar.org/paper/8e0d833dad81...</td>\n",
       "      <td>10.33653/JKP.V6I1.213</td>\n",
       "      <td>JURNAL KESEHATAN PERINTIS (Perintis's Health J...</td>\n",
       "      <td>FAKTOR-FAKTOR YANG MEMENGARUHI KEGAGALAN INISI...</td>\n",
       "      <td>['Physics']</td>\n",
       "      <td>Physics</td>\n",
       "    </tr>\n",
       "    <tr>\n",
       "      <th>6136256</th>\n",
       "      <td>Objective: To determine the earliest symptoms ...</td>\n",
       "      <td>https://semanticscholar.org/paper/4bc1e1639ab5...</td>\n",
       "      <td>10.1136/jnnp.2005.085373</td>\n",
       "      <td>Journal of Neurology, Neurosurgery &amp; Psychiatry</td>\n",
       "      <td>A diagnostic formulation for anosognosia in Al...</td>\n",
       "      <td>['Psychology', 'Medicine']</td>\n",
       "      <td>Psychology</td>\n",
       "    </tr>\n",
       "    <tr>\n",
       "      <th>6136260</th>\n",
       "      <td>Detailed measurements are made of the 79,81Br ...</td>\n",
       "      <td>https://semanticscholar.org/paper/9f9a62d79b31...</td>\n",
       "      <td>10.1002/PSSB.2221130138</td>\n",
       "      <td>Physica Status Solidi B-basic Solid State Physics</td>\n",
       "      <td>Temperature and Pressure Dependence of the Ele...</td>\n",
       "      <td>['Chemistry']</td>\n",
       "      <td>Chemistry</td>\n",
       "    </tr>\n",
       "    <tr>\n",
       "      <th>6136270</th>\n",
       "      <td>化粧品は各種界面活性剤や油剤等の混合系であり, 製品中からの界面活性剤の分析には, できるだ...</td>\n",
       "      <td>https://semanticscholar.org/paper/7315cf092574...</td>\n",
       "      <td>10.2116/BUNSEKIKAGAKU.51.921</td>\n",
       "      <td>Bunseki Kagaku</td>\n",
       "      <td>Determination of cationic and nonionic surfact...</td>\n",
       "      <td>['Chemistry']</td>\n",
       "      <td>Chemistry</td>\n",
       "    </tr>\n",
       "  </tbody>\n",
       "</table>\n",
       "<p>16218216 rows × 7 columns</p>\n",
       "</div>"
      ],
      "text/plain": [
       "                                                      text  \\\n",
       "1        Automated medication dispensing systems for ho...   \n",
       "2        In the future, the use of imaging methods to q...   \n",
       "6        BackgroundCorneal endothelium (CE) images prov...   \n",
       "7        Falsified and substandard drugs are a global h...   \n",
       "11       Objectives To explore the molecular epidemiolo...   \n",
       "...                                                    ...   \n",
       "6136252  Computed tomography of the normal female pelvi...   \n",
       "6136254  Masih tingginya angka kematian ibu dan bayi me...   \n",
       "6136256  Objective: To determine the earliest symptoms ...   \n",
       "6136260  Detailed measurements are made of the 79,81Br ...   \n",
       "6136270  化粧品は各種界面活性剤や油剤等の混合系であり, 製品中からの界面活性剤の分析には, できるだ...   \n",
       "\n",
       "                                                     s2Url  \\\n",
       "1        https://semanticscholar.org/paper/062e9c7579ad...   \n",
       "2        https://semanticscholar.org/paper/771723e7e2d9...   \n",
       "6        https://semanticscholar.org/paper/984774e366d3...   \n",
       "7        https://semanticscholar.org/paper/0d0467c4cccb...   \n",
       "11       https://semanticscholar.org/paper/878a852598fb...   \n",
       "...                                                    ...   \n",
       "6136252  https://semanticscholar.org/paper/5e0ae92aa402...   \n",
       "6136254  https://semanticscholar.org/paper/8e0d833dad81...   \n",
       "6136256  https://semanticscholar.org/paper/4bc1e1639ab5...   \n",
       "6136260  https://semanticscholar.org/paper/9f9a62d79b31...   \n",
       "6136270  https://semanticscholar.org/paper/7315cf092574...   \n",
       "\n",
       "                                   doi  \\\n",
       "1          10.2190/W2BT-FGXQ-QL0G-YNL9   \n",
       "2        10.1016/S1052-5149(02)00023-0   \n",
       "6            10.1186/s42490-019-0003-2   \n",
       "7         10.1371/journal.pone.0090601   \n",
       "11        10.1371/journal.pone.0211261   \n",
       "...                                ...   \n",
       "6136252     10.1177/028418519103200219   \n",
       "6136254          10.33653/JKP.V6I1.213   \n",
       "6136256       10.1136/jnnp.2005.085373   \n",
       "6136260        10.1002/PSSB.2221130138   \n",
       "6136270   10.2116/BUNSEKIKAGAKU.51.921   \n",
       "\n",
       "                                               journalName  \\\n",
       "1                 International Journal of Health Services   \n",
       "2                    Neuroimaging clinics of North America   \n",
       "6                               BMC Biomedical Engineering   \n",
       "7                                                 PLoS ONE   \n",
       "11                                                PLoS ONE   \n",
       "...                                                    ...   \n",
       "6136252                                   Acta Radiologica   \n",
       "6136254  JURNAL KESEHATAN PERINTIS (Perintis's Health J...   \n",
       "6136256    Journal of Neurology, Neurosurgery & Psychiatry   \n",
       "6136260  Physica Status Solidi B-basic Solid State Physics   \n",
       "6136270                                     Bunseki Kagaku   \n",
       "\n",
       "                                                     title  \\\n",
       "1        Clinical or Industrial Pharmacy? Case Studies ...   \n",
       "2        Noncoronary and coronary atherothrombotic plaq...   \n",
       "6        Fully convolutional architecture vs sliding-wi...   \n",
       "7        Technologies for Detecting Falsified and Subst...   \n",
       "11       Mutation screening in non-syndromic hearing lo...   \n",
       "...                                                    ...   \n",
       "6136252                                      Air in Vagina   \n",
       "6136254  FAKTOR-FAKTOR YANG MEMENGARUHI KEGAGALAN INISI...   \n",
       "6136256  A diagnostic formulation for anosognosia in Al...   \n",
       "6136260  Temperature and Pressure Dependence of the Ele...   \n",
       "6136270  Determination of cationic and nonionic surfact...   \n",
       "\n",
       "                            fieldsOfStudy      fields  \n",
       "1                            ['Medicine']    Medicine  \n",
       "2                            ['Medicine']    Medicine  \n",
       "6        ['Medicine', 'Computer Science']    Medicine  \n",
       "7                            ['Medicine']    Medicine  \n",
       "11                           ['Medicine']    Medicine  \n",
       "...                                   ...         ...  \n",
       "6136252                      ['Medicine']    Medicine  \n",
       "6136254                       ['Physics']     Physics  \n",
       "6136256        ['Psychology', 'Medicine']  Psychology  \n",
       "6136260                     ['Chemistry']   Chemistry  \n",
       "6136270                     ['Chemistry']   Chemistry  \n",
       "\n",
       "[16218216 rows x 7 columns]"
      ]
     },
     "execution_count": 44,
     "metadata": {},
     "output_type": "execute_result"
    }
   ],
   "source": [
    "df"
   ]
  },
  {
   "cell_type": "code",
   "execution_count": 39,
   "id": "ab403dcf",
   "metadata": {},
   "outputs": [
    {
     "data": {
      "text/plain": [
       "17359784"
      ]
     },
     "execution_count": 39,
     "metadata": {},
     "output_type": "execute_result"
    }
   ],
   "source": [
    "len(df)"
   ]
  },
  {
   "cell_type": "code",
   "execution_count": 40,
   "id": "e4a44129",
   "metadata": {},
   "outputs": [],
   "source": [
    "df =df[df.fields.notna()]"
   ]
  },
  {
   "cell_type": "code",
   "execution_count": 48,
   "id": "025b1b6d",
   "metadata": {},
   "outputs": [],
   "source": [
    "df.to_csv(\"downloads/16M_semifiltered_all_domains.csv\", index = False, header=True)"
   ]
  },
  {
   "cell_type": "code",
   "execution_count": 31,
   "id": "f976310f",
   "metadata": {},
   "outputs": [],
   "source": [
    "df = df[df.fields.isin([\"Medicine\", 'Environmental Science', 'Sociology', 'Psychology', 'Geology', 'Biology', 'Materials Science', 'Chemistry'])]"
   ]
  },
  {
   "cell_type": "code",
   "execution_count": 34,
   "id": "78f678a3",
   "metadata": {},
   "outputs": [],
   "source": [
    "df.to_csv(\"downloads/s2c_5M_bioadjacent.csv\",index = False, header=True)"
   ]
  },
  {
   "cell_type": "code",
   "execution_count": 29,
   "id": "b3bab96b",
   "metadata": {},
   "outputs": [
    {
     "name": "stdout",
     "output_type": "stream",
     "text": [
      "Collecting pydash\n",
      "  Using cached pydash-5.1.0-py3-none-any.whl (84 kB)\n",
      "Installing collected packages: pydash\n",
      "Successfully installed pydash-5.1.0\n"
     ]
    }
   ],
   "source": [
    "!pip install pydash"
   ]
  },
  {
   "cell_type": "code",
   "execution_count": 31,
   "id": "1d0ead65",
   "metadata": {},
   "outputs": [],
   "source": [
    "from pydash import get"
   ]
  },
  {
   "cell_type": "code",
   "execution_count": 60,
   "id": "aac75a2d",
   "metadata": {},
   "outputs": [],
   "source": [
    "df=df2"
   ]
  },
  {
   "cell_type": "code",
   "execution_count": 78,
   "id": "7520de8d",
   "metadata": {},
   "outputs": [
    {
     "data": {
      "text/plain": [
       "('The northern corn rootworm', 'The northern corn rootworm')"
      ]
     },
     "execution_count": 78,
     "metadata": {},
     "output_type": "execute_result"
    }
   ],
   "source": [
    "blacklist=[\"abstract\", \"discussion\", \"background\", \"summary\", \"rationale\", \"introduction\", \"publisher\", \"introduction\", \"statement\", \"purpose\", \"objective\" ]\n",
    "blacklist += [t + \":\" for t in blacklist]\n",
    "def remove_special_words(text, blacklist=blacklist ):\n",
    "    words = text.split(\" \")\n",
    "    try:\n",
    "        first=words[0]\n",
    "    except:\n",
    "        return text\n",
    "    \n",
    "    first = first.strip().lower()\n",
    "#     if any(first in string for string in blacklist):\n",
    "#         return \" \".join(words[1:]).strip()\n",
    "    for w in reversed(blacklist): #prioritize \"Abstract:The\" replace over \"AbstractThe\"\n",
    "        if w in first:\n",
    "            return \" \".join([first.split(w)[1].capitalize()] + words[1:]).strip()\n",
    "    return text\n",
    "\n",
    "remove_special_words(\"ABSTRACT   The northern corn rootworm\"), remove_special_words(\"purpose:The northern corn rootworm\")"
   ]
  },
  {
   "cell_type": "code",
   "execution_count": 79,
   "id": "d6f63fb0",
   "metadata": {},
   "outputs": [
    {
     "name": "stderr",
     "output_type": "stream",
     "text": [
      "/home/ec2-user/anaconda3/envs/pytorch_p36/lib/python3.6/site-packages/ipykernel/__main__.py:1: SettingWithCopyWarning: \n",
      "A value is trying to be set on a copy of a slice from a DataFrame.\n",
      "Try using .loc[row_indexer,col_indexer] = value instead\n",
      "\n",
      "See the caveats in the documentation: https://pandas.pydata.org/pandas-docs/stable/user_guide/indexing.html#returning-a-view-versus-a-copy\n",
      "  if __name__ == '__main__':\n"
     ]
    }
   ],
   "source": [
    "df[\"text\"] = df[\"text\"].map(remove_special_words)\n"
   ]
  },
  {
   "cell_type": "code",
   "execution_count": 81,
   "id": "b12cd190",
   "metadata": {},
   "outputs": [],
   "source": [
    "dfs = df[[\"text\", \"doi\", \"fields\"]]"
   ]
  },
  {
   "cell_type": "code",
   "execution_count": 89,
   "id": "a1984895",
   "metadata": {},
   "outputs": [
    {
     "data": {
      "text/html": [
       "<div>\n",
       "<style scoped>\n",
       "    .dataframe tbody tr th:only-of-type {\n",
       "        vertical-align: middle;\n",
       "    }\n",
       "\n",
       "    .dataframe tbody tr th {\n",
       "        vertical-align: top;\n",
       "    }\n",
       "\n",
       "    .dataframe thead th {\n",
       "        text-align: right;\n",
       "    }\n",
       "</style>\n",
       "<table border=\"1\" class=\"dataframe\">\n",
       "  <thead>\n",
       "    <tr style=\"text-align: right;\">\n",
       "      <th></th>\n",
       "      <th>text</th>\n",
       "      <th>doi</th>\n",
       "      <th>fields</th>\n",
       "    </tr>\n",
       "  </thead>\n",
       "  <tbody>\n",
       "    <tr>\n",
       "      <th>1</th>\n",
       "      <td>Automated medication dispensing systems for ho...</td>\n",
       "      <td>10.2190/W2BT-FGXQ-QL0G-YNL9</td>\n",
       "      <td>Medicine</td>\n",
       "    </tr>\n",
       "    <tr>\n",
       "      <th>2</th>\n",
       "      <td>the future, the use of imaging methods to quan...</td>\n",
       "      <td>10.1016/S1052-5149(02)00023-0</td>\n",
       "      <td>Medicine</td>\n",
       "    </tr>\n",
       "    <tr>\n",
       "      <th>6</th>\n",
       "      <td>Corneal endothelium (CE) images provide valuab...</td>\n",
       "      <td>10.1186/s42490-019-0003-2</td>\n",
       "      <td>Medicine</td>\n",
       "    </tr>\n",
       "    <tr>\n",
       "      <th>7</th>\n",
       "      <td>Falsified and substandard drugs are a global h...</td>\n",
       "      <td>10.1371/journal.pone.0090601</td>\n",
       "      <td>Medicine</td>\n",
       "    </tr>\n",
       "    <tr>\n",
       "      <th>11</th>\n",
       "      <td>S To explore the molecular epidemiology of rar...</td>\n",
       "      <td>10.1371/journal.pone.0211261</td>\n",
       "      <td>Medicine</td>\n",
       "    </tr>\n",
       "    <tr>\n",
       "      <th>...</th>\n",
       "      <td>...</td>\n",
       "      <td>...</td>\n",
       "      <td>...</td>\n",
       "    </tr>\n",
       "    <tr>\n",
       "      <th>6136252</th>\n",
       "      <td>Computed tomography of the normal female pelvi...</td>\n",
       "      <td>10.1177/028418519103200219</td>\n",
       "      <td>Medicine</td>\n",
       "    </tr>\n",
       "    <tr>\n",
       "      <th>6136254</th>\n",
       "      <td>Masih tingginya angka kematian ibu dan bayi me...</td>\n",
       "      <td>10.33653/JKP.V6I1.213</td>\n",
       "      <td>Physics</td>\n",
       "    </tr>\n",
       "    <tr>\n",
       "      <th>6136256</th>\n",
       "      <td>To determine the earliest symptoms of anosogno...</td>\n",
       "      <td>10.1136/jnnp.2005.085373</td>\n",
       "      <td>Psychology</td>\n",
       "    </tr>\n",
       "    <tr>\n",
       "      <th>6136260</th>\n",
       "      <td>Detailed measurements are made of the 79,81Br ...</td>\n",
       "      <td>10.1002/PSSB.2221130138</td>\n",
       "      <td>Chemistry</td>\n",
       "    </tr>\n",
       "    <tr>\n",
       "      <th>6136270</th>\n",
       "      <td>化粧品は各種界面活性剤や油剤等の混合系であり, 製品中からの界面活性剤の分析には, できるだ...</td>\n",
       "      <td>10.2116/BUNSEKIKAGAKU.51.921</td>\n",
       "      <td>Chemistry</td>\n",
       "    </tr>\n",
       "  </tbody>\n",
       "</table>\n",
       "<p>16218216 rows × 3 columns</p>\n",
       "</div>"
      ],
      "text/plain": [
       "                                                      text  \\\n",
       "1        Automated medication dispensing systems for ho...   \n",
       "2        the future, the use of imaging methods to quan...   \n",
       "6        Corneal endothelium (CE) images provide valuab...   \n",
       "7        Falsified and substandard drugs are a global h...   \n",
       "11       S To explore the molecular epidemiology of rar...   \n",
       "...                                                    ...   \n",
       "6136252  Computed tomography of the normal female pelvi...   \n",
       "6136254  Masih tingginya angka kematian ibu dan bayi me...   \n",
       "6136256  To determine the earliest symptoms of anosogno...   \n",
       "6136260  Detailed measurements are made of the 79,81Br ...   \n",
       "6136270  化粧品は各種界面活性剤や油剤等の混合系であり, 製品中からの界面活性剤の分析には, できるだ...   \n",
       "\n",
       "                                   doi      fields  \n",
       "1          10.2190/W2BT-FGXQ-QL0G-YNL9    Medicine  \n",
       "2        10.1016/S1052-5149(02)00023-0    Medicine  \n",
       "6            10.1186/s42490-019-0003-2    Medicine  \n",
       "7         10.1371/journal.pone.0090601    Medicine  \n",
       "11        10.1371/journal.pone.0211261    Medicine  \n",
       "...                                ...         ...  \n",
       "6136252     10.1177/028418519103200219    Medicine  \n",
       "6136254          10.33653/JKP.V6I1.213     Physics  \n",
       "6136256       10.1136/jnnp.2005.085373  Psychology  \n",
       "6136260        10.1002/PSSB.2221130138   Chemistry  \n",
       "6136270   10.2116/BUNSEKIKAGAKU.51.921   Chemistry  \n",
       "\n",
       "[16218216 rows x 3 columns]"
      ]
     },
     "execution_count": 89,
     "metadata": {},
     "output_type": "execute_result"
    }
   ],
   "source": [
    "dfs"
   ]
  },
  {
   "cell_type": "code",
   "execution_count": 90,
   "id": "2162afb2",
   "metadata": {},
   "outputs": [],
   "source": [
    "dfs.to_csv (\"downloads/16M_small_alldomains_clean.csv\", index = False, header=True)"
   ]
  },
  {
   "cell_type": "code",
   "execution_count": 63,
   "id": "6e68849f",
   "metadata": {},
   "outputs": [],
   "source": [
    "dfx = df[[\"text\", \"s2Url\", \"doi\", \"journalName\", \"title\", \"fields\", \"fieldsOfStudy\"]]"
   ]
  },
  {
   "cell_type": "code",
   "execution_count": 65,
   "id": "8575d492",
   "metadata": {},
   "outputs": [
    {
     "data": {
      "text/plain": [
       "1956472"
      ]
     },
     "execution_count": 65,
     "metadata": {},
     "output_type": "execute_result"
    }
   ],
   "source": [
    "len(dfx)"
   ]
  },
  {
   "cell_type": "code",
   "execution_count": 64,
   "id": "2f73e682",
   "metadata": {},
   "outputs": [],
   "source": [
    "dfx.to_csv (\"downloads/s2c_100_2M.csv\",index = False, header=True)"
   ]
  },
  {
   "cell_type": "code",
   "execution_count": 34,
   "id": "cdb760af",
   "metadata": {},
   "outputs": [
    {
     "name": "stdout",
     "output_type": "stream",
     "text": [
      "{'Business', 'Mathematics', 'Philosophy', 'Medicine', 'Environmental Science', 'Engineering', 'History', 'Art', 'Sociology', 'Psychology', 'Geology', 'Economics', 'Biology', 'Materials Science', 'Physics', 'Geography', 'Chemistry', 'Political Science', 'Computer Science'}\n"
     ]
    }
   ],
   "source": [
    "FoS = []\n",
    "for d in data:\n",
    "    FoS += d[\"fieldsOfStudy\"]\n",
    "\n",
    "print(set(FoS))"
   ]
  }
 ],
 "metadata": {
  "kernelspec": {
   "display_name": "conda_pytorch_p36",
   "language": "python",
   "name": "conda_pytorch_p36"
  },
  "language_info": {
   "codemirror_mode": {
    "name": "ipython",
    "version": 3
   },
   "file_extension": ".py",
   "mimetype": "text/x-python",
   "name": "python",
   "nbconvert_exporter": "python",
   "pygments_lexer": "ipython3",
   "version": "3.6.13"
  }
 },
 "nbformat": 4,
 "nbformat_minor": 5
}
