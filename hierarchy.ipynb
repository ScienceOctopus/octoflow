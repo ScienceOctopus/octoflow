{
 "cells": [
  {
   "cell_type": "code",
   "execution_count": 2,
   "id": "9abcd9a4",
   "metadata": {},
   "outputs": [],
   "source": [
    "import pandas as pd\n",
    "df = pd.read_csv(\"downloads/60k_core_all.csv\")"
   ]
  },
  {
   "cell_type": "code",
   "execution_count": 3,
   "id": "a2baa86a",
   "metadata": {},
   "outputs": [
    {
     "name": "stdout",
     "output_type": "stream",
     "text": [
      "Collecting bertopic\n",
      "  Downloading bertopic-0.9.3-py2.py3-none-any.whl (57 kB)\n",
      "     |████████████████████████████████| 57 kB 6.3 MB/s             \n",
      "\u001b[?25hCollecting sentence-transformers>=0.4.1\n",
      "  Using cached sentence-transformers-2.2.0.tar.gz (79 kB)\n",
      "  Preparing metadata (setup.py) ... \u001b[?25ldone\n",
      "\u001b[?25hRequirement already satisfied: tqdm>=4.41.1 in /home/ec2-user/anaconda3/envs/mxnet_p36/lib/python3.6/site-packages (from bertopic) (4.62.3)\n",
      "Requirement already satisfied: pandas>=1.1.5 in /home/ec2-user/anaconda3/envs/mxnet_p36/lib/python3.6/site-packages (from bertopic) (1.1.5)\n",
      "Collecting umap-learn>=0.5.0\n",
      "  Using cached umap-learn-0.5.2.tar.gz (86 kB)\n",
      "  Preparing metadata (setup.py) ... \u001b[?25ldone\n",
      "\u001b[?25hCollecting bertopic\n",
      "  Downloading bertopic-0.9.2-py2.py3-none-any.whl (57 kB)\n",
      "     |████████████████████████████████| 57 kB 7.9 MB/s             \n",
      "\u001b[?25h  Downloading bertopic-0.9.1-py2.py3-none-any.whl (55 kB)\n",
      "     |████████████████████████████████| 55 kB 8.6 MB/s              \n",
      "\u001b[?25h  Downloading bertopic-0.9.0-py2.py3-none-any.whl (55 kB)\n",
      "     |████████████████████████████████| 55 kB 8.2 MB/s              \n",
      "\u001b[?25h  Downloading bertopic-0.8.1-py2.py3-none-any.whl (53 kB)\n",
      "     |████████████████████████████████| 53 kB 4.8 MB/s              \n",
      "\u001b[?25h  Downloading bertopic-0.8.0-py2.py3-none-any.whl (53 kB)\n",
      "     |████████████████████████████████| 53 kB 3.0 MB/s              \n",
      "\u001b[?25h  Downloading bertopic-0.7.0-py2.py3-none-any.whl (40 kB)\n",
      "     |████████████████████████████████| 40 kB 6.5 MB/s              \n",
      "\u001b[?25h  Downloading bertopic-0.6.0-py2.py3-none-any.whl (25 kB)\n",
      "Collecting torch>=1.4.0\n",
      "  Downloading torch-1.10.2-cp36-cp36m-manylinux1_x86_64.whl (881.9 MB)\n",
      "     |████████████▉                   | 352.9 MB 149.4 MB/s eta 0:00:04"
     ]
    },
    {
     "name": "stderr",
     "output_type": "stream",
     "text": [
      "IOPub data rate exceeded.\n",
      "The notebook server will temporarily stop sending output\n",
      "to the client in order to avoid crashing it.\n",
      "To change this limit, set the config variable\n",
      "`--NotebookApp.iopub_data_rate_limit`.\n",
      "\n",
      "Current values:\n",
      "NotebookApp.iopub_data_rate_limit=1000000.0 (bytes/sec)\n",
      "NotebookApp.rate_limit_window=3.0 (secs)\n",
      "\n"
     ]
    },
    {
     "name": "stdout",
     "output_type": "stream",
     "text": [
      "     |█████████████████████████▉      | 711.8 MB 150.7 MB/s eta 0:00:02"
     ]
    },
    {
     "name": "stderr",
     "output_type": "stream",
     "text": [
      "IOPub data rate exceeded.\n",
      "The notebook server will temporarily stop sending output\n",
      "to the client in order to avoid crashing it.\n",
      "To change this limit, set the config variable\n",
      "`--NotebookApp.iopub_data_rate_limit`.\n",
      "\n",
      "Current values:\n",
      "NotebookApp.iopub_data_rate_limit=1000000.0 (bytes/sec)\n",
      "NotebookApp.rate_limit_window=3.0 (secs)\n",
      "\n"
     ]
    },
    {
     "name": "stdout",
     "output_type": "stream",
     "text": [
      "     |██████████████████████████████▏ | 830.9 MB 129.3 MB/s eta 0:00:01"
     ]
    },
    {
     "name": "stderr",
     "output_type": "stream",
     "text": [
      "IOPub data rate exceeded.\n",
      "The notebook server will temporarily stop sending output\n",
      "to the client in order to avoid crashing it.\n",
      "To change this limit, set the config variable\n",
      "`--NotebookApp.iopub_data_rate_limit`.\n",
      "\n",
      "Current values:\n",
      "NotebookApp.iopub_data_rate_limit=1000000.0 (bytes/sec)\n",
      "NotebookApp.rate_limit_window=3.0 (secs)\n",
      "\n"
     ]
    },
    {
     "name": "stdout",
     "output_type": "stream",
     "text": [
      "     |████████████████████████████████| 881.9 MB 5.9 kB/s              \n",
      "\u001b[?25hRequirement already satisfied: numpy>=1.19.2 in /home/ec2-user/anaconda3/envs/mxnet_p36/lib/python3.6/site-packages (from bertopic) (1.19.5)\n",
      "Collecting hdbscan>=0.8.27\n",
      "  Using cached hdbscan-0.8.28.tar.gz (5.2 MB)\n",
      "  Installing build dependencies ... \u001b[?25ldone\n",
      "\u001b[?25h  Getting requirements to build wheel ... \u001b[?25ldone\n",
      "\u001b[?25h  Preparing metadata (pyproject.toml) ... \u001b[?25ldone\n",
      "\u001b[?25hRequirement already satisfied: scikit-learn>=0.22.2.post1 in /home/ec2-user/anaconda3/envs/mxnet_p36/lib/python3.6/site-packages (from bertopic) (0.24.1)\n",
      "Requirement already satisfied: scipy>=1.0 in /home/ec2-user/anaconda3/envs/mxnet_p36/lib/python3.6/site-packages (from hdbscan>=0.8.27->bertopic) (1.5.3)\n",
      "Requirement already satisfied: joblib>=1.0 in /home/ec2-user/anaconda3/envs/mxnet_p36/lib/python3.6/site-packages (from hdbscan>=0.8.27->bertopic) (1.0.1)\n",
      "  Downloading hdbscan-0.8.27.tar.gz (6.4 MB)\n",
      "     |████████████████████████████████| 6.4 MB 86.4 MB/s            \n",
      "\u001b[?25h  Installing build dependencies ... \u001b[?25ldone\n",
      "\u001b[?25h  Getting requirements to build wheel ... \u001b[?25ldone\n",
      "\u001b[?25h  Preparing metadata (pyproject.toml) ... \u001b[?25ldone\n",
      "\u001b[?25hRequirement already satisfied: six in /home/ec2-user/anaconda3/envs/mxnet_p36/lib/python3.6/site-packages (from hdbscan>=0.8.27->bertopic) (1.15.0)\n",
      "Requirement already satisfied: cython>=0.27 in /home/ec2-user/anaconda3/envs/mxnet_p36/lib/python3.6/site-packages (from hdbscan>=0.8.27->bertopic) (0.29.22)\n",
      "Requirement already satisfied: python-dateutil>=2.7.3 in /home/ec2-user/anaconda3/envs/mxnet_p36/lib/python3.6/site-packages (from pandas>=1.1.5->bertopic) (2.8.1)\n",
      "Requirement already satisfied: pytz>=2017.2 in /home/ec2-user/anaconda3/envs/mxnet_p36/lib/python3.6/site-packages (from pandas>=1.1.5->bertopic) (2021.1)\n",
      "Requirement already satisfied: threadpoolctl>=2.0.0 in /home/ec2-user/anaconda3/envs/mxnet_p36/lib/python3.6/site-packages (from scikit-learn>=0.22.2.post1->bertopic) (2.1.0)\n",
      "Collecting transformers<5.0.0,>=4.6.0\n",
      "  Using cached transformers-4.17.0-py3-none-any.whl (3.8 MB)\n",
      "Collecting torchvision\n",
      "  Downloading torchvision-0.11.2-cp36-cp36m-manylinux1_x86_64.whl (23.3 MB)\n",
      "     |████████████████████████████████| 23.3 MB 36.3 MB/s            \n",
      "\u001b[?25hRequirement already satisfied: nltk in /home/ec2-user/anaconda3/envs/mxnet_p36/lib/python3.6/site-packages (from sentence-transformers>=0.4.1->bertopic) (3.4.4)\n",
      "Collecting sentencepiece\n",
      "  Downloading sentencepiece-0.1.96-cp36-cp36m-manylinux_2_17_x86_64.manylinux2014_x86_64.whl (1.2 MB)\n",
      "     |████████████████████████████████| 1.2 MB 74.7 MB/s            \n",
      "\u001b[?25hCollecting huggingface-hub\n",
      "  Using cached huggingface_hub-0.4.0-py3-none-any.whl (67 kB)\n",
      "Requirement already satisfied: dataclasses in /home/ec2-user/anaconda3/envs/mxnet_p36/lib/python3.6/site-packages (from torch>=1.4.0->bertopic) (0.8)\n",
      "Requirement already satisfied: typing-extensions in /home/ec2-user/anaconda3/envs/mxnet_p36/lib/python3.6/site-packages (from torch>=1.4.0->bertopic) (4.0.1)\n",
      "Requirement already satisfied: numba>=0.49 in /home/ec2-user/anaconda3/envs/mxnet_p36/lib/python3.6/site-packages (from umap-learn>=0.5.0->bertopic) (0.52.0)\n",
      "Collecting pynndescent>=0.5\n",
      "  Using cached pynndescent-0.5.6.tar.gz (1.1 MB)\n",
      "  Preparing metadata (setup.py) ... \u001b[?25ldone\n",
      "\u001b[?25hRequirement already satisfied: llvmlite<0.36,>=0.35.0 in /home/ec2-user/anaconda3/envs/mxnet_p36/lib/python3.6/site-packages (from numba>=0.49->umap-learn>=0.5.0->bertopic) (0.35.0)\n",
      "Requirement already satisfied: setuptools in /home/ec2-user/anaconda3/envs/mxnet_p36/lib/python3.6/site-packages (from numba>=0.49->umap-learn>=0.5.0->bertopic) (49.6.0.post20210108)\n",
      "Requirement already satisfied: pyyaml>=5.1 in /home/ec2-user/anaconda3/envs/mxnet_p36/lib/python3.6/site-packages (from transformers<5.0.0,>=4.6.0->sentence-transformers>=0.4.1->bertopic) (5.4.1)\n",
      "Collecting tokenizers!=0.11.3,>=0.11.1\n",
      "  Downloading tokenizers-0.11.6-cp36-cp36m-manylinux_2_12_x86_64.manylinux2010_x86_64.whl (6.5 MB)\n",
      "     |████████████████████████████████| 6.5 MB 13.0 MB/s            \n",
      "\u001b[?25hRequirement already satisfied: regex!=2019.12.17 in /home/ec2-user/anaconda3/envs/mxnet_p36/lib/python3.6/site-packages (from transformers<5.0.0,>=4.6.0->sentence-transformers>=0.4.1->bertopic) (2020.11.13)\n",
      "Collecting sacremoses\n",
      "  Using cached sacremoses-0.0.47-py2.py3-none-any.whl (895 kB)\n",
      "Requirement already satisfied: packaging>=20.0 in /home/ec2-user/anaconda3/envs/mxnet_p36/lib/python3.6/site-packages (from transformers<5.0.0,>=4.6.0->sentence-transformers>=0.4.1->bertopic) (21.3)\n",
      "Requirement already satisfied: filelock in /home/ec2-user/anaconda3/envs/mxnet_p36/lib/python3.6/site-packages (from transformers<5.0.0,>=4.6.0->sentence-transformers>=0.4.1->bertopic) (3.0.12)\n",
      "Requirement already satisfied: importlib-metadata in /home/ec2-user/anaconda3/envs/mxnet_p36/lib/python3.6/site-packages (from transformers<5.0.0,>=4.6.0->sentence-transformers>=0.4.1->bertopic) (3.7.0)\n",
      "Requirement already satisfied: requests in /home/ec2-user/anaconda3/envs/mxnet_p36/lib/python3.6/site-packages (from transformers<5.0.0,>=4.6.0->sentence-transformers>=0.4.1->bertopic) (2.26.0)\n",
      "Requirement already satisfied: pillow!=8.3.0,>=5.3.0 in /home/ec2-user/anaconda3/envs/mxnet_p36/lib/python3.6/site-packages (from torchvision->sentence-transformers>=0.4.1->bertopic) (8.4.0)\n",
      "Collecting torch>=1.4.0\n",
      "  Downloading torch-1.10.1-cp36-cp36m-manylinux1_x86_64.whl (881.9 MB)\n",
      "     |████████████▋                   | 346.3 MB 131.9 MB/s eta 0:00:05"
     ]
    },
    {
     "name": "stderr",
     "output_type": "stream",
     "text": [
      "IOPub data rate exceeded.\n",
      "The notebook server will temporarily stop sending output\n",
      "to the client in order to avoid crashing it.\n",
      "To change this limit, set the config variable\n",
      "`--NotebookApp.iopub_data_rate_limit`.\n",
      "\n",
      "Current values:\n",
      "NotebookApp.iopub_data_rate_limit=1000000.0 (bytes/sec)\n",
      "NotebookApp.rate_limit_window=3.0 (secs)\n",
      "\n"
     ]
    },
    {
     "name": "stdout",
     "output_type": "stream",
     "text": [
      "     |█████████████████████████▌      | 702.0 MB 155.4 MB/s eta 0:00:02"
     ]
    },
    {
     "name": "stderr",
     "output_type": "stream",
     "text": [
      "IOPub data rate exceeded.\n",
      "The notebook server will temporarily stop sending output\n",
      "to the client in order to avoid crashing it.\n",
      "To change this limit, set the config variable\n",
      "`--NotebookApp.iopub_data_rate_limit`.\n",
      "\n",
      "Current values:\n",
      "NotebookApp.iopub_data_rate_limit=1000000.0 (bytes/sec)\n",
      "NotebookApp.rate_limit_window=3.0 (secs)\n",
      "\n"
     ]
    },
    {
     "name": "stdout",
     "output_type": "stream",
     "text": [
      "     |████████████████████████████████| 881.9 MB 8.3 kB/s              \n",
      "\u001b[?25hRequirement already satisfied: pyparsing!=3.0.5,>=2.0.2 in /home/ec2-user/anaconda3/envs/mxnet_p36/lib/python3.6/site-packages (from packaging>=20.0->transformers<5.0.0,>=4.6.0->sentence-transformers>=0.4.1->bertopic) (2.4.7)\n",
      "Requirement already satisfied: zipp>=0.5 in /home/ec2-user/anaconda3/envs/mxnet_p36/lib/python3.6/site-packages (from importlib-metadata->transformers<5.0.0,>=4.6.0->sentence-transformers>=0.4.1->bertopic) (3.4.0)\n",
      "Requirement already satisfied: certifi>=2017.4.17 in /home/ec2-user/anaconda3/envs/mxnet_p36/lib/python3.6/site-packages (from requests->transformers<5.0.0,>=4.6.0->sentence-transformers>=0.4.1->bertopic) (2021.5.30)\n",
      "Requirement already satisfied: idna<4,>=2.5 in /home/ec2-user/anaconda3/envs/mxnet_p36/lib/python3.6/site-packages (from requests->transformers<5.0.0,>=4.6.0->sentence-transformers>=0.4.1->bertopic) (3.1)\n",
      "Requirement already satisfied: charset-normalizer~=2.0.0 in /home/ec2-user/anaconda3/envs/mxnet_p36/lib/python3.6/site-packages (from requests->transformers<5.0.0,>=4.6.0->sentence-transformers>=0.4.1->bertopic) (2.0.9)\n",
      "Requirement already satisfied: urllib3<1.27,>=1.21.1 in /home/ec2-user/anaconda3/envs/mxnet_p36/lib/python3.6/site-packages (from requests->transformers<5.0.0,>=4.6.0->sentence-transformers>=0.4.1->bertopic) (1.26.7)\n",
      "Requirement already satisfied: click in /home/ec2-user/anaconda3/envs/mxnet_p36/lib/python3.6/site-packages (from sacremoses->transformers<5.0.0,>=4.6.0->sentence-transformers>=0.4.1->bertopic) (7.1.2)\n",
      "Building wheels for collected packages: hdbscan, sentence-transformers, umap-learn, pynndescent\n",
      "  Building wheel for hdbscan (pyproject.toml) ... \u001b[?25ldone\n",
      "\u001b[?25h  Created wheel for hdbscan: filename=hdbscan-0.8.27-cp36-cp36m-linux_x86_64.whl size=805388 sha256=0db727ee96e102a9ad7b85a8adcd28bd2fa03102a3aecbd43d69a910f6f4dd62\n",
      "  Stored in directory: /home/ec2-user/.cache/pip/wheels/70/52/fe/83ef5a0e879c48df9968d931d41046226e4cb19a166f0223d2\n",
      "  Building wheel for sentence-transformers (setup.py) ... \u001b[?25ldone\n",
      "\u001b[?25h  Created wheel for sentence-transformers: filename=sentence_transformers-2.2.0-py3-none-any.whl size=120747 sha256=6ca28ba8e13dcf4dbeca9c7d9e2131f0c49c9e560b367a878c94d32f3959bb02\n",
      "  Stored in directory: /home/ec2-user/.cache/pip/wheels/ce/2d/86/18ade2fbe66e17694cf8f5667a68d2bd06a65bce42546ea675\n",
      "  Building wheel for umap-learn (setup.py) ... \u001b[?25ldone\n",
      "\u001b[?25h  Created wheel for umap-learn: filename=umap_learn-0.5.2-py3-none-any.whl size=82696 sha256=44d5a1b2183b47c64c4c16f96c2ad22bf7614b54775246b8741af4488e4dc6d9\n",
      "  Stored in directory: /home/ec2-user/.cache/pip/wheels/21/13/d2/20d08b12788c5c75e5e02cba181b9c8f1e4cdc8616aabf9209\n",
      "  Building wheel for pynndescent (setup.py) ... \u001b[?25ldone\n",
      "\u001b[?25h  Created wheel for pynndescent: filename=pynndescent-0.5.6-py3-none-any.whl size=53931 sha256=c5fd0fc5c38a6ad8f035aa7a9873aa33f1366f91d6c0fdc5ea8497a1d338c966\n",
      "  Stored in directory: /home/ec2-user/.cache/pip/wheels/84/0d/b8/fe1e8979b56095e4ea147085c997acf209f61e758765074f5a\n",
      "Successfully built hdbscan sentence-transformers umap-learn pynndescent\n",
      "Installing collected packages: torch, tokenizers, sacremoses, huggingface-hub, transformers, torchvision, sentencepiece, pynndescent, umap-learn, sentence-transformers, hdbscan, bertopic\n",
      "Successfully installed bertopic-0.6.0 hdbscan-0.8.27 huggingface-hub-0.4.0 pynndescent-0.5.6 sacremoses-0.0.47 sentence-transformers-2.2.0 sentencepiece-0.1.96 tokenizers-0.11.6 torch-1.10.1 torchvision-0.11.2 transformers-4.17.0 umap-learn-0.5.2\n"
     ]
    }
   ],
   "source": [
    "!pip install bertopic"
   ]
  },
  {
   "cell_type": "code",
   "execution_count": 4,
   "id": "3b6243be",
   "metadata": {},
   "outputs": [
    {
     "name": "stdout",
     "output_type": "stream",
     "text": [
      "\u001b[33mWARNING: Skipping umap as it is not installed.\u001b[0m\n",
      "Requirement already satisfied: umap-learn in /home/ec2-user/anaconda3/envs/mxnet_p36/lib/python3.6/site-packages (0.5.2)\n",
      "Requirement already satisfied: scikit-learn>=0.22 in /home/ec2-user/anaconda3/envs/mxnet_p36/lib/python3.6/site-packages (from umap-learn) (0.24.1)\n",
      "Requirement already satisfied: numpy>=1.17 in /home/ec2-user/anaconda3/envs/mxnet_p36/lib/python3.6/site-packages (from umap-learn) (1.19.5)\n",
      "Requirement already satisfied: numba>=0.49 in /home/ec2-user/anaconda3/envs/mxnet_p36/lib/python3.6/site-packages (from umap-learn) (0.52.0)\n",
      "Requirement already satisfied: tqdm in /home/ec2-user/anaconda3/envs/mxnet_p36/lib/python3.6/site-packages (from umap-learn) (4.62.3)\n",
      "Requirement already satisfied: pynndescent>=0.5 in /home/ec2-user/anaconda3/envs/mxnet_p36/lib/python3.6/site-packages (from umap-learn) (0.5.6)\n",
      "Requirement already satisfied: scipy>=1.0 in /home/ec2-user/anaconda3/envs/mxnet_p36/lib/python3.6/site-packages (from umap-learn) (1.5.3)\n",
      "Requirement already satisfied: setuptools in /home/ec2-user/anaconda3/envs/mxnet_p36/lib/python3.6/site-packages (from numba>=0.49->umap-learn) (49.6.0.post20210108)\n",
      "Requirement already satisfied: llvmlite<0.36,>=0.35.0 in /home/ec2-user/anaconda3/envs/mxnet_p36/lib/python3.6/site-packages (from numba>=0.49->umap-learn) (0.35.0)\n",
      "Requirement already satisfied: joblib>=0.11 in /home/ec2-user/anaconda3/envs/mxnet_p36/lib/python3.6/site-packages (from pynndescent>=0.5->umap-learn) (1.0.1)\n",
      "Requirement already satisfied: threadpoolctl>=2.0.0 in /home/ec2-user/anaconda3/envs/mxnet_p36/lib/python3.6/site-packages (from scikit-learn>=0.22->umap-learn) (2.1.0)\n"
     ]
    }
   ],
   "source": [
    "!pip uninstall umap\n",
    "!pip install umap-learn"
   ]
  },
  {
   "cell_type": "markdown",
   "id": "5b4e198c",
   "metadata": {},
   "source": [
    "## BERTOPIC"
   ]
  },
  {
   "cell_type": "code",
   "execution_count": 5,
   "id": "37004063",
   "metadata": {},
   "outputs": [
    {
     "name": "stdout",
     "output_type": "stream",
     "text": [
      "Collecting stop-words\n",
      "  Downloading stop-words-2018.7.23.tar.gz (31 kB)\n",
      "  Preparing metadata (setup.py) ... \u001b[?25ldone\n",
      "\u001b[?25hBuilding wheels for collected packages: stop-words\n",
      "  Building wheel for stop-words (setup.py) ... \u001b[?25ldone\n",
      "\u001b[?25h  Created wheel for stop-words: filename=stop_words-2018.7.23-py3-none-any.whl size=32916 sha256=3a6be2b2f1a78653c09f045fd3988110587da39f7e2efd2babd8edb3d86a8e9b\n",
      "  Stored in directory: /home/ec2-user/.cache/pip/wheels/61/13/fb/bde87253355995b963f6355ca563a614453668bfc1b44fdc54\n",
      "Successfully built stop-words\n",
      "Installing collected packages: stop-words\n",
      "Successfully installed stop-words-2018.7.23\n"
     ]
    }
   ],
   "source": [
    "!pip install stop-words"
   ]
  },
  {
   "cell_type": "code",
   "execution_count": 6,
   "id": "0abcbc5d",
   "metadata": {},
   "outputs": [],
   "source": [
    "from bertopic import BERTopic\n",
    "m = BERTopic(embedding_model='sentence-transformers/all-mpnet-base-v2', calculate_probabilities=True, verbose=True)"
   ]
  },
  {
   "cell_type": "code",
   "execution_count": 7,
   "id": "f22e6d5c",
   "metadata": {},
   "outputs": [],
   "source": [
    "def extract_topics(texts, distance_thresh=0.035, model=m):\n",
    "    topic_labels = model.transform(texts)[0]\n",
    "    topic_dict = {}\n",
    "    for idx, ID in enumerate(topic_labels):\n",
    "        topics = model.get_topic(ID)\n",
    "        for t in topics:\n",
    "            topic = t[0]\n",
    "            dist = t[1]\n",
    "            if dist > distance_thresh:\n",
    "                if not topic_dict.get(topic):\n",
    "                    topic_dict[topic] = [ texts[idx] ] \n",
    "                else:\n",
    "                    sents = topic_dict[topic] + [texts[idx]]\n",
    "                    topic_dict[topic] = sents\n",
    "    return topic_dict"
   ]
  },
  {
   "cell_type": "code",
   "execution_count": 8,
   "id": "a84e55c8",
   "metadata": {},
   "outputs": [],
   "source": [
    "from stop_words import get_stop_words\n",
    "def get_topic_name(topic_id, m, take=2,):\n",
    "    ts = m.get_topic(topic_id)\n",
    "    ts = [word[0] for word in ts if word not in get_stop_words('english')]\n",
    "\n",
    "    name = \"\"\n",
    "    for t in ts[:take]:\n",
    "        name += t\n",
    "        name += \" \"\n",
    "    return name.strip()"
   ]
  },
  {
   "cell_type": "code",
   "execution_count": 17,
   "id": "70b5bdbb",
   "metadata": {},
   "outputs": [],
   "source": [
    "sents1= list(df[\"text\"][:15000])"
   ]
  },
  {
   "cell_type": "code",
   "execution_count": null,
   "id": "4853f9ef",
   "metadata": {},
   "outputs": [
    {
     "data": {
      "application/vnd.jupyter.widget-view+json": {
       "model_id": "9753f111744a4035b2608fedd732810b",
       "version_major": 2,
       "version_minor": 0
      },
      "text/plain": [
       "Batches:   0%|          | 0/469 [00:00<?, ?it/s]"
      ]
     },
     "metadata": {},
     "output_type": "display_data"
    }
   ],
   "source": [
    "topics, probs = m.fit_transform(sents1)\n",
    "#4:27"
   ]
  },
  {
   "cell_type": "code",
   "execution_count": null,
   "id": "a9c17c92",
   "metadata": {},
   "outputs": [],
   "source": [
    "4"
   ]
  },
  {
   "cell_type": "code",
   "execution_count": 95,
   "id": "e7de5b0b",
   "metadata": {},
   "outputs": [],
   "source": [
    "df[\"probs\"] = [list(reversed(list(np.argpartition(ps, -3)[-3:]))) for ps in probs]"
   ]
  },
  {
   "cell_type": "code",
   "execution_count": 12,
   "id": "e502f49c",
   "metadata": {},
   "outputs": [],
   "source": [
    "import numpy as np\n",
    "def stepwise(step, df, f, key):\n",
    "    l = []\n",
    "    tn=[]\n",
    "    for idx in range(step, len(df)+step-1, step):\n",
    "        m = BERTopic(embedding_model='sentence-transformers/all-mpnet-base-v2', calculate_probabilities=True, verbose=True)\n",
    "        print(idx-step, idx)# dataframe[idx-step:idx])\n",
    "        sl = df[idx-step:idx][key]\n",
    "        batch = m.fit_transform(list(sl))\n",
    "        l = l + list([batch])\n",
    "#         print(batch[1])\n",
    "        probs = [list(reversed(list(np.argpartition(ps, -3)[-3:]))) for ps in batch[1]]\n",
    "        t_names = [get_topic_name(p[0], m, 3) for p in probs]\n",
    "        tn += [t_names]\n",
    "    return l, tn"
   ]
  },
  {
   "cell_type": "code",
   "execution_count": 13,
   "id": "f1de30e9",
   "metadata": {},
   "outputs": [
    {
     "name": "stdout",
     "output_type": "stream",
     "text": [
      "0 100\n"
     ]
    },
    {
     "data": {
      "application/vnd.jupyter.widget-view+json": {
       "model_id": "6b0346d20b134836a85cb9b65f0e6b11",
       "version_major": 2,
       "version_minor": 0
      },
      "text/plain": [
       "Batches:   0%|          | 0/4 [00:00<?, ?it/s]"
      ]
     },
     "metadata": {},
     "output_type": "display_data"
    },
    {
     "name": "stderr",
     "output_type": "stream",
     "text": [
      "2022-03-06 23:17:09,757 - BERTopic - Transformed documents to Embeddings\n",
      "2022-03-06 23:17:16,863 - BERTopic - Reduced dimensionality with UMAP\n",
      "2022-03-06 23:17:16,874 - BERTopic - Clustered UMAP embeddings with HDBSCAN\n"
     ]
    },
    {
     "name": "stdout",
     "output_type": "stream",
     "text": [
      "[[2.42044115e-001 1.77939487e-001 2.18994217e-001]\n",
      " [8.31364324e-002 1.00456493e-001 7.98794893e-001]\n",
      " [1.40430261e-001 1.70191184e-001 3.19327489e-001]\n",
      " [1.34516065e-001 1.08736970e-001 6.13532868e-001]\n",
      " [9.46661973e-001 1.67602377e-002 2.03596311e-002]\n",
      " [6.50953243e-309 8.37590489e-309 1.00000000e+000]\n",
      " [9.22908659e-309 7.86359156e-309 1.00000000e+000]\n",
      " [8.42743673e-002 1.30648686e-001 6.29388669e-001]\n",
      " [7.40858337e-002 7.84560882e-001 1.23212442e-001]\n",
      " [1.35860807e-001 1.65708055e-001 6.92046762e-001]\n",
      " [8.16703635e-001 5.61621969e-002 7.28492912e-002]\n",
      " [6.55665984e-309 1.00000000e+000 7.83796981e-309]\n",
      " [1.00000000e+000 6.86875876e-309 7.96542842e-309]\n",
      " [1.54136809e-001 2.53603153e-001 2.30124699e-001]\n",
      " [7.29099761e-002 8.35424456e-001 9.03095280e-002]\n",
      " [7.98620292e-002 7.24268491e-001 8.97350764e-002]\n",
      " [1.07942959e-001 4.57913901e-001 2.01758746e-001]\n",
      " [1.97790430e-001 2.48788790e-001 3.22283717e-001]\n",
      " [1.58935050e-001 2.82657511e-001 2.22921138e-001]\n",
      " [1.00000000e+000 6.46130767e-309 7.19441690e-309]\n",
      " [1.29096235e-001 2.63043876e-001 1.94678129e-001]\n",
      " [6.11783562e-309 1.00000000e+000 7.30290818e-309]\n",
      " [1.00000000e+000 7.19339523e-309 9.14500992e-309]\n",
      " [1.79898743e-001 2.21736480e-001 3.11644910e-001]\n",
      " [8.39409081e-309 9.17834900e-309 1.00000000e+000]\n",
      " [6.54887504e-309 1.00293533e-308 1.00000000e+000]\n",
      " [1.00605111e-001 3.90238279e-001 2.30121112e-001]\n",
      " [1.50344089e-001 2.06725324e-001 2.11724229e-001]\n",
      " [6.55855449e-309 1.00000000e+000 8.78676895e-309]\n",
      " [1.41093932e-001 5.59098011e-001 1.97731332e-001]\n",
      " [1.75472575e-001 1.16993544e-001 1.52893634e-001]\n",
      " [7.39820269e-309 1.00000000e+000 8.12703172e-309]\n",
      " [5.75056379e-001 1.07142637e-001 1.05424998e-001]\n",
      " [1.00000000e+000 6.04101440e-309 8.49038118e-309]\n",
      " [1.31747612e-001 4.01299150e-001 3.05415496e-001]\n",
      " [5.86490142e-309 1.00000000e+000 7.34435199e-309]\n",
      " [4.11731658e-002 8.30289193e-001 6.46888113e-002]\n",
      " [1.00000000e+000 6.28780439e-309 7.49763558e-309]\n",
      " [9.25586954e-002 1.19782476e-001 6.55255703e-001]\n",
      " [2.52405759e-001 1.50986783e-001 2.25845040e-001]\n",
      " [1.13746489e-001 1.61141714e-001 1.49636105e-001]\n",
      " [8.82759765e-309 8.15586546e-309 1.00000000e+000]\n",
      " [8.36970638e-309 8.45826410e-309 1.00000000e+000]\n",
      " [6.10874319e-309 1.00000000e+000 1.02213025e-308]\n",
      " [1.86569106e-001 2.02337034e-001 1.52415071e-001]\n",
      " [8.30634722e-309 7.91162191e-309 1.00000000e+000]\n",
      " [5.41663120e-001 1.53963741e-001 2.28081982e-001]\n",
      " [1.00000000e+000 5.64531495e-309 7.28428108e-309]\n",
      " [4.83922441e-002 8.77643783e-001 5.83146322e-002]\n",
      " [1.10519678e-001 3.07927840e-001 2.00718854e-001]\n",
      " [8.07156657e-002 1.13122703e-001 7.22943537e-001]\n",
      " [3.21112278e-001 1.04286067e-001 2.37545576e-001]\n",
      " [5.94043938e-309 1.00000000e+000 6.91782528e-309]\n",
      " [2.65927740e-001 1.56835733e-001 2.20256432e-001]\n",
      " [7.01127649e-309 9.34122115e-309 1.00000000e+000]\n",
      " [5.68556643e-002 8.35794784e-001 6.88731559e-002]\n",
      " [6.11643254e-001 8.27395825e-002 1.42998753e-001]\n",
      " [4.51284732e-001 1.48469283e-001 1.30679424e-001]\n",
      " [5.86142841e-001 1.30559261e-001 1.38924010e-001]\n",
      " [1.15860796e-001 3.57777038e-001 2.47326669e-001]\n",
      " [2.94110561e-001 2.37024563e-001 2.04861556e-001]\n",
      " [1.00000000e+000 6.56401522e-309 8.89270909e-309]\n",
      " [5.74357966e-001 1.39646784e-001 2.47559466e-001]\n",
      " [1.31945735e-001 1.84598808e-001 1.78957042e-001]\n",
      " [1.21029416e-001 1.81013018e-001 1.64392850e-001]\n",
      " [1.39579342e-001 3.37509644e-001 1.19806783e-001]\n",
      " [1.00000000e+000 6.75276671e-309 8.32777301e-309]\n",
      " [1.00000000e+000 6.07584746e-309 8.86869042e-309]\n",
      " [1.56716797e-001 1.16632781e-001 5.70083230e-001]\n",
      " [1.67204459e-001 2.36564634e-001 2.15404498e-001]\n",
      " [5.45044165e-309 1.00000000e+000 8.07811255e-309]\n",
      " [5.71030673e-309 1.00000000e+000 7.43279574e-309]\n",
      " [1.34304967e-001 1.20260310e-001 7.02909422e-001]\n",
      " [1.57506493e-001 1.28844873e-001 5.84953484e-001]\n",
      " [1.33119100e-001 1.82437657e-001 3.44248769e-001]\n",
      " [3.50146972e-001 1.69358620e-001 2.49357345e-001]\n",
      " [1.09344981e-001 1.80225528e-001 1.40740462e-001]\n",
      " [2.20391729e-001 1.21293748e-001 4.16277226e-001]\n",
      " [1.39391265e-001 2.69599467e-001 3.28409546e-001]\n",
      " [1.70753710e-001 2.23563928e-001 2.44588479e-001]\n",
      " [1.21175414e-001 1.71301799e-001 5.89790401e-001]\n",
      " [1.10664745e-001 2.57794332e-001 3.99156528e-001]\n",
      " [1.33716934e-001 3.00198343e-001 2.05335676e-001]\n",
      " [1.21664929e-001 1.88245458e-001 3.50810444e-001]\n",
      " [1.54244754e-001 2.44824762e-001 1.33012984e-001]\n",
      " [1.22847020e-001 3.02478223e-001 4.51063095e-001]\n",
      " [1.72535417e-001 1.06925726e-001 1.54837464e-001]\n",
      " [2.54375840e-001 1.09420116e-001 2.97673610e-001]\n",
      " [3.70053084e-001 1.82016833e-001 2.30674038e-001]\n",
      " [2.16859153e-001 2.15700828e-001 2.11265370e-001]\n",
      " [2.09815324e-001 1.09133315e-001 1.62452540e-001]\n",
      " [7.52545068e-309 9.41435279e-309 1.00000000e+000]\n",
      " [1.29748099e-001 5.40503906e-001 1.90177974e-001]\n",
      " [1.15062100e-001 1.79917676e-001 1.53041461e-001]\n",
      " [6.03137134e-001 1.38201551e-001 1.31865021e-001]\n",
      " [1.85965163e-001 1.09656632e-001 1.59755727e-001]\n",
      " [1.00000000e+000 5.59452555e-309 6.80259203e-309]\n",
      " [6.29127337e-309 9.37663466e-309 1.00000000e+000]\n",
      " [4.20745100e-001 1.65689650e-001 1.40635374e-001]\n",
      " [5.81152939e-309 1.00000000e+000 7.64202955e-309]]\n",
      "100 200\n"
     ]
    },
    {
     "data": {
      "application/vnd.jupyter.widget-view+json": {
       "model_id": "4759b68b7ba946ed840c342651575106",
       "version_major": 2,
       "version_minor": 0
      },
      "text/plain": [
       "Batches:   0%|          | 0/4 [00:00<?, ?it/s]"
      ]
     },
     "metadata": {},
     "output_type": "display_data"
    },
    {
     "name": "stderr",
     "output_type": "stream",
     "text": [
      "2022-03-06 23:17:23,387 - BERTopic - Transformed documents to Embeddings\n",
      "2022-03-06 23:17:25,851 - BERTopic - Reduced dimensionality with UMAP\n",
      "2022-03-06 23:17:25,861 - BERTopic - Clustered UMAP embeddings with HDBSCAN\n"
     ]
    },
    {
     "name": "stdout",
     "output_type": "stream",
     "text": [
      "[[4.38747435e-002 2.17835200e-001]\n",
      " [1.00000000e+000 5.36604004e-310]\n",
      " [1.00000000e+000 5.47306000e-310]\n",
      " [3.22227103e-002 6.05810000e-001]\n",
      " [7.56839045e-001 2.16418028e-002]\n",
      " [9.22161727e-001 1.17710689e-002]\n",
      " [9.18189990e-001 1.57428051e-002]\n",
      " [1.00000000e+000 5.42417355e-310]\n",
      " [9.85556044e-001 1.37244380e-002]\n",
      " [1.00000000e+000 5.46481641e-310]\n",
      " [9.45694982e-001 1.11732841e-002]\n",
      " [1.00000000e+000 5.19347690e-310]\n",
      " [8.83728630e-001 2.27399412e-002]\n",
      " [7.05002289e-001 1.35411465e-002]\n",
      " [1.00000000e+000 5.38086615e-310]\n",
      " [9.59815372e-001 2.09239715e-002]\n",
      " [1.00000000e+000 5.45209541e-310]\n",
      " [9.28821666e-001 7.86946518e-003]\n",
      " [1.00000000e+000 5.17565506e-310]\n",
      " [5.56667413e-002 5.93670100e-001]\n",
      " [7.74911227e-001 1.58487971e-002]\n",
      " [6.09657982e-001 2.55610650e-002]\n",
      " [5.20231137e-001 2.62969411e-002]\n",
      " [4.27896839e-002 1.95859723e-001]\n",
      " [6.95893354e-001 1.80660019e-002]\n",
      " [7.07283486e-001 2.16156730e-002]\n",
      " [8.38633755e-001 1.73735549e-002]\n",
      " [8.95117917e-001 1.31987592e-002]\n",
      " [1.00000000e+000 5.40794596e-310]\n",
      " [8.21704654e-001 1.93390957e-002]\n",
      " [8.18818389e-001 1.79723042e-002]\n",
      " [4.72378787e-002 4.19994059e-001]\n",
      " [1.00000000e+000 5.33896180e-310]\n",
      " [9.22647253e-001 1.69029036e-002]\n",
      " [4.34457375e-002 2.09791346e-001]\n",
      " [3.57089154e-001 3.19165017e-002]\n",
      " [5.52945652e-002 6.55861732e-001]\n",
      " [3.37876843e-001 3.32663032e-002]\n",
      " [3.54085488e-002 6.19213125e-001]\n",
      " [6.98045109e-001 2.19899387e-002]\n",
      " [5.41606571e-001 3.09271711e-002]\n",
      " [3.29237690e-001 3.28638913e-002]\n",
      " [6.46126252e-001 2.72604467e-002]\n",
      " [8.93424376e-001 2.10403458e-002]\n",
      " [6.41297989e-001 1.85403614e-002]\n",
      " [6.92940652e-001 2.28754568e-002]\n",
      " [3.64671800e-001 3.19016448e-002]\n",
      " [3.55507857e-002 5.02634838e-001]\n",
      " [4.30758344e-002 5.00376420e-001]\n",
      " [5.89552652e-001 2.99917473e-002]\n",
      " [4.85407301e-002 4.16470186e-001]\n",
      " [5.22458912e-002 4.53744634e-001]\n",
      " [5.42256508e-002 4.78362156e-001]\n",
      " [8.28910130e-001 1.71321592e-002]\n",
      " [5.03777179e-002 7.51753113e-001]\n",
      " [5.21930719e-002 6.64648462e-001]\n",
      " [4.27814917e-002 2.12185140e-001]\n",
      " [4.26031946e-002 4.54614688e-001]\n",
      " [5.44779631e-310 1.00000000e+000]\n",
      " [1.72498348e-002 9.81879058e-001]\n",
      " [5.52878025e-002 6.44051330e-001]\n",
      " [5.82722613e-003 9.45442623e-001]\n",
      " [5.34903306e-310 1.00000000e+000]\n",
      " [5.75989314e-002 7.22059028e-001]\n",
      " [3.81592951e-002 8.03277536e-001]\n",
      " [4.05384222e-002 7.61592409e-001]\n",
      " [4.86012958e-002 7.06107963e-001]\n",
      " [5.46777896e-310 1.00000000e+000]\n",
      " [4.67130120e-002 6.90964429e-001]\n",
      " [5.41334744e-310 1.00000000e+000]\n",
      " [3.40917337e-002 8.51027681e-001]\n",
      " [4.33214120e-002 2.09673268e-001]\n",
      " [5.37768728e-310 1.00000000e+000]\n",
      " [2.49469629e-002 8.76704725e-001]\n",
      " [5.37621967e-310 1.00000000e+000]\n",
      " [2.95417950e-002 8.23207448e-001]\n",
      " [6.45236153e-002 7.24771375e-001]\n",
      " [2.32696465e-002 9.25531262e-001]\n",
      " [3.52335343e-002 9.63895358e-001]\n",
      " [2.41304143e-002 8.00909393e-001]\n",
      " [5.19873861e-002 7.80194755e-001]\n",
      " [5.79454624e-002 7.55752726e-001]\n",
      " [5.27625797e-002 6.82801985e-001]\n",
      " [7.30928802e-003 8.73412637e-001]\n",
      " [3.41276165e-002 7.81466026e-001]\n",
      " [2.00545452e-002 9.01792338e-001]\n",
      " [6.42241342e-002 7.93414946e-001]\n",
      " [5.47306002e-310 1.00000000e+000]\n",
      " [5.35642282e-310 1.00000000e+000]\n",
      " [5.57341269e-002 7.83788434e-001]\n",
      " [5.62829309e-002 8.19775131e-001]\n",
      " [5.41580276e-002 8.30961387e-001]\n",
      " [2.44048085e-002 7.76791252e-001]\n",
      " [5.71048047e-002 8.06827582e-001]\n",
      " [5.43498468e-002 8.30769568e-001]\n",
      " [5.44491867e-310 1.00000000e+000]\n",
      " [4.47075445e-002 2.25181241e-001]\n",
      " [5.40522513e-310 1.00000000e+000]\n",
      " [4.21245130e-002 6.27861560e-001]\n",
      " [2.42093990e-002 7.76986661e-001]]\n"
     ]
    },
    {
     "ename": "ValueError",
     "evalue": "kth(=-1) out of bounds (2)",
     "output_type": "error",
     "traceback": [
      "\u001b[0;31m---------------------------------------------------------------------------\u001b[0m",
      "\u001b[0;31mValueError\u001b[0m                                Traceback (most recent call last)",
      "\u001b[0;32m<ipython-input-13-43042628960c>\u001b[0m in \u001b[0;36m<module>\u001b[0;34m\u001b[0m\n\u001b[0;32m----> 1\u001b[0;31m \u001b[0mbatches\u001b[0m\u001b[0;34m,\u001b[0m \u001b[0mt_names\u001b[0m \u001b[0;34m=\u001b[0m \u001b[0mstepwise\u001b[0m\u001b[0;34m(\u001b[0m\u001b[0;36m100\u001b[0m\u001b[0;34m,\u001b[0m \u001b[0mdf\u001b[0m\u001b[0;34m[\u001b[0m\u001b[0;34m:\u001b[0m\u001b[0;36m300\u001b[0m\u001b[0;34m]\u001b[0m\u001b[0;34m,\u001b[0m \u001b[0mm\u001b[0m\u001b[0;34m.\u001b[0m\u001b[0mfit_transform\u001b[0m\u001b[0;34m,\u001b[0m \u001b[0;34m\"text\"\u001b[0m\u001b[0;34m)\u001b[0m\u001b[0;34m\u001b[0m\u001b[0;34m\u001b[0m\u001b[0m\n\u001b[0m",
      "\u001b[0;32m<ipython-input-12-78529064b24f>\u001b[0m in \u001b[0;36mstepwise\u001b[0;34m(step, df, f, key)\u001b[0m\n\u001b[1;32m     10\u001b[0m         \u001b[0ml\u001b[0m \u001b[0;34m=\u001b[0m \u001b[0ml\u001b[0m \u001b[0;34m+\u001b[0m \u001b[0mlist\u001b[0m\u001b[0;34m(\u001b[0m\u001b[0;34m[\u001b[0m\u001b[0mbatch\u001b[0m\u001b[0;34m]\u001b[0m\u001b[0;34m)\u001b[0m\u001b[0;34m\u001b[0m\u001b[0;34m\u001b[0m\u001b[0m\n\u001b[1;32m     11\u001b[0m         \u001b[0mprint\u001b[0m\u001b[0;34m(\u001b[0m\u001b[0mbatch\u001b[0m\u001b[0;34m[\u001b[0m\u001b[0;36m1\u001b[0m\u001b[0;34m]\u001b[0m\u001b[0;34m)\u001b[0m\u001b[0;34m\u001b[0m\u001b[0;34m\u001b[0m\u001b[0m\n\u001b[0;32m---> 12\u001b[0;31m         \u001b[0mprobs\u001b[0m \u001b[0;34m=\u001b[0m \u001b[0;34m[\u001b[0m\u001b[0mlist\u001b[0m\u001b[0;34m(\u001b[0m\u001b[0mreversed\u001b[0m\u001b[0;34m(\u001b[0m\u001b[0mlist\u001b[0m\u001b[0;34m(\u001b[0m\u001b[0mnp\u001b[0m\u001b[0;34m.\u001b[0m\u001b[0margpartition\u001b[0m\u001b[0;34m(\u001b[0m\u001b[0mps\u001b[0m\u001b[0;34m,\u001b[0m \u001b[0;34m-\u001b[0m\u001b[0;36m3\u001b[0m\u001b[0;34m)\u001b[0m\u001b[0;34m[\u001b[0m\u001b[0;34m-\u001b[0m\u001b[0;36m3\u001b[0m\u001b[0;34m:\u001b[0m\u001b[0;34m]\u001b[0m\u001b[0;34m)\u001b[0m\u001b[0;34m)\u001b[0m\u001b[0;34m)\u001b[0m \u001b[0;32mfor\u001b[0m \u001b[0mps\u001b[0m \u001b[0;32min\u001b[0m \u001b[0mbatch\u001b[0m\u001b[0;34m[\u001b[0m\u001b[0;36m1\u001b[0m\u001b[0;34m]\u001b[0m\u001b[0;34m]\u001b[0m\u001b[0;34m\u001b[0m\u001b[0;34m\u001b[0m\u001b[0m\n\u001b[0m\u001b[1;32m     13\u001b[0m         \u001b[0mt_names\u001b[0m \u001b[0;34m=\u001b[0m \u001b[0;34m[\u001b[0m\u001b[0mget_topic_name\u001b[0m\u001b[0;34m(\u001b[0m\u001b[0mp\u001b[0m\u001b[0;34m[\u001b[0m\u001b[0;36m0\u001b[0m\u001b[0;34m]\u001b[0m\u001b[0;34m,\u001b[0m \u001b[0mm\u001b[0m\u001b[0;34m,\u001b[0m \u001b[0;36m3\u001b[0m\u001b[0;34m)\u001b[0m \u001b[0;32mfor\u001b[0m \u001b[0mp\u001b[0m \u001b[0;32min\u001b[0m \u001b[0mprobs\u001b[0m\u001b[0;34m]\u001b[0m\u001b[0;34m\u001b[0m\u001b[0;34m\u001b[0m\u001b[0m\n\u001b[1;32m     14\u001b[0m         \u001b[0mtn\u001b[0m \u001b[0;34m+=\u001b[0m \u001b[0;34m[\u001b[0m\u001b[0mt_names\u001b[0m\u001b[0;34m]\u001b[0m\u001b[0;34m\u001b[0m\u001b[0;34m\u001b[0m\u001b[0m\n",
      "\u001b[0;32m<ipython-input-12-78529064b24f>\u001b[0m in \u001b[0;36m<listcomp>\u001b[0;34m(.0)\u001b[0m\n\u001b[1;32m     10\u001b[0m         \u001b[0ml\u001b[0m \u001b[0;34m=\u001b[0m \u001b[0ml\u001b[0m \u001b[0;34m+\u001b[0m \u001b[0mlist\u001b[0m\u001b[0;34m(\u001b[0m\u001b[0;34m[\u001b[0m\u001b[0mbatch\u001b[0m\u001b[0;34m]\u001b[0m\u001b[0;34m)\u001b[0m\u001b[0;34m\u001b[0m\u001b[0;34m\u001b[0m\u001b[0m\n\u001b[1;32m     11\u001b[0m         \u001b[0mprint\u001b[0m\u001b[0;34m(\u001b[0m\u001b[0mbatch\u001b[0m\u001b[0;34m[\u001b[0m\u001b[0;36m1\u001b[0m\u001b[0;34m]\u001b[0m\u001b[0;34m)\u001b[0m\u001b[0;34m\u001b[0m\u001b[0;34m\u001b[0m\u001b[0m\n\u001b[0;32m---> 12\u001b[0;31m         \u001b[0mprobs\u001b[0m \u001b[0;34m=\u001b[0m \u001b[0;34m[\u001b[0m\u001b[0mlist\u001b[0m\u001b[0;34m(\u001b[0m\u001b[0mreversed\u001b[0m\u001b[0;34m(\u001b[0m\u001b[0mlist\u001b[0m\u001b[0;34m(\u001b[0m\u001b[0mnp\u001b[0m\u001b[0;34m.\u001b[0m\u001b[0margpartition\u001b[0m\u001b[0;34m(\u001b[0m\u001b[0mps\u001b[0m\u001b[0;34m,\u001b[0m \u001b[0;34m-\u001b[0m\u001b[0;36m3\u001b[0m\u001b[0;34m)\u001b[0m\u001b[0;34m[\u001b[0m\u001b[0;34m-\u001b[0m\u001b[0;36m3\u001b[0m\u001b[0;34m:\u001b[0m\u001b[0;34m]\u001b[0m\u001b[0;34m)\u001b[0m\u001b[0;34m)\u001b[0m\u001b[0;34m)\u001b[0m \u001b[0;32mfor\u001b[0m \u001b[0mps\u001b[0m \u001b[0;32min\u001b[0m \u001b[0mbatch\u001b[0m\u001b[0;34m[\u001b[0m\u001b[0;36m1\u001b[0m\u001b[0;34m]\u001b[0m\u001b[0;34m]\u001b[0m\u001b[0;34m\u001b[0m\u001b[0;34m\u001b[0m\u001b[0m\n\u001b[0m\u001b[1;32m     13\u001b[0m         \u001b[0mt_names\u001b[0m \u001b[0;34m=\u001b[0m \u001b[0;34m[\u001b[0m\u001b[0mget_topic_name\u001b[0m\u001b[0;34m(\u001b[0m\u001b[0mp\u001b[0m\u001b[0;34m[\u001b[0m\u001b[0;36m0\u001b[0m\u001b[0;34m]\u001b[0m\u001b[0;34m,\u001b[0m \u001b[0mm\u001b[0m\u001b[0;34m,\u001b[0m \u001b[0;36m3\u001b[0m\u001b[0;34m)\u001b[0m \u001b[0;32mfor\u001b[0m \u001b[0mp\u001b[0m \u001b[0;32min\u001b[0m \u001b[0mprobs\u001b[0m\u001b[0;34m]\u001b[0m\u001b[0;34m\u001b[0m\u001b[0;34m\u001b[0m\u001b[0m\n\u001b[1;32m     14\u001b[0m         \u001b[0mtn\u001b[0m \u001b[0;34m+=\u001b[0m \u001b[0;34m[\u001b[0m\u001b[0mt_names\u001b[0m\u001b[0;34m]\u001b[0m\u001b[0;34m\u001b[0m\u001b[0;34m\u001b[0m\u001b[0m\n",
      "\u001b[0;32m<__array_function__ internals>\u001b[0m in \u001b[0;36margpartition\u001b[0;34m(*args, **kwargs)\u001b[0m\n",
      "\u001b[0;32m~/anaconda3/envs/python3/lib/python3.6/site-packages/numpy/core/fromnumeric.py\u001b[0m in \u001b[0;36margpartition\u001b[0;34m(a, kth, axis, kind, order)\u001b[0m\n\u001b[1;32m    830\u001b[0m \u001b[0;34m\u001b[0m\u001b[0m\n\u001b[1;32m    831\u001b[0m     \"\"\"\n\u001b[0;32m--> 832\u001b[0;31m     \u001b[0;32mreturn\u001b[0m \u001b[0m_wrapfunc\u001b[0m\u001b[0;34m(\u001b[0m\u001b[0ma\u001b[0m\u001b[0;34m,\u001b[0m \u001b[0;34m'argpartition'\u001b[0m\u001b[0;34m,\u001b[0m \u001b[0mkth\u001b[0m\u001b[0;34m,\u001b[0m \u001b[0maxis\u001b[0m\u001b[0;34m=\u001b[0m\u001b[0maxis\u001b[0m\u001b[0;34m,\u001b[0m \u001b[0mkind\u001b[0m\u001b[0;34m=\u001b[0m\u001b[0mkind\u001b[0m\u001b[0;34m,\u001b[0m \u001b[0morder\u001b[0m\u001b[0;34m=\u001b[0m\u001b[0morder\u001b[0m\u001b[0;34m)\u001b[0m\u001b[0;34m\u001b[0m\u001b[0;34m\u001b[0m\u001b[0m\n\u001b[0m\u001b[1;32m    833\u001b[0m \u001b[0;34m\u001b[0m\u001b[0m\n\u001b[1;32m    834\u001b[0m \u001b[0;34m\u001b[0m\u001b[0m\n",
      "\u001b[0;32m~/anaconda3/envs/python3/lib/python3.6/site-packages/numpy/core/fromnumeric.py\u001b[0m in \u001b[0;36m_wrapfunc\u001b[0;34m(obj, method, *args, **kwds)\u001b[0m\n\u001b[1;32m     56\u001b[0m \u001b[0;34m\u001b[0m\u001b[0m\n\u001b[1;32m     57\u001b[0m     \u001b[0;32mtry\u001b[0m\u001b[0;34m:\u001b[0m\u001b[0;34m\u001b[0m\u001b[0;34m\u001b[0m\u001b[0m\n\u001b[0;32m---> 58\u001b[0;31m         \u001b[0;32mreturn\u001b[0m \u001b[0mbound\u001b[0m\u001b[0;34m(\u001b[0m\u001b[0;34m*\u001b[0m\u001b[0margs\u001b[0m\u001b[0;34m,\u001b[0m \u001b[0;34m**\u001b[0m\u001b[0mkwds\u001b[0m\u001b[0;34m)\u001b[0m\u001b[0;34m\u001b[0m\u001b[0;34m\u001b[0m\u001b[0m\n\u001b[0m\u001b[1;32m     59\u001b[0m     \u001b[0;32mexcept\u001b[0m \u001b[0mTypeError\u001b[0m\u001b[0;34m:\u001b[0m\u001b[0;34m\u001b[0m\u001b[0;34m\u001b[0m\u001b[0m\n\u001b[1;32m     60\u001b[0m         \u001b[0;31m# A TypeError occurs if the object does have such a method in its\u001b[0m\u001b[0;34m\u001b[0m\u001b[0;34m\u001b[0m\u001b[0;34m\u001b[0m\u001b[0m\n",
      "\u001b[0;31mValueError\u001b[0m: kth(=-1) out of bounds (2)"
     ]
    }
   ],
   "source": [
    "batches, t_names = stepwise(100, df[:300], m.fit_transform, \"text\")"
   ]
  },
  {
   "cell_type": "code",
   "execution_count": 80,
   "id": "be0a45f3",
   "metadata": {},
   "outputs": [],
   "source": [
    "def flatten(l):\n",
    "    return [item for sublist in l for item in sublist]\n"
   ]
  },
  {
   "cell_type": "code",
   "execution_count": null,
   "id": "608ff917",
   "metadata": {},
   "outputs": [
    {
     "data": {
      "text/plain": [
       "(2, 66547)"
      ]
     },
     "execution_count": 87,
     "metadata": {},
     "output_type": "execute_result"
    }
   ],
   "source": [
    "t =[]\n",
    "ps = []\n",
    "for batch in batches:\n",
    "    #print(batch[0])\n",
    "    t += [batch[0]]\n",
    "    ps += [batch[1]]\n",
    "#        a+=[t]\n",
    "\n",
    "a = [flatten(t), flatten(ps)]\n",
    "len(a), len(a[0])"
   ]
  },
  {
   "cell_type": "code",
   "execution_count": null,
   "id": "69cb5138",
   "metadata": {},
   "outputs": [],
   "source": [
    "topics,probs = a"
   ]
  },
  {
   "cell_type": "code",
   "execution_count": null,
   "id": "60ea7030",
   "metadata": {},
   "outputs": [],
   "source": [
    "# td = extract_topics(sentences)"
   ]
  },
  {
   "cell_type": "code",
   "execution_count": null,
   "id": "375e2247",
   "metadata": {},
   "outputs": [],
   "source": [
    "df[\"topic_id\"] = topics"
   ]
  },
  {
   "cell_type": "code",
   "execution_count": 94,
   "id": "63a5b3d9",
   "metadata": {},
   "outputs": [],
   "source": [
    "import numpy as np"
   ]
  },
  {
   "cell_type": "code",
   "execution_count": 102,
   "id": "ce65a015",
   "metadata": {},
   "outputs": [
    {
     "data": {
      "text/plain": [
       "array([<class 'list'>], dtype=object)"
      ]
     },
     "execution_count": 102,
     "metadata": {},
     "output_type": "execute_result"
    }
   ],
   "source": [
    "df[\"probs\"].map(type).unique()"
   ]
  },
  {
   "cell_type": "code",
   "execution_count": 104,
   "id": "4babb7b3",
   "metadata": {},
   "outputs": [
    {
     "data": {
      "text/plain": [
       "False"
      ]
     },
     "execution_count": 104,
     "metadata": {},
     "output_type": "execute_result"
    }
   ],
   "source": [
    "m.get_topic()"
   ]
  },
  {
   "cell_type": "code",
   "execution_count": 101,
   "id": "c1c7993a",
   "metadata": {},
   "outputs": [
    {
     "data": {
      "text/plain": [
       "['amyotrophic',\n",
       " 'als',\n",
       " 'sclerosis',\n",
       " 'neuron',\n",
       " 'neurons',\n",
       " 'neurodegenerative',\n",
       " 'spinal',\n",
       " 'degeneration',\n",
       " 'death',\n",
       " 'neurone']"
      ]
     },
     "execution_count": 101,
     "metadata": {},
     "output_type": "execute_result"
    }
   ],
   "source": [
    "\n",
    "[word[0] for word in m.get_topic(14) if word not in get_stop_words('english')]"
   ]
  },
  {
   "cell_type": "code",
   "execution_count": null,
   "id": "c5d29bfe",
   "metadata": {},
   "outputs": [],
   "source": [
    "df[\"topic_name\"] = df[\"probs\"].apply(lambda p: get_topic_name(p[0], 3))"
   ]
  },
  {
   "cell_type": "code",
   "execution_count": 237,
   "id": "b3eba48c",
   "metadata": {},
   "outputs": [],
   "source": [
    "df = df.rename(columns={\"sentence_id\": \"problem_id\"})"
   ]
  },
  {
   "cell_type": "code",
   "execution_count": 2,
   "id": "b1057a98",
   "metadata": {},
   "outputs": [
    {
     "data": {
      "text/html": [
       "<div>\n",
       "<style scoped>\n",
       "    .dataframe tbody tr th:only-of-type {\n",
       "        vertical-align: middle;\n",
       "    }\n",
       "\n",
       "    .dataframe tbody tr th {\n",
       "        vertical-align: top;\n",
       "    }\n",
       "\n",
       "    .dataframe thead th {\n",
       "        text-align: right;\n",
       "    }\n",
       "</style>\n",
       "<table border=\"1\" class=\"dataframe\">\n",
       "  <thead>\n",
       "    <tr style=\"text-align: right;\">\n",
       "      <th></th>\n",
       "      <th>first_sent</th>\n",
       "      <th>doi</th>\n",
       "      <th>coreId</th>\n",
       "      <th>oai</th>\n",
       "      <th>title</th>\n",
       "    </tr>\n",
       "  </thead>\n",
       "  <tbody>\n",
       "    <tr>\n",
       "      <th>0</th>\n",
       "      <td>Liu and Mertz (Genes Dev.</td>\n",
       "      <td>10.1128/MCB.25.15.6303-6313.2005</td>\n",
       "      <td>3717551</td>\n",
       "      <td>oai:pubmedcentral.nih.gov:1190326</td>\n",
       "      <td>Binding of hnRNP L to the Pre-mRNA Processing ...</td>\n",
       "    </tr>\n",
       "    <tr>\n",
       "      <th>1</th>\n",
       "      <td>Rett syndrome (RTT), a neurodevelopmental diso...</td>\n",
       "      <td>10.1086/382228</td>\n",
       "      <td>3710391</td>\n",
       "      <td>oai:pubmedcentral.nih.gov:1182264</td>\n",
       "      <td>X-Chromosome Inactivation Patterns Are Unbalan...</td>\n",
       "    </tr>\n",
       "    <tr>\n",
       "      <th>2</th>\n",
       "      <td>Estimating optimal sample size for microbiolog...</td>\n",
       "      <td>10.1128/AEM.69.10.6174-6178.2003</td>\n",
       "      <td>3286476</td>\n",
       "      <td>oai:pubmedcentral.nih.gov:201250</td>\n",
       "      <td>A Model To Estimate the Optimal Sample Size fo...</td>\n",
       "    </tr>\n",
       "    <tr>\n",
       "      <th>3</th>\n",
       "      <td>The antiphospholipid syndrome is a thrombotic ...</td>\n",
       "      <td>NaN</td>\n",
       "      <td>8064782</td>\n",
       "      <td>oai:pubmedcentral.nih.gov:2398067</td>\n",
       "      <td>Antiphospholipid syndrome in a patient with ra...</td>\n",
       "    </tr>\n",
       "    <tr>\n",
       "      <th>4</th>\n",
       "      <td>Alcohol dependence (AD) is a complex disorder ...</td>\n",
       "      <td>NaN</td>\n",
       "      <td>8674979</td>\n",
       "      <td>oai:pubmedcentral.nih.gov:3266269</td>\n",
       "      <td>Genome-Wide Association Study of Copy Number V...</td>\n",
       "    </tr>\n",
       "    <tr>\n",
       "      <th>...</th>\n",
       "      <td>...</td>\n",
       "      <td>...</td>\n",
       "      <td>...</td>\n",
       "      <td>...</td>\n",
       "      <td>...</td>\n",
       "    </tr>\n",
       "    <tr>\n",
       "      <th>42196</th>\n",
       "      <td>Autism spectrum disorder (ASD) is a common neu...</td>\n",
       "      <td>NaN</td>\n",
       "      <td>8273706</td>\n",
       "      <td>oai:pubmedcentral.nih.gov:2662567</td>\n",
       "      <td>The genetic and neurobiologic compass points t...</td>\n",
       "    </tr>\n",
       "    <tr>\n",
       "      <th>42197</th>\n",
       "      <td>This paper revisits the problem of the readine...</td>\n",
       "      <td>NaN</td>\n",
       "      <td>8689613</td>\n",
       "      <td>oai:pubmedcentral.nih.gov:3291942</td>\n",
       "      <td>On the Relevance of Using Open Wireless Sensor...</td>\n",
       "    </tr>\n",
       "    <tr>\n",
       "      <th>42198</th>\n",
       "      <td>Thyroid cancer is a rare disease.</td>\n",
       "      <td>NaN</td>\n",
       "      <td>8126095</td>\n",
       "      <td>oai:pubmedcentral.nih.gov:2466601</td>\n",
       "      <td>Thyroid carcinoma and its treatment</td>\n",
       "    </tr>\n",
       "    <tr>\n",
       "      <th>42199</th>\n",
       "      <td>Hyperosmolar hyperglycaemic state (HHS) is a m...</td>\n",
       "      <td>NaN</td>\n",
       "      <td>8696563</td>\n",
       "      <td>oai:pubmedcentral.nih.gov:3302717</td>\n",
       "      <td>A case of hyperosmolar hyperglycaemic state wi...</td>\n",
       "    </tr>\n",
       "    <tr>\n",
       "      <th>42200</th>\n",
       "      <td>Craniopharyngiomas are difficult to treat.</td>\n",
       "      <td>NaN</td>\n",
       "      <td>8729638</td>\n",
       "      <td>oai:pubmedcentral.nih.gov:3356029</td>\n",
       "      <td>Outcome of Endoscopy-Assisted Microscopic Exte...</td>\n",
       "    </tr>\n",
       "  </tbody>\n",
       "</table>\n",
       "<p>42201 rows × 5 columns</p>\n",
       "</div>"
      ],
      "text/plain": [
       "                                              first_sent  \\\n",
       "0                              Liu and Mertz (Genes Dev.   \n",
       "1      Rett syndrome (RTT), a neurodevelopmental diso...   \n",
       "2      Estimating optimal sample size for microbiolog...   \n",
       "3      The antiphospholipid syndrome is a thrombotic ...   \n",
       "4      Alcohol dependence (AD) is a complex disorder ...   \n",
       "...                                                  ...   \n",
       "42196  Autism spectrum disorder (ASD) is a common neu...   \n",
       "42197  This paper revisits the problem of the readine...   \n",
       "42198                  Thyroid cancer is a rare disease.   \n",
       "42199  Hyperosmolar hyperglycaemic state (HHS) is a m...   \n",
       "42200         Craniopharyngiomas are difficult to treat.   \n",
       "\n",
       "                                    doi   coreId  \\\n",
       "0      10.1128/MCB.25.15.6303-6313.2005  3717551   \n",
       "1                        10.1086/382228  3710391   \n",
       "2      10.1128/AEM.69.10.6174-6178.2003  3286476   \n",
       "3                                   NaN  8064782   \n",
       "4                                   NaN  8674979   \n",
       "...                                 ...      ...   \n",
       "42196                               NaN  8273706   \n",
       "42197                               NaN  8689613   \n",
       "42198                               NaN  8126095   \n",
       "42199                               NaN  8696563   \n",
       "42200                               NaN  8729638   \n",
       "\n",
       "                                     oai  \\\n",
       "0      oai:pubmedcentral.nih.gov:1190326   \n",
       "1      oai:pubmedcentral.nih.gov:1182264   \n",
       "2       oai:pubmedcentral.nih.gov:201250   \n",
       "3      oai:pubmedcentral.nih.gov:2398067   \n",
       "4      oai:pubmedcentral.nih.gov:3266269   \n",
       "...                                  ...   \n",
       "42196  oai:pubmedcentral.nih.gov:2662567   \n",
       "42197  oai:pubmedcentral.nih.gov:3291942   \n",
       "42198  oai:pubmedcentral.nih.gov:2466601   \n",
       "42199  oai:pubmedcentral.nih.gov:3302717   \n",
       "42200  oai:pubmedcentral.nih.gov:3356029   \n",
       "\n",
       "                                                   title  \n",
       "0      Binding of hnRNP L to the Pre-mRNA Processing ...  \n",
       "1      X-Chromosome Inactivation Patterns Are Unbalan...  \n",
       "2      A Model To Estimate the Optimal Sample Size fo...  \n",
       "3      Antiphospholipid syndrome in a patient with ra...  \n",
       "4      Genome-Wide Association Study of Copy Number V...  \n",
       "...                                                  ...  \n",
       "42196  The genetic and neurobiologic compass points t...  \n",
       "42197  On the Relevance of Using Open Wireless Sensor...  \n",
       "42198                Thyroid carcinoma and its treatment  \n",
       "42199  A case of hyperosmolar hyperglycaemic state wi...  \n",
       "42200  Outcome of Endoscopy-Assisted Microscopic Exte...  \n",
       "\n",
       "[42201 rows x 5 columns]"
      ]
     },
     "execution_count": 2,
     "metadata": {},
     "output_type": "execute_result"
    }
   ],
   "source": [
    "df"
   ]
  },
  {
   "cell_type": "code",
   "execution_count": null,
   "id": "95e88389",
   "metadata": {},
   "outputs": [],
   "source": []
  }
 ],
 "metadata": {
  "kernelspec": {
   "display_name": "conda_mxnet_p36",
   "language": "python",
   "name": "conda_mxnet_p36"
  },
  "language_info": {
   "codemirror_mode": {
    "name": "ipython",
    "version": 3
   },
   "file_extension": ".py",
   "mimetype": "text/x-python",
   "name": "python",
   "nbconvert_exporter": "python",
   "pygments_lexer": "ipython3",
   "version": "3.6.13"
  }
 },
 "nbformat": 4,
 "nbformat_minor": 5
}
