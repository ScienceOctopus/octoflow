{
 "cells": [
  {
   "cell_type": "code",
   "execution_count": 63,
   "id": "66660238",
   "metadata": {},
   "outputs": [],
   "source": [
    "import pandas as pd\n",
    "df = pd.read_csv(\"downloads/concat_spike_2.csv\")"
   ]
  },
  {
   "cell_type": "code",
   "execution_count": 64,
   "id": "f7abcc3d",
   "metadata": {},
   "outputs": [],
   "source": [
    "df[\"label\"] = 1\n",
    "df[\"source\"] = \"spike8k_jan2022\""
   ]
  },
  {
   "cell_type": "code",
   "execution_count": 65,
   "id": "b831a9e8",
   "metadata": {},
   "outputs": [],
   "source": [
    "df = df.rename(columns={\"sentence_text\": \"text\"})"
   ]
  },
  {
   "cell_type": "code",
   "execution_count": 66,
   "id": "c953927c",
   "metadata": {},
   "outputs": [],
   "source": [
    "df2 = pd.read_csv(\"downloads/pm100_3kpos.csv\")"
   ]
  },
  {
   "cell_type": "code",
   "execution_count": 67,
   "id": "2aa7b4e3",
   "metadata": {},
   "outputs": [],
   "source": [
    "df2[\"text\"] = df2[\"first_sent\"]"
   ]
  },
  {
   "cell_type": "code",
   "execution_count": 68,
   "id": "7f264af2",
   "metadata": {},
   "outputs": [],
   "source": [
    "df2[\"label\"] = 1\n",
    "df2[\"source\"] = \"pm_4kpos\""
   ]
  },
  {
   "cell_type": "code",
   "execution_count": 69,
   "id": "773d8ba4",
   "metadata": {},
   "outputs": [],
   "source": [
    "df3 = pd.read_csv(\"downloads/40k_pm_masked.csv\")"
   ]
  },
  {
   "cell_type": "code",
   "execution_count": 70,
   "id": "1fdf7668",
   "metadata": {},
   "outputs": [],
   "source": [
    "df3 = df3.rename(columns={\"text\": \"text_masked\", \"text_nomask\": \"text\", \"labels\": \"label\"})"
   ]
  },
  {
   "cell_type": "code",
   "execution_count": 71,
   "id": "4bf01985",
   "metadata": {},
   "outputs": [],
   "source": [
    "df3[\"label\"] = df3[\"label\"].astype(int) "
   ]
  },
  {
   "cell_type": "code",
   "execution_count": 72,
   "id": "2a5b438e",
   "metadata": {},
   "outputs": [
    {
     "data": {
      "text/plain": [
       "array(['predicts_acl_pm2500_vocabed', 'Oct1_clinical_studies_pm',\n",
       "       'oct3_labels', 'labels_oct7',\n",
       "       ' limitation|problem ... with ... l=be that', 'a ... drawback of',\n",
       "       'a {negative_adjectives} ...  {problem_nouns}', 'pm_OBJECTIVE',\n",
       "       'pm_METHODS', 'pm_RESULTS', 'pm_CONCLUSIONS'], dtype=object)"
      ]
     },
     "execution_count": 72,
     "metadata": {},
     "output_type": "execute_result"
    }
   ],
   "source": [
    "df3[\"source\"].unique()"
   ]
  },
  {
   "cell_type": "code",
   "execution_count": 73,
   "id": "2aff81ce",
   "metadata": {},
   "outputs": [
    {
     "data": {
      "text/plain": [
       "21248"
      ]
     },
     "execution_count": 73,
     "metadata": {},
     "output_type": "execute_result"
    }
   ],
   "source": [
    "pos3 = df3[df3[\"label\"]==1]\n",
    "len(pos3)"
   ]
  },
  {
   "cell_type": "code",
   "execution_count": 74,
   "id": "39464a91",
   "metadata": {},
   "outputs": [],
   "source": [
    "dfx = df.append(df2).append(pos3)"
   ]
  },
  {
   "cell_type": "code",
   "execution_count": 75,
   "id": "d1ad756c",
   "metadata": {},
   "outputs": [
    {
     "data": {
      "text/plain": [
       "Index(['Unnamed: 0', 'sentence_id', 'title', 'article_link', 'text', 'year',\n",
       "       'mesh_list', 'journal_title', 'volume', 'issue', 'abstract', 'label',\n",
       "       'source', 'level_0', 'index', 'PMID', 'Title', 'Authors', 'Citation',\n",
       "       'First Author', 'Journal/Book', 'Publication Year', 'Create Date',\n",
       "       'PMCID', 'NIHMS ID', 'DOI', 'Abstract', 'sentences', 'first_sent',\n",
       "       'predicts', 'text_masked', 'text_length'],\n",
       "      dtype='object')"
      ]
     },
     "execution_count": 75,
     "metadata": {},
     "output_type": "execute_result"
    }
   ],
   "source": [
    "dfx.columns"
   ]
  },
  {
   "cell_type": "code",
   "execution_count": 76,
   "id": "fa75b04f",
   "metadata": {},
   "outputs": [],
   "source": [
    "dfx = dfx.drop(columns=['Unnamed: 0', 'level_0'])\n",
    "dfx = dfx.reset_index()"
   ]
  },
  {
   "cell_type": "code",
   "execution_count": 77,
   "id": "1a04fee9",
   "metadata": {},
   "outputs": [],
   "source": [
    "dfx.to_csv(\"downloads/34k_pos.csv\", index = False, header=True)"
   ]
  },
  {
   "cell_type": "code",
   "execution_count": null,
   "id": "8d5a8ad0",
   "metadata": {},
   "outputs": [],
   "source": []
  }
 ],
 "metadata": {
  "kernelspec": {
   "display_name": "conda_python3",
   "language": "python",
   "name": "conda_python3"
  },
  "language_info": {
   "codemirror_mode": {
    "name": "ipython",
    "version": 3
   },
   "file_extension": ".py",
   "mimetype": "text/x-python",
   "name": "python",
   "nbconvert_exporter": "python",
   "pygments_lexer": "ipython3",
   "version": "3.6.13"
  }
 },
 "nbformat": 4,
 "nbformat_minor": 5
}
