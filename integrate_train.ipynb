{
 "cells": [
  {
   "cell_type": "code",
   "execution_count": 6,
   "id": "d930d1d8",
   "metadata": {},
   "outputs": [],
   "source": [
    "import pandas as pd"
   ]
  },
  {
   "cell_type": "code",
   "execution_count": 7,
   "id": "2fc112ea",
   "metadata": {},
   "outputs": [
    {
     "name": "stdout",
     "output_type": "stream",
     "text": [
      "             total       used       free     shared    buffers     cached\n",
      "Mem:     261128012    9544616  251583396         80     235576    7128184\n",
      "-/+ buffers/cache:    2180856  258947156\n",
      "Swap:            0          0          0\n"
     ]
    }
   ],
   "source": [
    "#!find . -maxdepth 3 -type f -exec du -h {} + | sort --human-numeric-sort --reverse\n",
    "!free"
   ]
  },
  {
   "cell_type": "markdown",
   "id": "1d8b0180",
   "metadata": {},
   "source": [
    "## INTEGRATE"
   ]
  },
  {
   "cell_type": "code",
   "execution_count": 8,
   "id": "af667616",
   "metadata": {},
   "outputs": [
    {
     "data": {
      "text/plain": [
       "'The northern corn rootworm'"
      ]
     },
     "execution_count": 8,
     "metadata": {},
     "output_type": "execute_result"
    }
   ],
   "source": [
    "blacklist=[\"abstract\", \"discussion\", \"background\", \"summary\", \"rationale\", \"introduction\", \"purpose\", \"objective\" ]\n",
    "blacklist += [t + \":\" for t in blacklist]\n",
    "def remove_special_words(text, blacklist=blacklist ):\n",
    "    words = text.split(\" \")\n",
    "    try:\n",
    "        first=words[0]\n",
    "    except:\n",
    "        return text\n",
    "    \n",
    "    if any(first.strip().lower() in string for string in blacklist):\n",
    "        return \" \".join(words[1:]).strip()\n",
    "    return text\n",
    "\n",
    "remove_special_words(\"ABSTRACT   The northern corn rootworm\")"
   ]
  },
  {
   "cell_type": "code",
   "execution_count": 12,
   "id": "d1e0a0b3",
   "metadata": {},
   "outputs": [],
   "source": [
    "#df2 = pd.read_csv(\"downloads/47k_train.csv\")"
   ]
  },
  {
   "cell_type": "code",
   "execution_count": 13,
   "id": "980e4252",
   "metadata": {},
   "outputs": [],
   "source": [
    "#df2[df2[\"text\"].str.contains(\"Vietnam\")]"
   ]
  },
  {
   "cell_type": "code",
   "execution_count": 10,
   "id": "a16761aa",
   "metadata": {},
   "outputs": [
    {
     "data": {
      "text/plain": [
       "array(['acl_cambridge', 'predicts_acl_pm2500_vocabed',\n",
       "       'Oct1_clinical_studies_pm', 'oct3_labels', 'labels_oct7',\n",
       "       ' limitation|problem ... with ... l=be that', 'a ... drawback of',\n",
       "       'a {negative_adjectives} ...  {problem_nouns}', 'pm_OBJECTIVE',\n",
       "       'pm_METHODS', 'pm_RESULTS', 'pm_CONCLUSIONS', 'biology1k_050522',\n",
       "       'psych1k_100522'], dtype=object)"
      ]
     },
     "execution_count": 10,
     "metadata": {},
     "output_type": "execute_result"
    }
   ],
   "source": [
    "df2[\"source\"].unique()"
   ]
  },
  {
   "cell_type": "code",
   "execution_count": 20,
   "id": "909ef214",
   "metadata": {},
   "outputs": [],
   "source": [
    "url2= \"https://docs.google.com/spreadsheets/d/e/2PACX-1vSXaZ3xwCNvUTs3DgqzCaE3W481KJQhC6FqbNQ6zU04AGCj37vqS5TEMidyh46NC6UlyCbSXtj52UOc/pub?output=csv\"\n",
    "url = \"https://docs.google.com/spreadsheets/d/e/2PACX-1vSkLXuuISZkDh53ttC9AZ1VvDaMXfqoOFSUqYHyzDHStlqNsbi3fiQoe993TSKoay5UyFHsG_otlCGO/pub?output=csv\""
   ]
  },
  {
   "cell_type": "code",
   "execution_count": 3,
   "id": "6a352ecc",
   "metadata": {},
   "outputs": [],
   "source": [
    "source = \"psych1k_100522\""
   ]
  },
  {
   "cell_type": "code",
   "execution_count": null,
   "id": "6d424ae9",
   "metadata": {},
   "outputs": [],
   "source": []
  },
  {
   "cell_type": "code",
   "execution_count": 21,
   "id": "2faf85dd",
   "metadata": {},
   "outputs": [],
   "source": [
    "df = pd.read_csv(url)\n",
    "df2 = pd.read_csv(url2)\n"
   ]
  },
  {
   "cell_type": "code",
   "execution_count": 5,
   "id": "585361d2",
   "metadata": {},
   "outputs": [],
   "source": [
    "df[\"labels\"] = df[\"label\"]\n",
    "df[\"source\"] = source\n",
    "df = df.drop(columns=[\"predicts\"])"
   ]
  },
  {
   "cell_type": "code",
   "execution_count": 6,
   "id": "8744c0f3",
   "metadata": {},
   "outputs": [],
   "source": [
    "df = df.dropna(subset=[\"labels\"])\n",
    "df[\"labels\"] = df[\"labels\"].astype(int) \n",
    "df = df[(df[\"labels\"] == 1) | (df[\"labels\"] == 0)] #fix typos in labels eg. misstyped 0 as 9\n"
   ]
  },
  {
   "cell_type": "code",
   "execution_count": 10,
   "id": "3a9e3395",
   "metadata": {},
   "outputs": [],
   "source": [
    "df2 = pd.read_csv(\"downloads/43k_pm_bio.csv\")\n",
    "df3 = df2.append(df)\n",
    "df3.to_csv(\"downloads/47k_train.csv\", index = False, header=True)"
   ]
  },
  {
   "cell_type": "markdown",
   "id": "ec7d36f9",
   "metadata": {},
   "source": [
    "## TRAIN"
   ]
  },
  {
   "cell_type": "code",
   "execution_count": null,
   "id": "e4c17558",
   "metadata": {},
   "outputs": [],
   "source": []
  }
 ],
 "metadata": {
  "kernelspec": {
   "display_name": "conda_python3",
   "language": "python",
   "name": "conda_python3"
  },
  "language_info": {
   "codemirror_mode": {
    "name": "ipython",
    "version": 3
   },
   "file_extension": ".py",
   "mimetype": "text/x-python",
   "name": "python",
   "nbconvert_exporter": "python",
   "pygments_lexer": "ipython3",
   "version": "3.6.13"
  }
 },
 "nbformat": 4,
 "nbformat_minor": 5
}
