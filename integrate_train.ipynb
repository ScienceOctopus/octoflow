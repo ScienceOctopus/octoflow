{
 "cells": [
  {
   "cell_type": "code",
   "execution_count": 4,
   "id": "1e67fe36",
   "metadata": {},
   "outputs": [],
   "source": [
    "import pandas as pd"
   ]
  },
  {
   "cell_type": "code",
   "execution_count": 5,
   "id": "7b0fe851",
   "metadata": {},
   "outputs": [
    {
     "name": "stdout",
     "output_type": "stream",
     "text": [
      "             total       used       free     shared    buffers     cached\n",
      "Mem:     261128012   23799516  237328496        116    1921652   18634588\n",
      "-/+ buffers/cache:    3243276  257884736\n",
      "Swap:            0          0          0\n"
     ]
    }
   ],
   "source": [
    "#!find . -maxdepth 3 -type f -exec du -h {} + | sort --human-numeric-sort --reverse\n",
    "!free"
   ]
  },
  {
   "cell_type": "markdown",
   "id": "fd8935be",
   "metadata": {},
   "source": [
    "## INTEGRATE"
   ]
  },
  {
   "cell_type": "code",
   "execution_count": 6,
   "id": "007c7d13",
   "metadata": {},
   "outputs": [
    {
     "data": {
      "text/plain": [
       "('The northern corn rootworm', 'The northern corn rootworm')"
      ]
     },
     "execution_count": 6,
     "metadata": {},
     "output_type": "execute_result"
    }
   ],
   "source": [
    "blacklist=[\"abstract\", \"discussion\", \"background\", \"summary\", \"rationale\", \"introduction\", \"publisher\", \"introduction\", \"statement\", \"purpose\", \"objective\" ]\n",
    "blacklist += [t + \":\" for t in blacklist]\n",
    "def remove_special_words(text, blacklist=blacklist ):\n",
    "    words = text.split(\" \")\n",
    "    try:\n",
    "        first=words[0]\n",
    "    except:\n",
    "        return text\n",
    "    \n",
    "    first = first.strip().lower()\n",
    "#     if any(first in string for string in blacklist):\n",
    "#         return \" \".join(words[1:]).strip()\n",
    "    for w in reversed(blacklist): #prioritize \"Abstract:The\" replace over \"AbstractThe\"\n",
    "        if w in first:\n",
    "            return \" \".join([first.split(w)[1].capitalize()] + words[1:]).strip()\n",
    "    return text\n",
    "\n",
    "remove_special_words(\"ABSTRACT   The northern corn rootworm\"), remove_special_words(\"purpose:The northern corn rootworm\")"
   ]
  },
  {
   "cell_type": "code",
   "execution_count": 10,
   "id": "4e60f817",
   "metadata": {},
   "outputs": [],
   "source": [
    "df2 = pd.read_csv(\"downloads/train_june20_all.csv\")"
   ]
  },
  {
   "cell_type": "code",
   "execution_count": 5,
   "id": "038bb0b5",
   "metadata": {},
   "outputs": [],
   "source": [
    "#df2[df2[\"text\"].str.contains(\"Vietnam\")]"
   ]
  },
  {
   "cell_type": "code",
   "execution_count": 11,
   "id": "21031239",
   "metadata": {},
   "outputs": [
    {
     "data": {
      "text/plain": [
       "array(['acl_cambridge', 'predicts_acl_pm2500_vocabed',\n",
       "       'Oct1_clinical_studies_pm', 'oct3_labels', 'labels_oct7',\n",
       "       ' limitation|problem ... with ... l=be that', 'a ... drawback of',\n",
       "       'a {negative_adjectives} ...  {problem_nouns}', 'pm_OBJECTIVE',\n",
       "       'pm_METHODS', 'pm_RESULTS', 'pm_CONCLUSIONS', 'biology1k_050522',\n",
       "       'psych1k_100522', 'june152022_labels_envgeosoc',\n",
       "       'june152022_labels_matscichem'], dtype=object)"
      ]
     },
     "execution_count": 11,
     "metadata": {},
     "output_type": "execute_result"
    }
   ],
   "source": [
    "df2[\"source\"].unique()"
   ]
  },
  {
   "cell_type": "code",
   "execution_count": 13,
   "id": "5efd315b",
   "metadata": {},
   "outputs": [],
   "source": [
    "#url0 = \"https://docs.google.com/spreadsheets/d/1gqVPRvznJLZ1ori1qkBqx2xV8xPL1jLG_4WxaeewrzI/edit#gid=120391902\"\n",
    "url = \"https://docs.google.com/spreadsheets/d/e/2PACX-1vSrGaIXKQZOe0960YVYXn3z1aUpUNfsbYzFoUOv9-wGf84oLJCYr_KA2XzxeG0rUi0ff5lWCtHxmgsg/pub?output=csv\"\n",
    "#url1 = \"https://docs.google.com/spreadsheets/d/e/2PACX-1vSMOZaJsr2yRdX7SX5xLyvtd2fZXkj3DicRlE032sTbiBWinLtOGRX33eY6ewsm5jMv4xnsXMprHEqn/pub?output=csv\"\n",
    "#url2= \"https://docs.google.com/spreadsheets/d/e/2PACX-1vSXaZ3xwCNvUTs3DgqzCaE3W481KJQhC6FqbNQ6zU04AGCj37vqS5TEMidyh46NC6UlyCbSXtj52UOc/pub?output=csv\"\n",
    "#url3 = \"https://docs.google.com/spreadsheets/d/e/2PACX-1vSkLXuuISZkDh53ttC9AZ1VvDaMXfqoOFSUqYHyzDHStlqNsbi3fiQoe993TSKoay5UyFHsG_otlCGO/pub?output=csv\""
   ]
  },
  {
   "cell_type": "code",
   "execution_count": 14,
   "id": "d78caf7d",
   "metadata": {},
   "outputs": [],
   "source": [
    "#source = \"june152022_labels_envgeosoc\"\n",
    "source = \"june152022_labels_matscichem\""
   ]
  },
  {
   "cell_type": "code",
   "execution_count": 17,
   "id": "f8cd8212",
   "metadata": {},
   "outputs": [],
   "source": [
    "df = pd.read_csv(url)\n",
    "#df2 = pd.read_csv(url2)\n"
   ]
  },
  {
   "cell_type": "code",
   "execution_count": 18,
   "id": "2c675015",
   "metadata": {},
   "outputs": [],
   "source": [
    "df[\"labels\"] = df[\"label\"]\n",
    "df[\"source\"] = source\n",
    "df = df.drop(columns=[\"predicts\"])"
   ]
  },
  {
   "cell_type": "code",
   "execution_count": 19,
   "id": "b306c1ea",
   "metadata": {},
   "outputs": [],
   "source": [
    "df = df.dropna(subset=[\"labels\"])\n",
    "df[\"labels\"] = df[\"labels\"].astype(int) \n",
    "df = df[(df[\"labels\"] == 1) | (df[\"labels\"] == 0)] #fix typos in labels eg. misstyped 0 as 9\n"
   ]
  },
  {
   "cell_type": "code",
   "execution_count": 32,
   "id": "f4ba0583",
   "metadata": {},
   "outputs": [
    {
     "data": {
      "text/plain": [
       "47446"
      ]
     },
     "execution_count": 32,
     "metadata": {},
     "output_type": "execute_result"
    }
   ],
   "source": [
    "#df2 = pd.read_csv(\"downloads/43k_pm_bio.csv\")\n",
    "df3 = df2.append(df)\n",
    "len(df3)"
   ]
  },
  {
   "cell_type": "code",
   "execution_count": 33,
   "id": "52c66691",
   "metadata": {},
   "outputs": [
    {
     "data": {
      "text/plain": [
       "44632"
      ]
     },
     "execution_count": 33,
     "metadata": {},
     "output_type": "execute_result"
    }
   ],
   "source": [
    "df3 = df3.drop_duplicates(subset=[\"text\"]) #doi with nans not good\n",
    "len(df3)"
   ]
  },
  {
   "cell_type": "code",
   "execution_count": 34,
   "id": "4d0fc39f",
   "metadata": {},
   "outputs": [
    {
     "data": {
      "text/plain": [
       "0      Materials Science\n",
       "1      Materials Science\n",
       "2             Psychology\n",
       "3              Chemistry\n",
       "4              Chemistry\n",
       "             ...        \n",
       "745           Psychology\n",
       "746    Materials Science\n",
       "747           Psychology\n",
       "748    Materials Science\n",
       "749            Chemistry\n",
       "Name: fields, Length: 750, dtype: object"
      ]
     },
     "execution_count": 34,
     "metadata": {},
     "output_type": "execute_result"
    }
   ],
   "source": [
    "s2f = {\n",
    "    \"pm_METHODS\": \"Medicine\",\n",
    "    \"pm_RESULTS\": \"Medicine\",\n",
    "    \"pm_CONCLUSIONS\": \"Medicine\",\n",
    "    \"pm_OBJECTIVE\": \"Medicine\",\n",
    "    \"pm_OBJECTIVE\": \"Medicine\",\n",
    "    \"a {negative_adjectives} ...  {problem_nouns}\": \"Medicine\",\n",
    "    \"oct3_labels\": \"Medicine\",\n",
    "    \" limitation|problem ... with ... l=be that\": \"Medicine\",\n",
    "    \"labels_oct7\": \"Medicine\",\n",
    "    \"Oct1_clinical_studies_pm\": \"Medicine\",\n",
    "    \"predicts_acl_pm2500_vocabed\": \"Medicine\",\n",
    "    \"Oct1_clinical_studies_pm\": \"Medicine\",\n",
    "    \"acl_cambridge\": \"Computer Science\",\n",
    "    \"psych1k_100522\": \"Psychology\",\n",
    "    \"biology1k_050522\": \"Biology\",   \n",
    "}\n",
    "\n",
    "df[\"fields2\"] = df.source.map(lambda s: s2f.get(s)) \n",
    "df[\"fields\"] = df.fields.combine_first(df['fields2'])\n",
    "\n",
    "df[\"fields\"]"
   ]
  },
  {
   "cell_type": "code",
   "execution_count": 35,
   "id": "fdbd9d2e",
   "metadata": {},
   "outputs": [],
   "source": [
    "df3 =df3[[\"text\", \"doi\", \"journalName\", \"title\", \"fields\", \"source\", \"labels\"]]"
   ]
  },
  {
   "cell_type": "code",
   "execution_count": 37,
   "id": "68f89283",
   "metadata": {},
   "outputs": [],
   "source": [
    "df3[\"text\"] = df3.text.map(remove_special_words)"
   ]
  },
  {
   "cell_type": "code",
   "execution_count": 38,
   "id": "953eda7b",
   "metadata": {},
   "outputs": [],
   "source": [
    "df3.to_csv(\"downloads/train_june20_all.csv\", index = False, header=True)"
   ]
  },
  {
   "cell_type": "markdown",
   "id": "7aa5b958",
   "metadata": {},
   "source": [
    "## TRAIN"
   ]
  },
  {
   "cell_type": "code",
   "execution_count": null,
   "id": "26476e8d",
   "metadata": {},
   "outputs": [],
   "source": []
  }
 ],
 "metadata": {
  "kernelspec": {
   "display_name": "conda_python3",
   "language": "python",
   "name": "conda_python3"
  },
  "language_info": {
   "codemirror_mode": {
    "name": "ipython",
    "version": 3
   },
   "file_extension": ".py",
   "mimetype": "text/x-python",
   "name": "python",
   "nbconvert_exporter": "python",
   "pygments_lexer": "ipython3",
   "version": "3.6.13"
  }
 },
 "nbformat": 4,
 "nbformat_minor": 5
}
