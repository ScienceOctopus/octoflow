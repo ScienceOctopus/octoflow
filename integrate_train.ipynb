{
 "cells": [
  {
   "cell_type": "code",
   "execution_count": null,
   "id": "32b38088",
   "metadata": {},
   "outputs": [],
   "source": [
    "import pandas as pd"
   ]
  },
  {
   "cell_type": "code",
   "execution_count": null,
   "id": "8f488398",
   "metadata": {},
   "outputs": [],
   "source": [
    "#!find . -maxdepth 3 -type f -exec du -h {} + | sort --human-numeric-sort --reverse\n",
    "!free"
   ]
  },
  {
   "cell_type": "markdown",
   "id": "b284a90b",
   "metadata": {},
   "source": [
    "## INTEGRATE"
   ]
  },
  {
   "cell_type": "code",
   "execution_count": 3,
   "id": "b0bb3d9f",
   "metadata": {},
   "outputs": [],
   "source": [
    "url= \"https://docs.google.com/spreadsheets/d/e/2PACX-1vSXaZ3xwCNvUTs3DgqzCaE3W481KJQhC6FqbNQ6zU04AGCj37vqS5TEMidyh46NC6UlyCbSXtj52UOc/pub?output=csv\"\n",
    "source = \"psych1k_100522\""
   ]
  },
  {
   "cell_type": "code",
   "execution_count": 4,
   "id": "fd81d96e",
   "metadata": {},
   "outputs": [],
   "source": [
    "df = pd.read_csv(url)"
   ]
  },
  {
   "cell_type": "code",
   "execution_count": 5,
   "id": "63f4cbde",
   "metadata": {},
   "outputs": [],
   "source": [
    "df[\"labels\"] = df[\"label\"]\n",
    "df[\"source\"] = source\n",
    "df = df.drop(columns=[\"predicts\"])"
   ]
  },
  {
   "cell_type": "code",
   "execution_count": 6,
   "id": "058d70bc",
   "metadata": {},
   "outputs": [],
   "source": [
    "df = df.dropna(subset=[\"labels\"])\n",
    "df[\"labels\"] = df[\"labels\"].astype(int) \n",
    "df = df[(df[\"labels\"] == 1) | (df[\"labels\"] == 0)] #fix typos in labels eg. misstyped 0 as 9\n"
   ]
  },
  {
   "cell_type": "code",
   "execution_count": 10,
   "id": "37a5ca7b",
   "metadata": {},
   "outputs": [],
   "source": [
    "df2 = pd.read_csv(\"downloads/43k_pm_bio.csv\")\n",
    "df3 = df2.append(df)\n",
    "df3.to_csv(\"downloads/47k_train.csv\", index = False, header=True)"
   ]
  },
  {
   "cell_type": "markdown",
   "id": "6c20eb76",
   "metadata": {},
   "source": [
    "## TRAIN"
   ]
  },
  {
   "cell_type": "code",
   "execution_count": null,
   "id": "19c6865b",
   "metadata": {},
   "outputs": [],
   "source": []
  }
 ],
 "metadata": {
  "kernelspec": {
   "display_name": "conda_amazonei_mxnet_p27",
   "language": "python",
   "name": "conda_amazonei_mxnet_p27"
  },
  "language_info": {
   "codemirror_mode": {
    "name": "ipython",
    "version": 2
   },
   "file_extension": ".py",
   "mimetype": "text/x-python",
   "name": "python",
   "nbconvert_exporter": "python",
   "pygments_lexer": "ipython2",
   "version": "2.7.16"
  }
 },
 "nbformat": 4,
 "nbformat_minor": 5
}
