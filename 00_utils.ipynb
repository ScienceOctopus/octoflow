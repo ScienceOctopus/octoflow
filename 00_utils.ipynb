{
 "cells": [
  {
   "cell_type": "code",
   "execution_count": 3,
   "id": "dbaa22f7",
   "metadata": {},
   "outputs": [],
   "source": [
    "# default_exp core"
   ]
  },
  {
   "cell_type": "code",
   "execution_count": 2,
   "id": "67f69884",
   "metadata": {},
   "outputs": [],
   "source": [
    "def find_sentence_in_abstract(paragraph, cue_phrases):\n",
    "    \"\"\"checks paragraph for key sentences. Returns first matching hit\"\"\"\n",
    "    p_sents = paragraph.split(\".\")\n",
    "    combinations = itertools.product(p_sents, cue_phrases)\n",
    "    hit = \"\"\n",
    "    for c in combinations:\n",
    "        if c[1] in c[0]:\n",
    "       # if c[0].startswith(c[1]): #easier to work with later assuming beginning of sentence\n",
    "            hit = c[0]\n",
    "            print(hit[:44])\n",
    "            break\n",
    "    return hit"
   ]
  },
  {
   "cell_type": "code",
   "execution_count": null,
   "id": "835a6cc8",
   "metadata": {},
   "outputs": [],
   "source": []
  }
 ],
 "metadata": {
  "kernelspec": {
   "display_name": "conda_python3",
   "language": "python",
   "name": "conda_python3"
  },
  "language_info": {
   "codemirror_mode": {
    "name": "ipython",
    "version": 3
   },
   "file_extension": ".py",
   "mimetype": "text/x-python",
   "name": "python",
   "nbconvert_exporter": "python",
   "pygments_lexer": "ipython3",
   "version": "3.6.13"
  }
 },
 "nbformat": 4,
 "nbformat_minor": 5
}
