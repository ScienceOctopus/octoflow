{
 "cells": [
  {
   "cell_type": "code",
   "execution_count": 4,
   "id": "3ff5c742",
   "metadata": {},
   "outputs": [],
   "source": [
    "# default_exp core"
   ]
  },
  {
   "cell_type": "code",
   "execution_count": 6,
   "id": "c7e76430",
   "metadata": {},
   "outputs": [],
   "source": [
    "#export\n",
    "def find_sentence_in_abstract(paragraph, cue_phrases):\n",
    "    \"\"\"checks paragraph for key sentences. Returns first matching hit\"\"\"\n",
    "    p_sents = paragraph.split(\".\")\n",
    "    combinations = itertools.product(p_sents, cue_phrases)\n",
    "    hit = \"\"\n",
    "    for c in combinations:\n",
    "        if c[1] in c[0]:\n",
    "       # if c[0].startswith(c[1]): #easier to work with later assuming beginning of sentence\n",
    "            hit = c[0]\n",
    "            print(hit[:44])\n",
    "            break\n",
    "    return hit"
   ]
  },
  {
   "cell_type": "code",
   "execution_count": null,
   "id": "2ea2f713",
   "metadata": {},
   "outputs": [],
   "source": [
    "#NLTK\n",
    "patterns = [\n",
    "    (r'.*ing$', 'VBG'),               # gerunds\n",
    "    (r'.*ed$', 'VBD'),                # simple past\n",
    "    (r'.*es$', 'VBZ'),                # 3rd singular present\n",
    "    (r'.*ould$', 'MD'),               # modals\n",
    "    (r'.*\\'s$', 'NN$'),               # possessive nouns\n",
    "    (r'.*s$', 'NNS'),                 # plural nouns\n",
    "    (r'^-?[0-9]+(.[0-9]+)?$', 'CD'),  # cardinal numbers\n",
    "    (r'.*', 'NN')                     # nouns (default)\n",
    "]"
   ]
  }
 ],
 "metadata": {
  "kernelspec": {
   "display_name": "conda_python3",
   "language": "python",
   "name": "conda_python3"
  },
  "language_info": {
   "codemirror_mode": {
    "name": "ipython",
    "version": 3
   },
   "file_extension": ".py",
   "mimetype": "text/x-python",
   "name": "python",
   "nbconvert_exporter": "python",
   "pygments_lexer": "ipython3",
   "version": "3.6.13"
  }
 },
 "nbformat": 4,
 "nbformat_minor": 5
}
