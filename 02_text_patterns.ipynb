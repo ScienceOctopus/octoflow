{
 "cells": [
  {
   "cell_type": "markdown",
   "id": "df9649dc",
   "metadata": {},
   "source": [
    "# Finding (Problem Statement) Signal in Sentence Phrasing\n",
    "\n",
    "Here we look at intersecting (low signal) and exclusive (only in one class aka high signal) [n-grams](https://en.wikipedia.org/wiki/N-gram) of positive and negative labeled sentences.\n",
    "\n",
    "If there are n-grams that *almost* exclusively appear in one class (0 or 1) then they could make great matching phrases either directly for classifying a sentence without using a machine learning model or just to do last-mile quality assurance and flag suspicious model decisions"
   ]
  },
  {
   "cell_type": "code",
   "execution_count": 1,
   "id": "c50b188b",
   "metadata": {},
   "outputs": [],
   "source": [
    "# default_exp core"
   ]
  },
  {
   "cell_type": "code",
   "execution_count": 2,
   "id": "3e163a68",
   "metadata": {},
   "outputs": [],
   "source": [
    "import pandas as pd\n",
    "df = pd.read_csv(\"datasets/problem_statements.csv\")"
   ]
  },
  {
   "cell_type": "code",
   "execution_count": 3,
   "id": "2d6f7bc3",
   "metadata": {},
   "outputs": [],
   "source": [
    "#export\n",
    "\n",
    "def take_while(fn, coll):\n",
    "    \"\"\"Yield values from coll until fn is False\"\"\"\n",
    "    for e in coll:\n",
    "        if fn(e):\n",
    "            yield e\n",
    "        else:\n",
    "            return\n",
    "\n",
    "def partition(n, coll, step=None):\n",
    "    return take_while(lambda e: len(e) == n,\n",
    "        (coll[i:i+n] for i in range(0, len(coll), step or n)))\n",
    "\n",
    "def partition_all(n, coll, step=None):\n",
    "    return (coll[i:i+n] for i in range(0, len(coll), step or n))\n",
    "\n",
    "def n_grams(texts, n_gram=2): return [\" \".join(n) for t in texts for n in partition(n_gram, t.split(\" \"), 1)]"
   ]
  },
  {
   "cell_type": "code",
   "execution_count": 4,
   "id": "c9fd8c23",
   "metadata": {},
   "outputs": [],
   "source": [
    "#export\n",
    "\n",
    "import spacy\n",
    "nlp = spacy.load(\"en_core_web_md\")\n",
    "\n",
    "def lemmatize(text, nlp=nlp):\n",
    "    return \" \".join([tok.lemma_ for tok in nlp(text)])"
   ]
  },
  {
   "cell_type": "code",
   "execution_count": 5,
   "id": "095165d5",
   "metadata": {},
   "outputs": [],
   "source": [
    "df[\"lemmatized\"] = df[\"text\"].map(lemmatize)"
   ]
  },
  {
   "cell_type": "code",
   "execution_count": 6,
   "id": "04fb7c84",
   "metadata": {},
   "outputs": [],
   "source": [
    "df[\"text\"] = df[\"lemmatized\"]"
   ]
  },
  {
   "cell_type": "code",
   "execution_count": 7,
   "id": "3ccf5791",
   "metadata": {},
   "outputs": [],
   "source": [
    "positives = df[df[\"labels\"] == 1]\n",
    "negatives = df[df[\"labels\"] == 0]"
   ]
  },
  {
   "cell_type": "code",
   "execution_count": 8,
   "id": "136acb22",
   "metadata": {},
   "outputs": [
    {
     "data": {
      "text/html": [
       "<div>\n",
       "<style scoped>\n",
       "    .dataframe tbody tr th:only-of-type {\n",
       "        vertical-align: middle;\n",
       "    }\n",
       "\n",
       "    .dataframe tbody tr th {\n",
       "        vertical-align: top;\n",
       "    }\n",
       "\n",
       "    .dataframe thead th {\n",
       "        text-align: right;\n",
       "    }\n",
       "</style>\n",
       "<table border=\"1\" class=\"dataframe\">\n",
       "  <thead>\n",
       "    <tr style=\"text-align: right;\">\n",
       "      <th></th>\n",
       "      <th>Unnamed: 0</th>\n",
       "      <th>Title</th>\n",
       "      <th>PMID</th>\n",
       "      <th>text</th>\n",
       "      <th>DOI</th>\n",
       "      <th>labels</th>\n",
       "      <th>source</th>\n",
       "      <th>lemmatized</th>\n",
       "    </tr>\n",
       "  </thead>\n",
       "  <tbody>\n",
       "    <tr>\n",
       "      <th>0</th>\n",
       "      <td>0</td>\n",
       "      <td>NaN</td>\n",
       "      <td>NaN</td>\n",
       "      <td>the difficulty with this task lie in the fact ...</td>\n",
       "      <td>NaN</td>\n",
       "      <td>1</td>\n",
       "      <td>acl_cambridge</td>\n",
       "      <td>the difficulty with this task lie in the fact ...</td>\n",
       "    </tr>\n",
       "    <tr>\n",
       "      <th>1</th>\n",
       "      <td>1</td>\n",
       "      <td>NaN</td>\n",
       "      <td>NaN</td>\n",
       "      <td>the problem with rich annotation be that they ...</td>\n",
       "      <td>NaN</td>\n",
       "      <td>1</td>\n",
       "      <td>acl_cambridge</td>\n",
       "      <td>the problem with rich annotation be that they ...</td>\n",
       "    </tr>\n",
       "    <tr>\n",
       "      <th>2</th>\n",
       "      <td>2</td>\n",
       "      <td>NaN</td>\n",
       "      <td>NaN</td>\n",
       "      <td>as a consequence , when adapt exist method and...</td>\n",
       "      <td>NaN</td>\n",
       "      <td>1</td>\n",
       "      <td>acl_cambridge</td>\n",
       "      <td>as a consequence , when adapt exist method and...</td>\n",
       "    </tr>\n",
       "  </tbody>\n",
       "</table>\n",
       "</div>"
      ],
      "text/plain": [
       "   Unnamed: 0 Title  PMID                                               text  \\\n",
       "0           0   NaN   NaN  the difficulty with this task lie in the fact ...   \n",
       "1           1   NaN   NaN  the problem with rich annotation be that they ...   \n",
       "2           2   NaN   NaN  as a consequence , when adapt exist method and...   \n",
       "\n",
       "   DOI  labels         source  \\\n",
       "0  NaN       1  acl_cambridge   \n",
       "1  NaN       1  acl_cambridge   \n",
       "2  NaN       1  acl_cambridge   \n",
       "\n",
       "                                          lemmatized  \n",
       "0  the difficulty with this task lie in the fact ...  \n",
       "1  the problem with rich annotation be that they ...  \n",
       "2  as a consequence , when adapt exist method and...  "
      ]
     },
     "execution_count": 8,
     "metadata": {},
     "output_type": "execute_result"
    }
   ],
   "source": [
    "positives[:3]"
   ]
  },
  {
   "cell_type": "code",
   "execution_count": 9,
   "id": "6cbe476f",
   "metadata": {},
   "outputs": [],
   "source": [
    "bi_grams_pos = n_grams(positives[\"text\"], 2)\n",
    "tri_grams_pos = n_grams(positives[\"text\"], 3)\n",
    "bi_grams_neg = n_grams(negatives[\"text\"], 2)\n",
    "tri_grams_neg = n_grams(negatives[\"text\"], 3)"
   ]
  },
  {
   "cell_type": "code",
   "execution_count": 10,
   "id": "2db2c221",
   "metadata": {},
   "outputs": [
    {
     "data": {
      "text/plain": [
       "['the difficulty', 'difficulty with', 'with this']"
      ]
     },
     "execution_count": 10,
     "metadata": {},
     "output_type": "execute_result"
    }
   ],
   "source": [
    "bi_grams_pos[:3]"
   ]
  },
  {
   "cell_type": "code",
   "execution_count": 11,
   "id": "aa4785cd",
   "metadata": {},
   "outputs": [],
   "source": [
    "from collections import Counter\n",
    "\n",
    "d1 = dict(Counter(bi_grams_pos))\n",
    "d2 = dict(Counter(bi_grams_neg))\n",
    "\n",
    "d3 = dict(Counter(tri_grams_pos))\n",
    "d4 = dict(Counter(tri_grams_neg))\n",
    "\n",
    "bi_grams_both = {x:(d1[x], d2[x]) for x in d1 if x in d2}\n",
    "\n",
    "tri_grams_both = {x:(d3[x], d4[x]) for x in d3 if d4.get(x)}"
   ]
  },
  {
   "cell_type": "code",
   "execution_count": 12,
   "id": "5bb4baf4",
   "metadata": {},
   "outputs": [],
   "source": [
    "bi_grams_pos_only = {x:d1[x] for x in d1 if not d2.get(x)} # and d2.get(x) < 5\n",
    "tri_grams_pos_only = {x:d3[x] for x in d3 if not d4.get(x)}"
   ]
  },
  {
   "cell_type": "code",
   "execution_count": 13,
   "id": "72d1b3f8",
   "metadata": {},
   "outputs": [
    {
     "data": {
      "text/plain": [
       "[('the fact that', (13, 21)),\n",
       " ('be use for', (3, 24)),\n",
       " ('et al .', (9, 79)),\n",
       " ('al . ,', (9, 66)),\n",
       " ('that they be', (12, 12)),\n",
       " ('one of the', (37, 46)),\n",
       " ('be that the', (66, 9)),\n",
       " (', there be', (5, 16)),\n",
       " ('large number of', (6, 15)),\n",
       " ('be that it', (52, 3)),\n",
       " ('- of -', (6, 25)),\n",
       " ('the quality of', (7, 17)),\n",
       " (', such as', (6, 16)),\n",
       " ('that it be', (12, 18)),\n",
       " ('it be not', (5, 18)),\n",
       " ('n - gram', (8, 27)),\n",
       " ('in the training', (6, 18)),\n",
       " ('the training datum', (6, 30)),\n",
       " ('have not be', (5, 24)),\n",
       " ('it do not', (10, 24)),\n",
       " ('to the same', (4, 18)),\n",
       " ('in term of', (6, 19)),\n",
       " ('the use of', (5, 29)),\n",
       " (', which be', (10, 23)),\n",
       " (', it be', (6, 16)),\n",
       " ('be able to', (6, 18)),\n",
       " ('as well as', (6, 21)),\n",
       " ('they do not', (7, 15)),\n",
       " ('the most common', (29, 15)),\n",
       " ('take into account', (5, 18)),\n",
       " ('can not be', (5, 20)),\n",
       " ('can be use', (3, 27)),\n",
       " ('we do not', (3, 18)),\n",
       " (', and the', (6, 15)),\n",
       " ('the number of', (9, 42)),\n",
       " ('in order to', (4, 18)),\n",
       " ('depend on the', (3, 18)),\n",
       " ('be use to', (3, 25)),\n",
       " ('the treatment of', (2, 19)),\n",
       " ('- to -', (3, 24)),\n",
       " ('the effect of', (2, 33)),\n",
       " ('there be a', (5, 28)),\n",
       " ('a set of', (1, 21)),\n",
       " ('base on the', (1, 30)),\n",
       " (') be a', (45, 25)),\n",
       " ('be a rare', (20, 7)),\n",
       " ('be one of', (24, 27)),\n",
       " ('of the most', (28, 10)),\n",
       " ('be a common', (28, 14)),\n",
       " ('be the most', (22, 21)),\n",
       " ('in patient with', (8, 23)),\n",
       " (') have be', (1, 20))]"
      ]
     },
     "execution_count": 13,
     "metadata": {},
     "output_type": "execute_result"
    }
   ],
   "source": [
    "[(k,v) for k,v in Counter(tri_grams_both).items() if (v[0] + v[1]) > 20 ]\n",
    "#n-gram: (pos, neg)"
   ]
  },
  {
   "cell_type": "code",
   "execution_count": 14,
   "id": "e239a555",
   "metadata": {},
   "outputs": [
    {
     "data": {
      "text/plain": [
       "[('in the', (99, 360)),\n",
       " (', and', (63, 246)),\n",
       " ('be that', (280, 12)),\n",
       " ('of the', (182, 576)),\n",
       " ('as a', (19, 106)),\n",
       " ('with the', (28, 74)),\n",
       " ('be use', (13, 106)),\n",
       " ('be the', (97, 84)),\n",
       " ('be not', (42, 162)),\n",
       " ('do not', (46, 145)),\n",
       " (', the', (46, 137)),\n",
       " (', which', (43, 99)),\n",
       " ('of this', (35, 70)),\n",
       " ('can be', (20, 100)),\n",
       " ('number of', (24, 114)),\n",
       " ('that the', (82, 82)),\n",
       " ('there be', (24, 95)),\n",
       " ('be an', (25, 79)),\n",
       " ('to be', (35, 122)),\n",
       " ('to the', (53, 239)),\n",
       " ('by the', (16, 86)),\n",
       " ('be a', (165, 222)),\n",
       " (') be', (107, 111)),\n",
       " (', but', (35, 72)),\n",
       " ('the most', (62, 56)),\n",
       " ('it be', (32, 109)),\n",
       " ('on the', (25, 151)),\n",
       " ('and the', (24, 82)),\n",
       " ('of a', (14, 111)),\n",
       " ('the same', (19, 100)),\n",
       " ('have be', (29, 143)),\n",
       " ('for the', (21, 115)),\n",
       " (', we', (6, 122))]"
      ]
     },
     "execution_count": 14,
     "metadata": {},
     "output_type": "execute_result"
    }
   ],
   "source": [
    "[(k,v) for k,v in Counter(bi_grams_both).items() if (v[0] + v[1]) > 100]"
   ]
  },
  {
   "cell_type": "markdown",
   "id": "c286aaa5",
   "metadata": {},
   "source": [
    "Let's look at patterns that one class shows very rarely relative to the other"
   ]
  },
  {
   "cell_type": "code",
   "execution_count": 15,
   "id": "f7d4ac48",
   "metadata": {},
   "outputs": [
    {
     "data": {
      "text/plain": [
       "([('the problem', (57, 1)),\n",
       "  ('be that', (280, 12)),\n",
       "  ('problem of', (58, 1)),\n",
       "  ('limitation of', (48, 2)),\n",
       "  ('shortcoming of', (24, 1))],\n",
       " [('be that it', (52, 3))])"
      ]
     },
     "execution_count": 15,
     "metadata": {},
     "output_type": "execute_result"
    }
   ],
   "source": [
    "factor = 15\n",
    "#show n-grams that appear at least 20x more often in positive samples\n",
    "[(k,v) for k,v in Counter(bi_grams_both).items() if (v[0]/v[1]) > factor], [(k,v) for k,v in Counter(tri_grams_both).items() if (v[0]/v[1]) > factor/2]"
   ]
  },
  {
   "cell_type": "markdown",
   "id": "4e159227",
   "metadata": {},
   "source": [
    "Apparently \"problem of\" appears 54 in \"problem statements\" and only once in \"non-problem\" statement. Let's look at that one sentence!"
   ]
  },
  {
   "cell_type": "code",
   "execution_count": 16,
   "id": "05f67dea",
   "metadata": {},
   "outputs": [
    {
     "data": {
      "text/plain": [
       "'peripheral neuropathy be the most common problem of diabetes .'"
      ]
     },
     "execution_count": 16,
     "metadata": {},
     "output_type": "execute_result"
    }
   ],
   "source": [
    "negatives[negatives[\"text\"].str.contains('problem of')].reset_index()[\"text\"][0]"
   ]
  },
  {
   "cell_type": "markdown",
   "id": "ad3c5822",
   "metadata": {},
   "source": [
    "Interesting ... through the bi-gram analysis we found a statement that actually sounds like a problem statement and should/could be labeled a 1 (problem statement) ... but isn't in the dataset.\n",
    "In that case I'd feel OK with using \"problem of\" as a hard-coded pattern-matching rule in finding positive samples"
   ]
  },
  {
   "cell_type": "code",
   "execution_count": 28,
   "id": "7a21039c",
   "metadata": {},
   "outputs": [
    {
     "data": {
      "text/plain": [
       "[('with this', 11),\n",
       " ('problem with', 20),\n",
       " ('main drawback', 16),\n",
       " ('drawback of', 57),\n",
       " ('limitation be', 41),\n",
       " ('the disadvantage', 15),\n",
       " ('disadvantage of', 16),\n",
       " ('method be', 14),\n",
       " ('shortcoming be', 18),\n",
       " ('disadvantage be', 12),\n",
       " ('a serious', 16),\n",
       " ('issue of', 14),\n",
       " ('one drawback', 11),\n",
       " ('main limitation', 11),\n",
       " ('major drawback', 13),\n",
       " ('drawback be', 67),\n",
       " ('another limitation', 14),\n",
       " ('a drawback', 17),\n",
       " ('the drawback', 38),\n",
       " ('of use', 14)]"
      ]
     },
     "execution_count": 28,
     "metadata": {},
     "output_type": "execute_result"
    }
   ],
   "source": [
    "bgs = [(k,v) for k,v in Counter(bi_grams_pos_only).items() if v > 10]\n",
    "bgs"
   ]
  },
  {
   "cell_type": "code",
   "execution_count": 25,
   "id": "90f028dd",
   "metadata": {},
   "outputs": [
    {
     "data": {
      "text/plain": [
       "'with this\\nproblem with\\nmain drawback\\ndrawback of\\nlimitation be\\nthe disadvantage\\ndisadvantage of\\nmethod be\\nshortcoming be\\ndisadvantage be\\na serious\\nissue of\\none drawback\\nmain limitation\\nmajor drawback\\ndrawback be\\nanother limitation\\na drawback\\nthe drawback\\nof use'"
      ]
     },
     "execution_count": 25,
     "metadata": {},
     "output_type": "execute_result"
    }
   ],
   "source": [
    "\"\\n\".join([t[0] for t in bgs])"
   ]
  },
  {
   "cell_type": "code",
   "execution_count": 26,
   "id": "3c59368b",
   "metadata": {},
   "outputs": [],
   "source": [
    "with open(\"bigrams_pos_only_lemmatized.txt\", \"w\") as f:\n",
    "    f.write(\"\\n\".join([t[0] for t in bgs]))"
   ]
  },
  {
   "cell_type": "code",
   "execution_count": 27,
   "id": "e9313086",
   "metadata": {},
   "outputs": [
    {
     "data": {
      "text/plain": [
       "[('lie in the', 7),\n",
       " ('be that they', 32),\n",
       " ('the problem of', 44),\n",
       " ('approach be the', 9),\n",
       " ('be the fact', 7),\n",
       " ('the main drawback', 12),\n",
       " ('limitation be that', 32),\n",
       " ('the disadvantage of', 7),\n",
       " (', the problem', 8),\n",
       " ('the problem be', 8),\n",
       " ('problem of the', 7),\n",
       " ('method be that', 10),\n",
       " ('limitation be the', 7),\n",
       " ('disadvantage be that', 10),\n",
       " ('be that there', 9),\n",
       " ('the issue of', 10),\n",
       " ('drawback of this', 7),\n",
       " ('the main limitation', 11),\n",
       " ('main limitation of', 9),\n",
       " ('approach be that', 19),\n",
       " ('major drawback of', 7),\n",
       " ('drawback be that', 57),\n",
       " ('drawback be the', 7),\n",
       " ('of this approach', 8),\n",
       " ('this approach be', 9),\n",
       " ('main drawback be', 8),\n",
       " ('limitation of the', 17),\n",
       " ('the drawback of', 20),\n",
       " ('the drawback be', 16),\n",
       " ('shortcoming be that', 12),\n",
       " ('that it do', 7),\n",
       " ('be that we', 10),\n",
       " ('be that a', 9),\n",
       " ('have the drawback', 9),\n",
       " ('another limitation be', 8),\n",
       " ('a drawback of', 8),\n",
       " ('drawback of the', 8),\n",
       " ('problem with this', 7),\n",
       " ('model be that', 7),\n",
       " ('problem be that', 14),\n",
       " ('a drawback be', 7),\n",
       " ('be a serious', 10)]"
      ]
     },
     "execution_count": 27,
     "metadata": {},
     "output_type": "execute_result"
    }
   ],
   "source": [
    "tgs = [(k,v) for k,v in Counter(tri_grams_pos_only).items() if v > 6]"
   ]
  },
  {
   "cell_type": "code",
   "execution_count": 18,
   "id": "8b35d9e0",
   "metadata": {},
   "outputs": [
    {
     "data": {
      "text/plain": [
       "[]"
      ]
     },
     "execution_count": 18,
     "metadata": {},
     "output_type": "execute_result"
    }
   ],
   "source": [
    "#trigrams that are not supersets of bigrams\n",
    "[bigram for bigram in bi_grams_pos_only.keys() if not any(bigram in tg for tg in tri_grams_pos_only.keys())]\n"
   ]
  },
  {
   "cell_type": "code",
   "execution_count": 19,
   "id": "2ef5d76c",
   "metadata": {},
   "outputs": [],
   "source": [
    "texts = df[df[\"text\"].str.contains(\"drawback be that\")].reset_index()[\"text\"]"
   ]
  },
  {
   "cell_type": "code",
   "execution_count": 20,
   "id": "f034f701",
   "metadata": {},
   "outputs": [
    {
     "data": {
      "text/plain": [
       "Series([], Name: text, dtype: object)"
      ]
     },
     "execution_count": 20,
     "metadata": {},
     "output_type": "execute_result"
    }
   ],
   "source": [
    "texts"
   ]
  }
 ],
 "metadata": {
  "kernelspec": {
   "display_name": "conda_python3",
   "language": "python",
   "name": "conda_python3"
  },
  "language_info": {
   "codemirror_mode": {
    "name": "ipython",
    "version": 3
   },
   "file_extension": ".py",
   "mimetype": "text/x-python",
   "name": "python",
   "nbconvert_exporter": "python",
   "pygments_lexer": "ipython3",
   "version": "3.6.13"
  }
 },
 "nbformat": 4,
 "nbformat_minor": 5
}
