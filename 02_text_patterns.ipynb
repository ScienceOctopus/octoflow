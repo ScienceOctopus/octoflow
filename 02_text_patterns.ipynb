{
 "cells": [
  {
   "cell_type": "code",
   "execution_count": 2,
   "id": "e7ed1a9c",
   "metadata": {},
   "outputs": [],
   "source": [
    "import pandas as pd"
   ]
  },
  {
   "cell_type": "code",
   "execution_count": 8,
   "id": "1c21514b",
   "metadata": {},
   "outputs": [],
   "source": [
    "df = pd.read_csv(\"datasets/problem_statements.csv\")"
   ]
  },
  {
   "cell_type": "code",
   "execution_count": 5,
   "id": "3eca43d2",
   "metadata": {},
   "outputs": [],
   "source": [
    "def take_while(fn, coll):\n",
    "    \"\"\"Yield values from coll until fn is False\"\"\"\n",
    "    for e in coll:\n",
    "        if fn(e):\n",
    "            yield e\n",
    "        else:\n",
    "            return\n",
    "\n",
    "def partition(n, coll, step=None):\n",
    "    return take_while(lambda e: len(e) == n,\n",
    "        (coll[i:i+n] for i in range(0, len(coll), step or n)))\n",
    "\n",
    "def partition_all(n, coll, step=None):\n",
    "    return (coll[i:i+n] for i in range(0, len(coll), step or n))\n"
   ]
  },
  {
   "cell_type": "code",
   "execution_count": 13,
   "id": "222d8331",
   "metadata": {},
   "outputs": [],
   "source": [
    "#df = df.drop(columns=[\"Unnamed: 0\", \"index\", \"Unnamed: 0.1\", \"Unnamed: 9\"])"
   ]
  },
  {
   "cell_type": "code",
   "execution_count": 183,
   "id": "94cc5523",
   "metadata": {},
   "outputs": [],
   "source": [
    "positives = df[df[\"labels\"] == 1]\n",
    "negatives = df[df[\"labels\"] == 0]"
   ]
  },
  {
   "cell_type": "code",
   "execution_count": 184,
   "id": "8420c968",
   "metadata": {},
   "outputs": [],
   "source": [
    "def n_grams(texts, n_gram=2): return [\" \".join(n) for t in texts for n in partition(n_gram, t.split(\" \"), 1)]"
   ]
  },
  {
   "cell_type": "code",
   "execution_count": 185,
   "id": "c2de8e75",
   "metadata": {},
   "outputs": [],
   "source": [
    "bi_grams_pos = n_grams(positives[\"text\"], 2)\n",
    "tri_grams_pos = n_grams(positives[\"text\"], 3)\n",
    "bi_grams_neg = n_grams(negatives[\"text\"], 2)\n",
    "tri_grams_neg = n_grams(negatives[\"text\"], 3)"
   ]
  },
  {
   "cell_type": "code",
   "execution_count": 186,
   "id": "2afacc74",
   "metadata": {},
   "outputs": [
    {
     "data": {
      "text/plain": [
       "['The difficulty',\n",
       " 'difficulty with',\n",
       " 'with this',\n",
       " 'this task',\n",
       " 'task lies',\n",
       " 'lies in',\n",
       " 'in the',\n",
       " 'the fact',\n",
       " 'fact that',\n",
       " 'that prosodic',\n",
       " 'prosodic cues',\n",
       " 'cues are',\n",
       " 'are never',\n",
       " 'never absolute',\n",
       " 'absolute ;',\n",
       " '; they',\n",
       " 'they are',\n",
       " 'are relative',\n",
       " 'relative to',\n",
       " 'to individual']"
      ]
     },
     "execution_count": 186,
     "metadata": {},
     "output_type": "execute_result"
    }
   ],
   "source": [
    "bi_grams_pos[:20]"
   ]
  },
  {
   "cell_type": "code",
   "execution_count": 209,
   "id": "669a639e",
   "metadata": {},
   "outputs": [],
   "source": [
    "d1 = dict(Counter(bi_grams_pos))\n",
    "d2 = dict(Counter(bi_grams_neg))\n",
    "\n",
    "d3 = dict(Counter(tri_grams_pos))\n",
    "d4 = dict(Counter(tri_grams_neg))\n",
    "bi_grams_both = {x:d1[x] for x in d1 if x in d2}\n",
    "tri_grams_both = {x:d3[x] for x in d3 if d4.get(x) and d4.get(x) > 25}"
   ]
  },
  {
   "cell_type": "code",
   "execution_count": 206,
   "id": "2ba6ed74",
   "metadata": {},
   "outputs": [],
   "source": [
    "bi_grams_pos_only = {x:d1[x] for x in d1 if not d2.get(x)} # and d2.get(x) < 5\n",
    "tri_grams_pos_only = {x:d3[x] for x in d3 if not d4.get(x)}"
   ]
  },
  {
   "cell_type": "code",
   "execution_count": 211,
   "id": "06616896",
   "metadata": {},
   "outputs": [
    {
     "data": {
      "text/plain": [
       "[('et al. ,', 9),\n",
       " ('one of the', 23),\n",
       " ('the training data', 7),\n",
       " ('can be used', 3),\n",
       " ('the number of', 9)]"
      ]
     },
     "execution_count": 211,
     "metadata": {},
     "output_type": "execute_result"
    }
   ],
   "source": [
    "[(k,v) for k,v in Counter(tri_grams_both).items()]"
   ]
  },
  {
   "cell_type": "code",
   "execution_count": 213,
   "id": "7fbc3e30",
   "metadata": {},
   "outputs": [
    {
     "data": {
      "text/plain": [
       "[('in the', 80),\n",
       " ('is that', 272),\n",
       " ('of the', 154),\n",
       " ('problem of', 54),\n",
       " ('is the', 74),\n",
       " ('that the', 82),\n",
       " ('that it', 57),\n",
       " ('is a', 88)]"
      ]
     },
     "execution_count": 213,
     "metadata": {},
     "output_type": "execute_result"
    }
   ],
   "source": [
    "[(k,v) for k,v in Counter(bi_grams_both).items() if v > 50]"
   ]
  },
  {
   "cell_type": "code",
   "execution_count": 214,
   "id": "a3bcf68c",
   "metadata": {},
   "outputs": [
    {
     "data": {
      "text/plain": [
       "[('the problem', 45),\n",
       " ('drawback of', 57),\n",
       " ('limitation is', 41),\n",
       " ('limitation of', 46),\n",
       " ('drawback is', 66)]"
      ]
     },
     "execution_count": 214,
     "metadata": {},
     "output_type": "execute_result"
    }
   ],
   "source": [
    "[(k,v) for k,v in Counter(bi_grams_pos_only).items() if v > 25]"
   ]
  },
  {
   "cell_type": "code",
   "execution_count": 215,
   "id": "16e6d459",
   "metadata": {},
   "outputs": [
    {
     "data": {
      "text/plain": [
       "[('is that they', 31),\n",
       " ('the problem of', 41),\n",
       " ('limitation is that', 32),\n",
       " ('drawback is that', 56),\n",
       " ('approach is that', 16),\n",
       " ('limitation of the', 17)]"
      ]
     },
     "execution_count": 215,
     "metadata": {},
     "output_type": "execute_result"
    }
   ],
   "source": [
    "[(k,v) for k,v in Counter(tri_grams_pos_only).items() if v > 15]"
   ]
  },
  {
   "cell_type": "code",
   "execution_count": 216,
   "id": "fef92b70",
   "metadata": {},
   "outputs": [],
   "source": [
    "texts = df[df[\"text\"].str.contains(\"drawback is that\")].reset_index()[\"text\"]"
   ]
  },
  {
   "cell_type": "code",
   "execution_count": 217,
   "id": "d9b056fc",
   "metadata": {},
   "outputs": [
    {
     "data": {
      "text/plain": [
       "0     Its most obvious drawback is that the method c...\n",
       "1     The most significant drawback is that ontologi...\n",
       "2     The main drawback is that it needs almost 20,0...\n",
       "3     One drawback is that it cannot deal with depen...\n",
       "4     A potential drawback is that it might not work...\n",
       "5     The drawback is that , since extracted events ...\n",
       "6     The main drawback is that the entries produced...\n",
       "7     An obvious drawback is that it is necessary to...\n",
       "8     The only drawback is that it willperform slowe...\n",
       "9     The drawback is that the estimates of paramete...\n",
       "10    One possible drawback is that senses which one...\n",
       "11    Their major drawback is that they require a gr...\n",
       "12    The first drawback is that it requires more kn...\n",
       "13    Another drawback is that it is impossible to a...\n",
       "14    The drawback is that the solution may be only ...\n",
       "15    The main drawback is that structures may not b...\n",
       "16    Another major drawback is that it requires con...\n",
       "17    The major drawback is that we have to generate...\n",
       "18    The drawback is that this context may not be s...\n",
       "19               The drawback is that this is expensive\n",
       "20    Their main drawback is that they may or may no...\n",
       "21    Another drawback is that the different sentenc...\n",
       "22    The drawback is that the solution may be only ...\n",
       "23    However , an important drawback is that the ta...\n",
       "24    A drawback is that their method limits the tra...\n",
       "25    A drawback is that these features give no info...\n",
       "26    A possible drawback is that for some inputs , ...\n",
       "27    A drawback is that this structure may be cubic...\n",
       "28    The benefit of this approach is that the distr...\n",
       "29    The main drawback is that training time is inc...\n",
       "30    However , the drawback is that an adaption to ...\n",
       "31    The primary drawback is that KB annotations ar...\n",
       "32    The drawback is that there is a margin of erro...\n",
       "33    One drawback is that the parsing process might...\n",
       "34    An additional drawback is that all existing sy...\n",
       "35    A drawback is that the corpus is not publicly ...\n",
       "36    A drawback is that a grammar may need a large ...\n",
       "37    The second drawback is that the criterion for ...\n",
       "38    However , an obvious drawback is that the actu...\n",
       "39    The drawback is that the complexity in syntact...\n",
       "40    The second drawback is that 38 % of the slots ...\n",
       "41    The drawback is that the identification of men...\n",
       "42    Its main drawback is that important structural...\n",
       "43    The drawback is that we only cover about half ...\n",
       "44    The first drawback is that Ravichandran and Ho...\n",
       "45    It has many positive features , but one drawba...\n",
       "46    One potential drawback is that it requires hig...\n",
       "47    A fundamental drawback is that phrases are tra...\n",
       "48    A drawback is that theoretical approaches beco...\n",
       "49    A drawback is that the time complexity of infe...\n",
       "50    The drawback is that it causes sensitivity to ...\n",
       "51    One drawback is that LMF provides only a speci...\n",
       "52    A potential drawback is that we get fewer data...\n",
       "53    Their drawback is that , as most generative mo...\n",
       "54    The drawback is that the presence of semantic ...\n",
       "55    Their main drawback is that they are tied to t...\n",
       "Name: text, dtype: object"
      ]
     },
     "execution_count": 217,
     "metadata": {},
     "output_type": "execute_result"
    }
   ],
   "source": [
    "texts"
   ]
  },
  {
   "cell_type": "code",
   "execution_count": null,
   "id": "288c3b64",
   "metadata": {},
   "outputs": [],
   "source": []
  }
 ],
 "metadata": {
  "kernelspec": {
   "display_name": "conda_python3",
   "language": "python",
   "name": "conda_python3"
  },
  "language_info": {
   "codemirror_mode": {
    "name": "ipython",
    "version": 3
   },
   "file_extension": ".py",
   "mimetype": "text/x-python",
   "name": "python",
   "nbconvert_exporter": "python",
   "pygments_lexer": "ipython3",
   "version": "3.6.13"
  }
 },
 "nbformat": 4,
 "nbformat_minor": 5
}
