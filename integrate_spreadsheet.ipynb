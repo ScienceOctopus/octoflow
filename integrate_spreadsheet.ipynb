{
 "cells": [
  {
   "cell_type": "markdown",
   "id": "281b6b8e",
   "metadata": {},
   "source": [
    "# Integrate Labeled Dataset"
   ]
  },
  {
   "cell_type": "code",
   "execution_count": 2,
   "id": "e352c50b",
   "metadata": {},
   "outputs": [],
   "source": [
    "import pandas as pd"
   ]
  },
  {
   "cell_type": "markdown",
   "id": "5c2edf8b",
   "metadata": {},
   "source": [
    "Read CSV from Google Spreadsheet. This only works when the spreadsheet is public AND was **published to web** under `File > Publish To Web`"
   ]
  },
  {
   "cell_type": "code",
   "execution_count": 8,
   "id": "ce2d10df",
   "metadata": {},
   "outputs": [],
   "source": [
    "df = pd.read_csv(\"https://docs.google.com/spreadsheets/d/e/2PACX-1vSkLXuuISZkDh53ttC9AZ1VvDaMXfqoOFSUqYHyzDHStlqNsbi3fiQoe993TSKoay5UyFHsG_otlCGO/pub?output=csv\")"
   ]
  },
  {
   "cell_type": "code",
   "execution_count": null,
   "id": "0fa104b2",
   "metadata": {},
   "outputs": [],
   "source": [
    "df = pd.read_csv(\"https://docs.google.com/spreadsheets/d/e/2PACX-1vSgqy_wWDV8vT_nVjMcL71shNayrzINnLKFBTq5IHe5EjeDemP4DbGcjEdsmHyz_o9mVq49-9txSCBl/pub?output=csv\")"
   ]
  },
  {
   "cell_type": "code",
   "execution_count": 19,
   "id": "df549a05",
   "metadata": {},
   "outputs": [],
   "source": [
    "df[\"labels\"] = df[\"human_label\"]\n",
    "df[\"source\"] = \"biology1k_050522\"\n",
    "df[\"text\"] = df[\"first_sent\"]\n",
    "df = df.drop(columns=[\"predicts\", \"notes\", \"human_label\", \"first_sent\"])"
   ]
  },
  {
   "cell_type": "code",
   "execution_count": 17,
   "id": "aa445999",
   "metadata": {},
   "outputs": [],
   "source": [
    "df = df.dropna(subset=[\"labels\"])\n",
    "df[\"labels\"] = df[\"labels\"].astype(int) \n",
    "df = df[(df[\"labels\"] == 1) | (df[\"labels\"] == 0)] #fix typos in labels eg. misstyped 0 as 9\n"
   ]
  },
  {
   "cell_type": "markdown",
   "id": "30310880",
   "metadata": {},
   "source": [
    "## Clean incoming CSV from typos and empty fields"
   ]
  },
  {
   "cell_type": "code",
   "execution_count": 11,
   "id": "93157e36",
   "metadata": {},
   "outputs": [
    {
     "name": "stderr",
     "output_type": "stream",
     "text": [
      "/home/ec2-user/anaconda3/envs/python3/lib/python3.6/site-packages/ipykernel/__main__.py:2: SettingWithCopyWarning: \n",
      "A value is trying to be set on a copy of a slice from a DataFrame.\n",
      "Try using .loc[row_indexer,col_indexer] = value instead\n",
      "\n",
      "See the caveats in the documentation: https://pandas.pydata.org/pandas-docs/stable/user_guide/indexing.html#returning-a-view-versus-a-copy\n",
      "  from ipykernel import kernelapp as app\n"
     ]
    }
   ],
   "source": [
    "df.to_csv (\"downloads/biology_1k_May5.csv\", index = False, header=True)"
   ]
  },
  {
   "cell_type": "code",
   "execution_count": 4,
   "id": "fa9dae76",
   "metadata": {},
   "outputs": [
    {
     "ename": "NameError",
     "evalue": "name 'df' is not defined",
     "output_type": "error",
     "traceback": [
      "\u001b[0;31m---------------------------------------------------------------------------\u001b[0m",
      "\u001b[0;31mNameError\u001b[0m                                 Traceback (most recent call last)",
      "\u001b[0;32m<ipython-input-4-99692a037288>\u001b[0m in \u001b[0;36m<module>\u001b[0;34m\u001b[0m\n\u001b[0;32m----> 1\u001b[0;31m \u001b[0mdf\u001b[0m \u001b[0;34m=\u001b[0m \u001b[0mdf\u001b[0m\u001b[0;34m[\u001b[0m\u001b[0;34m[\u001b[0m\u001b[0;34m\"Title\"\u001b[0m\u001b[0;34m,\u001b[0m \u001b[0;34m\"PMID\"\u001b[0m\u001b[0;34m,\u001b[0m \u001b[0;34m\"text\"\u001b[0m\u001b[0;34m,\u001b[0m \u001b[0;34m\"DOI\"\u001b[0m\u001b[0;34m,\u001b[0m \u001b[0;34m\"labels\"\u001b[0m\u001b[0;34m]\u001b[0m\u001b[0;34m]\u001b[0m\u001b[0;34m\u001b[0m\u001b[0;34m\u001b[0m\u001b[0m\n\u001b[0m\u001b[1;32m      2\u001b[0m \u001b[0;31m#df.head()\u001b[0m\u001b[0;34m\u001b[0m\u001b[0;34m\u001b[0m\u001b[0;34m\u001b[0m\u001b[0m\n",
      "\u001b[0;31mNameError\u001b[0m: name 'df' is not defined"
     ]
    }
   ],
   "source": [
    "df = df[[\"Title\", \"PMID\", \"text\", \"DOI\", \"labels\"]]\n",
    "#df.head()"
   ]
  },
  {
   "cell_type": "code",
   "execution_count": null,
   "id": "ccc7dd5a",
   "metadata": {},
   "outputs": [],
   "source": [
    "df_old = pd.read_csv(\"datasets/problem_statements.csv\")"
   ]
  },
  {
   "cell_type": "code",
   "execution_count": null,
   "id": "2c9d6002",
   "metadata": {},
   "outputs": [
    {
     "name": "stderr",
     "output_type": "stream",
     "text": [
      "/home/ec2-user/anaconda3/envs/python3/lib/python3.6/site-packages/ipykernel/__main__.py:2: SettingWithCopyWarning: \n",
      "A value is trying to be set on a copy of a slice from a DataFrame.\n",
      "Try using .loc[row_indexer,col_indexer] = value instead\n",
      "\n",
      "See the caveats in the documentation: https://pandas.pydata.org/pandas-docs/stable/user_guide/indexing.html#returning-a-view-versus-a-copy\n",
      "  from ipykernel import kernelapp as app\n"
     ]
    }
   ],
   "source": [
    "new_data = df[~df[\"PMID\"].isin(df_old[\"PMID\"])]\n",
    "new_data[\"source\"] = \"labels_oct7\""
   ]
  },
  {
   "cell_type": "code",
   "execution_count": null,
   "id": "065e7774",
   "metadata": {},
   "outputs": [],
   "source": [
    "dfx = df_old.append(new_data, ignore_index=True)\n",
    "dfx = dfx.dropna(subset=[\"labels\"])\n",
    "dfx[\"labels\"] = dfx[\"labels\"].astype(int) \n",
    "dfx = dfx[(dfx[\"labels\"] == 1) | (dfx[\"labels\"] == 0)] #fix typos in labels eg. misstyped 0 as 9\n",
    "dfx = dfx[[\"Title\", \"PMID\", \"text\", \"DOI\", \"labels\", \"source\"]]"
   ]
  },
  {
   "cell_type": "code",
   "execution_count": null,
   "id": "1acdfdcc",
   "metadata": {},
   "outputs": [
    {
     "data": {
      "text/html": [
       "<div>\n",
       "<style scoped>\n",
       "    .dataframe tbody tr th:only-of-type {\n",
       "        vertical-align: middle;\n",
       "    }\n",
       "\n",
       "    .dataframe tbody tr th {\n",
       "        vertical-align: top;\n",
       "    }\n",
       "\n",
       "    .dataframe thead th {\n",
       "        text-align: right;\n",
       "    }\n",
       "</style>\n",
       "<table border=\"1\" class=\"dataframe\">\n",
       "  <thead>\n",
       "    <tr style=\"text-align: right;\">\n",
       "      <th></th>\n",
       "      <th>Title</th>\n",
       "      <th>PMID</th>\n",
       "      <th>text</th>\n",
       "      <th>DOI</th>\n",
       "      <th>labels</th>\n",
       "      <th>source</th>\n",
       "    </tr>\n",
       "  </thead>\n",
       "  <tbody>\n",
       "    <tr>\n",
       "      <th>0</th>\n",
       "      <td>NaN</td>\n",
       "      <td>NaN</td>\n",
       "      <td>The difficulty with this task lies in the fact...</td>\n",
       "      <td>NaN</td>\n",
       "      <td>1</td>\n",
       "      <td>acl_cambridge</td>\n",
       "    </tr>\n",
       "    <tr>\n",
       "      <th>1</th>\n",
       "      <td>NaN</td>\n",
       "      <td>NaN</td>\n",
       "      <td>The problem with rich annotations is that they...</td>\n",
       "      <td>NaN</td>\n",
       "      <td>1</td>\n",
       "      <td>acl_cambridge</td>\n",
       "    </tr>\n",
       "    <tr>\n",
       "      <th>2</th>\n",
       "      <td>NaN</td>\n",
       "      <td>NaN</td>\n",
       "      <td>As a consequence , when adapting existing meth...</td>\n",
       "      <td>NaN</td>\n",
       "      <td>1</td>\n",
       "      <td>acl_cambridge</td>\n",
       "    </tr>\n",
       "    <tr>\n",
       "      <th>3</th>\n",
       "      <td>NaN</td>\n",
       "      <td>NaN</td>\n",
       "      <td>The second problem of traditional word alignme...</td>\n",
       "      <td>NaN</td>\n",
       "      <td>1</td>\n",
       "      <td>acl_cambridge</td>\n",
       "    </tr>\n",
       "    <tr>\n",
       "      <th>4</th>\n",
       "      <td>NaN</td>\n",
       "      <td>NaN</td>\n",
       "      <td>The main drawback of these systems is that the...</td>\n",
       "      <td>NaN</td>\n",
       "      <td>1</td>\n",
       "      <td>acl_cambridge</td>\n",
       "    </tr>\n",
       "    <tr>\n",
       "      <th>...</th>\n",
       "      <td>...</td>\n",
       "      <td>...</td>\n",
       "      <td>...</td>\n",
       "      <td>...</td>\n",
       "      <td>...</td>\n",
       "      <td>...</td>\n",
       "    </tr>\n",
       "    <tr>\n",
       "      <th>3574</th>\n",
       "      <td>Ten-Year Trends and Clinical Relevance of the ...</td>\n",
       "      <td>28472788.0</td>\n",
       "      <td>Antimicrobial resistance of Streptococcus pneu...</td>\n",
       "      <td>10.1159/000470828</td>\n",
       "      <td>1</td>\n",
       "      <td>labels_oct7</td>\n",
       "    </tr>\n",
       "    <tr>\n",
       "      <th>3575</th>\n",
       "      <td>Program FACTOR at 10: Origins, development and...</td>\n",
       "      <td>28438248.0</td>\n",
       "      <td>We aim to provide a conceptual view of the ori...</td>\n",
       "      <td>10.7334/psicothema2016.304</td>\n",
       "      <td>0</td>\n",
       "      <td>labels_oct7</td>\n",
       "    </tr>\n",
       "    <tr>\n",
       "      <th>3576</th>\n",
       "      <td>How low an effect of a preventive measure agai...</td>\n",
       "      <td>27777090.0</td>\n",
       "      <td>Traveller's diarrhoea (TD) is the most common ...</td>\n",
       "      <td>10.1016/j.tmaid.2016.10.005</td>\n",
       "      <td>1</td>\n",
       "      <td>labels_oct7</td>\n",
       "    </tr>\n",
       "    <tr>\n",
       "      <th>3577</th>\n",
       "      <td>Clinical study on the efficacy, acceptance, an...</td>\n",
       "      <td>29663792.0</td>\n",
       "      <td>The primary objective of this trial was to dem...</td>\n",
       "      <td>10.23736/S0031-0808.18.03447-X</td>\n",
       "      <td>0</td>\n",
       "      <td>labels_oct7</td>\n",
       "    </tr>\n",
       "    <tr>\n",
       "      <th>3578</th>\n",
       "      <td>How is migration background considered in the ...</td>\n",
       "      <td>33059649.0</td>\n",
       "      <td>People with a migration background are vulnera...</td>\n",
       "      <td>10.1186/s12889-020-09668-4</td>\n",
       "      <td>1</td>\n",
       "      <td>labels_oct7</td>\n",
       "    </tr>\n",
       "  </tbody>\n",
       "</table>\n",
       "<p>3579 rows × 6 columns</p>\n",
       "</div>"
      ],
      "text/plain": [
       "                                                  Title        PMID  \\\n",
       "0                                                   NaN         NaN   \n",
       "1                                                   NaN         NaN   \n",
       "2                                                   NaN         NaN   \n",
       "3                                                   NaN         NaN   \n",
       "4                                                   NaN         NaN   \n",
       "...                                                 ...         ...   \n",
       "3574  Ten-Year Trends and Clinical Relevance of the ...  28472788.0   \n",
       "3575  Program FACTOR at 10: Origins, development and...  28438248.0   \n",
       "3576  How low an effect of a preventive measure agai...  27777090.0   \n",
       "3577  Clinical study on the efficacy, acceptance, an...  29663792.0   \n",
       "3578  How is migration background considered in the ...  33059649.0   \n",
       "\n",
       "                                                   text  \\\n",
       "0     The difficulty with this task lies in the fact...   \n",
       "1     The problem with rich annotations is that they...   \n",
       "2     As a consequence , when adapting existing meth...   \n",
       "3     The second problem of traditional word alignme...   \n",
       "4     The main drawback of these systems is that the...   \n",
       "...                                                 ...   \n",
       "3574  Antimicrobial resistance of Streptococcus pneu...   \n",
       "3575  We aim to provide a conceptual view of the ori...   \n",
       "3576  Traveller's diarrhoea (TD) is the most common ...   \n",
       "3577  The primary objective of this trial was to dem...   \n",
       "3578  People with a migration background are vulnera...   \n",
       "\n",
       "                                 DOI  labels         source  \n",
       "0                                NaN       1  acl_cambridge  \n",
       "1                                NaN       1  acl_cambridge  \n",
       "2                                NaN       1  acl_cambridge  \n",
       "3                                NaN       1  acl_cambridge  \n",
       "4                                NaN       1  acl_cambridge  \n",
       "...                              ...     ...            ...  \n",
       "3574               10.1159/000470828       1    labels_oct7  \n",
       "3575      10.7334/psicothema2016.304       0    labels_oct7  \n",
       "3576     10.1016/j.tmaid.2016.10.005       1    labels_oct7  \n",
       "3577  10.23736/S0031-0808.18.03447-X       0    labels_oct7  \n",
       "3578      10.1186/s12889-020-09668-4       1    labels_oct7  \n",
       "\n",
       "[3579 rows x 6 columns]"
      ]
     },
     "execution_count": null,
     "metadata": {},
     "output_type": "execute_result"
    }
   ],
   "source": [
    "dfx"
   ]
  },
  {
   "cell_type": "code",
   "execution_count": null,
   "id": "f13c1eae",
   "metadata": {},
   "outputs": [],
   "source": [
    "dfx.to_csv(\"datasets/problem_statements.csv\")"
   ]
  },
  {
   "cell_type": "code",
   "execution_count": null,
   "id": "9b40f17d",
   "metadata": {},
   "outputs": [],
   "source": []
  }
 ],
 "metadata": {
  "kernelspec": {
   "display_name": "conda_python3",
   "language": "python",
   "name": "conda_python3"
  },
  "language_info": {
   "codemirror_mode": {
    "name": "ipython",
    "version": 3
   },
   "file_extension": ".py",
   "mimetype": "text/x-python",
   "name": "python",
   "nbconvert_exporter": "python",
   "pygments_lexer": "ipython3",
   "version": "3.6.13"
  }
 },
 "nbformat": 4,
 "nbformat_minor": 5
}
