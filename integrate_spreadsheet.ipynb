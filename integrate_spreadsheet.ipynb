{
 "cells": [
  {
   "cell_type": "markdown",
   "id": "928a1c16",
   "metadata": {},
   "source": [
    "# Integrate Labeled Dataset"
   ]
  },
  {
   "cell_type": "code",
   "execution_count": null,
   "id": "2cf4de70",
   "metadata": {},
   "outputs": [],
   "source": [
    "import pandas as pd"
   ]
  },
  {
   "cell_type": "markdown",
   "id": "0bb37b2e",
   "metadata": {},
   "source": [
    "Read CSV from Google Spreadsheet. This only works when the spreadsheet is public AND was **published to web** under `File > Publish To Web`"
   ]
  },
  {
   "cell_type": "code",
   "execution_count": 2,
   "id": "ce55b811",
   "metadata": {},
   "outputs": [],
   "source": [
    "df = pd.read_csv(\"https://docs.google.com/spreadsheets/d/e/2PACX-1vSgqy_wWDV8vT_nVjMcL71shNayrzINnLKFBTq5IHe5EjeDemP4DbGcjEdsmHyz_o9mVq49-9txSCBl/pub?output=csv\")"
   ]
  },
  {
   "cell_type": "markdown",
   "id": "fd44027b",
   "metadata": {},
   "source": [
    "## Clean incoming CSV from typos and empty fields"
   ]
  },
  {
   "cell_type": "code",
   "execution_count": 3,
   "id": "73039099",
   "metadata": {},
   "outputs": [
    {
     "data": {
      "text/html": [
       "<div>\n",
       "<style scoped>\n",
       "    .dataframe tbody tr th:only-of-type {\n",
       "        vertical-align: middle;\n",
       "    }\n",
       "\n",
       "    .dataframe tbody tr th {\n",
       "        vertical-align: top;\n",
       "    }\n",
       "\n",
       "    .dataframe thead th {\n",
       "        text-align: right;\n",
       "    }\n",
       "</style>\n",
       "<table border=\"1\" class=\"dataframe\">\n",
       "  <thead>\n",
       "    <tr style=\"text-align: right;\">\n",
       "      <th></th>\n",
       "      <th>Title</th>\n",
       "      <th>PMID</th>\n",
       "      <th>text</th>\n",
       "      <th>DOI</th>\n",
       "      <th>labels</th>\n",
       "    </tr>\n",
       "  </thead>\n",
       "  <tbody>\n",
       "    <tr>\n",
       "      <th>0</th>\n",
       "      <td>Pregabalin for postherpetic itch: a case report</td>\n",
       "      <td>32206971</td>\n",
       "      <td>Postherpetic itch has not commonly received at...</td>\n",
       "      <td>10.1186/s40981-020-00330-x</td>\n",
       "      <td>1</td>\n",
       "    </tr>\n",
       "    <tr>\n",
       "      <th>1</th>\n",
       "      <td>Endocytosis and transcytosis of gliadin peptides</td>\n",
       "      <td>26883352</td>\n",
       "      <td>Celiac disease (CD) is a frequent inflammatory...</td>\n",
       "      <td>10.1186/s40348-015-0029-z</td>\n",
       "      <td>1</td>\n",
       "    </tr>\n",
       "    <tr>\n",
       "      <th>2</th>\n",
       "      <td>Introducing A Family With Tens of Rare Craniof...</td>\n",
       "      <td>31299789</td>\n",
       "      <td>Craniofacial clefts are one of the rarest cong...</td>\n",
       "      <td>10.1097/SCS.0000000000005269</td>\n",
       "      <td>1</td>\n",
       "    </tr>\n",
       "    <tr>\n",
       "      <th>3</th>\n",
       "      <td>Smart Wearable Device Users' Behavior Is Essen...</td>\n",
       "      <td>34363130</td>\n",
       "      <td>This study aimed to explore the effect on phys...</td>\n",
       "      <td>10.1007/s12529-021-10013-1</td>\n",
       "      <td>0</td>\n",
       "    </tr>\n",
       "    <tr>\n",
       "      <th>4</th>\n",
       "      <td>Effect of grape seed proanthocyanidins on acti...</td>\n",
       "      <td>33427704</td>\n",
       "      <td>Grape seed proanthocyanidin extract (GSPE) has...</td>\n",
       "      <td>10.3233/THC-202655</td>\n",
       "      <td>1</td>\n",
       "    </tr>\n",
       "  </tbody>\n",
       "</table>\n",
       "</div>"
      ],
      "text/plain": [
       "                                               Title      PMID  \\\n",
       "0    Pregabalin for postherpetic itch: a case report  32206971   \n",
       "1   Endocytosis and transcytosis of gliadin peptides  26883352   \n",
       "2  Introducing A Family With Tens of Rare Craniof...  31299789   \n",
       "3  Smart Wearable Device Users' Behavior Is Essen...  34363130   \n",
       "4  Effect of grape seed proanthocyanidins on acti...  33427704   \n",
       "\n",
       "                                                text  \\\n",
       "0  Postherpetic itch has not commonly received at...   \n",
       "1  Celiac disease (CD) is a frequent inflammatory...   \n",
       "2  Craniofacial clefts are one of the rarest cong...   \n",
       "3  This study aimed to explore the effect on phys...   \n",
       "4  Grape seed proanthocyanidin extract (GSPE) has...   \n",
       "\n",
       "                            DOI  labels  \n",
       "0    10.1186/s40981-020-00330-x       1  \n",
       "1     10.1186/s40348-015-0029-z       1  \n",
       "2  10.1097/SCS.0000000000005269       1  \n",
       "3    10.1007/s12529-021-10013-1       0  \n",
       "4            10.3233/THC-202655       1  "
      ]
     },
     "execution_count": 3,
     "metadata": {},
     "output_type": "execute_result"
    }
   ],
   "source": [
    "df = df.dropna(subset=[\"labels\"])\n",
    "df[\"labels\"] = df[\"labels\"].astype(int) \n",
    "df = df[(df[\"labels\"] == 1) | (df[\"labels\"] == 0)] #fix typos in labels eg. misstyped 0 as 9\n",
    "df = df[[\"Title\", \"PMID\", \"text\", \"DOI\", \"labels\"]]\n",
    "df.head()"
   ]
  },
  {
   "cell_type": "code",
   "execution_count": 4,
   "id": "e17ad92f",
   "metadata": {},
   "outputs": [],
   "source": [
    "df_old = pd.read_csv(\"datasets/problem_statements.csv\")"
   ]
  },
  {
   "cell_type": "code",
   "execution_count": 33,
   "id": "71778e39",
   "metadata": {},
   "outputs": [
    {
     "name": "stderr",
     "output_type": "stream",
     "text": [
      "/home/ec2-user/anaconda3/envs/python3/lib/python3.6/site-packages/ipykernel/__main__.py:2: SettingWithCopyWarning: \n",
      "A value is trying to be set on a copy of a slice from a DataFrame.\n",
      "Try using .loc[row_indexer,col_indexer] = value instead\n",
      "\n",
      "See the caveats in the documentation: https://pandas.pydata.org/pandas-docs/stable/user_guide/indexing.html#returning-a-view-versus-a-copy\n",
      "  from ipykernel import kernelapp as app\n"
     ]
    }
   ],
   "source": [
    "new_data = df[~df[\"PMID\"].isin(df_old[\"PMID\"])]\n",
    "new_data[\"source\"] = \"labels_oct7\""
   ]
  },
  {
   "cell_type": "code",
   "execution_count": null,
   "id": "d9c32586",
   "metadata": {},
   "outputs": [],
   "source": [
    "dfx = df_old.append(new_data, ignore_index=True)\n",
    "dfx[\"labels\"] = dfx[\"labels\"].astype(int) \n",
    "dfx = dfx[(dfx[\"labels\"] == 1) | (dfx[\"labels\"] == 0)] #fix typos in labels eg. misstyped 0 as 9\n",
    "dfx = dfx[[\"Title\", \"PMID\", \"text\", \"DOI\", \"labels\", \"source\"]]"
   ]
  },
  {
   "cell_type": "code",
   "execution_count": null,
   "id": "71c135f6",
   "metadata": {},
   "outputs": [],
   "source": [
    "dfx"
   ]
  },
  {
   "cell_type": "code",
   "execution_count": null,
   "id": "a99f1765",
   "metadata": {},
   "outputs": [],
   "source": []
  }
 ],
 "metadata": {
  "kernelspec": {
   "display_name": "conda_python3",
   "language": "python",
   "name": "conda_python3"
  },
  "language_info": {
   "codemirror_mode": {
    "name": "ipython",
    "version": 3
   },
   "file_extension": ".py",
   "mimetype": "text/x-python",
   "name": "python",
   "nbconvert_exporter": "python",
   "pygments_lexer": "ipython3",
   "version": "3.6.13"
  }
 },
 "nbformat": 4,
 "nbformat_minor": 5
}
