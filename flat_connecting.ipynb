{
 "cells": [
  {
   "cell_type": "markdown",
   "id": "3e61c8c5",
   "metadata": {},
   "source": [
    "# Closed Links in Eucledian Clustering"
   ]
  },
  {
   "cell_type": "code",
   "execution_count": null,
   "id": "42610463",
   "metadata": {},
   "outputs": [],
   "source": []
  }
 ],
 "metadata": {
  "kernelspec": {
   "display_name": "conda_amazonei_mxnet_p27",
   "language": "python",
   "name": "conda_amazonei_mxnet_p27"
  },
  "language_info": {
   "codemirror_mode": {
    "name": "ipython",
    "version": 2
   },
   "file_extension": ".py",
   "mimetype": "text/x-python",
   "name": "python",
   "nbconvert_exporter": "python",
   "pygments_lexer": "ipython2",
   "version": "2.7.16"
  }
 },
 "nbformat": 4,
 "nbformat_minor": 5
}
