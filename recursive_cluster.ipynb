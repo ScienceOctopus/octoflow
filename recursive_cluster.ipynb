{
 "cells": [
  {
   "cell_type": "markdown",
   "id": "fbedd86e",
   "metadata": {},
   "source": [
    "# Recursive Clustering and Summarization\n",
    "\n",
    "Plan:\n",
    "- recursively cluster collections\n",
    "- create tree of clusters (the HDBSCAN does this anyways but likely not as we want)\n",
    "- cluster until max-depth is reached or (better) until each leaf only has one \"plausible\" cluster (based on thresholds or probabilities)\n",
    "- try summarizing to get \"main idea\" out of cluster\n",
    "\n",
    "\n",
    "- cluster on keywords ( randomize all grammar + stop words )\n",
    "- topic clusters\n",
    "- context: title, abstract, etc. keywords\n",
    "\n"
   ]
  },
  {
   "cell_type": "markdown",
   "id": "7fec4a25",
   "metadata": {},
   "source": [
    "## Recursively cluster \n",
    "\n",
    "Based on the topic_clustering notebook, we will try with Agglomerative Clustering "
   ]
  },
  {
   "cell_type": "code",
   "execution_count": 4,
   "id": "90103c9a",
   "metadata": {},
   "outputs": [],
   "source": [
    "import pandas as pd\n",
    "\n",
    "df = pd.read_csv(\"downloads/40k_balanced_pm_acl.csv\")#.sample(frac=0.5)"
   ]
  },
  {
   "cell_type": "code",
   "execution_count": 5,
   "id": "1ecfd571",
   "metadata": {},
   "outputs": [
    {
     "name": "stdout",
     "output_type": "stream",
     "text": [
      "Python 3.6.13\n"
     ]
    }
   ],
   "source": [
    "!python --version"
   ]
  },
  {
   "cell_type": "code",
   "execution_count": 6,
   "id": "d7682c45",
   "metadata": {},
   "outputs": [],
   "source": [
    "pos = df[df.labels == 1]\n",
    "\n",
    "\n",
    "sentences = list(pos[\"text\"]) #otherwise key error"
   ]
  },
  {
   "cell_type": "code",
   "execution_count": null,
   "id": "48b392c7",
   "metadata": {},
   "outputs": [],
   "source": []
  },
  {
   "cell_type": "code",
   "execution_count": 7,
   "id": "361b6d82",
   "metadata": {},
   "outputs": [],
   "source": [
    "pos_h = pos[pos[\"source\"].isin([\"Oct1_clinical_studies_pm\",'oct3_labels', 'labels_oct7'])]"
   ]
  },
  {
   "cell_type": "code",
   "execution_count": 8,
   "id": "9271ba56",
   "metadata": {},
   "outputs": [],
   "source": [
    "sents_h = list(pos_h[\"text\"]) #otherwise key error"
   ]
  },
  {
   "cell_type": "code",
   "execution_count": null,
   "id": "9c986ee0",
   "metadata": {},
   "outputs": [],
   "source": [
    "from sentence_transformers import SentenceTransformer, util\n",
    "\n",
    "print(\"Encode the corpus ... get a coffee in the meantime\")\n",
    "model = SentenceTransformer('sentence-transformers/all-mpnet-base-v2')\n",
    "embeddings = model.encode(sentences, batch_size=64, show_progress_bar=True, convert_to_tensor=True)"
   ]
  },
  {
   "cell_type": "code",
   "execution_count": null,
   "id": "ced76c2a",
   "metadata": {},
   "outputs": [],
   "source": [
    "len(embeddings)"
   ]
  },
  {
   "cell_type": "code",
   "execution_count": null,
   "id": "cae603ca",
   "metadata": {},
   "outputs": [],
   "source": [
    "from sklearn.cluster import AgglomerativeClustering\n",
    "import numpy as np\n",
    "\n",
    "def cluster(embeddings, **kwargs):\n",
    "    embeddings = embeddings.cpu()\n",
    "    # Normalize the embeddings to unit length\n",
    "    corpus_embeddings = embeddings /  np.linalg.norm(embeddings, axis=1, keepdims=True)\n",
    "\n",
    "    # Perform kmean clustering\n",
    "    clustering_model = AgglomerativeClustering(**kwargs) #, affinity='cosine', linkage='average', distance_threshold=0.4)\n",
    "    clustering_model.fit(corpus_embeddings)\n",
    "   # cluster_assignment = clustering_model.labels_\n",
    "    return clustering_model"
   ]
  },
  {
   "cell_type": "code",
   "execution_count": null,
   "id": "8680e746",
   "metadata": {},
   "outputs": [],
   "source": [
    "def get_clusters(clustering_model):\n",
    "    \n",
    "    clusters = {}\n",
    "    for sentence_id, cluster_id in enumerate(clustering_model.labels_):\n",
    "        if cluster_id not in clusters:\n",
    "            clusters[cluster_id] = []\n",
    "        try:\n",
    "            clusters[cluster_id].append(sentences[sentence_id])\n",
    "        except:\n",
    "            print(sentence_id, \"sentence_id\")\n",
    "    return clusters\n",
    "   \n",
    "#     for i, cluster in clustered_sentences.items():\n",
    "#         print(\"Cluster \", i+1)\n",
    "#         print(cluster)\n",
    "#         print(\"\\n\")"
   ]
  },
  {
   "cell_type": "code",
   "execution_count": null,
   "id": "64292fca",
   "metadata": {},
   "outputs": [],
   "source": []
  },
  {
   "cell_type": "code",
   "execution_count": null,
   "id": "e6e5235a",
   "metadata": {},
   "outputs": [],
   "source": [
    "sample = embeddings"
   ]
  },
  {
   "cell_type": "code",
   "execution_count": null,
   "id": "c54c95a5",
   "metadata": {},
   "outputs": [],
   "source": [
    "cluster_model = cluster(sample, n_clusters=None, distance_threshold=1.4)"
   ]
  },
  {
   "cell_type": "markdown",
   "id": "980de987",
   "metadata": {},
   "source": [
    "Cluster Model attributes\n",
    "\n",
    "   n_clusters_ : int\n",
    "        The number of clusters found by the algorithm. If\n",
    "        ``distance_threshold=None``, it will be equal to the given\n",
    "        ``n_clusters``.\n",
    "\n",
    "    labels_\n",
    "    n_leaves_\n",
    "\n",
    "    n_connected_components_ : The estimated number of connected components in the graph.\n",
    "\n",
    "    children_ : array-like of shape (n_samples-1, 2)\n",
    "        The children of each non-leaf node. Values less than `n_samples`\n",
    "        correspond to leaves of the tree which are the original samples.\n",
    "        A node `i` greater than or equal to `n_samples` is a non-leaf\n",
    "        node and has children `children_[i - n_samples]`. Alternatively\n",
    "        at the i-th iteration, children[i][0] and children[i][1]\n",
    "        are merged to form node `n_samples + i`\n",
    "\n",
    "    distances_ : array-like of shape (n_nodes-1,)\n",
    "        Distances between nodes in the corresponding place in `children_`.\n",
    "        Only computed if `distance_threshold` is used or `compute_distances`\n",
    "        is set to `True`."
   ]
  },
  {
   "cell_type": "code",
   "execution_count": null,
   "id": "059d70be",
   "metadata": {},
   "outputs": [],
   "source": [
    "# import itertools\n",
    "\n",
    "# ii = itertools.count(sample.shape[0])\n",
    "# [{'node_id': next(ii), 'left': x[0], 'right':x[1]} for x in cluster_model.children_]"
   ]
  },
  {
   "cell_type": "code",
   "execution_count": null,
   "id": "66234c6b",
   "metadata": {},
   "outputs": [],
   "source": [
    "len(get_clusters(cluster_model).keys())"
   ]
  },
  {
   "cell_type": "code",
   "execution_count": null,
   "id": "bda660f9",
   "metadata": {},
   "outputs": [],
   "source": [
    "clusters = get_clusters(cluster_model)"
   ]
  },
  {
   "cell_type": "code",
   "execution_count": null,
   "id": "f846a630",
   "metadata": {},
   "outputs": [],
   "source": [
    "import matplotlib.pyplot as plt\n",
    "\n",
    "for thresh in [1, 1.2, 1.4, 1.8]:\n",
    "    cluster_model = cluster(sample, n_clusters=None, distance_threshold=thresh)\n",
    "    plt.hist([len(v) for v in get_clusters(cluster_model).values()], bins='auto', label=str(thresh))\n",
    "    plt.title(\"Threshold \" + str(thresh))"
   ]
  },
  {
   "cell_type": "code",
   "execution_count": null,
   "id": "07119bb1",
   "metadata": {},
   "outputs": [],
   "source": [
    "def collection_to_clusters(texts, model=model,  **kwargs):\n",
    "    embs = model.encode(texts, batch_size=64, show_progress_bar=True, convert_to_tensor=True)\n",
    "    cluster_model = cluster(embs, **kwargs)\n",
    "    return get_clusters(cluster_model).values()"
   ]
  },
  {
   "cell_type": "code",
   "execution_count": null,
   "id": "6908cdf5",
   "metadata": {},
   "outputs": [],
   "source": [
    "cluster_tree = {}\n",
    "lens = [len(v) for v in clusters.values()]\n",
    "for i, v in clusters.items():\n",
    "    if len(v) > 25:\n",
    "        cluster_tree[i] = {\"parent\" : v}\n",
    "        cluster_tree[i] = {\"children\" :[*collection_to_clusters(v, n_clusters=None, distance_threshold=0.4)]}\n",
    "        #get values, embed and sample again with lower threshold\n",
    "        "
   ]
  },
  {
   "cell_type": "code",
   "execution_count": null,
   "id": "7c620eba",
   "metadata": {},
   "outputs": [],
   "source": [
    "for i,v in cluster_tree.items():\n",
    "    print(i)\n",
    "    for sent in v[\"children\"]:\n",
    "        print(sent)\n",
    "        print(\"\\n\\n\")\n",
    "    print(\"-------------- \\n\\n\")"
   ]
  },
  {
   "cell_type": "code",
   "execution_count": null,
   "id": "4b8b8825",
   "metadata": {},
   "outputs": [],
   "source": []
  },
  {
   "cell_type": "raw",
   "id": "e6609c87",
   "metadata": {},
   "source": [
    "len(get_clusters(cluster_model).keys())"
   ]
  },
  {
   "cell_type": "code",
   "execution_count": null,
   "id": "22b6138c",
   "metadata": {},
   "outputs": [],
   "source": [
    "#dict(enumerate(cluster_model.children_, cluster_model.n_leaves_))"
   ]
  },
  {
   "cell_type": "markdown",
   "id": "6263b6f3",
   "metadata": {},
   "source": [
    "## Summarization\n",
    "\n",
    "**Tried: Google Pegasus**. Result: Does a terrible job of keeping the important information and doesn't retain the question but guesses at a conclusion\n"
   ]
  },
  {
   "cell_type": "code",
   "execution_count": null,
   "id": "9bdf9c68",
   "metadata": {},
   "outputs": [],
   "source": [
    "torch.cuda.is_available()"
   ]
  },
  {
   "cell_type": "markdown",
   "id": "15375188",
   "metadata": {},
   "source": [
    "### Pegasus Setup\n"
   ]
  },
  {
   "cell_type": "code",
   "execution_count": null,
   "id": "0fcc8170",
   "metadata": {},
   "outputs": [],
   "source": [
    "from transformers import PegasusForConditionalGeneration, PegasusTokenizer\n",
    "import torch\n",
    "\n",
    "model_name = 'google/pegasus-xsum'\n",
    "device = 'cuda' if torch.cuda.is_available() else 'cpu'\n",
    "tokenizer = PegasusTokenizer.from_pretrained(model_name)\n",
    "model = PegasusForConditionalGeneration.from_pretrained(model_name).to(device)\n"
   ]
  },
  {
   "cell_type": "code",
   "execution_count": null,
   "id": "18a44d22",
   "metadata": {},
   "outputs": [],
   "source": [
    "\n",
    "def summarize(sentences):\n",
    "    batch = tokenizer(sentences, truncation=True, padding='longest', return_tensors=\"pt\").to(device)\n",
    "    translated = model.generate(**batch)\n",
    "    tgt_text = tokenizer.batch_decode(translated, skip_special_tokens=True)\n",
    "    return tgt_text"
   ]
  },
  {
   "cell_type": "code",
   "execution_count": null,
   "id": "d3c5b647",
   "metadata": {},
   "outputs": [],
   "source": []
  },
  {
   "cell_type": "markdown",
   "id": "99c7384e",
   "metadata": {},
   "source": [
    "### T5 Setup"
   ]
  },
  {
   "cell_type": "code",
   "execution_count": null,
   "id": "4d532e5a",
   "metadata": {},
   "outputs": [],
   "source": [
    "from transformers import pipeline\n",
    "\n",
    "summarizer = pipeline(\"summarization\")\n",
    "\n",
    "ARTICLE = \"\"\" Background: Trust is a critical component of competency committees given their high-stakes decisions. Research from outside of medicine on group trust has not focused on trust in group decisions, and \"group trust\" has not been clearly defined. The purpose was twofold: to examine the definition of trust in the context of group decisions and to explore what factors may influence trust from the perspective of those who rely on competency committees through a proposed group trust model. Methods: The authors conducted a literature search of four online databases, seeking articles published on trust in group settings. Reviewers extracted, coded, and analyzed key data including definitions of trust and factors pertaining to group trust. Results: The authors selected 42 articles for full text review. Although reviewers found multiple general definitions of trust, they were unable to find a clear definition of group trust and propose the following: a group-directed willingness to accept vulnerability to actions of the members based on the expectation that members will perform a particular action important to the group, encompassing social exchange, collective perceptions, and interpersonal trust. Additionally, the authors propose a model encompassing individual level factors (trustor and trustee), interpersonal interactions, group level factors (structure and processes), and environmental factors.\"\"\"\n",
    "from transformers import AutoModelForSeq2SeqLM, AutoTokenizer\n",
    "\n",
    "model = AutoModelForSeq2SeqLM.from_pretrained(\"snrspeaks/t5-one-line-summary\") #snrspeaks/t5-one-line-summary\n",
    "tokenizer = AutoTokenizer.from_pretrained(\"snrspeaks/t5-one-line-summary\")\n",
    "\n",
    "# T5 uses a max_length of 512 so we cut the article to 512 tokens.\n",
    "inputs = tokenizer.encode(\"summarize: \" + ARTICLE, return_tensors=\"pt\", max_length=512, truncation=True)\n",
    "outputs = model.generate(inputs, max_length=150, min_length=40, length_penalty=2.0, num_beams=4, early_stopping=True)\n",
    "tokenizer.decode(outputs[0])\n",
    "def summarize(text):\n",
    "    inputs = tokenizer.encode(\"summarize: \" + text, return_tensors=\"pt\", max_length=512, truncation=True)\n",
    "    outputs = model.generate(inputs, max_length=150, min_length=40, length_penalty=2.0, num_beams=4, early_stopping=True)\n",
    "    return tokenizer.decode(outputs[0])"
   ]
  },
  {
   "cell_type": "code",
   "execution_count": null,
   "id": "f405b578",
   "metadata": {},
   "outputs": [],
   "source": [
    "summarize(\"I have seen a ghost in my shed\")"
   ]
  },
  {
   "cell_type": "code",
   "execution_count": null,
   "id": "2cc49b9e",
   "metadata": {},
   "outputs": [],
   "source": [
    "\"I have seen a ghost in my shed\"[:5]"
   ]
  },
  {
   "cell_type": "markdown",
   "id": "149e216e",
   "metadata": {},
   "source": [
    "### Print Results"
   ]
  },
  {
   "cell_type": "code",
   "execution_count": null,
   "id": "1082a50e",
   "metadata": {},
   "outputs": [],
   "source": [
    "for ID, cluster in get_clusters(cluster_model).items():\n",
    "    sentences = \".\".join(cluster)\n",
    "    print(sentences)\n",
    "    print( \"\\n\\n\", \"sum:::\", summarize(sentences[:256]), \"\\n\\n\\n\")\n",
    "    "
   ]
  },
  {
   "cell_type": "code",
   "execution_count": null,
   "id": "b067bded",
   "metadata": {},
   "outputs": [],
   "source": [
    "!pip bertopic --version"
   ]
  },
  {
   "cell_type": "code",
   "execution_count": null,
   "id": "d3ab1406",
   "metadata": {},
   "outputs": [],
   "source": [
    "!pip uninstall bertopic --yes"
   ]
  },
  {
   "cell_type": "code",
   "execution_count": null,
   "id": "f43889c9",
   "metadata": {},
   "outputs": [],
   "source": [
    "pip uninstall umap\n",
    "pip install umap-learn"
   ]
  },
  {
   "cell_type": "code",
   "execution_count": 5,
   "id": "8f78f6bd",
   "metadata": {},
   "outputs": [
    {
     "name": "stdout",
     "output_type": "stream",
     "text": [
      "\u001b[33mDEPRECATION: Python 2.7 reached the end of its life on January 1st, 2020. Please upgrade your Python as Python 2.7 is no longer maintained. pip 21.0 will drop support for Python 2.7 in January 2021. More details about Python 2 support in pip can be found at https://pip.pypa.io/en/latest/development/release-process/#python-2-support pip 21.0 will remove support for this functionality.\u001b[0m\n",
      "\u001b[33mWARNING: Skipping bertopic as it is not installed.\u001b[0m\n"
     ]
    }
   ],
   "source": [
    "!pip uninstall bertopic"
   ]
  },
  {
   "cell_type": "code",
   "execution_count": 7,
   "id": "dd75b8bc",
   "metadata": {},
   "outputs": [
    {
     "name": "stdout",
     "output_type": "stream",
     "text": [
      "Found existing installation: numpy 1.19.5\n",
      "Uninstalling numpy-1.19.5:\n",
      "  Successfully uninstalled numpy-1.19.5\n"
     ]
    }
   ],
   "source": [
    "!pip uninstall numpy --yes"
   ]
  },
  {
   "cell_type": "code",
   "execution_count": 10,
   "id": "e96d27c7",
   "metadata": {},
   "outputs": [
    {
     "name": "stdout",
     "output_type": "stream",
     "text": [
      "Collecting bertopic\n",
      "  Using cached bertopic-0.9.3-py2.py3-none-any.whl (57 kB)\n",
      "  Using cached bertopic-0.9.2-py2.py3-none-any.whl (57 kB)\n",
      "  Using cached bertopic-0.9.1-py2.py3-none-any.whl (55 kB)\n",
      "  Using cached bertopic-0.9.0-py2.py3-none-any.whl (55 kB)\n",
      "  Using cached bertopic-0.8.1-py2.py3-none-any.whl (53 kB)\n",
      "  Using cached bertopic-0.8.0-py2.py3-none-any.whl (53 kB)\n",
      "  Using cached bertopic-0.7.0-py2.py3-none-any.whl (40 kB)\n",
      "  Using cached bertopic-0.6.0-py2.py3-none-any.whl (25 kB)\n",
      "Collecting torch>=1.4.0\n",
      "  Using cached torch-1.10.0-cp36-cp36m-manylinux1_x86_64.whl (881.9 MB)\n",
      "Collecting umap-learn>=0.5.0\n",
      "  Using cached umap_learn-0.5.2-py3-none-any.whl\n",
      "Requirement already satisfied: numpy>=1.19.2 in /home/ec2-user/anaconda3/envs/python3/lib/python3.6/site-packages (from bertopic) (1.19.5)\n",
      "Collecting hdbscan>=0.8.27\n",
      "  Using cached hdbscan-0.8.27-cp36-cp36m-linux_x86_64.whl\n",
      "Collecting sentence-transformers>=0.4.1\n",
      "  Using cached sentence_transformers-2.1.0-py3-none-any.whl\n",
      "Requirement already satisfied: tqdm>=4.41.1 in /home/ec2-user/anaconda3/envs/python3/lib/python3.6/site-packages (from bertopic) (4.62.3)\n",
      "Requirement already satisfied: scikit-learn>=0.22.2.post1 in /home/ec2-user/anaconda3/envs/python3/lib/python3.6/site-packages (from bertopic) (0.24.1)\n",
      "Requirement already satisfied: pandas>=1.1.5 in /home/ec2-user/anaconda3/envs/python3/lib/python3.6/site-packages (from bertopic) (1.1.5)\n",
      "Requirement already satisfied: scipy>=1.0 in /home/ec2-user/anaconda3/envs/python3/lib/python3.6/site-packages (from hdbscan>=0.8.27->bertopic) (1.5.3)\n",
      "Requirement already satisfied: joblib>=1.0 in /home/ec2-user/anaconda3/envs/python3/lib/python3.6/site-packages (from hdbscan>=0.8.27->bertopic) (1.0.1)\n",
      "Requirement already satisfied: cython>=0.27 in /home/ec2-user/anaconda3/envs/python3/lib/python3.6/site-packages (from hdbscan>=0.8.27->bertopic) (0.29.22)\n",
      "Requirement already satisfied: six in /home/ec2-user/anaconda3/envs/python3/lib/python3.6/site-packages (from hdbscan>=0.8.27->bertopic) (1.16.0)\n",
      "\u001b[31mERROR: Could not install packages due to an OSError: [Errno 2] No such file or directory: '/home/ec2-user/anaconda3/envs/python3/lib/python3.6/site-packages/numpy-1.19.5.dist-info/METADATA'\n",
      "\u001b[0m\n",
      "\u001b[33mWARNING: You are using pip version 21.2.4; however, version 21.3.1 is available.\n",
      "You should consider upgrading via the '/home/ec2-user/anaconda3/envs/python3/bin/python -m pip install --upgrade pip' command.\u001b[0m\n"
     ]
    }
   ],
   "source": [
    "!pip install bertopic"
   ]
  },
  {
   "cell_type": "code",
   "execution_count": 5,
   "id": "708e2e52",
   "metadata": {},
   "outputs": [
    {
     "name": "stdout",
     "output_type": "stream",
     "text": [
      "Collecting bertopic==0.9.2\n",
      "  Using cached bertopic-0.9.2-py2.py3-none-any.whl (57 kB)\n",
      "Collecting plotly<4.14.3,>=4.7.0\n",
      "  Using cached plotly-4.14.2-py2.py3-none-any.whl (13.2 MB)\n",
      "\u001b[31mERROR: Could not find a version that satisfies the requirement numpy>=1.20.0 (from bertopic) (from versions: 1.3.0, 1.4.1, 1.5.0, 1.5.1, 1.6.0, 1.6.1, 1.6.2, 1.7.0, 1.7.1, 1.7.2, 1.8.0, 1.8.1, 1.8.2, 1.9.0, 1.9.1, 1.9.2, 1.9.3, 1.10.0.post2, 1.10.1, 1.10.2, 1.10.4, 1.11.0, 1.11.1, 1.11.2, 1.11.3, 1.12.0, 1.12.1, 1.13.0rc1, 1.13.0rc2, 1.13.0, 1.13.1, 1.13.3, 1.14.0rc1, 1.14.0, 1.14.1, 1.14.2, 1.14.3, 1.14.4, 1.14.5, 1.14.6, 1.15.0rc1, 1.15.0rc2, 1.15.0, 1.15.1, 1.15.2, 1.15.3, 1.15.4, 1.16.0rc1, 1.16.0rc2, 1.16.0, 1.16.1, 1.16.2, 1.16.3, 1.16.4, 1.16.5, 1.16.6, 1.17.0rc1, 1.17.0rc2, 1.17.0, 1.17.1, 1.17.2, 1.17.3, 1.17.4, 1.17.5, 1.18.0rc1, 1.18.0, 1.18.1, 1.18.2, 1.18.3, 1.18.4, 1.18.5, 1.19.0rc1, 1.19.0rc2, 1.19.0, 1.19.1, 1.19.2, 1.19.3, 1.19.4, 1.19.5)\u001b[0m\n",
      "\u001b[31mERROR: No matching distribution found for numpy>=1.20.0\u001b[0m\n",
      "\u001b[33mWARNING: You are using pip version 21.2.4; however, version 21.3.1 is available.\n",
      "You should consider upgrading via the '/home/ec2-user/anaconda3/envs/python3/bin/python -m pip install --upgrade pip' command.\u001b[0m\n"
     ]
    }
   ],
   "source": [
    "!pip install bertopic==0.9.2"
   ]
  },
  {
   "cell_type": "markdown",
   "id": "05b69991",
   "metadata": {},
   "source": [
    "## BERTopic topic modeling + set intersection"
   ]
  },
  {
   "cell_type": "code",
   "execution_count": 19,
   "id": "7c8ca2aa",
   "metadata": {},
   "outputs": [],
   "source": [
    "from bertopic import BERTopic\n",
    "m = BERTopic(embedding_model='sentence-transformers/all-mpnet-base-v2', calculate_probabilities=True, verbose=True)"
   ]
  },
  {
   "cell_type": "code",
   "execution_count": 10,
   "id": "e6a59923",
   "metadata": {},
   "outputs": [
    {
     "data": {
      "application/vnd.jupyter.widget-view+json": {
       "model_id": "1e50892b321b40e2953c3dd89437dc89",
       "version_major": 2,
       "version_minor": 0
      },
      "text/plain": [
       "Downloading:   0%|          | 0.00/1.18k [00:00<?, ?B/s]"
      ]
     },
     "metadata": {},
     "output_type": "display_data"
    },
    {
     "data": {
      "application/vnd.jupyter.widget-view+json": {
       "model_id": "00ba3db648be43deaee7d0fed613cc45",
       "version_major": 2,
       "version_minor": 0
      },
      "text/plain": [
       "Downloading:   0%|          | 0.00/10.1k [00:00<?, ?B/s]"
      ]
     },
     "metadata": {},
     "output_type": "display_data"
    },
    {
     "data": {
      "application/vnd.jupyter.widget-view+json": {
       "model_id": "f4a9f7539bd9435d8d683d1c6abcc775",
       "version_major": 2,
       "version_minor": 0
      },
      "text/plain": [
       "Downloading:   0%|          | 0.00/571 [00:00<?, ?B/s]"
      ]
     },
     "metadata": {},
     "output_type": "display_data"
    },
    {
     "data": {
      "application/vnd.jupyter.widget-view+json": {
       "model_id": "107fd636c9264b4babf488ab7974dacd",
       "version_major": 2,
       "version_minor": 0
      },
      "text/plain": [
       "Downloading:   0%|          | 0.00/116 [00:00<?, ?B/s]"
      ]
     },
     "metadata": {},
     "output_type": "display_data"
    },
    {
     "data": {
      "application/vnd.jupyter.widget-view+json": {
       "model_id": "35c76846e57b4ebfb816abea917715fe",
       "version_major": 2,
       "version_minor": 0
      },
      "text/plain": [
       "Downloading:   0%|          | 0.00/39.3k [00:00<?, ?B/s]"
      ]
     },
     "metadata": {},
     "output_type": "display_data"
    },
    {
     "data": {
      "application/vnd.jupyter.widget-view+json": {
       "model_id": "0bfa9d1bafd84f9c965c44916e18a10b",
       "version_major": 2,
       "version_minor": 0
      },
      "text/plain": [
       "Downloading:   0%|          | 0.00/349 [00:00<?, ?B/s]"
      ]
     },
     "metadata": {},
     "output_type": "display_data"
    },
    {
     "data": {
      "application/vnd.jupyter.widget-view+json": {
       "model_id": "1d5bb91a7bae419bac47ab953ef1e666",
       "version_major": 2,
       "version_minor": 0
      },
      "text/plain": [
       "Downloading:   0%|          | 0.00/438M [00:00<?, ?B/s]"
      ]
     },
     "metadata": {},
     "output_type": "display_data"
    },
    {
     "data": {
      "application/vnd.jupyter.widget-view+json": {
       "model_id": "4494a7fa20ff434b82813448c2c94628",
       "version_major": 2,
       "version_minor": 0
      },
      "text/plain": [
       "Downloading:   0%|          | 0.00/53.0 [00:00<?, ?B/s]"
      ]
     },
     "metadata": {},
     "output_type": "display_data"
    },
    {
     "data": {
      "application/vnd.jupyter.widget-view+json": {
       "model_id": "024e31a0f82147e09189718f6610e0b4",
       "version_major": 2,
       "version_minor": 0
      },
      "text/plain": [
       "Downloading:   0%|          | 0.00/239 [00:00<?, ?B/s]"
      ]
     },
     "metadata": {},
     "output_type": "display_data"
    },
    {
     "data": {
      "application/vnd.jupyter.widget-view+json": {
       "model_id": "f300f2fd376d4b2e84b0c43d23fc37d0",
       "version_major": 2,
       "version_minor": 0
      },
      "text/plain": [
       "Downloading:   0%|          | 0.00/466k [00:00<?, ?B/s]"
      ]
     },
     "metadata": {},
     "output_type": "display_data"
    },
    {
     "data": {
      "application/vnd.jupyter.widget-view+json": {
       "model_id": "1e56c268d1c24c9ba123bfa242f306ac",
       "version_major": 2,
       "version_minor": 0
      },
      "text/plain": [
       "Downloading:   0%|          | 0.00/363 [00:00<?, ?B/s]"
      ]
     },
     "metadata": {},
     "output_type": "display_data"
    },
    {
     "data": {
      "application/vnd.jupyter.widget-view+json": {
       "model_id": "87376191d89d4a8db7dd5bbb0afd8ee3",
       "version_major": 2,
       "version_minor": 0
      },
      "text/plain": [
       "Downloading:   0%|          | 0.00/13.1k [00:00<?, ?B/s]"
      ]
     },
     "metadata": {},
     "output_type": "display_data"
    },
    {
     "data": {
      "application/vnd.jupyter.widget-view+json": {
       "model_id": "880a1fa13c8145feb8e3054f6be9d853",
       "version_major": 2,
       "version_minor": 0
      },
      "text/plain": [
       "Downloading:   0%|          | 0.00/232k [00:00<?, ?B/s]"
      ]
     },
     "metadata": {},
     "output_type": "display_data"
    },
    {
     "data": {
      "application/vnd.jupyter.widget-view+json": {
       "model_id": "416cccb317094637b5d4b6b1d186a8c6",
       "version_major": 2,
       "version_minor": 0
      },
      "text/plain": [
       "Downloading:   0%|          | 0.00/190 [00:00<?, ?B/s]"
      ]
     },
     "metadata": {},
     "output_type": "display_data"
    },
    {
     "data": {
      "application/vnd.jupyter.widget-view+json": {
       "model_id": "f61b803efe854057971bd2c921edaac6",
       "version_major": 2,
       "version_minor": 0
      },
      "text/plain": [
       "Batches:   0%|          | 0/15 [00:00<?, ?it/s]"
      ]
     },
     "metadata": {},
     "output_type": "display_data"
    },
    {
     "name": "stderr",
     "output_type": "stream",
     "text": [
      "2021-11-30 14:45:52,908 - BERTopic - Transformed documents to Embeddings\n",
      "2021-11-30 14:46:00,986 - BERTopic - Reduced dimensionality with UMAP\n",
      "2021-11-30 14:46:01,026 - BERTopic - Clustered UMAP embeddings with HDBSCAN\n"
     ]
    }
   ],
   "source": [
    "topics, probs = m.fit_transform(sents_h)"
   ]
  },
  {
   "cell_type": "code",
   "execution_count": 11,
   "id": "2e3f082a",
   "metadata": {},
   "outputs": [
    {
     "data": {
      "text/plain": [
       "[('health', 0.06385706474143353),\n",
       " ('eating', 0.05910121405216769),\n",
       " ('children', 0.055809648558593584),\n",
       " ('diabetes', 0.04518032493648633),\n",
       " ('overweight', 0.04229698871174154),\n",
       " ('adherence', 0.03940080936811179),\n",
       " ('obesity', 0.03940080936811179),\n",
       " ('medication', 0.03940080936811179),\n",
       " ('adolescents', 0.034449758078397896),\n",
       " ('social', 0.03155357873476815)]"
      ]
     },
     "execution_count": 11,
     "metadata": {},
     "output_type": "execute_result"
    }
   ],
   "source": [
    "m.get_topic(0)  # Select the most frequent topic"
   ]
  },
  {
   "cell_type": "code",
   "execution_count": 12,
   "id": "cd377b5d",
   "metadata": {},
   "outputs": [
    {
     "data": {
      "text/plain": [
       "[('diabetes', 0.0727039711621619),\n",
       " ('disease', 0.05182890475539249),\n",
       " ('diabetic', 0.05151163782348641),\n",
       " ('cardiovascular', 0.04751690769434193),\n",
       " ('myocardial', 0.0407594579670122),\n",
       " ('hypertension', 0.029170337042580374),\n",
       " ('ischemia', 0.029170337042580374),\n",
       " ('atherosclerotic', 0.029170337042580374),\n",
       " ('diseases', 0.026037067587527916),\n",
       " ('hospital', 0.025755818911743205)]"
      ]
     },
     "execution_count": 12,
     "metadata": {},
     "output_type": "execute_result"
    }
   ],
   "source": [
    "m.get_topic(1)  # Select the most frequent topic"
   ]
  },
  {
   "cell_type": "code",
   "execution_count": 17,
   "id": "956f750c",
   "metadata": {},
   "outputs": [],
   "source": [
    "samp = sentences[1100]\n",
    "\n",
    "def extract_topics(texts, distance_thresh=0.035, model=m):\n",
    "    topic_labels = model.transform(texts)[0]\n",
    "    topic_dict = {}\n",
    "    for idx, ID in enumerate(topic_labels):\n",
    "        topics = model.get_topic(ID)\n",
    "        for t in topics:\n",
    "            topic = t[0]\n",
    "            dist = t[1]\n",
    "            if dist > distance_thresh:\n",
    "                if not topic_dict.get(topic):\n",
    "                    topic_dict[topic] = [ texts[idx] ] \n",
    "                else:\n",
    "                    sents = topic_dict[topic] + [texts[idx]]\n",
    "                    topic_dict[topic] = sents\n",
    "    return topic_dict"
   ]
  },
  {
   "cell_type": "code",
   "execution_count": 20,
   "id": "da2da0bc",
   "metadata": {},
   "outputs": [
    {
     "data": {
      "application/vnd.jupyter.widget-view+json": {
       "model_id": "65f8eeff1e2d4e989584fdb0a6ced861",
       "version_major": 2,
       "version_minor": 0
      },
      "text/plain": [
       "Batches:   0%|          | 0/15 [00:00<?, ?it/s]"
      ]
     },
     "metadata": {},
     "output_type": "display_data"
    }
   ],
   "source": [
    "td = extract_topics(sents_h)"
   ]
  },
  {
   "cell_type": "code",
   "execution_count": 21,
   "id": "ed98c7e4",
   "metadata": {
    "collapsed": true,
    "jupyter": {
     "outputs_hidden": true
    }
   },
   "outputs": [
    {
     "data": {
      "text/plain": [
       "{'disease': ['Idiopathic guttate hypomelanosis (IGH) is a common hypopigmentation affecting a large amount of older population.',\n",
       "  'Survival rates of out-of-hospital cardiac arrest remain poor.',\n",
       "  'Patients with unresectable esophageal cancer require palliation for dysphagia.',\n",
       "  'An otherwise successfully performed endoscopic thoracic sympathectomy (ETS) to treat palmar hyperhidrosis (PH) often has a serious side effect: compensatory sweating (CS).',\n",
       "  'Treatment of benign familial pemphigus or Hailey-Hailey disease (HHD), a rare inherited condition associated with a significant impairment of quality of life, is often challenging and disappointing with frequent relapses and infectious complications.',\n",
       "  'Neuropathy is a common diabetic complication that can result in significant disability.',\n",
       "  'High blood pressure is related to cardiovascular diseases.',\n",
       "  'Gastrointestinal symptoms seem to affect more women, due to hormonal and emotional issues, impacting the quality of life.',\n",
       "  'Topical onychomycosis therapies are usually inadequate, and patient compliance to systemic therapies is poor.',\n",
       "  'Mycosis fungoides (MF) is the most frequent type of cutaneous T-cell lymphoma.',\n",
       "  'Single-phase myocardial computed tomography perfusion (CTP) is useful for detecting myocardial ischemia, but determining the optimal scan time is difficult.',\n",
       "  'Dermatophytosis caused by Trichophyton erinacei is a common scaling and crusting skin disease affecting European hedgehogs (Erinaceus europaeus) admitted to wildlife rescue centres.',\n",
       "  'Distinction of paroxysmal atrial fibrillation (PAF) from non-PAF is important in clinical practice, but this is often difficult at the time of first documented AF.',\n",
       "  'Shave skin biopsies are essential procedures wherein physicians diagnose dermatologic lesions.',\n",
       "  'Acne vulgaris is a common disease of the pilosebaceous unit.',\n",
       "  'Offspring of women with diabetes in pregnancy are at increased risk of type 2 diabetes mellitus (T2DM), potentially mediated by epigenetic mechanisms.',\n",
       "  'Onychomycosis is a common but difficult to treat nail disorder.',\n",
       "  'Ponesimod is currently the only S1P receptor modulator studied in psoriasis.',\n",
       "  'Palmo-axillo-plantar hyperhidrosis (HH) exists in approximately 70% to 100% of patients complaining of HH.',\n",
       "  'Up to 50% of heart failure patients demonstrate aspects of cognitive impairment, including memory deficit.',\n",
       "  \"Dupuytren's disease as a\\xa0benign fibroproliferative disease leads to hyperplasia of the collagen fibers of the fascia of the palm, which can result in severe impairment of the functionality of the hand.\",\n",
       "  'Cardiac arrest due to ischaemia is frequently the first manifestation of cardiovascular disease.',\n",
       "  'Melasma is an acquired refractory pigmentary disorder, which is a skin disease that predominantly affects females.',\n",
       "  'Psoriasis is one of the most prevalent immune mediated skin diseases.',\n",
       "  'Mycetomas are frequent subcutaneous mycoses with typical clinical characteristics such as sinuses, blood-stained, serous, or purulent exudates as well as local swelling.',\n",
       "  'Cow milk allergy (CMA) is the most common food allergy in breastfed infants.',\n",
       "  'Erythematotelangiectatic rosasea is a common,chronic, relapsing disease characterized mainly by vascular components, for which many therapies may exist but with limited efficacy.',\n",
       "  'Actinic cheilitis (AC) is a common, chronic premalignant condition resulting from protracted sun exposure affecting the vermilion border of the lower lip.',\n",
       "  'Hyperhidrosis is a common medical condition which can have a significant impact on quality of life.',\n",
       "  'Psoriasis is associated with dyslipidemia and metabolic syndrome, and has been linked to an increased cardiovascular risk.',\n",
       "  'Rosacea is a common inflammatory facial skin condition.',\n",
       "  'Lichen sclerosus (LS) is a difficult to treat, often relapsing disease with unknown background.',\n",
       "  'Postherpetic itch has not commonly received attention as a complication of herpes zoster because pain predominates over itch in most patients with herpes zoster',\n",
       "  'Celiac disease (CD) is a frequent inflammatory intestinal disease, with a genetic background, caused by gliadin-containing food',\n",
       "  'Gastroenterological and rheumatological diseases often have a systemic character, with disease manifestations beyond the area affected by the disease',\n",
       "  'Primary cutaneous B-cell lymphomas (PCBCLs) are frequently misdiagnosed, and a biopsy is needed to attain the correct diagnosis',\n",
       "  'IgA pemphigus is a rare autoimmune vesiculo-pustular skin disease',\n",
       "  \"Oestrogen dermatitis is a rare disorder characterised by cyclical eruptions in association with a woman's menstrual cycle\",\n",
       "  'Nutrition has been neglected for a long time as an important factor in the pathogenesis of digestive diseases, but also in the treatment, despite Hippocrates long ago insisted \"Let food be thy medicine and medicine be thy food',\n",
       "  'Atherosclerotic disease is a leading cause of morbidity and mortality in adults and is generally thought of as only affecting adults',\n",
       "  'Although facial cleanliness is part of the SAFE strategy for trachoma there is controversy over the reliability of measuring a clean face',\n",
       "  'The prevalence of type 2 diabetes among Malaysian adults has increased by more than two folds over the past two decades',\n",
       "  'The prevalence of cholelithiasis in developed countries is high and its cause multifactorial, with a negligible proportion of drug-induced cholelithiasis',\n",
       "  'Eczema is a common childhood condition, causing dry and itchy skin which can be difficult to manage',\n",
       "  'Inflammatory bowel disease is a\\xa0complex and challenging disease',\n",
       "  'Atopic dermatitis (AD) is a common inflammatory skin disease in both adults and children',\n",
       "  'Myocardial ischemia-reperfusion injury (MI-RI) has many adverse complications with high mortality rate',\n",
       "  'Allergic contact dermatitis is a common occupational skin disease among healthcare workers (HCWs)',\n",
       "  'Background Skin Neglected Tropical Diseases (NTDs) are a group of ten diseases often co-endemic in African rural communities and characterized by primary skin involvement',\n",
       "  'Metabolic syndrome is a subclinical status in promoting atherosclerotic cardiovascular disease and type 2 diabetes mellitus',\n",
       "  \"Grover's disease (GD) is a relatively rare transient dermatosis that can be idiopathic or acquired\",\n",
       "  'Atopic dermatitis is a chronically relapsing inflammatory skin condition that is burdensome for individuals with the disease, their families, and for society as a whole',\n",
       "  'Diverticular disease is becoming increasingly more common in the western world',\n",
       "  \"Hidradenitis suppurativa (HS) is a chronic inflammatory skin disease that severely impairs patients' quality of life (QoL)\",\n",
       "  'Hypertension is one of the most common diseases around the world, which is the most risk factor related to cardiovascular disease',\n",
       "  'Developing effective strategies for signaling the pre-disease state of complex diseases, a state with high susceptibility before the disease onset or deterioration, is urgently needed because such state usually followed by a catastrophic transition into a worse stage of disease',\n",
       "  'Chronic inflammatory diseases are complex disorders, which due to their multitude of manifestations require interdisciplinary treatment',\n",
       "  'Renal infarction is a rare and usually underdiagnosed entity',\n",
       "  'A lack of understanding of Acute Coronary Syndrome symptoms and appropriate responses often contribute to delay in seeking medical treatment',\n",
       "  'Diabetic kidney disease (DKD) is 1 of the common microvascular complications of diabetes, and the therapeutic effect of modern medicine on DKD is limited',\n",
       "  '\\xa0Diabetes mellitus (DM) is considered to be a significant public health problem globally',\n",
       "  'Scleromyxedema (SME) is a rare mucinosis associated with monoclonal gammopathy',\n",
       "  'Cutaneous rosai-dorfman(CRDD) is a rare non-langerhans cell histiocytosis with unknown origin',\n",
       "  'Eosinophilic gastrointestinal disorders (EGID) are a group of conditions with increased eosinophilic infiltration in any part of the gastrointestinal tract',\n",
       "  'Pulmonary arterial hypertension (PAH) was previously considered an illness that affects mostly the young, but now it is also increasingly recognized in the elderly',\n",
       "  'Langerhans cell histiocytosis (LCH) is a rare disease primarily occurring in children, and commonly involves the bone and skin; gastrointestinal tract involvement is notably rare',\n",
       "  'Despite current therapies, acute heart failure (AHF) remains a major public health burden with high rates of in-hospital and post-discharge morbidity and mortality',\n",
       "  'Systemic sclerosis (SSc) is a chronic autoimmune disease with multiorgan involvement',\n",
       "  'IgG4-related disease (IgG4-RD) is a tumefactive fibro-inflammatory lesion that can affect any organ system in the body',\n",
       "  'Inflammation is recognized as the key pathological mechanism of type 2 diabetes',\n",
       "  'Despite the fact that researchers have made significant progress in elucidating pathophysiology of esophageal diseases, the understanding of esophageal motility alterations in patients with eosinophilic esophagitis is in its infancy and current published medical literature remains rather scarce on this topic',\n",
       "  'Mesenterial and peritoneal inflammation represents a\\xa0major clinical challenge regarding differential diagnosis',\n",
       "  'Diabetic Ketoacidosis (DKA) is one of the most commonly encountered diabetic complication emergencies',\n",
       "  'Partial unilateral lentiginosis (PUL) is a rare acquired circumscribed hyperpigmentation characterized by multiple simple lentigines involving half of the body',\n",
       "  'While the pathogenesis of contact allergy in recent years has increasingly focused on the mechanisms of the innate immune response, valid therapeutic options are still lacking',\n",
       "  'Mycosis fungoides and Sézary syndrome are the most common non-Hodgkin lymphomas that manifest primarily in the skin',\n",
       "  'Sclerosing mesenteritis (SM) and mesenteric panniculitis are rare processes of the mesentery which pose a\\xa0major clinical and imaging challenge',\n",
       "  'Aspirin-exacerbated respiratory disease (AERD) is a disorder of nasal polyposis, asthma, and hypersensitivity respiratory reactions when on systemic cyclooxygenase 1 blockade',\n",
       "  'Sclerochoroidal calcification (SCC), a rare condition found in elderly people, is idiopathic or occasionally secondary to disorders affecting calcium metabolism',\n",
       "  'Chronic kidney disease is a growing global health problem',\n",
       "  'Acute cardiorenal syndrome (CRS) is a common clinical condition associated with adverse outcomes',\n",
       "  'Black spot is one of the most severe and damaging diseases of garden roses',\n",
       "  'Follicular tumors and cysts are common skin lesions in dogs',\n",
       "  'Peristomal pyoderma gangrenosum (PPG) is a rare complication mainly associated with inflammatory bowel disease',\n",
       "  'Sensitization to methylchloroisothiazolinone (MCI) and methylisothiazolinone (MI) is a worldwide problem',\n",
       "  'Trimethylaminuria is a rare disorder characterised by foul odour from bodily fluids and breath',\n",
       "  'Irritable bowel syndrome (IBS) is one of the most common functional gastrointestinal disorders with chronic abdominal pain and altered bowel habit without any organic reason'],\n",
       " 'inflammatory': ['Idiopathic guttate hypomelanosis (IGH) is a common hypopigmentation affecting a large amount of older population.',\n",
       "  'Patients with unresectable esophageal cancer require palliation for dysphagia.',\n",
       "  'Gastrointestinal symptoms seem to affect more women, due to hormonal and emotional issues, impacting the quality of life.',\n",
       "  'Celiac disease (CD) is a frequent inflammatory intestinal disease, with a genetic background, caused by gliadin-containing food',\n",
       "  'Gastroenterological and rheumatological diseases often have a systemic character, with disease manifestations beyond the area affected by the disease',\n",
       "  'Nutrition has been neglected for a long time as an important factor in the pathogenesis of digestive diseases, but also in the treatment, despite Hippocrates long ago insisted \"Let food be thy medicine and medicine be thy food',\n",
       "  'The prevalence of cholelithiasis in developed countries is high and its cause multifactorial, with a negligible proportion of drug-induced cholelithiasis',\n",
       "  'Inflammatory bowel disease is a\\xa0complex and challenging disease',\n",
       "  'Diverticular disease is becoming increasingly more common in the western world',\n",
       "  'Chronic inflammatory diseases are complex disorders, which due to their multitude of manifestations require interdisciplinary treatment',\n",
       "  'Eosinophilic gastrointestinal disorders (EGID) are a group of conditions with increased eosinophilic infiltration in any part of the gastrointestinal tract',\n",
       "  'IgG4-related disease (IgG4-RD) is a tumefactive fibro-inflammatory lesion that can affect any organ system in the body',\n",
       "  'Despite the fact that researchers have made significant progress in elucidating pathophysiology of esophageal diseases, the understanding of esophageal motility alterations in patients with eosinophilic esophagitis is in its infancy and current published medical literature remains rather scarce on this topic',\n",
       "  'Mesenterial and peritoneal inflammation represents a\\xa0major clinical challenge regarding differential diagnosis',\n",
       "  'Sclerosing mesenteritis (SM) and mesenteric panniculitis are rare processes of the mesentery which pose a\\xa0major clinical and imaging challenge',\n",
       "  'Aspirin-exacerbated respiratory disease (AERD) is a disorder of nasal polyposis, asthma, and hypersensitivity respiratory reactions when on systemic cyclooxygenase 1 blockade',\n",
       "  'Peristomal pyoderma gangrenosum (PPG) is a rare complication mainly associated with inflammatory bowel disease',\n",
       "  'Trimethylaminuria is a rare disorder characterised by foul odour from bodily fluids and breath',\n",
       "  'Irritable bowel syndrome (IBS) is one of the most common functional gastrointestinal disorders with chronic abdominal pain and altered bowel habit without any organic reason'],\n",
       " 'gastrointestinal': ['Idiopathic guttate hypomelanosis (IGH) is a common hypopigmentation affecting a large amount of older population.',\n",
       "  'Patients with unresectable esophageal cancer require palliation for dysphagia.',\n",
       "  'Gastrointestinal symptoms seem to affect more women, due to hormonal and emotional issues, impacting the quality of life.',\n",
       "  'Celiac disease (CD) is a frequent inflammatory intestinal disease, with a genetic background, caused by gliadin-containing food',\n",
       "  'Gastroenterological and rheumatological diseases often have a systemic character, with disease manifestations beyond the area affected by the disease',\n",
       "  'Nutrition has been neglected for a long time as an important factor in the pathogenesis of digestive diseases, but also in the treatment, despite Hippocrates long ago insisted \"Let food be thy medicine and medicine be thy food',\n",
       "  'The prevalence of cholelithiasis in developed countries is high and its cause multifactorial, with a negligible proportion of drug-induced cholelithiasis',\n",
       "  'Inflammatory bowel disease is a\\xa0complex and challenging disease',\n",
       "  'Diverticular disease is becoming increasingly more common in the western world',\n",
       "  'Chronic inflammatory diseases are complex disorders, which due to their multitude of manifestations require interdisciplinary treatment',\n",
       "  'Eosinophilic gastrointestinal disorders (EGID) are a group of conditions with increased eosinophilic infiltration in any part of the gastrointestinal tract',\n",
       "  'IgG4-related disease (IgG4-RD) is a tumefactive fibro-inflammatory lesion that can affect any organ system in the body',\n",
       "  'Despite the fact that researchers have made significant progress in elucidating pathophysiology of esophageal diseases, the understanding of esophageal motility alterations in patients with eosinophilic esophagitis is in its infancy and current published medical literature remains rather scarce on this topic',\n",
       "  'Mesenterial and peritoneal inflammation represents a\\xa0major clinical challenge regarding differential diagnosis',\n",
       "  'Sclerosing mesenteritis (SM) and mesenteric panniculitis are rare processes of the mesentery which pose a\\xa0major clinical and imaging challenge',\n",
       "  'Aspirin-exacerbated respiratory disease (AERD) is a disorder of nasal polyposis, asthma, and hypersensitivity respiratory reactions when on systemic cyclooxygenase 1 blockade',\n",
       "  'Peristomal pyoderma gangrenosum (PPG) is a rare complication mainly associated with inflammatory bowel disease',\n",
       "  'Trimethylaminuria is a rare disorder characterised by foul odour from bodily fluids and breath',\n",
       "  'Irritable bowel syndrome (IBS) is one of the most common functional gastrointestinal disorders with chronic abdominal pain and altered bowel habit without any organic reason'],\n",
       " 'esophageal': ['Idiopathic guttate hypomelanosis (IGH) is a common hypopigmentation affecting a large amount of older population.',\n",
       "  'Patients with unresectable esophageal cancer require palliation for dysphagia.',\n",
       "  'Gastrointestinal symptoms seem to affect more women, due to hormonal and emotional issues, impacting the quality of life.',\n",
       "  'Celiac disease (CD) is a frequent inflammatory intestinal disease, with a genetic background, caused by gliadin-containing food',\n",
       "  'Gastroenterological and rheumatological diseases often have a systemic character, with disease manifestations beyond the area affected by the disease',\n",
       "  'Nutrition has been neglected for a long time as an important factor in the pathogenesis of digestive diseases, but also in the treatment, despite Hippocrates long ago insisted \"Let food be thy medicine and medicine be thy food',\n",
       "  'The prevalence of cholelithiasis in developed countries is high and its cause multifactorial, with a negligible proportion of drug-induced cholelithiasis',\n",
       "  'Inflammatory bowel disease is a\\xa0complex and challenging disease',\n",
       "  'Diverticular disease is becoming increasingly more common in the western world',\n",
       "  'Chronic inflammatory diseases are complex disorders, which due to their multitude of manifestations require interdisciplinary treatment',\n",
       "  'Eosinophilic gastrointestinal disorders (EGID) are a group of conditions with increased eosinophilic infiltration in any part of the gastrointestinal tract',\n",
       "  'IgG4-related disease (IgG4-RD) is a tumefactive fibro-inflammatory lesion that can affect any organ system in the body',\n",
       "  'Despite the fact that researchers have made significant progress in elucidating pathophysiology of esophageal diseases, the understanding of esophageal motility alterations in patients with eosinophilic esophagitis is in its infancy and current published medical literature remains rather scarce on this topic',\n",
       "  'Mesenterial and peritoneal inflammation represents a\\xa0major clinical challenge regarding differential diagnosis',\n",
       "  'Sclerosing mesenteritis (SM) and mesenteric panniculitis are rare processes of the mesentery which pose a\\xa0major clinical and imaging challenge',\n",
       "  'Aspirin-exacerbated respiratory disease (AERD) is a disorder of nasal polyposis, asthma, and hypersensitivity respiratory reactions when on systemic cyclooxygenase 1 blockade',\n",
       "  'Peristomal pyoderma gangrenosum (PPG) is a rare complication mainly associated with inflammatory bowel disease',\n",
       "  'Trimethylaminuria is a rare disorder characterised by foul odour from bodily fluids and breath',\n",
       "  'Irritable bowel syndrome (IBS) is one of the most common functional gastrointestinal disorders with chronic abdominal pain and altered bowel habit without any organic reason'],\n",
       " 'eosinophilic': ['Idiopathic guttate hypomelanosis (IGH) is a common hypopigmentation affecting a large amount of older population.',\n",
       "  'Patients with unresectable esophageal cancer require palliation for dysphagia.',\n",
       "  'Gastrointestinal symptoms seem to affect more women, due to hormonal and emotional issues, impacting the quality of life.',\n",
       "  'Celiac disease (CD) is a frequent inflammatory intestinal disease, with a genetic background, caused by gliadin-containing food',\n",
       "  'Gastroenterological and rheumatological diseases often have a systemic character, with disease manifestations beyond the area affected by the disease',\n",
       "  'Nutrition has been neglected for a long time as an important factor in the pathogenesis of digestive diseases, but also in the treatment, despite Hippocrates long ago insisted \"Let food be thy medicine and medicine be thy food',\n",
       "  'The prevalence of cholelithiasis in developed countries is high and its cause multifactorial, with a negligible proportion of drug-induced cholelithiasis',\n",
       "  'Inflammatory bowel disease is a\\xa0complex and challenging disease',\n",
       "  'Diverticular disease is becoming increasingly more common in the western world',\n",
       "  'Chronic inflammatory diseases are complex disorders, which due to their multitude of manifestations require interdisciplinary treatment',\n",
       "  'Eosinophilic gastrointestinal disorders (EGID) are a group of conditions with increased eosinophilic infiltration in any part of the gastrointestinal tract',\n",
       "  'IgG4-related disease (IgG4-RD) is a tumefactive fibro-inflammatory lesion that can affect any organ system in the body',\n",
       "  'Despite the fact that researchers have made significant progress in elucidating pathophysiology of esophageal diseases, the understanding of esophageal motility alterations in patients with eosinophilic esophagitis is in its infancy and current published medical literature remains rather scarce on this topic',\n",
       "  'Mesenterial and peritoneal inflammation represents a\\xa0major clinical challenge regarding differential diagnosis',\n",
       "  'Sclerosing mesenteritis (SM) and mesenteric panniculitis are rare processes of the mesentery which pose a\\xa0major clinical and imaging challenge',\n",
       "  'Aspirin-exacerbated respiratory disease (AERD) is a disorder of nasal polyposis, asthma, and hypersensitivity respiratory reactions when on systemic cyclooxygenase 1 blockade',\n",
       "  'Peristomal pyoderma gangrenosum (PPG) is a rare complication mainly associated with inflammatory bowel disease',\n",
       "  'Trimethylaminuria is a rare disorder characterised by foul odour from bodily fluids and breath',\n",
       "  'Irritable bowel syndrome (IBS) is one of the most common functional gastrointestinal disorders with chronic abdominal pain and altered bowel habit without any organic reason'],\n",
       " 'diseases': ['Idiopathic guttate hypomelanosis (IGH) is a common hypopigmentation affecting a large amount of older population.',\n",
       "  'Patients with unresectable esophageal cancer require palliation for dysphagia.',\n",
       "  'Gastrointestinal symptoms seem to affect more women, due to hormonal and emotional issues, impacting the quality of life.',\n",
       "  'Celiac disease (CD) is a frequent inflammatory intestinal disease, with a genetic background, caused by gliadin-containing food',\n",
       "  'Gastroenterological and rheumatological diseases often have a systemic character, with disease manifestations beyond the area affected by the disease',\n",
       "  'Nutrition has been neglected for a long time as an important factor in the pathogenesis of digestive diseases, but also in the treatment, despite Hippocrates long ago insisted \"Let food be thy medicine and medicine be thy food',\n",
       "  'The prevalence of cholelithiasis in developed countries is high and its cause multifactorial, with a negligible proportion of drug-induced cholelithiasis',\n",
       "  'Inflammatory bowel disease is a\\xa0complex and challenging disease',\n",
       "  'Diverticular disease is becoming increasingly more common in the western world',\n",
       "  'Chronic inflammatory diseases are complex disorders, which due to their multitude of manifestations require interdisciplinary treatment',\n",
       "  'Eosinophilic gastrointestinal disorders (EGID) are a group of conditions with increased eosinophilic infiltration in any part of the gastrointestinal tract',\n",
       "  'IgG4-related disease (IgG4-RD) is a tumefactive fibro-inflammatory lesion that can affect any organ system in the body',\n",
       "  'Despite the fact that researchers have made significant progress in elucidating pathophysiology of esophageal diseases, the understanding of esophageal motility alterations in patients with eosinophilic esophagitis is in its infancy and current published medical literature remains rather scarce on this topic',\n",
       "  'Mesenterial and peritoneal inflammation represents a\\xa0major clinical challenge regarding differential diagnosis',\n",
       "  'Sclerosing mesenteritis (SM) and mesenteric panniculitis are rare processes of the mesentery which pose a\\xa0major clinical and imaging challenge',\n",
       "  'Aspirin-exacerbated respiratory disease (AERD) is a disorder of nasal polyposis, asthma, and hypersensitivity respiratory reactions when on systemic cyclooxygenase 1 blockade',\n",
       "  'Peristomal pyoderma gangrenosum (PPG) is a rare complication mainly associated with inflammatory bowel disease',\n",
       "  'Trimethylaminuria is a rare disorder characterised by foul odour from bodily fluids and breath',\n",
       "  'Irritable bowel syndrome (IBS) is one of the most common functional gastrointestinal disorders with chronic abdominal pain and altered bowel habit without any organic reason'],\n",
       " 'disorders': ['Idiopathic guttate hypomelanosis (IGH) is a common hypopigmentation affecting a large amount of older population.',\n",
       "  'Patients with unresectable esophageal cancer require palliation for dysphagia.',\n",
       "  'Gastrointestinal symptoms seem to affect more women, due to hormonal and emotional issues, impacting the quality of life.',\n",
       "  'Celiac disease (CD) is a frequent inflammatory intestinal disease, with a genetic background, caused by gliadin-containing food',\n",
       "  'Gastroenterological and rheumatological diseases often have a systemic character, with disease manifestations beyond the area affected by the disease',\n",
       "  'Nutrition has been neglected for a long time as an important factor in the pathogenesis of digestive diseases, but also in the treatment, despite Hippocrates long ago insisted \"Let food be thy medicine and medicine be thy food',\n",
       "  'The prevalence of cholelithiasis in developed countries is high and its cause multifactorial, with a negligible proportion of drug-induced cholelithiasis',\n",
       "  'Inflammatory bowel disease is a\\xa0complex and challenging disease',\n",
       "  'Diverticular disease is becoming increasingly more common in the western world',\n",
       "  'Chronic inflammatory diseases are complex disorders, which due to their multitude of manifestations require interdisciplinary treatment',\n",
       "  'Eosinophilic gastrointestinal disorders (EGID) are a group of conditions with increased eosinophilic infiltration in any part of the gastrointestinal tract',\n",
       "  'IgG4-related disease (IgG4-RD) is a tumefactive fibro-inflammatory lesion that can affect any organ system in the body',\n",
       "  'Despite the fact that researchers have made significant progress in elucidating pathophysiology of esophageal diseases, the understanding of esophageal motility alterations in patients with eosinophilic esophagitis is in its infancy and current published medical literature remains rather scarce on this topic',\n",
       "  'Mesenterial and peritoneal inflammation represents a\\xa0major clinical challenge regarding differential diagnosis',\n",
       "  'Sclerosing mesenteritis (SM) and mesenteric panniculitis are rare processes of the mesentery which pose a\\xa0major clinical and imaging challenge',\n",
       "  'Aspirin-exacerbated respiratory disease (AERD) is a disorder of nasal polyposis, asthma, and hypersensitivity respiratory reactions when on systemic cyclooxygenase 1 blockade',\n",
       "  'Peristomal pyoderma gangrenosum (PPG) is a rare complication mainly associated with inflammatory bowel disease',\n",
       "  'Trimethylaminuria is a rare disorder characterised by foul odour from bodily fluids and breath',\n",
       "  'Irritable bowel syndrome (IBS) is one of the most common functional gastrointestinal disorders with chronic abdominal pain and altered bowel habit without any organic reason'],\n",
       " 'depression': ['Traditional mental health clinical experiences expose students to an environment that may not prepare them to address mental health needs in hospital settings.',\n",
       "  'There is increasing evidence throughout the world that the negative treatment of pregnant women during labor and delivery can be a barrier to seeking skilled maternity care.',\n",
       "  'The prevalence of mental health difficulties in Northern Ireland (NI) is significantly higher than in England.',\n",
       "  'Early life adversity (ELA) is not uncommon in major depressive disorder (MDD) patients.',\n",
       "  'Research to date has focused on the detrimental effects of negative self-images for individuals with social anxiety disorder (SAD), but the benefits of positive self-images have been neglected.',\n",
       "  'Research indicates some women experiencing depression during pregnancy are dissatisfied with conventional depression treatments due to incomplete effectiveness, dislike of side effects, unsatisfactory experiences with providers and concerns regarding in-utero and breastfeeding safety.',\n",
       "  'Families living with a person with mental illness can experience distress requiring therapeutic interventions.',\n",
       "  'There is a lack of treatment plurality at step 2 of Improving Access to Psychological Therapies (IAPT) services.',\n",
       "  'Disgust is thought to play a prominent role in multiple anxiety disorders and fears, including spider phobia, though little attention has been given to specific treatment strategies that may be effective for multiple disgust-based fears.',\n",
       "  'Depression is an extremely common mental health disorder, with prevalence rates rising.',\n",
       "  'Cognitive behaviour therapy (CBT) and interpersonal psychotherapy (IPT) are the most studied psychotherapies for treatment of depression, but they are rarely directly compared particularly over the longer term.',\n",
       "  'Depression is common in patients with ischaemic heart disease and preoperative depression is a risk factor following coronary artery bypass grafting.',\n",
       "  'Suicide is an under attended public health problem in Bangladesh as there is no central suicide database and no national suicide surveillance system in the country',\n",
       "  'High prevalence rates of psychiatric morbidity have been documented among adolescents within youth correctional institutions in Nigeria',\n",
       "  'Borderline personality disorder (BPD) is one of the most puzzling psychiatric disorders',\n",
       "  'Postnatal depression (PND) is one of the most frequent complications in women of childbearing age in the developed world',\n",
       "  'There is a strong stigma attached to mental disorders preventing those affected from getting psychological help',\n",
       "  'Work attention in employees with schizophrenia is a significant issue in vocational rehabilitation',\n",
       "  'Identifying vulnerability to perinatal depression is an important public health issue',\n",
       "  'Social difficulties are a hallmark of schizophrenia spectrum conditions, yet their background and exact nature remain contested',\n",
       "  'India is experiencing increasing suicides that have much economic impact',\n",
       "  'Shame is a powerful negative emotion, associated with many mental disorders, both as an aetiological factor and as a consequence affecting symptoms, psychological defences and therapeutic outcomes',\n",
       "  'Globally, paternal depression is a neglected and under-researched area',\n",
       "  'The behavioral model of health service use identified health needs, service preferences (predispositions), and service availability (enabling factors) as important predictors, but research has not conceptualized consistently each type of influence nor identified their separate effects on use of substance abuse and mental health services or their value in predicting service outcomes',\n",
       "  'Research has provided an abundance of data on moral distress with limited research to resolve and help negate the detrimental effects of moral distress',\n",
       "  'Depression is a disorder that is highly prevalent nowadays',\n",
       "  'A high prevalence of depression exists among individuals with cancer, which negatively affects their health outcomes, quality of life, and adherence to cancer treatment',\n",
       "  'Many women still die during and following pregnancy and childbirth',\n",
       "  'Suicide is a significant public health issue'],\n",
       " 'mental': ['Traditional mental health clinical experiences expose students to an environment that may not prepare them to address mental health needs in hospital settings.',\n",
       "  'There is increasing evidence throughout the world that the negative treatment of pregnant women during labor and delivery can be a barrier to seeking skilled maternity care.',\n",
       "  'The prevalence of mental health difficulties in Northern Ireland (NI) is significantly higher than in England.',\n",
       "  'Early life adversity (ELA) is not uncommon in major depressive disorder (MDD) patients.',\n",
       "  'Research to date has focused on the detrimental effects of negative self-images for individuals with social anxiety disorder (SAD), but the benefits of positive self-images have been neglected.',\n",
       "  'Research indicates some women experiencing depression during pregnancy are dissatisfied with conventional depression treatments due to incomplete effectiveness, dislike of side effects, unsatisfactory experiences with providers and concerns regarding in-utero and breastfeeding safety.',\n",
       "  'Families living with a person with mental illness can experience distress requiring therapeutic interventions.',\n",
       "  'There is a lack of treatment plurality at step 2 of Improving Access to Psychological Therapies (IAPT) services.',\n",
       "  'Disgust is thought to play a prominent role in multiple anxiety disorders and fears, including spider phobia, though little attention has been given to specific treatment strategies that may be effective for multiple disgust-based fears.',\n",
       "  'Depression is an extremely common mental health disorder, with prevalence rates rising.',\n",
       "  'Cognitive behaviour therapy (CBT) and interpersonal psychotherapy (IPT) are the most studied psychotherapies for treatment of depression, but they are rarely directly compared particularly over the longer term.',\n",
       "  'Depression is common in patients with ischaemic heart disease and preoperative depression is a risk factor following coronary artery bypass grafting.',\n",
       "  'Suicide is an under attended public health problem in Bangladesh as there is no central suicide database and no national suicide surveillance system in the country',\n",
       "  'High prevalence rates of psychiatric morbidity have been documented among adolescents within youth correctional institutions in Nigeria',\n",
       "  'Borderline personality disorder (BPD) is one of the most puzzling psychiatric disorders',\n",
       "  'Postnatal depression (PND) is one of the most frequent complications in women of childbearing age in the developed world',\n",
       "  'There is a strong stigma attached to mental disorders preventing those affected from getting psychological help',\n",
       "  'Work attention in employees with schizophrenia is a significant issue in vocational rehabilitation',\n",
       "  'Identifying vulnerability to perinatal depression is an important public health issue',\n",
       "  'Social difficulties are a hallmark of schizophrenia spectrum conditions, yet their background and exact nature remain contested',\n",
       "  'India is experiencing increasing suicides that have much economic impact',\n",
       "  'Shame is a powerful negative emotion, associated with many mental disorders, both as an aetiological factor and as a consequence affecting symptoms, psychological defences and therapeutic outcomes',\n",
       "  'Globally, paternal depression is a neglected and under-researched area',\n",
       "  'The behavioral model of health service use identified health needs, service preferences (predispositions), and service availability (enabling factors) as important predictors, but research has not conceptualized consistently each type of influence nor identified their separate effects on use of substance abuse and mental health services or their value in predicting service outcomes',\n",
       "  'Research has provided an abundance of data on moral distress with limited research to resolve and help negate the detrimental effects of moral distress',\n",
       "  'Depression is a disorder that is highly prevalent nowadays',\n",
       "  'A high prevalence of depression exists among individuals with cancer, which negatively affects their health outcomes, quality of life, and adherence to cancer treatment',\n",
       "  'Many women still die during and following pregnancy and childbirth',\n",
       "  'Suicide is a significant public health issue'],\n",
       " 'health': ['Traditional mental health clinical experiences expose students to an environment that may not prepare them to address mental health needs in hospital settings.',\n",
       "  'There is increasing evidence throughout the world that the negative treatment of pregnant women during labor and delivery can be a barrier to seeking skilled maternity care.',\n",
       "  'The prevalence of mental health difficulties in Northern Ireland (NI) is significantly higher than in England.',\n",
       "  'Early life adversity (ELA) is not uncommon in major depressive disorder (MDD) patients.',\n",
       "  'Research to date has focused on the detrimental effects of negative self-images for individuals with social anxiety disorder (SAD), but the benefits of positive self-images have been neglected.',\n",
       "  'Research indicates some women experiencing depression during pregnancy are dissatisfied with conventional depression treatments due to incomplete effectiveness, dislike of side effects, unsatisfactory experiences with providers and concerns regarding in-utero and breastfeeding safety.',\n",
       "  'Families living with a person with mental illness can experience distress requiring therapeutic interventions.',\n",
       "  'There is a lack of treatment plurality at step 2 of Improving Access to Psychological Therapies (IAPT) services.',\n",
       "  'Disgust is thought to play a prominent role in multiple anxiety disorders and fears, including spider phobia, though little attention has been given to specific treatment strategies that may be effective for multiple disgust-based fears.',\n",
       "  'Depression is an extremely common mental health disorder, with prevalence rates rising.',\n",
       "  'Previous research suggests that computerized interpretation bias modification (IBM) techniques may be useful for modifying thoughts and behaviours relevant to eating pathology; however, little is known about the utility of IBM for decreasing specific eating disorder (ED) symptoms (e.g. bulimia, drive for thinness).',\n",
       "  'Physical activity confers numerous health benefits, yet few adults meet recommended physical activity guidelines.',\n",
       "  'Physical inactivity is the fourth leading risk factor for mortality worldwide and a leading risk factor for type 2 diabetes and cardiovascular disease.',\n",
       "  'Cognitive behaviour therapy (CBT) and interpersonal psychotherapy (IPT) are the most studied psychotherapies for treatment of depression, but they are rarely directly compared particularly over the longer term.',\n",
       "  'Prader-Willi syndrome (PWS) is characterized by excessive adiposity.',\n",
       "  'Depression is common in patients with ischaemic heart disease and preoperative depression is a risk factor following coronary artery bypass grafting.',\n",
       "  'Low levels of adherence to medication prescribed to treat and manage chronic disease may lead to maladaptive health outcomes.',\n",
       "  'Suicide is an under attended public health problem in Bangladesh as there is no central suicide database and no national suicide surveillance system in the country',\n",
       "  'Medication non-adherence is a major contributor to poor outcomes in diabetes',\n",
       "  'High prevalence rates of psychiatric morbidity have been documented among adolescents within youth correctional institutions in Nigeria',\n",
       "  'Borderline personality disorder (BPD) is one of the most puzzling psychiatric disorders',\n",
       "  'Postnatal depression (PND) is one of the most frequent complications in women of childbearing age in the developed world',\n",
       "  'There is a strong stigma attached to mental disorders preventing those affected from getting psychological help',\n",
       "  'Work attention in employees with schizophrenia is a significant issue in vocational rehabilitation',\n",
       "  'Sedentary behaviour in children is related to different health consequences such as overweight and cardio-metabolic diseases that can track into adulthood',\n",
       "  'Obese patients, mainly females, feel uncomfortable and unsatisfied with their physical appearance; they have a wrong perception of their image and consequently diminish their self-esteem, sometimes showing difficulties in functional areas such as work, relationship, social activity',\n",
       "  'Latino preschool children have higher rates of obesity than children from other racial/ethnic backgrounds',\n",
       "  'Identifying vulnerability to perinatal depression is an important public health issue',\n",
       "  'Social difficulties are a hallmark of schizophrenia spectrum conditions, yet their background and exact nature remain contested',\n",
       "  'India is experiencing increasing suicides that have much economic impact',\n",
       "  'Shame is a powerful negative emotion, associated with many mental disorders, both as an aetiological factor and as a consequence affecting symptoms, psychological defences and therapeutic outcomes',\n",
       "  'Globally, paternal depression is a neglected and under-researched area',\n",
       "  'Youth with type 1 diabetes (T1D) experiencing self-management difficulties are at risk of irreversible long-term health problems and consume a disproportionate amount of health care resources',\n",
       "  'One barrier to effectively treating weight issues among adolescents is that they tend to use social comparison instead of objective measures to evaluate their own health status',\n",
       "  'The behavioral model of health service use identified health needs, service preferences (predispositions), and service availability (enabling factors) as important predictors, but research has not conceptualized consistently each type of influence nor identified their separate effects on use of substance abuse and mental health services or their value in predicting service outcomes',\n",
       "  'Research has provided an abundance of data on moral distress with limited research to resolve and help negate the detrimental effects of moral distress',\n",
       "  'Depression is a disorder that is highly prevalent nowadays',\n",
       "  'A high prevalence of depression exists among individuals with cancer, which negatively affects their health outcomes, quality of life, and adherence to cancer treatment',\n",
       "  'Many women still die during and following pregnancy and childbirth',\n",
       "  'Due to the high prevalence and adverse consequences, overweight and obesity in children continues to be a major public health concern worldwide',\n",
       "  'Many adolescents and young adults, especially young females, suffer from eating disorders or problematic nutrition behavior',\n",
       "  'Suicide is a significant public health issue'],\n",
       " 'suicide': ['Traditional mental health clinical experiences expose students to an environment that may not prepare them to address mental health needs in hospital settings.',\n",
       "  'There is increasing evidence throughout the world that the negative treatment of pregnant women during labor and delivery can be a barrier to seeking skilled maternity care.',\n",
       "  'The prevalence of mental health difficulties in Northern Ireland (NI) is significantly higher than in England.',\n",
       "  'Early life adversity (ELA) is not uncommon in major depressive disorder (MDD) patients.',\n",
       "  'Research to date has focused on the detrimental effects of negative self-images for individuals with social anxiety disorder (SAD), but the benefits of positive self-images have been neglected.',\n",
       "  'Research indicates some women experiencing depression during pregnancy are dissatisfied with conventional depression treatments due to incomplete effectiveness, dislike of side effects, unsatisfactory experiences with providers and concerns regarding in-utero and breastfeeding safety.',\n",
       "  'Families living with a person with mental illness can experience distress requiring therapeutic interventions.',\n",
       "  'There is a lack of treatment plurality at step 2 of Improving Access to Psychological Therapies (IAPT) services.',\n",
       "  'Disgust is thought to play a prominent role in multiple anxiety disorders and fears, including spider phobia, though little attention has been given to specific treatment strategies that may be effective for multiple disgust-based fears.',\n",
       "  'Depression is an extremely common mental health disorder, with prevalence rates rising.',\n",
       "  'Cognitive behaviour therapy (CBT) and interpersonal psychotherapy (IPT) are the most studied psychotherapies for treatment of depression, but they are rarely directly compared particularly over the longer term.',\n",
       "  'Depression is common in patients with ischaemic heart disease and preoperative depression is a risk factor following coronary artery bypass grafting.',\n",
       "  'Suicide is an under attended public health problem in Bangladesh as there is no central suicide database and no national suicide surveillance system in the country',\n",
       "  'High prevalence rates of psychiatric morbidity have been documented among adolescents within youth correctional institutions in Nigeria',\n",
       "  'Borderline personality disorder (BPD) is one of the most puzzling psychiatric disorders',\n",
       "  'Postnatal depression (PND) is one of the most frequent complications in women of childbearing age in the developed world',\n",
       "  'There is a strong stigma attached to mental disorders preventing those affected from getting psychological help',\n",
       "  'Work attention in employees with schizophrenia is a significant issue in vocational rehabilitation',\n",
       "  'Identifying vulnerability to perinatal depression is an important public health issue',\n",
       "  'Social difficulties are a hallmark of schizophrenia spectrum conditions, yet their background and exact nature remain contested',\n",
       "  'India is experiencing increasing suicides that have much economic impact',\n",
       "  'Shame is a powerful negative emotion, associated with many mental disorders, both as an aetiological factor and as a consequence affecting symptoms, psychological defences and therapeutic outcomes',\n",
       "  'Globally, paternal depression is a neglected and under-researched area',\n",
       "  'The behavioral model of health service use identified health needs, service preferences (predispositions), and service availability (enabling factors) as important predictors, but research has not conceptualized consistently each type of influence nor identified their separate effects on use of substance abuse and mental health services or their value in predicting service outcomes',\n",
       "  'Research has provided an abundance of data on moral distress with limited research to resolve and help negate the detrimental effects of moral distress',\n",
       "  'Depression is a disorder that is highly prevalent nowadays',\n",
       "  'A high prevalence of depression exists among individuals with cancer, which negatively affects their health outcomes, quality of life, and adherence to cancer treatment',\n",
       "  'Many women still die during and following pregnancy and childbirth',\n",
       "  'Suicide is a significant public health issue'],\n",
       " 'stroke': ['Prolonged immobility in the sitting position in the elderly is known to produce venous stasis with leg edema and possible skin changes.',\n",
       "  'Levels of physical activity after stroke are low, despite multiple health benefits.',\n",
       "  'Stroke patients develop compensatory movements due to limitations of ankle dorsiflexion and knee flexion.',\n",
       "  \"Pisa syndrome (PS) or lateral axial dystonia is often seen in patients with Parkinson's disease (PD).\",\n",
       "  'Sequelae after a stroke are common and may lead to disability.',\n",
       "  \"Deficits in motor movement automaticity in Parkinson's disease (PD), especially during multitasking, are early and consistent hallmarks of cognitive function decline, which increases fall risk and reduces quality of life.\",\n",
       "  'Latinas/os with traumatic brain injuries (TBIs) and their caregivers experience worse outcomes than others.',\n",
       "  'Stroke is the leading cause of long-term disability.',\n",
       "  'Intracerebral hemorrhage (ICH) is a major cause of death and disability globally',\n",
       "  'Stroke is the leading cause of mortality and disability worldwide',\n",
       "  'Collection of spatial signals in large numbers has become a routine task in multiple omicsfields, but parsing of these rich data sets still pose certain challenges',\n",
       "  'Among factors potentially contributing to accidents involving heavy vehicles, reverse alarms can be difficult to localize in space, leading to errors in identifying the source of danger',\n",
       "  'Imbalance in elderly is a common problem strictly related to fall',\n",
       "  'Stroke is among the leading causes of acquired disability in the United States, affecting nearly 800,000 Americans annually',\n",
       "  'Spinocerebellar ataxia-2 is one of the most prevalent SCA type across the world and one of the commonest in India',\n",
       "  'Although the potential for complications after endovascular aneurysm repair (EVAR) mandates lifetime follow-up, noncompliance with follow-up has been shown to be as high as 57%',\n",
       "  'Traumatic Brain Injury (TBI) is a major health problem for adults aged 50-65 years',\n",
       "  \"Parkinson's disease (PD) is a neurological disorder, progressive in nature\",\n",
       "  'Anosognosia for hemiplegia (AHP) after stroke is a complex cognitive behavioral disorder that removes awareness of one-sided paralysis (hemiplegia)',\n",
       "  'Although mechanical thrombectomy is a standard endovascular therapy for patients with acute ischemic stroke (AIS), the incidence of and risk factors for contrast-induced nephropathy (CIN) following mechanical thrombectomy are infrequently reported',\n",
       "  'For a traditional vision-based static sign language recognition (SLR) system, arm segmentation is a major factor restricting the accuracy of SLR'],\n",
       " 'disability': ['Prolonged immobility in the sitting position in the elderly is known to produce venous stasis with leg edema and possible skin changes.',\n",
       "  'Levels of physical activity after stroke are low, despite multiple health benefits.',\n",
       "  'Stroke patients develop compensatory movements due to limitations of ankle dorsiflexion and knee flexion.',\n",
       "  \"Pisa syndrome (PS) or lateral axial dystonia is often seen in patients with Parkinson's disease (PD).\",\n",
       "  'Sequelae after a stroke are common and may lead to disability.',\n",
       "  \"Deficits in motor movement automaticity in Parkinson's disease (PD), especially during multitasking, are early and consistent hallmarks of cognitive function decline, which increases fall risk and reduces quality of life.\",\n",
       "  'Latinas/os with traumatic brain injuries (TBIs) and their caregivers experience worse outcomes than others.',\n",
       "  'Stroke is the leading cause of long-term disability.',\n",
       "  'Intracerebral hemorrhage (ICH) is a major cause of death and disability globally',\n",
       "  'Stroke is the leading cause of mortality and disability worldwide',\n",
       "  'Collection of spatial signals in large numbers has become a routine task in multiple omicsfields, but parsing of these rich data sets still pose certain challenges',\n",
       "  'Among factors potentially contributing to accidents involving heavy vehicles, reverse alarms can be difficult to localize in space, leading to errors in identifying the source of danger',\n",
       "  'Imbalance in elderly is a common problem strictly related to fall',\n",
       "  'Stroke is among the leading causes of acquired disability in the United States, affecting nearly 800,000 Americans annually',\n",
       "  'Spinocerebellar ataxia-2 is one of the most prevalent SCA type across the world and one of the commonest in India',\n",
       "  'Although the potential for complications after endovascular aneurysm repair (EVAR) mandates lifetime follow-up, noncompliance with follow-up has been shown to be as high as 57%',\n",
       "  'Traumatic Brain Injury (TBI) is a major health problem for adults aged 50-65 years',\n",
       "  \"Parkinson's disease (PD) is a neurological disorder, progressive in nature\",\n",
       "  'Anosognosia for hemiplegia (AHP) after stroke is a complex cognitive behavioral disorder that removes awareness of one-sided paralysis (hemiplegia)',\n",
       "  'Although mechanical thrombectomy is a standard endovascular therapy for patients with acute ischemic stroke (AIS), the incidence of and risk factors for contrast-induced nephropathy (CIN) following mechanical thrombectomy are infrequently reported',\n",
       "  'For a traditional vision-based static sign language recognition (SLR) system, arm segmentation is a major factor restricting the accuracy of SLR'],\n",
       " 'parkinson': ['Prolonged immobility in the sitting position in the elderly is known to produce venous stasis with leg edema and possible skin changes.',\n",
       "  'Levels of physical activity after stroke are low, despite multiple health benefits.',\n",
       "  'Stroke patients develop compensatory movements due to limitations of ankle dorsiflexion and knee flexion.',\n",
       "  \"Pisa syndrome (PS) or lateral axial dystonia is often seen in patients with Parkinson's disease (PD).\",\n",
       "  'Sequelae after a stroke are common and may lead to disability.',\n",
       "  \"Deficits in motor movement automaticity in Parkinson's disease (PD), especially during multitasking, are early and consistent hallmarks of cognitive function decline, which increases fall risk and reduces quality of life.\",\n",
       "  'Latinas/os with traumatic brain injuries (TBIs) and their caregivers experience worse outcomes than others.',\n",
       "  'Stroke is the leading cause of long-term disability.',\n",
       "  'Intracerebral hemorrhage (ICH) is a major cause of death and disability globally',\n",
       "  'Stroke is the leading cause of mortality and disability worldwide',\n",
       "  'Collection of spatial signals in large numbers has become a routine task in multiple omicsfields, but parsing of these rich data sets still pose certain challenges',\n",
       "  'Among factors potentially contributing to accidents involving heavy vehicles, reverse alarms can be difficult to localize in space, leading to errors in identifying the source of danger',\n",
       "  'Imbalance in elderly is a common problem strictly related to fall',\n",
       "  'Stroke is among the leading causes of acquired disability in the United States, affecting nearly 800,000 Americans annually',\n",
       "  'Spinocerebellar ataxia-2 is one of the most prevalent SCA type across the world and one of the commonest in India',\n",
       "  'Although the potential for complications after endovascular aneurysm repair (EVAR) mandates lifetime follow-up, noncompliance with follow-up has been shown to be as high as 57%',\n",
       "  'Traumatic Brain Injury (TBI) is a major health problem for adults aged 50-65 years',\n",
       "  \"Parkinson's disease (PD) is a neurological disorder, progressive in nature\",\n",
       "  'Anosognosia for hemiplegia (AHP) after stroke is a complex cognitive behavioral disorder that removes awareness of one-sided paralysis (hemiplegia)',\n",
       "  'Although mechanical thrombectomy is a standard endovascular therapy for patients with acute ischemic stroke (AIS), the incidence of and risk factors for contrast-induced nephropathy (CIN) following mechanical thrombectomy are infrequently reported',\n",
       "  'For a traditional vision-based static sign language recognition (SLR) system, arm segmentation is a major factor restricting the accuracy of SLR'],\n",
       " 'pd': ['Prolonged immobility in the sitting position in the elderly is known to produce venous stasis with leg edema and possible skin changes.',\n",
       "  'Levels of physical activity after stroke are low, despite multiple health benefits.',\n",
       "  'Stroke patients develop compensatory movements due to limitations of ankle dorsiflexion and knee flexion.',\n",
       "  \"Pisa syndrome (PS) or lateral axial dystonia is often seen in patients with Parkinson's disease (PD).\",\n",
       "  'Sequelae after a stroke are common and may lead to disability.',\n",
       "  \"Deficits in motor movement automaticity in Parkinson's disease (PD), especially during multitasking, are early and consistent hallmarks of cognitive function decline, which increases fall risk and reduces quality of life.\",\n",
       "  'Latinas/os with traumatic brain injuries (TBIs) and their caregivers experience worse outcomes than others.',\n",
       "  'Stroke is the leading cause of long-term disability.',\n",
       "  'Intracerebral hemorrhage (ICH) is a major cause of death and disability globally',\n",
       "  'Stroke is the leading cause of mortality and disability worldwide',\n",
       "  'Collection of spatial signals in large numbers has become a routine task in multiple omicsfields, but parsing of these rich data sets still pose certain challenges',\n",
       "  'Among factors potentially contributing to accidents involving heavy vehicles, reverse alarms can be difficult to localize in space, leading to errors in identifying the source of danger',\n",
       "  'Imbalance in elderly is a common problem strictly related to fall',\n",
       "  'Stroke is among the leading causes of acquired disability in the United States, affecting nearly 800,000 Americans annually',\n",
       "  'Spinocerebellar ataxia-2 is one of the most prevalent SCA type across the world and one of the commonest in India',\n",
       "  'Although the potential for complications after endovascular aneurysm repair (EVAR) mandates lifetime follow-up, noncompliance with follow-up has been shown to be as high as 57%',\n",
       "  'Traumatic Brain Injury (TBI) is a major health problem for adults aged 50-65 years',\n",
       "  \"Parkinson's disease (PD) is a neurological disorder, progressive in nature\",\n",
       "  'Anosognosia for hemiplegia (AHP) after stroke is a complex cognitive behavioral disorder that removes awareness of one-sided paralysis (hemiplegia)',\n",
       "  'Although mechanical thrombectomy is a standard endovascular therapy for patients with acute ischemic stroke (AIS), the incidence of and risk factors for contrast-induced nephropathy (CIN) following mechanical thrombectomy are infrequently reported',\n",
       "  'For a traditional vision-based static sign language recognition (SLR) system, arm segmentation is a major factor restricting the accuracy of SLR'],\n",
       " 'diabetes': ['Survival rates of out-of-hospital cardiac arrest remain poor.',\n",
       "  'Neuropathy is a common diabetic complication that can result in significant disability.',\n",
       "  'High blood pressure is related to cardiovascular diseases.',\n",
       "  'Single-phase myocardial computed tomography perfusion (CTP) is useful for detecting myocardial ischemia, but determining the optimal scan time is difficult.',\n",
       "  'Distinction of paroxysmal atrial fibrillation (PAF) from non-PAF is important in clinical practice, but this is often difficult at the time of first documented AF.',\n",
       "  'Offspring of women with diabetes in pregnancy are at increased risk of type 2 diabetes mellitus (T2DM), potentially mediated by epigenetic mechanisms.',\n",
       "  'Previous research suggests that computerized interpretation bias modification (IBM) techniques may be useful for modifying thoughts and behaviours relevant to eating pathology; however, little is known about the utility of IBM for decreasing specific eating disorder (ED) symptoms (e.g. bulimia, drive for thinness).',\n",
       "  'Physical activity confers numerous health benefits, yet few adults meet recommended physical activity guidelines.',\n",
       "  'Physical inactivity is the fourth leading risk factor for mortality worldwide and a leading risk factor for type 2 diabetes and cardiovascular disease.',\n",
       "  'Up to 50% of heart failure patients demonstrate aspects of cognitive impairment, including memory deficit.',\n",
       "  'Cardiac arrest due to ischaemia is frequently the first manifestation of cardiovascular disease.',\n",
       "  'Prader-Willi syndrome (PWS) is characterized by excessive adiposity.',\n",
       "  'Low levels of adherence to medication prescribed to treat and manage chronic disease may lead to maladaptive health outcomes.',\n",
       "  'Atherosclerotic disease is a leading cause of morbidity and mortality in adults and is generally thought of as only affecting adults',\n",
       "  'Medication non-adherence is a major contributor to poor outcomes in diabetes',\n",
       "  'The prevalence of type 2 diabetes among Malaysian adults has increased by more than two folds over the past two decades',\n",
       "  'Myocardial ischemia-reperfusion injury (MI-RI) has many adverse complications with high mortality rate',\n",
       "  'Sedentary behaviour in children is related to different health consequences such as overweight and cardio-metabolic diseases that can track into adulthood',\n",
       "  'Obese patients, mainly females, feel uncomfortable and unsatisfied with their physical appearance; they have a wrong perception of their image and consequently diminish their self-esteem, sometimes showing difficulties in functional areas such as work, relationship, social activity',\n",
       "  'Metabolic syndrome is a subclinical status in promoting atherosclerotic cardiovascular disease and type 2 diabetes mellitus',\n",
       "  'Latino preschool children have higher rates of obesity than children from other racial/ethnic backgrounds',\n",
       "  'Hypertension is one of the most common diseases around the world, which is the most risk factor related to cardiovascular disease',\n",
       "  'Developing effective strategies for signaling the pre-disease state of complex diseases, a state with high susceptibility before the disease onset or deterioration, is urgently needed because such state usually followed by a catastrophic transition into a worse stage of disease',\n",
       "  'Renal infarction is a rare and usually underdiagnosed entity',\n",
       "  'A lack of understanding of Acute Coronary Syndrome symptoms and appropriate responses often contribute to delay in seeking medical treatment',\n",
       "  'Diabetic kidney disease (DKD) is 1 of the common microvascular complications of diabetes, and the therapeutic effect of modern medicine on DKD is limited',\n",
       "  '\\xa0Diabetes mellitus (DM) is considered to be a significant public health problem globally',\n",
       "  'Pulmonary arterial hypertension (PAH) was previously considered an illness that affects mostly the young, but now it is also increasingly recognized in the elderly',\n",
       "  'Despite current therapies, acute heart failure (AHF) remains a major public health burden with high rates of in-hospital and post-discharge morbidity and mortality',\n",
       "  'Inflammation is recognized as the key pathological mechanism of type 2 diabetes',\n",
       "  'Youth with type 1 diabetes (T1D) experiencing self-management difficulties are at risk of irreversible long-term health problems and consume a disproportionate amount of health care resources',\n",
       "  'Diabetic Ketoacidosis (DKA) is one of the most commonly encountered diabetic complication emergencies',\n",
       "  'One barrier to effectively treating weight issues among adolescents is that they tend to use social comparison instead of objective measures to evaluate their own health status',\n",
       "  'Chronic kidney disease is a growing global health problem',\n",
       "  'Acute cardiorenal syndrome (CRS) is a common clinical condition associated with adverse outcomes',\n",
       "  'Due to the high prevalence and adverse consequences, overweight and obesity in children continues to be a major public health concern worldwide',\n",
       "  'Many adolescents and young adults, especially young females, suffer from eating disorders or problematic nutrition behavior'],\n",
       " 'diabetic': ['Survival rates of out-of-hospital cardiac arrest remain poor.',\n",
       "  'Neuropathy is a common diabetic complication that can result in significant disability.',\n",
       "  'High blood pressure is related to cardiovascular diseases.',\n",
       "  'Single-phase myocardial computed tomography perfusion (CTP) is useful for detecting myocardial ischemia, but determining the optimal scan time is difficult.',\n",
       "  'Distinction of paroxysmal atrial fibrillation (PAF) from non-PAF is important in clinical practice, but this is often difficult at the time of first documented AF.',\n",
       "  'Offspring of women with diabetes in pregnancy are at increased risk of type 2 diabetes mellitus (T2DM), potentially mediated by epigenetic mechanisms.',\n",
       "  'Up to 50% of heart failure patients demonstrate aspects of cognitive impairment, including memory deficit.',\n",
       "  'Cardiac arrest due to ischaemia is frequently the first manifestation of cardiovascular disease.',\n",
       "  'Atherosclerotic disease is a leading cause of morbidity and mortality in adults and is generally thought of as only affecting adults',\n",
       "  'The prevalence of type 2 diabetes among Malaysian adults has increased by more than two folds over the past two decades',\n",
       "  'Myocardial ischemia-reperfusion injury (MI-RI) has many adverse complications with high mortality rate',\n",
       "  'Metabolic syndrome is a subclinical status in promoting atherosclerotic cardiovascular disease and type 2 diabetes mellitus',\n",
       "  'Hypertension is one of the most common diseases around the world, which is the most risk factor related to cardiovascular disease',\n",
       "  'Developing effective strategies for signaling the pre-disease state of complex diseases, a state with high susceptibility before the disease onset or deterioration, is urgently needed because such state usually followed by a catastrophic transition into a worse stage of disease',\n",
       "  'Renal infarction is a rare and usually underdiagnosed entity',\n",
       "  'A lack of understanding of Acute Coronary Syndrome symptoms and appropriate responses often contribute to delay in seeking medical treatment',\n",
       "  'Diabetic kidney disease (DKD) is 1 of the common microvascular complications of diabetes, and the therapeutic effect of modern medicine on DKD is limited',\n",
       "  '\\xa0Diabetes mellitus (DM) is considered to be a significant public health problem globally',\n",
       "  'Pulmonary arterial hypertension (PAH) was previously considered an illness that affects mostly the young, but now it is also increasingly recognized in the elderly',\n",
       "  'Despite current therapies, acute heart failure (AHF) remains a major public health burden with high rates of in-hospital and post-discharge morbidity and mortality',\n",
       "  'Inflammation is recognized as the key pathological mechanism of type 2 diabetes',\n",
       "  'Diabetic Ketoacidosis (DKA) is one of the most commonly encountered diabetic complication emergencies',\n",
       "  'Chronic kidney disease is a growing global health problem',\n",
       "  'Acute cardiorenal syndrome (CRS) is a common clinical condition associated with adverse outcomes'],\n",
       " 'cardiovascular': ['Survival rates of out-of-hospital cardiac arrest remain poor.',\n",
       "  'Neuropathy is a common diabetic complication that can result in significant disability.',\n",
       "  'High blood pressure is related to cardiovascular diseases.',\n",
       "  'Single-phase myocardial computed tomography perfusion (CTP) is useful for detecting myocardial ischemia, but determining the optimal scan time is difficult.',\n",
       "  'Distinction of paroxysmal atrial fibrillation (PAF) from non-PAF is important in clinical practice, but this is often difficult at the time of first documented AF.',\n",
       "  'Offspring of women with diabetes in pregnancy are at increased risk of type 2 diabetes mellitus (T2DM), potentially mediated by epigenetic mechanisms.',\n",
       "  'Up to 50% of heart failure patients demonstrate aspects of cognitive impairment, including memory deficit.',\n",
       "  'Cardiac arrest due to ischaemia is frequently the first manifestation of cardiovascular disease.',\n",
       "  'Atherosclerotic disease is a leading cause of morbidity and mortality in adults and is generally thought of as only affecting adults',\n",
       "  'The prevalence of type 2 diabetes among Malaysian adults has increased by more than two folds over the past two decades',\n",
       "  'Myocardial ischemia-reperfusion injury (MI-RI) has many adverse complications with high mortality rate',\n",
       "  'Metabolic syndrome is a subclinical status in promoting atherosclerotic cardiovascular disease and type 2 diabetes mellitus',\n",
       "  'Hypertension is one of the most common diseases around the world, which is the most risk factor related to cardiovascular disease',\n",
       "  'Developing effective strategies for signaling the pre-disease state of complex diseases, a state with high susceptibility before the disease onset or deterioration, is urgently needed because such state usually followed by a catastrophic transition into a worse stage of disease',\n",
       "  'Renal infarction is a rare and usually underdiagnosed entity',\n",
       "  'A lack of understanding of Acute Coronary Syndrome symptoms and appropriate responses often contribute to delay in seeking medical treatment',\n",
       "  'Diabetic kidney disease (DKD) is 1 of the common microvascular complications of diabetes, and the therapeutic effect of modern medicine on DKD is limited',\n",
       "  '\\xa0Diabetes mellitus (DM) is considered to be a significant public health problem globally',\n",
       "  'Pulmonary arterial hypertension (PAH) was previously considered an illness that affects mostly the young, but now it is also increasingly recognized in the elderly',\n",
       "  'Despite current therapies, acute heart failure (AHF) remains a major public health burden with high rates of in-hospital and post-discharge morbidity and mortality',\n",
       "  'Inflammation is recognized as the key pathological mechanism of type 2 diabetes',\n",
       "  'Diabetic Ketoacidosis (DKA) is one of the most commonly encountered diabetic complication emergencies',\n",
       "  'Chronic kidney disease is a growing global health problem',\n",
       "  'Acute cardiorenal syndrome (CRS) is a common clinical condition associated with adverse outcomes'],\n",
       " 'myocardial': ['Survival rates of out-of-hospital cardiac arrest remain poor.',\n",
       "  'Neuropathy is a common diabetic complication that can result in significant disability.',\n",
       "  'High blood pressure is related to cardiovascular diseases.',\n",
       "  'Single-phase myocardial computed tomography perfusion (CTP) is useful for detecting myocardial ischemia, but determining the optimal scan time is difficult.',\n",
       "  'Distinction of paroxysmal atrial fibrillation (PAF) from non-PAF is important in clinical practice, but this is often difficult at the time of first documented AF.',\n",
       "  'Offspring of women with diabetes in pregnancy are at increased risk of type 2 diabetes mellitus (T2DM), potentially mediated by epigenetic mechanisms.',\n",
       "  'Up to 50% of heart failure patients demonstrate aspects of cognitive impairment, including memory deficit.',\n",
       "  'Cardiac arrest due to ischaemia is frequently the first manifestation of cardiovascular disease.',\n",
       "  'Atherosclerotic disease is a leading cause of morbidity and mortality in adults and is generally thought of as only affecting adults',\n",
       "  'The prevalence of type 2 diabetes among Malaysian adults has increased by more than two folds over the past two decades',\n",
       "  'Myocardial ischemia-reperfusion injury (MI-RI) has many adverse complications with high mortality rate',\n",
       "  'Metabolic syndrome is a subclinical status in promoting atherosclerotic cardiovascular disease and type 2 diabetes mellitus',\n",
       "  'Hypertension is one of the most common diseases around the world, which is the most risk factor related to cardiovascular disease',\n",
       "  'Developing effective strategies for signaling the pre-disease state of complex diseases, a state with high susceptibility before the disease onset or deterioration, is urgently needed because such state usually followed by a catastrophic transition into a worse stage of disease',\n",
       "  'Renal infarction is a rare and usually underdiagnosed entity',\n",
       "  'A lack of understanding of Acute Coronary Syndrome symptoms and appropriate responses often contribute to delay in seeking medical treatment',\n",
       "  'Diabetic kidney disease (DKD) is 1 of the common microvascular complications of diabetes, and the therapeutic effect of modern medicine on DKD is limited',\n",
       "  '\\xa0Diabetes mellitus (DM) is considered to be a significant public health problem globally',\n",
       "  'Pulmonary arterial hypertension (PAH) was previously considered an illness that affects mostly the young, but now it is also increasingly recognized in the elderly',\n",
       "  'Despite current therapies, acute heart failure (AHF) remains a major public health burden with high rates of in-hospital and post-discharge morbidity and mortality',\n",
       "  'Inflammation is recognized as the key pathological mechanism of type 2 diabetes',\n",
       "  'Diabetic Ketoacidosis (DKA) is one of the most commonly encountered diabetic complication emergencies',\n",
       "  'Chronic kidney disease is a growing global health problem',\n",
       "  'Acute cardiorenal syndrome (CRS) is a common clinical condition associated with adverse outcomes'],\n",
       " 'cancer': ['Tuberous breast (TB) is a rare congenital deformity, which may appear in different clinical forms representing various degrees of a single pathological entity.',\n",
       "  'Odontology practice has been severely compromised by the pandemic caused by COVID-19 and Spain is one of the countries with higher incidence.',\n",
       "  'Cloacal malformation is a spectrum of diseases affecting females, resulting in abnormal confluence of the urinary system, genital system, and/or gastrointestinal system.',\n",
       "  'Recently, microRNA-133b (miR-133b) dysregulation has been shown to play a key role in several human cancers, as well as glioma.',\n",
       "  'In developing countries up to 77% of children with cancer have been shown to be malnourished on admission.',\n",
       "  'Disparities in access to care exist for breast cancer patients, including access to surgeons performing reconstruction.',\n",
       "  'Pediatric brain tumors are the most common solid tumors in children and a leading cause of mortality and morbidity in children worldwide.',\n",
       "  'Although not rare, vascular lesions occurring in the lips sometimes poses a difficult in properly diagnosing and handling them.',\n",
       "  'Previous studies have shown during the orthodontic treatment, the prevalence of active caries lesions (ACL) in 30 to 70% of patients.',\n",
       "  'Infantile hemangiomas (IH) are the most common benign vascular tumors in childhood.',\n",
       "  'Prostate cancer is the most prevalent cancer in males and its incidence is steadily increasing.',\n",
       "  'In metastatic colorectal cancer, no upfront or on-treatment markers are available to determine the prognosis or efficacy for chemotherapy in combination with bevacizumab.',\n",
       "  'Craniofacial clefts are one of the rarest congenital malformations',\n",
       "  'Penile metastases are very rare and arise most frequently from genitourinary cancers',\n",
       "  'Segmental odontomaxillary dysplasia (SOD) is a characteristic developmental abnormality that demonstrates posterior maxillary enlargement, dental abnormalities, altered bone trabeculation, and possible cutaneous findings',\n",
       "  'Segmental odontomaxillary dysplasia is an uncommon nonhereditary growth disorder that affects the maxilla, gums and ipsilateral dentition',\n",
       "  'The etiology of benign prostatic hyperplasia and prostate cancer are unknown, with ageing being the greatness risk factor',\n",
       "  'Primary gastric cancer that presents with peritoneal metastases has few options for successful treatment',\n",
       "  'Penile strangulation is a rarely described medical emergency',\n",
       "  'Colon cancer is the third most deadly and one of the most diagnosed diseases in the world',\n",
       "  'An orbital cystic lesion is a common orbital disease and has classically been approached via external incision',\n",
       "  'Colorectal cancer is one leading cause of cancer-related morbidity and mortality',\n",
       "  'Left ventricle (LV) lipoma is a very rare, benign cardiac tumor',\n",
       "  'Lung cancer is the leading cause of cancer mortality worldwide',\n",
       "  'Gossypiboma is a serious and potentially dangerous medico-legal problem',\n",
       "  'Lung adenocarcinoma (LUAD) is one of the most common malignancies, and is a serious threat to human health',\n",
       "  'Liver hepatocellular carcinoma (HCC) is one of the most malignant tumors, of which prognosis is unsatisfactory in most cases and metastatic of HCC often results in poor prognosis',\n",
       "  'The 1000s of people who die from cancer each year have become one of the leading causes of death among the Chilean population, placing it as the second cause of death in the region of Valparaiso between 1997 and 2003',\n",
       "  'Cholangiocarcinoma (CC) is the second most common primary malignant liver disease',\n",
       "  'Odontomas are the most common benign odontogenic tumors (especially in children and adolescents) and consist of odontogenic ectomesenchyma and odontogenic epithelium with the formation of dental hard tissues',\n",
       "  'Pectus excavatum and carinatum are two of the most commonly observed chest wall deformities in pediatrics',\n",
       "  'Primary brain tumor is a leading cause of death in cancer-bearing children',\n",
       "  'Testicular cancer is the most common malignancy in young men',\n",
       "  'Non-small cell lung cancer (NSCLC) remains the leading cause of cancer death worldwide, although important advances in target therapy have been developed in the past few years',\n",
       "  'Oral Squamous Cell Carcinoma (OSCC) is the most common malignancy of the oral cavity',\n",
       "  'Breast cancer is the most prevalent cancer among women',\n",
       "  'Primary central nervous system lymphoma (PCNSL) is a rare primary brain tumor',\n",
       "  'Vulvar cancer and vaginal cancer are relatively rare tumors, and there had been no established treatment principles or guidelines to treat these rare tumors in Japan',\n",
       "  'Hepatocellular carcinoma (HCC) is an epithelial cancer that originates from hepatocytes and it is the most common primary malignant tumor of the liver',\n",
       "  'Paraurethral cyst is a rare cause of interlabial mass in neonates with an incidence of 1 in every 2000-7000 live births and represents less than 0',\n",
       "  'Prostate cancer (PCa) is a complex disease that disproportionately impacts Black men in the USA',\n",
       "  'Gastric cancer (GC) is general disease in human digestive system with malignancy',\n",
       "  'Coccygodynia is still often considered a\\xa0mystery, and many patients are not taken seriously with their problems and pain',\n",
       "  'Cherubism is a rare genetic disorder that causes prominence in the lower portion in the face',\n",
       "  'Resection of large falcine meningiomas can be challenging as overlaying cortical brain is endangered during the surgical approach',\n",
       "  'The skeleton is one of the frequent site of metastases in advanced cancer',\n",
       "  'Cancer is a major problem which has claimed so many lives throughout the world',\n",
       "  'Oral squamous cell carcinoma (OSCC) is among the most frequent oral cancers in individuals under 40',\n",
       "  'Gastric cancer is one of the most common cancers with unsatisfied prognosis',\n",
       "  'Dental caries has continued to be the major oral disease in the past, as well as the present scenario',\n",
       "  'Cancer is one of the most awful lethal diseases all over the world and the success of its current chemotherapeutic treatment strategies is limited due to several associated drawbacks',\n",
       "  'Arteriovenous malformation (AVM) is a rare vascular lesion that is difficult to treat',\n",
       "  'Pancreatic cancer (PC) remains difficult to treat, despite the recent advances in various anticancer therapies',\n",
       "  'Dental caries and periodontal disease are the most common oral diseases',\n",
       "  'Primary Hepatic Epithelioid Hemangioendothelioma is an extremely rare tumor of vascular origin',\n",
       "  'Preventable deaths resulting from the scourge of breast cancer has become alarming and worrisome in many societies in developing countries, including Nigeria',\n",
       "  'Cancer is the second leading cause of death in the Caribbean, including the islands of Trinidad and Tobago (TT)',\n",
       "  'Urothelial carcinoma (UC) is the most common genitourinary malignancy in China',\n",
       "  'Sirenomelia, also called mermaid syndrome, is a rare lethal multi-system congenital deformity with an incidence of one in 60,000-70,000 pregnancies',\n",
       "  'The incidence of pancreatic adenocarcinoma (PDAC) in patients with chronic pancreatitis (CP) is as high as 5%'],\n",
       " 'skin': ['An otherwise successfully performed endoscopic thoracic sympathectomy (ETS) to treat palmar hyperhidrosis (PH) often has a serious side effect: compensatory sweating (CS).',\n",
       "  'Treatment of benign familial pemphigus or Hailey-Hailey disease (HHD), a rare inherited condition associated with a significant impairment of quality of life, is often challenging and disappointing with frequent relapses and infectious complications.',\n",
       "  'Topical onychomycosis therapies are usually inadequate, and patient compliance to systemic therapies is poor.',\n",
       "  'Mycosis fungoides (MF) is the most frequent type of cutaneous T-cell lymphoma.',\n",
       "  'Dermatophytosis caused by Trichophyton erinacei is a common scaling and crusting skin disease affecting European hedgehogs (Erinaceus europaeus) admitted to wildlife rescue centres.',\n",
       "  'Shave skin biopsies are essential procedures wherein physicians diagnose dermatologic lesions.',\n",
       "  'Acne vulgaris is a common disease of the pilosebaceous unit.',\n",
       "  'Onychomycosis is a common but difficult to treat nail disorder.',\n",
       "  'Ponesimod is currently the only S1P receptor modulator studied in psoriasis.',\n",
       "  'Palmo-axillo-plantar hyperhidrosis (HH) exists in approximately 70% to 100% of patients complaining of HH.',\n",
       "  \"Dupuytren's disease as a\\xa0benign fibroproliferative disease leads to hyperplasia of the collagen fibers of the fascia of the palm, which can result in severe impairment of the functionality of the hand.\",\n",
       "  'Melasma is an acquired refractory pigmentary disorder, which is a skin disease that predominantly affects females.',\n",
       "  'Psoriasis is one of the most prevalent immune mediated skin diseases.',\n",
       "  'Mycetomas are frequent subcutaneous mycoses with typical clinical characteristics such as sinuses, blood-stained, serous, or purulent exudates as well as local swelling.',\n",
       "  'Cow milk allergy (CMA) is the most common food allergy in breastfed infants.',\n",
       "  'Erythematotelangiectatic rosasea is a common,chronic, relapsing disease characterized mainly by vascular components, for which many therapies may exist but with limited efficacy.',\n",
       "  'Actinic cheilitis (AC) is a common, chronic premalignant condition resulting from protracted sun exposure affecting the vermilion border of the lower lip.',\n",
       "  'Hyperhidrosis is a common medical condition which can have a significant impact on quality of life.',\n",
       "  'Psoriasis is associated with dyslipidemia and metabolic syndrome, and has been linked to an increased cardiovascular risk.',\n",
       "  'Rosacea is a common inflammatory facial skin condition.',\n",
       "  'Lichen sclerosus (LS) is a difficult to treat, often relapsing disease with unknown background.',\n",
       "  'Postherpetic itch has not commonly received attention as a complication of herpes zoster because pain predominates over itch in most patients with herpes zoster',\n",
       "  'Primary cutaneous B-cell lymphomas (PCBCLs) are frequently misdiagnosed, and a biopsy is needed to attain the correct diagnosis',\n",
       "  'IgA pemphigus is a rare autoimmune vesiculo-pustular skin disease',\n",
       "  \"Oestrogen dermatitis is a rare disorder characterised by cyclical eruptions in association with a woman's menstrual cycle\",\n",
       "  'Although facial cleanliness is part of the SAFE strategy for trachoma there is controversy over the reliability of measuring a clean face',\n",
       "  'Eczema is a common childhood condition, causing dry and itchy skin which can be difficult to manage',\n",
       "  'Atopic dermatitis (AD) is a common inflammatory skin disease in both adults and children',\n",
       "  'Allergic contact dermatitis is a common occupational skin disease among healthcare workers (HCWs)',\n",
       "  'Background Skin Neglected Tropical Diseases (NTDs) are a group of ten diseases often co-endemic in African rural communities and characterized by primary skin involvement',\n",
       "  \"Grover's disease (GD) is a relatively rare transient dermatosis that can be idiopathic or acquired\",\n",
       "  'Atopic dermatitis is a chronically relapsing inflammatory skin condition that is burdensome for individuals with the disease, their families, and for society as a whole',\n",
       "  \"Hidradenitis suppurativa (HS) is a chronic inflammatory skin disease that severely impairs patients' quality of life (QoL)\",\n",
       "  'Scleromyxedema (SME) is a rare mucinosis associated with monoclonal gammopathy',\n",
       "  'Cutaneous rosai-dorfman(CRDD) is a rare non-langerhans cell histiocytosis with unknown origin',\n",
       "  'Langerhans cell histiocytosis (LCH) is a rare disease primarily occurring in children, and commonly involves the bone and skin; gastrointestinal tract involvement is notably rare',\n",
       "  'Systemic sclerosis (SSc) is a chronic autoimmune disease with multiorgan involvement',\n",
       "  'Partial unilateral lentiginosis (PUL) is a rare acquired circumscribed hyperpigmentation characterized by multiple simple lentigines involving half of the body',\n",
       "  'While the pathogenesis of contact allergy in recent years has increasingly focused on the mechanisms of the innate immune response, valid therapeutic options are still lacking',\n",
       "  'Mycosis fungoides and Sézary syndrome are the most common non-Hodgkin lymphomas that manifest primarily in the skin',\n",
       "  'Sclerochoroidal calcification (SCC), a rare condition found in elderly people, is idiopathic or occasionally secondary to disorders affecting calcium metabolism',\n",
       "  'Black spot is one of the most severe and damaging diseases of garden roses',\n",
       "  'Follicular tumors and cysts are common skin lesions in dogs',\n",
       "  'Sensitization to methylchloroisothiazolinone (MCI) and methylisothiazolinone (MI) is a worldwide problem'],\n",
       " 'infection': ['Resistance of uropathogenic bacteria against the common antibiotics is considerable-especially in the elderly.',\n",
       "  'The train toilet can form a barrier for those wishing to travel by train as it is perceived as being dirty, and therefore its use as being unpleasant.',\n",
       "  'Infection with CMV remains a major cause of morbidity and mortality after allogeneic stem cell transplantation (aSCT).',\n",
       "  'Buruli ulcer (BU), caused by Mycobacterium ulcerans, is increasing in incidence in Victoria, Australia.',\n",
       "  'Urolithiasis has high recurrent rate after surgical removal within 3\\u2009years.',\n",
       "  'Diarrhea is the most frequent morbidity affecting kenneled dogs in animal shelters.',\n",
       "  'Treatment of uremic pruritus (UP) is a big challenge.',\n",
       "  'Uptake of human papillomavirus (HPV) vaccination is suboptimal among some groups.',\n",
       "  'Trying to differentiate serious bacterial infection (SBI) from a self-limiting illness in febrile infants seen in the pediatric emergency department (PED) is a significant challenge.',\n",
       "  'In non-pregnant adults, the incidence of invasive Group B Streptococcus (GBS) disease is continuously increasing.',\n",
       "  'Leprosy is an ancient infectious disease with a global annual incidence that has plateaued above 200,000 new cases since over a decade.',\n",
       "  'Currently, antibiotic-resistant pathogenic bacteria are emerging as an important health problem worldwide',\n",
       "  'Health care workers (HCWs) are globally known to have high risk of tuberculosis (TB) infection while risk factors of TB infections among HCWs are still inconclusive',\n",
       "  'Spa pools (SPs) pose risks of Legionella infection for users and bystanders',\n",
       "  'Urinary Tract Infection (UTI) is one of the most common bacterial infectious diseases which causes considerable morbidity and costly health problems',\n",
       "  'Since the end of the 20th century, dengue has periodically devastated Paraguay',\n",
       "  'Gastrointestinal (GI) parasitic infections cause significant morbidity and mortality in tropical and subtropical countries',\n",
       "  'Pulmonary tuberculosis (PTB) is a major health and economic burden',\n",
       "  'The lack of safe drinking water is a significant public health threat worldwide',\n",
       "  'Pneumococcal conjugate vaccines have reduced the incidence of invasive pneumococcal disease, caused by vaccine serotypes, but non-vaccine-serotypes remain a concern',\n",
       "  'The inappropriate use of antimicrobials for acute infectious diarrhea is widespread and leads to the problem of antimicrobial resistance',\n",
       "  'Rice blast caused by Magnaporthe oryzae is one of the most widespread biotic constraints that threaten rice production',\n",
       "  'Tuberculosis (TB), which is caused by the Mycobacterium tuberculosis, is a serious threat and one of the major health problems worldwide',\n",
       "  'Enteric viruses are responsible for waterborne and foodborne infections affecting a large number of people around the world',\n",
       "  'Coronavirus disease 2019 (COVID-19), a novel pneumonia disease originating in Wuhan, was confirmed by the World Health Organization on January 12, 2020 before becoming an outbreak in all countries',\n",
       "  'Sepsis is a syndrome of life-threatening organ dysfunction caused by a dysregulated host response to infection',\n",
       "  'Rice blast disease is a major restriction in rice production',\n",
       "  'Antimicrobial resistance (AMR) is among the gravest threats to human health and food security worldwide',\n",
       "  'Antimicrobial resistance of Streptococcus pneumoniae, especially against β-lactam antibiotics, is a global concern',\n",
       "  \"Traveller's diarrhoea (TD) is the most common infectious problem for travellers, and we lack effective ways of preventing it, apart from antibiotic prophylaxis\"],\n",
       " 'tuberculosis': ['Resistance of uropathogenic bacteria against the common antibiotics is considerable-especially in the elderly.',\n",
       "  'The train toilet can form a barrier for those wishing to travel by train as it is perceived as being dirty, and therefore its use as being unpleasant.',\n",
       "  'Infection with CMV remains a major cause of morbidity and mortality after allogeneic stem cell transplantation (aSCT).',\n",
       "  'Buruli ulcer (BU), caused by Mycobacterium ulcerans, is increasing in incidence in Victoria, Australia.',\n",
       "  'Urolithiasis has high recurrent rate after surgical removal within 3\\u2009years.',\n",
       "  'Diarrhea is the most frequent morbidity affecting kenneled dogs in animal shelters.',\n",
       "  'Treatment of uremic pruritus (UP) is a big challenge.',\n",
       "  'Uptake of human papillomavirus (HPV) vaccination is suboptimal among some groups.',\n",
       "  'Trying to differentiate serious bacterial infection (SBI) from a self-limiting illness in febrile infants seen in the pediatric emergency department (PED) is a significant challenge.',\n",
       "  'In non-pregnant adults, the incidence of invasive Group B Streptococcus (GBS) disease is continuously increasing.',\n",
       "  'Leprosy is an ancient infectious disease with a global annual incidence that has plateaued above 200,000 new cases since over a decade.',\n",
       "  'Currently, antibiotic-resistant pathogenic bacteria are emerging as an important health problem worldwide',\n",
       "  'Health care workers (HCWs) are globally known to have high risk of tuberculosis (TB) infection while risk factors of TB infections among HCWs are still inconclusive',\n",
       "  'Spa pools (SPs) pose risks of Legionella infection for users and bystanders',\n",
       "  'Urinary Tract Infection (UTI) is one of the most common bacterial infectious diseases which causes considerable morbidity and costly health problems',\n",
       "  'Since the end of the 20th century, dengue has periodically devastated Paraguay',\n",
       "  'Gastrointestinal (GI) parasitic infections cause significant morbidity and mortality in tropical and subtropical countries',\n",
       "  'Pulmonary tuberculosis (PTB) is a major health and economic burden',\n",
       "  'The lack of safe drinking water is a significant public health threat worldwide',\n",
       "  'Pneumococcal conjugate vaccines have reduced the incidence of invasive pneumococcal disease, caused by vaccine serotypes, but non-vaccine-serotypes remain a concern',\n",
       "  'The inappropriate use of antimicrobials for acute infectious diarrhea is widespread and leads to the problem of antimicrobial resistance',\n",
       "  'Rice blast caused by Magnaporthe oryzae is one of the most widespread biotic constraints that threaten rice production',\n",
       "  'Tuberculosis (TB), which is caused by the Mycobacterium tuberculosis, is a serious threat and one of the major health problems worldwide',\n",
       "  'Enteric viruses are responsible for waterborne and foodborne infections affecting a large number of people around the world',\n",
       "  'Coronavirus disease 2019 (COVID-19), a novel pneumonia disease originating in Wuhan, was confirmed by the World Health Organization on January 12, 2020 before becoming an outbreak in all countries',\n",
       "  'Sepsis is a syndrome of life-threatening organ dysfunction caused by a dysregulated host response to infection',\n",
       "  'Rice blast disease is a major restriction in rice production',\n",
       "  'Antimicrobial resistance (AMR) is among the gravest threats to human health and food security worldwide',\n",
       "  'Antimicrobial resistance of Streptococcus pneumoniae, especially against β-lactam antibiotics, is a global concern',\n",
       "  \"Traveller's diarrhoea (TD) is the most common infectious problem for travellers, and we lack effective ways of preventing it, apart from antibiotic prophylaxis\"],\n",
       " 'rice': ['Resistance of uropathogenic bacteria against the common antibiotics is considerable-especially in the elderly.',\n",
       "  'The train toilet can form a barrier for those wishing to travel by train as it is perceived as being dirty, and therefore its use as being unpleasant.',\n",
       "  'Infection with CMV remains a major cause of morbidity and mortality after allogeneic stem cell transplantation (aSCT).',\n",
       "  'Buruli ulcer (BU), caused by Mycobacterium ulcerans, is increasing in incidence in Victoria, Australia.',\n",
       "  'Urolithiasis has high recurrent rate after surgical removal within 3\\u2009years.',\n",
       "  'Diarrhea is the most frequent morbidity affecting kenneled dogs in animal shelters.',\n",
       "  'Treatment of uremic pruritus (UP) is a big challenge.',\n",
       "  'Uptake of human papillomavirus (HPV) vaccination is suboptimal among some groups.',\n",
       "  'Trying to differentiate serious bacterial infection (SBI) from a self-limiting illness in febrile infants seen in the pediatric emergency department (PED) is a significant challenge.',\n",
       "  'In non-pregnant adults, the incidence of invasive Group B Streptococcus (GBS) disease is continuously increasing.',\n",
       "  'Leprosy is an ancient infectious disease with a global annual incidence that has plateaued above 200,000 new cases since over a decade.',\n",
       "  'Currently, antibiotic-resistant pathogenic bacteria are emerging as an important health problem worldwide',\n",
       "  'Health care workers (HCWs) are globally known to have high risk of tuberculosis (TB) infection while risk factors of TB infections among HCWs are still inconclusive',\n",
       "  'Spa pools (SPs) pose risks of Legionella infection for users and bystanders',\n",
       "  'Urinary Tract Infection (UTI) is one of the most common bacterial infectious diseases which causes considerable morbidity and costly health problems',\n",
       "  'Since the end of the 20th century, dengue has periodically devastated Paraguay',\n",
       "  'Gastrointestinal (GI) parasitic infections cause significant morbidity and mortality in tropical and subtropical countries',\n",
       "  'Pulmonary tuberculosis (PTB) is a major health and economic burden',\n",
       "  'The lack of safe drinking water is a significant public health threat worldwide',\n",
       "  'Pneumococcal conjugate vaccines have reduced the incidence of invasive pneumococcal disease, caused by vaccine serotypes, but non-vaccine-serotypes remain a concern',\n",
       "  'The inappropriate use of antimicrobials for acute infectious diarrhea is widespread and leads to the problem of antimicrobial resistance',\n",
       "  'Rice blast caused by Magnaporthe oryzae is one of the most widespread biotic constraints that threaten rice production',\n",
       "  'Tuberculosis (TB), which is caused by the Mycobacterium tuberculosis, is a serious threat and one of the major health problems worldwide',\n",
       "  'Enteric viruses are responsible for waterborne and foodborne infections affecting a large number of people around the world',\n",
       "  'Coronavirus disease 2019 (COVID-19), a novel pneumonia disease originating in Wuhan, was confirmed by the World Health Organization on January 12, 2020 before becoming an outbreak in all countries',\n",
       "  'Sepsis is a syndrome of life-threatening organ dysfunction caused by a dysregulated host response to infection',\n",
       "  'Rice blast disease is a major restriction in rice production',\n",
       "  'Antimicrobial resistance (AMR) is among the gravest threats to human health and food security worldwide',\n",
       "  'Antimicrobial resistance of Streptococcus pneumoniae, especially against β-lactam antibiotics, is a global concern',\n",
       "  \"Traveller's diarrhoea (TD) is the most common infectious problem for travellers, and we lack effective ways of preventing it, apart from antibiotic prophylaxis\"],\n",
       " 'nursing': ['Although care is understood as the essence of nursing, it is often difficult for nurses to provide care, which demonstrates a contradiction between theory and practice.',\n",
       "  'Palliative care health professionals have reported high levels of burnout.',\n",
       "  'HIV negative members of serostatus discordant couples are at high risk for HIV acquisition, but few interventions are in place to target them in sub-Saharan Africa.',\n",
       "  'Interventions found to be effective in research settings are often not as effective when implemented in community settings.',\n",
       "  'Young adults that are not in education, training or employment represent a problem across European countries.',\n",
       "  'Burnout, depression, and suicide among health care professionals and learners have reached a rampant level',\n",
       "  'Little attention is given to the process and impact of poor communicaton on the doctor-patent relationship',\n",
       "  'Sociodemographic subgroup differences in multiple mini-interview (MMI) performance have been extensively studied within the MMI research literature, but heterogeneous findings demand a closer look at how specific aspects of MMI design (such as station type) affect these differences',\n",
       "  'Although prior studies demonstrate that \"soft skills\" are necessary for workplace success, few consider the emphasis faculty place on teaching soft skills',\n",
       "  'The current law on anonymization sets the same standard across all situations, which poses a problem for biomedical research',\n",
       "  'A limited pool of nurse faculty has affected enrollment of nursing students and the ability to produce the nursing workforce needed for the evolving health care system',\n",
       "  'Processing of free text written medical texts involves many difficulties arising from typographical errors, synonyms, and abbreviations occurring in the texts',\n",
       "  'New Zealand (NZ) faces an ongoing shortage of rural medical professionals',\n",
       "  'Americans express a strong preference for participating in decisions regarding their medical care, yet they are often unable to participate in decision-making regarding their end-of-life care',\n",
       "  'Due to their abstract nature and lack of real-world application, theory development and testing are often difficult concepts for PhD students to embrace, especially within a virtual learning environment',\n",
       "  'Incivility in academic workplaces can have detrimental effects on individuals, teams, departments, and the campus community at large',\n",
       "  'Nurse preceptors have varying backgrounds of teaching experience and often cite insufficient preparation as a common reason for difficulties transitioning from the role of clinician to educator',\n",
       "  'The absence of ability and certainty to design and undertake pharmacy practice-based research (PPBR) was a major issue among pharmacists worldwide as reported in previous literature, despite them having an interest in conducting PPBR',\n",
       "  'Incivility is a critical issue in undergraduate nursing education',\n",
       "  'There is growing concern over a future shortfall in provision of UK otolaryngology consultants',\n",
       "  'Misconduct during medical school predicts subsequent fitness to practise (FtP) events in doctors, but relatively little is known about which factors are associated with such issues during undergraduate education',\n",
       "  'Discrimination is a major driver of health disparities among minority groups and can impede the reach of public health programs',\n",
       "  'The UK faces geographical variation in the recruitment of doctors',\n",
       "  'It is believed that poor classroom acoustics leads to lower levels of student learning and exposes teachers vocal folds to greater physical wear and tear',\n",
       "  'Language is a barrier to many patients from refugee backgrounds accessing and receiving quality primary health care',\n",
       "  'The clinical setting creates significant anxiety for students that can decrease their ability to learn',\n",
       "  'Empathy is a professional value difficult to teach and challenging for beginning nursing students to grasp',\n",
       "  'Workplace incivility is a common problem in nursing, and novice nurses are particularly vulnerable to incivility',\n",
       "  'Although recruiting highly qualified, diverse applicants into cardiothoracic surgery remains a national priority, their characteristics remain unknown',\n",
       "  'The population of older adults in America is increasing rapidly, but many prelicensure nursing students do not understand the unique needs of these patients',\n",
       "  \"Given the increasing ethnic and cultural diversity of populations in different countries, culturally sensitive instruments are needed to evaluate people's attitudes, perceptions, and health practices\",\n",
       "  'As the responsibilities of nurse leaders become increasingly complex, there is concern that job satisfaction is becoming more difficult, and burnout and attrition more common',\n",
       "  \"When advanced practice nurses (APNs) encounter the need to address a bereaved individual's spirituality, gaps in educational preparation may prevent effective intervention\",\n",
       "  'There are few opportunities for nurse practitioner (NP) students to develop relationships and exchange ideas with international counterparts',\n",
       "  'The need to recruit and retain health care providers remains a concern in rural communities',\n",
       "  'Research has shown that discrimination is harmful to health, but there is relatively little known about discrimination experienced by people from refugee and asylum-seeking backgrounds in resettlement countries and associated health effects',\n",
       "  'Research findings have revealed that some students are not prepared to face the challenges associated with online learning, and attrition rates have been found to be a major concern',\n",
       "  'Despite the highly selective admission processes utilised by medical schools, a significant cohort of medical students still face academic difficulties and are at a higher risk of delayed graduation or outright dismissal',\n",
       "  'The role of the advanced nurse practitioner (ANP) is not regulated in the UK, which has led to wide variation in the skills, competencies and academic qualifications of nurses using this title',\n",
       "  'Patient advocacy is central to the nursing profession yet a sense of certainty about the concept, its meaning and its implications for nursing practice remains elusive',\n",
       "  'Recruitment of participants from all population groups is a known challenge in social epidemiological research',\n",
       "  'Bullying in the workplace is a serious public health issue'],\n",
       " 'students': ['Although care is understood as the essence of nursing, it is often difficult for nurses to provide care, which demonstrates a contradiction between theory and practice.',\n",
       "  'Palliative care health professionals have reported high levels of burnout.',\n",
       "  'HIV negative members of serostatus discordant couples are at high risk for HIV acquisition, but few interventions are in place to target them in sub-Saharan Africa.',\n",
       "  'Interventions found to be effective in research settings are often not as effective when implemented in community settings.',\n",
       "  'Young adults that are not in education, training or employment represent a problem across European countries.',\n",
       "  'Burnout, depression, and suicide among health care professionals and learners have reached a rampant level',\n",
       "  'Little attention is given to the process and impact of poor communicaton on the doctor-patent relationship',\n",
       "  'Sociodemographic subgroup differences in multiple mini-interview (MMI) performance have been extensively studied within the MMI research literature, but heterogeneous findings demand a closer look at how specific aspects of MMI design (such as station type) affect these differences',\n",
       "  'Although prior studies demonstrate that \"soft skills\" are necessary for workplace success, few consider the emphasis faculty place on teaching soft skills',\n",
       "  'The current law on anonymization sets the same standard across all situations, which poses a problem for biomedical research',\n",
       "  'A limited pool of nurse faculty has affected enrollment of nursing students and the ability to produce the nursing workforce needed for the evolving health care system',\n",
       "  'Processing of free text written medical texts involves many difficulties arising from typographical errors, synonyms, and abbreviations occurring in the texts',\n",
       "  'New Zealand (NZ) faces an ongoing shortage of rural medical professionals',\n",
       "  'Americans express a strong preference for participating in decisions regarding their medical care, yet they are often unable to participate in decision-making regarding their end-of-life care',\n",
       "  'Due to their abstract nature and lack of real-world application, theory development and testing are often difficult concepts for PhD students to embrace, especially within a virtual learning environment',\n",
       "  'Incivility in academic workplaces can have detrimental effects on individuals, teams, departments, and the campus community at large',\n",
       "  'Nurse preceptors have varying backgrounds of teaching experience and often cite insufficient preparation as a common reason for difficulties transitioning from the role of clinician to educator',\n",
       "  'The absence of ability and certainty to design and undertake pharmacy practice-based research (PPBR) was a major issue among pharmacists worldwide as reported in previous literature, despite them having an interest in conducting PPBR',\n",
       "  'Incivility is a critical issue in undergraduate nursing education',\n",
       "  'There is growing concern over a future shortfall in provision of UK otolaryngology consultants',\n",
       "  'Misconduct during medical school predicts subsequent fitness to practise (FtP) events in doctors, but relatively little is known about which factors are associated with such issues during undergraduate education',\n",
       "  'Discrimination is a major driver of health disparities among minority groups and can impede the reach of public health programs',\n",
       "  'The UK faces geographical variation in the recruitment of doctors',\n",
       "  'It is believed that poor classroom acoustics leads to lower levels of student learning and exposes teachers vocal folds to greater physical wear and tear',\n",
       "  'Language is a barrier to many patients from refugee backgrounds accessing and receiving quality primary health care',\n",
       "  'The clinical setting creates significant anxiety for students that can decrease their ability to learn',\n",
       "  'Empathy is a professional value difficult to teach and challenging for beginning nursing students to grasp',\n",
       "  'Workplace incivility is a common problem in nursing, and novice nurses are particularly vulnerable to incivility',\n",
       "  'Although recruiting highly qualified, diverse applicants into cardiothoracic surgery remains a national priority, their characteristics remain unknown',\n",
       "  'The population of older adults in America is increasing rapidly, but many prelicensure nursing students do not understand the unique needs of these patients',\n",
       "  \"Given the increasing ethnic and cultural diversity of populations in different countries, culturally sensitive instruments are needed to evaluate people's attitudes, perceptions, and health practices\",\n",
       "  'As the responsibilities of nurse leaders become increasingly complex, there is concern that job satisfaction is becoming more difficult, and burnout and attrition more common',\n",
       "  \"When advanced practice nurses (APNs) encounter the need to address a bereaved individual's spirituality, gaps in educational preparation may prevent effective intervention\",\n",
       "  'There are few opportunities for nurse practitioner (NP) students to develop relationships and exchange ideas with international counterparts',\n",
       "  'The need to recruit and retain health care providers remains a concern in rural communities',\n",
       "  'Research has shown that discrimination is harmful to health, but there is relatively little known about discrimination experienced by people from refugee and asylum-seeking backgrounds in resettlement countries and associated health effects',\n",
       "  'Research findings have revealed that some students are not prepared to face the challenges associated with online learning, and attrition rates have been found to be a major concern',\n",
       "  'Despite the highly selective admission processes utilised by medical schools, a significant cohort of medical students still face academic difficulties and are at a higher risk of delayed graduation or outright dismissal',\n",
       "  'The role of the advanced nurse practitioner (ANP) is not regulated in the UK, which has led to wide variation in the skills, competencies and academic qualifications of nurses using this title',\n",
       "  'Patient advocacy is central to the nursing profession yet a sense of certainty about the concept, its meaning and its implications for nursing practice remains elusive',\n",
       "  'Recruitment of participants from all population groups is a known challenge in social epidemiological research',\n",
       "  'Bullying in the workplace is a serious public health issue'],\n",
       " 'eating': ['Previous research suggests that computerized interpretation bias modification (IBM) techniques may be useful for modifying thoughts and behaviours relevant to eating pathology; however, little is known about the utility of IBM for decreasing specific eating disorder (ED) symptoms (e.g. bulimia, drive for thinness).',\n",
       "  'Physical activity confers numerous health benefits, yet few adults meet recommended physical activity guidelines.',\n",
       "  'Physical inactivity is the fourth leading risk factor for mortality worldwide and a leading risk factor for type 2 diabetes and cardiovascular disease.',\n",
       "  'Prader-Willi syndrome (PWS) is characterized by excessive adiposity.',\n",
       "  'Low levels of adherence to medication prescribed to treat and manage chronic disease may lead to maladaptive health outcomes.',\n",
       "  'Medication non-adherence is a major contributor to poor outcomes in diabetes',\n",
       "  'Sedentary behaviour in children is related to different health consequences such as overweight and cardio-metabolic diseases that can track into adulthood',\n",
       "  'Obese patients, mainly females, feel uncomfortable and unsatisfied with their physical appearance; they have a wrong perception of their image and consequently diminish their self-esteem, sometimes showing difficulties in functional areas such as work, relationship, social activity',\n",
       "  'Latino preschool children have higher rates of obesity than children from other racial/ethnic backgrounds',\n",
       "  'Youth with type 1 diabetes (T1D) experiencing self-management difficulties are at risk of irreversible long-term health problems and consume a disproportionate amount of health care resources',\n",
       "  'One barrier to effectively treating weight issues among adolescents is that they tend to use social comparison instead of objective measures to evaluate their own health status',\n",
       "  'Due to the high prevalence and adverse consequences, overweight and obesity in children continues to be a major public health concern worldwide',\n",
       "  'Many adolescents and young adults, especially young females, suffer from eating disorders or problematic nutrition behavior'],\n",
       " 'children': ['Previous research suggests that computerized interpretation bias modification (IBM) techniques may be useful for modifying thoughts and behaviours relevant to eating pathology; however, little is known about the utility of IBM for decreasing specific eating disorder (ED) symptoms (e.g. bulimia, drive for thinness).',\n",
       "  'Physical activity confers numerous health benefits, yet few adults meet recommended physical activity guidelines.',\n",
       "  'Physical inactivity is the fourth leading risk factor for mortality worldwide and a leading risk factor for type 2 diabetes and cardiovascular disease.',\n",
       "  'Prader-Willi syndrome (PWS) is characterized by excessive adiposity.',\n",
       "  'Low levels of adherence to medication prescribed to treat and manage chronic disease may lead to maladaptive health outcomes.',\n",
       "  'Medication non-adherence is a major contributor to poor outcomes in diabetes',\n",
       "  'Sedentary behaviour in children is related to different health consequences such as overweight and cardio-metabolic diseases that can track into adulthood',\n",
       "  'Obese patients, mainly females, feel uncomfortable and unsatisfied with their physical appearance; they have a wrong perception of their image and consequently diminish their self-esteem, sometimes showing difficulties in functional areas such as work, relationship, social activity',\n",
       "  'Latino preschool children have higher rates of obesity than children from other racial/ethnic backgrounds',\n",
       "  'Youth with type 1 diabetes (T1D) experiencing self-management difficulties are at risk of irreversible long-term health problems and consume a disproportionate amount of health care resources',\n",
       "  'One barrier to effectively treating weight issues among adolescents is that they tend to use social comparison instead of objective measures to evaluate their own health status',\n",
       "  'Due to the high prevalence and adverse consequences, overweight and obesity in children continues to be a major public health concern worldwide',\n",
       "  'Many adolescents and young adults, especially young females, suffer from eating disorders or problematic nutrition behavior'],\n",
       " 'overweight': ['Previous research suggests that computerized interpretation bias modification (IBM) techniques may be useful for modifying thoughts and behaviours relevant to eating pathology; however, little is known about the utility of IBM for decreasing specific eating disorder (ED) symptoms (e.g. bulimia, drive for thinness).',\n",
       "  'Physical activity confers numerous health benefits, yet few adults meet recommended physical activity guidelines.',\n",
       "  'Physical inactivity is the fourth leading risk factor for mortality worldwide and a leading risk factor for type 2 diabetes and cardiovascular disease.',\n",
       "  'Prader-Willi syndrome (PWS) is characterized by excessive adiposity.',\n",
       "  'Low levels of adherence to medication prescribed to treat and manage chronic disease may lead to maladaptive health outcomes.',\n",
       "  'Medication non-adherence is a major contributor to poor outcomes in diabetes',\n",
       "  'Sedentary behaviour in children is related to different health consequences such as overweight and cardio-metabolic diseases that can track into adulthood',\n",
       "  'Obese patients, mainly females, feel uncomfortable and unsatisfied with their physical appearance; they have a wrong perception of their image and consequently diminish their self-esteem, sometimes showing difficulties in functional areas such as work, relationship, social activity',\n",
       "  'Latino preschool children have higher rates of obesity than children from other racial/ethnic backgrounds',\n",
       "  'Youth with type 1 diabetes (T1D) experiencing self-management difficulties are at risk of irreversible long-term health problems and consume a disproportionate amount of health care resources',\n",
       "  'One barrier to effectively treating weight issues among adolescents is that they tend to use social comparison instead of objective measures to evaluate their own health status',\n",
       "  'Due to the high prevalence and adverse consequences, overweight and obesity in children continues to be a major public health concern worldwide',\n",
       "  'Many adolescents and young adults, especially young females, suffer from eating disorders or problematic nutrition behavior'],\n",
       " 'adherence': ['Previous research suggests that computerized interpretation bias modification (IBM) techniques may be useful for modifying thoughts and behaviours relevant to eating pathology; however, little is known about the utility of IBM for decreasing specific eating disorder (ED) symptoms (e.g. bulimia, drive for thinness).',\n",
       "  'Physical activity confers numerous health benefits, yet few adults meet recommended physical activity guidelines.',\n",
       "  'Physical inactivity is the fourth leading risk factor for mortality worldwide and a leading risk factor for type 2 diabetes and cardiovascular disease.',\n",
       "  'Prader-Willi syndrome (PWS) is characterized by excessive adiposity.',\n",
       "  'Low levels of adherence to medication prescribed to treat and manage chronic disease may lead to maladaptive health outcomes.',\n",
       "  'Medication non-adherence is a major contributor to poor outcomes in diabetes',\n",
       "  'Sedentary behaviour in children is related to different health consequences such as overweight and cardio-metabolic diseases that can track into adulthood',\n",
       "  'Obese patients, mainly females, feel uncomfortable and unsatisfied with their physical appearance; they have a wrong perception of their image and consequently diminish their self-esteem, sometimes showing difficulties in functional areas such as work, relationship, social activity',\n",
       "  'Latino preschool children have higher rates of obesity than children from other racial/ethnic backgrounds',\n",
       "  'Youth with type 1 diabetes (T1D) experiencing self-management difficulties are at risk of irreversible long-term health problems and consume a disproportionate amount of health care resources',\n",
       "  'One barrier to effectively treating weight issues among adolescents is that they tend to use social comparison instead of objective measures to evaluate their own health status',\n",
       "  'Due to the high prevalence and adverse consequences, overweight and obesity in children continues to be a major public health concern worldwide',\n",
       "  'Many adolescents and young adults, especially young females, suffer from eating disorders or problematic nutrition behavior'],\n",
       " 'obesity': ['Previous research suggests that computerized interpretation bias modification (IBM) techniques may be useful for modifying thoughts and behaviours relevant to eating pathology; however, little is known about the utility of IBM for decreasing specific eating disorder (ED) symptoms (e.g. bulimia, drive for thinness).',\n",
       "  'Physical activity confers numerous health benefits, yet few adults meet recommended physical activity guidelines.',\n",
       "  'Physical inactivity is the fourth leading risk factor for mortality worldwide and a leading risk factor for type 2 diabetes and cardiovascular disease.',\n",
       "  'Prader-Willi syndrome (PWS) is characterized by excessive adiposity.',\n",
       "  'Low levels of adherence to medication prescribed to treat and manage chronic disease may lead to maladaptive health outcomes.',\n",
       "  'Medication non-adherence is a major contributor to poor outcomes in diabetes',\n",
       "  'Sedentary behaviour in children is related to different health consequences such as overweight and cardio-metabolic diseases that can track into adulthood',\n",
       "  'Obese patients, mainly females, feel uncomfortable and unsatisfied with their physical appearance; they have a wrong perception of their image and consequently diminish their self-esteem, sometimes showing difficulties in functional areas such as work, relationship, social activity',\n",
       "  'Latino preschool children have higher rates of obesity than children from other racial/ethnic backgrounds',\n",
       "  'Youth with type 1 diabetes (T1D) experiencing self-management difficulties are at risk of irreversible long-term health problems and consume a disproportionate amount of health care resources',\n",
       "  'One barrier to effectively treating weight issues among adolescents is that they tend to use social comparison instead of objective measures to evaluate their own health status',\n",
       "  'Due to the high prevalence and adverse consequences, overweight and obesity in children continues to be a major public health concern worldwide',\n",
       "  'Many adolescents and young adults, especially young females, suffer from eating disorders or problematic nutrition behavior'],\n",
       " 'medication': ['Previous research suggests that computerized interpretation bias modification (IBM) techniques may be useful for modifying thoughts and behaviours relevant to eating pathology; however, little is known about the utility of IBM for decreasing specific eating disorder (ED) symptoms (e.g. bulimia, drive for thinness).',\n",
       "  'Physical activity confers numerous health benefits, yet few adults meet recommended physical activity guidelines.',\n",
       "  'Physical inactivity is the fourth leading risk factor for mortality worldwide and a leading risk factor for type 2 diabetes and cardiovascular disease.',\n",
       "  'Prader-Willi syndrome (PWS) is characterized by excessive adiposity.',\n",
       "  'Low levels of adherence to medication prescribed to treat and manage chronic disease may lead to maladaptive health outcomes.',\n",
       "  'Medication non-adherence is a major contributor to poor outcomes in diabetes',\n",
       "  'Sedentary behaviour in children is related to different health consequences such as overweight and cardio-metabolic diseases that can track into adulthood',\n",
       "  'Obese patients, mainly females, feel uncomfortable and unsatisfied with their physical appearance; they have a wrong perception of their image and consequently diminish their self-esteem, sometimes showing difficulties in functional areas such as work, relationship, social activity',\n",
       "  'Latino preschool children have higher rates of obesity than children from other racial/ethnic backgrounds',\n",
       "  'Youth with type 1 diabetes (T1D) experiencing self-management difficulties are at risk of irreversible long-term health problems and consume a disproportionate amount of health care resources',\n",
       "  'One barrier to effectively treating weight issues among adolescents is that they tend to use social comparison instead of objective measures to evaluate their own health status',\n",
       "  'Due to the high prevalence and adverse consequences, overweight and obesity in children continues to be a major public health concern worldwide',\n",
       "  'Many adolescents and young adults, especially young females, suffer from eating disorders or problematic nutrition behavior']}"
      ]
     },
     "execution_count": 21,
     "metadata": {},
     "output_type": "execute_result"
    }
   ],
   "source": [
    "td"
   ]
  },
  {
   "cell_type": "code",
   "execution_count": null,
   "id": "64005cee",
   "metadata": {},
   "outputs": [],
   "source": [
    "import json\n",
    "\n",
    "with open(\"topic_dict.json\", \"w\") as f:\n",
    "    json.dump(topic_dict, f)"
   ]
  },
  {
   "cell_type": "markdown",
   "id": "e1aa4f10",
   "metadata": {},
   "source": [
    "## Hierachy by source text overlap\n"
   ]
  },
  {
   "cell_type": "code",
   "execution_count": 22,
   "id": "e855e3dc",
   "metadata": {},
   "outputs": [],
   "source": [
    "#take td\n",
    "#if there's overlap of t1 and t2 t1 is parent if t2 has less of the sources (and 80%+) of t2 sources are in t1 (otherwise duplicate or not that realted))"
   ]
  },
  {
   "cell_type": "code",
   "execution_count": 30,
   "id": "ccc75000",
   "metadata": {},
   "outputs": [],
   "source": [
    "from itertools import combinations\n",
    "\n",
    "topic_pairs = combinations(td.keys(), 2)\n"
   ]
  },
  {
   "cell_type": "code",
   "execution_count": 31,
   "id": "5dc7e2e8",
   "metadata": {},
   "outputs": [
    {
     "data": {
      "text/plain": [
       "2"
      ]
     },
     "execution_count": 31,
     "metadata": {},
     "output_type": "execute_result"
    }
   ],
   "source": [
    "len({1,2})"
   ]
  },
  {
   "cell_type": "code",
   "execution_count": null,
   "id": "f0cdad29",
   "metadata": {},
   "outputs": [],
   "source": [
    "overlap_coef = 0.8\n",
    "for t1,t2 in topic_pairs:\n",
    "    s1 = set(td[t1])\n",
    "    s2 = set(td[t2])\n",
    "    l1 = len(s1)\n",
    "    l2 = len(s2)\n",
    "    small = min(len(s1), len(s2))\n",
    "\n",
    "    common = s1.intersect(s2) #order doesn't matter\n",
    "    \n",
    "    c1 = len(s1.intersect(common))\n",
    "    c2 = len(s2.intersect(common))\n",
    "    #either unrelated, duplicate, or hypernomy\n",
    "    if l1 > l2:\n",
    "        \n",
    "        \n",
    "        \n",
    "    #if t1 has much more sources than t2"
   ]
  },
  {
   "cell_type": "code",
   "execution_count": 23,
   "id": "8d9ad21e",
   "metadata": {},
   "outputs": [
    {
     "name": "stdout",
     "output_type": "stream",
     "text": [
      "disease\n",
      "inflammatory\n",
      "gastrointestinal\n",
      "esophageal\n",
      "eosinophilic\n",
      "diseases\n",
      "disorders\n",
      "depression\n",
      "mental\n",
      "health\n",
      "suicide\n",
      "stroke\n",
      "disability\n",
      "parkinson\n",
      "pd\n",
      "diabetes\n",
      "diabetic\n",
      "cardiovascular\n",
      "myocardial\n",
      "cancer\n",
      "skin\n",
      "infection\n",
      "tuberculosis\n",
      "rice\n",
      "nursing\n",
      "students\n",
      "eating\n",
      "children\n",
      "overweight\n",
      "adherence\n",
      "obesity\n",
      "medication\n"
     ]
    }
   ],
   "source": [
    "\n",
    "for topic, sources in td.items():\n",
    "    #every combination gets overlaps\n",
    "    "
   ]
  },
  {
   "cell_type": "code",
   "execution_count": null,
   "id": "824533e9",
   "metadata": {},
   "outputs": [],
   "source": []
  }
 ],
 "metadata": {
  "kernelspec": {
   "display_name": "conda_python3",
   "language": "python",
   "name": "conda_python3"
  },
  "language_info": {
   "codemirror_mode": {
    "name": "ipython",
    "version": 3
   },
   "file_extension": ".py",
   "mimetype": "text/x-python",
   "name": "python",
   "nbconvert_exporter": "python",
   "pygments_lexer": "ipython3",
   "version": "3.6.13"
  }
 },
 "nbformat": 4,
 "nbformat_minor": 5
}
