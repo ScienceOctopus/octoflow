{
 "cells": [
  {
   "cell_type": "markdown",
   "id": "f546ce0d",
   "metadata": {},
   "source": [
    "# Recursive Clustering and Summarization\n",
    "\n",
    "Plan:\n",
    "- recursively cluster collections\n",
    "- create tree of clusters (the HDBSCAN does this anyways but likely not as we want)\n",
    "- cluster until max-depth is reached or (better) until each leaf only has one \"plausible\" cluster (based on thresholds or probabilities)\n",
    "- try summarizing to get \"main idea\" out of cluster\n",
    "\n",
    "\n",
    "- cluster on keywords ( randomize all grammar + stop words )\n",
    "- topic clusters\n",
    "- context: title, abstract, etc. keywords\n",
    "\n"
   ]
  },
  {
   "cell_type": "markdown",
   "id": "e5cff949",
   "metadata": {},
   "source": [
    "## Recursively cluster \n",
    "\n",
    "Based on the topic_clustering notebook, we will try with Agglomerative Clustering "
   ]
  },
  {
   "cell_type": "code",
   "execution_count": 1,
   "id": "c05492da",
   "metadata": {},
   "outputs": [],
   "source": [
    "import pandas as pd\n",
    "\n",
    "df = pd.read_csv(\"downloads/40k_balanced_pm_acl.csv\")#.sample(frac=0.5)"
   ]
  },
  {
   "cell_type": "code",
   "execution_count": null,
   "id": "e93a6584",
   "metadata": {},
   "outputs": [],
   "source": [
    "pos = df[df.labels == 1]\n",
    "\n",
    "\n",
    "sentences = list(pos[\"text\"]) #otherwise key error"
   ]
  },
  {
   "cell_type": "code",
   "execution_count": null,
   "id": "40fcd733",
   "metadata": {},
   "outputs": [],
   "source": []
  },
  {
   "cell_type": "code",
   "execution_count": null,
   "id": "8ff919fa",
   "metadata": {},
   "outputs": [],
   "source": [
    "pos_h = pos[pos[\"source\"].isin([\"Oct1_clinical_studies_pm\",'oct3_labels', 'labels_oct7'])]"
   ]
  },
  {
   "cell_type": "code",
   "execution_count": null,
   "id": "0cbbc5d1",
   "metadata": {},
   "outputs": [],
   "source": [
    "sents_h = list(pos_h[\"text\"]) #otherwise key error"
   ]
  },
  {
   "cell_type": "code",
   "execution_count": null,
   "id": "50092f4b",
   "metadata": {},
   "outputs": [],
   "source": [
    "from sentence_transformers import SentenceTransformer, util\n",
    "\n",
    "print(\"Encode the corpus ... get a coffee in the meantime\")\n",
    "model = SentenceTransformer('sentence-transformers/all-mpnet-base-v2')\n",
    "embeddings = model.encode(sentences, batch_size=64, show_progress_bar=True, convert_to_tensor=True)"
   ]
  },
  {
   "cell_type": "code",
   "execution_count": null,
   "id": "54bd8422",
   "metadata": {},
   "outputs": [],
   "source": [
    "len(embeddings)"
   ]
  },
  {
   "cell_type": "code",
   "execution_count": null,
   "id": "8df1090b",
   "metadata": {},
   "outputs": [],
   "source": [
    "from sklearn.cluster import AgglomerativeClustering\n",
    "import numpy as np\n",
    "\n",
    "def cluster(embeddings, **kwargs):\n",
    "    embeddings = embeddings.cpu()\n",
    "    # Normalize the embeddings to unit length\n",
    "    corpus_embeddings = embeddings /  np.linalg.norm(embeddings, axis=1, keepdims=True)\n",
    "\n",
    "    # Perform kmean clustering\n",
    "    clustering_model = AgglomerativeClustering(**kwargs) #, affinity='cosine', linkage='average', distance_threshold=0.4)\n",
    "    clustering_model.fit(corpus_embeddings)\n",
    "   # cluster_assignment = clustering_model.labels_\n",
    "    return clustering_model"
   ]
  },
  {
   "cell_type": "code",
   "execution_count": null,
   "id": "85d06ec6",
   "metadata": {},
   "outputs": [],
   "source": [
    "def get_clusters(clustering_model):\n",
    "    \n",
    "    clusters = {}\n",
    "    for sentence_id, cluster_id in enumerate(clustering_model.labels_):\n",
    "        if cluster_id not in clusters:\n",
    "            clusters[cluster_id] = []\n",
    "        try:\n",
    "            clusters[cluster_id].append(sentences[sentence_id])\n",
    "        except:\n",
    "            print(sentence_id, \"sentence_id\")\n",
    "    return clusters\n",
    "   \n",
    "#     for i, cluster in clustered_sentences.items():\n",
    "#         print(\"Cluster \", i+1)\n",
    "#         print(cluster)\n",
    "#         print(\"\\n\")"
   ]
  },
  {
   "cell_type": "code",
   "execution_count": null,
   "id": "f408bc66",
   "metadata": {},
   "outputs": [],
   "source": []
  },
  {
   "cell_type": "code",
   "execution_count": null,
   "id": "e362a9e0",
   "metadata": {},
   "outputs": [],
   "source": [
    "sample = embeddings"
   ]
  },
  {
   "cell_type": "code",
   "execution_count": null,
   "id": "187ffad2",
   "metadata": {},
   "outputs": [],
   "source": [
    "cluster_model = cluster(sample, n_clusters=None, distance_threshold=1.4)"
   ]
  },
  {
   "cell_type": "markdown",
   "id": "1edc86bc",
   "metadata": {},
   "source": [
    "Cluster Model attributes\n",
    "\n",
    "   n_clusters_ : int\n",
    "        The number of clusters found by the algorithm. If\n",
    "        ``distance_threshold=None``, it will be equal to the given\n",
    "        ``n_clusters``.\n",
    "\n",
    "    labels_\n",
    "    n_leaves_\n",
    "\n",
    "    n_connected_components_ : The estimated number of connected components in the graph.\n",
    "\n",
    "    children_ : array-like of shape (n_samples-1, 2)\n",
    "        The children of each non-leaf node. Values less than `n_samples`\n",
    "        correspond to leaves of the tree which are the original samples.\n",
    "        A node `i` greater than or equal to `n_samples` is a non-leaf\n",
    "        node and has children `children_[i - n_samples]`. Alternatively\n",
    "        at the i-th iteration, children[i][0] and children[i][1]\n",
    "        are merged to form node `n_samples + i`\n",
    "\n",
    "    distances_ : array-like of shape (n_nodes-1,)\n",
    "        Distances between nodes in the corresponding place in `children_`.\n",
    "        Only computed if `distance_threshold` is used or `compute_distances`\n",
    "        is set to `True`."
   ]
  },
  {
   "cell_type": "code",
   "execution_count": null,
   "id": "fdfbde92",
   "metadata": {},
   "outputs": [],
   "source": [
    "# import itertools\n",
    "\n",
    "# ii = itertools.count(sample.shape[0])\n",
    "# [{'node_id': next(ii), 'left': x[0], 'right':x[1]} for x in cluster_model.children_]"
   ]
  },
  {
   "cell_type": "code",
   "execution_count": null,
   "id": "7cbb5293",
   "metadata": {},
   "outputs": [],
   "source": [
    "len(get_clusters(cluster_model).keys())"
   ]
  },
  {
   "cell_type": "code",
   "execution_count": null,
   "id": "c6e77e08",
   "metadata": {},
   "outputs": [],
   "source": [
    "clusters = get_clusters(cluster_model)"
   ]
  },
  {
   "cell_type": "code",
   "execution_count": null,
   "id": "dc36e6a2",
   "metadata": {},
   "outputs": [],
   "source": [
    "import matplotlib.pyplot as plt\n",
    "\n",
    "for thresh in [1, 1.2, 1.4, 1.8]:\n",
    "    cluster_model = cluster(sample, n_clusters=None, distance_threshold=thresh)\n",
    "    plt.hist([len(v) for v in get_clusters(cluster_model).values()], bins='auto', label=str(thresh))\n",
    "    plt.title(\"Threshold \" + str(thresh))"
   ]
  },
  {
   "cell_type": "code",
   "execution_count": null,
   "id": "09eafe43",
   "metadata": {},
   "outputs": [],
   "source": [
    "def collection_to_clusters(texts, model=model,  **kwargs):\n",
    "    embs = model.encode(texts, batch_size=64, show_progress_bar=True, convert_to_tensor=True)\n",
    "    cluster_model = cluster(embs, **kwargs)\n",
    "    return get_clusters(cluster_model).values()"
   ]
  },
  {
   "cell_type": "code",
   "execution_count": null,
   "id": "d4099bd6",
   "metadata": {},
   "outputs": [],
   "source": [
    "cluster_tree = {}\n",
    "lens = [len(v) for v in clusters.values()]\n",
    "for i, v in clusters.items():\n",
    "    if len(v) > 25:\n",
    "        cluster_tree[i] = {\"parent\" : v}\n",
    "        cluster_tree[i] = {\"children\" :[*collection_to_clusters(v, n_clusters=None, distance_threshold=0.4)]}\n",
    "        #get values, embed and sample again with lower threshold\n",
    "        "
   ]
  },
  {
   "cell_type": "code",
   "execution_count": null,
   "id": "ad10ece1",
   "metadata": {},
   "outputs": [],
   "source": [
    "for i,v in cluster_tree.items():\n",
    "    print(i)\n",
    "    for sent in v[\"children\"]:\n",
    "        print(sent)\n",
    "        print(\"\\n\\n\")\n",
    "    print(\"-------------- \\n\\n\")"
   ]
  },
  {
   "cell_type": "code",
   "execution_count": null,
   "id": "870ba72a",
   "metadata": {},
   "outputs": [],
   "source": []
  },
  {
   "cell_type": "raw",
   "id": "4ec613e0",
   "metadata": {},
   "source": [
    "len(get_clusters(cluster_model).keys())"
   ]
  },
  {
   "cell_type": "code",
   "execution_count": null,
   "id": "12fca97b",
   "metadata": {},
   "outputs": [],
   "source": [
    "#dict(enumerate(cluster_model.children_, cluster_model.n_leaves_))"
   ]
  },
  {
   "cell_type": "markdown",
   "id": "ccad15de",
   "metadata": {},
   "source": [
    "## Summarization\n",
    "\n",
    "**Tried: Google Pegasus**. Result: Does a terrible job of keeping the important information and doesn't retain the question but guesses at a conclusion\n"
   ]
  },
  {
   "cell_type": "code",
   "execution_count": null,
   "id": "539f3e6d",
   "metadata": {},
   "outputs": [],
   "source": [
    "torch.cuda.is_available()"
   ]
  },
  {
   "cell_type": "markdown",
   "id": "525736db",
   "metadata": {},
   "source": [
    "### Pegasus Setup\n"
   ]
  },
  {
   "cell_type": "code",
   "execution_count": null,
   "id": "edd73cfd",
   "metadata": {},
   "outputs": [],
   "source": [
    "from transformers import PegasusForConditionalGeneration, PegasusTokenizer\n",
    "import torch\n",
    "\n",
    "model_name = 'google/pegasus-xsum'\n",
    "device = 'cuda' if torch.cuda.is_available() else 'cpu'\n",
    "tokenizer = PegasusTokenizer.from_pretrained(model_name)\n",
    "model = PegasusForConditionalGeneration.from_pretrained(model_name).to(device)\n"
   ]
  },
  {
   "cell_type": "code",
   "execution_count": null,
   "id": "ad830425",
   "metadata": {},
   "outputs": [],
   "source": [
    "\n",
    "def summarize(sentences):\n",
    "    batch = tokenizer(sentences, truncation=True, padding='longest', return_tensors=\"pt\").to(device)\n",
    "    translated = model.generate(**batch)\n",
    "    tgt_text = tokenizer.batch_decode(translated, skip_special_tokens=True)\n",
    "    return tgt_text"
   ]
  },
  {
   "cell_type": "code",
   "execution_count": null,
   "id": "6f937cf0",
   "metadata": {},
   "outputs": [],
   "source": []
  },
  {
   "cell_type": "markdown",
   "id": "2707f021",
   "metadata": {},
   "source": [
    "### T5 Setup"
   ]
  },
  {
   "cell_type": "code",
   "execution_count": null,
   "id": "01b076bb",
   "metadata": {},
   "outputs": [],
   "source": [
    "from transformers import pipeline\n",
    "\n",
    "summarizer = pipeline(\"summarization\")\n",
    "\n",
    "ARTICLE = \"\"\" Background: Trust is a critical component of competency committees given their high-stakes decisions. Research from outside of medicine on group trust has not focused on trust in group decisions, and \"group trust\" has not been clearly defined. The purpose was twofold: to examine the definition of trust in the context of group decisions and to explore what factors may influence trust from the perspective of those who rely on competency committees through a proposed group trust model. Methods: The authors conducted a literature search of four online databases, seeking articles published on trust in group settings. Reviewers extracted, coded, and analyzed key data including definitions of trust and factors pertaining to group trust. Results: The authors selected 42 articles for full text review. Although reviewers found multiple general definitions of trust, they were unable to find a clear definition of group trust and propose the following: a group-directed willingness to accept vulnerability to actions of the members based on the expectation that members will perform a particular action important to the group, encompassing social exchange, collective perceptions, and interpersonal trust. Additionally, the authors propose a model encompassing individual level factors (trustor and trustee), interpersonal interactions, group level factors (structure and processes), and environmental factors.\"\"\"\n",
    "from transformers import AutoModelForSeq2SeqLM, AutoTokenizer\n",
    "\n",
    "model = AutoModelForSeq2SeqLM.from_pretrained(\"snrspeaks/t5-one-line-summary\") #snrspeaks/t5-one-line-summary\n",
    "tokenizer = AutoTokenizer.from_pretrained(\"snrspeaks/t5-one-line-summary\")\n",
    "\n",
    "# T5 uses a max_length of 512 so we cut the article to 512 tokens.\n",
    "inputs = tokenizer.encode(\"summarize: \" + ARTICLE, return_tensors=\"pt\", max_length=512, truncation=True)\n",
    "outputs = model.generate(inputs, max_length=150, min_length=40, length_penalty=2.0, num_beams=4, early_stopping=True)\n",
    "tokenizer.decode(outputs[0])\n",
    "def summarize(text):\n",
    "    inputs = tokenizer.encode(\"summarize: \" + text, return_tensors=\"pt\", max_length=512, truncation=True)\n",
    "    outputs = model.generate(inputs, max_length=150, min_length=40, length_penalty=2.0, num_beams=4, early_stopping=True)\n",
    "    return tokenizer.decode(outputs[0])"
   ]
  },
  {
   "cell_type": "code",
   "execution_count": null,
   "id": "951d5b27",
   "metadata": {},
   "outputs": [],
   "source": [
    "summarize(\"I have seen a ghost in my shed\")"
   ]
  },
  {
   "cell_type": "code",
   "execution_count": null,
   "id": "3bcc4c63",
   "metadata": {},
   "outputs": [],
   "source": [
    "\"I have seen a ghost in my shed\"[:5]"
   ]
  },
  {
   "cell_type": "markdown",
   "id": "29d967e3",
   "metadata": {},
   "source": [
    "### Print Results"
   ]
  },
  {
   "cell_type": "code",
   "execution_count": null,
   "id": "a163d926",
   "metadata": {},
   "outputs": [],
   "source": [
    "for ID, cluster in get_clusters(cluster_model).items():\n",
    "    sentences = \".\".join(cluster)\n",
    "    print(sentences)\n",
    "    print( \"\\n\\n\", \"sum:::\", summarize(sentences[:256]), \"\\n\\n\\n\")\n",
    "    "
   ]
  },
  {
   "cell_type": "code",
   "execution_count": null,
   "id": "1821b09e",
   "metadata": {},
   "outputs": [],
   "source": [
    "!pip bertopic --version"
   ]
  },
  {
   "cell_type": "code",
   "execution_count": null,
   "id": "81ffa54c",
   "metadata": {},
   "outputs": [],
   "source": [
    "!pip uninstall bertopic --yes"
   ]
  },
  {
   "cell_type": "code",
   "execution_count": null,
   "id": "1ff0ef2c",
   "metadata": {},
   "outputs": [],
   "source": [
    "pip uninstall umap\n",
    "pip install umap-learn"
   ]
  },
  {
   "cell_type": "code",
   "execution_count": 4,
   "id": "72495808",
   "metadata": {},
   "outputs": [
    {
     "name": "stdout",
     "output_type": "stream",
     "text": [
      "\u001b[33mDEPRECATION: Python 2.7 reached the end of its life on January 1st, 2020. Please upgrade your Python as Python 2.7 is no longer maintained. pip 21.0 will drop support for Python 2.7 in January 2021. More details about Python 2 support in pip can be found at https://pip.pypa.io/en/latest/development/release-process/#python-2-support pip 21.0 will remove support for this functionality.\u001b[0m\n",
      "\u001b[33mWARNING: Skipping bertopic as it is not installed.\u001b[0m\n"
     ]
    }
   ],
   "source": [
    "!pip uninstall bertopic"
   ]
  },
  {
   "cell_type": "markdown",
   "id": "b6624556",
   "metadata": {},
   "source": [
    "## BERTopic topic modeling + set intersection"
   ]
  },
  {
   "cell_type": "code",
   "execution_count": 1,
   "id": "16e685e6",
   "metadata": {},
   "outputs": [
    {
     "ename": "ImportError",
     "evalue": "No module named bertopic",
     "output_type": "error",
     "traceback": [
      "\u001b[0;31m\u001b[0m",
      "\u001b[0;31mImportError\u001b[0mTraceback (most recent call last)",
      "\u001b[0;32m<ipython-input-1-07ae2b298db9>\u001b[0m in \u001b[0;36m<module>\u001b[0;34m()\u001b[0m\n\u001b[0;32m----> 1\u001b[0;31m \u001b[0;32mfrom\u001b[0m \u001b[0mbertopic\u001b[0m \u001b[0;32mimport\u001b[0m \u001b[0mBERTopic\u001b[0m\u001b[0;34m\u001b[0m\u001b[0m\n\u001b[0m\u001b[1;32m      2\u001b[0m \u001b[0mm\u001b[0m \u001b[0;34m=\u001b[0m \u001b[0mBERTopic\u001b[0m\u001b[0;34m(\u001b[0m\u001b[0membedding_model\u001b[0m\u001b[0;34m=\u001b[0m\u001b[0;34m'sentence-transformers/all-mpnet-base-v2'\u001b[0m\u001b[0;34m,\u001b[0m \u001b[0mcalculate_probabilities\u001b[0m\u001b[0;34m=\u001b[0m\u001b[0mTrue\u001b[0m\u001b[0;34m,\u001b[0m \u001b[0mverbose\u001b[0m\u001b[0;34m=\u001b[0m\u001b[0mTrue\u001b[0m\u001b[0;34m)\u001b[0m\u001b[0;34m\u001b[0m\u001b[0m\n",
      "\u001b[0;31mImportError\u001b[0m: No module named bertopic"
     ]
    }
   ],
   "source": [
    "from bertopic import BERTopic\n",
    "m = BERTopic(embedding_model='sentence-transformers/all-mpnet-base-v2', calculate_probabilities=True, verbose=True)"
   ]
  },
  {
   "cell_type": "code",
   "execution_count": null,
   "id": "c23b7698",
   "metadata": {},
   "outputs": [],
   "source": [
    "topics, probs = topic_model.fit_transform(sents_h)"
   ]
  },
  {
   "cell_type": "code",
   "execution_count": null,
   "id": "f6a80e16",
   "metadata": {},
   "outputs": [],
   "source": [
    "m = topic_model"
   ]
  },
  {
   "cell_type": "code",
   "execution_count": null,
   "id": "b55d9f95",
   "metadata": {},
   "outputs": [],
   "source": [
    "sents_h[:5]"
   ]
  },
  {
   "cell_type": "code",
   "execution_count": null,
   "id": "4c427f9c",
   "metadata": {},
   "outputs": [],
   "source": [
    "topic_model.get_topic(0)  # Select the most frequent topic"
   ]
  },
  {
   "cell_type": "code",
   "execution_count": null,
   "id": "9f299b50",
   "metadata": {},
   "outputs": [],
   "source": [
    "topic_model.get_topic(1)  # Select the most frequent topic"
   ]
  },
  {
   "cell_type": "code",
   "execution_count": null,
   "id": "1bd9e71c",
   "metadata": {},
   "outputs": [],
   "source": [
    "d = m.transform(sents_h[:10])"
   ]
  },
  {
   "cell_type": "code",
   "execution_count": null,
   "id": "189b9fca",
   "metadata": {},
   "outputs": [],
   "source": [
    "samp = sentences[1100]\n",
    "\n",
    "def extract_topics(texts, distance_thresh=0.035, model=topic_model):\n",
    "    topic_labels = model.transform(texts)[0]\n",
    "    topic_dict = {}\n",
    "    for idx, ID in enumerate(topic_labels):\n",
    "        topics = model.get_topic(ID)\n",
    "        for t in topics:\n",
    "            topic = t[0]\n",
    "            dist = t[1]\n",
    "            if dist > distance_thresh:\n",
    "                if not topic_dict.get(topic):\n",
    "                    topic_dict[topic] = [ texts[idx] ] \n",
    "                else:\n",
    "                    sents = topic_dict[topic] + [texts[idx]]\n",
    "                    topic_dict[topic] = sents\n",
    "    return topic_dict"
   ]
  },
  {
   "cell_type": "code",
   "execution_count": null,
   "id": "b86574a9",
   "metadata": {},
   "outputs": [],
   "source": [
    "topic_dict = extract_topics(sents_h)"
   ]
  },
  {
   "cell_type": "code",
   "execution_count": null,
   "id": "5e390f24",
   "metadata": {},
   "outputs": [],
   "source": [
    "import json\n",
    "\n",
    "with open(\"topic_dict.json\", \"w\") as f:\n",
    "    json.dump(topic_dict, f)"
   ]
  },
  {
   "cell_type": "code",
   "execution_count": null,
   "id": "47b22232",
   "metadata": {},
   "outputs": [],
   "source": [
    "topic_model.get_topics_freq()"
   ]
  },
  {
   "cell_type": "code",
   "execution_count": null,
   "id": "e71205ea",
   "metadata": {},
   "outputs": [],
   "source": [
    "topic_model.get_topics()"
   ]
  },
  {
   "cell_type": "markdown",
   "id": "e21ae8f6",
   "metadata": {},
   "source": [
    "## Hierachy by source text overlap\n"
   ]
  },
  {
   "cell_type": "code",
   "execution_count": null,
   "id": "04f17413",
   "metadata": {},
   "outputs": [],
   "source": []
  }
 ],
 "metadata": {
  "kernelspec": {
   "display_name": "conda_amazonei_mxnet_p27",
   "language": "python",
   "name": "conda_amazonei_mxnet_p27"
  },
  "language_info": {
   "codemirror_mode": {
    "name": "ipython",
    "version": 3
   },
   "file_extension": ".py",
   "mimetype": "text/x-python",
   "name": "python",
   "nbconvert_exporter": "python",
   "pygments_lexer": "ipython3",
   "version": "3.6.13"
  }
 },
 "nbformat": 4,
 "nbformat_minor": 5
}
