{
 "cells": [
  {
   "cell_type": "code",
   "execution_count": 1,
   "id": "8bb821a2",
   "metadata": {},
   "outputs": [],
   "source": [
    "%%capture\n",
    "!pip install tensorboardX simpletransformers sklearn"
   ]
  },
  {
   "cell_type": "code",
   "execution_count": 2,
   "id": "9661161b",
   "metadata": {},
   "outputs": [
    {
     "name": "stdout",
     "output_type": "stream",
     "text": [
      "CUDA Version 10.0.130\n",
      "Collecting pydash\n",
      "  Downloading pydash-5.1.0-py3-none-any.whl (84 kB)\n",
      "     |████████████████████████████████| 84 kB 997 kB/s             \n",
      "\u001b[?25hInstalling collected packages: pydash\n",
      "Successfully installed pydash-5.1.0\n",
      "Collecting torch==1.6.0\n",
      "  Downloading torch-1.6.0-cp36-cp36m-manylinux1_x86_64.whl (748.8 MB)\n",
      "     |████████████████████████████████| 748.8 MB 6.1 kB/s              \n",
      "\u001b[?25hRequirement already satisfied: future in /home/ec2-user/anaconda3/envs/pytorch_p36/lib/python3.6/site-packages (from torch==1.6.0) (0.18.2)\n",
      "Requirement already satisfied: numpy in /home/ec2-user/anaconda3/envs/pytorch_p36/lib/python3.6/site-packages (from torch==1.6.0) (1.19.5)\n",
      "Installing collected packages: torch\n",
      "  Attempting uninstall: torch\n",
      "    Found existing installation: torch 1.4.0\n",
      "    Uninstalling torch-1.4.0:\n",
      "      Successfully uninstalled torch-1.4.0\n",
      "\u001b[31mERROR: pip's dependency resolver does not currently take into account all the packages that are installed. This behaviour is the source of the following dependency conflicts.\n",
      "fastai 1.0.61 requires nvidia-ml-py3, which is not installed.\u001b[0m\n",
      "Successfully installed torch-1.6.0\n"
     ]
    }
   ],
   "source": [
    "!cat /usr/local/cuda/version.txt\n",
    "!pip install pydash\n",
    "!pip install torch==1.6.0\n",
    "#conda install pytorch==1.1.0 torchvision==0.3.0 cudatoolkit=10.0 -c pytorch\n",
    "#https://pytorch.org/get-started/previous-versions/"
   ]
  },
  {
   "cell_type": "code",
   "execution_count": 3,
   "id": "dfa7dc1a",
   "metadata": {},
   "outputs": [],
   "source": [
    "!rm -rf outputs"
   ]
  },
  {
   "cell_type": "code",
   "execution_count": 33,
   "id": "2c020726",
   "metadata": {},
   "outputs": [
    {
     "data": {
      "text/plain": [
       "44397"
      ]
     },
     "execution_count": 33,
     "metadata": {},
     "output_type": "execute_result"
    }
   ],
   "source": [
    "from simpletransformers.classification import ClassificationModel, ClassificationArgs\n",
    "import pandas as pd\n",
    "import logging\n",
    "import sklearn\n",
    "from tqdm import tqdm\n",
    "import pandas as pd\n",
    "\n",
    "df = pd.read_csv(\"downloads/train_final_june23_all.csv\")\n",
    "len(df)"
   ]
  },
  {
   "cell_type": "code",
   "execution_count": 34,
   "id": "83a68453",
   "metadata": {},
   "outputs": [
    {
     "data": {
      "text/plain": [
       "array(['acl_cambridge', 'predicts_acl_pm2500_vocabed',\n",
       "       'Oct1_clinical_studies_pm', 'oct3_labels', 'labels_oct7',\n",
       "       ' limitation|problem ... with ... l=be that', 'a ... drawback of',\n",
       "       'a {negative_adjectives} ...  {problem_nouns}', 'pm_OBJECTIVE',\n",
       "       'pm_METHODS', 'pm_RESULTS', 'pm_CONCLUSIONS', 'biology1k_050522',\n",
       "       'psych1k_100522', 'june152022_labels_envgeosoc',\n",
       "       'june152022_labels_matscichem'], dtype=object)"
      ]
     },
     "execution_count": 34,
     "metadata": {},
     "output_type": "execute_result"
    }
   ],
   "source": [
    "df.source.unique()"
   ]
  },
  {
   "cell_type": "code",
   "execution_count": 39,
   "id": "687b9456",
   "metadata": {},
   "outputs": [
    {
     "data": {
      "text/plain": [
       "array(['Computer Science', 'Medicine', nan, 'Biology', 'Psychology',\n",
       "       'Sociology', 'Environmental Science', 'Geology',\n",
       "       'Materials Science'], dtype=object)"
      ]
     },
     "execution_count": 39,
     "metadata": {},
     "output_type": "execute_result"
    }
   ],
   "source": [
    "df.fields.unique()"
   ]
  },
  {
   "cell_type": "code",
   "execution_count": 40,
   "id": "4b6e9480",
   "metadata": {},
   "outputs": [],
   "source": [
    "#downsample medical data in training set\n",
    "# df = df[df[\"source\"].notin([\"oct3_labels\", \"june152022_labels_matscichem\", \n",
    "#                            \"june152022_labels_envgeosoc\", \"labels_oct7\", \n",
    "#                            \"psych1k_100522\", \"biology1k_050522\", \"predicts_acl_pm2500_vocabed\", \n",
    "#                            'pm_CONCLUSIONS', 'biology1k_050522'])]"
   ]
  },
  {
   "cell_type": "code",
   "execution_count": 41,
   "id": "a66ad3c6",
   "metadata": {},
   "outputs": [
    {
     "data": {
      "text/html": [
       "<div>\n",
       "<style scoped>\n",
       "    .dataframe tbody tr th:only-of-type {\n",
       "        vertical-align: middle;\n",
       "    }\n",
       "\n",
       "    .dataframe tbody tr th {\n",
       "        vertical-align: top;\n",
       "    }\n",
       "\n",
       "    .dataframe thead th {\n",
       "        text-align: right;\n",
       "    }\n",
       "</style>\n",
       "<table border=\"1\" class=\"dataframe\">\n",
       "  <thead>\n",
       "    <tr style=\"text-align: right;\">\n",
       "      <th></th>\n",
       "      <th>text</th>\n",
       "      <th>doi</th>\n",
       "      <th>journalName</th>\n",
       "      <th>title</th>\n",
       "      <th>fields</th>\n",
       "      <th>source</th>\n",
       "      <th>labels</th>\n",
       "    </tr>\n",
       "  </thead>\n",
       "  <tbody>\n",
       "    <tr>\n",
       "      <th>40897</th>\n",
       "      <td>Osteogenesis imperfecta (OI) is a genetic bone...</td>\n",
       "      <td>10.1002/jbmr.3424</td>\n",
       "      <td>Journal of Bone and Mineral Research</td>\n",
       "      <td>Mutations That Alter the Carboxy‐Terminal‐Prop...</td>\n",
       "      <td>Biology</td>\n",
       "      <td>biology1k_050522</td>\n",
       "      <td>1</td>\n",
       "    </tr>\n",
       "    <tr>\n",
       "      <th>40898</th>\n",
       "      <td>Highly pathogenic avian influenza virus (HPAIV...</td>\n",
       "      <td>10.1371/journal.pone.0044447</td>\n",
       "      <td>PLoS ONE</td>\n",
       "      <td>Protective Efficacy of Newcastle Disease Virus...</td>\n",
       "      <td>Biology</td>\n",
       "      <td>biology1k_050522</td>\n",
       "      <td>1</td>\n",
       "    </tr>\n",
       "    <tr>\n",
       "      <th>40899</th>\n",
       "      <td>Central giant cell granuloma (CGCG) is a react...</td>\n",
       "      <td>10.1111/J.1600-0714.1999.TB01996.X</td>\n",
       "      <td>Journal of oral pathology &amp; medicine : officia...</td>\n",
       "      <td>Immunohistochemical expression of p53, MDM2, K...</td>\n",
       "      <td>Biology</td>\n",
       "      <td>biology1k_050522</td>\n",
       "      <td>1</td>\n",
       "    </tr>\n",
       "    <tr>\n",
       "      <th>40900</th>\n",
       "      <td>Fasciola hepatica infection continues to be a ...</td>\n",
       "      <td>10.1016/j.vetpar.2018.05.008</td>\n",
       "      <td>Veterinary parasitology</td>\n",
       "      <td>Intranasal delivery of a formulation containin...</td>\n",
       "      <td>Biology</td>\n",
       "      <td>biology1k_050522</td>\n",
       "      <td>1</td>\n",
       "    </tr>\n",
       "    <tr>\n",
       "      <th>40901</th>\n",
       "      <td>O cravo-da-india, Syzygium aromaticum [L] Merr.</td>\n",
       "      <td>10.5935/RVQ.V6I5.715</td>\n",
       "      <td>NaN</td>\n",
       "      <td>Quantificação e Caracterização dos Principais ...</td>\n",
       "      <td>Biology</td>\n",
       "      <td>biology1k_050522</td>\n",
       "      <td>0</td>\n",
       "    </tr>\n",
       "    <tr>\n",
       "      <th>...</th>\n",
       "      <td>...</td>\n",
       "      <td>...</td>\n",
       "      <td>...</td>\n",
       "      <td>...</td>\n",
       "      <td>...</td>\n",
       "      <td>...</td>\n",
       "      <td>...</td>\n",
       "    </tr>\n",
       "    <tr>\n",
       "      <th>41916</th>\n",
       "      <td>Bacterial diseases, mainly those caused by bac...</td>\n",
       "      <td>NaN</td>\n",
       "      <td>Boletim Do Instituto De Pesca</td>\n",
       "      <td>Uso de hidróxido de cálcio no controle de vibr...</td>\n",
       "      <td>Biology</td>\n",
       "      <td>biology1k_050522</td>\n",
       "      <td>1</td>\n",
       "    </tr>\n",
       "    <tr>\n",
       "      <th>41917</th>\n",
       "      <td>Staphylococcus aureus is a common facultative ...</td>\n",
       "      <td>NaN</td>\n",
       "      <td>NaN</td>\n",
       "      <td>Antimicrobial resistance and population struct...</td>\n",
       "      <td>Biology</td>\n",
       "      <td>biology1k_050522</td>\n",
       "      <td>1</td>\n",
       "    </tr>\n",
       "    <tr>\n",
       "      <th>41918</th>\n",
       "      <td>The INNO-LiPA Rif.</td>\n",
       "      <td>10.1128/JCM.41.9.4454-4456.2003</td>\n",
       "      <td>Journal of Clinical Microbiology</td>\n",
       "      <td>Direct Detection of Multidrug-Resistant Mycoba...</td>\n",
       "      <td>Biology</td>\n",
       "      <td>biology1k_050522</td>\n",
       "      <td>0</td>\n",
       "    </tr>\n",
       "    <tr>\n",
       "      <th>41919</th>\n",
       "      <td>Klebsiella pneumoniae is a pathogen responsibl...</td>\n",
       "      <td>10.1128/MRA.00024-20</td>\n",
       "      <td>Microbiology Resource Announcements</td>\n",
       "      <td>Genome Sequences of 12 Phages That Infect Kleb...</td>\n",
       "      <td>Biology</td>\n",
       "      <td>biology1k_050522</td>\n",
       "      <td>1</td>\n",
       "    </tr>\n",
       "    <tr>\n",
       "      <th>41920</th>\n",
       "      <td>Cyperus rotundus (Purple nutsedge) is the most...</td>\n",
       "      <td>10.1016/J.CROPRO.2016.03.006</td>\n",
       "      <td>Crop Protection</td>\n",
       "      <td>Effect of phenyl, allyl, and methyl isothiocya...</td>\n",
       "      <td>Biology</td>\n",
       "      <td>biology1k_050522</td>\n",
       "      <td>1</td>\n",
       "    </tr>\n",
       "  </tbody>\n",
       "</table>\n",
       "<p>1024 rows × 7 columns</p>\n",
       "</div>"
      ],
      "text/plain": [
       "                                                    text  \\\n",
       "40897  Osteogenesis imperfecta (OI) is a genetic bone...   \n",
       "40898  Highly pathogenic avian influenza virus (HPAIV...   \n",
       "40899  Central giant cell granuloma (CGCG) is a react...   \n",
       "40900  Fasciola hepatica infection continues to be a ...   \n",
       "40901    O cravo-da-india, Syzygium aromaticum [L] Merr.   \n",
       "...                                                  ...   \n",
       "41916  Bacterial diseases, mainly those caused by bac...   \n",
       "41917  Staphylococcus aureus is a common facultative ...   \n",
       "41918                                 The INNO-LiPA Rif.   \n",
       "41919  Klebsiella pneumoniae is a pathogen responsibl...   \n",
       "41920  Cyperus rotundus (Purple nutsedge) is the most...   \n",
       "\n",
       "                                      doi  \\\n",
       "40897                   10.1002/jbmr.3424   \n",
       "40898        10.1371/journal.pone.0044447   \n",
       "40899  10.1111/J.1600-0714.1999.TB01996.X   \n",
       "40900        10.1016/j.vetpar.2018.05.008   \n",
       "40901                10.5935/RVQ.V6I5.715   \n",
       "...                                   ...   \n",
       "41916                                 NaN   \n",
       "41917                                 NaN   \n",
       "41918     10.1128/JCM.41.9.4454-4456.2003   \n",
       "41919                10.1128/MRA.00024-20   \n",
       "41920        10.1016/J.CROPRO.2016.03.006   \n",
       "\n",
       "                                             journalName  \\\n",
       "40897               Journal of Bone and Mineral Research   \n",
       "40898                                           PLoS ONE   \n",
       "40899  Journal of oral pathology & medicine : officia...   \n",
       "40900                            Veterinary parasitology   \n",
       "40901                                                NaN   \n",
       "...                                                  ...   \n",
       "41916                      Boletim Do Instituto De Pesca   \n",
       "41917                                                NaN   \n",
       "41918                   Journal of Clinical Microbiology   \n",
       "41919                Microbiology Resource Announcements   \n",
       "41920                                    Crop Protection   \n",
       "\n",
       "                                                   title   fields  \\\n",
       "40897  Mutations That Alter the Carboxy‐Terminal‐Prop...  Biology   \n",
       "40898  Protective Efficacy of Newcastle Disease Virus...  Biology   \n",
       "40899  Immunohistochemical expression of p53, MDM2, K...  Biology   \n",
       "40900  Intranasal delivery of a formulation containin...  Biology   \n",
       "40901  Quantificação e Caracterização dos Principais ...  Biology   \n",
       "...                                                  ...      ...   \n",
       "41916  Uso de hidróxido de cálcio no controle de vibr...  Biology   \n",
       "41917  Antimicrobial resistance and population struct...  Biology   \n",
       "41918  Direct Detection of Multidrug-Resistant Mycoba...  Biology   \n",
       "41919  Genome Sequences of 12 Phages That Infect Kleb...  Biology   \n",
       "41920  Effect of phenyl, allyl, and methyl isothiocya...  Biology   \n",
       "\n",
       "                 source  labels  \n",
       "40897  biology1k_050522       1  \n",
       "40898  biology1k_050522       1  \n",
       "40899  biology1k_050522       1  \n",
       "40900  biology1k_050522       1  \n",
       "40901  biology1k_050522       0  \n",
       "...                 ...     ...  \n",
       "41916  biology1k_050522       1  \n",
       "41917  biology1k_050522       1  \n",
       "41918  biology1k_050522       0  \n",
       "41919  biology1k_050522       1  \n",
       "41920  biology1k_050522       1  \n",
       "\n",
       "[1024 rows x 7 columns]"
      ]
     },
     "execution_count": 41,
     "metadata": {},
     "output_type": "execute_result"
    }
   ],
   "source": [
    "df[df.source ==\"biology1k_050522\"]"
   ]
  },
  {
   "cell_type": "code",
   "execution_count": 42,
   "id": "ca76a392",
   "metadata": {},
   "outputs": [],
   "source": [
    "non_medicine_sources = ['acl_cambridge', 'predicts_acl_pm2500_vocabed', 'oct3_labels' \"labels_oct7\",'pm_CONCLUSIONS', \"biology1k_050522\", #adding these medicals because...\n",
    "                        'psych1k_100522', 'june152022_labels_envgeosoc','june152022_labels_matscichem']"
   ]
  },
  {
   "cell_type": "code",
   "execution_count": 43,
   "id": "6b6b7d6a",
   "metadata": {},
   "outputs": [],
   "source": [
    "train_fields = [\"Sociology\", \"Psychology\", \"Environmental Science\", \"Geology\", \"Material Science\", \"Biology\"]"
   ]
  },
  {
   "cell_type": "code",
   "execution_count": 44,
   "id": "c08f36e4",
   "metadata": {},
   "outputs": [],
   "source": [
    "df = df[df[\"source\"].isin(non_medicine_sources)]"
   ]
  },
  {
   "cell_type": "code",
   "execution_count": 45,
   "id": "5e018277",
   "metadata": {},
   "outputs": [],
   "source": [
    "df = df[df[\"fields\"].isin(train_fields)]"
   ]
  },
  {
   "cell_type": "code",
   "execution_count": 46,
   "id": "05fe586c",
   "metadata": {},
   "outputs": [
    {
     "data": {
      "text/plain": [
       "Biology                  1024\n",
       "Environmental Science     789\n",
       "Psychology                694\n",
       "Sociology                 458\n",
       "Geology                   350\n",
       "Name: fields, dtype: int64"
      ]
     },
     "execution_count": 46,
     "metadata": {},
     "output_type": "execute_result"
    }
   ],
   "source": [
    "df.fields.value_counts()"
   ]
  },
  {
   "cell_type": "code",
   "execution_count": 47,
   "id": "5bffce90",
   "metadata": {},
   "outputs": [
    {
     "data": {
      "text/html": [
       "<div>\n",
       "<style scoped>\n",
       "    .dataframe tbody tr th:only-of-type {\n",
       "        vertical-align: middle;\n",
       "    }\n",
       "\n",
       "    .dataframe tbody tr th {\n",
       "        vertical-align: top;\n",
       "    }\n",
       "\n",
       "    .dataframe thead th {\n",
       "        text-align: right;\n",
       "    }\n",
       "</style>\n",
       "<table border=\"1\" class=\"dataframe\">\n",
       "  <thead>\n",
       "    <tr style=\"text-align: right;\">\n",
       "      <th></th>\n",
       "      <th>text</th>\n",
       "      <th>doi</th>\n",
       "      <th>journalName</th>\n",
       "      <th>title</th>\n",
       "      <th>fields</th>\n",
       "      <th>source</th>\n",
       "      <th>labels</th>\n",
       "    </tr>\n",
       "  </thead>\n",
       "  <tbody>\n",
       "    <tr>\n",
       "      <th>40901</th>\n",
       "      <td>O cravo-da-india, Syzygium aromaticum [L] Merr.</td>\n",
       "      <td>10.5935/RVQ.V6I5.715</td>\n",
       "      <td>NaN</td>\n",
       "      <td>Quantificação e Caracterização dos Principais ...</td>\n",
       "      <td>Biology</td>\n",
       "      <td>biology1k_050522</td>\n",
       "      <td>0</td>\n",
       "    </tr>\n",
       "    <tr>\n",
       "      <th>40906</th>\n",
       "      <td>The processing‐defective outer membrane porin ...</td>\n",
       "      <td>10.1111/j.1365-2958.1995.mmi_18030491.x</td>\n",
       "      <td>Molecular Microbiology</td>\n",
       "      <td>Mutational activation of the Cpx signal transd...</td>\n",
       "      <td>Biology</td>\n",
       "      <td>biology1k_050522</td>\n",
       "      <td>0</td>\n",
       "    </tr>\n",
       "    <tr>\n",
       "      <th>40914</th>\n",
       "      <td>Research Governance.</td>\n",
       "      <td>10.1007/978-1-84628-740-4</td>\n",
       "      <td>NaN</td>\n",
       "      <td>Basic science techniques in clinical practice</td>\n",
       "      <td>Biology</td>\n",
       "      <td>biology1k_050522</td>\n",
       "      <td>0</td>\n",
       "    </tr>\n",
       "    <tr>\n",
       "      <th>40915</th>\n",
       "      <td>Sexand size-selective harvesting of corkwing w...</td>\n",
       "      <td>10.1093/icesjms/fsw221</td>\n",
       "      <td>ICES Journal of Marine Science</td>\n",
       "      <td>Sex- and size-selective harvesting of corkwing...</td>\n",
       "      <td>Biology</td>\n",
       "      <td>biology1k_050522</td>\n",
       "      <td>0</td>\n",
       "    </tr>\n",
       "    <tr>\n",
       "      <th>40916</th>\n",
       "      <td>To evaluate the effectiveness of a germin-like...</td>\n",
       "      <td>10.1007/s11738-016-2273-9</td>\n",
       "      <td>Acta Physiologiae Plantarum</td>\n",
       "      <td>Expression of a rice GLP in Medicago truncatul...</td>\n",
       "      <td>Biology</td>\n",
       "      <td>biology1k_050522</td>\n",
       "      <td>0</td>\n",
       "    </tr>\n",
       "    <tr>\n",
       "      <th>...</th>\n",
       "      <td>...</td>\n",
       "      <td>...</td>\n",
       "      <td>...</td>\n",
       "      <td>...</td>\n",
       "      <td>...</td>\n",
       "      <td>...</td>\n",
       "      <td>...</td>\n",
       "    </tr>\n",
       "    <tr>\n",
       "      <th>44381</th>\n",
       "      <td>The onset of a large number of a plant organ i...</td>\n",
       "      <td>10.1080/02286203.1993.11760199</td>\n",
       "      <td>International Journal of Modelling and Simulation</td>\n",
       "      <td>A model to estimate leaf-wetness duration usin...</td>\n",
       "      <td>Environmental Science</td>\n",
       "      <td>june152022_labels_envgeosoc</td>\n",
       "      <td>0</td>\n",
       "    </tr>\n",
       "    <tr>\n",
       "      <th>44383</th>\n",
       "      <td>Australia is frequently subject to droughts an...</td>\n",
       "      <td>10.1175/JCLI-D-13-00149.1</td>\n",
       "      <td>Journal of Climate</td>\n",
       "      <td>How Oceanic Oscillation Drives Soil Moisture V...</td>\n",
       "      <td>Environmental Science</td>\n",
       "      <td>june152022_labels_envgeosoc</td>\n",
       "      <td>0</td>\n",
       "    </tr>\n",
       "    <tr>\n",
       "      <th>44387</th>\n",
       "      <td>Strenuous effort on behalf of moral ideals was...</td>\n",
       "      <td>10.2979/trancharpeirsoc.52.1.06</td>\n",
       "      <td>Transactions of the Charles S. Peirce Society:...</td>\n",
       "      <td>The Geography of Strenuousness: “America” In W...</td>\n",
       "      <td>Sociology</td>\n",
       "      <td>june152022_labels_envgeosoc</td>\n",
       "      <td>0</td>\n",
       "    </tr>\n",
       "    <tr>\n",
       "      <th>44392</th>\n",
       "      <td>The area used for bioenergy crops (annual row ...</td>\n",
       "      <td>10.1186/S13705-015-0067-3</td>\n",
       "      <td>Energy, Sustainability and Society</td>\n",
       "      <td>Legume-based mixed intercropping systems may l...</td>\n",
       "      <td>Environmental Science</td>\n",
       "      <td>june152022_labels_envgeosoc</td>\n",
       "      <td>0</td>\n",
       "    </tr>\n",
       "    <tr>\n",
       "      <th>44394</th>\n",
       "      <td>Airborne transmission of pathogenic aerosols v...</td>\n",
       "      <td>10.4209/AAQR.2016.09.0400</td>\n",
       "      <td>Aerosol and Air Quality Research</td>\n",
       "      <td>Fluorescent Bioaerosol Particles Resulting fro...</td>\n",
       "      <td>Environmental Science</td>\n",
       "      <td>june152022_labels_envgeosoc</td>\n",
       "      <td>0</td>\n",
       "    </tr>\n",
       "  </tbody>\n",
       "</table>\n",
       "<p>911 rows × 7 columns</p>\n",
       "</div>"
      ],
      "text/plain": [
       "                                                    text  \\\n",
       "40901    O cravo-da-india, Syzygium aromaticum [L] Merr.   \n",
       "40906  The processing‐defective outer membrane porin ...   \n",
       "40914                               Research Governance.   \n",
       "40915  Sexand size-selective harvesting of corkwing w...   \n",
       "40916  To evaluate the effectiveness of a germin-like...   \n",
       "...                                                  ...   \n",
       "44381  The onset of a large number of a plant organ i...   \n",
       "44383  Australia is frequently subject to droughts an...   \n",
       "44387  Strenuous effort on behalf of moral ideals was...   \n",
       "44392  The area used for bioenergy crops (annual row ...   \n",
       "44394  Airborne transmission of pathogenic aerosols v...   \n",
       "\n",
       "                                           doi  \\\n",
       "40901                     10.5935/RVQ.V6I5.715   \n",
       "40906  10.1111/j.1365-2958.1995.mmi_18030491.x   \n",
       "40914                10.1007/978-1-84628-740-4   \n",
       "40915                   10.1093/icesjms/fsw221   \n",
       "40916                10.1007/s11738-016-2273-9   \n",
       "...                                        ...   \n",
       "44381           10.1080/02286203.1993.11760199   \n",
       "44383                10.1175/JCLI-D-13-00149.1   \n",
       "44387          10.2979/trancharpeirsoc.52.1.06   \n",
       "44392                10.1186/S13705-015-0067-3   \n",
       "44394                10.4209/AAQR.2016.09.0400   \n",
       "\n",
       "                                             journalName  \\\n",
       "40901                                                NaN   \n",
       "40906                             Molecular Microbiology   \n",
       "40914                                                NaN   \n",
       "40915                     ICES Journal of Marine Science   \n",
       "40916                        Acta Physiologiae Plantarum   \n",
       "...                                                  ...   \n",
       "44381  International Journal of Modelling and Simulation   \n",
       "44383                                 Journal of Climate   \n",
       "44387  Transactions of the Charles S. Peirce Society:...   \n",
       "44392                 Energy, Sustainability and Society   \n",
       "44394                   Aerosol and Air Quality Research   \n",
       "\n",
       "                                                   title  \\\n",
       "40901  Quantificação e Caracterização dos Principais ...   \n",
       "40906  Mutational activation of the Cpx signal transd...   \n",
       "40914      Basic science techniques in clinical practice   \n",
       "40915  Sex- and size-selective harvesting of corkwing...   \n",
       "40916  Expression of a rice GLP in Medicago truncatul...   \n",
       "...                                                  ...   \n",
       "44381  A model to estimate leaf-wetness duration usin...   \n",
       "44383  How Oceanic Oscillation Drives Soil Moisture V...   \n",
       "44387  The Geography of Strenuousness: “America” In W...   \n",
       "44392  Legume-based mixed intercropping systems may l...   \n",
       "44394  Fluorescent Bioaerosol Particles Resulting fro...   \n",
       "\n",
       "                      fields                       source  labels  \n",
       "40901                Biology             biology1k_050522       0  \n",
       "40906                Biology             biology1k_050522       0  \n",
       "40914                Biology             biology1k_050522       0  \n",
       "40915                Biology             biology1k_050522       0  \n",
       "40916                Biology             biology1k_050522       0  \n",
       "...                      ...                          ...     ...  \n",
       "44381  Environmental Science  june152022_labels_envgeosoc       0  \n",
       "44383  Environmental Science  june152022_labels_envgeosoc       0  \n",
       "44387              Sociology  june152022_labels_envgeosoc       0  \n",
       "44392  Environmental Science  june152022_labels_envgeosoc       0  \n",
       "44394  Environmental Science  june152022_labels_envgeosoc       0  \n",
       "\n",
       "[911 rows x 7 columns]"
      ]
     },
     "execution_count": 47,
     "metadata": {},
     "output_type": "execute_result"
    }
   ],
   "source": [
    "df[df.labels == 0]"
   ]
  },
  {
   "cell_type": "code",
   "execution_count": 48,
   "id": "c2be8974",
   "metadata": {},
   "outputs": [],
   "source": [
    "df= df[[\"text\", \"labels\"]]"
   ]
  },
  {
   "cell_type": "code",
   "execution_count": 49,
   "id": "9206e551",
   "metadata": {},
   "outputs": [],
   "source": [
    "df =df.dropna()\n",
    "df = df.rename(columns={\"labels\": \"label\"})"
   ]
  },
  {
   "cell_type": "code",
   "execution_count": 50,
   "id": "c1e2f084",
   "metadata": {},
   "outputs": [],
   "source": [
    "df= df[[\"text\", \"label\"]]\n",
    "df.label = df.label.map(int)"
   ]
  },
  {
   "cell_type": "code",
   "execution_count": 51,
   "id": "0e56251f",
   "metadata": {},
   "outputs": [
    {
     "data": {
      "text/html": [
       "<div>\n",
       "<style scoped>\n",
       "    .dataframe tbody tr th:only-of-type {\n",
       "        vertical-align: middle;\n",
       "    }\n",
       "\n",
       "    .dataframe tbody tr th {\n",
       "        vertical-align: top;\n",
       "    }\n",
       "\n",
       "    .dataframe thead th {\n",
       "        text-align: right;\n",
       "    }\n",
       "</style>\n",
       "<table border=\"1\" class=\"dataframe\">\n",
       "  <thead>\n",
       "    <tr style=\"text-align: right;\">\n",
       "      <th></th>\n",
       "      <th>text</th>\n",
       "      <th>label</th>\n",
       "    </tr>\n",
       "  </thead>\n",
       "  <tbody>\n",
       "    <tr>\n",
       "      <th>40897</th>\n",
       "      <td>Osteogenesis imperfecta (OI) is a genetic bone...</td>\n",
       "      <td>1</td>\n",
       "    </tr>\n",
       "    <tr>\n",
       "      <th>40898</th>\n",
       "      <td>Highly pathogenic avian influenza virus (HPAIV...</td>\n",
       "      <td>1</td>\n",
       "    </tr>\n",
       "    <tr>\n",
       "      <th>40899</th>\n",
       "      <td>Central giant cell granuloma (CGCG) is a react...</td>\n",
       "      <td>1</td>\n",
       "    </tr>\n",
       "    <tr>\n",
       "      <th>40900</th>\n",
       "      <td>Fasciola hepatica infection continues to be a ...</td>\n",
       "      <td>1</td>\n",
       "    </tr>\n",
       "    <tr>\n",
       "      <th>40901</th>\n",
       "      <td>O cravo-da-india, Syzygium aromaticum [L] Merr.</td>\n",
       "      <td>0</td>\n",
       "    </tr>\n",
       "    <tr>\n",
       "      <th>...</th>\n",
       "      <td>...</td>\n",
       "      <td>...</td>\n",
       "    </tr>\n",
       "    <tr>\n",
       "      <th>44392</th>\n",
       "      <td>The area used for bioenergy crops (annual row ...</td>\n",
       "      <td>0</td>\n",
       "    </tr>\n",
       "    <tr>\n",
       "      <th>44393</th>\n",
       "      <td>Improper disposal of used polyethylene terepht...</td>\n",
       "      <td>1</td>\n",
       "    </tr>\n",
       "    <tr>\n",
       "      <th>44394</th>\n",
       "      <td>Airborne transmission of pathogenic aerosols v...</td>\n",
       "      <td>0</td>\n",
       "    </tr>\n",
       "    <tr>\n",
       "      <th>44395</th>\n",
       "      <td>Lead is one of the hazardous materials which i...</td>\n",
       "      <td>1</td>\n",
       "    </tr>\n",
       "    <tr>\n",
       "      <th>44396</th>\n",
       "      <td>Controlling airborne contamination is of major...</td>\n",
       "      <td>1</td>\n",
       "    </tr>\n",
       "  </tbody>\n",
       "</table>\n",
       "<p>3315 rows × 2 columns</p>\n",
       "</div>"
      ],
      "text/plain": [
       "                                                    text  label\n",
       "40897  Osteogenesis imperfecta (OI) is a genetic bone...      1\n",
       "40898  Highly pathogenic avian influenza virus (HPAIV...      1\n",
       "40899  Central giant cell granuloma (CGCG) is a react...      1\n",
       "40900  Fasciola hepatica infection continues to be a ...      1\n",
       "40901    O cravo-da-india, Syzygium aromaticum [L] Merr.      0\n",
       "...                                                  ...    ...\n",
       "44392  The area used for bioenergy crops (annual row ...      0\n",
       "44393  Improper disposal of used polyethylene terepht...      1\n",
       "44394  Airborne transmission of pathogenic aerosols v...      0\n",
       "44395  Lead is one of the hazardous materials which i...      1\n",
       "44396  Controlling airborne contamination is of major...      1\n",
       "\n",
       "[3315 rows x 2 columns]"
      ]
     },
     "execution_count": 51,
     "metadata": {},
     "output_type": "execute_result"
    }
   ],
   "source": [
    "df"
   ]
  },
  {
   "cell_type": "code",
   "execution_count": 52,
   "id": "e3d2b9df",
   "metadata": {},
   "outputs": [
    {
     "name": "stderr",
     "output_type": "stream",
     "text": [
      "INFO:filelock:Lock 140172990410592 acquired on /home/ec2-user/.cache/huggingface/transformers/23454919702d26495337f3da04d1655c7ee010d5ec9d77bdb9e399e00302c0a1.91b885ab15d631bf9cee9dc9d25ece0afd932f2f5130eba28f2055b2220c0333.lock\n"
     ]
    },
    {
     "data": {
      "application/vnd.jupyter.widget-view+json": {
       "model_id": "ea25cb1be3da46bd83dad3c1abb832ec",
       "version_major": 2,
       "version_minor": 0
      },
      "text/plain": [
       "Downloading:   0%|          | 0.00/483 [00:00<?, ?B/s]"
      ]
     },
     "metadata": {},
     "output_type": "display_data"
    },
    {
     "name": "stderr",
     "output_type": "stream",
     "text": [
      "INFO:filelock:Lock 140172990410592 released on /home/ec2-user/.cache/huggingface/transformers/23454919702d26495337f3da04d1655c7ee010d5ec9d77bdb9e399e00302c0a1.91b885ab15d631bf9cee9dc9d25ece0afd932f2f5130eba28f2055b2220c0333.lock\n",
      "INFO:filelock:Lock 140172990409192 acquired on /home/ec2-user/.cache/huggingface/transformers/9c169103d7e5a73936dd2b627e42851bec0831212b677c637033ee4bce9ab5ee.126183e36667471617ae2f0835fab707baa54b731f991507ebbb55ea85adb12a.lock\n"
     ]
    },
    {
     "data": {
      "application/vnd.jupyter.widget-view+json": {
       "model_id": "696237124c244f8c866fdf9d826d1bad",
       "version_major": 2,
       "version_minor": 0
      },
      "text/plain": [
       "Downloading:   0%|          | 0.00/256M [00:00<?, ?B/s]"
      ]
     },
     "metadata": {},
     "output_type": "display_data"
    },
    {
     "name": "stderr",
     "output_type": "stream",
     "text": [
      "INFO:filelock:Lock 140172990409192 released on /home/ec2-user/.cache/huggingface/transformers/9c169103d7e5a73936dd2b627e42851bec0831212b677c637033ee4bce9ab5ee.126183e36667471617ae2f0835fab707baa54b731f991507ebbb55ea85adb12a.lock\n",
      "Some weights of the model checkpoint at distilbert-base-uncased were not used when initializing DistilBertForSequenceClassification: ['vocab_layer_norm.bias', 'vocab_layer_norm.weight', 'vocab_transform.weight', 'vocab_transform.bias', 'vocab_projector.bias', 'vocab_projector.weight']\n",
      "- This IS expected if you are initializing DistilBertForSequenceClassification from the checkpoint of a model trained on another task or with another architecture (e.g. initializing a BertForSequenceClassification model from a BertForPreTraining model).\n",
      "- This IS NOT expected if you are initializing DistilBertForSequenceClassification from the checkpoint of a model that you expect to be exactly identical (initializing a BertForSequenceClassification model from a BertForSequenceClassification model).\n",
      "Some weights of DistilBertForSequenceClassification were not initialized from the model checkpoint at distilbert-base-uncased and are newly initialized: ['classifier.bias', 'pre_classifier.bias', 'classifier.weight', 'pre_classifier.weight']\n",
      "You should probably TRAIN this model on a down-stream task to be able to use it for predictions and inference.\n",
      "INFO:filelock:Lock 140172990409192 acquired on /home/ec2-user/.cache/huggingface/transformers/8c8624b8ac8aa99c60c912161f8332de003484428c47906d7ff7eb7f73eecdbb.20430bd8e10ef77a7d2977accefe796051e01bc2fc4aa146bc862997a1a15e79.lock\n"
     ]
    },
    {
     "data": {
      "application/vnd.jupyter.widget-view+json": {
       "model_id": "6644a255441944bd890b5edf6e7b8a97",
       "version_major": 2,
       "version_minor": 0
      },
      "text/plain": [
       "Downloading:   0%|          | 0.00/28.0 [00:00<?, ?B/s]"
      ]
     },
     "metadata": {},
     "output_type": "display_data"
    },
    {
     "name": "stderr",
     "output_type": "stream",
     "text": [
      "INFO:filelock:Lock 140172990409192 released on /home/ec2-user/.cache/huggingface/transformers/8c8624b8ac8aa99c60c912161f8332de003484428c47906d7ff7eb7f73eecdbb.20430bd8e10ef77a7d2977accefe796051e01bc2fc4aa146bc862997a1a15e79.lock\n",
      "INFO:filelock:Lock 140172969727984 acquired on /home/ec2-user/.cache/huggingface/transformers/0e1bbfda7f63a99bb52e3915dcf10c3c92122b827d92eb2d34ce94ee79ba486c.d789d64ebfe299b0e416afc4a169632f903f693095b4629a7ea271d5a0cf2c99.lock\n"
     ]
    },
    {
     "data": {
      "application/vnd.jupyter.widget-view+json": {
       "model_id": "633c44751f074cfa9f737047af4d69a3",
       "version_major": 2,
       "version_minor": 0
      },
      "text/plain": [
       "Downloading:   0%|          | 0.00/226k [00:00<?, ?B/s]"
      ]
     },
     "metadata": {},
     "output_type": "display_data"
    },
    {
     "name": "stderr",
     "output_type": "stream",
     "text": [
      "INFO:filelock:Lock 140172969727984 released on /home/ec2-user/.cache/huggingface/transformers/0e1bbfda7f63a99bb52e3915dcf10c3c92122b827d92eb2d34ce94ee79ba486c.d789d64ebfe299b0e416afc4a169632f903f693095b4629a7ea271d5a0cf2c99.lock\n",
      "INFO:filelock:Lock 140172990409192 acquired on /home/ec2-user/.cache/huggingface/transformers/75abb59d7a06f4f640158a9bfcde005264e59e8d566781ab1415b139d2e4c603.7f2721073f19841be16f41b0a70b600ca6b880c8f3df6f3535cbc704371bdfa4.lock\n"
     ]
    },
    {
     "data": {
      "application/vnd.jupyter.widget-view+json": {
       "model_id": "2b29b8185c9c45c2a8f9fcede3f06163",
       "version_major": 2,
       "version_minor": 0
      },
      "text/plain": [
       "Downloading:   0%|          | 0.00/455k [00:00<?, ?B/s]"
      ]
     },
     "metadata": {},
     "output_type": "display_data"
    },
    {
     "name": "stderr",
     "output_type": "stream",
     "text": [
      "INFO:filelock:Lock 140172990409192 released on /home/ec2-user/.cache/huggingface/transformers/75abb59d7a06f4f640158a9bfcde005264e59e8d566781ab1415b139d2e4c603.7f2721073f19841be16f41b0a70b600ca6b880c8f3df6f3535cbc704371bdfa4.lock\n"
     ]
    }
   ],
   "source": [
    "logging.basicConfig(level=logging.INFO)\n",
    "transformers_logger = logging.getLogger(\"transformers\")\n",
    "transformers_logger.setLevel(logging.WARNING)\n",
    "\n",
    "df2 = df.sample(frac=1)\n",
    "# Train and Evaluation data needs to be in a Pandas Dataframe of two columns. \n",
    "#The first column is the text with type str, and the second column is the label with type int.\n",
    "size = len(df2)\n",
    "train_cutoff = round(size*0.8)\n",
    "train_df= df2[:train_cutoff]\n",
    "eval_df = df2[train_cutoff:]\n",
    "\n",
    "model_args = ClassificationArgs(save_steps=-1, save_model_every_epoch=False, sliding_window=True)\n",
    "\n",
    "model = ClassificationModel('distilbert', 'distilbert-base-uncased',args=model_args, use_cuda=True) # You can set class weights by using the optional weight argument"
   ]
  },
  {
   "cell_type": "code",
   "execution_count": 53,
   "id": "e59bdd9f",
   "metadata": {},
   "outputs": [
    {
     "name": "stderr",
     "output_type": "stream",
     "text": [
      "/home/ec2-user/anaconda3/envs/pytorch_p36/lib/python3.6/site-packages/simpletransformers/classification/classification_model.py:602: UserWarning: Dataframe headers not specified. Falling back to using column 0 as text and column 1 as labels.\n",
      "  \"Dataframe headers not specified. Falling back to using column 0 as text and column 1 as labels.\"\n",
      "INFO:simpletransformers.classification.classification_model: Converting to features started. Cache is not used.\n",
      "INFO:simpletransformers.classification.classification_model: Sliding window enabled\n"
     ]
    },
    {
     "data": {
      "application/vnd.jupyter.widget-view+json": {
       "model_id": "55af6b47cc414833891215636a714a15",
       "version_major": 2,
       "version_minor": 0
      },
      "text/plain": [
       "  0%|          | 0/2652 [00:00<?, ?it/s]"
      ]
     },
     "metadata": {},
     "output_type": "display_data"
    },
    {
     "name": "stderr",
     "output_type": "stream",
     "text": [
      "INFO:simpletransformers.classification.classification_model: 2663 features created from 2652 samples.\n",
      "/home/ec2-user/anaconda3/envs/pytorch_p36/lib/python3.6/site-packages/transformers/optimization.py:309: FutureWarning: This implementation of AdamW is deprecated and will be removed in a future version. Use the PyTorch implementation torch.optim.AdamW instead, or set `no_deprecation_warning=True` to disable this warning\n",
      "  FutureWarning,\n"
     ]
    },
    {
     "data": {
      "application/vnd.jupyter.widget-view+json": {
       "model_id": "b5ee2c640f4341658fbad46e5976bac8",
       "version_major": 2,
       "version_minor": 0
      },
      "text/plain": [
       "Epoch:   0%|          | 0/1 [00:00<?, ?it/s]"
      ]
     },
     "metadata": {},
     "output_type": "display_data"
    },
    {
     "data": {
      "application/vnd.jupyter.widget-view+json": {
       "model_id": "444b511fe73c4a05b78c69e9c04038f4",
       "version_major": 2,
       "version_minor": 0
      },
      "text/plain": [
       "Running Epoch 0 of 1:   0%|          | 0/333 [00:00<?, ?it/s]"
      ]
     },
     "metadata": {},
     "output_type": "display_data"
    },
    {
     "name": "stderr",
     "output_type": "stream",
     "text": [
      "INFO:simpletransformers.classification.classification_model: Training of distilbert model complete. Saved to outputs/.\n",
      "/home/ec2-user/anaconda3/envs/pytorch_p36/lib/python3.6/site-packages/simpletransformers/classification/classification_model.py:1443: UserWarning: Dataframe headers not specified. Falling back to using column 0 as text and column 1 as labels.\n",
      "  \"Dataframe headers not specified. Falling back to using column 0 as text and column 1 as labels.\"\n",
      "INFO:simpletransformers.classification.classification_model: Converting to features started. Cache is not used.\n",
      "INFO:simpletransformers.classification.classification_model: Sliding window enabled\n"
     ]
    },
    {
     "data": {
      "application/vnd.jupyter.widget-view+json": {
       "model_id": "8d1113398f644aad98e8775925b6c89f",
       "version_major": 2,
       "version_minor": 0
      },
      "text/plain": [
       "  0%|          | 0/663 [00:00<?, ?it/s]"
      ]
     },
     "metadata": {},
     "output_type": "display_data"
    },
    {
     "name": "stderr",
     "output_type": "stream",
     "text": [
      "INFO:simpletransformers.classification.classification_model: 663 features created from 663 samples.\n"
     ]
    },
    {
     "data": {
      "application/vnd.jupyter.widget-view+json": {
       "model_id": "99e1089ae9be4f9386fe0394baa8459a",
       "version_major": 2,
       "version_minor": 0
      },
      "text/plain": [
       "Running Evaluation:   0%|          | 0/84 [00:00<?, ?it/s]"
      ]
     },
     "metadata": {},
     "output_type": "display_data"
    },
    {
     "name": "stderr",
     "output_type": "stream",
     "text": [
      "INFO:simpletransformers.classification.classification_model:{'mcc': 0.5019747658331104, 'tp': 454, 'tn': 88, 'fp': 93, 'fn': 28, 'acc': 0.8174962292609351, 'eval_loss': 0.40546043603015797}\n"
     ]
    }
   ],
   "source": [
    "# Train the model\n",
    "model.train_model(train_df, overwrite_output_dir=True)\n",
    "# Evaluate the model, u\n",
    "result, model_outputs, wrong_predictions = model.eval_model(eval_df, acc=sklearn.metrics.accuracy_score)"
   ]
  },
  {
   "cell_type": "code",
   "execution_count": 54,
   "id": "d0fb23f3",
   "metadata": {},
   "outputs": [
    {
     "data": {
      "text/plain": [
       "{'mcc': 0.5019747658331104,\n",
       " 'tp': 454,\n",
       " 'tn': 88,\n",
       " 'fp': 93,\n",
       " 'fn': 28,\n",
       " 'acc': 0.8174962292609351,\n",
       " 'eval_loss': 0.40546043603015797}"
      ]
     },
     "execution_count": 54,
     "metadata": {},
     "output_type": "execute_result"
    }
   ],
   "source": [
    "result"
   ]
  },
  {
   "cell_type": "code",
   "execution_count": 55,
   "id": "e9bf05de",
   "metadata": {},
   "outputs": [],
   "source": [
    "import pandas as pd"
   ]
  },
  {
   "cell_type": "code",
   "execution_count": 56,
   "id": "d197afd4",
   "metadata": {},
   "outputs": [],
   "source": [
    "dfx = pd.read_csv(\"downloads/16M_small_alldomains_clean.csv\",  lineterminator='\\n', error_bad_lines=False)"
   ]
  },
  {
   "cell_type": "code",
   "execution_count": 57,
   "id": "e582f176",
   "metadata": {},
   "outputs": [
    {
     "data": {
      "text/html": [
       "<div>\n",
       "<style scoped>\n",
       "    .dataframe tbody tr th:only-of-type {\n",
       "        vertical-align: middle;\n",
       "    }\n",
       "\n",
       "    .dataframe tbody tr th {\n",
       "        vertical-align: top;\n",
       "    }\n",
       "\n",
       "    .dataframe thead th {\n",
       "        text-align: right;\n",
       "    }\n",
       "</style>\n",
       "<table border=\"1\" class=\"dataframe\">\n",
       "  <thead>\n",
       "    <tr style=\"text-align: right;\">\n",
       "      <th></th>\n",
       "      <th>text</th>\n",
       "      <th>doi</th>\n",
       "      <th>fields</th>\n",
       "    </tr>\n",
       "  </thead>\n",
       "  <tbody>\n",
       "  </tbody>\n",
       "</table>\n",
       "</div>"
      ],
      "text/plain": [
       "Empty DataFrame\n",
       "Columns: [text, doi, fields]\n",
       "Index: []"
      ]
     },
     "execution_count": 57,
     "metadata": {},
     "output_type": "execute_result"
    }
   ],
   "source": [
    "dfx[dfx[\"text\"] == \"nan\"]"
   ]
  },
  {
   "cell_type": "code",
   "execution_count": 58,
   "id": "ab2d3e0d",
   "metadata": {},
   "outputs": [],
   "source": [
    "df2 = pd.read_csv(\"downloads/train_final_june23_all.csv\")\n"
   ]
  },
  {
   "cell_type": "code",
   "execution_count": 59,
   "id": "788cdd87",
   "metadata": {},
   "outputs": [
    {
     "data": {
      "text/plain": [
       "Medicine                 38453\n",
       "Biology                   1024\n",
       "Computer Science           996\n",
       "Environmental Science      789\n",
       "Psychology                 694\n",
       "Sociology                  458\n",
       "Geology                    350\n",
       "Materials Science          185\n",
       "Name: fields, dtype: int64"
      ]
     },
     "execution_count": 59,
     "metadata": {},
     "output_type": "execute_result"
    }
   ],
   "source": [
    "df2.fields.value_counts()"
   ]
  },
  {
   "cell_type": "code",
   "execution_count": 60,
   "id": "a256633b",
   "metadata": {},
   "outputs": [],
   "source": [
    "# dfx = dfx[dfx.fields.isin(['Environmental Science', 'Material Science', 'Psychology', 'Geology', 'Biology', 'Materials Science'])]\n",
    "dfx = dfx[dfx.fields.isin(['Psychology', \"Environmental Science\"])]\n"
   ]
  },
  {
   "cell_type": "code",
   "execution_count": 61,
   "id": "8c825798",
   "metadata": {},
   "outputs": [
    {
     "data": {
      "text/plain": [
       "Psychology               0.728675\n",
       "Environmental Science    0.271325\n",
       "Name: fields, dtype: float64"
      ]
     },
     "execution_count": 61,
     "metadata": {},
     "output_type": "execute_result"
    }
   ],
   "source": [
    "dfx.fields.value_counts(normalize=True)"
   ]
  },
  {
   "cell_type": "code",
   "execution_count": 62,
   "id": "542d28c1",
   "metadata": {},
   "outputs": [
    {
     "data": {
      "text/plain": [
       "999480"
      ]
     },
     "execution_count": 62,
     "metadata": {},
     "output_type": "execute_result"
    }
   ],
   "source": [
    "dfx[\"text\"] = dfx[\"text\"].astype(str)\n",
    "len(dfx)\n"
   ]
  },
  {
   "cell_type": "code",
   "execution_count": 63,
   "id": "09ce43ab",
   "metadata": {},
   "outputs": [],
   "source": [
    "#p1 = \"downloads/predicts_21June_5M_biomed.txt\"\n",
    "predicts_path = 'downloads/predicts_env_psych.txt'"
   ]
  },
  {
   "cell_type": "code",
   "execution_count": 64,
   "id": "74f8caa2",
   "metadata": {},
   "outputs": [],
   "source": [
    "def stepwise(step, df, f):\n",
    "    l = []\n",
    "    for idx in range(step, len(df)+step-1, step):\n",
    "        print(idx-step, idx)# dataframe[idx-step:idx])\n",
    "        sl = df[idx-step:idx]\n",
    "        batch = model.predict(list(sl))\n",
    "        l = l + list(batch[0])\n",
    "        with open(predicts_path, 'w') as f:\n",
    "            for item in l:\n",
    "                f.write(\"%s\\n\" % item)\n",
    "    return l"
   ]
  },
  {
   "cell_type": "code",
   "execution_count": 65,
   "id": "654023ff",
   "metadata": {},
   "outputs": [
    {
     "name": "stderr",
     "output_type": "stream",
     "text": [
      "INFO:simpletransformers.classification.classification_model: Converting to features started. Cache is not used.\n",
      "INFO:simpletransformers.classification.classification_model: Sliding window enabled\n"
     ]
    },
    {
     "name": "stdout",
     "output_type": "stream",
     "text": [
      "0 50000\n"
     ]
    },
    {
     "data": {
      "application/vnd.jupyter.widget-view+json": {
       "model_id": "e5fa568603d9443fac0d45c3e15846cc",
       "version_major": 2,
       "version_minor": 0
      },
      "text/plain": [
       "  0%|          | 0/50000 [00:00<?, ?it/s]"
      ]
     },
     "metadata": {},
     "output_type": "display_data"
    },
    {
     "name": "stderr",
     "output_type": "stream",
     "text": [
      "Token indices sequence length is longer than the specified maximum sequence length for this model (636 > 512). Running this sequence through the model will result in indexing errors\n",
      "Token indices sequence length is longer than the specified maximum sequence length for this model (1232 > 512). Running this sequence through the model will result in indexing errors\n",
      "Token indices sequence length is longer than the specified maximum sequence length for this model (676 > 512). Running this sequence through the model will result in indexing errors\n",
      "Token indices sequence length is longer than the specified maximum sequence length for this model (741 > 512). Running this sequence through the model will result in indexing errors\n",
      "Token indices sequence length is longer than the specified maximum sequence length for this model (1100 > 512). Running this sequence through the model will result in indexing errors\n",
      "Token indices sequence length is longer than the specified maximum sequence length for this model (520 > 512). Running this sequence through the model will result in indexing errors\n",
      "Token indices sequence length is longer than the specified maximum sequence length for this model (579 > 512). Running this sequence through the model will result in indexing errors\n",
      "Token indices sequence length is longer than the specified maximum sequence length for this model (778 > 512). Running this sequence through the model will result in indexing errors\n",
      "INFO:simpletransformers.classification.classification_model: 50000 features created from 50000 samples.\n"
     ]
    },
    {
     "data": {
      "application/vnd.jupyter.widget-view+json": {
       "model_id": "937ee9c46d2147919e1d0d5e69873b3f",
       "version_major": 2,
       "version_minor": 0
      },
      "text/plain": [
       "  0%|          | 0/6294 [00:00<?, ?it/s]"
      ]
     },
     "metadata": {},
     "output_type": "display_data"
    },
    {
     "name": "stderr",
     "output_type": "stream",
     "text": [
      "INFO:simpletransformers.classification.classification_model: Converting to features started. Cache is not used.\n",
      "INFO:simpletransformers.classification.classification_model: Sliding window enabled\n"
     ]
    },
    {
     "name": "stdout",
     "output_type": "stream",
     "text": [
      "50000 100000\n"
     ]
    },
    {
     "data": {
      "application/vnd.jupyter.widget-view+json": {
       "model_id": "5847011fe5f94729bf041a81e439533a",
       "version_major": 2,
       "version_minor": 0
      },
      "text/plain": [
       "  0%|          | 0/50000 [00:00<?, ?it/s]"
      ]
     },
     "metadata": {},
     "output_type": "display_data"
    },
    {
     "name": "stderr",
     "output_type": "stream",
     "text": [
      "Token indices sequence length is longer than the specified maximum sequence length for this model (536 > 512). Running this sequence through the model will result in indexing errors\n",
      "Token indices sequence length is longer than the specified maximum sequence length for this model (973 > 512). Running this sequence through the model will result in indexing errors\n",
      "Token indices sequence length is longer than the specified maximum sequence length for this model (975 > 512). Running this sequence through the model will result in indexing errors\n",
      "Token indices sequence length is longer than the specified maximum sequence length for this model (958 > 512). Running this sequence through the model will result in indexing errors\n",
      "Token indices sequence length is longer than the specified maximum sequence length for this model (987 > 512). Running this sequence through the model will result in indexing errors\n",
      "Token indices sequence length is longer than the specified maximum sequence length for this model (766 > 512). Running this sequence through the model will result in indexing errors\n",
      "Token indices sequence length is longer than the specified maximum sequence length for this model (811 > 512). Running this sequence through the model will result in indexing errorsToken indices sequence length is longer than the specified maximum sequence length for this model (767 > 512). Running this sequence through the model will result in indexing errors\n",
      "\n",
      "INFO:simpletransformers.classification.classification_model: 50000 features created from 50000 samples.\n"
     ]
    },
    {
     "data": {
      "application/vnd.jupyter.widget-view+json": {
       "model_id": "3dfad8e672614c16aff475c846819c82",
       "version_major": 2,
       "version_minor": 0
      },
      "text/plain": [
       "  0%|          | 0/6292 [00:00<?, ?it/s]"
      ]
     },
     "metadata": {},
     "output_type": "display_data"
    },
    {
     "name": "stderr",
     "output_type": "stream",
     "text": [
      "INFO:simpletransformers.classification.classification_model: Converting to features started. Cache is not used.\n",
      "INFO:simpletransformers.classification.classification_model: Sliding window enabled\n"
     ]
    },
    {
     "name": "stdout",
     "output_type": "stream",
     "text": [
      "100000 150000\n"
     ]
    },
    {
     "data": {
      "application/vnd.jupyter.widget-view+json": {
       "model_id": "2e8eefe6ae224b0a9c15fb7242d5fb2a",
       "version_major": 2,
       "version_minor": 0
      },
      "text/plain": [
       "  0%|          | 0/50000 [00:00<?, ?it/s]"
      ]
     },
     "metadata": {},
     "output_type": "display_data"
    },
    {
     "name": "stderr",
     "output_type": "stream",
     "text": [
      "Token indices sequence length is longer than the specified maximum sequence length for this model (661 > 512). Running this sequence through the model will result in indexing errors\n",
      "Token indices sequence length is longer than the specified maximum sequence length for this model (785 > 512). Running this sequence through the model will result in indexing errors\n",
      "Token indices sequence length is longer than the specified maximum sequence length for this model (537 > 512). Running this sequence through the model will result in indexing errors\n",
      "Token indices sequence length is longer than the specified maximum sequence length for this model (636 > 512). Running this sequence through the model will result in indexing errors\n",
      "Token indices sequence length is longer than the specified maximum sequence length for this model (1232 > 512). Running this sequence through the model will result in indexing errors\n",
      "Token indices sequence length is longer than the specified maximum sequence length for this model (676 > 512). Running this sequence through the model will result in indexing errors\n",
      "Token indices sequence length is longer than the specified maximum sequence length for this model (741 > 512). Running this sequence through the model will result in indexing errors\n",
      "Token indices sequence length is longer than the specified maximum sequence length for this model (1100 > 512). Running this sequence through the model will result in indexing errors\n",
      "Token indices sequence length is longer than the specified maximum sequence length for this model (520 > 512). Running this sequence through the model will result in indexing errors\n",
      "INFO:simpletransformers.classification.classification_model: 50000 features created from 50000 samples.\n"
     ]
    },
    {
     "data": {
      "application/vnd.jupyter.widget-view+json": {
       "model_id": "0182dadf41544ccf94b1259a2192f2e0",
       "version_major": 2,
       "version_minor": 0
      },
      "text/plain": [
       "  0%|          | 0/6295 [00:00<?, ?it/s]"
      ]
     },
     "metadata": {},
     "output_type": "display_data"
    },
    {
     "name": "stderr",
     "output_type": "stream",
     "text": [
      "INFO:simpletransformers.classification.classification_model: Converting to features started. Cache is not used.\n",
      "INFO:simpletransformers.classification.classification_model: Sliding window enabled\n"
     ]
    },
    {
     "name": "stdout",
     "output_type": "stream",
     "text": [
      "150000 200000\n"
     ]
    },
    {
     "data": {
      "application/vnd.jupyter.widget-view+json": {
       "model_id": "d283de63ad1f4ce39313b15d82f82240",
       "version_major": 2,
       "version_minor": 0
      },
      "text/plain": [
       "  0%|          | 0/50000 [00:00<?, ?it/s]"
      ]
     },
     "metadata": {},
     "output_type": "display_data"
    },
    {
     "name": "stderr",
     "output_type": "stream",
     "text": [
      "Token indices sequence length is longer than the specified maximum sequence length for this model (579 > 512). Running this sequence through the model will result in indexing errors\n",
      "Token indices sequence length is longer than the specified maximum sequence length for this model (778 > 512). Running this sequence through the model will result in indexing errors\n",
      "Token indices sequence length is longer than the specified maximum sequence length for this model (536 > 512). Running this sequence through the model will result in indexing errors\n",
      "Token indices sequence length is longer than the specified maximum sequence length for this model (973 > 512). Running this sequence through the model will result in indexing errors\n",
      "Token indices sequence length is longer than the specified maximum sequence length for this model (975 > 512). Running this sequence through the model will result in indexing errors\n",
      "Token indices sequence length is longer than the specified maximum sequence length for this model (958 > 512). Running this sequence through the model will result in indexing errors\n",
      "INFO:simpletransformers.classification.classification_model: 50000 features created from 50000 samples.\n"
     ]
    },
    {
     "data": {
      "application/vnd.jupyter.widget-view+json": {
       "model_id": "a374485908e5455f90f3904978a58f66",
       "version_major": 2,
       "version_minor": 0
      },
      "text/plain": [
       "  0%|          | 0/6294 [00:00<?, ?it/s]"
      ]
     },
     "metadata": {},
     "output_type": "display_data"
    },
    {
     "name": "stderr",
     "output_type": "stream",
     "text": [
      "INFO:simpletransformers.classification.classification_model: Converting to features started. Cache is not used.\n",
      "INFO:simpletransformers.classification.classification_model: Sliding window enabled\n"
     ]
    },
    {
     "name": "stdout",
     "output_type": "stream",
     "text": [
      "200000 250000\n"
     ]
    },
    {
     "data": {
      "application/vnd.jupyter.widget-view+json": {
       "model_id": "4636542c1fdb48e4833ff9dfc49deaed",
       "version_major": 2,
       "version_minor": 0
      },
      "text/plain": [
       "  0%|          | 0/50000 [00:00<?, ?it/s]"
      ]
     },
     "metadata": {},
     "output_type": "display_data"
    },
    {
     "name": "stderr",
     "output_type": "stream",
     "text": [
      "Token indices sequence length is longer than the specified maximum sequence length for this model (987 > 512). Running this sequence through the model will result in indexing errors\n",
      "Token indices sequence length is longer than the specified maximum sequence length for this model (766 > 512). Running this sequence through the model will result in indexing errors\n",
      "Token indices sequence length is longer than the specified maximum sequence length for this model (811 > 512). Running this sequence through the model will result in indexing errors\n",
      "Token indices sequence length is longer than the specified maximum sequence length for this model (767 > 512). Running this sequence through the model will result in indexing errors\n",
      "Token indices sequence length is longer than the specified maximum sequence length for this model (785 > 512). Running this sequence through the model will result in indexing errors\n",
      "Token indices sequence length is longer than the specified maximum sequence length for this model (661 > 512). Running this sequence through the model will result in indexing errors\n",
      "Token indices sequence length is longer than the specified maximum sequence length for this model (537 > 512). Running this sequence through the model will result in indexing errors\n",
      "INFO:simpletransformers.classification.classification_model: 50000 features created from 50000 samples.\n"
     ]
    },
    {
     "data": {
      "application/vnd.jupyter.widget-view+json": {
       "model_id": "4648fa1976ae48218a48b31faf320fc2",
       "version_major": 2,
       "version_minor": 0
      },
      "text/plain": [
       "  0%|          | 0/6291 [00:00<?, ?it/s]"
      ]
     },
     "metadata": {},
     "output_type": "display_data"
    },
    {
     "name": "stderr",
     "output_type": "stream",
     "text": [
      "INFO:simpletransformers.classification.classification_model: Converting to features started. Cache is not used.\n",
      "INFO:simpletransformers.classification.classification_model: Sliding window enabled\n"
     ]
    },
    {
     "name": "stdout",
     "output_type": "stream",
     "text": [
      "250000 300000\n"
     ]
    },
    {
     "data": {
      "application/vnd.jupyter.widget-view+json": {
       "model_id": "12b15c5da9484ddfb3290c02db08dbf6",
       "version_major": 2,
       "version_minor": 0
      },
      "text/plain": [
       "  0%|          | 0/50000 [00:00<?, ?it/s]"
      ]
     },
     "metadata": {},
     "output_type": "display_data"
    },
    {
     "name": "stderr",
     "output_type": "stream",
     "text": [
      "Token indices sequence length is longer than the specified maximum sequence length for this model (1232 > 512). Running this sequence through the model will result in indexing errors\n",
      "Token indices sequence length is longer than the specified maximum sequence length for this model (636 > 512). Running this sequence through the model will result in indexing errors\n",
      "Token indices sequence length is longer than the specified maximum sequence length for this model (676 > 512). Running this sequence through the model will result in indexing errors\n",
      "Token indices sequence length is longer than the specified maximum sequence length for this model (741 > 512). Running this sequence through the model will result in indexing errors\n",
      "Token indices sequence length is longer than the specified maximum sequence length for this model (1100 > 512). Running this sequence through the model will result in indexing errors\n",
      "Token indices sequence length is longer than the specified maximum sequence length for this model (520 > 512). Running this sequence through the model will result in indexing errors\n",
      "Token indices sequence length is longer than the specified maximum sequence length for this model (579 > 512). Running this sequence through the model will result in indexing errors\n",
      "Token indices sequence length is longer than the specified maximum sequence length for this model (778 > 512). Running this sequence through the model will result in indexing errors\n",
      "INFO:simpletransformers.classification.classification_model: 50000 features created from 50000 samples.\n"
     ]
    },
    {
     "data": {
      "application/vnd.jupyter.widget-view+json": {
       "model_id": "49679533cb05418e89859a1d2ff14f95",
       "version_major": 2,
       "version_minor": 0
      },
      "text/plain": [
       "  0%|          | 0/6294 [00:00<?, ?it/s]"
      ]
     },
     "metadata": {},
     "output_type": "display_data"
    },
    {
     "name": "stderr",
     "output_type": "stream",
     "text": [
      "INFO:simpletransformers.classification.classification_model: Converting to features started. Cache is not used.\n",
      "INFO:simpletransformers.classification.classification_model: Sliding window enabled\n"
     ]
    },
    {
     "name": "stdout",
     "output_type": "stream",
     "text": [
      "300000 350000\n"
     ]
    },
    {
     "data": {
      "application/vnd.jupyter.widget-view+json": {
       "model_id": "5a3045b524574f039b0d149e7e674c43",
       "version_major": 2,
       "version_minor": 0
      },
      "text/plain": [
       "  0%|          | 0/50000 [00:00<?, ?it/s]"
      ]
     },
     "metadata": {},
     "output_type": "display_data"
    },
    {
     "name": "stderr",
     "output_type": "stream",
     "text": [
      "Token indices sequence length is longer than the specified maximum sequence length for this model (536 > 512). Running this sequence through the model will result in indexing errors\n",
      "Token indices sequence length is longer than the specified maximum sequence length for this model (973 > 512). Running this sequence through the model will result in indexing errors\n",
      "Token indices sequence length is longer than the specified maximum sequence length for this model (975 > 512). Running this sequence through the model will result in indexing errors\n",
      "Token indices sequence length is longer than the specified maximum sequence length for this model (958 > 512). Running this sequence through the model will result in indexing errors\n",
      "Token indices sequence length is longer than the specified maximum sequence length for this model (987 > 512). Running this sequence through the model will result in indexing errors\n",
      "Token indices sequence length is longer than the specified maximum sequence length for this model (766 > 512). Running this sequence through the model will result in indexing errors\n",
      "Token indices sequence length is longer than the specified maximum sequence length for this model (811 > 512). Running this sequence through the model will result in indexing errors\n",
      "Token indices sequence length is longer than the specified maximum sequence length for this model (767 > 512). Running this sequence through the model will result in indexing errors\n",
      "INFO:simpletransformers.classification.classification_model: 50000 features created from 50000 samples.\n"
     ]
    },
    {
     "data": {
      "application/vnd.jupyter.widget-view+json": {
       "model_id": "dc0c76153914434898cceaa08fc4a9c0",
       "version_major": 2,
       "version_minor": 0
      },
      "text/plain": [
       "  0%|          | 0/6292 [00:00<?, ?it/s]"
      ]
     },
     "metadata": {},
     "output_type": "display_data"
    },
    {
     "name": "stderr",
     "output_type": "stream",
     "text": [
      "INFO:simpletransformers.classification.classification_model: Converting to features started. Cache is not used.\n",
      "INFO:simpletransformers.classification.classification_model: Sliding window enabled\n"
     ]
    },
    {
     "name": "stdout",
     "output_type": "stream",
     "text": [
      "350000 400000\n"
     ]
    },
    {
     "data": {
      "application/vnd.jupyter.widget-view+json": {
       "model_id": "115634aa654b4451ba0f6ffe236bdd8f",
       "version_major": 2,
       "version_minor": 0
      },
      "text/plain": [
       "  0%|          | 0/50000 [00:00<?, ?it/s]"
      ]
     },
     "metadata": {},
     "output_type": "display_data"
    },
    {
     "name": "stderr",
     "output_type": "stream",
     "text": [
      "Token indices sequence length is longer than the specified maximum sequence length for this model (661 > 512). Running this sequence through the model will result in indexing errors\n",
      "Token indices sequence length is longer than the specified maximum sequence length for this model (785 > 512). Running this sequence through the model will result in indexing errors\n",
      "Token indices sequence length is longer than the specified maximum sequence length for this model (537 > 512). Running this sequence through the model will result in indexing errors\n",
      "Token indices sequence length is longer than the specified maximum sequence length for this model (636 > 512). Running this sequence through the model will result in indexing errors\n",
      "Token indices sequence length is longer than the specified maximum sequence length for this model (1232 > 512). Running this sequence through the model will result in indexing errors\n",
      "Token indices sequence length is longer than the specified maximum sequence length for this model (676 > 512). Running this sequence through the model will result in indexing errors\n",
      "Token indices sequence length is longer than the specified maximum sequence length for this model (741 > 512). Running this sequence through the model will result in indexing errors\n",
      "Token indices sequence length is longer than the specified maximum sequence length for this model (1100 > 512). Running this sequence through the model will result in indexing errors\n",
      "Token indices sequence length is longer than the specified maximum sequence length for this model (520 > 512). Running this sequence through the model will result in indexing errors\n",
      "INFO:simpletransformers.classification.classification_model: 50000 features created from 50000 samples.\n"
     ]
    },
    {
     "data": {
      "application/vnd.jupyter.widget-view+json": {
       "model_id": "6cccc05644a8490caf60b4710ce7b399",
       "version_major": 2,
       "version_minor": 0
      },
      "text/plain": [
       "  0%|          | 0/6295 [00:00<?, ?it/s]"
      ]
     },
     "metadata": {},
     "output_type": "display_data"
    },
    {
     "name": "stderr",
     "output_type": "stream",
     "text": [
      "INFO:simpletransformers.classification.classification_model: Converting to features started. Cache is not used.\n",
      "INFO:simpletransformers.classification.classification_model: Sliding window enabled\n"
     ]
    },
    {
     "name": "stdout",
     "output_type": "stream",
     "text": [
      "400000 450000\n"
     ]
    },
    {
     "data": {
      "application/vnd.jupyter.widget-view+json": {
       "model_id": "be39147746fd4f0880d0ce035d4dc19c",
       "version_major": 2,
       "version_minor": 0
      },
      "text/plain": [
       "  0%|          | 0/50000 [00:00<?, ?it/s]"
      ]
     },
     "metadata": {},
     "output_type": "display_data"
    },
    {
     "name": "stderr",
     "output_type": "stream",
     "text": [
      "Token indices sequence length is longer than the specified maximum sequence length for this model (579 > 512). Running this sequence through the model will result in indexing errors\n",
      "Token indices sequence length is longer than the specified maximum sequence length for this model (778 > 512). Running this sequence through the model will result in indexing errors\n",
      "Token indices sequence length is longer than the specified maximum sequence length for this model (536 > 512). Running this sequence through the model will result in indexing errors\n",
      "Token indices sequence length is longer than the specified maximum sequence length for this model (973 > 512). Running this sequence through the model will result in indexing errors\n",
      "Token indices sequence length is longer than the specified maximum sequence length for this model (958 > 512). Running this sequence through the model will result in indexing errors\n",
      "Token indices sequence length is longer than the specified maximum sequence length for this model (975 > 512). Running this sequence through the model will result in indexing errors\n",
      "INFO:simpletransformers.classification.classification_model: 50000 features created from 50000 samples.\n"
     ]
    },
    {
     "data": {
      "application/vnd.jupyter.widget-view+json": {
       "model_id": "780b4dde3ecf44a196742786794d8eab",
       "version_major": 2,
       "version_minor": 0
      },
      "text/plain": [
       "  0%|          | 0/6293 [00:00<?, ?it/s]"
      ]
     },
     "metadata": {},
     "output_type": "display_data"
    },
    {
     "name": "stderr",
     "output_type": "stream",
     "text": [
      "INFO:simpletransformers.classification.classification_model: Converting to features started. Cache is not used.\n",
      "INFO:simpletransformers.classification.classification_model: Sliding window enabled\n"
     ]
    },
    {
     "name": "stdout",
     "output_type": "stream",
     "text": [
      "450000 500000\n"
     ]
    },
    {
     "data": {
      "application/vnd.jupyter.widget-view+json": {
       "model_id": "a38dec7570e341abaed7824bf4e1e5d0",
       "version_major": 2,
       "version_minor": 0
      },
      "text/plain": [
       "  0%|          | 0/50000 [00:00<?, ?it/s]"
      ]
     },
     "metadata": {},
     "output_type": "display_data"
    },
    {
     "name": "stderr",
     "output_type": "stream",
     "text": [
      "Token indices sequence length is longer than the specified maximum sequence length for this model (766 > 512). Running this sequence through the model will result in indexing errors\n",
      "Token indices sequence length is longer than the specified maximum sequence length for this model (987 > 512). Running this sequence through the model will result in indexing errors\n",
      "Token indices sequence length is longer than the specified maximum sequence length for this model (811 > 512). Running this sequence through the model will result in indexing errors\n",
      "Token indices sequence length is longer than the specified maximum sequence length for this model (767 > 512). Running this sequence through the model will result in indexing errors\n",
      "Token indices sequence length is longer than the specified maximum sequence length for this model (785 > 512). Running this sequence through the model will result in indexing errors\n",
      "Token indices sequence length is longer than the specified maximum sequence length for this model (661 > 512). Running this sequence through the model will result in indexing errors\n",
      "Token indices sequence length is longer than the specified maximum sequence length for this model (537 > 512). Running this sequence through the model will result in indexing errors\n",
      "INFO:simpletransformers.classification.classification_model: 50000 features created from 50000 samples.\n"
     ]
    },
    {
     "data": {
      "application/vnd.jupyter.widget-view+json": {
       "model_id": "0db0d8ef4cfe4404a09ac57e8e139c13",
       "version_major": 2,
       "version_minor": 0
      },
      "text/plain": [
       "  0%|          | 0/6291 [00:00<?, ?it/s]"
      ]
     },
     "metadata": {},
     "output_type": "display_data"
    },
    {
     "name": "stderr",
     "output_type": "stream",
     "text": [
      "INFO:simpletransformers.classification.classification_model: Converting to features started. Cache is not used.\n",
      "INFO:simpletransformers.classification.classification_model: Sliding window enabled\n"
     ]
    },
    {
     "name": "stdout",
     "output_type": "stream",
     "text": [
      "500000 550000\n"
     ]
    },
    {
     "data": {
      "application/vnd.jupyter.widget-view+json": {
       "model_id": "1e6669bae401427b8ad03e07a01116d8",
       "version_major": 2,
       "version_minor": 0
      },
      "text/plain": [
       "  0%|          | 0/50000 [00:00<?, ?it/s]"
      ]
     },
     "metadata": {},
     "output_type": "display_data"
    },
    {
     "name": "stderr",
     "output_type": "stream",
     "text": [
      "Token indices sequence length is longer than the specified maximum sequence length for this model (636 > 512). Running this sequence through the model will result in indexing errors\n",
      "Token indices sequence length is longer than the specified maximum sequence length for this model (676 > 512). Running this sequence through the model will result in indexing errors\n",
      "Token indices sequence length is longer than the specified maximum sequence length for this model (1232 > 512). Running this sequence through the model will result in indexing errors\n",
      "Token indices sequence length is longer than the specified maximum sequence length for this model (741 > 512). Running this sequence through the model will result in indexing errors\n",
      "Token indices sequence length is longer than the specified maximum sequence length for this model (1100 > 512). Running this sequence through the model will result in indexing errors\n",
      "Token indices sequence length is longer than the specified maximum sequence length for this model (520 > 512). Running this sequence through the model will result in indexing errors\n",
      "Token indices sequence length is longer than the specified maximum sequence length for this model (579 > 512). Running this sequence through the model will result in indexing errors\n",
      "Token indices sequence length is longer than the specified maximum sequence length for this model (778 > 512). Running this sequence through the model will result in indexing errors\n",
      "INFO:simpletransformers.classification.classification_model: 50000 features created from 50000 samples.\n"
     ]
    },
    {
     "data": {
      "application/vnd.jupyter.widget-view+json": {
       "model_id": "34eacb37ee6349eabd7187544dae8e15",
       "version_major": 2,
       "version_minor": 0
      },
      "text/plain": [
       "  0%|          | 0/6294 [00:00<?, ?it/s]"
      ]
     },
     "metadata": {},
     "output_type": "display_data"
    },
    {
     "name": "stderr",
     "output_type": "stream",
     "text": [
      "INFO:simpletransformers.classification.classification_model: Converting to features started. Cache is not used.\n",
      "INFO:simpletransformers.classification.classification_model: Sliding window enabled\n"
     ]
    },
    {
     "name": "stdout",
     "output_type": "stream",
     "text": [
      "550000 600000\n"
     ]
    },
    {
     "data": {
      "application/vnd.jupyter.widget-view+json": {
       "model_id": "097a7fd9b4a54bdea7f319e4a1fa2905",
       "version_major": 2,
       "version_minor": 0
      },
      "text/plain": [
       "  0%|          | 0/50000 [00:00<?, ?it/s]"
      ]
     },
     "metadata": {},
     "output_type": "display_data"
    },
    {
     "name": "stderr",
     "output_type": "stream",
     "text": [
      "Token indices sequence length is longer than the specified maximum sequence length for this model (536 > 512). Running this sequence through the model will result in indexing errors\n",
      "Token indices sequence length is longer than the specified maximum sequence length for this model (973 > 512). Running this sequence through the model will result in indexing errors\n",
      "Token indices sequence length is longer than the specified maximum sequence length for this model (975 > 512). Running this sequence through the model will result in indexing errors\n",
      "Token indices sequence length is longer than the specified maximum sequence length for this model (958 > 512). Running this sequence through the model will result in indexing errors\n",
      "Token indices sequence length is longer than the specified maximum sequence length for this model (766 > 512). Running this sequence through the model will result in indexing errors\n",
      "Token indices sequence length is longer than the specified maximum sequence length for this model (987 > 512). Running this sequence through the model will result in indexing errors\n",
      "Token indices sequence length is longer than the specified maximum sequence length for this model (811 > 512). Running this sequence through the model will result in indexing errors\n",
      "Token indices sequence length is longer than the specified maximum sequence length for this model (767 > 512). Running this sequence through the model will result in indexing errors\n",
      "INFO:simpletransformers.classification.classification_model: 50000 features created from 50000 samples.\n"
     ]
    },
    {
     "data": {
      "application/vnd.jupyter.widget-view+json": {
       "model_id": "726ffe3c414b4bf38490562f08df0c92",
       "version_major": 2,
       "version_minor": 0
      },
      "text/plain": [
       "  0%|          | 0/6292 [00:00<?, ?it/s]"
      ]
     },
     "metadata": {},
     "output_type": "display_data"
    },
    {
     "name": "stderr",
     "output_type": "stream",
     "text": [
      "INFO:simpletransformers.classification.classification_model: Converting to features started. Cache is not used.\n",
      "INFO:simpletransformers.classification.classification_model: Sliding window enabled\n"
     ]
    },
    {
     "name": "stdout",
     "output_type": "stream",
     "text": [
      "600000 650000\n"
     ]
    },
    {
     "data": {
      "application/vnd.jupyter.widget-view+json": {
       "model_id": "84dffe9b796f429a8b4a33089a69d64f",
       "version_major": 2,
       "version_minor": 0
      },
      "text/plain": [
       "  0%|          | 0/50000 [00:00<?, ?it/s]"
      ]
     },
     "metadata": {},
     "output_type": "display_data"
    },
    {
     "name": "stderr",
     "output_type": "stream",
     "text": [
      "Token indices sequence length is longer than the specified maximum sequence length for this model (785 > 512). Running this sequence through the model will result in indexing errors\n",
      "Token indices sequence length is longer than the specified maximum sequence length for this model (661 > 512). Running this sequence through the model will result in indexing errors\n",
      "Token indices sequence length is longer than the specified maximum sequence length for this model (537 > 512). Running this sequence through the model will result in indexing errors\n",
      "Token indices sequence length is longer than the specified maximum sequence length for this model (636 > 512). Running this sequence through the model will result in indexing errors\n",
      "Token indices sequence length is longer than the specified maximum sequence length for this model (1232 > 512). Running this sequence through the model will result in indexing errors\n",
      "Token indices sequence length is longer than the specified maximum sequence length for this model (676 > 512). Running this sequence through the model will result in indexing errors\n",
      "Token indices sequence length is longer than the specified maximum sequence length for this model (741 > 512). Running this sequence through the model will result in indexing errors\n",
      "Token indices sequence length is longer than the specified maximum sequence length for this model (1100 > 512). Running this sequence through the model will result in indexing errors\n",
      "Token indices sequence length is longer than the specified maximum sequence length for this model (520 > 512). Running this sequence through the model will result in indexing errors\n",
      "INFO:simpletransformers.classification.classification_model: 50000 features created from 50000 samples.\n"
     ]
    },
    {
     "data": {
      "application/vnd.jupyter.widget-view+json": {
       "model_id": "7c02a55f55f54a5ab76627f246365053",
       "version_major": 2,
       "version_minor": 0
      },
      "text/plain": [
       "  0%|          | 0/6295 [00:00<?, ?it/s]"
      ]
     },
     "metadata": {},
     "output_type": "display_data"
    },
    {
     "name": "stderr",
     "output_type": "stream",
     "text": [
      "INFO:simpletransformers.classification.classification_model: Converting to features started. Cache is not used.\n",
      "INFO:simpletransformers.classification.classification_model: Sliding window enabled\n"
     ]
    },
    {
     "name": "stdout",
     "output_type": "stream",
     "text": [
      "650000 700000\n"
     ]
    },
    {
     "data": {
      "application/vnd.jupyter.widget-view+json": {
       "model_id": "d5130f07ea454501a406f724604eb780",
       "version_major": 2,
       "version_minor": 0
      },
      "text/plain": [
       "  0%|          | 0/50000 [00:00<?, ?it/s]"
      ]
     },
     "metadata": {},
     "output_type": "display_data"
    },
    {
     "name": "stderr",
     "output_type": "stream",
     "text": [
      "Token indices sequence length is longer than the specified maximum sequence length for this model (579 > 512). Running this sequence through the model will result in indexing errors\n",
      "Token indices sequence length is longer than the specified maximum sequence length for this model (778 > 512). Running this sequence through the model will result in indexing errors\n",
      "Token indices sequence length is longer than the specified maximum sequence length for this model (536 > 512). Running this sequence through the model will result in indexing errors\n",
      "Token indices sequence length is longer than the specified maximum sequence length for this model (975 > 512). Running this sequence through the model will result in indexing errors\n",
      "Token indices sequence length is longer than the specified maximum sequence length for this model (973 > 512). Running this sequence through the model will result in indexing errors\n",
      "Token indices sequence length is longer than the specified maximum sequence length for this model (958 > 512). Running this sequence through the model will result in indexing errors\n",
      "INFO:simpletransformers.classification.classification_model: 50000 features created from 50000 samples.\n"
     ]
    },
    {
     "data": {
      "application/vnd.jupyter.widget-view+json": {
       "model_id": "2d21d15394e248819e16d9b0694b0a02",
       "version_major": 2,
       "version_minor": 0
      },
      "text/plain": [
       "  0%|          | 0/6293 [00:00<?, ?it/s]"
      ]
     },
     "metadata": {},
     "output_type": "display_data"
    },
    {
     "name": "stderr",
     "output_type": "stream",
     "text": [
      "INFO:simpletransformers.classification.classification_model: Converting to features started. Cache is not used.\n",
      "INFO:simpletransformers.classification.classification_model: Sliding window enabled\n"
     ]
    },
    {
     "name": "stdout",
     "output_type": "stream",
     "text": [
      "700000 750000\n"
     ]
    },
    {
     "data": {
      "application/vnd.jupyter.widget-view+json": {
       "model_id": "5dd3ed17069040ffbaa6cbb4679ed0c4",
       "version_major": 2,
       "version_minor": 0
      },
      "text/plain": [
       "  0%|          | 0/50000 [00:00<?, ?it/s]"
      ]
     },
     "metadata": {},
     "output_type": "display_data"
    },
    {
     "name": "stderr",
     "output_type": "stream",
     "text": [
      "Token indices sequence length is longer than the specified maximum sequence length for this model (766 > 512). Running this sequence through the model will result in indexing errors\n",
      "Token indices sequence length is longer than the specified maximum sequence length for this model (987 > 512). Running this sequence through the model will result in indexing errors\n",
      "Token indices sequence length is longer than the specified maximum sequence length for this model (811 > 512). Running this sequence through the model will result in indexing errors\n",
      "\n",
      "Token indices sequence length is longer than the specified maximum sequence length for this model (767 > 512). Running this sequence through the model will result in indexing errorsToken indices sequence length is longer than the specified maximum sequence length for this model (785 > 512). Running this sequence through the model will result in indexing errors\n",
      "Token indices sequence length is longer than the specified maximum sequence length for this model (661 > 512). Running this sequence through the model will result in indexing errors\n",
      "Token indices sequence length is longer than the specified maximum sequence length for this model (537 > 512). Running this sequence through the model will result in indexing errors\n",
      "INFO:simpletransformers.classification.classification_model: 50000 features created from 50000 samples.\n"
     ]
    },
    {
     "data": {
      "application/vnd.jupyter.widget-view+json": {
       "model_id": "7b2f145c95504513b51d561ce2c578e9",
       "version_major": 2,
       "version_minor": 0
      },
      "text/plain": [
       "  0%|          | 0/6292 [00:00<?, ?it/s]"
      ]
     },
     "metadata": {},
     "output_type": "display_data"
    },
    {
     "name": "stderr",
     "output_type": "stream",
     "text": [
      "INFO:simpletransformers.classification.classification_model: Converting to features started. Cache is not used.\n",
      "INFO:simpletransformers.classification.classification_model: Sliding window enabled\n"
     ]
    },
    {
     "name": "stdout",
     "output_type": "stream",
     "text": [
      "750000 800000\n"
     ]
    },
    {
     "data": {
      "application/vnd.jupyter.widget-view+json": {
       "model_id": "e1758cd4133f4805a176d74e99ad388a",
       "version_major": 2,
       "version_minor": 0
      },
      "text/plain": [
       "  0%|          | 0/50000 [00:00<?, ?it/s]"
      ]
     },
     "metadata": {},
     "output_type": "display_data"
    },
    {
     "name": "stderr",
     "output_type": "stream",
     "text": [
      "Token indices sequence length is longer than the specified maximum sequence length for this model (636 > 512). Running this sequence through the model will result in indexing errors\n",
      "Token indices sequence length is longer than the specified maximum sequence length for this model (1232 > 512). Running this sequence through the model will result in indexing errors\n",
      "Token indices sequence length is longer than the specified maximum sequence length for this model (676 > 512). Running this sequence through the model will result in indexing errors\n",
      "Token indices sequence length is longer than the specified maximum sequence length for this model (741 > 512). Running this sequence through the model will result in indexing errors\n",
      "Token indices sequence length is longer than the specified maximum sequence length for this model (1100 > 512). Running this sequence through the model will result in indexing errors\n",
      "Token indices sequence length is longer than the specified maximum sequence length for this model (520 > 512). Running this sequence through the model will result in indexing errors\n",
      "Token indices sequence length is longer than the specified maximum sequence length for this model (579 > 512). Running this sequence through the model will result in indexing errors\n",
      "Token indices sequence length is longer than the specified maximum sequence length for this model (778 > 512). Running this sequence through the model will result in indexing errors\n",
      "INFO:simpletransformers.classification.classification_model: 50000 features created from 50000 samples.\n"
     ]
    },
    {
     "data": {
      "application/vnd.jupyter.widget-view+json": {
       "model_id": "98cbf760c18546319caf388ffb9f13cf",
       "version_major": 2,
       "version_minor": 0
      },
      "text/plain": [
       "  0%|          | 0/6293 [00:00<?, ?it/s]"
      ]
     },
     "metadata": {},
     "output_type": "display_data"
    },
    {
     "name": "stderr",
     "output_type": "stream",
     "text": [
      "INFO:simpletransformers.classification.classification_model: Converting to features started. Cache is not used.\n",
      "INFO:simpletransformers.classification.classification_model: Sliding window enabled\n"
     ]
    },
    {
     "name": "stdout",
     "output_type": "stream",
     "text": [
      "800000 850000\n"
     ]
    },
    {
     "data": {
      "application/vnd.jupyter.widget-view+json": {
       "model_id": "03e4b710766c4e80829bf02328385c5d",
       "version_major": 2,
       "version_minor": 0
      },
      "text/plain": [
       "  0%|          | 0/50000 [00:00<?, ?it/s]"
      ]
     },
     "metadata": {},
     "output_type": "display_data"
    },
    {
     "name": "stderr",
     "output_type": "stream",
     "text": [
      "Token indices sequence length is longer than the specified maximum sequence length for this model (536 > 512). Running this sequence through the model will result in indexing errors\n",
      "Token indices sequence length is longer than the specified maximum sequence length for this model (975 > 512). Running this sequence through the model will result in indexing errors\n",
      "Token indices sequence length is longer than the specified maximum sequence length for this model (973 > 512). Running this sequence through the model will result in indexing errors\n",
      "Token indices sequence length is longer than the specified maximum sequence length for this model (958 > 512). Running this sequence through the model will result in indexing errors\n",
      "Token indices sequence length is longer than the specified maximum sequence length for this model (766 > 512). Running this sequence through the model will result in indexing errors\n",
      "Token indices sequence length is longer than the specified maximum sequence length for this model (987 > 512). Running this sequence through the model will result in indexing errors\n",
      "Token indices sequence length is longer than the specified maximum sequence length for this model (811 > 512). Running this sequence through the model will result in indexing errors\n",
      "Token indices sequence length is longer than the specified maximum sequence length for this model (767 > 512). Running this sequence through the model will result in indexing errors\n",
      "INFO:simpletransformers.classification.classification_model: 50000 features created from 50000 samples.\n"
     ]
    },
    {
     "data": {
      "application/vnd.jupyter.widget-view+json": {
       "model_id": "4c0c528ce1994780a7d4e26b076c5b98",
       "version_major": 2,
       "version_minor": 0
      },
      "text/plain": [
       "  0%|          | 0/6292 [00:00<?, ?it/s]"
      ]
     },
     "metadata": {},
     "output_type": "display_data"
    },
    {
     "name": "stderr",
     "output_type": "stream",
     "text": [
      "INFO:simpletransformers.classification.classification_model: Converting to features started. Cache is not used.\n",
      "INFO:simpletransformers.classification.classification_model: Sliding window enabled\n"
     ]
    },
    {
     "name": "stdout",
     "output_type": "stream",
     "text": [
      "850000 900000\n"
     ]
    },
    {
     "data": {
      "application/vnd.jupyter.widget-view+json": {
       "model_id": "c61e34186fe84766b644a3c77da6a693",
       "version_major": 2,
       "version_minor": 0
      },
      "text/plain": [
       "  0%|          | 0/50000 [00:00<?, ?it/s]"
      ]
     },
     "metadata": {},
     "output_type": "display_data"
    },
    {
     "name": "stderr",
     "output_type": "stream",
     "text": [
      "Token indices sequence length is longer than the specified maximum sequence length for this model (785 > 512). Running this sequence through the model will result in indexing errors\n",
      "Token indices sequence length is longer than the specified maximum sequence length for this model (661 > 512). Running this sequence through the model will result in indexing errors\n",
      "Token indices sequence length is longer than the specified maximum sequence length for this model (537 > 512). Running this sequence through the model will result in indexing errors\n",
      "Token indices sequence length is longer than the specified maximum sequence length for this model (636 > 512). Running this sequence through the model will result in indexing errors\n",
      "Token indices sequence length is longer than the specified maximum sequence length for this model (1232 > 512). Running this sequence through the model will result in indexing errors\n",
      "Token indices sequence length is longer than the specified maximum sequence length for this model (676 > 512). Running this sequence through the model will result in indexing errors\n",
      "Token indices sequence length is longer than the specified maximum sequence length for this model (741 > 512). Running this sequence through the model will result in indexing errors\n",
      "Token indices sequence length is longer than the specified maximum sequence length for this model (1100 > 512). Running this sequence through the model will result in indexing errors\n",
      "Token indices sequence length is longer than the specified maximum sequence length for this model (520 > 512). Running this sequence through the model will result in indexing errors\n",
      "INFO:simpletransformers.classification.classification_model: 50000 features created from 50000 samples.\n"
     ]
    },
    {
     "data": {
      "application/vnd.jupyter.widget-view+json": {
       "model_id": "0765f4ffb14747a6b03d03821a9b9eb0",
       "version_major": 2,
       "version_minor": 0
      },
      "text/plain": [
       "  0%|          | 0/6295 [00:00<?, ?it/s]"
      ]
     },
     "metadata": {},
     "output_type": "display_data"
    },
    {
     "name": "stderr",
     "output_type": "stream",
     "text": [
      "INFO:simpletransformers.classification.classification_model: Converting to features started. Cache is not used.\n",
      "INFO:simpletransformers.classification.classification_model: Sliding window enabled\n"
     ]
    },
    {
     "name": "stdout",
     "output_type": "stream",
     "text": [
      "900000 950000\n"
     ]
    },
    {
     "data": {
      "application/vnd.jupyter.widget-view+json": {
       "model_id": "30ab13d63d8f435e94b839b16efa3683",
       "version_major": 2,
       "version_minor": 0
      },
      "text/plain": [
       "  0%|          | 0/50000 [00:00<?, ?it/s]"
      ]
     },
     "metadata": {},
     "output_type": "display_data"
    },
    {
     "name": "stderr",
     "output_type": "stream",
     "text": [
      "Token indices sequence length is longer than the specified maximum sequence length for this model (579 > 512). Running this sequence through the model will result in indexing errors\n",
      "Token indices sequence length is longer than the specified maximum sequence length for this model (778 > 512). Running this sequence through the model will result in indexing errors\n",
      "Token indices sequence length is longer than the specified maximum sequence length for this model (536 > 512). Running this sequence through the model will result in indexing errors\n",
      "Token indices sequence length is longer than the specified maximum sequence length for this model (973 > 512). Running this sequence through the model will result in indexing errors\n",
      "Token indices sequence length is longer than the specified maximum sequence length for this model (975 > 512). Running this sequence through the model will result in indexing errors\n",
      "Token indices sequence length is longer than the specified maximum sequence length for this model (958 > 512). Running this sequence through the model will result in indexing errors\n",
      "INFO:simpletransformers.classification.classification_model: 50000 features created from 50000 samples.\n"
     ]
    },
    {
     "data": {
      "application/vnd.jupyter.widget-view+json": {
       "model_id": "8b609fedadb143dc8c820ea7fe39c29d",
       "version_major": 2,
       "version_minor": 0
      },
      "text/plain": [
       "  0%|          | 0/6293 [00:00<?, ?it/s]"
      ]
     },
     "metadata": {},
     "output_type": "display_data"
    },
    {
     "name": "stderr",
     "output_type": "stream",
     "text": [
      "INFO:simpletransformers.classification.classification_model: Converting to features started. Cache is not used.\n",
      "INFO:simpletransformers.classification.classification_model: Sliding window enabled\n"
     ]
    },
    {
     "name": "stdout",
     "output_type": "stream",
     "text": [
      "950000 1000000\n"
     ]
    },
    {
     "data": {
      "application/vnd.jupyter.widget-view+json": {
       "model_id": "b728817a3a744d2788e9a68a5b6fa2c4",
       "version_major": 2,
       "version_minor": 0
      },
      "text/plain": [
       "  0%|          | 0/49480 [00:00<?, ?it/s]"
      ]
     },
     "metadata": {},
     "output_type": "display_data"
    },
    {
     "name": "stderr",
     "output_type": "stream",
     "text": [
      "Token indices sequence length is longer than the specified maximum sequence length for this model (987 > 512). Running this sequence through the model will result in indexing errors\n",
      "Token indices sequence length is longer than the specified maximum sequence length for this model (766 > 512). Running this sequence through the model will result in indexing errors\n",
      "Token indices sequence length is longer than the specified maximum sequence length for this model (811 > 512). Running this sequence through the model will result in indexing errors\n",
      "Token indices sequence length is longer than the specified maximum sequence length for this model (767 > 512). Running this sequence through the model will result in indexing errors\n",
      "Token indices sequence length is longer than the specified maximum sequence length for this model (785 > 512). Running this sequence through the model will result in indexing errors\n",
      "Token indices sequence length is longer than the specified maximum sequence length for this model (661 > 512). Running this sequence through the model will result in indexing errors\n",
      "Token indices sequence length is longer than the specified maximum sequence length for this model (537 > 512). Running this sequence through the model will result in indexing errors\n",
      "INFO:simpletransformers.classification.classification_model: 49480 features created from 49480 samples.\n"
     ]
    },
    {
     "data": {
      "application/vnd.jupyter.widget-view+json": {
       "model_id": "fc337d3a45624b0b809a32453d310dfa",
       "version_major": 2,
       "version_minor": 0
      },
      "text/plain": [
       "  0%|          | 0/6226 [00:00<?, ?it/s]"
      ]
     },
     "metadata": {},
     "output_type": "display_data"
    }
   ],
   "source": [
    "predicts = stepwise(50000, dfx[\"text\"], model.predict)"
   ]
  },
  {
   "cell_type": "code",
   "execution_count": 70,
   "id": "984395c8",
   "metadata": {},
   "outputs": [
    {
     "data": {
      "text/plain": [
       "999480"
      ]
     },
     "execution_count": 70,
     "metadata": {},
     "output_type": "execute_result"
    }
   ],
   "source": [
    "len(predicts)"
   ]
  },
  {
   "cell_type": "code",
   "execution_count": 71,
   "id": "5853ac31",
   "metadata": {},
   "outputs": [
    {
     "data": {
      "text/plain": [
       "314520"
      ]
     },
     "execution_count": 71,
     "metadata": {},
     "output_type": "execute_result"
    }
   ],
   "source": [
    "len([p for p in predicts if p==1])"
   ]
  },
  {
   "cell_type": "code",
   "execution_count": 68,
   "id": "4354f509",
   "metadata": {},
   "outputs": [],
   "source": [
    "# with open(p1, 'r') as f:\n",
    "#     p1 = f.read().split()#f.write(\"%s\\n\" % item)\n",
    "                \n",
    "# preds = p1 + p2\n",
    "# len([p for p in preds if p == \"1\"])"
   ]
  },
  {
   "cell_type": "code",
   "execution_count": 69,
   "id": "884c8699",
   "metadata": {},
   "outputs": [],
   "source": [
    "dfx[\"predicts\"] = predicts"
   ]
  },
  {
   "cell_type": "markdown",
   "id": "64edfa8e",
   "metadata": {},
   "source": [
    "## dfx = dfx[:3000000]\n",
    "dfx[\"predicts\"] = preds"
   ]
  },
  {
   "cell_type": "code",
   "execution_count": 72,
   "id": "7c880c2d",
   "metadata": {},
   "outputs": [],
   "source": [
    "dfx[\"predicts\"] = dfx[\"predicts\"].map(int)"
   ]
  },
  {
   "cell_type": "code",
   "execution_count": 73,
   "id": "43f59e08",
   "metadata": {},
   "outputs": [],
   "source": [
    "dfx = dfx[dfx[\"predicts\"]==1]\n"
   ]
  },
  {
   "cell_type": "code",
   "execution_count": 76,
   "id": "ec433b01",
   "metadata": {},
   "outputs": [],
   "source": [
    "dfx = dfx.drop_duplicates(subset=[\"doi\"])"
   ]
  },
  {
   "cell_type": "code",
   "execution_count": 77,
   "id": "c1048676",
   "metadata": {},
   "outputs": [],
   "source": [
    "dfo = pd.read_csv(\"downloads/train_final_june23_all.csv\")\n",
    "dd = dfx[~dfx[\"doi\"].isin(list(dfo[\"doi\"]))]\n",
    "dfx=dd"
   ]
  },
  {
   "cell_type": "code",
   "execution_count": 78,
   "id": "d3da03f4",
   "metadata": {},
   "outputs": [
    {
     "data": {
      "text/plain": [
       "Psychology               22679\n",
       "Environmental Science    15929\n",
       "Name: fields, dtype: int64"
      ]
     },
     "execution_count": 78,
     "metadata": {},
     "output_type": "execute_result"
    }
   ],
   "source": [
    "dfx[\"fields\"].value_counts()"
   ]
  },
  {
   "cell_type": "code",
   "execution_count": 79,
   "id": "3bbd462d",
   "metadata": {},
   "outputs": [
    {
     "data": {
      "text/plain": [
       "38608"
      ]
     },
     "execution_count": 79,
     "metadata": {},
     "output_type": "execute_result"
    }
   ],
   "source": [
    "len(dfx)"
   ]
  },
  {
   "cell_type": "code",
   "execution_count": 80,
   "id": "ec6824b6",
   "metadata": {},
   "outputs": [],
   "source": [
    "#dr= dfx.iloc[::-1]\n",
    "dfx.to_csv(\"downloads/Aug_13_psy_envsci.csv\", index = False, header=True)"
   ]
  },
  {
   "cell_type": "markdown",
   "id": "3f316f5b",
   "metadata": {},
   "source": [
    "### Scraps"
   ]
  },
  {
   "cell_type": "code",
   "execution_count": null,
   "id": "641857a7",
   "metadata": {},
   "outputs": [],
   "source": [
    "df2 = dfx[dfx[\"fields\"].isin([\"Sociology\", \"Geology\", \"Environmental Science\"])]\n",
    "df2.to_csv(\"downloads/underrepresented_domains_predicts.csv\", index = False, header=True)\n",
    "df2 = dfx[dfx[\"fields\"].isin([\"Materials Science\", \"Psychology\", \"Chemistry\"])]\n",
    "df2.to_csv (\"downloads/mid_represented_domains_predicts.csv\", index = False, header=True)\n",
    "#check that not in final110k_1605\n",
    "dfx.to_csv(\"downloads/pos_preds_12062022.csv\", index = False, header=True)\n",
    "dfx[dfx[\"fieldsOfStudy\"].isin(['Environmental Science', 'Sociology', 'Geology', 'Biology', 'Materials Science', 'Chemistry'])]"
   ]
  },
  {
   "cell_type": "code",
   "execution_count": 181,
   "id": "f43047a2",
   "metadata": {},
   "outputs": [
    {
     "name": "stderr",
     "output_type": "stream",
     "text": [
      "/home/ec2-user/anaconda3/envs/python3/lib/python3.6/site-packages/ipykernel/__main__.py:8: DeprecationWarning: The default dtype for empty Series will be 'object' instead of 'float64' in a future version. Specify a dtype explicitly to silence this warning.\n",
      "44962it [00:59, 760.29it/s] \n"
     ]
    }
   ],
   "source": [
    "dt = pd.read_csv(\"core_pos.csv\")\n",
    "#d[d[\"first_sent\"].str.contains(re.escape(\"|\".join(d[\"authors\"][2:-2].replace(\"'\", \"\").split(\",\"))).strip().replace('\\\\', ''))]\n",
    "def formatStr (x):\n",
    "    x = eval(x)\n",
    "    x = [re.escape(v) for v in x]\n",
    "    return \"|\".join(x)\n",
    "\n",
    "regexs = d.authors.apply(formatStr)\n",
    "matches = pd.Series()\n",
    "for i, r in tqdm(d.iterrows()):\n",
    "    matches.loc[i] = len(re.findall(regexs.loc[i], d.first_sent.loc[i])) > 0\n",
    "dc[\"authors\"] = dc[\"authors\"].map(eval)\n",
    "dc = dc.drop(columns=[\"fullText\"])\n",
    "dc.to_csv(\"core_pos_parsed.csv\", index = False, header=True)\n",
    "tt.to_csv(\"core_pos_min.csv\", index = False, header=True)"
   ]
  },
  {
   "cell_type": "markdown",
   "id": "9c55b593",
   "metadata": {},
   "source": [
    "distilbert\n",
    "'mcc': 0.7621432780395265, 'tp': 167, 'tn': 480, 'fp': 39, 'fn': 30, 'acc': 0.9036312849162011, 'eval_loss': 0.24669100075132316}\n",
    "\n"
   ]
  }
 ],
 "metadata": {
  "kernelspec": {
   "display_name": "conda_pytorch_p36",
   "language": "python",
   "name": "conda_pytorch_p36"
  },
  "language_info": {
   "codemirror_mode": {
    "name": "ipython",
    "version": 3
   },
   "file_extension": ".py",
   "mimetype": "text/x-python",
   "name": "python",
   "nbconvert_exporter": "python",
   "pygments_lexer": "ipython3",
   "version": "3.6.13"
  }
 },
 "nbformat": 4,
 "nbformat_minor": 5
}
