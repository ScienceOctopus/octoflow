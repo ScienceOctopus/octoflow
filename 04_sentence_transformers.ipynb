{
 "cells": [
  {
   "cell_type": "code",
   "execution_count": null,
   "id": "c1e20bb3",
   "metadata": {},
   "outputs": [],
   "source": [
    "%%capture\n",
    "!pip install tensorboardX simpletransformers sklearn"
   ]
  },
  {
   "cell_type": "code",
   "execution_count": null,
   "id": "b0defc09",
   "metadata": {},
   "outputs": [],
   "source": [
    "cat /usr/local/cuda/version.txt\n",
    "\n",
    "!pip install torch==1.6.0\n",
    "#conda install pytorch==1.1.0 torchvision==0.3.0 cudatoolkit=10.0 -c pytorch\n",
    "#https://pytorch.org/get-started/previous-versions/"
   ]
  },
  {
   "cell_type": "code",
   "execution_count": null,
   "id": "3f865e61",
   "metadata": {},
   "outputs": [],
   "source": [
    "from simpletransformers.classification import ClassificationModel, ClassificationArgs\n",
    "import pandas as pd\n",
    "import logging\n",
    "import sklearn\n",
    "import pandas as pd\n",
    "\n",
    "df = pd.read_csv(\"datasets/problem_statements.csv\")\n",
    "\n",
    "logging.basicConfig(level=logging.INFO)\n",
    "transformers_logger = logging.getLogger(\"transformers\")\n",
    "transformers_logger.setLevel(logging.WARNING)\n",
    "\n",
    "df2 = df.sample(frac=1)\n",
    "# Train and Evaluation data needs to be in a Pandas Dataframe of two columns. The first column is the text with type str, and the second column is the label with type int.\n",
    "size = len(df2)\n",
    "train_cutoff = round(size*0.8)\n",
    "train_df= df2[:train_cutoff]\n",
    "eval_df = df2[train_cutoff:]\n",
    "\n",
    "model_args = ClassificationArgs(save_steps=-1, save_model_every_epoch=False, sliding_window=True)\n",
    "\n",
    "model = ClassificationModel('roberta', 'roberta-base',args=model_args, use_cuda=False) # You can set class weights by using the optional weight argument\n",
    "\n",
    "\n"
   ]
  },
  {
   "cell_type": "code",
   "execution_count": null,
   "id": "ad4103c8",
   "metadata": {},
   "outputs": [],
   "source": [
    "# Train the model\n",
    "model.train_model(train_df, overwrite_output_dir=True)\n",
    "\n",
    "# Evaluate the model, u\n",
    "result, model_outputs, wrong_predictions = model.eval_model(eval_df, acc=sklearn.metrics.accuracy_score )\n"
   ]
  }
 ],
 "metadata": {
  "kernelspec": {
   "display_name": "conda_python3",
   "language": "python",
   "name": "conda_python3"
  }
 },
 "nbformat": 4,
 "nbformat_minor": 5
}
