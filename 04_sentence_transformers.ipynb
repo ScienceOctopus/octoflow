{
 "cells": [
  {
   "cell_type": "code",
   "execution_count": 1,
   "id": "ef8d217b",
   "metadata": {},
   "outputs": [],
   "source": [
    "%%capture\n",
    "!pip install tensorboardX simpletransformers sklearn"
   ]
  },
  {
   "cell_type": "code",
   "execution_count": 2,
   "id": "4651d523",
   "metadata": {},
   "outputs": [
    {
     "name": "stdout",
     "output_type": "stream",
     "text": [
      "CUDA Version 10.0.130\n",
      "Requirement already satisfied: pydash in /home/ec2-user/anaconda3/envs/python3/lib/python3.6/site-packages (5.1.0)\n",
      "Collecting torch==1.6.0\n",
      "  Downloading torch-1.6.0-cp36-cp36m-manylinux1_x86_64.whl (748.8 MB)\n",
      "     |████████████████████████████████| 748.8 MB 6.0 kB/s              \n",
      "\u001b[?25hRequirement already satisfied: future in /home/ec2-user/anaconda3/envs/python3/lib/python3.6/site-packages (from torch==1.6.0) (0.18.2)\n",
      "Requirement already satisfied: numpy in /home/ec2-user/anaconda3/envs/python3/lib/python3.6/site-packages (from torch==1.6.0) (1.19.5)\n",
      "Installing collected packages: torch\n",
      "Successfully installed torch-1.6.0\n"
     ]
    }
   ],
   "source": [
    "!cat /usr/local/cuda/version.txt\n",
    "!pip install pydash\n",
    "!pip install torch==1.6.0\n",
    "#conda install pytorch==1.1.0 torchvision==0.3.0 cudatoolkit=10.0 -c pytorch\n",
    "#https://pytorch.org/get-started/previous-versions/"
   ]
  },
  {
   "cell_type": "code",
   "execution_count": 3,
   "id": "ceafddbf",
   "metadata": {},
   "outputs": [],
   "source": [
    "!rm -rf outputs"
   ]
  },
  {
   "cell_type": "code",
   "execution_count": 45,
   "id": "de97a890",
   "metadata": {},
   "outputs": [
    {
     "data": {
      "text/plain": [
       "44632"
      ]
     },
     "execution_count": 45,
     "metadata": {},
     "output_type": "execute_result"
    }
   ],
   "source": [
    "from simpletransformers.classification import ClassificationModel, ClassificationArgs\n",
    "import pandas as pd\n",
    "import logging\n",
    "import sklearn\n",
    "from tqdm import tqdm\n",
    "import pandas as pd\n",
    "\n",
    "df = pd.read_csv(\"downloads/train_june20_all.csv\")\n",
    "len(df)"
   ]
  },
  {
   "cell_type": "code",
   "execution_count": 49,
   "id": "c062cab3",
   "metadata": {},
   "outputs": [],
   "source": [
    "#downsample medical data in training set\n",
    "df = df[df[\"source\"].isin([\"oct3_labels\", \"june152022_labels_matscichem\", \n",
    "                           \"june152022_labels_envgeosoc\", \"labels_oct7\", \n",
    "                           \"psych1k_100522\", \"biology1k_050522\", \"predicts_acl_pm2500_vocabed\", \n",
    "                           'pm_CONCLUSIONS', 'biology1k_050522'])]"
   ]
  },
  {
   "cell_type": "code",
   "execution_count": 50,
   "id": "333f3d49",
   "metadata": {},
   "outputs": [],
   "source": [
    "df= df[[\"text\", \"labels\"]]"
   ]
  },
  {
   "cell_type": "code",
   "execution_count": 53,
   "id": "d3e4218d",
   "metadata": {},
   "outputs": [],
   "source": [
    "df =df.dropna()\n",
    "df = df.rename(columns={\"labels\": \"label\"})"
   ]
  },
  {
   "cell_type": "code",
   "execution_count": 54,
   "id": "23f78eb2",
   "metadata": {},
   "outputs": [],
   "source": [
    "df= df[[\"text\", \"label\"]]\n",
    "df.label = df.label.map(int)"
   ]
  },
  {
   "cell_type": "code",
   "execution_count": 55,
   "id": "1ae5810d",
   "metadata": {},
   "outputs": [
    {
     "data": {
      "text/html": [
       "<div>\n",
       "<style scoped>\n",
       "    .dataframe tbody tr th:only-of-type {\n",
       "        vertical-align: middle;\n",
       "    }\n",
       "\n",
       "    .dataframe tbody tr th {\n",
       "        vertical-align: top;\n",
       "    }\n",
       "\n",
       "    .dataframe thead th {\n",
       "        text-align: right;\n",
       "    }\n",
       "</style>\n",
       "<table border=\"1\" class=\"dataframe\">\n",
       "  <thead>\n",
       "    <tr style=\"text-align: right;\">\n",
       "      <th></th>\n",
       "      <th>text</th>\n",
       "      <th>label</th>\n",
       "    </tr>\n",
       "  </thead>\n",
       "  <tbody>\n",
       "    <tr>\n",
       "      <th>996</th>\n",
       "      <td>While often idiopathic, anterior ischemic opti...</td>\n",
       "      <td>0</td>\n",
       "    </tr>\n",
       "    <tr>\n",
       "      <th>997</th>\n",
       "      <td>Primary cutaneous B-cell lymphomas (PCBCLs) ar...</td>\n",
       "      <td>0</td>\n",
       "    </tr>\n",
       "    <tr>\n",
       "      <th>998</th>\n",
       "      <td>The insufflation of gas during colonoscopy lea...</td>\n",
       "      <td>0</td>\n",
       "    </tr>\n",
       "    <tr>\n",
       "      <th>999</th>\n",
       "      <td>The aim of the present study is to investigate...</td>\n",
       "      <td>0</td>\n",
       "    </tr>\n",
       "    <tr>\n",
       "      <th>1000</th>\n",
       "      <td>The aim of this study was to assess predictive...</td>\n",
       "      <td>0</td>\n",
       "    </tr>\n",
       "    <tr>\n",
       "      <th>...</th>\n",
       "      <td>...</td>\n",
       "      <td>...</td>\n",
       "    </tr>\n",
       "    <tr>\n",
       "      <th>44627</th>\n",
       "      <td>Approximately 50% of patients with schizophren...</td>\n",
       "      <td>1</td>\n",
       "    </tr>\n",
       "    <tr>\n",
       "      <th>44628</th>\n",
       "      <td>Isoconversion processing of thermoanalytical d...</td>\n",
       "      <td>1</td>\n",
       "    </tr>\n",
       "    <tr>\n",
       "      <th>44629</th>\n",
       "      <td>The lack of social attributes in online teachi...</td>\n",
       "      <td>1</td>\n",
       "    </tr>\n",
       "    <tr>\n",
       "      <th>44630</th>\n",
       "      <td>Subsurface inspection of food and agricultural...</td>\n",
       "      <td>1</td>\n",
       "    </tr>\n",
       "    <tr>\n",
       "      <th>44631</th>\n",
       "      <td>Evaporation of a moving liquid droplet in atmo...</td>\n",
       "      <td>0</td>\n",
       "    </tr>\n",
       "  </tbody>\n",
       "</table>\n",
       "<p>9978 rows × 2 columns</p>\n",
       "</div>"
      ],
      "text/plain": [
       "                                                    text  label\n",
       "996    While often idiopathic, anterior ischemic opti...      0\n",
       "997    Primary cutaneous B-cell lymphomas (PCBCLs) ar...      0\n",
       "998    The insufflation of gas during colonoscopy lea...      0\n",
       "999    The aim of the present study is to investigate...      0\n",
       "1000   The aim of this study was to assess predictive...      0\n",
       "...                                                  ...    ...\n",
       "44627  Approximately 50% of patients with schizophren...      1\n",
       "44628  Isoconversion processing of thermoanalytical d...      1\n",
       "44629  The lack of social attributes in online teachi...      1\n",
       "44630  Subsurface inspection of food and agricultural...      1\n",
       "44631  Evaporation of a moving liquid droplet in atmo...      0\n",
       "\n",
       "[9978 rows x 2 columns]"
      ]
     },
     "execution_count": 55,
     "metadata": {},
     "output_type": "execute_result"
    }
   ],
   "source": [
    "df"
   ]
  },
  {
   "cell_type": "code",
   "execution_count": 56,
   "id": "b9f4fe6d",
   "metadata": {},
   "outputs": [
    {
     "name": "stderr",
     "output_type": "stream",
     "text": [
      "INFO:filelock:Lock 139657795378704 acquired on /home/ec2-user/.cache/huggingface/transformers/23454919702d26495337f3da04d1655c7ee010d5ec9d77bdb9e399e00302c0a1.91b885ab15d631bf9cee9dc9d25ece0afd932f2f5130eba28f2055b2220c0333.lock\n"
     ]
    },
    {
     "data": {
      "application/vnd.jupyter.widget-view+json": {
       "model_id": "328e543f148442d58e09e72e40a5188e",
       "version_major": 2,
       "version_minor": 0
      },
      "text/plain": [
       "Downloading:   0%|          | 0.00/483 [00:00<?, ?B/s]"
      ]
     },
     "metadata": {},
     "output_type": "display_data"
    },
    {
     "name": "stderr",
     "output_type": "stream",
     "text": [
      "INFO:filelock:Lock 139657795378704 released on /home/ec2-user/.cache/huggingface/transformers/23454919702d26495337f3da04d1655c7ee010d5ec9d77bdb9e399e00302c0a1.91b885ab15d631bf9cee9dc9d25ece0afd932f2f5130eba28f2055b2220c0333.lock\n",
      "INFO:filelock:Lock 139657795323496 acquired on /home/ec2-user/.cache/huggingface/transformers/9c169103d7e5a73936dd2b627e42851bec0831212b677c637033ee4bce9ab5ee.126183e36667471617ae2f0835fab707baa54b731f991507ebbb55ea85adb12a.lock\n"
     ]
    },
    {
     "data": {
      "application/vnd.jupyter.widget-view+json": {
       "model_id": "08ff67364a5543008df3e6ed587f012b",
       "version_major": 2,
       "version_minor": 0
      },
      "text/plain": [
       "Downloading:   0%|          | 0.00/256M [00:00<?, ?B/s]"
      ]
     },
     "metadata": {},
     "output_type": "display_data"
    },
    {
     "name": "stderr",
     "output_type": "stream",
     "text": [
      "INFO:filelock:Lock 139657795323496 released on /home/ec2-user/.cache/huggingface/transformers/9c169103d7e5a73936dd2b627e42851bec0831212b677c637033ee4bce9ab5ee.126183e36667471617ae2f0835fab707baa54b731f991507ebbb55ea85adb12a.lock\n",
      "Some weights of the model checkpoint at distilbert-base-uncased were not used when initializing DistilBertForSequenceClassification: ['vocab_transform.weight', 'vocab_transform.bias', 'vocab_layer_norm.bias', 'vocab_layer_norm.weight', 'vocab_projector.weight', 'vocab_projector.bias']\n",
      "- This IS expected if you are initializing DistilBertForSequenceClassification from the checkpoint of a model trained on another task or with another architecture (e.g. initializing a BertForSequenceClassification model from a BertForPreTraining model).\n",
      "- This IS NOT expected if you are initializing DistilBertForSequenceClassification from the checkpoint of a model that you expect to be exactly identical (initializing a BertForSequenceClassification model from a BertForSequenceClassification model).\n",
      "Some weights of DistilBertForSequenceClassification were not initialized from the model checkpoint at distilbert-base-uncased and are newly initialized: ['pre_classifier.weight', 'classifier.bias', 'pre_classifier.bias', 'classifier.weight']\n",
      "You should probably TRAIN this model on a down-stream task to be able to use it for predictions and inference.\n",
      "INFO:filelock:Lock 139657795379096 acquired on /home/ec2-user/.cache/huggingface/transformers/8c8624b8ac8aa99c60c912161f8332de003484428c47906d7ff7eb7f73eecdbb.20430bd8e10ef77a7d2977accefe796051e01bc2fc4aa146bc862997a1a15e79.lock\n"
     ]
    },
    {
     "data": {
      "application/vnd.jupyter.widget-view+json": {
       "model_id": "7a75f3f52798442db47bab42381c0f7f",
       "version_major": 2,
       "version_minor": 0
      },
      "text/plain": [
       "Downloading:   0%|          | 0.00/28.0 [00:00<?, ?B/s]"
      ]
     },
     "metadata": {},
     "output_type": "display_data"
    },
    {
     "name": "stderr",
     "output_type": "stream",
     "text": [
      "INFO:filelock:Lock 139657795379096 released on /home/ec2-user/.cache/huggingface/transformers/8c8624b8ac8aa99c60c912161f8332de003484428c47906d7ff7eb7f73eecdbb.20430bd8e10ef77a7d2977accefe796051e01bc2fc4aa146bc862997a1a15e79.lock\n",
      "INFO:filelock:Lock 139657795325344 acquired on /home/ec2-user/.cache/huggingface/transformers/0e1bbfda7f63a99bb52e3915dcf10c3c92122b827d92eb2d34ce94ee79ba486c.d789d64ebfe299b0e416afc4a169632f903f693095b4629a7ea271d5a0cf2c99.lock\n"
     ]
    },
    {
     "data": {
      "application/vnd.jupyter.widget-view+json": {
       "model_id": "a511accaa81349e4b1f582cb8f2025db",
       "version_major": 2,
       "version_minor": 0
      },
      "text/plain": [
       "Downloading:   0%|          | 0.00/226k [00:00<?, ?B/s]"
      ]
     },
     "metadata": {},
     "output_type": "display_data"
    },
    {
     "name": "stderr",
     "output_type": "stream",
     "text": [
      "INFO:filelock:Lock 139657795325344 released on /home/ec2-user/.cache/huggingface/transformers/0e1bbfda7f63a99bb52e3915dcf10c3c92122b827d92eb2d34ce94ee79ba486c.d789d64ebfe299b0e416afc4a169632f903f693095b4629a7ea271d5a0cf2c99.lock\n",
      "INFO:filelock:Lock 139657795379096 acquired on /home/ec2-user/.cache/huggingface/transformers/75abb59d7a06f4f640158a9bfcde005264e59e8d566781ab1415b139d2e4c603.7f2721073f19841be16f41b0a70b600ca6b880c8f3df6f3535cbc704371bdfa4.lock\n"
     ]
    },
    {
     "data": {
      "application/vnd.jupyter.widget-view+json": {
       "model_id": "2fd920c1e2d447e1b43e0388d0740095",
       "version_major": 2,
       "version_minor": 0
      },
      "text/plain": [
       "Downloading:   0%|          | 0.00/455k [00:00<?, ?B/s]"
      ]
     },
     "metadata": {},
     "output_type": "display_data"
    },
    {
     "name": "stderr",
     "output_type": "stream",
     "text": [
      "INFO:filelock:Lock 139657795379096 released on /home/ec2-user/.cache/huggingface/transformers/75abb59d7a06f4f640158a9bfcde005264e59e8d566781ab1415b139d2e4c603.7f2721073f19841be16f41b0a70b600ca6b880c8f3df6f3535cbc704371bdfa4.lock\n"
     ]
    }
   ],
   "source": [
    "logging.basicConfig(level=logging.INFO)\n",
    "transformers_logger = logging.getLogger(\"transformers\")\n",
    "transformers_logger.setLevel(logging.WARNING)\n",
    "\n",
    "df2 = df.sample(frac=1)\n",
    "# Train and Evaluation data needs to be in a Pandas Dataframe of two columns. \n",
    "#The first column is the text with type str, and the second column is the label with type int.\n",
    "size = len(df2)\n",
    "train_cutoff = round(size*0.8)\n",
    "train_df= df2[:train_cutoff]\n",
    "eval_df = df2[train_cutoff:]\n",
    "\n",
    "model_args = ClassificationArgs(save_steps=-1, save_model_every_epoch=False, sliding_window=True)\n",
    "\n",
    "model = ClassificationModel('distilbert', 'distilbert-base-uncased',args=model_args, use_cuda=True) # You can set class weights by using the optional weight argument"
   ]
  },
  {
   "cell_type": "code",
   "execution_count": 57,
   "id": "dc7fb549",
   "metadata": {},
   "outputs": [
    {
     "name": "stderr",
     "output_type": "stream",
     "text": [
      "/home/ec2-user/anaconda3/envs/python3/lib/python3.6/site-packages/simpletransformers/classification/classification_model.py:602: UserWarning: Dataframe headers not specified. Falling back to using column 0 as text and column 1 as labels.\n",
      "  \"Dataframe headers not specified. Falling back to using column 0 as text and column 1 as labels.\"\n",
      "INFO:simpletransformers.classification.classification_model: Converting to features started. Cache is not used.\n",
      "INFO:simpletransformers.classification.classification_model: Sliding window enabled\n"
     ]
    },
    {
     "data": {
      "application/vnd.jupyter.widget-view+json": {
       "model_id": "f14ec3f0ac184984b5fcd427466e8bf7",
       "version_major": 2,
       "version_minor": 0
      },
      "text/plain": [
       "  0%|          | 0/7982 [00:00<?, ?it/s]"
      ]
     },
     "metadata": {},
     "output_type": "display_data"
    },
    {
     "name": "stderr",
     "output_type": "stream",
     "text": [
      "INFO:simpletransformers.classification.classification_model: 7993 features created from 7982 samples.\n",
      "/home/ec2-user/anaconda3/envs/python3/lib/python3.6/site-packages/transformers/optimization.py:309: FutureWarning: This implementation of AdamW is deprecated and will be removed in a future version. Use the PyTorch implementation torch.optim.AdamW instead, or set `no_deprecation_warning=True` to disable this warning\n",
      "  FutureWarning,\n"
     ]
    },
    {
     "data": {
      "application/vnd.jupyter.widget-view+json": {
       "model_id": "819dad18760640b28940b3335f943581",
       "version_major": 2,
       "version_minor": 0
      },
      "text/plain": [
       "Epoch:   0%|          | 0/1 [00:00<?, ?it/s]"
      ]
     },
     "metadata": {},
     "output_type": "display_data"
    },
    {
     "data": {
      "application/vnd.jupyter.widget-view+json": {
       "model_id": "b14289fb983f4a1da6efcfd4fdc2d3d7",
       "version_major": 2,
       "version_minor": 0
      },
      "text/plain": [
       "Running Epoch 0 of 1:   0%|          | 0/1000 [00:00<?, ?it/s]"
      ]
     },
     "metadata": {},
     "output_type": "display_data"
    },
    {
     "name": "stderr",
     "output_type": "stream",
     "text": [
      "INFO:simpletransformers.classification.classification_model: Training of distilbert model complete. Saved to outputs/.\n",
      "/home/ec2-user/anaconda3/envs/python3/lib/python3.6/site-packages/simpletransformers/classification/classification_model.py:1443: UserWarning: Dataframe headers not specified. Falling back to using column 0 as text and column 1 as labels.\n",
      "  \"Dataframe headers not specified. Falling back to using column 0 as text and column 1 as labels.\"\n",
      "INFO:simpletransformers.classification.classification_model: Converting to features started. Cache is not used.\n",
      "INFO:simpletransformers.classification.classification_model: Sliding window enabled\n"
     ]
    },
    {
     "data": {
      "application/vnd.jupyter.widget-view+json": {
       "model_id": "8731e3d0c9c146bfa313a6dffbafc38e",
       "version_major": 2,
       "version_minor": 0
      },
      "text/plain": [
       "  0%|          | 0/1996 [00:00<?, ?it/s]"
      ]
     },
     "metadata": {},
     "output_type": "display_data"
    },
    {
     "name": "stderr",
     "output_type": "stream",
     "text": [
      "INFO:simpletransformers.classification.classification_model: 1996 features created from 1996 samples.\n"
     ]
    },
    {
     "data": {
      "application/vnd.jupyter.widget-view+json": {
       "model_id": "15541b3d63d940c8b13a607df6b4f351",
       "version_major": 2,
       "version_minor": 0
      },
      "text/plain": [
       "Running Evaluation:   0%|          | 0/250 [00:00<?, ?it/s]"
      ]
     },
     "metadata": {},
     "output_type": "display_data"
    },
    {
     "name": "stderr",
     "output_type": "stream",
     "text": [
      "INFO:simpletransformers.classification.classification_model:{'mcc': 0.7803179340475614, 'tp': 548, 'tn': 1254, 'fp': 130, 'fn': 64, 'acc': 0.9028056112224448, 'eval_loss': 0.2605627398118377}\n"
     ]
    }
   ],
   "source": [
    "# Train the model\n",
    "model.train_model(train_df, overwrite_output_dir=True)\n",
    "# Evaluate the model, u\n",
    "result, model_outputs, wrong_predictions = model.eval_model(eval_df, acc=sklearn.metrics.accuracy_score)"
   ]
  },
  {
   "cell_type": "code",
   "execution_count": 58,
   "id": "3428b870",
   "metadata": {},
   "outputs": [
    {
     "data": {
      "text/plain": [
       "{'mcc': 0.7803179340475614,\n",
       " 'tp': 548,\n",
       " 'tn': 1254,\n",
       " 'fp': 130,\n",
       " 'fn': 64,\n",
       " 'acc': 0.9028056112224448,\n",
       " 'eval_loss': 0.2605627398118377}"
      ]
     },
     "execution_count": 58,
     "metadata": {},
     "output_type": "execute_result"
    }
   ],
   "source": [
    "result"
   ]
  },
  {
   "cell_type": "code",
   "execution_count": 31,
   "id": "d5a3d95b",
   "metadata": {},
   "outputs": [],
   "source": [
    "import pandas as pd"
   ]
  },
  {
   "cell_type": "code",
   "execution_count": 97,
   "id": "5a4fbd3c",
   "metadata": {},
   "outputs": [],
   "source": [
    "dfx = pd.read_csv(\"downloads/16M_small_alldomains_clean.csv\",  lineterminator='\\n', error_bad_lines=False)"
   ]
  },
  {
   "cell_type": "code",
   "execution_count": 98,
   "id": "a4452e10",
   "metadata": {},
   "outputs": [],
   "source": [
    "dfx = dfx[dfx.fields.isin(['Environmental Science', 'Material Science', 'Psychology', 'Geology', 'Biology', 'Materials Science', 'Political Science'])]\n"
   ]
  },
  {
   "cell_type": "code",
   "execution_count": 99,
   "id": "b0dda4a0",
   "metadata": {},
   "outputs": [],
   "source": [
    "dfx[\"text\"] = dfx[\"text\"].astype(str)\n",
    "\n"
   ]
  },
  {
   "cell_type": "code",
   "execution_count": 35,
   "id": "48813aac",
   "metadata": {},
   "outputs": [],
   "source": [
    "#dfx = dfx.sample(frac=0.2)"
   ]
  },
  {
   "cell_type": "code",
   "execution_count": 100,
   "id": "a1154f36",
   "metadata": {},
   "outputs": [
    {
     "data": {
      "text/plain": [
       "4707344"
      ]
     },
     "execution_count": 100,
     "metadata": {},
     "output_type": "execute_result"
    }
   ],
   "source": [
    "len(dfx)"
   ]
  },
  {
   "cell_type": "code",
   "execution_count": 82,
   "id": "abb36e74",
   "metadata": {},
   "outputs": [
    {
     "data": {
      "text/plain": [
       "Biology                  37.001077\n",
       "Materials Science        28.016308\n",
       "Psychology               15.471485\n",
       "Political Science         7.556533\n",
       "Geology                   6.193726\n",
       "Environmental Science     5.760871\n",
       "Name: fields, dtype: float64"
      ]
     },
     "execution_count": 82,
     "metadata": {},
     "output_type": "execute_result"
    }
   ],
   "source": [
    "dfx.fields.value_counts(normalize=True) * 100"
   ]
  },
  {
   "cell_type": "code",
   "execution_count": 101,
   "id": "40c2d83d",
   "metadata": {},
   "outputs": [],
   "source": [
    "dfx =dfx.groupby('fields').apply(lambda x: x.sample(10000))"
   ]
  },
  {
   "cell_type": "code",
   "execution_count": 102,
   "id": "4f091579",
   "metadata": {},
   "outputs": [],
   "source": [
    "dfx =dfx.groupby('fields').apply(lambda x: x.sample(10000))"
   ]
  },
  {
   "cell_type": "code",
   "execution_count": 63,
   "id": "a096b730",
   "metadata": {},
   "outputs": [],
   "source": [
    "#dfx.to_csv(\"downloads/sample_bioadjacent600k.csv\", index = False, header=True)"
   ]
  },
  {
   "cell_type": "code",
   "execution_count": 84,
   "id": "f862be18",
   "metadata": {},
   "outputs": [],
   "source": [
    "predicts_path = 'downloads/predicts_20June_16M.txt'"
   ]
  },
  {
   "cell_type": "code",
   "execution_count": 103,
   "id": "f8584022",
   "metadata": {},
   "outputs": [],
   "source": [
    "def stepwise(step, df, f):\n",
    "    l = []\n",
    "    for idx in range(step, len(df)+step-1, step):\n",
    "        print(idx-step, idx)# dataframe[idx-step:idx])\n",
    "        sl = df[idx-step:idx]\n",
    "        batch = model.predict(list(sl))\n",
    "        l = l + list(batch[0])\n",
    "        with open(predicts_path, 'w') as f:\n",
    "            for item in l:\n",
    "                f.write(\"%s\\n\" % item)\n",
    "    return l"
   ]
  },
  {
   "cell_type": "code",
   "execution_count": 104,
   "id": "9149890e",
   "metadata": {},
   "outputs": [
    {
     "name": "stderr",
     "output_type": "stream",
     "text": [
      "INFO:simpletransformers.classification.classification_model: Converting to features started. Cache is not used.\n",
      "INFO:simpletransformers.classification.classification_model: Sliding window enabled\n"
     ]
    },
    {
     "name": "stdout",
     "output_type": "stream",
     "text": [
      "0 20000\n"
     ]
    },
    {
     "data": {
      "application/vnd.jupyter.widget-view+json": {
       "model_id": "88da83e5539a486e855963d8c5dcd0cf",
       "version_major": 2,
       "version_minor": 0
      },
      "text/plain": [
       "  0%|          | 0/20000 [00:00<?, ?it/s]"
      ]
     },
     "metadata": {},
     "output_type": "display_data"
    },
    {
     "name": "stderr",
     "output_type": "stream",
     "text": [
      "INFO:simpletransformers.classification.classification_model: 20000 features created from 20000 samples.\n"
     ]
    },
    {
     "data": {
      "application/vnd.jupyter.widget-view+json": {
       "model_id": "17482170a08941d983d7fff2e4b42c41",
       "version_major": 2,
       "version_minor": 0
      },
      "text/plain": [
       "  0%|          | 0/2508 [00:00<?, ?it/s]"
      ]
     },
     "metadata": {},
     "output_type": "display_data"
    },
    {
     "name": "stderr",
     "output_type": "stream",
     "text": [
      "INFO:simpletransformers.classification.classification_model: Converting to features started. Cache is not used.\n",
      "INFO:simpletransformers.classification.classification_model: Sliding window enabled\n"
     ]
    },
    {
     "name": "stdout",
     "output_type": "stream",
     "text": [
      "20000 40000\n"
     ]
    },
    {
     "data": {
      "application/vnd.jupyter.widget-view+json": {
       "model_id": "3c07524b3bb24d44a2075fbb024254d6",
       "version_major": 2,
       "version_minor": 0
      },
      "text/plain": [
       "  0%|          | 0/20000 [00:00<?, ?it/s]"
      ]
     },
     "metadata": {},
     "output_type": "display_data"
    },
    {
     "name": "stderr",
     "output_type": "stream",
     "text": [
      "INFO:simpletransformers.classification.classification_model: 20000 features created from 20000 samples.\n"
     ]
    },
    {
     "data": {
      "application/vnd.jupyter.widget-view+json": {
       "model_id": "35ea0b65ca214569abf6946a8f9a54a4",
       "version_major": 2,
       "version_minor": 0
      },
      "text/plain": [
       "  0%|          | 0/2512 [00:00<?, ?it/s]"
      ]
     },
     "metadata": {},
     "output_type": "display_data"
    },
    {
     "name": "stderr",
     "output_type": "stream",
     "text": [
      "INFO:simpletransformers.classification.classification_model: Converting to features started. Cache is not used.\n",
      "INFO:simpletransformers.classification.classification_model: Sliding window enabled\n"
     ]
    },
    {
     "name": "stdout",
     "output_type": "stream",
     "text": [
      "40000 60000\n"
     ]
    },
    {
     "data": {
      "application/vnd.jupyter.widget-view+json": {
       "model_id": "2a447970e3e7459797641b92d6c32b05",
       "version_major": 2,
       "version_minor": 0
      },
      "text/plain": [
       "  0%|          | 0/20000 [00:00<?, ?it/s]"
      ]
     },
     "metadata": {},
     "output_type": "display_data"
    },
    {
     "name": "stderr",
     "output_type": "stream",
     "text": [
      "Token indices sequence length is longer than the specified maximum sequence length for this model (661 > 512). Running this sequence through the model will result in indexing errors\n",
      "INFO:simpletransformers.classification.classification_model: 20000 features created from 20000 samples.\n"
     ]
    },
    {
     "data": {
      "application/vnd.jupyter.widget-view+json": {
       "model_id": "3de860d3ad8e480594707eef14e7907e",
       "version_major": 2,
       "version_minor": 0
      },
      "text/plain": [
       "  0%|          | 0/2524 [00:00<?, ?it/s]"
      ]
     },
     "metadata": {},
     "output_type": "display_data"
    }
   ],
   "source": [
    "predicts = stepwise(20000, dfx[\"text\"], model.predict)"
   ]
  },
  {
   "cell_type": "code",
   "execution_count": 105,
   "id": "786cfb40",
   "metadata": {},
   "outputs": [],
   "source": [
    "with open(predicts_path, 'r') as f:\n",
    "    preds = f.read().split()#f.write(\"%s\\n\" % item)\n",
    "                "
   ]
  },
  {
   "cell_type": "code",
   "execution_count": 106,
   "id": "4d7f4ba5",
   "metadata": {},
   "outputs": [
    {
     "data": {
      "text/plain": [
       "60000"
      ]
     },
     "execution_count": 106,
     "metadata": {},
     "output_type": "execute_result"
    }
   ],
   "source": [
    "len(preds)"
   ]
  },
  {
   "cell_type": "code",
   "execution_count": 107,
   "id": "85192fe9",
   "metadata": {},
   "outputs": [],
   "source": [
    "#dfx = dfx[:3000000]\n",
    "dfx[\"predicts\"] = preds"
   ]
  },
  {
   "cell_type": "code",
   "execution_count": 108,
   "id": "c06ce8db",
   "metadata": {},
   "outputs": [],
   "source": [
    "dfx[\"predicts\"] = dfx[\"predicts\"].map(int)"
   ]
  },
  {
   "cell_type": "code",
   "execution_count": 109,
   "id": "1d44e8f6",
   "metadata": {},
   "outputs": [
    {
     "data": {
      "text/plain": [
       "8410"
      ]
     },
     "execution_count": 109,
     "metadata": {},
     "output_type": "execute_result"
    }
   ],
   "source": [
    "dfx = dfx[dfx[\"predicts\"]==1]\n",
    "dfx = dfx[dfx[\"text\"] != \"nan\"]"
   ]
  },
  {
   "cell_type": "code",
   "execution_count": 110,
   "id": "8aa6abbf",
   "metadata": {},
   "outputs": [
    {
     "data": {
      "text/plain": [
       "9978"
      ]
     },
     "execution_count": 110,
     "metadata": {},
     "output_type": "execute_result"
    }
   ],
   "source": [
    "len(df)"
   ]
  },
  {
   "cell_type": "code",
   "execution_count": 113,
   "id": "054d5706",
   "metadata": {},
   "outputs": [
    {
     "data": {
      "text/plain": [
       "Environmental Science    2712\n",
       "Biology                  1662\n",
       "Psychology               1253\n",
       "Geology                  1173\n",
       "Materials Science         834\n",
       "Political Science         776\n",
       "Name: fields, dtype: int64"
      ]
     },
     "execution_count": 113,
     "metadata": {},
     "output_type": "execute_result"
    }
   ],
   "source": [
    "dfx.fields.value_counts()"
   ]
  },
  {
   "cell_type": "code",
   "execution_count": 115,
   "id": "5d7d9625",
   "metadata": {},
   "outputs": [
    {
     "data": {
      "text/plain": [
       "8410"
      ]
     },
     "execution_count": 115,
     "metadata": {},
     "output_type": "execute_result"
    }
   ],
   "source": [
    "len(dfx)"
   ]
  },
  {
   "cell_type": "code",
   "execution_count": 116,
   "id": "c703eb56",
   "metadata": {},
   "outputs": [],
   "source": [
    "dfx=dfx[dfx[\"doi\"].notna()]"
   ]
  },
  {
   "cell_type": "code",
   "execution_count": 118,
   "id": "a22f54b9",
   "metadata": {},
   "outputs": [],
   "source": [
    "dfo = pd.read_csv(\"downloads/train_june20_all.csv\")\n",
    "dd = dfx[~dfx[\"doi\"].isin(list(dfo[\"doi\"]))]\n",
    "dfx=dd"
   ]
  },
  {
   "cell_type": "code",
   "execution_count": 120,
   "id": "d76570f1",
   "metadata": {},
   "outputs": [
    {
     "data": {
      "text/plain": [
       "Environmental Science    2615\n",
       "Biology                  1632\n",
       "Psychology               1229\n",
       "Geology                  1135\n",
       "Materials Science         830\n",
       "Political Science         776\n",
       "Name: fields, dtype: int64"
      ]
     },
     "execution_count": 120,
     "metadata": {},
     "output_type": "execute_result"
    }
   ],
   "source": [
    "dfx[\"fields\"].value_counts()"
   ]
  },
  {
   "cell_type": "code",
   "execution_count": 128,
   "id": "48261e7d",
   "metadata": {},
   "outputs": [],
   "source": [
    "dr= dfx.iloc[::-1]\n",
    "dr.to_csv(\"downloads/June20_non_medicine_sorted_predicts.csv\", index = False, header=True)"
   ]
  },
  {
   "cell_type": "code",
   "execution_count": 126,
   "id": "86f6232e",
   "metadata": {},
   "outputs": [
    {
     "data": {
      "text/html": [
       "<div>\n",
       "<style scoped>\n",
       "    .dataframe tbody tr th:only-of-type {\n",
       "        vertical-align: middle;\n",
       "    }\n",
       "\n",
       "    .dataframe tbody tr th {\n",
       "        vertical-align: top;\n",
       "    }\n",
       "\n",
       "    .dataframe thead th {\n",
       "        text-align: right;\n",
       "    }\n",
       "</style>\n",
       "<table border=\"1\" class=\"dataframe\">\n",
       "  <thead>\n",
       "    <tr style=\"text-align: right;\">\n",
       "      <th></th>\n",
       "      <th></th>\n",
       "      <th>text</th>\n",
       "      <th>doi</th>\n",
       "      <th>fields</th>\n",
       "      <th>predicts</th>\n",
       "    </tr>\n",
       "    <tr>\n",
       "      <th>fields</th>\n",
       "      <th></th>\n",
       "      <th></th>\n",
       "      <th></th>\n",
       "      <th></th>\n",
       "      <th></th>\n",
       "    </tr>\n",
       "  </thead>\n",
       "  <tbody>\n",
       "    <tr>\n",
       "      <th rowspan=\"5\" valign=\"top\">Psychology</th>\n",
       "      <th>1744429</th>\n",
       "      <td>Hookah smoking is a harmful practice which has...</td>\n",
       "      <td>10.1080/14659891.2019.1664655</td>\n",
       "      <td>Psychology</td>\n",
       "      <td>1</td>\n",
       "    </tr>\n",
       "    <tr>\n",
       "      <th>8252263</th>\n",
       "      <td>Misbehaviour phenomenon in elementary school c...</td>\n",
       "      <td>10.5958/0976-5506.2018.01363.3</td>\n",
       "      <td>Psychology</td>\n",
       "      <td>1</td>\n",
       "    </tr>\n",
       "    <tr>\n",
       "      <th>14080842</th>\n",
       "      <td>Suicide is one of the leading causes of premat...</td>\n",
       "      <td>10.1016/S0924-9338(13)76596-9</td>\n",
       "      <td>Psychology</td>\n",
       "      <td>1</td>\n",
       "    </tr>\n",
       "    <tr>\n",
       "      <th>8149704</th>\n",
       "      <td>Less-skilled adult readers have been found to ...</td>\n",
       "      <td>10.1177/0741713620952348</td>\n",
       "      <td>Psychology</td>\n",
       "      <td>1</td>\n",
       "    </tr>\n",
       "    <tr>\n",
       "      <th>4679051</th>\n",
       "      <td>Postsecondary learning environments often util...</td>\n",
       "      <td>10.19030/AJBE.V3I7.455</td>\n",
       "      <td>Psychology</td>\n",
       "      <td>1</td>\n",
       "    </tr>\n",
       "    <tr>\n",
       "      <th>...</th>\n",
       "      <th>...</th>\n",
       "      <td>...</td>\n",
       "      <td>...</td>\n",
       "      <td>...</td>\n",
       "      <td>...</td>\n",
       "    </tr>\n",
       "    <tr>\n",
       "      <th rowspan=\"5\" valign=\"top\">Biology</th>\n",
       "      <th>1989197</th>\n",
       "      <td>Rhabdomyosarcoma (RMS) is the most common type...</td>\n",
       "      <td>10.1158/1078-0432.CCR-10-0166</td>\n",
       "      <td>Biology</td>\n",
       "      <td>1</td>\n",
       "    </tr>\n",
       "    <tr>\n",
       "      <th>15376790</th>\n",
       "      <td>Despite extensive research, the mechanism of i...</td>\n",
       "      <td>10.3760/cma.j.issn.0366-6999.20112856</td>\n",
       "      <td>Biology</td>\n",
       "      <td>1</td>\n",
       "    </tr>\n",
       "    <tr>\n",
       "      <th>7064261</th>\n",
       "      <td>Stings by insects from the Hymenoptera order c...</td>\n",
       "      <td>10.1016/j.pep.2010.03.029</td>\n",
       "      <td>Biology</td>\n",
       "      <td>1</td>\n",
       "    </tr>\n",
       "    <tr>\n",
       "      <th>10018890</th>\n",
       "      <td>Recent studies have shown that neonicotinoid i...</td>\n",
       "      <td>10.1038/nature13531</td>\n",
       "      <td>Biology</td>\n",
       "      <td>1</td>\n",
       "    </tr>\n",
       "    <tr>\n",
       "      <th>2195958</th>\n",
       "      <td>The lymphatic vasculature is essential for tis...</td>\n",
       "      <td>10.1158/0008-5472.CAN-08-1879</td>\n",
       "      <td>Biology</td>\n",
       "      <td>1</td>\n",
       "    </tr>\n",
       "  </tbody>\n",
       "</table>\n",
       "<p>8217 rows × 4 columns</p>\n",
       "</div>"
      ],
      "text/plain": [
       "                                                                  text  \\\n",
       "fields                                                                   \n",
       "Psychology 1744429   Hookah smoking is a harmful practice which has...   \n",
       "           8252263   Misbehaviour phenomenon in elementary school c...   \n",
       "           14080842  Suicide is one of the leading causes of premat...   \n",
       "           8149704   Less-skilled adult readers have been found to ...   \n",
       "           4679051   Postsecondary learning environments often util...   \n",
       "...                                                                ...   \n",
       "Biology    1989197   Rhabdomyosarcoma (RMS) is the most common type...   \n",
       "           15376790  Despite extensive research, the mechanism of i...   \n",
       "           7064261   Stings by insects from the Hymenoptera order c...   \n",
       "           10018890  Recent studies have shown that neonicotinoid i...   \n",
       "           2195958   The lymphatic vasculature is essential for tis...   \n",
       "\n",
       "                                                       doi      fields  \\\n",
       "fields                                                                   \n",
       "Psychology 1744429           10.1080/14659891.2019.1664655  Psychology   \n",
       "           8252263          10.5958/0976-5506.2018.01363.3  Psychology   \n",
       "           14080842          10.1016/S0924-9338(13)76596-9  Psychology   \n",
       "           8149704                10.1177/0741713620952348  Psychology   \n",
       "           4679051                  10.19030/AJBE.V3I7.455  Psychology   \n",
       "...                                                    ...         ...   \n",
       "Biology    1989197           10.1158/1078-0432.CCR-10-0166     Biology   \n",
       "           15376790  10.3760/cma.j.issn.0366-6999.20112856     Biology   \n",
       "           7064261               10.1016/j.pep.2010.03.029     Biology   \n",
       "           10018890                    10.1038/nature13531     Biology   \n",
       "           2195958           10.1158/0008-5472.CAN-08-1879     Biology   \n",
       "\n",
       "                     predicts  \n",
       "fields                         \n",
       "Psychology 1744429          1  \n",
       "           8252263          1  \n",
       "           14080842         1  \n",
       "           8149704          1  \n",
       "           4679051          1  \n",
       "...                       ...  \n",
       "Biology    1989197          1  \n",
       "           15376790         1  \n",
       "           7064261          1  \n",
       "           10018890         1  \n",
       "           2195958          1  \n",
       "\n",
       "[8217 rows x 4 columns]"
      ]
     },
     "execution_count": 126,
     "metadata": {},
     "output_type": "execute_result"
    }
   ],
   "source": []
  },
  {
   "cell_type": "code",
   "execution_count": 97,
   "id": "bcc08fb6",
   "metadata": {},
   "outputs": [],
   "source": [
    "df2 = dfx[dfx[\"fields\"].isin([\"Sociology\", \"Geology\", \"Environmental Science\"])]"
   ]
  },
  {
   "cell_type": "code",
   "execution_count": 101,
   "id": "915b2505",
   "metadata": {},
   "outputs": [],
   "source": [
    "df2.to_csv(\"downloads/underrepresented_domains_predicts.csv\", index = False, header=True)"
   ]
  },
  {
   "cell_type": "code",
   "execution_count": 102,
   "id": "7e18a9c2",
   "metadata": {},
   "outputs": [],
   "source": [
    "df2 = dfx[dfx[\"fields\"].isin([\"Materials Science\", \"Psychology\", \"Chemistry\"])]"
   ]
  },
  {
   "cell_type": "code",
   "execution_count": 105,
   "id": "9103cdf1",
   "metadata": {},
   "outputs": [],
   "source": [
    "df2.to_csv (\"downloads/mid_represented_domains_predicts.csv\", index = False, header=True)\n",
    "#check that not in final110k_1605"
   ]
  },
  {
   "cell_type": "code",
   "execution_count": null,
   "id": "4db37bbf",
   "metadata": {},
   "outputs": [],
   "source": [
    "dfx.to_csv(\"downloads/pos_preds_12062022.csv\", index = False, header=True)"
   ]
  },
  {
   "cell_type": "code",
   "execution_count": null,
   "id": "6d076f27",
   "metadata": {},
   "outputs": [],
   "source": [
    "dfx[dfx[\"fieldsOfStudy\"].isin(['Environmental Science', 'Sociology', 'Geology', 'Biology', 'Materials Science', 'Chemistry'])]"
   ]
  },
  {
   "cell_type": "code",
   "execution_count": 58,
   "id": "b1c9e65f",
   "metadata": {},
   "outputs": [
    {
     "data": {
      "text/html": [
       "<div>\n",
       "<style scoped>\n",
       "    .dataframe tbody tr th:only-of-type {\n",
       "        vertical-align: middle;\n",
       "    }\n",
       "\n",
       "    .dataframe tbody tr th {\n",
       "        vertical-align: top;\n",
       "    }\n",
       "\n",
       "    .dataframe thead th {\n",
       "        text-align: right;\n",
       "    }\n",
       "</style>\n",
       "<table border=\"1\" class=\"dataframe\">\n",
       "  <thead>\n",
       "    <tr style=\"text-align: right;\">\n",
       "      <th></th>\n",
       "      <th>index</th>\n",
       "      <th>text</th>\n",
       "      <th>s2Url</th>\n",
       "      <th>doi</th>\n",
       "      <th>journalName</th>\n",
       "      <th>title</th>\n",
       "      <th>fieldsOfStudy</th>\n",
       "      <th>fields</th>\n",
       "      <th>predicts</th>\n",
       "    </tr>\n",
       "  </thead>\n",
       "  <tbody>\n",
       "    <tr>\n",
       "      <th>4</th>\n",
       "      <td>7</td>\n",
       "      <td>Falsified and substandard drugs are a global h...</td>\n",
       "      <td>https://semanticscholar.org/paper/0d0467c4cccb...</td>\n",
       "      <td>10.1371/journal.pone.0090601</td>\n",
       "      <td>PLoS ONE</td>\n",
       "      <td>Technologies for Detecting Falsified and Subst...</td>\n",
       "      <td>['Medicine']</td>\n",
       "      <td>Medicine</td>\n",
       "      <td>1</td>\n",
       "    </tr>\n",
       "    <tr>\n",
       "      <th>7</th>\n",
       "      <td>13</td>\n",
       "      <td>IntroductionMcCune-Albright syndrome is a comp...</td>\n",
       "      <td>https://semanticscholar.org/paper/a28cf4e1bf12...</td>\n",
       "      <td>10.1186/1752-1947-6-32</td>\n",
       "      <td>Journal of Medical Case Reports</td>\n",
       "      <td>Pamidronic acid and cabergoline as effective l...</td>\n",
       "      <td>['Medicine']</td>\n",
       "      <td>Medicine</td>\n",
       "      <td>1</td>\n",
       "    </tr>\n",
       "    <tr>\n",
       "      <th>72</th>\n",
       "      <td>147</td>\n",
       "      <td>As men grow older, testosterone (T) levels dec...</td>\n",
       "      <td>https://semanticscholar.org/paper/6616f4ba272f...</td>\n",
       "      <td>10.4103/1008-682X.122357</td>\n",
       "      <td>Asian Journal of Andrology</td>\n",
       "      <td>Sex steroids and cardiovascular disease</td>\n",
       "      <td>['Medicine']</td>\n",
       "      <td>Medicine</td>\n",
       "      <td>1</td>\n",
       "    </tr>\n",
       "    <tr>\n",
       "      <th>103</th>\n",
       "      <td>203</td>\n",
       "      <td>Viral infections have the potential to induce ...</td>\n",
       "      <td>https://semanticscholar.org/paper/15bdef5b0f93...</td>\n",
       "      <td>10.1007/s11901-016-0292-z</td>\n",
       "      <td>Current Hepatology Reports</td>\n",
       "      <td>HCC: Where Does HCV Therapy Play a Role?</td>\n",
       "      <td>['Medicine']</td>\n",
       "      <td>Medicine</td>\n",
       "      <td>1</td>\n",
       "    </tr>\n",
       "    <tr>\n",
       "      <th>123</th>\n",
       "      <td>243</td>\n",
       "      <td>Mastocytosis is a myeloid neoplasm characteriz...</td>\n",
       "      <td>https://semanticscholar.org/paper/ec9263657cf8...</td>\n",
       "      <td>10.1586/ehm.10.42</td>\n",
       "      <td>Expert Review of Hematology</td>\n",
       "      <td>Pathogenesis, classification and treatment of ...</td>\n",
       "      <td>['Medicine']</td>\n",
       "      <td>Medicine</td>\n",
       "      <td>1</td>\n",
       "    </tr>\n",
       "    <tr>\n",
       "      <th>...</th>\n",
       "      <td>...</td>\n",
       "      <td>...</td>\n",
       "      <td>...</td>\n",
       "      <td>...</td>\n",
       "      <td>...</td>\n",
       "      <td>...</td>\n",
       "      <td>...</td>\n",
       "      <td>...</td>\n",
       "      <td>...</td>\n",
       "    </tr>\n",
       "    <tr>\n",
       "      <th>5076747</th>\n",
       "      <td>4772128</td>\n",
       "      <td>The association of a benign ovarian tumor with...</td>\n",
       "      <td>https://semanticscholar.org/paper/b25d3eec1c5c...</td>\n",
       "      <td>10.4314/WAJM.V26I3.28322</td>\n",
       "      <td>West African journal of medicine</td>\n",
       "      <td>Meigs' syndrome presenting as haemorrhagic ple...</td>\n",
       "      <td>['Medicine']</td>\n",
       "      <td>Medicine</td>\n",
       "      <td>1</td>\n",
       "    </tr>\n",
       "    <tr>\n",
       "      <th>5076802</th>\n",
       "      <td>4772221</td>\n",
       "      <td>The putative effects of diabetes and metabolic...</td>\n",
       "      <td>https://semanticscholar.org/paper/164e57704ccb...</td>\n",
       "      <td>10.1210/JCEM.80.4.7536202</td>\n",
       "      <td>The Journal of clinical endocrinology and meta...</td>\n",
       "      <td>Insulin-like growth factor (IGF)-I and -II and...</td>\n",
       "      <td>['Medicine']</td>\n",
       "      <td>Medicine</td>\n",
       "      <td>1</td>\n",
       "    </tr>\n",
       "    <tr>\n",
       "      <th>5076812</th>\n",
       "      <td>4772243</td>\n",
       "      <td>Factor V deficiency secondary to inhibitors is...</td>\n",
       "      <td>https://semanticscholar.org/paper/ca68ab337e14...</td>\n",
       "      <td>10.1155/2015/603402</td>\n",
       "      <td>Case Reports in Hematology</td>\n",
       "      <td>Refractory Epistaxis due to Severe Factor V De...</td>\n",
       "      <td>['Medicine']</td>\n",
       "      <td>Medicine</td>\n",
       "      <td>1</td>\n",
       "    </tr>\n",
       "    <tr>\n",
       "      <th>5076833</th>\n",
       "      <td>4772289</td>\n",
       "      <td>Recent prostate cancer screening trials have g...</td>\n",
       "      <td>https://semanticscholar.org/paper/368327b75301...</td>\n",
       "      <td>10.1101/402743</td>\n",
       "      <td>bioRxiv</td>\n",
       "      <td>A natural history model for planning prostate ...</td>\n",
       "      <td>['Medicine']</td>\n",
       "      <td>Medicine</td>\n",
       "      <td>1</td>\n",
       "    </tr>\n",
       "    <tr>\n",
       "      <th>5076883</th>\n",
       "      <td>4772400</td>\n",
       "      <td>DUODENAL villous tumors are rare lesions that ...</td>\n",
       "      <td>https://semanticscholar.org/paper/cbad468d9b16...</td>\n",
       "      <td>10.1001/JAMA.1979.03290510042026</td>\n",
       "      <td>JAMA</td>\n",
       "      <td>Duodenal filling defect.</td>\n",
       "      <td>['Medicine']</td>\n",
       "      <td>Medicine</td>\n",
       "      <td>1</td>\n",
       "    </tr>\n",
       "  </tbody>\n",
       "</table>\n",
       "<p>174701 rows × 9 columns</p>\n",
       "</div>"
      ],
      "text/plain": [
       "           index                                               text  \\\n",
       "4              7  Falsified and substandard drugs are a global h...   \n",
       "7             13  IntroductionMcCune-Albright syndrome is a comp...   \n",
       "72           147  As men grow older, testosterone (T) levels dec...   \n",
       "103          203  Viral infections have the potential to induce ...   \n",
       "123          243  Mastocytosis is a myeloid neoplasm characteriz...   \n",
       "...          ...                                                ...   \n",
       "5076747  4772128  The association of a benign ovarian tumor with...   \n",
       "5076802  4772221  The putative effects of diabetes and metabolic...   \n",
       "5076812  4772243  Factor V deficiency secondary to inhibitors is...   \n",
       "5076833  4772289  Recent prostate cancer screening trials have g...   \n",
       "5076883  4772400  DUODENAL villous tumors are rare lesions that ...   \n",
       "\n",
       "                                                     s2Url  \\\n",
       "4        https://semanticscholar.org/paper/0d0467c4cccb...   \n",
       "7        https://semanticscholar.org/paper/a28cf4e1bf12...   \n",
       "72       https://semanticscholar.org/paper/6616f4ba272f...   \n",
       "103      https://semanticscholar.org/paper/15bdef5b0f93...   \n",
       "123      https://semanticscholar.org/paper/ec9263657cf8...   \n",
       "...                                                    ...   \n",
       "5076747  https://semanticscholar.org/paper/b25d3eec1c5c...   \n",
       "5076802  https://semanticscholar.org/paper/164e57704ccb...   \n",
       "5076812  https://semanticscholar.org/paper/ca68ab337e14...   \n",
       "5076833  https://semanticscholar.org/paper/368327b75301...   \n",
       "5076883  https://semanticscholar.org/paper/cbad468d9b16...   \n",
       "\n",
       "                                      doi  \\\n",
       "4            10.1371/journal.pone.0090601   \n",
       "7                  10.1186/1752-1947-6-32   \n",
       "72               10.4103/1008-682X.122357   \n",
       "103             10.1007/s11901-016-0292-z   \n",
       "123                     10.1586/ehm.10.42   \n",
       "...                                   ...   \n",
       "5076747          10.4314/WAJM.V26I3.28322   \n",
       "5076802         10.1210/JCEM.80.4.7536202   \n",
       "5076812               10.1155/2015/603402   \n",
       "5076833                    10.1101/402743   \n",
       "5076883  10.1001/JAMA.1979.03290510042026   \n",
       "\n",
       "                                               journalName  \\\n",
       "4                                                 PLoS ONE   \n",
       "7                          Journal of Medical Case Reports   \n",
       "72                              Asian Journal of Andrology   \n",
       "103                             Current Hepatology Reports   \n",
       "123                            Expert Review of Hematology   \n",
       "...                                                    ...   \n",
       "5076747                   West African journal of medicine   \n",
       "5076802  The Journal of clinical endocrinology and meta...   \n",
       "5076812                         Case Reports in Hematology   \n",
       "5076833                                            bioRxiv   \n",
       "5076883                                               JAMA   \n",
       "\n",
       "                                                     title fieldsOfStudy  \\\n",
       "4        Technologies for Detecting Falsified and Subst...  ['Medicine']   \n",
       "7        Pamidronic acid and cabergoline as effective l...  ['Medicine']   \n",
       "72                 Sex steroids and cardiovascular disease  ['Medicine']   \n",
       "103               HCC: Where Does HCV Therapy Play a Role?  ['Medicine']   \n",
       "123      Pathogenesis, classification and treatment of ...  ['Medicine']   \n",
       "...                                                    ...           ...   \n",
       "5076747  Meigs' syndrome presenting as haemorrhagic ple...  ['Medicine']   \n",
       "5076802  Insulin-like growth factor (IGF)-I and -II and...  ['Medicine']   \n",
       "5076812  Refractory Epistaxis due to Severe Factor V De...  ['Medicine']   \n",
       "5076833  A natural history model for planning prostate ...  ['Medicine']   \n",
       "5076883                           Duodenal filling defect.  ['Medicine']   \n",
       "\n",
       "           fields  predicts  \n",
       "4        Medicine         1  \n",
       "7        Medicine         1  \n",
       "72       Medicine         1  \n",
       "103      Medicine         1  \n",
       "123      Medicine         1  \n",
       "...           ...       ...  \n",
       "5076747  Medicine         1  \n",
       "5076802  Medicine         1  \n",
       "5076812  Medicine         1  \n",
       "5076833  Medicine         1  \n",
       "5076883  Medicine         1  \n",
       "\n",
       "[174701 rows x 9 columns]"
      ]
     },
     "execution_count": 58,
     "metadata": {},
     "output_type": "execute_result"
    }
   ],
   "source": [
    "dfx"
   ]
  },
  {
   "cell_type": "code",
   "execution_count": 181,
   "id": "e97369fd",
   "metadata": {},
   "outputs": [
    {
     "name": "stderr",
     "output_type": "stream",
     "text": [
      "/home/ec2-user/anaconda3/envs/python3/lib/python3.6/site-packages/ipykernel/__main__.py:8: DeprecationWarning: The default dtype for empty Series will be 'object' instead of 'float64' in a future version. Specify a dtype explicitly to silence this warning.\n",
      "44962it [00:59, 760.29it/s] \n"
     ]
    }
   ],
   "source": [
    "dt = pd.read_csv(\"core_pos.csv\")\n",
    "#d[d[\"first_sent\"].str.contains(re.escape(\"|\".join(d[\"authors\"][2:-2].replace(\"'\", \"\").split(\",\"))).strip().replace('\\\\', ''))]\n",
    "def formatStr (x):\n",
    "    x = eval(x)\n",
    "    x = [re.escape(v) for v in x]\n",
    "    return \"|\".join(x)\n",
    "\n",
    "regexs = d.authors.apply(formatStr)\n",
    "matches = pd.Series()\n",
    "for i, r in tqdm(d.iterrows()):\n",
    "    matches.loc[i] = len(re.findall(regexs.loc[i], d.first_sent.loc[i])) > 0\n",
    "dc[\"authors\"] = dc[\"authors\"].map(eval)\n",
    "dc = dc.drop(columns=[\"fullText\"])\n",
    "dc.to_csv(\"core_pos_parsed.csv\", index = False, header=True)\n",
    "tt.to_csv(\"core_pos_min.csv\", index = False, header=True)"
   ]
  },
  {
   "cell_type": "markdown",
   "id": "f984ff12",
   "metadata": {},
   "source": [
    "distilbert\n",
    "'mcc': 0.7621432780395265, 'tp': 167, 'tn': 480, 'fp': 39, 'fn': 30, 'acc': 0.9036312849162011, 'eval_loss': 0.24669100075132316}\n",
    "\n"
   ]
  }
 ],
 "metadata": {
  "kernelspec": {
   "display_name": "conda_python3",
   "language": "python",
   "name": "conda_python3"
  },
  "language_info": {
   "codemirror_mode": {
    "name": "ipython",
    "version": 3
   },
   "file_extension": ".py",
   "mimetype": "text/x-python",
   "name": "python",
   "nbconvert_exporter": "python",
   "pygments_lexer": "ipython3",
   "version": "3.6.13"
  }
 },
 "nbformat": 4,
 "nbformat_minor": 5
}
