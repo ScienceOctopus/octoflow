{
 "cells": [
  {
   "cell_type": "code",
   "execution_count": 1,
   "id": "d360d106",
   "metadata": {},
   "outputs": [],
   "source": [
    "%%capture\n",
    "!pip install tensorboardX simpletransformers sklearn"
   ]
  },
  {
   "cell_type": "code",
   "execution_count": 2,
   "id": "2b560c90",
   "metadata": {},
   "outputs": [
    {
     "name": "stdout",
     "output_type": "stream",
     "text": [
      "CUDA Version 10.0.130\n",
      "Requirement already satisfied: pydash in /home/ec2-user/anaconda3/envs/python3/lib/python3.6/site-packages (5.1.0)\n",
      "Collecting torch==1.6.0\n",
      "  Downloading torch-1.6.0-cp36-cp36m-manylinux1_x86_64.whl (748.8 MB)\n",
      "     |████████████████████████████████| 748.8 MB 6.0 kB/s              \n",
      "\u001b[?25hRequirement already satisfied: numpy in /home/ec2-user/anaconda3/envs/python3/lib/python3.6/site-packages (from torch==1.6.0) (1.19.5)\n",
      "Requirement already satisfied: future in /home/ec2-user/anaconda3/envs/python3/lib/python3.6/site-packages (from torch==1.6.0) (0.18.2)\n",
      "Installing collected packages: torch\n",
      "Successfully installed torch-1.6.0\n"
     ]
    }
   ],
   "source": [
    "!cat /usr/local/cuda/version.txt\n",
    "!pip install pydash\n",
    "!pip install torch==1.6.0\n",
    "#conda install pytorch==1.1.0 torchvision==0.3.0 cudatoolkit=10.0 -c pytorch\n",
    "#https://pytorch.org/get-started/previous-versions/"
   ]
  },
  {
   "cell_type": "code",
   "execution_count": 3,
   "id": "6246a2f2",
   "metadata": {},
   "outputs": [],
   "source": [
    "!rm -rf outputs"
   ]
  },
  {
   "cell_type": "code",
   "execution_count": 17,
   "id": "6d8a4bca",
   "metadata": {},
   "outputs": [
    {
     "data": {
      "text/plain": [
       "41561"
      ]
     },
     "execution_count": 17,
     "metadata": {},
     "output_type": "execute_result"
    }
   ],
   "source": [
    "from simpletransformers.classification import ClassificationModel, ClassificationArgs\n",
    "import pandas as pd\n",
    "import logging\n",
    "import sklearn\n",
    "from tqdm import tqdm\n",
    "import pandas as pd\n",
    "\n",
    "df = pd.read_csv(\"downloads/47k_train_no_acl.csv\")\n",
    "len(df)"
   ]
  },
  {
   "cell_type": "code",
   "execution_count": 18,
   "id": "70d1a96f",
   "metadata": {},
   "outputs": [
    {
     "data": {
      "text/plain": [
       "('ABSTRACTFigure   The northern corn rootworm', 'The northern corn rootworm')"
      ]
     },
     "execution_count": 18,
     "metadata": {},
     "output_type": "execute_result"
    }
   ],
   "source": [
    "blacklist=[\"abstract\", \"discussion\", \"background\", \"summary\", \"rationale\", \"introduction\", \"purpose\", \"objective\" ]\n",
    "blacklist += [t + \":\" for t in blacklist]\n",
    "def remove_special_words(text, blacklist=blacklist ):\n",
    "    words = text.split(\" \")\n",
    "    try:\n",
    "        first=words[0]\n",
    "    except:\n",
    "        return text\n",
    "    \n",
    "    if any(first.strip().lower() in string for string in blacklist):\n",
    "        return \" \".join(words[1:]).strip()\n",
    "    return text\n",
    "\n",
    "remove_special_words(\"ABSTRACTFigure   The northern corn rootworm\"), remove_special_words(\"ABSTRACT   The northern corn rootworm\")"
   ]
  },
  {
   "cell_type": "code",
   "execution_count": 19,
   "id": "72d7e06f",
   "metadata": {},
   "outputs": [
    {
     "data": {
      "text/plain": [
       "array(['predicts_acl_pm2500_vocabed', 'Oct1_clinical_studies_pm',\n",
       "       'oct3_labels', 'labels_oct7',\n",
       "       ' limitation|problem ... with ... l=be that', 'a ... drawback of',\n",
       "       'a {negative_adjectives} ...  {problem_nouns}', 'pm_OBJECTIVE',\n",
       "       'pm_METHODS', 'pm_RESULTS', 'pm_CONCLUSIONS', 'biology1k_050522',\n",
       "       'psych1k_100522'], dtype=object)"
      ]
     },
     "execution_count": 19,
     "metadata": {},
     "output_type": "execute_result"
    }
   ],
   "source": [
    "df[\"text\"] = df[\"text\"].map(remove_special_words)\n",
    "df[\"source\"].unique()"
   ]
  },
  {
   "cell_type": "code",
   "execution_count": 20,
   "id": "6591d9ed",
   "metadata": {},
   "outputs": [],
   "source": [
    "#df[df.source == \"predicts_acl_pm2500_vocabed\"][\"text\"]"
   ]
  },
  {
   "cell_type": "code",
   "execution_count": 21,
   "id": "0edd976b",
   "metadata": {},
   "outputs": [
    {
     "data": {
      "text/plain": [
       "array(['predicts_acl_pm2500_vocabed', 'Oct1_clinical_studies_pm',\n",
       "       'oct3_labels', 'labels_oct7',\n",
       "       ' limitation|problem ... with ... l=be that', 'a ... drawback of',\n",
       "       'a {negative_adjectives} ...  {problem_nouns}', 'pm_OBJECTIVE',\n",
       "       'pm_METHODS', 'pm_RESULTS', 'pm_CONCLUSIONS', 'biology1k_050522',\n",
       "       'psych1k_100522'], dtype=object)"
      ]
     },
     "execution_count": 21,
     "metadata": {},
     "output_type": "execute_result"
    }
   ],
   "source": [
    "df.source.unique()"
   ]
  },
  {
   "cell_type": "code",
   "execution_count": 22,
   "id": "92a1d9eb",
   "metadata": {},
   "outputs": [],
   "source": [
    "#downsample medical data in training set\n",
    "df = df[df[\"source\"].isin([\"oct3_labels\", \"labels_oct7\", \"psych1k_100522\", \"biology1k_050522\", \"predicts_acl_pm2500_vocabed\", 'pm_CONCLUSIONS', 'biology1k_050522'])]"
   ]
  },
  {
   "cell_type": "code",
   "execution_count": 23,
   "id": "04dfbde3",
   "metadata": {},
   "outputs": [],
   "source": [
    "df= df[[\"text\", \"labels\"]]"
   ]
  },
  {
   "cell_type": "code",
   "execution_count": 24,
   "id": "093946ce",
   "metadata": {},
   "outputs": [],
   "source": [
    "df =df.dropna()\n",
    "df = df.rename(columns={\"labels\": \"label\"})"
   ]
  },
  {
   "cell_type": "code",
   "execution_count": 25,
   "id": "d36f2f46",
   "metadata": {},
   "outputs": [],
   "source": [
    "df= df[[\"text\", \"label\"]]\n",
    "df.label = df.label.map(int)"
   ]
  },
  {
   "cell_type": "code",
   "execution_count": 26,
   "id": "dc086c55",
   "metadata": {},
   "outputs": [
    {
     "data": {
      "text/html": [
       "<div>\n",
       "<style scoped>\n",
       "    .dataframe tbody tr th:only-of-type {\n",
       "        vertical-align: middle;\n",
       "    }\n",
       "\n",
       "    .dataframe tbody tr th {\n",
       "        vertical-align: top;\n",
       "    }\n",
       "\n",
       "    .dataframe thead th {\n",
       "        text-align: right;\n",
       "    }\n",
       "</style>\n",
       "<table border=\"1\" class=\"dataframe\">\n",
       "  <thead>\n",
       "    <tr style=\"text-align: right;\">\n",
       "      <th></th>\n",
       "      <th>text</th>\n",
       "      <th>label</th>\n",
       "    </tr>\n",
       "  </thead>\n",
       "  <tbody>\n",
       "    <tr>\n",
       "      <th>0</th>\n",
       "      <td>While often idiopathic, anterior ischemic opti...</td>\n",
       "      <td>0</td>\n",
       "    </tr>\n",
       "    <tr>\n",
       "      <th>1</th>\n",
       "      <td>Primary cutaneous B-cell lymphomas (PCBCLs) ar...</td>\n",
       "      <td>0</td>\n",
       "    </tr>\n",
       "    <tr>\n",
       "      <th>2</th>\n",
       "      <td>The insufflation of gas during colonoscopy lea...</td>\n",
       "      <td>0</td>\n",
       "    </tr>\n",
       "    <tr>\n",
       "      <th>3</th>\n",
       "      <td>The aim of the present study is to investigate...</td>\n",
       "      <td>0</td>\n",
       "    </tr>\n",
       "    <tr>\n",
       "      <th>4</th>\n",
       "      <td>The aim of this study was to assess predictive...</td>\n",
       "      <td>0</td>\n",
       "    </tr>\n",
       "    <tr>\n",
       "      <th>...</th>\n",
       "      <td>...</td>\n",
       "      <td>...</td>\n",
       "    </tr>\n",
       "    <tr>\n",
       "      <th>41556</th>\n",
       "      <td>Mobbing is actually a social problem.</td>\n",
       "      <td>0</td>\n",
       "    </tr>\n",
       "    <tr>\n",
       "      <th>41557</th>\n",
       "      <td>Students starting off on a tertiary education ...</td>\n",
       "      <td>1</td>\n",
       "    </tr>\n",
       "    <tr>\n",
       "      <th>41558</th>\n",
       "      <td>Many individuals with vision impairment experi...</td>\n",
       "      <td>1</td>\n",
       "    </tr>\n",
       "    <tr>\n",
       "      <th>41559</th>\n",
       "      <td>Considering China is facing a precipitous decl...</td>\n",
       "      <td>0</td>\n",
       "    </tr>\n",
       "    <tr>\n",
       "      <th>41560</th>\n",
       "      <td>fundamental goal in memory research is to unde...</td>\n",
       "      <td>1</td>\n",
       "    </tr>\n",
       "  </tbody>\n",
       "</table>\n",
       "<p>7667 rows × 2 columns</p>\n",
       "</div>"
      ],
      "text/plain": [
       "                                                    text  label\n",
       "0      While often idiopathic, anterior ischemic opti...      0\n",
       "1      Primary cutaneous B-cell lymphomas (PCBCLs) ar...      0\n",
       "2      The insufflation of gas during colonoscopy lea...      0\n",
       "3      The aim of the present study is to investigate...      0\n",
       "4      The aim of this study was to assess predictive...      0\n",
       "...                                                  ...    ...\n",
       "41556              Mobbing is actually a social problem.      0\n",
       "41557  Students starting off on a tertiary education ...      1\n",
       "41558  Many individuals with vision impairment experi...      1\n",
       "41559  Considering China is facing a precipitous decl...      0\n",
       "41560  fundamental goal in memory research is to unde...      1\n",
       "\n",
       "[7667 rows x 2 columns]"
      ]
     },
     "execution_count": 26,
     "metadata": {},
     "output_type": "execute_result"
    }
   ],
   "source": [
    "df"
   ]
  },
  {
   "cell_type": "code",
   "execution_count": 27,
   "id": "73a09036",
   "metadata": {},
   "outputs": [
    {
     "name": "stderr",
     "output_type": "stream",
     "text": [
      "Some weights of the model checkpoint at distilbert-base-uncased were not used when initializing DistilBertForSequenceClassification: ['vocab_layer_norm.weight', 'vocab_projector.bias', 'vocab_projector.weight', 'vocab_layer_norm.bias', 'vocab_transform.bias', 'vocab_transform.weight']\n",
      "- This IS expected if you are initializing DistilBertForSequenceClassification from the checkpoint of a model trained on another task or with another architecture (e.g. initializing a BertForSequenceClassification model from a BertForPreTraining model).\n",
      "- This IS NOT expected if you are initializing DistilBertForSequenceClassification from the checkpoint of a model that you expect to be exactly identical (initializing a BertForSequenceClassification model from a BertForSequenceClassification model).\n",
      "Some weights of DistilBertForSequenceClassification were not initialized from the model checkpoint at distilbert-base-uncased and are newly initialized: ['pre_classifier.weight', 'classifier.weight', 'classifier.bias', 'pre_classifier.bias']\n",
      "You should probably TRAIN this model on a down-stream task to be able to use it for predictions and inference.\n"
     ]
    }
   ],
   "source": [
    "logging.basicConfig(level=logging.INFO)\n",
    "transformers_logger = logging.getLogger(\"transformers\")\n",
    "transformers_logger.setLevel(logging.WARNING)\n",
    "\n",
    "df2 = df.sample(frac=1)\n",
    "# Train and Evaluation data needs to be in a Pandas Dataframe of two columns. \n",
    "#The first column is the text with type str, and the second column is the label with type int.\n",
    "size = len(df2)\n",
    "train_cutoff = round(size*0.8)\n",
    "train_df= df2[:train_cutoff]\n",
    "eval_df = df2[train_cutoff:]\n",
    "\n",
    "model_args = ClassificationArgs(save_steps=-1, save_model_every_epoch=False, sliding_window=True)\n",
    "\n",
    "model = ClassificationModel('distilbert', 'distilbert-base-uncased',args=model_args, use_cuda=True) # You can set class weights by using the optional weight argument"
   ]
  },
  {
   "cell_type": "code",
   "execution_count": 28,
   "id": "cd9c3839",
   "metadata": {},
   "outputs": [
    {
     "data": {
      "text/html": [
       "<div>\n",
       "<style scoped>\n",
       "    .dataframe tbody tr th:only-of-type {\n",
       "        vertical-align: middle;\n",
       "    }\n",
       "\n",
       "    .dataframe tbody tr th {\n",
       "        vertical-align: top;\n",
       "    }\n",
       "\n",
       "    .dataframe thead th {\n",
       "        text-align: right;\n",
       "    }\n",
       "</style>\n",
       "<table border=\"1\" class=\"dataframe\">\n",
       "  <thead>\n",
       "    <tr style=\"text-align: right;\">\n",
       "      <th></th>\n",
       "      <th>text</th>\n",
       "      <th>label</th>\n",
       "    </tr>\n",
       "  </thead>\n",
       "  <tbody>\n",
       "    <tr>\n",
       "      <th>5</th>\n",
       "      <td>Although spatial ability and mathematics perfo...</td>\n",
       "      <td>1</td>\n",
       "    </tr>\n",
       "    <tr>\n",
       "      <th>12</th>\n",
       "      <td>Postoperative liver failure is a serious compl...</td>\n",
       "      <td>1</td>\n",
       "    </tr>\n",
       "    <tr>\n",
       "      <th>17</th>\n",
       "      <td>Although previous correlational studies have s...</td>\n",
       "      <td>1</td>\n",
       "    </tr>\n",
       "    <tr>\n",
       "      <th>18</th>\n",
       "      <td>As exchange counting poses difficulty for chil...</td>\n",
       "      <td>1</td>\n",
       "    </tr>\n",
       "    <tr>\n",
       "      <th>20</th>\n",
       "      <td>Chronic intestinal pseudo-obstruction (CIPO) i...</td>\n",
       "      <td>1</td>\n",
       "    </tr>\n",
       "    <tr>\n",
       "      <th>...</th>\n",
       "      <td>...</td>\n",
       "      <td>...</td>\n",
       "    </tr>\n",
       "    <tr>\n",
       "      <th>41554</th>\n",
       "      <td>Excessive consumption of unhealthy foods is a ...</td>\n",
       "      <td>1</td>\n",
       "    </tr>\n",
       "    <tr>\n",
       "      <th>41555</th>\n",
       "      <td>Objectives: A major challenge in cognitive agi...</td>\n",
       "      <td>1</td>\n",
       "    </tr>\n",
       "    <tr>\n",
       "      <th>41557</th>\n",
       "      <td>Students starting off on a tertiary education ...</td>\n",
       "      <td>1</td>\n",
       "    </tr>\n",
       "    <tr>\n",
       "      <th>41558</th>\n",
       "      <td>Many individuals with vision impairment experi...</td>\n",
       "      <td>1</td>\n",
       "    </tr>\n",
       "    <tr>\n",
       "      <th>41560</th>\n",
       "      <td>fundamental goal in memory research is to unde...</td>\n",
       "      <td>1</td>\n",
       "    </tr>\n",
       "  </tbody>\n",
       "</table>\n",
       "<p>1367 rows × 2 columns</p>\n",
       "</div>"
      ],
      "text/plain": [
       "                                                    text  label\n",
       "5      Although spatial ability and mathematics perfo...      1\n",
       "12     Postoperative liver failure is a serious compl...      1\n",
       "17     Although previous correlational studies have s...      1\n",
       "18     As exchange counting poses difficulty for chil...      1\n",
       "20     Chronic intestinal pseudo-obstruction (CIPO) i...      1\n",
       "...                                                  ...    ...\n",
       "41554  Excessive consumption of unhealthy foods is a ...      1\n",
       "41555  Objectives: A major challenge in cognitive agi...      1\n",
       "41557  Students starting off on a tertiary education ...      1\n",
       "41558  Many individuals with vision impairment experi...      1\n",
       "41560  fundamental goal in memory research is to unde...      1\n",
       "\n",
       "[1367 rows x 2 columns]"
      ]
     },
     "execution_count": 28,
     "metadata": {},
     "output_type": "execute_result"
    }
   ],
   "source": [
    "df[df.label == 1]"
   ]
  },
  {
   "cell_type": "code",
   "execution_count": 29,
   "id": "9f1764b3",
   "metadata": {},
   "outputs": [
    {
     "name": "stderr",
     "output_type": "stream",
     "text": [
      "/home/ec2-user/anaconda3/envs/python3/lib/python3.6/site-packages/simpletransformers/classification/classification_model.py:602: UserWarning: Dataframe headers not specified. Falling back to using column 0 as text and column 1 as labels.\n",
      "  \"Dataframe headers not specified. Falling back to using column 0 as text and column 1 as labels.\"\n",
      "INFO:simpletransformers.classification.classification_model: Converting to features started. Cache is not used.\n",
      "INFO:simpletransformers.classification.classification_model: Sliding window enabled\n"
     ]
    },
    {
     "data": {
      "application/vnd.jupyter.widget-view+json": {
       "model_id": "9bf814200cd14d8099d5a6b6ea3b3394",
       "version_major": 2,
       "version_minor": 0
      },
      "text/plain": [
       "  0%|          | 0/6134 [00:00<?, ?it/s]"
      ]
     },
     "metadata": {},
     "output_type": "display_data"
    },
    {
     "name": "stderr",
     "output_type": "stream",
     "text": [
      "INFO:simpletransformers.classification.classification_model: 6147 features created from 6134 samples.\n",
      "/home/ec2-user/anaconda3/envs/python3/lib/python3.6/site-packages/transformers/optimization.py:309: FutureWarning: This implementation of AdamW is deprecated and will be removed in a future version. Use the PyTorch implementation torch.optim.AdamW instead, or set `no_deprecation_warning=True` to disable this warning\n",
      "  FutureWarning,\n"
     ]
    },
    {
     "data": {
      "application/vnd.jupyter.widget-view+json": {
       "model_id": "adb634ce38484d3889c0e22cbb2d870e",
       "version_major": 2,
       "version_minor": 0
      },
      "text/plain": [
       "Epoch:   0%|          | 0/1 [00:00<?, ?it/s]"
      ]
     },
     "metadata": {},
     "output_type": "display_data"
    },
    {
     "data": {
      "application/vnd.jupyter.widget-view+json": {
       "model_id": "1c605b8a795e418d907aaeab3ec661b4",
       "version_major": 2,
       "version_minor": 0
      },
      "text/plain": [
       "Running Epoch 0 of 1:   0%|          | 0/769 [00:00<?, ?it/s]"
      ]
     },
     "metadata": {},
     "output_type": "display_data"
    },
    {
     "name": "stderr",
     "output_type": "stream",
     "text": [
      "INFO:simpletransformers.classification.classification_model: Training of distilbert model complete. Saved to outputs/.\n",
      "/home/ec2-user/anaconda3/envs/python3/lib/python3.6/site-packages/simpletransformers/classification/classification_model.py:1443: UserWarning: Dataframe headers not specified. Falling back to using column 0 as text and column 1 as labels.\n",
      "  \"Dataframe headers not specified. Falling back to using column 0 as text and column 1 as labels.\"\n",
      "INFO:simpletransformers.classification.classification_model: Converting to features started. Cache is not used.\n",
      "INFO:simpletransformers.classification.classification_model: Sliding window enabled\n"
     ]
    },
    {
     "data": {
      "application/vnd.jupyter.widget-view+json": {
       "model_id": "f362119fbfbc49bfa2ddd3f50fdd4bad",
       "version_major": 2,
       "version_minor": 0
      },
      "text/plain": [
       "  0%|          | 0/1533 [00:00<?, ?it/s]"
      ]
     },
     "metadata": {},
     "output_type": "display_data"
    },
    {
     "name": "stderr",
     "output_type": "stream",
     "text": [
      "INFO:simpletransformers.classification.classification_model: 1533 features created from 1533 samples.\n"
     ]
    },
    {
     "data": {
      "application/vnd.jupyter.widget-view+json": {
       "model_id": "1ff4236d4c704b5292e888f294e978f5",
       "version_major": 2,
       "version_minor": 0
      },
      "text/plain": [
       "Running Evaluation:   0%|          | 0/192 [00:00<?, ?it/s]"
      ]
     },
     "metadata": {},
     "output_type": "display_data"
    },
    {
     "name": "stderr",
     "output_type": "stream",
     "text": [
      "INFO:simpletransformers.classification.classification_model:{'mcc': 0.7774264713536183, 'tp': 234, 'tn': 1195, 'fp': 63, 'fn': 41, 'acc': 0.9321591650358774, 'eval_loss': 0.20802968784604067}\n"
     ]
    }
   ],
   "source": [
    "# Train the model\n",
    "model.train_model(train_df, overwrite_output_dir=True)\n",
    "# Evaluate the model, u\n",
    "result, model_outputs, wrong_predictions = model.eval_model(eval_df, acc=sklearn.metrics.accuracy_score)"
   ]
  },
  {
   "cell_type": "code",
   "execution_count": 30,
   "id": "691942fe",
   "metadata": {},
   "outputs": [
    {
     "data": {
      "text/plain": [
       "{'mcc': 0.7774264713536183,\n",
       " 'tp': 234,\n",
       " 'tn': 1195,\n",
       " 'fp': 63,\n",
       " 'fn': 41,\n",
       " 'acc': 0.9321591650358774,\n",
       " 'eval_loss': 0.20802968784604067}"
      ]
     },
     "execution_count": 30,
     "metadata": {},
     "output_type": "execute_result"
    }
   ],
   "source": [
    "result"
   ]
  },
  {
   "cell_type": "code",
   "execution_count": 31,
   "id": "132d8296",
   "metadata": {},
   "outputs": [],
   "source": [
    "import pandas as pd"
   ]
  },
  {
   "cell_type": "code",
   "execution_count": null,
   "id": "4f79846f",
   "metadata": {},
   "outputs": [],
   "source": [
    "dfx = pd.read_csv(\"downloads/s2c_5M_bioadjacent.csv\",  lineterminator='\\n', error_bad_lines=False)"
   ]
  },
  {
   "cell_type": "code",
   "execution_count": null,
   "id": "5d79afde",
   "metadata": {},
   "outputs": [
    {
     "data": {
      "text/plain": [
       "1178184"
      ]
     },
     "execution_count": 33,
     "metadata": {},
     "output_type": "execute_result"
    }
   ],
   "source": [
    "dfx = dfx.dropna(subset=[\"text\"])\n",
    "dfx=dfx[dfx[\"text\"].str.len() > 15]\n",
    "\n",
    "dfx.head()\n",
    "\n",
    "#dfx = dfx[dfx.fields.isin([\"Medicine\", 'Environmental Science', 'Sociology', 'Psychology', 'Geology', 'Biology', 'Materials Science', 'Chemistry'])]\n",
    "dfx = dfx[dfx.fields.isin([\"Medicine\"])]\n",
    "dfx[\"text\"] = dfx[\"text\"].map(remove_special_words)\n",
    "\n",
    "len(dfx)"
   ]
  },
  {
   "cell_type": "code",
   "execution_count": 38,
   "id": "98061b7d",
   "metadata": {},
   "outputs": [],
   "source": [
    "dfx[\"text\"] = dfx[\"text\"].astype(str)\n",
    "dfx = dfx.dropna(subset=[\"doi\"])\n"
   ]
  },
  {
   "cell_type": "code",
   "execution_count": 35,
   "id": "b9afe4fe",
   "metadata": {},
   "outputs": [],
   "source": [
    "#dfx = dfx.sample(frac=0.2)"
   ]
  },
  {
   "cell_type": "code",
   "execution_count": 39,
   "id": "19cdd6ac",
   "metadata": {},
   "outputs": [
    {
     "data": {
      "text/plain": [
       "900121"
      ]
     },
     "execution_count": 39,
     "metadata": {},
     "output_type": "execute_result"
    }
   ],
   "source": [
    "len(dfx)"
   ]
  },
  {
   "cell_type": "code",
   "execution_count": 40,
   "id": "72ec518a",
   "metadata": {},
   "outputs": [],
   "source": [
    "#dfx.to_csv(\"downloads/sample_bioadjacent600k.csv\", index = False, header=True)"
   ]
  },
  {
   "cell_type": "code",
   "execution_count": 47,
   "id": "219618b8",
   "metadata": {},
   "outputs": [],
   "source": [
    "predicts_path = 'downloads/predicts_backup_5M.txt'"
   ]
  },
  {
   "cell_type": "code",
   "execution_count": 41,
   "id": "0527a043",
   "metadata": {},
   "outputs": [],
   "source": [
    "def stepwise(step, df, f):\n",
    "    l = []\n",
    "    for idx in range(step, len(df)+step-1, step):\n",
    "        print(idx-step, idx)# dataframe[idx-step:idx])\n",
    "        sl = df[idx-step:idx]\n",
    "        batch = model.predict(list(sl))\n",
    "        l = l + list(batch[0])\n",
    "        with open(predicts_path, 'w') as f:\n",
    "            for item in l:\n",
    "                f.write(\"%s\\n\" % item)\n",
    "    return l"
   ]
  },
  {
   "cell_type": "code",
   "execution_count": null,
   "id": "c7538167",
   "metadata": {},
   "outputs": [
    {
     "name": "stderr",
     "output_type": "stream",
     "text": [
      "INFO:simpletransformers.classification.classification_model: Converting to features started. Cache is not used.\n",
      "INFO:simpletransformers.classification.classification_model: Sliding window enabled\n"
     ]
    },
    {
     "name": "stdout",
     "output_type": "stream",
     "text": [
      "0 40000\n"
     ]
    },
    {
     "data": {
      "application/vnd.jupyter.widget-view+json": {
       "model_id": "17db2074e6a54c68a649e304b798bd21",
       "version_major": 2,
       "version_minor": 0
      },
      "text/plain": [
       "  0%|          | 0/40000 [00:00<?, ?it/s]"
      ]
     },
     "metadata": {},
     "output_type": "display_data"
    },
    {
     "name": "stderr",
     "output_type": "stream",
     "text": [
      "INFO:simpletransformers.classification.classification_model: 40000 features created from 40000 samples.\n"
     ]
    },
    {
     "data": {
      "application/vnd.jupyter.widget-view+json": {
       "model_id": "2cfbf2a0f9ed40369e1f6242b8b7c772",
       "version_major": 2,
       "version_minor": 0
      },
      "text/plain": [
       "  0%|          | 0/5018 [00:00<?, ?it/s]"
      ]
     },
     "metadata": {},
     "output_type": "display_data"
    },
    {
     "name": "stderr",
     "output_type": "stream",
     "text": [
      "INFO:simpletransformers.classification.classification_model: Converting to features started. Cache is not used.\n",
      "INFO:simpletransformers.classification.classification_model: Sliding window enabled\n"
     ]
    },
    {
     "name": "stdout",
     "output_type": "stream",
     "text": [
      "40000 80000\n"
     ]
    },
    {
     "data": {
      "application/vnd.jupyter.widget-view+json": {
       "model_id": "e59783cf26d34b2681d762f5120f3a41",
       "version_major": 2,
       "version_minor": 0
      },
      "text/plain": [
       "  0%|          | 0/40000 [00:00<?, ?it/s]"
      ]
     },
     "metadata": {},
     "output_type": "display_data"
    },
    {
     "name": "stderr",
     "output_type": "stream",
     "text": [
      "Token indices sequence length is longer than the specified maximum sequence length for this model (675 > 512). Running this sequence through the model will result in indexing errors\n",
      "Token indices sequence length is longer than the specified maximum sequence length for this model (886 > 512). Running this sequence through the model will result in indexing errors\n",
      "Token indices sequence length is longer than the specified maximum sequence length for this model (833 > 512). Running this sequence through the model will result in indexing errors\n",
      "INFO:simpletransformers.classification.classification_model: 40000 features created from 40000 samples.\n"
     ]
    },
    {
     "data": {
      "application/vnd.jupyter.widget-view+json": {
       "model_id": "f8d35e5e11ae4b1380411bf24db90c99",
       "version_major": 2,
       "version_minor": 0
      },
      "text/plain": [
       "  0%|          | 0/5019 [00:00<?, ?it/s]"
      ]
     },
     "metadata": {},
     "output_type": "display_data"
    },
    {
     "name": "stderr",
     "output_type": "stream",
     "text": [
      "INFO:simpletransformers.classification.classification_model: Converting to features started. Cache is not used.\n",
      "INFO:simpletransformers.classification.classification_model: Sliding window enabled\n"
     ]
    },
    {
     "name": "stdout",
     "output_type": "stream",
     "text": [
      "80000 120000\n"
     ]
    },
    {
     "data": {
      "application/vnd.jupyter.widget-view+json": {
       "model_id": "e137916a393247a5a352f325e65bbfa7",
       "version_major": 2,
       "version_minor": 0
      },
      "text/plain": [
       "  0%|          | 0/40000 [00:00<?, ?it/s]"
      ]
     },
     "metadata": {},
     "output_type": "display_data"
    },
    {
     "name": "stderr",
     "output_type": "stream",
     "text": [
      "Token indices sequence length is longer than the specified maximum sequence length for this model (724 > 512). Running this sequence through the model will result in indexing errors\n",
      "INFO:simpletransformers.classification.classification_model: 40000 features created from 40000 samples.\n"
     ]
    },
    {
     "data": {
      "application/vnd.jupyter.widget-view+json": {
       "model_id": "1d08d8bb8e1b4a4bab6cd9b07c78bc5f",
       "version_major": 2,
       "version_minor": 0
      },
      "text/plain": [
       "  0%|          | 0/5019 [00:00<?, ?it/s]"
      ]
     },
     "metadata": {},
     "output_type": "display_data"
    },
    {
     "name": "stderr",
     "output_type": "stream",
     "text": [
      "INFO:simpletransformers.classification.classification_model: Converting to features started. Cache is not used.\n",
      "INFO:simpletransformers.classification.classification_model: Sliding window enabled\n"
     ]
    },
    {
     "name": "stdout",
     "output_type": "stream",
     "text": [
      "120000 160000\n"
     ]
    },
    {
     "data": {
      "application/vnd.jupyter.widget-view+json": {
       "model_id": "5436be631e44472db5a12d2dd7f2a94b",
       "version_major": 2,
       "version_minor": 0
      },
      "text/plain": [
       "  0%|          | 0/40000 [00:00<?, ?it/s]"
      ]
     },
     "metadata": {},
     "output_type": "display_data"
    },
    {
     "name": "stderr",
     "output_type": "stream",
     "text": [
      "Token indices sequence length is longer than the specified maximum sequence length for this model (528 > 512). Running this sequence through the model will result in indexing errors\n",
      "INFO:simpletransformers.classification.classification_model: 40000 features created from 40000 samples.\n"
     ]
    },
    {
     "data": {
      "application/vnd.jupyter.widget-view+json": {
       "model_id": "a155a5fb73414f778dbd5d082efdde49",
       "version_major": 2,
       "version_minor": 0
      },
      "text/plain": [
       "  0%|          | 0/5018 [00:00<?, ?it/s]"
      ]
     },
     "metadata": {},
     "output_type": "display_data"
    },
    {
     "name": "stderr",
     "output_type": "stream",
     "text": [
      "INFO:simpletransformers.classification.classification_model: Converting to features started. Cache is not used.\n",
      "INFO:simpletransformers.classification.classification_model: Sliding window enabled\n"
     ]
    },
    {
     "name": "stdout",
     "output_type": "stream",
     "text": [
      "160000 200000\n"
     ]
    },
    {
     "data": {
      "application/vnd.jupyter.widget-view+json": {
       "model_id": "69c4ab8afea14c5fb3de8947970d0347",
       "version_major": 2,
       "version_minor": 0
      },
      "text/plain": [
       "  0%|          | 0/40000 [00:00<?, ?it/s]"
      ]
     },
     "metadata": {},
     "output_type": "display_data"
    },
    {
     "name": "stderr",
     "output_type": "stream",
     "text": [
      "INFO:simpletransformers.classification.classification_model: 40000 features created from 40000 samples.\n"
     ]
    },
    {
     "data": {
      "application/vnd.jupyter.widget-view+json": {
       "model_id": "8aeb6972acff445d9cc5eb9d043edb5f",
       "version_major": 2,
       "version_minor": 0
      },
      "text/plain": [
       "  0%|          | 0/5017 [00:00<?, ?it/s]"
      ]
     },
     "metadata": {},
     "output_type": "display_data"
    },
    {
     "name": "stderr",
     "output_type": "stream",
     "text": [
      "INFO:simpletransformers.classification.classification_model: Converting to features started. Cache is not used.\n",
      "INFO:simpletransformers.classification.classification_model: Sliding window enabled\n"
     ]
    },
    {
     "name": "stdout",
     "output_type": "stream",
     "text": [
      "200000 240000\n"
     ]
    },
    {
     "data": {
      "application/vnd.jupyter.widget-view+json": {
       "model_id": "71d2dd9806cf4cbdbea76b48cd1708b8",
       "version_major": 2,
       "version_minor": 0
      },
      "text/plain": [
       "  0%|          | 0/40000 [00:00<?, ?it/s]"
      ]
     },
     "metadata": {},
     "output_type": "display_data"
    },
    {
     "name": "stderr",
     "output_type": "stream",
     "text": [
      "INFO:simpletransformers.classification.classification_model: 40000 features created from 40000 samples.\n"
     ]
    },
    {
     "data": {
      "application/vnd.jupyter.widget-view+json": {
       "model_id": "62e57046553d4846a342ee77bd507bf1",
       "version_major": 2,
       "version_minor": 0
      },
      "text/plain": [
       "  0%|          | 0/5015 [00:00<?, ?it/s]"
      ]
     },
     "metadata": {},
     "output_type": "display_data"
    },
    {
     "name": "stderr",
     "output_type": "stream",
     "text": [
      "INFO:simpletransformers.classification.classification_model: Converting to features started. Cache is not used.\n",
      "INFO:simpletransformers.classification.classification_model: Sliding window enabled\n"
     ]
    },
    {
     "name": "stdout",
     "output_type": "stream",
     "text": [
      "240000 280000\n"
     ]
    },
    {
     "data": {
      "application/vnd.jupyter.widget-view+json": {
       "model_id": "2ce7651f3249478bae14751803afa0a2",
       "version_major": 2,
       "version_minor": 0
      },
      "text/plain": [
       "  0%|          | 0/40000 [00:00<?, ?it/s]"
      ]
     },
     "metadata": {},
     "output_type": "display_data"
    },
    {
     "name": "stderr",
     "output_type": "stream",
     "text": [
      "Token indices sequence length is longer than the specified maximum sequence length for this model (602 > 512). Running this sequence through the model will result in indexing errors\n",
      "INFO:simpletransformers.classification.classification_model: 40000 features created from 40000 samples.\n"
     ]
    },
    {
     "data": {
      "application/vnd.jupyter.widget-view+json": {
       "model_id": "5c6ce44296cc4ee1b79c5d46b09deefd",
       "version_major": 2,
       "version_minor": 0
      },
      "text/plain": [
       "  0%|          | 0/5016 [00:00<?, ?it/s]"
      ]
     },
     "metadata": {},
     "output_type": "display_data"
    },
    {
     "name": "stderr",
     "output_type": "stream",
     "text": [
      "INFO:simpletransformers.classification.classification_model: Converting to features started. Cache is not used.\n",
      "INFO:simpletransformers.classification.classification_model: Sliding window enabled\n"
     ]
    },
    {
     "name": "stdout",
     "output_type": "stream",
     "text": [
      "280000 320000\n"
     ]
    },
    {
     "data": {
      "application/vnd.jupyter.widget-view+json": {
       "model_id": "84df8114429d466cb372b5c0e71aaa78",
       "version_major": 2,
       "version_minor": 0
      },
      "text/plain": [
       "  0%|          | 0/40000 [00:00<?, ?it/s]"
      ]
     },
     "metadata": {},
     "output_type": "display_data"
    },
    {
     "name": "stderr",
     "output_type": "stream",
     "text": [
      "Token indices sequence length is longer than the specified maximum sequence length for this model (565 > 512). Running this sequence through the model will result in indexing errors\n",
      "INFO:simpletransformers.classification.classification_model: 40000 features created from 40000 samples.\n"
     ]
    },
    {
     "data": {
      "application/vnd.jupyter.widget-view+json": {
       "model_id": "0823228d5c944c3b838ca3d1545b9cd6",
       "version_major": 2,
       "version_minor": 0
      },
      "text/plain": [
       "  0%|          | 0/5020 [00:00<?, ?it/s]"
      ]
     },
     "metadata": {},
     "output_type": "display_data"
    },
    {
     "name": "stderr",
     "output_type": "stream",
     "text": [
      "INFO:simpletransformers.classification.classification_model: Converting to features started. Cache is not used.\n",
      "INFO:simpletransformers.classification.classification_model: Sliding window enabled\n"
     ]
    },
    {
     "name": "stdout",
     "output_type": "stream",
     "text": [
      "320000 360000\n"
     ]
    },
    {
     "data": {
      "application/vnd.jupyter.widget-view+json": {
       "model_id": "c2fae3b910a04557a73a3a188c5dd27c",
       "version_major": 2,
       "version_minor": 0
      },
      "text/plain": [
       "  0%|          | 0/40000 [00:00<?, ?it/s]"
      ]
     },
     "metadata": {},
     "output_type": "display_data"
    },
    {
     "name": "stderr",
     "output_type": "stream",
     "text": [
      "Token indices sequence length is longer than the specified maximum sequence length for this model (637 > 512). Running this sequence through the model will result in indexing errors\n",
      "INFO:simpletransformers.classification.classification_model: 40000 features created from 40000 samples.\n"
     ]
    },
    {
     "data": {
      "application/vnd.jupyter.widget-view+json": {
       "model_id": "084b9c55366e4c489eeeffc3879fcbf2",
       "version_major": 2,
       "version_minor": 0
      },
      "text/plain": [
       "  0%|          | 0/5015 [00:00<?, ?it/s]"
      ]
     },
     "metadata": {},
     "output_type": "display_data"
    },
    {
     "name": "stderr",
     "output_type": "stream",
     "text": [
      "INFO:simpletransformers.classification.classification_model: Converting to features started. Cache is not used.\n",
      "INFO:simpletransformers.classification.classification_model: Sliding window enabled\n"
     ]
    },
    {
     "name": "stdout",
     "output_type": "stream",
     "text": [
      "360000 400000\n"
     ]
    },
    {
     "data": {
      "application/vnd.jupyter.widget-view+json": {
       "model_id": "ec822664f0124813b42b1bf52539bcb8",
       "version_major": 2,
       "version_minor": 0
      },
      "text/plain": [
       "  0%|          | 0/40000 [00:00<?, ?it/s]"
      ]
     },
     "metadata": {},
     "output_type": "display_data"
    },
    {
     "name": "stderr",
     "output_type": "stream",
     "text": [
      "Token indices sequence length is longer than the specified maximum sequence length for this model (582 > 512). Running this sequence through the model will result in indexing errors\n",
      "INFO:simpletransformers.classification.classification_model: 40000 features created from 40000 samples.\n"
     ]
    },
    {
     "data": {
      "application/vnd.jupyter.widget-view+json": {
       "model_id": "2ddd0ebfe63d434fb52d4ed9cb6d38c2",
       "version_major": 2,
       "version_minor": 0
      },
      "text/plain": [
       "  0%|          | 0/5019 [00:00<?, ?it/s]"
      ]
     },
     "metadata": {},
     "output_type": "display_data"
    },
    {
     "name": "stderr",
     "output_type": "stream",
     "text": [
      "INFO:simpletransformers.classification.classification_model: Converting to features started. Cache is not used.\n",
      "INFO:simpletransformers.classification.classification_model: Sliding window enabled\n"
     ]
    },
    {
     "name": "stdout",
     "output_type": "stream",
     "text": [
      "400000 440000\n"
     ]
    },
    {
     "data": {
      "application/vnd.jupyter.widget-view+json": {
       "model_id": "968ca57356d44822a06479b6593d269c",
       "version_major": 2,
       "version_minor": 0
      },
      "text/plain": [
       "  0%|          | 0/40000 [00:00<?, ?it/s]"
      ]
     },
     "metadata": {},
     "output_type": "display_data"
    },
    {
     "name": "stderr",
     "output_type": "stream",
     "text": [
      "Token indices sequence length is longer than the specified maximum sequence length for this model (889 > 512). Running this sequence through the model will result in indexing errors\n",
      "Token indices sequence length is longer than the specified maximum sequence length for this model (659 > 512). Running this sequence through the model will result in indexing errors\n",
      "Token indices sequence length is longer than the specified maximum sequence length for this model (529 > 512). Running this sequence through the model will result in indexing errors\n",
      "INFO:simpletransformers.classification.classification_model: 40000 features created from 40000 samples.\n"
     ]
    },
    {
     "data": {
      "application/vnd.jupyter.widget-view+json": {
       "model_id": "cbeacc66eace4de8bbf9d761a6648fbd",
       "version_major": 2,
       "version_minor": 0
      },
      "text/plain": [
       "  0%|          | 0/5019 [00:00<?, ?it/s]"
      ]
     },
     "metadata": {},
     "output_type": "display_data"
    },
    {
     "name": "stderr",
     "output_type": "stream",
     "text": [
      "INFO:simpletransformers.classification.classification_model: Converting to features started. Cache is not used.\n",
      "INFO:simpletransformers.classification.classification_model: Sliding window enabled\n"
     ]
    },
    {
     "name": "stdout",
     "output_type": "stream",
     "text": [
      "440000 480000\n"
     ]
    },
    {
     "data": {
      "application/vnd.jupyter.widget-view+json": {
       "model_id": "9d3a9bb057c44ee08509ed55942e8dd2",
       "version_major": 2,
       "version_minor": 0
      },
      "text/plain": [
       "  0%|          | 0/40000 [00:00<?, ?it/s]"
      ]
     },
     "metadata": {},
     "output_type": "display_data"
    },
    {
     "name": "stderr",
     "output_type": "stream",
     "text": [
      "Token indices sequence length is longer than the specified maximum sequence length for this model (927 > 512). Running this sequence through the model will result in indexing errors\n",
      "Token indices sequence length is longer than the specified maximum sequence length for this model (1056 > 512). Running this sequence through the model will result in indexing errors\n",
      "Token indices sequence length is longer than the specified maximum sequence length for this model (651 > 512). Running this sequence through the model will result in indexing errors\n",
      "INFO:simpletransformers.classification.classification_model: 40000 features created from 40000 samples.\n"
     ]
    },
    {
     "data": {
      "application/vnd.jupyter.widget-view+json": {
       "model_id": "3473e1e98e424387a617b4162aece358",
       "version_major": 2,
       "version_minor": 0
      },
      "text/plain": [
       "  0%|          | 0/5017 [00:00<?, ?it/s]"
      ]
     },
     "metadata": {},
     "output_type": "display_data"
    },
    {
     "name": "stderr",
     "output_type": "stream",
     "text": [
      "INFO:simpletransformers.classification.classification_model: Converting to features started. Cache is not used.\n",
      "INFO:simpletransformers.classification.classification_model: Sliding window enabled\n"
     ]
    },
    {
     "name": "stdout",
     "output_type": "stream",
     "text": [
      "480000 520000\n"
     ]
    },
    {
     "data": {
      "application/vnd.jupyter.widget-view+json": {
       "model_id": "fa03f07e049e410db09c0cac2d1158d1",
       "version_major": 2,
       "version_minor": 0
      },
      "text/plain": [
       "  0%|          | 0/40000 [00:00<?, ?it/s]"
      ]
     },
     "metadata": {},
     "output_type": "display_data"
    },
    {
     "name": "stderr",
     "output_type": "stream",
     "text": [
      "Token indices sequence length is longer than the specified maximum sequence length for this model (845 > 512). Running this sequence through the model will result in indexing errors\n",
      "Token indices sequence length is longer than the specified maximum sequence length for this model (1177 > 512). Running this sequence through the model will result in indexing errors\n",
      "INFO:simpletransformers.classification.classification_model: 40000 features created from 40000 samples.\n"
     ]
    },
    {
     "data": {
      "application/vnd.jupyter.widget-view+json": {
       "model_id": "ed2a1d2dc93c48da90a5b48a40e29613",
       "version_major": 2,
       "version_minor": 0
      },
      "text/plain": [
       "  0%|          | 0/5018 [00:00<?, ?it/s]"
      ]
     },
     "metadata": {},
     "output_type": "display_data"
    },
    {
     "name": "stderr",
     "output_type": "stream",
     "text": [
      "INFO:simpletransformers.classification.classification_model: Converting to features started. Cache is not used.\n",
      "INFO:simpletransformers.classification.classification_model: Sliding window enabled\n"
     ]
    },
    {
     "name": "stdout",
     "output_type": "stream",
     "text": [
      "520000 560000\n"
     ]
    },
    {
     "data": {
      "application/vnd.jupyter.widget-view+json": {
       "model_id": "760367e43fbe458d95aea3aa6311fbe0",
       "version_major": 2,
       "version_minor": 0
      },
      "text/plain": [
       "  0%|          | 0/40000 [00:00<?, ?it/s]"
      ]
     },
     "metadata": {},
     "output_type": "display_data"
    },
    {
     "name": "stderr",
     "output_type": "stream",
     "text": [
      "Token indices sequence length is longer than the specified maximum sequence length for this model (1229 > 512). Running this sequence through the model will result in indexing errors\n",
      "Token indices sequence length is longer than the specified maximum sequence length for this model (626 > 512). Running this sequence through the model will result in indexing errors\n",
      "INFO:simpletransformers.classification.classification_model: 40000 features created from 40000 samples.\n"
     ]
    },
    {
     "data": {
      "application/vnd.jupyter.widget-view+json": {
       "model_id": "5bc64dca8f6e4eb6b18f95e9b52eb288",
       "version_major": 2,
       "version_minor": 0
      },
      "text/plain": [
       "  0%|          | 0/5018 [00:00<?, ?it/s]"
      ]
     },
     "metadata": {},
     "output_type": "display_data"
    },
    {
     "name": "stderr",
     "output_type": "stream",
     "text": [
      "INFO:simpletransformers.classification.classification_model: Converting to features started. Cache is not used.\n",
      "INFO:simpletransformers.classification.classification_model: Sliding window enabled\n"
     ]
    },
    {
     "name": "stdout",
     "output_type": "stream",
     "text": [
      "560000 600000\n"
     ]
    },
    {
     "data": {
      "application/vnd.jupyter.widget-view+json": {
       "model_id": "33e36b72765a4dd2b5f268e9a821571a",
       "version_major": 2,
       "version_minor": 0
      },
      "text/plain": [
       "  0%|          | 0/40000 [00:00<?, ?it/s]"
      ]
     },
     "metadata": {},
     "output_type": "display_data"
    },
    {
     "name": "stderr",
     "output_type": "stream",
     "text": [
      "INFO:simpletransformers.classification.classification_model: 40000 features created from 40000 samples.\n"
     ]
    },
    {
     "data": {
      "application/vnd.jupyter.widget-view+json": {
       "model_id": "eb3bdd0d9766425e8895459235653f64",
       "version_major": 2,
       "version_minor": 0
      },
      "text/plain": [
       "  0%|          | 0/5019 [00:00<?, ?it/s]"
      ]
     },
     "metadata": {},
     "output_type": "display_data"
    },
    {
     "name": "stderr",
     "output_type": "stream",
     "text": [
      "INFO:simpletransformers.classification.classification_model: Converting to features started. Cache is not used.\n",
      "INFO:simpletransformers.classification.classification_model: Sliding window enabled\n"
     ]
    },
    {
     "name": "stdout",
     "output_type": "stream",
     "text": [
      "600000 640000\n"
     ]
    },
    {
     "data": {
      "application/vnd.jupyter.widget-view+json": {
       "model_id": "787412a20c85477e85b1197c8fae91cf",
       "version_major": 2,
       "version_minor": 0
      },
      "text/plain": [
       "  0%|          | 0/40000 [00:00<?, ?it/s]"
      ]
     },
     "metadata": {},
     "output_type": "display_data"
    },
    {
     "name": "stderr",
     "output_type": "stream",
     "text": [
      "INFO:simpletransformers.classification.classification_model: 40000 features created from 40000 samples.\n"
     ]
    },
    {
     "data": {
      "application/vnd.jupyter.widget-view+json": {
       "model_id": "645fafac60934f029d0cb03b209c1354",
       "version_major": 2,
       "version_minor": 0
      },
      "text/plain": [
       "  0%|          | 0/5019 [00:00<?, ?it/s]"
      ]
     },
     "metadata": {},
     "output_type": "display_data"
    },
    {
     "name": "stderr",
     "output_type": "stream",
     "text": [
      "INFO:simpletransformers.classification.classification_model: Converting to features started. Cache is not used.\n",
      "INFO:simpletransformers.classification.classification_model: Sliding window enabled\n"
     ]
    },
    {
     "name": "stdout",
     "output_type": "stream",
     "text": [
      "640000 680000\n"
     ]
    },
    {
     "data": {
      "application/vnd.jupyter.widget-view+json": {
       "model_id": "a035c3b8818d4cc898622fd7241dc133",
       "version_major": 2,
       "version_minor": 0
      },
      "text/plain": [
       "  0%|          | 0/40000 [00:00<?, ?it/s]"
      ]
     },
     "metadata": {},
     "output_type": "display_data"
    },
    {
     "name": "stderr",
     "output_type": "stream",
     "text": [
      "INFO:simpletransformers.classification.classification_model: 40000 features created from 40000 samples.\n"
     ]
    },
    {
     "data": {
      "application/vnd.jupyter.widget-view+json": {
       "model_id": "c3134fb5ea484d91a7dfd222f098a6fc",
       "version_major": 2,
       "version_minor": 0
      },
      "text/plain": [
       "  0%|          | 0/5020 [00:00<?, ?it/s]"
      ]
     },
     "metadata": {},
     "output_type": "display_data"
    },
    {
     "name": "stderr",
     "output_type": "stream",
     "text": [
      "INFO:simpletransformers.classification.classification_model: Converting to features started. Cache is not used.\n",
      "INFO:simpletransformers.classification.classification_model: Sliding window enabled\n"
     ]
    },
    {
     "name": "stdout",
     "output_type": "stream",
     "text": [
      "680000 720000\n"
     ]
    },
    {
     "data": {
      "application/vnd.jupyter.widget-view+json": {
       "model_id": "df96506b501840dc81d0a85f86e3f55d",
       "version_major": 2,
       "version_minor": 0
      },
      "text/plain": [
       "  0%|          | 0/40000 [00:00<?, ?it/s]"
      ]
     },
     "metadata": {},
     "output_type": "display_data"
    },
    {
     "name": "stderr",
     "output_type": "stream",
     "text": [
      "Token indices sequence length is longer than the specified maximum sequence length for this model (632 > 512). Running this sequence through the model will result in indexing errors\n",
      "INFO:simpletransformers.classification.classification_model: 40000 features created from 40000 samples.\n"
     ]
    },
    {
     "data": {
      "application/vnd.jupyter.widget-view+json": {
       "model_id": "de8941f5a9b24d6ebe42878fe43f1072",
       "version_major": 2,
       "version_minor": 0
      },
      "text/plain": [
       "  0%|          | 0/5014 [00:00<?, ?it/s]"
      ]
     },
     "metadata": {},
     "output_type": "display_data"
    },
    {
     "name": "stderr",
     "output_type": "stream",
     "text": [
      "INFO:simpletransformers.classification.classification_model: Converting to features started. Cache is not used.\n",
      "INFO:simpletransformers.classification.classification_model: Sliding window enabled\n"
     ]
    },
    {
     "name": "stdout",
     "output_type": "stream",
     "text": [
      "720000 760000\n"
     ]
    },
    {
     "data": {
      "application/vnd.jupyter.widget-view+json": {
       "model_id": "17955567dd61486ab2bc6270809699d5",
       "version_major": 2,
       "version_minor": 0
      },
      "text/plain": [
       "  0%|          | 0/40000 [00:00<?, ?it/s]"
      ]
     },
     "metadata": {},
     "output_type": "display_data"
    },
    {
     "name": "stderr",
     "output_type": "stream",
     "text": [
      "Token indices sequence length is longer than the specified maximum sequence length for this model (745 > 512). Running this sequence through the model will result in indexing errors\n",
      "INFO:simpletransformers.classification.classification_model: 40000 features created from 40000 samples.\n"
     ]
    },
    {
     "data": {
      "application/vnd.jupyter.widget-view+json": {
       "model_id": "c39a893317f14ddabe500893382a8ce9",
       "version_major": 2,
       "version_minor": 0
      },
      "text/plain": [
       "  0%|          | 0/5022 [00:00<?, ?it/s]"
      ]
     },
     "metadata": {},
     "output_type": "display_data"
    },
    {
     "name": "stderr",
     "output_type": "stream",
     "text": [
      "INFO:simpletransformers.classification.classification_model: Converting to features started. Cache is not used.\n",
      "INFO:simpletransformers.classification.classification_model: Sliding window enabled\n"
     ]
    },
    {
     "name": "stdout",
     "output_type": "stream",
     "text": [
      "760000 800000\n"
     ]
    },
    {
     "data": {
      "application/vnd.jupyter.widget-view+json": {
       "model_id": "c8ddb9d8730d40298c937800ff26fd5f",
       "version_major": 2,
       "version_minor": 0
      },
      "text/plain": [
       "  0%|          | 0/40000 [00:00<?, ?it/s]"
      ]
     },
     "metadata": {},
     "output_type": "display_data"
    },
    {
     "name": "stderr",
     "output_type": "stream",
     "text": [
      "INFO:simpletransformers.classification.classification_model: 40000 features created from 40000 samples.\n"
     ]
    },
    {
     "data": {
      "application/vnd.jupyter.widget-view+json": {
       "model_id": "e61ad306c0174189addc61d2b7352427",
       "version_major": 2,
       "version_minor": 0
      },
      "text/plain": [
       "  0%|          | 0/5017 [00:00<?, ?it/s]"
      ]
     },
     "metadata": {},
     "output_type": "display_data"
    },
    {
     "name": "stderr",
     "output_type": "stream",
     "text": [
      "INFO:simpletransformers.classification.classification_model: Converting to features started. Cache is not used.\n",
      "INFO:simpletransformers.classification.classification_model: Sliding window enabled\n"
     ]
    },
    {
     "name": "stdout",
     "output_type": "stream",
     "text": [
      "800000 840000\n"
     ]
    },
    {
     "data": {
      "application/vnd.jupyter.widget-view+json": {
       "model_id": "bb174b657b8e4b3a894ea9188f8fa29a",
       "version_major": 2,
       "version_minor": 0
      },
      "text/plain": [
       "  0%|          | 0/40000 [00:00<?, ?it/s]"
      ]
     },
     "metadata": {},
     "output_type": "display_data"
    },
    {
     "name": "stderr",
     "output_type": "stream",
     "text": [
      "Token indices sequence length is longer than the specified maximum sequence length for this model (515 > 512). Running this sequence through the model will result in indexing errors\n",
      "INFO:simpletransformers.classification.classification_model: 40000 features created from 40000 samples.\n"
     ]
    },
    {
     "data": {
      "application/vnd.jupyter.widget-view+json": {
       "model_id": "945b21450dfa4d719b04df2ecd9ce767",
       "version_major": 2,
       "version_minor": 0
      },
      "text/plain": [
       "  0%|          | 0/5019 [00:00<?, ?it/s]"
      ]
     },
     "metadata": {},
     "output_type": "display_data"
    },
    {
     "name": "stderr",
     "output_type": "stream",
     "text": [
      "INFO:simpletransformers.classification.classification_model: Converting to features started. Cache is not used.\n",
      "INFO:simpletransformers.classification.classification_model: Sliding window enabled\n"
     ]
    },
    {
     "name": "stdout",
     "output_type": "stream",
     "text": [
      "840000 880000\n"
     ]
    },
    {
     "data": {
      "application/vnd.jupyter.widget-view+json": {
       "model_id": "618ed303e44d4a3d80b8b7179367182b",
       "version_major": 2,
       "version_minor": 0
      },
      "text/plain": [
       "  0%|          | 0/40000 [00:00<?, ?it/s]"
      ]
     },
     "metadata": {},
     "output_type": "display_data"
    },
    {
     "name": "stderr",
     "output_type": "stream",
     "text": [
      "Token indices sequence length is longer than the specified maximum sequence length for this model (581 > 512). Running this sequence through the model will result in indexing errors\n",
      "Token indices sequence length is longer than the specified maximum sequence length for this model (730 > 512). Running this sequence through the model will result in indexing errors\n",
      "INFO:simpletransformers.classification.classification_model: 40000 features created from 40000 samples.\n"
     ]
    },
    {
     "data": {
      "application/vnd.jupyter.widget-view+json": {
       "model_id": "d14d895edb7a486f9d7b7ee81ca56883",
       "version_major": 2,
       "version_minor": 0
      },
      "text/plain": [
       "  0%|          | 0/5017 [00:00<?, ?it/s]"
      ]
     },
     "metadata": {},
     "output_type": "display_data"
    },
    {
     "name": "stderr",
     "output_type": "stream",
     "text": [
      "INFO:simpletransformers.classification.classification_model: Converting to features started. Cache is not used.\n",
      "INFO:simpletransformers.classification.classification_model: Sliding window enabled\n"
     ]
    },
    {
     "name": "stdout",
     "output_type": "stream",
     "text": [
      "880000 920000\n"
     ]
    },
    {
     "data": {
      "application/vnd.jupyter.widget-view+json": {
       "model_id": "32ad788666524196b534c27eabd03106",
       "version_major": 2,
       "version_minor": 0
      },
      "text/plain": [
       "  0%|          | 0/20121 [00:00<?, ?it/s]"
      ]
     },
     "metadata": {},
     "output_type": "display_data"
    },
    {
     "name": "stderr",
     "output_type": "stream",
     "text": [
      "Token indices sequence length is longer than the specified maximum sequence length for this model (528 > 512). Running this sequence through the model will result in indexing errors\n",
      "Token indices sequence length is longer than the specified maximum sequence length for this model (515 > 512). Running this sequence through the model will result in indexing errors\n",
      "Token indices sequence length is longer than the specified maximum sequence length for this model (794 > 512). Running this sequence through the model will result in indexing errors\n",
      "INFO:simpletransformers.classification.classification_model: 20121 features created from 20121 samples.\n"
     ]
    },
    {
     "data": {
      "application/vnd.jupyter.widget-view+json": {
       "model_id": "9a2d65b16e7249d48999cb1241a1d63b",
       "version_major": 2,
       "version_minor": 0
      },
      "text/plain": [
       "  0%|          | 0/2526 [00:00<?, ?it/s]"
      ]
     },
     "metadata": {},
     "output_type": "display_data"
    }
   ],
   "source": [
    "predicts = stepwise(40000, dfx[\"text\"], model.predict)"
   ]
  },
  {
   "cell_type": "code",
   "execution_count": 45,
   "id": "71972697",
   "metadata": {},
   "outputs": [
    {
     "data": {
      "text/html": [
       "<div>\n",
       "<style scoped>\n",
       "    .dataframe tbody tr th:only-of-type {\n",
       "        vertical-align: middle;\n",
       "    }\n",
       "\n",
       "    .dataframe tbody tr th {\n",
       "        vertical-align: top;\n",
       "    }\n",
       "\n",
       "    .dataframe thead th {\n",
       "        text-align: right;\n",
       "    }\n",
       "</style>\n",
       "<table border=\"1\" class=\"dataframe\">\n",
       "  <thead>\n",
       "    <tr style=\"text-align: right;\">\n",
       "      <th></th>\n",
       "      <th>index</th>\n",
       "      <th>text</th>\n",
       "      <th>s2Url</th>\n",
       "      <th>doi</th>\n",
       "      <th>journalName</th>\n",
       "      <th>title</th>\n",
       "      <th>fieldsOfStudy</th>\n",
       "      <th>fields</th>\n",
       "    </tr>\n",
       "  </thead>\n",
       "  <tbody>\n",
       "    <tr>\n",
       "      <th>0</th>\n",
       "      <td>1</td>\n",
       "      <td>Automated medication dispensing systems for ho...</td>\n",
       "      <td>https://semanticscholar.org/paper/062e9c7579ad...</td>\n",
       "      <td>10.2190/W2BT-FGXQ-QL0G-YNL9</td>\n",
       "      <td>International Journal of Health Services</td>\n",
       "      <td>Clinical or Industrial Pharmacy? Case Studies ...</td>\n",
       "      <td>['Medicine']</td>\n",
       "      <td>Medicine</td>\n",
       "    </tr>\n",
       "    <tr>\n",
       "      <th>1</th>\n",
       "      <td>2</td>\n",
       "      <td>the future, the use of imaging methods to quan...</td>\n",
       "      <td>https://semanticscholar.org/paper/771723e7e2d9...</td>\n",
       "      <td>10.1016/S1052-5149(02)00023-0</td>\n",
       "      <td>Neuroimaging clinics of North America</td>\n",
       "      <td>Noncoronary and coronary atherothrombotic plaq...</td>\n",
       "      <td>['Medicine']</td>\n",
       "      <td>Medicine</td>\n",
       "    </tr>\n",
       "    <tr>\n",
       "      <th>3</th>\n",
       "      <td>6</td>\n",
       "      <td>BackgroundCorneal endothelium (CE) images prov...</td>\n",
       "      <td>https://semanticscholar.org/paper/984774e366d3...</td>\n",
       "      <td>10.1186/s42490-019-0003-2</td>\n",
       "      <td>BMC Biomedical Engineering</td>\n",
       "      <td>Fully convolutional architecture vs sliding-wi...</td>\n",
       "      <td>['Medicine', 'Computer Science']</td>\n",
       "      <td>Medicine</td>\n",
       "    </tr>\n",
       "    <tr>\n",
       "      <th>4</th>\n",
       "      <td>7</td>\n",
       "      <td>Falsified and substandard drugs are a global h...</td>\n",
       "      <td>https://semanticscholar.org/paper/0d0467c4cccb...</td>\n",
       "      <td>10.1371/journal.pone.0090601</td>\n",
       "      <td>PLoS ONE</td>\n",
       "      <td>Technologies for Detecting Falsified and Subst...</td>\n",
       "      <td>['Medicine']</td>\n",
       "      <td>Medicine</td>\n",
       "    </tr>\n",
       "    <tr>\n",
       "      <th>6</th>\n",
       "      <td>11</td>\n",
       "      <td>Objectives To explore the molecular epidemiolo...</td>\n",
       "      <td>https://semanticscholar.org/paper/878a852598fb...</td>\n",
       "      <td>10.1371/journal.pone.0211261</td>\n",
       "      <td>PLoS ONE</td>\n",
       "      <td>Mutation screening in non-syndromic hearing lo...</td>\n",
       "      <td>['Medicine']</td>\n",
       "      <td>Medicine</td>\n",
       "    </tr>\n",
       "    <tr>\n",
       "      <th>...</th>\n",
       "      <td>...</td>\n",
       "      <td>...</td>\n",
       "      <td>...</td>\n",
       "      <td>...</td>\n",
       "      <td>...</td>\n",
       "      <td>...</td>\n",
       "      <td>...</td>\n",
       "      <td>...</td>\n",
       "    </tr>\n",
       "    <tr>\n",
       "      <th>5076841</th>\n",
       "      <td>4772310</td>\n",
       "      <td>9-year-old crossbred dog was presented with a ...</td>\n",
       "      <td>https://semanticscholar.org/paper/a17cd6b21405...</td>\n",
       "      <td>10.1016/j.jcpa.2013.04.005</td>\n",
       "      <td>Journal of comparative pathology</td>\n",
       "      <td>Loeffler's endocarditis and bicavity eosinophi...</td>\n",
       "      <td>['Medicine']</td>\n",
       "      <td>Medicine</td>\n",
       "    </tr>\n",
       "    <tr>\n",
       "      <th>5076853</th>\n",
       "      <td>4772333</td>\n",
       "      <td>To screen HCV infection in HIV infected indivi...</td>\n",
       "      <td>https://semanticscholar.org/paper/512060c86ac9...</td>\n",
       "      <td>10.5799/jmid.368504</td>\n",
       "      <td>Journal of Microbiology and Infectious Diseases</td>\n",
       "      <td>Epidemiology of Hepatitis C Virus and Human Im...</td>\n",
       "      <td>['Medicine']</td>\n",
       "      <td>Medicine</td>\n",
       "    </tr>\n",
       "    <tr>\n",
       "      <th>5076883</th>\n",
       "      <td>4772400</td>\n",
       "      <td>DUODENAL villous tumors are rare lesions that ...</td>\n",
       "      <td>https://semanticscholar.org/paper/cbad468d9b16...</td>\n",
       "      <td>10.1001/JAMA.1979.03290510042026</td>\n",
       "      <td>JAMA</td>\n",
       "      <td>Duodenal filling defect.</td>\n",
       "      <td>['Medicine']</td>\n",
       "      <td>Medicine</td>\n",
       "    </tr>\n",
       "    <tr>\n",
       "      <th>5076893</th>\n",
       "      <td>4772418</td>\n",
       "      <td>Cell mass and viability are tightly linked to ...</td>\n",
       "      <td>https://semanticscholar.org/paper/098fbc2a791a...</td>\n",
       "      <td>10.1038/s41598-021-90703-8</td>\n",
       "      <td>Scientific Reports</td>\n",
       "      <td>Analysis of methods for quantifying yeast cell...</td>\n",
       "      <td>['Medicine']</td>\n",
       "      <td>Medicine</td>\n",
       "    </tr>\n",
       "    <tr>\n",
       "      <th>5076899</th>\n",
       "      <td>4772428</td>\n",
       "      <td>To demonstrate the feasibility of DTI in human...</td>\n",
       "      <td>https://semanticscholar.org/paper/1597891b11fa...</td>\n",
       "      <td>10.3760/CMA.J.ISSN.1005-1201.2009.06.021</td>\n",
       "      <td>Chinese journal of radiology</td>\n",
       "      <td>Parameters optimization of diffusion tensor MR...</td>\n",
       "      <td>['Medicine']</td>\n",
       "      <td>Medicine</td>\n",
       "    </tr>\n",
       "  </tbody>\n",
       "</table>\n",
       "<p>900121 rows × 8 columns</p>\n",
       "</div>"
      ],
      "text/plain": [
       "           index                                               text  \\\n",
       "0              1  Automated medication dispensing systems for ho...   \n",
       "1              2  the future, the use of imaging methods to quan...   \n",
       "3              6  BackgroundCorneal endothelium (CE) images prov...   \n",
       "4              7  Falsified and substandard drugs are a global h...   \n",
       "6             11  Objectives To explore the molecular epidemiolo...   \n",
       "...          ...                                                ...   \n",
       "5076841  4772310  9-year-old crossbred dog was presented with a ...   \n",
       "5076853  4772333  To screen HCV infection in HIV infected indivi...   \n",
       "5076883  4772400  DUODENAL villous tumors are rare lesions that ...   \n",
       "5076893  4772418  Cell mass and viability are tightly linked to ...   \n",
       "5076899  4772428  To demonstrate the feasibility of DTI in human...   \n",
       "\n",
       "                                                     s2Url  \\\n",
       "0        https://semanticscholar.org/paper/062e9c7579ad...   \n",
       "1        https://semanticscholar.org/paper/771723e7e2d9...   \n",
       "3        https://semanticscholar.org/paper/984774e366d3...   \n",
       "4        https://semanticscholar.org/paper/0d0467c4cccb...   \n",
       "6        https://semanticscholar.org/paper/878a852598fb...   \n",
       "...                                                    ...   \n",
       "5076841  https://semanticscholar.org/paper/a17cd6b21405...   \n",
       "5076853  https://semanticscholar.org/paper/512060c86ac9...   \n",
       "5076883  https://semanticscholar.org/paper/cbad468d9b16...   \n",
       "5076893  https://semanticscholar.org/paper/098fbc2a791a...   \n",
       "5076899  https://semanticscholar.org/paper/1597891b11fa...   \n",
       "\n",
       "                                              doi  \\\n",
       "0                     10.2190/W2BT-FGXQ-QL0G-YNL9   \n",
       "1                   10.1016/S1052-5149(02)00023-0   \n",
       "3                       10.1186/s42490-019-0003-2   \n",
       "4                    10.1371/journal.pone.0090601   \n",
       "6                    10.1371/journal.pone.0211261   \n",
       "...                                           ...   \n",
       "5076841                10.1016/j.jcpa.2013.04.005   \n",
       "5076853                       10.5799/jmid.368504   \n",
       "5076883          10.1001/JAMA.1979.03290510042026   \n",
       "5076893                10.1038/s41598-021-90703-8   \n",
       "5076899  10.3760/CMA.J.ISSN.1005-1201.2009.06.021   \n",
       "\n",
       "                                             journalName  \\\n",
       "0               International Journal of Health Services   \n",
       "1                  Neuroimaging clinics of North America   \n",
       "3                             BMC Biomedical Engineering   \n",
       "4                                               PLoS ONE   \n",
       "6                                               PLoS ONE   \n",
       "...                                                  ...   \n",
       "5076841                 Journal of comparative pathology   \n",
       "5076853  Journal of Microbiology and Infectious Diseases   \n",
       "5076883                                             JAMA   \n",
       "5076893                               Scientific Reports   \n",
       "5076899                     Chinese journal of radiology   \n",
       "\n",
       "                                                     title  \\\n",
       "0        Clinical or Industrial Pharmacy? Case Studies ...   \n",
       "1        Noncoronary and coronary atherothrombotic plaq...   \n",
       "3        Fully convolutional architecture vs sliding-wi...   \n",
       "4        Technologies for Detecting Falsified and Subst...   \n",
       "6        Mutation screening in non-syndromic hearing lo...   \n",
       "...                                                    ...   \n",
       "5076841  Loeffler's endocarditis and bicavity eosinophi...   \n",
       "5076853  Epidemiology of Hepatitis C Virus and Human Im...   \n",
       "5076883                           Duodenal filling defect.   \n",
       "5076893  Analysis of methods for quantifying yeast cell...   \n",
       "5076899  Parameters optimization of diffusion tensor MR...   \n",
       "\n",
       "                            fieldsOfStudy    fields  \n",
       "0                            ['Medicine']  Medicine  \n",
       "1                            ['Medicine']  Medicine  \n",
       "3        ['Medicine', 'Computer Science']  Medicine  \n",
       "4                            ['Medicine']  Medicine  \n",
       "6                            ['Medicine']  Medicine  \n",
       "...                                   ...       ...  \n",
       "5076841                      ['Medicine']  Medicine  \n",
       "5076853                      ['Medicine']  Medicine  \n",
       "5076883                      ['Medicine']  Medicine  \n",
       "5076893                      ['Medicine']  Medicine  \n",
       "5076899                      ['Medicine']  Medicine  \n",
       "\n",
       "[900121 rows x 8 columns]"
      ]
     },
     "execution_count": 45,
     "metadata": {},
     "output_type": "execute_result"
    }
   ],
   "source": [
    "dfx"
   ]
  },
  {
   "cell_type": "code",
   "execution_count": 48,
   "id": "d47bd2bf",
   "metadata": {},
   "outputs": [],
   "source": [
    "with open(predicts_path, 'r') as f:\n",
    "    preds = f.read().split()#f.write(\"%s\\n\" % item)\n",
    "                "
   ]
  },
  {
   "cell_type": "code",
   "execution_count": 49,
   "id": "b2d09a82",
   "metadata": {},
   "outputs": [
    {
     "data": {
      "text/plain": [
       "900121"
      ]
     },
     "execution_count": 49,
     "metadata": {},
     "output_type": "execute_result"
    }
   ],
   "source": [
    "len(preds)"
   ]
  },
  {
   "cell_type": "code",
   "execution_count": null,
   "id": "fc87655e",
   "metadata": {},
   "outputs": [],
   "source": [
    "!free"
   ]
  },
  {
   "cell_type": "code",
   "execution_count": 106,
   "id": "2af46984",
   "metadata": {},
   "outputs": [],
   "source": [
    "#dfx = pd.read_csv(\"downloads/sample_bioadjacent600k.csv\",   lineterminator='\\n', error_bad_lines=False)"
   ]
  },
  {
   "cell_type": "code",
   "execution_count": 109,
   "id": "f0c03ec6",
   "metadata": {},
   "outputs": [
    {
     "data": {
      "text/plain": [
       "(Medicine                 0.372515\n",
       " Chemistry                0.161016\n",
       " Biology                  0.156869\n",
       " Materials Science        0.130517\n",
       " Psychology               0.078705\n",
       " Sociology                0.042472\n",
       " Geology                  0.029328\n",
       " Environmental Science    0.028579\n",
       " Name: fields, dtype: float64,\n",
       " Medicine                 0.635473\n",
       " Biology                  0.166522\n",
       " Chemistry                0.054003\n",
       " Psychology               0.053120\n",
       " Materials Science        0.033784\n",
       " Environmental Science    0.027580\n",
       " Sociology                0.016836\n",
       " Geology                  0.012683\n",
       " Name: fields, dtype: float64)"
      ]
     },
     "execution_count": 109,
     "metadata": {},
     "output_type": "execute_result"
    }
   ],
   "source": [
    "dfx.fields.value_counts(normalize=True), dd.fields.value_counts(normalize=True)"
   ]
  },
  {
   "cell_type": "code",
   "execution_count": 50,
   "id": "e3cdd390",
   "metadata": {},
   "outputs": [],
   "source": [
    "dfo = pd.read_csv(\"downloads/47k_train_no_acl.csv\")\n"
   ]
  },
  {
   "cell_type": "code",
   "execution_count": 51,
   "id": "c93f0813",
   "metadata": {},
   "outputs": [],
   "source": [
    "#dfx = dfx[:3000000]\n",
    "dfx[\"predicts\"] = preds"
   ]
  },
  {
   "cell_type": "code",
   "execution_count": 52,
   "id": "f0d5e450",
   "metadata": {},
   "outputs": [],
   "source": [
    "dfx[\"predicts\"] = dfx[\"predicts\"].map(int)"
   ]
  },
  {
   "cell_type": "code",
   "execution_count": 53,
   "id": "145db186",
   "metadata": {},
   "outputs": [
    {
     "data": {
      "text/plain": [
       "174804"
      ]
     },
     "execution_count": 53,
     "metadata": {},
     "output_type": "execute_result"
    }
   ],
   "source": [
    "dfx = dfx[dfx[\"predicts\"]==1]\n",
    "dfx = dfx[dfx[\"text\"] != \"nan\"]\n",
    "dfx = dfx[dfx[\"text\"].str.len() > 14]\n",
    "len(dfx)"
   ]
  },
  {
   "cell_type": "code",
   "execution_count": 56,
   "id": "2e2b14db",
   "metadata": {},
   "outputs": [],
   "source": [
    "dfx.to_csv(\"downloads/17June_5M_adjacent_medicine_predicts.csv\", index = False, header=True)"
   ]
  },
  {
   "cell_type": "code",
   "execution_count": 57,
   "id": "1462dbf1",
   "metadata": {},
   "outputs": [
    {
     "data": {
      "text/html": [
       "<div>\n",
       "<style scoped>\n",
       "    .dataframe tbody tr th:only-of-type {\n",
       "        vertical-align: middle;\n",
       "    }\n",
       "\n",
       "    .dataframe tbody tr th {\n",
       "        vertical-align: top;\n",
       "    }\n",
       "\n",
       "    .dataframe thead th {\n",
       "        text-align: right;\n",
       "    }\n",
       "</style>\n",
       "<table border=\"1\" class=\"dataframe\">\n",
       "  <thead>\n",
       "    <tr style=\"text-align: right;\">\n",
       "      <th></th>\n",
       "      <th>index</th>\n",
       "      <th>text</th>\n",
       "      <th>s2Url</th>\n",
       "      <th>doi</th>\n",
       "      <th>journalName</th>\n",
       "      <th>title</th>\n",
       "      <th>fieldsOfStudy</th>\n",
       "      <th>fields</th>\n",
       "      <th>predicts</th>\n",
       "    </tr>\n",
       "  </thead>\n",
       "  <tbody>\n",
       "    <tr>\n",
       "      <th>4</th>\n",
       "      <td>7</td>\n",
       "      <td>Falsified and substandard drugs are a global h...</td>\n",
       "      <td>https://semanticscholar.org/paper/0d0467c4cccb...</td>\n",
       "      <td>10.1371/journal.pone.0090601</td>\n",
       "      <td>PLoS ONE</td>\n",
       "      <td>Technologies for Detecting Falsified and Subst...</td>\n",
       "      <td>['Medicine']</td>\n",
       "      <td>Medicine</td>\n",
       "      <td>1</td>\n",
       "    </tr>\n",
       "    <tr>\n",
       "      <th>7</th>\n",
       "      <td>13</td>\n",
       "      <td>IntroductionMcCune-Albright syndrome is a comp...</td>\n",
       "      <td>https://semanticscholar.org/paper/a28cf4e1bf12...</td>\n",
       "      <td>10.1186/1752-1947-6-32</td>\n",
       "      <td>Journal of Medical Case Reports</td>\n",
       "      <td>Pamidronic acid and cabergoline as effective l...</td>\n",
       "      <td>['Medicine']</td>\n",
       "      <td>Medicine</td>\n",
       "      <td>1</td>\n",
       "    </tr>\n",
       "    <tr>\n",
       "      <th>72</th>\n",
       "      <td>147</td>\n",
       "      <td>As men grow older, testosterone (T) levels dec...</td>\n",
       "      <td>https://semanticscholar.org/paper/6616f4ba272f...</td>\n",
       "      <td>10.4103/1008-682X.122357</td>\n",
       "      <td>Asian Journal of Andrology</td>\n",
       "      <td>Sex steroids and cardiovascular disease</td>\n",
       "      <td>['Medicine']</td>\n",
       "      <td>Medicine</td>\n",
       "      <td>1</td>\n",
       "    </tr>\n",
       "    <tr>\n",
       "      <th>103</th>\n",
       "      <td>203</td>\n",
       "      <td>Viral infections have the potential to induce ...</td>\n",
       "      <td>https://semanticscholar.org/paper/15bdef5b0f93...</td>\n",
       "      <td>10.1007/s11901-016-0292-z</td>\n",
       "      <td>Current Hepatology Reports</td>\n",
       "      <td>HCC: Where Does HCV Therapy Play a Role?</td>\n",
       "      <td>['Medicine']</td>\n",
       "      <td>Medicine</td>\n",
       "      <td>1</td>\n",
       "    </tr>\n",
       "    <tr>\n",
       "      <th>123</th>\n",
       "      <td>243</td>\n",
       "      <td>Mastocytosis is a myeloid neoplasm characteriz...</td>\n",
       "      <td>https://semanticscholar.org/paper/ec9263657cf8...</td>\n",
       "      <td>10.1586/ehm.10.42</td>\n",
       "      <td>Expert Review of Hematology</td>\n",
       "      <td>Pathogenesis, classification and treatment of ...</td>\n",
       "      <td>['Medicine']</td>\n",
       "      <td>Medicine</td>\n",
       "      <td>1</td>\n",
       "    </tr>\n",
       "    <tr>\n",
       "      <th>...</th>\n",
       "      <td>...</td>\n",
       "      <td>...</td>\n",
       "      <td>...</td>\n",
       "      <td>...</td>\n",
       "      <td>...</td>\n",
       "      <td>...</td>\n",
       "      <td>...</td>\n",
       "      <td>...</td>\n",
       "      <td>...</td>\n",
       "    </tr>\n",
       "    <tr>\n",
       "      <th>5076747</th>\n",
       "      <td>4772128</td>\n",
       "      <td>The association of a benign ovarian tumor with...</td>\n",
       "      <td>https://semanticscholar.org/paper/b25d3eec1c5c...</td>\n",
       "      <td>10.4314/WAJM.V26I3.28322</td>\n",
       "      <td>West African journal of medicine</td>\n",
       "      <td>Meigs' syndrome presenting as haemorrhagic ple...</td>\n",
       "      <td>['Medicine']</td>\n",
       "      <td>Medicine</td>\n",
       "      <td>1</td>\n",
       "    </tr>\n",
       "    <tr>\n",
       "      <th>5076802</th>\n",
       "      <td>4772221</td>\n",
       "      <td>The putative effects of diabetes and metabolic...</td>\n",
       "      <td>https://semanticscholar.org/paper/164e57704ccb...</td>\n",
       "      <td>10.1210/JCEM.80.4.7536202</td>\n",
       "      <td>The Journal of clinical endocrinology and meta...</td>\n",
       "      <td>Insulin-like growth factor (IGF)-I and -II and...</td>\n",
       "      <td>['Medicine']</td>\n",
       "      <td>Medicine</td>\n",
       "      <td>1</td>\n",
       "    </tr>\n",
       "    <tr>\n",
       "      <th>5076812</th>\n",
       "      <td>4772243</td>\n",
       "      <td>Factor V deficiency secondary to inhibitors is...</td>\n",
       "      <td>https://semanticscholar.org/paper/ca68ab337e14...</td>\n",
       "      <td>10.1155/2015/603402</td>\n",
       "      <td>Case Reports in Hematology</td>\n",
       "      <td>Refractory Epistaxis due to Severe Factor V De...</td>\n",
       "      <td>['Medicine']</td>\n",
       "      <td>Medicine</td>\n",
       "      <td>1</td>\n",
       "    </tr>\n",
       "    <tr>\n",
       "      <th>5076833</th>\n",
       "      <td>4772289</td>\n",
       "      <td>Recent prostate cancer screening trials have g...</td>\n",
       "      <td>https://semanticscholar.org/paper/368327b75301...</td>\n",
       "      <td>10.1101/402743</td>\n",
       "      <td>bioRxiv</td>\n",
       "      <td>A natural history model for planning prostate ...</td>\n",
       "      <td>['Medicine']</td>\n",
       "      <td>Medicine</td>\n",
       "      <td>1</td>\n",
       "    </tr>\n",
       "    <tr>\n",
       "      <th>5076883</th>\n",
       "      <td>4772400</td>\n",
       "      <td>DUODENAL villous tumors are rare lesions that ...</td>\n",
       "      <td>https://semanticscholar.org/paper/cbad468d9b16...</td>\n",
       "      <td>10.1001/JAMA.1979.03290510042026</td>\n",
       "      <td>JAMA</td>\n",
       "      <td>Duodenal filling defect.</td>\n",
       "      <td>['Medicine']</td>\n",
       "      <td>Medicine</td>\n",
       "      <td>1</td>\n",
       "    </tr>\n",
       "  </tbody>\n",
       "</table>\n",
       "<p>174701 rows × 9 columns</p>\n",
       "</div>"
      ],
      "text/plain": [
       "           index                                               text  \\\n",
       "4              7  Falsified and substandard drugs are a global h...   \n",
       "7             13  IntroductionMcCune-Albright syndrome is a comp...   \n",
       "72           147  As men grow older, testosterone (T) levels dec...   \n",
       "103          203  Viral infections have the potential to induce ...   \n",
       "123          243  Mastocytosis is a myeloid neoplasm characteriz...   \n",
       "...          ...                                                ...   \n",
       "5076747  4772128  The association of a benign ovarian tumor with...   \n",
       "5076802  4772221  The putative effects of diabetes and metabolic...   \n",
       "5076812  4772243  Factor V deficiency secondary to inhibitors is...   \n",
       "5076833  4772289  Recent prostate cancer screening trials have g...   \n",
       "5076883  4772400  DUODENAL villous tumors are rare lesions that ...   \n",
       "\n",
       "                                                     s2Url  \\\n",
       "4        https://semanticscholar.org/paper/0d0467c4cccb...   \n",
       "7        https://semanticscholar.org/paper/a28cf4e1bf12...   \n",
       "72       https://semanticscholar.org/paper/6616f4ba272f...   \n",
       "103      https://semanticscholar.org/paper/15bdef5b0f93...   \n",
       "123      https://semanticscholar.org/paper/ec9263657cf8...   \n",
       "...                                                    ...   \n",
       "5076747  https://semanticscholar.org/paper/b25d3eec1c5c...   \n",
       "5076802  https://semanticscholar.org/paper/164e57704ccb...   \n",
       "5076812  https://semanticscholar.org/paper/ca68ab337e14...   \n",
       "5076833  https://semanticscholar.org/paper/368327b75301...   \n",
       "5076883  https://semanticscholar.org/paper/cbad468d9b16...   \n",
       "\n",
       "                                      doi  \\\n",
       "4            10.1371/journal.pone.0090601   \n",
       "7                  10.1186/1752-1947-6-32   \n",
       "72               10.4103/1008-682X.122357   \n",
       "103             10.1007/s11901-016-0292-z   \n",
       "123                     10.1586/ehm.10.42   \n",
       "...                                   ...   \n",
       "5076747          10.4314/WAJM.V26I3.28322   \n",
       "5076802         10.1210/JCEM.80.4.7536202   \n",
       "5076812               10.1155/2015/603402   \n",
       "5076833                    10.1101/402743   \n",
       "5076883  10.1001/JAMA.1979.03290510042026   \n",
       "\n",
       "                                               journalName  \\\n",
       "4                                                 PLoS ONE   \n",
       "7                          Journal of Medical Case Reports   \n",
       "72                              Asian Journal of Andrology   \n",
       "103                             Current Hepatology Reports   \n",
       "123                            Expert Review of Hematology   \n",
       "...                                                    ...   \n",
       "5076747                   West African journal of medicine   \n",
       "5076802  The Journal of clinical endocrinology and meta...   \n",
       "5076812                         Case Reports in Hematology   \n",
       "5076833                                            bioRxiv   \n",
       "5076883                                               JAMA   \n",
       "\n",
       "                                                     title fieldsOfStudy  \\\n",
       "4        Technologies for Detecting Falsified and Subst...  ['Medicine']   \n",
       "7        Pamidronic acid and cabergoline as effective l...  ['Medicine']   \n",
       "72                 Sex steroids and cardiovascular disease  ['Medicine']   \n",
       "103               HCC: Where Does HCV Therapy Play a Role?  ['Medicine']   \n",
       "123      Pathogenesis, classification and treatment of ...  ['Medicine']   \n",
       "...                                                    ...           ...   \n",
       "5076747  Meigs' syndrome presenting as haemorrhagic ple...  ['Medicine']   \n",
       "5076802  Insulin-like growth factor (IGF)-I and -II and...  ['Medicine']   \n",
       "5076812  Refractory Epistaxis due to Severe Factor V De...  ['Medicine']   \n",
       "5076833  A natural history model for planning prostate ...  ['Medicine']   \n",
       "5076883                           Duodenal filling defect.  ['Medicine']   \n",
       "\n",
       "           fields  predicts  \n",
       "4        Medicine         1  \n",
       "7        Medicine         1  \n",
       "72       Medicine         1  \n",
       "103      Medicine         1  \n",
       "123      Medicine         1  \n",
       "...           ...       ...  \n",
       "5076747  Medicine         1  \n",
       "5076802  Medicine         1  \n",
       "5076812  Medicine         1  \n",
       "5076833  Medicine         1  \n",
       "5076883  Medicine         1  \n",
       "\n",
       "[174701 rows x 9 columns]"
      ]
     },
     "execution_count": 57,
     "metadata": {},
     "output_type": "execute_result"
    }
   ],
   "source": [
    "dfx"
   ]
  },
  {
   "cell_type": "code",
   "execution_count": 54,
   "id": "a69d1ebb",
   "metadata": {},
   "outputs": [],
   "source": [
    "dfx=dfx[dfx[\"doi\"].notna()]"
   ]
  },
  {
   "cell_type": "code",
   "execution_count": 55,
   "id": "2fc6dfe1",
   "metadata": {},
   "outputs": [],
   "source": [
    "dd = dfx[~dfx[\"doi\"].isin(list(dfo[\"doi\"]))]\n",
    "dfx=dd"
   ]
  },
  {
   "cell_type": "code",
   "execution_count": 88,
   "id": "6026774b",
   "metadata": {},
   "outputs": [
    {
     "data": {
      "text/plain": [
       "Medicine                 51106\n",
       "Biology                  13392\n",
       "Chemistry                 4343\n",
       "Psychology                4272\n",
       "Materials Science         2717\n",
       "Environmental Science     2218\n",
       "Sociology                 1354\n",
       "Geology                   1020\n",
       "Name: fields, dtype: int64"
      ]
     },
     "execution_count": 88,
     "metadata": {},
     "output_type": "execute_result"
    }
   ],
   "source": [
    "dfx[\"fields\"].value_counts()"
   ]
  },
  {
   "cell_type": "code",
   "execution_count": 97,
   "id": "e093d323",
   "metadata": {},
   "outputs": [],
   "source": [
    "df2 = dfx[dfx[\"fields\"].isin([\"Sociology\", \"Geology\", \"Environmental Science\"])]"
   ]
  },
  {
   "cell_type": "code",
   "execution_count": 101,
   "id": "dd1824ac",
   "metadata": {},
   "outputs": [],
   "source": [
    "df2.to_csv(\"downloads/underrepresented_domains_predicts.csv\", index = False, header=True)"
   ]
  },
  {
   "cell_type": "code",
   "execution_count": 102,
   "id": "81d5f82d",
   "metadata": {},
   "outputs": [],
   "source": [
    "df2 = dfx[dfx[\"fields\"].isin([\"Materials Science\", \"Psychology\", \"Chemistry\"])]"
   ]
  },
  {
   "cell_type": "code",
   "execution_count": 105,
   "id": "9e9f46e0",
   "metadata": {},
   "outputs": [],
   "source": [
    "df2.to_csv (\"downloads/mid_represented_domains_predicts.csv\", index = False, header=True)\n",
    "#check that not in final110k_1605"
   ]
  },
  {
   "cell_type": "code",
   "execution_count": null,
   "id": "c44f736b",
   "metadata": {},
   "outputs": [],
   "source": [
    "dfx.to_csv(\"downloads/pos_preds_12062022.csv\", index = False, header=True)"
   ]
  },
  {
   "cell_type": "code",
   "execution_count": null,
   "id": "fd137b9c",
   "metadata": {},
   "outputs": [],
   "source": [
    "dfx[dfx[\"fieldsOfStudy\"].isin(['Environmental Science', 'Sociology', 'Geology', 'Biology', 'Materials Science', 'Chemistry'])]"
   ]
  },
  {
   "cell_type": "code",
   "execution_count": 58,
   "id": "cd86d20a",
   "metadata": {},
   "outputs": [
    {
     "data": {
      "text/html": [
       "<div>\n",
       "<style scoped>\n",
       "    .dataframe tbody tr th:only-of-type {\n",
       "        vertical-align: middle;\n",
       "    }\n",
       "\n",
       "    .dataframe tbody tr th {\n",
       "        vertical-align: top;\n",
       "    }\n",
       "\n",
       "    .dataframe thead th {\n",
       "        text-align: right;\n",
       "    }\n",
       "</style>\n",
       "<table border=\"1\" class=\"dataframe\">\n",
       "  <thead>\n",
       "    <tr style=\"text-align: right;\">\n",
       "      <th></th>\n",
       "      <th>index</th>\n",
       "      <th>text</th>\n",
       "      <th>s2Url</th>\n",
       "      <th>doi</th>\n",
       "      <th>journalName</th>\n",
       "      <th>title</th>\n",
       "      <th>fieldsOfStudy</th>\n",
       "      <th>fields</th>\n",
       "      <th>predicts</th>\n",
       "    </tr>\n",
       "  </thead>\n",
       "  <tbody>\n",
       "    <tr>\n",
       "      <th>4</th>\n",
       "      <td>7</td>\n",
       "      <td>Falsified and substandard drugs are a global h...</td>\n",
       "      <td>https://semanticscholar.org/paper/0d0467c4cccb...</td>\n",
       "      <td>10.1371/journal.pone.0090601</td>\n",
       "      <td>PLoS ONE</td>\n",
       "      <td>Technologies for Detecting Falsified and Subst...</td>\n",
       "      <td>['Medicine']</td>\n",
       "      <td>Medicine</td>\n",
       "      <td>1</td>\n",
       "    </tr>\n",
       "    <tr>\n",
       "      <th>7</th>\n",
       "      <td>13</td>\n",
       "      <td>IntroductionMcCune-Albright syndrome is a comp...</td>\n",
       "      <td>https://semanticscholar.org/paper/a28cf4e1bf12...</td>\n",
       "      <td>10.1186/1752-1947-6-32</td>\n",
       "      <td>Journal of Medical Case Reports</td>\n",
       "      <td>Pamidronic acid and cabergoline as effective l...</td>\n",
       "      <td>['Medicine']</td>\n",
       "      <td>Medicine</td>\n",
       "      <td>1</td>\n",
       "    </tr>\n",
       "    <tr>\n",
       "      <th>72</th>\n",
       "      <td>147</td>\n",
       "      <td>As men grow older, testosterone (T) levels dec...</td>\n",
       "      <td>https://semanticscholar.org/paper/6616f4ba272f...</td>\n",
       "      <td>10.4103/1008-682X.122357</td>\n",
       "      <td>Asian Journal of Andrology</td>\n",
       "      <td>Sex steroids and cardiovascular disease</td>\n",
       "      <td>['Medicine']</td>\n",
       "      <td>Medicine</td>\n",
       "      <td>1</td>\n",
       "    </tr>\n",
       "    <tr>\n",
       "      <th>103</th>\n",
       "      <td>203</td>\n",
       "      <td>Viral infections have the potential to induce ...</td>\n",
       "      <td>https://semanticscholar.org/paper/15bdef5b0f93...</td>\n",
       "      <td>10.1007/s11901-016-0292-z</td>\n",
       "      <td>Current Hepatology Reports</td>\n",
       "      <td>HCC: Where Does HCV Therapy Play a Role?</td>\n",
       "      <td>['Medicine']</td>\n",
       "      <td>Medicine</td>\n",
       "      <td>1</td>\n",
       "    </tr>\n",
       "    <tr>\n",
       "      <th>123</th>\n",
       "      <td>243</td>\n",
       "      <td>Mastocytosis is a myeloid neoplasm characteriz...</td>\n",
       "      <td>https://semanticscholar.org/paper/ec9263657cf8...</td>\n",
       "      <td>10.1586/ehm.10.42</td>\n",
       "      <td>Expert Review of Hematology</td>\n",
       "      <td>Pathogenesis, classification and treatment of ...</td>\n",
       "      <td>['Medicine']</td>\n",
       "      <td>Medicine</td>\n",
       "      <td>1</td>\n",
       "    </tr>\n",
       "    <tr>\n",
       "      <th>...</th>\n",
       "      <td>...</td>\n",
       "      <td>...</td>\n",
       "      <td>...</td>\n",
       "      <td>...</td>\n",
       "      <td>...</td>\n",
       "      <td>...</td>\n",
       "      <td>...</td>\n",
       "      <td>...</td>\n",
       "      <td>...</td>\n",
       "    </tr>\n",
       "    <tr>\n",
       "      <th>5076747</th>\n",
       "      <td>4772128</td>\n",
       "      <td>The association of a benign ovarian tumor with...</td>\n",
       "      <td>https://semanticscholar.org/paper/b25d3eec1c5c...</td>\n",
       "      <td>10.4314/WAJM.V26I3.28322</td>\n",
       "      <td>West African journal of medicine</td>\n",
       "      <td>Meigs' syndrome presenting as haemorrhagic ple...</td>\n",
       "      <td>['Medicine']</td>\n",
       "      <td>Medicine</td>\n",
       "      <td>1</td>\n",
       "    </tr>\n",
       "    <tr>\n",
       "      <th>5076802</th>\n",
       "      <td>4772221</td>\n",
       "      <td>The putative effects of diabetes and metabolic...</td>\n",
       "      <td>https://semanticscholar.org/paper/164e57704ccb...</td>\n",
       "      <td>10.1210/JCEM.80.4.7536202</td>\n",
       "      <td>The Journal of clinical endocrinology and meta...</td>\n",
       "      <td>Insulin-like growth factor (IGF)-I and -II and...</td>\n",
       "      <td>['Medicine']</td>\n",
       "      <td>Medicine</td>\n",
       "      <td>1</td>\n",
       "    </tr>\n",
       "    <tr>\n",
       "      <th>5076812</th>\n",
       "      <td>4772243</td>\n",
       "      <td>Factor V deficiency secondary to inhibitors is...</td>\n",
       "      <td>https://semanticscholar.org/paper/ca68ab337e14...</td>\n",
       "      <td>10.1155/2015/603402</td>\n",
       "      <td>Case Reports in Hematology</td>\n",
       "      <td>Refractory Epistaxis due to Severe Factor V De...</td>\n",
       "      <td>['Medicine']</td>\n",
       "      <td>Medicine</td>\n",
       "      <td>1</td>\n",
       "    </tr>\n",
       "    <tr>\n",
       "      <th>5076833</th>\n",
       "      <td>4772289</td>\n",
       "      <td>Recent prostate cancer screening trials have g...</td>\n",
       "      <td>https://semanticscholar.org/paper/368327b75301...</td>\n",
       "      <td>10.1101/402743</td>\n",
       "      <td>bioRxiv</td>\n",
       "      <td>A natural history model for planning prostate ...</td>\n",
       "      <td>['Medicine']</td>\n",
       "      <td>Medicine</td>\n",
       "      <td>1</td>\n",
       "    </tr>\n",
       "    <tr>\n",
       "      <th>5076883</th>\n",
       "      <td>4772400</td>\n",
       "      <td>DUODENAL villous tumors are rare lesions that ...</td>\n",
       "      <td>https://semanticscholar.org/paper/cbad468d9b16...</td>\n",
       "      <td>10.1001/JAMA.1979.03290510042026</td>\n",
       "      <td>JAMA</td>\n",
       "      <td>Duodenal filling defect.</td>\n",
       "      <td>['Medicine']</td>\n",
       "      <td>Medicine</td>\n",
       "      <td>1</td>\n",
       "    </tr>\n",
       "  </tbody>\n",
       "</table>\n",
       "<p>174701 rows × 9 columns</p>\n",
       "</div>"
      ],
      "text/plain": [
       "           index                                               text  \\\n",
       "4              7  Falsified and substandard drugs are a global h...   \n",
       "7             13  IntroductionMcCune-Albright syndrome is a comp...   \n",
       "72           147  As men grow older, testosterone (T) levels dec...   \n",
       "103          203  Viral infections have the potential to induce ...   \n",
       "123          243  Mastocytosis is a myeloid neoplasm characteriz...   \n",
       "...          ...                                                ...   \n",
       "5076747  4772128  The association of a benign ovarian tumor with...   \n",
       "5076802  4772221  The putative effects of diabetes and metabolic...   \n",
       "5076812  4772243  Factor V deficiency secondary to inhibitors is...   \n",
       "5076833  4772289  Recent prostate cancer screening trials have g...   \n",
       "5076883  4772400  DUODENAL villous tumors are rare lesions that ...   \n",
       "\n",
       "                                                     s2Url  \\\n",
       "4        https://semanticscholar.org/paper/0d0467c4cccb...   \n",
       "7        https://semanticscholar.org/paper/a28cf4e1bf12...   \n",
       "72       https://semanticscholar.org/paper/6616f4ba272f...   \n",
       "103      https://semanticscholar.org/paper/15bdef5b0f93...   \n",
       "123      https://semanticscholar.org/paper/ec9263657cf8...   \n",
       "...                                                    ...   \n",
       "5076747  https://semanticscholar.org/paper/b25d3eec1c5c...   \n",
       "5076802  https://semanticscholar.org/paper/164e57704ccb...   \n",
       "5076812  https://semanticscholar.org/paper/ca68ab337e14...   \n",
       "5076833  https://semanticscholar.org/paper/368327b75301...   \n",
       "5076883  https://semanticscholar.org/paper/cbad468d9b16...   \n",
       "\n",
       "                                      doi  \\\n",
       "4            10.1371/journal.pone.0090601   \n",
       "7                  10.1186/1752-1947-6-32   \n",
       "72               10.4103/1008-682X.122357   \n",
       "103             10.1007/s11901-016-0292-z   \n",
       "123                     10.1586/ehm.10.42   \n",
       "...                                   ...   \n",
       "5076747          10.4314/WAJM.V26I3.28322   \n",
       "5076802         10.1210/JCEM.80.4.7536202   \n",
       "5076812               10.1155/2015/603402   \n",
       "5076833                    10.1101/402743   \n",
       "5076883  10.1001/JAMA.1979.03290510042026   \n",
       "\n",
       "                                               journalName  \\\n",
       "4                                                 PLoS ONE   \n",
       "7                          Journal of Medical Case Reports   \n",
       "72                              Asian Journal of Andrology   \n",
       "103                             Current Hepatology Reports   \n",
       "123                            Expert Review of Hematology   \n",
       "...                                                    ...   \n",
       "5076747                   West African journal of medicine   \n",
       "5076802  The Journal of clinical endocrinology and meta...   \n",
       "5076812                         Case Reports in Hematology   \n",
       "5076833                                            bioRxiv   \n",
       "5076883                                               JAMA   \n",
       "\n",
       "                                                     title fieldsOfStudy  \\\n",
       "4        Technologies for Detecting Falsified and Subst...  ['Medicine']   \n",
       "7        Pamidronic acid and cabergoline as effective l...  ['Medicine']   \n",
       "72                 Sex steroids and cardiovascular disease  ['Medicine']   \n",
       "103               HCC: Where Does HCV Therapy Play a Role?  ['Medicine']   \n",
       "123      Pathogenesis, classification and treatment of ...  ['Medicine']   \n",
       "...                                                    ...           ...   \n",
       "5076747  Meigs' syndrome presenting as haemorrhagic ple...  ['Medicine']   \n",
       "5076802  Insulin-like growth factor (IGF)-I and -II and...  ['Medicine']   \n",
       "5076812  Refractory Epistaxis due to Severe Factor V De...  ['Medicine']   \n",
       "5076833  A natural history model for planning prostate ...  ['Medicine']   \n",
       "5076883                           Duodenal filling defect.  ['Medicine']   \n",
       "\n",
       "           fields  predicts  \n",
       "4        Medicine         1  \n",
       "7        Medicine         1  \n",
       "72       Medicine         1  \n",
       "103      Medicine         1  \n",
       "123      Medicine         1  \n",
       "...           ...       ...  \n",
       "5076747  Medicine         1  \n",
       "5076802  Medicine         1  \n",
       "5076812  Medicine         1  \n",
       "5076833  Medicine         1  \n",
       "5076883  Medicine         1  \n",
       "\n",
       "[174701 rows x 9 columns]"
      ]
     },
     "execution_count": 58,
     "metadata": {},
     "output_type": "execute_result"
    }
   ],
   "source": [
    "dfx"
   ]
  },
  {
   "cell_type": "code",
   "execution_count": 181,
   "id": "a1baa14b",
   "metadata": {},
   "outputs": [
    {
     "name": "stderr",
     "output_type": "stream",
     "text": [
      "/home/ec2-user/anaconda3/envs/python3/lib/python3.6/site-packages/ipykernel/__main__.py:8: DeprecationWarning: The default dtype for empty Series will be 'object' instead of 'float64' in a future version. Specify a dtype explicitly to silence this warning.\n",
      "44962it [00:59, 760.29it/s] \n"
     ]
    }
   ],
   "source": [
    "dt = pd.read_csv(\"core_pos.csv\")\n",
    "#d[d[\"first_sent\"].str.contains(re.escape(\"|\".join(d[\"authors\"][2:-2].replace(\"'\", \"\").split(\",\"))).strip().replace('\\\\', ''))]\n",
    "def formatStr (x):\n",
    "    x = eval(x)\n",
    "    x = [re.escape(v) for v in x]\n",
    "    return \"|\".join(x)\n",
    "\n",
    "regexs = d.authors.apply(formatStr)\n",
    "matches = pd.Series()\n",
    "for i, r in tqdm(d.iterrows()):\n",
    "    matches.loc[i] = len(re.findall(regexs.loc[i], d.first_sent.loc[i])) > 0\n",
    "dc[\"authors\"] = dc[\"authors\"].map(eval)\n",
    "dc = dc.drop(columns=[\"fullText\"])\n",
    "dc.to_csv(\"core_pos_parsed.csv\", index = False, header=True)\n",
    "tt.to_csv(\"core_pos_min.csv\", index = False, header=True)"
   ]
  },
  {
   "cell_type": "markdown",
   "id": "2cfd31a9",
   "metadata": {},
   "source": [
    "distilbert\n",
    "'mcc': 0.7621432780395265, 'tp': 167, 'tn': 480, 'fp': 39, 'fn': 30, 'acc': 0.9036312849162011, 'eval_loss': 0.24669100075132316}\n",
    "\n"
   ]
  }
 ],
 "metadata": {
  "kernelspec": {
   "display_name": "conda_python3",
   "language": "python",
   "name": "conda_python3"
  },
  "language_info": {
   "codemirror_mode": {
    "name": "ipython",
    "version": 3
   },
   "file_extension": ".py",
   "mimetype": "text/x-python",
   "name": "python",
   "nbconvert_exporter": "python",
   "pygments_lexer": "ipython3",
   "version": "3.6.13"
  }
 },
 "nbformat": 4,
 "nbformat_minor": 5
}
