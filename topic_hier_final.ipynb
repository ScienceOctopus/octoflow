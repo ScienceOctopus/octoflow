{
 "cells": [
  {
   "cell_type": "markdown",
   "id": "6fa740d1",
   "metadata": {},
   "source": [
    "Keybert for sample subset of each cluster"
   ]
  },
  {
   "cell_type": "markdown",
   "id": "074a2cdd",
   "metadata": {},
   "source": [
    "* attach DOI to each cluster\n",
    "* attach topic1 and topic2 to each cluster"
   ]
  },
  {
   "cell_type": "code",
   "execution_count": 2,
   "id": "d923b959",
   "metadata": {},
   "outputs": [],
   "source": [
    "import pandas as pd\n",
    "import json\n",
    "\n",
    "clusters_path = \"downloads/matsci_188k_clusters.json\"\n",
    "\n",
    "df = pd.read_csv(\"downloads/matsci_188k_june24.csv\")#.sample(frac=0.6)\n",
    "# df = df[df.text.notna() & df.doi.notna()]"
   ]
  },
  {
   "cell_type": "code",
   "execution_count": 3,
   "id": "299c2505",
   "metadata": {},
   "outputs": [],
   "source": [
    "import json\n",
    "with open(clusters_path) as f:\n",
    "    clusters = json.loads(f.read())\n",
    "    #print(data['data'][0])"
   ]
  },
  {
   "cell_type": "code",
   "execution_count": 4,
   "id": "6bb2945d",
   "metadata": {},
   "outputs": [
    {
     "name": "stdout",
     "output_type": "stream",
     "text": [
      "Collecting keybert\n",
      "  Downloading keybert-0.5.1.tar.gz (19 kB)\n",
      "  Preparing metadata (setup.py) ... \u001b[?25ldone\n",
      "\u001b[?25hCollecting flatdict\n",
      "  Downloading flatdict-4.0.1.tar.gz (8.3 kB)\n",
      "  Preparing metadata (setup.py) ... \u001b[?25ldone\n",
      "\u001b[?25hCollecting sentence-transformers>=0.3.8\n",
      "  Downloading sentence-transformers-2.2.1.tar.gz (84 kB)\n",
      "     |████████████████████████████████| 84 kB 566 kB/s             \n",
      "\u001b[?25h  Preparing metadata (setup.py) ... \u001b[?25ldone\n",
      "\u001b[?25hRequirement already satisfied: scikit-learn>=0.22.2 in /home/ec2-user/anaconda3/envs/pytorch_p36/lib/python3.6/site-packages (from keybert) (0.24.2)\n",
      "Requirement already satisfied: numpy>=1.18.5 in /home/ec2-user/anaconda3/envs/pytorch_p36/lib/python3.6/site-packages (from keybert) (1.19.5)\n",
      "Collecting rich>=10.4.0\n",
      "  Downloading rich-12.4.4-py3-none-any.whl (232 kB)\n",
      "     |████████████████████████████████| 232 kB 109.1 MB/s            \n",
      "\u001b[?25hCollecting commonmark<0.10.0,>=0.9.0\n",
      "  Downloading commonmark-0.9.1-py2.py3-none-any.whl (51 kB)\n",
      "     |████████████████████████████████| 51 kB 1.5 MB/s              \n",
      "\u001b[?25hCollecting typing-extensions<5.0,>=4.0.0\n",
      "  Downloading typing_extensions-4.1.1-py3-none-any.whl (26 kB)\n",
      "Requirement already satisfied: pygments<3.0.0,>=2.6.0 in /home/ec2-user/anaconda3/envs/pytorch_p36/lib/python3.6/site-packages (from rich>=10.4.0->keybert) (2.9.0)\n",
      "Requirement already satisfied: dataclasses<0.9,>=0.7 in /home/ec2-user/anaconda3/envs/pytorch_p36/lib/python3.6/site-packages (from rich>=10.4.0->keybert) (0.8)\n",
      "Requirement already satisfied: scipy>=0.19.1 in /home/ec2-user/anaconda3/envs/pytorch_p36/lib/python3.6/site-packages (from scikit-learn>=0.22.2->keybert) (1.5.3)\n",
      "Requirement already satisfied: threadpoolctl>=2.0.0 in /home/ec2-user/anaconda3/envs/pytorch_p36/lib/python3.6/site-packages (from scikit-learn>=0.22.2->keybert) (2.1.0)\n",
      "Requirement already satisfied: joblib>=0.11 in /home/ec2-user/anaconda3/envs/pytorch_p36/lib/python3.6/site-packages (from scikit-learn>=0.22.2->keybert) (1.0.1)\n",
      "Collecting transformers<5.0.0,>=4.6.0\n",
      "  Downloading transformers-4.18.0-py3-none-any.whl (4.0 MB)\n",
      "     |████████████████████████████████| 4.0 MB 113.0 MB/s            \n",
      "\u001b[?25hRequirement already satisfied: tqdm in /home/ec2-user/anaconda3/envs/pytorch_p36/lib/python3.6/site-packages (from sentence-transformers>=0.3.8->keybert) (4.61.1)\n",
      "Collecting torch>=1.6.0\n",
      "  Downloading torch-1.10.2-cp36-cp36m-manylinux1_x86_64.whl (881.9 MB)\n",
      "     |████████████████████████████████| 881.9 MB 7.8 kB/s              \n",
      "\u001b[?25hRequirement already satisfied: torchvision in /home/ec2-user/anaconda3/envs/pytorch_p36/lib/python3.6/site-packages (from sentence-transformers>=0.3.8->keybert) (0.5.0)\n",
      "Requirement already satisfied: nltk in /home/ec2-user/anaconda3/envs/pytorch_p36/lib/python3.6/site-packages (from sentence-transformers>=0.3.8->keybert) (3.6.2)\n",
      "Collecting sentencepiece\n",
      "  Downloading sentencepiece-0.1.96-cp36-cp36m-manylinux_2_17_x86_64.manylinux2014_x86_64.whl (1.2 MB)\n",
      "     |████████████████████████████████| 1.2 MB 55.7 MB/s            \n",
      "\u001b[?25hCollecting sentence-transformers>=0.3.8\n",
      "  Downloading sentence-transformers-2.2.0.tar.gz (79 kB)\n",
      "     |████████████████████████████████| 79 kB 1.6 MB/s              \n",
      "\u001b[?25h  Preparing metadata (setup.py) ... \u001b[?25ldone\n",
      "\u001b[?25hCollecting huggingface-hub\n",
      "  Downloading huggingface_hub-0.4.0-py3-none-any.whl (67 kB)\n",
      "     |████████████████████████████████| 67 kB 9.4 MB/s             \n",
      "\u001b[?25hRequirement already satisfied: requests in /home/ec2-user/anaconda3/envs/pytorch_p36/lib/python3.6/site-packages (from transformers<5.0.0,>=4.6.0->sentence-transformers>=0.3.8->keybert) (2.25.1)\n",
      "Collecting tokenizers!=0.11.3,<0.13,>=0.11.1\n",
      "  Downloading tokenizers-0.12.1-cp36-cp36m-manylinux_2_12_x86_64.manylinux2010_x86_64.whl (6.6 MB)\n",
      "     |████████████████████████████████| 6.6 MB 66.8 MB/s            \n",
      "\u001b[?25hRequirement already satisfied: pyyaml>=5.1 in /home/ec2-user/anaconda3/envs/pytorch_p36/lib/python3.6/site-packages (from transformers<5.0.0,>=4.6.0->sentence-transformers>=0.3.8->keybert) (5.4.1)\n",
      "Requirement already satisfied: importlib-metadata in /home/ec2-user/anaconda3/envs/pytorch_p36/lib/python3.6/site-packages (from transformers<5.0.0,>=4.6.0->sentence-transformers>=0.3.8->keybert) (4.5.0)\n",
      "Collecting sacremoses\n",
      "  Downloading sacremoses-0.0.53.tar.gz (880 kB)\n",
      "     |████████████████████████████████| 880 kB 73.1 MB/s            \n",
      "\u001b[?25h  Preparing metadata (setup.py) ... \u001b[?25ldone\n",
      "\u001b[?25hRequirement already satisfied: packaging>=20.0 in /home/ec2-user/anaconda3/envs/pytorch_p36/lib/python3.6/site-packages (from transformers<5.0.0,>=4.6.0->sentence-transformers>=0.3.8->keybert) (21.3)\n",
      "Requirement already satisfied: regex!=2019.12.17 in /home/ec2-user/anaconda3/envs/pytorch_p36/lib/python3.6/site-packages (from transformers<5.0.0,>=4.6.0->sentence-transformers>=0.3.8->keybert) (2021.4.4)\n",
      "Requirement already satisfied: filelock in /home/ec2-user/anaconda3/envs/pytorch_p36/lib/python3.6/site-packages (from transformers<5.0.0,>=4.6.0->sentence-transformers>=0.3.8->keybert) (3.0.12)\n",
      "Requirement already satisfied: click in /home/ec2-user/anaconda3/envs/pytorch_p36/lib/python3.6/site-packages (from nltk->sentence-transformers>=0.3.8->keybert) (8.0.1)\n",
      "Requirement already satisfied: six in /home/ec2-user/anaconda3/envs/pytorch_p36/lib/python3.6/site-packages (from torchvision->sentence-transformers>=0.3.8->keybert) (1.16.0)\n",
      "Requirement already satisfied: pillow>=4.1.1 in /home/ec2-user/anaconda3/envs/pytorch_p36/lib/python3.6/site-packages (from torchvision->sentence-transformers>=0.3.8->keybert) (8.4.0)\n",
      "Requirement already satisfied: pyparsing!=3.0.5,>=2.0.2 in /home/ec2-user/anaconda3/envs/pytorch_p36/lib/python3.6/site-packages (from packaging>=20.0->transformers<5.0.0,>=4.6.0->sentence-transformers>=0.3.8->keybert) (2.4.7)\n",
      "Requirement already satisfied: zipp>=0.5 in /home/ec2-user/anaconda3/envs/pytorch_p36/lib/python3.6/site-packages (from importlib-metadata->transformers<5.0.0,>=4.6.0->sentence-transformers>=0.3.8->keybert) (3.4.1)\n",
      "Requirement already satisfied: urllib3<1.27,>=1.21.1 in /home/ec2-user/anaconda3/envs/pytorch_p36/lib/python3.6/site-packages (from requests->transformers<5.0.0,>=4.6.0->sentence-transformers>=0.3.8->keybert) (1.26.8)\n",
      "Requirement already satisfied: idna<3,>=2.5 in /home/ec2-user/anaconda3/envs/pytorch_p36/lib/python3.6/site-packages (from requests->transformers<5.0.0,>=4.6.0->sentence-transformers>=0.3.8->keybert) (2.10)\n",
      "Requirement already satisfied: certifi>=2017.4.17 in /home/ec2-user/anaconda3/envs/pytorch_p36/lib/python3.6/site-packages (from requests->transformers<5.0.0,>=4.6.0->sentence-transformers>=0.3.8->keybert) (2021.5.30)\n",
      "Requirement already satisfied: chardet<5,>=3.0.2 in /home/ec2-user/anaconda3/envs/pytorch_p36/lib/python3.6/site-packages (from requests->transformers<5.0.0,>=4.6.0->sentence-transformers>=0.3.8->keybert) (4.0.0)\n",
      "Building wheels for collected packages: keybert, flatdict, sentence-transformers, sacremoses\n",
      "  Building wheel for keybert (setup.py) ... \u001b[?25ldone\n",
      "\u001b[?25h  Created wheel for keybert: filename=keybert-0.5.1-py3-none-any.whl size=21430 sha256=6b462ee2ea0bac6bb292f85509e1edfdd9f99f0e23b0f509d801bdc6a34c4bb6\n",
      "  Stored in directory: /home/ec2-user/.cache/pip/wheels/fc/37/1e/fbbb93fd5d0ce1397c824dad867f09ccebeae472456341cba7\n",
      "  Building wheel for flatdict (setup.py) ... \u001b[?25ldone\n",
      "\u001b[?25h  Created wheel for flatdict: filename=flatdict-4.0.1-py3-none-any.whl size=6949 sha256=5947a2db1ed0a5b25a13273c995622a664f9e4cbc9ddbca64e29d01eb374e9c6\n",
      "  Stored in directory: /home/ec2-user/.cache/pip/wheels/8c/0b/50/16de22650bd1c28ef15caa790b1b61847aef6c1b57fcb5fe3a\n",
      "  Building wheel for sentence-transformers (setup.py) ... \u001b[?25ldone\n",
      "\u001b[?25h  Created wheel for sentence-transformers: filename=sentence_transformers-2.2.0-py3-none-any.whl size=121341 sha256=9910e207f0011701ec052832cb6df563d4f8ecb8885f10f133cad446db075ab4\n",
      "  Stored in directory: /home/ec2-user/.cache/pip/wheels/ce/2d/86/18ade2fbe66e17694cf8f5667a68d2bd06a65bce42546ea675\n",
      "  Building wheel for sacremoses (setup.py) ... \u001b[?25ldone\n",
      "\u001b[?25h  Created wheel for sacremoses: filename=sacremoses-0.0.53-py3-none-any.whl size=909303 sha256=9b9aaf52f57c5f5422311bd39d077a30ad7b447d060cc5a4828e89b6836b4b04\n",
      "  Stored in directory: /home/ec2-user/.cache/pip/wheels/4c/64/31/e9900a234b23fb3e9dc565d6114a9d6ff84a72dbdd356502b4\n",
      "Successfully built keybert flatdict sentence-transformers sacremoses\n",
      "Installing collected packages: typing-extensions, torch, tokenizers, sacremoses, huggingface-hub, transformers, sentencepiece, commonmark, sentence-transformers, rich, keybert, flatdict\n",
      "  Attempting uninstall: typing-extensions\n",
      "    Found existing installation: typing-extensions 3.10.0.0\n",
      "    Uninstalling typing-extensions-3.10.0.0:\n",
      "      Successfully uninstalled typing-extensions-3.10.0.0\n",
      "  Attempting uninstall: torch\n",
      "    Found existing installation: torch 1.4.0\n",
      "    Uninstalling torch-1.4.0:\n",
      "      Successfully uninstalled torch-1.4.0\n",
      "\u001b[31mERROR: pip's dependency resolver does not currently take into account all the packages that are installed. This behaviour is the source of the following dependency conflicts.\n",
      "fastai 1.0.61 requires nvidia-ml-py3, which is not installed.\n",
      "thinc 8.0.13 requires typing-extensions<4.0.0.0,>=3.7.4.1; python_version < \"3.8\", but you have typing-extensions 4.1.1 which is incompatible.\n",
      "spacy 3.0.6 requires pydantic<1.8.0,>=1.7.1, but you have pydantic 1.8.2 which is incompatible.\n",
      "spacy 3.0.6 requires typing-extensions<4.0.0.0,>=3.7.4; python_version < \"3.8\", but you have typing-extensions 4.1.1 which is incompatible.\n",
      "aiobotocore 1.3.0 requires botocore<1.20.50,>=1.20.49, but you have botocore 1.24.42 which is incompatible.\u001b[0m\n",
      "Successfully installed commonmark-0.9.1 flatdict-4.0.1 huggingface-hub-0.4.0 keybert-0.5.1 rich-12.4.4 sacremoses-0.0.53 sentence-transformers-2.2.0 sentencepiece-0.1.96 tokenizers-0.12.1 torch-1.10.2 transformers-4.18.0 typing-extensions-4.1.1\n"
     ]
    }
   ],
   "source": [
    "!pip install keybert flatdict"
   ]
  },
  {
   "cell_type": "code",
   "execution_count": 5,
   "id": "2b90c231",
   "metadata": {},
   "outputs": [
    {
     "data": {
      "application/vnd.jupyter.widget-view+json": {
       "model_id": "87f00bea54a749ea88f0e8bfddcb1c7d",
       "version_major": 2,
       "version_minor": 0
      },
      "text/plain": [
       "Downloading:   0%|          | 0.00/1.18k [00:00<?, ?B/s]"
      ]
     },
     "metadata": {},
     "output_type": "display_data"
    },
    {
     "data": {
      "application/vnd.jupyter.widget-view+json": {
       "model_id": "3935eaca310c45f9a1e6403eeee5ab80",
       "version_major": 2,
       "version_minor": 0
      },
      "text/plain": [
       "Downloading:   0%|          | 0.00/190 [00:00<?, ?B/s]"
      ]
     },
     "metadata": {},
     "output_type": "display_data"
    },
    {
     "data": {
      "application/vnd.jupyter.widget-view+json": {
       "model_id": "4476928287254d179cdc3964a69971a3",
       "version_major": 2,
       "version_minor": 0
      },
      "text/plain": [
       "Downloading:   0%|          | 0.00/10.2k [00:00<?, ?B/s]"
      ]
     },
     "metadata": {},
     "output_type": "display_data"
    },
    {
     "data": {
      "application/vnd.jupyter.widget-view+json": {
       "model_id": "6688518a8e9449049d5b4f497ebeae90",
       "version_major": 2,
       "version_minor": 0
      },
      "text/plain": [
       "Downloading:   0%|          | 0.00/612 [00:00<?, ?B/s]"
      ]
     },
     "metadata": {},
     "output_type": "display_data"
    },
    {
     "data": {
      "application/vnd.jupyter.widget-view+json": {
       "model_id": "9101e950462945488ac11c4046363f0f",
       "version_major": 2,
       "version_minor": 0
      },
      "text/plain": [
       "Downloading:   0%|          | 0.00/116 [00:00<?, ?B/s]"
      ]
     },
     "metadata": {},
     "output_type": "display_data"
    },
    {
     "data": {
      "application/vnd.jupyter.widget-view+json": {
       "model_id": "13aedf293543458c8dd2ba3e239dc331",
       "version_major": 2,
       "version_minor": 0
      },
      "text/plain": [
       "Downloading:   0%|          | 0.00/39.3k [00:00<?, ?B/s]"
      ]
     },
     "metadata": {},
     "output_type": "display_data"
    },
    {
     "data": {
      "application/vnd.jupyter.widget-view+json": {
       "model_id": "0ee7792697d441469449639b95e41126",
       "version_major": 2,
       "version_minor": 0
      },
      "text/plain": [
       "Downloading:   0%|          | 0.00/349 [00:00<?, ?B/s]"
      ]
     },
     "metadata": {},
     "output_type": "display_data"
    },
    {
     "data": {
      "application/vnd.jupyter.widget-view+json": {
       "model_id": "00471f4c05d841288a98fb645cfe37ae",
       "version_major": 2,
       "version_minor": 0
      },
      "text/plain": [
       "Downloading:   0%|          | 0.00/90.9M [00:00<?, ?B/s]"
      ]
     },
     "metadata": {},
     "output_type": "display_data"
    },
    {
     "data": {
      "application/vnd.jupyter.widget-view+json": {
       "model_id": "5139aef4e2d54fcf99f1b2131edeca64",
       "version_major": 2,
       "version_minor": 0
      },
      "text/plain": [
       "Downloading:   0%|          | 0.00/53.0 [00:00<?, ?B/s]"
      ]
     },
     "metadata": {},
     "output_type": "display_data"
    },
    {
     "data": {
      "application/vnd.jupyter.widget-view+json": {
       "model_id": "29e8c3fdd7d44f80806bd03149764535",
       "version_major": 2,
       "version_minor": 0
      },
      "text/plain": [
       "Downloading:   0%|          | 0.00/112 [00:00<?, ?B/s]"
      ]
     },
     "metadata": {},
     "output_type": "display_data"
    },
    {
     "data": {
      "application/vnd.jupyter.widget-view+json": {
       "model_id": "476dffff08554adc82487b5d4cfc6f46",
       "version_major": 2,
       "version_minor": 0
      },
      "text/plain": [
       "Downloading:   0%|          | 0.00/466k [00:00<?, ?B/s]"
      ]
     },
     "metadata": {},
     "output_type": "display_data"
    },
    {
     "data": {
      "application/vnd.jupyter.widget-view+json": {
       "model_id": "61e80dc4a5ce49149d5f923a4531e442",
       "version_major": 2,
       "version_minor": 0
      },
      "text/plain": [
       "Downloading:   0%|          | 0.00/350 [00:00<?, ?B/s]"
      ]
     },
     "metadata": {},
     "output_type": "display_data"
    },
    {
     "data": {
      "application/vnd.jupyter.widget-view+json": {
       "model_id": "4d59dae5b81c4e68b8c054b8d8d7fac3",
       "version_major": 2,
       "version_minor": 0
      },
      "text/plain": [
       "Downloading:   0%|          | 0.00/13.2k [00:00<?, ?B/s]"
      ]
     },
     "metadata": {},
     "output_type": "display_data"
    },
    {
     "data": {
      "application/vnd.jupyter.widget-view+json": {
       "model_id": "f9e48a62b1c74fa6acac69655fa1c8bb",
       "version_major": 2,
       "version_minor": 0
      },
      "text/plain": [
       "Downloading:   0%|          | 0.00/232k [00:00<?, ?B/s]"
      ]
     },
     "metadata": {},
     "output_type": "display_data"
    }
   ],
   "source": [
    "from keybert import KeyBERT\n",
    "kw_model = KeyBERT()"
   ]
  },
  {
   "cell_type": "code",
   "execution_count": 6,
   "id": "12e4e752",
   "metadata": {},
   "outputs": [],
   "source": [
    "with open(\"downloads/verbs-conjugations.json\") as f:\n",
    "    verbs = json.loads(f.read())\n",
    "    #print(data['data'][0])\n",
    "    \n",
    "import flatdict\n",
    "\n",
    "def flatten(xss):\n",
    "    return [x for xs in xss for x in xs]\n",
    "\n",
    "def contains_number(value):\n",
    "    for character in value:\n",
    "        if character.isdigit():\n",
    "            return True\n",
    "    return False\n",
    "\n",
    "all_verbs = [flatten(flatdict.FlatDict(v_dict).values()) for v_dict in verbs]     \n",
    "flat_verbs = flatten(all_verbs)\n",
    "flat_verbs = [v for v in flat_verbs if len(v) > 2]\n",
    "unique_verbs = list(set(flat_verbs))"
   ]
  },
  {
   "cell_type": "code",
   "execution_count": 7,
   "id": "99a60dbb",
   "metadata": {},
   "outputs": [],
   "source": [
    "def get_kws(text, kw_model=kw_model, blacklist=unique_verbs):\n",
    "    kws = kw_model.extract_keywords(text, \n",
    "                          keyphrase_ngram_range=(1, 2), \n",
    "                          stop_words='english',\n",
    "                          use_mmr=True, \n",
    "                          diversity=0.25)\n",
    "    \n",
    "    kws.sort(key=lambda x: x[1], reverse=True)\n",
    "    \n",
    "    nkws = []\n",
    "    for kw in kws:\n",
    "        name, probs = kw\n",
    "        terms = name.split(\" \")\n",
    "        if len([term for term in terms if \n",
    "                term.endswith(\"ing\") \n",
    "                or term.endswith(\"ly\") \n",
    "                or term in blacklist\n",
    "                or len(term) < 4\n",
    "                #or the last letter is the only vowel\n",
    "                or contains_number(term) \n",
    "                or not any(vowel in term for vowel in [\"a\", \"e\", \"i\", \"o\", \"u\"]) #avoid words like hdfg\n",
    "               ]) == 0:\n",
    "            nkws += [kw]\n",
    "    \n",
    "    return nkws\n",
    "#         if len([term for term in kw.split(\" \") if term.endswith(\"ing\")] > or \n",
    "#     return kws"
   ]
  },
  {
   "cell_type": "code",
   "execution_count": 8,
   "id": "959e6691",
   "metadata": {},
   "outputs": [
    {
     "data": {
      "text/plain": [
       "[('perovskites stoichiometry', 0.602),\n",
       " ('halide perovskites', 0.5961),\n",
       " ('hybrid metal', 0.3223)]"
      ]
     },
     "execution_count": 8,
     "metadata": {},
     "output_type": "execute_result"
    }
   ],
   "source": [
    "get_kws(clusters[0][\"text\"])"
   ]
  },
  {
   "cell_type": "code",
   "execution_count": 9,
   "id": "3c907d4c",
   "metadata": {},
   "outputs": [
    {
     "name": "stdout",
     "output_type": "stream",
     "text": [
      "0\n",
      "200\n",
      "400\n",
      "600\n",
      "800\n",
      "1000\n",
      "1200\n",
      "1400\n",
      "1600\n",
      "1800\n",
      "2000\n",
      "2200\n",
      "2400\n",
      "2600\n",
      "2800\n",
      "3000\n",
      "3200\n"
     ]
    }
   ],
   "source": [
    "for i, c in enumerate(clusters):\n",
    "    c[\"topics\"] = get_kws(c[\"text\"])\n",
    "    if i % 200 == 0:\n",
    "        print(i)"
   ]
  },
  {
   "cell_type": "code",
   "execution_count": 10,
   "id": "a0fe243b",
   "metadata": {},
   "outputs": [],
   "source": [
    "topic_dict = {}\n",
    "for c in clusters:\n",
    "    topic_dict[c[\"doi\"]] = [t[0] for t in c[\"topics\"][:4] if t[1] > 0.4] #limit to top three ?"
   ]
  },
  {
   "cell_type": "code",
   "execution_count": 11,
   "id": "b807ea01",
   "metadata": {},
   "outputs": [],
   "source": [
    "from IPython.display import JSON\n",
    "#JSON(topic_dict)"
   ]
  },
  {
   "cell_type": "code",
   "execution_count": 12,
   "id": "ecb73d78",
   "metadata": {},
   "outputs": [],
   "source": [
    "topic_path='downloads/matsci_188k_topics.json'"
   ]
  },
  {
   "cell_type": "code",
   "execution_count": 13,
   "id": "eb117eb3",
   "metadata": {},
   "outputs": [],
   "source": [
    "import json\n",
    "with open(topic_path, 'w') as f:\n",
    "    json.dump(topic_dict, f)"
   ]
  },
  {
   "cell_type": "markdown",
   "id": "3af1bb91",
   "metadata": {},
   "source": [
    "## Hiearchies"
   ]
  },
  {
   "cell_type": "code",
   "execution_count": 17,
   "id": "37d29c91",
   "metadata": {},
   "outputs": [],
   "source": [
    "#defined at bottom\n",
    "hierarchical_tagger = HierarchicalTagger()"
   ]
  },
  {
   "cell_type": "code",
   "execution_count": 18,
   "id": "f787dce3",
   "metadata": {},
   "outputs": [
    {
     "data": {
      "text/plain": [
       "2604"
      ]
     },
     "execution_count": 18,
     "metadata": {},
     "output_type": "execute_result"
    }
   ],
   "source": [
    "## Ingest the processed docs into the HierarchicalTagger pipeline\n",
    "\n",
    "# Load topic labels from precomputed datast\n",
    "ROOT_DIR= \"/home/ec2-user/SageMaker/octoflow\"\n",
    "# If you ran Engines on your own data, change the path to where you stored the output.\n",
    "PRECOMPUTED_ITEM_TOPICS = os.path.join(ROOT_DIR, topic_path)\n",
    "with open(PRECOMPUTED_ITEM_TOPICS, \"r\") as f:\n",
    "    topics = json.load(f)\n",
    "# Confirm we have topics for all 3000 documents\n",
    "len(topics)\n"
   ]
  },
  {
   "cell_type": "code",
   "execution_count": 19,
   "id": "33f1475d",
   "metadata": {},
   "outputs": [],
   "source": [
    "attrs = {r[\"doi\"]: {\"fields\": r['fields'], \"text\": r['text']} for i, r in df.iterrows()}"
   ]
  },
  {
   "cell_type": "code",
   "execution_count": 20,
   "id": "9ecb19a0",
   "metadata": {},
   "outputs": [],
   "source": [
    "# # Rework the document topic representations into a dictionary mapping document_id: List[topic labels as str]\n",
    "# document_topics = {document_id: topics_entry['topics'] for document_id, topics_entry in topics.items()}\n",
    "# Send the document ids and their corresponding topic labels for ingest\n",
    "hierarchical_tagger.ingest(document_terms=topics, document_attributes=attrs)"
   ]
  },
  {
   "cell_type": "code",
   "execution_count": 21,
   "id": "568ea620",
   "metadata": {},
   "outputs": [],
   "source": [
    "# The previous step is the most computationally demanding.\n",
    "# To avoid having to repeat this, we can save our HierarchicalTagger instance to a json file, using the .to_json() helper method.\n",
    "# As this file will also be the input data to our web app, so let's save it in `webapp/data/`\n",
    "SERIALIZED_INSTANCE_PATH = os.path.join(ROOT_DIR, \"downloads/topic_tree_matsci_june24.json\")\n",
    "with open(SERIALIZED_INSTANCE_PATH, \"w\") as f:\n",
    "    f.write(hierarchical_tagger.to_json())\n",
    "\n",
    "# This is how we can reload a HierarchicalTagger instance from file\n",
    "with open(SERIALIZED_INSTANCE_PATH, \"r\") as f:\n",
    "    reloaded_serialized =  json.load(f)\n",
    "hierarchical_tagger = HierarchicalTagger.from_dict(reloaded_serialized)"
   ]
  },
  {
   "cell_type": "code",
   "execution_count": 22,
   "id": "81f078b0",
   "metadata": {},
   "outputs": [],
   "source": [
    "# import json\n",
    "# with open('downloads/nonmed_hier_tree.json', 'w') as f:\n",
    "#     json.dump(j, f)"
   ]
  },
  {
   "cell_type": "code",
   "execution_count": 23,
   "id": "cd8466e7",
   "metadata": {},
   "outputs": [
    {
     "name": "stdout",
     "output_type": "stream",
     "text": [
      "functional materials\n",
      "├── bridge deck\n",
      "│   └── libs\n",
      "├── human health\n",
      "│   ├── aortic valve\n",
      "│   ├── neurodegenerative disease\n",
      "│   │   └── fluoride fluorosis\n",
      "│   └── public health\n",
      "├── materials antimicrobial\n",
      "│   ├── bacterial cellulose\n",
      "│   │   ├── antibiotic\n",
      "│   │   │   └── bacterial infection\n",
      "│   │   │       └── effective antibacterial\n",
      "│   │   └── biological tissue\n",
      "│   │       ├── bionanocomposites\n",
      "│   │       ├── involves adhesion\n",
      "│   │       ├── materials cellulose\n",
      "│   │       └── soft biological\n",
      "│   │           └── bioactive\n",
      "│   │               └── science bionic\n",
      "│   └── implant devices\n",
      "└── materials electronic\n",
      "    ├── cement\n",
      "    │   ├── asphalt\n",
      "    │   ├── environmental pollution\n",
      "    │   │   ├── sludge\n",
      "    │   │   │   └── steel slag\n",
      "    │   │   └── wastewater treatment\n",
      "    │   │       └── decontamination cleanup\n",
      "    │   ├── failure structures\n",
      "    │   │   ├── cavitation\n",
      "    │   │   │   ├── barrier discharge\n",
      "    │   │   │   └── permeability\n",
      "    │   │   │       └── moisture content\n",
      "    │   │   ├── defects crucial\n",
      "    │   │   │   ├── degradation\n",
      "    │   │   │   │   └── environment fatigue\n",
      "    │   │   │   └── mechanical behavior\n",
      "    │   │   │       ├── defects\n",
      "    │   │   │       │   └── failure mechanism\n",
      "    │   │   │       └── structural health\n",
      "    │   │   └── delamination\n",
      "    │   │       ├── adsorption based\n",
      "    │   │       │   └── processes separation\n",
      "    │   │       ├── nondestructive evaluation\n",
      "    │   │       └── vulcanization\n",
      "    │   ├── reinforced concrete\n",
      "    │   │   └── concrete structures\n",
      "    │   ├── shale\n",
      "    │   │   └── geotechnical\n",
      "    │   │       └── geopolymers\n",
      "    │   └── soil\n",
      "    ├── composite material\n",
      "    │   ├── carbon fiber\n",
      "    │   │   ├── optical fiber\n",
      "    │   │   └── textile\n",
      "    │   │       └── fibers textile\n",
      "    │   ├── ceramic products\n",
      "    │   │   └── ceramics structural\n",
      "    │   ├── composite\n",
      "    │   ├── composites suitable\n",
      "    │   ├── fabrication advanced\n",
      "    │   ├── fibre reinforced\n",
      "    │   │   └── reinforced polymer\n",
      "    │   ├── graphitic carbon\n",
      "    │   │   ├── carbon\n",
      "    │   │   │   ├── carbonaceous materials\n",
      "    │   │   │   ├── multiwall carbon\n",
      "    │   │   │   └── superconductors\n",
      "    │   │   │       ├── capacitors\n",
      "    │   │   │       └── supercritical carbon\n",
      "    │   │   └── graphene\n",
      "    │   │       ├── graphite\n",
      "    │   │       └── zirconia\n",
      "    │   ├── materials science\n",
      "    │   │   ├── materials\n",
      "    │   │   │   ├── structural material\n",
      "    │   │   │   │   └── material construction\n",
      "    │   │   │   └── synthetic materials\n",
      "    │   │   └── plastic deformation\n",
      "    │   ├── matrix composite\n",
      "    │   │   └── metal matrix\n",
      "    │   ├── metal corrosion\n",
      "    │   │   ├── galvanic corrosion\n",
      "    │   │   └── metals alloys\n",
      "    │   │       ├── aluminium based\n",
      "    │   │       ├── austenitic stainless\n",
      "    │   │       ├── steel\n",
      "    │   │       │   └── strength steel\n",
      "    │   │       │       └── steel structures\n",
      "    │   │       ├── titanium\n",
      "    │   │       └── transition metal\n",
      "    │   │           └── metals\n",
      "    │   ├── porous materials\n",
      "    │   │   ├── coatings deposited\n",
      "    │   │   │   ├── coatings\n",
      "    │   │   │   ├── layer deposition\n",
      "    │   │   │   └── surface quality\n",
      "    │   │   └── membrane\n",
      "    │   ├── resin\n",
      "    │   ├── silicon carbide\n",
      "    │   │   ├── carbide based\n",
      "    │   │   └── solid lubrication\n",
      "    │   └── various biomaterials\n",
      "    ├── energy devices\n",
      "    │   ├── aerosol\n",
      "    │   ├── industrial application\n",
      "    │   │   ├── aircraft structures\n",
      "    │   │   │   └── aircraft constructions\n",
      "    │   │   └── wind turbine\n",
      "    │   │       └── turbine blade\n",
      "    │   ├── solar cell\n",
      "    │   │   ├── batteries libs\n",
      "    │   │   │   ├── battery\n",
      "    │   │   │   ├── high voltage\n",
      "    │   │   │   │   └── power devices\n",
      "    │   │   │   └── rechargeable battery\n",
      "    │   │   │       └── based rechargeable\n",
      "    │   │   └── solar energy\n",
      "    │   │       ├── energy storage\n",
      "    │   │       │   ├── electric energy\n",
      "    │   │       │   ├── electric vehicles\n",
      "    │   │       │   ├── energy consumption\n",
      "    │   │       │   └── renewable energy\n",
      "    │   │       └── photovoltaic\n",
      "    │   └── thermal energy\n",
      "    │       ├── hydrogen generation\n",
      "    │       │   ├── catalysts based\n",
      "    │       │   │   ├── advanced oxidation\n",
      "    │       │   │   │   └── oxidation processes\n",
      "    │       │   │   └── catalytic performance\n",
      "    │       │   ├── derived fuel\n",
      "    │       │   │   ├── combustion technology\n",
      "    │       │   │   │   └── flame retardant\n",
      "    │       │   │   │       └── propellants combustion\n",
      "    │       │   │   ├── diesel engine\n",
      "    │       │   │   └── fuel cell\n",
      "    │       │   │       ├── biodiesel production\n",
      "    │       │   │       ├── diesel fuel\n",
      "    │       │   │       └── oxide fuel\n",
      "    │       │   ├── hydrogen\n",
      "    │       │   │   └── hydrogenated carbon\n",
      "    │       │   └── nuclear reactor\n",
      "    │       │       ├── blast furnace\n",
      "    │       │       ├── neutron science\n",
      "    │       │       │   └── radiation therapy\n",
      "    │       │       ├── nuclear fuel\n",
      "    │       │       └── reactor\n",
      "    │       └── thermoelectric\n",
      "    │           ├── cryogenic\n",
      "    │           ├── microwave\n",
      "    │           │   ├── developments microwave\n",
      "    │           │   └── plasma\n",
      "    │           ├── photothermal therapy\n",
      "    │           │   └── geothermal\n",
      "    │           ├── thermal properties\n",
      "    │           │   ├── insulation\n",
      "    │           │   ├── temperature applications\n",
      "    │           │   ├── thermal conductivity\n",
      "    │           │   └── thermal stability\n",
      "    │           │       └── thermal protection\n",
      "    │           └── thermoplastics\n",
      "    │               └── thermosets\n",
      "    ├── epoxy based\n",
      "    │   └── redox chemistry\n",
      "    │       ├── redox\n",
      "    │       └── rheological properties\n",
      "    ├── magnetic properties\n",
      "    │   ├── ball bearings\n",
      "    │   │   └── bearings\n",
      "    │   ├── ferroelectric\n",
      "    │   │   └── ferromagnetic layers\n",
      "    │   └── magnetoresistance\n",
      "    │       └── magnetorheological\n",
      "    ├── material lithium\n",
      "    │   ├── electrochemical\n",
      "    │   │   ├── cathode material\n",
      "    │   │   ├── electrode material\n",
      "    │   │   │   └── electrochromic materials\n",
      "    │   │   └── solid electrolyte\n",
      "    │   │       └── electrolytes\n",
      "    │   └── lithium batteries\n",
      "    ├── nano semiconductors\n",
      "    │   ├── nanotube\n",
      "    │   │   ├── microelectronics\n",
      "    │   │   │   └── nanometer\n",
      "    │   │   ├── microfluid\n",
      "    │   │   ├── nanoparticles based\n",
      "    │   │   │   ├── magnetic nanoparticles\n",
      "    │   │   │   └── nanostructures\n",
      "    │   │   ├── nanowires\n",
      "    │   │   └── polycrystalline\n",
      "    │   └── semiconductor material\n",
      "    │       ├── dielectric\n",
      "    │       │   ├── anode material\n",
      "    │       │   │   └── diode oled\n",
      "    │       │   │       └── oled\n",
      "    │       │   ├── flexible electronic\n",
      "    │       │   │   └── electronic properties\n",
      "    │       │   │       ├── electronic devices\n",
      "    │       │   │       │   ├── electronic applications\n",
      "    │       │   │       │   └── portable electronic\n",
      "    │       │   │       └── organic electronic\n",
      "    │       │   ├── permittivity dielectric\n",
      "    │       │   └── piezoelectric\n",
      "    │       │       └── pyroelectric\n",
      "    │       └── oxide semiconductor\n",
      "    │           ├── advanced semiconductor\n",
      "    │           │   ├── integrated circuits\n",
      "    │           │   ├── metal semiconductor\n",
      "    │           │   ├── mosfet technology\n",
      "    │           │   ├── organic semiconductor\n",
      "    │           │   ├── semiconductors visible\n",
      "    │           │   └── silicon\n",
      "    │           │       └── amorphous silicon\n",
      "    │           └── conductivity oxide\n",
      "    │               ├── conductivity materials\n",
      "    │               └── metal oxide\n",
      "    │                   ├── oxide\n",
      "    │                   │   ├── complex oxides\n",
      "    │                   │   └── oxide surface\n",
      "    │                   └── zinc oxide\n",
      "    ├── nitride materials\n",
      "    │   ├── boron\n",
      "    │   ├── niobium niobium\n",
      "    │   ├── rare earth\n",
      "    │   │   └── sulfides\n",
      "    │   │       └── alumina combined\n",
      "    │   └── silicon nitride\n",
      "    ├── photocatalytic\n",
      "    │   ├── artificial photosynthesis\n",
      "    │   ├── luminescence\n",
      "    │   ├── optical material\n",
      "    │   │   ├── laser applications\n",
      "    │   │   │   ├── femtosecond laser\n",
      "    │   │   │   └── laser diodes\n",
      "    │   │   ├── microscope\n",
      "    │   │   │   └── spectroscopy techniques\n",
      "    │   │   │       └── ftir spectrometers\n",
      "    │   │   ├── near infrared\n",
      "    │   │   │   ├── emission\n",
      "    │   │   │   │   └── emission field\n",
      "    │   │   │   └── ultraviolet\n",
      "    │   │   └── photonic\n",
      "    │   │       ├── optical devices\n",
      "    │   │       └── optoelectronic\n",
      "    │   ├── photoanodes\n",
      "    │   └── photocatalytic degradation\n",
      "    ├── polymer based\n",
      "    │   ├── biodegradable\n",
      "    │   ├── block copolymers\n",
      "    │   ├── conjugate polymer\n",
      "    │   ├── crystallization\n",
      "    │   │   ├── amorphous\n",
      "    │   │   │   └── solidification\n",
      "    │   │   ├── foamed materials\n",
      "    │   │   ├── glassy polymers\n",
      "    │   │   │   ├── glass optical\n",
      "    │   │   │   └── transparent materials\n",
      "    │   │   ├── liquid crystals\n",
      "    │   │   │   └── crystal growth\n",
      "    │   │   └── mesoporous silica\n",
      "    │   │       ├── hydrogels\n",
      "    │   │       │   └── synthetic hydroxyapatite\n",
      "    │   │       └── silica\n",
      "    │   ├── organic inorganic\n",
      "    │   │   └── molecular organic\n",
      "    │   ├── plasmonic\n",
      "    │   │   ├── phosphogypsum products\n",
      "    │   │   │   ├── abundant phosphors\n",
      "    │   │   │   └── pyrolysis\n",
      "    │   │   └── surface plasmon\n",
      "    │   ├── polyurethane\n",
      "    │   │   ├── conjugated polyelectrolytes\n",
      "    │   │   ├── polylactic acid\n",
      "    │   │   ├── polyurethane foam\n",
      "    │   │   └── versatile polydopamine\n",
      "    │   │       └── polyethersulfone important\n",
      "    │   └── processes polymer\n",
      "    ├── sensor\n",
      "    │   └── measurement methods\n",
      "    ├── tribological\n",
      "    │   ├── interconnection\n",
      "    │   │   ├── confinement fusion\n",
      "    │   │   │   └── fusion devices\n",
      "    │   │   └── transistors igbts\n",
      "    │   └── multiferroic\n",
      "    └── ultrasonic\n",
      "        ├── perovskite based\n",
      "        │   └── entropy alloys\n",
      "        │       └── high entropy\n",
      "        └── vibration\n",
      "            └── acoustic\n",
      "\n"
     ]
    }
   ],
   "source": [
    "# Fit the tree\n",
    "hierarchical_tagger.fit_tag_tree( term_similarity_threshold = 0.9)\n",
    "hierarchical_tagger.tree.show()"
   ]
  },
  {
   "cell_type": "code",
   "execution_count": 24,
   "id": "75f5fed9",
   "metadata": {},
   "outputs": [],
   "source": [
    "d = hierarchical_tagger.tree.save2file(\"downloads/matsci_tree_188k_90%sim.txt\")"
   ]
  },
  {
   "cell_type": "code",
   "execution_count": 25,
   "id": "a097e497",
   "metadata": {},
   "outputs": [
    {
     "name": "stderr",
     "output_type": "stream",
     "text": [
      "/home/ec2-user/anaconda3/envs/pytorch_p36/lib/python3.6/site-packages/scipy/sparse/compressed.py:290: SparseEfficiencyWarning: Comparing a sparse matrix with a scalar greater than zero using <= is inefficient, try using > instead.\n",
      "  warn(bad_scalar_msg, SparseEfficiencyWarning)\n",
      "/home/ec2-user/anaconda3/envs/pytorch_p36/lib/python3.6/site-packages/scipy/sparse/_index.py:124: SparseEfficiencyWarning: Changing the sparsity structure of a csr_matrix is expensive. lil_matrix is more efficient.\n",
      "  self._set_arrayXarray(i, j, x)\n"
     ]
    }
   ],
   "source": [
    "# The final step is tagging the original documents based on the hierarchy we found in the tree\n",
    "hierarchical_tagger.tag_documents()"
   ]
  },
  {
   "cell_type": "code",
   "execution_count": 26,
   "id": "3907bcd5",
   "metadata": {},
   "outputs": [
    {
     "data": {
      "text/plain": [
       "[('anode material', 0.6296131038556345, 1265),\n",
       " ('dielectric', 0.38599646125837545, 1344),\n",
       " ('semiconductor material', 0.2966854104462901, 1357),\n",
       " ('lithium batteries', 0.2852693924239079, 1025),\n",
       " ('batteries libs', 0.27172950339276797, 1291),\n",
       " ('nano semiconductors', 0.23113315516773475, 1378),\n",
       " ('materials electronic', 0.19905614586124237, 1438),\n",
       " ('functional materials', 0.19478530225101487, 1442),\n",
       " ('material lithium', 0.18999594513151918, 1354),\n",
       " ('solar cell', 0.17818822011290486, 1352)]"
      ]
     },
     "execution_count": 26,
     "metadata": {},
     "output_type": "execute_result"
    }
   ],
   "source": [
    "# The final step is tagging the original documents based on the hierarchy we found in the tree\n",
    "hierarchical_tagger.document_tags['10.1021/acsomega.0c00729']"
   ]
  },
  {
   "cell_type": "code",
   "execution_count": 27,
   "id": "bf895118",
   "metadata": {},
   "outputs": [],
   "source": [
    "#hierarchical_tagger.processed_document_terms"
   ]
  },
  {
   "cell_type": "code",
   "execution_count": 28,
   "id": "003d7203",
   "metadata": {},
   "outputs": [],
   "source": [
    "#hierarchical_tagger.filtered_terms"
   ]
  },
  {
   "cell_type": "code",
   "execution_count": 29,
   "id": "fd1634db",
   "metadata": {},
   "outputs": [],
   "source": [
    "# processed_topics = list(set(flatten([t for t in hierarchical_tagger.processed_document_terms.values()])))\n",
    "#Apparently these are not the topics that end up in the tree\n",
    "tree_dict = hierarchical_tagger.tree.to_dict()\n",
    "j = hierarchical_tagger.tree.to_json()"
   ]
  },
  {
   "cell_type": "code",
   "execution_count": 30,
   "id": "52dc4bf0",
   "metadata": {},
   "outputs": [],
   "source": [
    "# import json\n",
    "# with open('downloads/matscitree.json', 'w') as f:\n",
    "#     json.dump(json.dumps(tree_dict), f)"
   ]
  },
  {
   "cell_type": "code",
   "execution_count": 31,
   "id": "83004417",
   "metadata": {},
   "outputs": [
    {
     "data": {
      "application/json": {
       "functional materials": {
        "children": [
         {
          "bridge deck": {
           "children": [
            "libs"
           ]
          }
         },
         {
          "human health": {
           "children": [
            "aortic valve",
            {
             "neurodegenerative disease": {
              "children": [
               "fluoride fluorosis"
              ]
             }
            },
            "public health"
           ]
          }
         },
         {
          "materials antimicrobial": {
           "children": [
            {
             "bacterial cellulose": {
              "children": [
               {
                "antibiotic": {
                 "children": [
                  {
                   "bacterial infection": {
                    "children": [
                     "effective antibacterial"
                    ]
                   }
                  }
                 ]
                }
               },
               {
                "biological tissue": {
                 "children": [
                  "bionanocomposites",
                  "involves adhesion",
                  "materials cellulose",
                  {
                   "soft biological": {
                    "children": [
                     {
                      "bioactive": {
                       "children": [
                        "science bionic"
                       ]
                      }
                     }
                    ]
                   }
                  }
                 ]
                }
               }
              ]
             }
            },
            "implant devices"
           ]
          }
         },
         {
          "materials electronic": {
           "children": [
            {
             "cement": {
              "children": [
               "asphalt",
               {
                "environmental pollution": {
                 "children": [
                  {
                   "sludge": {
                    "children": [
                     "steel slag"
                    ]
                   }
                  },
                  {
                   "wastewater treatment": {
                    "children": [
                     "decontamination cleanup"
                    ]
                   }
                  }
                 ]
                }
               },
               {
                "failure structures": {
                 "children": [
                  {
                   "cavitation": {
                    "children": [
                     "barrier discharge",
                     {
                      "permeability": {
                       "children": [
                        "moisture content"
                       ]
                      }
                     }
                    ]
                   }
                  },
                  {
                   "defects crucial": {
                    "children": [
                     {
                      "degradation": {
                       "children": [
                        "environment fatigue"
                       ]
                      }
                     },
                     {
                      "mechanical behavior": {
                       "children": [
                        {
                         "defects": {
                          "children": [
                           "failure mechanism"
                          ]
                         }
                        },
                        "structural health"
                       ]
                      }
                     }
                    ]
                   }
                  },
                  {
                   "delamination": {
                    "children": [
                     {
                      "adsorption based": {
                       "children": [
                        "processes separation"
                       ]
                      }
                     },
                     "nondestructive evaluation",
                     "vulcanization"
                    ]
                   }
                  }
                 ]
                }
               },
               {
                "reinforced concrete": {
                 "children": [
                  "concrete structures"
                 ]
                }
               },
               {
                "shale": {
                 "children": [
                  {
                   "geotechnical": {
                    "children": [
                     "geopolymers"
                    ]
                   }
                  }
                 ]
                }
               },
               "soil"
              ]
             }
            },
            {
             "composite material": {
              "children": [
               {
                "carbon fiber": {
                 "children": [
                  "optical fiber",
                  {
                   "textile": {
                    "children": [
                     "fibers textile"
                    ]
                   }
                  }
                 ]
                }
               },
               {
                "ceramic products": {
                 "children": [
                  "ceramics structural"
                 ]
                }
               },
               "composite",
               "composites suitable",
               "fabrication advanced",
               {
                "fibre reinforced": {
                 "children": [
                  "reinforced polymer"
                 ]
                }
               },
               {
                "graphitic carbon": {
                 "children": [
                  {
                   "carbon": {
                    "children": [
                     "carbonaceous materials",
                     "multiwall carbon",
                     {
                      "superconductors": {
                       "children": [
                        "capacitors",
                        "supercritical carbon"
                       ]
                      }
                     }
                    ]
                   }
                  },
                  {
                   "graphene": {
                    "children": [
                     "graphite",
                     "zirconia"
                    ]
                   }
                  }
                 ]
                }
               },
               {
                "materials science": {
                 "children": [
                  {
                   "materials": {
                    "children": [
                     {
                      "structural material": {
                       "children": [
                        "material construction"
                       ]
                      }
                     },
                     "synthetic materials"
                    ]
                   }
                  },
                  "plastic deformation"
                 ]
                }
               },
               {
                "matrix composite": {
                 "children": [
                  "metal matrix"
                 ]
                }
               },
               {
                "metal corrosion": {
                 "children": [
                  "galvanic corrosion",
                  {
                   "metals alloys": {
                    "children": [
                     "aluminium based",
                     "austenitic stainless",
                     {
                      "steel": {
                       "children": [
                        {
                         "strength steel": {
                          "children": [
                           "steel structures"
                          ]
                         }
                        }
                       ]
                      }
                     },
                     "titanium",
                     {
                      "transition metal": {
                       "children": [
                        "metals"
                       ]
                      }
                     }
                    ]
                   }
                  }
                 ]
                }
               },
               {
                "porous materials": {
                 "children": [
                  {
                   "coatings deposited": {
                    "children": [
                     "coatings",
                     "layer deposition",
                     "surface quality"
                    ]
                   }
                  },
                  "membrane"
                 ]
                }
               },
               "resin",
               {
                "silicon carbide": {
                 "children": [
                  "carbide based",
                  "solid lubrication"
                 ]
                }
               },
               "various biomaterials"
              ]
             }
            },
            {
             "energy devices": {
              "children": [
               "aerosol",
               {
                "industrial application": {
                 "children": [
                  {
                   "aircraft structures": {
                    "children": [
                     "aircraft constructions"
                    ]
                   }
                  },
                  {
                   "wind turbine": {
                    "children": [
                     "turbine blade"
                    ]
                   }
                  }
                 ]
                }
               },
               {
                "solar cell": {
                 "children": [
                  {
                   "batteries libs": {
                    "children": [
                     "battery",
                     {
                      "high voltage": {
                       "children": [
                        "power devices"
                       ]
                      }
                     },
                     {
                      "rechargeable battery": {
                       "children": [
                        "based rechargeable"
                       ]
                      }
                     }
                    ]
                   }
                  },
                  {
                   "solar energy": {
                    "children": [
                     {
                      "energy storage": {
                       "children": [
                        "electric energy",
                        "electric vehicles",
                        "energy consumption",
                        "renewable energy"
                       ]
                      }
                     },
                     "photovoltaic"
                    ]
                   }
                  }
                 ]
                }
               },
               {
                "thermal energy": {
                 "children": [
                  {
                   "hydrogen generation": {
                    "children": [
                     {
                      "catalysts based": {
                       "children": [
                        {
                         "advanced oxidation": {
                          "children": [
                           "oxidation processes"
                          ]
                         }
                        },
                        "catalytic performance"
                       ]
                      }
                     },
                     {
                      "derived fuel": {
                       "children": [
                        {
                         "combustion technology": {
                          "children": [
                           {
                            "flame retardant": {
                             "children": [
                              "propellants combustion"
                             ]
                            }
                           }
                          ]
                         }
                        },
                        "diesel engine",
                        {
                         "fuel cell": {
                          "children": [
                           "biodiesel production",
                           "diesel fuel",
                           "oxide fuel"
                          ]
                         }
                        }
                       ]
                      }
                     },
                     {
                      "hydrogen": {
                       "children": [
                        "hydrogenated carbon"
                       ]
                      }
                     },
                     {
                      "nuclear reactor": {
                       "children": [
                        "blast furnace",
                        {
                         "neutron science": {
                          "children": [
                           "radiation therapy"
                          ]
                         }
                        },
                        "nuclear fuel",
                        "reactor"
                       ]
                      }
                     }
                    ]
                   }
                  },
                  {
                   "thermoelectric": {
                    "children": [
                     "cryogenic",
                     {
                      "microwave": {
                       "children": [
                        "developments microwave",
                        "plasma"
                       ]
                      }
                     },
                     {
                      "photothermal therapy": {
                       "children": [
                        "geothermal"
                       ]
                      }
                     },
                     {
                      "thermal properties": {
                       "children": [
                        "insulation",
                        "temperature applications",
                        "thermal conductivity",
                        {
                         "thermal stability": {
                          "children": [
                           "thermal protection"
                          ]
                         }
                        }
                       ]
                      }
                     },
                     {
                      "thermoplastics": {
                       "children": [
                        "thermosets"
                       ]
                      }
                     }
                    ]
                   }
                  }
                 ]
                }
               }
              ]
             }
            },
            {
             "epoxy based": {
              "children": [
               {
                "redox chemistry": {
                 "children": [
                  "redox",
                  "rheological properties"
                 ]
                }
               }
              ]
             }
            },
            {
             "magnetic properties": {
              "children": [
               {
                "ball bearings": {
                 "children": [
                  "bearings"
                 ]
                }
               },
               {
                "ferroelectric": {
                 "children": [
                  "ferromagnetic layers"
                 ]
                }
               },
               {
                "magnetoresistance": {
                 "children": [
                  "magnetorheological"
                 ]
                }
               }
              ]
             }
            },
            {
             "material lithium": {
              "children": [
               {
                "electrochemical": {
                 "children": [
                  "cathode material",
                  {
                   "electrode material": {
                    "children": [
                     "electrochromic materials"
                    ]
                   }
                  },
                  {
                   "solid electrolyte": {
                    "children": [
                     "electrolytes"
                    ]
                   }
                  }
                 ]
                }
               },
               "lithium batteries"
              ]
             }
            },
            {
             "nano semiconductors": {
              "children": [
               {
                "nanotube": {
                 "children": [
                  {
                   "microelectronics": {
                    "children": [
                     "nanometer"
                    ]
                   }
                  },
                  "microfluid",
                  {
                   "nanoparticles based": {
                    "children": [
                     "magnetic nanoparticles",
                     "nanostructures"
                    ]
                   }
                  },
                  "nanowires",
                  "polycrystalline"
                 ]
                }
               },
               {
                "semiconductor material": {
                 "children": [
                  {
                   "dielectric": {
                    "children": [
                     {
                      "anode material": {
                       "children": [
                        {
                         "diode oled": {
                          "children": [
                           "oled"
                          ]
                         }
                        }
                       ]
                      }
                     },
                     {
                      "flexible electronic": {
                       "children": [
                        {
                         "electronic properties": {
                          "children": [
                           {
                            "electronic devices": {
                             "children": [
                              "electronic applications",
                              "portable electronic"
                             ]
                            }
                           },
                           "organic electronic"
                          ]
                         }
                        }
                       ]
                      }
                     },
                     "permittivity dielectric",
                     {
                      "piezoelectric": {
                       "children": [
                        "pyroelectric"
                       ]
                      }
                     }
                    ]
                   }
                  },
                  {
                   "oxide semiconductor": {
                    "children": [
                     {
                      "advanced semiconductor": {
                       "children": [
                        "integrated circuits",
                        "metal semiconductor",
                        "mosfet technology",
                        "organic semiconductor",
                        "semiconductors visible",
                        {
                         "silicon": {
                          "children": [
                           "amorphous silicon"
                          ]
                         }
                        }
                       ]
                      }
                     },
                     {
                      "conductivity oxide": {
                       "children": [
                        "conductivity materials",
                        {
                         "metal oxide": {
                          "children": [
                           {
                            "oxide": {
                             "children": [
                              "complex oxides",
                              "oxide surface"
                             ]
                            }
                           },
                           "zinc oxide"
                          ]
                         }
                        }
                       ]
                      }
                     }
                    ]
                   }
                  }
                 ]
                }
               }
              ]
             }
            },
            {
             "nitride materials": {
              "children": [
               "boron",
               "niobium niobium",
               {
                "rare earth": {
                 "children": [
                  {
                   "sulfides": {
                    "children": [
                     "alumina combined"
                    ]
                   }
                  }
                 ]
                }
               },
               "silicon nitride"
              ]
             }
            },
            {
             "photocatalytic": {
              "children": [
               "artificial photosynthesis",
               "luminescence",
               {
                "optical material": {
                 "children": [
                  {
                   "laser applications": {
                    "children": [
                     "femtosecond laser",
                     "laser diodes"
                    ]
                   }
                  },
                  {
                   "microscope": {
                    "children": [
                     {
                      "spectroscopy techniques": {
                       "children": [
                        "ftir spectrometers"
                       ]
                      }
                     }
                    ]
                   }
                  },
                  {
                   "near infrared": {
                    "children": [
                     {
                      "emission": {
                       "children": [
                        "emission field"
                       ]
                      }
                     },
                     "ultraviolet"
                    ]
                   }
                  },
                  {
                   "photonic": {
                    "children": [
                     "optical devices",
                     "optoelectronic"
                    ]
                   }
                  }
                 ]
                }
               },
               "photoanodes",
               "photocatalytic degradation"
              ]
             }
            },
            {
             "polymer based": {
              "children": [
               "biodegradable",
               "block copolymers",
               "conjugate polymer",
               {
                "crystallization": {
                 "children": [
                  {
                   "amorphous": {
                    "children": [
                     "solidification"
                    ]
                   }
                  },
                  "foamed materials",
                  {
                   "glassy polymers": {
                    "children": [
                     "glass optical",
                     "transparent materials"
                    ]
                   }
                  },
                  {
                   "liquid crystals": {
                    "children": [
                     "crystal growth"
                    ]
                   }
                  },
                  {
                   "mesoporous silica": {
                    "children": [
                     {
                      "hydrogels": {
                       "children": [
                        "synthetic hydroxyapatite"
                       ]
                      }
                     },
                     "silica"
                    ]
                   }
                  }
                 ]
                }
               },
               {
                "organic inorganic": {
                 "children": [
                  "molecular organic"
                 ]
                }
               },
               {
                "plasmonic": {
                 "children": [
                  {
                   "phosphogypsum products": {
                    "children": [
                     "abundant phosphors",
                     "pyrolysis"
                    ]
                   }
                  },
                  "surface plasmon"
                 ]
                }
               },
               {
                "polyurethane": {
                 "children": [
                  "conjugated polyelectrolytes",
                  "polylactic acid",
                  "polyurethane foam",
                  {
                   "versatile polydopamine": {
                    "children": [
                     "polyethersulfone important"
                    ]
                   }
                  }
                 ]
                }
               },
               "processes polymer"
              ]
             }
            },
            {
             "sensor": {
              "children": [
               "measurement methods"
              ]
             }
            },
            {
             "tribological": {
              "children": [
               {
                "interconnection": {
                 "children": [
                  {
                   "confinement fusion": {
                    "children": [
                     "fusion devices"
                    ]
                   }
                  },
                  "transistors igbts"
                 ]
                }
               },
               "multiferroic"
              ]
             }
            },
            {
             "ultrasonic": {
              "children": [
               {
                "perovskite based": {
                 "children": [
                  {
                   "entropy alloys": {
                    "children": [
                     "high entropy"
                    ]
                   }
                  }
                 ]
                }
               },
               {
                "vibration": {
                 "children": [
                  "acoustic"
                 ]
                }
               }
              ]
             }
            }
           ]
          }
         }
        ]
       }
      },
      "text/plain": [
       "<IPython.core.display.JSON object>"
      ]
     },
     "execution_count": 31,
     "metadata": {
      "application/json": {
       "expanded": false,
       "root": "root"
      }
     },
     "output_type": "execute_result"
    }
   ],
   "source": [
    "JSON(tree_dict)"
   ]
  },
  {
   "cell_type": "code",
   "execution_count": 32,
   "id": "a81c78af",
   "metadata": {},
   "outputs": [],
   "source": [
    "def traverse_tree(tree, memory=[]):\n",
    "    for k, v in tree.items():\n",
    "        memory += [k]\n",
    "        children=v.get(\"children\")\n",
    "        if children:\n",
    "            for c in children:\n",
    "                if isinstance(c, dict):\n",
    "                    traverse_tree(c, memory)\n",
    "                else:\n",
    "                    memory += [c]\n",
    "    return memory"
   ]
  },
  {
   "cell_type": "code",
   "execution_count": 33,
   "id": "5742ddad",
   "metadata": {},
   "outputs": [
    {
     "data": {
      "text/plain": [
       "293"
      ]
     },
     "execution_count": 33,
     "metadata": {},
     "output_type": "execute_result"
    }
   ],
   "source": [
    "tree_topics = traverse_tree(tree_dict, [])\n",
    "len(tree_topics)"
   ]
  },
  {
   "cell_type": "code",
   "execution_count": 34,
   "id": "39cbcdde",
   "metadata": {},
   "outputs": [
    {
     "data": {
      "text/plain": [
       "293"
      ]
     },
     "execution_count": 34,
     "metadata": {},
     "output_type": "execute_result"
    }
   ],
   "source": [
    "len(list(set(tree_topics)))"
   ]
  },
  {
   "cell_type": "code",
   "execution_count": 35,
   "id": "823ddccf",
   "metadata": {},
   "outputs": [
    {
     "data": {
      "text/plain": [
       "True"
      ]
     },
     "execution_count": 35,
     "metadata": {},
     "output_type": "execute_result"
    }
   ],
   "source": [
    "\"involves adhesion\" in tree_topics"
   ]
  },
  {
   "cell_type": "code",
   "execution_count": 36,
   "id": "1caeb830",
   "metadata": {},
   "outputs": [],
   "source": [
    "with open(\"downloads/loc_topics.json\") as f:\n",
    "    loc = json.loads(f.read())\n",
    "    #print(data['data'][0])"
   ]
  },
  {
   "cell_type": "code",
   "execution_count": 37,
   "id": "cf8aff2b",
   "metadata": {},
   "outputs": [],
   "source": [
    "def recursive_items(dictionary, parent_key):\n",
    "    for key, value in dictionary.items():\n",
    "        if type(value) is dict:\n",
    "#             yield (key, value)\n",
    "            yield from recursive_items(value, key)\n",
    "        else:\n",
    "            yield (parent_key, value)"
   ]
  },
  {
   "cell_type": "code",
   "execution_count": 38,
   "id": "0efac53b",
   "metadata": {},
   "outputs": [],
   "source": [
    "r = recursive_items(loc, \"\")"
   ]
  },
  {
   "cell_type": "code",
   "execution_count": 39,
   "id": "c8b1b2e1",
   "metadata": {},
   "outputs": [],
   "source": [
    "loc_flat = dict(r)"
   ]
  },
  {
   "cell_type": "code",
   "execution_count": 40,
   "id": "bb320ada",
   "metadata": {},
   "outputs": [
    {
     "data": {
      "text/plain": [
       "6525"
      ]
     },
     "execution_count": 40,
     "metadata": {},
     "output_type": "execute_result"
    }
   ],
   "source": [
    "len(loc_flat)"
   ]
  },
  {
   "cell_type": "markdown",
   "id": "c5a5cb5c",
   "metadata": {},
   "source": [
    "### Topics < > LOC merge trial"
   ]
  },
  {
   "cell_type": "code",
   "execution_count": 41,
   "id": "c30a31a4",
   "metadata": {},
   "outputs": [],
   "source": [
    "loc_topics = list(loc_flat.values())"
   ]
  },
  {
   "cell_type": "code",
   "execution_count": 42,
   "id": "62b9b317",
   "metadata": {},
   "outputs": [
    {
     "name": "stdout",
     "output_type": "stream",
     "text": [
      "Encode the corpus of 6525... get a coffee in the meantime\n"
     ]
    },
    {
     "data": {
      "application/vnd.jupyter.widget-view+json": {
       "model_id": "58f76c3f0ae64bab92c75194b308c2a5",
       "version_major": 2,
       "version_minor": 0
      },
      "text/plain": [
       "Downloading:   0%|          | 0.00/1.18k [00:00<?, ?B/s]"
      ]
     },
     "metadata": {},
     "output_type": "display_data"
    },
    {
     "data": {
      "application/vnd.jupyter.widget-view+json": {
       "model_id": "ecd58123a2de4003b9132b22f4483d83",
       "version_major": 2,
       "version_minor": 0
      },
      "text/plain": [
       "Downloading:   0%|          | 0.00/190 [00:00<?, ?B/s]"
      ]
     },
     "metadata": {},
     "output_type": "display_data"
    },
    {
     "data": {
      "application/vnd.jupyter.widget-view+json": {
       "model_id": "438473efbdfc4ac8bee366d78beef0de",
       "version_major": 2,
       "version_minor": 0
      },
      "text/plain": [
       "Downloading:   0%|          | 0.00/10.1k [00:00<?, ?B/s]"
      ]
     },
     "metadata": {},
     "output_type": "display_data"
    },
    {
     "data": {
      "application/vnd.jupyter.widget-view+json": {
       "model_id": "0d0f66d92e4148d18a2f9e501a591498",
       "version_major": 2,
       "version_minor": 0
      },
      "text/plain": [
       "Downloading:   0%|          | 0.00/571 [00:00<?, ?B/s]"
      ]
     },
     "metadata": {},
     "output_type": "display_data"
    },
    {
     "data": {
      "application/vnd.jupyter.widget-view+json": {
       "model_id": "3de5bc2cb78142ddb64a21afc36dba8a",
       "version_major": 2,
       "version_minor": 0
      },
      "text/plain": [
       "Downloading:   0%|          | 0.00/116 [00:00<?, ?B/s]"
      ]
     },
     "metadata": {},
     "output_type": "display_data"
    },
    {
     "data": {
      "application/vnd.jupyter.widget-view+json": {
       "model_id": "b7e670e4bfff4403bf835be0e7e6eccd",
       "version_major": 2,
       "version_minor": 0
      },
      "text/plain": [
       "Downloading:   0%|          | 0.00/39.3k [00:00<?, ?B/s]"
      ]
     },
     "metadata": {},
     "output_type": "display_data"
    },
    {
     "data": {
      "application/vnd.jupyter.widget-view+json": {
       "model_id": "d585d65734634c73ad0aff23249b1f7f",
       "version_major": 2,
       "version_minor": 0
      },
      "text/plain": [
       "Downloading:   0%|          | 0.00/349 [00:00<?, ?B/s]"
      ]
     },
     "metadata": {},
     "output_type": "display_data"
    },
    {
     "data": {
      "application/vnd.jupyter.widget-view+json": {
       "model_id": "72f905615f8149ae8939c0fe0b477c1e",
       "version_major": 2,
       "version_minor": 0
      },
      "text/plain": [
       "Downloading:   0%|          | 0.00/438M [00:00<?, ?B/s]"
      ]
     },
     "metadata": {},
     "output_type": "display_data"
    },
    {
     "data": {
      "application/vnd.jupyter.widget-view+json": {
       "model_id": "60c039c38f1f445f8206e9ee280810c7",
       "version_major": 2,
       "version_minor": 0
      },
      "text/plain": [
       "Downloading:   0%|          | 0.00/53.0 [00:00<?, ?B/s]"
      ]
     },
     "metadata": {},
     "output_type": "display_data"
    },
    {
     "data": {
      "application/vnd.jupyter.widget-view+json": {
       "model_id": "3229f15e74c7426f9116a62d4badbd08",
       "version_major": 2,
       "version_minor": 0
      },
      "text/plain": [
       "Downloading:   0%|          | 0.00/239 [00:00<?, ?B/s]"
      ]
     },
     "metadata": {},
     "output_type": "display_data"
    },
    {
     "data": {
      "application/vnd.jupyter.widget-view+json": {
       "model_id": "383b1b1697504191bf9b3ad98c397714",
       "version_major": 2,
       "version_minor": 0
      },
      "text/plain": [
       "Downloading:   0%|          | 0.00/466k [00:00<?, ?B/s]"
      ]
     },
     "metadata": {},
     "output_type": "display_data"
    },
    {
     "data": {
      "application/vnd.jupyter.widget-view+json": {
       "model_id": "ee48f7c669c24c3b8d06be09c3595ec2",
       "version_major": 2,
       "version_minor": 0
      },
      "text/plain": [
       "Downloading:   0%|          | 0.00/363 [00:00<?, ?B/s]"
      ]
     },
     "metadata": {},
     "output_type": "display_data"
    },
    {
     "data": {
      "application/vnd.jupyter.widget-view+json": {
       "model_id": "6e6eb542783640f0a7949ef7c3b3f644",
       "version_major": 2,
       "version_minor": 0
      },
      "text/plain": [
       "Downloading:   0%|          | 0.00/13.1k [00:00<?, ?B/s]"
      ]
     },
     "metadata": {},
     "output_type": "display_data"
    },
    {
     "data": {
      "application/vnd.jupyter.widget-view+json": {
       "model_id": "6627e574675046b8a2efffd9cc5b2a19",
       "version_major": 2,
       "version_minor": 0
      },
      "text/plain": [
       "Downloading:   0%|          | 0.00/232k [00:00<?, ?B/s]"
      ]
     },
     "metadata": {},
     "output_type": "display_data"
    },
    {
     "data": {
      "application/vnd.jupyter.widget-view+json": {
       "model_id": "ab77231f2d9f4e1c8743c5d21e3a0d85",
       "version_major": 2,
       "version_minor": 0
      },
      "text/plain": [
       "Batches:   0%|          | 0/102 [00:00<?, ?it/s]"
      ]
     },
     "metadata": {},
     "output_type": "display_data"
    }
   ],
   "source": [
    "\n",
    "import time\n",
    "start_time = time.time()\n",
    "\n",
    "print(\"Encode the corpus of {}... get a coffee in the meantime\".format(len(loc_topics)))\n",
    "model = SentenceTransformer('sentence-transformers/all-mpnet-base-v2')\n",
    "loc_embs = model.encode(loc_topics, batch_size=64, show_progress_bar=True, convert_to_tensor=True)"
   ]
  },
  {
   "cell_type": "code",
   "execution_count": 43,
   "id": "5fba51e6",
   "metadata": {},
   "outputs": [
    {
     "name": "stdout",
     "output_type": "stream",
     "text": [
      "Encode the corpus of 293... get a coffee in the meantime\n"
     ]
    },
    {
     "data": {
      "application/vnd.jupyter.widget-view+json": {
       "model_id": "977ea337693245b6af8f75b347966f58",
       "version_major": 2,
       "version_minor": 0
      },
      "text/plain": [
       "Batches:   0%|          | 0/5 [00:00<?, ?it/s]"
      ]
     },
     "metadata": {},
     "output_type": "display_data"
    }
   ],
   "source": [
    "import time\n",
    "start_time = time.time()\n",
    "\n",
    "print(\"Encode the corpus of {}... get a coffee in the meantime\".format(len(tree_topics)))\n",
    "model = SentenceTransformer('sentence-transformers/all-mpnet-base-v2')\n",
    "embeddings = model.encode(tree_topics, batch_size=64, show_progress_bar=True, convert_to_tensor=True)"
   ]
  },
  {
   "cell_type": "code",
   "execution_count": 44,
   "id": "058c2a27",
   "metadata": {},
   "outputs": [
    {
     "name": "stdout",
     "output_type": "stream",
     "text": [
      "Collecting faiss-cpu\n",
      "  Downloading faiss_cpu-1.7.2-cp36-cp36m-manylinux_2_17_x86_64.manylinux2014_x86_64.whl (8.6 MB)\n",
      "     |████████████████████████████████| 8.6 MB 26.5 MB/s            \n",
      "\u001b[?25hInstalling collected packages: faiss-cpu\n",
      "Successfully installed faiss-cpu-1.7.2\n"
     ]
    }
   ],
   "source": [
    "!pip install faiss-cpu"
   ]
  },
  {
   "cell_type": "code",
   "execution_count": 45,
   "id": "adee6023",
   "metadata": {},
   "outputs": [],
   "source": [
    "import numpy as np\n",
    "import faiss\n",
    "\n",
    "# d = emb.shape[1]\n",
    "# emb.shape, len(df)\n",
    "# #np.array(df[\"emb\"][1])[:].shape\n",
    "# x = [list(e) for e in emb ]\n",
    "# #df[\"emb\"] = x\n",
    "\n",
    "\n",
    "def create_index(vectors):\n",
    "    vectors = vectors.cpu()\n",
    "    vectors = vectors.numpy()\n",
    "    faiss_index = faiss.IndexFlatL2(len(vectors[0]))\n",
    "    faiss_index.add(vectors)\n",
    "\n",
    "#     print(faiss_index.ntotal)\n",
    "\n",
    "    return faiss_index\n",
    "\n",
    "#export\n",
    "def query_index(text, embedder, target_list, index, with_distance=False, k=10):\n",
    "    embedding = embedder.encode([text])\n",
    "    distances, indices = index.search(embedding, k)\n",
    "    \n",
    "    if with_distance:\n",
    "        #I have no clue why this is double\n",
    "        q = list(set([(target_list[index], distances[0][i]) for i, index in enumerate(indices[0])]))\n",
    "        q.sort(key=lambda x: x[1])\n",
    "        return q\n",
    "    \n",
    "    return list(set([target_list[i] for i in indices[0]]))\n"
   ]
  },
  {
   "cell_type": "code",
   "execution_count": 46,
   "id": "22c805b8",
   "metadata": {},
   "outputs": [],
   "source": [
    "index = create_index(embeddings)\n",
    "loc_index = create_index(loc_embs)"
   ]
  },
  {
   "cell_type": "code",
   "execution_count": 47,
   "id": "458f0027",
   "metadata": {},
   "outputs": [
    {
     "data": {
      "text/plain": [
       "[('involves adhesion', 5.042231e-13),\n",
       " ('biological tissue', 0.99439126),\n",
       " ('hydrogels', 1.0568664),\n",
       " ('various biomaterials', 1.1016836),\n",
       " ('vulcanization', 1.1104277),\n",
       " ('delamination', 1.1347872),\n",
       " ('epoxy based', 1.1404315),\n",
       " ('solid lubrication', 1.1581233),\n",
       " ('permeability', 1.1895592),\n",
       " ('coatings', 1.215383)]"
      ]
     },
     "execution_count": 47,
     "metadata": {},
     "output_type": "execute_result"
    }
   ],
   "source": [
    "t = query_index(\"involves adhesion\", model, tree_topics, index, True, 10)\n",
    "t"
   ]
  },
  {
   "cell_type": "code",
   "execution_count": 48,
   "id": "f7628615",
   "metadata": {},
   "outputs": [],
   "source": [
    "hier = hierarchical_tagger.tree.to_dict()"
   ]
  },
  {
   "cell_type": "code",
   "execution_count": 49,
   "id": "f3ff31ed",
   "metadata": {},
   "outputs": [
    {
     "data": {
      "text/plain": [
       "[('Biology (General)', 1.1429534),\n",
       " ('Microscopy', 1.1958425),\n",
       " ('Technique and materials', 1.2288812)]"
      ]
     },
     "execution_count": 49,
     "metadata": {},
     "output_type": "execute_result"
    }
   ],
   "source": [
    "q = query_index('involves adhesion', model, loc_topics, loc_index, True, 3)\n",
    "q"
   ]
  },
  {
   "cell_type": "code",
   "execution_count": 353,
   "id": "380f6747",
   "metadata": {},
   "outputs": [
    {
     "data": {
      "text/plain": [
       "5"
      ]
     },
     "execution_count": 353,
     "metadata": {},
     "output_type": "execute_result"
    }
   ],
   "source": [
    "5"
   ]
  },
  {
   "cell_type": "code",
   "execution_count": 376,
   "id": "45b19c3c",
   "metadata": {},
   "outputs": [],
   "source": [
    "def to_loc(term):\n",
    "    q = query_index(term, model, loc_topics, loc_index, True, 3)\n",
    "    new_term= q[0][0]\n",
    "    prob=q[0][1]\n",
    "\n",
    "    prob = str(q[0][1])[:4]\n",
    "    return \"{}:{} |{}\".format(term, new_term, prob)\n",
    "\n",
    "\n",
    "def to_loc_tuple(term):\n",
    "    q = query_index(term, model, loc_topics, loc_index, True, 3)\n",
    "    new_term= q[0][0]\n",
    "    prob=q[0][1]\n",
    "\n",
    "    # prob = str(q[0][1])[:4]\n",
    "#   \"{}:{} |{}\".format(term, q[0][0], prob)\n",
    "    return (new_term, prob)\n",
    "\n",
    "\n",
    "#      if children:\n",
    "#             for c in children:\n",
    "#                 if isinstance(c, dict):\n",
    "#                     v[\"children\"] += traverse_t(c,T,k_new)\n",
    "#                 else:\n",
    "#                     v[\"children\"] += to_loc(c)\n",
    "\n",
    "# def enrich_topic(topic):\n",
    "#     d = {}\n",
    "#     loc_topic, prob = to_loc_tuple(k)\n",
    "        \n",
    "#     d[\"loc_topic\"] = loc_topic\n",
    "#     d[\"orig_topic\"] = k\n",
    "#     topic = k if prob > 0.58 else loc_topic\n",
    "#     d[\"topic\"] = topic\n",
    "#     d[\"prob\"] = prob\n",
    "#     d[\"parents\"] = parents\n",
    "#     return d\n",
    "    \n",
    "def traverse_t(tree, T, parent=None, parents=[], depth=0, used_topics=[]):\n",
    "    \"\"\"overwrites and builds a tree where every key is mapped into a new name\"\"\"\n",
    "    tree2 = copy.deepcopy(tree)\n",
    "    for k, v in tree2.items():\n",
    "        #old\n",
    "#         k_new = to_loc(k)\n",
    "        \n",
    "#         tree[k_new] = v\n",
    "        \n",
    "        #new\n",
    "        loc_topic, prob = to_loc_tuple(k)\n",
    "        \n",
    "        tree[\"loc_topic\"] = loc_topic\n",
    "        tree[\"orig_topic\"] = k\n",
    "        topic = loc_topic if (prob < 0.58 or depth < 2) and loc_topic not in used_topics else k\n",
    "        tree[\"topic\"] = topic\n",
    "        tree[\"prob\"] = prob\n",
    "        tree[\"parents\"] = parents\n",
    "        children=v.get(\"children\") if isinstance(v, dict) else None\n",
    "        tree[\"children\"] = children\n",
    "        used_topics += [topic]\n",
    "        \n",
    "        del tree[k]\n",
    "        \n",
    "        \n",
    "        if parent:\n",
    "            print(parent, topic)\n",
    "            T.create_node(topic, topic, parent=parent)\n",
    "            pass\n",
    "        else:\n",
    "            T.create_node(topic, topic) #root\n",
    "            pass\n",
    "#         del tree[k]\n",
    "        if children:\n",
    "            v[\"children\"] = []\n",
    "            for c in children:\n",
    "                if isinstance(c, dict) and not c.get(\"prob\"):\n",
    "#                     print(\"not leaf\")\n",
    "                    v[\"children\"] += [traverse_t(c,T,topic, parents+[topic], depth+1)]\n",
    "                else:\n",
    "                    if not isinstance(c, str):\n",
    "                        print(\"not string\")\n",
    "                    #old---\n",
    "            #                     leaf = to_loc(c)\n",
    "\n",
    "\n",
    "                    #new---\n",
    "                    leaf={}\n",
    "                    loc_l, prob_l = to_loc_tuple(c)\n",
    "\n",
    "            #                     print(leaf, \"leaf\")\n",
    "                    leaf[\"loc_topic\"] = loc_l\n",
    "                    leaf[\"orig_topic\"] = c\n",
    "                    topic_l = loc_l if (prob_l < 0.58 or depth < 2) and loc_l not in used_topics else c\n",
    "                    used_topics += [topic_l]\n",
    "                    leaf[\"topic\"] = topic_l\n",
    "                    leaf[\"prob\"] = prob_l\n",
    "                    leaf[\"parents\"] = parents+[topic]\n",
    "\n",
    "                    if c == \"aortic valve\":\n",
    "                        print(\"found\", leaf,  v[\"children\"], c, \"value\", v, \"tree\", tree)\n",
    "\n",
    "                    #---\n",
    "                    T.create_node(topic_l, topic_l, topic)\n",
    "\n",
    "                    \n",
    "                    v[\"children\"] += [leaf]\n",
    "        \n",
    "#         print(tree, \"tre\", tree2, \"tree2\", \"VAAL___\", v[\"children\"])\n",
    "        tree[\"children\"] = v[\"children\"]\n",
    "        \n",
    "#             tree[\"children\"] = tree2[\"children\"]\n",
    "    return tree            "
   ]
  },
  {
   "cell_type": "code",
   "execution_count": 377,
   "id": "527636ef",
   "metadata": {},
   "outputs": [
    {
     "data": {
      "text/plain": [
       "123"
      ]
     },
     "execution_count": 377,
     "metadata": {},
     "output_type": "execute_result"
    }
   ],
   "source": [
    "123"
   ]
  },
  {
   "cell_type": "code",
   "execution_count": 378,
   "id": "f0227ddc",
   "metadata": {
    "collapsed": true,
    "jupyter": {
     "outputs_hidden": true
    }
   },
   "outputs": [
    {
     "name": "stdout",
     "output_type": "stream",
     "text": [
      "Special materials Bridges\n",
      "Special materials Public health\n",
      "found {'loc_topic': 'Diseases of the circulatory (Cardiovascular) system', 'orig_topic': 'aortic valve', 'topic': 'Diseases of the circulatory (Cardiovascular) system', 'prob': 1.0408361, 'parents': ['Special materials', 'Public health']} [] aortic valve value {'children': []} tree {'loc_topic': 'Public health', 'orig_topic': 'human health', 'topic': 'Public health', 'prob': 0.5090867, 'parents': ['Special materials'], 'children': ['aortic valve', {'neurodegenerative disease': {'children': ['fluoride fluorosis']}}, 'public health']}\n",
      "Public health neurodegenerative disease\n",
      "Special materials materials antimicrobial\n",
      "materials antimicrobial bacterial cellulose\n",
      "bacterial cellulose Antibiotic therapy. Antibiotics\n",
      "Antibiotic therapy. Antibiotics bacterial infection\n",
      "bacterial cellulose biological tissue\n",
      "biological tissue soft biological\n",
      "soft biological bioactive\n",
      "Special materials Electronics\n",
      "Electronics cement\n",
      "cement Environmental pollution\n",
      "Environmental pollution sludge\n",
      "Environmental pollution wastewater treatment\n",
      "cement failure structures\n",
      "failure structures cavitation\n",
      "cavitation permeability\n",
      "failure structures defects crucial\n",
      "defects crucial degradation\n",
      "defects crucial Mechanical movements\n",
      "Mechanical movements defects\n",
      "failure structures delamination\n",
      "delamination adsorption based\n",
      "cement reinforced concrete\n",
      "cement shale\n",
      "shale geotechnical\n",
      "Electronics composite material\n",
      "composite material carbon fiber\n",
      "carbon fiber Textiles\n",
      "composite material Ceramics\n",
      "composite material fibre reinforced\n",
      "composite material graphitic carbon\n",
      "graphitic carbon carbon\n",
      "carbon superconductors\n",
      "graphitic carbon graphene\n",
      "composite material Materials of engineering and construction. Mechanics of materials\n",
      "Materials of engineering and construction. Mechanics of materials materials\n",
      "materials structural material\n",
      "composite material matrix composite\n",
      "composite material metal corrosion\n",
      "metal corrosion Metallurgy\n",
      "Metallurgy steel\n",
      "steel strength steel\n",
      "Metallurgy transition metal\n",
      "composite material porous materials\n",
      "porous materials coatings deposited\n",
      "composite material silicon carbide\n",
      "Electronics energy devices\n",
      "energy devices industrial application\n",
      "industrial application aircraft structures\n",
      "industrial application wind turbine\n",
      "energy devices solar cell\n",
      "solar cell batteries libs\n",
      "batteries libs high voltage\n",
      "batteries libs rechargeable battery\n",
      "solar cell Renewable energy sources\n",
      "Renewable energy sources energy storage\n",
      "energy devices thermal energy\n",
      "thermal energy hydrogen generation\n",
      "hydrogen generation catalysts based\n",
      "catalysts based advanced oxidation\n",
      "hydrogen generation derived fuel\n",
      "derived fuel combustion technology\n",
      "combustion technology flame retardant\n",
      "derived fuel fuel cell\n",
      "hydrogen generation hydrogen\n",
      "hydrogen generation nuclear reactor\n",
      "nuclear reactor neutron science\n",
      "thermal energy thermoelectric\n",
      "thermoelectric microwave\n",
      "thermoelectric photothermal therapy\n",
      "thermoelectric thermal properties\n",
      "thermal properties thermal stability\n",
      "thermoelectric thermoplastics\n",
      "Electronics epoxy based\n",
      "epoxy based redox chemistry\n",
      "Electronics magnetic properties\n",
      "magnetic properties ball bearings\n",
      "magnetic properties ferroelectric\n",
      "magnetic properties magnetoresistance\n",
      "Electronics material lithium\n",
      "material lithium electrochemical\n",
      "electrochemical electrode material\n",
      "electrochemical solid electrolyte\n",
      "Electronics nano semiconductors\n",
      "nano semiconductors nanotube\n",
      "nanotube microelectronics\n",
      "nanotube nanoparticles based\n",
      "nano semiconductors semiconductor material\n",
      "semiconductor material dielectric\n",
      "dielectric anode material\n",
      "anode material diode oled\n",
      "dielectric flexible electronic\n",
      "flexible electronic electronic properties\n",
      "electronic properties electronic devices\n",
      "dielectric piezoelectric\n",
      "semiconductor material oxide semiconductor\n",
      "oxide semiconductor advanced semiconductor\n",
      "advanced semiconductor silicon\n",
      "oxide semiconductor conductivity oxide\n",
      "conductivity oxide metal oxide\n",
      "metal oxide oxide\n",
      "Electronics nitride materials\n",
      "nitride materials rare earth\n",
      "rare earth sulfides\n",
      "Electronics Photochemistry\n",
      "Photochemistry optical material\n",
      "optical material laser applications\n",
      "optical material Microscopy\n",
      "Microscopy Spectroscopy\n",
      "optical material near infrared\n",
      "near infrared emission\n",
      "optical material photonic\n",
      "Electronics Polymers and polymer manufacture\n",
      "Polymers and polymer manufacture crystallization\n",
      "crystallization amorphous\n",
      "crystallization glassy polymers\n",
      "crystallization liquid crystals\n",
      "crystallization mesoporous silica\n",
      "mesoporous silica hydrogels\n",
      "Polymers and polymer manufacture organic inorganic\n",
      "Polymers and polymer manufacture plasmonic\n",
      "plasmonic phosphogypsum products\n",
      "Polymers and polymer manufacture polyurethane\n",
      "polyurethane versatile polydopamine\n",
      "Electronics sensor\n",
      "Electronics tribological\n",
      "tribological interconnection\n",
      "interconnection confinement fusion\n",
      "Electronics ultrasonic\n",
      "ultrasonic perovskite based\n",
      "perovskite based entropy alloys\n",
      "ultrasonic vibration\n"
     ]
    }
   ],
   "source": [
    "from treelib import Tree\n",
    "treelib = Tree()\n",
    "\n",
    "hh = copy.deepcopy(tree_dict)\n",
    "ff = traverse_t(hh, treelib)"
   ]
  },
  {
   "cell_type": "code",
   "execution_count": 379,
   "id": "4d88abfa",
   "metadata": {},
   "outputs": [],
   "source": [
    "#JSON(hier)"
   ]
  },
  {
   "cell_type": "code",
   "execution_count": 380,
   "id": "1c064192",
   "metadata": {},
   "outputs": [
    {
     "data": {
      "application/json": {
       "children": [
        {
         "children": [
          {
           "loc_topic": "Liberalism",
           "orig_topic": "libs",
           "parents": [
            "Special materials",
            "Bridges"
           ],
           "prob": 0.7104116082191467,
           "topic": "Liberalism"
          }
         ],
         "loc_topic": "Bridges",
         "orig_topic": "bridge deck",
         "parents": [
          "Special materials"
         ],
         "prob": 0.8426068425178528,
         "topic": "Bridges"
        },
        {
         "children": [
          {
           "loc_topic": "Diseases of the circulatory (Cardiovascular) system",
           "orig_topic": "aortic valve",
           "parents": [
            "Special materials",
            "Public health"
           ],
           "prob": 1.0408360958099365,
           "topic": "Diseases of the circulatory (Cardiovascular) system"
          },
          {
           "children": [
            {
             "loc_topic": "Disease due to physical and chemical agents",
             "orig_topic": "fluoride fluorosis",
             "parents": [
              "Special materials",
              "Public health",
              "neurodegenerative disease"
             ],
             "prob": 1.2149882316589355,
             "topic": "fluoride fluorosis"
            }
           ],
           "loc_topic": "Degeneration",
           "orig_topic": "neurodegenerative disease",
           "parents": [
            "Special materials",
            "Public health"
           ],
           "prob": 0.7874577641487122,
           "topic": "neurodegenerative disease"
          },
          {
           "loc_topic": "Public health",
           "orig_topic": "public health",
           "parents": [
            "Special materials",
            "Public health"
           ],
           "prob": 7.931730359317379e-13,
           "topic": "public health"
          }
         ],
         "loc_topic": "Public health",
         "orig_topic": "human health",
         "parents": [
          "Special materials"
         ],
         "prob": 0.5090867280960083,
         "topic": "Public health"
        },
        {
         "children": [
          {
           "children": [
            {
             "children": [
              {
               "children": [
                {
                 "loc_topic": "Antibiotic therapy. Antibiotics",
                 "orig_topic": "effective antibacterial",
                 "parents": [
                  "Special materials",
                  "materials antimicrobial",
                  "bacterial cellulose",
                  "Antibiotic therapy. Antibiotics",
                  "bacterial infection"
                 ],
                 "prob": 0.9527501463890076,
                 "topic": "effective antibacterial"
                }
               ],
               "loc_topic": "Bacteria",
               "orig_topic": "bacterial infection",
               "parents": [
                "Special materials",
                "materials antimicrobial",
                "bacterial cellulose",
                "Antibiotic therapy. Antibiotics"
               ],
               "prob": 0.601025402545929,
               "topic": "bacterial infection"
              }
             ],
             "loc_topic": "Antibiotic therapy. Antibiotics",
             "orig_topic": "antibiotic",
             "parents": [
              "Special materials",
              "materials antimicrobial",
              "bacterial cellulose"
             ],
             "prob": 0.4770478904247284,
             "topic": "Antibiotic therapy. Antibiotics"
            },
            {
             "children": [
              {
               "loc_topic": "Cyanobacteria",
               "orig_topic": "bionanocomposites",
               "parents": [
                "Special materials",
                "materials antimicrobial",
                "bacterial cellulose",
                "biological tissue"
               ],
               "prob": 0.82523113489151,
               "topic": "bionanocomposites"
              },
              {
               "loc_topic": "Biology (General)",
               "orig_topic": "involves adhesion",
               "parents": [
                "Special materials",
                "materials antimicrobial",
                "bacterial cellulose",
                "biological tissue"
               ],
               "prob": 1.1429533958435059,
               "topic": "involves adhesion"
              },
              {
               "loc_topic": "Special materials",
               "orig_topic": "materials cellulose",
               "parents": [
                "Special materials",
                "materials antimicrobial",
                "bacterial cellulose",
                "biological tissue"
               ],
               "prob": 1.019647479057312,
               "topic": "materials cellulose"
              },
              {
               "children": [
                {
                 "children": [
                  {
                   "loc_topic": "Bioengineering",
                   "orig_topic": "science bionic",
                   "parents": [
                    "Special materials",
                    "materials antimicrobial",
                    "bacterial cellulose",
                    "biological tissue",
                    "soft biological",
                    "bioactive"
                   ],
                   "prob": 0.6971298456192017,
                   "topic": "science bionic"
                  }
                 ],
                 "loc_topic": "Therapeutics",
                 "orig_topic": "bioactive",
                 "parents": [
                  "Special materials",
                  "materials antimicrobial",
                  "bacterial cellulose",
                  "biological tissue",
                  "soft biological"
                 ],
                 "prob": 1.0293174982070923,
                 "topic": "bioactive"
                }
               ],
               "loc_topic": "Biotechnology",
               "orig_topic": "soft biological",
               "parents": [
                "Special materials",
                "materials antimicrobial",
                "bacterial cellulose",
                "biological tissue"
               ],
               "prob": 1.081143856048584,
               "topic": "soft biological"
              }
             ],
             "loc_topic": "Prosthesis. Artificial organs",
             "orig_topic": "biological tissue",
             "parents": [
              "Special materials",
              "materials antimicrobial",
              "bacterial cellulose"
             ],
             "prob": 0.8809158205986023,
             "topic": "biological tissue"
            }
           ],
           "loc_topic": "Bacteria",
           "orig_topic": "bacterial cellulose",
           "parents": [
            "Special materials",
            "materials antimicrobial"
           ],
           "prob": 0.9595549702644348,
           "topic": "bacterial cellulose"
          },
          {
           "loc_topic": "Prosthesis. Artificial organs",
           "orig_topic": "implant devices",
           "parents": [
            "Special materials",
            "materials antimicrobial"
           ],
           "prob": 0.7859593629837036,
           "topic": "Prosthesis. Artificial organs"
          }
         ],
         "loc_topic": "Special materials",
         "orig_topic": "materials antimicrobial",
         "parents": [
          "Special materials"
         ],
         "prob": 1.022099494934082,
         "topic": "materials antimicrobial"
        },
        {
         "children": [
          {
           "children": [
            {
             "loc_topic": "Pavements and paved roads",
             "orig_topic": "asphalt",
             "parents": [
              "Special materials",
              "Electronics",
              "cement"
             ],
             "prob": 0.8308680653572083,
             "topic": "asphalt"
            },
            {
             "children": [
              {
               "children": [
                {
                 "loc_topic": "Metallurgy",
                 "orig_topic": "steel slag",
                 "parents": [
                  "Special materials",
                  "Electronics",
                  "cement",
                  "Environmental pollution",
                  "sludge"
                 ],
                 "prob": 0.9131998419761658,
                 "topic": "steel slag"
                }
               ],
               "loc_topic": "Municipal refuse. Solid wastes",
               "orig_topic": "sludge",
               "parents": [
                "Special materials",
                "Electronics",
                "cement",
                "Environmental pollution"
               ],
               "prob": 0.9778444170951843,
               "topic": "sludge"
              },
              {
               "children": [
                {
                 "loc_topic": "Hazardous substances and their disposal",
                 "orig_topic": "decontamination cleanup",
                 "parents": [
                  "Special materials",
                  "Electronics",
                  "cement",
                  "Environmental pollution",
                  "wastewater treatment"
                 ],
                 "prob": 0.6579666137695312,
                 "topic": "decontamination cleanup"
                }
               ],
               "loc_topic": "Industrial and factory sanitation",
               "orig_topic": "wastewater treatment",
               "parents": [
                "Special materials",
                "Electronics",
                "cement",
                "Environmental pollution"
               ],
               "prob": 0.580776572227478,
               "topic": "wastewater treatment"
              }
             ],
             "loc_topic": "Environmental pollution",
             "orig_topic": "environmental pollution",
             "parents": [
              "Special materials",
              "Electronics",
              "cement"
             ],
             "prob": 8.077296427197456e-13,
             "topic": "Environmental pollution"
            },
            {
             "children": [
              {
               "children": [
                {
                 "loc_topic": "Electric discharge",
                 "orig_topic": "barrier discharge",
                 "parents": [
                  "Special materials",
                  "Electronics",
                  "cement",
                  "failure structures",
                  "cavitation"
                 ],
                 "prob": 0.6182242035865784,
                 "topic": "barrier discharge"
                },
                {
                 "children": [
                  {
                   "loc_topic": "Hydrometeorology",
                   "orig_topic": "moisture content",
                   "parents": [
                    "Special materials",
                    "Electronics",
                    "cement",
                    "failure structures",
                    "cavitation",
                    "permeability"
                   ],
                   "prob": 1.0880266427993774,
                   "topic": "moisture content"
                  }
                 ],
                 "loc_topic": "Hydrology. Water",
                 "orig_topic": "permeability",
                 "parents": [
                  "Special materials",
                  "Electronics",
                  "cement",
                  "failure structures",
                  "cavitation"
                 ],
                 "prob": 1.1564167737960815,
                 "topic": "permeability"
                }
               ],
               "loc_topic": "Physics and acoustics",
               "orig_topic": "cavitation",
               "parents": [
                "Special materials",
                "Electronics",
                "cement",
                "failure structures"
               ],
               "prob": 1.2090766429901123,
               "topic": "cavitation"
              },
              {
               "children": [
                {
                 "children": [
                  {
                   "loc_topic": "Environmental influences on humans",
                   "orig_topic": "environment fatigue",
                   "parents": [
                    "Special materials",
                    "Electronics",
                    "cement",
                    "failure structures",
                    "defects crucial",
                    "degradation"
                   ],
                   "prob": 0.9913249015808105,
                   "topic": "environment fatigue"
                  }
                 ],
                 "loc_topic": "Degeneration",
                 "orig_topic": "degradation",
                 "parents": [
                  "Special materials",
                  "Electronics",
                  "cement",
                  "failure structures",
                  "defects crucial"
                 ],
                 "prob": 0.6948789358139038,
                 "topic": "degradation"
                },
                {
                 "children": [
                  {
                   "children": [
                    {
                     "loc_topic": "Special types of disasters",
                     "orig_topic": "failure mechanism",
                     "parents": [
                      "Special materials",
                      "Electronics",
                      "cement",
                      "failure structures",
                      "defects crucial",
                      "Mechanical movements",
                      "defects"
                     ],
                     "prob": 1.0941938161849976,
                     "topic": "failure mechanism"
                    }
                   ],
                   "loc_topic": "Maintenance and repair",
                   "orig_topic": "defects",
                   "parents": [
                    "Special materials",
                    "Electronics",
                    "cement",
                    "failure structures",
                    "defects crucial",
                    "Mechanical movements"
                   ],
                   "prob": 1.1207143068313599,
                   "topic": "defects"
                  },
                  {
                   "loc_topic": "Structural engineering (General)",
                   "orig_topic": "structural health",
                   "parents": [
                    "Special materials",
                    "Electronics",
                    "cement",
                    "failure structures",
                    "defects crucial",
                    "Mechanical movements"
                   ],
                   "prob": 0.6481496095657349,
                   "topic": "structural health"
                  }
                 ],
                 "loc_topic": "Mechanical movements",
                 "orig_topic": "mechanical behavior",
                 "parents": [
                  "Special materials",
                  "Electronics",
                  "cement",
                  "failure structures",
                  "defects crucial"
                 ],
                 "prob": 0.5002661943435669,
                 "topic": "Mechanical movements"
                }
               ],
               "loc_topic": "Maintenance and repair",
               "orig_topic": "defects crucial",
               "parents": [
                "Special materials",
                "Electronics",
                "cement",
                "failure structures"
               ],
               "prob": 1.1745898723602295,
               "topic": "defects crucial"
              },
              {
               "children": [
                {
                 "children": [
                  {
                   "loc_topic": "Processing",
                   "orig_topic": "processes separation",
                   "parents": [
                    "Special materials",
                    "Electronics",
                    "cement",
                    "failure structures",
                    "delamination",
                    "adsorption based"
                   ],
                   "prob": 0.9306039810180664,
                   "topic": "processes separation"
                  }
                 ],
                 "loc_topic": "Chemical engineering",
                 "orig_topic": "adsorption based",
                 "parents": [
                  "Special materials",
                  "Electronics",
                  "cement",
                  "failure structures",
                  "delamination"
                 ],
                 "prob": 1.0240365266799927,
                 "topic": "adsorption based"
                },
                {
                 "loc_topic": "Evaluation",
                 "orig_topic": "nondestructive evaluation",
                 "parents": [
                  "Special materials",
                  "Electronics",
                  "cement",
                  "failure structures",
                  "delamination"
                 ],
                 "prob": 1.1447575092315674,
                 "topic": "nondestructive evaluation"
                },
                {
                 "loc_topic": "Special materials",
                 "orig_topic": "vulcanization",
                 "parents": [
                  "Special materials",
                  "Electronics",
                  "cement",
                  "failure structures",
                  "delamination"
                 ],
                 "prob": 0.9963251352310181,
                 "topic": "vulcanization"
                }
               ],
               "loc_topic": "Fractures (General)",
               "orig_topic": "delamination",
               "parents": [
                "Special materials",
                "Electronics",
                "cement",
                "failure structures"
               ],
               "prob": 1.0535223484039307,
               "topic": "delamination"
              }
             ],
             "loc_topic": "Structural engineering (General)",
             "orig_topic": "failure structures",
             "parents": [
              "Special materials",
              "Electronics",
              "cement"
             ],
             "prob": 0.8628567457199097,
             "topic": "failure structures"
            },
            {
             "children": [
              {
               "loc_topic": "Earthwork. Foundations",
               "orig_topic": "concrete structures",
               "parents": [
                "Special materials",
                "Electronics",
                "cement",
                "reinforced concrete"
               ],
               "prob": 0.6624678373336792,
               "topic": "concrete structures"
              }
             ],
             "loc_topic": "Earthwork. Foundations",
             "orig_topic": "reinforced concrete",
             "parents": [
              "Special materials",
              "Electronics",
              "cement"
             ],
             "prob": 0.8396770358085632,
             "topic": "reinforced concrete"
            },
            {
             "children": [
              {
               "children": [
                {
                 "loc_topic": "Polymers and polymer manufacture",
                 "orig_topic": "geopolymers",
                 "parents": [
                  "Special materials",
                  "Electronics",
                  "cement",
                  "shale",
                  "geotechnical"
                 ],
                 "prob": 0.997629702091217,
                 "topic": "geopolymers"
                }
               ],
               "loc_topic": "Geology",
               "orig_topic": "geotechnical",
               "parents": [
                "Special materials",
                "Electronics",
                "cement",
                "shale"
               ],
               "prob": 0.5839127898216248,
               "topic": "geotechnical"
              }
             ],
             "loc_topic": "Geology",
             "orig_topic": "shale",
             "parents": [
              "Special materials",
              "Electronics",
              "cement"
             ],
             "prob": 0.8303539752960205,
             "topic": "shale"
            },
            {
             "loc_topic": "Forest soils",
             "orig_topic": "soil",
             "parents": [
              "Special materials",
              "Electronics",
              "cement"
             ],
             "prob": 0.5988479852676392,
             "topic": "soil"
            }
           ],
           "loc_topic": "Cement industries",
           "orig_topic": "cement",
           "parents": [
            "Special materials",
            "Electronics"
           ],
           "prob": 0.717549204826355,
           "topic": "cement"
          },
          {
           "children": [
            {
             "children": [
              {
               "loc_topic": "Applied optics. Photonics",
               "orig_topic": "optical fiber",
               "parents": [
                "Special materials",
                "Electronics",
                "composite material",
                "carbon fiber"
               ],
               "prob": 0.9385707378387451,
               "topic": "optical fiber"
              },
              {
               "children": [
                {
                 "loc_topic": "Textiles",
                 "orig_topic": "fibers textile",
                 "parents": [
                  "Special materials",
                  "Electronics",
                  "composite material",
                  "carbon fiber",
                  "Textiles"
                 ],
                 "prob": 0.40486031770706177,
                 "topic": "fibers textile"
                }
               ],
               "loc_topic": "Textiles",
               "orig_topic": "textile",
               "parents": [
                "Special materials",
                "Electronics",
                "composite material",
                "carbon fiber"
               ],
               "prob": 0.13254530727863312,
               "topic": "Textiles"
              }
             ],
             "loc_topic": "Textiles",
             "orig_topic": "carbon fiber",
             "parents": [
              "Special materials",
              "Electronics",
              "composite material"
             ],
             "prob": 0.8617146611213684,
             "topic": "carbon fiber"
            },
            {
             "children": [
              {
               "loc_topic": "Ceramics",
               "orig_topic": "ceramics structural",
               "parents": [
                "Special materials",
                "Electronics",
                "composite material",
                "Ceramics"
               ],
               "prob": 0.42082446813583374,
               "topic": "ceramics structural"
              }
             ],
             "loc_topic": "Ceramics",
             "orig_topic": "ceramic products",
             "parents": [
              "Special materials",
              "Electronics",
              "composite material"
             ],
             "prob": 0.2906629741191864,
             "topic": "Ceramics"
            },
            {
             "loc_topic": "Costume",
             "orig_topic": "composite",
             "parents": [
              "Special materials",
              "Electronics",
              "composite material"
             ],
             "prob": 1.272861123085022,
             "topic": "composite"
            },
            {
             "loc_topic": "Special materials",
             "orig_topic": "composites suitable",
             "parents": [
              "Special materials",
              "Electronics",
              "composite material"
             ],
             "prob": 0.9876973032951355,
             "topic": "composites suitable"
            },
            {
             "loc_topic": "Lithography",
             "orig_topic": "fabrication advanced",
             "parents": [
              "Special materials",
              "Electronics",
              "composite material"
             ],
             "prob": 0.6879348754882812,
             "topic": "fabrication advanced"
            },
            {
             "children": [
              {
               "loc_topic": "Polymers and polymer manufacture",
               "orig_topic": "reinforced polymer",
               "parents": [
                "Special materials",
                "Electronics",
                "composite material",
                "fibre reinforced"
               ],
               "prob": 0.6492974758148193,
               "topic": "reinforced polymer"
              }
             ],
             "loc_topic": "Textiles",
             "orig_topic": "fibre reinforced",
             "parents": [
              "Special materials",
              "Electronics",
              "composite material"
             ],
             "prob": 0.8781837821006775,
             "topic": "fibre reinforced"
            },
            {
             "children": [
              {
               "children": [
                {
                 "loc_topic": "Special materials",
                 "orig_topic": "carbonaceous materials",
                 "parents": [
                  "Special materials",
                  "Electronics",
                  "composite material",
                  "graphitic carbon",
                  "carbon"
                 ],
                 "prob": 0.983489990234375,
                 "topic": "carbonaceous materials"
                },
                {
                 "loc_topic": "Details in building design and construction ⁠Including walls, roofs",
                 "orig_topic": "multiwall carbon",
                 "parents": [
                  "Special materials",
                  "Electronics",
                  "composite material",
                  "graphitic carbon",
                  "carbon"
                 ],
                 "prob": 1.4292891025543213,
                 "topic": "multiwall carbon"
                },
                {
                 "children": [
                  {
                   "loc_topic": "Electricity",
                   "orig_topic": "capacitors",
                   "parents": [
                    "Special materials",
                    "Electronics",
                    "composite material",
                    "graphitic carbon",
                    "carbon",
                    "superconductors"
                   ],
                   "prob": 0.8415683507919312,
                   "topic": "capacitors"
                  },
                  {
                   "loc_topic": "Fuel",
                   "orig_topic": "supercritical carbon",
                   "parents": [
                    "Special materials",
                    "Electronics",
                    "composite material",
                    "graphitic carbon",
                    "carbon",
                    "superconductors"
                   ],
                   "prob": 1.3978862762451172,
                   "topic": "supercritical carbon"
                  }
                 ],
                 "loc_topic": "Magnetism",
                 "orig_topic": "superconductors",
                 "parents": [
                  "Special materials",
                  "Electronics",
                  "composite material",
                  "graphitic carbon",
                  "carbon"
                 ],
                 "prob": 1.11085045337677,
                 "topic": "superconductors"
                }
               ],
               "loc_topic": "Fuel",
               "orig_topic": "carbon",
               "parents": [
                "Special materials",
                "Electronics",
                "composite material",
                "graphitic carbon"
               ],
               "prob": 1.0821205377578735,
               "topic": "carbon"
              },
              {
               "children": [
                {
                 "loc_topic": "Special materials",
                 "orig_topic": "graphite",
                 "parents": [
                  "Special materials",
                  "Electronics",
                  "composite material",
                  "graphitic carbon",
                  "graphene"
                 ],
                 "prob": 0.9527720212936401,
                 "topic": "graphite"
                },
                {
                 "loc_topic": "Ceramics",
                 "orig_topic": "zirconia",
                 "parents": [
                  "Special materials",
                  "Electronics",
                  "composite material",
                  "graphitic carbon",
                  "graphene"
                 ],
                 "prob": 1.0950562953948975,
                 "topic": "zirconia"
                }
               ],
               "loc_topic": "Special materials",
               "orig_topic": "graphene",
               "parents": [
                "Special materials",
                "Electronics",
                "composite material",
                "graphitic carbon"
               ],
               "prob": 1.1149693727493286,
               "topic": "graphene"
              }
             ],
             "loc_topic": "Organic chemistry",
             "orig_topic": "graphitic carbon",
             "parents": [
              "Special materials",
              "Electronics",
              "composite material"
             ],
             "prob": 1.1357110738754272,
             "topic": "graphitic carbon"
            },
            {
             "children": [
              {
               "children": [
                {
                 "children": [
                  {
                   "loc_topic": "Materials of engineering and construction. Mechanics of materials",
                   "orig_topic": "material construction",
                   "parents": [
                    "Special materials",
                    "Electronics",
                    "composite material",
                    "Materials of engineering and construction. Mechanics of materials",
                    "materials",
                    "structural material"
                   ],
                   "prob": 0.5164793133735657,
                   "topic": "material construction"
                  }
                 ],
                 "loc_topic": "Materials of engineering and construction. Mechanics of materials",
                 "orig_topic": "structural material",
                 "parents": [
                  "Special materials",
                  "Electronics",
                  "composite material",
                  "Materials of engineering and construction. Mechanics of materials",
                  "materials"
                 ],
                 "prob": 0.6603452563285828,
                 "topic": "structural material"
                },
                {
                 "loc_topic": "Special materials",
                 "orig_topic": "synthetic materials",
                 "parents": [
                  "Special materials",
                  "Electronics",
                  "composite material",
                  "Materials of engineering and construction. Mechanics of materials",
                  "materials"
                 ],
                 "prob": 0.6397426724433899,
                 "topic": "synthetic materials"
                }
               ],
               "loc_topic": "Special materials",
               "orig_topic": "materials",
               "parents": [
                "Special materials",
                "Electronics",
                "composite material",
                "Materials of engineering and construction. Mechanics of materials"
               ],
               "prob": 0.4872400164604187,
               "topic": "materials"
              },
              {
               "loc_topic": "Materials of engineering and construction. Mechanics of materials",
               "orig_topic": "plastic deformation",
               "parents": [
                "Special materials",
                "Electronics",
                "composite material",
                "Materials of engineering and construction. Mechanics of materials"
               ],
               "prob": 1.139423131942749,
               "topic": "plastic deformation"
              }
             ],
             "loc_topic": "Materials of engineering and construction. Mechanics of materials",
             "orig_topic": "materials science",
             "parents": [
              "Special materials",
              "Electronics",
              "composite material"
             ],
             "prob": 0.5465463995933533,
             "topic": "Materials of engineering and construction. Mechanics of materials"
            },
            {
             "children": [
              {
               "loc_topic": "Metalwork",
               "orig_topic": "metal matrix",
               "parents": [
                "Special materials",
                "Electronics",
                "composite material",
                "matrix composite"
               ],
               "prob": 1.0915621519088745,
               "topic": "metal matrix"
              }
             ],
             "loc_topic": "Transparencies. Diapositives",
             "orig_topic": "matrix composite",
             "parents": [
              "Special materials",
              "Electronics",
              "composite material"
             ],
             "prob": 1.4921324253082275,
             "topic": "matrix composite"
            },
            {
             "children": [
              {
               "loc_topic": "Industrial electrochemistry",
               "orig_topic": "galvanic corrosion",
               "parents": [
                "Special materials",
                "Electronics",
                "composite material",
                "metal corrosion"
               ],
               "prob": 1.1126948595046997,
               "topic": "galvanic corrosion"
              },
              {
               "children": [
                {
                 "loc_topic": "Special materials",
                 "orig_topic": "aluminium based",
                 "parents": [
                  "Special materials",
                  "Electronics",
                  "composite material",
                  "metal corrosion",
                  "Metallurgy"
                 ],
                 "prob": 0.8702083230018616,
                 "topic": "aluminium based"
                },
                {
                 "loc_topic": "Metallurgy",
                 "orig_topic": "austenitic stainless",
                 "parents": [
                  "Special materials",
                  "Electronics",
                  "composite material",
                  "metal corrosion",
                  "Metallurgy"
                 ],
                 "prob": 1.0146547555923462,
                 "topic": "austenitic stainless"
                },
                {
                 "children": [
                  {
                   "children": [
                    {
                     "loc_topic": "Metalwork",
                     "orig_topic": "steel structures",
                     "parents": [
                      "Special materials",
                      "Electronics",
                      "composite material",
                      "metal corrosion",
                      "Metallurgy",
                      "steel",
                      "strength steel"
                     ],
                     "prob": 0.8071135878562927,
                     "topic": "steel structures"
                    }
                   ],
                   "loc_topic": "Metallurgy",
                   "orig_topic": "strength steel",
                   "parents": [
                    "Special materials",
                    "Electronics",
                    "composite material",
                    "metal corrosion",
                    "Metallurgy",
                    "steel"
                   ],
                   "prob": 1.024266004562378,
                   "topic": "strength steel"
                  }
                 ],
                 "loc_topic": "Metalwork",
                 "orig_topic": "steel",
                 "parents": [
                  "Special materials",
                  "Electronics",
                  "composite material",
                  "metal corrosion",
                  "Metallurgy"
                 ],
                 "prob": 0.6617957949638367,
                 "topic": "steel"
                },
                {
                 "loc_topic": "Tiranë",
                 "orig_topic": "titanium",
                 "parents": [
                  "Special materials",
                  "Electronics",
                  "composite material",
                  "metal corrosion",
                  "Metallurgy"
                 ],
                 "prob": 0.7965515851974487,
                 "topic": "titanium"
                },
                {
                 "children": [
                  {
                   "loc_topic": "Metalwork",
                   "orig_topic": "metals",
                   "parents": [
                    "Special materials",
                    "Electronics",
                    "composite material",
                    "metal corrosion",
                    "Metallurgy",
                    "transition metal"
                   ],
                   "prob": 0.5594424605369568,
                   "topic": "Metalwork"
                  }
                 ],
                 "loc_topic": "Inorganic chemistry",
                 "orig_topic": "transition metal",
                 "parents": [
                  "Special materials",
                  "Electronics",
                  "composite material",
                  "metal corrosion",
                  "Metallurgy"
                 ],
                 "prob": 0.92910236120224,
                 "topic": "transition metal"
                }
               ],
               "loc_topic": "Metallurgy",
               "orig_topic": "metals alloys",
               "parents": [
                "Special materials",
                "Electronics",
                "composite material",
                "metal corrosion"
               ],
               "prob": 0.5393678545951843,
               "topic": "Metallurgy"
              }
             ],
             "loc_topic": "Metalwork",
             "orig_topic": "metal corrosion",
             "parents": [
              "Special materials",
              "Electronics",
              "composite material"
             ],
             "prob": 0.8439401388168335,
             "topic": "metal corrosion"
            },
            {
             "children": [
              {
               "children": [
                {
                 "loc_topic": "Paints, pigments, varnishes, etc.",
                 "orig_topic": "coatings",
                 "parents": [
                  "Special materials",
                  "Electronics",
                  "composite material",
                  "porous materials",
                  "coatings deposited"
                 ],
                 "prob": 0.7698380947113037,
                 "topic": "coatings"
                },
                {
                 "loc_topic": "Lithography",
                 "orig_topic": "layer deposition",
                 "parents": [
                  "Special materials",
                  "Electronics",
                  "composite material",
                  "porous materials",
                  "coatings deposited"
                 ],
                 "prob": 1.0927705764770508,
                 "topic": "layer deposition"
                },
                {
                 "loc_topic": "Aesthetics",
                 "orig_topic": "surface quality",
                 "parents": [
                  "Special materials",
                  "Electronics",
                  "composite material",
                  "porous materials",
                  "coatings deposited"
                 ],
                 "prob": 1.184739351272583,
                 "topic": "surface quality"
                }
               ],
               "loc_topic": "Metal engraving",
               "orig_topic": "coatings deposited",
               "parents": [
                "Special materials",
                "Electronics",
                "composite material",
                "porous materials"
               ],
               "prob": 1.0615533590316772,
               "topic": "coatings deposited"
              },
              {
               "loc_topic": "Seawater",
               "orig_topic": "membrane",
               "parents": [
                "Special materials",
                "Electronics",
                "composite material",
                "porous materials"
               ],
               "prob": 1.1368498802185059,
               "topic": "membrane"
              }
             ],
             "loc_topic": "Materials of engineering and construction. Mechanics of materials",
             "orig_topic": "porous materials",
             "parents": [
              "Special materials",
              "Electronics",
              "composite material"
             ],
             "prob": 0.9596650004386902,
             "topic": "porous materials"
            },
            {
             "loc_topic": "Ceramics",
             "orig_topic": "resin",
             "parents": [
              "Special materials",
              "Electronics",
              "composite material"
             ],
             "prob": 0.8608546257019043,
             "topic": "resin"
            },
            {
             "children": [
              {
               "loc_topic": "Ceramics",
               "orig_topic": "carbide based",
               "parents": [
                "Special materials",
                "Electronics",
                "composite material",
                "silicon carbide"
               ],
               "prob": 0.9962008595466614,
               "topic": "carbide based"
              },
              {
               "loc_topic": "Oils, fats, and waxes",
               "orig_topic": "solid lubrication",
               "parents": [
                "Special materials",
                "Electronics",
                "composite material",
                "silicon carbide"
               ],
               "prob": 1.1358619928359985,
               "topic": "solid lubrication"
              }
             ],
             "loc_topic": "Ceramics",
             "orig_topic": "silicon carbide",
             "parents": [
              "Special materials",
              "Electronics",
              "composite material"
             ],
             "prob": 0.9286115765571594,
             "topic": "silicon carbide"
            },
            {
             "loc_topic": "Special materials",
             "orig_topic": "various biomaterials",
             "parents": [
              "Special materials",
              "Electronics",
              "composite material"
             ],
             "prob": 0.9072348475456238,
             "topic": "various biomaterials"
            }
           ],
           "loc_topic": "Special materials",
           "orig_topic": "composite material",
           "parents": [
            "Special materials",
            "Electronics"
           ],
           "prob": 0.8500809073448181,
           "topic": "composite material"
          },
          {
           "children": [
            {
             "loc_topic": "Environmental pollution",
             "orig_topic": "aerosol",
             "parents": [
              "Special materials",
              "Electronics",
              "energy devices"
             ],
             "prob": 1.0288152694702148,
             "topic": "aerosol"
            },
            {
             "children": [
              {
               "children": [
                {
                 "loc_topic": "Machine construction (General)",
                 "orig_topic": "aircraft constructions",
                 "parents": [
                  "Special materials",
                  "Electronics",
                  "energy devices",
                  "industrial application",
                  "aircraft structures"
                 ],
                 "prob": 0.8233591914176941,
                 "topic": "aircraft constructions"
                }
               ],
               "loc_topic": "Structural engineering (General)",
               "orig_topic": "aircraft structures",
               "parents": [
                "Special materials",
                "Electronics",
                "energy devices",
                "industrial application"
               ],
               "prob": 0.8209965825080872,
               "topic": "aircraft structures"
              },
              {
               "children": [
                {
                 "loc_topic": "Turbines. Turbomachines (General)",
                 "orig_topic": "turbine blade",
                 "parents": [
                  "Special materials",
                  "Electronics",
                  "energy devices",
                  "industrial application",
                  "wind turbine"
                 ],
                 "prob": 0.5834641456604004,
                 "topic": "turbine blade"
                }
               ],
               "loc_topic": "Turbines. Turbomachines (General)",
               "orig_topic": "wind turbine",
               "parents": [
                "Special materials",
                "Electronics",
                "energy devices",
                "industrial application"
               ],
               "prob": 0.6120696067810059,
               "topic": "wind turbine"
              }
             ],
             "loc_topic": "Chemical industries",
             "orig_topic": "industrial application",
             "parents": [
              "Special materials",
              "Electronics",
              "energy devices"
             ],
             "prob": 0.8353409171104431,
             "topic": "industrial application"
            },
            {
             "children": [
              {
               "children": [
                {
                 "loc_topic": "Electricity",
                 "orig_topic": "battery",
                 "parents": [
                  "Special materials",
                  "Electronics",
                  "energy devices",
                  "solar cell",
                  "batteries libs"
                 ],
                 "prob": 0.8117097020149231,
                 "topic": "battery"
                },
                {
                 "children": [
                  {
                   "loc_topic": "Power resources",
                   "orig_topic": "power devices",
                   "parents": [
                    "Special materials",
                    "Electronics",
                    "energy devices",
                    "solar cell",
                    "batteries libs",
                    "high voltage"
                   ],
                   "prob": 0.7582086324691772,
                   "topic": "power devices"
                  }
                 ],
                 "loc_topic": "Electricity",
                 "orig_topic": "high voltage",
                 "parents": [
                  "Special materials",
                  "Electronics",
                  "energy devices",
                  "solar cell",
                  "batteries libs"
                 ],
                 "prob": 0.7719230651855469,
                 "topic": "high voltage"
                },
                {
                 "children": [
                  {
                   "loc_topic": "Electric discharge",
                   "orig_topic": "based rechargeable",
                   "parents": [
                    "Special materials",
                    "Electronics",
                    "energy devices",
                    "solar cell",
                    "batteries libs",
                    "rechargeable battery"
                   ],
                   "prob": 1.2769920825958252,
                   "topic": "based rechargeable"
                  }
                 ],
                 "loc_topic": "Electricity",
                 "orig_topic": "rechargeable battery",
                 "parents": [
                  "Special materials",
                  "Electronics",
                  "energy devices",
                  "solar cell",
                  "batteries libs"
                 ],
                 "prob": 1.266175389289856,
                 "topic": "rechargeable battery"
                }
               ],
               "loc_topic": "Electricity",
               "orig_topic": "batteries libs",
               "parents": [
                "Special materials",
                "Electronics",
                "energy devices",
                "solar cell"
               ],
               "prob": 0.9304384589195251,
               "topic": "batteries libs"
              },
              {
               "children": [
                {
                 "children": [
                  {
                   "loc_topic": "Electricity",
                   "orig_topic": "electric energy",
                   "parents": [
                    "Special materials",
                    "Electronics",
                    "energy devices",
                    "solar cell",
                    "Renewable energy sources",
                    "energy storage"
                   ],
                   "prob": 0.436237633228302,
                   "topic": "Electricity"
                  },
                  {
                   "loc_topic": "Applications of electric power",
                   "orig_topic": "electric vehicles",
                   "parents": [
                    "Special materials",
                    "Electronics",
                    "energy devices",
                    "solar cell",
                    "Renewable energy sources",
                    "energy storage"
                   ],
                   "prob": 0.8640334606170654,
                   "topic": "electric vehicles"
                  },
                  {
                   "loc_topic": "Energy conservation",
                   "orig_topic": "energy consumption",
                   "parents": [
                    "Special materials",
                    "Electronics",
                    "energy devices",
                    "solar cell",
                    "Renewable energy sources",
                    "energy storage"
                   ],
                   "prob": 0.7920197248458862,
                   "topic": "energy consumption"
                  },
                  {
                   "loc_topic": "Renewable energy sources",
                   "orig_topic": "renewable energy",
                   "parents": [
                    "Special materials",
                    "Electronics",
                    "energy devices",
                    "solar cell",
                    "Renewable energy sources",
                    "energy storage"
                   ],
                   "prob": 0.2324257493019104,
                   "topic": "renewable energy"
                  }
                 ],
                 "loc_topic": "Power resources",
                 "orig_topic": "energy storage",
                 "parents": [
                  "Special materials",
                  "Electronics",
                  "energy devices",
                  "solar cell",
                  "Renewable energy sources"
                 ],
                 "prob": 0.8312729001045227,
                 "topic": "energy storage"
                },
                {
                 "loc_topic": "Renewable energy sources",
                 "orig_topic": "photovoltaic",
                 "parents": [
                  "Special materials",
                  "Electronics",
                  "energy devices",
                  "solar cell",
                  "Renewable energy sources"
                 ],
                 "prob": 0.7802517414093018,
                 "topic": "photovoltaic"
                }
               ],
               "loc_topic": "Renewable energy sources",
               "orig_topic": "solar energy",
               "parents": [
                "Special materials",
                "Electronics",
                "energy devices",
                "solar cell"
               ],
               "prob": 0.5150365829467773,
               "topic": "Renewable energy sources"
              }
             ],
             "loc_topic": "Photoelectronic devices (General)",
             "orig_topic": "solar cell",
             "parents": [
              "Special materials",
              "Electronics",
              "energy devices"
             ],
             "prob": 0.934208333492279,
             "topic": "solar cell"
            },
            {
             "children": [
              {
               "children": [
                {
                 "children": [
                  {
                   "children": [
                    {
                     "loc_topic": "Inorganic chemistry",
                     "orig_topic": "oxidation processes",
                     "parents": [
                      "Special materials",
                      "Electronics",
                      "energy devices",
                      "thermal energy",
                      "hydrogen generation",
                      "catalysts based",
                      "advanced oxidation"
                     ],
                     "prob": 1.0351886749267578,
                     "topic": "oxidation processes"
                    }
                   ],
                   "loc_topic": "Inorganic chemistry",
                   "orig_topic": "advanced oxidation",
                   "parents": [
                    "Special materials",
                    "Electronics",
                    "energy devices",
                    "thermal energy",
                    "hydrogen generation",
                    "catalysts based"
                   ],
                   "prob": 1.0453364849090576,
                   "topic": "advanced oxidation"
                  },
                  {
                   "loc_topic": "Chemical technology",
                   "orig_topic": "catalytic performance",
                   "parents": [
                    "Special materials",
                    "Electronics",
                    "energy devices",
                    "thermal energy",
                    "hydrogen generation",
                    "catalysts based"
                   ],
                   "prob": 1.174602746963501,
                   "topic": "catalytic performance"
                  }
                 ],
                 "loc_topic": "Chemical technology",
                 "orig_topic": "catalysts based",
                 "parents": [
                  "Special materials",
                  "Electronics",
                  "energy devices",
                  "thermal energy",
                  "hydrogen generation"
                 ],
                 "prob": 0.8600309491157532,
                 "topic": "catalysts based"
                },
                {
                 "children": [
                  {
                   "children": [
                    {
                     "children": [
                      {
                       "loc_topic": "Explosives and pyrotechnics",
                       "orig_topic": "propellants combustion",
                       "parents": [
                        "Special materials",
                        "Electronics",
                        "energy devices",
                        "thermal energy",
                        "hydrogen generation",
                        "derived fuel",
                        "combustion technology",
                        "flame retardant"
                       ],
                       "prob": 0.8087834119796753,
                       "topic": "propellants combustion"
                      }
                     ],
                     "loc_topic": "Explosives and pyrotechnics",
                     "orig_topic": "flame retardant",
                     "parents": [
                      "Special materials",
                      "Electronics",
                      "energy devices",
                      "thermal energy",
                      "hydrogen generation",
                      "derived fuel",
                      "combustion technology"
                     ],
                     "prob": 0.9542631506919861,
                     "topic": "flame retardant"
                    }
                   ],
                   "loc_topic": "Heat engines",
                   "orig_topic": "combustion technology",
                   "parents": [
                    "Special materials",
                    "Electronics",
                    "energy devices",
                    "thermal energy",
                    "hydrogen generation",
                    "derived fuel"
                   ],
                   "prob": 0.8287742733955383,
                   "topic": "combustion technology"
                  },
                  {
                   "loc_topic": "Miscellaneous motors and engines ⁠Including gas, gasoline, diesel engines",
                   "orig_topic": "diesel engine",
                   "parents": [
                    "Special materials",
                    "Electronics",
                    "energy devices",
                    "thermal energy",
                    "hydrogen generation",
                    "derived fuel"
                   ],
                   "prob": 0.8750321865081787,
                   "topic": "diesel engine"
                  },
                  {
                   "children": [
                    {
                     "loc_topic": "Petroleum refining. Petroleum products",
                     "orig_topic": "biodiesel production",
                     "parents": [
                      "Special materials",
                      "Electronics",
                      "energy devices",
                      "thermal energy",
                      "hydrogen generation",
                      "derived fuel",
                      "fuel cell"
                     ],
                     "prob": 1.0917617082595825,
                     "topic": "biodiesel production"
                    },
                    {
                     "loc_topic": "Fuel",
                     "orig_topic": "diesel fuel",
                     "parents": [
                      "Special materials",
                      "Electronics",
                      "energy devices",
                      "thermal energy",
                      "hydrogen generation",
                      "derived fuel",
                      "fuel cell"
                     ],
                     "prob": 0.5154459476470947,
                     "topic": "Fuel"
                    },
                    {
                     "loc_topic": "Fuel",
                     "orig_topic": "oxide fuel",
                     "parents": [
                      "Special materials",
                      "Electronics",
                      "energy devices",
                      "thermal energy",
                      "hydrogen generation",
                      "derived fuel",
                      "fuel cell"
                     ],
                     "prob": 0.7622451186180115,
                     "topic": "oxide fuel"
                    }
                   ],
                   "loc_topic": "Fuel",
                   "orig_topic": "fuel cell",
                   "parents": [
                    "Special materials",
                    "Electronics",
                    "energy devices",
                    "thermal energy",
                    "hydrogen generation",
                    "derived fuel"
                   ],
                   "prob": 0.745452344417572,
                   "topic": "fuel cell"
                  }
                 ],
                 "loc_topic": "Fuel",
                 "orig_topic": "derived fuel",
                 "parents": [
                  "Special materials",
                  "Electronics",
                  "energy devices",
                  "thermal energy",
                  "hydrogen generation"
                 ],
                 "prob": 0.7237424254417419,
                 "topic": "derived fuel"
                },
                {
                 "children": [
                  {
                   "loc_topic": "Organic chemistry",
                   "orig_topic": "hydrogenated carbon",
                   "parents": [
                    "Special materials",
                    "Electronics",
                    "energy devices",
                    "thermal energy",
                    "hydrogen generation",
                    "hydrogen"
                   ],
                   "prob": 1.1528111696243286,
                   "topic": "hydrogenated carbon"
                  }
                 ],
                 "loc_topic": "Fuel",
                 "orig_topic": "hydrogen",
                 "parents": [
                  "Special materials",
                  "Electronics",
                  "energy devices",
                  "thermal energy",
                  "hydrogen generation"
                 ],
                 "prob": 0.8918414115905762,
                 "topic": "hydrogen"
                },
                {
                 "children": [
                  {
                   "loc_topic": "Metallurgy",
                   "orig_topic": "blast furnace",
                   "parents": [
                    "Special materials",
                    "Electronics",
                    "energy devices",
                    "thermal energy",
                    "hydrogen generation",
                    "nuclear reactor"
                   ],
                   "prob": 1.0186253786087036,
                   "topic": "blast furnace"
                  },
                  {
                   "children": [
                    {
                     "loc_topic": "Chemotherapy",
                     "orig_topic": "radiation therapy",
                     "parents": [
                      "Special materials",
                      "Electronics",
                      "energy devices",
                      "thermal energy",
                      "hydrogen generation",
                      "nuclear reactor",
                      "neutron science"
                     ],
                     "prob": 0.7074013352394104,
                     "topic": "radiation therapy"
                    }
                   ],
                   "loc_topic": "Nuclear and particle physics. Atomic energy. Radioactivity",
                   "orig_topic": "neutron science",
                   "parents": [
                    "Special materials",
                    "Electronics",
                    "energy devices",
                    "thermal energy",
                    "hydrogen generation",
                    "nuclear reactor"
                   ],
                   "prob": 0.7648709416389465,
                   "topic": "neutron science"
                  },
                  {
                   "loc_topic": "Fuel",
                   "orig_topic": "nuclear fuel",
                   "parents": [
                    "Special materials",
                    "Electronics",
                    "energy devices",
                    "thermal energy",
                    "hydrogen generation",
                    "nuclear reactor"
                   ],
                   "prob": 0.6225215792655945,
                   "topic": "nuclear fuel"
                  },
                  {
                   "loc_topic": "Fuel",
                   "orig_topic": "reactor",
                   "parents": [
                    "Special materials",
                    "Electronics",
                    "energy devices",
                    "thermal energy",
                    "hydrogen generation",
                    "nuclear reactor"
                   ],
                   "prob": 1.043330430984497,
                   "topic": "reactor"
                  }
                 ],
                 "loc_topic": "Nuclear engineering. Atomic power",
                 "orig_topic": "nuclear reactor",
                 "parents": [
                  "Special materials",
                  "Electronics",
                  "energy devices",
                  "thermal energy",
                  "hydrogen generation"
                 ],
                 "prob": 0.7495526671409607,
                 "topic": "nuclear reactor"
                }
               ],
               "loc_topic": "Production of electricity by direct energy conversion",
               "orig_topic": "hydrogen generation",
               "parents": [
                "Special materials",
                "Electronics",
                "energy devices",
                "thermal energy"
               ],
               "prob": 0.9496167898178101,
               "topic": "hydrogen generation"
              },
              {
               "children": [
                {
                 "loc_topic": "Icebreaking operations",
                 "orig_topic": "cryogenic",
                 "parents": [
                  "Special materials",
                  "Electronics",
                  "energy devices",
                  "thermal energy",
                  "thermoelectric"
                 ],
                 "prob": 1.0389988422393799,
                 "topic": "cryogenic"
                },
                {
                 "children": [
                  {
                   "loc_topic": "Electrical engineering. Electronics. Nuclear engineering",
                   "orig_topic": "developments microwave",
                   "parents": [
                    "Special materials",
                    "Electronics",
                    "energy devices",
                    "thermal energy",
                    "thermoelectric",
                    "microwave"
                   ],
                   "prob": 1.1369497776031494,
                   "topic": "developments microwave"
                  },
                  {
                   "loc_topic": "Electricity",
                   "orig_topic": "plasma",
                   "parents": [
                    "Special materials",
                    "Electronics",
                    "energy devices",
                    "thermal energy",
                    "thermoelectric",
                    "microwave"
                   ],
                   "prob": 0.858832061290741,
                   "topic": "plasma"
                  }
                 ],
                 "loc_topic": "Cooking",
                 "orig_topic": "microwave",
                 "parents": [
                  "Special materials",
                  "Electronics",
                  "energy devices",
                  "thermal energy",
                  "thermoelectric"
                 ],
                 "prob": 0.9561136364936829,
                 "topic": "microwave"
                },
                {
                 "children": [
                  {
                   "loc_topic": "Geology",
                   "orig_topic": "geothermal",
                   "parents": [
                    "Special materials",
                    "Electronics",
                    "energy devices",
                    "thermal energy",
                    "thermoelectric",
                    "photothermal therapy"
                   ],
                   "prob": 0.9602909088134766,
                   "topic": "geothermal"
                  }
                 ],
                 "loc_topic": "Photochemistry",
                 "orig_topic": "photothermal therapy",
                 "parents": [
                  "Special materials",
                  "Electronics",
                  "energy devices",
                  "thermal energy",
                  "thermoelectric"
                 ],
                 "prob": 1.0666056871414185,
                 "topic": "photothermal therapy"
                },
                {
                 "children": [
                  {
                   "loc_topic": "Protection of buildings ⁠Including protection from dampness, fire, burglary",
                   "orig_topic": "insulation",
                   "parents": [
                    "Special materials",
                    "Electronics",
                    "energy devices",
                    "thermal energy",
                    "thermoelectric",
                    "thermal properties"
                   ],
                   "prob": 0.9835631251335144,
                   "topic": "insulation"
                  },
                  {
                   "loc_topic": "Temperature",
                   "orig_topic": "temperature applications",
                   "parents": [
                    "Special materials",
                    "Electronics",
                    "energy devices",
                    "thermal energy",
                    "thermoelectric",
                    "thermal properties"
                   ],
                   "prob": 0.7976014614105225,
                   "topic": "temperature applications"
                  },
                  {
                   "loc_topic": "Electric heating",
                   "orig_topic": "thermal conductivity",
                   "parents": [
                    "Special materials",
                    "Electronics",
                    "energy devices",
                    "thermal energy",
                    "thermoelectric",
                    "thermal properties"
                   ],
                   "prob": 1.08926260471344,
                   "topic": "thermal conductivity"
                  },
                  {
                   "children": [
                    {
                     "loc_topic": "Safety measures",
                     "orig_topic": "thermal protection",
                     "parents": [
                      "Special materials",
                      "Electronics",
                      "energy devices",
                      "thermal energy",
                      "thermoelectric",
                      "thermal properties",
                      "thermal stability"
                     ],
                     "prob": 1.109249472618103,
                     "topic": "thermal protection"
                    }
                   ],
                   "loc_topic": "Temperature",
                   "orig_topic": "thermal stability",
                   "parents": [
                    "Special materials",
                    "Electronics",
                    "energy devices",
                    "thermal energy",
                    "thermoelectric",
                    "thermal properties"
                   ],
                   "prob": 1.0918318033218384,
                   "topic": "thermal stability"
                  }
                 ],
                 "loc_topic": "Temperature",
                 "orig_topic": "thermal properties",
                 "parents": [
                  "Special materials",
                  "Electronics",
                  "energy devices",
                  "thermal energy",
                  "thermoelectric"
                 ],
                 "prob": 0.9807307720184326,
                 "topic": "thermal properties"
                },
                {
                 "children": [
                  {
                   "loc_topic": "Thermodynamics",
                   "orig_topic": "thermosets",
                   "parents": [
                    "Special materials",
                    "Electronics",
                    "energy devices",
                    "thermal energy",
                    "thermoelectric",
                    "thermoplastics"
                   ],
                   "prob": 0.9112401008605957,
                   "topic": "thermosets"
                  }
                 ],
                 "loc_topic": "Materials of engineering and construction. Mechanics of materials",
                 "orig_topic": "thermoplastics",
                 "parents": [
                  "Special materials",
                  "Electronics",
                  "energy devices",
                  "thermal energy",
                  "thermoelectric"
                 ],
                 "prob": 0.9130556583404541,
                 "topic": "thermoplastics"
                }
               ],
               "loc_topic": "Electric heating",
               "orig_topic": "thermoelectric",
               "parents": [
                "Special materials",
                "Electronics",
                "energy devices",
                "thermal energy"
               ],
               "prob": 0.8874080181121826,
               "topic": "thermoelectric"
              }
             ],
             "loc_topic": "Energy conservation",
             "orig_topic": "thermal energy",
             "parents": [
              "Special materials",
              "Electronics",
              "energy devices"
             ],
             "prob": 0.6615983247756958,
             "topic": "thermal energy"
            }
           ],
           "loc_topic": "Power resources",
           "orig_topic": "energy devices",
           "parents": [
            "Special materials",
            "Electronics"
           ],
           "prob": 0.7426226735115051,
           "topic": "energy devices"
          },
          {
           "children": [
            {
             "children": [
              {
               "loc_topic": "Inorganic chemistry",
               "orig_topic": "redox",
               "parents": [
                "Special materials",
                "Electronics",
                "epoxy based",
                "redox chemistry"
               ],
               "prob": 1.1423909664154053,
               "topic": "redox"
              },
              {
               "loc_topic": "Hydrometeorology",
               "orig_topic": "rheological properties",
               "parents": [
                "Special materials",
                "Electronics",
                "epoxy based",
                "redox chemistry"
               ],
               "prob": 1.1289478540420532,
               "topic": "rheological properties"
              }
             ],
             "loc_topic": "Inorganic chemistry",
             "orig_topic": "redox chemistry",
             "parents": [
              "Special materials",
              "Electronics",
              "epoxy based"
             ],
             "prob": 0.821384847164154,
             "topic": "redox chemistry"
            }
           ],
           "loc_topic": "Special materials",
           "orig_topic": "epoxy based",
           "parents": [
            "Special materials",
            "Electronics"
           ],
           "prob": 0.885424017906189,
           "topic": "epoxy based"
          },
          {
           "children": [
            {
             "children": [
              {
               "loc_topic": "Transportation",
               "orig_topic": "bearings",
               "parents": [
                "Special materials",
                "Electronics",
                "magnetic properties",
                "ball bearings"
               ],
               "prob": 1.1880401372909546,
               "topic": "bearings"
              }
             ],
             "loc_topic": "Rubber industry",
             "orig_topic": "ball bearings",
             "parents": [
              "Special materials",
              "Electronics",
              "magnetic properties"
             ],
             "prob": 1.2005305290222168,
             "topic": "ball bearings"
            },
            {
             "children": [
              {
               "loc_topic": "Geomagnetism",
               "orig_topic": "ferromagnetic layers",
               "parents": [
                "Special materials",
                "Electronics",
                "magnetic properties",
                "ferroelectric"
               ],
               "prob": 1.006978154182434,
               "topic": "ferromagnetic layers"
              }
             ],
             "loc_topic": "Industrial electrochemistry",
             "orig_topic": "ferroelectric",
             "parents": [
              "Special materials",
              "Electronics",
              "magnetic properties"
             ],
             "prob": 1.2093966007232666,
             "topic": "ferroelectric"
            },
            {
             "children": [
              {
               "loc_topic": "Magnetism",
               "orig_topic": "magnetorheological",
               "parents": [
                "Special materials",
                "Electronics",
                "magnetic properties",
                "magnetoresistance"
               ],
               "prob": 0.5685068964958191,
               "topic": "Magnetism"
              }
             ],
             "loc_topic": "Magnetism",
             "orig_topic": "magnetoresistance",
             "parents": [
              "Special materials",
              "Electronics",
              "magnetic properties"
             ],
             "prob": 0.6851934790611267,
             "topic": "magnetoresistance"
            }
           ],
           "loc_topic": "Magnetism",
           "orig_topic": "magnetic properties",
           "parents": [
            "Special materials",
            "Electronics"
           ],
           "prob": 0.6417719125747681,
           "topic": "magnetic properties"
          },
          {
           "children": [
            {
             "children": [
              {
               "loc_topic": "Industrial electrochemistry",
               "orig_topic": "cathode material",
               "parents": [
                "Special materials",
                "Electronics",
                "material lithium",
                "electrochemical"
               ],
               "prob": 1.1828142404556274,
               "topic": "cathode material"
              },
              {
               "children": [
                {
                 "loc_topic": "Industrial electrochemistry",
                 "orig_topic": "electrochromic materials",
                 "parents": [
                  "Special materials",
                  "Electronics",
                  "material lithium",
                  "electrochemical",
                  "electrode material"
                 ],
                 "prob": 1.0464226007461548,
                 "topic": "electrochromic materials"
                }
               ],
               "loc_topic": "Industrial electrochemistry",
               "orig_topic": "electrode material",
               "parents": [
                "Special materials",
                "Electronics",
                "material lithium",
                "electrochemical"
               ],
               "prob": 0.8063231706619263,
               "topic": "electrode material"
              },
              {
               "children": [
                {
                 "loc_topic": "Electricity",
                 "orig_topic": "electrolytes",
                 "parents": [
                  "Special materials",
                  "Electronics",
                  "material lithium",
                  "electrochemical",
                  "solid electrolyte"
                 ],
                 "prob": 0.9464920163154602,
                 "topic": "electrolytes"
                }
               ],
               "loc_topic": "Industrial electrochemistry",
               "orig_topic": "solid electrolyte",
               "parents": [
                "Special materials",
                "Electronics",
                "material lithium",
                "electrochemical"
               ],
               "prob": 1.0760689973831177,
               "topic": "solid electrolyte"
              }
             ],
             "loc_topic": "Industrial electrochemistry",
             "orig_topic": "electrochemical",
             "parents": [
              "Special materials",
              "Electronics",
              "material lithium"
             ],
             "prob": 0.6521329283714294,
             "topic": "electrochemical"
            },
            {
             "loc_topic": "Electricity",
             "orig_topic": "lithium batteries",
             "parents": [
              "Special materials",
              "Electronics",
              "material lithium"
             ],
             "prob": 0.9490323662757874,
             "topic": "lithium batteries"
            }
           ],
           "loc_topic": "Special materials",
           "orig_topic": "material lithium",
           "parents": [
            "Special materials",
            "Electronics"
           ],
           "prob": 1.0519981384277344,
           "topic": "material lithium"
          },
          {
           "children": [
            {
             "children": [
              {
               "children": [
                {
                 "loc_topic": "Microscopy",
                 "orig_topic": "nanometer",
                 "parents": [
                  "Special materials",
                  "Electronics",
                  "nano semiconductors",
                  "nanotube",
                  "microelectronics"
                 ],
                 "prob": 1.1925753355026245,
                 "topic": "nanometer"
                }
               ],
               "loc_topic": "Electronics",
               "orig_topic": "microelectronics",
               "parents": [
                "Special materials",
                "Electronics",
                "nano semiconductors",
                "nanotube"
               ],
               "prob": 0.7179403901100159,
               "topic": "microelectronics"
              },
              {
               "loc_topic": "Hydrometeorology",
               "orig_topic": "microfluid",
               "parents": [
                "Special materials",
                "Electronics",
                "nano semiconductors",
                "nanotube"
               ],
               "prob": 1.264180064201355,
               "topic": "microfluid"
              },
              {
               "children": [
                {
                 "loc_topic": "Magnetism",
                 "orig_topic": "magnetic nanoparticles",
                 "parents": [
                  "Special materials",
                  "Electronics",
                  "nano semiconductors",
                  "nanotube",
                  "nanoparticles based"
                 ],
                 "prob": 1.0407322645187378,
                 "topic": "magnetic nanoparticles"
                },
                {
                 "loc_topic": "Atomic physics. Constitution and properties of matter ⁠Including molecular physics, relativity, quantum theory, and solid state physics",
                 "orig_topic": "nanostructures",
                 "parents": [
                  "Special materials",
                  "Electronics",
                  "nano semiconductors",
                  "nanotube",
                  "nanoparticles based"
                 ],
                 "prob": 1.0349249839782715,
                 "topic": "nanostructures"
                }
               ],
               "loc_topic": "Special materials",
               "orig_topic": "nanoparticles based",
               "parents": [
                "Special materials",
                "Electronics",
                "nano semiconductors",
                "nanotube"
               ],
               "prob": 1.2673957347869873,
               "topic": "nanoparticles based"
              },
              {
               "loc_topic": "Electricity",
               "orig_topic": "nanowires",
               "parents": [
                "Special materials",
                "Electronics",
                "nano semiconductors",
                "nanotube"
               ],
               "prob": 1.0769144296646118,
               "topic": "nanowires"
              },
              {
               "loc_topic": "Crystallography",
               "orig_topic": "polycrystalline",
               "parents": [
                "Special materials",
                "Electronics",
                "nano semiconductors",
                "nanotube"
               ],
               "prob": 0.9689626693725586,
               "topic": "polycrystalline"
              }
             ],
             "loc_topic": "Special materials",
             "orig_topic": "nanotube",
             "parents": [
              "Special materials",
              "Electronics",
              "nano semiconductors"
             ],
             "prob": 1.2030003070831299,
             "topic": "nanotube"
            },
            {
             "children": [
              {
               "children": [
                {
                 "children": [
                  {
                   "children": [
                    {
                     "loc_topic": "Electronics",
                     "orig_topic": "oled",
                     "parents": [
                      "Special materials",
                      "Electronics",
                      "nano semiconductors",
                      "semiconductor material",
                      "dielectric",
                      "anode material",
                      "diode oled"
                     ],
                     "prob": 1.0477790832519531,
                     "topic": "oled"
                    }
                   ],
                   "loc_topic": "Illuminating industries (Nonelectric)",
                   "orig_topic": "diode oled",
                   "parents": [
                    "Special materials",
                    "Electronics",
                    "nano semiconductors",
                    "semiconductor material",
                    "dielectric",
                    "anode material"
                   ],
                   "prob": 1.3090777397155762,
                   "topic": "diode oled"
                  }
                 ],
                 "loc_topic": "Illuminating industries (Nonelectric)",
                 "orig_topic": "anode material",
                 "parents": [
                  "Special materials",
                  "Electronics",
                  "nano semiconductors",
                  "semiconductor material",
                  "dielectric"
                 ],
                 "prob": 1.135738492012024,
                 "topic": "anode material"
                },
                {
                 "children": [
                  {
                   "children": [
                    {
                     "children": [
                      {
                       "loc_topic": "Applications of electric power",
                       "orig_topic": "electronic applications",
                       "parents": [
                        "Special materials",
                        "Electronics",
                        "nano semiconductors",
                        "semiconductor material",
                        "dielectric",
                        "flexible electronic",
                        "electronic properties",
                        "electronic devices"
                       ],
                       "prob": 0.6370302438735962,
                       "topic": "electronic applications"
                      },
                      {
                       "loc_topic": "Electronics",
                       "orig_topic": "portable electronic",
                       "parents": [
                        "Special materials",
                        "Electronics",
                        "nano semiconductors",
                        "semiconductor material",
                        "dielectric",
                        "flexible electronic",
                        "electronic properties",
                        "electronic devices"
                       ],
                       "prob": 0.7766166925430298,
                       "topic": "portable electronic"
                      }
                     ],
                     "loc_topic": "Electronics",
                     "orig_topic": "electronic devices",
                     "parents": [
                      "Special materials",
                      "Electronics",
                      "nano semiconductors",
                      "semiconductor material",
                      "dielectric",
                      "flexible electronic",
                      "electronic properties"
                     ],
                     "prob": 0.3795927166938782,
                     "topic": "electronic devices"
                    },
                    {
                     "loc_topic": "Organic chemistry",
                     "orig_topic": "organic electronic",
                     "parents": [
                      "Special materials",
                      "Electronics",
                      "nano semiconductors",
                      "semiconductor material",
                      "dielectric",
                      "flexible electronic",
                      "electronic properties"
                     ],
                     "prob": 0.7564961910247803,
                     "topic": "organic electronic"
                    }
                   ],
                   "loc_topic": "Physical and theoretical chemistry",
                   "orig_topic": "electronic properties",
                   "parents": [
                    "Special materials",
                    "Electronics",
                    "nano semiconductors",
                    "semiconductor material",
                    "dielectric",
                    "flexible electronic"
                   ],
                   "prob": 0.8618036508560181,
                   "topic": "electronic properties"
                  }
                 ],
                 "loc_topic": "Electronics",
                 "orig_topic": "flexible electronic",
                 "parents": [
                  "Special materials",
                  "Electronics",
                  "nano semiconductors",
                  "semiconductor material",
                  "dielectric"
                 ],
                 "prob": 1.0119256973266602,
                 "topic": "flexible electronic"
                },
                {
                 "loc_topic": "Electromagnetic theory",
                 "orig_topic": "permittivity dielectric",
                 "parents": [
                  "Special materials",
                  "Electronics",
                  "nano semiconductors",
                  "semiconductor material",
                  "dielectric"
                 ],
                 "prob": 1.055800437927246,
                 "topic": "permittivity dielectric"
                },
                {
                 "children": [
                  {
                   "loc_topic": "Electricity",
                   "orig_topic": "pyroelectric",
                   "parents": [
                    "Special materials",
                    "Electronics",
                    "nano semiconductors",
                    "semiconductor material",
                    "dielectric",
                    "piezoelectric"
                   ],
                   "prob": 1.0054731369018555,
                   "topic": "pyroelectric"
                  }
                 ],
                 "loc_topic": "Electronics",
                 "orig_topic": "piezoelectric",
                 "parents": [
                  "Special materials",
                  "Electronics",
                  "nano semiconductors",
                  "semiconductor material",
                  "dielectric"
                 ],
                 "prob": 1.150783896446228,
                 "topic": "piezoelectric"
                }
               ],
               "loc_topic": "Electromagnetic theory",
               "orig_topic": "dielectric",
               "parents": [
                "Special materials",
                "Electronics",
                "nano semiconductors",
                "semiconductor material"
               ],
               "prob": 1.050698161125183,
               "topic": "dielectric"
              },
              {
               "children": [
                {
                 "children": [
                  {
                   "loc_topic": "Electronics",
                   "orig_topic": "integrated circuits",
                   "parents": [
                    "Special materials",
                    "Electronics",
                    "nano semiconductors",
                    "semiconductor material",
                    "oxide semiconductor",
                    "advanced semiconductor"
                   ],
                   "prob": 0.5674446225166321,
                   "topic": "integrated circuits"
                  },
                  {
                   "loc_topic": "Photoelectronic devices (General)",
                   "orig_topic": "metal semiconductor",
                   "parents": [
                    "Special materials",
                    "Electronics",
                    "nano semiconductors",
                    "semiconductor material",
                    "oxide semiconductor",
                    "advanced semiconductor"
                   ],
                   "prob": 0.9289810061454773,
                   "topic": "metal semiconductor"
                  },
                  {
                   "loc_topic": "Photoelectronic devices (General)",
                   "orig_topic": "mosfet technology",
                   "parents": [
                    "Special materials",
                    "Electronics",
                    "nano semiconductors",
                    "semiconductor material",
                    "oxide semiconductor",
                    "advanced semiconductor"
                   ],
                   "prob": 1.097282886505127,
                   "topic": "mosfet technology"
                  },
                  {
                   "loc_topic": "Organic chemistry",
                   "orig_topic": "organic semiconductor",
                   "parents": [
                    "Special materials",
                    "Electronics",
                    "nano semiconductors",
                    "semiconductor material",
                    "oxide semiconductor",
                    "advanced semiconductor"
                   ],
                   "prob": 0.8770412802696228,
                   "topic": "organic semiconductor"
                  },
                  {
                   "loc_topic": "Photoelectronic devices (General)",
                   "orig_topic": "semiconductors visible",
                   "parents": [
                    "Special materials",
                    "Electronics",
                    "nano semiconductors",
                    "semiconductor material",
                    "oxide semiconductor",
                    "advanced semiconductor"
                   ],
                   "prob": 1.084053635597229,
                   "topic": "semiconductors visible"
                  },
                  {
                   "children": [
                    {
                     "loc_topic": "Glass",
                     "orig_topic": "amorphous silicon",
                     "parents": [
                      "Special materials",
                      "Electronics",
                      "nano semiconductors",
                      "semiconductor material",
                      "oxide semiconductor",
                      "advanced semiconductor",
                      "silicon"
                     ],
                     "prob": 0.9748048782348633,
                     "topic": "amorphous silicon"
                    }
                   ],
                   "loc_topic": "Ceramics",
                   "orig_topic": "silicon",
                   "parents": [
                    "Special materials",
                    "Electronics",
                    "nano semiconductors",
                    "semiconductor material",
                    "oxide semiconductor",
                    "advanced semiconductor"
                   ],
                   "prob": 0.8764294385910034,
                   "topic": "silicon"
                  }
                 ],
                 "loc_topic": "Photoelectronic devices (General)",
                 "orig_topic": "advanced semiconductor",
                 "parents": [
                  "Special materials",
                  "Electronics",
                  "nano semiconductors",
                  "semiconductor material",
                  "oxide semiconductor"
                 ],
                 "prob": 0.9212943315505981,
                 "topic": "advanced semiconductor"
                },
                {
                 "children": [
                  {
                   "loc_topic": "Electric apparatus and materials. Electric circuits. Electric networks",
                   "orig_topic": "conductivity materials",
                   "parents": [
                    "Special materials",
                    "Electronics",
                    "nano semiconductors",
                    "semiconductor material",
                    "oxide semiconductor",
                    "conductivity oxide"
                   ],
                   "prob": 1.0177490711212158,
                   "topic": "conductivity materials"
                  },
                  {
                   "children": [
                    {
                     "children": [
                      {
                       "loc_topic": "Inorganic chemistry",
                       "orig_topic": "complex oxides",
                       "parents": [
                        "Special materials",
                        "Electronics",
                        "nano semiconductors",
                        "semiconductor material",
                        "oxide semiconductor",
                        "conductivity oxide",
                        "metal oxide",
                        "oxide"
                       ],
                       "prob": 0.721042275428772,
                       "topic": "complex oxides"
                      },
                      {
                       "loc_topic": "Inorganic chemistry",
                       "orig_topic": "oxide surface",
                       "parents": [
                        "Special materials",
                        "Electronics",
                        "nano semiconductors",
                        "semiconductor material",
                        "oxide semiconductor",
                        "conductivity oxide",
                        "metal oxide",
                        "oxide"
                       ],
                       "prob": 1.0732430219650269,
                       "topic": "oxide surface"
                      }
                     ],
                     "loc_topic": "Inorganic chemistry",
                     "orig_topic": "oxide",
                     "parents": [
                      "Special materials",
                      "Electronics",
                      "nano semiconductors",
                      "semiconductor material",
                      "oxide semiconductor",
                      "conductivity oxide",
                      "metal oxide"
                     ],
                     "prob": 0.9826493263244629,
                     "topic": "oxide"
                    },
                    {
                     "loc_topic": "Inorganic chemistry",
                     "orig_topic": "zinc oxide",
                     "parents": [
                      "Special materials",
                      "Electronics",
                      "nano semiconductors",
                      "semiconductor material",
                      "oxide semiconductor",
                      "conductivity oxide",
                      "metal oxide"
                     ],
                     "prob": 0.9142030477523804,
                     "topic": "zinc oxide"
                    }
                   ],
                   "loc_topic": "Inorganic chemistry",
                   "orig_topic": "metal oxide",
                   "parents": [
                    "Special materials",
                    "Electronics",
                    "nano semiconductors",
                    "semiconductor material",
                    "oxide semiconductor",
                    "conductivity oxide"
                   ],
                   "prob": 0.7456159591674805,
                   "topic": "metal oxide"
                  }
                 ],
                 "loc_topic": "Inorganic chemistry",
                 "orig_topic": "conductivity oxide",
                 "parents": [
                  "Special materials",
                  "Electronics",
                  "nano semiconductors",
                  "semiconductor material",
                  "oxide semiconductor"
                 ],
                 "prob": 1.1032013893127441,
                 "topic": "conductivity oxide"
                }
               ],
               "loc_topic": "Inorganic chemistry",
               "orig_topic": "oxide semiconductor",
               "parents": [
                "Special materials",
                "Electronics",
                "nano semiconductors",
                "semiconductor material"
               ],
               "prob": 0.9294511079788208,
               "topic": "oxide semiconductor"
              }
             ],
             "loc_topic": "Ceramics",
             "orig_topic": "semiconductor material",
             "parents": [
              "Special materials",
              "Electronics",
              "nano semiconductors"
             ],
             "prob": 0.9943789839744568,
             "topic": "semiconductor material"
            }
           ],
           "loc_topic": "Photoelectronic devices (General)",
           "orig_topic": "nano semiconductors",
           "parents": [
            "Special materials",
            "Electronics"
           ],
           "prob": 0.9913247227668762,
           "topic": "nano semiconductors"
          },
          {
           "children": [
            {
             "loc_topic": "Ceramics",
             "orig_topic": "boron",
             "parents": [
              "Special materials",
              "Electronics",
              "nitride materials"
             ],
             "prob": 1.1527997255325317,
             "topic": "boron"
            },
            {
             "loc_topic": "Niue",
             "orig_topic": "niobium niobium",
             "parents": [
              "Special materials",
              "Electronics",
              "nitride materials"
             ],
             "prob": 0.8597217202186584,
             "topic": "niobium niobium"
            },
            {
             "children": [
              {
               "children": [
                {
                 "loc_topic": "Ceramics",
                 "orig_topic": "alumina combined",
                 "parents": [
                  "Special materials",
                  "Electronics",
                  "nitride materials",
                  "rare earth",
                  "sulfides"
                 ],
                 "prob": 1.1563303470611572,
                 "topic": "alumina combined"
                }
               ],
               "loc_topic": "Biochemistry",
               "orig_topic": "sulfides",
               "parents": [
                "Special materials",
                "Electronics",
                "nitride materials",
                "rare earth"
               ],
               "prob": 1.1267082691192627,
               "topic": "sulfides"
              }
             ],
             "loc_topic": "Precious metals. Bullion",
             "orig_topic": "rare earth",
             "parents": [
              "Special materials",
              "Electronics",
              "nitride materials"
             ],
             "prob": 0.8500096201896667,
             "topic": "rare earth"
            },
            {
             "loc_topic": "Ceramics",
             "orig_topic": "silicon nitride",
             "parents": [
              "Special materials",
              "Electronics",
              "nitride materials"
             ],
             "prob": 1.2070529460906982,
             "topic": "silicon nitride"
            }
           ],
           "loc_topic": "Special materials",
           "orig_topic": "nitride materials",
           "parents": [
            "Special materials",
            "Electronics"
           ],
           "prob": 1.1651076078414917,
           "topic": "nitride materials"
          },
          {
           "children": [
            {
             "loc_topic": "Artificial light gardening",
             "orig_topic": "artificial photosynthesis",
             "parents": [
              "Special materials",
              "Electronics",
              "Photochemistry"
             ],
             "prob": 0.8135530352592468,
             "topic": "artificial photosynthesis"
            },
            {
             "loc_topic": "Illumination. Lighting",
             "orig_topic": "luminescence",
             "parents": [
              "Special materials",
              "Electronics",
              "Photochemistry"
             ],
             "prob": 0.8645544648170471,
             "topic": "luminescence"
            },
            {
             "children": [
              {
               "children": [
                {
                 "loc_topic": "Applied optics. Photonics",
                 "orig_topic": "femtosecond laser",
                 "parents": [
                  "Special materials",
                  "Electronics",
                  "Photochemistry",
                  "optical material",
                  "laser applications"
                 ],
                 "prob": 1.1825834512710571,
                 "topic": "femtosecond laser"
                },
                {
                 "loc_topic": "Photoelectronic devices (General)",
                 "orig_topic": "laser diodes",
                 "parents": [
                  "Special materials",
                  "Electronics",
                  "Photochemistry",
                  "optical material",
                  "laser applications"
                 ],
                 "prob": 1.0293707847595215,
                 "topic": "laser diodes"
                }
               ],
               "loc_topic": "Applied optics. Photonics",
               "orig_topic": "laser applications",
               "parents": [
                "Special materials",
                "Electronics",
                "Photochemistry",
                "optical material"
               ],
               "prob": 0.895617663860321,
               "topic": "laser applications"
              },
              {
               "children": [
                {
                 "children": [
                  {
                   "loc_topic": "Spectroscopy",
                   "orig_topic": "ftir spectrometers",
                   "parents": [
                    "Special materials",
                    "Electronics",
                    "Photochemistry",
                    "optical material",
                    "Microscopy",
                    "Spectroscopy"
                   ],
                   "prob": 1.0026276111602783,
                   "topic": "ftir spectrometers"
                  }
                 ],
                 "loc_topic": "Spectroscopy",
                 "orig_topic": "spectroscopy techniques",
                 "parents": [
                  "Special materials",
                  "Electronics",
                  "Photochemistry",
                  "optical material",
                  "Microscopy"
                 ],
                 "prob": 0.38941606879234314,
                 "topic": "Spectroscopy"
                }
               ],
               "loc_topic": "Microscopy",
               "orig_topic": "microscope",
               "parents": [
                "Special materials",
                "Electronics",
                "Photochemistry",
                "optical material"
               ],
               "prob": 0.2526337504386902,
               "topic": "Microscopy"
              },
              {
               "children": [
                {
                 "children": [
                  {
                   "loc_topic": "Electromagnetic theory",
                   "orig_topic": "emission field",
                   "parents": [
                    "Special materials",
                    "Electronics",
                    "Photochemistry",
                    "optical material",
                    "near infrared",
                    "emission"
                   ],
                   "prob": 0.9977700114250183,
                   "topic": "emission field"
                  }
                 ],
                 "loc_topic": "Environmental pollution",
                 "orig_topic": "emission",
                 "parents": [
                  "Special materials",
                  "Electronics",
                  "Photochemistry",
                  "optical material",
                  "near infrared"
                 ],
                 "prob": 0.9254900813102722,
                 "topic": "emission"
                },
                {
                 "loc_topic": "Lighting",
                 "orig_topic": "ultraviolet",
                 "parents": [
                  "Special materials",
                  "Electronics",
                  "Photochemistry",
                  "optical material",
                  "near infrared"
                 ],
                 "prob": 1.1308329105377197,
                 "topic": "ultraviolet"
                }
               ],
               "loc_topic": "Spectroscopy",
               "orig_topic": "near infrared",
               "parents": [
                "Special materials",
                "Electronics",
                "Photochemistry",
                "optical material"
               ],
               "prob": 0.9389549493789673,
               "topic": "near infrared"
              },
              {
               "children": [
                {
                 "loc_topic": "Applied optics. Photonics",
                 "orig_topic": "optical devices",
                 "parents": [
                  "Special materials",
                  "Electronics",
                  "Photochemistry",
                  "optical material",
                  "photonic"
                 ],
                 "prob": 0.774513304233551,
                 "topic": "optical devices"
                },
                {
                 "loc_topic": "Applied optics. Photonics",
                 "orig_topic": "optoelectronic",
                 "parents": [
                  "Special materials",
                  "Electronics",
                  "Photochemistry",
                  "optical material",
                  "photonic"
                 ],
                 "prob": 0.6764132976531982,
                 "topic": "optoelectronic"
                }
               ],
               "loc_topic": "Applied optics. Photonics",
               "orig_topic": "photonic",
               "parents": [
                "Special materials",
                "Electronics",
                "Photochemistry",
                "optical material"
               ],
               "prob": 0.729231595993042,
               "topic": "photonic"
              }
             ],
             "loc_topic": "Applied optics. Photonics",
             "orig_topic": "optical material",
             "parents": [
              "Special materials",
              "Electronics",
              "Photochemistry"
             ],
             "prob": 0.6709515452384949,
             "topic": "optical material"
            },
            {
             "loc_topic": "Photochemistry",
             "orig_topic": "photoanodes",
             "parents": [
              "Special materials",
              "Electronics",
              "Photochemistry"
             ],
             "prob": 0.8207175731658936,
             "topic": "photoanodes"
            },
            {
             "loc_topic": "Photochemistry",
             "orig_topic": "photocatalytic degradation",
             "parents": [
              "Special materials",
              "Electronics",
              "Photochemistry"
             ],
             "prob": 0.7498313784599304,
             "topic": "photocatalytic degradation"
            }
           ],
           "loc_topic": "Photochemistry",
           "orig_topic": "photocatalytic",
           "parents": [
            "Special materials",
            "Electronics"
           ],
           "prob": 0.46742069721221924,
           "topic": "Photochemistry"
          },
          {
           "children": [
            {
             "loc_topic": "Bacteria",
             "orig_topic": "biodegradable",
             "parents": [
              "Special materials",
              "Electronics",
              "Polymers and polymer manufacture"
             ],
             "prob": 1.1147218942642212,
             "topic": "biodegradable"
            },
            {
             "loc_topic": "Polymers and polymer manufacture",
             "orig_topic": "block copolymers",
             "parents": [
              "Special materials",
              "Electronics",
              "Polymers and polymer manufacture"
             ],
             "prob": 0.8865217566490173,
             "topic": "block copolymers"
            },
            {
             "loc_topic": "Polymers and polymer manufacture",
             "orig_topic": "conjugate polymer",
             "parents": [
              "Special materials",
              "Electronics",
              "Polymers and polymer manufacture"
             ],
             "prob": 0.8247787356376648,
             "topic": "conjugate polymer"
            },
            {
             "children": [
              {
               "children": [
                {
                 "loc_topic": "Metallurgy",
                 "orig_topic": "solidification",
                 "parents": [
                  "Special materials",
                  "Electronics",
                  "Polymers and polymer manufacture",
                  "crystallization",
                  "amorphous"
                 ],
                 "prob": 0.9390250444412231,
                 "topic": "solidification"
                }
               ],
               "loc_topic": "Glass",
               "orig_topic": "amorphous",
               "parents": [
                "Special materials",
                "Electronics",
                "Polymers and polymer manufacture",
                "crystallization"
               ],
               "prob": 0.9253363609313965,
               "topic": "amorphous"
              },
              {
               "loc_topic": "Special materials",
               "orig_topic": "foamed materials",
               "parents": [
                "Special materials",
                "Electronics",
                "Polymers and polymer manufacture",
                "crystallization"
               ],
               "prob": 0.9260363578796387,
               "topic": "foamed materials"
              },
              {
               "children": [
                {
                 "loc_topic": "Glass",
                 "orig_topic": "glass optical",
                 "parents": [
                  "Special materials",
                  "Electronics",
                  "Polymers and polymer manufacture",
                  "crystallization",
                  "glassy polymers"
                 ],
                 "prob": 0.5598850846290588,
                 "topic": "Glass"
                },
                {
                 "loc_topic": "Glass",
                 "orig_topic": "transparent materials",
                 "parents": [
                  "Special materials",
                  "Electronics",
                  "Polymers and polymer manufacture",
                  "crystallization",
                  "glassy polymers"
                 ],
                 "prob": 0.885296642780304,
                 "topic": "transparent materials"
                }
               ],
               "loc_topic": "Glass",
               "orig_topic": "glassy polymers",
               "parents": [
                "Special materials",
                "Electronics",
                "Polymers and polymer manufacture",
                "crystallization"
               ],
               "prob": 0.7248304486274719,
               "topic": "glassy polymers"
              },
              {
               "children": [
                {
                 "loc_topic": "Crystallography",
                 "orig_topic": "crystal growth",
                 "parents": [
                  "Special materials",
                  "Electronics",
                  "Polymers and polymer manufacture",
                  "crystallization",
                  "liquid crystals"
                 ],
                 "prob": 0.7033773064613342,
                 "topic": "crystal growth"
                }
               ],
               "loc_topic": "Crystallography",
               "orig_topic": "liquid crystals",
               "parents": [
                "Special materials",
                "Electronics",
                "Polymers and polymer manufacture",
                "crystallization"
               ],
               "prob": 0.9803661108016968,
               "topic": "liquid crystals"
              },
              {
               "children": [
                {
                 "children": [
                  {
                   "loc_topic": "Pharmaceutical chemistry",
                   "orig_topic": "synthetic hydroxyapatite",
                   "parents": [
                    "Special materials",
                    "Electronics",
                    "Polymers and polymer manufacture",
                    "crystallization",
                    "mesoporous silica",
                    "hydrogels"
                   ],
                   "prob": 1.0750077962875366,
                   "topic": "synthetic hydroxyapatite"
                  }
                 ],
                 "loc_topic": "Pharmaceutical supplies",
                 "orig_topic": "hydrogels",
                 "parents": [
                  "Special materials",
                  "Electronics",
                  "Polymers and polymer manufacture",
                  "crystallization",
                  "mesoporous silica"
                 ],
                 "prob": 1.1558839082717896,
                 "topic": "hydrogels"
                },
                {
                 "loc_topic": "Glass",
                 "orig_topic": "silica",
                 "parents": [
                  "Special materials",
                  "Electronics",
                  "Polymers and polymer manufacture",
                  "crystallization",
                  "mesoporous silica"
                 ],
                 "prob": 0.981124758720398,
                 "topic": "silica"
                }
               ],
               "loc_topic": "Inorganic chemistry",
               "orig_topic": "mesoporous silica",
               "parents": [
                "Special materials",
                "Electronics",
                "Polymers and polymer manufacture",
                "crystallization"
               ],
               "prob": 1.0243077278137207,
               "topic": "mesoporous silica"
              }
             ],
             "loc_topic": "Crystallography",
             "orig_topic": "crystallization",
             "parents": [
              "Special materials",
              "Electronics",
              "Polymers and polymer manufacture"
             ],
             "prob": 0.7394537329673767,
             "topic": "crystallization"
            },
            {
             "children": [
              {
               "loc_topic": "Organic chemistry",
               "orig_topic": "molecular organic",
               "parents": [
                "Special materials",
                "Electronics",
                "Polymers and polymer manufacture",
                "organic inorganic"
               ],
               "prob": 0.4280520975589752,
               "topic": "Organic chemistry"
              }
             ],
             "loc_topic": "Inorganic chemistry",
             "orig_topic": "organic inorganic",
             "parents": [
              "Special materials",
              "Electronics",
              "Polymers and polymer manufacture"
             ],
             "prob": 0.6399012207984924,
             "topic": "organic inorganic"
            },
            {
             "children": [
              {
               "children": [
                {
                 "loc_topic": "Applied optics. Photonics",
                 "orig_topic": "abundant phosphors",
                 "parents": [
                  "Special materials",
                  "Electronics",
                  "Polymers and polymer manufacture",
                  "plasmonic",
                  "phosphogypsum products"
                 ],
                 "prob": 1.1283618211746216,
                 "topic": "abundant phosphors"
                },
                {
                 "loc_topic": "Metallurgy",
                 "orig_topic": "pyrolysis",
                 "parents": [
                  "Special materials",
                  "Electronics",
                  "Polymers and polymer manufacture",
                  "plasmonic",
                  "phosphogypsum products"
                 ],
                 "prob": 0.972959578037262,
                 "topic": "pyrolysis"
                }
               ],
               "loc_topic": "Phanariote regime, 1601-1822",
               "orig_topic": "phosphogypsum products",
               "parents": [
                "Special materials",
                "Electronics",
                "Polymers and polymer manufacture",
                "plasmonic"
               ],
               "prob": 1.2531477212905884,
               "topic": "phosphogypsum products"
              },
              {
               "loc_topic": "Applied optics. Photonics",
               "orig_topic": "surface plasmon",
               "parents": [
                "Special materials",
                "Electronics",
                "Polymers and polymer manufacture",
                "plasmonic"
               ],
               "prob": 1.2085944414138794,
               "topic": "surface plasmon"
              }
             ],
             "loc_topic": "Applied optics. Photonics",
             "orig_topic": "plasmonic",
             "parents": [
              "Special materials",
              "Electronics",
              "Polymers and polymer manufacture"
             ],
             "prob": 1.0051896572113037,
             "topic": "plasmonic"
            },
            {
             "children": [
              {
               "loc_topic": "Polymers and polymer manufacture",
               "orig_topic": "conjugated polyelectrolytes",
               "parents": [
                "Special materials",
                "Electronics",
                "Polymers and polymer manufacture",
                "polyurethane"
               ],
               "prob": 1.2777831554412842,
               "topic": "conjugated polyelectrolytes"
              },
              {
               "loc_topic": "Polymers and polymer manufacture",
               "orig_topic": "polylactic acid",
               "parents": [
                "Special materials",
                "Electronics",
                "Polymers and polymer manufacture",
                "polyurethane"
               ],
               "prob": 1.144206166267395,
               "topic": "polylactic acid"
              },
              {
               "loc_topic": "Soft home furnishings",
               "orig_topic": "polyurethane foam",
               "parents": [
                "Special materials",
                "Electronics",
                "Polymers and polymer manufacture",
                "polyurethane"
               ],
               "prob": 0.9824289679527283,
               "topic": "polyurethane foam"
              },
              {
               "children": [
                {
                 "loc_topic": "Polymers and polymer manufacture",
                 "orig_topic": "polyethersulfone important",
                 "parents": [
                  "Special materials",
                  "Electronics",
                  "Polymers and polymer manufacture",
                  "polyurethane",
                  "versatile polydopamine"
                 ],
                 "prob": 1.0716979503631592,
                 "topic": "polyethersulfone important"
                }
               ],
               "loc_topic": "Experimental pharmacology",
               "orig_topic": "versatile polydopamine",
               "parents": [
                "Special materials",
                "Electronics",
                "Polymers and polymer manufacture",
                "polyurethane"
               ],
               "prob": 1.2989721298217773,
               "topic": "versatile polydopamine"
              }
             ],
             "loc_topic": "Polymers and polymer manufacture",
             "orig_topic": "polyurethane",
             "parents": [
              "Special materials",
              "Electronics",
              "Polymers and polymer manufacture"
             ],
             "prob": 0.9574172496795654,
             "topic": "polyurethane"
            },
            {
             "loc_topic": "Polymers and polymer manufacture",
             "orig_topic": "processes polymer",
             "parents": [
              "Special materials",
              "Electronics",
              "Polymers and polymer manufacture"
             ],
             "prob": 0.37267667055130005,
             "topic": "processes polymer"
            }
           ],
           "loc_topic": "Polymers and polymer manufacture",
           "orig_topic": "polymer based",
           "parents": [
            "Special materials",
            "Electronics"
           ],
           "prob": 0.5663890838623047,
           "topic": "Polymers and polymer manufacture"
          },
          {
           "children": [
            {
             "loc_topic": "Work measurement. Methods engineering",
             "orig_topic": "measurement methods",
             "parents": [
              "Special materials",
              "Electronics",
              "sensor"
             ],
             "prob": 0.7052491903305054,
             "topic": "measurement methods"
            }
           ],
           "loc_topic": "Cameras",
           "orig_topic": "sensor",
           "parents": [
            "Special materials",
            "Electronics"
           ],
           "prob": 1.134039044380188,
           "topic": "sensor"
          },
          {
           "children": [
            {
             "children": [
              {
               "children": [
                {
                 "loc_topic": "Electronics",
                 "orig_topic": "fusion devices",
                 "parents": [
                  "Special materials",
                  "Electronics",
                  "tribological",
                  "interconnection",
                  "confinement fusion"
                 ],
                 "prob": 1.0339088439941406,
                 "topic": "fusion devices"
                }
               ],
               "loc_topic": "Plasma engineering. Applied plasma dynamics",
               "orig_topic": "confinement fusion",
               "parents": [
                "Special materials",
                "Electronics",
                "tribological",
                "interconnection"
               ],
               "prob": 1.1474225521087646,
               "topic": "confinement fusion"
              },
              {
               "loc_topic": "Electronics",
               "orig_topic": "transistors igbts",
               "parents": [
                "Special materials",
                "Electronics",
                "tribological",
                "interconnection"
               ],
               "prob": 1.1192800998687744,
               "topic": "transistors igbts"
              }
             ],
             "loc_topic": "Electronics",
             "orig_topic": "interconnection",
             "parents": [
              "Special materials",
              "Electronics",
              "tribological"
             ],
             "prob": 1.0447871685028076,
             "topic": "interconnection"
            },
            {
             "loc_topic": "Muscovy",
             "orig_topic": "multiferroic",
             "parents": [
              "Special materials",
              "Electronics",
              "tribological"
             ],
             "prob": 1.2372651100158691,
             "topic": "multiferroic"
            }
           ],
           "loc_topic": "Mineralogy",
           "orig_topic": "tribological",
           "parents": [
            "Special materials",
            "Electronics"
           ],
           "prob": 1.0946019887924194,
           "topic": "tribological"
          },
          {
           "children": [
            {
             "children": [
              {
               "children": [
                {
                 "loc_topic": "Thermodynamics",
                 "orig_topic": "high entropy",
                 "parents": [
                  "Special materials",
                  "Electronics",
                  "ultrasonic",
                  "perovskite based",
                  "entropy alloys"
                 ],
                 "prob": 1.0757778882980347,
                 "topic": "high entropy"
                }
               ],
               "loc_topic": "Metallurgy",
               "orig_topic": "entropy alloys",
               "parents": [
                "Special materials",
                "Electronics",
                "ultrasonic",
                "perovskite based"
               ],
               "prob": 1.1307235956192017,
               "topic": "entropy alloys"
              }
             ],
             "loc_topic": "Inorganic chemistry",
             "orig_topic": "perovskite based",
             "parents": [
              "Special materials",
              "Electronics",
              "ultrasonic"
             ],
             "prob": 1.0265779495239258,
             "topic": "perovskite based"
            },
            {
             "children": [
              {
               "loc_topic": "Acoustics. Sound",
               "orig_topic": "acoustic",
               "parents": [
                "Special materials",
                "Electronics",
                "ultrasonic",
                "vibration"
               ],
               "prob": 0.5910820960998535,
               "topic": "acoustic"
              }
             ],
             "loc_topic": "Mechanical movements",
             "orig_topic": "vibration",
             "parents": [
              "Special materials",
              "Electronics",
              "ultrasonic"
             ],
             "prob": 0.796530544757843,
             "topic": "vibration"
            }
           ],
           "loc_topic": "Acoustics. Sound",
           "orig_topic": "ultrasonic",
           "parents": [
            "Special materials",
            "Electronics"
           ],
           "prob": 0.7305111289024353,
           "topic": "ultrasonic"
          }
         ],
         "loc_topic": "Electronics",
         "orig_topic": "materials electronic",
         "parents": [
          "Special materials"
         ],
         "prob": 0.8384890556335449,
         "topic": "Electronics"
        }
       ],
       "loc_topic": "Special materials",
       "orig_topic": "functional materials",
       "parents": [],
       "prob": 0.6987673044204712,
       "topic": "Special materials"
      },
      "text/plain": [
       "<IPython.core.display.JSON object>"
      ]
     },
     "execution_count": 380,
     "metadata": {
      "application/json": {
       "expanded": false,
       "root": "root"
      }
     },
     "output_type": "execute_result"
    }
   ],
   "source": [
    "JSON(hh)"
   ]
  },
  {
   "cell_type": "code",
   "execution_count": 381,
   "id": "c66432cd",
   "metadata": {
    "collapsed": true,
    "jupyter": {
     "outputs_hidden": true
    }
   },
   "outputs": [
    {
     "name": "stdout",
     "output_type": "stream",
     "text": [
      "Special materials\n",
      "╠══ Bridges\n",
      "║   ╚══ Liberalism\n",
      "╠══ Electronics\n",
      "║   ╠══ Photochemistry\n",
      "║   ║   ╠══ artificial photosynthesis\n",
      "║   ║   ╠══ luminescence\n",
      "║   ║   ╠══ optical material\n",
      "║   ║   ║   ╠══ Microscopy\n",
      "║   ║   ║   ║   ╚══ Spectroscopy\n",
      "║   ║   ║   ║       ╚══ ftir spectrometers\n",
      "║   ║   ║   ╠══ laser applications\n",
      "║   ║   ║   ║   ╠══ femtosecond laser\n",
      "║   ║   ║   ║   ╚══ laser diodes\n",
      "║   ║   ║   ╠══ near infrared\n",
      "║   ║   ║   ║   ╠══ emission\n",
      "║   ║   ║   ║   ║   ╚══ emission field\n",
      "║   ║   ║   ║   ╚══ ultraviolet\n",
      "║   ║   ║   ╚══ photonic\n",
      "║   ║   ║       ╠══ optical devices\n",
      "║   ║   ║       ╚══ optoelectronic\n",
      "║   ║   ╠══ photoanodes\n",
      "║   ║   ╚══ photocatalytic degradation\n",
      "║   ╠══ Polymers and polymer manufacture\n",
      "║   ║   ╠══ biodegradable\n",
      "║   ║   ╠══ block copolymers\n",
      "║   ║   ╠══ conjugate polymer\n",
      "║   ║   ╠══ crystallization\n",
      "║   ║   ║   ╠══ amorphous\n",
      "║   ║   ║   ║   ╚══ solidification\n",
      "║   ║   ║   ╠══ foamed materials\n",
      "║   ║   ║   ╠══ glassy polymers\n",
      "║   ║   ║   ║   ╠══ Glass\n",
      "║   ║   ║   ║   ╚══ transparent materials\n",
      "║   ║   ║   ╠══ liquid crystals\n",
      "║   ║   ║   ║   ╚══ crystal growth\n",
      "║   ║   ║   ╚══ mesoporous silica\n",
      "║   ║   ║       ╠══ hydrogels\n",
      "║   ║   ║       ║   ╚══ synthetic hydroxyapatite\n",
      "║   ║   ║       ╚══ silica\n",
      "║   ║   ╠══ organic inorganic\n",
      "║   ║   ║   ╚══ Organic chemistry\n",
      "║   ║   ╠══ plasmonic\n",
      "║   ║   ║   ╠══ phosphogypsum products\n",
      "║   ║   ║   ║   ╠══ abundant phosphors\n",
      "║   ║   ║   ║   ╚══ pyrolysis\n",
      "║   ║   ║   ╚══ surface plasmon\n",
      "║   ║   ╠══ polyurethane\n",
      "║   ║   ║   ╠══ conjugated polyelectrolytes\n",
      "║   ║   ║   ╠══ polylactic acid\n",
      "║   ║   ║   ╠══ polyurethane foam\n",
      "║   ║   ║   ╚══ versatile polydopamine\n",
      "║   ║   ║       ╚══ polyethersulfone important\n",
      "║   ║   ╚══ processes polymer\n",
      "║   ╠══ cement\n",
      "║   ║   ╠══ Environmental pollution\n",
      "║   ║   ║   ╠══ sludge\n",
      "║   ║   ║   ║   ╚══ steel slag\n",
      "║   ║   ║   ╚══ wastewater treatment\n",
      "║   ║   ║       ╚══ decontamination cleanup\n",
      "║   ║   ╠══ asphalt\n",
      "║   ║   ╠══ failure structures\n",
      "║   ║   ║   ╠══ cavitation\n",
      "║   ║   ║   ║   ╠══ barrier discharge\n",
      "║   ║   ║   ║   ╚══ permeability\n",
      "║   ║   ║   ║       ╚══ moisture content\n",
      "║   ║   ║   ╠══ defects crucial\n",
      "║   ║   ║   ║   ╠══ Mechanical movements\n",
      "║   ║   ║   ║   ║   ╠══ defects\n",
      "║   ║   ║   ║   ║   ║   ╚══ failure mechanism\n",
      "║   ║   ║   ║   ║   ╚══ structural health\n",
      "║   ║   ║   ║   ╚══ degradation\n",
      "║   ║   ║   ║       ╚══ environment fatigue\n",
      "║   ║   ║   ╚══ delamination\n",
      "║   ║   ║       ╠══ adsorption based\n",
      "║   ║   ║       ║   ╚══ processes separation\n",
      "║   ║   ║       ╠══ nondestructive evaluation\n",
      "║   ║   ║       ╚══ vulcanization\n",
      "║   ║   ╠══ reinforced concrete\n",
      "║   ║   ║   ╚══ concrete structures\n",
      "║   ║   ╠══ shale\n",
      "║   ║   ║   ╚══ geotechnical\n",
      "║   ║   ║       ╚══ geopolymers\n",
      "║   ║   ╚══ soil\n",
      "║   ╠══ composite material\n",
      "║   ║   ╠══ Ceramics\n",
      "║   ║   ║   ╚══ ceramics structural\n",
      "║   ║   ╠══ Materials of engineering and construction. Mechanics of materials\n",
      "║   ║   ║   ╠══ materials\n",
      "║   ║   ║   ║   ╠══ structural material\n",
      "║   ║   ║   ║   ║   ╚══ material construction\n",
      "║   ║   ║   ║   ╚══ synthetic materials\n",
      "║   ║   ║   ╚══ plastic deformation\n",
      "║   ║   ╠══ carbon fiber\n",
      "║   ║   ║   ╠══ Textiles\n",
      "║   ║   ║   ║   ╚══ fibers textile\n",
      "║   ║   ║   ╚══ optical fiber\n",
      "║   ║   ╠══ composite\n",
      "║   ║   ╠══ composites suitable\n",
      "║   ║   ╠══ fabrication advanced\n",
      "║   ║   ╠══ fibre reinforced\n",
      "║   ║   ║   ╚══ reinforced polymer\n",
      "║   ║   ╠══ graphitic carbon\n",
      "║   ║   ║   ╠══ carbon\n",
      "║   ║   ║   ║   ╠══ carbonaceous materials\n",
      "║   ║   ║   ║   ╠══ multiwall carbon\n",
      "║   ║   ║   ║   ╚══ superconductors\n",
      "║   ║   ║   ║       ╠══ capacitors\n",
      "║   ║   ║   ║       ╚══ supercritical carbon\n",
      "║   ║   ║   ╚══ graphene\n",
      "║   ║   ║       ╠══ graphite\n",
      "║   ║   ║       ╚══ zirconia\n",
      "║   ║   ╠══ matrix composite\n",
      "║   ║   ║   ╚══ metal matrix\n",
      "║   ║   ╠══ metal corrosion\n",
      "║   ║   ║   ╠══ Metallurgy\n",
      "║   ║   ║   ║   ╠══ aluminium based\n",
      "║   ║   ║   ║   ╠══ austenitic stainless\n",
      "║   ║   ║   ║   ╠══ steel\n",
      "║   ║   ║   ║   ║   ╚══ strength steel\n",
      "║   ║   ║   ║   ║       ╚══ steel structures\n",
      "║   ║   ║   ║   ╠══ titanium\n",
      "║   ║   ║   ║   ╚══ transition metal\n",
      "║   ║   ║   ║       ╚══ Metalwork\n",
      "║   ║   ║   ╚══ galvanic corrosion\n",
      "║   ║   ╠══ porous materials\n",
      "║   ║   ║   ╠══ coatings deposited\n",
      "║   ║   ║   ║   ╠══ coatings\n",
      "║   ║   ║   ║   ╠══ layer deposition\n",
      "║   ║   ║   ║   ╚══ surface quality\n",
      "║   ║   ║   ╚══ membrane\n",
      "║   ║   ╠══ resin\n",
      "║   ║   ╠══ silicon carbide\n",
      "║   ║   ║   ╠══ carbide based\n",
      "║   ║   ║   ╚══ solid lubrication\n",
      "║   ║   ╚══ various biomaterials\n",
      "║   ╠══ energy devices\n",
      "║   ║   ╠══ aerosol\n",
      "║   ║   ╠══ industrial application\n",
      "║   ║   ║   ╠══ aircraft structures\n",
      "║   ║   ║   ║   ╚══ aircraft constructions\n",
      "║   ║   ║   ╚══ wind turbine\n",
      "║   ║   ║       ╚══ turbine blade\n",
      "║   ║   ╠══ solar cell\n",
      "║   ║   ║   ╠══ Renewable energy sources\n",
      "║   ║   ║   ║   ╠══ energy storage\n",
      "║   ║   ║   ║   ║   ╠══ Electricity\n",
      "║   ║   ║   ║   ║   ╠══ electric vehicles\n",
      "║   ║   ║   ║   ║   ╠══ energy consumption\n",
      "║   ║   ║   ║   ║   ╚══ renewable energy\n",
      "║   ║   ║   ║   ╚══ photovoltaic\n",
      "║   ║   ║   ╚══ batteries libs\n",
      "║   ║   ║       ╠══ battery\n",
      "║   ║   ║       ╠══ high voltage\n",
      "║   ║   ║       ║   ╚══ power devices\n",
      "║   ║   ║       ╚══ rechargeable battery\n",
      "║   ║   ║           ╚══ based rechargeable\n",
      "║   ║   ╚══ thermal energy\n",
      "║   ║       ╠══ hydrogen generation\n",
      "║   ║       ║   ╠══ catalysts based\n",
      "║   ║       ║   ║   ╠══ advanced oxidation\n",
      "║   ║       ║   ║   ║   ╚══ oxidation processes\n",
      "║   ║       ║   ║   ╚══ catalytic performance\n",
      "║   ║       ║   ╠══ derived fuel\n",
      "║   ║       ║   ║   ╠══ combustion technology\n",
      "║   ║       ║   ║   ║   ╚══ flame retardant\n",
      "║   ║       ║   ║   ║       ╚══ propellants combustion\n",
      "║   ║       ║   ║   ╠══ diesel engine\n",
      "║   ║       ║   ║   ╚══ fuel cell\n",
      "║   ║       ║   ║       ╠══ Fuel\n",
      "║   ║       ║   ║       ╠══ biodiesel production\n",
      "║   ║       ║   ║       ╚══ oxide fuel\n",
      "║   ║       ║   ╠══ hydrogen\n",
      "║   ║       ║   ║   ╚══ hydrogenated carbon\n",
      "║   ║       ║   ╚══ nuclear reactor\n",
      "║   ║       ║       ╠══ blast furnace\n",
      "║   ║       ║       ╠══ neutron science\n",
      "║   ║       ║       ║   ╚══ radiation therapy\n",
      "║   ║       ║       ╠══ nuclear fuel\n",
      "║   ║       ║       ╚══ reactor\n",
      "║   ║       ╚══ thermoelectric\n",
      "║   ║           ╠══ cryogenic\n",
      "║   ║           ╠══ microwave\n",
      "║   ║           ║   ╠══ developments microwave\n",
      "║   ║           ║   ╚══ plasma\n",
      "║   ║           ╠══ photothermal therapy\n",
      "║   ║           ║   ╚══ geothermal\n",
      "║   ║           ╠══ thermal properties\n",
      "║   ║           ║   ╠══ insulation\n",
      "║   ║           ║   ╠══ temperature applications\n",
      "║   ║           ║   ╠══ thermal conductivity\n",
      "║   ║           ║   ╚══ thermal stability\n",
      "║   ║           ║       ╚══ thermal protection\n",
      "║   ║           ╚══ thermoplastics\n",
      "║   ║               ╚══ thermosets\n",
      "║   ╠══ epoxy based\n",
      "║   ║   ╚══ redox chemistry\n",
      "║   ║       ╠══ redox\n",
      "║   ║       ╚══ rheological properties\n",
      "║   ╠══ magnetic properties\n",
      "║   ║   ╠══ ball bearings\n",
      "║   ║   ║   ╚══ bearings\n",
      "║   ║   ╠══ ferroelectric\n",
      "║   ║   ║   ╚══ ferromagnetic layers\n",
      "║   ║   ╚══ magnetoresistance\n",
      "║   ║       ╚══ Magnetism\n",
      "║   ╠══ material lithium\n",
      "║   ║   ╠══ electrochemical\n",
      "║   ║   ║   ╠══ cathode material\n",
      "║   ║   ║   ╠══ electrode material\n",
      "║   ║   ║   ║   ╚══ electrochromic materials\n",
      "║   ║   ║   ╚══ solid electrolyte\n",
      "║   ║   ║       ╚══ electrolytes\n",
      "║   ║   ╚══ lithium batteries\n",
      "║   ╠══ nano semiconductors\n",
      "║   ║   ╠══ nanotube\n",
      "║   ║   ║   ╠══ microelectronics\n",
      "║   ║   ║   ║   ╚══ nanometer\n",
      "║   ║   ║   ╠══ microfluid\n",
      "║   ║   ║   ╠══ nanoparticles based\n",
      "║   ║   ║   ║   ╠══ magnetic nanoparticles\n",
      "║   ║   ║   ║   ╚══ nanostructures\n",
      "║   ║   ║   ╠══ nanowires\n",
      "║   ║   ║   ╚══ polycrystalline\n",
      "║   ║   ╚══ semiconductor material\n",
      "║   ║       ╠══ dielectric\n",
      "║   ║       ║   ╠══ anode material\n",
      "║   ║       ║   ║   ╚══ diode oled\n",
      "║   ║       ║   ║       ╚══ oled\n",
      "║   ║       ║   ╠══ flexible electronic\n",
      "║   ║       ║   ║   ╚══ electronic properties\n",
      "║   ║       ║   ║       ╠══ electronic devices\n",
      "║   ║       ║   ║       ║   ╠══ electronic applications\n",
      "║   ║       ║   ║       ║   ╚══ portable electronic\n",
      "║   ║       ║   ║       ╚══ organic electronic\n",
      "║   ║       ║   ╠══ permittivity dielectric\n",
      "║   ║       ║   ╚══ piezoelectric\n",
      "║   ║       ║       ╚══ pyroelectric\n",
      "║   ║       ╚══ oxide semiconductor\n",
      "║   ║           ╠══ advanced semiconductor\n",
      "║   ║           ║   ╠══ integrated circuits\n",
      "║   ║           ║   ╠══ metal semiconductor\n",
      "║   ║           ║   ╠══ mosfet technology\n",
      "║   ║           ║   ╠══ organic semiconductor\n",
      "║   ║           ║   ╠══ semiconductors visible\n",
      "║   ║           ║   ╚══ silicon\n",
      "║   ║           ║       ╚══ amorphous silicon\n",
      "║   ║           ╚══ conductivity oxide\n",
      "║   ║               ╠══ conductivity materials\n",
      "║   ║               ╚══ metal oxide\n",
      "║   ║                   ╠══ oxide\n",
      "║   ║                   ║   ╠══ complex oxides\n",
      "║   ║                   ║   ╚══ oxide surface\n",
      "║   ║                   ╚══ zinc oxide\n",
      "║   ╠══ nitride materials\n",
      "║   ║   ╠══ boron\n",
      "║   ║   ╠══ niobium niobium\n",
      "║   ║   ╠══ rare earth\n",
      "║   ║   ║   ╚══ sulfides\n",
      "║   ║   ║       ╚══ alumina combined\n",
      "║   ║   ╚══ silicon nitride\n",
      "║   ╠══ sensor\n",
      "║   ║   ╚══ measurement methods\n",
      "║   ╠══ tribological\n",
      "║   ║   ╠══ interconnection\n",
      "║   ║   ║   ╠══ confinement fusion\n",
      "║   ║   ║   ║   ╚══ fusion devices\n",
      "║   ║   ║   ╚══ transistors igbts\n",
      "║   ║   ╚══ multiferroic\n",
      "║   ╚══ ultrasonic\n",
      "║       ╠══ perovskite based\n",
      "║       ║   ╚══ entropy alloys\n",
      "║       ║       ╚══ high entropy\n",
      "║       ╚══ vibration\n",
      "║           ╚══ acoustic\n",
      "╠══ Public health\n",
      "║   ╠══ Diseases of the circulatory (Cardiovascular) system\n",
      "║   ╠══ neurodegenerative disease\n",
      "║   ║   ╚══ fluoride fluorosis\n",
      "║   ╚══ public health\n",
      "╚══ materials antimicrobial\n",
      "    ╠══ Prosthesis. Artificial organs\n",
      "    ╚══ bacterial cellulose\n",
      "        ╠══ Antibiotic therapy. Antibiotics\n",
      "        ║   ╚══ bacterial infection\n",
      "        ║       ╚══ effective antibacterial\n",
      "        ╚══ biological tissue\n",
      "            ╠══ bionanocomposites\n",
      "            ╠══ involves adhesion\n",
      "            ╠══ materials cellulose\n",
      "            ╚══ soft biological\n",
      "                ╚══ bioactive\n",
      "                    ╚══ science bionic\n",
      "\n"
     ]
    }
   ],
   "source": [
    "treelib.show(line_type=\"ascii-em\")"
   ]
  },
  {
   "cell_type": "code",
   "execution_count": null,
   "id": "ed595ad6",
   "metadata": {},
   "outputs": [],
   "source": [
    "treelib.save2file(\"downloads/matsci2loc_june25.txt\")"
   ]
  },
  {
   "cell_type": "code",
   "execution_count": null,
   "id": "98326ca5",
   "metadata": {},
   "outputs": [],
   "source": [
    "JSON(ff)"
   ]
  },
  {
   "cell_type": "code",
   "execution_count": null,
   "id": "74bc3cd6",
   "metadata": {},
   "outputs": [],
   "source": [
    "!pip install json2txttree"
   ]
  },
  {
   "cell_type": "code",
   "execution_count": null,
   "id": "dbef30a6",
   "metadata": {},
   "outputs": [],
   "source": [
    "import json\n",
    "with open('downloads/matsci2loc.json', 'w') as f:\n",
    "    json.dump(ff, f)"
   ]
  },
  {
   "cell_type": "code",
   "execution_count": null,
   "id": "250330b8",
   "metadata": {},
   "outputs": [],
   "source": [
    "def change_value_in_nested(tree, value, newvalue):\n",
    "    d = tree\n",
    "    for v"
   ]
  },
  {
   "cell_type": "code",
   "execution_count": null,
   "id": "e8f03f7e",
   "metadata": {},
   "outputs": [],
   "source": []
  },
  {
   "cell_type": "code",
   "execution_count": null,
   "id": "95a2e428",
   "metadata": {},
   "outputs": [],
   "source": [
    "loc_map = {}\n",
    "for tt in tree_topics:\n",
    "    q = query_index(tt, model, loc_topics, loc_index, True, 3)\n",
    "    if q[0][1] < 0.35:\n",
    "        loc_map[tt] = dict(q)"
   ]
  },
  {
   "cell_type": "code",
   "execution_count": null,
   "id": "fae65ad4",
   "metadata": {},
   "outputs": [],
   "source": [
    "query_index(\"acoustic\", model, loc_topics, loc_index, True, 3)\n"
   ]
  },
  {
   "cell_type": "code",
   "execution_count": 15,
   "id": "9373b0bd",
   "metadata": {},
   "outputs": [
    {
     "ename": "NameError",
     "evalue": "name 'tree_topics' is not defined",
     "output_type": "error",
     "traceback": [
      "\u001b[0;31m---------------------------------------------------------------------------\u001b[0m",
      "\u001b[0;31mNameError\u001b[0m                                 Traceback (most recent call last)",
      "\u001b[0;32m<ipython-input-15-3bdf5a8530f3>\u001b[0m in \u001b[0;36m<module>\u001b[0;34m\u001b[0m\n\u001b[0;32m----> 1\u001b[0;31m \u001b[0mlen\u001b[0m\u001b[0;34m(\u001b[0m\u001b[0mtree_topics\u001b[0m\u001b[0;34m)\u001b[0m\u001b[0;34m,\u001b[0m \u001b[0mlen\u001b[0m\u001b[0;34m(\u001b[0m\u001b[0mloc_topics\u001b[0m\u001b[0;34m)\u001b[0m\u001b[0;34m\u001b[0m\u001b[0;34m\u001b[0m\u001b[0m\n\u001b[0m",
      "\u001b[0;31mNameError\u001b[0m: name 'tree_topics' is not defined"
     ]
    }
   ],
   "source": [
    "len(tree_topics), len(loc_topics)"
   ]
  },
  {
   "cell_type": "code",
   "execution_count": null,
   "id": "b35d97af",
   "metadata": {},
   "outputs": [],
   "source": [
    "JSON(loc_map)"
   ]
  },
  {
   "cell_type": "code",
   "execution_count": null,
   "id": "6c0301eb",
   "metadata": {},
   "outputs": [],
   "source": [
    "topic_tree"
   ]
  },
  {
   "cell_type": "code",
   "execution_count": 16,
   "id": "d2575ba1",
   "metadata": {},
   "outputs": [
    {
     "name": "stdout",
     "output_type": "stream",
     "text": [
      "Requirement already satisfied: treelib in /home/ec2-user/anaconda3/envs/pytorch_p36/lib/python3.6/site-packages (1.6.1)\n",
      "Requirement already satisfied: scikit-network in /home/ec2-user/anaconda3/envs/pytorch_p36/lib/python3.6/site-packages (0.20.0)\n",
      "Requirement already satisfied: future in /home/ec2-user/anaconda3/envs/pytorch_p36/lib/python3.6/site-packages (from treelib) (0.18.2)\n",
      "Requirement already satisfied: numpy>=1.18.3 in /home/ec2-user/anaconda3/envs/pytorch_p36/lib/python3.6/site-packages (from scikit-network) (1.19.5)\n",
      "Requirement already satisfied: scipy>=1.4.1 in /home/ec2-user/anaconda3/envs/pytorch_p36/lib/python3.6/site-packages (from scikit-network) (1.5.3)\n"
     ]
    },
    {
     "data": {
      "application/vnd.jupyter.widget-view+json": {
       "model_id": "0512dd29ec0d4b93a7aa509a38a215ac",
       "version_major": 2,
       "version_minor": 0
      },
      "text/plain": [
       "Downloading:   0%|          | 0.00/690 [00:00<?, ?B/s]"
      ]
     },
     "metadata": {},
     "output_type": "display_data"
    },
    {
     "data": {
      "application/vnd.jupyter.widget-view+json": {
       "model_id": "2d3a6b950a5c4760bbdecd5522ad8f44",
       "version_major": 2,
       "version_minor": 0
      },
      "text/plain": [
       "Downloading:   0%|          | 0.00/190 [00:00<?, ?B/s]"
      ]
     },
     "metadata": {},
     "output_type": "display_data"
    },
    {
     "data": {
      "application/vnd.jupyter.widget-view+json": {
       "model_id": "ce597537bf644dc0888c915025c453b7",
       "version_major": 2,
       "version_minor": 0
      },
      "text/plain": [
       "Downloading:   0%|          | 0.00/3.70k [00:00<?, ?B/s]"
      ]
     },
     "metadata": {},
     "output_type": "display_data"
    },
    {
     "data": {
      "application/vnd.jupyter.widget-view+json": {
       "model_id": "05e7872d3a5f44e99ffdc8e70f6002de",
       "version_major": 2,
       "version_minor": 0
      },
      "text/plain": [
       "Downloading:   0%|          | 0.00/594 [00:00<?, ?B/s]"
      ]
     },
     "metadata": {},
     "output_type": "display_data"
    },
    {
     "data": {
      "application/vnd.jupyter.widget-view+json": {
       "model_id": "acbaebf3fdb24411998cadb10078a14f",
       "version_major": 2,
       "version_minor": 0
      },
      "text/plain": [
       "Downloading:   0%|          | 0.00/122 [00:00<?, ?B/s]"
      ]
     },
     "metadata": {},
     "output_type": "display_data"
    },
    {
     "data": {
      "application/vnd.jupyter.widget-view+json": {
       "model_id": "df5d3bbb2c8e4876b9c96e346fe76632",
       "version_major": 2,
       "version_minor": 0
      },
      "text/plain": [
       "Downloading:   0%|          | 0.00/229 [00:00<?, ?B/s]"
      ]
     },
     "metadata": {},
     "output_type": "display_data"
    },
    {
     "data": {
      "application/vnd.jupyter.widget-view+json": {
       "model_id": "edb6f58308c14917949ec16680986593",
       "version_major": 2,
       "version_minor": 0
      },
      "text/plain": [
       "Downloading:   0%|          | 0.00/438M [00:00<?, ?B/s]"
      ]
     },
     "metadata": {},
     "output_type": "display_data"
    },
    {
     "data": {
      "application/vnd.jupyter.widget-view+json": {
       "model_id": "2bf5080fa46b447ea7d4aee0f5bcb42a",
       "version_major": 2,
       "version_minor": 0
      },
      "text/plain": [
       "Downloading:   0%|          | 0.00/53.0 [00:00<?, ?B/s]"
      ]
     },
     "metadata": {},
     "output_type": "display_data"
    },
    {
     "data": {
      "application/vnd.jupyter.widget-view+json": {
       "model_id": "742f6489e8a148cf865dcca128957005",
       "version_major": 2,
       "version_minor": 0
      },
      "text/plain": [
       "Downloading:   0%|          | 0.00/239 [00:00<?, ?B/s]"
      ]
     },
     "metadata": {},
     "output_type": "display_data"
    },
    {
     "data": {
      "application/vnd.jupyter.widget-view+json": {
       "model_id": "b274d9ba50b342ba8175556512387688",
       "version_major": 2,
       "version_minor": 0
      },
      "text/plain": [
       "Downloading:   0%|          | 0.00/466k [00:00<?, ?B/s]"
      ]
     },
     "metadata": {},
     "output_type": "display_data"
    },
    {
     "data": {
      "application/vnd.jupyter.widget-view+json": {
       "model_id": "1fcee83a61a34ca496b1cf35b745c1cb",
       "version_major": 2,
       "version_minor": 0
      },
      "text/plain": [
       "Downloading:   0%|          | 0.00/1.19k [00:00<?, ?B/s]"
      ]
     },
     "metadata": {},
     "output_type": "display_data"
    },
    {
     "data": {
      "application/vnd.jupyter.widget-view+json": {
       "model_id": "34b0e92763194bd8a195c869ea0061fa",
       "version_major": 2,
       "version_minor": 0
      },
      "text/plain": [
       "Downloading:   0%|          | 0.00/232k [00:00<?, ?B/s]"
      ]
     },
     "metadata": {},
     "output_type": "display_data"
    }
   ],
   "source": [
    "!pip install treelib scikit-network\n",
    "import copy\n",
    "import json\n",
    "import os\n",
    "from collections import Counter, defaultdict, namedtuple\n",
    "from dataclasses import dataclass, field\n",
    "from typing import AnyStr, Dict, List\n",
    "\n",
    "import numpy as np\n",
    "from scipy.sparse import csr_matrix\n",
    "from sentence_transformers import SentenceTransformer\n",
    "from sklearn.cluster import AgglomerativeClustering\n",
    "from sklearn.feature_extraction.text import TfidfTransformer\n",
    "from sklearn.metrics.pairwise import cosine_similarity\n",
    "from sklearn.preprocessing import normalize\n",
    "from sknetwork.clustering import Louvain\n",
    "from treelib import Tree\n",
    "\n",
    "\n",
    "def make_empty_array():\n",
    "    return np.ndarray([])\n",
    "\n",
    "\n",
    "def make_empty_csr_matrix():\n",
    "    return csr_matrix([])\n",
    "\n",
    "\n",
    "DataProperty = namedtuple(\n",
    "    \"DataProperty\", [\"n_terms\", \"n_occurrences\", \"core_terms\", \"term_set\", \"label\"]\n",
    ")\n",
    "\n",
    "\n",
    "@dataclass\n",
    "class HierarchicalTagger:\n",
    "    \"\"\"\n",
    "    # Basic use:\n",
    "\n",
    "    Data must be dictionaries of the form:\n",
    "    {doc_id : [\"term_1\", \"term_2\", ...]}\n",
    "    DOCS  = {\"1\": [\"Burgers\", \"Vegetarian Diet\"],\n",
    "         \"2\": [\"Britney Spears\", \"Music\", \"Conservatorship\"]}\n",
    "\n",
    "    # Instantiate\n",
    "    hierarchical_tagger = HierarchicalTagger()\n",
    "\n",
    "    # Ingest documents\n",
    "    # Ingest can take time. See below for saving and reloading your object\n",
    "    hierarchical_tagger.ingest(document_terms=DOCS)\n",
    "\n",
    "    # Learn tag tree\n",
    "    hierarchical_tagger.fit_tag_tree()\n",
    "\n",
    "    # Inspect tag tree\n",
    "    hierarchical_tagger.tree.show()   # c.tree is a treelib Tree object\n",
    "\n",
    "    # Tag documents\n",
    "    hierarchical_tagger.tag_documents()\n",
    "\n",
    "    # Inspect document tags\n",
    "    hierarchical_tagger.document_tags # {doc_id : [(tag, score, approximate hierarchy level), ...]}\n",
    "\n",
    "    # Saving to JSON string\n",
    "    serialized = hierarchical_tagger.to_json()\n",
    "\n",
    "    # Loading from JSON string\n",
    "    hierarchical_tagger = HierarchicalTagger.from_json(\n",
    "        serialized,\n",
    "        hydrate_tree=True,\n",
    "        hydrate_tags=True\n",
    "    )\n",
    "\n",
    "    Advanced options:\n",
    "\n",
    "    # Upon document ingestion\n",
    "\n",
    "    term_suggestions: List[AnyStr] = A list of suggested terms to consider when building the tree\n",
    "\n",
    "    filter_geo_terms: bool = A boolean parameter to exclude geographical terms from the term set\n",
    "\n",
    "    document_attributes: Dict[AnyStr, Dict] = A dictionary storing additional arbitrary attributes about the documents.\n",
    "    Expected schema is {doc_id: {attribute_1_name: attribute_1_value, attribute_2_name: attribute_2_value, ... }.\n",
    "    This field is useful to store, for example, document title and text for use in later lookups or comparisons.\n",
    "    This field is also used in the webapp.\n",
    "\n",
    "    # Upon fitting tree\n",
    "\n",
    "    Additional terms can be suggested into the term set (note this can only be done on document\n",
    "    ingestion, see above). As the hierarchical clustering step takes account of the empirical\n",
    "    document frequency in the corpus, suggested terms must also be assigned an estimate/prior of\n",
    "    their likely document frequencies to help guide the breadth of the relevance of each term. In\n",
    "    some cases, it may be useful to estimate these document frequencies from a separate corpus.\n",
    "    -  term_suggestions_doc_freq: List[float] = A prior on doc frequency for terms in\n",
    "    term_suggestions\n",
    "\n",
    "    The user can provide a list of terms to exclude. These terms as well as their synonyms\n",
    "    (precisely, all terms falling into a cluster including a term on the excluion list, see next\n",
    "    paragraph) are removed from the cluster set.\n",
    "    -  term_exclusion_list: List[AnyStr] = A list of suggested terms to exclude when building the\n",
    "    tree. Synonyms are also dropped.\n",
    "\n",
    "    Similar terms are deduplicated using Louvain clustering on embeddings representing the term's\n",
    "    meanings.\n",
    "    -  term_similarity_threshold: float [0,1] = Controls the similarity threshold when constructing\n",
    "    the adjacency matrix for this clustering.\n",
    "\n",
    "    Terms in clusters whose terms have low document frequency across all terms in the cluster are\n",
    "    dropped.\n",
    "    -  min_term_cluster_count: int [1,n_docs] = The minimum count of term occurrences across docs\n",
    "    for all terms in each cluster.\n",
    "\n",
    "    Tree fitting is non-deterministic. Use random_state for replicability.\n",
    "    -  random_state: int = None\n",
    "\n",
    "    # Upon tagging documents\n",
    "\n",
    "    When tagging a document, we want to also ensure a connection is made to broader / more abstract\n",
    "    domains. For example, 'batteries' could be mapped to something like:\n",
    "      'battery storage' > 'electricity systems' > 'renewable energy' > 'energy' > 'sustainability'.\n",
    "    The min_abstraction_similarity parameter gives control over how far removed an abstraction can\n",
    "    be from the original term.\n",
    "    -  min_abstraction_similarity:  float [0,1]= .2\n",
    "\n",
    "    Each tag assigned to a document is also given a score measuring how related it is to that\n",
    "    docuement. From observation, a score of >0.4 is very strong, results are quite decent until\n",
    "    ~0.2 and get patchy below that. The min_tag_score parameter sets the threshold below which tags\n",
    "    will not be assigned to documents.\n",
    "    -  min_tag_score: float = .15\n",
    "    \"\"\"\n",
    "\n",
    "    # INGEST INPUT\n",
    "    document_terms: Dict[AnyStr, List] = field(default_factory=dict)\n",
    "    document_attributes: Dict[AnyStr, Dict] = field(default_factory=dict)\n",
    "    term_suggestions: List[AnyStr] = field(default_factory=list)\n",
    "    filter_geo_terms: bool = False\n",
    "\n",
    "    # DERIVED UPON INGEST\n",
    "    n_docs: int = 0\n",
    "    filtered_terms: List[AnyStr] = field(default_factory=list)\n",
    "    term_pipeline: Dict[AnyStr, Dict] = field(default_factory=dict)\n",
    "    term_counts: Counter = field(default_factory=Counter)\n",
    "    term_doc_freq: Dict[AnyStr, float] = field(default_factory=dict)\n",
    "    _term_embeddings: np.array = field(default_factory=make_empty_array)\n",
    "    _filtered_term_similarity: np.array = field(default_factory=make_empty_array)\n",
    "\n",
    "    # FIT TREE INPUT\n",
    "    term_exclusion_list: List[AnyStr] = field(default_factory=list)\n",
    "    term_suggestions_doc_freq: List[float] = field(default_factory=list)\n",
    "    term_similarity_threshold: float = 0.9\n",
    "    min_term_cluster_count: int = 2\n",
    "    random_state: int = None\n",
    "\n",
    "    # DERIVED UPON FITTING TREE\n",
    "    grouped_terms: Dict = field(default_factory=dict)\n",
    "    _collapsed_term_pipeline: Dict = field(default_factory=dict)\n",
    "    processed_document_terms: Dict[AnyStr, List] = field(default_factory=dict)\n",
    "    selected_terms: List[AnyStr] = field(default_factory=list)\n",
    "    _n_selected_terms: int = 0\n",
    "    _selected_terms_idxs: List = field(default_factory=list)\n",
    "    selected_term_counts: Counter = field(default_factory=Counter)\n",
    "    selected_term_doc_freq: Dict[AnyStr, float] = field(default_factory=dict)\n",
    "\n",
    "    # TAG DOCUMENTS INPUT\n",
    "    min_abstraction_similarity: float = 0.2\n",
    "    min_tag_score: float = 0.15\n",
    "\n",
    "    # CONSTANTS\n",
    "    TERM_DROP_KEY: str = \"---DROP---\"\n",
    "    # From https://www.sbert.net/\n",
    "    ENCODER = SentenceTransformer(\"sentence-transformers/paraphrase-mpnet-base-v2\")\n",
    "\n",
    "    # A mapping of output format to list of attribute names for use in serialization.\n",
    "    SERIALIZED_ATTRS = {\n",
    "        \"json_ready\": [\n",
    "            \"document_terms\",\n",
    "            \"document_attributes\",\n",
    "            \"term_exclusion_list\",\n",
    "            \"term_suggestions\",\n",
    "            \"filter_geo_terms\",\n",
    "            \"n_docs\",\n",
    "            \"filtered_terms\",\n",
    "            \"term_pipeline\",\n",
    "            \"term_counts\",\n",
    "            \"term_doc_freq\",\n",
    "            \"term_suggestions_doc_freq\",\n",
    "            \"term_similarity_threshold\",\n",
    "            \"min_term_cluster_count\",\n",
    "            \"random_state\",\n",
    "            \"min_abstraction_similarity\",\n",
    "            \"min_tag_score\",\n",
    "        ],\n",
    "        \"csr_matrix\": [\"_filtered_term_similarity\"],\n",
    "        \"numpy\": [\"_term_embeddings\"],\n",
    "    }\n",
    "\n",
    "    #\n",
    "    # SERIALIZATION METHODS\n",
    "    #\n",
    "\n",
    "    @classmethod\n",
    "    def from_json(cls, serialized_obj, hydrate_tree=False, hydrate_tags=False):\n",
    "\n",
    "        obj_dict = json.loads(serialized_obj)\n",
    "        return cls.from_dict(\n",
    "            obj_dict, hydrate_tree=hydrate_tree, hydrate_tags=hydrate_tags\n",
    "        )\n",
    "\n",
    "    @classmethod\n",
    "    def from_dict(cls, obj_dict, hydrate_tree=False, hydrate_tags=False):\n",
    "\n",
    "        # Convert attributes to target format as per SERIALIZED_ATTRS.\n",
    "        for attr_group, attrs in cls.SERIALIZED_ATTRS.items():\n",
    "            if attr_group == \"numpy\":\n",
    "                for attr in attrs:\n",
    "                    obj_dict[attr] = np.array(obj_dict[attr])\n",
    "            elif attr_group == \"csr_matrix\":\n",
    "                for attr in attrs:\n",
    "                    # csr_matrix is used for serialization, but obj is transformed to dense array\n",
    "                    # for calculations\n",
    "                    obj_dict[attr] = csr_matrix(\n",
    "                        (\n",
    "                            obj_dict[attr][\"data\"],\n",
    "                            (obj_dict[attr][\"row\"], obj_dict[attr][\"col\"]),\n",
    "                        ),\n",
    "                        shape=obj_dict[attr][\"shape\"],\n",
    "                    ).toarray()\n",
    "            elif attr_group == \"set\":\n",
    "                for attr in attrs:\n",
    "                    obj_dict[attr] = set(obj_dict[attr])\n",
    "            else:\n",
    "                # obj_dict[attr] is already of expected type\n",
    "                continue\n",
    "\n",
    "        ht_instance = cls(**obj_dict)\n",
    "\n",
    "        if any([hydrate_tree, hydrate_tags]):\n",
    "            # Recalculate tree with parameter values from serialized object\n",
    "            ht_instance.fit_tag_tree(\n",
    "                **{\n",
    "                    attr: value\n",
    "                    for attr, value in obj_dict.items()\n",
    "                    if attr\n",
    "                    in [\n",
    "                        \"term_suggestions_doc_freq\",\n",
    "                        \"term_similarity_threshold\",\n",
    "                        \"min_term_cluster_count\",\n",
    "                        \"random_state\",\n",
    "                    ]\n",
    "                }\n",
    "            )\n",
    "\n",
    "        if hydrate_tags:\n",
    "            # Recalculate document tags with parameter values from serialized object\n",
    "            ht_instance.tag_documents(\n",
    "                **{\n",
    "                    attr: value\n",
    "                    for attr, value in obj_dict.items()\n",
    "                    if attr in [\"min_abstraction_similarity\", \"min_tag_score\"]\n",
    "                }\n",
    "            )\n",
    "\n",
    "        return ht_instance\n",
    "\n",
    "    def to_json(self):\n",
    "\n",
    "        obj_dict = {\n",
    "            attr: getattr(self, attr)\n",
    "            for attrs in self.SERIALIZED_ATTRS.values()\n",
    "            for attr in attrs\n",
    "        }\n",
    "\n",
    "        # Use smaller csr_matrix for serialization\n",
    "        obj_dict[\"_filtered_term_similarity\"] = csr_matrix(\n",
    "            obj_dict[\"_filtered_term_similarity\"]\n",
    "        )\n",
    "\n",
    "        return json.dumps(obj_dict, cls=CustomEncoder)\n",
    "\n",
    "    def ingest(\n",
    "        self,\n",
    "        document_terms: Dict[AnyStr, List],\n",
    "        document_attributes: Dict[AnyStr, Dict] = None,\n",
    "        term_suggestions: List[AnyStr] = None,\n",
    "        filter_geo_terms: bool = False,\n",
    "        term_similarity_minimum: float = 0.6,\n",
    "    ):\n",
    "        \"\"\"\n",
    "        The ingest step involves going from the terms as they appear in the documents, to a filtered\n",
    "        set of terms to use as candiates in the successive tree fitting step.\n",
    "\n",
    "        We attempt to reduces the term set by combining plurals with singulars and, optionally,\n",
    "        removing geographical names. We then map all the remining filtered_terms into an embedding\n",
    "        space using a large language model.\n",
    "        \"\"\"\n",
    "\n",
    "        # Set up starting values\n",
    "        self._intialize_ingest(document_terms, document_attributes, term_suggestions)\n",
    "\n",
    "        # Create a clean term set from documents and suggestions\n",
    "        self._clean_up_terms(\n",
    "            filter_geo_terms, term_similarity_minimum=term_similarity_minimum\n",
    "        )\n",
    "\n",
    "    def _intialize_ingest(self, document_terms, document_attributes, term_suggestions):\n",
    "        # Resets attributes to empty containers and/or user arguments.\n",
    "        self.term_pipeline = dict()\n",
    "        self.filtered_terms = set()\n",
    "        self.grouped_terms = dict()\n",
    "        self.selected_terms = list()\n",
    "        self.term_suggestions = (\n",
    "            [t.lower() for t in term_suggestions]\n",
    "            if term_suggestions is not None\n",
    "            else list()\n",
    "        )\n",
    "        self.document_terms = document_terms\n",
    "        self.document_attributes = document_attributes\n",
    "        self.n_docs = len(document_terms)\n",
    "\n",
    "    def _clean_up_terms(self, filter_geo_terms, term_similarity_minimum=0.6):\n",
    "        # Create term set from documents and suggestions\n",
    "        self._create_term_set()\n",
    "        # Remove plurals\n",
    "        self._remove_plurals()\n",
    "        # Exclude geographical terms\n",
    "        self.filter_geo_terms = filter_geo_terms\n",
    "        if self.filter_geo_terms is True:\n",
    "            self._apply_geo_term_filter()\n",
    "        # Map terms to embedding space\n",
    "        self._semantic_term_map()\n",
    "        # Create a term similarity matrix, subject to minimum similarity\n",
    "        self._create_filtered_term_similarity(\n",
    "            term_similarity_minimum=term_similarity_minimum\n",
    "        )\n",
    "\n",
    "    def _create_term_set(self):\n",
    "        # Creates initial set of all terms. Also makes lowercase.\n",
    "        lowercase_terms = [\n",
    "            term.lower()\n",
    "            for document in self.document_terms.values()\n",
    "            for term in document\n",
    "        ]\n",
    "        self.filtered_terms = set(lowercase_terms)\n",
    "\n",
    "        # Add suggestions to filtered_terms set\n",
    "        self.filtered_terms = self.filtered_terms.union(set(self.term_suggestions))\n",
    "\n",
    "        # Term counts and frequencies from docs\n",
    "        self.term_counts = Counter(lowercase_terms)\n",
    "        # Calculate term document frequencies.\n",
    "        # Assumes that a term is not present twice in any document.\n",
    "        self.term_doc_freq = {\n",
    "            term: self.term_counts[term] / self.n_docs for term in self.filtered_terms\n",
    "        }\n",
    "\n",
    "    def _remove_plurals(self):\n",
    "        # Creates a term_pipeline step mapping plural terms to their singular\n",
    "        plurals = set()\n",
    "        remove_plurals_step = dict()\n",
    "        for term in self.filtered_terms:\n",
    "            # For each plural term where singular is also in set\n",
    "            # Drop the plural and move its counts to the singular\n",
    "            if term[-1] == \"s\" and term[0:-1] in self.filtered_terms:\n",
    "                plurals.add(term)\n",
    "                remove_plurals_step[term] = term[0:-1]\n",
    "                self.term_counts[term[0:-1]] += self.term_counts[term]\n",
    "                self.term_counts[term] = 0\n",
    "            if term[-3:] == \"ies\" and term[0:-3] + \"y\" in self.filtered_terms:\n",
    "                plurals.add(term)\n",
    "                remove_plurals_step[term] = term[0:-3] + \"y\"\n",
    "                self.term_counts[term[0:-3] + \"y\"] += self.term_counts[term]\n",
    "                self.term_counts[term] = 0\n",
    "\n",
    "        self.term_pipeline[\"1: Remove Plurals\"] = remove_plurals_step\n",
    "        self.filtered_terms = self.filtered_terms - plurals\n",
    "\n",
    "    def _apply_geo_term_filter(self):\n",
    "        # Creates a term_pipeline step to remove geographical locations from the term set\n",
    "\n",
    "        # Load set of locations\n",
    "        locations = get_locations_set()\n",
    "\n",
    "        # Initialize pipeline step\n",
    "        remove_geo_terms_step = dict()\n",
    "\n",
    "        # Remove all terms that are exact matches to the location set\n",
    "        geo_terms = set(self.filtered_terms).intersection(locations)\n",
    "        for term in geo_terms:\n",
    "            remove_geo_terms_step[term] = self.TERM_DROP_KEY\n",
    "        self.filtered_terms = self.filtered_terms - geo_terms\n",
    "\n",
    "        # Remove terms that contain locations\n",
    "        def _is_sublist(sub_lst, lst):\n",
    "            n = len(sub_lst)\n",
    "            return any((sub_lst == lst[i : i + n]) for i in range(len(lst) - n + 1))\n",
    "\n",
    "        for term in self.filtered_terms:\n",
    "            for location in locations:\n",
    "                if _is_sublist(location.split(), term.split()):\n",
    "                    # Remove if location is a subsequence of words in term\n",
    "                    remove_geo_terms_step[term] = self.TERM_DROP_KEY\n",
    "                    geo_terms.add(term)\n",
    "                    # Break out of inner loop to move to next term\n",
    "                    break\n",
    "\n",
    "        self.term_pipeline[\"2: Remove Geo Terms\"] = remove_geo_terms_step\n",
    "        self.filtered_terms = self.filtered_terms - geo_terms\n",
    "\n",
    "    def _semantic_term_map(self):\n",
    "        # Calculate embeddings for terms that passed initial filtering\n",
    "        self.filtered_terms = list(self.filtered_terms)\n",
    "        self._term_embeddings = self.ENCODER.encode(self.filtered_terms)\n",
    "\n",
    "    def _create_filtered_term_similarity(self, term_similarity_minimum=0.6):\n",
    "        self._filtered_term_similarity = cosine_similarity(self._term_embeddings)\n",
    "        # To reduce memory footprint we set all 'low' similarities to zero and convert to csr_matrix\n",
    "        # upon serialization\n",
    "        if term_similarity_minimum:\n",
    "            self._filtered_term_similarity[\n",
    "                self._filtered_term_similarity < term_similarity_minimum\n",
    "            ] = 0\n",
    "\n",
    "    #\n",
    "    # EXTRACT THE HIERARCHICAL TAG TREE\n",
    "    #\n",
    "\n",
    "    def fit_tag_tree(\n",
    "        self,\n",
    "        term_exclusion_list: List[AnyStr] = None,\n",
    "        term_suggestions_doc_freq: List[float] = None,\n",
    "        term_similarity_threshold: float = 0.9,\n",
    "        min_term_cluster_count: int = 2,\n",
    "        random_state: float = None,\n",
    "    ):\n",
    "        \"\"\"\n",
    "        This step fits the tag tree from the document terms.\n",
    "\n",
    "        Some pre-processing steps are carried out further reduce the candidate term sets. We group\n",
    "        semantically similar terms. Terms in groups with low overall document count are dropped.\n",
    "        Terms included in the user-provided exclusion list, as well as their synonyms, are also\n",
    "        dropped. Finally, we select a single term from each remaining group. Terms passing this\n",
    "        processing step are referred to as selected_terms, because they are selected as candidate\n",
    "        terms to appear in the hierarchical tree.\n",
    "        \"\"\"\n",
    "\n",
    "        self._initialize_fit(\n",
    "            term_exclusion_list,\n",
    "            term_suggestions_doc_freq,\n",
    "            term_similarity_threshold,\n",
    "            min_term_cluster_count,\n",
    "            random_state,\n",
    "        )\n",
    "\n",
    "        self._process_terms()\n",
    "\n",
    "        self._extract_tag_tree()\n",
    "\n",
    "    def _initialize_fit(\n",
    "        self,\n",
    "        term_exclusion_list,\n",
    "        term_suggestions_doc_freq,\n",
    "        term_similarity_threshold,\n",
    "        min_term_cluster_count,\n",
    "        random_state,\n",
    "    ):\n",
    "        \"\"\"Resets attributes to empty containers and/or user arguments.\"\"\"\n",
    "\n",
    "        self.term_exclusion_list = (\n",
    "            list({t.lower() for t in term_exclusion_list})\n",
    "            if term_exclusion_list is not None\n",
    "            else list()\n",
    "        )\n",
    "        self.term_similarity_threshold = term_similarity_threshold\n",
    "        self.min_term_cluster_count = min_term_cluster_count\n",
    "        self.term_suggestions_doc_freq = (\n",
    "            term_suggestions_doc_freq\n",
    "            if term_suggestions_doc_freq is not None\n",
    "            else list()\n",
    "        )\n",
    "        if len(self.term_suggestions) != len(self.term_suggestions_doc_freq):\n",
    "            raise ValueError(\n",
    "                \"term_suggestions and term_suggestions_doc_freq must be of equal length.\"\n",
    "            )\n",
    "        self.random_state = (\n",
    "            random_state if random_state is not None else np.random.randint(5000)\n",
    "        )\n",
    "\n",
    "    def _process_terms(self):\n",
    "        # Ingest term suggestion document frequencies\n",
    "        self._read_term_suggestion_doc_freq()\n",
    "        # Group semantically similar terms\n",
    "        self._group_terms()\n",
    "        # Drop low count term clusters\n",
    "        self._drop_low_count_term_clusters()\n",
    "        # Apply term exclusion list\n",
    "        self._apply_term_exclusion_list()\n",
    "        # Select representative terms\n",
    "        self._select_representative_terms()\n",
    "        # Run pipeline to process documents and select final term set\n",
    "        self._run_term_pipeline()\n",
    "        # Refocus internals on selected terms only\n",
    "        self._set_up_for_selected_terms()\n",
    "\n",
    "    def _read_term_suggestion_doc_freq(self):\n",
    "        \"\"\"Add or overwrite doc_freq and counts for suggestions\"\"\"\n",
    "        for suggestion, suggestion_doc_freq in zip(\n",
    "            self.term_suggestions, self.term_suggestions_doc_freq\n",
    "        ):\n",
    "            self.term_doc_freq[suggestion] = suggestion_doc_freq\n",
    "            self.term_counts[suggestion] = int(\n",
    "                self.term_doc_freq[suggestion] * self.n_docs\n",
    "            )\n",
    "\n",
    "    def _group_terms(self):\n",
    "        \"\"\"\n",
    "        Cluster semantically similar terms using Louvain clustering.\n",
    "        In this step, we are aiming to find synonyms, so term_similarity_threshold should be high\n",
    "        (ex. >=0.9)\n",
    "        \"\"\"\n",
    "\n",
    "        louvain = Louvain(random_state=self.random_state)\n",
    "        adjacency = copy.deepcopy(self._filtered_term_similarity)\n",
    "        adjacency[adjacency < self.term_similarity_threshold] = 0\n",
    "        adjacency = csr_matrix(adjacency)\n",
    "        labels = louvain.fit_transform(adjacency)\n",
    "\n",
    "        # Store clustering in dict mapping cluster_label to list of terms\n",
    "        grouped_terms = defaultdict(list)\n",
    "        for t, l in zip(self.filtered_terms, labels):\n",
    "            grouped_terms[str(l)].append(t)\n",
    "\n",
    "        self.grouped_terms = grouped_terms\n",
    "\n",
    "    def _drop_low_count_term_clusters(self):\n",
    "        \"\"\"Creates a term_pipeline step to drop all terms in clusters with low overall term count\"\"\"\n",
    "\n",
    "        low_term_count_clusters = [\n",
    "            k\n",
    "            for k, v in self.grouped_terms.items()\n",
    "            if sum(self.term_counts[t] for t in v) < self.min_term_cluster_count\n",
    "        ]\n",
    "\n",
    "        low_term_count_step = {\n",
    "            term: self.TERM_DROP_KEY\n",
    "            for cluster_id, terms in self.grouped_terms.items()\n",
    "            for term in terms\n",
    "            if cluster_id in low_term_count_clusters\n",
    "        }\n",
    "        self.term_pipeline[\"3: Remove Low Count Terms\"] = low_term_count_step\n",
    "\n",
    "        self.grouped_terms = {\n",
    "            k: v\n",
    "            for k, v in self.grouped_terms.items()\n",
    "            if k not in low_term_count_clusters\n",
    "        }\n",
    "\n",
    "    def _apply_term_exclusion_list(self):\n",
    "        \"\"\"\n",
    "        Creates a term_pipeline step to drop clusters containing terms in the exclusion list\n",
    "        This means that synonyms of the excluded term will also be dropped.\n",
    "        The exclusion list should therefore list *concepts* not merely specific variants of a term.\n",
    "        \"\"\"\n",
    "\n",
    "        exclusion_clusters = [\n",
    "            cluster_id\n",
    "            for cluster_id, terms in self.grouped_terms.items()\n",
    "            if any((term in self.term_exclusion_list) for term in terms)\n",
    "        ]\n",
    "\n",
    "        exclusion_step = {\n",
    "            term: self.TERM_DROP_KEY\n",
    "            for cluster_id, terms in self.grouped_terms.items()\n",
    "            for term in terms\n",
    "            if cluster_id in exclusion_clusters\n",
    "        }\n",
    "\n",
    "        self.term_pipeline[\"4: Apply Term Exclusion List\"] = exclusion_step\n",
    "\n",
    "        self.grouped_terms = {\n",
    "            k: v for k, v in self.grouped_terms.items() if k not in exclusion_clusters\n",
    "        }\n",
    "\n",
    "    def _select_representative_terms(self):\n",
    "        \"\"\"\n",
    "        Creates a term_pipeline step selecting a representative term for each cluster\n",
    "        The term with the highest average cosine similarity with all other terms in the cluster is\n",
    "        chosen.\n",
    "        \"\"\"\n",
    "\n",
    "        term_to_representative_term_step = {}\n",
    "        selected_terms = []\n",
    "\n",
    "        for terms in self.grouped_terms.values():\n",
    "            if len(terms) > 1:\n",
    "                term_ids = [self.filtered_terms.index(t) for t in terms]\n",
    "                # Numerical errors were leading to non-reproducibility of results.\n",
    "                # Use slower dtype=float64 as in Notes here\n",
    "                # https://numpy.org/doc/stable/reference/generated/numpy.sum.html\n",
    "                central_term_id = term_ids[\n",
    "                    np.argsort(\n",
    "                        -self._filtered_term_similarity[term_ids, :][:, term_ids].sum(\n",
    "                            axis=1, dtype=\"float64\"\n",
    "                        )\n",
    "                    )[0]\n",
    "                ]\n",
    "                central_term = self.filtered_terms[central_term_id]\n",
    "                selected_terms.append(central_term)\n",
    "                for term in terms:\n",
    "                    if term != central_term:\n",
    "                        term_to_representative_term_step[term] = central_term\n",
    "\n",
    "        self.term_pipeline[\n",
    "            \"5: Select Representative Terms\"\n",
    "        ] = term_to_representative_term_step\n",
    "\n",
    "    def _run_term_pipeline(self):\n",
    "        \"\"\"\n",
    "        Having logged all term transformation steps in .term_pipeline, we now run the original\n",
    "        document_terms through the pipeline to generate processed_document_terms: a document\n",
    "        representation using terms that have been fully processed.\n",
    "        \"\"\"\n",
    "\n",
    "        # Collapse all pipeline steps to generate a single DAG showing how each term is transformed\n",
    "        # at each step.\n",
    "        self._collapsed_term_pipeline = dict()\n",
    "        for pipeline_step in self.term_pipeline.values():\n",
    "            self._collapsed_term_pipeline.update(pipeline_step)\n",
    "\n",
    "        # Run all document terms through term pipeline\n",
    "        processed_document_terms = {}\n",
    "        for document, term_list in self.document_terms.items():\n",
    "            processed_terms = []\n",
    "            for t in term_list:\n",
    "                # Run lowercase term through pipeline\n",
    "                processed_term = next(self._run_term_through_pipeline(t.lower()))\n",
    "                if processed_term is not None:\n",
    "                    processed_terms.append(processed_term)\n",
    "\n",
    "            processed_document_terms[document] = list(set(processed_terms))\n",
    "\n",
    "        self.processed_document_terms = processed_document_terms\n",
    "\n",
    "    def _run_term_through_pipeline(self, term):\n",
    "        \"\"\"\n",
    "        Recursively traverse the term transformation DAG and yield the final term, or None if term\n",
    "        is dropped.\n",
    "        \"\"\"\n",
    "        term_result = self._collapsed_term_pipeline.get(term)\n",
    "        if term_result is None:\n",
    "            # No further pipeline steps\n",
    "            yield term\n",
    "        if term_result == self.TERM_DROP_KEY:\n",
    "            # Term should be dropped\n",
    "            yield None\n",
    "        # Continue pipeline\n",
    "        yield from self._run_term_through_pipeline(term_result)\n",
    "\n",
    "    def _set_up_for_selected_terms(self):\n",
    "        \"\"\"Set up the final selected_terms and associated embeddings and similarity matrix\"\"\"\n",
    "\n",
    "        # Create set of selected terms from documents after term processing\n",
    "        doc_selected_terms = [\n",
    "            term\n",
    "            for doc_terms in self.processed_document_terms.values()\n",
    "            for term in doc_terms\n",
    "        ]\n",
    "\n",
    "        # Process suggestion terms, and keep only the ones that pass all filters\n",
    "        processed_suggested_terms = [\n",
    "            next(self._run_term_through_pipeline(t)) for t in self.term_suggestions\n",
    "        ]\n",
    "        processed_suggested_terms = [\n",
    "            t for t in processed_suggested_terms if t is not None\n",
    "        ]\n",
    "        suggested_selected_terms = set(self.filtered_terms).intersection(\n",
    "            set(processed_suggested_terms)\n",
    "        )\n",
    "\n",
    "        # Combine into final selected_terms\n",
    "        self.selected_terms = list(\n",
    "            set(doc_selected_terms).union(suggested_selected_terms)\n",
    "        )\n",
    "        self._n_selected_terms = len(self.selected_terms)\n",
    "\n",
    "        # Overwrite count data considering only selected term\n",
    "        self.selected_term_counts = Counter(doc_selected_terms)\n",
    "        self.selected_term_doc_freq = {\n",
    "            term: self.selected_term_counts[term] / self.n_docs\n",
    "            for term in set(doc_selected_terms)\n",
    "        }\n",
    "\n",
    "        # Add or overwrite doc_freq for suggestions\n",
    "        for suggestion, suggestion_doc_freq in zip(\n",
    "            self.term_suggestions, self.term_suggestions_doc_freq\n",
    "        ):\n",
    "            if suggestion in suggested_selected_terms:\n",
    "                self.selected_term_doc_freq[suggestion] = suggestion_doc_freq\n",
    "                self.selected_term_counts[suggestion] = int(\n",
    "                    self.selected_term_doc_freq[suggestion] * self.n_docs\n",
    "                )\n",
    "\n",
    "        # Slice embeddings matrix to focus on selected terms\n",
    "        self._selected_terms_idxs = [\n",
    "            self.filtered_terms.index(t) for t in self.selected_terms\n",
    "        ]\n",
    "        self._selected_terms_embeddings = copy.deepcopy(\n",
    "            self._term_embeddings[self._selected_terms_idxs]\n",
    "        )\n",
    "\n",
    "        # Calculate similarity across selected terms\n",
    "        self._selected_terms_similarity = cosine_similarity(\n",
    "            self._selected_terms_embeddings\n",
    "        )\n",
    "\n",
    "    def _extract_tag_tree(self):\n",
    "\n",
    "        # Run hierarchical clustering on terms\n",
    "        self._build_term_hierarchy()\n",
    "\n",
    "        # Build tree from hierarchy\n",
    "        self._build_tag_tree()\n",
    "\n",
    "    def _build_term_hierarchy(self):\n",
    "        self.hierarchy = AgglomerativeClustering(\n",
    "            n_clusters=None,\n",
    "            affinity=\"cosine\",\n",
    "            memory=None,\n",
    "            connectivity=None,\n",
    "            compute_full_tree=\"auto\",\n",
    "            linkage=\"average\",\n",
    "            distance_threshold=0,\n",
    "            compute_distances=False,\n",
    "        )\n",
    "        self.hierarchy.fit(self._selected_terms_embeddings)\n",
    "\n",
    "    def _build_tag_tree(self):\n",
    "        \"\"\"\n",
    "        Build tree downwards starting from highest node\n",
    "        AgglomerativeClustering.hierarchy.children_ stores the ways in which terms are aggregated\n",
    "        hierarchically we build a tree from these relationships, adding some custom logic and\n",
    "        descriptive data in the process.\n",
    "        \"\"\"\n",
    "\n",
    "        self.tree = Tree()\n",
    "        node_id = self.hierarchy.children_.max() + 1\n",
    "        self._build_term_tree_from_node(\n",
    "            node_id, parent_node_id=None, parent_node_term=None\n",
    "        )\n",
    "\n",
    "        # Filter to core nodes, ie ensuring node labels are unique\n",
    "        self._define_core_nodes()\n",
    "\n",
    "        # Build tag tree from core nodes only\n",
    "        self._build_pruned_tree()\n",
    "\n",
    "        # Replace tree with pruned_tree\n",
    "        self.tree = copy.deepcopy(self.pruned_tree)\n",
    "        self.pruned_tree = None\n",
    "\n",
    "    def _build_term_tree_from_node(self, node_id, parent_node_id, parent_node_term):\n",
    "        \"\"\"\n",
    "        Starting from node_id, recursively traverses all downstream nodes and leaves of\n",
    "        self.hierarchy. At each step computes information about the node/leave in terms of the\n",
    "        downstream nodes and, importantly, selects the most central term to be the name of this\n",
    "        node.\n",
    "        \"\"\"\n",
    "\n",
    "        # Find all terms that contained in this node (i.e. are downstream leaves)\n",
    "        term_ids = list()\n",
    "        self._find_node_term_ids(term_ids, node_id)\n",
    "\n",
    "        # Number of terms and their occurrences in the documents\n",
    "        n_terms = len(term_ids)\n",
    "        n_occurrences = sum(self.term_counts[self.selected_terms[i]] for i in term_ids)\n",
    "\n",
    "        # Represent the node via its contained terms, centrality ranking, and scores\n",
    "        ranked_term_ids, ranked_term_id_scores = self._extract_ranked_term_ids(term_ids)\n",
    "        ranked_terms = [self.selected_terms[i] for i in ranked_term_ids]\n",
    "        terms_set = [\n",
    "            (term, score) for term, score in zip(ranked_terms, ranked_term_id_scores)\n",
    "        ]\n",
    "\n",
    "        # Find all downstream elements\n",
    "        leaves, nodes = self._find_node_children(node_id)\n",
    "\n",
    "        if ranked_terms[0] != parent_node_term:\n",
    "            # If central term for this node different from parent node\n",
    "            # Create a new node with associated term and other metadata\n",
    "            node_term = ranked_terms[0]\n",
    "            self.tree.create_node(\n",
    "                node_term,\n",
    "                node_id,\n",
    "                parent=parent_node_id,\n",
    "                data=DataProperty(\n",
    "                    n_terms,\n",
    "                    n_occurrences,\n",
    "                    ranked_terms[:3],\n",
    "                    terms_set,\n",
    "                    f\"{node_term} - {n_occurrences}\",\n",
    "                ),\n",
    "            )\n",
    "        else:\n",
    "            # If central term for this node is the same a parent node\n",
    "            # Don't create new node and pass parent node id and term downstream\n",
    "            node_id = parent_node_id\n",
    "            node_term = parent_node_term\n",
    "\n",
    "        # Proceed down into the tree, handling nodes and leaves differently\n",
    "\n",
    "        # Recursively move to the downstream nodes, passing this node as parent\n",
    "        for node in nodes:\n",
    "            self._build_term_tree_from_node(node, node_id, node_term)\n",
    "\n",
    "        # Create nodes directly for all immediate downstream leaves\n",
    "        for leaf in leaves:\n",
    "            leaf_term = self.selected_terms[leaf]\n",
    "            if leaf_term != node_term:\n",
    "                # Create leaf nodes if leaf is a different term\n",
    "                self.tree.create_node(\n",
    "                    leaf_term,\n",
    "                    leaf,\n",
    "                    parent=node_id,\n",
    "                    data=DataProperty(\n",
    "                        1,\n",
    "                        self.term_counts[leaf_term],\n",
    "                        [leaf_term],\n",
    "                        [leaf_term],\n",
    "                        f\"{leaf_term} - {self.term_counts[leaf_term]}\",\n",
    "                    ),\n",
    "                )\n",
    "\n",
    "    def _find_node_children(self, node_id):\n",
    "        \"\"\"\n",
    "        Find downstream nodes and leaves for a given node_id\n",
    "        See https://scikit-learn.org/stable/modules/generated/sklearn.cluster.AgglomerativeClustering.html\n",
    "        Section: Attributes -> children_\n",
    "        \"\"\"\n",
    "        if node_id < self._n_selected_terms:\n",
    "            # Leaf node\n",
    "            return [node_id], []\n",
    "        children = self.hierarchy.children_[node_id - self._n_selected_terms]\n",
    "        leaves = [child for child in children if child < self._n_selected_terms]\n",
    "        nodes = [child for child in children if child >= self._n_selected_terms]\n",
    "        return leaves, nodes\n",
    "\n",
    "    def _find_node_term_ids(self, term_ids, node_id):\n",
    "        \"\"\"\n",
    "        Recursively traverse to tree down to the leaves, collecting term_ids for all downstream\n",
    "        terms.\n",
    "        \"\"\"\n",
    "        leaves, nodes = self._find_node_children(node_id)\n",
    "        term_ids.extend(leaves)\n",
    "        for node in nodes:\n",
    "            self._find_node_term_ids(term_ids, node)\n",
    "\n",
    "    def _extract_ranked_term_ids(self, term_ids):\n",
    "        \"\"\"\n",
    "        Rank selected term_ids by (descending) measure of centrality\n",
    "        Centrality is measured by the average term similarity across all terms in the set\n",
    "        weighted by the term document frequencies: semantic similarity to a frequent term will count\n",
    "        more.\n",
    "        \"\"\"\n",
    "\n",
    "        # Similarities in the term set\n",
    "        sim_subgraph = self._selected_terms_similarity[term_ids, :][:, term_ids]\n",
    "        # Term document frequencies\n",
    "        weights = np.array(\n",
    "            [self.selected_term_doc_freq[self.selected_terms[i]] for i in term_ids]\n",
    "        )\n",
    "        # Weighted average term similarity\n",
    "        term_scores = (sim_subgraph * weights.T).sum(axis=1)\n",
    "\n",
    "        # Rankings\n",
    "        ranked_term_ids = [term_ids[i] for i in np.argsort(-term_scores)]\n",
    "        ranked_term_id_scores = -np.sort(-term_scores)\n",
    "        return ranked_term_ids, ranked_term_id_scores\n",
    "\n",
    "    def _define_core_nodes(self, min_n_terms=1):\n",
    "        \"\"\"\n",
    "        Defines set of core_nodes.\n",
    "        If two nodes have the same central term (node.tag), choose the node with the higher document\n",
    "        frequency.\n",
    "        Can also limit nodes to those containing a min_n_terms.\n",
    "        \"\"\"\n",
    "\n",
    "        descending_nodes = sorted(\n",
    "            self.tree.all_nodes(), key=lambda x: x.data.n_occurrences, reverse=True\n",
    "        )\n",
    "\n",
    "        used_terms = set()\n",
    "        core_nodes = []\n",
    "        for node in descending_nodes:\n",
    "            if node.tag not in used_terms and node.data.n_terms > min_n_terms:\n",
    "                core_nodes.append(node)\n",
    "                used_terms.add(node.tag)\n",
    "\n",
    "        self._core_nodes = core_nodes\n",
    "\n",
    "    def _build_pruned_tree(self):\n",
    "        \"\"\"Builds a tree that only exists of nodes in the core nodes\"\"\"\n",
    "        core_node_ids = {x.identifier for x in self._core_nodes}\n",
    "        self.pruned_tree = Tree()\n",
    "        for node in self._core_nodes:\n",
    "            found_parent = False\n",
    "            # Documentation for .predecessor does not exist (yet?)\n",
    "            # See: https://github.com/caesar0301/treelib/blob/master/treelib/node.py#L129\n",
    "            # See: https://github.com/caesar0301/treelib/issues/158\n",
    "            old_tree_parent = node.predecessor(self.tree.identifier)\n",
    "            if not old_tree_parent:\n",
    "                # No parent found -> Add as root node\n",
    "                self.pruned_tree.add_node(node)\n",
    "                found_parent = True\n",
    "            while not found_parent:\n",
    "                # Look until we find ancestor in set of core nodes, and add to pruned_tree.\n",
    "                if old_tree_parent in core_node_ids:\n",
    "                    self.pruned_tree.add_node(node, parent=old_tree_parent)\n",
    "                    found_parent = True\n",
    "                else:\n",
    "                    not_found_node = self.tree.nodes[old_tree_parent]\n",
    "                    old_tree_parent = not_found_node.predecessor(self.tree.identifier)\n",
    "        return self.pruned_tree\n",
    "\n",
    "    #\n",
    "    # TAG DOCUMENTS\n",
    "    #\n",
    "\n",
    "    def tag_documents(\n",
    "        self, min_abstraction_similarity: float = 0.2, min_tag_score: float = 0.15\n",
    "    ):\n",
    "        \"\"\"\n",
    "        Maps document topics to hierarchical tags.\n",
    "\n",
    "        We have a set of candidate tags, represented as nodes in the hierarchical tree, and stored\n",
    "        in core_nodes.\n",
    "\n",
    "        Each node has a unique label (node.tag) and its meaning is represented as a weighted\n",
    "        combination of the children terms (node.data.term_set).\n",
    "\n",
    "        We want to match each of the document topics to the closest candidate node.\n",
    "        Ex 'batteries' -> 'battery storage'.\n",
    "        Additioanlly, we want to also ensure a connection is made to broader / more abstract\n",
    "        domains.\n",
    "        Ex 'batteries' -> 'battery storage' > 'electricity systems' > 'renewable energy' >\n",
    "        'energy' > 'sustainability', ideally with a declining relatedness score as we move further\n",
    "        up the abstractions.\n",
    "\n",
    "        We carry out the following steps to achieve this:\n",
    "            1. Convert core_nodes into a node X term matrix representation\n",
    "            2. Calculate semantic similarity scores across nodes (accounting for the semantic\n",
    "                similarity across terms).\n",
    "            3. Find each node's 'abstractions'. For a node J, 'abstractions' are defined as other\n",
    "                nodes K appearing higher up in the tree, weighted by the similarity between J and K\n",
    "                to capture the increasing remoteness of the abstraction.\n",
    "            4. For each document topic, we map a) closest node (step 1) and b) the node's\n",
    "                abstractions (step 3).\n",
    "            5. We aggregate the topic to abstraction mapping a document level. This yields a\n",
    "                document X node matrix.\n",
    "            6. To account for the fact that higher level abstractions are going to show up more\n",
    "                often, we run this final matrix through a tfidf transformation.\n",
    "        \"\"\"\n",
    "        # Set values\n",
    "        self.min_abstraction_similarity = min_abstraction_similarity\n",
    "        self.min_tag_score = min_tag_score\n",
    "\n",
    "        # Set up a node x term matrix\n",
    "        self._build_node_term_matrix()  # Step 1; nodes X terms matrix\n",
    "        self._build_node_similarity_matrix()  # Step 2; nodes X nodes matrix\n",
    "        self._build_node_abstraction_matrix()  # Step 3 node X nodes matrix\n",
    "        self._match_terms_to_nodes()  # Step 4a; dict term -> closest node\n",
    "\n",
    "        # Match all documents to tags and abstractions\n",
    "        self.document_tag_matrix = np.vstack(\n",
    "            [\n",
    "                self._document_topics_to_tags(document_terms)  # Step 4a, 4b and 5\n",
    "                for document_terms in self.processed_document_terms.values()\n",
    "            ]\n",
    "        )  # documents x nodes matrix\n",
    "\n",
    "        tfidf = TfidfTransformer()  # Step 6\n",
    "        self.document_tags_tfidf = tfidf.fit_transform(self.document_tag_matrix)\n",
    "\n",
    "        self.document_tags = defaultdict(list)\n",
    "        doc_ids = list(self.processed_document_terms.keys())\n",
    "\n",
    "        # Convert documents x nodes matrix to document_id -> tags dictionary\n",
    "        cx = self.document_tags_tfidf.tocoo()\n",
    "        for idx, i, v in zip(cx.row, cx.col, cx.data):\n",
    "            if v > self.min_tag_score:\n",
    "                self.document_tags[doc_ids[idx]].append(\n",
    "                    tuple([self._core_nodes[i].tag, v, self._core_nodes[i].identifier])\n",
    "                )\n",
    "\n",
    "        # Sort document tags by relevance score\n",
    "        for doc_id, tags in self.document_tags.items():\n",
    "            self.document_tags[doc_id] = sorted(tags, key=lambda x: x[1], reverse=True)\n",
    "\n",
    "    def _build_node_term_matrix(self):\n",
    "        \"\"\"\n",
    "        Build a matrix mapping core nodes (rows) to their contained terms (columns), and their\n",
    "        measure of centrality.\n",
    "        \"\"\"\n",
    "\n",
    "        # Populate as sparse matrix\n",
    "        rows = list()\n",
    "        cols = list()\n",
    "        data = list()\n",
    "        for i, core_node in enumerate(self._core_nodes):\n",
    "            row = np.array(\n",
    "                [i] * core_node.data.n_terms\n",
    "            )  # Rows in same order as _core_nodes\n",
    "            terms, datum = zip(*core_node.data.term_set)\n",
    "            col = np.array([self.selected_terms.index(term) for term in terms])\n",
    "            rows.extend(row)\n",
    "            cols.extend(col)\n",
    "            data.extend(datum)\n",
    "\n",
    "        rows = np.array(rows)\n",
    "        cols = np.array(cols)\n",
    "        data = np.array(data)\n",
    "\n",
    "        node_term_matrix = csr_matrix(\n",
    "            (data, (rows, cols)),\n",
    "            shape=(len(self._core_nodes), len(self.selected_terms)),\n",
    "        )\n",
    "        node_term_matrix = normalize(node_term_matrix)\n",
    "\n",
    "        self._node_term_matrix = node_term_matrix\n",
    "\n",
    "        # Mapping of node identifier to node index in node_term_matrix rows\n",
    "        self._node_id_to_idx = {\n",
    "            core_node.identifier: i for i, core_node in enumerate(self._core_nodes)\n",
    "        }\n",
    "        self._node_idx_to_id = {\n",
    "            i: core_node.identifier for i, core_node in enumerate(self._core_nodes)\n",
    "        }\n",
    "\n",
    "    def _build_node_similarity_matrix(self):\n",
    "\n",
    "        \"\"\"\n",
    "        Calculate a matrix of cosine similarity across all nodes, but weighted to allow similar\n",
    "        terms to count, at least partially, towards the similarity.\n",
    "\n",
    "        See https://en.wikipedia.org/wiki/Cosine_similarity#Soft_cosine_measure\n",
    "\n",
    "        Two docs [\"electric cars\", \"urban mobility\"] & [\"electric vehicles\", \"urban mobility\"]\n",
    "        should have a similarity of almost 1 and not of just 0.5 as would be the case if we only\n",
    "        consider the exact terms.\n",
    "        To achieve this, we weigh the contribution of the \"electric cars\" <-> \"electric vehicles\"\n",
    "        by their term as estimates by based on their language model embedding vectors.\n",
    "\n",
    "        Normally we would construct a document pairwise similarity matrix using cosine similarity.\n",
    "        For unit vectors, this is just the dot product of all vector pairs:\n",
    "\n",
    "        raw_similarity_matrix = entity_set_A_features * entity_set_B_features.T\n",
    "\n",
    "        However, we want for similar terms (electric car vs elecrtic vehicles) to count towards the\n",
    "        similarity. We can do this by weighing the product by the similarity across terms.\n",
    "        So we do this instead:\n",
    "        raw_similarity_matrix = entity_set_A_features * term_similarity * entity_set_B_features.T\n",
    "\n",
    "        However, this similarity score will not be bounded to 1. It will increase arbitrarily with\n",
    "        the number of terms present in a document, and will include some double counting if a\n",
    "        document itself is tagged with two similar terms, which then will be 'doubly' similar when\n",
    "        matched to the terms in the other document.\n",
    "\n",
    "        To remove this effect we aim to normalize similarity by the geometric mean of the\n",
    "        non-normalized similarity scores of entities in set A and set B with themselves.\n",
    "\n",
    "        We take diagonal from the non-normalized similarity matrices of sets A and B and take the\n",
    "        product of all pairs. Then take the sqrt to get geometric mean.\n",
    "\n",
    "        non_normalized_set_A_similarity_matrix =\n",
    "            entity_set_A_features * term_similarity * entity_set_A_features.T\n",
    "\n",
    "        non_normalized_set_B_similarity_matrix =\n",
    "            entity_set_B_features * term_similarity * entity_set_B_features.T\n",
    "\n",
    "        normalization_denominator =\n",
    "            np.sqrt(\n",
    "                non_normalized_set_A_similarity_matrix.diagonal()[:,None] *\n",
    "                non_normalized_set_B_similarity_matrix.diagonal()\n",
    "            )\n",
    "\n",
    "        We then divide the raw_similarity_matrix by the normalization_denominator to get a\n",
    "        similarity_matrix (approximately) bounded by 0 and 1.\n",
    "        Note: Approximately as in practice we've seen values bounded by 1 but going slightly below\n",
    "        0, although we have not investigated why.\n",
    "\n",
    "        The normalization_denominator may have some 0 entries (unless all terms are used) as some\n",
    "        documents may have 0 for all features. These docs will have 0 self-similarity and we get\n",
    "        division by zero. This is not an issue as the numerator is bound to be 0 too, so we just\n",
    "        skip these cells in the division.\n",
    "\n",
    "        similarity_matrix[normalization_denominator>0] = (\n",
    "            raw_similarity_matrix[normalization_denominator>0] /\n",
    "            normalization_denominator[normalization_denominator>0]\n",
    "        )\n",
    "        \"\"\"\n",
    "\n",
    "        raw_node_sim = (\n",
    "            self._node_term_matrix\n",
    "            * self._selected_terms_similarity\n",
    "            * self._node_term_matrix.T\n",
    "        )\n",
    "        normalization_denominator = np.sqrt(\n",
    "            raw_node_sim.diagonal()[:, None] * raw_node_sim.diagonal()\n",
    "        )\n",
    "        node_similarity_matrix = copy.deepcopy(raw_node_sim)\n",
    "        node_similarity_matrix[normalization_denominator > 0] = (\n",
    "            raw_node_sim[normalization_denominator > 0]\n",
    "            / normalization_denominator[normalization_denominator > 0]\n",
    "        )\n",
    "\n",
    "        self._node_similarity_matrix = node_similarity_matrix\n",
    "\n",
    "    def _build_node_abstraction_matrix(self):\n",
    "        \"\"\"Matrix mapping nodes (rows) to all related higher-order nodes (ie abstractions).\"\"\"\n",
    "\n",
    "        rows = list()\n",
    "        cols = list()\n",
    "        data = list()\n",
    "        for i in range(len(self._core_nodes)):\n",
    "            _, col, scores = zip(*self._get_node_abstractions(i))\n",
    "            row = np.array([i] * len(scores))\n",
    "            rows.extend(row)\n",
    "            cols.extend(col)\n",
    "            data.extend(scores)\n",
    "\n",
    "        rows = np.array(rows)\n",
    "        cols = np.array(cols)\n",
    "        data = np.array(data)\n",
    "\n",
    "        node_abstraction_matrix = csr_matrix(\n",
    "            (data, (rows, cols)), shape=(len(self._core_nodes), len(self._core_nodes))\n",
    "        )\n",
    "\n",
    "        self._node_abstraction_matrix = node_abstraction_matrix\n",
    "\n",
    "    def _get_node_abstractions(self, node_idx):\n",
    "        \"\"\"\n",
    "        Look up all higher-order nodes for given node_id and collect node.identifier and similarity\n",
    "        score.\n",
    "        \"\"\"\n",
    "        lineage = self._show_term_lineage(self._core_nodes[node_idx].identifier)\n",
    "\n",
    "        abstractions = [\n",
    "            (\n",
    "                l.tag,\n",
    "                self._node_id_to_idx[l.identifier],\n",
    "                self._node_similarity_matrix[\n",
    "                    node_idx, self._node_id_to_idx[l.identifier]\n",
    "                ],\n",
    "            )\n",
    "            for l in lineage\n",
    "            if self._node_id_to_idx.get(l.identifier) is not None\n",
    "        ]\n",
    "\n",
    "        return abstractions\n",
    "\n",
    "    def _show_term_lineage(self, node_id):\n",
    "        # Return all the parent nodes up to the top\n",
    "\n",
    "        lineage = [self.tree.nodes[node_id]]\n",
    "\n",
    "        while self.tree.parent(node_id) is not None:\n",
    "            lineage.append(self.tree.parent(node_id))\n",
    "            node_id = self.tree.parent(node_id).identifier\n",
    "\n",
    "        lineage.reverse()\n",
    "        return lineage\n",
    "\n",
    "    def _match_terms_to_nodes(self):\n",
    "        # Refer to discussion in _build_node_similarity_matrix\n",
    "        # Here we are matching the terms themselves to the nodes. The matrix in the left of\n",
    "        # selected_term_similarity would just be the identity matrix.\n",
    "        raw_term_to_node_sim = (\n",
    "            self._selected_terms_similarity * self._node_term_matrix.T\n",
    "        )\n",
    "\n",
    "        # non_normalized_single_term_similarity_matrix =\n",
    "        # identity x selected_term_similarity x identity -->\n",
    "        # selected_term_similarity (diagonal is one...)\n",
    "        non_normalized_node_similarity_matrix = (\n",
    "            self._node_term_matrix\n",
    "            * self._selected_terms_similarity\n",
    "            * self._node_term_matrix.T\n",
    "        )\n",
    "        normalization_denominator = np.sqrt(\n",
    "            self._selected_terms_similarity.diagonal()[:, None]\n",
    "            * non_normalized_node_similarity_matrix.diagonal()\n",
    "        )\n",
    "        term_to_node_sim = copy.deepcopy(raw_term_to_node_sim)\n",
    "        term_to_node_sim[normalization_denominator > 0] = (\n",
    "            raw_term_to_node_sim[normalization_denominator > 0]\n",
    "            / normalization_denominator[normalization_denominator > 0]\n",
    "        )\n",
    "        # Closest node to term. Matrix to dictionary.\n",
    "        term_to_node_matches = np.argmax(term_to_node_sim, axis=1)\n",
    "        self._term_to_node_idx = {\n",
    "            term: node_idx\n",
    "            for term, node_idx in zip(self.selected_terms, term_to_node_matches)\n",
    "        }\n",
    "\n",
    "    def _document_topics_to_tags(self, document_terms):\n",
    "        # For all document terms find matching closest node ids\n",
    "        node_ids = [self._term_to_node_idx[term] for term in document_terms]\n",
    "        # Look up nodes and their abstractions in node_abstraction_matrix\n",
    "        node_abstractions = self._node_abstraction_matrix[node_ids]\n",
    "        # Silence all abstractions below threshold similarity value\n",
    "        node_abstractions[node_abstractions <= self.min_abstraction_similarity] = 0\n",
    "        # Sum across to get document to tags match with weights\n",
    "        return node_abstractions.sum(axis=0)\n",
    "\n",
    "\n",
    "class CustomEncoder(json.JSONEncoder):\n",
    "    def default(self, obj):\n",
    "        if isinstance(obj, np.ndarray):\n",
    "            return obj.tolist()\n",
    "        elif isinstance(obj, csr_matrix):\n",
    "            obj_coo = obj.tocoo()\n",
    "            return {\n",
    "                \"data\": obj_coo.data,\n",
    "                \"row\": obj_coo.row,\n",
    "                \"col\": obj_coo.col,\n",
    "                \"shape\": obj_coo.shape,\n",
    "            }\n",
    "        elif isinstance(obj, set):\n",
    "            return list(obj)\n",
    "        else:\n",
    "            return json.JSONEncoder.default(self, obj)\n",
    "\n",
    "\n",
    "def get_locations_set():\n",
    "    \"\"\"\n",
    "    Collects a standard set of locations to allow filtering these from the term set.\n",
    "    This is useful if clustering documents around location is not of interest.\n",
    "    As the step of filtering location names is computationally demanding,\n",
    "    we restrict the set to countries, capitals, and US states and cites\n",
    "    \"\"\"\n",
    "\n",
    "    # Continents, counties and capitals\n",
    "    # Reference: https://gist.github.com/pamelafox/986163\n",
    "    file_path = os.path.join(os.path.dirname(__file__), \"data/countries.json\")\n",
    "    with open(file_path) as f:\n",
    "        countries = json.load(f)\n",
    "\n",
    "    continents = set()\n",
    "    country_names = set()\n",
    "    capitals = set()\n",
    "    for country in countries:\n",
    "        continents.add(country[\"continent\"].lower())\n",
    "        country_names.add(country[\"name\"].lower())\n",
    "        capitals.add(country[\"capital\"].lower())\n",
    "\n",
    "    # US states\n",
    "    file_path = os.path.join(os.path.dirname(__file__), \"data/us_states.json\")\n",
    "    with open(file_path) as f:\n",
    "        state_names = json.load(f)\n",
    "    state_names = {s.lower() for s in state_names}\n",
    "\n",
    "    # Cities list; limit to US to restrict the set\n",
    "    # Reference: https://datahub.io/core/world-cities, which itself sources the data from https://www.geonames.org/.\n",
    "    file_path = os.path.join(os.path.dirname(__file__), \"data/world-cities.json\")\n",
    "    with open(file_path) as f:\n",
    "        world_cities = json.load(f)\n",
    "\n",
    "    us_cities_list = {\n",
    "        c[\"name\"] for c in world_cities if c[\"country\"] == \"United States\"\n",
    "    }\n",
    "\n",
    "    locations = continents | country_names | capitals | state_names | us_cities_list\n",
    "\n",
    "    return locations"
   ]
  },
  {
   "cell_type": "code",
   "execution_count": null,
   "id": "688c8445",
   "metadata": {},
   "outputs": [],
   "source": [
    "def keyword_averaging(sample):\n",
    "    topics = {}\n",
    "    all_kws = []\n",
    "    for s in sample:\n",
    "        all_kws += get_kws(s[\"text\"])\n",
    "    \n",
    "    #average\n",
    "    topic_mem = []\n",
    "    for kws in all_kws:\n",
    "        topic, prob = kws\n",
    "        topic_mem += [topic]\n",
    "        if topics.get(topic):\n",
    "            topics[topic] += prob\n",
    "        else:\n",
    "            topics[topic] = prob\n",
    "                \n",
    "    for topic, prob in topics.items():\n",
    "        #normalize topic probability\n",
    "        topics[topic] = topics[topic] / len([t for t in topic_mem if t == topic])\n",
    "    sort_ = {k: v for k, v in sorted(topics.items(), key=lambda item: item[1])}\n",
    "    return topics\n",
    "        "
   ]
  },
  {
   "cell_type": "code",
   "execution_count": null,
   "id": "46f9f367",
   "metadata": {},
   "outputs": [],
   "source": []
  },
  {
   "cell_type": "code",
   "execution_count": null,
   "id": "3f17cf30",
   "metadata": {},
   "outputs": [],
   "source": []
  }
 ],
 "metadata": {
  "kernelspec": {
   "display_name": "conda_pytorch_p36",
   "language": "python",
   "name": "conda_pytorch_p36"
  },
  "language_info": {
   "codemirror_mode": {
    "name": "ipython",
    "version": 3
   },
   "file_extension": ".py",
   "mimetype": "text/x-python",
   "name": "python",
   "nbconvert_exporter": "python",
   "pygments_lexer": "ipython3",
   "version": "3.6.13"
  }
 },
 "nbformat": 4,
 "nbformat_minor": 5
}
