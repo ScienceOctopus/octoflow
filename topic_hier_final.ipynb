{
 "cells": [
  {
   "cell_type": "markdown",
   "id": "fa524441",
   "metadata": {},
   "source": [
    "Keybert for sample subset of each cluster"
   ]
  },
  {
   "cell_type": "markdown",
   "id": "fdbf2e53",
   "metadata": {},
   "source": [
    "* attach DOI to each cluster\n",
    "* attach topic1 and topic2 to each cluster"
   ]
  },
  {
   "cell_type": "code",
   "execution_count": 2,
   "id": "0d705e8a",
   "metadata": {},
   "outputs": [],
   "source": [
    "import pandas as pd\n",
    "\n",
    "clusters_path = 'downloads/non_medicine_230k_clusters.json'\n",
    "\n",
    "df = pd.read_csv(\"downloads/June23_non_medicine.csv\")#.sample(frac=0.6)\n",
    "df = df[df.text.notna() & df.doi.notna()]"
   ]
  },
  {
   "cell_type": "code",
   "execution_count": 3,
   "id": "63002501",
   "metadata": {},
   "outputs": [],
   "source": [
    "import json\n",
    "with open(clusters_path) as f:\n",
    "    clusters = json.loads(f.read())\n",
    "    #print(data['data'][0])"
   ]
  },
  {
   "cell_type": "code",
   "execution_count": null,
   "id": "ffbb1a1b",
   "metadata": {},
   "outputs": [],
   "source": []
  },
  {
   "cell_type": "code",
   "execution_count": 4,
   "id": "ead336c1",
   "metadata": {
    "collapsed": true,
    "jupyter": {
     "outputs_hidden": true
    }
   },
   "outputs": [
    {
     "name": "stdout",
     "output_type": "stream",
     "text": [
      "Collecting keybert\n",
      "  Using cached keybert-0.5.1-py3-none-any.whl\n",
      "Requirement already satisfied: numpy>=1.18.5 in /home/ec2-user/anaconda3/envs/pytorch_p36/lib/python3.6/site-packages (from keybert) (1.19.5)\n",
      "Requirement already satisfied: sentence-transformers>=0.3.8 in /home/ec2-user/anaconda3/envs/pytorch_p36/lib/python3.6/site-packages (from keybert) (2.2.0)\n",
      "Requirement already satisfied: scikit-learn>=0.22.2 in /home/ec2-user/anaconda3/envs/pytorch_p36/lib/python3.6/site-packages (from keybert) (0.24.2)\n",
      "Requirement already satisfied: rich>=10.4.0 in /home/ec2-user/anaconda3/envs/pytorch_p36/lib/python3.6/site-packages (from keybert) (12.4.4)\n",
      "Requirement already satisfied: commonmark<0.10.0,>=0.9.0 in /home/ec2-user/anaconda3/envs/pytorch_p36/lib/python3.6/site-packages (from rich>=10.4.0->keybert) (0.9.1)\n",
      "Requirement already satisfied: typing-extensions<5.0,>=4.0.0 in /home/ec2-user/anaconda3/envs/pytorch_p36/lib/python3.6/site-packages (from rich>=10.4.0->keybert) (4.1.1)\n",
      "Requirement already satisfied: pygments<3.0.0,>=2.6.0 in /home/ec2-user/anaconda3/envs/pytorch_p36/lib/python3.6/site-packages (from rich>=10.4.0->keybert) (2.9.0)\n",
      "Requirement already satisfied: dataclasses<0.9,>=0.7 in /home/ec2-user/anaconda3/envs/pytorch_p36/lib/python3.6/site-packages (from rich>=10.4.0->keybert) (0.8)\n",
      "Requirement already satisfied: scipy>=0.19.1 in /home/ec2-user/anaconda3/envs/pytorch_p36/lib/python3.6/site-packages (from scikit-learn>=0.22.2->keybert) (1.5.3)\n",
      "Requirement already satisfied: threadpoolctl>=2.0.0 in /home/ec2-user/anaconda3/envs/pytorch_p36/lib/python3.6/site-packages (from scikit-learn>=0.22.2->keybert) (2.1.0)\n",
      "Requirement already satisfied: joblib>=0.11 in /home/ec2-user/anaconda3/envs/pytorch_p36/lib/python3.6/site-packages (from scikit-learn>=0.22.2->keybert) (1.0.1)\n",
      "Requirement already satisfied: torch>=1.6.0 in /home/ec2-user/anaconda3/envs/pytorch_p36/lib/python3.6/site-packages (from sentence-transformers>=0.3.8->keybert) (1.6.0)\n",
      "Requirement already satisfied: tqdm in /home/ec2-user/anaconda3/envs/pytorch_p36/lib/python3.6/site-packages (from sentence-transformers>=0.3.8->keybert) (4.64.0)\n",
      "Requirement already satisfied: nltk in /home/ec2-user/anaconda3/envs/pytorch_p36/lib/python3.6/site-packages (from sentence-transformers>=0.3.8->keybert) (3.6.2)\n",
      "Requirement already satisfied: huggingface-hub in /home/ec2-user/anaconda3/envs/pytorch_p36/lib/python3.6/site-packages (from sentence-transformers>=0.3.8->keybert) (0.4.0)\n",
      "Requirement already satisfied: sentencepiece in /home/ec2-user/anaconda3/envs/pytorch_p36/lib/python3.6/site-packages (from sentence-transformers>=0.3.8->keybert) (0.1.96)\n",
      "Requirement already satisfied: transformers<5.0.0,>=4.6.0 in /home/ec2-user/anaconda3/envs/pytorch_p36/lib/python3.6/site-packages (from sentence-transformers>=0.3.8->keybert) (4.18.0)\n",
      "Requirement already satisfied: torchvision in /home/ec2-user/anaconda3/envs/pytorch_p36/lib/python3.6/site-packages (from sentence-transformers>=0.3.8->keybert) (0.5.0)\n",
      "Requirement already satisfied: future in /home/ec2-user/anaconda3/envs/pytorch_p36/lib/python3.6/site-packages (from torch>=1.6.0->sentence-transformers>=0.3.8->keybert) (0.18.2)\n",
      "Requirement already satisfied: regex!=2019.12.17 in /home/ec2-user/anaconda3/envs/pytorch_p36/lib/python3.6/site-packages (from transformers<5.0.0,>=4.6.0->sentence-transformers>=0.3.8->keybert) (2021.4.4)\n",
      "Requirement already satisfied: sacremoses in /home/ec2-user/anaconda3/envs/pytorch_p36/lib/python3.6/site-packages (from transformers<5.0.0,>=4.6.0->sentence-transformers>=0.3.8->keybert) (0.0.53)\n",
      "Requirement already satisfied: requests in /home/ec2-user/anaconda3/envs/pytorch_p36/lib/python3.6/site-packages (from transformers<5.0.0,>=4.6.0->sentence-transformers>=0.3.8->keybert) (2.25.1)\n",
      "Requirement already satisfied: filelock in /home/ec2-user/anaconda3/envs/pytorch_p36/lib/python3.6/site-packages (from transformers<5.0.0,>=4.6.0->sentence-transformers>=0.3.8->keybert) (3.0.12)\n",
      "Requirement already satisfied: tokenizers!=0.11.3,<0.13,>=0.11.1 in /home/ec2-user/anaconda3/envs/pytorch_p36/lib/python3.6/site-packages (from transformers<5.0.0,>=4.6.0->sentence-transformers>=0.3.8->keybert) (0.12.1)\n",
      "Requirement already satisfied: importlib-metadata in /home/ec2-user/anaconda3/envs/pytorch_p36/lib/python3.6/site-packages (from transformers<5.0.0,>=4.6.0->sentence-transformers>=0.3.8->keybert) (4.5.0)\n",
      "Requirement already satisfied: pyyaml>=5.1 in /home/ec2-user/anaconda3/envs/pytorch_p36/lib/python3.6/site-packages (from transformers<5.0.0,>=4.6.0->sentence-transformers>=0.3.8->keybert) (5.4.1)\n",
      "Requirement already satisfied: packaging>=20.0 in /home/ec2-user/anaconda3/envs/pytorch_p36/lib/python3.6/site-packages (from transformers<5.0.0,>=4.6.0->sentence-transformers>=0.3.8->keybert) (21.3)\n",
      "Requirement already satisfied: importlib-resources in /home/ec2-user/anaconda3/envs/pytorch_p36/lib/python3.6/site-packages (from tqdm->sentence-transformers>=0.3.8->keybert) (5.4.0)\n",
      "Requirement already satisfied: click in /home/ec2-user/anaconda3/envs/pytorch_p36/lib/python3.6/site-packages (from nltk->sentence-transformers>=0.3.8->keybert) (8.0.1)\n",
      "Requirement already satisfied: six in /home/ec2-user/anaconda3/envs/pytorch_p36/lib/python3.6/site-packages (from torchvision->sentence-transformers>=0.3.8->keybert) (1.16.0)\n",
      "Requirement already satisfied: pillow>=4.1.1 in /home/ec2-user/anaconda3/envs/pytorch_p36/lib/python3.6/site-packages (from torchvision->sentence-transformers>=0.3.8->keybert) (8.4.0)\n",
      "Requirement already satisfied: pyparsing!=3.0.5,>=2.0.2 in /home/ec2-user/anaconda3/envs/pytorch_p36/lib/python3.6/site-packages (from packaging>=20.0->transformers<5.0.0,>=4.6.0->sentence-transformers>=0.3.8->keybert) (2.4.7)\n",
      "Requirement already satisfied: zipp>=0.5 in /home/ec2-user/anaconda3/envs/pytorch_p36/lib/python3.6/site-packages (from importlib-metadata->transformers<5.0.0,>=4.6.0->sentence-transformers>=0.3.8->keybert) (3.4.1)\n",
      "Requirement already satisfied: urllib3<1.27,>=1.21.1 in /home/ec2-user/anaconda3/envs/pytorch_p36/lib/python3.6/site-packages (from requests->transformers<5.0.0,>=4.6.0->sentence-transformers>=0.3.8->keybert) (1.26.8)\n",
      "Requirement already satisfied: certifi>=2017.4.17 in /home/ec2-user/anaconda3/envs/pytorch_p36/lib/python3.6/site-packages (from requests->transformers<5.0.0,>=4.6.0->sentence-transformers>=0.3.8->keybert) (2021.5.30)\n",
      "Requirement already satisfied: idna<3,>=2.5 in /home/ec2-user/anaconda3/envs/pytorch_p36/lib/python3.6/site-packages (from requests->transformers<5.0.0,>=4.6.0->sentence-transformers>=0.3.8->keybert) (2.10)\n",
      "Requirement already satisfied: chardet<5,>=3.0.2 in /home/ec2-user/anaconda3/envs/pytorch_p36/lib/python3.6/site-packages (from requests->transformers<5.0.0,>=4.6.0->sentence-transformers>=0.3.8->keybert) (4.0.0)\n",
      "Installing collected packages: keybert\n",
      "Successfully installed keybert-0.5.1\n"
     ]
    }
   ],
   "source": [
    "!pip install keybert"
   ]
  },
  {
   "cell_type": "code",
   "execution_count": 5,
   "id": "74a8046c",
   "metadata": {},
   "outputs": [],
   "source": [
    "from keybert import KeyBERT\n",
    "kw_model = KeyBERT()"
   ]
  },
  {
   "cell_type": "code",
   "execution_count": 6,
   "id": "ee2bfcb2",
   "metadata": {},
   "outputs": [],
   "source": [
    "with open(\"downloads/verbs-conjugations.json\") as f:\n",
    "    verbs = json.loads(f.read())\n",
    "    #print(data['data'][0])"
   ]
  },
  {
   "cell_type": "code",
   "execution_count": 7,
   "id": "8817636e",
   "metadata": {},
   "outputs": [
    {
     "name": "stdout",
     "output_type": "stream",
     "text": [
      "Collecting flatdict\n",
      "  Using cached flatdict-4.0.1-py3-none-any.whl\n",
      "Installing collected packages: flatdict\n",
      "Successfully installed flatdict-4.0.1\n"
     ]
    }
   ],
   "source": [
    "!pip install flatdict"
   ]
  },
  {
   "cell_type": "code",
   "execution_count": 8,
   "id": "246172d0",
   "metadata": {},
   "outputs": [],
   "source": [
    "import flatdict\n",
    "\n",
    "flat = flatdict.FlatDict(verbs[0])\n",
    "def flatten(xss):\n",
    "    return [x for xs in xss for x in xs]"
   ]
  },
  {
   "cell_type": "code",
   "execution_count": 9,
   "id": "96162c35",
   "metadata": {},
   "outputs": [],
   "source": [
    "all_verbs = [flatten(flatdict.FlatDict(v_dict).values()) for v_dict in verbs]     "
   ]
  },
  {
   "cell_type": "code",
   "execution_count": 10,
   "id": "d1b773fe",
   "metadata": {},
   "outputs": [],
   "source": [
    "flat_verbs = flatten(all_verbs)"
   ]
  },
  {
   "cell_type": "code",
   "execution_count": 11,
   "id": "fd2b2edb",
   "metadata": {},
   "outputs": [
    {
     "data": {
      "text/plain": [
       "68948"
      ]
     },
     "execution_count": 11,
     "metadata": {},
     "output_type": "execute_result"
    }
   ],
   "source": [
    "flat_verbs = [v for v in flat_verbs if len(v) > 2]\n",
    "len(flat_verbs)"
   ]
  },
  {
   "cell_type": "code",
   "execution_count": 13,
   "id": "b2001b72",
   "metadata": {},
   "outputs": [],
   "source": [
    "unique_verbs = list(set(flat_verbs))"
   ]
  },
  {
   "cell_type": "code",
   "execution_count": 18,
   "id": "caaffa4a",
   "metadata": {},
   "outputs": [
    {
     "data": {
      "text/plain": [
       "False"
      ]
     },
     "execution_count": 18,
     "metadata": {},
     "output_type": "execute_result"
    }
   ],
   "source": [
    "not any(vowel in \"hell\" for vowel in [\"a\", \"e\", \"i\", \"o\", \"u\"])"
   ]
  },
  {
   "cell_type": "code",
   "execution_count": 87,
   "id": "d1d57fbf",
   "metadata": {},
   "outputs": [],
   "source": [
    "def contains_number(value):\n",
    "    for character in value:\n",
    "        if character.isdigit():\n",
    "            return True\n",
    "    return False"
   ]
  },
  {
   "cell_type": "code",
   "execution_count": 88,
   "id": "2a394f06",
   "metadata": {},
   "outputs": [],
   "source": [
    "def get_kws(text, kw_model=kw_model, blacklist=unique_verbs):\n",
    "    kws = kw_model.extract_keywords(text, \n",
    "                          keyphrase_ngram_range=(1, 2), \n",
    "                          stop_words='english',\n",
    "                          use_mmr=True, \n",
    "                          diversity=0.25)\n",
    "    \n",
    "    kws.sort(key=lambda x: x[1], reverse=True)\n",
    "    \n",
    "    nkws = []\n",
    "    for kw in kws:\n",
    "        name, probs = kw\n",
    "        terms = name.split(\" \")\n",
    "        if len([term for term in terms if \n",
    "                term.endswith(\"ing\") \n",
    "                or term.endswith(\"ly\") \n",
    "                or term in blacklist\n",
    "                or len(term) < 4\n",
    "                #or the last letter is the only vowel\n",
    "                or contains_number(term) \n",
    "                or not any(vowel in term for vowel in [\"a\", \"e\", \"i\", \"o\", \"u\"]) #avoid words like hdfg\n",
    "               ]) == 0:\n",
    "            nkws += [kw]\n",
    "    \n",
    "    return nkws\n",
    "#         if len([term for term in kw.split(\" \") if term.endswith(\"ing\")] > or \n",
    "#     return kws"
   ]
  },
  {
   "cell_type": "code",
   "execution_count": 21,
   "id": "af450d14",
   "metadata": {},
   "outputs": [
    {
     "data": {
      "text/plain": [
       "[('perovskites stoichiometry', 0.602),\n",
       " ('halide perovskites', 0.5961),\n",
       " ('hybrid metal', 0.3223)]"
      ]
     },
     "execution_count": 21,
     "metadata": {},
     "output_type": "execute_result"
    }
   ],
   "source": [
    "get_kws(clusters[0][\"text\"])"
   ]
  },
  {
   "cell_type": "code",
   "execution_count": 22,
   "id": "477d8715",
   "metadata": {},
   "outputs": [],
   "source": [
    "def keyword_averaging(sample):\n",
    "    topics = {}\n",
    "    all_kws = []\n",
    "    for s in sample:\n",
    "        all_kws += get_kws(s[\"text\"])\n",
    "    \n",
    "    #average\n",
    "    topic_mem = []\n",
    "    for kws in all_kws:\n",
    "        topic, prob = kws\n",
    "        topic_mem += [topic]\n",
    "        if topics.get(topic):\n",
    "            topics[topic] += prob\n",
    "        else:\n",
    "            topics[topic] = prob\n",
    "                \n",
    "    for topic, prob in topics.items():\n",
    "        #normalize topic probability\n",
    "        topics[topic] = topics[topic] / len([t for t in topic_mem if t == topic])\n",
    "    sort_ = {k: v for k, v in sorted(topics.items(), key=lambda item: item[1])}\n",
    "    return topics\n",
    "        "
   ]
  },
  {
   "cell_type": "code",
   "execution_count": 23,
   "id": "d530b055",
   "metadata": {},
   "outputs": [
    {
     "name": "stdout",
     "output_type": "stream",
     "text": [
      "0\n",
      "200\n",
      "400\n",
      "600\n",
      "800\n",
      "1000\n",
      "1200\n",
      "1400\n",
      "1600\n",
      "1800\n",
      "2000\n",
      "2200\n",
      "2400\n",
      "2600\n",
      "2800\n",
      "3000\n",
      "3200\n",
      "3400\n"
     ]
    }
   ],
   "source": [
    "for i, c in enumerate(clusters):\n",
    "    c[\"topics\"] = get_kws(c[\"text\"])\n",
    "    if i % 200 == 0:\n",
    "        print(i)"
   ]
  },
  {
   "cell_type": "code",
   "execution_count": 26,
   "id": "c88d0baa",
   "metadata": {},
   "outputs": [],
   "source": [
    "#defined at bottom\n",
    "hierarchical_tagger = HierarchicalTagger()"
   ]
  },
  {
   "cell_type": "code",
   "execution_count": 27,
   "id": "3f2c4eb6",
   "metadata": {},
   "outputs": [],
   "source": [
    "topic_dict = {}\n",
    "for c in clusters:\n",
    "    topic_dict[c[\"doi\"]] = [t[0] for t in c[\"topics\"][:4] if t[1] > 0.4] #limit to top three ?"
   ]
  },
  {
   "cell_type": "code",
   "execution_count": 28,
   "id": "f1734010",
   "metadata": {},
   "outputs": [
    {
     "data": {
      "application/json": {
       "10.1001/ARCHNEUR.1997.00550150041014": [
        "onset alzheimer",
        "apoe allele"
       ],
       "10.1001/ARCHNEUR.61.2.252": [
        "alzheimer disease",
        "alzheimer",
        "progressive cognitive"
       ],
       "10.1001/jamapsychiatry.2013.1957": [
        "mdes symptoms",
        "symptoms irritability",
        "depressive episodes",
        "depressive illness"
       ],
       "10.1002/(SICI)1098-2337(1999)25:5<331::AID-AB2>3.0.CO;2-1": [
        "assessed aggression",
        "aggression variety",
        "aggressive behavior"
       ],
       "10.1002/(SICI)1099-114X(199608)20:8<713::AID-ER185>3.0.CO;2-O": [
        "solar ponds",
        "ponds",
        "solar",
        "source energy"
       ],
       "10.1002/0470018860.S00478": [
        "antisocial personality",
        "antisocial",
        "personality mental"
       ],
       "10.1002/0471238961.1909120918151905.A01": [
        "semiconductor devices",
        "silicon based",
        "transistors mosfets",
        "based semiconductor"
       ],
       "10.1002/1361-6374(199406)2:2<93::AID-BIO3>3.0.CO;2-N": [
        "microscopy"
       ],
       "10.1002/2014WR015282": [
        "relaxometry geophysical",
        "nuclear magnetic"
       ],
       "10.1002/2015JD023294": [
        "approaches climate",
        "regimes variability"
       ],
       "10.1002/2016JD025484": [
        "circulation models",
        "models agcms",
        "earth climate"
       ],
       "10.1002/9780470061596.RISK0314": [
        "radiation",
        "environmental hazards"
       ],
       "10.1002/9781405198431.WBEAL0347": [
        "phenomenon multilingualism",
        "multilingualism"
       ],
       "10.1002/9781444303650.CH4": [
        "sport psychology",
        "psychology competition",
        "applied sport"
       ],
       "10.1002/9783527610419.NTLS0053": [
        "carbon nanotubes",
        "nanotubes"
       ],
       "10.1002/9783527640171.CH1": [
        "oxide surfaces",
        "research oxide",
        "applications catalytic",
        "chemical sensors"
       ],
       "10.1002/ADMA.200501975": [
        "complex material",
        "material structures",
        "scientific mind"
       ],
       "10.1002/ADMA.200700594": [
        "molecular magnets",
        "magnetic properties",
        "determination magnetic",
        "magnets environments"
       ],
       "10.1002/ADV.21524": [
        "quality productivity",
        "controlled product"
       ],
       "10.1002/AIC.12606": [
        "liquid membranes",
        "membranes"
       ],
       "10.1002/APP.1988.070350309": [
        "dielectric loss",
        "analysis dielectric",
        "ohmic conductivity",
        "loss data"
       ],
       "10.1002/APP.1994.070520510": [
        "urea formaldehyde",
        "formaldehyde bonded",
        "wood products",
        "bonded wood"
       ],
       "10.1002/APP.28096": [
        "vinyl alcohol",
        "soluble polymer"
       ],
       "10.1002/APP.31664": [
        "stabilization polyacrylonitrile",
        "carbon fibers",
        "thermal stabilization"
       ],
       "10.1002/CAR.2450": [
        "digital technology",
        "threat children"
       ],
       "10.1002/CASP.2132": [
        "intercultural relations",
        "cultural diversity",
        "globalisation migration",
        "plural societies"
       ],
       "10.1002/CDQ.12146": [
        "stem careers",
        "mathematics stem",
        "shortage female",
        "minority students"
       ],
       "10.1002/CELC.201402331": [
        "batteries libs",
        "materials lithium",
        "titanium dioxide",
        "electrode materials"
       ],
       "10.1002/CELC.201500114": [
        "cathode material"
       ],
       "10.1002/CELC.201700819": [
        "nanowires",
        "optical devices"
       ],
       "10.1002/CTPP.200610066": [
        "tokamak reactor",
        "flux divertor",
        "issue tokamak",
        "divertor plates"
       ],
       "10.1002/DA.10105": [
        "anxiety anxiety",
        "anxiety patients",
        "models anxiety",
        "threat stimuli"
       ],
       "10.1002/ECS2.1489": [
        "ecosystems",
        "species abundance",
        "natural resources"
       ],
       "10.1002/EJSP.558": [
        "intergroup attitudes",
        "intergroup contact",
        "attitudes little",
        "prejudice prone"
       ],
       "10.1002/FLD.1812": [
        "models solidification",
        "solidification",
        "numerical models"
       ],
       "10.1002/HIPO.10140": [
        "retrograde amnesia",
        "amnesia"
       ],
       "10.1002/HTJ.20227": [
        "thermal microscopes",
        "thermal properties",
        "local thermal",
        "application thermal"
       ],
       "10.1002/HTTPS://DOI.ORG/10.6028/JRES.124.005": [
        "vapor deposition",
        "deposition processes",
        "optoelectronic devices"
       ],
       "10.1002/HYP.6654": [
        "drought events",
        "rainfall series",
        "streamflow rainfall"
       ],
       "10.1002/HYP.6955": [
        "stream ecology",
        "watershed scale"
       ],
       "10.1002/J.0022-0337.2016.80.5.TB06119.X": [
        "dental educators",
        "dental students",
        "today dental"
       ],
       "10.1002/J.1551-8833.1993.TB05955.X": [
        "disinfectants disinfection",
        "disinfection products"
       ],
       "10.1002/JBM.A.20133": [
        "biomedical implant",
        "implant devices",
        "implant",
        "synthetic materials"
       ],
       "10.1002/JBM.B.10026": [
        "periprosthetic bone",
        "bone loss"
       ],
       "10.1002/JOB.1824": [
        "transformational leadership",
        "leadership",
        "leadership investigated",
        "transformational"
       ],
       "10.1002/MACO.19910420903": [
        "alcu alloy",
        "pure alcu"
       ],
       "10.1002/MDE.1387": [
        "competitive advantage"
       ],
       "10.1002/PAMM.200810625": [],
       "10.1002/PC.20105": [
        "resin transfer",
        "resin"
       ],
       "10.1002/PC.23299": [
        "nanofillers polymer",
        "polymer nanocomposites"
       ],
       "10.1002/PITS.1014": [
        "attention violence",
        "priority educators",
        "violence american",
        "american schools"
       ],
       "10.1002/PITS.20146": [
        "obesity children",
        "obesity",
        "health youth",
        "children adolescents"
       ],
       "10.1002/PITS.20277": [
        "adolescents susceptible",
        "sexual behavior",
        "adolescents",
        "negative outcomes"
       ],
       "10.1002/PTS.719": [
        "moisture content"
       ],
       "10.1002/RRR.627": [
        "riverine fauna",
        "river channelization",
        "affects riverine",
        "habitat complexity"
       ],
       "10.1002/SMTD.201800275": [
        "photopolymerizable materials",
        "photopolymerizable"
       ],
       "10.1002/TRTR.1278": [
        "research",
        "research relationship"
       ],
       "10.1002/adem.201800471": [
        "flexible electronics",
        "biomedical devices",
        "devices wearable",
        "flexible"
       ],
       "10.1002/adfm.201000994": [
        "carbon nanotubes",
        "vivo biomedical"
       ],
       "10.1002/adfm.201200673": [
        "conductive oxides",
        "transparent conductive",
        "solar cells"
       ],
       "10.1002/adfm.201503344": [
        "near infrared"
       ],
       "10.1002/adfm.201600771": [
        "metal carbides",
        "carbides carbonitrides",
        "transition metal"
       ],
       "10.1002/adfm.201901907": [
        "lithium polysulfide",
        "lithium sulfur",
        "advanced lithium"
       ],
       "10.1002/adfm.201906311": [
        "chirality based",
        "potential chiral",
        "biomedicine chiroptical"
       ],
       "10.1002/adfm.202005000": [
        "phthalocyanine fepc",
        "phthalocyanine",
        "oxygen reduction"
       ],
       "10.1002/adfm.202006697": [
        "osteochondral"
       ],
       "10.1002/adfm.202006749": [
        "salt electrolytes",
        "aqueous electrolytes",
        "electrolytes wises",
        "electrolytes"
       ],
       "10.1002/adma.201802997": [
        "advanced materials",
        "impacts construction",
        "construction aerospace",
        "transformative impacts"
       ],
       "10.1002/adma.201803588": [
        "doped graphene",
        "graphene",
        "electrocatalytic activity"
       ],
       "10.1002/adma.201803732": [
        "transition metal"
       ],
       "10.1002/adma.201806132": [
        "carbon nanotubes",
        "nanotubes"
       ],
       "10.1002/adma.201900651": [
        "carbon aerogels",
        "superelastic carbon",
        "graphitic carbons",
        "carbons soft"
       ],
       "10.1002/admi.201801148": [
        "cardiovascular diseases",
        "cardiovascular"
       ],
       "10.1002/admi.202000670": [
        "electrohydrodynamic hydroelectric",
        "hydroelectric effects",
        "hydroelectric",
        "external electric"
       ],
       "10.1002/admi.202001643": [
        "growth epitaxial",
        "epitaxial growth",
        "complex oxides",
        "epitaxial complex"
       ],
       "10.1002/adom.201900028": [
        "photovoltaic",
        "solar conversion"
       ],
       "10.1002/adsu.201700182": [
        "rechargeable battery",
        "energy storage"
       ],
       "10.1002/aelm.201800811": [
        "carbon nanotube"
       ],
       "10.1002/aenm.201600498": [
        "thermoelectric technology",
        "thermoelectric",
        "attention thermoelectric"
       ],
       "10.1002/aenm.201802423": [
        "future lithium",
        "lithium batteries",
        "lithium"
       ],
       "10.1002/aenm.202003455": [
        "cathode materials",
        "sodium occupancy"
       ],
       "10.1002/ajp.20840": [
        "primate",
        "housed zoos"
       ],
       "10.1002/ana.10135": [
        "cholinergic deficit",
        "cerebral cholinergic",
        "cholinergic hypothesis",
        "alzheimer disease"
       ],
       "10.1002/ana.24052": [
        "cerebrospinal fluid"
       ],
       "10.1002/ange.202008787": [
        "atom catalysts",
        "catalysts sacs",
        "catalysts",
        "single atom"
       ],
       "10.1002/anie.200804967": [
        "carbon nanotubes",
        "nanotubes"
       ],
       "10.1002/anie.201610708": [
        "plasmonic materials",
        "plasmon resonances",
        "semiconductor compounds",
        "noble metals"
       ],
       "10.1002/aur.1409": [
        "children autism",
        "disorders asds"
       ],
       "10.1002/cbm.1937": [
        "criminal behaviour",
        "antisocial behaviour",
        "cognitive function",
        "associated antisocial"
       ],
       "10.1002/cd.229": [
        "adolescent sexual",
        "adolescent",
        "societal consequences"
       ],
       "10.1002/cphc.201600362": [
        "cell adhesion",
        "adhesion",
        "surfaces regulate"
       ],
       "10.1002/cssc.201000002": [
        "carbon nanotubes",
        "growth carbon"
       ],
       "10.1002/da.20518": [],
       "10.1002/eco.1945": [
        "experimental grasslands",
        "biodiversity modifies"
       ],
       "10.1002/ehs2.1265": [
        "carbon exchange",
        "role carbon",
        "rivers"
       ],
       "10.1002/env.2183": [
        "salmon stocks",
        "pacific salmon",
        "fisheries management",
        "salmon"
       ],
       "10.1002/env.2605": [
        "environmental extremes",
        "trends environmental",
        "global climate",
        "extremes"
       ],
       "10.1002/ep.12609": [
        "microbial fuel",
        "fuel cells",
        "generation wastewater",
        "microbial"
       ],
       "10.1002/er.5434": [
        "porous carbonaceous",
        "carbonaceous materials"
       ],
       "10.1002/er.5707": [
        "electricity generator"
       ],
       "10.1002/er.6708": [
        "safety lithium",
        "lithium",
        "energy storage"
       ],
       "10.1002/ese3.831": [
        "tio2 nanotubes",
        "solar cells",
        "tio2"
       ],
       "10.1002/hbm.22462": [
        "cerebral palsy",
        "palsy",
        "posture brain"
       ],
       "10.1002/hbm.22883": [
        "wakefulness syndrome",
        "consciousness recovery",
        "disorders consciousness",
        "unresponsive wakefulness"
       ],
       "10.1002/hbm.24919": [
        "gait control",
        "cognitive motor",
        "gait",
        "adults cognitive"
       ],
       "10.1002/hipo.20444": [
        "memory consolidation"
       ],
       "10.1002/hyp.10887": [
        "runoff models",
        "simulate catchment",
        "catchment runoff",
        "ungauged basins"
       ],
       "10.1002/hyp.10969": [
        "design drainage",
        "drainage infrastructure",
        "impact climate"
       ],
       "10.1002/hyp.11386": [
        "green infrastructure",
        "pollution hydrological",
        "excess stormwater",
        "municipalities agencies"
       ],
       "10.1002/hyp.14180": [
        "riparian trees",
        "function rivers",
        "role ecological"
       ],
       "10.1002/hyp.14225": [
        "arid basins",
        "basins alpine",
        "groundwater circulation",
        "special groundwater"
       ],
       "10.1002/jbm.b.32810": [
        "stent restenosis",
        "stent efficacy",
        "stent thrombosis",
        "coronary artery"
       ],
       "10.1002/ldr.2674": [
        "hydraulic conductivity",
        "saturated soil",
        "hydrological processes",
        "controls hydrological"
       ],
       "10.1002/ldr.2743": [
        "pyrogenic organic",
        "bioenergy wood",
        "source pyrogenic"
       ],
       "10.1002/lom3.10003": [
        "lakes reservoirs",
        "fluxes carbon",
        "measurements emissions"
       ],
       "10.1002/maco.201005877": [
        "coatings superalloy",
        "aluminide coatings"
       ],
       "10.1002/maco.202112360": [
        "cations corrosion",
        "corrosion galvanized",
        "galvanized steel",
        "corrosion"
       ],
       "10.1002/marc.201700809": [
        "thermosets composites",
        "performance thermosets",
        "thermosets"
       ],
       "10.1002/mds.22633": [
        "essential tremor",
        "tremor",
        "movement disorder"
       ],
       "10.1002/mop.32509": [
        "photonic filters",
        "optical interconnects",
        "photonic",
        "filters"
       ],
       "10.1002/mpr.1414": [
        "symptoms dementia",
        "dementia"
       ],
       "10.1002/mpr.1464": [
        "veterans families",
        "military deployment",
        "veterans"
       ],
       "10.1002/mus.24345": [
        "amyotrophic lateral",
        "lateral sclerosis",
        "motor neurons"
       ],
       "10.1002/pon.3994": [
        "cancer survivors",
        "psychological distress",
        "sexuality primary"
       ],
       "10.1002/ppsc.201900495": [
        "photonic crystals",
        "colloidal photonic",
        "iridescent metallic"
       ],
       "10.1002/ppsc.202100079": [
        "nanoparticle analysis",
        "shell nanoparticle",
        "nanoparticle"
       ],
       "10.1002/pssa.201600460": [
        "nitride semiconductors"
       ],
       "10.1002/pssa.201700480": [
        "wafer solar",
        "silicon",
        "rear metallization",
        "solar cells"
       ],
       "10.1002/pssb.201248445": [
        "oxide nanowires",
        "graphite hopg"
       ],
       "10.1002/rra.3488": [
        "riparian zones",
        "importance riparian",
        "nitrogen buffer",
        "riparian"
       ],
       "10.1002/sia.4929": [
        "magnetic nanoparticles",
        "nanoparticles"
       ],
       "10.1002/smll.201101055": [
        "nanoporous silica",
        "silica nanoparticles",
        "sizes nanoporous",
        "nanoporous"
       ],
       "10.1002/smll.201501294": [
        "molybdates nanostructures",
        "metal molybdates",
        "molybdates"
       ],
       "10.1002/srin.200300222": [
        "lifetime technical",
        "cases lifetime",
        "structures components"
       ],
       "10.1002/srin.201300450": [
        "blast furnace",
        "strength coke",
        "furnace operation"
       ],
       "10.1002/tee.23189": [
        "drowsiness",
        "drowsiness main",
        "traffic accidents",
        "accidents"
       ],
       "10.1002/vzj2.20096": [
        "dielectric permittivity",
        "calibration dielectric",
        "dielectric techniques"
       ],
       "10.1002/wat2.1145": [
        "tropical ecosystems"
       ],
       "10.1007/0-306-48742-x_2": [
        "entrepreneurship",
        "economic development",
        "history amongresearchers"
       ],
       "10.1007/1-4020-4972-2_500": [
        "magnesium",
        "alloys major",
        "weight structural"
       ],
       "10.1007/3-540-26599-6_14": [
        "winds forest",
        "forest ecosystems",
        "strong winds",
        "ecosystems complex"
       ],
       "10.1007/3-540-36536-2_8": [
        "radars lidars",
        "laser radars",
        "radars",
        "atmospheric constituents"
       ],
       "10.1007/978-0-387-87579-8_12": [
        "pain common",
        "pain",
        "chronic health",
        "health problems"
       ],
       "10.1007/978-1-4020-3286-8_48": [
        "bombardment crystalline",
        "lattice defects",
        "solids energetic",
        "energetic particles"
       ],
       "10.1007/978-1-4020-6193-6_11": [
        "study lifelong",
        "lifelong"
       ],
       "10.1007/978-1-4020-9557-3_17": [],
       "10.1007/978-1-4302-4966-5_9": [
        "employees organizations",
        "tensions dilemmas",
        "unaligned important",
        "dilemmas disappointments"
       ],
       "10.1007/978-1-4419-1465-1_2": [
        "psychology women",
        "psychology",
        "development psychology"
       ],
       "10.1007/978-1-4612-0905-8_19": [
        "loss biodiversity",
        "ozone depletion"
       ],
       "10.1007/978-1-4612-3950-5_8": [
        "bioethics",
        "medical ethics",
        "ethical issues"
       ],
       "10.1007/978-1-4612-4410-3_13": [
        "plankton communities",
        "lake plankton",
        "plankton",
        "regulated predation"
       ],
       "10.1007/978-1-4613-0861-4_5": [
        "amorphous polymers",
        "glass transition",
        "transition amorphous",
        "polymer science"
       ],
       "10.1007/978-1-4613-9074-9_1": [
        "cultural factors",
        "human health",
        "psychological social",
        "factors human"
       ],
       "10.1007/978-1-4613-9865-3_10": [
        "molecular dynamics"
       ],
       "10.1007/978-1-4614-6375-7_7": [
        "recruited children",
        "unspeakable atrocities"
       ],
       "10.1007/978-1-4614-8930-6_4": [
        "criminology",
        "desistance crime",
        "crime"
       ],
       "10.1007/978-1-4615-0085-8_14": [
        "thermal properties",
        "thermal behaviour",
        "properties agricultural",
        "agricultural products"
       ],
       "10.1007/978-1-4615-3052-7_78": [
        "wind variable",
        "diffusion atmosphere",
        "wind",
        "atmosphere"
       ],
       "10.1007/978-1-4615-4659-7_29": [
        "nitrogen anthropogenic",
        "nitrogen",
        "anthropogenic sources"
       ],
       "10.1007/978-1-4615-4867-6_47": [
        "strong magnetic",
        "magnetic field"
       ],
       "10.1007/978-1-4615-7007-3_6": [
        "ecosystem research",
        "ecosystem",
        "food webs",
        "contemporary ecosystem"
       ],
       "10.1007/978-1-4615-7029-5_6": [
        "juvenile delinquency",
        "delinquency social",
        "delinquency",
        "juvenile"
       ],
       "10.1007/978-1-4615-7522-1_2": [
        "polymers disadvantage",
        "high polymers",
        "polymers",
        "temperatures brittle"
       ],
       "10.1007/978-1-4615-9573-1_9": [
        "nondestructive evaluation",
        "anisotropic materials"
       ],
       "10.1007/978-1-4684-6021-6_7": [
        "transition metals",
        "metals alloys",
        "magnetic electronic",
        "properties transition"
       ],
       "10.1007/978-1-4757-9059-7_65": [
        "pulsed magnets",
        "field pulsed",
        "magnets subject"
       ],
       "10.1007/978-1-4899-0322-8_14": [
        "intelligence",
        "concept intelligence",
        "history psychology",
        "controversy concept"
       ],
       "10.1007/978-1-4899-0542-0_5": [
        "obsessive compulsive",
        "compulsive disorder"
       ],
       "10.1007/978-1-4899-1474-3_29": [
        "optic technologies",
        "integrated optic",
        "sensors microsystems",
        "communications applications"
       ],
       "10.1007/978-1-4939-6840-4_5": [
        "magnetic nanoparticles",
        "magnetic",
        "unique magnetic"
       ],
       "10.1007/978-1-4939-6909-8_1": [
        "american science",
        "science education"
       ],
       "10.1007/978-3-030-02053-8_122": [
        "violence nurses",
        "violent behavior",
        "behavior nurses",
        "violence"
       ],
       "10.1007/978-3-030-06209-5_27": [
        "cr2o3 scales",
        "cr2o3",
        "oxide fuel",
        "cell sofc"
       ],
       "10.1007/978-3-030-10383-5_3": [
        "artificial stone",
        "ornamental stones"
       ],
       "10.1007/978-3-030-10383-5_30": [
        "material disposed"
       ],
       "10.1007/978-3-030-19847-3_13": [
        "stigma worldwide",
        "stigma",
        "fraught stigma",
        "mental illness"
       ],
       "10.1007/978-3-030-19978-4_7": [
        "crisis sociologists",
        "sociology",
        "sociologists"
       ],
       "10.1007/978-3-030-20637-6_13": [
        "energy requirements",
        "fossil fuels",
        "energy"
       ],
       "10.1007/978-3-030-24032-5_3": [
        "photocatalytic reduction",
        "photocatalytic",
        "carbon dioxide",
        "reduction carbon"
       ],
       "10.1007/978-3-030-25016-4_14": [
        "environmental education",
        "environmental",
        "diversity perspectives",
        "purposes environmental"
       ],
       "10.1007/978-3-030-25253-3_53": [
        "industrial applications"
       ],
       "10.1007/978-3-030-26342-3_12": [
        "institutions heis",
        "higher education"
       ],
       "10.1007/978-3-030-31676-1_104": [
        "insulated substations",
        "reinforcements insulation"
       ],
       "10.1007/978-3-030-32816-0_88": [
        "threats worldwide"
       ],
       "10.1007/978-3-030-33157-3_13": [
        "vegetation diversity",
        "vegetation",
        "health multidimensional",
        "diversity health"
       ],
       "10.1007/978-3-030-34206-7_2": [
        "expansive soils",
        "problematic soils",
        "soils classified"
       ],
       "10.1007/978-3-030-44470-9_23": [
        "forensic psychology",
        "consultation jury",
        "jury selection",
        "psychologists mind"
       ],
       "10.1007/978-3-030-44575-1_8": [
        "parental separation",
        "separation children",
        "consequences separation"
       ],
       "10.1007/978-3-030-44999-5_37": [
        "academic relevance",
        "data gained",
        "relevance decade"
       ],
       "10.1007/978-3-030-64807-7_11": [
        "acoustic design"
       ],
       "10.1007/978-3-030-76208-7_13": [
        "antipsychotic drugs",
        "invention antipsychotic",
        "antipsychotic",
        "mental diseases"
       ],
       "10.1007/978-3-030-76543-9_8": [
        "advisable recycle",
        "recycle",
        "environmental protection"
       ],
       "10.1007/978-3-319-08007-9_4": [
        "organizational performance",
        "productive healthy"
       ],
       "10.1007/978-3-319-09287-4_17": [
        "contaminants vary",
        "soils subjected",
        "soils",
        "subjected contaminants"
       ],
       "10.1007/978-3-319-11340-1_5": [
        "carbon nanotubes",
        "nanotubes"
       ],
       "10.1007/978-3-319-12970-9_18": [
        "ceramic matrix",
        "matrix composites"
       ],
       "10.1007/978-3-319-13485-7_2": [
        "ionic liquids",
        "ionic",
        "modern electrochemical",
        "conventional electrolytes"
       ],
       "10.1007/978-3-319-21452-8_22": [
        "forests indonesia",
        "estimate carbon",
        "carbon stock",
        "community forests"
       ],
       "10.1007/978-3-319-21671-3_3": [
        "phthalates ubiquitous",
        "phthalates",
        "plasticizer plastic",
        "ubiquitous chemicals"
       ],
       "10.1007/978-3-319-26600-8_8": [
        "molecule electronic",
        "single molecule",
        "individual molecules",
        "molecule"
       ],
       "10.1007/978-3-319-27312-9_18": [
        "mycotoxins toxic",
        "mycotoxins",
        "metabolites fungi",
        "toxic metabolites"
       ],
       "10.1007/978-3-319-29942-6_2": [],
       "10.1007/978-3-319-39949-2_35": [
        "older adults",
        "technology"
       ],
       "10.1007/978-3-319-41861-2_10": [
        "oncologists",
        "treatments futile"
       ],
       "10.1007/978-3-319-50824-5_4": [
        "flexible electronics",
        "electronics flat"
       ],
       "10.1007/978-3-319-51097-2_17": [
        "conversion carbon",
        "phases carbon",
        "carbon diamond"
       ],
       "10.1007/978-3-319-51433-8_10": [
        "friction laws",
        "friction",
        "amontons friction"
       ],
       "10.1007/978-3-319-52195-4_5": [
        "manufacture fuels",
        "fossil fuels",
        "fuels sources",
        "fuels"
       ],
       "10.1007/978-3-319-55477-8_17": [
        "social media",
        "information technology"
       ],
       "10.1007/978-3-319-61630-8_25": [
        "shiyang river",
        "river basin",
        "crisis arid"
       ],
       "10.1007/978-3-319-64880-4_5": [
        "social anxiety",
        "social phobia",
        "anxiety disorder"
       ],
       "10.1007/978-3-319-71434-9_8": [
        "knowledge management",
        "power conflict"
       ],
       "10.1007/978-3-319-78997-2_28": [
        "cultural competence",
        "construct cultural",
        "cultural"
       ],
       "10.1007/978-3-319-89488-1_6": [
        "pediatric consultation",
        "psychiatry"
       ],
       "10.1007/978-3-319-91752-8_3": [
        "mental illness",
        "illness dissociative",
        "adversity trauma"
       ],
       "10.1007/978-3-319-95543-8_11": [
        "environmental hazards",
        "exposures environmental",
        "global environmental"
       ],
       "10.1007/978-3-540-39765-6_36": [
        "harmonic conversion",
        "laser sources",
        "efficient harmonic"
       ],
       "10.1007/978-3-540-47641-2_19": [
        "semiflexible polymers",
        "polymers filaments",
        "polymers",
        "filaments"
       ],
       "10.1007/978-3-540-75999-7_172": [
        "defects nanostructured",
        "nanostructured materials",
        "defects",
        "device reliability"
       ],
       "10.1007/978-3-540-88546-7_78": [
        "environmental problems",
        "important environmental",
        "world climate"
       ],
       "10.1007/978-3-642-18336-2_79": [
        "crop growth",
        "factors crop",
        "nutrition important",
        "nutrition"
       ],
       "10.1007/978-3-642-18870-1_22": [
        "properties semiconductors",
        "electronic properties",
        "semiconductors",
        "defects impurities"
       ],
       "10.1007/978-3-642-21566-7_32": [
        "pollution",
        "major health"
       ],
       "10.1007/978-3-642-31110-9_19": [
        "antarctic climate",
        "antarctic"
       ],
       "10.1007/978-3-642-39476-8_34": [
        "lifestyle disease",
        "disease social",
        "disease",
        "social problem"
       ],
       "10.1007/978-3-642-56722-3_20": [
        "composition atmosphere",
        "atmosphere"
       ],
       "10.1007/978-3-642-56895-4_3": [
        "mass spectrometry",
        "spectrometry"
       ],
       "10.1007/978-3-642-67688-8_20": [
        "electron microscope",
        "microscope stem",
        "microscope",
        "transmission electron"
       ],
       "10.1007/978-3-642-81424-2_2": [
        "ultrafine particles",
        "aerosol science",
        "aerosol",
        "area aerosol"
       ],
       "10.1007/978-3-662-04556-5_12": [
        "semicrystalline polymers",
        "mechanisms semicrystalline",
        "polymers"
       ],
       "10.1007/978-3-662-59594-7_5": [
        "organic photovoltaics",
        "organic semiconductors",
        "photovoltaics technology",
        "sunlight electricity"
       ],
       "10.1007/978-4-431-55681-7_17": [
        "peatland degradation",
        "tropical peat",
        "peat forest",
        "kalimantan indonesia"
       ],
       "10.1007/978-90-481-2287-5_25": [
        "materials nuclear",
        "radiation resistant",
        "construction materials"
       ],
       "10.1007/978-90-481-3678-0_10": [
        "industrialization worldwide"
       ],
       "10.1007/978-90-481-3832-6_12": [
        "heusler alloys",
        "temperatures heusler",
        "alloys"
       ],
       "10.1007/978-90-481-8608-2_6": [
        "aquatic environments",
        "pathway exposure",
        "rivers streams"
       ],
       "10.1007/978-90-481-9625-8_3": [
        "eutrophication",
        "eutrophication process",
        "aquatic macrophytes",
        "algae aquatic"
       ],
       "10.1007/978-94-007-1356-7_3": [
        "ethics technology",
        "ethical issues",
        "ethical themes"
       ],
       "10.1007/978-94-009-1569-5_113": [
        "environment soil",
        "biodegradative process"
       ],
       "10.1007/978-94-009-3439-9_6": [
        "material behavior",
        "plastic theories",
        "elastic plastic",
        "inelastic response"
       ],
       "10.1007/978-94-009-6256-9_6": [
        "epistemology",
        "problems epistemology",
        "transition experience"
       ],
       "10.1007/978-94-009-7529-3_3": [
        "rice crops",
        "crops south",
        "asian countries",
        "affects food"
       ],
       "10.1007/978-94-009-7597-2_4": [
        "carbon deposition",
        "deposition catalysts",
        "conversion hydrocarbons",
        "industrial processes"
       ],
       "10.1007/978-94-010-0349-0_5": [
        "nonlinear optical",
        "optical storage",
        "telecommunications optical"
       ],
       "10.1007/978-94-010-0724-5_19": [
        "alloys smas",
        "memory alloys",
        "shape memory",
        "alloys"
       ],
       "10.1007/978-94-010-0944-7_22": [
        "silicon carbide",
        "properties silicon",
        "material electronic"
       ],
       "10.1007/978-94-010-1944-6_1": [
        "sand dunes"
       ],
       "10.1007/978-94-011-1699-2_11": [
        "supercritical",
        "pressures temperatures",
        "nonpolar gases"
       ],
       "10.1007/978-94-011-2018-0_183": [
        "volatile pollutants",
        "subsurface contaminations",
        "pollutants unsaturated"
       ],
       "10.1007/978-94-011-3270-1_50": [
        "contaminated sites",
        "pollutant emitters",
        "emitters contaminated",
        "sites impacts"
       ],
       "10.1007/978-94-011-4241-0_7": [
        "pollution river",
        "river introduction",
        "river limit"
       ],
       "10.1007/978-94-011-4694-4_28": [
        "chernobyl",
        "contribute radiation",
        "chernobyl accident",
        "foods important"
       ],
       "10.1007/978-94-017-0069-6_21": [
        "development microfluid",
        "microfluid devices",
        "microfluid",
        "micro systems"
       ],
       "10.1007/978-94-017-2079-3_24": [
        "world emotion",
        "emotion associated",
        "emotion",
        "philosophical"
       ],
       "10.1007/978-94-017-2894-2": [
        "large rivers"
       ],
       "10.1007/978-94-017-9609-5_4": [
        "wetland environments",
        "various wetland",
        "wetlands",
        "ecosystem services"
       ],
       "10.1007/978-94-017-9771-9_16": [
        "utilization groundwater",
        "groundwater resource",
        "groundwater",
        "stock groundwater"
       ],
       "10.1007/978-94-024-2018-0_35": [
        "aluminum alloys",
        "aluminum",
        "alloys various",
        "applications mass"
       ],
       "10.1007/978-981-10-2317-0_66": [
        "tokamak",
        "fusion reactor",
        "fusion power",
        "fusion experimental"
       ],
       "10.1007/978-981-10-2410-8": [
        "cytotoxic"
       ],
       "10.1007/978-981-10-2624-9": [
        "data disciplines"
       ],
       "10.1007/978-981-10-3047-5_6": [
        "liquid desiccant"
       ],
       "10.1007/978-981-10-7290-1_92": [
        "disposal municipal",
        "human environmental"
       ],
       "10.1007/978-981-10-7413-4_15": [
        "portion landfill",
        "landfill",
        "india"
       ],
       "10.1007/978-981-10-7841-5_5": [
        "microelectromechanical systems",
        "microelectromechanical",
        "integral microelectromechanical",
        "materials small"
       ],
       "10.1007/978-981-10-8494-2_7": [
        "parkinson disease",
        "parkinson",
        "basal ganglia"
       ],
       "10.1007/978-981-13-1202-1_6": [
        "utilization renewable",
        "renewable energy",
        "energy reserves",
        "energy resources"
       ],
       "10.1007/978-981-13-1724-8_43": [],
       "10.1007/978-981-13-3275-3_11": [
        "carbon capture"
       ],
       "10.1007/978-981-13-3317-0_68": [
        "soil",
        "soil natural",
        "stabilization"
       ],
       "10.1007/978-981-13-7071-7_59": [
        "climate"
       ],
       "10.1007/978-981-13-8767-8_38": [
        "blast threats",
        "world safety",
        "integrity blast",
        "personnel structural"
       ],
       "10.1007/978-981-15-0214-9_64": [
        "size semiconductor",
        "micron device",
        "device size",
        "technology node"
       ],
       "10.1007/978-981-15-0532-4_32": [
        "safe disposal"
       ],
       "10.1007/978-981-15-0886-8_54": [
        "subgrade soil",
        "available soil",
        "soil"
       ],
       "10.1007/978-981-287-661-4_34": [
        "organ transplantation",
        "bone graft",
        "transplantation"
       ],
       "10.1007/978-981-4451-45-1_32": [
        "electrospun nanofibers",
        "nanofibers progressed"
       ],
       "10.1007/BF00140523": [
        "desertification irrigated",
        "desertification",
        "drought",
        "irrigated regions"
       ],
       "10.1007/BF00335937": [
        "soil quality",
        "monitor soil",
        "soil resource",
        "critical soil"
       ],
       "10.1007/BF00414222": [
        "zirconia polycrystals",
        "tetragonal zirconia",
        "zirconia",
        "polycrystals high"
       ],
       "10.1007/BF00881281": [
        "supplemental irrigation",
        "droughts humid",
        "recent droughts",
        "droughts"
       ],
       "10.1007/BF00886151": [
        "magnetic anisotropy",
        "anisotropy exchange",
        "anisotropy exhibit",
        "randomized materials"
       ],
       "10.1007/BF01059631": [
        "porous media",
        "simulations processes"
       ],
       "10.1007/BF01244478": [
        "crmov steels",
        "phosphorus",
        "grain boundaries"
       ],
       "10.1007/BF01338931": [
        "social skills",
        "skills children",
        "children topic",
        "social"
       ],
       "10.1007/BF01463406": [
        "fuel droplets",
        "ignition fuel",
        "studies ignition",
        "gaseous liquid"
       ],
       "10.1007/BF01611022": [
        "chemical toxicity",
        "management pollutants",
        "toxicity",
        "pollutants"
       ],
       "10.1007/BF01642898": [
        "theories migraine",
        "migraine pathophysiology",
        "controversy migraine",
        "pathophysiology evolved"
       ],
       "10.1007/BF01909463": [
        "cyclic adsorption",
        "nitrophenol regenerated",
        "activated carbon"
       ],
       "10.1007/BF02146301": [
        "magnetic multilayers",
        "metallic magnetic",
        "magnetic",
        "multilayers"
       ],
       "10.1007/BF02663405": [
        "ferritic steels",
        "neutron irradiation",
        "ductility ferritic",
        "steels subjected"
       ],
       "10.1007/BF02729681": [
        "effectiveness corrective",
        "inconsistent results"
       ],
       "10.1007/BF03226851": [
        "diesel engines",
        "disadvantage diesel"
       ],
       "10.1007/BF03266488": [
        "processes welded"
       ],
       "10.1007/BF03325910": [
        "enhanced wastewater",
        "wastewater treatment",
        "processes wastewater",
        "wastewater"
       ],
       "10.1007/BF03341556": [
        "students psychotherapy",
        "psychotherapy",
        "forest trees"
       ],
       "10.1007/BF03392050": [
        "behavior analysis",
        "applied behavior",
        "psychology difficult",
        "areas psychology"
       ],
       "10.1007/S00170-017-1164-6": [],
       "10.1007/S00170-018-03248-Y": [],
       "10.1007/S00170-019-03466-Y": [
        "quantity lubricant"
       ],
       "10.1007/S00339-017-1147-3": [
        "graphene plasmon",
        "weak graphene",
        "graphene based",
        "metasurfaces visible"
       ],
       "10.1007/S00466-008-0326-7": [
        "carbon nanotubes",
        "nanotubes",
        "polymer based"
       ],
       "10.1007/S10163-012-0074-9": [
        "polystyrene",
        "material various"
       ],
       "10.1007/S10212-014-0217-6": [
        "mathematics real",
        "mathematics",
        "school education"
       ],
       "10.1007/S10409-009-0287-X": [
        "articular cartilage",
        "cartilage"
       ],
       "10.1007/S10512-018-0372-Y": [
        "nuclear reactors",
        "salt nuclear"
       ],
       "10.1007/S10551-007-9582-2": [
        "organizational justice",
        "fairness organizations",
        "justice fairness",
        "management thinkers"
       ],
       "10.1007/S10551-015-2968-7": [
        "authentic leadership",
        "leadership",
        "ethical conduct"
       ],
       "10.1007/S10551-017-3550-2": [
        "citizenship behavior",
        "organizational citizenship",
        "research citizenship",
        "citizenship"
       ],
       "10.1007/S10612-006-9011-3": [
        "ethnic bias",
        "issue racial",
        "justice scholarship"
       ],
       "10.1007/S10612-013-9205-4": [
        "incorporated digital",
        "communication technologies",
        "activists",
        "action tactics"
       ],
       "10.1007/S10643-015-0687-4": [
        "attachment formation",
        "child development",
        "young children",
        "attachment"
       ],
       "10.1007/S10648-006-9039-7": [
        "class size",
        "size student",
        "educational researchers"
       ],
       "10.1007/S10648-017-9430-6": [
        "adolescents young",
        "popularity social",
        "academic achievement"
       ],
       "10.1007/S10734-012-9591-7": [
        "discussions academic"
       ],
       "10.1007/S10765-016-2108-3": [
        "nanofluids",
        "fluids advanced"
       ],
       "10.1007/S10784-011-9147-9": [
        "organize evolution",
        "global environmental",
        "evolution societies",
        "societies natural"
       ],
       "10.1007/S10802-005-3579-Z": [
        "youth behavior",
        "deviant development"
       ],
       "10.1007/S10825-008-0200-Z": [
        "carbon nanotubes",
        "field emitters"
       ],
       "10.1007/S10825-018-1136-6": [
        "transistor tfet",
        "effect transistor"
       ],
       "10.1007/S10853-008-3109-9": [],
       "10.1007/S10854-008-9569-5": [
        "chalcogenide semiconductor",
        "semiconductor nanostructures",
        "semiconductor"
       ],
       "10.1007/S10864-009-9088-3": [
        "preservice teachers"
       ],
       "10.1007/S10869-005-9020-3": [
        "problematic conceptual",
        "discourse analysis",
        "character",
        "analysis research"
       ],
       "10.1007/S10882-008-9116-6": [
        "mealtime behavior"
       ],
       "10.1007/S10894-011-9410-7": [
        "confinement fusion",
        "hydrodynamic instability",
        "multilayer capsule",
        "inertial confinement"
       ],
       "10.1007/S10921-011-0127-3": [
        "corrosion insulation",
        "detection corrosion",
        "corrosion"
       ],
       "10.1007/S11135-006-9006-X": [
        "century authors",
        "contributions controversial",
        "controversial subject"
       ],
       "10.1007/S11165-018-9774-Z": [
        "science instruction",
        "evolution",
        "theory evolution"
       ],
       "10.1007/S11205-017-1727-9": [
        "quality life",
        "life",
        "life complicated",
        "multiple disciplines"
       ],
       "10.1007/S11211-017-0298-X": [
        "environmental disruption",
        "impacts environmental",
        "negative impacts",
        "social justice"
       ],
       "10.1007/S11267-007-9123-0": [
        "geochemists arsenic",
        "arsenic aquatic",
        "arsenic species",
        "certain arsenic"
       ],
       "10.1007/S11270-009-0254-Y": [
        "evolve manure",
        "pathogens",
        "pathogens distributed",
        "pathogens limit"
       ],
       "10.1007/S11340-006-9010-Z": [
        "silicon dioxide",
        "silicon",
        "mems mechanical",
        "devices mems"
       ],
       "10.1007/S11340-011-9569-X": [
        "granular materials",
        "grains localized",
        "materials homogeneous"
       ],
       "10.1007/S11431-013-5319-X": [
        "coal combustion",
        "strength concretes"
       ],
       "10.1007/S11434-007-7026-0": [
        "downstream watercourse",
        "trapped reservoirs",
        "ecological effects"
       ],
       "10.1007/S11562-008-0046-Y": [
        "concept citizenship",
        "citizenship",
        "critique heterosexist",
        "heterosexist underpinnings"
       ],
       "10.1007/S11630-018-0985-4": [
        "efficiency burners",
        "burners"
       ],
       "10.1007/S11661-010-0295-2": [
        "steel alloys",
        "resistant alumina"
       ],
       "10.1007/S12144-019-00309-7": [
        "diabetes mellitus",
        "diabetes",
        "mellitus health",
        "health complication"
       ],
       "10.1007/S12205-014-0362-0": [
        "steel structures",
        "corrosion control",
        "corrosion",
        "performance steel"
       ],
       "10.1007/S12206-010-0804-7": [
        "mechanical micro"
       ],
       "10.1007/S12274-009-9006-Y": [
        "carbon nanotubes",
        "nanotubes"
       ],
       "10.1007/S12289-014-1169-8": [
        "crystallization polymer",
        "material phase",
        "phase transformations"
       ],
       "10.1007/S12289-014-1184-9": [
        "reinforced plastics",
        "fiber reinforced",
        "carbon fiber"
       ],
       "10.1007/S12541-015-0278-8": [
        "fuel efficiency"
       ],
       "10.1007/S12588-010-0004-4": [
        "particulate fillers",
        "polymers composites",
        "performance polymers",
        "addition particulate"
       ],
       "10.1007/S12649-015-9386-Z": [
        "biodiesel production",
        "feedstock biodiesel"
       ],
       "10.1007/S12665-009-0117-2": [
        "problem taiwan",
        "taiwan yunlin",
        "area groundwater"
       ],
       "10.1007/S12666-009-0018-9": [
        "niobium alloys",
        "alloys niobium",
        "niobium niobium",
        "temperature applications"
       ],
       "10.1007/S12666-010-0036-7": [
        "based superalloys",
        "superalloys",
        "temperature structural"
       ],
       "10.1007/S12671-017-0851-6": [
        "benefits mindfulness",
        "mindfulness",
        "mindfulness human"
       ],
       "10.1007/S13233-020-8059-3": [
        "polymer composites",
        "fiber reinforced",
        "reinforced polymer"
       ],
       "10.1007/S40497-021-00263-4": [
        "informal entrepreneurship",
        "entrepreneurship",
        "countries informal",
        "poverty eradication"
       ],
       "10.1007/S40684-019-00061-0": [
        "ultrasonic wire",
        "interconnections",
        "mechanisms ultrasonic"
       ],
       "10.1007/S40865-017-0054-9": [
        "parental incarceration",
        "incarceration detrimental",
        "detrimental children",
        "incarceration"
       ],
       "10.1007/S40940-017-0042-9": [
        "glass polymer",
        "polymer based",
        "interlayers laminated",
        "laminated safety"
       ],
       "10.1007/S40974-017-0068-5": [
        "ldpe contamination",
        "polyethylene ldpe",
        "density polyethylene",
        "ldpe"
       ],
       "10.1007/S41255-019-00003-7": [
        "children world",
        "world vulnerable",
        "cultural context"
       ],
       "10.1007/S42154-021-00147-Z": [
        "fuel cell"
       ],
       "10.1007/S42380-019-00008-8": [
        "world consequences"
       ],
       "10.1007/S43545-021-00175-W": [
        "urban sustainability",
        "sustainability"
       ],
       "10.1007/s00127-007-0168-1": [
        "postpartum depression",
        "depression women",
        "significant postpartum",
        "postpartum"
       ],
       "10.1007/s00127-013-0803-y": [
        "persecutory delusions",
        "psychotic conditions",
        "delusions",
        "psychotic"
       ],
       "10.1007/s00128-016-1783-x": [
        "drainage systems",
        "drainage",
        "runoff surface",
        "agricultural landscapes"
       ],
       "10.1007/s00146-017-0762-z": [],
       "10.1007/s00170-019-04571-8": [
        "sustainability",
        "nowadays environmental",
        "industrial development"
       ],
       "10.1007/s00170-020-05840-7": [
        "renewable biodegradable",
        "defilement contamination"
       ],
       "10.1007/s00213-010-2042-1": [
        "tetrahydrocannabinol",
        "cannabis users"
       ],
       "10.1007/s00221-013-3642-x": [
        "abnormalities schizophrenia",
        "bipolar disease",
        "cerebral white"
       ],
       "10.1007/s00226-013-0602-3": [
        "carbonization process",
        "carbonization",
        "properties charcoal",
        "transformations wood"
       ],
       "10.1007/s00244-014-0074-y": [
        "polybrominated diphenyl",
        "diphenyl ethers",
        "pbdes dechlorane",
        "ethers pbdes"
       ],
       "10.1007/s00253-019-09631-3": [
        "cold ecosystems",
        "microorganisms cold",
        "microorganisms",
        "ecosystems"
       ],
       "10.1007/s00339-020-03793-y": [
        "tungsten copper",
        "mineral tungsten",
        "composite powders"
       ],
       "10.1007/s00382-017-3629-6": [
        "latitude climate",
        "climate",
        "physical feedback"
       ],
       "10.1007/s00382-017-3690-1": [
        "climate variables",
        "regional climate",
        "hydro climate",
        "significant uncertainty"
       ],
       "10.1007/s00382-018-4394-x": [
        "monsoon rainfall",
        "eastern sahel",
        "summer monsoon"
       ],
       "10.1007/s00382-020-05441-w": [
        "cloud radiative",
        "diurnal variation",
        "global radiation"
       ],
       "10.1007/s00406-007-0748-9": [
        "schizophrenia",
        "neurocognitive impairment",
        "pathology schizophrenia",
        "psychopharmacological interventions"
       ],
       "10.1007/s00406-007-0784-5": [
        "anxiety researchers",
        "interactions anxiety",
        "anxiety disorders",
        "gene environment"
       ],
       "10.1007/s00406-014-0492-x": [
        "depression anhedonia",
        "proper reward",
        "depression"
       ],
       "10.1007/s00415-007-0668-7": [
        "hyperhomocysteinemia",
        "cognitive impairment",
        "neurological diseases"
       ],
       "10.1007/s00422-008-0266-5": [
        "cerebellum motor",
        "role cerebellum",
        "cerebellum",
        "motor control"
       ],
       "10.1007/s00429-012-0379-4": [
        "borderline personality",
        "personality disorder"
       ],
       "10.1007/s00603-020-02105-3": [
        "processes deformation",
        "storage dissipation"
       ],
       "10.1007/s00603-020-02107-1": [
        "tunnels excavated"
       ],
       "10.1007/s00702-012-0817-8": [
        "schizophrenia morbid",
        "schizophrenia"
       ],
       "10.1007/s00704-016-1897-4": [],
       "10.1007/s00704-020-03450-7": [
        "wheat production"
       ],
       "10.1007/s00737-017-0747-4": [
        "socioeconomic disadvantage",
        "adult depression",
        "childhood socioeconomic",
        "depression"
       ],
       "10.1007/s00894-018-3660-5": [
        "organic polymers",
        "conjugated organic",
        "polymers",
        "polymers represent"
       ],
       "10.1007/s10040-017-1575-3": [
        "urban groundwater",
        "groundwater exploited",
        "groundwater",
        "exploited industrial"
       ],
       "10.1007/s10048-007-0086-0": [
        "angelman syndrome",
        "relevance autism",
        "syndrome chromosomal"
       ],
       "10.1007/s10064-019-01522-1": [
        "construction geotechnical",
        "geotechnical",
        "soil material",
        "behavior soil"
       ],
       "10.1007/s10098-015-1063-1": [
        "wastewater treatment"
       ],
       "10.1007/s10461-015-1046-6": [
        "romantic dyads"
       ],
       "10.1007/s10461-017-1989-x": [
        "diagnosis stigma",
        "stigma"
       ],
       "10.1007/s10461-017-2003-3": [
        "incarcerated individuals",
        "incarcerated"
       ],
       "10.1007/s10465-020-09324-9": [
        "williams syndrome",
        "syndrome",
        "developmental disorder"
       ],
       "10.1007/s10508-008-9341-1": [],
       "10.1007/s10508-012-0062-0": [
        "sexual dysfunction",
        "sexual satisfaction",
        "impaired sexual",
        "psychological distress"
       ],
       "10.1007/s10567-016-0205-2": [
        "engagement behavioral",
        "behavioral parent"
       ],
       "10.1007/s10570-016-0924-z": [
        "foamed materials",
        "foamed",
        "mechanical properties"
       ],
       "10.1007/s10584-019-02377-x": [
        "forests important",
        "forests"
       ],
       "10.1007/s10608-014-9644-6": [
        "effects anxiety",
        "anxiety sensitivity",
        "affective regulatory",
        "expectancies effects"
       ],
       "10.1007/s10661-020-08377-0": [
        "green space",
        "environments green",
        "urban environments",
        "green ecosystems"
       ],
       "10.1007/s10661-020-08404-0": [
        "river hydrological",
        "river continuum",
        "alter river"
       ],
       "10.1007/s10668-017-9956-2": [
        "dairy industry",
        "wastewater"
       ],
       "10.1007/s10705-010-9408-y": [
        "emissions nitrous",
        "grasslands peat",
        "peat soils",
        "highest emissions"
       ],
       "10.1007/s10750-008-9417-x": [
        "shallow lakes",
        "eutrophic shallow",
        "internal nutrient"
       ],
       "10.1007/s10750-008-9467-0": [
        "lowland lakes",
        "lakes groundwater",
        "susceptible climatic",
        "evapotranspiration catchments"
       ],
       "10.1007/s10800-019-01307-0": [
        "carbon fuel",
        "fuel cells",
        "generation coal"
       ],
       "10.1007/s10802-016-0162-8": [
        "defiant disorder",
        "oppositional defiant",
        "antagonistic behaviors",
        "psychopathology childhood"
       ],
       "10.1007/s10802-017-0299-0": [
        "associated depression",
        "pregnancy linked"
       ],
       "10.1007/s10803-020-04504-5": [
        "willi syndrome",
        "prader willi"
       ],
       "10.1007/s10853-017-1090-x": [
        "graphene based",
        "based adsorption"
       ],
       "10.1007/s10854-016-6329-9": [
        "cellular composites",
        "piezoelectric",
        "polymeric cellular",
        "polymeric"
       ],
       "10.1007/s10854-020-03507-3": [
        "advanced thermal",
        "thermal management"
       ],
       "10.1007/s10854-020-04296-5": [
        "multiferroic materials",
        "temperature multiferroic",
        "bifeo3",
        "multiferroic"
       ],
       "10.1007/s10856-015-5456-9": [
        "bone regeneration",
        "synthetic materials",
        "bioactive material",
        "applications bone"
       ],
       "10.1007/s10879-008-9085-1": [
        "infidelity difficult",
        "infidelity",
        "couple therapy",
        "couples process"
       ],
       "10.1007/s10900-017-0386-8": [
        "college students"
       ],
       "10.1007/s10921-020-00691-4": [
        "hydrogen embrittlement",
        "strength steels",
        "hydrogen",
        "aerospace industry"
       ],
       "10.1007/s10964-018-0899-1": [
        "positive emotions",
        "predictors adolescent"
       ],
       "10.1007/s10971-020-05301-3": [
        "brittleness ceramics",
        "ceramics overcome",
        "thickness nanometers"
       ],
       "10.1007/s11051-018-4146-1": [
        "electrochemical reduction",
        "reduction carbon",
        "dioxide methods"
       ],
       "10.1007/s11056-019-09709-w": [
        "plantations bioenergy",
        "bioenergy production",
        "evaluate carbon"
       ],
       "10.1007/s11104-016-3103-y": [
        "dynamics grasslands",
        "soil feedbacks",
        "aimsplant soil"
       ],
       "10.1007/s11119-015-9419-4": [
        "soil organic",
        "organic carbon",
        "soil"
       ],
       "10.1007/s11136-017-1583-8": [
        "cognitive dysfunction",
        "brain tumors",
        "children brain",
        "cognitive"
       ],
       "10.1007/s11249-015-0548-8": [
        "tribological design",
        "tribological",
        "pairs materials"
       ],
       "10.1007/s11249-018-1094-y": [
        "tribological evaluation",
        "tribological",
        "biological materials"
       ],
       "10.1007/s11249-018-1117-8": [
        "plastic deformation"
       ],
       "10.1007/s11252-014-0384-x": [
        "catchment urbanization",
        "urban stream",
        "stream syndrome"
       ],
       "10.1007/s11269-015-1091-y": [
        "smallholder crop",
        "adaptation strategies"
       ],
       "10.1007/s11270-019-4197-7": [
        "stormwater runoff",
        "urban stormwater",
        "runoff",
        "urbanization climate"
       ],
       "10.1007/s11273-009-9149-3": [
        "feral pigs",
        "wetland vegetation",
        "affect wetland",
        "freshwater ecosystems"
       ],
       "10.1007/s11284-004-0026-5": [
        "arid steppe",
        "species arid"
       ],
       "10.1007/s11284-012-0934-8": [
        "ecosystem nitrogen",
        "nitrogen"
       ],
       "10.1007/s11355-019-00405-7": [
        "transportation corridors",
        "ecosystems areas",
        "natural disturbance",
        "regimes ecosystems"
       ],
       "10.1007/s11356-013-2329-y": [
        "hydrogen sulfide",
        "sulfide"
       ],
       "10.1007/s11356-016-7896-2": [
        "monoxide emissions",
        "carbon monoxide",
        "quantification carbon",
        "emissions necessary"
       ],
       "10.1007/s11469-017-9756-9": [
        "problematic internet",
        "consequences players"
       ],
       "10.1007/s11481-013-9513-1": [
        "assessment cognitive",
        "associated dementia"
       ],
       "10.1007/s11625-018-0575-0": [
        "ecosystems carbon",
        "carbon markets",
        "blue carbon",
        "incorporate blue"
       ],
       "10.1007/s11661-012-1558-x": [
        "century materials",
        "materials elevated",
        "strength steels"
       ],
       "10.1007/s11661-014-2640-3": [
        "micro components",
        "foils strength"
       ],
       "10.1007/s11664-012-2079-5": [
        "solder alloys",
        "free solder",
        "solder"
       ],
       "10.1007/s11666-012-9858-7": [
        "uranium molybdenum",
        "alloy fuel"
       ],
       "10.1007/s11666-017-0563-4": [
        "plasma",
        "barrier coatings"
       ],
       "10.1007/s11671-010-9639-5": [
        "ferromagnetism dilute",
        "magnetic semiconductors",
        "temperature ferromagnetism",
        "dilute magnetic"
       ],
       "10.1007/s11676-010-0091-2": [
        "agroforestry ubiquitous",
        "agroforestry",
        "plateau soil",
        "soil moisture"
       ],
       "10.1007/s11682-012-9170-7": [
        "multiple sclerosis",
        "cognitive impairment",
        "significant disability"
       ],
       "10.1007/s11689-009-9025-8": [
        "inhibitory gabaergic",
        "gabaergic implicated",
        "gabaergic",
        "schizophrenia autism"
       ],
       "10.1007/s11814-015-0252-2": [
        "gasification"
       ],
       "10.1007/s11920-015-0639-0": [
        "hypocretins",
        "neuropeptide systems"
       ],
       "10.1007/s11998-017-0015-6": [
        "corrosion",
        "corrosion crucial",
        "affects metals",
        "metals"
       ],
       "10.1007/s12040-015-0583-8": [
        "assessment hydrochemical",
        "hydrochemical characteristics",
        "important groundwater",
        "hydraulic properties"
       ],
       "10.1007/s12160-009-9128-1": [
        "food choices"
       ],
       "10.1007/s12237-019-00668-1": [
        "anaerobic ammonium",
        "oxidation anammox",
        "ammonium oxidation",
        "nitrogen aquatic"
       ],
       "10.1007/s12257-015-0733-5": [
        "silver nanoparticles",
        "nanotechnology silver",
        "antibacterial material"
       ],
       "10.1007/s12403-016-0231-9": [
        "nitrate fluoride"
       ],
       "10.1007/s12529-009-9063-3": [
        "positive affect",
        "negative affect",
        "relationship positive"
       ],
       "10.1007/s12540-016-5524-9": [
        "ferritic martensitic"
       ],
       "10.1007/s12650-009-0014-5": [
        "derived fuel"
       ],
       "10.1007/s12665-017-6899-8": [
        "threat groundwater",
        "groundwater chemistry",
        "leachate contaminants"
       ],
       "10.1007/s12685-011-0047-2": [
        "topic commercialisation",
        "commercialisation",
        "income cities"
       ],
       "10.1007/s13202-019-0702-1": [
        "phenomenon phase"
       ],
       "10.1007/s13204-013-0236-7": [
        "agriculture nanoagriculture",
        "nano biotechnology",
        "biotechnology crop",
        "nanoagriculture"
       ],
       "10.1007/s13351-015-3235-7": [
        "cloud precipitation",
        "measurements cloud",
        "precipitation microphysical",
        "particle size"
       ],
       "10.1007/s13679-017-0275-6": [
        "reviewalthough fathers",
        "fathers important",
        "fathers",
        "child lifestyle"
       ],
       "10.1007/s13726-014-0256-5": [
        "rigid thermoplastic",
        "thermoplastic",
        "thermoplastic important",
        "toughness rigid"
       ],
       "10.1007/s35724-015-0545-3": [
        "cleanliness optimum",
        "component cleanliness",
        "surface treatment",
        "industrial component"
       ],
       "10.1007/s40071-018-0207-4": [
        "human consumption"
       ],
       "10.1007/s40194-019-00824-y": [
        "entropy alloys",
        "high entropy",
        "alloys novel",
        "alloys"
       ],
       "10.1007/s40333-020-0009-6": [
        "soils secondary",
        "secondary succession",
        "underground soils"
       ],
       "10.1007/s40544-021-0502-8": [
        "friction",
        "fluid transportation",
        "transportation microfluid"
       ],
       "10.1007/s40808-020-00986-5": [
        "impact coastal",
        "coastal hazards",
        "coastal ecosystem",
        "coastal erosion"
       ],
       "10.1007/s40843-017-9075-7": [
        "battery advances",
        "emissions transportation",
        "future battery"
       ],
       "10.1007/s40843-017-9111-1": [
        "lactide plla"
       ],
       "10.1007/s41779-020-00504-x": [
        "antibiotic resistance",
        "antibiotic"
       ],
       "10.1007/s42832-020-0048-0": [
        "soil nematodes",
        "soil fauna",
        "nematodes numerous",
        "nematodes"
       ],
       "10.1016/0005-7967(83)90049-9": [
        "employment handicapped",
        "handicapped documented",
        "handicapped",
        "productive employment"
       ],
       "10.1016/0010-938X(82)90127-5": [
        "corrosion",
        "corrosion mild",
        "mild steel",
        "steel studied"
       ],
       "10.1016/0013-9327(78)90018-6": [
        "pollution",
        "pollution environmental"
       ],
       "10.1016/0017-9310(66)90040-8": [
        "condensation gravitational",
        "problem laminar"
       ],
       "10.1016/0022-0248(93)90225-L": [
        "crystallographic defects",
        "defects detrimental",
        "defects",
        "crystallographic"
       ],
       "10.1016/0022-3093(91)90753-S": [
        "ferroelectrics important",
        "ferroelectrics",
        "multifunctional materials"
       ],
       "10.1016/0022-3115(62)90006-5": [
        "corrosion metals",
        "corrosion",
        "literature corrosion",
        "reactors reviewed"
       ],
       "10.1016/0032-5910(85)85022-1": [
        "rice husk",
        "quantities rice",
        "husk main"
       ],
       "10.1016/0034-4257(91)90016-Y": [
        "environmental problems"
       ],
       "10.1016/0048-7333(83)90005-7": [
        "science policy",
        "science budgets",
        "explicit science",
        "scientific research"
       ],
       "10.1016/0094-730X(83)90027-X": [
        "success therapy"
       ],
       "10.1016/0167-7322(93)80042-T": [
        "failure electrical"
       ],
       "10.1016/0167-8809(95)00611-U": [
        "emissions soils",
        "nitrogen loss",
        "nitrous oxide"
       ],
       "10.1016/0168-583X(89)90176-6": [
        "implantation",
        "implantation great",
        "semiconductor device",
        "device fabrication"
       ],
       "10.1016/0168-583X(90)90603-R": [
        "neutron measurements",
        "fast neutron",
        "gamma radiation"
       ],
       "10.1016/0273-1223(95)00616-8": [
        "baiyangdian lake",
        "ecotone wetlands",
        "wetlands composed",
        "eutrophic baiyangdian"
       ],
       "10.1016/0304-3894(85)85002-0": [
        "thermal oxidation",
        "oxidation systems"
       ],
       "10.1016/0306-4549(77)90045-7": [
        "energy consumption",
        "industrialization comparable",
        "industrialized nations",
        "comparable energy"
       ],
       "10.1016/0308-0161(83)90058-3": [
        "fracture toughness",
        "vessel steels",
        "charpy notch"
       ],
       "10.1016/0341-8162(92)90014-3": [],
       "10.1016/0741-983X(90)90007-O": [],
       "10.1016/0890-6955(94)00121-Y": [
        "austempered ductile",
        "ductility toughness",
        "strength hardness"
       ],
       "10.1016/0921-5093(91)90057-T": [
        "amorphous ferromagnetic",
        "ferromagnetic alloys",
        "ferromagnetic",
        "amorphous"
       ],
       "10.1016/B0-08-043076-7/03801-8": [
        "depression syndrome",
        "depression",
        "sadness pessimism",
        "loss motivation"
       ],
       "10.1016/B978-0-08-056033-5.00009-4": [
        "actinide oxides",
        "nuclear fuels",
        "oxides materials",
        "oxides"
       ],
       "10.1016/B978-0-08-096701-1.00194-4": [
        "plastics",
        "plastics marketplace",
        "bumper aircraft",
        "performance fabricated"
       ],
       "10.1016/B978-0-08-100137-0.00001-8": [
        "composite materials",
        "composite"
       ],
       "10.1016/B978-0-08-101022-8.00012-0": [
        "research wound"
       ],
       "10.1016/B978-0-12-800054-0.00022-8": [
        "process titanium",
        "titanium based",
        "titanium"
       ],
       "10.1016/B978-0-12-805314-0.00005-4": [
        "impact olive"
       ],
       "10.1016/B978-0-12-813912-7.00011-9": [
        "contaminate aquatic",
        "aquatic ecosystems",
        "insurgency contaminate",
        "urban growth"
       ],
       "10.1016/B978-0-12-816189-0.00006-8": [
        "overuse pharmaceuticals",
        "urbanization overuse",
        "wastewater streams",
        "pharmaceuticals personal"
       ],
       "10.1016/B978-0-12-816207-1.00014-7": [
        "food addiction",
        "excessive food",
        "food intake",
        "addiction framework"
       ],
       "10.1016/B978-0-12-818258-1.00012-1": [
        "metal pollution",
        "pollution",
        "pollution environment",
        "heavy metal"
       ],
       "10.1016/B978-0-12-818307-6.00016-0": [
        "petroleum products",
        "gasoline kerosene",
        "fuels",
        "fuels aircraft"
       ],
       "10.1016/B978-0-12-821506-7.00014-4": [
        "exposure nanomaterials",
        "nanomaterials"
       ],
       "10.1016/B978-0-323-32889-0.00014-5": [
        "anticancer agents",
        "current anticancer",
        "differentiate cancerous",
        "cancerous normal"
       ],
       "10.1016/B978-0-323-47720-8.00009-2": [
        "dissolution",
        "biopharmaceutical classification"
       ],
       "10.1016/B978-0-444-63289-0.00013-2": [
        "fuel petrochemical",
        "hydrocarbon feedstocks"
       ],
       "10.1016/B978-0-444-89397-0.50019-1": [
        "liquid crystalline",
        "crystalline polymers",
        "structured mesophase"
       ],
       "10.1016/B978-008044496-3/50003-4": [
        "solids laser",
        "interaction laser",
        "laser induced"
       ],
       "10.1016/B978-012774810-8/50005-X": [
        "liquid crystals",
        "birefringence dielectric",
        "broadband birefringence",
        "electro optic"
       ],
       "10.1016/B978-1-78548-269-4.50008-1": [
        "natural hazard"
       ],
       "10.1016/BS.COAC.2018.02.001": [
        "health development"
       ],
       "10.1016/J.ACTAMAT.2018.11.062": [
        "fecral alloys",
        "oxide dispersion",
        "alloys optimization"
       ],
       "10.1016/J.ACTAMAT.2019.04.009": [
        "grain boundaries",
        "polycrystalline materials",
        "properties polycrystalline",
        "polycrystalline"
       ],
       "10.1016/J.ACTAO.2016.06.007": [
        "forest ecosystems",
        "global carbon",
        "ecosystems",
        "forest"
       ],
       "10.1016/J.ADVWATRES.2011.05.007": [
        "measurements precipitation",
        "precipitation remote",
        "precipitation",
        "locations limited"
       ],
       "10.1016/J.AGRFORMET.2007.07.010": [],
       "10.1016/J.AGSY.2016.06.006": [
        "livestock sector",
        "livestock"
       ],
       "10.1016/J.AGWAT.2010.07.016": [
        "threat sustainability"
       ],
       "10.1016/J.AGWAT.2018.11.026": [
        "animal manure",
        "manure agricultural",
        "manure",
        "agricultural production"
       ],
       "10.1016/J.ANNALS.2011.03.009": [
        "tourism experience",
        "tourism research",
        "current tourism",
        "tourism"
       ],
       "10.1016/J.ANUCENE.2012.10.024": [
        "behaviour neutron",
        "neutron population",
        "reactor conditions",
        "nuclear reactor"
       ],
       "10.1016/J.ANUCENE.2017.04.002": [
        "reactor corium",
        "corium",
        "containment floor"
       ],
       "10.1016/J.APCATB.2017.09.010": [
        "photocatalytic nitrogen",
        "economical photocatalyst",
        "photocatalytic",
        "nitrogen fixation"
       ],
       "10.1016/J.APCATB.2018.11.033": [
        "spectrum photocatalysts",
        "photocatalysts",
        "solar energy"
       ],
       "10.1016/J.APENERGY.2018.03.021": [
        "recycled ceramics",
        "recycled",
        "ceramics industrial",
        "refractory materials"
       ],
       "10.1016/J.APENERGY.2018.09.026": [
        "india second",
        "largest carbon",
        "carbon emitter"
       ],
       "10.1016/J.APENERGY.2019.04.136": [
        "renewable energy",
        "power production",
        "energy sources"
       ],
       "10.1016/J.APMT.2015.08.002": [
        "bulk ferroelectric",
        "ferroelectric materials",
        "refrigeration systems"
       ],
       "10.1016/J.APOR.2018.04.007": [
        "erosion shorelines",
        "shoreline wetlands",
        "wetlands",
        "conversion shoreline"
       ],
       "10.1016/J.APPLTHERMALENG.2010.11.017": [
        "composite fins",
        "tackle thermal",
        "weight polymeric",
        "polymeric composite"
       ],
       "10.1016/J.APPLTHERMALENG.2013.06.046": [
        "slurries",
        "thermal storage"
       ],
       "10.1016/J.APPLTHERMALENG.2016.07.049": [
        "furnace slag",
        "blast furnace",
        "slag high",
        "steel industry"
       ],
       "10.1016/J.APPLTHERMALENG.2017.05.094": [
        "cryogenic liquids",
        "cryogenic",
        "liquids"
       ],
       "10.1016/J.APPLTHERMALENG.2017.05.168": [
        "stratospheric airships",
        "endurance stratospheric",
        "airships"
       ],
       "10.1016/J.APPLTHERMALENG.2021.117337": [],
       "10.1016/J.APR.2018.08.002": [
        "public health",
        "quality urban",
        "urban areas"
       ],
       "10.1016/J.APSUSC.2005.01.144": [
        "laser deposition",
        "pulsed laser"
       ],
       "10.1016/J.APSUSC.2008.03.047": [
        "titanium nitride"
       ],
       "10.1016/J.APSUSC.2011.07.051": [
        "carbon nanotubes",
        "nanotubes"
       ],
       "10.1016/J.APSUSC.2013.02.093": [
        "electroless nickel",
        "nickel"
       ],
       "10.1016/J.APSUSC.2015.07.064": [
        "biomedical implants",
        "implants orthopedic",
        "complications biomedical",
        "bacterial infection"
       ],
       "10.1016/J.APSUSC.2016.06.050": [
        "alloys oxides",
        "magnetic materials"
       ],
       "10.1016/J.APSUSC.2017.08.080": [
        "barium titanate",
        "material barium",
        "titanate batio3",
        "barium"
       ],
       "10.1016/J.APSUSC.2018.12.171": [
        "wettability liquids",
        "controllable wettability",
        "wettability",
        "liquids"
       ],
       "10.1016/J.APSUSC.2021.149792": [
        "foam rpuf",
        "flame retardant",
        "rpuf composites",
        "polyurethane foam"
       ],
       "10.1016/J.APSUSC.2021.149809": [
        "field photocatalysis",
        "photocatalysis",
        "electron hole"
       ],
       "10.1016/J.APT.2017.05.007": [
        "eafd industrial",
        "eafd"
       ],
       "10.1016/J.APT.2018.03.003": [
        "acid hcooh",
        "formic acid",
        "fuel cells"
       ],
       "10.1016/J.ATMOSENV.2009.04.014": [
        "black carbon",
        "combustion sources"
       ],
       "10.1016/J.ATMOSENV.2010.05.027": [
        "atmospheric aerosol",
        "europe atmospheric",
        "aerosol"
       ],
       "10.1016/J.ATMOSENV.2015.11.054": [
        "carbon sequestration",
        "effects afforestation",
        "terrestrial carbon",
        "afforestation great"
       ],
       "10.1016/J.ATMOSENV.2019.04.038": [
        "rainfall reductions",
        "rainfall",
        "arid climate",
        "australia characterized"
       ],
       "10.1016/J.ATMOSENV.2019.05.003": [
        "mercury",
        "mercury global",
        "global pollutant"
       ],
       "10.1016/J.ATMOSRES.2017.09.006": [
        "solar radiation",
        "solar",
        "energy research"
       ],
       "10.1016/J.AVB.2018.06.008": [],
       "10.1016/J.BAGA.2012.05.003": [
        "dystonia",
        "basal ganglia",
        "disorder basal"
       ],
       "10.1016/J.BEJ.2003.12.003": [
        "inhalation anthrax",
        "inhalation materials",
        "cases inhalation"
       ],
       "10.1016/J.BETH.2005.11.003": [
        "disinhibitory psychopathology",
        "psychopathology",
        "psychopathology substance",
        "disinhibitory"
       ],
       "10.1016/J.BIOCON.2021.109297": [],
       "10.1016/J.BIOMATERIALS.2006.03.021": [
        "tumor therapy",
        "chemotherapy development"
       ],
       "10.1016/J.BIOMBIOE.2011.05.033": [
        "biomass gasification",
        "syngas production",
        "based biomass",
        "fuel feedstock"
       ],
       "10.1016/J.BITEB.2018.07.005": [
        "conversion biofuels",
        "biofuels"
       ],
       "10.1016/J.BPJ.2014.11.282": [
        "protein fibrils",
        "fibrils associated",
        "sheet protein",
        "conditions alzheimer"
       ],
       "10.1016/J.BUILDENV.2004.08.009": [
        "poor indoor"
       ],
       "10.1016/J.BUILDENV.2015.10.004": [
        "climate zone"
       ],
       "10.1016/J.BUILDENV.2016.06.020": [
        "neonatal intensive",
        "infants neonatal",
        "environmental stressors"
       ],
       "10.1016/J.BUILDENV.2019.04.050": [
        "indoor volatile",
        "volatile organic",
        "responsible indoor",
        "materials furniture"
       ],
       "10.1016/J.CARBON.2004.12.004": [
        "carbon nanotubes",
        "nanotubes",
        "multiwall carbon",
        "electronic properties"
       ],
       "10.1016/J.CARBON.2019.01.007": [
        "oxidation soot",
        "soot complex",
        "oxidation"
       ],
       "10.1016/J.CARBON.2019.05.003": [
        "bilayer graphene",
        "pyrolytic graphite",
        "graphite hopg"
       ],
       "10.1016/J.CATENA.2006.04.023": [
        "montane rainforests",
        "rainforests scarce",
        "rainforests",
        "soil formation"
       ],
       "10.1016/J.CATENA.2007.05.008": [
        "natural hazards",
        "alpine areas"
       ],
       "10.1016/J.CATENA.2015.02.009": [
        "secondary forests",
        "threat erosion",
        "vegetation litter",
        "soil region"
       ],
       "10.1016/J.CATENA.2019.04.026": [
        "permafrost carbon",
        "effects permafrost",
        "permafrost labile"
       ],
       "10.1016/J.CATENA.2020.105137": [
        "soil crusts",
        "crusts biocrusts",
        "biological soil",
        "soil"
       ],
       "10.1016/J.CATENA.2021.105284": [
        "pressure ecological"
       ],
       "10.1016/J.CEJ.2010.10.051": [
        "combustion methane",
        "catalytic combustion",
        "hydrogen micro"
       ],
       "10.1016/J.CEJ.2015.08.134": [
        "retarded osmosis",
        "osmosis",
        "different salinities"
       ],
       "10.1016/J.CEJ.2021.128419": [
        "catalytic nitrogen",
        "nitrogen reduction"
       ],
       "10.1016/J.CEJ.2021.128856": [
        "metal nanoclusters",
        "fabrication catalysts",
        "catalysts based",
        "catalytic activity"
       ],
       "10.1016/J.CEJ.2021.129544": [
        "ammonia important",
        "ammonia",
        "crop fertilizer",
        "fertilizer"
       ],
       "10.1016/J.CEJ.2021.129651": [
        "clathrate hydrates",
        "accumulation clathrate"
       ],
       "10.1016/J.CEJ.2021.130729": [],
       "10.1016/J.CEMCONCOMP.2018.09.019": [
        "decades climate",
        "climate"
       ],
       "10.1016/J.CEMCONRES.2014.07.003": [
        "superabsorbent polymers",
        "polymers saps",
        "admixture concrete"
       ],
       "10.1016/J.CEP.2018.05.024": [
        "interaction pyrolysis",
        "pyrolysis technique"
       ],
       "10.1016/J.CERAMINT.2021.01.188": [
        "silicon carbide",
        "semiconductor materials"
       ],
       "10.1016/J.CHILDYOUTH.2017.05.023": [
        "transition adulthood",
        "residential foster"
       ],
       "10.1016/J.CHILDYOUTH.2018.06.022": [
        "resilience children",
        "africa resilience",
        "effects adversity",
        "youth negative"
       ],
       "10.1016/J.CHILDYOUTH.2021.106135": [
        "childhood maltreatment",
        "children development"
       ],
       "10.1016/J.CIRP.2015.04.009": [
        "workpiece surface"
       ],
       "10.1016/J.CJCHE.2021.01.003": [
        "electro fenton",
        "advanced oxidation",
        "oxidation processes",
        "environmental remediation"
       ],
       "10.1016/J.CMA.2021.113665": [
        "graded materials",
        "materials",
        "materials widespread"
       ],
       "10.1016/J.COAL.2018.09.015": [
        "coal gasification",
        "underground coal",
        "energy coal"
       ],
       "10.1016/J.COCIS.2017.01.004": [
        "cellulose nanomaterials",
        "cellulose nanofibrils",
        "cellulose nanocrystals",
        "nanocrystals cellulose"
       ],
       "10.1016/J.COLDREGIONS.2017.12.006": [
        "avalanche danger",
        "avalanche hazard",
        "evolution avalanche",
        "alpine terrain"
       ],
       "10.1016/J.COLSURFA.2021.126631": [
        "nitro explosives",
        "recognition nitro",
        "nitro"
       ],
       "10.1016/J.COMBUSTFLAME.2012.03.016": [
        "fluorinated materials",
        "tetrafluoroethylene polymers",
        "energetic materials",
        "reactivity aluminum"
       ],
       "10.1016/J.COMPOSITESB.2017.01.035": [
        "composite materials"
       ],
       "10.1016/J.COMPOSITESB.2017.01.056": [
        "graphene oxide",
        "cement composites",
        "graphene",
        "reinforcement cement"
       ],
       "10.1016/J.COMPSCITECH.2016.08.005": [
        "requirements silicones",
        "silicones diverse",
        "silicones",
        "performance automotive"
       ],
       "10.1016/J.COMPSCITECH.2016.08.018": [
        "nanoparticles poor",
        "zero valent"
       ],
       "10.1016/J.COMPSTRUCT.2010.12.009": [
        "bonded joints",
        "tubular"
       ],
       "10.1016/J.COMPSTRUCT.2013.04.026": [
        "laminates aerospace",
        "holes required",
        "composite laminates"
       ],
       "10.1016/J.COMPSTRUCT.2014.02.008": [
        "pinned joints",
        "failure structures"
       ],
       "10.1016/J.COMPSTRUCT.2015.06.080": [
        "fracture bimaterial",
        "bimaterial interfaces",
        "fracture",
        "bimaterial"
       ],
       "10.1016/J.COMPSTRUCT.2018.09.069": [
        "piezoelectric applications",
        "polyvinylidene fluoride"
       ],
       "10.1016/J.CONBUILDMAT.2009.10.039": [
        "phosphate cement",
        "magnesium phosphate",
        "properties magnesium"
       ],
       "10.1016/J.CONBUILDMAT.2012.06.013": [
        "deteriorated concrete",
        "concrete structures"
       ],
       "10.1016/J.CONBUILDMAT.2012.11.063": [
        "crumb rubbers",
        "materials crumb"
       ],
       "10.1016/J.CONBUILDMAT.2013.04.044": [
        "asphalt mortar",
        "cement asphalt",
        "cement"
       ],
       "10.1016/J.CONBUILDMAT.2015.05.004": [],
       "10.1016/J.CONBUILDMAT.2017.03.088": [
        "performance concrete",
        "autogenous shrinkage"
       ],
       "10.1016/J.CONBUILDMAT.2017.04.142": [
        "reclaimed asphalt"
       ],
       "10.1016/J.CONBUILDMAT.2018.12.033": [
        "reinforced concrete",
        "concrete structures"
       ],
       "10.1016/J.CONBUILDMAT.2021.122415": [
        "glass microspheres",
        "cementitious composites",
        "composites eccs",
        "eccs sustainable"
       ],
       "10.1016/J.CORSCI.2019.02.003": [
        "aluminium alloys",
        "alloys susceptible"
       ],
       "10.1016/J.CPLETT.2019.01.021": [
        "piezoelectric composite",
        "piezoelectric",
        "surface conductive",
        "conductive treatment"
       ],
       "10.1016/J.DESAL.2017.07.016": [
        "composite membranes",
        "membranes",
        "seawater desalination",
        "polyamide layer"
       ],
       "10.1016/J.DESAL.2019.02.002": [
        "forward osmosis",
        "desalination"
       ],
       "10.1016/J.ECOLENG.2015.04.057": [
        "chemical industry",
        "sustainable development",
        "importance chemical",
        "sustainable"
       ],
       "10.1016/J.ECOLIND.2018.08.052": [
        "reef degradation",
        "coral reef",
        "degradation environmental"
       ],
       "10.1016/J.ECOLIND.2021.107633": [
        "coastal sediments",
        "inorganic carbon",
        "organic carbon"
       ],
       "10.1016/J.ECOLMODEL.2012.09.019": [
        "tree regeneration",
        "timber harvest",
        "regeneration density",
        "forests tree"
       ],
       "10.1016/J.EGYPRO.2014.12.223": [
        "ignition hcci",
        "hcci advanced",
        "compression ignition",
        "combustion strategy"
       ],
       "10.1016/J.EGYPRO.2017.09.417": [
        "bentonite",
        "bentonite kind",
        "buffer material"
       ],
       "10.1016/J.EGYPRO.2019.01.628": [
        "hydrates",
        "hydrates vast"
       ],
       "10.1016/J.EJA.2004.05.001": [
        "fertilizer nitrogen",
        "response fertilizer",
        "nitrogen vary",
        "crop response"
       ],
       "10.1016/J.EJMP.2018.06.057": [
        "radiation therapy",
        "dosimetry",
        "dosimetry systems",
        "modern radiation"
       ],
       "10.1016/J.EJRH.2016.01.035": [],
       "10.1016/J.ELECTACTA.2016.06.114": [
        "cathodes lithium",
        "layered electrode",
        "electrochemical properties",
        "candidate cathodes"
       ],
       "10.1016/J.ELECTACTA.2017.03.133": [
        "cathode materials",
        "compound cathode"
       ],
       "10.1016/J.ELECTACTA.2018.10.188": [
        "lithium titanate",
        "titanate li4ti5o12",
        "material lithium",
        "batteries libs"
       ],
       "10.1016/J.ELSPEC.2015.06.005": [
        "photoelectron spectroscopy",
        "electronic properties",
        "photoelectron"
       ],
       "10.1016/J.ENBUILD.2013.07.037": [
        "expansion china",
        "economic expansion",
        "national energy"
       ],
       "10.1016/J.ENBUILD.2019.04.021": [
        "fuel cell",
        "power micro"
       ],
       "10.1016/J.ENBUILD.2021.110996": [
        "construction materials",
        "environmental footprint"
       ],
       "10.1016/J.ENCONMAN.2012.08.026": [
        "boron minerals",
        "boron carbide",
        "production boron",
        "materials production"
       ],
       "10.1016/J.ENERGY.2018.02.025": [
        "energy efficiency",
        "decarbonisation",
        "electricity sectors"
       ],
       "10.1016/J.ENERGY.2018.10.064": [
        "diesel engines",
        "marine diesel",
        "efficiency marine",
        "thermal efficiency"
       ],
       "10.1016/J.ENERGY.2018.10.140": [],
       "10.1016/J.ENERGY.2018.11.076": [
        "inherent exhaust"
       ],
       "10.1016/J.ENERGY.2018.11.109": [
        "industries cement",
        "temperature industries"
       ],
       "10.1016/J.ENERGY.2021.120433": [
        "biomass pyrolysis",
        "emission fuel"
       ],
       "10.1016/J.ENERGY.2021.120669": [
        "absorption refrigeration",
        "energy utilization"
       ],
       "10.1016/J.ENGFRACMECH.2011.11.008": [
        "interface delamination",
        "delamination",
        "interface",
        "failure mechanism"
       ],
       "10.1016/J.ENGGEO.2018.07.008": [
        "salt unique",
        "storage caverns",
        "underground structures"
       ],
       "10.1016/J.ENSM.2017.09.010": [
        "renewable energy",
        "energy consumption"
       ],
       "10.1016/J.ENSM.2020.09.006": [
        "density lithium",
        "batteries libs"
       ],
       "10.1016/J.ENSM.2021.06.006": [
        "batteries azibs",
        "aqueous zinc",
        "anode addiction"
       ],
       "10.1016/J.ENSM.2021.08.020": [
        "wearable devices",
        "devices innovative",
        "wearable",
        "technological breakthroughs"
       ],
       "10.1016/J.ENVPOL.2019.04.098": [
        "haze pollution",
        "inorganic aerosols",
        "haze",
        "nitrate ammonium"
       ],
       "10.1016/J.EST.2021.102403": [
        "reliability thermal",
        "energy storage"
       ],
       "10.1016/J.EURPOLYMJ.2015.07.044": [
        "decades hydrogels",
        "hydrogels"
       ],
       "10.1016/J.EURPOLYMJ.2018.08.021": [
        "nanofiber membranes",
        "biomedical filtration",
        "membranes biomedical",
        "filtration devices"
       ],
       "10.1016/J.EURPSY.2016.01.2215": [
        "narcolepsy neurological",
        "narcolepsy",
        "neurological disorder"
       ],
       "10.1016/J.FIRESAF.2017.07.004": [
        "plate column",
        "concrete structures",
        "column connection",
        "shear failure"
       ],
       "10.1016/J.FISHRES.2015.07.012": [
        "unbiased visual"
       ],
       "10.1016/J.FMRE.2020.11.004": [
        "silicon carbide",
        "carbide"
       ],
       "10.1016/J.FORECO.2005.10.014": [
        "woodland biomass",
        "forest biomass",
        "estimate forest"
       ],
       "10.1016/J.FORECO.2021.119614": [
        "litter decomposition",
        "carbon nutrient",
        "litter"
       ],
       "10.1016/J.FPSL.2021.100666": [
        "oxygen sensitive"
       ],
       "10.1016/J.FUEL.2012.06.120": [
        "biomass coal",
        "biomass"
       ],
       "10.1016/J.FUEL.2018.02.195": [
        "boilers suitable",
        "biomass combustion"
       ],
       "10.1016/J.FUSENGDES.2021.112411": [
        "li2tio3 ceramic",
        "titanate li2tio3",
        "lithium titanate",
        "fusion reactor"
       ],
       "10.1016/J.GCE.2021.06.001": [
        "eutectic solvents",
        "solvents dess",
        "solvents",
        "deep eutectic"
       ],
       "10.1016/J.GEODERMA.2008.06.015": [
        "soil organic",
        "organic carbon",
        "important soil",
        "terrestrial ecosystems"
       ],
       "10.1016/J.GEODERMA.2015.02.010": [
        "engineer soil"
       ],
       "10.1016/J.GEODERMA.2018.01.033": [
        "alkali soils"
       ],
       "10.1016/J.GEODRS.2017.07.004": [
        "amazon region"
       ],
       "10.1016/J.HRMR.2016.03.004": [
        "expatriate workers",
        "expatriate"
       ],
       "10.1016/J.IFACOL.2018.08.096": [
        "evapotranspiration",
        "loss atmosphere"
       ],
       "10.1016/J.IJGGC.2018.06.021": [
        "anthropogenic greenhouse",
        "global temperatures",
        "reduction anthropogenic"
       ],
       "10.1016/J.IJHEATFLUIDFLOW.2011.09.007": [
        "turbine blades"
       ],
       "10.1016/J.IJHEATFLUIDFLOW.2019.108423": [
        "radial turbine",
        "turbine research"
       ],
       "10.1016/J.IJHEATMASSTRANSFER.2014.05.022": [
        "adsorption based"
       ],
       "10.1016/J.IJHYDENE.2009.05.077": [
        "biohydrogen palm"
       ],
       "10.1016/J.IJHYDENE.2010.04.139": [
        "hydrogen safety",
        "property hydrogen",
        "hydrogen",
        "safety sensors"
       ],
       "10.1016/J.IJHYDENE.2013.04.136": [
        "hydrogen production",
        "energy hydrogen",
        "viable environment",
        "environment protective"
       ],
       "10.1016/J.IJHYDENE.2018.11.104": [
        "alloy hydrogen",
        "hydrogen storage",
        "hydrogen contamination",
        "lani5 ternary"
       ],
       "10.1016/J.IJHYDENE.2021.01.089": [
        "vehicles scramjet",
        "issue hypersonic"
       ],
       "10.1016/J.IJHYDENE.2021.07.038": [
        "cells pemfcs",
        "fuel cells",
        "pemfcs",
        "pemfcs kind"
       ],
       "10.1016/J.IJLEO.2014.07.092": [
        "bionic structure",
        "science bionic",
        "materials science",
        "bionic"
       ],
       "10.1016/J.IJMECSCI.2016.03.004": [
        "plane vibration",
        "disks limits",
        "disks"
       ],
       "10.1016/J.IJMECSCI.2018.07.032": [
        "nanotubes vacnts",
        "carbon nanotubes",
        "nanotubes",
        "aligned carbon"
       ],
       "10.1016/J.IJMST.2014.11.004": [
        "diesel particulate",
        "carcinogenic prolonged"
       ],
       "10.1016/J.IJMULTIPHASEFLOW.2018.06.014": [
        "particle suspensions",
        "rigid particle",
        "suspensions prevalent"
       ],
       "10.1016/J.IJPLAS.2014.03.014": [
        "sheets ductile",
        "homogenous deformation"
       ],
       "10.1016/J.IJRMHM.2013.01.003": [
        "cemented carbide",
        "carbide"
       ],
       "10.1016/J.INTERMET.2013.02.001": [
        "tial intermetallic",
        "intermetallic alloys",
        "alloys",
        "tial"
       ],
       "10.1016/J.JALLCOM.2012.02.027": [
        "ferrite martensite",
        "strength steels",
        "martensite dual",
        "martensite"
       ],
       "10.1016/J.JALLCOM.2014.03.175": [
        "doped glasses",
        "optical properties",
        "enhanced optical",
        "glasses sundry"
       ],
       "10.1016/J.JALLCOM.2015.01.191": [
        "tial intermetallic",
        "performance composites",
        "structural material"
       ],
       "10.1016/J.JALLCOM.2016.11.399": [
        "engine bearings",
        "bearings",
        "alloys"
       ],
       "10.1016/J.JALLCOM.2017.03.233": [
        "graphite"
       ],
       "10.1016/J.JALLCOM.2019.03.064": [
        "dissipation important",
        "reliability structures",
        "harsh thermal"
       ],
       "10.1016/J.JALLCOM.2021.160857": [
        "germanium phosphide",
        "composites germanium",
        "batteries libs",
        "anode material"
       ],
       "10.1016/J.JANXDIS.2006.06.007": [
        "emetophobia",
        "anxiety disorder"
       ],
       "10.1016/J.JARIDENV.2006.03.020": [
        "climate",
        "researchers world"
       ],
       "10.1016/J.JCLEPRO.2011.10.036": [
        "hexavalent chromium",
        "industrial wastewaters",
        "hazardous sludge"
       ],
       "10.1016/J.JCLEPRO.2015.07.087": [
        "ports complex",
        "ports"
       ],
       "10.1016/J.JCLEPRO.2017.04.024": [
        "biomass power",
        "biomass",
        "power generation"
       ],
       "10.1016/J.JCLEPRO.2018.03.112": [
        "earth elements",
        "critical metals",
        "rees electronics",
        "weee potential"
       ],
       "10.1016/J.JCLEPRO.2018.09.130": [
        "education sustainable",
        "sustainable development",
        "tertiary education"
       ],
       "10.1016/J.JCLEPRO.2019.04.159": [
        "transportation sector",
        "transportation"
       ],
       "10.1016/J.JCLEPRO.2021.125944": [
        "constructed wetland",
        "wastewater treatment"
       ],
       "10.1016/J.JCLINEPI.2003.07.016": [
        "fatigue"
       ],
       "10.1016/J.JCOMDIS.2006.06.009": [
        "immature preterm",
        "memory preschool",
        "preterm birth",
        "competencies phonological"
       ],
       "10.1016/J.JCRIMJUS.2014.12.005": [
        "self control",
        "criminology social",
        "topic criminology",
        "criminology"
       ],
       "10.1016/J.JECE.2018.102830": [
        "fossil fuels",
        "renewable energy",
        "energy sources",
        "development renewable"
       ],
       "10.1016/J.JECE.2021.106202": [
        "carbon dioxide",
        "capture carbon",
        "effects atmosphere"
       ],
       "10.1016/J.JECHEM.2021.03.035": [
        "batteries libs",
        "layered cathode",
        "cathode regarded",
        "achieve lithium"
       ],
       "10.1016/J.JEURCERAMSOC.2010.02.019": [
        "lanthanum chromite",
        "chromite lacro3",
        "oxide fuel",
        "cells sofc"
       ],
       "10.1016/J.JHAZMAT.2007.01.132": [
        "backfill material"
       ],
       "10.1016/J.JHTM.2021.07.008": [
        "residents tourism",
        "environmental behaviors",
        "tourism",
        "local residents"
       ],
       "10.1016/J.JHYDROL.2004.12.016": [
        "ethiopian highlands",
        "highlands subjected",
        "ethiopian"
       ],
       "10.1016/J.JHYDROL.2009.08.012": [
        "hydrologic models",
        "data hydrologic",
        "hydrologic"
       ],
       "10.1016/J.JHYDROL.2010.06.017": [
        "losses hydrological",
        "hydrological ecological",
        "capacity stemflow"
       ],
       "10.1016/J.JHYDROL.2016.02.025": [
        "runoff erosion",
        "wildfire occurrence",
        "terrestrial ecosystems"
       ],
       "10.1016/J.JHYDROL.2017.05.008": [
        "sustainability science",
        "interdisciplinary scientific",
        "integration interdisciplinary",
        "scientific societal"
       ],
       "10.1016/J.JIEC.2019.08.033": [
        "diodes teoleds"
       ],
       "10.1016/J.JMATPROTEC.2004.04.158": [
        "temperatures mechanical",
        "cyclic temperatures"
       ],
       "10.1016/J.JMATPROTEC.2008.11.032": [
        "brittle materials",
        "brittle",
        "materials",
        "ceramics glasses"
       ],
       "10.1016/J.JMPS.2014.04.007": [
        "fiber reinforced",
        "moisture absorption",
        "reinforced composites",
        "degradation mechanical"
       ],
       "10.1016/J.JNGSE.2019.05.001": [
        "resources shale",
        "unconventional resources"
       ],
       "10.1016/J.JNN.2020.12.005": [
        "prematurity",
        "thousands parents"
       ],
       "10.1016/J.JNUCMAT.2011.07.030": [
        "silicide dispersion",
        "dispersion fuel",
        "performance fuel"
       ],
       "10.1016/J.JNUCMAT.2012.08.035": [
        "pyrochlore based",
        "glass ceramics",
        "immobilization actinide",
        "pyrochlore"
       ],
       "10.1016/J.JNUCMAT.2020.152321": [
        "tritium permeation",
        "fusion reactors",
        "tritium",
        "reactors viewpoint"
       ],
       "10.1016/J.JOCRD.2018.09.002": [
        "discrimination obsessive",
        "obsessive compulsive",
        "psychiatric symptoms",
        "symptoms african"
       ],
       "10.1016/J.JOEI.2018.03.003": [
        "coal particle"
       ],
       "10.1016/J.JOULE.2017.12.001": [
        "stabilization lithium",
        "metal anode",
        "rechargeable batteries"
       ],
       "10.1016/J.JPOWSOUR.2014.02.030": [],
       "10.1016/J.JPOWSOUR.2017.10.073": [
        "biofilms hydrophobic",
        "electroactive bacteria",
        "titanium consideration"
       ],
       "10.1016/J.JPOWSOUR.2017.11.077": [
        "development supercapacitors",
        "supercapacitors",
        "supercapacitors high"
       ],
       "10.1016/J.JPOWSOUR.2018.05.096": [
        "lithium sulfur",
        "lithium",
        "energy storage"
       ],
       "10.1016/J.JPOWSOUR.2020.228931": [
        "batteries libs",
        "organic electrode",
        "prospects lithium"
       ],
       "10.1016/J.JRE.2019.07.009": [
        "persistent phosphors",
        "phosphors",
        "photophysical properties"
       ],
       "10.1016/J.JSSC.2017.07.007": [
        "photocatalytic degradation",
        "cuprous oxide"
       ],
       "10.1016/J.LEAQUA.2015.03.002": [
        "abusive supervision",
        "supervision dysfunctional",
        "dysfunctional leadership",
        "supervision"
       ],
       "10.1016/J.LINDIF.2017.05.006": [
        "achievement goals",
        "motivation",
        "motivation decades",
        "research motivation"
       ],
       "10.1016/J.MATCHAR.2018.01.047": [
        "oxide fiber",
        "reinforced oxide",
        "stability oxide",
        "thermal stability"
       ],
       "10.1016/J.MATCHEMPHYS.2019.03.039": [
        "microwave absorber",
        "absorber composites"
       ],
       "10.1016/J.MATCHEMPHYS.2021.124357": [
        "ferrite materials",
        "research ferrite",
        "ferrite",
        "materials science"
       ],
       "10.1016/J.MATDES.2008.08.032": [
        "defects metals",
        "porosity important",
        "porosity",
        "important defects"
       ],
       "10.1016/J.MATDES.2009.12.001": [
        "alloy welded",
        "al6061 alloy",
        "welded gtaw",
        "corrosion behavior"
       ],
       "10.1016/J.MATDES.2016.02.007": [
        "metallic glasses",
        "plasticity metallic",
        "origin plasticity",
        "plasticity"
       ],
       "10.1016/J.MATDES.2019.108010": [
        "soft robotics",
        "responsive polymer",
        "polymer materials",
        "artificial muscles"
       ],
       "10.1016/J.MATDES.2019.108041": [],
       "10.1016/J.MATERRESBULL.2006.09.015": [
        "tricalcium phosphate",
        "phosphate based",
        "bone replacement",
        "based ceramics"
       ],
       "10.1016/J.MATERRESBULL.2018.12.033": [
        "wearable electronic",
        "robust materials",
        "portable wearable",
        "materials excellent"
       ],
       "10.1016/J.MATLET.2005.11.006": [
        "yttrium aluminum",
        "optical material",
        "doped yttrium"
       ],
       "10.1016/J.MATLET.2007.06.031": [
        "hollow nanostructures",
        "nanostructures inorganic",
        "methods hollow"
       ],
       "10.1016/J.MATLET.2013.05.090": [
        "boron nitride",
        "boron",
        "nanomaterials great"
       ],
       "10.1016/J.MATLET.2018.10.108": [
        "photovoltaics",
        "deposition techniques",
        "based deposition"
       ],
       "10.1016/J.MATPR.2017.07.249": [
        "aerodynamic design",
        "complex aerodynamic",
        "components airframe"
       ],
       "10.1016/J.MATPR.2018.06.511": [
        "smart materials",
        "structural health",
        "materials structural"
       ],
       "10.1016/J.MATPR.2018.10.150": [],
       "10.1016/J.MATPR.2018.10.205": [
        "disposal fiber",
        "sustainable solution"
       ],
       "10.1016/J.MATPR.2020.09.762": [
        "concrete"
       ],
       "10.1016/J.MATPR.2021.03.670": [
        "alternative energy",
        "energy source"
       ],
       "10.1016/J.MATTOD.2015.06.001": [
        "photodetectors"
       ],
       "10.1016/J.MCAT.2017.03.027": [
        "heterojunction photocatalysts",
        "photocatalysts",
        "photocatalysts high"
       ],
       "10.1016/J.MECHRESCOM.2011.02.008": [
        "piezoelectric substrates",
        "surface acoustic"
       ],
       "10.1016/J.MEMSCI.2015.08.015": [
        "separation propylene",
        "propylene propane",
        "propylene",
        "effective separation"
       ],
       "10.1016/J.MEMSCI.2021.119308": [
        "osmosis"
       ],
       "10.1016/J.MINENG.2013.03.029": [
        "nickel extracted",
        "laterite ores",
        "extracted laterite",
        "percentage nickel"
       ],
       "10.1016/J.MINPRO.2004.08.003": [
        "lime typical",
        "lime",
        "typical material"
       ],
       "10.1016/J.MINPRO.2016.03.002": [
        "aggregates cement"
       ],
       "10.1016/J.MOEM.2016.08.001": [
        "metal erbium",
        "integrated silicon",
        "silicon doped"
       ],
       "10.1016/J.MOLLIQ.2021.117845": [],
       "10.1016/J.MSEA.2003.10.141": [
        "ecap materials",
        "ecap"
       ],
       "10.1016/J.MSEA.2004.03.029": [
        "supermartensitic stainless",
        "duplex stainless",
        "supermartensitic",
        "stainless steels"
       ],
       "10.1016/J.MSEA.2007.02.053": [
        "carbide matrix",
        "silicon carbide"
       ],
       "10.1016/J.MSEA.2010.05.044": [
        "plastic deformation",
        "mechanical surface",
        "surface treatments"
       ],
       "10.1016/J.MSEA.2011.12.110": [
        "aluminum oxynitride",
        "oxynitride alon",
        "aluminum",
        "ceramic material"
       ],
       "10.1016/J.MSEA.2014.05.053": [
        "adiabatic shear",
        "materials phenomenon",
        "shear band",
        "metals processed"
       ],
       "10.1016/J.MSEA.2015.06.032": [
        "graphene nanosheets",
        "reinforced copper",
        "graphene",
        "copper matrix"
       ],
       "10.1016/J.MSEA.2021.141581": [
        "copper alloys",
        "require copper",
        "copper",
        "electronics components"
       ],
       "10.1016/J.MSEB.2003.10.009": [
        "amorphous nanocrystalline",
        "nanocrystalline materials",
        "development amorphous",
        "amorphous"
       ],
       "10.1016/J.MSEB.2004.07.036": [
        "rapid thermal"
       ],
       "10.1016/J.MSSP.2006.08.002": [
        "electronics germanium",
        "germanium",
        "germanium regained",
        "semiconductor material"
       ],
       "10.1016/J.MSSP.2014.06.049": [
        "wafers solar",
        "silicon wafers",
        "sawn multicrystalline"
       ],
       "10.1016/J.MSSP.2018.03.028": [
        "zinc oxide",
        "semiconductor investigated"
       ],
       "10.1016/J.MTCHEM.2018.10.002": [
        "flexible substrates",
        "layer deposition",
        "organic electronics"
       ],
       "10.1016/J.NANOEN.2016.02.005": [
        "anodes lithium"
       ],
       "10.1016/J.NANOEN.2016.12.017": [
        "fluoride fef3",
        "fef3 analogues",
        "fef3"
       ],
       "10.1016/J.NANOEN.2018.10.052": [
        "capacitors lics",
        "energy storage",
        "layer capacitors"
       ],
       "10.1016/J.NANOEN.2018.11.024": [
        "triboelectric nanogenerators",
        "devices piezoelectric"
       ],
       "10.1016/J.NANOEN.2018.11.044": [
        "dielectric materials",
        "dielectric nano",
        "advanced dielectric",
        "based dielectric"
       ],
       "10.1016/J.NANOEN.2019.02.015": [
        "thermoelectric materials",
        "thermoelectrics",
        "thermoelectric"
       ],
       "10.1016/J.NANOSO.2017.02.002": [
        "assembled supramolecular",
        "supramolecular structures",
        "photosynthesis supramolecular",
        "supramolecular electronics"
       ],
       "10.1016/J.NANTOD.2014.12.005": [
        "anisotropic nanoparticles",
        "anisotropic optical",
        "anisotropic",
        "nanoparticles ideal"
       ],
       "10.1016/J.NUCENGDES.2009.06.008": [
        "reactors"
       ],
       "10.1016/J.NUCENGDES.2014.12.014": [
        "nuclear accident",
        "awareness reactor",
        "fukushima nuclear",
        "reactor designers"
       ],
       "10.1016/J.NUCENGDES.2017.04.035": [],
       "10.1016/J.NUCENGDES.2018.08.029": [
        "ceramic microencapsulated",
        "microencapsulated",
        "fuel materials"
       ],
       "10.1016/J.OPTLASENG.2006.12.003": [
        "braided composites",
        "dimensional braided",
        "braided"
       ],
       "10.1016/J.OPTLASENG.2021.106770": [
        "transparent materials",
        "ubiquity products"
       ],
       "10.1016/J.ORGGEOCHEM.2007.07.004": [
        "biodegradation crude",
        "biodegradation",
        "deterioration quality"
       ],
       "10.1016/J.ORGGEOCHEM.2009.04.017": [
        "deforestation",
        "soil organic",
        "organic carbon"
       ],
       "10.1016/J.PAID.2010.03.049": [
        "abortion controversial",
        "abortion",
        "controversial topic"
       ],
       "10.1016/J.PAID.2016.01.026": [
        "anxiety effects"
       ],
       "10.1016/J.PCRYSGROW.2016.04.003": [
        "mineral formation",
        "nucleation growth",
        "growth crystals",
        "formation geochemical"
       ],
       "10.1016/J.PETROL.2009.02.005": [
        "production sand"
       ],
       "10.1016/J.PETROL.2019.05.062": [
        "drainage sagd",
        "sagd efficient",
        "sagd",
        "gravity drainage"
       ],
       "10.1016/J.PETROL.2021.109297": [],
       "10.1016/J.PETROL.2021.109367": [
        "salinity engineered",
        "injections lswi"
       ],
       "10.1016/J.PHYSC.2013.04.039": [
        "flywheel energy"
       ],
       "10.1016/J.PHYSE.2018.12.003": [
        "photonic devices",
        "photonic",
        "field photonic"
       ],
       "10.1016/J.PMATSCI.2005.04.003": [
        "carbon nanotubes",
        "nanotubes"
       ],
       "10.1016/J.PNUCENE.2012.04.005": [],
       "10.1016/J.POLGEO.2004.02.002": [
        "urban politics",
        "dominates urban",
        "world city",
        "city dominates"
       ],
       "10.1016/J.POLYMDEGRADSTAB.2019.05.008": [
        "epoxy resins",
        "flame retardants",
        "flame retardant",
        "property epoxy"
       ],
       "10.1016/J.POLYMER.2006.05.034": [
        "friction elements",
        "stability polymers",
        "thermal stability"
       ],
       "10.1016/J.POLYMER.2021.123814": [
        "based polymers",
        "polymers better",
        "polymers",
        "petroleum based"
       ],
       "10.1016/J.POLYMERTESTING.2021.107142": [
        "intermediate strain",
        "mechanical properties"
       ],
       "10.1016/J.PORGCOAT.2013.11.027": [
        "surfaces seawater",
        "artificial surfaces"
       ],
       "10.1016/J.PROCIR.2018.05.010": [
        "optical components",
        "aspheric optical"
       ],
       "10.1016/J.PROCIR.2018.08.276": [
        "chatter vibrations"
       ],
       "10.1016/J.PROENG.2012.03.010": [
        "indium oxide",
        "doped indium",
        "transparent conductive"
       ],
       "10.1016/J.PROEPS.2009.09.190": [
        "anthropogenic wetland",
        "wetland",
        "coal"
       ],
       "10.1016/J.PROGPOLYMSCI.2013.06.004": [
        "hydrogels important",
        "hydrogels",
        "functional materials"
       ],
       "10.1016/J.PROSTR.2016.06.120": [
        "welds ferritic",
        "metal welds",
        "austenitic alloys",
        "ferritic austenitic"
       ],
       "10.1016/J.PROSTR.2016.06.157": [
        "metallic components",
        "lightweight metallic",
        "production lightweight"
       ],
       "10.1016/J.PROTCY.2016.01.106": [
        "wheat straw",
        "emissions carbon"
       ],
       "10.1016/J.PSEP.2021.02.018": [
        "tank accidents",
        "flammable materials",
        "volumes flammable"
       ],
       "10.1016/J.RADPHYSCHEM.2018.08.003": [
        "neutron detector",
        "alternative neutron",
        "detector technologies",
        "neutron"
       ],
       "10.1016/J.RENENE.2018.10.057": [
        "sio2 common",
        "sio2"
       ],
       "10.1016/J.RENENE.2020.09.055": [
        "electric vehicles",
        "vehicles electric",
        "powered vehicles",
        "energy popular"
       ],
       "10.1016/J.RENENE.2021.03.021": [
        "turbine blades",
        "wind turbine",
        "degradation exposure",
        "surface wind"
       ],
       "10.1016/J.RSE.2008.04.015": [
        "assessment phytoplankton",
        "phytoplankton chlorophyll",
        "phytoplankton"
       ],
       "10.1016/J.RSE.2008.10.005": [
        "urban vegetation",
        "estimates vegetation",
        "vegetation characteristics"
       ],
       "10.1016/J.RSE.2012.01.018": [
        "salt marshes",
        "marshes critical",
        "marshes"
       ],
       "10.1016/J.RSE.2014.11.016": [
        "global carbon",
        "forests",
        "carbon sink"
       ],
       "10.1016/J.RSE.2017.03.040": [
        "marine biogeochemistry",
        "ocean colour",
        "observations marine"
       ],
       "10.1016/J.RSE.2017.04.014": [
        "reliable crop",
        "food security"
       ],
       "10.1016/J.RSE.2021.112630": [],
       "10.1016/J.RSER.2013.05.027": [
        "renewable energy",
        "energy crisis"
       ],
       "10.1016/J.RSER.2017.05.052": [
        "derived ethanol",
        "ethanol",
        "amounts corn"
       ],
       "10.1016/J.RSER.2018.11.040": [
        "biofuels bioenergy",
        "bioenergy renewable",
        "biofuels",
        "renewable nature"
       ],
       "10.1016/J.SBSPRO.2013.08.735": [
        "social entrepreneurship",
        "entrepreneurship",
        "entrepreneurship young",
        "term social"
       ],
       "10.1016/J.SCITOTENV.2021.145847": [
        "biodiversity loss",
        "biodiversity",
        "climate"
       ],
       "10.1016/J.SEPPUR.2017.06.076": [
        "plastic products"
       ],
       "10.1016/J.SEPPUR.2018.11.084": [],
       "10.1016/J.SNA.2014.03.020": [
        "dielectric elastomer",
        "elastomer devices",
        "soft dielectric",
        "dielectric"
       ],
       "10.1016/J.SNA.2017.10.006": [
        "plasmonic nanoantennas",
        "nanoantennas",
        "responses plasmonic",
        "nanoantennas negative"
       ],
       "10.1016/J.SNB.2013.09.035": [
        "hexaferrites",
        "magnetic data",
        "important magnetic"
       ],
       "10.1016/J.SNB.2014.06.055": [
        "precious metal",
        "natural resources",
        "metal ions"
       ],
       "10.1016/J.SNB.2015.01.029": [
        "polyaniline pani",
        "polyaniline",
        "pani oldest"
       ],
       "10.1016/J.SNB.2017.09.001": [
        "temperatures microscale",
        "surface temperatures",
        "temperature dependent",
        "measurement surface"
       ],
       "10.1016/J.SOILBIO.2015.09.005": [
        "soil organic",
        "organic carbon"
       ],
       "10.1016/J.SOILBIO.2019.107567": [
        "soil microorganisms",
        "soil disturbances",
        "sensitive soil",
        "soil"
       ],
       "10.1016/J.SOLENER.2013.02.034": [
        "solar thermal",
        "renewable electricity",
        "thermal power"
       ],
       "10.1016/J.SOLENER.2016.11.007": [
        "organic rankine",
        "geothermal biomass"
       ],
       "10.1016/J.SOLENER.2018.06.076": [
        "solar irradiance"
       ],
       "10.1016/J.SOLMAT.2006.07.014": [
        "photovoltaic",
        "stacked photovoltaic"
       ],
       "10.1016/J.SOLMAT.2008.05.011": [
        "solar cells",
        "heterojunction solar",
        "wafer surfaces"
       ],
       "10.1016/J.SPMI.2012.05.009": [
        "mesoporous materials",
        "photocatalytic activity",
        "greater photocatalytic",
        "pure semiconductors"
       ],
       "10.1016/J.STILL.2004.11.003": [
        "soil compaction",
        "soil",
        "vehicles machinery",
        "heavy vehicles"
       ],
       "10.1016/J.STILL.2021.105015": [
        "soil potassium",
        "potassium status",
        "potassium",
        "reductions soil"
       ],
       "10.1016/J.SURFCOAT.2005.10.030": [
        "austenitic stainless",
        "stainless steels",
        "difficult machine",
        "machine materials"
       ],
       "10.1016/J.SURFCOAT.2006.03.035": [
        "titanium nitride"
       ],
       "10.1016/J.SURFCOAT.2008.06.025": [
        "nickel oxide",
        "semiconductor wide",
        "oxide typical"
       ],
       "10.1016/J.SURFCOAT.2008.10.013": [
        "carbide based",
        "mitigate erosion",
        "erosion industrial"
       ],
       "10.1016/J.SURFCOAT.2009.01.041": [
        "alloy sheets",
        "surface quality",
        "transfer adhesion"
       ],
       "10.1016/J.SURFCOAT.2011.01.009": [
        "alloy coatings",
        "applications corrosion",
        "zinc alloy",
        "steel sheet"
       ],
       "10.1016/J.TCA.2011.06.010": [
        "based nanocomposites",
        "nanocomposites",
        "polymer based",
        "studies polymer"
       ],
       "10.1016/J.TCA.2018.11.004": [
        "pharmaceutical glass",
        "crystallization behavior",
        "crystallization",
        "glass achieved"
       ],
       "10.1016/J.TRAC.2014.06.015": [
        "dioxide nanotubes",
        "nanotubes",
        "titanium dioxide",
        "elongated nanomaterials"
       ],
       "10.1016/J.TRF.2017.06.019": [
        "road safety",
        "young drivers"
       ],
       "10.1016/J.TRF.2017.07.005": [
        "impaired health"
       ],
       "10.1016/J.TRIBOINT.2005.11.013": [],
       "10.1016/J.TSEP.2021.100839": [
        "discharge flue",
        "moisture loss",
        "vapor latent"
       ],
       "10.1016/J.TSF.2005.09.030": [
        "advances fabrication",
        "nanotechnology"
       ],
       "10.1016/J.TSF.2013.02.087": [],
       "10.1016/J.TSF.2014.11.065": [
        "cadmium sulphide",
        "sulphide cadmium"
       ],
       "10.1016/J.TUST.2020.103618": [
        "tunnel accidents",
        "issue tunnel",
        "tunnel"
       ],
       "10.1016/J.TWS.2017.07.024": [
        "core concrete",
        "steel tube"
       ],
       "10.1016/J.ULTRAMIC.2007.05.002": [
        "superhydrophobic surfaces",
        "superhydrophobic",
        "repellent properties"
       ],
       "10.1016/J.WACE.2021.100372": [
        "alpine catchments",
        "heavy precipitation",
        "catchments runoff",
        "precipitation episodes"
       ],
       "10.1016/J.WEAR.2009.02.013": [
        "design slurry",
        "slurry",
        "erosion turbulence"
       ],
       "10.1016/J.WEAR.2010.11.060": [
        "wind turbines",
        "turbines durability",
        "wind energy",
        "conversion wind"
       ],
       "10.1016/J.WEAR.2013.02.005": [
        "coatings chromium",
        "chromium nitride"
       ],
       "10.1016/J.WEAR.2014.09.008": [],
       "10.1016/J.WEAR.2018.12.062": [
        "particle erosion",
        "erosion",
        "solid particle",
        "industrial applications"
       ],
       "10.1016/J.WEAR.2019.01.001": [
        "industries nano",
        "precision"
       ],
       "10.1016/J.XJEP.2021.100431": [
        "interprofessional education",
        "clinician educators",
        "facilitate interprofessional",
        "ipec clinical"
       ],
       "10.1016/S0008-8846(00)00202-7": [
        "ceramic tile",
        "tile production",
        "ceramic"
       ],
       "10.1016/S0008-8846(00)00451-8": [
        "concrete pipes",
        "pipes",
        "pipes integral",
        "composite piles"
       ],
       "10.1016/S0008-8846(97)00162-2": [
        "industry disposal",
        "aluminium industry"
       ],
       "10.1016/S0010-440X(68)80006-9": [
        "field psychiatry",
        "psychiatry",
        "strain psychiatric",
        "psychiatry coupled"
       ],
       "10.1016/S0010-9452(08)70362-9": [
        "disconnection syndromes",
        "corpus callosum",
        "interhemispheric disconnection",
        "patients agenesis"
       ],
       "10.1016/S0013-7006(17)30049-0": [
        "placebo effect",
        "placebo",
        "clinical trials"
       ],
       "10.1016/S0021-9924(97)00085-3": [
        "person autism",
        "autism"
       ],
       "10.1016/S0022-1694(97)00153-4": [
        "hydrological information",
        "accurate hydrological"
       ],
       "10.1016/S0026-2714(03)00127-6": [
        "tfbga packages",
        "reliability thermal",
        "solder joint",
        "joint reliability"
       ],
       "10.1016/S0028-3932(02)00294-4": [
        "hemisphere emotion",
        "emotion perception",
        "right hemisphere",
        "hemisphere"
       ],
       "10.1016/S0029-5493(99)00309-X": [
        "reactor pressure",
        "pressure vessel",
        "component nuclear"
       ],
       "10.1016/S0033-3182(97)71405-1": [
        "dysmorphic disorder",
        "body dysmorphic"
       ],
       "10.1016/S0039-3681(00)00004-2": [
        "distinguish science",
        "philosophy science",
        "demarcation"
       ],
       "10.1016/S0043-1648(99)00089-7": [
        "duplex coatings",
        "coatings plasma",
        "vapour deposition"
       ],
       "10.1016/S0045-7825(99)00258-3": [
        "metal laminates",
        "fibre reinforced"
       ],
       "10.1016/S0079-6123(08)00905-9": [
        "prefrontal cortex",
        "prefrontal",
        "executive functions"
       ],
       "10.1016/S0109-5641(86)80052-5": [
        "ceramic materials",
        "dental restorations",
        "ceramic"
       ],
       "10.1016/S0142-1123(00)00104-3": [
        "residual"
       ],
       "10.1016/S0163-6383(96)90846-2": [
        "preterm infants",
        "perinatal difficulties",
        "developmental problems"
       ],
       "10.1016/S0165-9936(03)00201-2": [
        "nanometer scale",
        "fields research",
        "molecular"
       ],
       "10.1016/S0166-2481(02)80035-6": [
        "biosphere lithosphere",
        "hydrosphere soils",
        "atmosphere biosphere",
        "soils"
       ],
       "10.1016/S0166-4115(08)60611-1": [
        "coordinated action",
        "cognitive processes",
        "attention memory",
        "memory motor"
       ],
       "10.1016/S0167-1987(02)00063-6": [
        "evaluation soil",
        "soil analysis",
        "soil properties",
        "soil quality"
       ],
       "10.1016/S0167-2991(01)82328-4": [
        "mesoporous silica",
        "silica",
        "organized mesoporous",
        "catalysis"
       ],
       "10.1016/S0167-577X(02)01367-8": [
        "polymer blends",
        "toughened polymer",
        "rubber toughened",
        "decades rubber"
       ],
       "10.1016/S0168-583X(86)80101-X": [
        "investigated fusion",
        "fusion research",
        "plasma investigated",
        "magnetic confinement"
       ],
       "10.1016/S0190-7409(98)00015-2": [
        "school dropout",
        "dropout",
        "boundaries school",
        "social problem"
       ],
       "10.1016/S0257-8972(98)00818-4": [
        "erosion corrosion",
        "corrosion materials",
        "corrosion",
        "performance coatings"
       ],
       "10.1016/S0257-8972(99)00446-6": [
        "properties diamond",
        "diamond"
       ],
       "10.1016/S0266-3538(97)00043-2": [
        "fiber matrix",
        "unidirectional composites",
        "notched unidirectional",
        "interfacial failure"
       ],
       "10.1016/S0309-1708(03)00085-X": [
        "ecology streams",
        "hydrologic retention"
       ],
       "10.1016/S0380-1330(96)70981-4": [
        "rivers contaminated",
        "lakes harbors",
        "sediments",
        "great lakes"
       ],
       "10.1016/S0920-3796(89)80122-X": [
        "fusion reactor",
        "neutron wall",
        "high neutron"
       ],
       "10.1016/S0921-4534(03)00854-2": [
        "high superconductors",
        "impurities coexist"
       ],
       "10.1016/S0921-5093(98)00938-1": [
        "intermetallic alloys",
        "feal based",
        "alloys",
        "alloys great"
       ],
       "10.1016/S0924-0136(01)00710-5": [
        "plastic deformation",
        "deformed materials",
        "plastic deformed",
        "grained materials"
       ],
       "10.1016/S0924-9338(09)70245-7": [
        "adhd encompasses",
        "disorder adhd",
        "adhd",
        "hyperactivity disorder"
       ],
       "10.1016/S0924-9338(10)71404-8": [
        "cingulate cortex",
        "stimuli depressed",
        "emotional salience"
       ],
       "10.1016/S0924-9338(11)72124-1": [
        "addiction",
        "abuse addiction",
        "addiction loss",
        "computer game"
       ],
       "10.1016/S0924-9338(12)75445-7": [
        "adherence",
        "poor adherence",
        "schizophrenia",
        "adherence major"
       ],
       "10.1016/S0924-9338(12)75650-X": [
        "socioeconomic status",
        "heart disease",
        "ischemic heart",
        "morbidity mortality"
       ],
       "10.1016/S0926-9614(01)80025-3": [
        "flammable toxic",
        "compounds flammable"
       ],
       "10.1016/S0927-0248(01)00159-3": [
        "silicon ribbon",
        "crystalline silicon",
        "crystal growth",
        "production crystalline"
       ],
       "10.1016/S0959-6526(02)00102-6": [
        "environmental",
        "decisions faith",
        "decisions relative"
       ],
       "10.1016/S1001-6279(10)60007-8": [
        "benthic macroinvertebrates",
        "macroinvertebrates",
        "aquatic ecology",
        "species assessment"
       ],
       "10.1016/S1053-8119(00)91352-1": [
        "rehearsed memories",
        "temporal lobe",
        "hippocampus",
        "hippocampus medial"
       ],
       "10.1016/S1090-3801(06)60404-7": [
        "impairment lumbar",
        "lumbar radices",
        "different spine"
       ],
       "10.1016/S1352-2310(99)00270-8": [
        "atmospheric particulate",
        "hydrocarbon compositions"
       ],
       "10.1016/S1353-2561(02)00123-8": [
        "onshore reserves"
       ],
       "10.1016/S1359-0294(98)80035-6": [
        "colloidal crystals",
        "colloidal",
        "crystals"
       ],
       "10.1016/S1359-6454(03)00440-3": [
        "mems technology",
        "systems mems",
        "microelectromechanical systems",
        "microelectromechanical"
       ],
       "10.1016/S1359-6454(97)00094-3": [
        "polycrystalline ceramic",
        "grain size",
        "distribution polycrystalline",
        "polycrystalline"
       ],
       "10.1016/S1359-6462(97)00148-6": [
        "proportion steels",
        "grades steel"
       ],
       "10.1016/S1388-2457(99)00086-3": [
        "alzheimer disease",
        "plaques tangles",
        "people alzheimer",
        "tangles brain"
       ],
       "10.1016/S1872-2067(18)63044-X": [
        "efficiency photocatalytic",
        "photocatalytic"
       ],
       "10.1016/b978-0-12-803581-8.11725-4": [
        "soft magnetic",
        "magnetic materials",
        "magnetic",
        "modern electrical"
       ],
       "10.1016/b978-0-12-817840-9.00012-6": [
        "upconversion nanocrystals",
        "nanocrystals ucns",
        "upconversion luminescence",
        "photoactive nanoparticles"
       ],
       "10.1016/b978-0-323-85213-5.00013-5": [
        "hdpe biocomposites",
        "polyethylene hdpe",
        "fibers biomedical",
        "biocomposites natural"
       ],
       "10.1016/j.actbio.2009.09.019": [
        "vascular graft",
        "synthetic graft",
        "graft"
       ],
       "10.1016/j.actbio.2017.05.021": [
        "adsorbed protein",
        "protein layer",
        "layer biomaterial",
        "biomaterial surface"
       ],
       "10.1016/j.addbeh.2017.05.026": [
        "adolescent marijuana",
        "factor adolescent"
       ],
       "10.1016/j.aeolia.2020.100636": [
        "coarse particulate",
        "surface arid"
       ],
       "10.1016/j.agrformet.2020.108100": [
        "ecosystem evapotranspiration",
        "terrestrial carbon"
       ],
       "10.1016/j.agwat.2020.106629": [
        "irrigation",
        "crop production",
        "global crop"
       ],
       "10.1016/j.amar.2019.100110": [
        "heterogeneity traffic",
        "temporal variation",
        "unobserved heterogeneity",
        "traffic safety"
       ],
       "10.1016/j.apcatb.2019.118219": [
        "tropsch synthesis",
        "phase catalytic",
        "phase fischer"
       ],
       "10.1016/j.apenergy.2020.114788": [
        "methane solar",
        "solar thermochemical",
        "energy storage"
       ],
       "10.1016/j.apm.2020.02.027": [
        "frost accumulates",
        "susceptible frost"
       ],
       "10.1016/j.apsoil.2020.103591": [
        "mycorrhizal fungi",
        "arbuscular mycorrhizal",
        "mycorrhizal",
        "soil biota"
       ],
       "10.1016/j.apsusc.2020.145849": [
        "ammonium perchlorate",
        "perovskite based",
        "redox reactions",
        "based catalysts"
       ],
       "10.1016/j.apsusc.2020.147693": [
        "high magnetoresistance",
        "magnetoresistance",
        "magnetic devices",
        "magnetoresistance vital"
       ],
       "10.1016/j.archger.2010.02.007": [
        "unipolar psychotic",
        "major depression"
       ],
       "10.1016/j.atmosenv.2020.117830": [
        "haze",
        "variations haze",
        "climatological environmental",
        "weather conditions"
       ],
       "10.1016/j.biomaterials.2010.07.089": [
        "cells dimensional"
       ],
       "10.1016/j.biomaterials.2010.12.049": [
        "contrast agents",
        "safe contrast"
       ],
       "10.1016/j.biortech.2014.07.040": [
        "biomass ifbb",
        "biogas biomass",
        "lihd biomass",
        "fuel biogas"
       ],
       "10.1016/j.biortech.2021.125569": [
        "valorization organic",
        "biological valorization",
        "organic"
       ],
       "10.1016/j.bios.2017.07.056": [
        "ochratoxin",
        "dangerous food",
        "food contaminants"
       ],
       "10.1016/j.bone.2011.12.020": [
        "fractures represent"
       ],
       "10.1016/j.bpsc.2017.06.005": [
        "predictors psychopathology",
        "maternal depression",
        "neighborhood deprivation",
        "boys antisocial"
       ],
       "10.1016/j.brainres.2007.05.009": [
        "motor cortex",
        "bilateral motor",
        "cortex prolonged",
        "motor tasks"
       ],
       "10.1016/j.brainres.2017.08.011": [
        "antiepileptic drugs",
        "seizure control",
        "achieve seizure",
        "antiepileptic"
       ],
       "10.1016/j.buildenv.2020.107029": [],
       "10.1016/j.buildenv.2020.107555": [
        "humidity sensors",
        "temperature humidity",
        "humidity",
        "sensors"
       ],
       "10.1016/j.carbon.2019.11.068": [
        "carbon nanotube",
        "nanotube"
       ],
       "10.1016/j.carbon.2021.09.008": [
        "batteries pibs",
        "energy storage",
        "pibs suitable"
       ],
       "10.1016/j.catena.2020.104698": [
        "nutrient turnover",
        "nutrient budgets",
        "inflow nutrient"
       ],
       "10.1016/j.cclet.2020.07.045": [
        "peroxide h2o2",
        "hydrogen peroxide",
        "electrochemical sensors",
        "enzymatic electrochemical"
       ],
       "10.1016/j.cej.2020.124149": [
        "materials gigahertz",
        "efficiency electromagnetic"
       ],
       "10.1016/j.cej.2020.126402": [
        "electrochromic materials",
        "electrochromic",
        "optoelectronic research"
       ],
       "10.1016/j.ceramint.2019.10.205": [
        "la2zr2o7",
        "coat material",
        "thermal conductivity"
       ],
       "10.1016/j.ceramint.2020.01.037": [
        "sioc ceramics",
        "silicon oxycarbide",
        "oxycarbide sioc",
        "thermal insulation"
       ],
       "10.1016/j.chb.2005.12.005": [
        "cognitive abilities",
        "perceptual cognitive",
        "limited resources",
        "human perceptual"
       ],
       "10.1016/j.chemosphere.2021.132189": [
        "organic pollutants",
        "toxic chemicals",
        "persistent organic"
       ],
       "10.1016/j.childyouth.2020.104923": [
        "child protection",
        "countries adolescents",
        "adolescents child",
        "adolescents"
       ],
       "10.1016/j.cjche.2021.09.004": [
        "helium",
        "temperature condensation"
       ],
       "10.1016/j.clinph.2016.05.057": [
        "apraxia disorder",
        "apraxia"
       ],
       "10.1016/j.cogsys.2010.05.001": [
        "cognition"
       ],
       "10.1016/j.compositesb.2019.107723": [
        "honeycomb panels",
        "hexagonal honeycomb",
        "aluminum hexagonal",
        "honeycomb"
       ],
       "10.1016/j.compscitech.2020.108382": [
        "carbon fiber",
        "application carbon"
       ],
       "10.1016/j.conbuildmat.2019.116828": [
        "carbonate precipitation",
        "soil stabilization",
        "precipitation micp",
        "biocementitious material"
       ],
       "10.1016/j.conbuildmat.2019.117215": [
        "laminated timber"
       ],
       "10.1016/j.conbuildmat.2019.117458": [
        "geopolymer alkali",
        "portland cement",
        "cement",
        "nowadays geopolymer"
       ],
       "10.1016/j.conbuildmat.2020.118828": [
        "machine sand",
        "river sand",
        "sand",
        "construction materials"
       ],
       "10.1016/j.conbuildmat.2020.121371": [
        "concrete important",
        "concrete",
        "construction industry"
       ],
       "10.1016/j.cplett.2020.137715": [
        "muliferroic nanostructures",
        "catalysis muliferroic",
        "photo catalysis"
       ],
       "10.1016/j.crvi.2008.01.009": [
        "manmade ecosystems",
        "ecosystems",
        "resources strong"
       ],
       "10.1016/j.cryogenics.2018.09.001": [
        "resins applications",
        "experiments resins",
        "electrical insulators"
       ],
       "10.1016/j.drugalcdep.2008.06.014": [],
       "10.1016/j.drugalcdep.2014.06.014": [
        "cocaine marijuana",
        "exposures cocaine",
        "marijuana adolescents",
        "intrauterine exposures"
       ],
       "10.1016/j.drugalcdep.2016.08.628": [
        "electronic cigarettes",
        "popularity electronic"
       ],
       "10.1016/j.ecoenv.2014.09.024": [
        "phytoremediation",
        "remediation technology",
        "soil contamination"
       ],
       "10.1016/j.ecoleng.2020.106045": [
        "soil infiltration",
        "groundwater ecological",
        "soil"
       ],
       "10.1016/j.ecolind.2020.106389": [
        "dissolved organic",
        "nutrients aquatic",
        "aquatic ecosystems",
        "carbon nutrient"
       ],
       "10.1016/j.ejphar.2016.04.015": [
        "impulse control",
        "disorders attention",
        "various neuropsychiatric",
        "control disturbances"
       ],
       "10.1016/j.electacta.2020.137565": [
        "photoanode photoelectrochemical",
        "photoelectrochemical",
        "vanadate bivo4"
       ],
       "10.1016/j.energy.2020.117416": [
        "wind turbines",
        "turbines different",
        "wind farm",
        "scale wind"
       ],
       "10.1016/j.energy.2020.118144": [
        "solar cookers",
        "cookers"
       ],
       "10.1016/j.enfcli.2015.06.007": [
        "competencies advanced",
        "role development"
       ],
       "10.1016/j.eng.2020.06.025": [
        "electrochemical methods",
        "electrochemical",
        "organic chemicals",
        "synthesis organic"
       ],
       "10.1016/j.ensm.2020.05.025": [
        "flexible electronics",
        "flexible",
        "electronics"
       ],
       "10.1016/j.ensm.2020.06.037": [
        "generation lithium",
        "capacity lithium"
       ],
       "10.1016/j.envexpbot.2020.104203": [
        "global agriculture",
        "crops response",
        "agriculture productivity"
       ],
       "10.1016/j.envint.2020.105511": [
        "marine litter",
        "litter",
        "litter globe"
       ],
       "10.1016/j.envpol.2012.01.046": [
        "urban soils",
        "composition soils",
        "soils beneath",
        "soils vegetation"
       ],
       "10.1016/j.est.2020.101827": [
        "energy storage",
        "renewable energies",
        "storage important"
       ],
       "10.1016/j.euroneuro.2015.12.026": [
        "schizophrenia",
        "mirror neuron",
        "social dysfunction"
       ],
       "10.1016/j.eurpsy.2008.01.276": [
        "impulsive aggression",
        "affect impulsive",
        "serotonergic dysfunction",
        "aggression"
       ],
       "10.1016/j.eurpsy.2013.12.002": [
        "psychosis proneness",
        "proneness schizotypy",
        "schizotypy personality",
        "schizophrenia development"
       ],
       "10.1016/j.eurpsy.2016.01.336": [
        "disorders associated",
        "morbidity mortality",
        "disorders"
       ],
       "10.1016/j.eurpsy.2017.01.2155": [
        "correlated psychotic",
        "psychotic disorders",
        "substance abuse",
        "abuse correlated"
       ],
       "10.1016/j.foodpol.2019.101780": [
        "rural women",
        "rural",
        "obstacles thwart"
       ],
       "10.1016/j.fuel.2020.117974": [
        "mild combustion",
        "oxygen dilution",
        "coal utilization"
       ],
       "10.1016/j.fuproc.2020.106513": [
        "steam methane",
        "hydrogen production",
        "process hydrogen"
       ],
       "10.1016/j.gaitpost.2014.09.014": [
        "conversion disorder",
        "individuals conversion",
        "neurologic symptoms",
        "disorder neurologic"
       ],
       "10.1016/j.gecco.2021.e01782": [
        "grassland ecosystem",
        "grassland sustainable",
        "beneficial grassland",
        "ecosystem services"
       ],
       "10.1016/j.gloei.2020.07.007": [
        "distributed energy",
        "energy systems",
        "integrated energy"
       ],
       "10.1016/j.hal.2016.07.005": [
        "marine dinoflagellate",
        "dinoflagellate karenia",
        "algal blooms",
        "toxic marine"
       ],
       "10.1016/j.hal.2020.101828": [
        "cyanobacterial harmful",
        "proliferation cyanobacterial",
        "blooms cyanohabs",
        "harmful algal"
       ],
       "10.1016/j.ienj.2015.11.006": [
        "paramedics experience"
       ],
       "10.1016/j.ijdrr.2020.101775": [
        "pipelines disruptive"
       ],
       "10.1016/j.ijdrr.2020.101928": [
        "geological disasters",
        "infrastructure losses",
        "landslides seismic",
        "seismic zones"
       ],
       "10.1016/j.ijheatmasstransfer.2020.119885": [],
       "10.1016/j.ijhydene.2019.10.081": [
        "photocatalytic hydrogen",
        "hydrogen production",
        "photocatalytic",
        "hydrogen"
       ],
       "10.1016/j.ijhydene.2020.10.228": [
        "fuel cell",
        "anode mode",
        "cathode catalyst"
       ],
       "10.1016/j.ijpharm.2017.05.074": [
        "drug delivery",
        "solid dosage",
        "functional drug"
       ],
       "10.1016/j.ijpsycho.2011.05.003": [
        "intolerance uncertainty",
        "anxiety disorders",
        "generalized anxiety",
        "social phobia"
       ],
       "10.1016/j.ijrmhm.2020.105222": [
        "tungsten surface",
        "properties tungsten",
        "tungsten",
        "materials plasma"
       ],
       "10.1016/j.imu.2021.100654": [
        "electronic health",
        "computer skills",
        "skills healthcare"
       ],
       "10.1016/j.jacbts.2020.07.012": [
        "cognitive bias",
        "bias systematic",
        "cognitive"
       ],
       "10.1016/j.jad.2014.06.048": [
        "depressive disorder",
        "major depressive",
        "depressive"
       ],
       "10.1016/j.jallcom.2020.153933": [
        "acquisition silicon",
        "kerf wafer"
       ],
       "10.1016/j.jallcom.2020.155053": [
        "vanadium dioxide",
        "thermochromic material",
        "energy devices"
       ],
       "10.1016/j.jallcom.2020.157626": [
        "batteries libs",
        "libs anode",
        "anode materials"
       ],
       "10.1016/j.jalz.2006.05.1713": [
        "amyloid peptide",
        "beta amyloid",
        "amyloid",
        "alzheimer disease"
       ],
       "10.1016/j.jalz.2011.05.2124": [
        "alzheimer disease",
        "alzheimer"
       ],
       "10.1016/j.jcis.2010.10.030": [
        "dimensional nanostructures",
        "nanostructures tremendous",
        "nanostructures",
        "photonics plasmonics"
       ],
       "10.1016/j.jcis.2015.11.010": [
        "energy storage",
        "electrode materials",
        "renewable energy",
        "storage devices"
       ],
       "10.1016/j.jcis.2019.10.091": [
        "stabilization emulsions",
        "transfer colloidal",
        "colloidal particles",
        "particles liquid"
       ],
       "10.1016/j.jclepro.2019.119215": [
        "carbon behaviours",
        "achieve energy",
        "emission reduction"
       ],
       "10.1016/j.jclepro.2019.119776": [
        "energy urban",
        "electric energy",
        "consumption electric",
        "condition hvac"
       ],
       "10.1016/j.jclepro.2020.121189": [
        "growth textile",
        "textile",
        "textile sector"
       ],
       "10.1016/j.jconrel.2014.03.052": [
        "hydrogels functional",
        "hydrogels",
        "field hydrogels",
        "functional biomaterials"
       ],
       "10.1016/j.jecp.2008.03.006": [
        "developmental dyslexia",
        "dyslexia deficit",
        "dyslexia"
       ],
       "10.1016/j.jenvman.2013.01.014": [
        "environmental problems",
        "societal conflicts",
        "agricultural production",
        "brazilian federal"
       ],
       "10.1016/j.jenvman.2015.07.059": [
        "compost"
       ],
       "10.1016/j.jenvman.2017.06.007": [
        "plastic mulches",
        "mulches",
        "polyethylene plastic"
       ],
       "10.1016/j.jenvman.2017.06.026": [
        "boreal forests",
        "forests important",
        "source timber",
        "forests"
       ],
       "10.1016/j.jes.2018.02.007": [
        "airborne bacteria",
        "bacteria emission",
        "emission wastewater",
        "wastewater treatment"
       ],
       "10.1016/j.jeurceramsoc.2020.09.056": [
        "porous ceramics",
        "ceramics",
        "porous"
       ],
       "10.1016/j.jglr.2021.08.006": [
        "mussel population",
        "dreissenid mussel",
        "lake ecosystems"
       ],
       "10.1016/j.jhazmat.2016.09.014": [
        "polyvinyl chloride",
        "organic pollutants"
       ],
       "10.1016/j.jhlste.2020.100259": [
        "career adaptability",
        "career adaptation",
        "career development",
        "student athletes"
       ],
       "10.1016/j.jhydrol.2020.125687": [],
       "10.1016/j.jiec.2020.07.037": [
        "deep desulfurization",
        "desulfurization processes",
        "desulfurization",
        "pollution sulfur"
       ],
       "10.1016/j.jmbbm.2016.01.011": [
        "soft biological",
        "biological tissue",
        "mechanical characterization",
        "tissue prevalent"
       ],
       "10.1016/j.jmmm.2020.166983": [
        "based magnetocaloric",
        "magnetocaloric effect",
        "magnetocaloric",
        "refrigeration based"
       ],
       "10.1016/j.jmrt.2020.07.032": [
        "ores harmful"
       ],
       "10.1016/j.jmst.2020.05.052": [
        "alloy selection",
        "powder mixtures",
        "selective laser"
       ],
       "10.1016/j.jneumeth.2007.03.002": [
        "hallmark schizophrenia",
        "express emotions",
        "characterize neuropsychiatric",
        "clinical ratings"
       ],
       "10.1016/j.jns.2009.07.026": [
        "parkinson disease",
        "patients parkinson",
        "nonmotor symptoms",
        "parkinson"
       ],
       "10.1016/j.jnucmat.2020.152627": [
        "uranium oxides",
        "u3o8 stable",
        "u3o8",
        "nuclear fuel"
       ],
       "10.1016/j.jocrd.2014.03.007": [
        "tourette syndrome",
        "tourette"
       ],
       "10.1016/j.joen.2009.06.015": [
        "titanium niti",
        "niti instruments",
        "rotary nickel",
        "fractured rotary"
       ],
       "10.1016/j.jpainsymman.2013.08.015": [
        "delirium condition",
        "delirium",
        "cognition disturbed"
       ],
       "10.1016/j.jpowsour.2019.227458": [
        "nanosheets",
        "nanosheets large",
        "significance catalysis"
       ],
       "10.1016/j.jpowsour.2020.228706": [
        "leather industry",
        "leather"
       ],
       "10.1016/j.jpsychires.2016.05.009": [
        "bipolar disorder",
        "bipolar",
        "psychiatric disorders"
       ],
       "10.1016/j.jsp.2007.09.001": [
        "school suspensions",
        "african americans",
        "represented school"
       ],
       "10.1016/j.jsp.2011.04.004": [
        "adolescents engage",
        "adolescents",
        "behaviors potential"
       ],
       "10.1016/j.jssc.2020.121518": [
        "radioactive iodine",
        "treatment radioactive"
       ],
       "10.1016/j.jsxm.2015.11.007": [
        "penetration disorder",
        "pelvic pain"
       ],
       "10.1016/j.jvb.2019.103365": [
        "career decision",
        "career",
        "difficulties"
       ],
       "10.1016/j.jwpe.2019.101003": [
        "wastewater treatment",
        "pressure freshwater",
        "irrigation contributes",
        "freshwater resources"
       ],
       "10.1016/j.marchem.2020.103850": [],
       "10.1016/j.marpolbul.2008.04.027": [
        "evaluation ecological",
        "benthic communities",
        "coastal transitional"
       ],
       "10.1016/j.matpr.2019.12.264": [
        "nanostructured materials",
        "nowadays nanostructured",
        "solar power"
       ],
       "10.1016/j.matpr.2019.12.295": [
        "analysis stent",
        "vascular stents",
        "stents predominant",
        "cardiology structural"
       ],
       "10.1016/j.matt.2019.07.022": [
        "half metals"
       ],
       "10.1016/j.memsci.2020.118002": [
        "solvent nanofiltration",
        "nanofiltration",
        "membranes limits",
        "permeability organic"
       ],
       "10.1016/j.memsci.2020.118702": [
        "polymer electrolytes",
        "electrolytes spes",
        "electrolytes",
        "ionic conductivity"
       ],
       "10.1016/j.mfglet.2019.12.005": [
        "contamination feedstock"
       ],
       "10.1016/j.microrel.2014.10.004": [
        "gold wire",
        "wire palladium",
        "coated copper",
        "price gold"
       ],
       "10.1016/j.midw.2016.01.017": [
        "genital mutilation",
        "mutilation"
       ],
       "10.1016/j.nanoen.2020.104528": [
        "textile triboelectric",
        "powered wearable",
        "wearable electronics",
        "triboelectric effect"
       ],
       "10.1016/j.net.2019.10.013": [
        "reactor fuel",
        "characteristics reactor",
        "nuclear core"
       ],
       "10.1016/j.neubiorev.2013.01.009": [
        "anxiety disorders",
        "anxiety",
        "disorders common",
        "comorbid major"
       ],
       "10.1016/j.neulet.2007.02.076": [
        "features schizophrenia",
        "neurocognitive deficits",
        "schizophrenia",
        "schizophrenia great"
       ],
       "10.1016/j.neulet.2011.05.243": [
        "negative neuronal",
        "neuromolecular correlates"
       ],
       "10.1016/j.neunet.2014.09.001": [
        "visual hallucination",
        "dementia lewy",
        "lewy bodies"
       ],
       "10.1016/j.neurobiolaging.2011.09.012": [
        "alzheimer disease",
        "alzheimer",
        "models neurological"
       ],
       "10.1016/j.neurobiolaging.2016.05.007": [
        "cognitive disturbances",
        "promote cognitive",
        "disturbances humans"
       ],
       "10.1016/j.neuroimage.2006.08.021": [
        "amygdala activation",
        "activation aversive",
        "course amygdala"
       ],
       "10.1016/j.neuroimage.2014.11.027": [
        "brain networks"
       ],
       "10.1016/j.neuropharm.2011.04.027": [
        "bisphenol",
        "environmental endocrine",
        "endocrine disrupters"
       ],
       "10.1016/j.neuropharm.2013.05.042": [
        "global health",
        "harmful consequences",
        "awareness harmful"
       ],
       "10.1016/j.neuropsychologia.2008.05.030": [
        "biases emotional",
        "negative biases",
        "depression",
        "characteristic depression"
       ],
       "10.1016/j.neuropsychologia.2015.08.023": [
        "prosopagnosia inability",
        "acquired prosopagnosia",
        "prosopagnosia"
       ],
       "10.1016/j.nicl.2014.12.007": [
        "fetal alcohol",
        "alcohol utero",
        "disorders fasds",
        "alcohol spectrum"
       ],
       "10.1016/j.nicl.2018.06.018": [
        "auditory hallucinations",
        "symptom schizophrenia",
        "schizophrenia"
       ],
       "10.1016/j.nucengdes.2020.110941": [
        "fuels nuclear",
        "nuclear power",
        "power generation"
       ],
       "10.1016/j.optmat.2020.110362": [
        "photopolymers crucial",
        "photopolymers",
        "volume holograms",
        "holograms"
       ],
       "10.1016/j.paid.2019.109801": [
        "alexithymia characterized",
        "alexithymia",
        "emotional information"
       ],
       "10.1016/j.parkreldis.2009.01.009": [
        "parkinson disease",
        "weight gain"
       ],
       "10.1016/j.parkreldis.2016.05.014": [
        "parkinson disease",
        "parkinson",
        "disease motor",
        "heterogeneous disease"
       ],
       "10.1016/j.partic.2020.05.001": [
        "computational fluid",
        "fluid dynamics",
        "solid hydrodynamics"
       ],
       "10.1016/j.pbb.2007.10.004": [
        "neurotoxicity",
        "neurological diseases"
       ],
       "10.1016/j.pharmthera.2008.10.009": [
        "nanotechnology",
        "materials nanometer",
        "manipulation materials",
        "nanometer scale"
       ],
       "10.1016/j.physb.2019.411735": [
        "thermoelectric materials",
        "based thermoelectric",
        "thermoelectric"
       ],
       "10.1016/j.pnpbp.2014.06.013": [],
       "10.1016/j.porgcoat.2020.105565": [
        "inorganic components",
        "organic inorganic",
        "materials preeminent",
        "pure constituents"
       ],
       "10.1016/j.promfg.2020.04.337": [
        "machinings aircraft",
        "machinings",
        "fine surfaces"
       ],
       "10.1016/j.prosdent.2016.02.022": [
        "resins antibacterial",
        "problem caries",
        "composite resin",
        "composite resins"
       ],
       "10.1016/j.psychres.2008.07.009": [
        "psychosis trauma",
        "psychosis",
        "trauma"
       ],
       "10.1016/j.psychres.2010.11.004": [
        "depersonalization disorder",
        "interpretation depersonalization",
        "depersonalization",
        "anxiety depression"
       ],
       "10.1016/j.psym.2012.08.004": [
        "distress depression",
        "people diabetes"
       ],
       "10.1016/j.rasd.2008.12.004": [
        "rett syndrome",
        "rett",
        "autistic spectrum"
       ],
       "10.1016/j.renene.2020.08.041": [
        "desalination powered",
        "desalination",
        "solar energy"
       ],
       "10.1016/j.resconrec.2020.104919": [
        "primary ores",
        "secondary mineral",
        "mineral materials"
       ],
       "10.1016/j.rhisph.2020.100272": [
        "slopes environmental",
        "vegetation",
        "vegetation essential",
        "erosion landslide"
       ],
       "10.1016/j.ridd.2013.05.034": [
        "motor impairments",
        "impairments",
        "impairments evident",
        "inactive individuals"
       ],
       "10.1016/j.rinp.2020.103246": [
        "carbon nanotubes",
        "nanotubes efficient",
        "nanotubes",
        "thermal conductors"
       ],
       "10.1016/j.rser.2020.110046": [
        "hydrothermal carbonization",
        "moisture biomass",
        "biomass biofuel",
        "biofuel biomaterial"
       ],
       "10.1016/j.schres.2013.07.055": [
        "mindfulness interventions",
        "mindfulness",
        "psychosis schizophrenia",
        "meta analysis"
       ],
       "10.1016/j.scitotenv.2009.03.015": [],
       "10.1016/j.scitotenv.2017.07.255": [
        "emission ships",
        "vehicles emission",
        "anthropogenic emission"
       ],
       "10.1016/j.scitotenv.2018.05.028": [
        "roadside ditches",
        "ditches located",
        "watershed scale",
        "nutrients subsurface"
       ],
       "10.1016/j.scog.2014.06.001": [
        "patients schizophrenia",
        "aggression committed",
        "schizophrenia",
        "aggression"
       ],
       "10.1016/j.scs.2019.101880": [
        "disasters resilience",
        "resilience concept",
        "disaster management",
        "community disaster"
       ],
       "10.1016/j.scs.2019.101941": [
        "pollution major",
        "density urban",
        "physical environment"
       ],
       "10.1016/j.seares.2019.101808": [
        "ecosystem engineers",
        "ecosystem",
        "affect organisms"
       ],
       "10.1016/j.seppur.2021.119535": [
        "polymeric membranes",
        "glassy polymers",
        "membranes",
        "permeability selectivity"
       ],
       "10.1016/j.smrv.2009.10.007": [
        "insomnia disorder",
        "insomnia"
       ],
       "10.1016/j.socscimed.2010.01.014": [
        "social capital",
        "workplace social",
        "capital health",
        "capital geographic"
       ],
       "10.1016/j.socscimed.2011.11.034": [
        "higher mortality",
        "socioeconomic status",
        "neighborhoods higher",
        "deprived neighborhoods"
       ],
       "10.1016/j.socscimed.2016.12.043": [
        "psychological distress",
        "networks involvement",
        "associated social"
       ],
       "10.1016/j.solener.2020.06.068": [
        "photoanode materials",
        "performance hematite"
       ],
       "10.1016/j.solener.2020.11.030": [
        "photocatalytic"
       ],
       "10.1016/j.solidstatesciences.2019.106030": [
        "mg2si",
        "mg2si important",
        "silicide material"
       ],
       "10.1016/j.ssi.2019.115072": [
        "aluminum nitride",
        "temperature piezoelectric",
        "piezoelectric devices",
        "crystalline aluminum"
       ],
       "10.1016/j.still.2019.104447": [
        "sugarcane important",
        "sugarcane",
        "energy crops",
        "crops"
       ],
       "10.1016/j.tins.2004.02.005": [
        "cortical auditory",
        "organization cortical",
        "cortical",
        "auditory"
       ],
       "10.1016/j.tsc.2020.100713": [
        "employees creativity",
        "rewards employees",
        "creative performance",
        "extrinsic rewards"
       ],
       "10.1016/j.tsc.2020.100780": [
        "critical",
        "development critical",
        "modern education"
       ],
       "10.1016/j.wasman.2008.11.002": [
        "environmental problem"
       ],
       "10.1016/j.wasman.2009.01.002": [
        "incinerators mswi"
       ],
       "10.1016/j.wasman.2013.05.009": [
        "consumption electric",
        "electronic equipment"
       ],
       "10.1016/j.watres.2011.08.053": [
        "wastewater treatment",
        "objective wastewater"
       ],
       "10.1016/j.watres.2012.12.012": [
        "greywater common",
        "domestic greywater",
        "extreme drought",
        "common australia"
       ],
       "10.1016/j.watres.2016.10.045": [
        "perfluoroalkyl substances",
        "perfluoroalkyl",
        "substances pfass",
        "pfass group"
       ],
       "10.1016/s2214-109x(20)30153-4": [],
       "10.1017/CBO9780511520778.001": [
        "cultural theory",
        "social life"
       ],
       "10.1017/CBO9780511810916.001": [
        "metric justice",
        "justice"
       ],
       "10.1017/S0020859017000396": [
        "migration cultural",
        "migration",
        "impact societies",
        "societies labour"
       ],
       "10.1017/S0033291708003322": [
        "anxiety dimensional",
        "health anxiety",
        "anxiety literature",
        "dimensional categorical"
       ],
       "10.1017/S0033291717003786": [
        "intergenerational",
        "mental illness"
       ],
       "10.1017/S0140525X00007366": [
        "human brain",
        "hemispheric specialization",
        "hemispheric"
       ],
       "10.1017/S0140525X00010268": [
        "evolution little",
        "cultural evolution",
        "genetic cultural",
        "linkage genetic"
       ],
       "10.1017/S0144686X1900151X": [
        "cultural gerontology",
        "gerontology century",
        "gerontology",
        "gerontologists interrogated"
       ],
       "10.1017/S0261143000000489": [
        "music discussed",
        "popular music",
        "western musics",
        "ethnocentric"
       ],
       "10.1017/S0730938400019778": [
        "existence evil",
        "evil posed",
        "evil",
        "problems philosophers"
       ],
       "10.1017/S0956618X14000490": [
        "conflict religious",
        "religious freedoms",
        "human rights",
        "multicultural secular"
       ],
       "10.1017/S1035077200004922": [
        "persistent neglect",
        "neglect",
        "harmful child",
        "child abuse"
       ],
       "10.1017/S1352465810000792": [
        "therapeutic alliance",
        "constitutes therapeutic",
        "outcome psychotherapy",
        "psychotherapy constitutes"
       ],
       "10.1017/S143192761500375X": [
        "prediction fracture",
        "structural metals",
        "mechanical behavior"
       ],
       "10.1017/S1431927615010041": [
        "electron microscopy",
        "microscopy",
        "image materials"
       ],
       "10.1017/S1431927615012660": [
        "investigate microstructure",
        "microstructure"
       ],
       "10.1017/S1431927616002737": [
        "diffraction rheed",
        "rheed ubiquitous",
        "laser deposition",
        "epitaxy pulsed"
       ],
       "10.1017/S1431927617010431": [
        "rare earths",
        "luminescent material",
        "earths studied"
       ],
       "10.1017/S143192761800226X": [
        "electrolyte interface",
        "liquid electrolyte",
        "electrochemical devices"
       ],
       "10.1017/S1431927619013771": [
        "chalcogenide glasses",
        "chalcogenide"
       ],
       "10.1017/S1537592716004205": [
        "universal suffrage",
        "democracy behavioral",
        "political knowledge",
        "dilemma america"
       ],
       "10.1017/S1551929519001032": [
        "fluorescence microscopy"
       ],
       "10.1017/S1574019615000231": [
        "italic burqa",
        "referred niqab",
        "niqab",
        "burqa italic"
       ],
       "10.1017/S1743923X16000350": [
        "gender studies",
        "women studies",
        "issue women",
        "women gender"
       ],
       "10.1017/thg.2018.67": [
        "causation size",
        "direction causation",
        "causation",
        "causal"
       ],
       "10.1021/ACS.CGD.8B00675": [
        "caco3 biominerals",
        "formation caco3",
        "calcium carbonate",
        "amorphous calcium"
       ],
       "10.1021/ACS.ENERGYFUELS.0C03920": [
        "coalbed methane",
        "methane recovery"
       ],
       "10.1021/ACS.ENERGYFUELS.0C03962": [
        "asphaltenes regarded",
        "asphaltenes"
       ],
       "10.1021/ACS.ENERGYFUELS.1C00503": [
        "carbon nitride",
        "graphitic carbon",
        "photocatalytic energy"
       ],
       "10.1021/ACS.ENERGYFUELS.7B01752": [
        "coal gasification",
        "pressurized pneumatic",
        "gasification systems",
        "gasification"
       ],
       "10.1021/ACS.IECR.7B02125": [
        "economical distillation",
        "distillation"
       ],
       "10.1021/ACS.JPCC.8B12055": [
        "graphene involved",
        "behavior graphene",
        "graphene"
       ],
       "10.1021/ACS.JPCC.9B05068": [
        "additives lubricant",
        "lubricant formulations",
        "surfaces lubricated",
        "lubricated mechanical"
       ],
       "10.1021/ACS.LANGMUIR.6B02023": [
        "carbon nanotubes",
        "nanotubes",
        "carbon clusters"
       ],
       "10.1021/ACS.MACROMOL.7B02506": [
        "block copolymers",
        "copolymers",
        "nanoscopic structures"
       ],
       "10.1021/ACSAPM.9B00332": [],
       "10.1021/ACSENERGYLETT.9B00816": [
        "electrolytes sses",
        "interfaces electrochemistry",
        "sses lithium",
        "lithium metal"
       ],
       "10.1021/BK-2007-0966.CH004": [
        "effect pesticides",
        "pesticides public",
        "pesticides"
       ],
       "10.1021/CM1021855": [
        "organic photovoltaic",
        "photovoltaic devices",
        "solar cells",
        "photovoltaic"
       ],
       "10.1021/EF302023V": [
        "carbon sequestration",
        "geological carbon"
       ],
       "10.1021/ES020033+": [
        "aerobic wetlands"
       ],
       "10.1021/ES7026778": [
        "tidal saltwater"
       ],
       "10.1021/ES9004043": [
        "wastewater",
        "wastewater discharged",
        "discharged rivers"
       ],
       "10.1021/IE503771W": [
        "uninsulated pipelines"
       ],
       "10.1021/IE8015522": [
        "zinc sulfide",
        "semiconductors zinc",
        "optical applications"
       ],
       "10.1021/JP051525M": [
        "nanostructured ceria",
        "ceria doped",
        "oxidation methane",
        "membranes syngas"
       ],
       "10.1021/JP1015406": [
        "detection pathogenic",
        "pathogenic bacteria",
        "bacteria critical",
        "bacteria"
       ],
       "10.1021/LA062255H": [
        "oligomeric silsesquioxane",
        "silsesquioxane poss",
        "silsesquioxane",
        "inorganic organic"
       ],
       "10.1021/acs.accounts.9b00437": [
        "graphite anodes",
        "batteries libs",
        "libs graphite",
        "conventional lithium"
       ],
       "10.1021/acs.chemmater.9b04907": [
        "separation technologies",
        "membrane based",
        "processes distillation",
        "separation processes"
       ],
       "10.1021/acs.energyfuels.9b03216": [
        "gasification technology"
       ],
       "10.1021/acs.est.5b01393": [
        "shale generates",
        "extraction marcellus"
       ],
       "10.1021/acs.est.5b06166": [
        "boron removal",
        "boric acid",
        "wastewater treatment",
        "boron"
       ],
       "10.1021/acs.iecr.0c00847": [
        "batteries libs",
        "anode materials"
       ],
       "10.1021/acs.jpcc.0c05118": [
        "photothermal cancer",
        "applications photothermal"
       ],
       "10.1021/acs.jpcc.0c05196": [
        "interfaces nano",
        "nano microscale",
        "structures interfaces"
       ],
       "10.1021/acs.jpcc.9b05564": [
        "scale aluminum",
        "energetic materials",
        "fuels energetic"
       ],
       "10.1021/acs.jpclett.6b02289": [
        "disordered tio2",
        "black tio2",
        "tio2 referred",
        "tio2 absorb"
       ],
       "10.1021/acs.langmuir.6b04533": [
        "wettability porous",
        "porous media",
        "wettability",
        "porous"
       ],
       "10.1021/acs.nanolett.7b01400": [
        "lithium titanium",
        "oxide li4ti5o12",
        "titanium oxide",
        "battery materials"
       ],
       "10.1021/acs.nanolett.8b00670": [
        "metal nanoparticles",
        "nanoparticles modern",
        "nanoparticles",
        "shape chemical"
       ],
       "10.1021/acsaelm.0c00278": [
        "elastomer sensors",
        "strain sensors",
        "piezoresistive strain",
        "soft elastomer"
       ],
       "10.1021/acsaem.0c00273": [
        "conversion photocatalysis",
        "photocatalytic performance",
        "promote photocatalytic"
       ],
       "10.1021/acsami.0c10459": [
        "manganese based",
        "cathode materials",
        "rich manganese"
       ],
       "10.1021/acsami.5b11556": [
        "anode materials",
        "materials lithium",
        "enhance electrochemical"
       ],
       "10.1021/acsami.5b12408": [
        "phthalocyanines",
        "phthalocyanines main",
        "organic semiconductor"
       ],
       "10.1021/acsami.7b02700": [
        "luminescent solar",
        "solar concentrators",
        "photovoltaic"
       ],
       "10.1021/acsami.7b14635": [
        "postcombustion carbon",
        "carbon dioxide"
       ],
       "10.1021/acsami.9b02813": [
        "batteries libs",
        "material lithium",
        "aluminum foil",
        "anode material"
       ],
       "10.1021/acsami.9b04690": [
        "catalysts ethanol",
        "ethanol fuel",
        "ethanol oxidation"
       ],
       "10.1021/acsami.9b19837": [
        "stretchable thermoelectric",
        "thermoelectric generators",
        "thermoelectric",
        "generators tegs"
       ],
       "10.1021/acsapm.0c00121": [
        "electrospun fibers",
        "aligned electrospun",
        "electrospun"
       ],
       "10.1021/acsnano.7b06307": [
        "lithography",
        "resolution lithography",
        "lithography involves",
        "resist layers"
       ],
       "10.1021/acsnano.7b08035": [
        "lithium sulfur",
        "cathode lithium",
        "sulfur cathode",
        "energy storage"
       ],
       "10.1021/acsnano.9b06618": [
        "droplets surfaces",
        "droplets",
        "evaporation"
       ],
       "10.1021/acsomega.0c00729": [
        "density batteries",
        "metal anode",
        "anode material",
        "lithium metal"
       ],
       "10.1021/acsphotonics.9b01727": [
        "ga2o3 solar",
        "photodetectors"
       ],
       "10.1021/am3024367": [
        "organic spintronic",
        "spintronic devices",
        "organic semiconductors",
        "ferromagnetic contacts"
       ],
       "10.1021/am402237g": [
        "materials antimicrobial",
        "antimicrobial properties",
        "resistance pathogens",
        "antimicrobial"
       ],
       "10.1021/am4046537": [
        "tio2 photocatalysis",
        "photocatalysis environmental",
        "photocatalysis",
        "application tio2"
       ],
       "10.1021/am500394j": [
        "blood sample"
       ],
       "10.1021/am5029582": [
        "artificial bone",
        "mechanical properties"
       ],
       "10.1021/ba-1973-0122.ch010": [
        "ozone sulfur",
        "ozone"
       ],
       "10.1021/la201654d": [
        "polyhydroxyalkanoates phas",
        "polyhydroxyalkanoates",
        "phas biodegradable",
        "biocompatible polyesters"
       ],
       "10.1021/la4049105": [
        "tungsten trioxide",
        "photocatalytic photoelectrochemical"
       ],
       "10.1021/la801633r": [
        "interconnects nanodevices",
        "nanodevices computational",
        "biological molecules",
        "nanodevices"
       ],
       "10.1021/nl404575e": [
        "inexpensive photocatalysts",
        "photocatalysts",
        "solar fuel",
        "implementation solar"
       ],
       "10.1023/A:1006660510785": [
        "alloy sicw",
        "whiskerreinforced aluminum"
       ],
       "10.1023/A:1011554912198": [
        "pollution legislation",
        "pollution effects",
        "effects agriculture",
        "legislation european"
       ],
       "10.1023/A:1013858822636": [
        "sulfate aerosols",
        "aerosols bethe",
        "precipitation acidity",
        "aerosols"
       ],
       "10.1023/A:1015011929171": [
        "addiction trauma",
        "mental health",
        "occurence addiction",
        "toxic feedback"
       ],
       "10.1023/A:1019596416750": [
        "clay",
        "clay andreevskoe",
        "andreevskoe deposit",
        "suitable ceramic"
       ],
       "10.1023/A:1022239014808": [
        "dystonia writer",
        "dystonia",
        "writer cramp",
        "therapies limited"
       ],
       "10.1023/A:1026481422227": [
        "children autism",
        "autism",
        "postures children",
        "abnormal spatial"
       ],
       "10.1023/B:ACMA.0000045313.47841.4E": [
        "reinforced thermoplastic",
        "thermoplastic materials",
        "fiber reinforced",
        "short fiber"
       ],
       "10.1023/B:JMSC.0000017775.73974.A2": [
        "fiber reinforced",
        "matrix composite",
        "design composites"
       ],
       "10.1027/1016-9040/A000159": [
        "political social",
        "social psychology",
        "topic political"
       ],
       "10.1027/1864-1105/a000103": [
        "social network",
        "network sites"
       ],
       "10.1027/1864-1105/a000191": [
        "media content",
        "overlook media"
       ],
       "10.1029/1999GL002345": [
        "carbonate dissociation",
        "ocean circulation"
       ],
       "10.1029/2000GL011613": [
        "stratospheric clouds",
        "polar stratospheric",
        "ozone depletion",
        "activation chlorine"
       ],
       "10.1029/2008EO190002": [
        "vehicles uavs",
        "unmanned airborne",
        "uavs",
        "airborne vehicles"
       ],
       "10.1029/2009JD013484": [
        "weather hazard"
       ],
       "10.1029/2010GB003864": [
        "majority lakes"
       ],
       "10.1029/2017JD027626": [
        "atmospheric rivers",
        "extreme precipitation"
       ],
       "10.1029/2017WR022024": [
        "billion people"
       ],
       "10.1029/2018EF001085": [
        "extreme climate",
        "climate event"
       ],
       "10.1029/2018GB006001": [
        "predictions soil",
        "soil response",
        "response climate"
       ],
       "10.1029/2018GL078758": [
        "ocean atmosphere",
        "gases ocean",
        "aerosols atmospheric"
       ],
       "10.1029/2018GL079997": [
        "tropical cyclones",
        "cyclones",
        "processes vortex"
       ],
       "10.1029/2018JG004520": [
        "severe droughts",
        "carbon sink",
        "terrestrial carbon"
       ],
       "10.1029/2020WR029083": [
        "supersaturation downstream"
       ],
       "10.1029/2020WR029469": [
        "nitrogen anthropogenic",
        "excess nitrogen",
        "nitrogen",
        "deteriorates freshwater"
       ],
       "10.1034/J.1600-0706.2003.12119.X": [
        "fragmented landscapes",
        "effects fragmented",
        "forest edge"
       ],
       "10.1037//0021-843X.108.3.371": [
        "mental disorder",
        "definition disorder",
        "diagnosis mental",
        "categorization diagnosis"
       ],
       "10.1037/0003-066X.63.6.540": [
        "peace psychology",
        "peace conceptualized",
        "literature peace",
        "psychologists unaware"
       ],
       "10.1037/0278-6133.11.3.139": [
        "hostility physical",
        "hostility",
        "physical health"
       ],
       "10.1037/0735-7028.33.5.464": [
        "alcohol dependence",
        "potential suicide",
        "suicide patients",
        "diagnosis alcohol"
       ],
       "10.1037/0735-7044.116.1.169": [
        "drug exposure",
        "relapse drug",
        "effects drugs",
        "associated drug"
       ],
       "10.1037/0893-164X.22.3.450": [
        "student attrition",
        "attrition colleges",
        "problem students",
        "students families"
       ],
       "10.1037/1040-3590.14.3.304": [
        "models psychopathology",
        "psychopathology",
        "research psychopathologist",
        "cognitive models"
       ],
       "10.1037/H0099997": [
        "relational",
        "behavioral psychologists"
       ],
       "10.1037/PRJ0000228": [],
       "10.1037/a0019295": [
        "cannabis",
        "illicit substance"
       ],
       "10.1037/a0026652": [
        "male superiority",
        "spatial abilities",
        "differences cognitive"
       ],
       "10.1037/a0028675": [
        "organizational safety",
        "safety climate",
        "safety"
       ],
       "10.1037/a0032607": [
        "vital safety",
        "professions vital",
        "safety society"
       ],
       "10.1037/a0034403": [
        "adolescent cigarette",
        "adolescent ability",
        "contribute adolescent"
       ],
       "10.1037/adb0000459": [
        "excessive alcohol",
        "alcohol consumption",
        "social consequences",
        "physical social"
       ],
       "10.1037/h0094577": [
        "recovery",
        "health recovery",
        "recovery processes",
        "mental health"
       ],
       "10.1037/neu0000353": [
        "parkinson disease",
        "parkinson",
        "motor disorder",
        "nonmotor symptoms"
       ],
       "10.1037/pas0000075": [],
       "10.1037/pspi0000039": [
        "relationship health",
        "conflict",
        "relationship",
        "effects relationship"
       ],
       "10.1037/rev0000034": [
        "educational neuroscience",
        "neuroscience contribute",
        "neuroscience",
        "problems educational"
       ],
       "10.1037/sgd0000303": [
        "minority status",
        "self esteem"
       ],
       "10.1037/spy0000105": [
        "concussion",
        "collegiate athletes"
       ],
       "10.1037/tra0000027": [
        "autobiographical memory",
        "trauma depression",
        "memory deficits"
       ],
       "10.1038/127655A0": [
        "vitality science",
        "vitality",
        "science fruitfulness",
        "symptoms vitality"
       ],
       "10.1038/263042A0": [
        "studies geochemistry"
       ],
       "10.1038/AM.2017.77": [
        "production thermoelectric",
        "thermoelectric materials",
        "thermoelectric",
        "thermal energy"
       ],
       "10.1038/mp.2008.125": [
        "depressive disorder",
        "major depressive",
        "depressive"
       ],
       "10.1038/mp.2013.57": [
        "decrease dopamine",
        "obesity addiction",
        "dysregulation motivation"
       ],
       "10.1038/mp.2015.62": [
        "onset alzheimer",
        "alzheimer disease",
        "alzheimer",
        "genetic polymorphisms"
       ],
       "10.1038/nature04557": [
        "formation dislocations",
        "dislocations",
        "fatigue crystalline",
        "crystalline materials"
       ],
       "10.1038/nature07080": [
        "ocean temperatures",
        "climate energy",
        "thermal expansion"
       ],
       "10.1038/ncomms12288": [
        "human cooperation",
        "cooperation enigmatic",
        "cooperation",
        "evolutionary economic"
       ],
       "10.1038/ncomms14196": [
        "drylands",
        "important ecosystem",
        "terrestrial surface"
       ],
       "10.1038/ncomms1916": [
        "quantum dots",
        "nanocrystal quantum",
        "nanocrystal",
        "applications nanoscale"
       ],
       "10.1038/ncomms4601": [
        "smart luminescent",
        "luminescent materials",
        "luminescent",
        "external stimuli"
       ],
       "10.1038/nn1741": [
        "origin brain",
        "evolved neural",
        "brain mechanisms",
        "language originated"
       ],
       "10.1038/nnano.2014.150": [
        "semiconductor junctions",
        "electronic optoelectronic",
        "semiconductor",
        "optoelectronic devices"
       ],
       "10.1038/nrn3085": [
        "hippocampal formation",
        "hippocampal",
        "disorders alzheimer",
        "schizophrenia depression"
       ],
       "10.1038/s41467-017-02547-4": [
        "photocatalytic formation",
        "artificial photosynthesis",
        "fossil fuels",
        "solar energy"
       ],
       "10.1038/s41467-020-18992-7": [
        "global monsoon",
        "monsoon characterised",
        "monsoon"
       ],
       "10.1038/s41561-019-0530-4": [
        "carbon uptake",
        "terrestrial carbon",
        "nitrogen phosphorus",
        "dioxide climate"
       ],
       "10.1038/s41562-020-0856-3": [
        "optimise cognitive",
        "cognitive benefits"
       ],
       "10.1038/s41598-017-01664-w": [
        "plasmon polaritons",
        "surface plasmon",
        "photonic applications"
       ],
       "10.1038/s41598-017-04641-5": [
        "neuromorphic circuit",
        "neuromorphic",
        "oxide semiconductor",
        "semiconductor devices"
       ],
       "10.1038/s41598-017-05306-z": [
        "emissions deforestation",
        "deforestation forest",
        "carbon pools"
       ],
       "10.1038/s41598-018-37654-9": [
        "language",
        "controversial",
        "relationship language"
       ],
       "10.1038/s41598-019-38728-y": [
        "organic cathode",
        "materials lithium",
        "lithium batteries",
        "cathode materials"
       ],
       "10.1038/s41598-019-40012-y": [
        "emission vehicles",
        "generation hybrid",
        "hybrid zero",
        "vehicles market"
       ],
       "10.1038/s41598-019-54463-w": [
        "heterostructures crystal",
        "oxide electronics",
        "heterostructures",
        "semiconductor devices"
       ],
       "10.1038/s41928-019-0314-2": [
        "epitaxial growth",
        "crystalline semiconductors",
        "electronic optoelectronic",
        "development epitaxial"
       ],
       "10.1038/sdata.2018.59": [
        "freshwater ecosystems",
        "freshwater",
        "concurrent regional"
       ],
       "10.1038/sj.npp.1301669": [
        "metabotropic glutamate",
        "schizophrenia mechanism",
        "glutamate receptor",
        "mglur3 associated"
       ],
       "10.1038/srep06275": [
        "conductive inks",
        "inks paper",
        "paper substrates",
        "nanoparticles prone"
       ],
       "10.1038/srep06624": [
        "repeatability responsiveness",
        "stimuli responsive",
        "responsive materials",
        "durable functions"
       ],
       "10.1038/srep19161": [
        "hybrid phototransistors",
        "achieved graphene",
        "photoconductive gain",
        "dichalcogenides quantum"
       ],
       "10.1038/srep19762": [
        "magnetic behavior",
        "oxides exhibit",
        "complex magnetic",
        "transition metal"
       ],
       "10.1038/srep36550": [
        "coastal ecosystems",
        "coastal",
        "significant ecological",
        "ecological economic"
       ],
       "10.1039/9781788012744-00106": [
        "adsorption reliable",
        "adsorption",
        "separation applications"
       ],
       "10.1039/B925053K": [
        "chemical exposures",
        "unintended incidents",
        "threat workers",
        "incidents"
       ],
       "10.1039/C0EE00831A": [
        "batteries employed",
        "power storage"
       ],
       "10.1039/C1JM13345D": [
        "photoconductivity thermoelectric",
        "thermoelectric catalytic"
       ],
       "10.1039/C2TA00915C": [
        "sulfur batteries",
        "lithium sulfur",
        "lithium"
       ],
       "10.1039/C3TA13793G": [
        "research photocatalytic",
        "photocatalytic materials",
        "photocatalytic"
       ],
       "10.1039/C4JA00478G": [
        "amorphous silica",
        "synthetic amorphous",
        "silica commodity",
        "silica"
       ],
       "10.1039/C5GC02109J": [
        "renewable energy",
        "development renewable",
        "fossil fuel",
        "emission greenhouse"
       ],
       "10.1039/C5RA04276C": [
        "nanoparticles"
       ],
       "10.1039/C5RA25548A": [
        "copper nanowire",
        "transparent electronics",
        "flexible transparent",
        "copper"
       ],
       "10.1039/C6CY01251E": [
        "olefins important"
       ],
       "10.1039/C6RA00083E": [
        "oxide sno2",
        "sno2 high",
        "sno2",
        "anode material"
       ],
       "10.1039/C6RA09389B": [
        "cu2sns3",
        "solar cells"
       ],
       "10.1039/C6RA20415E": [
        "nanostructures subject",
        "based nanostructures"
       ],
       "10.1039/C6TA06757C": [
        "cells sofcs",
        "fuel cells",
        "temperature electrochemical",
        "oxide fuel"
       ],
       "10.1039/C6TA06840E": [
        "anatase tio2",
        "electrochemical",
        "nanostructured intercalation"
       ],
       "10.1039/C6TA09967J": [
        "batteries phosphorus",
        "anode sodium",
        "sodium storage"
       ],
       "10.1039/C6TB00942E": [
        "biofilms opportunistic",
        "establishment biofilms",
        "biofilms",
        "human infections"
       ],
       "10.1039/C7EN00375G": [
        "cementitious barriers",
        "barriers disposal",
        "environmental threats"
       ],
       "10.1039/C7RA13443F": [
        "graphene",
        "solar cells",
        "barrier solar",
        "schottky barrier"
       ],
       "10.1039/C7TA09374H": [
        "heterojunction photocatalyst",
        "photocatalyst photocatalytic",
        "photocatalytic",
        "efficient tio2"
       ],
       "10.1039/C7TB00598A": [
        "functionalized polythiophenes",
        "propylenedioxythiophene pprodot"
       ],
       "10.1039/C8CY01395K": [
        "hydrogen production",
        "production photocatalytic",
        "sustainable energy"
       ],
       "10.1039/C8EN00629F": [
        "capacitive deionization",
        "deionization"
       ],
       "10.1039/C8TA03784A": [
        "based phosphides"
       ],
       "10.1039/C8TA11151K": [],
       "10.1039/C8TC00245B": [
        "gases volatile",
        "compounds vocs",
        "xylene gases",
        "benzene toluene"
       ],
       "10.1039/C8TC01698D": [
        "based oleds",
        "fluorescence tadf"
       ],
       "10.1039/C8TC02314J": [
        "electrochemical cells",
        "flexible substrates"
       ],
       "10.1039/C8TC04519D": [
        "polymers device"
       ],
       "10.1039/D0SE01112F": [
        "li2s cathode",
        "li2s",
        "cathode high"
       ],
       "10.1039/b9nr00104b": [
        "carbon nanotubes",
        "nanotubes"
       ],
       "10.1039/b9nr00105k": [
        "nanoscale structural",
        "nanoscale science",
        "nanoscience nanotechnology",
        "macrosized materials"
       ],
       "10.1039/c2em30380a": [
        "environmental science",
        "quantitative"
       ],
       "10.1039/c3cp53774a": [
        "efficient photocatalytic",
        "photocatalytic material",
        "photocatalytic",
        "energy hydrogen"
       ],
       "10.1039/c3nr03009a": [
        "mesoporous tio2",
        "tio2"
       ],
       "10.1039/c4fd00264d": [
        "solar chemical",
        "solar"
       ],
       "10.1039/c4nr02553a": [
        "oxyhalide nanomaterials",
        "potential photocatalytic",
        "bismuth oxyhalide",
        "layered bismuth"
       ],
       "10.1039/c4nr02570a": [
        "nanodiamonds",
        "versatile nanoparticles",
        "nanoparticles"
       ],
       "10.1039/c4nr03718a": [
        "organic nanoparticles",
        "quantum dots",
        "nanoparticles",
        "fluorescent organic"
       ],
       "10.1039/c4sm01530d": [
        "interface nanostructures",
        "behavior nanometer",
        "molecular interactions"
       ],
       "10.1039/c5cp06134b": [
        "nanoparticles"
       ],
       "10.1039/c6cp00876c": [
        "seebeck effect"
       ],
       "10.1039/c6nr08807d": [
        "carbon nanotubes",
        "nanotubes",
        "biomedical applications"
       ],
       "10.1039/c6nr09245d": [
        "nanoparticles formation",
        "nanoparticles",
        "aggregates particles",
        "transferred liquid"
       ],
       "10.1039/c7dt02929b": [
        "photocatalytic hydrogen",
        "hydrogen evolution",
        "photocatalytic",
        "hydrogen"
       ],
       "10.1039/c7nr05718k": [
        "phosphorus materials",
        "elementary phosphorus",
        "phosphorus single",
        "black phosphorus"
       ],
       "10.1039/c7nr08943k": [
        "photocatalytic hydrogen",
        "hydrogen evolution",
        "semiconductor nanostructures",
        "photocatalytic"
       ],
       "10.1039/c7nr09081a": [
        "frameworks mofs",
        "organic frameworks",
        "metal organic",
        "mofs"
       ],
       "10.1039/c8cp01681j": [
        "efficient lithium",
        "batteries libs",
        "lithium",
        "electrode materials"
       ],
       "10.1039/c8dt03438a": [
        "phosphors",
        "elements white",
        "rare earth"
       ],
       "10.1039/d0qi00614a": [
        "electrocatalysts oxygen",
        "stable electrocatalysts",
        "electrocatalysts",
        "hydrogen generation"
       ],
       "10.1039/d0ra01635g": [
        "layer deposition",
        "atomic layer",
        "advanced semiconductor"
       ],
       "10.1039/d0ra02060e": [
        "performance lithium",
        "batteries libs",
        "cathode materials",
        "layered oxide"
       ],
       "10.1039/d0se00784f": [
        "fossil fuels",
        "resources biomass",
        "energy resources"
       ],
       "10.1039/d0ta05758d": [
        "battery anodes",
        "metal sulfides",
        "rechargeable battery",
        "significant rechargeable"
       ],
       "10.1039/d0ta08758k": [
        "photosynthetic solar",
        "photosynthesis practical",
        "conversion photosynthesis",
        "efficiency solar"
       ],
       "10.1039/d0tc04400h": [
        "interplay ferroic",
        "ferroic"
       ],
       "10.1046/J.1365-2788.1997.04444.X": [
        "intellectual disability",
        "mental illness",
        "illness common",
        "disability"
       ],
       "10.1049/CP.2009.1247": [
        "carbon nanotubes",
        "nanotubes"
       ],
       "10.1049/HVE.2019.0004": [
        "porcelain insulators",
        "insulators"
       ],
       "10.1049/IET-EST.2017.0049": [
        "emissions diesel",
        "diesel common",
        "diesel engine",
        "railway vehicles"
       ],
       "10.1049/IP-I-1.1985.0002": [
        "photovoltaic concentrators",
        "performance photovoltaic",
        "photovoltaic",
        "concentrators investigated"
       ],
       "10.1049/MNL.2012.0587": [
        "surface acoustic",
        "acoustic"
       ],
       "10.1051/E3SCONF/20183102016": [
        "indonesia country",
        "energy resources",
        "country abundant",
        "geothermal"
       ],
       "10.1051/EPJAP/2010021": [
        "lifetime contacts",
        "contacts affect",
        "reliability lifetime"
       ],
       "10.1051/EPJAP/2016150408": [
        "thermal solar",
        "solar energy"
       ],
       "10.1051/MATECCONF/20165703001": [
        "bulk metals",
        "aluminium stainless"
       ],
       "10.1051/MATECCONF/201817204004": [
        "machine superalloy",
        "difficult machine"
       ],
       "10.1051/METAL/2014022": [],
       "10.1051/METAL/2015028": [
        "steel products",
        "quality steel",
        "chemistry inclusion",
        "production quality"
       ],
       "10.1051/e3sconf/202016203002": [
        "fuel nuclear",
        "radioactive materials",
        "fuels transportation",
        "leakage unirradiated"
       ],
       "10.1053/SCNP00200004": [
        "cognitive deficits",
        "mild cognitive",
        "adults diabetes",
        "diabetes mellitus"
       ],
       "10.1055/S-0033-1363520": [
        "auditory"
       ],
       "10.1055/S-2007-992810": [
        "contributes schizophrenia",
        "prefrontal dopamine",
        "schizophrenia",
        "schizophrenia illness"
       ],
       "10.1055/S-2007-995282": [
        "mania lithium",
        "treatment mania",
        "lithium established",
        "acute depressive"
       ],
       "10.1056/JP199509010000004": [
        "seasonal affective",
        "affective disorder",
        "diagnosis seasonal"
       ],
       "10.1056/JP200811170000003": [
        "anabolic androgenic",
        "androgenic steroid",
        "impact anabolic",
        "psychological behavioral"
       ],
       "10.1056/JW200809230000002": [],
       "10.1056/PA200310140000001": [
        "daytime incontinence",
        "incontinence",
        "incontinence common",
        "pediatric problems"
       ],
       "10.1056/PA201302130000004": [
        "binge",
        "social problems"
       ],
       "10.1056/WH199804010000005": [
        "female women",
        "medical student"
       ],
       "10.1057/9780230294523_20": [
        "consensus gender",
        "gender",
        "identity category"
       ],
       "10.1057/9780230374133_3": [
        "shakespeare history",
        "shakespeare",
        "problems critics"
       ],
       "10.1057/9780230619098_4": [
        "international literacy",
        "literacy"
       ],
       "10.1057/9781137352644_7": [
        "empathy",
        "years empathy",
        "neuroscience psychology",
        "sociology memory"
       ],
       "10.1057/9781137398338_22": [
        "social issues",
        "public consciousness"
       ],
       "10.1061/(ASCE)1084-0702(2007)12:3(350)": [
        "bridge decks",
        "steel bridge"
       ],
       "10.1061/(ASCE)AS.1943-5525.0001006": [
        "optical fiber",
        "development optical"
       ],
       "10.1061/(ASCE)EE.1943-7870.0000832": [
        "nitrogen runoff",
        "urban surface",
        "interface nitrogen",
        "dissolved particulate"
       ],
       "10.1061/(ASCE)MT.1943-5533.0000896": [
        "asphalt shingles",
        "recycled asphalt",
        "asphalt mixture"
       ],
       "10.1061/(asce)mt.1943-5533.0003097": [
        "basalt fiber",
        "asphalt mixture",
        "effect asphalt",
        "asphalt"
       ],
       "10.1061/40976(316)102": [
        "polyacrylamides pams",
        "polyacrylamides",
        "pams"
       ],
       "10.1061/40990(324)13": [
        "aquatic vegetation",
        "coastal ecosystems",
        "vegetation"
       ],
       "10.1061/41108(381)21": [
        "organic soils",
        "soils"
       ],
       "10.1061/41171(401)49": [
        "reinforced concrete",
        "steel reinforcement",
        "design reinforced",
        "concrete structures"
       ],
       "10.1061/9780784413401.030": [
        "granular soils",
        "reinforced granular",
        "geogrid reinforced"
       ],
       "10.1061/9780784479162.029": [],
       "10.1063/1.1632160": [
        "protein crystals",
        "quality protein",
        "protein interactions",
        "protein"
       ],
       "10.1063/1.1937468": [
        "nanoheteroepitaxial growth",
        "nanopillars investigated"
       ],
       "10.1063/1.2927495": [
        "nanocrystalline silicon",
        "amorphous polycrystalline"
       ],
       "10.1063/1.2964786": [
        "rheological properties",
        "linear rheological",
        "rheological",
        "properties materials"
       ],
       "10.1063/1.3295100": [
        "bonded explosives",
        "plastic bonded",
        "explosives"
       ],
       "10.1063/1.3591935": [
        "ultrasonic arrays",
        "nondestructive evaluation"
       ],
       "10.1063/1.3671114": [
        "fe2o3 remarkable",
        "fe2o3",
        "ferromagnetic",
        "magnetoelectric properties"
       ],
       "10.1063/1.47085": [
        "electronics liquid",
        "liquid nitrogen",
        "nitrogen temperature",
        "electronics"
       ],
       "10.1063/1.4732500": [
        "gallium nitride"
       ],
       "10.1063/1.4750078": [
        "metal nanoparticles",
        "structures metamaterials",
        "periodic arrays"
       ],
       "10.1063/1.4803153": [
        "graphene nanoribbons",
        "nanoribbons",
        "graphene"
       ],
       "10.1063/1.4917276": [
        "impact meteoroids",
        "orbital debris",
        "debris spacecraft",
        "meteoroids orbital"
       ],
       "10.1063/1.4940418": [
        "carbon nanotubes",
        "nanotubes",
        "tungsten filaments",
        "electron emitters"
       ],
       "10.1063/1.4951772": [
        "aerosol particles",
        "aerosol",
        "collection aerosol",
        "separation particulate"
       ],
       "10.1063/1.4958850": [
        "carbon nanotube",
        "macro electronics"
       ],
       "10.1063/1.4980427": [
        "diodes leds"
       ],
       "10.1063/1.4983169": [
        "design multiferroics",
        "multiferroics",
        "mechanism magnetoelectric",
        "magnetoelectric"
       ],
       "10.1063/1.5002890": [
        "magnetic levitation",
        "magnetic stiffness",
        "size magnetic"
       ],
       "10.1063/1.5018857": [
        "topological insulators",
        "insulators subject",
        "insulators"
       ],
       "10.1063/1.5042570": [
        "fese1"
       ],
       "10.1063/1.5045955": [
        "polyamides",
        "thermoplastics",
        "barrier properties"
       ],
       "10.1063/1.5080916": [
        "haze",
        "impact malaysia",
        "haze major"
       ],
       "10.1063/1.5094073": [
        "sintered silver",
        "power modules"
       ],
       "10.1063/1.5112067": [
        "oxide semiconductors",
        "bandgap oxide",
        "electronic optoelectronic",
        "semiconductors"
       ],
       "10.1063/1.5124418": [
        "epitaxial graphene",
        "density graphene"
       ],
       "10.1063/5.0000059": [
        "rainfall prediction",
        "heavy rainfall",
        "rainfall",
        "meteorological division"
       ],
       "10.1063/5.0025792": [
        "photonic applications",
        "quantum photonic",
        "single photon",
        "optical quantum"
       ],
       "10.1063/5.0050483": [
        "spintronic devices",
        "magnetic dimensional"
       ],
       "10.1063/5.0057741": [
        "compensated ferrimagnets",
        "application spintronic",
        "torques sots",
        "orbit torques"
       ],
       "10.1065/LCA2005.05.210": [
        "sewage sludge",
        "world wastewater",
        "wastewater treatment",
        "amounts sewage"
       ],
       "10.1068/c1133r": [
        "empowerment local",
        "local communities",
        "local services",
        "quality life"
       ],
       "10.1068/d050151": [
        "gentrification"
       ],
       "10.1068/d322": [
        "politics geographical",
        "academia activism",
        "geographical research",
        "activism"
       ],
       "10.1071/AN12300": [
        "dryland conditions",
        "vagaries climate",
        "climate experimental",
        "climate"
       ],
       "10.1073/pnas.0408641102": [
        "integrated photonic",
        "photonic systems",
        "manipulation photons",
        "photons structures"
       ],
       "10.1073/pnas.0909115106": [
        "chronic wounds",
        "wounds",
        "wounds represent",
        "public health"
       ],
       "10.1073/pnas.1116437108": [
        "agricultural expansion",
        "impacts agricultural",
        "global food"
       ],
       "10.1073/pnas.1212207110": [
        "facial expressions",
        "emotion categories",
        "expressions perceptual",
        "represents facial"
       ],
       "10.1073/pnas.1608421113": [
        "significance cavitation",
        "cavitation formation",
        "cavitation",
        "formation vapor"
       ],
       "10.1073/pnas.2003362117": [
        "organic micropollutants",
        "pesticide solvent"
       ],
       "10.1075/AILA.00008.STR": [
        "postracial equity",
        "nation postracial",
        "postracial",
        "south africa"
       ],
       "10.1075/pbns.201": [
        "theory mind",
        "topic cognitive",
        "cognitive psychology",
        "linguistics pragmatics"
       ],
       "10.1079/PNS19740048": [
        "grassland forage",
        "soils associated",
        "health livestock",
        "economics agricultural"
       ],
       "10.1080/00029157.2016.1230728": [
        "clinical hypnosis",
        "hypnosis documented",
        "hypnosis"
       ],
       "10.1080/00071005.2013.816071": [
        "universities teacher",
        "teacher education",
        "role universities",
        "education issue"
       ],
       "10.1080/00098655.2019.1690419": [
        "racism ableism",
        "history racism",
        "public education"
       ],
       "10.1080/00102202.2021.1932851": [
        "explosion accidents",
        "losses coal"
       ],
       "10.1080/00103620903326024": [
        "soil organic",
        "organic carbon",
        "sustainability agricultural",
        "soil"
       ],
       "10.1080/00103624.2018.1448858": [
        "selenium",
        "micronutrient humans"
       ],
       "10.1080/00103629809369933": [
        "sludge cropland",
        "contribute nitrate",
        "organic nitrogen"
       ],
       "10.1080/00131881.2018.1533790": [
        "classroom interaction",
        "improvement classroom",
        "teacher profession",
        "significant teacher"
       ],
       "10.1080/00207218608920903": [
        "vegetation radiowaves",
        "conductivity forest",
        "forest vegetation",
        "permittivity conductivity"
       ],
       "10.1080/00207411.2015.1076291": [
        "mental illness",
        "families constitute",
        "families",
        "severe mental"
       ],
       "10.1080/00213624.2017.1320503": [
        "institutional economics",
        "institutional",
        "process institutional",
        "theme institutional"
       ],
       "10.1080/00218464.2016.1179117": [
        "adhesive joints",
        "performance adhesive",
        "temperature moisture"
       ],
       "10.1080/00218467408075030": [
        "mobility polymer",
        "properties polymer",
        "polymer interaction",
        "polymer chain"
       ],
       "10.1080/00219266.1988.9654958": [
        "environmental problems",
        "affects continent"
       ],
       "10.1080/00221546.2016.1257322": [
        "students underrepresented",
        "underrepresented population",
        "american students",
        "native american"
       ],
       "10.1080/00221686.2019.1625820": [
        "river infrastructures",
        "bridges prone"
       ],
       "10.1080/00222216.2002.11949959": [
        "leisure research",
        "leisure",
        "participation",
        "constraints paradigm"
       ],
       "10.1080/00223131.2015.1071721": [
        "environment fukushima",
        "fukushima daiichi",
        "fukushima"
       ],
       "10.1080/00223131.2018.1544941": [
        "fukushima daiichi",
        "fukushima"
       ],
       "10.1080/00223980.2016.1241738": [
        "violence timeless",
        "violence",
        "history prevalence",
        "behavior history"
       ],
       "10.1080/00332747.1991.11024540": [
        "conduct disorder",
        "children conduct",
        "antisocial personality",
        "disorders alcohol"
       ],
       "10.1080/00335639209383997": [
        "creationism curiosity",
        "scientific creationism",
        "creationism",
        "darwinian evolution"
       ],
       "10.1080/00380768.2019.1632675": [
        "organic"
       ],
       "10.1080/00948705.2007.9714718": [
        "participation sport",
        "sport ubiquitous",
        "sport"
       ],
       "10.1080/01419870.2011.607505": [
        "diaspora politicized",
        "diaspora",
        "notion diaspora",
        "banal migrants"
       ],
       "10.1080/01419870.2017.1287416": [
        "indigenous mapuche",
        "people chile",
        "migration cities",
        "cities indigenous"
       ],
       "10.1080/0142569940150209": [
        "discourse prompts",
        "discourse tough",
        "language discourse",
        "word postmodernism"
       ],
       "10.1080/01426390220149520": [
        "landscape",
        "perception landscape",
        "public perception"
       ],
       "10.1080/01431161.2014.919677": [
        "soil moisture",
        "estimation soil",
        "climatology hydrology",
        "hydrology ecology"
       ],
       "10.1080/01431161.2016.1259683": [
        "savanna ecosystems",
        "vegetation savanna",
        "terrestrial vegetation",
        "savanna"
       ],
       "10.1080/01431161.2018.1519290": [
        "eastern baltic",
        "baltic",
        "marine area"
       ],
       "10.1080/01434632.2012.670242": [
        "families deaf",
        "deaf children",
        "deaf",
        "communication methods"
       ],
       "10.1080/01449290802164487": [
        "systems development",
        "information systems",
        "development"
       ],
       "10.1080/01457632.2015.1044395": [
        "transfer surface"
       ],
       "10.1080/01459740490448911": [
        "sexual violence",
        "rape sexual",
        "literature narrative",
        "construction rape"
       ],
       "10.1080/01463379609370010": [
        "rhetorical critics",
        "fragmented texts"
       ],
       "10.1080/01490459009377891": [
        "bioremediation",
        "microorganisms detoxify",
        "remediation contaminated"
       ],
       "10.1080/0156655930400307": [
        "children chronic",
        "parents children",
        "encountered parents",
        "chronic conditions"
       ],
       "10.1080/01926188308250132": [
        "intergenerational processes",
        "intergenerational",
        "dimensions intergenerational",
        "older parents"
       ],
       "10.1080/01932691.2012.658318": [
        "interpretation polymer"
       ],
       "10.1080/02500160903525064": [
        "students enrol",
        "institution competitive",
        "higher education"
       ],
       "10.1080/02522667.2010.10700012": [
        "surface roughness",
        "roughness"
       ],
       "10.1080/02560054.1989.9653021": [
        "political scientists",
        "political future",
        "south africa",
        "future south"
       ],
       "10.1080/02568543.2019.1613273": [],
       "10.1080/02601370.2016.1241311": [
        "vocational education",
        "vocational"
       ],
       "10.1080/02607479719972": [
        "school partnerships",
        "collaborative partnerships",
        "partnerships urban",
        "partnerships"
       ],
       "10.1080/02626667.2019.1584401": [
        "ecosystem services",
        "lulc ecosystem",
        "sustainability restoration"
       ],
       "10.1080/02640414.2015.1020842": [
        "activity adolescents",
        "physical activity"
       ],
       "10.1080/02640414.2016.1161218": [
        "sedentary behaviour",
        "sedentary",
        "measurement errors"
       ],
       "10.1080/02670836.2017.1316581": [
        "conductivity oxide",
        "ionic conductivity",
        "oxide composite",
        "conductivity"
       ],
       "10.1080/02678292.2016.1232442": [
        "nematic phase",
        "liquid crystals",
        "core liquid",
        "nematic"
       ],
       "10.1080/02682621.2012.654695": [
        "bereaved parents",
        "child death",
        "death regarded",
        "regarded traumatic"
       ],
       "10.1080/02699930801961731": [
        "disgust cognitive",
        "evidence disgust",
        "disgust",
        "anxiety disorders"
       ],
       "10.1080/02772248.2014.942309": [
        "pesticides",
        "pesticides critical",
        "production residues"
       ],
       "10.1080/02796015.2006.12087989": [
        "educators psychologists",
        "problem behavior",
        "psychologists",
        "behavior"
       ],
       "10.1080/03004430.2016.1236089": [
        "skills toddlers",
        "literacy skills",
        "assess literacy",
        "toddlers limited"
       ],
       "10.1080/03004430.2018.1455671": [
        "autism spectrum",
        "children autism"
       ],
       "10.1080/03019233.2016.1215960": [
        "oxidised pellets",
        "blast furnace",
        "pellets burden"
       ],
       "10.1080/03036758.2019.1582075": [
        "school leadership",
        "quality school",
        "hypothesis",
        "difference students"
       ],
       "10.1080/03055690600631101": [
        "student evaluations"
       ],
       "10.1080/03067319.2020.1751144": [
        "asbestos fibre",
        "asbestos",
        "fibre hazardous",
        "hazardous pollutants"
       ],
       "10.1080/0309877X.2016.1188900": [
        "architectural barriers",
        "students disabilities",
        "barriers infrastructures",
        "disabilities"
       ],
       "10.1080/03670244.2016.1261025": [
        "food selection",
        "disease picky"
       ],
       "10.1080/03680770.2001.11901903": [
        "runoff phosphorus",
        "nitrogen watershed",
        "surface runoff",
        "phosphorus nitrogen"
       ],
       "10.1080/07373937.2012.708001": [
        "droplet collision",
        "collision cold",
        "droplet",
        "temperature processes"
       ],
       "10.1080/07481187.2018.1446059": [
        "grief",
        "complicated grief",
        "psychological"
       ],
       "10.1080/07481187.2018.1539052": [
        "suicide stigma",
        "perceived suicide",
        "suicide loss",
        "stigma consequent"
       ],
       "10.1080/08039488.2017.1312517": [
        "psychological distress",
        "distress",
        "mental disorders",
        "distress trans"
       ],
       "10.1080/08827508.2011.601700": [
        "generated coal",
        "coal preparation"
       ],
       "10.1080/08827508.2020.1795848": [
        "platinum group",
        "platinum",
        "automobiles jewelry"
       ],
       "10.1080/08855072.1981.10668421": [
        "bilingual education",
        "effectiveness bilingual",
        "bilingual",
        "core bilingual"
       ],
       "10.1080/08856257.2017.1421601": [
        "school readiness",
        "readiness children",
        "special educational"
       ],
       "10.1080/08870446.2010.488265": [
        "social inhibition",
        "personality combination",
        "cardiovascular disease"
       ],
       "10.1080/08952841.2017.1409305": [
        "adult women",
        "literature sexual",
        "sexual activity"
       ],
       "10.1080/09297040701503327": [
        "impairments facial",
        "facial affect",
        "disorder adhd",
        "attention deficit"
       ],
       "10.1080/09506608.2020.1801229": [
        "salt reactor",
        "reactor technologies",
        "nuclear reactor"
       ],
       "10.1080/09524622.2008.9753814": [
        "anthropogenic noise",
        "boat traffic"
       ],
       "10.1080/09540121.2013.845290": [
        "parental illness",
        "immunodeficiency syndrome",
        "children psychological",
        "psychological adjustment"
       ],
       "10.1080/09571736.2020.1786711": [
        "teacher feedback"
       ],
       "10.1080/09581599808402917": [
        "immunodeficiency virus",
        "human immunodeficiency",
        "worldwide epidemic"
       ],
       "10.1080/09602010902732892": [
        "cognitive impairment",
        "common schizophrenia",
        "schizophrenia adverse",
        "schizophrenia"
       ],
       "10.1080/09620210000200062": [
        "partnership initial",
        "teacher education",
        "partnership",
        "emphasis partnership"
       ],
       "10.1080/09639284.2017.1414616": [
        "teachers nnest"
       ],
       "10.1080/09687590802038829": [
        "psychiatric disabilities",
        "people psychiatric",
        "disabilities represent"
       ],
       "10.1080/09751122.2015.11890400": [
        "learner discipline",
        "corporal punishment",
        "discipline control",
        "punishment abolished"
       ],
       "10.1080/10106049.2021.1952316": [
        "commercial forests",
        "commercial forest",
        "species discrimination",
        "forest species"
       ],
       "10.1080/10130950.2015.1045335": [
        "sexual assault",
        "assault urgent",
        "university campuses"
       ],
       "10.1080/10298436.2020.1745206": [
        "failures asphalt",
        "asphalt pavements",
        "asphalt"
       ],
       "10.1080/10298436.2020.1746311": [
        "concrete aggregate",
        "recycled concrete",
        "geotechnical properties",
        "properties recycled"
       ],
       "10.1080/10376178.2019.1673668": [
        "shortage major"
       ],
       "10.1080/10402004.2019.1573340": [
        "steam generator"
       ],
       "10.1080/10402650802068093": [
        "genocide crimes",
        "human rights",
        "violent conflict",
        "international community"
       ],
       "10.1080/10402659.2017.1381516": [
        "social movement",
        "repressive sociopolitical",
        "movement actors",
        "peace justice"
       ],
       "10.1080/10407780600669175": [
        "hyperthermia",
        "hyperthermia combined",
        "radiation cytotoxic"
       ],
       "10.1080/10409289.2015.1006978": [
        "preschool experiences",
        "preschool",
        "children academic",
        "essential children"
       ],
       "10.1080/10410236.2020.1775448": [],
       "10.1080/10417948509372629": [
        "sexual harassment",
        "harassment organizations",
        "harassment"
       ],
       "10.1080/10426910601062107": [],
       "10.1080/10426914.2013.864415": [],
       "10.1080/10464883.1990.10758566": [
        "confronted urbanistic"
       ],
       "10.1080/10503307.2017.1380863": [
        "aids plwha",
        "mental health",
        "health burden"
       ],
       "10.1080/10510970209388575": [
        "deception focus",
        "deception",
        "accuracy"
       ],
       "10.1080/10590500701704011": [
        "hydrocarbons pahs",
        "aromatic hydrocarbons",
        "polycyclic aromatic",
        "hydrocarbons"
       ],
       "10.1080/10643389.2019.1694819": [
        "agri food",
        "environmental contamination",
        "fruit vegetable",
        "content microbial"
       ],
       "10.1080/10668920902813477": [
        "faculty community",
        "community colleges"
       ],
       "10.1080/10668920903388206": [
        "shortages leaders",
        "community colleges",
        "administrative positions"
       ],
       "10.1080/10668926.2021.1922321": [
        "mental health"
       ],
       "10.1080/10683160500151209": [
        "offender rehabilitation",
        "rehabilitation programmes",
        "reasons rehabilitation",
        "unsuccessful offenders"
       ],
       "10.1080/10720160802289249": [
        "problematic hypersexuality",
        "hypersexuality",
        "diagnosis individuals"
       ],
       "10.1080/10720169408400040": [
        "sexual addiction",
        "addictive disorders",
        "religious formation"
       ],
       "10.1080/10736700600861400": [
        "nuclear fuel",
        "events iran"
       ],
       "10.1080/10810730.2010.501094": [
        "health literacy",
        "efforts health",
        "literacy decade",
        "complexity healthcare"
       ],
       "10.1080/10874208.2011.623092": [
        "transcranial current",
        "current stimulation",
        "intensity transcranial",
        "transcranial"
       ],
       "10.1080/10888438.2018.1491584": [
        "language disorder"
       ],
       "10.1080/10888691.2015.1030016": [
        "youth development",
        "youth"
       ],
       "10.1080/10901027.2017.1389788": [
        "reflective processes",
        "innovative pedagogy"
       ],
       "10.1080/10911350903126817": [
        "development anemic",
        "contemporary social",
        "human development"
       ],
       "10.1080/10962247.2016.1268982": [
        "biomass",
        "ozone particulate",
        "impact ozone"
       ],
       "10.1080/13216597.2007.9674715": [
        "intercultural communication",
        "research intercultural",
        "intercultural",
        "communication competence"
       ],
       "10.1080/1331677X.2012.11517571": [
        "digital piracy",
        "piracy represents",
        "piracy"
       ],
       "10.1080/13502930701321477": [
        "research children",
        "conduct research",
        "methodological ethical",
        "research"
       ],
       "10.1080/13506285.2016.1274809": [
        "recognition unfamiliar"
       ],
       "10.1080/13546805.2020.1798220": [
        "difficulties schizophrenia",
        "reward effort",
        "motivational difficulties",
        "attention focused"
       ],
       "10.1080/13575279.2013.785935": [
        "partner violence",
        "intimate partner"
       ],
       "10.1080/13575279.2018.1516626": [
        "services children"
       ],
       "10.1080/13603124.2014.958200": [
        "parents success",
        "importance parents",
        "school improvement",
        "success students"
       ],
       "10.1080/13607869756985": [
        "violence abuse",
        "neglect older",
        "abuse neglect",
        "emphasis violence"
       ],
       "10.1080/13617672.2015.1013818": [
        "religious education",
        "aims religious",
        "education curriculum",
        "religious"
       ],
       "10.1080/1363243022000020372": [
        "attainment schools",
        "disadvantaged",
        "disadvantaged communities"
       ],
       "10.1080/13639080.2010.526596": [
        "participation social",
        "young people"
       ],
       "10.1080/13648470.1999.9964576": [
        "aids stigma",
        "identity focused"
       ],
       "10.1080/13651501.2018.1435821": [
        "schizophrenia",
        "patients schizophrenia"
       ],
       "10.1080/1366880052000323986": [
        "mental health"
       ],
       "10.1080/13678860500199683": [
        "issue gender",
        "gender role",
        "islamic cultures",
        "problem cultures"
       ],
       "10.1080/13682820701546813": [
        "language impairment",
        "adolescents sensitivity"
       ],
       "10.1080/13698575.2013.804037": [
        "health discourses",
        "public health"
       ],
       "10.1080/13803390600878901": [
        "dissociation definition",
        "dissociation",
        "dissociative phenomena",
        "cognition studies"
       ],
       "10.1080/13854046.2012.748094": [
        "executive functions",
        "evaluation executive"
       ],
       "10.1080/14486563.2004.10648618": [
        "australia forests",
        "forests",
        "forests thirty",
        "controversies persisted"
       ],
       "10.1080/14636770123522": [
        "genetics",
        "ethical legal",
        "postgraduate research"
       ],
       "10.1080/14639940601025148": [
        "anthropology buddhism",
        "category buddhism",
        "buddhism recent",
        "buddhism"
       ],
       "10.1080/14680770903068233": [
        "sociobiology",
        "speculation genetic",
        "social behaviors"
       ],
       "10.1080/14681366.2012.759138": [
        "psychoanalytic educational",
        "psychoanalytic",
        "educational research",
        "education social"
       ],
       "10.1080/14733315.2007.11683781": [
        "knowledge ventilation",
        "dairy buildings",
        "house gases"
       ],
       "10.1080/14747731.2018.1502497": [
        "study neoliberalism",
        "neoliberalism established",
        "neoliberalism",
        "gravity"
       ],
       "10.1080/14786430410001720363": [
        "glassy carbon",
        "carbon",
        "glassy"
       ],
       "10.1080/14789949.2012.686622": [
        "prosecution psychiatric",
        "psychiatric inpatients",
        "problems psychiatrists",
        "psychiatric"
       ],
       "10.1080/14926150209556524": [
        "chemistry"
       ],
       "10.1080/15226514.2019.1707772": [
        "contamination",
        "heavy metals",
        "health hazards",
        "industrial effluents"
       ],
       "10.1080/15235882.1997.10162712": [
        "second language",
        "language development",
        "language benefits",
        "acquisition second"
       ],
       "10.1080/15348431.2013.849601": [
        "interactions teacher",
        "issues classroom",
        "behavior",
        "teacher students"
       ],
       "10.1080/15348458.2019.1672173": [
        "teacher identity",
        "social identities",
        "teacher",
        "identity"
       ],
       "10.1080/15374410801955805": [
        "selective mutism",
        "mutism"
       ],
       "10.1080/15374416.2013.769170": [
        "childhood fearful",
        "fearful temperament",
        "fearful children",
        "social anxiety"
       ],
       "10.1080/15379418.2017.1331780": [
        "factitious disorder",
        "disorder",
        "disorder imposed",
        "fdia difficult"
       ],
       "10.1080/15421406.2019.1596106": [
        "retinal pigment"
       ],
       "10.1080/15440478.2020.1807435": [
        "silk fiber",
        "textile",
        "fiber",
        "common textile"
       ],
       "10.1080/15507394.2016.1243434": [
        "ethical decision",
        "topic ethics"
       ],
       "10.1080/15528030903437406": [
        "older adults"
       ],
       "10.1080/15567036.2017.1399176": [
        "pollution remediation"
       ],
       "10.1080/1573062X.2019.1637907": [],
       "10.1080/16066359.2016.1205042": [],
       "10.1080/16742834.2016.1230002": [
        "atmospheric nitrous",
        "soils largest"
       ],
       "10.1080/17439760.2011.605167": [
        "optimism pessimism",
        "general optimism",
        "optimism",
        "pessimism"
       ],
       "10.1080/17470919.2015.1123181": [
        "mediated communication",
        "computer mediated",
        "social interaction"
       ],
       "10.1080/17480272.2014.988750": [
        "wood defects",
        "wood exposure",
        "modified wood",
        "cyclic moisture"
       ],
       "10.1080/17544750902826616": [
        "media market",
        "global media",
        "american media",
        "culture market"
       ],
       "10.1080/17597269.2018.1464875": [
        "emissions gasoline",
        "rigorous emissions",
        "emissions",
        "pollution continuous"
       ],
       "10.1080/19315860802115565": [
        "aggression individuals",
        "intellectual disability",
        "aggression",
        "model aggression"
       ],
       "10.1080/19359705.2013.789811": [],
       "10.1080/19392699.2014.907283": [
        "coal fines",
        "degradation coal",
        "coal production",
        "large particles"
       ],
       "10.1080/19648189.2017.1278725": [
        "clay liner",
        "permeability clay",
        "disposal landfills"
       ],
       "10.1080/20504721.2017.1339957": [
        "restorative justice",
        "restorative"
       ],
       "10.1080/2150704X.2014.1002945": [
        "variability inland",
        "climate variability",
        "example climate"
       ],
       "10.1080/21650373.2018.1564398": [
        "concrete commercialized",
        "concrete",
        "commercialized construction",
        "construction material"
       ],
       "10.1080/21670811.2016.1243990": [
        "frequency terror",
        "terror"
       ],
       "10.1080/21681376.2021.1967188": [
        "agriculture"
       ],
       "10.1080/23311932.2017.1334750": [
        "nutrition"
       ],
       "10.1080/23808985.2013.11679136": [
        "alcohol promotion",
        "mediated communication"
       ],
       "10.1080/23808985.2019.1590785": [
        "represented textbooks",
        "textbooks",
        "theories represented",
        "academic field"
       ],
       "10.1080/24740500.2018.1552074": [
        "explanation phenomenological",
        "cognitive scientific",
        "neuroscientific explanation"
       ],
       "10.1080/26395940.2019.1608865": [
        "groundwater remediation",
        "soil groundwater"
       ],
       "10.1080/87559129.2020.1860083": [
        "fresh foods",
        "microbial spoilage",
        "vegetables meats"
       ],
       "10.1080/87568225.2011.605692": [
        "suicidal experiences",
        "differences suicidal",
        "suicidal",
        "females undergraduate"
       ],
       "10.1080/LCD.36.3.289.305": [
        "language disorder",
        "semantic pragmatic",
        "diagnosis semantic",
        "pragmatic language"
       ],
       "10.1081/LFT-200056768": [
        "formation biofilms",
        "biofilms",
        "deterioration biocorrosion"
       ],
       "10.1086/218312": [
        "neurosis",
        "define neurosis",
        "psychic disturbances"
       ],
       "10.1086/444842": [
        "comparative education",
        "teachers comparative",
        "diverse educational",
        "educational systems"
       ],
       "10.1086/715219": [
        "microaggressions",
        "prejudice neglect",
        "express prejudice",
        "oppressed groups"
       ],
       "10.1088/0022-3727/35/1/313": [
        "ferroelectric materials",
        "ferroelectric",
        "materials integrated"
       ],
       "10.1088/0031-9112/31/9/028": [
        "operations lasers",
        "lasers",
        "recognition thermal"
       ],
       "10.1088/0256-307X/26/9/096202": [
        "pressure materials",
        "hydrostaticity high",
        "pressure experiments",
        "hydrostaticity"
       ],
       "10.1088/0256-307X/27/8/088502": [
        "quantum interference",
        "squids demonstrated"
       ],
       "10.1088/0268-1242/24/10/105030": [
        "czochralski silicon",
        "phosphorous doped",
        "doped czochralski"
       ],
       "10.1088/0957-4484/20/3/035703": [
        "percolation threshold",
        "nanotubes polymer",
        "carbon nanotubes",
        "nanocomposites near"
       ],
       "10.1088/0957-4484/26/43/435704": [
        "nanowires"
       ],
       "10.1088/0964-1726/25/7/075011": [
        "piezoelectric materials",
        "dissimilar piezoelectric",
        "piezoelectric"
       ],
       "10.1088/1361-6528/aa5d7d": [
        "photothermal therapy",
        "carbon nanotubes",
        "effective photothermal"
       ],
       "10.1088/1361-6641/ab6bb1": [
        "substrates ingan",
        "ingan layers",
        "ingan based",
        "pseudo substrates"
       ],
       "10.1088/1361-665X/26/2/025012": [
        "sandwich structures",
        "applications stiffness"
       ],
       "10.1088/1741-4326/AAB6C8": [
        "divertor target",
        "fusion devices",
        "access divertor",
        "power exhaust"
       ],
       "10.1088/1742-6596/1116/4/042014": [
        "continuous landfill",
        "disposal landfill",
        "pollutants leachate",
        "leachate liquid"
       ],
       "10.1088/1742-6596/1204/1/012093": [
        "quantum dots",
        "carbon quantum",
        "optical chemical"
       ],
       "10.1088/1742-6596/439/1/012008": [
        "carbon nanotubes",
        "nanotubes"
       ],
       "10.1088/1742-6596/97/1/012305": [
        "current limiter",
        "fault current",
        "short circuit"
       ],
       "10.1088/1748-6041/3/3/034107": [
        "glucose sensors",
        "implantable blood",
        "blood glucose",
        "tissue interfaces"
       ],
       "10.1088/1748-9326/3/4/045018": [
        "aerosol clouds",
        "clouds precipitation",
        "effect aerosol",
        "estimation anthropogenic"
       ],
       "10.1088/1748-9326/8/1/015013": [
        "greenhouse gases"
       ],
       "10.1088/1748-9326/9/12/124012": [
        "emissions deforestation",
        "deforestation forest",
        "national forest"
       ],
       "10.1088/1748-9326/9/3/034012": [
        "offshore wind",
        "marine management",
        "development offshore",
        "wind energy"
       ],
       "10.1088/1748-9326/AAB211": [
        "electricity sector",
        "emission climate",
        "electricity"
       ],
       "10.1088/1748-9326/AB1CF1": [
        "global food",
        "food systems",
        "food contributes"
       ],
       "10.1088/1748-9326/ab5de8": [
        "wildfires"
       ],
       "10.1088/1748-9326/abc122": [
        "mangrove forests",
        "mangrove",
        "forests valuable",
        "ecosystems extent"
       ],
       "10.1088/1755-1315/105/1/012129": [
        "renewable energy",
        "energy engineers",
        "energy sources",
        "fossil fuels"
       ],
       "10.1088/1755-1315/170/5/052041": [
        "microporosity pims",
        "intrinsic microporosity",
        "microporosity",
        "porous materials"
       ],
       "10.1088/1757-899X/206/1/012086": [],
       "10.1088/1757-899X/210/1/012025": [
        "landfill years",
        "production coal"
       ],
       "10.1088/1757-899X/225/1/012264": [
        "machines vibration",
        "rotary machines",
        "vibration inherent",
        "vibration"
       ],
       "10.1088/1757-899X/367/1/012012": [
        "materials electronic",
        "devices biological",
        "natural materials",
        "organic natural"
       ],
       "10.1088/1757-899X/430/1/012004": [
        "carbon nanotubes",
        "nanotubes",
        "materials research"
       ],
       "10.1088/1757-899X/455/1/012064": [
        "surface quality"
       ],
       "10.1088/2053-1591/AA8A0D": [
        "bamboo fibers",
        "natural fiber",
        "fibers",
        "polymer composites"
       ],
       "10.1088/2053-1591/AB38D7": [
        "growth graphene",
        "graphene",
        "amorphous carbon"
       ],
       "10.1089/ECO.2012.0002": [
        "exposure nature",
        "implications psychotherapeutic",
        "nature",
        "behavioral health"
       ],
       "10.1089/neu.2014.3506": [
        "traumatic brain",
        "brain injury",
        "cognition behavior"
       ],
       "10.1089/pho.2016.4233": [
        "radiation dental",
        "laser radiation",
        "dental therapies",
        "injuries pulp"
       ],
       "10.1093/AJE/KWH006": [
        "health disparity",
        "disparity socioeconomic",
        "socioeconomic status",
        "public health"
       ],
       "10.1093/ALCALC/AGG117": [
        "endogenous oestrogens",
        "oestrogens human",
        "oestrogens",
        "androgens"
       ],
       "10.1093/ALCALC/AGL068": [
        "alcohol withdrawal",
        "withdrawal syndrome",
        "withdrawal",
        "severity alcohol"
       ],
       "10.1093/BJSW/BCM054": [
        "child protection",
        "assessment offenders",
        "political scrutiny"
       ],
       "10.1093/CLIPSY/BPG041": [
        "services latinos",
        "latinos",
        "mental health"
       ],
       "10.1093/ELT/56.3.303": [
        "applied linguists",
        "linguists centred",
        "linguists",
        "grammar instruction"
       ],
       "10.1093/ELT/CCQ074": [
        "action research",
        "literature teachers"
       ],
       "10.1093/GERONB/60.SPECIAL_ISSUE_2.S109": [
        "marital quality",
        "poor marital",
        "marital",
        "physical health"
       ],
       "10.1093/GERONI/IGY023.1310": [
        "caregivers older",
        "adults labor"
       ],
       "10.1093/IJLIT/7.1.31": [
        "offender characteristics"
       ],
       "10.1093/JMT/49.1.45": [
        "music therapy",
        "benefits music",
        "interventions cancer",
        "therapy interventions"
       ],
       "10.1093/JPEPSY/27.8.739": [
        "cerebral infarction",
        "establish sickle",
        "affects cognitive",
        "evidence cerebral"
       ],
       "10.1093/MTP/28.2.124": [
        "drug addiction",
        "addiction brain",
        "addiction",
        "compulsive drug"
       ],
       "10.1093/SCHBUL/22.3.405": [
        "schizophrenia patients",
        "countries prevalence"
       ],
       "10.1093/SF/SOY062": [
        "neighborhoods important",
        "neighborhoods",
        "children outcomes"
       ],
       "10.1093/SLEEP/15.4.371": [
        "contamination electroencephalographic"
       ],
       "10.1093/SLEEP/30.12.1779": [
        "restless legs"
       ],
       "10.1093/SLEEP/32.9.1161": [
        "apnea syndrome",
        "apnea",
        "syndrome osas"
       ],
       "10.1093/SW/40.2.263": [
        "community development"
       ],
       "10.1093/arclin/acz034.108": [
        "parkinson disease",
        "parkinson",
        "neurodegenerative disease"
       ],
       "10.1093/brain/awp327": [
        "unilateral neglect",
        "neglect",
        "hemisphere brain"
       ],
       "10.1093/brain/awp345": [
        "neuroscience music",
        "organization music",
        "cognitive organization",
        "verbal knowledge"
       ],
       "10.1093/emph/eox019": [
        "effects traits",
        "life experiences",
        "later life"
       ],
       "10.1093/geroni/igaa057.1682": [
        "adults illness",
        "older adults",
        "decline death"
       ],
       "10.1093/geroni/igz038.1294": [
        "grandparents"
       ],
       "10.1093/jas/skz258.144": [
        "animal agriculture",
        "food security",
        "animal products",
        "agriculture important"
       ],
       "10.1093/ntr/ntw220": [
        "tobacco products",
        "tobacco",
        "chemicals constituents"
       ],
       "10.1093/schbul/sbr030": [
        "late adolescence",
        "schizophrenia typical",
        "neuropsychiatric illnesses"
       ],
       "10.1093/schbul/sbr062": [
        "individuals schizophrenia",
        "schizophrenia",
        "imitate gestures"
       ],
       "10.1093/schbul/sby016.422": [
        "psychotic disorders",
        "mode network",
        "default mode"
       ],
       "10.1097/00004647-200012000-00001": [
        "functional recovery",
        "functional tomographic"
       ],
       "10.1097/00004703-200206000-00010": [
        "children development",
        "impact child"
       ],
       "10.1097/01.ALC.0000141812.81234.A6": [
        "adults alcohol",
        "neural disruption"
       ],
       "10.1097/01.JAA.0000516360.19374.5b": [
        "sustainable services",
        "services priority"
       ],
       "10.1097/01.jcp.0000095344.32154.d3": [
        "efficacy antidepressant",
        "antidepressant treatment",
        "treatment depression"
       ],
       "10.1097/01.psy.0000238216.88515.e5": [
        "symptoms depression",
        "distress psychological",
        "breast cancer"
       ],
       "10.1097/ACM.0000000000001020": [
        "dentistry workforces",
        "diverse backgrounds",
        "persons diverse",
        "representation persons"
       ],
       "10.1097/ADT.0000000000000213": [
        "deficits impulsivity",
        "impulsivity personality",
        "emotion regulation"
       ],
       "10.1097/ANS.0000000000000020": [
        "mothers outcomes",
        "teen mothers",
        "outcomes studies"
       ],
       "10.1097/ANS.0000000000000100": [
        "child cancer",
        "cancer diagnosis",
        "affect parent"
       ],
       "10.1097/MRR.0b013e328331c5c8": [],
       "10.1097/j.pain.0000000000000951": [
        "trigeminal neuralgia",
        "neuralgia",
        "neuropathic pain"
       ],
       "10.1098/rspa.1987.0068": [
        "dropwise condensation",
        "determine condensation",
        "condensation coefficient",
        "measurements dropwise"
       ],
       "10.1101/276592": [
        "ecosystem",
        "fundamental ecosystem",
        "nutrient"
       ],
       "10.1103/PHYSREVB.59.16047": [
        "dielectric oxide",
        "titanate capacitors",
        "memory oxidation",
        "oxide materials"
       ],
       "10.1103/PHYSREVB.95.024103": [
        "glasses amorphous",
        "structures liquids",
        "liquids glasses"
       ],
       "10.1103/PHYSREVMATERIALS.2.104418": [
        "complex oxides",
        "oxides",
        "surfaces interfaces",
        "interfaces complex"
       ],
       "10.1103/PhysRevB.95.195202": [
        "phonon modes",
        "diffusive phonon"
       ],
       "10.1103/PhysRevB.97.115203": [
        "molecular crystals",
        "organic molecular"
       ],
       "10.1103/PhysRevE.85.041120": [
        "oxidation ethanol",
        "electro oxidation",
        "ethanol",
        "ethanol represents"
       ],
       "10.1107/S2053273314099173": [
        "quasicrystals",
        "bulk materials"
       ],
       "10.1108/00035590310492270": [
        "organic coatings",
        "anticorrosive pigments",
        "coatings affected",
        "coatings"
       ],
       "10.1108/01435129910280474": [
        "customer loyalty",
        "commercial contexts",
        "concept customer",
        "link profitability"
       ],
       "10.1108/02621710210423784": [
        "situational leadership",
        "leadership"
       ],
       "10.1108/13666282200900008": [
        "sexuality people",
        "mental health"
       ],
       "10.1108/14608790199800038": [
        "disability social",
        "eligibility social"
       ],
       "10.1108/14779961111148613": [
        "privacy peril",
        "privacy privacy",
        "privacy",
        "privacy definite"
       ],
       "10.1108/EB006902": [
        "oxidation metals",
        "breakaway oxidation",
        "chromium alloys"
       ],
       "10.1108/S1041-7060(2009)0000014007": [
        "social environmental",
        "global problems"
       ],
       "10.1108/S1479-3636(2012)2": [
        "education problem",
        "lack social",
        "groups children"
       ],
       "10.1108/S1479-364420160000018012": [],
       "10.1108/SSRP-01-2018-0006": [
        "educational equality",
        "black women",
        "women contributions",
        "civil rights"
       ],
       "10.1108/eb020227": [
        "pressure boiler",
        "boiler internal",
        "corrosion problems"
       ],
       "10.1108/jsm-06-2019-0220": [
        "customer incivility",
        "consequences customer",
        "negative effects",
        "factors mitigate"
       ],
       "10.1109/16.822286": [
        "degradation dielectric",
        "dielectric breakdown",
        "growth silicon"
       ],
       "10.1109/ACCESS.2020.3003242": [
        "indoor photovoltaic",
        "photovoltaic"
       ],
       "10.1109/APMC.2008.4958519": [
        "miniaturization broadband",
        "broadband antennas",
        "antennas",
        "methods miniaturization"
       ],
       "10.1109/ASEMD.2018.8558976": [
        "cable terminal",
        "nonuniform electric"
       ],
       "10.1109/BMN.2006.330940": [
        "diatoms unicellular",
        "micro algae",
        "diatoms",
        "algae cell"
       ],
       "10.1109/CDC.2008.4738884": [
        "ionic polymer",
        "electroactive polymers",
        "polymer metal",
        "composites ipmcs"
       ],
       "10.1109/CEIDP.1985.7728279": [
        "dielectric",
        "role dielectric"
       ],
       "10.1109/CEIDP47102.2019.9009921": [
        "power faults",
        "pollution flashover",
        "outdoor insulators"
       ],
       "10.1109/CISP.2011.6100494": [
        "ecological structure"
       ],
       "10.1109/CLEOE-EQEC.2019.8872878": [
        "detection liquid",
        "fugitive emissions"
       ],
       "10.1109/CSCITA.2014.6839258": [
        "metamaterials",
        "permittivity permeability",
        "negative permittivity",
        "ultra refraction"
       ],
       "10.1109/DEIV.2014.6961618": [
        "surface discharge"
       ],
       "10.1109/E3S.2017.8246189": [
        "disulfide mos2",
        "tungsten disulfide",
        "metal dichalcogenides"
       ],
       "10.1109/EI2.2017.8245403": [
        "frequency stability",
        "renewable energy",
        "converters control"
       ],
       "10.1109/ELECTRO.2009.5441078": [
        "photonic band"
       ],
       "10.1109/ELINSL.2002.995905": [
        "power transformers"
       ],
       "10.1109/ESIAT.2009.154": [
        "radiation ecosystem"
       ],
       "10.1109/ESTC.2010.5642823": [
        "electronics textiles",
        "integration electronics",
        "textiles",
        "electronics"
       ],
       "10.1109/ESTC.2018.8546394": [
        "pressure sensors",
        "sensitivity temperature"
       ],
       "10.1109/FENDT.2014.6928297": [
        "electromagnetic nondestructive"
       ],
       "10.1109/FUSION.1991.218895": [
        "magnets fusion",
        "fusion applications"
       ],
       "10.1109/GREENTECH.2016.15": [
        "sources hydropower",
        "hydropower",
        "renewable energy",
        "major renewable"
       ],
       "10.1109/GTDASIA.2019.8716013": [
        "bundled conductors",
        "overhead lines",
        "conductor motion",
        "wind induced"
       ],
       "10.1109/HICSS.2003.1174256": [
        "knowledge management",
        "management topic",
        "topic gained",
        "management"
       ],
       "10.1109/IAS.2011.6074291": [
        "discharge reactors",
        "aerosol argon"
       ],
       "10.1109/ICAUMS.2016.8479683": [
        "fabrication fept"
       ],
       "10.1109/ICBBE.2008.1084": [
        "ammonium nitrogen",
        "wetlands",
        "nitrogen",
        "dissolved oxygen"
       ],
       "10.1109/ICCCAS.2018.8768959": [
        "microelectronic applications"
       ],
       "10.1109/ICCEE.2009.140": [],
       "10.1109/ICD.2016.7547805": [
        "cable insulation",
        "cable joint",
        "distribution cable",
        "electric field"
       ],
       "10.1109/ICECENG.2011.6058219": [
        "methane"
       ],
       "10.1109/ICEEICT.2014.6919055": [
        "silane hydrogen",
        "micron silane",
        "vapour deposition"
       ],
       "10.1109/ICEMPE.2019.8727363": [
        "power insulators",
        "external insulation",
        "insulators",
        "insulation equipment"
       ],
       "10.1109/ICEP.2016.7486783": [
        "diodes leds",
        "leds popular",
        "leds"
       ],
       "10.1109/ICEPE-ST.2019.8928759": [
        "emission plasma",
        "metal vapor"
       ],
       "10.1109/ICEPT-HDP.2012.6474604": [],
       "10.1109/ICEPT.2008.4607154": [
        "copper interconnect",
        "interconnect technology",
        "interconnect",
        "connection technology"
       ],
       "10.1109/ICEPT.2015.7236748": [
        "laser diodes",
        "semiconductor laser",
        "power semiconductor",
        "fiber laser"
       ],
       "10.1109/ICEPT.2017.8046470": [
        "integrated circuits"
       ],
       "10.1109/ICEPT.2018.8480582": [
        "dielectric polymer",
        "polymer composites",
        "dielectric",
        "composites capable"
       ],
       "10.1109/ICHVE49031.2020.9279889": [
        "dielectric capacitors",
        "capacitors",
        "dielectric",
        "energy storage"
       ],
       "10.1109/ICHVET.2019.8724179": [
        "transformer insulation",
        "voltage transformer",
        "breakdown voltage"
       ],
       "10.1109/ICICDT.2007.4299548": [
        "gate dielectrics",
        "gate electrode",
        "dielectric constant",
        "constant gate"
       ],
       "10.1109/ICIEA.2012.6361083": [
        "tool spindle",
        "tool precision",
        "machine tool",
        "deformations machine"
       ],
       "10.1109/ICIT.2014.6894884": [
        "phase bidirectional",
        "hybrid electric"
       ],
       "10.1109/ICPADM.1997.616546": [
        "outdoor polymer"
       ],
       "10.1109/ICPES47639.2019.9105512": [
        "steam power",
        "renewable energy"
       ],
       "10.1109/ICPRE.2017.8390663": [
        "penetration renewable",
        "renewable energy",
        "wind photovoltaic",
        "regional power"
       ],
       "10.1109/ICSD.2013.6619693": [
        "epoxy based",
        "epoxy",
        "materials electronic"
       ],
       "10.1109/ICSD.2013.6619836": [
        "plasma sources",
        "temperature plasma",
        "plasma",
        "atmospheric pressure"
       ],
       "10.1109/ICSPACE.2017.8343447": [
        "renewable energy",
        "energy crisis",
        "energy resources",
        "renewable"
       ],
       "10.1109/ICTONMW.2007.4446967": [
        "porous silicon",
        "discovery photoluminescence",
        "photoluminescence properties",
        "photoluminescence"
       ],
       "10.1109/IECON.1999.822160": [
        "lithography",
        "lithography major",
        "process wafer"
       ],
       "10.1109/IGARSS.2013.6723090": [
        "surface salinity",
        "salinity",
        "chemical oceanographers"
       ],
       "10.1109/IIT.2014.6940018": [],
       "10.1109/INTMAG.2015.7156602": [
        "permanent magnets",
        "rare earth",
        "high properties"
       ],
       "10.1109/INTMAG.2015.7157743": [
        "magnetic storage",
        "magnetoresistance",
        "magnetic materials",
        "information magnetic"
       ],
       "10.1109/IPCON.2017.8116160": [
        "semiconductor laser",
        "laser diodes"
       ],
       "10.1109/IRPS.1982.361949": [
        "electromigration",
        "semiconductor devices"
       ],
       "10.1109/IRPS.2009.5173311": [
        "integrated circuits",
        "thermal expansion",
        "mismatch thermal"
       ],
       "10.1109/IRPS.2015.7112672": [
        "finfet devices",
        "devices reliability"
       ],
       "10.1109/IRPS45951.2020.9129517": [
        "hard semiconductor",
        "radiation hard",
        "semiconductor devices",
        "semiconductor"
       ],
       "10.1109/ISAF.2011.6014131": [
        "dielectric ceramics",
        "microwave dielectric",
        "dielectric properties",
        "microwave communication"
       ],
       "10.1109/ISBEIA.2011.6088827": [
        "outdoor spaces",
        "thermal condition",
        "thermal"
       ],
       "10.1109/ISCIT.2018.8587978": [
        "pollution",
        "polluted skies",
        "health cities"
       ],
       "10.1109/ISDEA.2012.143": [
        "domestic sewage",
        "sewage discharged",
        "deterioration jiaghan"
       ],
       "10.1109/ISE.1999.832150": [
        "incinerators municipal",
        "problems exhaust"
       ],
       "10.1109/ISE.2011.6084970": [
        "alkali ions",
        "solid electrolytes",
        "ions solid",
        "energy storage"
       ],
       "10.1109/ITI.2008.4588399": [
        "systematic implementation"
       ],
       "10.1109/ITMQIS.2018.8525122": [],
       "10.1109/IVNC.2006.335212": [
        "carbon nanotubes",
        "nanotubes"
       ],
       "10.1109/IVNC.2015.7225556": [
        "emission properties",
        "field emission",
        "emission",
        "carbon"
       ],
       "10.1109/JMEMS.2012.2189358": [
        "micromachined ultrasound",
        "piezoelectric ultrasound",
        "ultrasound transducers",
        "transducers capacitive"
       ],
       "10.1109/JPHOTOV.2019.2945914": [
        "multijunction solar",
        "solar cells",
        "multijunction technology",
        "extraction multijunction"
       ],
       "10.1109/LED.2018.2808329": [
        "sensors",
        "high temperatures",
        "temperatures"
       ],
       "10.1109/LEOSST.1996.540696": [
        "wavelength division",
        "optical communications"
       ],
       "10.1109/LGRS.2019.2895805": [
        "vegetation index",
        "based vegetation",
        "vegetation"
       ],
       "10.1109/MEMSYS.2005.1453890": [
        "microelectromechanical mems",
        "microelectromechanical"
       ],
       "10.1109/MEMSYS.2013.6474414": [
        "sensors widespread"
       ],
       "10.1109/MODSYM.2006.365218": [
        "excimer lasers",
        "pulsed power",
        "modules excimer"
       ],
       "10.1109/MSMW.2013.6622042": [
        "optical microscopy",
        "optical microscopes",
        "microscopy",
        "microscopes"
       ],
       "10.1109/NANO.2012.6322102": [
        "carbon nanotube",
        "nanotube"
       ],
       "10.1109/NAWDMPV.2014.6997600": [
        "zinc oxide",
        "semiconductor material"
       ],
       "10.1109/PAC.1991.164983": [
        "niobium accelerator",
        "accelerator cavities"
       ],
       "10.1109/PEOCO.2014.6814488": [
        "renewable energy",
        "fossil fuels",
        "conventional energy",
        "importance energy"
       ],
       "10.1109/PERVASIVE.2015.7087196": [
        "environmental pollution",
        "fuels motivated",
        "internal combustion",
        "combustion engines"
       ],
       "10.1109/PES.2010.5589758": [
        "wind power",
        "power systems",
        "quantities wind",
        "impacts power"
       ],
       "10.1109/PGC.2010.5706011": [
        "lithium niobate",
        "niobate linbo3",
        "linbo3",
        "optic piezoelectric"
       ],
       "10.1109/PPID.1999.798795": [
        "gate oxide"
       ],
       "10.1109/PTC.2003.1304522": [
        "discharges power",
        "discharges",
        "equipments symptom",
        "fault component"
       ],
       "10.1109/PVSC.2000.916114": [
        "solar cells",
        "solar"
       ],
       "10.1109/PVSC.2002.1190709": [
        "calibration monolithic",
        "solar cells"
       ],
       "10.1109/PVSC.2010.5614676": [
        "photovoltaics opvs",
        "organic photovoltaics",
        "photovoltaics",
        "power conversion"
       ],
       "10.1109/PVSC.2011.6185932": [
        "solar cell"
       ],
       "10.1109/RAMS.2019.8769239": [
        "detection defects",
        "effective detection"
       ],
       "10.1109/SBEC.2016.101": [
        "printers frequent",
        "fused deposition",
        "printers"
       ],
       "10.1109/SBSE.2018.8395560": [
        "photovoltaic generation",
        "electrical impacts",
        "insertion photovoltaic"
       ],
       "10.1109/SMELEC.2014.6920818": [
        "mosfet technology",
        "mobility transistors",
        "hemts",
        "high electron"
       ],
       "10.1109/SeGAH.2018.8401363": [
        "physical rehabilitation",
        "motivation physical",
        "lack motivation",
        "efficacy rehabilitation"
       ],
       "10.1109/TASC.2009.2017713": [
        "temperature superconductors",
        "superconductors"
       ],
       "10.1109/TASC.2009.2018529": [
        "fabrication yba2cu3oy",
        "yba2cu3oy ybco",
        "yba2cu3oy",
        "coated conductor"
       ],
       "10.1109/TASC.2010.2090638": [
        "cryogenic insulation",
        "voltage cryogenic"
       ],
       "10.1109/TASC.2016.2535152": [
        "conduit conductors",
        "conductors ciccs"
       ],
       "10.1109/TASC.2019.2902756": [
        "cryogenic electronics",
        "integrated cryogenic",
        "conductivity cryogenic",
        "flexible interconnects"
       ],
       "10.1109/TCE.1961.6373116": [
        "electrical failure",
        "failure surface"
       ],
       "10.1109/TCPMT.2012.2187653": [],
       "10.1109/TCPMT.2019.2921738": [
        "electronics modules",
        "modules standard",
        "power electronics",
        "military equipment"
       ],
       "10.1109/TDEI.2014.004521": [
        "silicone rubber"
       ],
       "10.1109/TDEI.2015.004773": [
        "nanofillers polymers",
        "degradation electrical",
        "introduction nanofillers",
        "polymers"
       ],
       "10.1109/TDEI.2019.8726037": [
        "boroaluminosilicate glasses",
        "alkali boroaluminosilicate",
        "temperature dielectric",
        "dielectric applications"
       ],
       "10.1109/TMAG.2003.821203": [
        "magnetoresistance tumr",
        "tunnel magnetoresistance",
        "magnetoresistance"
       ],
       "10.1109/TMAG.2013.2283261": [
        "corona discharge",
        "generated corona"
       ],
       "10.1109/TMAG.2019.2894738": [
        "microwave magnetic",
        "microwave technology",
        "development microwave",
        "magnetic devices"
       ],
       "10.1109/TNS.1983.4332542": [
        "accelerators zebra"
       ],
       "10.1109/TUFFC.2009.1214": [
        "ceramic capacitors",
        "multilayer ceramic",
        "high capacitance"
       ],
       "10.1109/ULTSYM.2002.1192582": [
        "tissues measurable",
        "microstructure biological",
        "biological tissues",
        "heterogeneous microstructure"
       ],
       "10.1109/ULTSYM.2009.5441518": [
        "phononic crystals",
        "crystals periodic",
        "periodic media",
        "gaps dispersion"
       ],
       "10.1109/ULTSYM.2017.8092394": [
        "traffic accidents",
        "safety technologies"
       ],
       "10.1109/VLSIDCS47293.2020.9179902": [
        "nanoscale regime",
        "parasitic capacitance",
        "capacitance"
       ],
       "10.1109/icvris.2018.00030": [
        "irreplaceable advantages"
       ],
       "10.1109/tap.2021.3098586": [
        "microwave absorber",
        "radar stealth",
        "stealth electromagnetic",
        "broadband absorption"
       ],
       "10.1111/1099-1123.00325": [
        "gender diversity",
        "diversity issues"
       ],
       "10.1111/1365-2745.13411": [
        "seagrasses",
        "resistant seabed",
        "seabed contributes",
        "effective coastal"
       ],
       "10.1111/1460-6984.12211": [
        "accent listeners",
        "speaker accent",
        "unfamiliar accent",
        "accent"
       ],
       "10.1111/1467-6494.00140": [
        "personality disorders",
        "psychiatric categories",
        "traits behaviors"
       ],
       "10.1111/1467-9744.00475": [
        "scientific knowledge",
        "science literature",
        "useful fictions"
       ],
       "10.1111/1468-5930.00172": [
        "marriage",
        "westernised societies"
       ],
       "10.1111/1748-8583.12143": [],
       "10.1111/1758-5899.12323": [
        "international relations",
        "international norms",
        "major problems"
       ],
       "10.1111/AVSC.12161": [
        "tropical regions",
        "forest areas",
        "different agricultural"
       ],
       "10.1111/BLD.12211": [
        "underrepresented research",
        "research accounts",
        "young people"
       ],
       "10.1111/ETH.12095": [
        "animals personalities",
        "behaviour animals",
        "cognitive traits",
        "personalities widespread"
       ],
       "10.1111/GEOJ.12121": [
        "mass incarceration",
        "prison walls",
        "incarceration extent",
        "inmate staff"
       ],
       "10.1111/IJAC.12098": [
        "nickel oxide"
       ],
       "10.1111/J.1151-2916.1956.TB15650.X": [
        "complicates dielectric",
        "interfacial polarization",
        "dielectric measurements",
        "dielectric"
       ],
       "10.1111/J.1365-2842.1996.TB00857.X": [
        "dentistry microleakage",
        "microleakage",
        "adhesive dentistry"
       ],
       "10.1111/J.1399-5618.2010.00854.X": [
        "cognition psychiatric",
        "bipolar affective",
        "theory mind"
       ],
       "10.1111/J.1442-9993.2007.01734.X": [
        "rainforest dynamics",
        "tropical rainforests",
        "cyclones tropical",
        "canopy disturbance"
       ],
       "10.1111/J.1467-9221.2005.00421.X": [
        "civic education",
        "effectiveness civics",
        "democratic orientations",
        "civics instruction"
       ],
       "10.1111/J.1467-9221.2012.00879.X": [
        "negative stereotypes",
        "contradictions stereotypes",
        "stereotypes racial",
        "racial attitudes"
       ],
       "10.1111/J.1467-9353.2007.00340.X": [
        "lignocellulosic biomass",
        "biomass biorefinery",
        "biorefinery feedstock",
        "biomass"
       ],
       "10.1111/J.1467-9450.2006.00510.X": [
        "turner syndrome",
        "turner"
       ],
       "10.1111/J.1467-9507.2008.00504.X": [
        "children emotional",
        "emotional responses",
        "anger anxiety"
       ],
       "10.1111/J.1467-9817.2013.01555.X": [
        "disorder adhd",
        "adhd",
        "attention deficit"
       ],
       "10.1111/J.1467-9833.2006.00305.X": [
        "principle sovereignty",
        "sovereignty",
        "international relations",
        "international jurists"
       ],
       "10.1111/J.1468-2850.2009.01196.X": [
        "research substance",
        "treatment dissemination",
        "disappointments studies"
       ],
       "10.1111/J.1468-3148.2008.00433.X": [
        "physical activity",
        "health"
       ],
       "10.1111/J.1470-6431.2007.00661.X": [
        "children worldwide",
        "avid consumers",
        "consumers",
        "product service"
       ],
       "10.1111/J.1475-4762.2011.01035.X": [
        "forest classification",
        "airborne lidar",
        "aerial photographs"
       ],
       "10.1111/J.1475-6765.1973.TB01227.X": [
        "european party",
        "party systems"
       ],
       "10.1111/J.1530-0277.2000.TB04585.X": [
        "alcohol nicotine",
        "nicotine"
       ],
       "10.1111/J.1530-0277.2007.00396.X": [
        "anxiety alcohol",
        "common genes",
        "occurrence anxiety",
        "disorders humans"
       ],
       "10.1111/J.1541-0064.2009.00297.X": [
        "canada education",
        "aboriginal education",
        "education canadians",
        "education canada"
       ],
       "10.1111/J.1545-5300.1978.00313.X": [
        "adoption"
       ],
       "10.1111/J.1745-6584.1985.TB01500.X": [
        "contaminant movement",
        "movement soil",
        "soil zone"
       ],
       "10.1111/J.1745-6606.1992.TB00028.X": [
        "problem homelessness",
        "homelessness",
        "social dilemmas",
        "dilemmas decade"
       ],
       "10.1111/J.1745-9125.2011.00227.X": [
        "gang involved",
        "criminal behavior"
       ],
       "10.1111/J.1750-4716.2010.00063.X": [
        "team cognition",
        "member cognition",
        "cognition representational",
        "team member"
       ],
       "10.1111/J.1750-8606.2011.00175.X": [
        "animal interaction",
        "children health"
       ],
       "10.1111/J.1752-0606.1994.TB01021.X": [
        "therapy marital",
        "therapy mental"
       ],
       "10.1111/J.1759-5436.2010.00119.X": [
        "women political",
        "representation women",
        "feminists world"
       ],
       "10.1111/JACE.12378": [
        "titania"
       ],
       "10.1111/JACE.12387": [
        "minerals pozzolanic",
        "additives cement",
        "cement matrixes",
        "pozzolanic products"
       ],
       "10.1111/JACE.16662": [
        "temperature superconductors",
        "superconductors",
        "superconductors shown"
       ],
       "10.1111/JPPI.12216": [
        "dysphagia significant",
        "dysphagia",
        "intellectual disabilities",
        "disabilities"
       ],
       "10.1111/SIPR.12002": [
        "caregiver distress",
        "decades caregiver",
        "distress psychological"
       ],
       "10.1111/bdi.12236": [
        "unipolar depression",
        "bipolar diathesis",
        "syndrome bipolar",
        "depression manifest"
       ],
       "10.1111/ejn.13386": [
        "smokers motivational",
        "dependence nicotine",
        "nicotine"
       ],
       "10.1111/gbb.12277": [
        "neurotrophic factor",
        "etiology psychiatric"
       ],
       "10.1111/gcbb.12403": [
        "bioenergy crops",
        "perennial bioenergy",
        "crops switchgrass",
        "switchgrass miscanthus"
       ],
       "10.1111/hsc.12309": [
        "homeless families",
        "homelessness population",
        "families fastest",
        "homeless"
       ],
       "10.1111/j.1083-6101.2009.01504.x": [
        "genetic information",
        "health consumers",
        "genetic"
       ],
       "10.1111/j.1365-2788.2007.00974.x": [
        "intellectual disabilities",
        "child intellectual",
        "stressful experience"
       ],
       "10.1111/j.1365-2826.2009.01933.x": [
        "amygdalar dysfunction",
        "linked hypothalamic",
        "anorexia nervosa"
       ],
       "10.1111/j.1399-5618.2010.00856.x": [
        "depressive disorder",
        "self esteem",
        "factor depression"
       ],
       "10.1111/j.1440-1819.1981.tb00220.x": [
        "genetics epilepsy",
        "epilepsy remarkable",
        "epilepsy",
        "research genetics"
       ],
       "10.1111/j.1467-8306.2006.00708.x": [
        "racism transforms",
        "concepts racism",
        "racism subject",
        "racism"
       ],
       "10.1111/j.1467-9280.2009.02298.x": [
        "older individuals"
       ],
       "10.1111/j.1467-954X.1973.tb00482.x": [
        "migration social",
        "internal migration",
        "geographical mobility",
        "mobility internal"
       ],
       "10.1111/j.1467-954X.1987.tb00563.x": [
        "masculinity discussed",
        "masculinity",
        "conceptions masculinity"
       ],
       "10.1111/j.1468-2370.2009.00272.x": [
        "disruptive innovation",
        "innovation theory",
        "disruptive",
        "impact management"
       ],
       "10.1111/j.1469-8986.2009.00968.x": [
        "oxytocin"
       ],
       "10.1111/j.1475-2743.2009.00219.x": [
        "peatlands scotland",
        "peatlands",
        "scotland significant"
       ],
       "10.1111/j.1528-1167.2006.00685.x": [
        "cognitive impairment",
        "people epilepsy",
        "epilepsy general",
        "cognitive function"
       ],
       "10.1111/j.1528-1167.2011.03329.x": [
        "hemisphere epilepsy",
        "epilepsy evaluate",
        "presurgical language",
        "postoperative deficit"
       ],
       "10.1111/j.1529-8817.2003.00741.x": [
        "genus eucalyptus",
        "plantation forestry",
        "plantation species",
        "eucalyptus popular"
       ],
       "10.1111/j.1600-0889.2009.00439.x": [
        "emissions fossil",
        "industrial emissions",
        "buildup atmospheric"
       ],
       "10.1111/j.1601-183X.2005.00183.x": [
        "fragile syndrome",
        "inherited mental",
        "syndrome",
        "mental retardation"
       ],
       "10.1111/j.1754-9434.2010.01300.x": [
        "evidencebased approaches",
        "successful implementation",
        "barriers successful"
       ],
       "10.1111/jace.17034": [
        "piezoelectric electronic",
        "piezoelectric properties",
        "position piezoelectric",
        "solution ceramics"
       ],
       "10.1111/jace.17107": [
        "application photocatalytic",
        "photocatalytic materials",
        "photocatalytic",
        "solar energy"
       ],
       "10.1111/jawr.12263": [
        "estuarine ecosystems",
        "watersheds"
       ],
       "10.1111/jir.12109": [
        "intellectual disability",
        "incarcerated youth",
        "disability"
       ],
       "10.1111/jocn.15499": [
        "impulsive compulsive",
        "behaviours icbs",
        "parkinson disease",
        "complication parkinson"
       ],
       "10.1111/jora.12388": [
        "adolescents lack",
        "lack friends",
        "friends school"
       ],
       "10.1111/jsm.12207": [
        "infertility",
        "aspects infertile",
        "infertile",
        "psychological sexual"
       ],
       "10.1111/jsm.12634": [
        "homosexuality difficult",
        "male homosexuality",
        "sensitivity sexual",
        "sexual orientation"
       ],
       "10.1111/muse.12134": [
        "museums"
       ],
       "10.1111/nrm.12166": [
        "wildlife populations",
        "populations affected",
        "population dynamics",
        "artificial disasters"
       ],
       "10.1111/nyas.12545": [
        "brain representation"
       ],
       "10.1111/pcn.12855": [
        "electroconvulsive therapy",
        "resistant schizophrenia",
        "electroconvulsive",
        "schizophrenia limited"
       ],
       "10.1111/rec.12524": [
        "sagebrush artemisia",
        "conifer woodlands"
       ],
       "10.1111/sum.12039": [
        "soil organic",
        "organic carbon",
        "sustainability natural",
        "natural agricultural"
       ],
       "10.1111/wvn.12020": [
        "arriers evidence",
        "research clinicians"
       ],
       "10.11114/JETS.V2I1.243": [
        "civic participation",
        "youth civic",
        "civic engagement",
        "participation persist"
       ],
       "10.11120/MSOR.2008.08020002": [
        "statistics education",
        "statistics development",
        "statistics",
        "probability distributions"
       ],
       "10.1115/1.1517567": [
        "human craniofacial",
        "cortical bone",
        "craniofacial cortical",
        "ultrasonic determination"
       ],
       "10.1115/1.2822655": [
        "thermal properties",
        "media aerogels",
        "properties porous",
        "aerogels difficulties"
       ],
       "10.1115/1.2826416": [
        "fracture mechanics"
       ],
       "10.1115/1.2911348": [],
       "10.1115/1.3049859": [
        "biological tissues",
        "tissues situ"
       ],
       "10.1115/1.3082403": [
        "supercritical fluids",
        "transfer supercritical",
        "supercritical"
       ],
       "10.1115/1.4006137": [
        "interconnects microelectronics",
        "reliability interconnects",
        "interconnects",
        "microelectronics"
       ],
       "10.1115/1.4006682": [
        "cryopreservation engineered",
        "cryopreservation",
        "engineered tissue"
       ],
       "10.1115/1.4007421": [
        "natural convection",
        "convection",
        "surface cylinder"
       ],
       "10.1115/1.4028166": [
        "turbines",
        "turbines responsible"
       ],
       "10.1115/1.4036961": [
        "thermal stability",
        "fuels evaluated",
        "thermal",
        "stability important"
       ],
       "10.1115/1.4041139": [
        "composites suitable"
       ],
       "10.1115/1.4044825": [],
       "10.1115/1.4047027": [
        "composites",
        "traditional materials"
       ],
       "10.1115/1.4047525": [
        "liquefied petroleum"
       ],
       "10.1115/ESDA2010-25064": [
        "impact penetration",
        "velocity impact",
        "deformation erosion"
       ],
       "10.1115/GT2018-76896": [
        "turbine blade",
        "aerothermal performance",
        "performance turbine",
        "thermal fatigue"
       ],
       "10.1115/HT2005-72625": [],
       "10.1115/HT2007-32699": [
        "coal important",
        "source energy",
        "coal"
       ],
       "10.1115/IMECE2007-42409": [
        "transfer solidification",
        "solidification phenomena"
       ],
       "10.1115/IMECE2013-63898": [],
       "10.1115/IMECE2018-87132": [
        "composite materials",
        "common aerospace",
        "composite",
        "aerospace industry"
       ],
       "10.1115/IMECE2020-23855": [
        "diesel fuels",
        "emission greenhouse",
        "gases environmental",
        "internal combustion"
       ],
       "10.1115/IPACK2003-35015": [
        "reliability solid",
        "efficiency reliability",
        "thermal management"
       ],
       "10.1115/MSEC2011-50048": [
        "plates tubes",
        "structural safety"
       ],
       "10.1115/PVP2018-85101": [
        "reactor vessel",
        "core meltdown",
        "core debris"
       ],
       "10.1115/SBC2008-192799": [
        "aortic valves",
        "engineered heart",
        "heart valves",
        "tissue engineered"
       ],
       "10.1115/detc2019-97826": [
        "operative infections",
        "wound contamination",
        "infectious particulate",
        "particulate wound"
       ],
       "10.1115/icone2020-16277": [
        "hybrid energy",
        "energy nuclear",
        "energy development",
        "global energy"
       ],
       "10.1115/icone28-62097": [
        "modular reactors",
        "reactors"
       ],
       "10.1115/imece2019-11382": [],
       "10.11159/ffhmt20.204": [
        "natural circulation"
       ],
       "10.1116/1.4758922": [
        "ultraviolet nanoimprint",
        "nanoimprint lithography",
        "throughput nanofabrication"
       ],
       "10.1117/1.3609006": [
        "supercontinuum sources",
        "tuned supercontinuum",
        "supercontinuum",
        "wavelength tuned"
       ],
       "10.1117/12.167348": [
        "vapor deposition",
        "interlayer dielectric",
        "silicon dioxide"
       ],
       "10.1117/12.174626": [
        "discharge investigated",
        "current characteristics"
       ],
       "10.1117/12.178523": [
        "microcavity lasers",
        "semiconductor microcavity",
        "lasers created"
       ],
       "10.1117/12.200983": [
        "based heterostructures",
        "heterostructures",
        "znse based"
       ],
       "10.1117/12.2035309": [
        "optical splitters",
        "photonic devices",
        "splitters fundamental",
        "splitters"
       ],
       "10.1117/12.2042347": [
        "superlattices infrared",
        "inassb superlattices",
        "photodiodes inas",
        "infrared photodiodes"
       ],
       "10.1117/12.2045111": [
        "structural health"
       ],
       "10.1117/12.2077492": [
        "cardiotoxicity",
        "drug withdrawal",
        "cardiotoxicity major",
        "withdrawal market"
       ],
       "10.1117/12.2258062": [
        "diamond nitrogen",
        "nitrogen vacancy"
       ],
       "10.1117/12.2271317": [
        "communications terahertz"
       ],
       "10.1117/12.2272727": [
        "perovskites stoichiometry",
        "halide perovskites"
       ],
       "10.1117/12.2278585": [
        "detection measurement",
        "measurement dangerous",
        "cities emissions",
        "dangerous substances"
       ],
       "10.1117/12.2286613": [
        "fiber lasers",
        "lasers require",
        "laser wavelength",
        "reliable fiber"
       ],
       "10.1117/12.2290790": [
        "photoactuation goal"
       ],
       "10.1117/12.2306737": [
        "plasmon resonances",
        "surface plasmon",
        "metal nanoparticles",
        "nanoparticles demonstrate"
       ],
       "10.1117/12.2502709": [
        "optical modulators",
        "photonic devices",
        "compatible photonic",
        "cmos compatible"
       ],
       "10.1117/12.2514364": [
        "acoustic liner",
        "conventional acoustic",
        "acoustic performance"
       ],
       "10.1117/12.267874": [
        "neutrons therapeutic",
        "boron neutron",
        "neutron capture"
       ],
       "10.1117/12.271056": [
        "lasers vcsels",
        "vcsels",
        "vcsels subject",
        "cavity surface"
       ],
       "10.1117/12.370123": [
        "inspection metrology",
        "resolution inspection",
        "semiconductor technology"
       ],
       "10.1117/12.546301": [
        "ultrashort laser",
        "laser pulses"
       ],
       "10.1117/12.590709": [
        "photodynamic therapy",
        "photodynamic dose",
        "photodynamic"
       ],
       "10.1117/12.626110": [
        "nonlinear optical",
        "polymer systems",
        "electron organic"
       ],
       "10.1117/12.649902": [
        "silicon photonic",
        "monolithic silicon",
        "photonic systems",
        "silicon"
       ],
       "10.1117/12.711166": [
        "lithography technology",
        "extreme ultraviolet"
       ],
       "10.1117/12.726905": [
        "plasma plume",
        "laser ablation",
        "characterization plasma",
        "ablation deposition"
       ],
       "10.1117/12.746417": [
        "photonic crystals",
        "photonic"
       ],
       "10.1117/12.777776": [
        "infrared swir"
       ],
       "10.1117/12.807507": [
        "environmental satellite",
        "satellite data",
        "satellite"
       ],
       "10.1117/12.808554": [
        "tool materials",
        "boron nitride",
        "cubic boron"
       ],
       "10.1117/12.836705": [
        "pulses dielectric",
        "laser pulses",
        "short laser"
       ],
       "10.1117/12.880505": [
        "photoacoustic generation",
        "efficiency photoacoustic",
        "photoacoustic"
       ],
       "10.1117/12.888010": [
        "eddies oceanographic",
        "oceans summer",
        "oceanographic patterns",
        "satellite altimetry"
       ],
       "10.1117/12.916944": [
        "magnetic nanoparticles",
        "nanoparticles",
        "magnetic"
       ],
       "10.1117/12.939533": [
        "optical coatings",
        "architectural coatings",
        "displays optical"
       ],
       "10.1117/12.956359": [
        "infrared optical",
        "optical materials",
        "material laser",
        "infrared"
       ],
       "10.1117/2.1200905.1512": [
        "chemical detectors",
        "detectors",
        "inexpensive chemical"
       ],
       "10.11175/EASTPRO.2011.0.148.0": [
        "global environmental",
        "climate",
        "environmental issue"
       ],
       "10.1118/1.4957371": [],
       "10.1121/1.2211587": [
        "fatigue defects",
        "contact fatigue",
        "railway industry"
       ],
       "10.1121/1.429083": [
        "soot emissions",
        "particle soot",
        "problem diesel",
        "diesel powered"
       ],
       "10.1123/JPAH.6.S1.S105": [
        "self regulation",
        "physical activity",
        "self regulatory",
        "regulation physical"
       ],
       "10.1126/SCIENCE.273.5277.882": [
        "temperature superconductivity",
        "superconductivity",
        "high temperature"
       ],
       "10.1126/SCIENCE.277.5327.777": [
        "global carbon",
        "ocean sediments",
        "sediments important"
       ],
       "10.1126/SCIENCE.347.6217.38-J": [
        "materials methods",
        "solar cells",
        "fuel cells"
       ],
       "10.1126/SCIENCE.351.6279.1276-I": [
        "surface science",
        "buildup surfaces"
       ],
       "10.1126/science.363.6424.241-n": [
        "cerebellum manifests",
        "cerebellum",
        "cognitive impairment"
       ],
       "10.1134/S0036029509070039": [
        "steel composition",
        "treatment steel",
        "oxide particles",
        "furnace treatment"
       ],
       "10.1134/S0036029515120046": [],
       "10.1134/S0965545X19040096": [
        "carbone nanotube",
        "based nanocomposites",
        "nanofillers graphene",
        "epoxy based"
       ],
       "10.1134/s106378262007009x": [
        "semiconductor"
       ],
       "10.1136/JNNP-2013-306573.86": [
        "frontotemporal dementia",
        "onset dementia",
        "dementia"
       ],
       "10.1136/jmh.2008.000364": [
        "marginalisation indigenous",
        "indigenous australians",
        "culture health",
        "affected language"
       ],
       "10.1136/jnnp.2008.151530": [
        "dysarthria speech",
        "dysarthria",
        "speech disturbance"
       ],
       "10.1136/jnnp.62.6.549": [
        "consciousness",
        "consciousness focus",
        "nature consciousness",
        "physiologists philosophers"
       ],
       "10.1136/medethics-2019-105938": [
        "ethical guidance",
        "statement ethical",
        "randomised trials",
        "health programmes"
       ],
       "10.1136/oemed-2017-104636.351": [
        "thermal physiology",
        "physical labour",
        "thermal",
        "health threats"
       ],
       "10.1139/CJCE-2016-0379": [
        "disposal sediments"
       ],
       "10.1139/CJFR-2014-0332": [
        "beech fagus",
        "european beech",
        "beech",
        "fagus sylvatica"
       ],
       "10.1139/L04-112": [
        "overburden piles"
       ],
       "10.1139/S06-011": [
        "scarce countries"
       ],
       "10.1139/cjfr-2020-0111": [
        "mesophytic tree",
        "hardwood forests",
        "tree species"
       ],
       "10.1142/S0129183115500631": [
        "mechanisms shale",
        "shale urgent",
        "shale",
        "pore structure"
       ],
       "10.1142/S021797929200195X": [
        "fullerenes",
        "structure fullerenes",
        "dope fullerenes"
       ],
       "10.1142/S0217984919400244": [
        "basalt fiber",
        "basalt"
       ],
       "10.1142/S0219876218430041": [
        "walled structures",
        "walled",
        "aeronautical aerospace"
       ],
       "10.1142/S0578563407001691": [
        "phytoplankton communities",
        "phytoplankton"
       ],
       "10.1142/S1793431119410033": [
        "tsunami",
        "tsunami world",
        "marine disaster",
        "dangerous marine"
       ],
       "10.1145/263814.263841": [
        "ethical decision",
        "ethical",
        "render ethical",
        "white choices"
       ],
       "10.1145/3313831.3376229": [
        "overburdened underfunded",
        "outcomes foster",
        "youth overburdened"
       ],
       "10.1145/3321289.3321566": [
        "plasmonic waveguides",
        "plasmonic",
        "photonic devices",
        "nanoscales diffraction"
       ],
       "10.1145/3429789.3429790": [
        "motorcycles years"
       ],
       "10.1146/ANNUREV-MATSCI-070511-155046": [],
       "10.1146/annurev-soc-121919-054736": [
        "network science",
        "social network",
        "network analysis",
        "social"
       ],
       "10.1149/05047.0015ECST": [
        "corrosion chloride",
        "corrosion",
        "stainless steels"
       ],
       "10.1149/05807.0165ECST": [
        "memory rram",
        "rram devices",
        "storage technology"
       ],
       "10.1149/1.1837951": [
        "niobium oxide",
        "electrochromic materials",
        "cathodic electrochromic"
       ],
       "10.1149/1.2943215": [
        "alloys anodes",
        "lithium batteries",
        "rechargeable lithium",
        "anodes rechargeable"
       ],
       "10.1149/1.2980292": [
        "silicon insulator",
        "semiconductor devices",
        "silicon"
       ],
       "10.1149/1.3481644": [
        "instability nbti",
        "channel mosfets",
        "temperature instability"
       ],
       "10.1149/1.3553362": [
        "organic photovoltaics",
        "photovoltaics",
        "solar energy"
       ],
       "10.1149/1.3697450": [
        "energy storage",
        "redox"
       ],
       "10.1149/2.0231807JSS": [
        "hepatocellular carcinoma",
        "hepatocellular",
        "fatal cancers"
       ],
       "10.1149/2.1721712JES": [
        "thermal runaway",
        "battery thermal",
        "reasons lithium",
        "circuit iscr"
       ],
       "10.1149/ma2010-02/25/1621": [
        "advanced solar",
        "solar power",
        "solar"
       ],
       "10.1149/ma2014-03/2/83": [
        "energy storage",
        "electrical grids"
       ],
       "10.1149/ma2021-0114mtgabs": [
        "batteries libs",
        "scale lithium",
        "renewable energy"
       ],
       "10.1152/jn.00879.2016": [
        "food reward",
        "dopamine neuron"
       ],
       "10.1155/2013/625218": [],
       "10.1155/2014/870649": [
        "foams",
        "cellular solid",
        "solid materials"
       ],
       "10.1155/2015/296486": [
        "hydrogen generation",
        "research hydrogen",
        "hydrogen"
       ],
       "10.1155/2018/1653484": [],
       "10.1155/2018/2487962": [
        "contributions indcs"
       ],
       "10.1155/2018/9620103": [
        "wood fuel",
        "africa dependence",
        "dependence wood",
        "vegetative resources"
       ],
       "10.1155/2019/4356729": [],
       "10.1155/2020/7023616": [
        "production plastic"
       ],
       "10.1155/2020/8219712": [
        "vehicle impact",
        "collapse overall"
       ],
       "10.1155/2020/8820338": [
        "temperature extremes",
        "rapid urbanization"
       ],
       "10.1155/2020/8841221": [
        "nanoparticles biological",
        "synthesis nanoparticles",
        "green synthesis",
        "nanoparticles"
       ],
       "10.1155/2021/5536676": [
        "flame retardants",
        "retardants organic",
        "halogen phosphorus",
        "dispersed polymers"
       ],
       "10.1155/2021/6614195": [
        "prediction groundwater",
        "groundwater depth",
        "groundwater",
        "depth critical"
       ],
       "10.1159/000077582": [
        "kleptomania defined",
        "kleptomania",
        "compulsive spectrum",
        "disorder"
       ],
       "10.1159/000266148": [
        "language impairment",
        "impairment children",
        "impairment"
       ],
       "10.1159/000437302": [
        "prenatal",
        "brain development",
        "outcomes pregnancy"
       ],
       "10.1159/000509210": [
        "psychological resilience",
        "resilience"
       ],
       "10.11606/ISSN.1679-9836.V96ISUPL1P30-30": [
        "ductal carcinoma",
        "breast cancer",
        "malignant neoplasm",
        "carcinoma common"
       ],
       "10.11606/T.11.2017.TDE-02102017-094321": [
        "brazilian biome",
        "brazil cerrado",
        "agricultural resource"
       ],
       "10.1162/jocn.2009.21011": [
        "prefrontal cortex",
        "ventromedial prefrontal"
       ],
       "10.1163/092735208X331881": [
        "marine spatial",
        "integrated coastal",
        "management marine"
       ],
       "10.1163/15685373-12342146": [
        "historians religion",
        "concepts religion",
        "religion spirituality",
        "complex cultural"
       ],
       "10.1163/157181810X499367": [
        "east asia"
       ],
       "10.11637/aba.2019.32.3.101": [
        "anatomical education",
        "cadaver dissection",
        "systematic cadaver"
       ],
       "10.11648/J.AFF.S.2014030601.12": [
        "conversion peat",
        "peat agricultural",
        "peat",
        "drainage fertilizer"
       ],
       "10.1166/JNN.2012.5832": [
        "ultraviolet radiation",
        "ultraviolet",
        "human health"
       ],
       "10.1166/JNN.2012.6653": [
        "drug discovery",
        "pharmaceutical industry"
       ],
       "10.1166/NNL.2020.3219": [
        "chemical biosensors",
        "biosensors poor",
        "biosensors",
        "nanomaterials particles"
       ],
       "10.1166/sl.2020.4237": [
        "carbon nanotubes",
        "multiwalled carbon",
        "nanotubes"
       ],
       "10.1174/021093906776173126": [
        "ambivalence",
        "incorporate ambivalence",
        "ambivalence focal"
       ],
       "10.1175/1520-0450(1990)029<0249:ARTSAT>2.0.CO;2": [
        "atmospheric boundary",
        "surface fluxes",
        "complex terrain"
       ],
       "10.1175/2008WAF2007090.1": [
        "tropical cyclones",
        "cyclones",
        "impacts countries",
        "atlantic basin"
       ],
       "10.1175/2011EI398.1": [
        "forest undergo",
        "future climate"
       ],
       "10.1175/JAMC-D-11-0145.1": [
        "surface atmosphere",
        "atmospheric variables",
        "emissivity spectra",
        "retrievals atmospheric"
       ],
       "10.1175/JHM-D-10-05014.1": [
        "hydrometeorological prediction",
        "interactions hydrometeorological",
        "earth energy"
       ],
       "10.1175/JHM-D-13-0188.1": [
        "streamflow forecasts"
       ],
       "10.1175/jcli-d-18-0877.1": [
        "predictability limit",
        "southern oscillation"
       ],
       "10.1176/AJP.126.2.226": [
        "contemporary psychiatry",
        "psychiatry author",
        "psychiatry",
        "competence ethical"
       ],
       "10.1176/APPI.AJP.162.4.691": [
        "executive dysfunction",
        "major depressive",
        "depressive disorder",
        "major depression"
       ],
       "10.1176/APPI.PSYCHOTHERAPY.1981.35.3.311": [
        "childhood depression",
        "bipolar illnesses",
        "affective disorder",
        "unipolar bipolar"
       ],
       "10.1177/000306518403200119": [
        "psychoanalysis",
        "international scientific",
        "ivithout common"
       ],
       "10.1177/000306518803600414": [
        "sexuality freud",
        "freud",
        "freud based",
        "psyclioanalytic theories"
       ],
       "10.1177/0004944119878480": [
        "illness adolescence",
        "mental illness",
        "childhood emotional",
        "adolescence"
       ],
       "10.1177/0007650319843623": [
        "corporate social",
        "social responsibility"
       ],
       "10.1177/0011128708330852": [
        "offender management",
        "public safety"
       ],
       "10.1177/001112878703300203": [
        "juvenile justice",
        "disparities juvenile",
        "youth juvenile",
        "minority youth"
       ],
       "10.1177/0011392110368004": [
        "globalized education",
        "education social",
        "education"
       ],
       "10.1177/001440297404000801": [
        "accommodate ethnic",
        "school systems",
        "ethnic groups"
       ],
       "10.1177/0018726720912320": [
        "cigarette users",
        "electronic cigarette",
        "users vapers"
       ],
       "10.1177/002193470203200402": [
        "ethnic prejudice",
        "racism",
        "racism ethnic",
        "problems society"
       ],
       "10.1177/0022022110381126": [],
       "10.1177/002216786500500204": [
        "lysergic acid",
        "discovery lysergic"
       ],
       "10.1177/002224379202900102": [
        "relationships"
       ],
       "10.1177/0022343314536915": [
        "international conflict",
        "protracted conflicts"
       ],
       "10.1177/00224669070410030401": [
        "minorities special",
        "special education",
        "placement racial",
        "education investigated"
       ],
       "10.1177/0022487104272057": [
        "child development",
        "postmodern perspectives",
        "childhood teachers",
        "development knowledge"
       ],
       "10.1177/0032329210381238": [
        "religious politics",
        "religious"
       ],
       "10.1177/004005998802000402": [
        "giftedness",
        "gifted children",
        "giftedness created",
        "nature giftedness"
       ],
       "10.1177/004051750207200803": [
        "recyclable biodegrad",
        "biodegrad able",
        "biodegrad",
        "manufactured products"
       ],
       "10.1177/0044118X211008927": [
        "victimization experience",
        "adolescent mental",
        "experience adolescent",
        "association victimization"
       ],
       "10.1177/0093854811429647": [
        "violence orthogonal",
        "instrumental violence",
        "subtypes violence",
        "forensic research"
       ],
       "10.1177/00938548211033329": [
        "psychopathy heterogeneous",
        "psychopathic traits",
        "psychopathy",
        "individuals psychopathic"
       ],
       "10.1177/0145445503259263": [
        "school refusal",
        "refusal behavior"
       ],
       "10.1177/0145482X1611000103": [
        "impairments postsecondary",
        "visual impairments",
        "academic accommodations",
        "students visual"
       ],
       "10.1177/016146817707800308": [
        "educational innovations",
        "innovations reforms"
       ],
       "10.1177/0170840611416739": [
        "professions professionalization",
        "conceptualization professions",
        "professionalization",
        "professions"
       ],
       "10.1177/017084068901000301": [
        "organizational commitment",
        "commitment",
        "psychological model",
        "model organizational"
       ],
       "10.1177/0192513X14522245": [
        "housework smaller",
        "gender roles",
        "egalitarian gender"
       ],
       "10.1177/019263654603014204": [
        "problem attendance",
        "absenteeism school",
        "juvenile delinquency",
        "urgency educators"
       ],
       "10.1177/019874291103600201": [
        "students emotional",
        "emotional behavioral",
        "behavioral disorders",
        "academic behavioral"
       ],
       "10.1177/0255761405052404": [
        "music education",
        "basic musicality",
        "musicality",
        "music"
       ],
       "10.1177/026565909901500305": [
        "language impairment",
        "language disorders",
        "developmental language",
        "impairment"
       ],
       "10.1177/0267323111434580": [
        "political communication",
        "citizens media",
        "popularization politics",
        "politics diffusion"
       ],
       "10.1177/026988110201600116": [
        "panic disorder",
        "serotonin",
        "role serotonin",
        "neurobiological basis"
       ],
       "10.1177/0269881106072192": [
        "classes antidepressants",
        "antidepressants",
        "antidepressants important",
        "psychopharmacology"
       ],
       "10.1177/0269881108093270": [
        "depressive disorder",
        "major depressive",
        "depressive"
       ],
       "10.1177/0269881113490449": [
        "potential schizophrenia",
        "auditory event",
        "brain abnormalities"
       ],
       "10.1177/0272431689091003": [
        "school transitions",
        "school transition"
       ],
       "10.1177/0305735613485152": [
        "concurrent cognitive",
        "cognitive task",
        "music",
        "presence music"
       ],
       "10.1177/0307174X0202901216": [
        "properties elastomers",
        "elastomers",
        "tribological properties",
        "tribological"
       ],
       "10.1177/03080226211018153": [],
       "10.1177/0308575917747816": [
        "adoption"
       ],
       "10.1177/0309133308091951": [
        "drought",
        "availability drought",
        "drought primary",
        "climatic variations"
       ],
       "10.1177/03611981211020008": [
        "road users",
        "weather events",
        "collisions inclement"
       ],
       "10.1177/0731684405048200": [
        "industrial residues",
        "utilization agro",
        "agro industrial",
        "residues"
       ],
       "10.1177/0731684411433186": [
        "secondary sludge",
        "sludge pulp",
        "filler composite",
        "sludge"
       ],
       "10.1177/073401680402900206": [
        "sexual abuse",
        "sexual victimization",
        "child sexual",
        "issue children"
       ],
       "10.1177/0734242X09352505": [],
       "10.1177/0741932510362174": [
        "children autism"
       ],
       "10.1177/0743554895104001": [
        "youth riskfor",
        "youth",
        "ournation youth",
        "poverty"
       ],
       "10.1177/0886260511403745": [],
       "10.1177/0887403400011002004": [
        "women incarcerated",
        "female offenders"
       ],
       "10.1177/088840640502800403": [
        "teacher attrition",
        "special education",
        "education teacher"
       ],
       "10.1177/0954405413499011": [
        "strength steel",
        "steel",
        "sheet metal",
        "impact resistance"
       ],
       "10.1177/0956247815583253": [
        "urban sanitation",
        "sanitation",
        "theoretical urban"
       ],
       "10.1177/0956797611435528": [
        "traits heritable",
        "general intelligence",
        "behavioral traits",
        "traits"
       ],
       "10.1177/0956797619841813": [
        "speech perception",
        "linguistic information",
        "perceptual responses"
       ],
       "10.1177/0957154X0201304901": [
        "personality disorder",
        "identity disorder"
       ],
       "10.1177/0957650920939344": [
        "cavitation",
        "cavitation significant",
        "vibration corrosion",
        "rudders hydraulic"
       ],
       "10.1177/096100067901100401": [
        "children migrate",
        "migrate parents",
        "parents subjected",
        "parents"
       ],
       "10.1177/097172189900400107": [
        "feminism",
        "feminism complex"
       ],
       "10.1177/1045389X9600700504": [
        "unwanted vibrations",
        "vibrations structures",
        "design tolerances",
        "components lighter"
       ],
       "10.1177/1049732303259865": [
        "qualitative researchers",
        "qualitative",
        "researchers",
        "dilemma"
       ],
       "10.1177/105256298801300404": [
        "diversity curriculum",
        "curriculum diverse",
        "behavior professionals",
        "organizational behavior"
       ],
       "10.1177/105381518200500110": [
        "disabilities",
        "disabilities definition"
       ],
       "10.1177/1056789520904119": [
        "mechanical properties"
       ],
       "10.1177/1059840516654743": [
        "adolescents health",
        "adolescents western",
        "trend adolescents"
       ],
       "10.1177/1077800416669691": [
        "ethnographic representation",
        "ethnographic analytic",
        "anthropology author",
        "accounts fieldwork"
       ],
       "10.1177/1078390307310154": [
        "children adolescents"
       ],
       "10.1177/1090198117740612": [
        "intervention research",
        "population health",
        "health intervention",
        "research communities"
       ],
       "10.1177/1099800410388638": [
        "inflammatory bowel",
        "bowel disease"
       ],
       "10.1177/1177180118796870": [
        "research indigenous",
        "indigenous peoples",
        "histories exploitation"
       ],
       "10.1177/1329878X9909000107": [
        "journalism educators",
        "journalists journalism",
        "study journalism",
        "journalism"
       ],
       "10.1177/1356336X13495632": [
        "physical education",
        "status educational",
        "physical",
        "cognitive development"
       ],
       "10.1177/1359105308095962": [
        "socioeconomic status",
        "behaviour socioeconomic",
        "health status",
        "differentials health"
       ],
       "10.1177/1359786806064306": [
        "depression remission",
        "remission lacks",
        "treatment depression",
        "remission"
       ],
       "10.1177/1362168814541735": [
        "phonetics instruction",
        "instruction affects",
        "second language"
       ],
       "10.1177/1368430217750475": [
        "collective action",
        "scarcity research"
       ],
       "10.1177/1420326X11420586": [
        "exposure radon",
        "radon",
        "health hazard"
       ],
       "10.1177/1420326X9300200502": [
        "ventilation",
        "indoor environ",
        "protection indoor"
       ],
       "10.1177/1463499604042815": [
        "late modernity",
        "political space",
        "social worlds",
        "concept nation"
       ],
       "10.1177/1465750317722114": [
        "entrepreneurial intentions",
        "individuals entrepreneurial",
        "entrepreneurial"
       ],
       "10.1177/1521025118796633": [
        "status students"
       ],
       "10.1177/1534650103256277": [
        "behavioral therapy",
        "anxiety disorders",
        "respond treatment"
       ],
       "10.1177/1534650117706544": [
        "movement disorders",
        "functional movement",
        "disorders"
       ],
       "10.1177/15346501211020122": [
        "veterans civilians"
       ],
       "10.1177/1541931214581093": [
        "boredom emotion",
        "boredom",
        "emotion negative"
       ],
       "10.1177/1744987117732615": [
        "chronic illness",
        "health self",
        "physical health"
       ],
       "10.1177/1750698010374287": [
        "kinds memory",
        "memory unitary",
        "unitary phenomenon"
       ],
       "10.1177/1847980418761283": [
        "nano modification",
        "lightweight cement",
        "cement based",
        "based concrete"
       ],
       "10.1177/1948550613479804": [
        "tendency parents",
        "parents prioritize",
        "child centrism",
        "prioritize children"
       ],
       "10.1177/2096595819896200": [
        "affective",
        "people affective",
        "computer interactions"
       ],
       "10.1177/2165143418756609": [
        "intellectual disabilities",
        "adults intellectual",
        "sexual knowledge",
        "access sexual"
       ],
       "10.1177/2167702618810223": [
        "psychopathology",
        "psychological constructs"
       ],
       "10.1177/2167702620906147": [
        "affective dysfunction",
        "negative mood",
        "negative affective",
        "maladaptive experiences"
       ],
       "10.1177/2516103220902778": [
        "maltreated children",
        "trauma"
       ],
       "10.1179/016164110X12767786356516": [
        "tenderness fibromyalgia",
        "fibromyalgia"
       ],
       "10.1179/026708301125000267": [
        "failure materials",
        "cavitate deformation",
        "cavitation",
        "tend cavitate"
       ],
       "10.1179/1743280414Y.0000000042": [
        "microwave"
       ],
       "10.1179/174328108X378152": [
        "blast furnace",
        "coal blast"
       ],
       "10.1179/174329006X110853": [
        "powder binder",
        "metals ceramics",
        "performance metals"
       ],
       "10.1179/174329406X122900": [],
       "10.1179/174951409X12542264514202": [],
       "10.1179/MST.1985.1.6.417": [
        "zirconia ceramics",
        "future zirconia",
        "zirconia",
        "ceramics structural"
       ],
       "10.1186/1472-6920-10-8": [
        "psychological distress",
        "medical students",
        "distress",
        "distress common"
       ],
       "10.1186/1744-9081-6-76": [
        "fatigue syndrome",
        "chronic fatigue",
        "fatigue",
        "illness multisystem"
       ],
       "10.1186/2045-5380-2-11": [
        "comorbid depression",
        "social anxiety",
        "depression social",
        "depressive disorder"
       ],
       "10.1186/2194-6434-1-16": [
        "ecosystems impacts",
        "imposed ecosystems",
        "global footprint"
       ],
       "10.1186/S41610-017-0055-Y": [
        "climatic factors"
       ],
       "10.1186/s11671-017-1947-6": [
        "amplifiers edfas",
        "fibers edfs",
        "fiber amplifiers",
        "doped fiber"
       ],
       "10.1186/s12868-015-0186-y": [
        "methamphetamine",
        "nervous stimulant",
        "stimulant"
       ],
       "10.1186/s12888-016-0988-1": [
        "depression anxiety",
        "symptoms depression",
        "depression",
        "anxiety influential"
       ],
       "10.1186/s12888-016-1051-y": [
        "comprehend difficulty",
        "severe mental",
        "mental illness"
       ],
       "10.1186/s12888-017-1326-y": [
        "self injury",
        "injury nssi",
        "nonsuicidal self",
        "nssi"
       ],
       "10.1186/s12888-017-1348-5": [
        "excessive alcohol",
        "alcohol",
        "legal problems"
       ],
       "10.1186/s12909-020-02110-8": [
        "students clinical",
        "skills medical",
        "systematic assessment"
       ],
       "10.1186/s12938-015-0085-6": [
        "generated cavitation",
        "cavitation",
        "ultrasound generated"
       ],
       "10.1186/s13033-016-0069-3": [
        "development adolescents",
        "adolescents cognitions",
        "esteem emotional"
       ],
       "10.1186/s13584-020-00375-4": [
        "physician relationships",
        "patient physician",
        "academia practitioners",
        "relationships general"
       ],
       "10.1186/s13722-020-0184-y": [
        "hookah",
        "attitude hookah"
       ],
       "10.1186/s13750-016-0053-z": [
        "soil organic",
        "loss soil",
        "threats soils",
        "organic carbon"
       ],
       "10.1186/s40064-016-2062-3": [
        "propagation electromagnetic"
       ],
       "10.1186/s40101-019-0209-y": [
        "autonomic responses",
        "theory emotion",
        "emotion specific",
        "responses emotional"
       ],
       "10.1186/s40623-016-0478-1": [
        "ionospheric anomalies",
        "anomalies equatorial",
        "ionospheric",
        "investigation ionospheric"
       ],
       "10.1186/s42269-019-0222-7": [
        "tillage",
        "soil organic"
       ],
       "10.1186/s42834-019-0035-2": [
        "emissions coal",
        "rice husk",
        "environmental problems"
       ],
       "10.1190/1.3509782": [
        "seismic attenuation",
        "attenuation fluid",
        "fluid saturated"
       ],
       "10.1192/bjp.bp.107.038935": [
        "severity depressive",
        "depressive episodes",
        "course depressive",
        "depressive disorder"
       ],
       "10.1201/b10552-148": [
        "moisture",
        "properties materials"
       ],
       "10.1207/S15326942DN2001_7": [
        "laterality cognitive",
        "laterality",
        "cognitive skills",
        "correlations laterality"
       ],
       "10.1207/S15327957PSPR0402_05": [
        "self disclosure",
        "disclosure broad",
        "disclosure"
       ],
       "10.1207/S15566935EED0503_2": [],
       "10.1207/s15327671espr1003_4": [
        "implementation child",
        "schools nation"
       ],
       "10.1209/0295-5075/ac0ad6": [
        "thermal metamaterials",
        "metamaterials demonstrated",
        "metamaterials"
       ],
       "10.1243/09544119JEIM139": [
        "joint implants",
        "artificial joint",
        "prosthesis"
       ],
       "10.12691/JOR-4-1-2": [
        "foraminifera marine",
        "foraminifera",
        "marine microorganisms",
        "functions oceans"
       ],
       "10.12783/DTEM/ICSSED2018/20305": [
        "solar energy",
        "energy important",
        "basic energy",
        "various renewable"
       ],
       "10.12783/DTSSEHS/AEMS2018/27969": [
        "english classroom",
        "language important",
        "english world"
       ],
       "10.12783/asc34/31313": [
        "determination shear",
        "reinforced composites",
        "strain modulus"
       ],
       "10.12783/dtssehs/icaem2017/18963": [
        "language anxiety",
        "anxiety important",
        "foreign language",
        "factors language"
       ],
       "10.1287/isre.2014.0522": [
        "threat individuals",
        "major threat"
       ],
       "10.12928/TELKOMNIKA.V17I5.12806": [
        "sulphur hexafluoride",
        "hexafluoride"
       ],
       "10.1299/KIKAIA.57.1839": [
        "thermoelastic displacement",
        "thermoelastic problems",
        "thermoelastic",
        "displacement potential"
       ],
       "10.1299/KIKAIA.67.1520": [
        "graphite nodules",
        "spheroidal graphite",
        "graphite cast",
        "defects microshrinkage"
       ],
       "10.1300/J010V13N03_03": [
        "standards retain"
       ],
       "10.1300/J076V34N01_03": [
        "incarcerated women",
        "incarcerated",
        "mental health"
       ],
       "10.1300/J083V39N01_14": [
        "gerontological content"
       ],
       "10.1300/J086V19N03_02": [
        "sexual trauma",
        "survivors intimate",
        "trauma",
        "impacts survivors"
       ],
       "10.1300/J251V06N02_06": [
        "cocaine quite",
        "cocaine"
       ],
       "10.13016/M26688N9S": [
        "simulations wildfire",
        "wildfire spread",
        "spread simulators"
       ],
       "10.13031/2013.17751": [],
       "10.13031/2013.19548": [
        "bulk solids",
        "solids conducted",
        "storage characteristics",
        "solids"
       ],
       "10.13044/j.sdewes.d8.0340": [
        "sustainable biomass",
        "fossil fuels"
       ],
       "10.13058/raep.2020.v21n3.1809": [
        "impacts society"
       ],
       "10.13083/1414-3984.V22N04A04": [
        "biogas anaerobic",
        "purified biogas",
        "generator engine",
        "fuelled purified"
       ],
       "10.13227/j.hjkx.201708208": [
        "soil carbon",
        "carbon pools",
        "dissolved organic",
        "pools tibetan"
       ],
       "10.13227/j.hjkx.201905167": [
        "steroid hormones",
        "seawater rare",
        "studied freshwater",
        "characteristics seawater"
       ],
       "10.13287/j.1001-9332.201805.020": [
        "isotopes river",
        "stable isotopes",
        "regional hydrologic"
       ],
       "10.1346/CCMN.2016.0640412": [
        "hydrated montmorillonite",
        "montmorillonite",
        "montmorillonite important",
        "clay mineralogy"
       ],
       "10.1348/0963179042596469": [
        "advocates teamwork",
        "teams enhance",
        "teamwork",
        "performance empirical"
       ],
       "10.1352/2326-6988-9.2.78": [
        "inclusive classrooms",
        "social isolation",
        "confront barriers",
        "children complex"
       ],
       "10.1353/CON.2016.0021": [
        "collaborations scientists",
        "engagement science",
        "scientific research"
       ],
       "10.1353/dss.0.0065": [
        "internet democracy",
        "impact internet"
       ],
       "10.1353/etc.2018.0029": [
        "scientific domains",
        "scientific"
       ],
       "10.1353/mpq.2002.0012": [
        "role emotionality",
        "emotionality",
        "children social"
       ],
       "10.1353/nlh.2013.0033": [
        "confusions humanities",
        "crisis humanities",
        "humanities foregrounds",
        "humanities"
       ],
       "10.1360/n092014-00389": [
        "barrier discharge",
        "dielectric barrier",
        "nanosecond pulse"
       ],
       "10.1364/AO.53.006256": [
        "quality mirrors",
        "mirrors affordable",
        "mirrors"
       ],
       "10.1364/AO.55.009703": [
        "dispersions emulsions",
        "colloidal",
        "suspensions dispersions",
        "concentration particulate"
       ],
       "10.1364/JSAP.2013.16A_D4_5": [
        "optoelectronic devices"
       ],
       "10.1364/OE.17.008253": [
        "laser irradiation",
        "components laser",
        "laser"
       ],
       "10.1364/OE.24.00A476": [
        "shortwave radiation",
        "surface radiation",
        "radiation budget"
       ],
       "10.1364/OE.27.017322": [
        "tomography"
       ],
       "10.1364/OL.43.000030": [
        "optical tools",
        "micro nano"
       ],
       "10.1364/OME.3.001428": [
        "engineered surfaces",
        "surfaces tailored",
        "microscale shapes",
        "fabrication complex"
       ],
       "10.1364/SOLED.2014.DW2C.1": [
        "laser diodes"
       ],
       "10.1364/ao.440371": [
        "crystal fibers",
        "photonic crystal"
       ],
       "10.1366/000370256774633791": [],
       "10.1371/journal.pone.0127359": [
        "youth suicide",
        "suicide",
        "youth",
        "suicide major"
       ],
       "10.1371/journal.pone.0164072": [
        "huntington disease",
        "huntington"
       ],
       "10.1371/journal.pone.0240600": [
        "spinal cord",
        "spinal"
       ],
       "10.14198/elua2020.34.8": [
        "food important",
        "survival food",
        "economics anthropology"
       ],
       "10.14203/widyariset.4.1.2018.37-48": [
        "greenhouse gasses",
        "digestion wastewater",
        "anaerobic digestion"
       ],
       "10.14221/AJTE.2018V43N3.5": [
        "cultural diversity",
        "attention teachers",
        "respond cultural",
        "failure educational"
       ],
       "10.14257/ASTL.2017.145.30": [
        "malaysia drought",
        "drought affected",
        "drought"
       ],
       "10.14279/DEPOSITONCE-2031": [
        "opto electronic",
        "alloys emerged"
       ],
       "10.14288/1.0053956": [
        "disadvantage widows",
        "widows"
       ],
       "10.14359/12736": [
        "dispersion concrete",
        "concrete properties",
        "concrete impact"
       ],
       "10.14412/2074-2711-2013-2458": [
        "impairments epilepsy",
        "epilepsy",
        "cognitive impairments",
        "epilepsy current"
       ],
       "10.14419/IJET.V7I2.1.9879": [
        "offshore structures",
        "ocean beds",
        "construction offshore",
        "marine deposits"
       ],
       "10.14426/JSAA.V4I1.145": [
        "preparedness students",
        "higher education",
        "education issue"
       ],
       "10.14718/ACP.2021.24.1.8": [
        "body standards",
        "body appearance",
        "mental health",
        "aesthetic unattainable"
       ],
       "10.14773/cst.2018.17.6.317": [
        "accelerated corrosion"
       ],
       "10.1504/IJMMM.2017.084007": [
        "fatigue resistance",
        "surface quality"
       ],
       "10.1504/IJNT.2008.019840": [
        "fluoride nanoparticles",
        "luminescence lanthanide",
        "doped fluoride"
       ],
       "10.1504/IJWOE.2019.10023351": [
        "happiness subject",
        "happiness",
        "overall emotional",
        "studies psychology"
       ],
       "10.1504/ijogct.2020.10027850": [
        "coal production",
        "efficient coal",
        "eliminate coal"
       ],
       "10.1504/ijsa.2019.10026917": [
        "aviation developments",
        "future aviation"
       ],
       "10.1515/9780804771115": [
        "psychiatric classifications",
        "classification culture",
        "psychiatric",
        "culture universal"
       ],
       "10.1515/CORRREV.1988.8.1-2.87": [],
       "10.1515/IP.2007.012": [
        "sociolinguistic competence",
        "pragmatics sociolinguistics",
        "interlanguage pragmatics",
        "pragmatic sociolinguistic"
       ],
       "10.1515/JMBM.2002.13.5-6.297": [
        "metallic biomaterials",
        "various biomaterials",
        "biomaterials",
        "metallic"
       ],
       "10.1515/MSP-2015-0121": [
        "alloy clusters",
        "nano alloy",
        "metallic nano",
        "clusters active"
       ],
       "10.1515/auscom-2017-0006": [
        "routines parents",
        "frustration confusion"
       ],
       "10.1515/commun-2017-0045": [
        "refugees germany"
       ],
       "10.1515/corrrev.2008.105": [
        "offshore pipelines",
        "cathodic protection"
       ],
       "10.1515/fas-2016-0005": [
        "materials scientists",
        "importance materials"
       ],
       "10.1515/humaff-2018-0007": [
        "environmental crisis",
        "human development",
        "environmental"
       ],
       "10.1515/ijamh-2013-0063": [],
       "10.1515/ijmr-2001-0181": [
        "titanium aluminides",
        "phase titanium",
        "peritectic solidification",
        "cast products"
       ],
       "10.1515/jlt-2011-0005": [
        "trauma",
        "results trauma",
        "violent event"
       ],
       "10.1515/lehr-2017-0010": [
        "animal rights",
        "acknowledgement animal",
        "emerged organizations"
       ],
       "10.1515/rams-2020-0005": [
        "osteoconductivity biomaterial",
        "polylactic acid",
        "biomaterial acidic"
       ],
       "10.1515/sh-2015-0016": [
        "intentionality nature",
        "intentionality",
        "discussion intentionality",
        "nature sophisticated"
       ],
       "10.15160/2038-1034/1593": [
        "science stimulates",
        "scientific disciplines",
        "disciplines crisis",
        "curiosity young"
       ],
       "10.15167/2421-4248/jpmh2020.61.1.839": [
        "affected income",
        "financial crisis",
        "income citizens"
       ],
       "10.15175/1984-2503-201911208": [
        "criminological analyses",
        "criminological",
        "criminal policy",
        "field criminological"
       ],
       "10.1520/CTR10957J": [
        "cryogenic fuel",
        "materials cryogenic",
        "fuel tanks",
        "structure leakage"
       ],
       "10.1520/GTJ14014": [
        "unsaturated soils",
        "soils",
        "issue soil"
       ],
       "10.1520/JTE20130030": [
        "viscoelastic asphalt",
        "asphalt binder",
        "stability asphalt",
        "asphalt pavement"
       ],
       "10.1520/JTE20210011": [
        "concrete pavements",
        "pervious concrete",
        "interconnected pores"
       ],
       "10.1520/STP30114S": [
        "strength masonry",
        "masonry unit",
        "block masonry",
        "capacity concrete"
       ],
       "10.1520/STP34723S": [
        "pollution control"
       ],
       "10.1521/JSCP.2005.24.5.621": [
        "interpersonal forgiveness",
        "self forgiveness",
        "forgiveness"
       ],
       "10.1523/JNEUROSCI.0175-05.2005": [
        "deficits brain",
        "neuropsychiatric disorders",
        "brain structure"
       ],
       "10.1523/JNEUROSCI.2005-14.2014": [
        "moral judgments",
        "deliberation intuition",
        "judgments"
       ],
       "10.1523/JNEUROSCI.2085-11.2011": [
        "olfactory alzheimer",
        "alzheimer disease",
        "synaptic dysfunction",
        "olfactory"
       ],
       "10.1523/JNEUROSCI.21-04-01401.2001": [
        "plasticity synaptic",
        "synaptic transmission",
        "synaptic",
        "responsiveness neurotransmitter"
       ],
       "10.1523/JNEUROSCI.3907-13.2014": [
        "disability brain",
        "disability"
       ],
       "10.1523/JNEUROSCI.5846-11.2012": [
        "compromised competition"
       ],
       "10.15244/PJOES/84919": [
        "source microalgae",
        "microalgae",
        "biofuel bioproducts",
        "biofuel"
       ],
       "10.15244/pjoes/112061": [
        "household indoor",
        "solid fuel"
       ],
       "10.1525/ELEMENTA.149": [
        "coastal ocean",
        "origins biogenic",
        "particles origins"
       ],
       "10.1525/MP.2012.30.1.1": [
        "congenital amusia",
        "melodies",
        "amusia difficulty",
        "individuals congenital"
       ],
       "10.1525/SI.2004.27.3.429": [
        "queer theorists",
        "body topic",
        "feminist queer",
        "social theory"
       ],
       "10.15255/CABEQ.2018.1384": [
        "gasification carbonaceous"
       ],
       "10.15282/IJAME.12.2015.11.0246": [
        "solar collectors",
        "power generation",
        "collectors power"
       ],
       "10.15288/JSAD.2007.68.738": [
        "positive addiction",
        "addiction treatment"
       ],
       "10.15288/JSAD.2016.77.696": [
        "genetics addiction",
        "addiction",
        "nonhuman animals"
       ],
       "10.15295/v6i3.361": [],
       "10.1533/978-1-78242-164-1.419": [],
       "10.1533/9780857090829.2.99": [
        "plasma",
        "industrial applications"
       ],
       "10.15332/S1794-9998.2014.0001.03": [
        "allocate research",
        "results academic",
        "universities allocate",
        "academic products"
       ],
       "10.15389/agrobiology.2017.6.1105eng": [
        "products meat",
        "competitiveness meat"
       ],
       "10.15392/BJRS.V7I2B.429": [
        "petroleum byproducts",
        "interconnected pipelines",
        "quantities petroleum"
       ],
       "10.15392/BJRS.V9I1A.1573": [
        "martensitic steels",
        "steels hardened"
       ],
       "10.15392/bjrs.v8i1.1008": [
        "production phosphoric",
        "phosphogypsum",
        "worldwide stockpiled"
       ],
       "10.15405/EPSBS.2016.11.20": [
        "disruptive behavior",
        "disruptive",
        "behavior defined"
       ],
       "10.1541/IEEJSMAS.130.570": [
        "fiber bragg",
        "structural health"
       ],
       "10.15446/esrj.v24n1.79728": [
        "industrial processes",
        "radioactive sources",
        "natural radioactive",
        "processes control"
       ],
       "10.15453/2168-6408.1484": [
        "doctorate occupational",
        "occupational therapist",
        "require doctorate",
        "clinical doctorate"
       ],
       "10.1556/JBA.2.2013.018": [
        "compulsive"
       ],
       "10.1557/JMR.2008.0153": [
        "grain refinement"
       ],
       "10.1557/PROC-22-183": [
        "thermodynamic properties",
        "properties materials",
        "materials kbars",
        "high pressure"
       ],
       "10.1557/PROC-443-3": [
        "dielectric constant",
        "dielectric"
       ],
       "10.1557/PROC-744-M8.17": [
        "optical waveguides"
       ],
       "10.1557/PROC-976-0976-EE09-10": [
        "strain properties",
        "destructive indentation"
       ],
       "10.1557/S0883769400035879": [
        "ferroelectric"
       ],
       "10.1558/JASR.V19I2.221": [
        "hermeneutics religious",
        "religious literature",
        "feminist studies",
        "christianity ancient"
       ],
       "10.1558/JSRNC.V9I1.26504": [
        "anthropogenic climate",
        "consequences anthropogenic",
        "religious elites"
       ],
       "10.15581/004.12.%P": [
        "education burnout",
        "problem teachers",
        "burnout",
        "psychology"
       ],
       "10.15623/IJRET.2015.0405079": [
        "pavement weaker",
        "weaker soil",
        "soil subgrade",
        "life pavement"
       ],
       "10.15760/ETD.693": [
        "terahertz",
        "wavelengths"
       ],
       "10.1577/C08-056.1": [
        "fishery management",
        "based fishery",
        "fishery",
        "management ecosystem"
       ],
       "10.15835/buasvmcn-fst:2019.0031": [
        "food contact",
        "contact materials",
        "food quality"
       ],
       "10.15866/IRECE.V6I4.7972": [
        "hsla steels",
        "alloy hsla",
        "welded pipes",
        "production welded"
       ],
       "10.15866/IREMOS.V9I2.6214": [
        "carbon nanotubes",
        "nanotubes popular",
        "nanotubes"
       ],
       "10.1590/1516-1439.298014": [
        "synthetic hydroxyapatite",
        "hydroxyapatite",
        "natural bone"
       ],
       "10.1590/1984-6398201914819": [
        "mobile devices",
        "mobile",
        "teacher education",
        "popularity mobile"
       ],
       "10.1590/S0001-37652010000100004": [
        "silicate hydrates",
        "portland cements",
        "calcium silicate",
        "clays calcium"
       ],
       "10.1590/S0034-72992006000600012": [
        "tinnitus",
        "life quality"
       ],
       "10.1590/S0101-73302002000200015": [
        "modernity childhood",
        "childhood social",
        "second modernity",
        "children prevailed"
       ],
       "10.1590/S0102-311X2005000300035": [
        "health outcomes",
        "association social"
       ],
       "10.1590/S1413-81232011000800013": [
        "population brazil",
        "demographic transition"
       ],
       "10.1590/S1414-98932013000200013": [
        "psychological assessment",
        "assessment",
        "professional performance",
        "inadequate professional"
       ],
       "10.1590/S1516-14392005000400019": [
        "transformation austenite",
        "metastable austenitic",
        "austenite martensite",
        "austenitic stainless"
       ],
       "10.1598/JAAL.52.6.2": [
        "educators",
        "rapid technological",
        "technological"
       ],
       "10.1606/1044-3894.3615": [
        "nonresidential fathers",
        "adults neglected",
        "neglected social",
        "unmarried adults"
       ],
       "10.1615/atoz.g.grosouheapum": [
        "ground source"
       ],
       "10.1617/2351580028.060": [
        "fresh concrete",
        "rheology fresh"
       ],
       "10.1650/CONDOR-14-41.1": [
        "turbines wildlife",
        "affect wildlife",
        "effects wind",
        "wind energy"
       ],
       "10.1672/0277-5212(2003)023[0827:SHRCOC]2.0.CO;2": [
        "irrigation",
        "aquatic ecosystems",
        "impact aquatic"
       ],
       "10.1680/MAEN.14.00020": [
        "gravel beaches",
        "beaches barriers"
       ],
       "10.16966/2378-7090.372": [
        "inhalable medication",
        "aerosolized drugs",
        "drugs turbulent",
        "interaction oropharyngeal"
       ],
       "10.16995/DSCN.159": [
        "electronic social",
        "social spaces",
        "communication technologies",
        "community citizenship"
       ],
       "10.17227/PPO.NUM6-1106": [
        "omentum historical",
        "concept identity",
        "identity"
       ],
       "10.17265/1539-8080/2016.09.005": [
        "education reform",
        "technology education",
        "inevitable topic",
        "modern science"
       ],
       "10.17277/AMT.2016.02.PP.061-068": [
        "thermal insulation",
        "insulation buildings",
        "insulation",
        "requirements thermal"
       ],
       "10.17350/hjse19030000195": [],
       "10.17352/AMS.000009": [
        "lichens powerful",
        "lichens",
        "airborne pollution"
       ],
       "10.17485/IJST/2015/V8I27/81165": [
        "hardness corrosion",
        "chromium",
        "surface treatment"
       ],
       "10.17521/CJPE.2007.0101": [
        "ecosystem function"
       ],
       "10.17576/mjas-2017-2104-19": [
        "dioxide emissions",
        "emissions generated"
       ],
       "10.17583/REDIMAT.2015.1519": [
        "computer games",
        "games based",
        "games perceived"
       ],
       "10.17635/LANCASTER/THESIS/1072": [
        "nigeria",
        "persistent poor"
       ],
       "10.17660/ACTAHORTIC.2018.1195.17": [
        "persimmon cultivation",
        "persimmon",
        "cultivation"
       ],
       "10.17730/HUMO.58.1.G48P765X62574761": [
        "employee turnover",
        "turnover pervasive",
        "turnover",
        "employee"
       ],
       "10.17744/MEHC.28.1.FMC2J3JW5XX1CVBF": [
        "immigrant women",
        "migration stressors",
        "refugee immigrant",
        "mental health"
       ],
       "10.17765/2176-9184.2008V8N2P383-399": [
        "human rights",
        "issues human",
        "cultural limits"
       ],
       "10.17770/ERCS2015.1147": [
        "culture education",
        "unity culture",
        "current topic"
       ],
       "10.1787/9789264061996-EN": [
        "electricity production",
        "fossil fuel"
       ],
       "10.18066/REVUNIVAP.V18I31.50": [],
       "10.18084/1084-7219.26.1.15": [],
       "10.18494/SAM.2019.2401": [
        "internet things"
       ],
       "10.18502/keg.v5i6.7097": [],
       "10.18535/IJSRM/V5I12.28": [
        "deterioration road",
        "traffic decades",
        "accelerated deterioration",
        "road structure"
       ],
       "10.18592/JSI.V5I1.1356": [
        "important management",
        "issue industrial"
       ],
       "10.18682/PD.V18I1.715": [
        "creativity topic",
        "creativity",
        "topic scientific"
       ],
       "10.1890/150063": [
        "tundra ecosystems",
        "arctic tundra",
        "disturbances arctic",
        "anthropogenic climate"
       ],
       "10.1901/JABA.2007.41-06": [
        "disabilities acquisition",
        "leisure skills",
        "disabilities",
        "individuals disabilities"
       ],
       "10.19028/jtep.07.2.137-146": [
        "straw",
        "rice"
       ],
       "10.19173/IRRODL.V17I6.2816": [
        "interactions students",
        "students instructors",
        "student success",
        "success online"
       ],
       "10.200609/IJSOC.V2I3.126": [
        "teenagers",
        "adolescent",
        "self identity"
       ],
       "10.20310/1810-0201-2019-24-178-35-42": [
        "impairment analyzers",
        "analyzers entails"
       ],
       "10.20429/IJSOTL.2019.130108": [
        "teachers cultural",
        "positive teacher",
        "student relationships",
        "cultural backgrounds"
       ],
       "10.20508/ijrer.v10i3.11089.g8021": [
        "wind energy",
        "exploitation wind",
        "wind potential",
        "estimation wind"
       ],
       "10.20508/ijrer.v7i4.6243.g7213": [
        "energy sources",
        "generate electric",
        "fossil fuels"
       ],
       "10.20528/CJCRL.2018.03.001": [],
       "10.20546/ijcmas.2020.910.282": [
        "industries india",
        "industries important"
       ],
       "10.20902/jctr.2019.120605": [
        "viscosity thermoplastic",
        "thermoplastic polymers",
        "polymers shear",
        "polymer rheologists"
       ],
       "10.20944/PREPRINTS202107.0539.V1": [
        "concrete",
        "urbanization industrialization"
       ],
       "10.20944/preprints201910.0062.v1": [
        "epoxy asphalt",
        "bridge pavements"
       ],
       "10.20944/preprints201910.0107.v1": [
        "climate goals",
        "achieve paris"
       ],
       "10.20967/JCSCM.2018.02.002": [
        "vessel fuel",
        "fuel consumption",
        "maritime industry",
        "environmental deterioration"
       ],
       "10.21061/PH.V9I0.220": [
        "gender effect",
        "linguistic research",
        "lakoff pioneered"
       ],
       "10.2109/JCERSJ2.116.712": [
        "aluminum electrochemical",
        "refractories aluminum"
       ],
       "10.21125/EDULEARN.2019.0139": [
        "labor market",
        "market globalized",
        "globalized world"
       ],
       "10.21175/RADPROC.2020.29": [
        "isolation radioactive",
        "development nuclear"
       ],
       "10.2118/165692-MS": [
        "reservoirs unfeasible"
       ],
       "10.2118/194982-MS": [
        "engineers optimize"
       ],
       "10.2118/201948-ms": [
        "reservoir development",
        "reservoirs required",
        "complex reservoirs"
       ],
       "10.2118/50885-MS": [
        "henan oilfield",
        "reservoirs henan",
        "oilfield"
       ],
       "10.21203/RS.3.RS-210454/V1": [
        "urban construction",
        "development industry",
        "industrial field"
       ],
       "10.21203/RS.3.RS-418046/V1": [
        "photocatalysis technology",
        "synthesis photocatalysts",
        "photocatalysts high",
        "wastewater treatment"
       ],
       "10.21203/RS.3.RS-42827/V2": [
        "depression anxiety"
       ],
       "10.21203/RS.3.RS-498840/V1": [
        "electronic correlation"
       ],
       "10.21203/rs.3.rs-595020/v1": [
        "interventions ebis",
        "based interventions",
        "ebis children",
        "children mental"
       ],
       "10.21203/rs.3.rs-616163/v1": [
        "titanium alloys",
        "titanium",
        "alloys attention",
        "corrosion resistance"
       ],
       "10.21203/rs.3.rs-80622/v1": [
        "assistive technology",
        "dementia carers",
        "impact carers"
       ],
       "10.21203/rs.3.rs-93294/v1": [
        "pollution",
        "metals fecal",
        "heavy metals"
       ],
       "10.21236/ad0694359": [
        "concentric cylinders"
       ],
       "10.21236/ada374127": [
        "sheet steels",
        "strength sheet",
        "cold formability"
       ],
       "10.21273/HORTTECH03979-18": [
        "impacts invasive",
        "invasive species",
        "invasive",
        "negative impacts"
       ],
       "10.21273/hortsci14772-20": [
        "ventilation systems",
        "greenhouses temperature",
        "applied greenhouses",
        "mechanical ventilation"
       ],
       "10.21276/JAMDSR.2016.4.4.9": [
        "anterior tooth",
        "esthetic functional"
       ],
       "10.21307/IJSSIS-2017-338": [
        "nanostructured transparent",
        "transparent materials",
        "permeability properties",
        "transparent"
       ],
       "10.21324/dacd.686052": [
        "pollution"
       ],
       "10.2134/AGRONJ1997.00021962008900060015X": [
        "atmospheric environmental",
        "solutions atmospheric",
        "environmental problems",
        "ecosystem"
       ],
       "10.2134/AGRONJ2008.0080X": [
        "soil organic",
        "dryland crop",
        "great plains"
       ],
       "10.2134/AGRONJ2017.11.0628": [
        "corn",
        "worldwide crop"
       ],
       "10.2134/JEQ1998.00472425002700010021X": [
        "groundwater nitrate",
        "nitrate removal",
        "sites groundwater",
        "riparian sites"
       ],
       "10.2134/JEQ1999.00472425002800020004X": [
        "polluted runoff",
        "watershed areas",
        "nonpoint source"
       ],
       "10.2134/JEQ2005.0402": [
        "phosphorus essential",
        "phosphorus",
        "nutrient critical"
       ],
       "10.2134/jeq2007.0401": [
        "sediment nutrient",
        "nutrient concentrations",
        "agricultural activities",
        "agricultural regions"
       ],
       "10.2134/jeq2011.0386": [
        "river ecosystem"
       ],
       "10.2134/jeq2012.0304": [
        "conservation tillage",
        "tillage management",
        "management tillage",
        "crop production"
       ],
       "10.2134/jeq2013.07.0299": [],
       "10.2136/SSSAJ1951.036159950015000C0006X": [
        "soil aggregation",
        "crops",
        "various crops",
        "soil"
       ],
       "10.2136/vzj2012.0137": [
        "contamination vadose",
        "chlorinated solvents",
        "systems chlorinated",
        "vadose zone"
       ],
       "10.2136/vzj2015.01.0002": [
        "structured soils",
        "soils"
       ],
       "10.2139/SSRN.2147689": [
        "realism political",
        "realism",
        "political theory",
        "movement realism"
       ],
       "10.2139/SSRN.3820843": [
        "intermittent renewable",
        "renewable energy",
        "emissions require",
        "energy systems"
       ],
       "10.2139/ssrn.1298527": [
        "narcissism dysfunctional",
        "regarded narcissism",
        "narcissism",
        "dysfunctional personality"
       ],
       "10.2139/ssrn.2141598": [
        "entrepreneurship",
        "entrepreneurship crucial",
        "economics psychology"
       ],
       "10.2139/ssrn.3303468": [
        "separations detention",
        "detention immigration"
       ],
       "10.2139/ssrn.3488199": [
        "deprivation risky"
       ],
       "10.2139/ssrn.3627788": [
        "academic libraries",
        "libraries reinvent",
        "reinvent scholarship",
        "covid pandemic"
       ],
       "10.2139/ssrn.3706054": [
        "humanitarian crises",
        "population mental",
        "crises affect",
        "mental health"
       ],
       "10.21423/TWJ.V12I1.7110": [
        "karst aquifers",
        "karst",
        "contaminants pollution",
        "vulnerable hazardous"
       ],
       "10.21467/PROCEEDINGS.112.56": [
        "overexploitation quarries",
        "quarries worldwide",
        "worldwide environmental",
        "environmental problem"
       ],
       "10.2147/IJN.S140648": [
        "antibiotics",
        "bacterial infection",
        "bacteria super",
        "multidrug resistant"
       ],
       "10.21608/amme.1984.49630": [
        "failur structure",
        "total failur",
        "structural component"
       ],
       "10.21608/jtcps.2019.18487.1029": [
        "biodegradability",
        "green materials",
        "efficient green",
        "derived renewable"
       ],
       "10.21632/IRJBS.5.1.97.71": [
        "unemployment",
        "unemployment main",
        "economic problems",
        "problems countries"
       ],
       "10.2166/NH.2016.358": [],
       "10.2166/WST.2005.0031": [
        "chemical hazards",
        "hazards critical",
        "assessment chemical"
       ],
       "10.2166/aqua.2019.083": [
        "stormwater runoff",
        "runoff urban",
        "urban catchments",
        "catchments affected"
       ],
       "10.2167/jmmd524.0": [
        "language culture"
       ],
       "10.2172/1107078": [
        "migration radionuclides",
        "radionuclides",
        "burial sites"
       ],
       "10.2172/5524606": [
        "composite laminates",
        "matrix materials"
       ],
       "10.2172/5811680": [
        "phosphate ores",
        "phosphate",
        "natural radioactivity"
       ],
       "10.2172/825552": [
        "controls mercury"
       ],
       "10.2172/835492": [
        "coal biomass",
        "technologies igcc"
       ],
       "10.2174/1570159X14666160309114549": [
        "depressive disorder",
        "major depressive",
        "neuropsychiatric disease"
       ],
       "10.2174/157340011797183210": [
        "term schizophrenia",
        "schizophrenia",
        "psychopathological syndromes",
        "neurocognitive impairment"
       ],
       "10.2174/1876503301104010034": [
        "cathodic protection",
        "buildings corrosion"
       ],
       "10.2174/2665976x01999200617112504": [
        "photocatalytic oxidation",
        "photocatalytic"
       ],
       "10.21744/IRJMIS.V6N2.608": [
        "tourism",
        "economy",
        "economy various"
       ],
       "10.2175/193864707787452804": [
        "septic tanks",
        "sewage generated"
       ],
       "10.21809/RILEMTECHLETT.2019.82": [
        "grouts",
        "grouts numerous"
       ],
       "10.2184/lsj.33.2_95": [
        "optical fiber",
        "fiber transmission",
        "polarization mode"
       ],
       "10.2190/J0L2-7424-2P02-A7LB": [
        "safety legislation",
        "health safety",
        "occupational health",
        "compartmentalize health"
       ],
       "10.2190/ML1Q-QD52-7A1P-LQ70": [
        "young adulthood",
        "adulthood fraught",
        "transition adolescence",
        "life decisions"
       ],
       "10.2196/10951": [
        "fatigue common",
        "fatigue",
        "multiple sclerosis"
       ],
       "10.22032/DBT.49081": [
        "team interaction",
        "collaboration cultural",
        "global collaboration",
        "group communication"
       ],
       "10.22037/BHL.V1I3.18067": [
        "assisted reproductive",
        "reproductive techniques",
        "reproductive",
        "proliferation assisted"
       ],
       "10.22055/RALS.2020.16307": [
        "linguistics evolution",
        "linguistics",
        "asymmetry denotation",
        "denotation connotation"
       ],
       "10.22059/POLL.2020.307069.859": [
        "metals removal",
        "wastewater treatment",
        "nanotechnology"
       ],
       "10.2208/JSCEJ.1992.450_29": [
        "creep recovery",
        "concrete structures",
        "recovery concrete",
        "phenomenon creep"
       ],
       "10.22146/JPSI.24260": [
        "psychological science",
        "sample sizes",
        "replication crisis",
        "lack knowledge"
       ],
       "10.2218/iclass.2021.5989": [],
       "10.22206/cac.2020.v3i1.pp23-39": [
        "growth population"
       ],
       "10.22214/IJRASET.2018.6137": [],
       "10.22237/MIJOC/1385856120": [
        "disorders"
       ],
       "10.22329/CSW.V17I1.5890": [
        "racial discrimination",
        "discrimination",
        "social justice"
       ],
       "10.22363/2312-9182-2017-21-2-390-404": [
        "literacy foreign",
        "literacy",
        "society literacy",
        "foreign languages"
       ],
       "10.22395/RIUM.V13N24A4": [
        "identification hazards"
       ],
       "10.22452/katha.vol13no1.4": [
        "academic dishonesty",
        "dishonesty global",
        "academic world",
        "dishonesty"
       ],
       "10.22488/okstate.18.000024": [
        "underground thermal",
        "energy storage",
        "thermal energy"
       ],
       "10.22491/RAC.2019.V32N2.13": [
        "swine production",
        "swine slurry",
        "swine"
       ],
       "10.22616/ERDEV2019.18.N243": [
        "turbine complex",
        "wind power"
       ],
       "10.2298/TSCI160314159M": [
        "intermittent renewable",
        "renewable energy",
        "energy sources",
        "energy systems"
       ],
       "10.2298/tsci190623421k": [
        "thermal collectors",
        "solar thermal"
       ],
       "10.2298/tsci200323274w": [],
       "10.2304/plat.2008.7.1.46": [
        "psychology",
        "misconceptions"
       ],
       "10.2307/1161022": [
        "sexual violence",
        "statistics sexual"
       ],
       "10.2307/1192371": [
        "problems judicial"
       ],
       "10.2307/1239868": [
        "constraints industrial"
       ],
       "10.2307/1319738": [
        "responsibility researchers"
       ],
       "10.2307/2203326": [
        "indigenous participation",
        "indigenous nongovernmental",
        "governmental indigenous",
        "multilateral development"
       ],
       "10.2307/25148803": [
        "systems professionals",
        "information systems"
       ],
       "10.2307/j.ctv1txdfqc": [
        "dementia",
        "kind community",
        "community"
       ],
       "10.2320/MATERTRANS.43.694": [
        "rusts",
        "mossbauer spectroscopy"
       ],
       "10.2322/JJSASS1969.46.695": [
        "thermal barrier",
        "ceramic thermal"
       ],
       "10.2351/1.2080547": [
        "structural ceramics"
       ],
       "10.2351/1.5062897": [],
       "10.2351/7.0004037": [
        "industries composite",
        "lightweight efficiency",
        "composite materials",
        "efficiency"
       ],
       "10.2355/ISIJINTERNATIONAL.51.21": [
        "alloys critical",
        "metallic alloys",
        "metallic particles"
       ],
       "10.2355/ISIJINTERNATIONAL.ISIJINT-2016-145": [
        "electrical steel",
        "steel soft",
        "soft magnetic",
        "magnetic material"
       ],
       "10.2355/ISIJINTERNATIONAL.ISIJINT-2017-305": [
        "deterioration quality",
        "issue deterioration"
       ],
       "10.23851/MJS.V32I2.981": [],
       "10.23860/DISS-NANDA-MONICA-2015": [
        "childhood anxiety",
        "emotion regulation",
        "parental psychological",
        "anxiety disorders"
       ],
       "10.23919/URSIRCRS49211.2020.9113586": [
        "aerosols climate",
        "atmospheric aerosols",
        "future climate",
        "climate climate"
       ],
       "10.23977/AETP.2021.58015": [
        "mental health",
        "students mental",
        "college students",
        "epidemic outbreak"
       ],
       "10.23986/AFSCI.8155": [
        "benefits biochar",
        "tropical soils",
        "acidic soils",
        "soils temperate"
       ],
       "10.24059/OLJ.V8I1.1837": [
        "telecommunications"
       ],
       "10.24059/olj.v25i2.1586": [
        "online courses",
        "mooc",
        "mooc massive"
       ],
       "10.24252/TEKNOSAINS.V5I2.173": [
        "cassava"
       ],
       "10.24297/JAP.V9I2.1403": [
        "germination alloys",
        "solidification process",
        "size microstructures",
        "molded pieces"
       ],
       "10.2466/pms.1977.45.2.363": [
        "mental imagery",
        "vividness control",
        "differences vividness",
        "imagery various"
       ],
       "10.2466/pr0.1962.10.3.831": [
        "psychodynamic correlates",
        "psychological psychodynamic",
        "heart disease",
        "processes heart"
       ],
       "10.2466/pr0.1980.46.2.643": [
        "irrational ethnocentric",
        "ethnic social",
        "ethnocentric process"
       ],
       "10.2466/pr0.94.2.637-648": [
        "loneliness universal",
        "loneliness",
        "social phenomenon",
        "universal social"
       ],
       "10.2472/JSMS.17.1168": [
        "creep behavior",
        "materials intermittent"
       ],
       "10.2478/kones-2019-0030": [
        "industry shafts",
        "stainless steel"
       ],
       "10.2478/nsad-2013-0004": [
        "research addiction",
        "addict brain",
        "addiction defined",
        "disease addict"
       ],
       "10.24821/PRO.V0I0.534": [
        "music education",
        "musical life",
        "impact computer"
       ],
       "10.24908/PCEEA.V0I0.13023": [
        "self regulated",
        "regulated"
       ],
       "10.2493/JJSPE.79.1078": [
        "methods spectroscopy",
        "conventional transparent",
        "measurement methods"
       ],
       "10.24947/BAOJN/1/2/00106": [
        "vegetables essential",
        "fruits vegetables",
        "development fruits",
        "nutrients"
       ],
       "10.2495/FSI010131": [
        "panel temperatures",
        "vehicles supersonic"
       ],
       "10.2495/SC150091": [
        "mediterranean cities"
       ],
       "10.2497/JJSPM.42.330": [
        "niobium aluminides",
        "niobium",
        "temperature applications",
        "structural materials"
       ],
       "10.25046/aj0505148": [
        "individuals aphasia",
        "aphasia experience",
        "aphasia"
       ],
       "10.25077/AJIS.6.1.40-54.2017": [
        "inequality poverty",
        "poverty impact",
        "development outcomes",
        "unevenness distribution"
       ],
       "10.2514/6.2006-4071": [
        "carbon foam",
        "graphitic microstructure",
        "materials graphitic",
        "foam materials"
       ],
       "10.2514/6.2007-2132": [
        "thermal protection",
        "protection systems"
       ],
       "10.2514/6.2016-1214": [
        "plasma actuators",
        "aerodynamics combustion",
        "control aerodynamics"
       ],
       "10.25180/LJ.V18I1.38": [
        "biotechnologies",
        "biotechnologies problem",
        "problem responsibility"
       ],
       "10.2522/ptj.20140211": [
        "coordination disorder",
        "motor difficulties",
        "developmental coordination",
        "children developmental"
       ],
       "10.2523/IPTC-19211-MS": [
        "production wells",
        "condensation natural"
       ],
       "10.25394/PGS.11328278.V1": [
        "molecular dynamics",
        "materials discovery",
        "materials behavior"
       ],
       "10.25394/PGS.13370879.V1": [
        "games expansive",
        "video games",
        "games"
       ],
       "10.25903/5D479A9E35AD7": [
        "carbon nanostructures",
        "nanostructures",
        "carbon"
       ],
       "10.25904/1912/3364": [
        "weight stigma",
        "stigma",
        "stigma painful",
        "overweight obesity"
       ],
       "10.26420/GERONTOLGERIATRRES.2021.1048": [
        "psychological symptoms",
        "depression anxiety",
        "anxiety apathy",
        "older people"
       ],
       "10.26532/jph.v7i2.9297": [
        "indonesia problems",
        "child marriage",
        "problem marriage",
        "marriage common"
       ],
       "10.26537/iirh.v0i4.2071": [
        "competence",
        "concept competence",
        "different conceptualizations"
       ],
       "10.26599/BSA.2019.9050018": [
        "accompanied circadian",
        "symptoms mental",
        "affective disorders"
       ],
       "10.26634/JPSY.4.1.1221": [
        "teachers",
        "teachers today"
       ],
       "10.26717/BJSTR.2018.12.002259": [
        "silicates carbonate",
        "soil soil",
        "regulation groundwater"
       ],
       "10.26907/ESD14.2.09": [
        "social intelligence",
        "technologization",
        "scientists"
       ],
       "10.26911/THEIJMED.2018.03.02.05": [
        "growth population",
        "rapid growth",
        "growth",
        "global problems"
       ],
       "10.28983/ASJ.Y2020I12PP85-86": [
        "performance cows",
        "cows"
       ],
       "10.29328/journal.ated.1001011": [
        "auditory health",
        "noise widespread",
        "noise"
       ],
       "10.29329/IJPE.2021.346.13": [
        "organizations ostracism",
        "ostracism educational",
        "ostracism",
        "educational organizations"
       ],
       "10.29333/IEJME/3985": [
        "fractions problematic",
        "school mathematics"
       ],
       "10.29721/ETC.201106.0007": [
        "assessment difficult",
        "assessment",
        "instrument assess",
        "assess students"
       ],
       "10.2991/ASSEHR.K.191217.124": [
        "semantics",
        "cognitive linguistics",
        "semantics core"
       ],
       "10.2991/ICMMBE-16.2016.20": [
        "concrete important",
        "concrete",
        "important materials"
       ],
       "10.2991/iciap-18.2019.62": [
        "underestimated impairments",
        "impairments",
        "underestimated"
       ],
       "10.2991/icmmct-18.2018.15": [
        "indoor environmental",
        "environmental quality"
       ],
       "10.2991/icsd-16.2017.6": [
        "membrane bioreactor",
        "nitrogen wastewater",
        "bioreactor"
       ],
       "10.30486/IJROWA.2020.1897538.1055": [
        "anaerobic digestion",
        "biogas organic",
        "anaerobic",
        "energy biogas"
       ],
       "10.30501/JAMT.2021.249841.1125": [
        "integrated digital",
        "digital circuits"
       ],
       "10.30521/JES.457288": [
        "hydroelectric storage",
        "electricity storage",
        "hydroelectric"
       ],
       "10.30596/BF.V4I3.3031.G3226": [
        "mercury process",
        "traditional gold",
        "amalgamation years"
       ],
       "10.30653/003.202171.159": [
        "indonesian language"
       ],
       "10.30845/ijhss.v9n11a7": [
        "expatriate adjustment",
        "expatriate success",
        "reviews expatriate",
        "research expatriate"
       ],
       "10.31002/METATHESIS.V5I1.3336": [
        "covid",
        "life health"
       ],
       "10.3102/00028312038002253": [
        "migrants"
       ],
       "10.3102/0034654320938128": [
        "teacher perceptions",
        "teacher professional",
        "professional development",
        "evaluate effectiveness"
       ],
       "10.3102/0091732X023001277": [
        "special education",
        "education poor",
        "poor health"
       ],
       "10.3103/S0967091216090059": [
        "production copper",
        "copper sulfide",
        "slag accumulates"
       ],
       "10.31031/RDMS.2017.01.000520": [
        "organic photovoltaic",
        "photovoltaic devices",
        "photovoltaic"
       ],
       "10.31031/RDMS.2019.09.000722": [
        "renewable energies",
        "fossil fuels",
        "solar cells"
       ],
       "10.31031/pprs.2019.02.000540": [
        "nocturnal enuresis",
        "enuresis",
        "nocturnal"
       ],
       "10.3109/00048678309160002": [
        "custody access",
        "subjects custody",
        "marriage breakdown",
        "access disputes"
       ],
       "10.3109/01612840.2016.1147625": [
        "mental healthcare",
        "psychiatric mental"
       ],
       "10.3109/07434618.2016.1160150": [
        "communication aids",
        "motor impairments",
        "control interaction"
       ],
       "10.3109/15622975.2010.486043": [
        "tardive dyskinesia",
        "dyskinesia",
        "antipsychotic exposure",
        "term antipsychotic"
       ],
       "10.31234/osf.io/9c7df": [
        "bilingualism affects",
        "bilingualism",
        "general cognition"
       ],
       "10.31234/osf.io/eyjv7": [
        "social isolation",
        "isolation loneliness",
        "robots designed",
        "loneliness"
       ],
       "10.3126/IJE.V5I2.15008": [
        "extensive contamination",
        "sewage agricultural",
        "industrial effluents"
       ],
       "10.3126/jncs.v41i1.30494": [
        "natural resource"
       ],
       "10.31349/revmexfis.67.051002": [
        "gate dielectric",
        "hfo2"
       ],
       "10.3138/JCFS.42.5.687": [
        "relations shed"
       ],
       "10.3138/JCFS.44.5.589": [
        "indian families",
        "cultural familial",
        "american indian",
        "families unique"
       ],
       "10.3138/JCFS.7.1.87": [
        "relationship television",
        "behavior children"
       ],
       "10.31410/itema.2018.375": [
        "sustainable development",
        "issues sustainable",
        "sustainable",
        "development achieve"
       ],
       "10.3144/EXPRESSPOLYMLETT.2016.48": [
        "epoxy matrix",
        "functionality epoxy",
        "epoxy"
       ],
       "10.31471/1993-9981-2019-2(43)-32-40": [
        "crops greenhouses",
        "greenhouses particular"
       ],
       "10.31471/2304-7402-2019-3(55)-96-100": [
        "cultural diversity",
        "globalized world",
        "world cultural",
        "attention immediate"
       ],
       "10.3149/FTH.0601.2": [
        "infancy affect"
       ],
       "10.3149/JMH.1403.250": [
        "literature gender",
        "gender represented",
        "masculinities particular",
        "health inequalities"
       ],
       "10.3167/092012906780646398": [
        "organisms agriculture",
        "modified organisms",
        "organisms"
       ],
       "10.31675/1607-1859-2019-21-2-76-88": [
        "urban landscapes",
        "natural environment",
        "problems ecological",
        "ecological crisis"
       ],
       "10.31838/SRP.2020.5.107": [
        "conduct disorders",
        "disorders adulthood",
        "mental disorders"
       ],
       "10.31934/PROMOTIF.V6I2.15": [
        "nutritional problems",
        "problems countries",
        "countries indonesia"
       ],
       "10.3233/JAD-170096": [
        "alzheimer disease",
        "functional connectivity"
       ],
       "10.3233/JAD-2011-0008": [
        "alzheimer disease",
        "fluoroethyl"
       ],
       "10.3233/JAD-2011-102004": [
        "alzheimer disease",
        "role alzheimer",
        "alzheimer",
        "inflammation"
       ],
       "10.3233/jae-209400": [
        "thermography eclit",
        "current thermography",
        "pulsed eddy",
        "pect eddy"
       ],
       "10.32474/AOICS.2020.04.000193": [
        "batteries libs"
       ],
       "10.32508/STDJ.V17I3.1504": [
        "quality assurance",
        "manufacturers survive",
        "assurance important",
        "food products"
       ],
       "10.32628/CSEIT184522": [
        "adulteration global",
        "adulteration"
       ],
       "10.32734/JSI.V2I1.873": [
        "forest health",
        "sustainable forest",
        "health important"
       ],
       "10.33086/JHS.V11I1.114": [
        "premenstrual syndrome",
        "premenstrual",
        "woman menstrual"
       ],
       "10.33137/ijournal.v5i2.34469": [
        "technology"
       ],
       "10.3323/JCORR1974.34.6_331": [
        "corrosion austenitic",
        "intergranular corrosion",
        "austenitic stainless",
        "chromium carbide"
       ],
       "10.33258/birle.v3i4.1507": [
        "outcomes student"
       ],
       "10.3349/ymj.2009.50.6.771": [],
       "10.3354/AME044105": [
        "discharge changjiang",
        "shelf ecosystems"
       ],
       "10.3354/esr01046": [
        "conservation management",
        "habitat requirements",
        "endangered species",
        "requirements endangered"
       ],
       "10.33584/JNZG.2018.80.318": [
        "acidic aluminium",
        "soils acidic",
        "pastoral soils"
       ],
       "10.3365/KJMM.2014.52.1.031": [
        "stability steel"
       ],
       "10.3389/fbioe.2016.00089": [
        "biomethane replacement",
        "biomethane"
       ],
       "10.3389/fchem.2020.00411": [
        "metal nanocrystals",
        "surface plasmon",
        "plasmon resonance",
        "nanocrystals controlled"
       ],
       "10.3389/fchem.2020.00657": [
        "oled materials",
        "novel oled",
        "tadf emitters",
        "blue tadf"
       ],
       "10.3389/fenrg.2014.00043": [
        "rechargeable libs",
        "batteries libs",
        "commercialization lithium",
        "libs"
       ],
       "10.3389/ffgc.2020.00026": [
        "particle deposition",
        "pollution mitigation"
       ],
       "10.3389/fmars.2015.00049": [
        "ocean acidification",
        "acidification hypoxic",
        "hypoxic events",
        "ocean"
       ],
       "10.3389/fmars.2018.00402": [
        "marine biodiversity",
        "areas mpas"
       ],
       "10.3389/fmicb.2018.00729": [
        "marine subsurface",
        "subsurface heterogeneous",
        "subsurface",
        "microbial"
       ],
       "10.3389/fnagi.2014.00043": [
        "dementia prevention",
        "interventions"
       ],
       "10.3389/fncel.2013.00031": [
        "schizophrenia",
        "neurodevelopmental disorder",
        "mental illness"
       ],
       "10.3389/fnhum.2016.00333": [
        "cortical regions"
       ],
       "10.3389/fnhum.2020.00203": [
        "verbal fluency",
        "semantic verbal"
       ],
       "10.3389/fpsyg.2014.00165": [
        "emotion regulation",
        "target emotion"
       ],
       "10.3389/fpsyg.2015.01766": [
        "comparative psychology",
        "student recruitment",
        "psychology"
       ],
       "10.3389/fpsyg.2017.02355": [
        "cognitive culture",
        "culture theory",
        "culture phenomenon",
        "link culture"
       ],
       "10.3389/fpsyg.2019.02216": [
        "dangerous profession",
        "stressful dangerous"
       ],
       "10.3389/fpsyg.2019.03041": [
        "mild cognitive",
        "cognitive impairment",
        "semantic deficits",
        "impairment"
       ],
       "10.3389/fpsyg.2020.00391": [
        "associated burnout",
        "hampered stigma",
        "outcomes prevention"
       ],
       "10.3389/fpsyt.2018.00042": [
        "forensic mental",
        "treatment offenders",
        "offenders forensic",
        "offenders"
       ],
       "10.3389/neuro.10.010.2009": [
        "cortical"
       ],
       "10.3390/APP10196639": [
        "geothermal energy",
        "geothermal",
        "energy registered",
        "registered scientific"
       ],
       "10.3390/APP11062753": [
        "vapor deposition"
       ],
       "10.3390/APP11114733": [
        "hypoxia prone",
        "micro hypoxia"
       ],
       "10.3390/APP11125425": [
        "acoustic emission",
        "acoustic",
        "structural health"
       ],
       "10.3390/ATMOS11091006": [
        "burden energy",
        "urban areas"
       ],
       "10.3390/CATAL11060685": [
        "zeolites",
        "solid catalysts"
       ],
       "10.3390/CRYST11020123": [
        "impurity essential",
        "insulation performance"
       ],
       "10.3390/ECSOC-22-05652": [
        "heterogeneous catalysts",
        "catalysts",
        "heterogeneous",
        "devoted heterogeneous"
       ],
       "10.3390/EN14071870": [
        "carbon electricity",
        "carbon approaches"
       ],
       "10.3390/EN14113121": [],
       "10.3390/EN8065440": [
        "solar cells",
        "current solar",
        "absorber layer"
       ],
       "10.3390/F8080278": [
        "worst droughts",
        "droughts"
       ],
       "10.3390/GEOSCIENCES8020044": [
        "volcanic plumes",
        "evolution volcanic",
        "volcanic",
        "plumes great"
       ],
       "10.3390/LAWS4040771": [
        "global health",
        "globalisation individual",
        "communal health",
        "health equity"
       ],
       "10.3390/MET11060896": [
        "steel affects",
        "content steel",
        "carbon content",
        "properties hardness"
       ],
       "10.3390/PR6090140": [],
       "10.3390/SOCSCI6020039": [],
       "10.3390/SOLIDS2010005": [
        "thermal expansion",
        "anomalous thermal",
        "expansion materials",
        "negative thermal"
       ],
       "10.3390/SU10010267": [
        "availability mineral",
        "mineral resources",
        "impacts resource",
        "future availability"
       ],
       "10.3390/SU12197872": [
        "yangtze river",
        "urban agglomerations",
        "rapid urbanization",
        "river delta"
       ],
       "10.3390/W11050981": [
        "sediment concentrations",
        "sediment budgets",
        "evaluate sediment",
        "agricultural watershed"
       ],
       "10.3390/app10062014": [
        "refrigerants",
        "refrigerants potent",
        "greenhouse gasses",
        "potent greenhouse"
       ],
       "10.3390/appliedchem1010004": [
        "corrosion resistance",
        "corrosion",
        "excellent corrosion",
        "chromium"
       ],
       "10.3390/atmos10090503": [
        "mesoscale convective",
        "weather prediction",
        "numerical weather",
        "atmospheric dynamics"
       ],
       "10.3390/challe12020025": [
        "issues community"
       ],
       "10.3390/coatings10070674": [
        "development edible",
        "food products",
        "quality food"
       ],
       "10.3390/coatings10111087": [
        "reliability solder"
       ],
       "10.3390/cryst10050388": [
        "luminescence condensed",
        "luminescence conventional",
        "strong luminescence",
        "organic luminophores"
       ],
       "10.3390/en13051135": [
        "geopolymers",
        "portland cement"
       ],
       "10.3390/en14175229": [
        "broadband solar",
        "solar irradiance"
       ],
       "10.3390/f11080842": [
        "poplar",
        "tree species"
       ],
       "10.3390/f11111157": [
        "fluxes forests",
        "tropical forest"
       ],
       "10.3390/genealogy4030091": [
        "indigenous ancestral",
        "settler colonialism",
        "disrupted indigenous",
        "indigenous"
       ],
       "10.3390/geosciences9090393": [
        "leaf area"
       ],
       "10.3390/hydrology7020034": [
        "soil information",
        "complexity soil",
        "soil data",
        "watershed scale"
       ],
       "10.3390/ijerph14020130": [
        "coastal ecosystems",
        "coastal",
        "effects climate"
       ],
       "10.3390/ijerph15102110": [
        "pollution problem"
       ],
       "10.3390/ijerph16071267": [
        "polychlorinated dibenzo"
       ],
       "10.3390/ijerph17082703": [
        "environmental issues",
        "food safety",
        "health global"
       ],
       "10.3390/ijerph17082924": [
        "chronic diseases",
        "people chronic",
        "healthcare systems"
       ],
       "10.3390/jfb6041021": [
        "fracture femur",
        "femur"
       ],
       "10.3390/land10010031": [
        "issues climate"
       ],
       "10.3390/ma12081198": [
        "alkali activated",
        "portland cement",
        "activated slag"
       ],
       "10.3390/ma13092157": [
        "prostheses ceramic",
        "prostheses",
        "materials advantages"
       ],
       "10.3390/ma9010058": [
        "bioactive glass",
        "glass",
        "bioactive",
        "biomaterial"
       ],
       "10.3390/ma9100797": [
        "gelatin methacryloyl",
        "methacryloyl gelma",
        "gelatin",
        "bioink material"
       ],
       "10.3390/membranes9040048": [
        "membrane filtration",
        "clogs membrane",
        "membrane inner"
       ],
       "10.3390/met10030394": [
        "electrolyte oxidation",
        "plasma electrolyte",
        "corrosion resistance"
       ],
       "10.3390/min11101068": [],
       "10.3390/molecules23051079": [
        "durability metals",
        "corrosion",
        "corrosion major",
        "metals alloys"
       ],
       "10.3390/nano7040083": [
        "nanoparticles tio2",
        "titanium dioxide",
        "dioxide nanoparticles",
        "sunscreens cosmetics"
       ],
       "10.3390/polym10040361": [
        "reinforced concrete",
        "failures seismic",
        "concrete absence"
       ],
       "10.3390/polym10040381": [
        "biomaterial"
       ],
       "10.3390/proceedings2020062007": [
        "batch production",
        "traditional batch",
        "production methods"
       ],
       "10.3390/rs11242958": [
        "atmospheric aerosols",
        "aerosol optical",
        "geostationary satellites"
       ],
       "10.3390/rs13163128": [],
       "10.3390/rs61010215": [
        "primary production",
        "carbon budgets"
       ],
       "10.3390/s17122740": [
        "ultrasonic situ",
        "continuous ultrasonic",
        "ultrasonic",
        "temperatures industrial"
       ],
       "10.3390/s18072257": [
        "arctic region",
        "affected climate",
        "arctic"
       ],
       "10.3390/su11246924": [
        "porous asphalt",
        "asphalt mixtures",
        "pavement material",
        "steel slag"
       ],
       "10.3390/su12187488": [
        "prioritized sustainable"
       ],
       "10.3390/su12187632": [
        "indicator climate"
       ],
       "10.3390/su13126882": [
        "reliability photovoltaic",
        "photovoltaic"
       ],
       "10.3390/w12010273": [
        "rainfall runoff",
        "gridded rainfall",
        "distributed rainfall",
        "rainfall amounts"
       ],
       "10.3390/w12061812": [
        "basins qinghai",
        "tibetan plateau",
        "hydrological basins"
       ],
       "10.3390/w13010044": [
        "green roofs",
        "rainwater green"
       ],
       "10.3402/gha.v5i0.19016": [
        "biomass fuels",
        "woody biomass"
       ],
       "10.34172/EHEM.2020.17": [
        "airborne fungi",
        "fungi"
       ],
       "10.35248/2471-9870.21.7.172": [
        "corona viruses",
        "corona"
       ],
       "10.35410/IJAEB.2019.4402": [
        "pesticides",
        "diseases pests",
        "crops diseases"
       ],
       "10.35831/sor.mh.bonnette19": [
        "mental health",
        "media behaviors"
       ],
       "10.35925/J.MULTI.2021.4.18": [
        "agricultural products"
       ],
       "10.36253/978-88-6453-336-0": [
        "social emergency"
       ],
       "10.36487/ACG_REP/1063_38_YUAN": [
        "fine tailings",
        "tailings common",
        "tailings"
       ],
       "10.36648/1307-234X.21.15.97": [
        "phytoplankton",
        "marine ecosystems",
        "marine food",
        "role marine"
       ],
       "10.36884/jafm.9.si2.25654": [
        "hemp concrete",
        "construction hemp",
        "hemp renewable"
       ],
       "10.3724/SP.J.1226.2017.00273": [
        "frost heave",
        "regions frost",
        "properties soil"
       ],
       "10.37279/2413-1873-2021-21-91-96": [
        "renewable energy",
        "electrical energy",
        "power unit"
       ],
       "10.3741/JKWRA.2005.38.10.895": [
        "runoff models",
        "hydrologic data",
        "distributed runoff",
        "geographic information"
       ],
       "10.37542/iq.v3i01.58": [
        "syndrome children",
        "syndrome",
        "child intellectual"
       ],
       "10.3758/BF03334765": [
        "decline ability"
       ],
       "10.37597/ajphes.2021.27.2.9": [
        "teenage pregnancy",
        "pregnancy south",
        "south african",
        "african communities"
       ],
       "10.3760/cma.j.issn.1002-0098.2017.10.004": [
        "bone defects",
        "treatment large",
        "urgent clinical"
       ],
       "10.3775/JIE.51.284": [
        "production plastic",
        "plastic products"
       ],
       "10.3788/IRLA20174602.216001": [
        "enhanced raman"
       ],
       "10.3795/KSME-A.2005.29.6.904": [
        "microchannel"
       ],
       "10.3795/KSME-B.2004.28.12.1567": [
        "velocity profiles",
        "arteries",
        "measurement velocity",
        "vectors shear"
       ],
       "10.3922/J.PSNS.2010.2.004": [
        "disability adults",
        "impairment"
       ],
       "10.3923/JAS.2010.3167.3174": [
        "crude preheat",
        "exchangers refineries"
       ],
       "10.3926/IC.418": [
        "organization creation",
        "creation knowledge"
       ],
       "10.3969/J.ISSN.1002-5006.2015.10.005": [
        "disasters epidemic",
        "natural disasters",
        "epidemic diseases",
        "health safety"
       ],
       "10.4013/VER.2012.26.62.02": [
        "contemporary journalism",
        "journalism",
        "subject contemporary",
        "prominent subject"
       ],
       "10.4013/sdrj.2019.123.04": [
        "impaired child",
        "child stimulated",
        "motor cognitive"
       ],
       "10.4018/978-1-4666-5162-3.CH002": [
        "online education",
        "affordances online",
        "traditional education"
       ],
       "10.4018/978-1-4666-8682-3.CH006": [
        "lignin second",
        "lignin",
        "earth cellulose",
        "polymeric carbon"
       ],
       "10.4018/978-1-4666-9672-3.CH017": [
        "study abroad",
        "anxiety cultural",
        "cultural identity"
       ],
       "10.4018/978-1-5225-2568-4.CH007": [
        "performance appraisal",
        "appraisal",
        "human resource"
       ],
       "10.4018/978-1-5225-9558-8.CH007": [
        "responsible consumption",
        "years consumers",
        "consumers",
        "environmental issues"
       ],
       "10.4018/IJTEPD.2018070101": [
        "international students",
        "higher education",
        "cultures experiences"
       ],
       "10.4028/WWW.SCIENTIFIC.NET/AMR.1015.101": [
        "zinc telluride",
        "cadmium zinc"
       ],
       "10.4028/WWW.SCIENTIFIC.NET/AMR.1036.464": [
        "steel pipes"
       ],
       "10.4028/WWW.SCIENTIFIC.NET/MSF.959.74": [
        "batteries crucial",
        "vehicles renewable"
       ],
       "10.4028/www.scientific.net/AMM.278-280.523": [
        "thermal conductivity",
        "conductive materials",
        "electrical insulation",
        "conductivity excellent"
       ],
       "10.4028/www.scientific.net/AMM.672-674.676": [
        "diesel fuel",
        "component diesel",
        "properties polyoxymethylene"
       ],
       "10.4028/www.scientific.net/AMM.773-774.118": [
        "mechanical components",
        "mechanical"
       ],
       "10.4028/www.scientific.net/AMM.813-814.218": [
        "tribological applications",
        "ether ketone",
        "polymer material"
       ],
       "10.4028/www.scientific.net/AMR.20-21.375": [
        "corrosion"
       ],
       "10.4028/www.scientific.net/AMR.236-238.1738": [
        "carbon nanotubes",
        "nanotubes current",
        "nanotubes"
       ],
       "10.4028/www.scientific.net/AMR.287-290.2785": [
        "magnetorheological fluids",
        "applications magnetorheological",
        "magnetorheological",
        "smart materials"
       ],
       "10.4028/www.scientific.net/AMR.476-478.755": [
        "polypyrrole",
        "polymer"
       ],
       "10.4028/www.scientific.net/AMR.53-54.119": [
        "planarization wafer"
       ],
       "10.4028/www.scientific.net/AMR.652-654.2205": [
        "diamond wheel"
       ],
       "10.4028/www.scientific.net/AMR.694-697.354": [
        "vibration pipe",
        "pipelines structural",
        "vibration",
        "pipe systems"
       ],
       "10.4028/www.scientific.net/AMR.79-82.1943": [
        "accelerated carbonation",
        "carbonation",
        "materials preparation"
       ],
       "10.4028/www.scientific.net/AMR.871.194": [
        "laser ablation",
        "oxides nanoparticles",
        "ablation liquid"
       ],
       "10.4028/www.scientific.net/AMR.911.281": [
        "physical limits",
        "conventional magnetic",
        "magnetic"
       ],
       "10.4028/www.scientific.net/AST.94.85": [
        "radioisotope nuclear",
        "radioisotope"
       ],
       "10.4028/www.scientific.net/KEM.697.457": [
        "silicon nitride",
        "nitride si3n4",
        "si3n4 important",
        "silicon"
       ],
       "10.4028/www.scientific.net/KEM.857.417": [
        "soil anisotropy",
        "soil behavior",
        "oriented soil",
        "soil fabric"
       ],
       "10.4028/www.scientific.net/KEM.868.3": [
        "sustainable construction",
        "buildings bridges",
        "construction strategy",
        "construction industry"
       ],
       "10.4028/www.scientific.net/MSF.567-568.273": [
        "corrosion condition",
        "aircraft engines",
        "temperature constructional",
        "fatigue processes"
       ],
       "10.4028/www.scientific.net/MSF.618-619.575": [
        "grain structures"
       ],
       "10.4028/www.scientific.net/MSF.636-637.411": [
        "zinc oxide",
        "optoelectronics transparent"
       ],
       "10.4028/www.scientific.net/MSF.717-720.865": [
        "silicon carbide",
        "carbide"
       ],
       "10.4028/www.scientific.net/MSF.820.361": [
        "niobates tetragonal",
        "tetragonal tungsten",
        "ferroelectric pyroelectric",
        "niobates"
       ],
       "10.4028/www.scientific.net/MSF.869.396": [
        "lignocellulosic fibers",
        "glass fiber",
        "fibers glass",
        "natural lignocellulosic"
       ],
       "10.4028/www.scientific.net/MSF.928.123": [
        "renewable energy",
        "solar energy",
        "energy sources",
        "sources solar"
       ],
       "10.4028/www.scientific.net/NH.4.47": [
        "nanoparticle aunp",
        "gold nanoparticle",
        "colloidal gold",
        "gold fluid"
       ],
       "10.4028/www.scientific.net/SSP.165.73": [
        "distortion welded",
        "welded metal"
       ],
       "10.4102/curationis.v42i1.2015": [
        "partner mental",
        "couple relationship",
        "mental illness"
       ],
       "10.4103/ed.ed_13_18": [
        "particulates volatile",
        "volatile organic",
        "combustion traditional",
        "biomass fuels"
       ],
       "10.4103/jehp.jehp_291_20": [
        "nurses workplace",
        "moral distress"
       ],
       "10.4139/SFJ.60.800": [
        "xsrxtio3 perovskite",
        "dielectric material",
        "perovskite structure",
        "attention dielectric"
       ],
       "10.4150/KPMI.2006.13.5.327": [
        "hydride electrodes",
        "metal hydride"
       ],
       "10.4172/2157-7439.1000170": [
        "nanomed nanotechol",
        "nanotechol issn",
        "journal cancer",
        "heart disease"
       ],
       "10.4172/2169-0022.1000442": [
        "zinc oxide",
        "versatile semiconductor"
       ],
       "10.4172/2169-0316.1000161": [
        "oxides tmos",
        "metal oxides",
        "tmos",
        "transition metal"
       ],
       "10.4206/REV.AUSTRAL.CIENC.SOC.2020.N39-14": [
        "cultures coexist",
        "heterogeneous cultures",
        "social conflict",
        "cultures"
       ],
       "10.4232/1.11514": [
        "wikis formal",
        "wikis",
        "wikis gained"
       ],
       "10.4236/ETSN.2012.14006": [
        "electromagnetic radiation",
        "implications electromagnetic",
        "radiation",
        "radiation human"
       ],
       "10.4236/GEP.2018.611002": [
        "tropospheric ozone",
        "ozone atmosphere",
        "ozone",
        "concentration tropospheric"
       ],
       "10.4236/IJOC.2021.111002": [
        "sulfur byproducts",
        "amounts sulfur"
       ],
       "10.4236/JMMCE.2011.1011077": [
        "kaolin china",
        "kaolin",
        "china clay",
        "industrial mineral"
       ],
       "10.4236/JSS.2017.56003": [],
       "10.4271/2003-01-0794": [
        "recyclability automotive",
        "vehicles recycled",
        "recyclability",
        "environmental requirements"
       ],
       "10.4271/2018-01-0534": [],
       "10.4314/AJPSSI.V12I1-2.48179": [
        "characteristics africa",
        "africa society",
        "africa nations",
        "ravaged conflict"
       ],
       "10.4314/SAJRS.V28I1.25937": [
        "heightened competition",
        "competition global",
        "sport organisations",
        "competition"
       ],
       "10.4324/9780203125120": [
        "muslim presence",
        "muslim",
        "perceived problematic",
        "years muslim"
       ],
       "10.4324/9780203449646": [
        "anthropology",
        "scientific knowledge",
        "notions scientific",
        "anthropology poses"
       ],
       "10.4324/9780203557686": [
        "education researchers",
        "significance education",
        "diversity theorists",
        "theorists"
       ],
       "10.4324/9780367854201-2": [
        "female athlete",
        "athlete discrimination",
        "women girls"
       ],
       "10.4324/9781315545998": [
        "concept subculture",
        "subculture",
        "experiences young"
       ],
       "10.4334/JKCI.2003.15.4.606": [
        "reinforcement corrosion",
        "deterioration concrete",
        "chloride induced",
        "bridge decks"
       ],
       "10.4334/JKCI.2004.16.1.130": [
        "concrete sulfate",
        "sulfate resistance",
        "cement chemistryandreplacementlevelofmineraladmixtures",
        "chemistry portland"
       ],
       "10.46903/GJMS/18.02.826": [
        "academic failure",
        "psychological disturbance",
        "emotional intelligence",
        "intelligence students"
       ],
       "10.47223/irjay.2020.31201": [
        "cancer second",
        "cancer",
        "death worldwide"
       ],
       "10.47408/jldhe.v0i15.502": [],
       "10.4995/VITRUVIO-IJATS.2016.5191": [
        "corrosion",
        "corrosion main",
        "durability structures",
        "life durability"
       ],
       "10.5070/L27424521": [
        "japanese",
        "genre theory"
       ],
       "10.5075/EPFL-THESIS-4356": [
        "photonics sensors",
        "solar cells"
       ],
       "10.5075/EPFL-THESIS-9376": [
        "renewable sources",
        "renewable",
        "sustainable development"
       ],
       "10.5150/JNGCGC.2006.058-L": [
        "problems harbour",
        "river planners",
        "environmental recommendations"
       ],
       "10.5153/sro.2757": [
        "social movements",
        "contentious behavior",
        "scholars social",
        "collective actors"
       ],
       "10.5154/r.rchscfa.2019.07.060": [
        "carbon footprint",
        "greenhouse gases"
       ],
       "10.5171/2011.200974": [
        "emotional problems",
        "interaction computers"
       ],
       "10.5172/conu.2012.40.2.245": [
        "health problem"
       ],
       "10.5194/BG-11-1961-2014": [
        "ecosystem carbon",
        "arctic necb"
       ],
       "10.5194/EGUSPHERE-EGU21-3752": [
        "ozone atmosphere",
        "distribution ozone",
        "ozone",
        "pollution radiative"
       ],
       "10.5194/HESS-17-3795-2013": [
        "river aquifer",
        "groundwater river",
        "affect groundwater",
        "aquifer exchange"
       ],
       "10.5194/HESS-18-273-2014": [
        "group catchments",
        "catchments characterize",
        "catchments",
        "classify heterogeneous"
       ],
       "10.5194/PIAHS-366-194-2015": [
        "sediment associated",
        "associated pollutants",
        "impact sediment"
       ],
       "10.5194/egusphere-egu2020-18068": [
        "potential landfill",
        "landfill site",
        "recoverable materials"
       ],
       "10.5194/egusphere-egu2020-20450": [
        "forest bioenergy",
        "bioenergy utilization",
        "impacts forest",
        "utilization forest"
       ],
       "10.5194/egusphere-egu2020-3632": [
        "landscape ecology",
        "wildfire dominant",
        "wildfire",
        "ecology"
       ],
       "10.5195/JWSR.2000.194": [
        "world systems",
        "world recurrent",
        "modern world",
        "futures modern"
       ],
       "10.5206/elip.v3i1.8618": [],
       "10.5209/CUTS.56882": [
        "professionals confront"
       ],
       "10.5216/REVUFG.V20.66725": [
        "deaf people",
        "deaf"
       ],
       "10.5251/AJSIR.2011.2.4.491.503": [
        "dissipation portable",
        "power dissipation",
        "powered devices",
        "portable battery"
       ],
       "10.5254/1.3542485": [
        "crosslinks vulcanized",
        "vulcanized rubber",
        "studies vulcanization",
        "vulcanization"
       ],
       "10.5278/OJS.JPBLHE.V0I0.2002": [
        "project based",
        "students mechanical"
       ],
       "10.5281/ZENODO.1125821": [
        "lubricant biodegradable",
        "based lubricant",
        "lubricant",
        "biodegradable"
       ],
       "10.5360/MEMBRANE.31.161": [
        "membrane technology4",
        "application membrane",
        "membrane"
       ],
       "10.5383/IJTEE.03.02.002": [
        "consumption energy",
        "energy",
        "consumption"
       ],
       "10.5389/KSAE.2005.47.5.027": [
        "cementitious composite",
        "engineered cementitious",
        "fiber reinforced",
        "ductile fiber"
       ],
       "10.5430/IJHE.V10N7P10": [
        "online engagement",
        "student online",
        "education mongolia",
        "higher education"
       ],
       "10.5430/ijhe.v11n1p126": [
        "demographic factors",
        "pilot study",
        "effective student"
       ],
       "10.5433/1679-0359.2018V39N4P1459": [
        "soil salinization",
        "salinization",
        "salinization problem",
        "arid regions"
       ],
       "10.5456/WPLL.16.3.58": [
        "access universities",
        "traditional students",
        "higher education",
        "education england"
       ],
       "10.54648/cola2009082": [
        "sovereign subjects",
        "international european",
        "lawyers alike"
       ],
       "10.5465/AMBPP.2004.13857595": [
        "paradox world"
       ],
       "10.5465/AMBPP.2015.12951SYMPOSIUM": [
        "discretionary communication"
       ],
       "10.5465/AMBPP.2015.15158SYMPOSIUM": [
        "strategy research",
        "organizational strategy",
        "innovate",
        "ability innovate"
       ],
       "10.5465/AMBPP.2015.16699ABSTRACT": [
        "exploration exploitation",
        "exploration"
       ],
       "10.5465/AMBPP.2017.11371symposium": [
        "employee transgressions",
        "transgressions organizations",
        "unethical behavior",
        "organizational behavior"
       ],
       "10.5465/AMLE.2014.0139": [
        "gender inequity",
        "media attention",
        "workforce significant",
        "inequity workforce"
       ],
       "10.5465/AMR.1976.4408646": [
        "hypothesis generation",
        "hypothesis",
        "organizational behavior",
        "underemphasize hypothesis"
       ],
       "10.5539/ELT.V3N3P136": [
        "effective english"
       ],
       "10.5539/ELT.V5N3P100": [
        "motivation important",
        "motivation",
        "language teachers"
       ],
       "10.5539/JSD.V6N8P93": [
        "sufficient quantities",
        "access sufficient"
       ],
       "10.5539/ijel.v11n1p99": [
        "fake news",
        "public attention"
       ],
       "10.5589/Q07-002": [
        "internal ballistics",
        "propellant combustion",
        "solid propellant",
        "rocket motors"
       ],
       "10.5603/PSYCH.2020.0006": [
        "psychopathology depression",
        "effects psychopathology",
        "gender effects",
        "psychopathology"
       ],
       "10.5604/12314005.1138634": [
        "polymer fibres",
        "fibres great",
        "polymer",
        "nonwovens thermal"
       ],
       "10.5772/16210": [
        "transfer phenomena",
        "porous medium"
       ],
       "10.5772/24343": [
        "concentration purification",
        "purification important",
        "processes separation"
       ],
       "10.5772/24935": [
        "psychological syndrome"
       ],
       "10.5772/36060": [
        "microemulsions",
        "microemulsions stability",
        "properties microemulsions",
        "solvents biocatalysis"
       ],
       "10.5772/38708": [
        "combustion engines",
        "propulsion devices",
        "engines",
        "engines major"
       ],
       "10.5772/52794": [
        "fatigue life",
        "life estimation"
       ],
       "10.5772/55041": [
        "ulate photons",
        "optoelectronic technology",
        "generation optoelectronic",
        "photons nanoscale"
       ],
       "10.5772/60769": [
        "selection materials",
        "industrial application",
        "materials"
       ],
       "10.5772/8891": [
        "hydro generation",
        "mini hydro",
        "distributed generation",
        "electricity generation"
       ],
       "10.5772/intechopen.94873": [
        "chitosan",
        "hydrogels industrial",
        "functional biopolymer"
       ],
       "10.5781/JWJ.2014.32.2.18": [],
       "10.5782/2223-2621.2013.16.5.17": [
        "depression hopelessness",
        "hopelessness emotional",
        "depression",
        "emotional problems"
       ],
       "10.5812/IJHRBA.35081": [
        "disabilities comparison",
        "normal students"
       ],
       "10.5812/ircmj.12607": [
        "health inequality",
        "countries health",
        "healthcare systems"
       ],
       "10.5829/ije.2017.30.07a.17": [
        "integrated composites",
        "polymer composites",
        "reinforced polymer"
       ],
       "10.5840/BEQ200717339": [
        "corporate scandals",
        "fraudulent business",
        "strategic ethical"
       ],
       "10.5846/STXB201308062035": [
        "karst landscapes",
        "carbon sink",
        "karst"
       ],
       "10.5861/IJRSE.2014.896": [
        "metacognition",
        "role metacognition"
       ],
       "10.5901/MJSS.2014.V5N10P541": [
        "adolescent males",
        "rape",
        "morality adults",
        "violence women"
       ],
       "10.5901/jesr.2017.v7n1p13": [
        "women academic",
        "equality professions",
        "women rights",
        "academic research"
       ],
       "10.5902/2179460x39297": [
        "hydrosedimentology today",
        "hydrosedimentology",
        "topics hydrosedimentology"
       ],
       "10.5902/2236117036837": [],
       "10.5916/JKOSME.2010.34.5.670": [
        "surface protection",
        "protection methods",
        "corrosive environment",
        "steel structures"
       ],
       "10.5988/JIME.50.794": [
        "energy conversion",
        "marine environment",
        "performance efficiency",
        "conversion systems"
       ],
       "10.6000/1929-4409.2014.03.06": [
        "insecurity nigeria",
        "nigeria decades",
        "militias religious"
       ],
       "10.6007/IJARPED/V5-I2/2131": [
        "college life",
        "purpose college",
        "academic performance",
        "mental health"
       ],
       "10.6007/IJARPED/V9-I3/8257": [
        "dyscalculia",
        "disability mathematics",
        "mathematics"
       ],
       "10.6007/ijarbss/v8-i9/4695": [
        "emotional intelligence",
        "importance emotional",
        "intelligence"
       ],
       "10.6007/ijarped/v8-i4/6698": [
        "positive psychology",
        "mental health",
        "pathological disorders"
       ],
       "10.6332/ANMS.1502.001": [
        "corticobasal degeneration",
        "neuron degenerative"
       ],
       "10.7176/jpcr/50-04": [
        "religious radicalism",
        "radicalism phenomenon",
        "radicalism",
        "religious"
       ],
       "10.7454/MSSH.V17I2.2954": [
        "insecurity"
       ],
       "10.7467/KSAE.2013.21.4.106": [
        "compression ratio",
        "ignition engine",
        "engine performance"
       ],
       "10.7480/ABE.2018.14.3549": [
        "efficiency buildings",
        "energy efficiency",
        "mitigate climate",
        "environment european"
       ],
       "10.7492/ijaec.2018.018": [
        "incineration"
       ],
       "10.7498/aps.60.057103": [
        "magnetic properties",
        "permanent magnetic",
        "cast alloys"
       ],
       "10.7507/1001-5515.201907011": [
        "anxiety disorder",
        "anxiety",
        "emotional handicap",
        "mental health"
       ],
       "10.7567/JJAP.52.01AG04": [
        "leds algan",
        "algan ultraviolet"
       ],
       "10.7567/SSDM.2007.A-7-2": [
        "mosfets performance",
        "gate leakage",
        "mosfets",
        "gate depletion"
       ],
       "10.7575/AIAC.IJALEL.V.7N.7P.90": [
        "literary competence",
        "literary",
        "competence poor"
       ],
       "10.7575/aiac.ijels.v.3n.2p.25": [
        "teacher education"
       ],
       "10.7598/cst2013.21": [
        "coloured effluents",
        "groundwater contamination",
        "toxic coloured"
       ],
       "10.7731/KIFSE.2013.27.6.044": [
        "polyethylene",
        "ductility stabilized"
       ],
       "10.7748/en.25.1.15.s19": [],
       "10.7763/JOCET.2013.V1.16": [
        "organo sulfur",
        "fuel important"
       ],
       "10.7781/KJOSS.2012.24.5.583": [
        "concrete structures",
        "plate concrete",
        "nuclear structures",
        "research steel"
       ],
       "10.7827/TURKISHSTUDIES.4139": [
        "vocabulary"
       ],
       "10.7843/KGS.2013.29.2.5": [
        "conductivity soils",
        "thermal conductivity"
       ],
       "10.7907/GNV8-6M21.": [
        "microfluidic devices",
        "microfluidics",
        "field microfluidics",
        "microfluidic"
       ],
       "10.7907/RRYM-VK03.": [
        "solar photovoltaic",
        "energy generation"
       ],
       "10.7916/D8K64R74": [
        "spirituality mental",
        "religion spirituality",
        "spirituality",
        "relationship religion"
       ],
       "10.9744/CED.14.3.196-204": [
        "infrastructures"
       ],
       "10.9767/BCREC.11.1.414.40-46": [
        "dioxide tio2",
        "titanium dioxide",
        "tio2",
        "tio2 gained"
       ],
       "10.9770/jssi.2015.4.4(7)": [
        "crime essential",
        "crime",
        "security society"
       ],
       "10.9790/0837-19221923": [
        "career development",
        "career career",
        "notions career"
       ],
       "10.9790/5736-0153138": [
        "enhance sports",
        "sports performance",
        "athletes",
        "drugs enhance"
       ]
      },
      "text/plain": [
       "<IPython.core.display.JSON object>"
      ]
     },
     "execution_count": 28,
     "metadata": {
      "application/json": {
       "expanded": false,
       "root": "root"
      }
     },
     "output_type": "execute_result"
    }
   ],
   "source": [
    "from IPython.display import JSON\n",
    "JSON(topic_dict)"
   ]
  },
  {
   "cell_type": "code",
   "execution_count": 29,
   "id": "eef38028",
   "metadata": {},
   "outputs": [
    {
     "data": {
      "text/plain": [
       "({'perovskite solar': 0.68558,\n",
       "  'perovskite absorber': 0.7251,\n",
       "  'quality perovskite': 0.6347,\n",
       "  'planar perovskite': 0.5938,\n",
       "  'perovskite nanocrystals': 0.7741,\n",
       "  'halide perovskites': 0.6236,\n",
       "  'photoelectric conversion': 0.5857,\n",
       "  'perovskites': 0.5800000000000001,\n",
       "  'perovskites famous': 0.5231,\n",
       "  'solar cells': 0.488025,\n",
       "  'mesoporous carbon': 0.5637,\n",
       "  'carbon stack': 0.439,\n",
       "  'halide perovskite': 0.5508,\n",
       "  'perovskite': 0.5826666666666668,\n",
       "  'solar': 0.4381,\n",
       "  'based perovskite': 0.5682,\n",
       "  'organic perovskites': 0.748,\n",
       "  'perovskites emerged': 0.6609,\n",
       "  'materials optoelectronic': 0.5364,\n",
       "  'hybrid inorganic': 0.4672,\n",
       "  'material solar': 0.5112,\n",
       "  'solar cell': 0.4815,\n",
       "  'perovskite structured': 0.665,\n",
       "  'materials abx3': 0.6104,\n",
       "  'structured materials': 0.4384,\n",
       "  'energy storage': 0.3229},\n",
       " [('perovskites stoichiometry', 0.602),\n",
       "  ('halide perovskites', 0.5961),\n",
       "  ('hybrid metal', 0.3223)])"
      ]
     },
     "execution_count": 29,
     "metadata": {},
     "output_type": "execute_result"
    }
   ],
   "source": [
    "import random\n",
    "\n",
    "test = clusters[0][\"children\"]\n",
    "# s = random.sample(test, min(len(test)/3, 50))\n",
    "s = test[:10]\n",
    "\n",
    "kws = keyword_averaging(s) \n",
    "#! Averaging shown to not be great\n",
    "kws, get_kws(clusters[0][\"text\"])"
   ]
  },
  {
   "cell_type": "code",
   "execution_count": 31,
   "id": "35b8df90",
   "metadata": {},
   "outputs": [],
   "source": [
    "topic_path='downloads/230k_topic_items_non_medicine_clean1.json'"
   ]
  },
  {
   "cell_type": "code",
   "execution_count": 32,
   "id": "909b2dd4",
   "metadata": {},
   "outputs": [],
   "source": [
    "import json\n",
    "with open(topic_path, 'w') as f:\n",
    "    json.dump(topic_dict, f)"
   ]
  },
  {
   "cell_type": "code",
   "execution_count": 33,
   "id": "e554b14b",
   "metadata": {},
   "outputs": [
    {
     "data": {
      "text/plain": [
       "2963"
      ]
     },
     "execution_count": 33,
     "metadata": {},
     "output_type": "execute_result"
    }
   ],
   "source": [
    "## Ingest the processed docs into the HierarchicalTagger pipeline\n",
    "\n",
    "# Load topic labels from precomputed datast\n",
    "ROOT_DIR= \"/home/ec2-user/SageMaker/octoflow\"\n",
    "# If you ran Engines on your own data, change the path to where you stored the output.\n",
    "PRECOMPUTED_ITEM_TOPICS = os.path.join(ROOT_DIR, topic_path)\n",
    "with open(PRECOMPUTED_ITEM_TOPICS, \"r\") as f:\n",
    "    topics = json.load(f)\n",
    "\n",
    "# Confirm we have topics for all 3000 documents\n",
    "len(topics)\n"
   ]
  },
  {
   "cell_type": "code",
   "execution_count": 34,
   "id": "d0be1457",
   "metadata": {},
   "outputs": [
    {
     "data": {
      "text/html": [
       "<div>\n",
       "<style scoped>\n",
       "    .dataframe tbody tr th:only-of-type {\n",
       "        vertical-align: middle;\n",
       "    }\n",
       "\n",
       "    .dataframe tbody tr th {\n",
       "        vertical-align: top;\n",
       "    }\n",
       "\n",
       "    .dataframe thead th {\n",
       "        text-align: right;\n",
       "    }\n",
       "</style>\n",
       "<table border=\"1\" class=\"dataframe\">\n",
       "  <thead>\n",
       "    <tr style=\"text-align: right;\">\n",
       "      <th></th>\n",
       "      <th>text</th>\n",
       "      <th>doi</th>\n",
       "      <th>fields</th>\n",
       "      <th>predicts</th>\n",
       "    </tr>\n",
       "  </thead>\n",
       "  <tbody>\n",
       "    <tr>\n",
       "      <th>0</th>\n",
       "      <td>The field of bipolar affective disorders resea...</td>\n",
       "      <td>10.1016/S0924-9338(11)71909-5</td>\n",
       "      <td>Psychology</td>\n",
       "      <td>1.0</td>\n",
       "    </tr>\n",
       "    <tr>\n",
       "      <th>1</th>\n",
       "      <td>Thermal barrier coatings have been widely used...</td>\n",
       "      <td>10.4028/www.scientific.net/KEM.723.247</td>\n",
       "      <td>Materials Science</td>\n",
       "      <td>1.0</td>\n",
       "    </tr>\n",
       "    <tr>\n",
       "      <th>2</th>\n",
       "      <td>Drilling is a major process in the manufacturi...</td>\n",
       "      <td>10.1016/J.COMPSTRUCT.2013.04.026</td>\n",
       "      <td>Materials Science</td>\n",
       "      <td>1.0</td>\n",
       "    </tr>\n",
       "    <tr>\n",
       "      <th>3</th>\n",
       "      <td>&lt;p&gt;Mediterranean areas are vulnerable and at h...</td>\n",
       "      <td>10.5194/egusphere-egu2020-18914</td>\n",
       "      <td>Environmental Science</td>\n",
       "      <td>1.0</td>\n",
       "    </tr>\n",
       "    <tr>\n",
       "      <th>4</th>\n",
       "      <td>The sediment quality of Ribeira de Iguape Rive...</td>\n",
       "      <td>10.1007/s10661-017-5971-x</td>\n",
       "      <td>Environmental Science</td>\n",
       "      <td>1.0</td>\n",
       "    </tr>\n",
       "    <tr>\n",
       "      <th>...</th>\n",
       "      <td>...</td>\n",
       "      <td>...</td>\n",
       "      <td>...</td>\n",
       "      <td>...</td>\n",
       "    </tr>\n",
       "    <tr>\n",
       "      <th>1097968</th>\n",
       "      <td>Cars, as she notes, are productive sites of in...</td>\n",
       "      <td>10.1017/S0001972019000706</td>\n",
       "      <td>Sociology</td>\n",
       "      <td>1.0</td>\n",
       "    </tr>\n",
       "    <tr>\n",
       "      <th>1097969</th>\n",
       "      <td>Optical tools for manipulation and trapping of...</td>\n",
       "      <td>10.1364/OL.43.000030</td>\n",
       "      <td>Materials Science</td>\n",
       "      <td>1.0</td>\n",
       "    </tr>\n",
       "    <tr>\n",
       "      <th>1097970</th>\n",
       "      <td>recent years there has been rapid progress in ...</td>\n",
       "      <td>10.1039/C2AY05420E</td>\n",
       "      <td>Materials Science</td>\n",
       "      <td>1.0</td>\n",
       "    </tr>\n",
       "    <tr>\n",
       "      <th>1097971</th>\n",
       "      <td>Consumption of wastewater-irrigated vegetables...</td>\n",
       "      <td>10.1007/s10669-015-9558-1</td>\n",
       "      <td>Environmental Science</td>\n",
       "      <td>1.0</td>\n",
       "    </tr>\n",
       "    <tr>\n",
       "      <th>1097972</th>\n",
       "      <td>Visiting the settings of popular films and TV ...</td>\n",
       "      <td>10.1111/J.1475-4762.2009.00930.X</td>\n",
       "      <td>Sociology</td>\n",
       "      <td>1.0</td>\n",
       "    </tr>\n",
       "  </tbody>\n",
       "</table>\n",
       "<p>438224 rows × 4 columns</p>\n",
       "</div>"
      ],
      "text/plain": [
       "                                                      text  \\\n",
       "0        The field of bipolar affective disorders resea...   \n",
       "1        Thermal barrier coatings have been widely used...   \n",
       "2        Drilling is a major process in the manufacturi...   \n",
       "3        <p>Mediterranean areas are vulnerable and at h...   \n",
       "4        The sediment quality of Ribeira de Iguape Rive...   \n",
       "...                                                    ...   \n",
       "1097968  Cars, as she notes, are productive sites of in...   \n",
       "1097969  Optical tools for manipulation and trapping of...   \n",
       "1097970  recent years there has been rapid progress in ...   \n",
       "1097971  Consumption of wastewater-irrigated vegetables...   \n",
       "1097972  Visiting the settings of popular films and TV ...   \n",
       "\n",
       "                                            doi                 fields  \\\n",
       "0                 10.1016/S0924-9338(11)71909-5             Psychology   \n",
       "1        10.4028/www.scientific.net/KEM.723.247      Materials Science   \n",
       "2              10.1016/J.COMPSTRUCT.2013.04.026      Materials Science   \n",
       "3               10.5194/egusphere-egu2020-18914  Environmental Science   \n",
       "4                     10.1007/s10661-017-5971-x  Environmental Science   \n",
       "...                                         ...                    ...   \n",
       "1097968               10.1017/S0001972019000706              Sociology   \n",
       "1097969                    10.1364/OL.43.000030      Materials Science   \n",
       "1097970                      10.1039/C2AY05420E      Materials Science   \n",
       "1097971               10.1007/s10669-015-9558-1  Environmental Science   \n",
       "1097972        10.1111/J.1475-4762.2009.00930.X              Sociology   \n",
       "\n",
       "         predicts  \n",
       "0             1.0  \n",
       "1             1.0  \n",
       "2             1.0  \n",
       "3             1.0  \n",
       "4             1.0  \n",
       "...           ...  \n",
       "1097968       1.0  \n",
       "1097969       1.0  \n",
       "1097970       1.0  \n",
       "1097971       1.0  \n",
       "1097972       1.0  \n",
       "\n",
       "[438224 rows x 4 columns]"
      ]
     },
     "execution_count": 34,
     "metadata": {},
     "output_type": "execute_result"
    }
   ],
   "source": []
  },
  {
   "cell_type": "code",
   "execution_count": 35,
   "id": "7c26b46f",
   "metadata": {},
   "outputs": [],
   "source": [
    "attrs = {r[\"doi\"]: {\"fields\": r['fields'], \"text\": r['text']} for i, r in df[:230000].iterrows()}"
   ]
  },
  {
   "cell_type": "code",
   "execution_count": 36,
   "id": "c0be9601",
   "metadata": {},
   "outputs": [],
   "source": [
    "# # Rework the document topic representations into a dictionary mapping document_id: List[topic labels as str]\n",
    "# document_topics = {document_id: topics_entry['topics'] for document_id, topics_entry in topics.items()}\n",
    "# Send the document ids and their corresponding topic labels for ingest\n",
    "hierarchical_tagger.ingest(document_terms=topics, document_attributes=attrs)"
   ]
  },
  {
   "cell_type": "code",
   "execution_count": 37,
   "id": "a1fb5385",
   "metadata": {},
   "outputs": [],
   "source": [
    "# The previous step is the most computationally demanding.\n",
    "# To avoid having to repeat this, we can save our HierarchicalTagger instance to a json file, using the .to_json() helper method.\n",
    "# As this file will also be the input data to our web app, so let's save it in `webapp/data/`\n",
    "SERIALIZED_INSTANCE_PATH = os.path.join(ROOT_DIR, \"downloads/topic_tree_nonmed_june23_clean.json\")\n",
    "with open(SERIALIZED_INSTANCE_PATH, \"w\") as f:\n",
    "    f.write(hierarchical_tagger.to_json())\n",
    "\n",
    "# This is how we can reload a HierarchicalTagger instance from file\n",
    "with open(SERIALIZED_INSTANCE_PATH, \"r\") as f:\n",
    "    reloaded_serialized =  json.load(f)\n",
    "hierarchical_tagger = HierarchicalTagger.from_dict(reloaded_serialized)"
   ]
  },
  {
   "cell_type": "code",
   "execution_count": 56,
   "id": "f9c0bbaf",
   "metadata": {},
   "outputs": [],
   "source": [
    "# j = hierarchical_tagger.to_json()\n",
    "# for k,v in d.items():\n",
    "#     print(k)"
   ]
  },
  {
   "cell_type": "code",
   "execution_count": 51,
   "id": "9929a420",
   "metadata": {},
   "outputs": [],
   "source": [
    "import json\n",
    "with open('downloads/nonmed_hier_tree.json', 'w') as f:\n",
    "    json.dump(j, f)"
   ]
  },
  {
   "cell_type": "code",
   "execution_count": 82,
   "id": "00b440ae",
   "metadata": {},
   "outputs": [
    {
     "name": "stdout",
     "output_type": "stream",
     "text": [
      "materials\n",
      "├── acoustic\n",
      "│   ├── auditory\n",
      "│   └── music education\n",
      "├── biomass\n",
      "│   ├── energy source\n",
      "│   │   ├── fuels\n",
      "│   │   │   ├── biomass fuels\n",
      "│   │   │   │   ├── biogas biomass\n",
      "│   │   │   │   │   ├── based biomass\n",
      "│   │   │   │   │   └── biodegradability\n",
      "│   │   │   │   │       └── biofuel\n",
      "│   │   │   │   └── fossil fuel\n",
      "│   │   │   │       ├── combustion engines\n",
      "│   │   │   │       └── diesel engine\n",
      "│   │   │   ├── coal gasification\n",
      "│   │   │   │   ├── coal production\n",
      "│   │   │   │   ├── gasification systems\n",
      "│   │   │   │   └── natural resource\n",
      "│   │   │   ├── environmental issue\n",
      "│   │   │   │   ├── aerosol\n",
      "│   │   │   │   │   ├── haze\n",
      "│   │   │   │   │   │   └── near infrared\n",
      "│   │   │   │   │   └── ozone\n",
      "│   │   │   │   ├── carbon\n",
      "│   │   │   │   │   ├── carbon sink\n",
      "│   │   │   │   │   └── organic carbon\n",
      "│   │   │   │   │       ├── greenhouse gases\n",
      "│   │   │   │   │       │   └── global carbon\n",
      "│   │   │   │   │       └── terrestrial carbon\n",
      "│   │   │   │   ├── environmental pollution\n",
      "│   │   │   │   │   ├── emission\n",
      "│   │   │   │   │   │   └── emissions necessary\n",
      "│   │   │   │   │   ├── environmental hazards\n",
      "│   │   │   │   │   └── worldwide environmental\n",
      "│   │   │   │   ├── sustainable development\n",
      "│   │   │   │   │   └── sustainability\n",
      "│   │   │   │   └── world climate\n",
      "│   │   │   └── hydrogen generation\n",
      "│   │   │       └── catalysts based\n",
      "│   │   │           └── significance catalysis\n",
      "│   │   ├── liquids\n",
      "│   │   │   ├── hydrocarbons\n",
      "│   │   │   │   ├── ethanol represents\n",
      "│   │   │   │   └── hydrogels\n",
      "│   │   │   └── industrial processes\n",
      "│   │   │       ├── distillation\n",
      "│   │   │       │   ├── desalination\n",
      "│   │   │       │   └── separation processes\n",
      "│   │   │       ├── industrial application\n",
      "│   │   │       └── sludge\n",
      "│   │   │           └── disposal landfill\n",
      "│   │   ├── nuclear reactor\n",
      "│   │   │   ├── electrical failure\n",
      "│   │   │   ├── high neutron\n",
      "│   │   │   └── reactors\n",
      "│   │   └── solar energy\n",
      "│   │       ├── renewable electricity\n",
      "│   │       │   ├── energy consumption\n",
      "│   │       │   ├── energy storage\n",
      "│   │       │   └── renewable\n",
      "│   │       │       └── development renewable\n",
      "│   │       ├── solar cell\n",
      "│   │       │   ├── heterojunction solar\n",
      "│   │       │   └── photovoltaic\n",
      "│   │       ├── thermal properties\n",
      "│   │       │   ├── geotechnical\n",
      "│   │       │   │   └── geothermal\n",
      "│   │       │   ├── high temperature\n",
      "│   │       │   ├── refrigeration systems\n",
      "│   │       │   ├── thermal\n",
      "│   │       │   ├── thermal insulation\n",
      "│   │       │   ├── thermal stability\n",
      "│   │       │   └── thermoplastic\n",
      "│   │       │       └── thermoelectric\n",
      "│   │       └── wind power\n",
      "│   ├── hydrological ecological\n",
      "│   │   ├── alpine areas\n",
      "│   │   ├── catchments runoff\n",
      "│   │   │   ├── drought\n",
      "│   │   │   │   ├── heavy precipitation\n",
      "│   │   │   │   └── tropical cyclones\n",
      "│   │   │   └── wastewater\n",
      "│   │   │       ├── hydroelectric\n",
      "│   │   │       ├── hydrologic data\n",
      "│   │   │       ├── osmosis\n",
      "│   │   │       ├── runoff surface\n",
      "│   │   │       ├── wastewater treatment\n",
      "│   │   │       │   └── area groundwater\n",
      "│   │   │       └── watershed scale\n",
      "│   │   ├── ecosystem\n",
      "│   │   │   ├── coastal ecosystem\n",
      "│   │   │   │   └── fisheries management\n",
      "│   │   │   └── forest ecosystems\n",
      "│   │   │       ├── aquatic ecosystems\n",
      "│   │   │       ├── forest\n",
      "│   │   │       │   └── deforestation\n",
      "│   │   │       └── phytoplankton\n",
      "│   │   └── organic soils\n",
      "│   │       ├── agricultural products\n",
      "│   │       │   ├── crops\n",
      "│   │       │   │   └── crop production\n",
      "│   │       │   └── foods important\n",
      "│   │       │       ├── food products\n",
      "│   │       │       └── food security\n",
      "│   │       ├── organic inorganic\n",
      "│   │       ├── phosphorus nitrogen\n",
      "│   │       │   ├── nitrogen\n",
      "│   │       │   │   └── carbon nutrient\n",
      "│   │       │   └── phosphate based\n",
      "│   │       └── soil soil\n",
      "│   │           ├── fertilizer\n",
      "│   │           ├── soil behavior\n",
      "│   │           └── soil data\n",
      "│   └── scientific research\n",
      "│       ├── nondestructive evaluation\n",
      "│       ├── research\n",
      "│       ├── spectrometry\n",
      "│       └── tribological\n",
      "│           └── mathematics\n",
      "├── droplet\n",
      "├── materials electronic\n",
      "│   ├── amorphous\n",
      "│   │   ├── crystallization behavior\n",
      "│   │   │   ├── crystal growth\n",
      "│   │   │   ├── multiferroic\n",
      "│   │   │   │   └── tial intermetallic\n",
      "│   │   │   └── superconductors\n",
      "│   │   └── surface plasmon\n",
      "│   │       ├── perovskite based\n",
      "│   │       ├── phthalocyanines main\n",
      "│   │       └── plasmon resonance\n",
      "│   ├── cathode material\n",
      "│   ├── cavitation\n",
      "│   │   └── plasma\n",
      "│   ├── composite materials\n",
      "│   │   ├── alloys\n",
      "│   │   │   ├── ceramic\n",
      "│   │   │   ├── lithography\n",
      "│   │   │   ├── materials science\n",
      "│   │   │   │   └── properties materials\n",
      "│   │   │   ├── stainless steel\n",
      "│   │   │   │   └── strength steel\n",
      "│   │   │   │       └── welded metal\n",
      "│   │   │   └── transition metal\n",
      "│   │   ├── concrete\n",
      "│   │   │   ├── asphalt\n",
      "│   │   │   ├── cement based\n",
      "│   │   │   │   └── cement composites\n",
      "│   │   │   ├── concrete structures\n",
      "│   │   │   └── construction material\n",
      "│   │   ├── polymer composites\n",
      "│   │   │   ├── composite\n",
      "│   │   │   ├── fibre reinforced\n",
      "│   │   │   ├── glass fiber\n",
      "│   │   │   │   ├── fiber\n",
      "│   │   │   │   │   ├── carbon fiber\n",
      "│   │   │   │   │   └── fiber laser\n",
      "│   │   │   │   └── glassy polymers\n",
      "│   │   │   ├── plastic products\n",
      "│   │   │   │   ├── foam materials\n",
      "│   │   │   │   └── various biomaterials\n",
      "│   │   │   └── polymer based\n",
      "│   │   └── porous materials\n",
      "│   │       ├── flexible\n",
      "│   │       ├── membrane\n",
      "│   │       └── transparent materials\n",
      "│   ├── corrosion\n",
      "│   │   ├── deterioration quality\n",
      "│   │   ├── mechanical behavior\n",
      "│   │   │   └── friction\n",
      "│   │   └── vapor deposition\n",
      "│   │       ├── layer deposition\n",
      "│   │       └── surface treatment\n",
      "│   │           └── surface salinity\n",
      "│   ├── dielectric\n",
      "│   │   ├── advanced semiconductor\n",
      "│   │   │   └── flexible electronics\n",
      "│   │   ├── anode material\n",
      "│   │   └── optoelectronic technology\n",
      "│   ├── electrical insulators\n",
      "│   │   ├── capacitors\n",
      "│   │   └── insulators\n",
      "│   ├── electrochemical\n",
      "│   │   ├── electrode materials\n",
      "│   │   └── oxides materials\n",
      "│   │       └── zinc oxide\n",
      "│   ├── magnetic properties\n",
      "│   │   ├── ferroelectric\n",
      "│   │   └── magnetoresistance\n",
      "│   │       └── magnetoelectric\n",
      "│   ├── material lithium\n",
      "│   │   ├── boron nitride\n",
      "│   │   │   ├── boron\n",
      "│   │   │   ├── niobium niobium\n",
      "│   │   │   ├── rare earth\n",
      "│   │   │   │   └── chromium\n",
      "│   │   │   └── zirconia\n",
      "│   │   ├── fe2o3 remarkable\n",
      "│   │   │   └── ferrite\n",
      "│   │   ├── graphene\n",
      "│   │   ├── lithium batteries\n",
      "│   │   │   ├── batteries libs\n",
      "│   │   │   └── lithium titanate\n",
      "│   │   └── titanium dioxide\n",
      "│   │       └── silicon\n",
      "│   │           └── silica\n",
      "│   ├── nanotube\n",
      "│   │   ├── microelectromechanical\n",
      "│   │   │   └── nano microscale\n",
      "│   │   ├── microfluid\n",
      "│   │   ├── nanocomposites\n",
      "│   │   └── nanoparticle\n",
      "│   │       ├── nanoscience nanotechnology\n",
      "│   │       └── nanostructures\n",
      "│   ├── photocatalytic\n",
      "│   │   ├── photodetectors\n",
      "│   │   └── photonic\n",
      "│   │       ├── laser\n",
      "│   │       │   ├── laser diodes\n",
      "│   │       │   └── laser pulses\n",
      "│   │       ├── microscopy\n",
      "│   │       │   ├── luminescent\n",
      "│   │       │   └── microscope\n",
      "│   │       └── optical devices\n",
      "│   ├── silicon carbide\n",
      "│   └── technological\n",
      "│       ├── aerospace industry\n",
      "│       ├── communication technologies\n",
      "│       │   ├── information systems\n",
      "│       │   └── interconnect\n",
      "│       ├── difficult machine\n",
      "│       └── wearable devices\n",
      "├── mental disorder\n",
      "│   ├── anxiety patients\n",
      "│   │   ├── anxiety\n",
      "│   │   └── social anxiety\n",
      "│   ├── aphasia\n",
      "│   │   └── apnea\n",
      "│   ├── cognitive impairment\n",
      "│   │   ├── adhd\n",
      "│   │   ├── cognitive\n",
      "│   │   │   └── mild cognitive\n",
      "│   │   ├── conditions alzheimer\n",
      "│   │   │   ├── neurological disorder\n",
      "│   │   │   │   └── nonmotor symptoms\n",
      "│   │   │   │       └── motor impairments\n",
      "│   │   │   └── parkinson disease\n",
      "│   │   ├── disability\n",
      "│   │   └── dystonia\n",
      "│   ├── cortical\n",
      "│   │   └── hippocampal\n",
      "│   ├── depressive illness\n",
      "│   │   └── major depressive\n",
      "│   ├── disorder\n",
      "│   │   └── affective disorder\n",
      "│   ├── drug addiction\n",
      "│   │   ├── addiction\n",
      "│   │   └── nicotine\n",
      "│   ├── health problem\n",
      "│   │   ├── cardiovascular disease\n",
      "│   │   │   ├── diabetes mellitus\n",
      "│   │   │   │   ├── adults diabetes\n",
      "│   │   │   │   └── immunodeficiency syndrome\n",
      "│   │   │   └── heart disease\n",
      "│   │   └── mental healthcare\n",
      "│   │       ├── fatigue\n",
      "│   │       │   └── obesity\n",
      "│   │       ├── physical activity\n",
      "│   │       └── public health\n",
      "│   │           └── human health\n",
      "│   ├── journalism\n",
      "│   │   └── niqab\n",
      "│   ├── obsessive compulsive\n",
      "│   │   └── drowsiness\n",
      "│   │       └── insomnia disorder\n",
      "│   ├── psychological distress\n",
      "│   │   └── emotion regulation\n",
      "│   │       ├── psychology\n",
      "│   │       └── responses emotional\n",
      "│   ├── schizophrenia illness\n",
      "│   │   └── psychiatry\n",
      "│   └── social problem\n",
      "│       ├── criminal behaviour\n",
      "│       │   ├── violence\n",
      "│       │   │   └── crime\n",
      "│       │   └── women incarcerated\n",
      "│       ├── educational researchers\n",
      "│       │   ├── adolescents child\n",
      "│       │   │   ├── adolescent\n",
      "│       │   │   │   └── youth\n",
      "│       │   │   ├── child development\n",
      "│       │   │   └── child protection\n",
      "│       │   ├── education teacher\n",
      "│       │   │   └── education issue\n",
      "│       │   │       └── problems educational\n",
      "│       │   ├── entrepreneurship\n",
      "│       │   │   ├── career development\n",
      "│       │   │   └── tourism experience\n",
      "│       │   ├── higher education\n",
      "│       │   │   └── community colleges\n",
      "│       │   └── medical student\n",
      "│       ├── ethical issues\n",
      "│       │   ├── ethical decision\n",
      "│       │   └── study neoliberalism\n",
      "│       ├── gender role\n",
      "│       │   ├── gender effect\n",
      "│       │   ├── incontinence\n",
      "│       │   └── masculinity\n",
      "│       ├── global problems\n",
      "│       │   ├── health global\n",
      "│       │   └── problems countries\n",
      "│       ├── negative effects\n",
      "│       ├── older people\n",
      "│       │   └── intergenerational\n",
      "│       │       ├── epitaxial growth\n",
      "│       │       └── genetic\n",
      "│       ├── phenomenon multilingualism\n",
      "│       │   ├── behavior\n",
      "│       │   │   ├── organizational behavior\n",
      "│       │   │   │   ├── behavioral traits\n",
      "│       │   │   │   └── leadership\n",
      "│       │   │   └── theory mind\n",
      "│       │   │       └── human perceptual\n",
      "│       │   │           ├── emotional intelligence\n",
      "│       │   │           └── mindfulness\n",
      "│       │   ├── intercultural relations\n",
      "│       │   │   ├── cultural diversity\n",
      "│       │   │   │   ├── citizenship\n",
      "│       │   │   │   └── radicalism phenomenon\n",
      "│       │   │   └── relationship\n",
      "│       │   │       ├── mediated communication\n",
      "│       │   │       └── partnership\n",
      "│       │   └── language impairment\n",
      "│       │       └── language disorder\n",
      "│       │           └── second language\n",
      "│       │               ├── bilingual\n",
      "│       │               └── foreign language\n",
      "│       ├── religious\n",
      "│       │   └── self esteem\n",
      "│       ├── social isolation\n",
      "│       │   ├── antisocial personality\n",
      "│       │   │   └── antisocial\n",
      "│       │   └── stigma\n",
      "│       ├── social justice\n",
      "│       ├── socioeconomic status\n",
      "│       └── urban areas\n",
      "│           └── traffic accidents\n",
      "└── science bionic\n",
      "    ├── microbial\n",
      "    │   ├── antibiotic\n",
      "    │   │   └── bacterial infection\n",
      "    │   └── biological tissue\n",
      "    │       └── biotechnologies\n",
      "    └── prostheses\n",
      "        └── epoxy\n",
      "            └── biomedical implant\n",
      "\n"
     ]
    }
   ],
   "source": [
    "## Build the topic tree and tag the documents\n",
    "#### Hierarchical topic tree\n",
    "\n",
    "#The `.fit_tag_tree()` method populates the `.tree` attribute with a [treelib](https://treelib.readthedocs.io/en/latest/) object representing the extracted term tree. This can be manipulated and explored with all the treelib methods, for example `.show()` to print out a text representation of the tree.\n",
    "\n",
    "# Fit the tree\n",
    "hierarchical_tagger.fit_tag_tree( term_similarity_threshold = 0.9,)\n",
    "hierarchical_tagger.tree.show()"
   ]
  },
  {
   "cell_type": "code",
   "execution_count": 89,
   "id": "b140b6c7",
   "metadata": {},
   "outputs": [
    {
     "name": "stdout",
     "output_type": "stream",
     "text": [
      "materials phenomenon\n",
      "├── aerosols atmospheric\n",
      "│   ├── aeronautical aerospace\n",
      "│   │   ├── rocket motors\n",
      "│   │   │   └── unmanned airborne\n",
      "│   │   └── ultrasonic\n",
      "│   ├── hemispheric\n",
      "│   ├── satellite data\n",
      "│   └── stratospheric clouds\n",
      "├── cement\n",
      "│   ├── masonry unit\n",
      "│   └── porous ceramics\n",
      "│       └── clay mineralogy\n",
      "├── cocaine marijuana\n",
      "│   ├── cancer\n",
      "│   └── nicotine\n",
      "├── energy source\n",
      "│   ├── carbon fuel\n",
      "│   │   ├── biogas biomass\n",
      "│   │   ├── flame retardant\n",
      "│   │   ├── lightweight efficiency\n",
      "│   │   └── pollution environmental\n",
      "│   │       └── industrial wastewaters\n",
      "│   ├── lithium batteries\n",
      "│   │   ├── hydrogen\n",
      "│   │   │   └── oxygen reduction\n",
      "│   │   ├── ions solid\n",
      "│   │   │   └── alkali ions\n",
      "│   │   ├── mesoporous silica\n",
      "│   │   │   ├── mg2si important\n",
      "│   │   │   └── sio2 common\n",
      "│   │   ├── nitrate ammonium\n",
      "│   │   └── organic molecular\n",
      "│   │       ├── antimicrobial\n",
      "│   │       ├── liquids\n",
      "│   │       │   ├── hydrocarbon compositions\n",
      "│   │       │   │   └── hydrogels\n",
      "│   │       │   └── microfluid\n",
      "│   │       │       ├── conductive inks\n",
      "│   │       │       └── stabilization emulsions\n",
      "│   │       ├── phthalocyanine\n",
      "│   │       │   └── doped fluoride\n",
      "│   │       │       └── hexafluoride\n",
      "│   │       ├── plasmonic\n",
      "│   │       ├── polyacrylamides\n",
      "│   │       └── spectrometry\n",
      "│   └── thermal condition\n",
      "│       ├── cryogenic insulation\n",
      "│       │   └── membrane based\n",
      "│       │       └── indoor environ\n",
      "│       └── river hydrological\n",
      "│           ├── carbon pools\n",
      "│           │   └── carbon sink\n",
      "│           ├── geothermal energy\n",
      "│           │   └── pyrolysis technique\n",
      "│           │       └── pyrochlore\n",
      "│           ├── hydropower\n",
      "│           ├── permeability properties\n",
      "│           │   └── molecular dynamics\n",
      "│           ├── thermoelastic\n",
      "│           └── vapor deposition\n",
      "│               ├── evapotranspiration\n",
      "│               └── moisture content\n",
      "├── erosion corrosion\n",
      "│   ├── coastal sediments\n",
      "│   │   ├── mineral resources\n",
      "│   │   │   └── construction industry\n",
      "│   │   ├── seabed contributes\n",
      "│   │   └── slurry\n",
      "│   │       ├── droplet collision\n",
      "│   │       └── tailings\n",
      "│   ├── impact penetration\n",
      "│   ├── issue deterioration\n",
      "│   ├── railway vehicles\n",
      "│   ├── reliability solid\n",
      "│   │   ├── durability metals\n",
      "│   │   └── resilience\n",
      "│   ├── safety\n",
      "│   │   ├── accidents\n",
      "│   │   ├── protection systems\n",
      "│   │   └── stressful dangerous\n",
      "│   └── vibration\n",
      "├── forest ecosystems\n",
      "│   ├── agricultural activities\n",
      "│   │   ├── food important\n",
      "│   │   │   ├── agri food\n",
      "│   │   │   └── lime typical\n",
      "│   │   └── soil\n",
      "│   │       ├── dynamics grasslands\n",
      "│   │       ├── manure\n",
      "│   │       └── rice\n",
      "│   ├── arid regions\n",
      "│   │   ├── extreme drought\n",
      "│   │   │   └── arctic tundra\n",
      "│   │   │       └── climatological environmental\n",
      "│   │   └── geographical research\n",
      "│   │       └── karst landscapes\n",
      "│   ├── genus eucalyptus\n",
      "│   ├── lichens\n",
      "│   ├── modified organisms\n",
      "│   │   ├── evolution\n",
      "│   │   │   ├── epitaxial growth\n",
      "│   │   │   └── genetic\n",
      "│   │   └── pathogenic bacteria\n",
      "│   │       ├── airborne fungi\n",
      "│   │       └── biodegradability\n",
      "│   │           ├── science bionic\n",
      "│   │           │   ├── biotechnologies\n",
      "│   │           │   └── cellulose nanocrystals\n",
      "│   │           └── tissue engineered\n",
      "│   │               ├── biological tissue\n",
      "│   │               └── synthetic graft\n",
      "│   ├── phytoplankton\n",
      "│   └── protein\n",
      "│       └── performance cows\n",
      "│           └── swine\n",
      "├── graphene\n",
      "│   ├── boron\n",
      "│   │   └── germanium\n",
      "│   └── holograms\n",
      "├── nanomaterials\n",
      "│   ├── bonded joints\n",
      "│   │   └── adhesion\n",
      "│   ├── fibers glass\n",
      "│   │   └── fiber\n",
      "│   ├── fracture\n",
      "│   ├── polymers composites\n",
      "│   └── solidification\n",
      "│       └── granular materials\n",
      "├── perovskite based\n",
      "│   └── martensite\n",
      "│       └── minerals pozzolanic\n",
      "├── psychiatric disorders\n",
      "│   ├── addictive disorders\n",
      "│   ├── apnea\n",
      "│   ├── artificial bone\n",
      "│   │   ├── lumbar radices\n",
      "│   │   ├── mycorrhizal\n",
      "│   │   │   └── alexithymia\n",
      "│   │   ├── prostheses\n",
      "│   │   └── riparian\n",
      "│   ├── attention deficit\n",
      "│   ├── auditory hallucinations\n",
      "│   │   └── unresponsive wakefulness\n",
      "│   │       └── drowsiness\n",
      "│   ├── behavior\n",
      "│   │   ├── adolescents child\n",
      "│   │   │   ├── deprived neighborhoods\n",
      "│   │   │   │   ├── offenders\n",
      "│   │   │   │   ├── socioeconomic disadvantage\n",
      "│   │   │   │   │   └── justice fairness\n",
      "│   │   │   │   └── urban areas\n",
      "│   │   │   ├── migration\n",
      "│   │   │   │   ├── associated burnout\n",
      "│   │   │   │   │   ├── persistent neglect\n",
      "│   │   │   │   │   └── student attrition\n",
      "│   │   │   │   │       └── withdrawal\n",
      "│   │   │   │   └── population dynamics\n",
      "│   │   │   ├── parents\n",
      "│   │   │   │   ├── adoption\n",
      "│   │   │   │   └── intergenerational\n",
      "│   │   │   ├── sexual abuse\n",
      "│   │   │   └── skills children\n",
      "│   │   ├── athletes\n",
      "│   │   │   └── movement actors\n",
      "│   │   ├── cognitive psychology\n",
      "│   │   │   ├── aggression\n",
      "│   │   │   │   ├── antisocial behaviour\n",
      "│   │   │   │   ├── disgust\n",
      "│   │   │   │   ├── negative biases\n",
      "│   │   │   │   │   └── prejudice neglect\n",
      "│   │   │   │   └── stigma\n",
      "│   │   │   │       ├── depersonalization\n",
      "│   │   │   │       ├── self esteem\n",
      "│   │   │   │       └── social interaction\n",
      "│   │   │   │           └── isolation loneliness\n",
      "│   │   │   ├── consciousness focus\n",
      "│   │   │   │   ├── attention focused\n",
      "│   │   │   │   └── intentionality\n",
      "│   │   │   ├── contemporary social\n",
      "│   │   │   │   ├── cultural diversity\n",
      "│   │   │   │   │   ├── africa society\n",
      "│   │   │   │   │   │   └── south african\n",
      "│   │   │   │   │   ├── criminology\n",
      "│   │   │   │   │   ├── critique heterosexist\n",
      "│   │   │   │   │   ├── economics anthropology\n",
      "│   │   │   │   │   ├── ethical\n",
      "│   │   │   │   │   │   └── pragmatic language\n",
      "│   │   │   │   │   ├── indigenous\n",
      "│   │   │   │   │   ├── late modernity\n",
      "│   │   │   │   │   ├── philosophical\n",
      "│   │   │   │   │   │   ├── crisis humanities\n",
      "│   │   │   │   │   │   └── problems epistemology\n",
      "│   │   │   │   │   ├── racism ethnic\n",
      "│   │   │   │   │   ├── relevance decade\n",
      "│   │   │   │   │   │   └── metacognition\n",
      "│   │   │   │   │   └── social movement\n",
      "│   │   │   │   │       ├── civic participation\n",
      "│   │   │   │   │       │   └── collective action\n",
      "│   │   │   │   │       ├── controversial topic\n",
      "│   │   │   │   │       └── social conflict\n",
      "│   │   │   │   ├── leadership\n",
      "│   │   │   │   │   ├── discipline control\n",
      "│   │   │   │   │   │   └── knowledge management\n",
      "│   │   │   │   │   ├── identity\n",
      "│   │   │   │   │   │   └── privacy\n",
      "│   │   │   │   │   ├── organizational behavior\n",
      "│   │   │   │   │   └── teamwork\n",
      "│   │   │   │   │       └── partnership\n",
      "│   │   │   │   └── media attention\n",
      "│   │   │   ├── diagnosis semantic\n",
      "│   │   │   ├── emotion\n",
      "│   │   │   │   ├── motivation\n",
      "│   │   │   │   │   └── creativity\n",
      "│   │   │   │   └── years empathy\n",
      "│   │   │   ├── facial affect\n",
      "│   │   │   │   └── differences vividness\n",
      "│   │   │   └── psychotherapy\n",
      "│   │   ├── educators\n",
      "│   │   │   ├── american schools\n",
      "│   │   │   ├── curriculum diverse\n",
      "│   │   │   ├── development industry\n",
      "│   │   │   │   ├── career development\n",
      "│   │   │   │   │   └── development achieve\n",
      "│   │   │   │   ├── consumers\n",
      "│   │   │   │   │   └── unemployment main\n",
      "│   │   │   │   ├── entrepreneurial\n",
      "│   │   │   │   └── textile\n",
      "│   │   │   ├── health\n",
      "│   │   │   │   ├── dental restorations\n",
      "│   │   │   │   ├── healthcare systems\n",
      "│   │   │   │   └── outcomes studies\n",
      "│   │   │   ├── special educational\n",
      "│   │   │   ├── tertiary education\n",
      "│   │   │   │   ├── academic performance\n",
      "│   │   │   │   └── college life\n",
      "│   │   │   └── tourism\n",
      "│   │   ├── globalized world\n",
      "│   │   │   ├── communication technologies\n",
      "│   │   │   │   ├── information systems\n",
      "│   │   │   │   ├── ports\n",
      "│   │   │   │   └── social network\n",
      "│   │   │   ├── global crop\n",
      "│   │   │   ├── indonesia country\n",
      "│   │   │   ├── problems countries\n",
      "│   │   │   └── worldwide epidemic\n",
      "│   │   ├── language\n",
      "│   │   │   ├── acoustic\n",
      "│   │   │   └── literary\n",
      "│   │   ├── religious\n",
      "│   │   │   ├── muslim\n",
      "│   │   │   └── sagd\n",
      "│   │   └── women gender\n",
      "│   │       ├── marital\n",
      "│   │       │   └── infertile\n",
      "│   │       ├── masculinity\n",
      "│   │       ├── preterm infants\n",
      "│   │       │   └── androgenic steroid\n",
      "│   │       └── sexuality people\n",
      "│   │           └── sexual behavior\n",
      "│   ├── cardiovascular disease\n",
      "│   │   ├── people diabetes\n",
      "│   │   │   ├── immunodeficiency syndrome\n",
      "│   │   │   └── obesity\n",
      "│   │   └── vascular stents\n",
      "│   ├── chronic fatigue\n",
      "│   │   └── theories migraine\n",
      "│   ├── cortical\n",
      "│   │   ├── amygdalar dysfunction\n",
      "│   │   │   ├── cholinergic hypothesis\n",
      "│   │   │   └── serotonin\n",
      "│   │   ├── motor neurons\n",
      "│   │   └── nematic\n",
      "│   │       └── neuromorphic\n",
      "│   ├── dysphagia\n",
      "│   │   ├── dysmorphic disorder\n",
      "│   │   └── premenstrual syndrome\n",
      "│   ├── parkinson disease\n",
      "│   │   ├── antipsychotic\n",
      "│   │   │   └── epilepsy\n",
      "│   │   └── motor disorder\n",
      "│   ├── people alzheimer\n",
      "│   │   └── individuals disabilities\n",
      "│   └── trauma\n",
      "│       ├── recovery\n",
      "│       └── suicide\n",
      "│           └── grief\n",
      "├── separation processes\n",
      "│   ├── adsorption\n",
      "│   │   └── desalination\n",
      "│   │       └── deionization\n",
      "│   ├── assessment\n",
      "│   │   ├── measurement errors\n",
      "│   │   └── scientific knowledge\n",
      "│   │       └── theories represented\n",
      "│   ├── based heterostructures\n",
      "│   │   ├── heterogeneous\n",
      "│   │   │   └── heterojunction solar\n",
      "│   │   ├── mathematics\n",
      "│   │   └── terahertz\n",
      "│   │       └── tial intermetallic\n",
      "│   └── dissociative phenomena\n",
      "├── solar photovoltaic\n",
      "│   ├── electrochemical\n",
      "│   │   ├── flexible electronics\n",
      "│   │   │   ├── application spintronic\n",
      "│   │   │   ├── biomedical devices\n",
      "│   │   │   │   └── biomedical implant\n",
      "│   │   │   └── interconnects microelectronics\n",
      "│   │   └── hybrid electric\n",
      "│   └── photonic\n",
      "│       ├── conventional transparent\n",
      "│       │   └── glasses sundry\n",
      "│       ├── laser\n",
      "│       ├── optoelectronic technology\n",
      "│       │   └── materials plasma\n",
      "│       └── photocatalytic\n",
      "│           ├── luminescent\n",
      "│           └── photodetectors\n",
      "├── steel alloys\n",
      "│   ├── austenitic alloys\n",
      "│   ├── magnetic properties\n",
      "│   │   ├── dielectric capacitors\n",
      "│   │   │   └── superconductors\n",
      "│   │   ├── electron emitters\n",
      "│   │   └── piezoelectric\n",
      "│   ├── nuclear reactor\n",
      "│   │   └── migration radionuclides\n",
      "│   └── oxide semiconductor\n",
      "│       ├── chromium carbide\n",
      "│       │   └── silicon oxycarbide\n",
      "│       ├── niobium\n",
      "│       │   └── silicon nitride\n",
      "│       └── zinc sulfide\n",
      "│           ├── diamond\n",
      "│           ├── rare earth\n",
      "│           │   └── mercury\n",
      "│           │       └── nickel\n",
      "│           └── transition metal\n",
      "│               └── tribological\n",
      "└── tio2\n",
      "    ├── cell sofc\n",
      "    │   └── fef3\n",
      "    ├── covid\n",
      "    └── mosfets\n",
      "        └── eafd\n",
      "            └── ecap materials\n",
      "\n"
     ]
    }
   ],
   "source": [
    "# Fit the tree\n",
    "hierarchical_tagger.fit_tag_tree( term_similarity_threshold = 0.75)\n",
    "hierarchical_tagger.tree.show()"
   ]
  },
  {
   "cell_type": "code",
   "execution_count": 90,
   "id": "3930d9b8",
   "metadata": {},
   "outputs": [],
   "source": [
    "d = hierarchical_tagger.tree.save2file(\"downloads/matsci_tree_75%sim.txt\")"
   ]
  },
  {
   "cell_type": "code",
   "execution_count": null,
   "id": "34581cc8",
   "metadata": {},
   "outputs": [],
   "source": []
  },
  {
   "cell_type": "markdown",
   "id": "919380f3",
   "metadata": {},
   "source": [
    "#### Document tags\n",
    "\n",
    "Inspect the `document_tags` attribute: a dictionary mapping document `id` to a list of tuples of the form `(term, score, node_id)` sorted by descending score. `score` measures how close in meaning the term is to the document. We would expect higher level abstractions to have lower scores.\n",
    "`node_id` loosely indicates how high the node is in the tree: it's not a perfect measure, but more abstract terms will generally have higher `node_id`s."
   ]
  },
  {
   "cell_type": "code",
   "execution_count": null,
   "id": "3402fa6a",
   "metadata": {},
   "outputs": [],
   "source": []
  },
  {
   "cell_type": "code",
   "execution_count": 75,
   "id": "36642b5b",
   "metadata": {},
   "outputs": [],
   "source": [
    "#JSON(topics)"
   ]
  },
  {
   "cell_type": "code",
   "execution_count": 69,
   "id": "96a5b0e5",
   "metadata": {},
   "outputs": [
    {
     "name": "stderr",
     "output_type": "stream",
     "text": [
      "/home/ec2-user/anaconda3/envs/pytorch_p36/lib/python3.6/site-packages/scipy/sparse/compressed.py:290: SparseEfficiencyWarning: Comparing a sparse matrix with a scalar greater than zero using <= is inefficient, try using > instead.\n",
      "  warn(bad_scalar_msg, SparseEfficiencyWarning)\n",
      "/home/ec2-user/anaconda3/envs/pytorch_p36/lib/python3.6/site-packages/scipy/sparse/_index.py:124: SparseEfficiencyWarning: Changing the sparsity structure of a csr_matrix is expensive. lil_matrix is more efficient.\n",
      "  self._set_arrayXarray(i, j, x)\n"
     ]
    }
   ],
   "source": [
    "# The final step is tagging the original documents based on the hierarchy we found in the tree\n",
    "hierarchical_tagger.tag_documents()\n",
    "\n",
    "\n",
    "# Let's see how the tags assinged to the Hover Board example we saw above\n"
   ]
  },
  {
   "cell_type": "code",
   "execution_count": 71,
   "id": "def38a00",
   "metadata": {},
   "outputs": [
    {
     "data": {
      "text/plain": [
       "[('anode material', 0.7541727949296154, 1341),\n",
       " ('dielectric', 0.4198310119503508, 1414),\n",
       " ('lithium batteries', 0.31604276855880103, 1383),\n",
       " ('materials electronic', 0.2928718871608111, 1626),\n",
       " ('material lithium', 0.21131606755417073, 1602),\n",
       " ('materials', 0.15701548502867838, 1638)]"
      ]
     },
     "execution_count": 71,
     "metadata": {},
     "output_type": "execute_result"
    }
   ],
   "source": [
    "# The final step is tagging the original documents based on the hierarchy we found in the tree\n",
    "hierarchical_tagger.document_tags['10.1021/acsomega.0c00729']"
   ]
  },
  {
   "cell_type": "code",
   "execution_count": 81,
   "id": "88b20ac5",
   "metadata": {},
   "outputs": [
    {
     "data": {
      "text/plain": [
       "0.9"
      ]
     },
     "execution_count": 81,
     "metadata": {},
     "output_type": "execute_result"
    }
   ],
   "source": [
    "hierarchical_tagger."
   ]
  },
  {
   "cell_type": "code",
   "execution_count": null,
   "id": "7b55a4d8",
   "metadata": {},
   "outputs": [],
   "source": [
    "import time\n",
    "start_time = time.time()\n",
    "\n",
    "print(\"Encode the corpus of {}... get a coffee in the meantime\".format(len(sentences)))\n",
    "model = SentenceTransformer('sentence-transformers/all-mpnet-base-v2')\n",
    "embeddings = model.encode(sentences, batch_size=64, show_progress_bar=True, convert_to_tensor=True)"
   ]
  },
  {
   "cell_type": "code",
   "execution_count": 25,
   "id": "ba0aecc7",
   "metadata": {},
   "outputs": [
    {
     "name": "stdout",
     "output_type": "stream",
     "text": [
      "Collecting treelib\n",
      "  Using cached treelib-1.6.1-py3-none-any.whl\n",
      "Collecting scikit-network\n",
      "  Using cached scikit_network-0.20.0-cp36-cp36m-manylinux2010_x86_64.whl (7.5 MB)\n",
      "Requirement already satisfied: future in /home/ec2-user/anaconda3/envs/pytorch_p36/lib/python3.6/site-packages (from treelib) (0.18.2)\n",
      "Requirement already satisfied: numpy>=1.18.3 in /home/ec2-user/anaconda3/envs/pytorch_p36/lib/python3.6/site-packages (from scikit-network) (1.19.5)\n",
      "Requirement already satisfied: scipy>=1.4.1 in /home/ec2-user/anaconda3/envs/pytorch_p36/lib/python3.6/site-packages (from scikit-network) (1.5.3)\n",
      "Installing collected packages: treelib, scikit-network\n",
      "Successfully installed scikit-network-0.20.0 treelib-1.6.1\n"
     ]
    }
   ],
   "source": [
    "!pip install treelib scikit-network\n",
    "\n",
    "import copy\n",
    "import json\n",
    "import os\n",
    "from collections import Counter, defaultdict, namedtuple\n",
    "from dataclasses import dataclass, field\n",
    "from typing import AnyStr, Dict, List\n",
    "\n",
    "import numpy as np\n",
    "from scipy.sparse import csr_matrix\n",
    "from sentence_transformers import SentenceTransformer\n",
    "from sklearn.cluster import AgglomerativeClustering\n",
    "from sklearn.feature_extraction.text import TfidfTransformer\n",
    "from sklearn.metrics.pairwise import cosine_similarity\n",
    "from sklearn.preprocessing import normalize\n",
    "from sknetwork.clustering import Louvain\n",
    "from treelib import Tree\n",
    "\n",
    "\n",
    "def make_empty_array():\n",
    "    return np.ndarray([])\n",
    "\n",
    "\n",
    "def make_empty_csr_matrix():\n",
    "    return csr_matrix([])\n",
    "\n",
    "\n",
    "DataProperty = namedtuple(\n",
    "    \"DataProperty\", [\"n_terms\", \"n_occurrences\", \"core_terms\", \"term_set\", \"label\"]\n",
    ")\n",
    "\n",
    "\n",
    "@dataclass\n",
    "class HierarchicalTagger:\n",
    "    \"\"\"\n",
    "    # Basic use:\n",
    "\n",
    "    Data must be dictionaries of the form:\n",
    "    {doc_id : [\"term_1\", \"term_2\", ...]}\n",
    "    DOCS  = {\"1\": [\"Burgers\", \"Vegetarian Diet\"],\n",
    "         \"2\": [\"Britney Spears\", \"Music\", \"Conservatorship\"]}\n",
    "\n",
    "    # Instantiate\n",
    "    hierarchical_tagger = HierarchicalTagger()\n",
    "\n",
    "    # Ingest documents\n",
    "    # Ingest can take time. See below for saving and reloading your object\n",
    "    hierarchical_tagger.ingest(document_terms=DOCS)\n",
    "\n",
    "    # Learn tag tree\n",
    "    hierarchical_tagger.fit_tag_tree()\n",
    "\n",
    "    # Inspect tag tree\n",
    "    hierarchical_tagger.tree.show()   # c.tree is a treelib Tree object\n",
    "\n",
    "    # Tag documents\n",
    "    hierarchical_tagger.tag_documents()\n",
    "\n",
    "    # Inspect document tags\n",
    "    hierarchical_tagger.document_tags # {doc_id : [(tag, score, approximate hierarchy level), ...]}\n",
    "\n",
    "    # Saving to JSON string\n",
    "    serialized = hierarchical_tagger.to_json()\n",
    "\n",
    "    # Loading from JSON string\n",
    "    hierarchical_tagger = HierarchicalTagger.from_json(\n",
    "        serialized,\n",
    "        hydrate_tree=True,\n",
    "        hydrate_tags=True\n",
    "    )\n",
    "\n",
    "    Advanced options:\n",
    "\n",
    "    # Upon document ingestion\n",
    "\n",
    "    term_suggestions: List[AnyStr] = A list of suggested terms to consider when building the tree\n",
    "\n",
    "    filter_geo_terms: bool = A boolean parameter to exclude geographical terms from the term set\n",
    "\n",
    "    document_attributes: Dict[AnyStr, Dict] = A dictionary storing additional arbitrary attributes about the documents.\n",
    "    Expected schema is {doc_id: {attribute_1_name: attribute_1_value, attribute_2_name: attribute_2_value, ... }.\n",
    "    This field is useful to store, for example, document title and text for use in later lookups or comparisons.\n",
    "    This field is also used in the webapp.\n",
    "\n",
    "    # Upon fitting tree\n",
    "\n",
    "    Additional terms can be suggested into the term set (note this can only be done on document\n",
    "    ingestion, see above). As the hierarchical clustering step takes account of the empirical\n",
    "    document frequency in the corpus, suggested terms must also be assigned an estimate/prior of\n",
    "    their likely document frequencies to help guide the breadth of the relevance of each term. In\n",
    "    some cases, it may be useful to estimate these document frequencies from a separate corpus.\n",
    "    -  term_suggestions_doc_freq: List[float] = A prior on doc frequency for terms in\n",
    "    term_suggestions\n",
    "\n",
    "    The user can provide a list of terms to exclude. These terms as well as their synonyms\n",
    "    (precisely, all terms falling into a cluster including a term on the excluion list, see next\n",
    "    paragraph) are removed from the cluster set.\n",
    "    -  term_exclusion_list: List[AnyStr] = A list of suggested terms to exclude when building the\n",
    "    tree. Synonyms are also dropped.\n",
    "\n",
    "    Similar terms are deduplicated using Louvain clustering on embeddings representing the term's\n",
    "    meanings.\n",
    "    -  term_similarity_threshold: float [0,1] = Controls the similarity threshold when constructing\n",
    "    the adjacency matrix for this clustering.\n",
    "\n",
    "    Terms in clusters whose terms have low document frequency across all terms in the cluster are\n",
    "    dropped.\n",
    "    -  min_term_cluster_count: int [1,n_docs] = The minimum count of term occurrences across docs\n",
    "    for all terms in each cluster.\n",
    "\n",
    "    Tree fitting is non-deterministic. Use random_state for replicability.\n",
    "    -  random_state: int = None\n",
    "\n",
    "    # Upon tagging documents\n",
    "\n",
    "    When tagging a document, we want to also ensure a connection is made to broader / more abstract\n",
    "    domains. For example, 'batteries' could be mapped to something like:\n",
    "      'battery storage' > 'electricity systems' > 'renewable energy' > 'energy' > 'sustainability'.\n",
    "    The min_abstraction_similarity parameter gives control over how far removed an abstraction can\n",
    "    be from the original term.\n",
    "    -  min_abstraction_similarity:  float [0,1]= .2\n",
    "\n",
    "    Each tag assigned to a document is also given a score measuring how related it is to that\n",
    "    docuement. From observation, a score of >0.4 is very strong, results are quite decent until\n",
    "    ~0.2 and get patchy below that. The min_tag_score parameter sets the threshold below which tags\n",
    "    will not be assigned to documents.\n",
    "    -  min_tag_score: float = .15\n",
    "    \"\"\"\n",
    "\n",
    "    # INGEST INPUT\n",
    "    document_terms: Dict[AnyStr, List] = field(default_factory=dict)\n",
    "    document_attributes: Dict[AnyStr, Dict] = field(default_factory=dict)\n",
    "    term_suggestions: List[AnyStr] = field(default_factory=list)\n",
    "    filter_geo_terms: bool = False\n",
    "\n",
    "    # DERIVED UPON INGEST\n",
    "    n_docs: int = 0\n",
    "    filtered_terms: List[AnyStr] = field(default_factory=list)\n",
    "    term_pipeline: Dict[AnyStr, Dict] = field(default_factory=dict)\n",
    "    term_counts: Counter = field(default_factory=Counter)\n",
    "    term_doc_freq: Dict[AnyStr, float] = field(default_factory=dict)\n",
    "    _term_embeddings: np.array = field(default_factory=make_empty_array)\n",
    "    _filtered_term_similarity: np.array = field(default_factory=make_empty_array)\n",
    "\n",
    "    # FIT TREE INPUT\n",
    "    term_exclusion_list: List[AnyStr] = field(default_factory=list)\n",
    "    term_suggestions_doc_freq: List[float] = field(default_factory=list)\n",
    "    term_similarity_threshold: float = 0.9\n",
    "    min_term_cluster_count: int = 2\n",
    "    random_state: int = None\n",
    "\n",
    "    # DERIVED UPON FITTING TREE\n",
    "    grouped_terms: Dict = field(default_factory=dict)\n",
    "    _collapsed_term_pipeline: Dict = field(default_factory=dict)\n",
    "    processed_document_terms: Dict[AnyStr, List] = field(default_factory=dict)\n",
    "    selected_terms: List[AnyStr] = field(default_factory=list)\n",
    "    _n_selected_terms: int = 0\n",
    "    _selected_terms_idxs: List = field(default_factory=list)\n",
    "    selected_term_counts: Counter = field(default_factory=Counter)\n",
    "    selected_term_doc_freq: Dict[AnyStr, float] = field(default_factory=dict)\n",
    "\n",
    "    # TAG DOCUMENTS INPUT\n",
    "    min_abstraction_similarity: float = 0.2\n",
    "    min_tag_score: float = 0.15\n",
    "\n",
    "    # CONSTANTS\n",
    "    TERM_DROP_KEY: str = \"---DROP---\"\n",
    "    # From https://www.sbert.net/\n",
    "    ENCODER = SentenceTransformer(\"sentence-transformers/paraphrase-mpnet-base-v2\")\n",
    "\n",
    "    # A mapping of output format to list of attribute names for use in serialization.\n",
    "    SERIALIZED_ATTRS = {\n",
    "        \"json_ready\": [\n",
    "            \"document_terms\",\n",
    "            \"document_attributes\",\n",
    "            \"term_exclusion_list\",\n",
    "            \"term_suggestions\",\n",
    "            \"filter_geo_terms\",\n",
    "            \"n_docs\",\n",
    "            \"filtered_terms\",\n",
    "            \"term_pipeline\",\n",
    "            \"term_counts\",\n",
    "            \"term_doc_freq\",\n",
    "            \"term_suggestions_doc_freq\",\n",
    "            \"term_similarity_threshold\",\n",
    "            \"min_term_cluster_count\",\n",
    "            \"random_state\",\n",
    "            \"min_abstraction_similarity\",\n",
    "            \"min_tag_score\",\n",
    "        ],\n",
    "        \"csr_matrix\": [\"_filtered_term_similarity\"],\n",
    "        \"numpy\": [\"_term_embeddings\"],\n",
    "    }\n",
    "\n",
    "    #\n",
    "    # SERIALIZATION METHODS\n",
    "    #\n",
    "\n",
    "    @classmethod\n",
    "    def from_json(cls, serialized_obj, hydrate_tree=False, hydrate_tags=False):\n",
    "\n",
    "        obj_dict = json.loads(serialized_obj)\n",
    "        return cls.from_dict(\n",
    "            obj_dict, hydrate_tree=hydrate_tree, hydrate_tags=hydrate_tags\n",
    "        )\n",
    "\n",
    "    @classmethod\n",
    "    def from_dict(cls, obj_dict, hydrate_tree=False, hydrate_tags=False):\n",
    "\n",
    "        # Convert attributes to target format as per SERIALIZED_ATTRS.\n",
    "        for attr_group, attrs in cls.SERIALIZED_ATTRS.items():\n",
    "            if attr_group == \"numpy\":\n",
    "                for attr in attrs:\n",
    "                    obj_dict[attr] = np.array(obj_dict[attr])\n",
    "            elif attr_group == \"csr_matrix\":\n",
    "                for attr in attrs:\n",
    "                    # csr_matrix is used for serialization, but obj is transformed to dense array\n",
    "                    # for calculations\n",
    "                    obj_dict[attr] = csr_matrix(\n",
    "                        (\n",
    "                            obj_dict[attr][\"data\"],\n",
    "                            (obj_dict[attr][\"row\"], obj_dict[attr][\"col\"]),\n",
    "                        ),\n",
    "                        shape=obj_dict[attr][\"shape\"],\n",
    "                    ).toarray()\n",
    "            elif attr_group == \"set\":\n",
    "                for attr in attrs:\n",
    "                    obj_dict[attr] = set(obj_dict[attr])\n",
    "            else:\n",
    "                # obj_dict[attr] is already of expected type\n",
    "                continue\n",
    "\n",
    "        ht_instance = cls(**obj_dict)\n",
    "\n",
    "        if any([hydrate_tree, hydrate_tags]):\n",
    "            # Recalculate tree with parameter values from serialized object\n",
    "            ht_instance.fit_tag_tree(\n",
    "                **{\n",
    "                    attr: value\n",
    "                    for attr, value in obj_dict.items()\n",
    "                    if attr\n",
    "                    in [\n",
    "                        \"term_suggestions_doc_freq\",\n",
    "                        \"term_similarity_threshold\",\n",
    "                        \"min_term_cluster_count\",\n",
    "                        \"random_state\",\n",
    "                    ]\n",
    "                }\n",
    "            )\n",
    "\n",
    "        if hydrate_tags:\n",
    "            # Recalculate document tags with parameter values from serialized object\n",
    "            ht_instance.tag_documents(\n",
    "                **{\n",
    "                    attr: value\n",
    "                    for attr, value in obj_dict.items()\n",
    "                    if attr in [\"min_abstraction_similarity\", \"min_tag_score\"]\n",
    "                }\n",
    "            )\n",
    "\n",
    "        return ht_instance\n",
    "\n",
    "    def to_json(self):\n",
    "\n",
    "        obj_dict = {\n",
    "            attr: getattr(self, attr)\n",
    "            for attrs in self.SERIALIZED_ATTRS.values()\n",
    "            for attr in attrs\n",
    "        }\n",
    "\n",
    "        # Use smaller csr_matrix for serialization\n",
    "        obj_dict[\"_filtered_term_similarity\"] = csr_matrix(\n",
    "            obj_dict[\"_filtered_term_similarity\"]\n",
    "        )\n",
    "\n",
    "        return json.dumps(obj_dict, cls=CustomEncoder)\n",
    "\n",
    "    def ingest(\n",
    "        self,\n",
    "        document_terms: Dict[AnyStr, List],\n",
    "        document_attributes: Dict[AnyStr, Dict] = None,\n",
    "        term_suggestions: List[AnyStr] = None,\n",
    "        filter_geo_terms: bool = False,\n",
    "        term_similarity_minimum: float = 0.6,\n",
    "    ):\n",
    "        \"\"\"\n",
    "        The ingest step involves going from the terms as they appear in the documents, to a filtered\n",
    "        set of terms to use as candiates in the successive tree fitting step.\n",
    "\n",
    "        We attempt to reduces the term set by combining plurals with singulars and, optionally,\n",
    "        removing geographical names. We then map all the remining filtered_terms into an embedding\n",
    "        space using a large language model.\n",
    "        \"\"\"\n",
    "\n",
    "        # Set up starting values\n",
    "        self._intialize_ingest(document_terms, document_attributes, term_suggestions)\n",
    "\n",
    "        # Create a clean term set from documents and suggestions\n",
    "        self._clean_up_terms(\n",
    "            filter_geo_terms, term_similarity_minimum=term_similarity_minimum\n",
    "        )\n",
    "\n",
    "    def _intialize_ingest(self, document_terms, document_attributes, term_suggestions):\n",
    "        # Resets attributes to empty containers and/or user arguments.\n",
    "        self.term_pipeline = dict()\n",
    "        self.filtered_terms = set()\n",
    "        self.grouped_terms = dict()\n",
    "        self.selected_terms = list()\n",
    "        self.term_suggestions = (\n",
    "            [t.lower() for t in term_suggestions]\n",
    "            if term_suggestions is not None\n",
    "            else list()\n",
    "        )\n",
    "        self.document_terms = document_terms\n",
    "        self.document_attributes = document_attributes\n",
    "        self.n_docs = len(document_terms)\n",
    "\n",
    "    def _clean_up_terms(self, filter_geo_terms, term_similarity_minimum=0.6):\n",
    "        # Create term set from documents and suggestions\n",
    "        self._create_term_set()\n",
    "        # Remove plurals\n",
    "        self._remove_plurals()\n",
    "        # Exclude geographical terms\n",
    "        self.filter_geo_terms = filter_geo_terms\n",
    "        if self.filter_geo_terms is True:\n",
    "            self._apply_geo_term_filter()\n",
    "        # Map terms to embedding space\n",
    "        self._semantic_term_map()\n",
    "        # Create a term similarity matrix, subject to minimum similarity\n",
    "        self._create_filtered_term_similarity(\n",
    "            term_similarity_minimum=term_similarity_minimum\n",
    "        )\n",
    "\n",
    "    def _create_term_set(self):\n",
    "        # Creates initial set of all terms. Also makes lowercase.\n",
    "        lowercase_terms = [\n",
    "            term.lower()\n",
    "            for document in self.document_terms.values()\n",
    "            for term in document\n",
    "        ]\n",
    "        self.filtered_terms = set(lowercase_terms)\n",
    "\n",
    "        # Add suggestions to filtered_terms set\n",
    "        self.filtered_terms = self.filtered_terms.union(set(self.term_suggestions))\n",
    "\n",
    "        # Term counts and frequencies from docs\n",
    "        self.term_counts = Counter(lowercase_terms)\n",
    "        # Calculate term document frequencies.\n",
    "        # Assumes that a term is not present twice in any document.\n",
    "        self.term_doc_freq = {\n",
    "            term: self.term_counts[term] / self.n_docs for term in self.filtered_terms\n",
    "        }\n",
    "\n",
    "    def _remove_plurals(self):\n",
    "        # Creates a term_pipeline step mapping plural terms to their singular\n",
    "        plurals = set()\n",
    "        remove_plurals_step = dict()\n",
    "        for term in self.filtered_terms:\n",
    "            # For each plural term where singular is also in set\n",
    "            # Drop the plural and move its counts to the singular\n",
    "            if term[-1] == \"s\" and term[0:-1] in self.filtered_terms:\n",
    "                plurals.add(term)\n",
    "                remove_plurals_step[term] = term[0:-1]\n",
    "                self.term_counts[term[0:-1]] += self.term_counts[term]\n",
    "                self.term_counts[term] = 0\n",
    "            if term[-3:] == \"ies\" and term[0:-3] + \"y\" in self.filtered_terms:\n",
    "                plurals.add(term)\n",
    "                remove_plurals_step[term] = term[0:-3] + \"y\"\n",
    "                self.term_counts[term[0:-3] + \"y\"] += self.term_counts[term]\n",
    "                self.term_counts[term] = 0\n",
    "\n",
    "        self.term_pipeline[\"1: Remove Plurals\"] = remove_plurals_step\n",
    "        self.filtered_terms = self.filtered_terms - plurals\n",
    "\n",
    "    def _apply_geo_term_filter(self):\n",
    "        # Creates a term_pipeline step to remove geographical locations from the term set\n",
    "\n",
    "        # Load set of locations\n",
    "        locations = get_locations_set()\n",
    "\n",
    "        # Initialize pipeline step\n",
    "        remove_geo_terms_step = dict()\n",
    "\n",
    "        # Remove all terms that are exact matches to the location set\n",
    "        geo_terms = set(self.filtered_terms).intersection(locations)\n",
    "        for term in geo_terms:\n",
    "            remove_geo_terms_step[term] = self.TERM_DROP_KEY\n",
    "        self.filtered_terms = self.filtered_terms - geo_terms\n",
    "\n",
    "        # Remove terms that contain locations\n",
    "        def _is_sublist(sub_lst, lst):\n",
    "            n = len(sub_lst)\n",
    "            return any((sub_lst == lst[i : i + n]) for i in range(len(lst) - n + 1))\n",
    "\n",
    "        for term in self.filtered_terms:\n",
    "            for location in locations:\n",
    "                if _is_sublist(location.split(), term.split()):\n",
    "                    # Remove if location is a subsequence of words in term\n",
    "                    remove_geo_terms_step[term] = self.TERM_DROP_KEY\n",
    "                    geo_terms.add(term)\n",
    "                    # Break out of inner loop to move to next term\n",
    "                    break\n",
    "\n",
    "        self.term_pipeline[\"2: Remove Geo Terms\"] = remove_geo_terms_step\n",
    "        self.filtered_terms = self.filtered_terms - geo_terms\n",
    "\n",
    "    def _semantic_term_map(self):\n",
    "        # Calculate embeddings for terms that passed initial filtering\n",
    "        self.filtered_terms = list(self.filtered_terms)\n",
    "        self._term_embeddings = self.ENCODER.encode(self.filtered_terms)\n",
    "\n",
    "    def _create_filtered_term_similarity(self, term_similarity_minimum=0.6):\n",
    "        self._filtered_term_similarity = cosine_similarity(self._term_embeddings)\n",
    "        # To reduce memory footprint we set all 'low' similarities to zero and convert to csr_matrix\n",
    "        # upon serialization\n",
    "        if term_similarity_minimum:\n",
    "            self._filtered_term_similarity[\n",
    "                self._filtered_term_similarity < term_similarity_minimum\n",
    "            ] = 0\n",
    "\n",
    "    #\n",
    "    # EXTRACT THE HIERARCHICAL TAG TREE\n",
    "    #\n",
    "\n",
    "    def fit_tag_tree(\n",
    "        self,\n",
    "        term_exclusion_list: List[AnyStr] = None,\n",
    "        term_suggestions_doc_freq: List[float] = None,\n",
    "        term_similarity_threshold: float = 0.9,\n",
    "        min_term_cluster_count: int = 2,\n",
    "        random_state: float = None,\n",
    "    ):\n",
    "        \"\"\"\n",
    "        This step fits the tag tree from the document terms.\n",
    "\n",
    "        Some pre-processing steps are carried out further reduce the candidate term sets. We group\n",
    "        semantically similar terms. Terms in groups with low overall document count are dropped.\n",
    "        Terms included in the user-provided exclusion list, as well as their synonyms, are also\n",
    "        dropped. Finally, we select a single term from each remaining group. Terms passing this\n",
    "        processing step are referred to as selected_terms, because they are selected as candidate\n",
    "        terms to appear in the hierarchical tree.\n",
    "        \"\"\"\n",
    "\n",
    "        self._initialize_fit(\n",
    "            term_exclusion_list,\n",
    "            term_suggestions_doc_freq,\n",
    "            term_similarity_threshold,\n",
    "            min_term_cluster_count,\n",
    "            random_state,\n",
    "        )\n",
    "\n",
    "        self._process_terms()\n",
    "\n",
    "        self._extract_tag_tree()\n",
    "\n",
    "    def _initialize_fit(\n",
    "        self,\n",
    "        term_exclusion_list,\n",
    "        term_suggestions_doc_freq,\n",
    "        term_similarity_threshold,\n",
    "        min_term_cluster_count,\n",
    "        random_state,\n",
    "    ):\n",
    "        \"\"\"Resets attributes to empty containers and/or user arguments.\"\"\"\n",
    "\n",
    "        self.term_exclusion_list = (\n",
    "            list({t.lower() for t in term_exclusion_list})\n",
    "            if term_exclusion_list is not None\n",
    "            else list()\n",
    "        )\n",
    "        self.term_similarity_threshold = term_similarity_threshold\n",
    "        self.min_term_cluster_count = min_term_cluster_count\n",
    "        self.term_suggestions_doc_freq = (\n",
    "            term_suggestions_doc_freq\n",
    "            if term_suggestions_doc_freq is not None\n",
    "            else list()\n",
    "        )\n",
    "        if len(self.term_suggestions) != len(self.term_suggestions_doc_freq):\n",
    "            raise ValueError(\n",
    "                \"term_suggestions and term_suggestions_doc_freq must be of equal length.\"\n",
    "            )\n",
    "        self.random_state = (\n",
    "            random_state if random_state is not None else np.random.randint(5000)\n",
    "        )\n",
    "\n",
    "    def _process_terms(self):\n",
    "        # Ingest term suggestion document frequencies\n",
    "        self._read_term_suggestion_doc_freq()\n",
    "        # Group semantically similar terms\n",
    "        self._group_terms()\n",
    "        # Drop low count term clusters\n",
    "        self._drop_low_count_term_clusters()\n",
    "        # Apply term exclusion list\n",
    "        self._apply_term_exclusion_list()\n",
    "        # Select representative terms\n",
    "        self._select_representative_terms()\n",
    "        # Run pipeline to process documents and select final term set\n",
    "        self._run_term_pipeline()\n",
    "        # Refocus internals on selected terms only\n",
    "        self._set_up_for_selected_terms()\n",
    "\n",
    "    def _read_term_suggestion_doc_freq(self):\n",
    "        \"\"\"Add or overwrite doc_freq and counts for suggestions\"\"\"\n",
    "        for suggestion, suggestion_doc_freq in zip(\n",
    "            self.term_suggestions, self.term_suggestions_doc_freq\n",
    "        ):\n",
    "            self.term_doc_freq[suggestion] = suggestion_doc_freq\n",
    "            self.term_counts[suggestion] = int(\n",
    "                self.term_doc_freq[suggestion] * self.n_docs\n",
    "            )\n",
    "\n",
    "    def _group_terms(self):\n",
    "        \"\"\"\n",
    "        Cluster semantically similar terms using Louvain clustering.\n",
    "        In this step, we are aiming to find synonyms, so term_similarity_threshold should be high\n",
    "        (ex. >=0.9)\n",
    "        \"\"\"\n",
    "\n",
    "        louvain = Louvain(random_state=self.random_state)\n",
    "        adjacency = copy.deepcopy(self._filtered_term_similarity)\n",
    "        adjacency[adjacency < self.term_similarity_threshold] = 0\n",
    "        adjacency = csr_matrix(adjacency)\n",
    "        labels = louvain.fit_transform(adjacency)\n",
    "\n",
    "        # Store clustering in dict mapping cluster_label to list of terms\n",
    "        grouped_terms = defaultdict(list)\n",
    "        for t, l in zip(self.filtered_terms, labels):\n",
    "            grouped_terms[str(l)].append(t)\n",
    "\n",
    "        self.grouped_terms = grouped_terms\n",
    "\n",
    "    def _drop_low_count_term_clusters(self):\n",
    "        \"\"\"Creates a term_pipeline step to drop all terms in clusters with low overall term count\"\"\"\n",
    "\n",
    "        low_term_count_clusters = [\n",
    "            k\n",
    "            for k, v in self.grouped_terms.items()\n",
    "            if sum(self.term_counts[t] for t in v) < self.min_term_cluster_count\n",
    "        ]\n",
    "\n",
    "        low_term_count_step = {\n",
    "            term: self.TERM_DROP_KEY\n",
    "            for cluster_id, terms in self.grouped_terms.items()\n",
    "            for term in terms\n",
    "            if cluster_id in low_term_count_clusters\n",
    "        }\n",
    "        self.term_pipeline[\"3: Remove Low Count Terms\"] = low_term_count_step\n",
    "\n",
    "        self.grouped_terms = {\n",
    "            k: v\n",
    "            for k, v in self.grouped_terms.items()\n",
    "            if k not in low_term_count_clusters\n",
    "        }\n",
    "\n",
    "    def _apply_term_exclusion_list(self):\n",
    "        \"\"\"\n",
    "        Creates a term_pipeline step to drop clusters containing terms in the exclusion list\n",
    "        This means that synonyms of the excluded term will also be dropped.\n",
    "        The exclusion list should therefore list *concepts* not merely specific variants of a term.\n",
    "        \"\"\"\n",
    "\n",
    "        exclusion_clusters = [\n",
    "            cluster_id\n",
    "            for cluster_id, terms in self.grouped_terms.items()\n",
    "            if any((term in self.term_exclusion_list) for term in terms)\n",
    "        ]\n",
    "\n",
    "        exclusion_step = {\n",
    "            term: self.TERM_DROP_KEY\n",
    "            for cluster_id, terms in self.grouped_terms.items()\n",
    "            for term in terms\n",
    "            if cluster_id in exclusion_clusters\n",
    "        }\n",
    "\n",
    "        self.term_pipeline[\"4: Apply Term Exclusion List\"] = exclusion_step\n",
    "\n",
    "        self.grouped_terms = {\n",
    "            k: v for k, v in self.grouped_terms.items() if k not in exclusion_clusters\n",
    "        }\n",
    "\n",
    "    def _select_representative_terms(self):\n",
    "        \"\"\"\n",
    "        Creates a term_pipeline step selecting a representative term for each cluster\n",
    "        The term with the highest average cosine similarity with all other terms in the cluster is\n",
    "        chosen.\n",
    "        \"\"\"\n",
    "\n",
    "        term_to_representative_term_step = {}\n",
    "        selected_terms = []\n",
    "\n",
    "        for terms in self.grouped_terms.values():\n",
    "            if len(terms) > 1:\n",
    "                term_ids = [self.filtered_terms.index(t) for t in terms]\n",
    "                # Numerical errors were leading to non-reproducibility of results.\n",
    "                # Use slower dtype=float64 as in Notes here\n",
    "                # https://numpy.org/doc/stable/reference/generated/numpy.sum.html\n",
    "                central_term_id = term_ids[\n",
    "                    np.argsort(\n",
    "                        -self._filtered_term_similarity[term_ids, :][:, term_ids].sum(\n",
    "                            axis=1, dtype=\"float64\"\n",
    "                        )\n",
    "                    )[0]\n",
    "                ]\n",
    "                central_term = self.filtered_terms[central_term_id]\n",
    "                selected_terms.append(central_term)\n",
    "                for term in terms:\n",
    "                    if term != central_term:\n",
    "                        term_to_representative_term_step[term] = central_term\n",
    "\n",
    "        self.term_pipeline[\n",
    "            \"5: Select Representative Terms\"\n",
    "        ] = term_to_representative_term_step\n",
    "\n",
    "    def _run_term_pipeline(self):\n",
    "        \"\"\"\n",
    "        Having logged all term transformation steps in .term_pipeline, we now run the original\n",
    "        document_terms through the pipeline to generate processed_document_terms: a document\n",
    "        representation using terms that have been fully processed.\n",
    "        \"\"\"\n",
    "\n",
    "        # Collapse all pipeline steps to generate a single DAG showing how each term is transformed\n",
    "        # at each step.\n",
    "        self._collapsed_term_pipeline = dict()\n",
    "        for pipeline_step in self.term_pipeline.values():\n",
    "            self._collapsed_term_pipeline.update(pipeline_step)\n",
    "\n",
    "        # Run all document terms through term pipeline\n",
    "        processed_document_terms = {}\n",
    "        for document, term_list in self.document_terms.items():\n",
    "            processed_terms = []\n",
    "            for t in term_list:\n",
    "                # Run lowercase term through pipeline\n",
    "                processed_term = next(self._run_term_through_pipeline(t.lower()))\n",
    "                if processed_term is not None:\n",
    "                    processed_terms.append(processed_term)\n",
    "\n",
    "            processed_document_terms[document] = list(set(processed_terms))\n",
    "\n",
    "        self.processed_document_terms = processed_document_terms\n",
    "\n",
    "    def _run_term_through_pipeline(self, term):\n",
    "        \"\"\"\n",
    "        Recursively traverse the term transformation DAG and yield the final term, or None if term\n",
    "        is dropped.\n",
    "        \"\"\"\n",
    "        term_result = self._collapsed_term_pipeline.get(term)\n",
    "        if term_result is None:\n",
    "            # No further pipeline steps\n",
    "            yield term\n",
    "        if term_result == self.TERM_DROP_KEY:\n",
    "            # Term should be dropped\n",
    "            yield None\n",
    "        # Continue pipeline\n",
    "        yield from self._run_term_through_pipeline(term_result)\n",
    "\n",
    "    def _set_up_for_selected_terms(self):\n",
    "        \"\"\"Set up the final selected_terms and associated embeddings and similarity matrix\"\"\"\n",
    "\n",
    "        # Create set of selected terms from documents after term processing\n",
    "        doc_selected_terms = [\n",
    "            term\n",
    "            for doc_terms in self.processed_document_terms.values()\n",
    "            for term in doc_terms\n",
    "        ]\n",
    "\n",
    "        # Process suggestion terms, and keep only the ones that pass all filters\n",
    "        processed_suggested_terms = [\n",
    "            next(self._run_term_through_pipeline(t)) for t in self.term_suggestions\n",
    "        ]\n",
    "        processed_suggested_terms = [\n",
    "            t for t in processed_suggested_terms if t is not None\n",
    "        ]\n",
    "        suggested_selected_terms = set(self.filtered_terms).intersection(\n",
    "            set(processed_suggested_terms)\n",
    "        )\n",
    "\n",
    "        # Combine into final selected_terms\n",
    "        self.selected_terms = list(\n",
    "            set(doc_selected_terms).union(suggested_selected_terms)\n",
    "        )\n",
    "        self._n_selected_terms = len(self.selected_terms)\n",
    "\n",
    "        # Overwrite count data considering only selected term\n",
    "        self.selected_term_counts = Counter(doc_selected_terms)\n",
    "        self.selected_term_doc_freq = {\n",
    "            term: self.selected_term_counts[term] / self.n_docs\n",
    "            for term in set(doc_selected_terms)\n",
    "        }\n",
    "\n",
    "        # Add or overwrite doc_freq for suggestions\n",
    "        for suggestion, suggestion_doc_freq in zip(\n",
    "            self.term_suggestions, self.term_suggestions_doc_freq\n",
    "        ):\n",
    "            if suggestion in suggested_selected_terms:\n",
    "                self.selected_term_doc_freq[suggestion] = suggestion_doc_freq\n",
    "                self.selected_term_counts[suggestion] = int(\n",
    "                    self.selected_term_doc_freq[suggestion] * self.n_docs\n",
    "                )\n",
    "\n",
    "        # Slice embeddings matrix to focus on selected terms\n",
    "        self._selected_terms_idxs = [\n",
    "            self.filtered_terms.index(t) for t in self.selected_terms\n",
    "        ]\n",
    "        self._selected_terms_embeddings = copy.deepcopy(\n",
    "            self._term_embeddings[self._selected_terms_idxs]\n",
    "        )\n",
    "\n",
    "        # Calculate similarity across selected terms\n",
    "        self._selected_terms_similarity = cosine_similarity(\n",
    "            self._selected_terms_embeddings\n",
    "        )\n",
    "\n",
    "    def _extract_tag_tree(self):\n",
    "\n",
    "        # Run hierarchical clustering on terms\n",
    "        self._build_term_hierarchy()\n",
    "\n",
    "        # Build tree from hierarchy\n",
    "        self._build_tag_tree()\n",
    "\n",
    "    def _build_term_hierarchy(self):\n",
    "        self.hierarchy = AgglomerativeClustering(\n",
    "            n_clusters=None,\n",
    "            affinity=\"cosine\",\n",
    "            memory=None,\n",
    "            connectivity=None,\n",
    "            compute_full_tree=\"auto\",\n",
    "            linkage=\"average\",\n",
    "            distance_threshold=0,\n",
    "            compute_distances=False,\n",
    "        )\n",
    "        self.hierarchy.fit(self._selected_terms_embeddings)\n",
    "\n",
    "    def _build_tag_tree(self):\n",
    "        \"\"\"\n",
    "        Build tree downwards starting from highest node\n",
    "        AgglomerativeClustering.hierarchy.children_ stores the ways in which terms are aggregated\n",
    "        hierarchically we build a tree from these relationships, adding some custom logic and\n",
    "        descriptive data in the process.\n",
    "        \"\"\"\n",
    "\n",
    "        self.tree = Tree()\n",
    "        node_id = self.hierarchy.children_.max() + 1\n",
    "        self._build_term_tree_from_node(\n",
    "            node_id, parent_node_id=None, parent_node_term=None\n",
    "        )\n",
    "\n",
    "        # Filter to core nodes, ie ensuring node labels are unique\n",
    "        self._define_core_nodes()\n",
    "\n",
    "        # Build tag tree from core nodes only\n",
    "        self._build_pruned_tree()\n",
    "\n",
    "        # Replace tree with pruned_tree\n",
    "        self.tree = copy.deepcopy(self.pruned_tree)\n",
    "        self.pruned_tree = None\n",
    "\n",
    "    def _build_term_tree_from_node(self, node_id, parent_node_id, parent_node_term):\n",
    "        \"\"\"\n",
    "        Starting from node_id, recursively traverses all downstream nodes and leaves of\n",
    "        self.hierarchy. At each step computes information about the node/leave in terms of the\n",
    "        downstream nodes and, importantly, selects the most central term to be the name of this\n",
    "        node.\n",
    "        \"\"\"\n",
    "\n",
    "        # Find all terms that contained in this node (i.e. are downstream leaves)\n",
    "        term_ids = list()\n",
    "        self._find_node_term_ids(term_ids, node_id)\n",
    "\n",
    "        # Number of terms and their occurrences in the documents\n",
    "        n_terms = len(term_ids)\n",
    "        n_occurrences = sum(self.term_counts[self.selected_terms[i]] for i in term_ids)\n",
    "\n",
    "        # Represent the node via its contained terms, centrality ranking, and scores\n",
    "        ranked_term_ids, ranked_term_id_scores = self._extract_ranked_term_ids(term_ids)\n",
    "        ranked_terms = [self.selected_terms[i] for i in ranked_term_ids]\n",
    "        terms_set = [\n",
    "            (term, score) for term, score in zip(ranked_terms, ranked_term_id_scores)\n",
    "        ]\n",
    "\n",
    "        # Find all downstream elements\n",
    "        leaves, nodes = self._find_node_children(node_id)\n",
    "\n",
    "        if ranked_terms[0] != parent_node_term:\n",
    "            # If central term for this node different from parent node\n",
    "            # Create a new node with associated term and other metadata\n",
    "            node_term = ranked_terms[0]\n",
    "            self.tree.create_node(\n",
    "                node_term,\n",
    "                node_id,\n",
    "                parent=parent_node_id,\n",
    "                data=DataProperty(\n",
    "                    n_terms,\n",
    "                    n_occurrences,\n",
    "                    ranked_terms[:3],\n",
    "                    terms_set,\n",
    "                    f\"{node_term} - {n_occurrences}\",\n",
    "                ),\n",
    "            )\n",
    "        else:\n",
    "            # If central term for this node is the same a parent node\n",
    "            # Don't create new node and pass parent node id and term downstream\n",
    "            node_id = parent_node_id\n",
    "            node_term = parent_node_term\n",
    "\n",
    "        # Proceed down into the tree, handling nodes and leaves differently\n",
    "\n",
    "        # Recursively move to the downstream nodes, passing this node as parent\n",
    "        for node in nodes:\n",
    "            self._build_term_tree_from_node(node, node_id, node_term)\n",
    "\n",
    "        # Create nodes directly for all immediate downstream leaves\n",
    "        for leaf in leaves:\n",
    "            leaf_term = self.selected_terms[leaf]\n",
    "            if leaf_term != node_term:\n",
    "                # Create leaf nodes if leaf is a different term\n",
    "                self.tree.create_node(\n",
    "                    leaf_term,\n",
    "                    leaf,\n",
    "                    parent=node_id,\n",
    "                    data=DataProperty(\n",
    "                        1,\n",
    "                        self.term_counts[leaf_term],\n",
    "                        [leaf_term],\n",
    "                        [leaf_term],\n",
    "                        f\"{leaf_term} - {self.term_counts[leaf_term]}\",\n",
    "                    ),\n",
    "                )\n",
    "\n",
    "    def _find_node_children(self, node_id):\n",
    "        \"\"\"\n",
    "        Find downstream nodes and leaves for a given node_id\n",
    "        See https://scikit-learn.org/stable/modules/generated/sklearn.cluster.AgglomerativeClustering.html\n",
    "        Section: Attributes -> children_\n",
    "        \"\"\"\n",
    "        if node_id < self._n_selected_terms:\n",
    "            # Leaf node\n",
    "            return [node_id], []\n",
    "        children = self.hierarchy.children_[node_id - self._n_selected_terms]\n",
    "        leaves = [child for child in children if child < self._n_selected_terms]\n",
    "        nodes = [child for child in children if child >= self._n_selected_terms]\n",
    "        return leaves, nodes\n",
    "\n",
    "    def _find_node_term_ids(self, term_ids, node_id):\n",
    "        \"\"\"\n",
    "        Recursively traverse to tree down to the leaves, collecting term_ids for all downstream\n",
    "        terms.\n",
    "        \"\"\"\n",
    "        leaves, nodes = self._find_node_children(node_id)\n",
    "        term_ids.extend(leaves)\n",
    "        for node in nodes:\n",
    "            self._find_node_term_ids(term_ids, node)\n",
    "\n",
    "    def _extract_ranked_term_ids(self, term_ids):\n",
    "        \"\"\"\n",
    "        Rank selected term_ids by (descending) measure of centrality\n",
    "        Centrality is measured by the average term similarity across all terms in the set\n",
    "        weighted by the term document frequencies: semantic similarity to a frequent term will count\n",
    "        more.\n",
    "        \"\"\"\n",
    "\n",
    "        # Similarities in the term set\n",
    "        sim_subgraph = self._selected_terms_similarity[term_ids, :][:, term_ids]\n",
    "        # Term document frequencies\n",
    "        weights = np.array(\n",
    "            [self.selected_term_doc_freq[self.selected_terms[i]] for i in term_ids]\n",
    "        )\n",
    "        # Weighted average term similarity\n",
    "        term_scores = (sim_subgraph * weights.T).sum(axis=1)\n",
    "\n",
    "        # Rankings\n",
    "        ranked_term_ids = [term_ids[i] for i in np.argsort(-term_scores)]\n",
    "        ranked_term_id_scores = -np.sort(-term_scores)\n",
    "        return ranked_term_ids, ranked_term_id_scores\n",
    "\n",
    "    def _define_core_nodes(self, min_n_terms=1):\n",
    "        \"\"\"\n",
    "        Defines set of core_nodes.\n",
    "        If two nodes have the same central term (node.tag), choose the node with the higher document\n",
    "        frequency.\n",
    "        Can also limit nodes to those containing a min_n_terms.\n",
    "        \"\"\"\n",
    "\n",
    "        descending_nodes = sorted(\n",
    "            self.tree.all_nodes(), key=lambda x: x.data.n_occurrences, reverse=True\n",
    "        )\n",
    "\n",
    "        used_terms = set()\n",
    "        core_nodes = []\n",
    "        for node in descending_nodes:\n",
    "            if node.tag not in used_terms and node.data.n_terms > min_n_terms:\n",
    "                core_nodes.append(node)\n",
    "                used_terms.add(node.tag)\n",
    "\n",
    "        self._core_nodes = core_nodes\n",
    "\n",
    "    def _build_pruned_tree(self):\n",
    "        \"\"\"Builds a tree that only exists of nodes in the core nodes\"\"\"\n",
    "        core_node_ids = {x.identifier for x in self._core_nodes}\n",
    "        self.pruned_tree = Tree()\n",
    "        for node in self._core_nodes:\n",
    "            found_parent = False\n",
    "            # Documentation for .predecessor does not exist (yet?)\n",
    "            # See: https://github.com/caesar0301/treelib/blob/master/treelib/node.py#L129\n",
    "            # See: https://github.com/caesar0301/treelib/issues/158\n",
    "            old_tree_parent = node.predecessor(self.tree.identifier)\n",
    "            if not old_tree_parent:\n",
    "                # No parent found -> Add as root node\n",
    "                self.pruned_tree.add_node(node)\n",
    "                found_parent = True\n",
    "            while not found_parent:\n",
    "                # Look until we find ancestor in set of core nodes, and add to pruned_tree.\n",
    "                if old_tree_parent in core_node_ids:\n",
    "                    self.pruned_tree.add_node(node, parent=old_tree_parent)\n",
    "                    found_parent = True\n",
    "                else:\n",
    "                    not_found_node = self.tree.nodes[old_tree_parent]\n",
    "                    old_tree_parent = not_found_node.predecessor(self.tree.identifier)\n",
    "        return self.pruned_tree\n",
    "\n",
    "    #\n",
    "    # TAG DOCUMENTS\n",
    "    #\n",
    "\n",
    "    def tag_documents(\n",
    "        self, min_abstraction_similarity: float = 0.2, min_tag_score: float = 0.15\n",
    "    ):\n",
    "        \"\"\"\n",
    "        Maps document topics to hierarchical tags.\n",
    "\n",
    "        We have a set of candidate tags, represented as nodes in the hierarchical tree, and stored\n",
    "        in core_nodes.\n",
    "\n",
    "        Each node has a unique label (node.tag) and its meaning is represented as a weighted\n",
    "        combination of the children terms (node.data.term_set).\n",
    "\n",
    "        We want to match each of the document topics to the closest candidate node.\n",
    "        Ex 'batteries' -> 'battery storage'.\n",
    "        Additioanlly, we want to also ensure a connection is made to broader / more abstract\n",
    "        domains.\n",
    "        Ex 'batteries' -> 'battery storage' > 'electricity systems' > 'renewable energy' >\n",
    "        'energy' > 'sustainability', ideally with a declining relatedness score as we move further\n",
    "        up the abstractions.\n",
    "\n",
    "        We carry out the following steps to achieve this:\n",
    "            1. Convert core_nodes into a node X term matrix representation\n",
    "            2. Calculate semantic similarity scores across nodes (accounting for the semantic\n",
    "                similarity across terms).\n",
    "            3. Find each node's 'abstractions'. For a node J, 'abstractions' are defined as other\n",
    "                nodes K appearing higher up in the tree, weighted by the similarity between J and K\n",
    "                to capture the increasing remoteness of the abstraction.\n",
    "            4. For each document topic, we map a) closest node (step 1) and b) the node's\n",
    "                abstractions (step 3).\n",
    "            5. We aggregate the topic to abstraction mapping a document level. This yields a\n",
    "                document X node matrix.\n",
    "            6. To account for the fact that higher level abstractions are going to show up more\n",
    "                often, we run this final matrix through a tfidf transformation.\n",
    "        \"\"\"\n",
    "        # Set values\n",
    "        self.min_abstraction_similarity = min_abstraction_similarity\n",
    "        self.min_tag_score = min_tag_score\n",
    "\n",
    "        # Set up a node x term matrix\n",
    "        self._build_node_term_matrix()  # Step 1; nodes X terms matrix\n",
    "        self._build_node_similarity_matrix()  # Step 2; nodes X nodes matrix\n",
    "        self._build_node_abstraction_matrix()  # Step 3 node X nodes matrix\n",
    "        self._match_terms_to_nodes()  # Step 4a; dict term -> closest node\n",
    "\n",
    "        # Match all documents to tags and abstractions\n",
    "        self.document_tag_matrix = np.vstack(\n",
    "            [\n",
    "                self._document_topics_to_tags(document_terms)  # Step 4a, 4b and 5\n",
    "                for document_terms in self.processed_document_terms.values()\n",
    "            ]\n",
    "        )  # documents x nodes matrix\n",
    "\n",
    "        tfidf = TfidfTransformer()  # Step 6\n",
    "        self.document_tags_tfidf = tfidf.fit_transform(self.document_tag_matrix)\n",
    "\n",
    "        self.document_tags = defaultdict(list)\n",
    "        doc_ids = list(self.processed_document_terms.keys())\n",
    "\n",
    "        # Convert documents x nodes matrix to document_id -> tags dictionary\n",
    "        cx = self._tfidf.tocoo()\n",
    "        for idx, i, v in zip(cx.row, cx.col, cx.data):\n",
    "            if v > self.min_tag_score:\n",
    "                self.document_tags[doc_ids[idx]].append(\n",
    "                    tuple([self._core_nodes[i].tag, v, self._core_nodes[i].identifier])\n",
    "                )\n",
    "\n",
    "        # Sort document tags by relevance score\n",
    "        for doc_id, tags in self.document_tags.items():\n",
    "            self.document_tags[doc_id] = sorted(tags, key=lambda x: x[1], reverse=True)\n",
    "\n",
    "    def _build_node_term_matrix(self):\n",
    "        \"\"\"\n",
    "        Build a matrix mapping core nodes (rows) to their contained terms (columns), and their\n",
    "        measure of centrality.\n",
    "        \"\"\"\n",
    "\n",
    "        # Populate as sparse matrix\n",
    "        rows = list()\n",
    "        cols = list()\n",
    "        data = list()\n",
    "        for i, core_node in enumerate(self._core_nodes):\n",
    "            row = np.array(\n",
    "                [i] * core_node.data.n_terms\n",
    "            )  # Rows in same order as _core_nodes\n",
    "            terms, datum = zip(*core_node.data.term_set)\n",
    "            col = np.array([self.selected_terms.index(term) for term in terms])\n",
    "            rows.extend(row)\n",
    "            cols.extend(col)\n",
    "            data.extend(datum)\n",
    "\n",
    "        rows = np.array(rows)\n",
    "        cols = np.array(cols)\n",
    "        data = np.array(data)\n",
    "\n",
    "        node_term_matrix = csr_matrix(\n",
    "            (data, (rows, cols)),\n",
    "            shape=(len(self._core_nodes), len(self.selected_terms)),\n",
    "        )\n",
    "        node_term_matrix = normalize(node_term_matrix)\n",
    "\n",
    "        self._node_term_matrix = node_term_matrix\n",
    "\n",
    "        # Mapping of node identifier to node index in node_term_matrix rows\n",
    "        self._node_id_to_idx = {\n",
    "            core_node.identifier: i for i, core_node in enumerate(self._core_nodes)\n",
    "        }\n",
    "        self._node_idx_to_id = {\n",
    "            i: core_node.identifier for i, core_node in enumerate(self._core_nodes)\n",
    "        }\n",
    "\n",
    "    def _build_node_similarity_matrix(self):\n",
    "\n",
    "        \"\"\"\n",
    "        Calculate a matrix of cosine similarity across all nodes, but weighted to allow similar\n",
    "        terms to count, at least partially, towards the similarity.\n",
    "\n",
    "        See https://en.wikipedia.org/wiki/Cosine_similarity#Soft_cosine_measure\n",
    "\n",
    "        Two docs [\"electric cars\", \"urban mobility\"] & [\"electric vehicles\", \"urban mobility\"]\n",
    "        should have a similarity of almost 1 and not of just 0.5 as would be the case if we only\n",
    "        consider the exact terms.\n",
    "        To achieve this, we weigh the contribution of the \"electric cars\" <-> \"electric vehicles\"\n",
    "        by their term as estimates by based on their language model embedding vectors.\n",
    "\n",
    "        Normally we would construct a document pairwise similarity matrix using cosine similarity.\n",
    "        For unit vectors, this is just the dot product of all vector pairs:\n",
    "\n",
    "        raw_similarity_matrix = entity_set_A_features * entity_set_B_features.T\n",
    "\n",
    "        However, we want for similar terms (electric car vs elecrtic vehicles) to count towards the\n",
    "        similarity. We can do this by weighing the product by the similarity across terms.\n",
    "        So we do this instead:\n",
    "        raw_similarity_matrix = entity_set_A_features * term_similarity * entity_set_B_features.T\n",
    "\n",
    "        However, this similarity score will not be bounded to 1. It will increase arbitrarily with\n",
    "        the number of terms present in a document, and will include some double counting if a\n",
    "        document itself is tagged with two similar terms, which then will be 'doubly' similar when\n",
    "        matched to the terms in the other document.\n",
    "\n",
    "        To remove this effect we aim to normalize similarity by the geometric mean of the\n",
    "        non-normalized similarity scores of entities in set A and set B with themselves.\n",
    "\n",
    "        We take diagonal from the non-normalized similarity matrices of sets A and B and take the\n",
    "        product of all pairs. Then take the sqrt to get geometric mean.\n",
    "\n",
    "        non_normalized_set_A_similarity_matrix =\n",
    "            entity_set_A_features * term_similarity * entity_set_A_features.T\n",
    "\n",
    "        non_normalized_set_B_similarity_matrix =\n",
    "            entity_set_B_features * term_similarity * entity_set_B_features.T\n",
    "\n",
    "        normalization_denominator =\n",
    "            np.sqrt(\n",
    "                non_normalized_set_A_similarity_matrix.diagonal()[:,None] *\n",
    "                non_normalized_set_B_similarity_matrix.diagonal()\n",
    "            )\n",
    "\n",
    "        We then divide the raw_similarity_matrix by the normalization_denominator to get a\n",
    "        similarity_matrix (approximately) bounded by 0 and 1.\n",
    "        Note: Approximately as in practice we've seen values bounded by 1 but going slightly below\n",
    "        0, although we have not investigated why.\n",
    "\n",
    "        The normalization_denominator may have some 0 entries (unless all terms are used) as some\n",
    "        documents may have 0 for all features. These docs will have 0 self-similarity and we get\n",
    "        division by zero. This is not an issue as the numerator is bound to be 0 too, so we just\n",
    "        skip these cells in the division.\n",
    "\n",
    "        similarity_matrix[normalization_denominator>0] = (\n",
    "            raw_similarity_matrix[normalization_denominator>0] /\n",
    "            normalization_denominator[normalization_denominator>0]\n",
    "        )\n",
    "        \"\"\"\n",
    "\n",
    "        raw_node_sim = (\n",
    "            self._node_term_matrix\n",
    "            * self._selected_terms_similarity\n",
    "            * self._node_term_matrix.T\n",
    "        )\n",
    "        normalization_denominator = np.sqrt(\n",
    "            raw_node_sim.diagonal()[:, None] * raw_node_sim.diagonal()\n",
    "        )\n",
    "        node_similarity_matrix = copy.deepcopy(raw_node_sim)\n",
    "        node_similarity_matrix[normalization_denominator > 0] = (\n",
    "            raw_node_sim[normalization_denominator > 0]\n",
    "            / normalization_denominator[normalization_denominator > 0]\n",
    "        )\n",
    "\n",
    "        self._node_similarity_matrix = node_similarity_matrix\n",
    "\n",
    "    def _build_node_abstraction_matrix(self):\n",
    "        \"\"\"Matrix mapping nodes (rows) to all related higher-order nodes (ie abstractions).\"\"\"\n",
    "\n",
    "        rows = list()\n",
    "        cols = list()\n",
    "        data = list()\n",
    "        for i in range(len(self._core_nodes)):\n",
    "            _, col, scores = zip(*self._get_node_abstractions(i))\n",
    "            row = np.array([i] * len(scores))\n",
    "            rows.extend(row)\n",
    "            cols.extend(col)\n",
    "            data.extend(scores)\n",
    "\n",
    "        rows = np.array(rows)\n",
    "        cols = np.array(cols)\n",
    "        data = np.array(data)\n",
    "\n",
    "        node_abstraction_matrix = csr_matrix(\n",
    "            (data, (rows, cols)), shape=(len(self._core_nodes), len(self._core_nodes))\n",
    "        )\n",
    "\n",
    "        self._node_abstraction_matrix = node_abstraction_matrix\n",
    "\n",
    "    def _get_node_abstractions(self, node_idx):\n",
    "        \"\"\"\n",
    "        Look up all higher-order nodes for given node_id and collect node.identifier and similarity\n",
    "        score.\n",
    "        \"\"\"\n",
    "        lineage = self._show_term_lineage(self._core_nodes[node_idx].identifier)\n",
    "\n",
    "        abstractions = [\n",
    "            (\n",
    "                l.tag,\n",
    "                self._node_id_to_idx[l.identifier],\n",
    "                self._node_similarity_matrix[\n",
    "                    node_idx, self._node_id_to_idx[l.identifier]\n",
    "                ],\n",
    "            )\n",
    "            for l in lineage\n",
    "            if self._node_id_to_idx.get(l.identifier) is not None\n",
    "        ]\n",
    "\n",
    "        return abstractions\n",
    "\n",
    "    def _show_term_lineage(self, node_id):\n",
    "        # Return all the parent nodes up to the top\n",
    "\n",
    "        lineage = [self.tree.nodes[node_id]]\n",
    "\n",
    "        while self.tree.parent(node_id) is not None:\n",
    "            lineage.append(self.tree.parent(node_id))\n",
    "            node_id = self.tree.parent(node_id).identifier\n",
    "\n",
    "        lineage.reverse()\n",
    "        return lineage\n",
    "\n",
    "    def _match_terms_to_nodes(self):\n",
    "        # Refer to discussion in _build_node_similarity_matrix\n",
    "        # Here we are matching the terms themselves to the nodes. The matrix in the left of\n",
    "        # selected_term_similarity would just be the identity matrix.\n",
    "        raw_term_to_node_sim = (\n",
    "            self._selected_terms_similarity * self._node_term_matrix.T\n",
    "        )\n",
    "\n",
    "        # non_normalized_single_term_similarity_matrix =\n",
    "        # identity x selected_term_similarity x identity -->\n",
    "        # selected_term_similarity (diagonal is one...)\n",
    "        non_normalized_node_similarity_matrix = (\n",
    "            self._node_term_matrix\n",
    "            * self._selected_terms_similarity\n",
    "            * self._node_term_matrix.T\n",
    "        )\n",
    "        normalization_denominator = np.sqrt(\n",
    "            self._selected_terms_similarity.diagonal()[:, None]\n",
    "            * non_normalized_node_similarity_matrix.diagonal()\n",
    "        )\n",
    "        term_to_node_sim = copy.deepcopy(raw_term_to_node_sim)\n",
    "        term_to_node_sim[normalization_denominator > 0] = (\n",
    "            raw_term_to_node_sim[normalization_denominator > 0]\n",
    "            / normalization_denominator[normalization_denominator > 0]\n",
    "        )\n",
    "        # Closest node to term. Matrix to dictionary.\n",
    "        term_to_node_matches = np.argmax(term_to_node_sim, axis=1)\n",
    "        self._term_to_node_idx = {\n",
    "            term: node_idx\n",
    "            for term, node_idx in zip(self.selected_terms, term_to_node_matches)\n",
    "        }\n",
    "\n",
    "    def _document_topics_to_tags(self, document_terms):\n",
    "        # For all document terms find matching closest node ids\n",
    "        node_ids = [self._term_to_node_idx[term] for term in document_terms]\n",
    "        # Look up nodes and their abstractions in node_abstraction_matrix\n",
    "        node_abstractions = self._node_abstraction_matrix[node_ids]\n",
    "        # Silence all abstractions below threshold similarity value\n",
    "        node_abstractions[node_abstractions <= self.min_abstraction_similarity] = 0\n",
    "        # Sum across to get document to tags match with weights\n",
    "        return node_abstractions.sum(axis=0)\n",
    "\n",
    "\n",
    "class CustomEncoder(json.JSONEncoder):\n",
    "    def default(self, obj):\n",
    "        if isinstance(obj, np.ndarray):\n",
    "            return obj.tolist()\n",
    "        elif isinstance(obj, csr_matrix):\n",
    "            obj_coo = obj.tocoo()\n",
    "            return {\n",
    "                \"data\": obj_coo.data,\n",
    "                \"row\": obj_coo.row,\n",
    "                \"col\": obj_coo.col,\n",
    "                \"shape\": obj_coo.shape,\n",
    "            }\n",
    "        elif isinstance(obj, set):\n",
    "            return list(obj)\n",
    "        else:\n",
    "            return json.JSONEncoder.default(self, obj)\n",
    "\n",
    "\n",
    "def get_locations_set():\n",
    "    \"\"\"\n",
    "    Collects a standard set of locations to allow filtering these from the term set.\n",
    "    This is useful if clustering documents around location is not of interest.\n",
    "    As the step of filtering location names is computationally demanding,\n",
    "    we restrict the set to countries, capitals, and US states and cites\n",
    "    \"\"\"\n",
    "\n",
    "    # Continents, counties and capitals\n",
    "    # Reference: https://gist.github.com/pamelafox/986163\n",
    "    file_path = os.path.join(os.path.dirname(__file__), \"data/countries.json\")\n",
    "    with open(file_path) as f:\n",
    "        countries = json.load(f)\n",
    "\n",
    "    continents = set()\n",
    "    country_names = set()\n",
    "    capitals = set()\n",
    "    for country in countries:\n",
    "        continents.add(country[\"continent\"].lower())\n",
    "        country_names.add(country[\"name\"].lower())\n",
    "        capitals.add(country[\"capital\"].lower())\n",
    "\n",
    "    # US states\n",
    "    file_path = os.path.join(os.path.dirname(__file__), \"data/us_states.json\")\n",
    "    with open(file_path) as f:\n",
    "        state_names = json.load(f)\n",
    "    state_names = {s.lower() for s in state_names}\n",
    "\n",
    "    # Cities list; limit to US to restrict the set\n",
    "    # Reference: https://datahub.io/core/world-cities, which itself sources the data from https://www.geonames.org/.\n",
    "    file_path = os.path.join(os.path.dirname(__file__), \"data/world-cities.json\")\n",
    "    with open(file_path) as f:\n",
    "        world_cities = json.load(f)\n",
    "\n",
    "    us_cities_list = {\n",
    "        c[\"name\"] for c in world_cities if c[\"country\"] == \"United States\"\n",
    "    }\n",
    "\n",
    "    locations = continents | country_names | capitals | state_names | us_cities_list\n",
    "\n",
    "    return locations"
   ]
  },
  {
   "cell_type": "code",
   "execution_count": null,
   "id": "02e9cfce",
   "metadata": {},
   "outputs": [],
   "source": []
  },
  {
   "cell_type": "code",
   "execution_count": null,
   "id": "c8809575",
   "metadata": {},
   "outputs": [],
   "source": []
  }
 ],
 "metadata": {
  "kernelspec": {
   "display_name": "conda_pytorch_p36",
   "language": "python",
   "name": "conda_pytorch_p36"
  },
  "language_info": {
   "codemirror_mode": {
    "name": "ipython",
    "version": 3
   },
   "file_extension": ".py",
   "mimetype": "text/x-python",
   "name": "python",
   "nbconvert_exporter": "python",
   "pygments_lexer": "ipython3",
   "version": "3.6.13"
  }
 },
 "nbformat": 4,
 "nbformat_minor": 5
}
