{
 "cells": [
  {
   "cell_type": "markdown",
   "id": "4bb4c5c8",
   "metadata": {},
   "source": [
    "Keybert for sample subset of each cluster"
   ]
  },
  {
   "cell_type": "markdown",
   "id": "33315ded",
   "metadata": {},
   "source": [
    "* attach DOI to each cluster\n",
    "* attach topic1 and topic2 to each cluster"
   ]
  },
  {
   "cell_type": "code",
   "execution_count": 2,
   "id": "f444d53b",
   "metadata": {},
   "outputs": [],
   "source": [
    "import pandas as pd\n",
    "\n",
    "clusters_path = 'downloads/non_medicine_230k_clusters.json'\n",
    "\n",
    "df = pd.read_csv(\"downloads/June23_non_medicine.csv\")#.sample(frac=0.6)\n",
    "df = df[df.text.notna() & df.doi.notna()]"
   ]
  },
  {
   "cell_type": "code",
   "execution_count": 3,
   "id": "efd4b276",
   "metadata": {},
   "outputs": [],
   "source": [
    "import json\n",
    "with open(clusters_path) as f:\n",
    "    clusters = json.loads(f.read())\n",
    "    #print(data['data'][0])"
   ]
  },
  {
   "cell_type": "code",
   "execution_count": 462,
   "id": "3f72a44e",
   "metadata": {},
   "outputs": [
    {
     "data": {
      "text/plain": [
       "[('Acoustics. Sound', 0.59108245),\n",
       " ('Physics and acoustics', 0.89881885),\n",
       " ('Percussion and other instruments', 1.0003775)]"
      ]
     },
     "execution_count": 462,
     "metadata": {},
     "output_type": "execute_result"
    }
   ],
   "source": []
  },
  {
   "cell_type": "code",
   "execution_count": 4,
   "id": "124cbfde",
   "metadata": {
    "collapsed": true,
    "jupyter": {
     "outputs_hidden": true
    }
   },
   "outputs": [
    {
     "name": "stdout",
     "output_type": "stream",
     "text": [
      "Collecting keybert\n",
      "  Using cached keybert-0.5.1-py3-none-any.whl\n",
      "Requirement already satisfied: numpy>=1.18.5 in /home/ec2-user/anaconda3/envs/pytorch_p36/lib/python3.6/site-packages (from keybert) (1.19.5)\n",
      "Requirement already satisfied: sentence-transformers>=0.3.8 in /home/ec2-user/anaconda3/envs/pytorch_p36/lib/python3.6/site-packages (from keybert) (2.2.0)\n",
      "Requirement already satisfied: scikit-learn>=0.22.2 in /home/ec2-user/anaconda3/envs/pytorch_p36/lib/python3.6/site-packages (from keybert) (0.24.2)\n",
      "Requirement already satisfied: rich>=10.4.0 in /home/ec2-user/anaconda3/envs/pytorch_p36/lib/python3.6/site-packages (from keybert) (12.4.4)\n",
      "Requirement already satisfied: commonmark<0.10.0,>=0.9.0 in /home/ec2-user/anaconda3/envs/pytorch_p36/lib/python3.6/site-packages (from rich>=10.4.0->keybert) (0.9.1)\n",
      "Requirement already satisfied: typing-extensions<5.0,>=4.0.0 in /home/ec2-user/anaconda3/envs/pytorch_p36/lib/python3.6/site-packages (from rich>=10.4.0->keybert) (4.1.1)\n",
      "Requirement already satisfied: pygments<3.0.0,>=2.6.0 in /home/ec2-user/anaconda3/envs/pytorch_p36/lib/python3.6/site-packages (from rich>=10.4.0->keybert) (2.9.0)\n",
      "Requirement already satisfied: dataclasses<0.9,>=0.7 in /home/ec2-user/anaconda3/envs/pytorch_p36/lib/python3.6/site-packages (from rich>=10.4.0->keybert) (0.8)\n",
      "Requirement already satisfied: scipy>=0.19.1 in /home/ec2-user/anaconda3/envs/pytorch_p36/lib/python3.6/site-packages (from scikit-learn>=0.22.2->keybert) (1.5.3)\n",
      "Requirement already satisfied: threadpoolctl>=2.0.0 in /home/ec2-user/anaconda3/envs/pytorch_p36/lib/python3.6/site-packages (from scikit-learn>=0.22.2->keybert) (2.1.0)\n",
      "Requirement already satisfied: joblib>=0.11 in /home/ec2-user/anaconda3/envs/pytorch_p36/lib/python3.6/site-packages (from scikit-learn>=0.22.2->keybert) (1.0.1)\n",
      "Requirement already satisfied: torch>=1.6.0 in /home/ec2-user/anaconda3/envs/pytorch_p36/lib/python3.6/site-packages (from sentence-transformers>=0.3.8->keybert) (1.6.0)\n",
      "Requirement already satisfied: tqdm in /home/ec2-user/anaconda3/envs/pytorch_p36/lib/python3.6/site-packages (from sentence-transformers>=0.3.8->keybert) (4.64.0)\n",
      "Requirement already satisfied: nltk in /home/ec2-user/anaconda3/envs/pytorch_p36/lib/python3.6/site-packages (from sentence-transformers>=0.3.8->keybert) (3.6.2)\n",
      "Requirement already satisfied: huggingface-hub in /home/ec2-user/anaconda3/envs/pytorch_p36/lib/python3.6/site-packages (from sentence-transformers>=0.3.8->keybert) (0.4.0)\n",
      "Requirement already satisfied: sentencepiece in /home/ec2-user/anaconda3/envs/pytorch_p36/lib/python3.6/site-packages (from sentence-transformers>=0.3.8->keybert) (0.1.96)\n",
      "Requirement already satisfied: transformers<5.0.0,>=4.6.0 in /home/ec2-user/anaconda3/envs/pytorch_p36/lib/python3.6/site-packages (from sentence-transformers>=0.3.8->keybert) (4.18.0)\n",
      "Requirement already satisfied: torchvision in /home/ec2-user/anaconda3/envs/pytorch_p36/lib/python3.6/site-packages (from sentence-transformers>=0.3.8->keybert) (0.5.0)\n",
      "Requirement already satisfied: future in /home/ec2-user/anaconda3/envs/pytorch_p36/lib/python3.6/site-packages (from torch>=1.6.0->sentence-transformers>=0.3.8->keybert) (0.18.2)\n",
      "Requirement already satisfied: regex!=2019.12.17 in /home/ec2-user/anaconda3/envs/pytorch_p36/lib/python3.6/site-packages (from transformers<5.0.0,>=4.6.0->sentence-transformers>=0.3.8->keybert) (2021.4.4)\n",
      "Requirement already satisfied: sacremoses in /home/ec2-user/anaconda3/envs/pytorch_p36/lib/python3.6/site-packages (from transformers<5.0.0,>=4.6.0->sentence-transformers>=0.3.8->keybert) (0.0.53)\n",
      "Requirement already satisfied: requests in /home/ec2-user/anaconda3/envs/pytorch_p36/lib/python3.6/site-packages (from transformers<5.0.0,>=4.6.0->sentence-transformers>=0.3.8->keybert) (2.25.1)\n",
      "Requirement already satisfied: filelock in /home/ec2-user/anaconda3/envs/pytorch_p36/lib/python3.6/site-packages (from transformers<5.0.0,>=4.6.0->sentence-transformers>=0.3.8->keybert) (3.0.12)\n",
      "Requirement already satisfied: tokenizers!=0.11.3,<0.13,>=0.11.1 in /home/ec2-user/anaconda3/envs/pytorch_p36/lib/python3.6/site-packages (from transformers<5.0.0,>=4.6.0->sentence-transformers>=0.3.8->keybert) (0.12.1)\n",
      "Requirement already satisfied: importlib-metadata in /home/ec2-user/anaconda3/envs/pytorch_p36/lib/python3.6/site-packages (from transformers<5.0.0,>=4.6.0->sentence-transformers>=0.3.8->keybert) (4.5.0)\n",
      "Requirement already satisfied: pyyaml>=5.1 in /home/ec2-user/anaconda3/envs/pytorch_p36/lib/python3.6/site-packages (from transformers<5.0.0,>=4.6.0->sentence-transformers>=0.3.8->keybert) (5.4.1)\n",
      "Requirement already satisfied: packaging>=20.0 in /home/ec2-user/anaconda3/envs/pytorch_p36/lib/python3.6/site-packages (from transformers<5.0.0,>=4.6.0->sentence-transformers>=0.3.8->keybert) (21.3)\n",
      "Requirement already satisfied: importlib-resources in /home/ec2-user/anaconda3/envs/pytorch_p36/lib/python3.6/site-packages (from tqdm->sentence-transformers>=0.3.8->keybert) (5.4.0)\n",
      "Requirement already satisfied: click in /home/ec2-user/anaconda3/envs/pytorch_p36/lib/python3.6/site-packages (from nltk->sentence-transformers>=0.3.8->keybert) (8.0.1)\n",
      "Requirement already satisfied: six in /home/ec2-user/anaconda3/envs/pytorch_p36/lib/python3.6/site-packages (from torchvision->sentence-transformers>=0.3.8->keybert) (1.16.0)\n",
      "Requirement already satisfied: pillow>=4.1.1 in /home/ec2-user/anaconda3/envs/pytorch_p36/lib/python3.6/site-packages (from torchvision->sentence-transformers>=0.3.8->keybert) (8.4.0)\n",
      "Requirement already satisfied: pyparsing!=3.0.5,>=2.0.2 in /home/ec2-user/anaconda3/envs/pytorch_p36/lib/python3.6/site-packages (from packaging>=20.0->transformers<5.0.0,>=4.6.0->sentence-transformers>=0.3.8->keybert) (2.4.7)\n",
      "Requirement already satisfied: zipp>=0.5 in /home/ec2-user/anaconda3/envs/pytorch_p36/lib/python3.6/site-packages (from importlib-metadata->transformers<5.0.0,>=4.6.0->sentence-transformers>=0.3.8->keybert) (3.4.1)\n",
      "Requirement already satisfied: urllib3<1.27,>=1.21.1 in /home/ec2-user/anaconda3/envs/pytorch_p36/lib/python3.6/site-packages (from requests->transformers<5.0.0,>=4.6.0->sentence-transformers>=0.3.8->keybert) (1.26.8)\n",
      "Requirement already satisfied: certifi>=2017.4.17 in /home/ec2-user/anaconda3/envs/pytorch_p36/lib/python3.6/site-packages (from requests->transformers<5.0.0,>=4.6.0->sentence-transformers>=0.3.8->keybert) (2021.5.30)\n",
      "Requirement already satisfied: idna<3,>=2.5 in /home/ec2-user/anaconda3/envs/pytorch_p36/lib/python3.6/site-packages (from requests->transformers<5.0.0,>=4.6.0->sentence-transformers>=0.3.8->keybert) (2.10)\n",
      "Requirement already satisfied: chardet<5,>=3.0.2 in /home/ec2-user/anaconda3/envs/pytorch_p36/lib/python3.6/site-packages (from requests->transformers<5.0.0,>=4.6.0->sentence-transformers>=0.3.8->keybert) (4.0.0)\n",
      "Installing collected packages: keybert\n",
      "Successfully installed keybert-0.5.1\n"
     ]
    }
   ],
   "source": [
    "!pip install keybert"
   ]
  },
  {
   "cell_type": "code",
   "execution_count": 5,
   "id": "63f01093",
   "metadata": {},
   "outputs": [],
   "source": [
    "from keybert import KeyBERT\n",
    "kw_model = KeyBERT()"
   ]
  },
  {
   "cell_type": "code",
   "execution_count": 6,
   "id": "647df250",
   "metadata": {},
   "outputs": [],
   "source": [
    "with open(\"downloads/verbs-conjugations.json\") as f:\n",
    "    verbs = json.loads(f.read())\n",
    "    #print(data['data'][0])"
   ]
  },
  {
   "cell_type": "code",
   "execution_count": 7,
   "id": "4baff99b",
   "metadata": {},
   "outputs": [
    {
     "name": "stdout",
     "output_type": "stream",
     "text": [
      "Collecting flatdict\n",
      "  Using cached flatdict-4.0.1-py3-none-any.whl\n",
      "Installing collected packages: flatdict\n",
      "Successfully installed flatdict-4.0.1\n"
     ]
    }
   ],
   "source": [
    "!pip install flatdict"
   ]
  },
  {
   "cell_type": "code",
   "execution_count": 8,
   "id": "1e8fc440",
   "metadata": {},
   "outputs": [],
   "source": [
    "import flatdict\n",
    "\n",
    "flat = flatdict.FlatDict(verbs[0])\n",
    "def flatten(xss):\n",
    "    return [x for xs in xss for x in xs]"
   ]
  },
  {
   "cell_type": "code",
   "execution_count": 9,
   "id": "5488e438",
   "metadata": {},
   "outputs": [],
   "source": [
    "all_verbs = [flatten(flatdict.FlatDict(v_dict).values()) for v_dict in verbs]     "
   ]
  },
  {
   "cell_type": "code",
   "execution_count": 10,
   "id": "f939e731",
   "metadata": {},
   "outputs": [],
   "source": [
    "flat_verbs = flatten(all_verbs)"
   ]
  },
  {
   "cell_type": "code",
   "execution_count": 11,
   "id": "ec0af519",
   "metadata": {},
   "outputs": [
    {
     "data": {
      "text/plain": [
       "68948"
      ]
     },
     "execution_count": 11,
     "metadata": {},
     "output_type": "execute_result"
    }
   ],
   "source": [
    "flat_verbs = [v for v in flat_verbs if len(v) > 2]\n",
    "len(flat_verbs)"
   ]
  },
  {
   "cell_type": "code",
   "execution_count": 13,
   "id": "01b6b9d3",
   "metadata": {},
   "outputs": [],
   "source": [
    "unique_verbs = list(set(flat_verbs))"
   ]
  },
  {
   "cell_type": "code",
   "execution_count": 18,
   "id": "0d7cae33",
   "metadata": {},
   "outputs": [
    {
     "data": {
      "text/plain": [
       "False"
      ]
     },
     "execution_count": 18,
     "metadata": {},
     "output_type": "execute_result"
    }
   ],
   "source": [
    "not any(vowel in \"hell\" for vowel in [\"a\", \"e\", \"i\", \"o\", \"u\"])"
   ]
  },
  {
   "cell_type": "code",
   "execution_count": 87,
   "id": "a382e340",
   "metadata": {},
   "outputs": [],
   "source": [
    "def contains_number(value):\n",
    "    for character in value:\n",
    "        if character.isdigit():\n",
    "            return True\n",
    "    return False"
   ]
  },
  {
   "cell_type": "code",
   "execution_count": 88,
   "id": "d09561a4",
   "metadata": {},
   "outputs": [],
   "source": [
    "def get_kws(text, kw_model=kw_model, blacklist=unique_verbs):\n",
    "    kws = kw_model.extract_keywords(text, \n",
    "                          keyphrase_ngram_range=(1, 2), \n",
    "                          stop_words='english',\n",
    "                          use_mmr=True, \n",
    "                          diversity=0.25)\n",
    "    \n",
    "    kws.sort(key=lambda x: x[1], reverse=True)\n",
    "    \n",
    "    nkws = []\n",
    "    for kw in kws:\n",
    "        name, probs = kw\n",
    "        terms = name.split(\" \")\n",
    "        if len([term for term in terms if \n",
    "                term.endswith(\"ing\") \n",
    "                or term.endswith(\"ly\") \n",
    "                or term in blacklist\n",
    "                or len(term) < 4\n",
    "                #or the last letter is the only vowel\n",
    "                or contains_number(term) \n",
    "                or not any(vowel in term for vowel in [\"a\", \"e\", \"i\", \"o\", \"u\"]) #avoid words like hdfg\n",
    "               ]) == 0:\n",
    "            nkws += [kw]\n",
    "    \n",
    "    return nkws\n",
    "#         if len([term for term in kw.split(\" \") if term.endswith(\"ing\")] > or \n",
    "#     return kws"
   ]
  },
  {
   "cell_type": "code",
   "execution_count": 21,
   "id": "619854c7",
   "metadata": {},
   "outputs": [
    {
     "data": {
      "text/plain": [
       "[('perovskites stoichiometry', 0.602),\n",
       " ('halide perovskites', 0.5961),\n",
       " ('hybrid metal', 0.3223)]"
      ]
     },
     "execution_count": 21,
     "metadata": {},
     "output_type": "execute_result"
    }
   ],
   "source": [
    "get_kws(clusters[0][\"text\"])"
   ]
  },
  {
   "cell_type": "code",
   "execution_count": 22,
   "id": "897cc545",
   "metadata": {},
   "outputs": [],
   "source": [
    "def keyword_averaging(sample):\n",
    "    topics = {}\n",
    "    all_kws = []\n",
    "    for s in sample:\n",
    "        all_kws += get_kws(s[\"text\"])\n",
    "    \n",
    "    #average\n",
    "    topic_mem = []\n",
    "    for kws in all_kws:\n",
    "        topic, prob = kws\n",
    "        topic_mem += [topic]\n",
    "        if topics.get(topic):\n",
    "            topics[topic] += prob\n",
    "        else:\n",
    "            topics[topic] = prob\n",
    "                \n",
    "    for topic, prob in topics.items():\n",
    "        #normalize topic probability\n",
    "        topics[topic] = topics[topic] / len([t for t in topic_mem if t == topic])\n",
    "    sort_ = {k: v for k, v in sorted(topics.items(), key=lambda item: item[1])}\n",
    "    return topics\n",
    "        "
   ]
  },
  {
   "cell_type": "code",
   "execution_count": 23,
   "id": "5c21df95",
   "metadata": {},
   "outputs": [
    {
     "name": "stdout",
     "output_type": "stream",
     "text": [
      "0\n",
      "200\n",
      "400\n",
      "600\n",
      "800\n",
      "1000\n",
      "1200\n",
      "1400\n",
      "1600\n",
      "1800\n",
      "2000\n",
      "2200\n",
      "2400\n",
      "2600\n",
      "2800\n",
      "3000\n",
      "3200\n",
      "3400\n"
     ]
    }
   ],
   "source": [
    "for i, c in enumerate(clusters):\n",
    "    c[\"topics\"] = get_kws(c[\"text\"])\n",
    "    if i % 200 == 0:\n",
    "        print(i)"
   ]
  },
  {
   "cell_type": "code",
   "execution_count": 26,
   "id": "eccabfe5",
   "metadata": {},
   "outputs": [],
   "source": [
    "#defined at bottom\n",
    "hierarchical_tagger = HierarchicalTagger()"
   ]
  },
  {
   "cell_type": "code",
   "execution_count": 27,
   "id": "9e434391",
   "metadata": {},
   "outputs": [],
   "source": [
    "topic_dict = {}\n",
    "for c in clusters:\n",
    "    topic_dict[c[\"doi\"]] = [t[0] for t in c[\"topics\"][:4] if t[1] > 0.4] #limit to top three ?"
   ]
  },
  {
   "cell_type": "code",
   "execution_count": 133,
   "id": "b84d268a",
   "metadata": {},
   "outputs": [],
   "source": [
    "from IPython.display import JSON\n",
    "#JSON(topic_dict)"
   ]
  },
  {
   "cell_type": "code",
   "execution_count": 29,
   "id": "3a06dd01",
   "metadata": {},
   "outputs": [
    {
     "data": {
      "text/plain": [
       "({'perovskite solar': 0.68558,\n",
       "  'perovskite absorber': 0.7251,\n",
       "  'quality perovskite': 0.6347,\n",
       "  'planar perovskite': 0.5938,\n",
       "  'perovskite nanocrystals': 0.7741,\n",
       "  'halide perovskites': 0.6236,\n",
       "  'photoelectric conversion': 0.5857,\n",
       "  'perovskites': 0.5800000000000001,\n",
       "  'perovskites famous': 0.5231,\n",
       "  'solar cells': 0.488025,\n",
       "  'mesoporous carbon': 0.5637,\n",
       "  'carbon stack': 0.439,\n",
       "  'halide perovskite': 0.5508,\n",
       "  'perovskite': 0.5826666666666668,\n",
       "  'solar': 0.4381,\n",
       "  'based perovskite': 0.5682,\n",
       "  'organic perovskites': 0.748,\n",
       "  'perovskites emerged': 0.6609,\n",
       "  'materials optoelectronic': 0.5364,\n",
       "  'hybrid inorganic': 0.4672,\n",
       "  'material solar': 0.5112,\n",
       "  'solar cell': 0.4815,\n",
       "  'perovskite structured': 0.665,\n",
       "  'materials abx3': 0.6104,\n",
       "  'structured materials': 0.4384,\n",
       "  'energy storage': 0.3229},\n",
       " [('perovskites stoichiometry', 0.602),\n",
       "  ('halide perovskites', 0.5961),\n",
       "  ('hybrid metal', 0.3223)])"
      ]
     },
     "execution_count": 29,
     "metadata": {},
     "output_type": "execute_result"
    }
   ],
   "source": [
    "import random\n",
    "\n",
    "test = clusters[0][\"children\"]\n",
    "# s = random.sample(test, min(len(test)/3, 50))\n",
    "s = test[:10]\n",
    "\n",
    "kws = keyword_averaging(s) \n",
    "#! Averaging shown to not be great\n",
    "kws, get_kws(clusters[0][\"text\"])"
   ]
  },
  {
   "cell_type": "code",
   "execution_count": 31,
   "id": "c453bcb9",
   "metadata": {},
   "outputs": [],
   "source": [
    "topic_path='downloads/230k_topic_items_non_medicine_clean1.json'"
   ]
  },
  {
   "cell_type": "code",
   "execution_count": 32,
   "id": "cd31e4cd",
   "metadata": {},
   "outputs": [],
   "source": [
    "import json\n",
    "with open(topic_path, 'w') as f:\n",
    "    json.dump(topic_dict, f)"
   ]
  },
  {
   "cell_type": "code",
   "execution_count": 33,
   "id": "5b647166",
   "metadata": {},
   "outputs": [
    {
     "data": {
      "text/plain": [
       "2963"
      ]
     },
     "execution_count": 33,
     "metadata": {},
     "output_type": "execute_result"
    }
   ],
   "source": [
    "## Ingest the processed docs into the HierarchicalTagger pipeline\n",
    "\n",
    "# Load topic labels from precomputed datast\n",
    "ROOT_DIR= \"/home/ec2-user/SageMaker/octoflow\"\n",
    "# If you ran Engines on your own data, change the path to where you stored the output.\n",
    "PRECOMPUTED_ITEM_TOPICS = os.path.join(ROOT_DIR, topic_path)\n",
    "with open(PRECOMPUTED_ITEM_TOPICS, \"r\") as f:\n",
    "    topics = json.load(f)\n",
    "\n",
    "# Confirm we have topics for all 3000 documents\n",
    "len(topics)\n"
   ]
  },
  {
   "cell_type": "code",
   "execution_count": 34,
   "id": "c6c093d1",
   "metadata": {},
   "outputs": [
    {
     "data": {
      "text/html": [
       "<div>\n",
       "<style scoped>\n",
       "    .dataframe tbody tr th:only-of-type {\n",
       "        vertical-align: middle;\n",
       "    }\n",
       "\n",
       "    .dataframe tbody tr th {\n",
       "        vertical-align: top;\n",
       "    }\n",
       "\n",
       "    .dataframe thead th {\n",
       "        text-align: right;\n",
       "    }\n",
       "</style>\n",
       "<table border=\"1\" class=\"dataframe\">\n",
       "  <thead>\n",
       "    <tr style=\"text-align: right;\">\n",
       "      <th></th>\n",
       "      <th>text</th>\n",
       "      <th>doi</th>\n",
       "      <th>fields</th>\n",
       "      <th>predicts</th>\n",
       "    </tr>\n",
       "  </thead>\n",
       "  <tbody>\n",
       "    <tr>\n",
       "      <th>0</th>\n",
       "      <td>The field of bipolar affective disorders resea...</td>\n",
       "      <td>10.1016/S0924-9338(11)71909-5</td>\n",
       "      <td>Psychology</td>\n",
       "      <td>1.0</td>\n",
       "    </tr>\n",
       "    <tr>\n",
       "      <th>1</th>\n",
       "      <td>Thermal barrier coatings have been widely used...</td>\n",
       "      <td>10.4028/www.scientific.net/KEM.723.247</td>\n",
       "      <td>Materials Science</td>\n",
       "      <td>1.0</td>\n",
       "    </tr>\n",
       "    <tr>\n",
       "      <th>2</th>\n",
       "      <td>Drilling is a major process in the manufacturi...</td>\n",
       "      <td>10.1016/J.COMPSTRUCT.2013.04.026</td>\n",
       "      <td>Materials Science</td>\n",
       "      <td>1.0</td>\n",
       "    </tr>\n",
       "    <tr>\n",
       "      <th>3</th>\n",
       "      <td>&lt;p&gt;Mediterranean areas are vulnerable and at h...</td>\n",
       "      <td>10.5194/egusphere-egu2020-18914</td>\n",
       "      <td>Environmental Science</td>\n",
       "      <td>1.0</td>\n",
       "    </tr>\n",
       "    <tr>\n",
       "      <th>4</th>\n",
       "      <td>The sediment quality of Ribeira de Iguape Rive...</td>\n",
       "      <td>10.1007/s10661-017-5971-x</td>\n",
       "      <td>Environmental Science</td>\n",
       "      <td>1.0</td>\n",
       "    </tr>\n",
       "    <tr>\n",
       "      <th>...</th>\n",
       "      <td>...</td>\n",
       "      <td>...</td>\n",
       "      <td>...</td>\n",
       "      <td>...</td>\n",
       "    </tr>\n",
       "    <tr>\n",
       "      <th>1097968</th>\n",
       "      <td>Cars, as she notes, are productive sites of in...</td>\n",
       "      <td>10.1017/S0001972019000706</td>\n",
       "      <td>Sociology</td>\n",
       "      <td>1.0</td>\n",
       "    </tr>\n",
       "    <tr>\n",
       "      <th>1097969</th>\n",
       "      <td>Optical tools for manipulation and trapping of...</td>\n",
       "      <td>10.1364/OL.43.000030</td>\n",
       "      <td>Materials Science</td>\n",
       "      <td>1.0</td>\n",
       "    </tr>\n",
       "    <tr>\n",
       "      <th>1097970</th>\n",
       "      <td>recent years there has been rapid progress in ...</td>\n",
       "      <td>10.1039/C2AY05420E</td>\n",
       "      <td>Materials Science</td>\n",
       "      <td>1.0</td>\n",
       "    </tr>\n",
       "    <tr>\n",
       "      <th>1097971</th>\n",
       "      <td>Consumption of wastewater-irrigated vegetables...</td>\n",
       "      <td>10.1007/s10669-015-9558-1</td>\n",
       "      <td>Environmental Science</td>\n",
       "      <td>1.0</td>\n",
       "    </tr>\n",
       "    <tr>\n",
       "      <th>1097972</th>\n",
       "      <td>Visiting the settings of popular films and TV ...</td>\n",
       "      <td>10.1111/J.1475-4762.2009.00930.X</td>\n",
       "      <td>Sociology</td>\n",
       "      <td>1.0</td>\n",
       "    </tr>\n",
       "  </tbody>\n",
       "</table>\n",
       "<p>438224 rows × 4 columns</p>\n",
       "</div>"
      ],
      "text/plain": [
       "                                                      text  \\\n",
       "0        The field of bipolar affective disorders resea...   \n",
       "1        Thermal barrier coatings have been widely used...   \n",
       "2        Drilling is a major process in the manufacturi...   \n",
       "3        <p>Mediterranean areas are vulnerable and at h...   \n",
       "4        The sediment quality of Ribeira de Iguape Rive...   \n",
       "...                                                    ...   \n",
       "1097968  Cars, as she notes, are productive sites of in...   \n",
       "1097969  Optical tools for manipulation and trapping of...   \n",
       "1097970  recent years there has been rapid progress in ...   \n",
       "1097971  Consumption of wastewater-irrigated vegetables...   \n",
       "1097972  Visiting the settings of popular films and TV ...   \n",
       "\n",
       "                                            doi                 fields  \\\n",
       "0                 10.1016/S0924-9338(11)71909-5             Psychology   \n",
       "1        10.4028/www.scientific.net/KEM.723.247      Materials Science   \n",
       "2              10.1016/J.COMPSTRUCT.2013.04.026      Materials Science   \n",
       "3               10.5194/egusphere-egu2020-18914  Environmental Science   \n",
       "4                     10.1007/s10661-017-5971-x  Environmental Science   \n",
       "...                                         ...                    ...   \n",
       "1097968               10.1017/S0001972019000706              Sociology   \n",
       "1097969                    10.1364/OL.43.000030      Materials Science   \n",
       "1097970                      10.1039/C2AY05420E      Materials Science   \n",
       "1097971               10.1007/s10669-015-9558-1  Environmental Science   \n",
       "1097972        10.1111/J.1475-4762.2009.00930.X              Sociology   \n",
       "\n",
       "         predicts  \n",
       "0             1.0  \n",
       "1             1.0  \n",
       "2             1.0  \n",
       "3             1.0  \n",
       "4             1.0  \n",
       "...           ...  \n",
       "1097968       1.0  \n",
       "1097969       1.0  \n",
       "1097970       1.0  \n",
       "1097971       1.0  \n",
       "1097972       1.0  \n",
       "\n",
       "[438224 rows x 4 columns]"
      ]
     },
     "execution_count": 34,
     "metadata": {},
     "output_type": "execute_result"
    }
   ],
   "source": []
  },
  {
   "cell_type": "code",
   "execution_count": 35,
   "id": "f05f24c2",
   "metadata": {},
   "outputs": [],
   "source": [
    "attrs = {r[\"doi\"]: {\"fields\": r['fields'], \"text\": r['text']} for i, r in df[:230000].iterrows()}"
   ]
  },
  {
   "cell_type": "code",
   "execution_count": 36,
   "id": "e7c53ec1",
   "metadata": {},
   "outputs": [],
   "source": [
    "# # Rework the document topic representations into a dictionary mapping document_id: List[topic labels as str]\n",
    "# document_topics = {document_id: topics_entry['topics'] for document_id, topics_entry in topics.items()}\n",
    "# Send the document ids and their corresponding topic labels for ingest\n",
    "hierarchical_tagger.ingest(document_terms=topics, document_attributes=attrs)"
   ]
  },
  {
   "cell_type": "code",
   "execution_count": 37,
   "id": "d8988f79",
   "metadata": {},
   "outputs": [],
   "source": [
    "# The previous step is the most computationally demanding.\n",
    "# To avoid having to repeat this, we can save our HierarchicalTagger instance to a json file, using the .to_json() helper method.\n",
    "# As this file will also be the input data to our web app, so let's save it in `webapp/data/`\n",
    "SERIALIZED_INSTANCE_PATH = os.path.join(ROOT_DIR, \"downloads/topic_tree_nonmed_june23_clean.json\")\n",
    "with open(SERIALIZED_INSTANCE_PATH, \"w\") as f:\n",
    "    f.write(hierarchical_tagger.to_json())\n",
    "\n",
    "# This is how we can reload a HierarchicalTagger instance from file\n",
    "with open(SERIALIZED_INSTANCE_PATH, \"r\") as f:\n",
    "    reloaded_serialized =  json.load(f)\n",
    "hierarchical_tagger = HierarchicalTagger.from_dict(reloaded_serialized)"
   ]
  },
  {
   "cell_type": "code",
   "execution_count": 56,
   "id": "71af2f9d",
   "metadata": {},
   "outputs": [],
   "source": [
    "# j = hierarchical_tagger.to_json()\n",
    "# for k,v in d.items():\n",
    "#     print(k)"
   ]
  },
  {
   "cell_type": "code",
   "execution_count": 51,
   "id": "6c84a1fa",
   "metadata": {},
   "outputs": [],
   "source": [
    "import json\n",
    "with open('downloads/nonmed_hier_tree.json', 'w') as f:\n",
    "    json.dump(j, f)"
   ]
  },
  {
   "cell_type": "code",
   "execution_count": 639,
   "id": "07dfceb8",
   "metadata": {},
   "outputs": [
    {
     "name": "stdout",
     "output_type": "stream",
     "text": [
      "materials\n",
      "├── acoustic\n",
      "│   ├── auditory\n",
      "│   └── music education\n",
      "├── biomass\n",
      "│   ├── energy source\n",
      "│   │   ├── fuels\n",
      "│   │   │   ├── biomass fuels\n",
      "│   │   │   │   ├── biogas biomass\n",
      "│   │   │   │   │   ├── based biomass\n",
      "│   │   │   │   │   └── biodegradability\n",
      "│   │   │   │   │       └── biofuel\n",
      "│   │   │   │   └── fossil fuel\n",
      "│   │   │   │       ├── combustion engines\n",
      "│   │   │   │       └── diesel engine\n",
      "│   │   │   ├── coal gasification\n",
      "│   │   │   │   ├── coal production\n",
      "│   │   │   │   ├── gasification systems\n",
      "│   │   │   │   └── natural resource\n",
      "│   │   │   ├── environmental issue\n",
      "│   │   │   │   ├── aerosol\n",
      "│   │   │   │   │   ├── haze\n",
      "│   │   │   │   │   │   └── near infrared\n",
      "│   │   │   │   │   └── ozone\n",
      "│   │   │   │   ├── carbon\n",
      "│   │   │   │   │   ├── carbon sink\n",
      "│   │   │   │   │   └── organic carbon\n",
      "│   │   │   │   │       ├── greenhouse gases\n",
      "│   │   │   │   │       │   └── global carbon\n",
      "│   │   │   │   │       └── terrestrial carbon\n",
      "│   │   │   │   ├── environmental pollution\n",
      "│   │   │   │   │   ├── emission\n",
      "│   │   │   │   │   │   └── emissions necessary\n",
      "│   │   │   │   │   ├── environmental hazards\n",
      "│   │   │   │   │   └── worldwide environmental\n",
      "│   │   │   │   ├── sustainable development\n",
      "│   │   │   │   │   └── sustainability\n",
      "│   │   │   │   └── world climate\n",
      "│   │   │   └── hydrogen generation\n",
      "│   │   │       └── catalysts based\n",
      "│   │   │           └── significance catalysis\n",
      "│   │   ├── liquids\n",
      "│   │   │   ├── hydrocarbons\n",
      "│   │   │   │   ├── ethanol represents\n",
      "│   │   │   │   └── hydrogels\n",
      "│   │   │   └── industrial processes\n",
      "│   │   │       ├── distillation\n",
      "│   │   │       │   ├── desalination\n",
      "│   │   │       │   └── separation processes\n",
      "│   │   │       ├── industrial application\n",
      "│   │   │       └── sludge\n",
      "│   │   │           └── disposal landfill\n",
      "│   │   ├── nuclear reactor\n",
      "│   │   │   ├── electrical failure\n",
      "│   │   │   ├── high neutron\n",
      "│   │   │   └── reactors\n",
      "│   │   └── solar energy\n",
      "│   │       ├── renewable electricity\n",
      "│   │       │   ├── energy consumption\n",
      "│   │       │   ├── energy storage\n",
      "│   │       │   └── renewable\n",
      "│   │       │       └── development renewable\n",
      "│   │       ├── solar cell\n",
      "│   │       │   ├── heterojunction solar\n",
      "│   │       │   └── photovoltaic\n",
      "│   │       ├── thermal properties\n",
      "│   │       │   ├── geotechnical\n",
      "│   │       │   │   └── geothermal\n",
      "│   │       │   ├── high temperature\n",
      "│   │       │   ├── refrigeration systems\n",
      "│   │       │   ├── thermal\n",
      "│   │       │   ├── thermal insulation\n",
      "│   │       │   ├── thermal stability\n",
      "│   │       │   └── thermoplastic\n",
      "│   │       │       └── thermoelectric\n",
      "│   │       └── wind power\n",
      "│   ├── hydrological ecological\n",
      "│   │   ├── alpine areas\n",
      "│   │   ├── catchments runoff\n",
      "│   │   │   ├── drought\n",
      "│   │   │   │   ├── heavy precipitation\n",
      "│   │   │   │   └── tropical cyclones\n",
      "│   │   │   └── wastewater\n",
      "│   │   │       ├── hydroelectric\n",
      "│   │   │       ├── hydrologic data\n",
      "│   │   │       ├── osmosis\n",
      "│   │   │       ├── runoff surface\n",
      "│   │   │       ├── wastewater treatment\n",
      "│   │   │       │   └── area groundwater\n",
      "│   │   │       └── watershed scale\n",
      "│   │   ├── ecosystem\n",
      "│   │   │   ├── coastal ecosystem\n",
      "│   │   │   │   └── fisheries management\n",
      "│   │   │   └── forest ecosystems\n",
      "│   │   │       ├── aquatic ecosystems\n",
      "│   │   │       ├── forest\n",
      "│   │   │       │   └── deforestation\n",
      "│   │   │       └── phytoplankton\n",
      "│   │   └── organic soils\n",
      "│   │       ├── agricultural products\n",
      "│   │       │   ├── crops\n",
      "│   │       │   │   └── crop production\n",
      "│   │       │   └── foods important\n",
      "│   │       │       ├── food products\n",
      "│   │       │       └── food security\n",
      "│   │       ├── organic inorganic\n",
      "│   │       ├── phosphorus nitrogen\n",
      "│   │       │   ├── nitrogen\n",
      "│   │       │   │   └── carbon nutrient\n",
      "│   │       │   └── phosphate based\n",
      "│   │       └── soil soil\n",
      "│   │           ├── fertilizer\n",
      "│   │           ├── soil behavior\n",
      "│   │           └── soil data\n",
      "│   └── scientific research\n",
      "│       ├── nondestructive evaluation\n",
      "│       ├── research\n",
      "│       ├── spectrometry\n",
      "│       └── tribological\n",
      "│           └── mathematics\n",
      "├── droplet\n",
      "├── materials electronic\n",
      "│   ├── amorphous\n",
      "│   │   ├── crystallization behavior\n",
      "│   │   │   ├── crystal growth\n",
      "│   │   │   ├── multiferroic\n",
      "│   │   │   │   └── tial intermetallic\n",
      "│   │   │   └── superconductors\n",
      "│   │   └── surface plasmon\n",
      "│   │       ├── perovskite based\n",
      "│   │       ├── phthalocyanines main\n",
      "│   │       └── plasmon resonance\n",
      "│   ├── cathode material\n",
      "│   ├── cavitation\n",
      "│   │   └── plasma\n",
      "│   ├── composite materials\n",
      "│   │   ├── alloys\n",
      "│   │   │   ├── ceramic\n",
      "│   │   │   ├── lithography\n",
      "│   │   │   ├── materials science\n",
      "│   │   │   │   └── properties materials\n",
      "│   │   │   ├── stainless steel\n",
      "│   │   │   │   └── strength steel\n",
      "│   │   │   │       └── welded metal\n",
      "│   │   │   └── transition metal\n",
      "│   │   ├── concrete\n",
      "│   │   │   ├── asphalt\n",
      "│   │   │   ├── cement based\n",
      "│   │   │   │   └── cement composites\n",
      "│   │   │   ├── concrete structures\n",
      "│   │   │   └── construction material\n",
      "│   │   ├── polymer composites\n",
      "│   │   │   ├── composite\n",
      "│   │   │   ├── fibre reinforced\n",
      "│   │   │   ├── glass fiber\n",
      "│   │   │   │   ├── fiber\n",
      "│   │   │   │   │   ├── carbon fiber\n",
      "│   │   │   │   │   └── fiber laser\n",
      "│   │   │   │   └── glassy polymers\n",
      "│   │   │   ├── plastic products\n",
      "│   │   │   │   ├── foam materials\n",
      "│   │   │   │   └── various biomaterials\n",
      "│   │   │   └── polymer based\n",
      "│   │   └── porous materials\n",
      "│   │       ├── flexible\n",
      "│   │       ├── membrane\n",
      "│   │       └── transparent materials\n",
      "│   ├── corrosion\n",
      "│   │   ├── deterioration quality\n",
      "│   │   ├── mechanical behavior\n",
      "│   │   │   └── friction\n",
      "│   │   └── vapor deposition\n",
      "│   │       ├── layer deposition\n",
      "│   │       └── surface treatment\n",
      "│   │           └── surface salinity\n",
      "│   ├── dielectric\n",
      "│   │   ├── advanced semiconductor\n",
      "│   │   │   └── flexible electronics\n",
      "│   │   ├── anode material\n",
      "│   │   └── optoelectronic technology\n",
      "│   ├── electrical insulators\n",
      "│   │   ├── capacitors\n",
      "│   │   └── insulators\n",
      "│   ├── electrochemical\n",
      "│   │   ├── electrode materials\n",
      "│   │   └── oxides materials\n",
      "│   │       └── zinc oxide\n",
      "│   ├── magnetic properties\n",
      "│   │   ├── ferroelectric\n",
      "│   │   └── magnetoresistance\n",
      "│   │       └── magnetoelectric\n",
      "│   ├── material lithium\n",
      "│   │   ├── boron nitride\n",
      "│   │   │   ├── boron\n",
      "│   │   │   ├── niobium niobium\n",
      "│   │   │   ├── rare earth\n",
      "│   │   │   │   └── chromium\n",
      "│   │   │   └── zirconia\n",
      "│   │   ├── fe2o3 remarkable\n",
      "│   │   │   └── ferrite\n",
      "│   │   ├── graphene\n",
      "│   │   ├── lithium batteries\n",
      "│   │   │   ├── batteries libs\n",
      "│   │   │   └── lithium titanate\n",
      "│   │   └── titanium dioxide\n",
      "│   │       └── silicon\n",
      "│   │           └── silica\n",
      "│   ├── nanotube\n",
      "│   │   ├── microelectromechanical\n",
      "│   │   │   └── nano microscale\n",
      "│   │   ├── microfluid\n",
      "│   │   ├── nanocomposites\n",
      "│   │   └── nanoparticle\n",
      "│   │       ├── nanoscience nanotechnology\n",
      "│   │       └── nanostructures\n",
      "│   ├── photocatalytic\n",
      "│   │   ├── photodetectors\n",
      "│   │   └── photonic\n",
      "│   │       ├── laser\n",
      "│   │       │   ├── laser diodes\n",
      "│   │       │   └── laser pulses\n",
      "│   │       ├── microscopy\n",
      "│   │       │   ├── luminescent\n",
      "│   │       │   └── microscope\n",
      "│   │       └── optical devices\n",
      "│   ├── silicon carbide\n",
      "│   └── technological\n",
      "│       ├── aerospace industry\n",
      "│       ├── communication technologies\n",
      "│       │   ├── information systems\n",
      "│       │   └── interconnect\n",
      "│       ├── difficult machine\n",
      "│       └── wearable devices\n",
      "├── mental disorder\n",
      "│   ├── anxiety patients\n",
      "│   │   ├── anxiety\n",
      "│   │   └── social anxiety\n",
      "│   ├── aphasia\n",
      "│   │   └── apnea\n",
      "│   ├── cognitive impairment\n",
      "│   │   ├── adhd\n",
      "│   │   ├── cognitive\n",
      "│   │   │   └── mild cognitive\n",
      "│   │   ├── conditions alzheimer\n",
      "│   │   │   ├── neurological disorder\n",
      "│   │   │   │   └── nonmotor symptoms\n",
      "│   │   │   │       └── motor impairments\n",
      "│   │   │   └── parkinson disease\n",
      "│   │   ├── disability\n",
      "│   │   └── dystonia\n",
      "│   ├── cortical\n",
      "│   │   └── hippocampal\n",
      "│   ├── depressive illness\n",
      "│   │   └── major depressive\n",
      "│   ├── disorder\n",
      "│   │   └── affective disorder\n",
      "│   ├── drug addiction\n",
      "│   │   ├── addiction\n",
      "│   │   └── nicotine\n",
      "│   ├── health problem\n",
      "│   │   ├── cardiovascular disease\n",
      "│   │   │   ├── diabetes mellitus\n",
      "│   │   │   │   ├── adults diabetes\n",
      "│   │   │   │   └── immunodeficiency syndrome\n",
      "│   │   │   └── heart disease\n",
      "│   │   └── mental healthcare\n",
      "│   │       ├── fatigue\n",
      "│   │       │   └── obesity\n",
      "│   │       ├── physical activity\n",
      "│   │       └── public health\n",
      "│   │           └── human health\n",
      "│   ├── journalism\n",
      "│   │   └── niqab\n",
      "│   ├── obsessive compulsive\n",
      "│   │   └── drowsiness\n",
      "│   │       └── insomnia disorder\n",
      "│   ├── psychological distress\n",
      "│   │   └── emotion regulation\n",
      "│   │       ├── psychology\n",
      "│   │       └── responses emotional\n",
      "│   ├── schizophrenia illness\n",
      "│   │   └── psychiatry\n",
      "│   └── social problem\n",
      "│       ├── criminal behaviour\n",
      "│       │   ├── violence\n",
      "│       │   │   └── crime\n",
      "│       │   └── women incarcerated\n",
      "│       ├── educational researchers\n",
      "│       │   ├── adolescents child\n",
      "│       │   │   ├── adolescent\n",
      "│       │   │   │   └── youth\n",
      "│       │   │   ├── child development\n",
      "│       │   │   └── child protection\n",
      "│       │   ├── education teacher\n",
      "│       │   │   └── education issue\n",
      "│       │   │       └── problems educational\n",
      "│       │   ├── entrepreneurship\n",
      "│       │   │   ├── career development\n",
      "│       │   │   └── tourism experience\n",
      "│       │   ├── higher education\n",
      "│       │   │   └── community colleges\n",
      "│       │   └── medical student\n",
      "│       ├── ethical issues\n",
      "│       │   ├── ethical decision\n",
      "│       │   └── study neoliberalism\n",
      "│       ├── gender role\n",
      "│       │   ├── gender effect\n",
      "│       │   ├── incontinence\n",
      "│       │   └── masculinity\n",
      "│       ├── global problems\n",
      "│       │   ├── health global\n",
      "│       │   └── problems countries\n",
      "│       ├── negative effects\n",
      "│       ├── older people\n",
      "│       │   └── intergenerational\n",
      "│       │       ├── epitaxial growth\n",
      "│       │       └── genetic\n",
      "│       ├── phenomenon multilingualism\n",
      "│       │   ├── behavior\n",
      "│       │   │   ├── organizational behavior\n",
      "│       │   │   │   ├── behavioral traits\n",
      "│       │   │   │   └── leadership\n",
      "│       │   │   └── theory mind\n",
      "│       │   │       └── human perceptual\n",
      "│       │   │           ├── emotional intelligence\n",
      "│       │   │           └── mindfulness\n",
      "│       │   ├── intercultural relations\n",
      "│       │   │   ├── cultural diversity\n",
      "│       │   │   │   ├── citizenship\n",
      "│       │   │   │   └── radicalism phenomenon\n",
      "│       │   │   └── relationship\n",
      "│       │   │       ├── mediated communication\n",
      "│       │   │       └── partnership\n",
      "│       │   └── language impairment\n",
      "│       │       └── language disorder\n",
      "│       │           └── second language\n",
      "│       │               ├── bilingual\n",
      "│       │               └── foreign language\n",
      "│       ├── religious\n",
      "│       │   └── self esteem\n",
      "│       ├── social isolation\n",
      "│       │   ├── antisocial personality\n",
      "│       │   │   └── antisocial\n",
      "│       │   └── stigma\n",
      "│       ├── social justice\n",
      "│       ├── socioeconomic status\n",
      "│       └── urban areas\n",
      "│           └── traffic accidents\n",
      "└── science bionic\n",
      "    ├── microbial\n",
      "    │   ├── antibiotic\n",
      "    │   │   └── bacterial infection\n",
      "    │   └── biological tissue\n",
      "    │       └── biotechnologies\n",
      "    └── prostheses\n",
      "        └── epoxy\n",
      "            └── biomedical implant\n",
      "\n"
     ]
    }
   ],
   "source": [
    "## Build the topic tree and tag the documents\n",
    "#### Hierarchical topic tree\n",
    "\n",
    "#The `.fit_tag_tree()` method populates the `.tree` attribute with a [treelib](https://treelib.readthedocs.io/en/latest/) object representing the extracted term tree. This can be manipulated and explored with all the treelib methods, for example `.show()` to print out a text representation of the tree.\n",
    "\n",
    "# Fit the tree\n",
    "hierarchical_tagger.fit_tag_tree( term_similarity_threshold = 0.9,)\n",
    "hierarchical_tagger.tree.show()"
   ]
  },
  {
   "cell_type": "code",
   "execution_count": 109,
   "id": "eb122091",
   "metadata": {},
   "outputs": [],
   "source": []
  },
  {
   "cell_type": "code",
   "execution_count": 638,
   "id": "b5827ed7",
   "metadata": {},
   "outputs": [
    {
     "name": "stdout",
     "output_type": "stream",
     "text": [
      "materials phenomenon\n",
      "├── aerosols atmospheric\n",
      "│   ├── aeronautical aerospace\n",
      "│   │   ├── rocket motors\n",
      "│   │   │   └── unmanned airborne\n",
      "│   │   └── ultrasonic\n",
      "│   ├── hemispheric\n",
      "│   ├── satellite data\n",
      "│   └── stratospheric clouds\n",
      "├── cement\n",
      "│   ├── masonry unit\n",
      "│   └── porous ceramics\n",
      "│       └── clay mineralogy\n",
      "├── cocaine marijuana\n",
      "│   ├── cancer\n",
      "│   └── nicotine\n",
      "├── energy source\n",
      "│   ├── carbon fuel\n",
      "│   │   ├── biogas biomass\n",
      "│   │   ├── flame retardant\n",
      "│   │   ├── lightweight efficiency\n",
      "│   │   └── pollution environmental\n",
      "│   │       └── industrial wastewaters\n",
      "│   ├── lithium batteries\n",
      "│   │   ├── hydrogen\n",
      "│   │   │   └── oxygen reduction\n",
      "│   │   ├── ions solid\n",
      "│   │   │   └── alkali ions\n",
      "│   │   ├── mesoporous silica\n",
      "│   │   │   ├── mg2si important\n",
      "│   │   │   └── sio2 common\n",
      "│   │   ├── nitrate ammonium\n",
      "│   │   └── organic molecular\n",
      "│   │       ├── antimicrobial\n",
      "│   │       ├── liquids\n",
      "│   │       │   ├── hydrocarbon compositions\n",
      "│   │       │   │   └── hydrogels\n",
      "│   │       │   └── microfluid\n",
      "│   │       │       ├── conductive inks\n",
      "│   │       │       └── stabilization emulsions\n",
      "│   │       ├── phthalocyanine\n",
      "│   │       │   └── doped fluoride\n",
      "│   │       │       └── hexafluoride\n",
      "│   │       ├── plasmonic\n",
      "│   │       ├── polyacrylamides\n",
      "│   │       └── spectrometry\n",
      "│   └── thermal condition\n",
      "│       ├── cryogenic insulation\n",
      "│       │   └── membrane based\n",
      "│       │       └── indoor environ\n",
      "│       └── river hydrological\n",
      "│           ├── carbon pools\n",
      "│           │   └── carbon sink\n",
      "│           ├── geothermal energy\n",
      "│           │   └── pyrolysis technique\n",
      "│           │       └── pyrochlore\n",
      "│           ├── hydropower\n",
      "│           ├── permeability properties\n",
      "│           │   └── molecular dynamics\n",
      "│           ├── thermoelastic\n",
      "│           └── vapor deposition\n",
      "│               ├── evapotranspiration\n",
      "│               └── moisture content\n",
      "├── erosion corrosion\n",
      "│   ├── coastal sediments\n",
      "│   │   ├── mineral resources\n",
      "│   │   │   └── construction industry\n",
      "│   │   ├── seabed contributes\n",
      "│   │   └── slurry\n",
      "│   │       ├── droplet collision\n",
      "│   │       └── tailings\n",
      "│   ├── impact penetration\n",
      "│   ├── issue deterioration\n",
      "│   ├── railway vehicles\n",
      "│   ├── reliability solid\n",
      "│   │   ├── durability metals\n",
      "│   │   └── resilience\n",
      "│   ├── safety\n",
      "│   │   ├── accidents\n",
      "│   │   ├── protection systems\n",
      "│   │   └── stressful dangerous\n",
      "│   └── vibration\n",
      "├── forest ecosystems\n",
      "│   ├── agricultural activities\n",
      "│   │   ├── food important\n",
      "│   │   │   ├── agri food\n",
      "│   │   │   └── lime typical\n",
      "│   │   └── soil\n",
      "│   │       ├── dynamics grasslands\n",
      "│   │       ├── manure\n",
      "│   │       └── rice\n",
      "│   ├── arid regions\n",
      "│   │   ├── extreme drought\n",
      "│   │   │   └── arctic tundra\n",
      "│   │   │       └── climatological environmental\n",
      "│   │   └── geographical research\n",
      "│   │       └── karst landscapes\n",
      "│   ├── genus eucalyptus\n",
      "│   ├── lichens\n",
      "│   ├── modified organisms\n",
      "│   │   ├── evolution\n",
      "│   │   │   ├── epitaxial growth\n",
      "│   │   │   └── genetic\n",
      "│   │   └── pathogenic bacteria\n",
      "│   │       ├── airborne fungi\n",
      "│   │       └── biodegradability\n",
      "│   │           ├── science bionic\n",
      "│   │           │   ├── biotechnologies\n",
      "│   │           │   └── cellulose nanocrystals\n",
      "│   │           └── tissue engineered\n",
      "│   │               ├── biological tissue\n",
      "│   │               └── synthetic graft\n",
      "│   ├── phytoplankton\n",
      "│   └── protein\n",
      "│       └── performance cows\n",
      "│           └── swine\n",
      "├── graphene\n",
      "│   ├── boron\n",
      "│   │   └── germanium\n",
      "│   └── holograms\n",
      "├── nanomaterials\n",
      "│   ├── bonded joints\n",
      "│   │   └── adhesion\n",
      "│   ├── fibers glass\n",
      "│   │   └── fiber\n",
      "│   ├── fracture\n",
      "│   ├── polymers composites\n",
      "│   └── solidification\n",
      "│       └── granular materials\n",
      "├── perovskite based\n",
      "│   └── martensite\n",
      "│       └── minerals pozzolanic\n",
      "├── psychiatric disorders\n",
      "│   ├── addictive disorders\n",
      "│   ├── apnea\n",
      "│   ├── artificial bone\n",
      "│   │   ├── lumbar radices\n",
      "│   │   ├── mycorrhizal\n",
      "│   │   │   └── alexithymia\n",
      "│   │   ├── prostheses\n",
      "│   │   └── riparian\n",
      "│   ├── attention deficit\n",
      "│   ├── auditory hallucinations\n",
      "│   │   └── unresponsive wakefulness\n",
      "│   │       └── drowsiness\n",
      "│   ├── behavior\n",
      "│   │   ├── adolescents child\n",
      "│   │   │   ├── deprived neighborhoods\n",
      "│   │   │   │   ├── offenders\n",
      "│   │   │   │   ├── socioeconomic disadvantage\n",
      "│   │   │   │   │   └── justice fairness\n",
      "│   │   │   │   └── urban areas\n",
      "│   │   │   ├── migration\n",
      "│   │   │   │   ├── associated burnout\n",
      "│   │   │   │   │   ├── persistent neglect\n",
      "│   │   │   │   │   └── student attrition\n",
      "│   │   │   │   │       └── withdrawal\n",
      "│   │   │   │   └── population dynamics\n",
      "│   │   │   ├── parents\n",
      "│   │   │   │   ├── adoption\n",
      "│   │   │   │   └── intergenerational\n",
      "│   │   │   ├── sexual abuse\n",
      "│   │   │   └── skills children\n",
      "│   │   ├── athletes\n",
      "│   │   │   └── movement actors\n",
      "│   │   ├── cognitive psychology\n",
      "│   │   │   ├── aggression\n",
      "│   │   │   │   ├── antisocial behaviour\n",
      "│   │   │   │   ├── disgust\n",
      "│   │   │   │   ├── negative biases\n",
      "│   │   │   │   │   └── prejudice neglect\n",
      "│   │   │   │   └── stigma\n",
      "│   │   │   │       ├── depersonalization\n",
      "│   │   │   │       ├── self esteem\n",
      "│   │   │   │       └── social interaction\n",
      "│   │   │   │           └── isolation loneliness\n",
      "│   │   │   ├── consciousness focus\n",
      "│   │   │   │   ├── attention focused\n",
      "│   │   │   │   └── intentionality\n",
      "│   │   │   ├── contemporary social\n",
      "│   │   │   │   ├── cultural diversity\n",
      "│   │   │   │   │   ├── africa society\n",
      "│   │   │   │   │   │   └── south african\n",
      "│   │   │   │   │   ├── criminology\n",
      "│   │   │   │   │   ├── critique heterosexist\n",
      "│   │   │   │   │   ├── economics anthropology\n",
      "│   │   │   │   │   ├── ethical\n",
      "│   │   │   │   │   │   └── pragmatic language\n",
      "│   │   │   │   │   ├── indigenous\n",
      "│   │   │   │   │   ├── late modernity\n",
      "│   │   │   │   │   ├── philosophical\n",
      "│   │   │   │   │   │   ├── crisis humanities\n",
      "│   │   │   │   │   │   └── problems epistemology\n",
      "│   │   │   │   │   ├── racism ethnic\n",
      "│   │   │   │   │   ├── relevance decade\n",
      "│   │   │   │   │   │   └── metacognition\n",
      "│   │   │   │   │   └── social movement\n",
      "│   │   │   │   │       ├── civic participation\n",
      "│   │   │   │   │       │   └── collective action\n",
      "│   │   │   │   │       ├── controversial topic\n",
      "│   │   │   │   │       └── social conflict\n",
      "│   │   │   │   ├── leadership\n",
      "│   │   │   │   │   ├── discipline control\n",
      "│   │   │   │   │   │   └── knowledge management\n",
      "│   │   │   │   │   ├── identity\n",
      "│   │   │   │   │   │   └── privacy\n",
      "│   │   │   │   │   ├── organizational behavior\n",
      "│   │   │   │   │   └── teamwork\n",
      "│   │   │   │   │       └── partnership\n",
      "│   │   │   │   └── media attention\n",
      "│   │   │   ├── diagnosis semantic\n",
      "│   │   │   ├── emotion\n",
      "│   │   │   │   ├── motivation\n",
      "│   │   │   │   │   └── creativity\n",
      "│   │   │   │   └── years empathy\n",
      "│   │   │   ├── facial affect\n",
      "│   │   │   │   └── differences vividness\n",
      "│   │   │   └── psychotherapy\n",
      "│   │   ├── educators\n",
      "│   │   │   ├── american schools\n",
      "│   │   │   ├── curriculum diverse\n",
      "│   │   │   ├── development industry\n",
      "│   │   │   │   ├── career development\n",
      "│   │   │   │   │   └── development achieve\n",
      "│   │   │   │   ├── consumers\n",
      "│   │   │   │   │   └── unemployment main\n",
      "│   │   │   │   ├── entrepreneurial\n",
      "│   │   │   │   └── textile\n",
      "│   │   │   ├── health\n",
      "│   │   │   │   ├── dental restorations\n",
      "│   │   │   │   ├── healthcare systems\n",
      "│   │   │   │   └── outcomes studies\n",
      "│   │   │   ├── special educational\n",
      "│   │   │   ├── tertiary education\n",
      "│   │   │   │   ├── academic performance\n",
      "│   │   │   │   └── college life\n",
      "│   │   │   └── tourism\n",
      "│   │   ├── globalized world\n",
      "│   │   │   ├── communication technologies\n",
      "│   │   │   │   ├── information systems\n",
      "│   │   │   │   ├── ports\n",
      "│   │   │   │   └── social network\n",
      "│   │   │   ├── global crop\n",
      "│   │   │   ├── indonesia country\n",
      "│   │   │   ├── problems countries\n",
      "│   │   │   └── worldwide epidemic\n",
      "│   │   ├── language\n",
      "│   │   │   ├── acoustic\n",
      "│   │   │   └── literary\n",
      "│   │   ├── religious\n",
      "│   │   │   ├── muslim\n",
      "│   │   │   └── sagd\n",
      "│   │   └── women gender\n",
      "│   │       ├── marital\n",
      "│   │       │   └── infertile\n",
      "│   │       ├── masculinity\n",
      "│   │       ├── preterm infants\n",
      "│   │       │   └── androgenic steroid\n",
      "│   │       └── sexuality people\n",
      "│   │           └── sexual behavior\n",
      "│   ├── cardiovascular disease\n",
      "│   │   ├── people diabetes\n",
      "│   │   │   ├── immunodeficiency syndrome\n",
      "│   │   │   └── obesity\n",
      "│   │   └── vascular stents\n",
      "│   ├── chronic fatigue\n",
      "│   │   └── theories migraine\n",
      "│   ├── cortical\n",
      "│   │   ├── amygdalar dysfunction\n",
      "│   │   │   ├── cholinergic hypothesis\n",
      "│   │   │   └── serotonin\n",
      "│   │   ├── motor neurons\n",
      "│   │   └── nematic\n",
      "│   │       └── neuromorphic\n",
      "│   ├── dysphagia\n",
      "│   │   ├── dysmorphic disorder\n",
      "│   │   └── premenstrual syndrome\n",
      "│   ├── parkinson disease\n",
      "│   │   ├── antipsychotic\n",
      "│   │   │   └── epilepsy\n",
      "│   │   └── motor disorder\n",
      "│   ├── people alzheimer\n",
      "│   │   └── individuals disabilities\n",
      "│   └── trauma\n",
      "│       ├── recovery\n",
      "│       └── suicide\n",
      "│           └── grief\n",
      "├── separation processes\n",
      "│   ├── adsorption\n",
      "│   │   └── desalination\n",
      "│   │       └── deionization\n",
      "│   ├── assessment\n",
      "│   │   ├── measurement errors\n",
      "│   │   └── scientific knowledge\n",
      "│   │       └── theories represented\n",
      "│   ├── based heterostructures\n",
      "│   │   ├── heterogeneous\n",
      "│   │   │   └── heterojunction solar\n",
      "│   │   ├── mathematics\n",
      "│   │   └── terahertz\n",
      "│   │       └── tial intermetallic\n",
      "│   └── dissociative phenomena\n",
      "├── solar photovoltaic\n",
      "│   ├── electrochemical\n",
      "│   │   ├── flexible electronics\n",
      "│   │   │   ├── application spintronic\n",
      "│   │   │   ├── biomedical devices\n",
      "│   │   │   │   └── biomedical implant\n",
      "│   │   │   └── interconnects microelectronics\n",
      "│   │   └── hybrid electric\n",
      "│   └── photonic\n",
      "│       ├── conventional transparent\n",
      "│       │   └── glasses sundry\n",
      "│       ├── laser\n",
      "│       ├── optoelectronic technology\n",
      "│       │   └── materials plasma\n",
      "│       └── photocatalytic\n",
      "│           ├── luminescent\n",
      "│           └── photodetectors\n",
      "├── steel alloys\n",
      "│   ├── austenitic alloys\n",
      "│   ├── magnetic properties\n",
      "│   │   ├── dielectric capacitors\n",
      "│   │   │   └── superconductors\n",
      "│   │   ├── electron emitters\n",
      "│   │   └── piezoelectric\n",
      "│   ├── nuclear reactor\n",
      "│   │   └── migration radionuclides\n",
      "│   └── oxide semiconductor\n",
      "│       ├── chromium carbide\n",
      "│       │   └── silicon oxycarbide\n",
      "│       ├── niobium\n",
      "│       │   └── silicon nitride\n",
      "│       └── zinc sulfide\n",
      "│           ├── diamond\n",
      "│           ├── rare earth\n",
      "│           │   └── mercury\n",
      "│           │       └── nickel\n",
      "│           └── transition metal\n",
      "│               └── tribological\n",
      "└── tio2\n",
      "    ├── cell sofc\n",
      "    │   └── fef3\n",
      "    ├── covid\n",
      "    └── mosfets\n",
      "        └── eafd\n",
      "            └── ecap materials\n",
      "\n"
     ]
    }
   ],
   "source": [
    "# Fit the tree\n",
    "hierarchical_tagger.fit_tag_tree( term_similarity_threshold = 0.75)\n",
    "hierarchical_tagger.tree.show()"
   ]
  },
  {
   "cell_type": "code",
   "execution_count": 90,
   "id": "729a81c9",
   "metadata": {},
   "outputs": [],
   "source": [
    "d = hierarchical_tagger.tree.save2file(\"downloads/matsci_tree_75%sim.txt\")"
   ]
  },
  {
   "cell_type": "code",
   "execution_count": null,
   "id": "fff48a1d",
   "metadata": {},
   "outputs": [],
   "source": []
  },
  {
   "cell_type": "markdown",
   "id": "7c1ab211",
   "metadata": {},
   "source": [
    "#### Document tags\n",
    "\n",
    "Inspect the `document_tags` attribute: a dictionary mapping document `id` to a list of tuples of the form `(term, score, node_id)` sorted by descending score. `score` measures how close in meaning the term is to the document. We would expect higher level abstractions to have lower scores.\n",
    "`node_id` loosely indicates how high the node is in the tree: it's not a perfect measure, but more abstract terms will generally have higher `node_id`s."
   ]
  },
  {
   "cell_type": "code",
   "execution_count": 640,
   "id": "621b5723",
   "metadata": {},
   "outputs": [
    {
     "name": "stderr",
     "output_type": "stream",
     "text": [
      "/home/ec2-user/anaconda3/envs/pytorch_p36/lib/python3.6/site-packages/scipy/sparse/compressed.py:290: SparseEfficiencyWarning: Comparing a sparse matrix with a scalar greater than zero using <= is inefficient, try using > instead.\n",
      "  warn(bad_scalar_msg, SparseEfficiencyWarning)\n",
      "/home/ec2-user/anaconda3/envs/pytorch_p36/lib/python3.6/site-packages/scipy/sparse/_index.py:124: SparseEfficiencyWarning: Changing the sparsity structure of a csr_matrix is expensive. lil_matrix is more efficient.\n",
      "  self._set_arrayXarray(i, j, x)\n"
     ]
    }
   ],
   "source": [
    "# The final step is tagging the original documents based on the hierarchy we found in the tree\n",
    "hierarchical_tagger.tag_documents()"
   ]
  },
  {
   "cell_type": "code",
   "execution_count": 641,
   "id": "500dc07d",
   "metadata": {},
   "outputs": [
    {
     "data": {
      "text/plain": [
       "[('anode material', 0.7541727949296154, 1341),\n",
       " ('dielectric', 0.4198310119503508, 1414),\n",
       " ('lithium batteries', 0.31604276855880103, 1383),\n",
       " ('materials electronic', 0.2928718871608111, 1626),\n",
       " ('material lithium', 0.21131606755417073, 1602),\n",
       " ('materials', 0.15701548502867838, 1638)]"
      ]
     },
     "execution_count": 641,
     "metadata": {},
     "output_type": "execute_result"
    }
   ],
   "source": [
    "# The final step is tagging the original documents based on the hierarchy we found in the tree\n",
    "hierarchical_tagger.document_tags['10.1021/acsomega.0c00729']"
   ]
  },
  {
   "cell_type": "code",
   "execution_count": 103,
   "id": "db24f065",
   "metadata": {
    "collapsed": true,
    "jupyter": {
     "outputs_hidden": true
    }
   },
   "outputs": [
    {
     "data": {
      "text/plain": [
       "{'10.1117/12.2272727': ['perovskite based'],\n",
       " '10.1021/acsomega.0c00729': ['lithium batteries'],\n",
       " '10.1016/J.ENSM.2020.09.006': ['lithium batteries'],\n",
       " '10.1016/J.ELECTACTA.2018.10.188': ['lithium batteries'],\n",
       " '10.1038/s41598-019-38728-y': ['compound cathode', 'lithium batteries'],\n",
       " '10.1016/j.ensm.2020.06.037': ['lithium batteries'],\n",
       " '10.1021/acs.nanolett.7b01400': ['steel alloys', 'lithium batteries'],\n",
       " '10.1039/C0EE00831A': ['lithium batteries', 'energy source'],\n",
       " '10.1021/acsnano.7b08035': ['compound cathode',\n",
       "  'lithium batteries',\n",
       "  'energy source'],\n",
       " '10.1016/J.JECHEM.2021.03.035': ['compound cathode', 'lithium batteries'],\n",
       " '10.1016/j.jcis.2015.11.010': ['electrochemical', 'energy source'],\n",
       " '10.1016/J.NANOEN.2018.10.052': ['dielectric capacitors', 'energy source'],\n",
       " '10.1039/C8TA11151K': [],\n",
       " '10.1021/acs.accounts.9b00437': ['lithium batteries', 'graphene'],\n",
       " '10.3389/fenrg.2014.00043': ['lithium batteries'],\n",
       " '10.1039/C2TA00915C': ['lithium batteries'],\n",
       " '10.1002/adfm.201901907': ['lithium batteries'],\n",
       " '10.1016/J.ELECTACTA.2016.06.114': ['compound cathode',\n",
       "  'electrochemical',\n",
       "  'lithium batteries'],\n",
       " '10.1021/acsami.5b11556': ['electrochemical', 'lithium batteries'],\n",
       " '10.1039/d0ra02060e': ['compound cathode',\n",
       "  'oxide semiconductor',\n",
       "  'lithium batteries'],\n",
       " '10.1149/1.2943215': ['lithium batteries'],\n",
       " '10.1016/J.ELECTACTA.2017.03.133': ['compound cathode'],\n",
       " '10.1002/aenm.201802423': ['lithium batteries'],\n",
       " '10.4028/WWW.SCIENTIFIC.NET/MSF.959.74': ['lithium batteries',\n",
       "  'energy source'],\n",
       " '10.1021/acsami.9b02813': ['steel alloys', 'lithium batteries'],\n",
       " '10.32474/AOICS.2020.04.000193': ['lithium batteries'],\n",
       " '10.1021/ACSENERGYLETT.9B00816': ['electrochemical', 'lithium batteries'],\n",
       " '10.1016/J.JOULE.2017.12.001': ['lithium batteries'],\n",
       " '10.1016/J.JPOWSOUR.2020.228931': ['electrochemical', 'lithium batteries'],\n",
       " '10.1021/acsami.0c10459': ['compound cathode', 'rich manganese'],\n",
       " '10.1039/c8cp01681j': ['electrochemical', 'lithium batteries'],\n",
       " '10.1016/j.jallcom.2020.157626': ['lithium batteries'],\n",
       " '10.1002/adsu.201700182': ['lithium batteries', 'energy source'],\n",
       " '10.1016/J.JPOWSOUR.2018.05.096': ['lithium batteries', 'energy source'],\n",
       " '10.1002/CELC.201402331': ['electrochemical',\n",
       "  'steel alloys',\n",
       "  'lithium batteries'],\n",
       " '10.1021/acs.iecr.0c00847': ['lithium batteries'],\n",
       " '10.1002/er.6708': ['lithium batteries', 'energy source'],\n",
       " '10.1149/ma2021-0114mtgabs': ['lithium batteries', 'energy source'],\n",
       " '10.1016/S0021-9924(97)00085-3': ['psychiatric disorders'],\n",
       " '10.1007/978-3-319-11340-1_5': ['nanomaterials'],\n",
       " '10.1016/J.APSUSC.2011.07.051': ['nanomaterials'],\n",
       " '10.1039/c6nr08807d': ['nanomaterials'],\n",
       " '10.1016/J.CARBON.2004.12.004': ['nanomaterials',\n",
       "  'oxide semiconductor',\n",
       "  'multiwall carbon'],\n",
       " '10.1007/S12274-009-9006-Y': ['nanomaterials'],\n",
       " '10.1088/1757-899X/430/1/012004': ['nanomaterials', 'materials phenomenon'],\n",
       " '10.1007/S00466-008-0326-7': ['nanomaterials', 'polymers composites'],\n",
       " '10.1109/IVNC.2006.335212': ['nanomaterials'],\n",
       " '10.1002/anie.200804967': ['nanomaterials'],\n",
       " '10.1002/adma.201806132': ['nanomaterials'],\n",
       " '10.1063/1.4940418': ['nanomaterials', 'steel alloys', 'electron emitters'],\n",
       " '10.1049/CP.2009.1247': ['nanomaterials'],\n",
       " '10.1002/9783527610419.NTLS0053': ['nanomaterials'],\n",
       " '10.1063/1.4958850': ['nanomaterials', 'energy source'],\n",
       " '10.1016/j.rinp.2020.103246': ['nanomaterials', 'thermal condition'],\n",
       " '10.25903/5D479A9E35AD7': ['nanomaterials', 'carbon fuel'],\n",
       " '10.1166/sl.2020.4237': ['nanomaterials', 'multiwall carbon'],\n",
       " '10.15866/IREMOS.V9I2.6214': ['nanomaterials'],\n",
       " '10.1002/aelm.201800811': ['nanomaterials'],\n",
       " '10.1016/J.IJMECSCI.2018.07.032': ['nanomaterials'],\n",
       " '10.1021/ACS.LANGMUIR.6B02023': ['nanomaterials'],\n",
       " '10.1016/j.carbon.2019.11.068': ['nanomaterials'],\n",
       " '10.4028/www.scientific.net/AMR.236-238.1738': ['nanomaterials'],\n",
       " '10.1039/b9nr00104b': ['nanomaterials'],\n",
       " '10.1002/cssc.201000002': ['nanomaterials', 'carbon fuel'],\n",
       " '10.1109/NANO.2012.6322102': ['nanomaterials'],\n",
       " '10.1002/adfm.201000994': ['nanomaterials'],\n",
       " '10.1088/1361-6528/aa5d7d': ['nanomaterials', 'applications photothermal'],\n",
       " '10.1088/1742-6596/439/1/012008': ['nanomaterials'],\n",
       " '10.1016/J.PMATSCI.2005.04.003': ['nanomaterials'],\n",
       " '10.1109/GREENTECH.2016.15': ['hydropower', 'energy source'],\n",
       " '10.1016/J.MATPR.2021.03.670': ['energy source'],\n",
       " '10.1016/J.APENERGY.2019.04.136': ['energy source'],\n",
       " '10.20508/ijrer.v7i4.6243.g7213': ['carbon fuel', 'energy source'],\n",
       " '10.5075/EPFL-THESIS-9376': ['agricultural activities', 'energy source'],\n",
       " '10.1039/d0se00784f': ['biogas biomass', 'carbon fuel', 'energy source'],\n",
       " '10.31031/RDMS.2019.09.000722': ['carbon fuel',\n",
       "  'solar photovoltaic',\n",
       "  'energy source'],\n",
       " '10.4028/www.scientific.net/MSF.928.123': ['solar photovoltaic',\n",
       "  'energy source'],\n",
       " '10.1007/978-981-13-1202-1_6': ['energy source'],\n",
       " '10.1039/C5GC02109J': ['carbon fuel', 'energy source'],\n",
       " '10.1149/ma2010-02/25/1621': ['solar photovoltaic'],\n",
       " '10.1016/J.JECE.2018.102830': ['carbon fuel', 'energy source'],\n",
       " '10.1016/J.ENSM.2017.09.010': ['energy source'],\n",
       " '10.1088/1755-1315/105/1/012129': ['carbon fuel', 'energy source'],\n",
       " '10.1016/J.RSER.2013.05.027': ['energy crisis', 'energy source'],\n",
       " '10.12783/DTEM/ICSSED2018/20305': ['solar photovoltaic', 'energy source'],\n",
       " '10.1016/J.RSER.2018.11.040': ['biogas biomass', 'agricultural activities'],\n",
       " '10.1016/J.JCLEPRO.2017.04.024': ['biogas biomass', 'energy source'],\n",
       " '10.1109/PEOCO.2014.6814488': ['carbon fuel', 'energy source'],\n",
       " '10.1016/J.SOLENER.2013.02.034': ['solar photovoltaic',\n",
       "  'thermal condition',\n",
       "  'energy source'],\n",
       " '10.1109/ICSPACE.2017.8343447': ['energy crisis', 'energy source'],\n",
       " '10.1016/J.IJHYDENE.2013.04.136': ['hydrogen', 'pollution environmental'],\n",
       " '10.1038/s41467-017-02547-4': ['photocatalytic',\n",
       "  'conversion photosynthesis',\n",
       "  'carbon fuel',\n",
       "  'solar photovoltaic'],\n",
       " '10.1016/J.APCATB.2018.11.033': ['photocatalytic', 'solar photovoltaic'],\n",
       " '10.1016/J.APSUSC.2021.149809': ['photocatalytic'],\n",
       " '10.1039/c7nr08943k': ['photocatalytic', 'hydrogen', 'nanomaterials'],\n",
       " '10.1016/J.MCAT.2017.03.027': ['photocatalytic'],\n",
       " '10.1039/C8CY01395K': ['photocatalytic', 'hydrogen', 'energy source'],\n",
       " '10.1016/j.ijhydene.2019.10.081': ['photocatalytic', 'hydrogen'],\n",
       " '10.1016/j.cplett.2020.137715': ['nanomaterials', 'photocatalytic'],\n",
       " '10.1111/jace.17107': ['photocatalytic', 'solar photovoltaic'],\n",
       " '10.1039/c3cp53774a': ['photocatalytic', 'hydrogen'],\n",
       " '10.1021/acsaem.0c00273': ['photocatalytic'],\n",
       " '10.1039/C3TA13793G': ['photocatalytic'],\n",
       " '10.1016/S1872-2067(18)63044-X': ['photocatalytic'],\n",
       " '10.21203/RS.3.RS-418046/V1': ['photocatalytic', 'industrial wastewaters'],\n",
       " '10.1039/c7dt02929b': ['photocatalytic', 'hydrogen'],\n",
       " '10.1021/am4046537': ['photocatalytic', 'tio2'],\n",
       " '10.9767/BCREC.11.1.414.40-46': ['tio2', 'steel alloys'],\n",
       " '10.1016/J.APCATB.2017.09.010': ['photocatalytic', 'rainfall runoff'],\n",
       " '10.1021/nl404575e': ['photocatalytic', 'solar photovoltaic'],\n",
       " '10.2174/2665976x01999200617112504': ['photocatalytic'],\n",
       " '10.1039/C7TA09374H': ['photocatalytic', 'tio2'],\n",
       " '10.1007/978-3-030-24032-5_3': ['photocatalytic', 'carbon fuel'],\n",
       " '10.1016/J.SPMI.2012.05.009': ['photocatalytic',\n",
       "  'oxide semiconductor',\n",
       "  'mesoporous silica'],\n",
       " '10.1016/j.solener.2020.11.030': ['photocatalytic'],\n",
       " '10.1007/978-3-642-21566-7_32': ['pollution environmental'],\n",
       " '10.1016/j.scs.2019.101941': ['urban areas', 'pollution environmental'],\n",
       " '10.1109/ISCIT.2018.8587978': ['pollution environmental'],\n",
       " '10.21324/dacd.686052': ['pollution environmental'],\n",
       " '10.1016/J.APR.2018.08.002': ['urban areas', 'health'],\n",
       " '10.1016/0013-9327(78)90018-6': ['pollution environmental'],\n",
       " '10.1016/B978-0-08-100137-0.00001-8': ['polymers composites'],\n",
       " '10.2351/7.0004037': ['energy source',\n",
       "  'lightweight efficiency',\n",
       "  'polymers composites'],\n",
       " '10.1016/J.COMPOSITESB.2017.01.035': ['polymers composites'],\n",
       " '10.1115/1.4047027': ['polymers composites'],\n",
       " '10.1115/IMECE2018-87132': ['aeronautical aerospace', 'polymers composites'],\n",
       " '10.1186/s13750-016-0053-z': ['soil', 'carbon fuel'],\n",
       " '10.1111/sum.12039': ['soil', 'carbon fuel', 'agricultural activities'],\n",
       " '10.1016/J.SOILBIO.2015.09.005': ['soil', 'carbon fuel'],\n",
       " '10.1016/J.GEODERMA.2008.06.015': ['soil',\n",
       "  'forest ecosystems',\n",
       "  'carbon fuel'],\n",
       " '10.1007/s11119-015-9419-4': ['soil', 'carbon fuel'],\n",
       " '10.1080/00103620903326024': ['soil',\n",
       "  'carbon fuel',\n",
       "  'agricultural activities'],\n",
       " '10.1016/J.ORGGEOCHEM.2009.04.017': ['soil',\n",
       "  'forest ecosystems',\n",
       "  'carbon fuel'],\n",
       " '10.1016/S0924-9338(09)70245-7': ['adhd'],\n",
       " '10.1007/978-981-13-7071-7_59': ['thermal condition'],\n",
       " '10.1016/J.CEMCONCOMP.2018.09.019': ['thermal condition'],\n",
       " '10.1016/J.JARIDENV.2006.03.020': ['educators', 'thermal condition'],\n",
       " '10.1007/978-3-540-88546-7_78': ['pollution environmental',\n",
       "  'thermal condition'],\n",
       " '10.11175/EASTPRO.2011.0.148.0': ['pollution environmental',\n",
       "  'thermal condition'],\n",
       " '10.1016/J.JPOWSOUR.2017.11.077': ['supercapacitors'],\n",
       " '10.1039/d0qi00614a': ['hydrogen', 'electrochemical'],\n",
       " '10.1149/1.3553362': ['solar photovoltaic'],\n",
       " '10.31031/RDMS.2017.01.000520': ['solar photovoltaic'],\n",
       " '10.1109/PVSC.2010.5614676': ['solar photovoltaic', 'energy source'],\n",
       " '10.1007/978-3-662-59594-7_5': ['oxide semiconductor',\n",
       "  'solar photovoltaic',\n",
       "  'energy source'],\n",
       " '10.1021/CM1021855': ['solar photovoltaic'],\n",
       " '10.1109/E3S.2017.8246189': ['steel alloys'],\n",
       " '10.1021/ACS.JPCC.8B12055': ['graphene'],\n",
       " '10.1001/ARCHNEUR.61.2.252': ['people alzheimer', 'cognitive psychology'],\n",
       " '10.1016/j.neulet.2007.02.076': ['psychiatric disorders',\n",
       "  'cognitive psychology'],\n",
       " '10.2174/157340011797183210': ['psychiatric disorders',\n",
       "  'cognitive psychology'],\n",
       " '10.1007/s00406-007-0748-9': ['psychiatric disorders',\n",
       "  'psychotherapy',\n",
       "  'cognitive psychology'],\n",
       " '10.1080/09602010902732892': ['psychiatric disorders',\n",
       "  'cognitive psychology'],\n",
       " '10.3389/fncel.2013.00031': ['psychiatric disorders', 'adolescents child'],\n",
       " '10.1080/15226514.2019.1707772': ['heavy metal',\n",
       "  'pollution environmental',\n",
       "  'industrial effluents'],\n",
       " '10.3126/IJE.V5I2.15008': ['industrial effluents',\n",
       "  'pollution environmental',\n",
       "  'industrial wastewaters'],\n",
       " '10.1016/B978-0-12-818258-1.00012-1': ['heavy metal',\n",
       "  'pollution environmental'],\n",
       " '10.21203/rs.3.rs-93294/v1': ['heavy metal', 'pollution environmental'],\n",
       " '10.1038/AM.2017.77': ['thermal condition', 'thermoelastic'],\n",
       " '10.1016/j.physb.2019.411735': ['thermoelastic'],\n",
       " '10.1016/J.NANOEN.2019.02.015': ['thermoelastic'],\n",
       " '10.1002/aenm.201600498': ['thermoelastic'],\n",
       " '10.1016/j.pnpbp.2014.06.013': [],\n",
       " '10.5772/24935': ['psychiatric disorders'],\n",
       " '10.1002/da.20518': [],\n",
       " '10.1515/ijamh-2013-0063': [],\n",
       " '10.1016/j.conbuildmat.2020.121371': ['construction industry', 'cement'],\n",
       " '10.1080/21650373.2018.1564398': ['construction industry', 'cement'],\n",
       " '10.20944/PREPRINTS202107.0539.V1': ['urban areas', 'cement'],\n",
       " '10.1016/J.MATPR.2020.09.762': ['cement'],\n",
       " '10.2991/ICMMBE-16.2016.20': ['materials phenomenon', 'cement'],\n",
       " '10.31002/METATHESIS.V5I1.3336': ['covid', 'health'],\n",
       " '10.21203/rs.3.rs-616163/v1': ['steel alloys', 'erosion corrosion'],\n",
       " '10.3390/molecules23051079': ['durability metals',\n",
       "  'steel alloys',\n",
       "  'erosion corrosion'],\n",
       " '10.4995/VITRUVIO-IJATS.2016.5191': ['durability metals',\n",
       "  'erosion corrosion'],\n",
       " '10.1007/s11998-017-0015-6': ['steel alloys', 'erosion corrosion'],\n",
       " '10.1007/S12205-014-0362-0': ['steel alloys', 'erosion corrosion'],\n",
       " '10.1016/J.PROSTR.2016.06.157': ['materials phenomenon',\n",
       "  'lightweight efficiency'],\n",
       " '10.1016/J.CERAMINT.2021.01.188': ['oxide semiconductor',\n",
       "  'silicon oxycarbide'],\n",
       " '10.4028/www.scientific.net/MSF.717-720.865': ['silicon oxycarbide',\n",
       "  'chromium carbide'],\n",
       " '10.1007/978-94-010-0944-7_22': ['oxide semiconductor',\n",
       "  'silicon oxycarbide',\n",
       "  'silicon'],\n",
       " '10.1016/J.FMRE.2020.11.004': ['silicon oxycarbide', 'chromium carbide'],\n",
       " '10.1016/j.jns.2009.07.026': ['nonmotor symptoms', 'parkinson disease'],\n",
       " '10.1016/j.parkreldis.2016.05.014': ['parkinson disease', 'motor disorder'],\n",
       " '10.1093/arclin/acz034.108': ['psychiatric disorders', 'parkinson disease'],\n",
       " '10.1037/neu0000353': ['nonmotor symptoms',\n",
       "  'parkinson disease',\n",
       "  'motor disorder'],\n",
       " '10.1155/2015/296486': ['hydrogen'],\n",
       " '10.1039/c7nr09081a': ['organic molecular', 'frameworks mofs'],\n",
       " '10.1038/s41598-017-05306-z': ['carbon pools', 'forest ecosystems'],\n",
       " '10.1016/J.RSE.2014.11.016': ['carbon fuel',\n",
       "  'forest ecosystems',\n",
       "  'carbon sink'],\n",
       " '10.1016/J.ACTAO.2016.06.007': ['carbon fuel', 'forest ecosystems'],\n",
       " '10.1007/s10584-019-02377-x': ['forest ecosystems'],\n",
       " '10.5539/JSD.V6N8P93': [],\n",
       " '10.1016/BS.COAC.2018.02.001': [],\n",
       " '10.3126/jncs.v41i1.30494': ['mineral resources'],\n",
       " '10.1038/mp.2008.125': ['psychiatric disorders'],\n",
       " '10.1177/0269881108093270': ['psychiatric disorders'],\n",
       " '10.1016/j.jad.2014.06.048': ['psychiatric disorders'],\n",
       " '10.2174/1570159X14666160309114549': ['psychiatric disorders'],\n",
       " '10.1007/1-4020-4972-2_500': ['steel alloys', 'cement'],\n",
       " '10.1007/978-981-15-0532-4_32': [],\n",
       " '10.1016/J.SEPPUR.2017.06.076': ['polymers composites'],\n",
       " '10.3775/JIE.51.284': ['polymers composites'],\n",
       " '10.1007/978-94-017-9609-5_4': ['forest ecosystems', 'river hydrological'],\n",
       " '10.1016/J.IJHYDENE.2021.07.038': ['fuel cell', 'pemfcs'],\n",
       " '10.1016/j.jpsychires.2016.05.009': ['psychiatric disorders'],\n",
       " '10.1089/neu.2014.3506': ['traumatic brain', 'cognitive psychology'],\n",
       " '10.1111/J.1467-9353.2007.00340.X': ['biogas biomass', 'lihd biomass'],\n",
       " '10.1117/12.916944': ['nanomaterials', 'magnetic properties'],\n",
       " '10.1002/sia.4929': ['nanomaterials'],\n",
       " '10.1007/978-1-4939-6840-4_5': ['nanomaterials', 'magnetic properties'],\n",
       " '10.1109/NAWDMPV.2014.6997600': ['oxide semiconductor', 'zinc sulfide'],\n",
       " '10.1016/J.MSSP.2018.03.028': ['oxide semiconductor', 'zinc sulfide'],\n",
       " '10.4172/2169-0022.1000442': ['oxide semiconductor', 'zinc sulfide'],\n",
       " '10.4028/www.scientific.net/MSF.636-637.411': ['optoelectronic technology',\n",
       "  'zinc sulfide'],\n",
       " '10.1039/C6TA06757C': ['fuel cell',\n",
       "  'electrochemical',\n",
       "  'carbon fuel',\n",
       "  'cell sofc'],\n",
       " '10.1080/13575279.2013.785935': [],\n",
       " '10.1016/J.AGWAT.2010.07.016': ['agricultural activities'],\n",
       " '10.1016/j.eurpsy.2016.01.336': ['psychiatric disorders', 'higher mortality'],\n",
       " '10.5172/conu.2012.40.2.245': ['health'],\n",
       " '10.22237/MIJOC/1385856120': ['psychiatric disorders'],\n",
       " '10.1007/978-981-10-7290-1_92': ['pollution environmental',\n",
       "  'coastal sediments'],\n",
       " '10.1016/j.jconrel.2014.03.052': ['hydrogels', 'biogas biomass'],\n",
       " '10.1016/J.PROGPOLYMSCI.2013.06.004': ['hydrogels', 'materials phenomenon'],\n",
       " '10.1016/J.EURPOLYMJ.2015.07.044': ['hydrogels'],\n",
       " '10.1016/J.EST.2021.102403': ['energy source', 'thermal condition'],\n",
       " '10.1007/S42380-019-00008-8': ['emotion'],\n",
       " '10.1016/J.AVB.2018.06.008': [],\n",
       " '10.1007/978-1-4899-0542-0_5': ['addictive disorders'],\n",
       " '10.1371/journal.pone.0127359': ['suicide', 'adolescents child'],\n",
       " '10.1007/s40808-020-00986-5': ['erosion corrosion',\n",
       "  'coastal sediments',\n",
       "  'river hydrological'],\n",
       " '10.1038/srep36550': ['forest ecosystems',\n",
       "  'coastal sediments',\n",
       "  'river hydrological'],\n",
       " '10.3390/ijerph14020130': ['coastal sediments',\n",
       "  'river hydrological',\n",
       "  'thermal condition'],\n",
       " '10.2134/JEQ2005.0402': ['rainfall runoff'],\n",
       " '10.1039/b9nr00105k': ['nanomaterials'],\n",
       " '10.1080/10298436.2020.1745206': ['cement'],\n",
       " '10.1088/1748-9326/ab5de8': ['wildfire'],\n",
       " '10.5194/egusphere-egu2020-3632': ['wildfire', 'forest ecosystems'],\n",
       " '10.1016/J.JHYDROL.2016.02.025': ['wildfire',\n",
       "  'forest ecosystems',\n",
       "  'rainfall runoff'],\n",
       " '10.7480/ABE.2018.14.3549': ['pollution environmental',\n",
       "  'thermal condition',\n",
       "  'energy source'],\n",
       " '10.1533/978-1-78242-164-1.419': [],\n",
       " '10.3390/PR6090140': [],\n",
       " '10.1007/S12289-014-1184-9': ['carbon fiber', 'polymers composites'],\n",
       " '10.1186/s12888-017-1348-5': ['legal problems', 'disorders alcohol'],\n",
       " '10.1037/adb0000459': ['emotion', 'disorders alcohol'],\n",
       " '10.1056/PA201302130000004': ['contemporary social'],\n",
       " '10.1016/J.NANOEN.2018.11.024': ['piezoelectric'],\n",
       " '10.1021/BK-2007-0966.CH004': ['organic molecular'],\n",
       " '10.35410/IJAEB.2019.4402': ['organic molecular'],\n",
       " '10.1080/02772248.2014.942309': ['organic molecular', 'production residues'],\n",
       " '10.1155/2020/8820338': ['urban areas', 'thermal condition'],\n",
       " '10.1007/978-94-024-2018-0_35': ['steel alloys'],\n",
       " '10.1111/JACE.16662': ['superconductors'],\n",
       " '10.1126/SCIENCE.273.5277.882': ['superconductors', 'thermal condition'],\n",
       " '10.1109/TASC.2009.2017713': ['superconductors'],\n",
       " '10.1038/ncomms1916': ['nanomaterials', 'quantum dots'],\n",
       " '10.1080/16742834.2016.1230002': ['niobium', 'soil'],\n",
       " '10.1016/0167-8809(95)00611-U': ['niobium', 'carbon fuel', 'rainfall runoff'],\n",
       " '10.1007/s10705-010-9408-y': ['niobium', 'carbon fuel', 'forest ecosystems'],\n",
       " '10.1016/J.COCIS.2017.01.004': ['cellulose nanocrystals'],\n",
       " '10.1080/17597269.2018.1464875': ['pollution environmental', 'carbon fuel'],\n",
       " '10.1115/IMECE2020-23855': ['biogas biomass',\n",
       "  'pollution environmental',\n",
       "  'carbon fuel'],\n",
       " '10.1109/PERVASIVE.2015.7087196': ['pollution environmental',\n",
       "  'biogas biomass'],\n",
       " '10.1088/0022-3727/35/1/313': ['ferromagnetic'],\n",
       " '10.1557/S0883769400035879': ['ferromagnetic'],\n",
       " '10.1016/0022-3093(91)90753-S': ['materials phenomenon', 'ferromagnetic'],\n",
       " '10.1002/ese3.831': ['tio2', 'solar photovoltaic'],\n",
       " '10.1002/pssa.201600460': ['silicon nitride'],\n",
       " '10.14279/DEPOSITONCE-2031': ['steel alloys', 'optoelectronic technology'],\n",
       " '10.1063/1.4732500': ['chromium carbide'],\n",
       " '10.1016/J.JECE.2021.106202': ['aerosols atmospheric', 'carbon fuel'],\n",
       " '10.1016/J.POLYMER.2021.123814': ['carbon fuel', 'polymers composites'],\n",
       " '10.15295/v6i3.361': [],\n",
       " '10.18592/JSI.V5I1.1356': ['issue industrial', 'management'],\n",
       " '10.1039/C6RA09389B': ['solar photovoltaic'],\n",
       " '10.1002/CELC.201700819': ['oxide semiconductor', 'optical applications'],\n",
       " '10.1029/2020WR029469': ['nitrogen anthropogenic', 'rainfall runoff'],\n",
       " '10.1007/978-1-4615-4659-7_29': ['nitrogen anthropogenic',\n",
       "  'rainfall runoff',\n",
       "  'thermal condition'],\n",
       " '10.1021/acs.chemmater.9b04907': ['separation processes',\n",
       "  'distillation',\n",
       "  'membrane based'],\n",
       " '10.5360/MEMBRANE.31.161': ['membrane based'],\n",
       " '10.1007/978-3-030-19847-3_13': ['psychiatric disorders', 'stigma'],\n",
       " '10.7907/RRYM-VK03.': ['solar photovoltaic', 'energy source'],\n",
       " '10.2322/JJSASS1969.46.695': ['thermal condition'],\n",
       " '10.1065/LCA2005.05.210': ['industrial wastewaters'],\n",
       " '10.1016/J.ATMOSENV.2019.05.003': ['mercury', 'pollution environmental'],\n",
       " '10.1080/01431161.2014.919677': ['climatological environmental',\n",
       "  'soil',\n",
       "  'river hydrological',\n",
       "  'moisture content'],\n",
       " '10.1007/s10854-020-03507-3': ['thermal condition'],\n",
       " '10.1029/2017WR022024': [],\n",
       " '10.1007/978-3-030-32816-0_88': ['agricultural activities'],\n",
       " '10.1016/B978-1-78548-269-4.50008-1': ['pollution environmental'],\n",
       " '10.1007/s00429-012-0379-4': ['psychiatric disorders'],\n",
       " '10.1016/0005-7967(83)90049-9': ['individuals disabilities'],\n",
       " '10.2991/iciap-18.2019.62': ['cognitive psychology'],\n",
       " '10.15244/PJOES/84919': ['biogas biomass', 'microalgae'],\n",
       " '10.1007/S12666-010-0036-7': ['superalloys', 'thermal condition'],\n",
       " '10.1111/J.1467-9817.2013.01555.X': ['attention deficit', 'adhd'],\n",
       " '10.1523/JNEUROSCI.3907-13.2014': ['individuals disabilities'],\n",
       " '10.1016/J.ENSM.2021.06.006': ['lithium batteries'],\n",
       " '10.1002/adem.201800471': ['flexible electronics',\n",
       "  'flexible',\n",
       "  'wearable devices',\n",
       "  'biomedical devices'],\n",
       " '10.1016/j.ensm.2020.05.025': ['flexible electronics',\n",
       "  'flexible',\n",
       "  'energy source'],\n",
       " '10.1002/ep.12609': ['fuel cell',\n",
       "  'industrial wastewaters',\n",
       "  'pathogenic bacteria'],\n",
       " '10.1002/PITS.20146': ['adolescents child', 'obesity', 'health youth'],\n",
       " '10.1016/S0257-8972(99)00446-6': ['diamond'],\n",
       " '10.1016/j.agwat.2020.106629': ['global crop',\n",
       "  'irrigation',\n",
       "  'agricultural activities'],\n",
       " '10.1016/0022-3115(62)90006-5': ['nuclear reactor', 'erosion corrosion'],\n",
       " '10.1016/J.NUCENGDES.2009.06.008': ['nuclear reactor'],\n",
       " '10.1109/ICECENG.2011.6058219': ['biogas biomass'],\n",
       " '10.1109/ICEP.2016.7486783': ['leds'],\n",
       " '10.1063/1.4980427': ['leds'],\n",
       " '10.1093/MTP/28.2.124': ['addictive disorders'],\n",
       " '10.2478/nsad-2013-0004': ['addictive disorders'],\n",
       " '10.1016/J.ULTRAMIC.2007.05.002': ['superhydrophobic'],\n",
       " '10.1890/150063': ['arctic tundra', 'thermal condition'],\n",
       " '10.3390/s18072257': ['arctic tundra', 'thermal condition'],\n",
       " '10.1007/s40194-019-00824-y': ['entropy alloys', 'steel alloys'],\n",
       " '10.1002/er.5434': ['porous ceramics', 'carbon fuel'],\n",
       " '10.2139/ssrn.3488199': [],\n",
       " '10.1007/978-94-010-0724-5_19': ['steel alloys'],\n",
       " '10.1016/J.SOLMAT.2008.05.011': ['heterojunction solar',\n",
       "  'solar photovoltaic',\n",
       "  'wafers solar'],\n",
       " '10.5433/1679-0359.2018V39N4P1459': ['arid regions', 'salinity'],\n",
       " '10.1016/j.hal.2020.101828': ['proliferation cyanobacterial'],\n",
       " '10.23919/URSIRCRS49211.2020.9113586': ['aerosols atmospheric',\n",
       "  'thermal condition'],\n",
       " '10.1088/1748-9326/3/4/045018': ['aerosols atmospheric',\n",
       "  'rainfall runoff',\n",
       "  'thermal condition'],\n",
       " '10.1016/J.CONBUILDMAT.2018.12.033': ['cement'],\n",
       " '10.1016/S0167-1987(02)00063-6': ['soil'],\n",
       " '10.1007/BF00335937': ['soil'],\n",
       " '10.7598/cst2013.21': ['river hydrological'],\n",
       " '10.1007/978-3-319-13485-7_2': ['electrochemical', 'liquids'],\n",
       " '10.13058/raep.2020.v21n3.1809': ['emotion'],\n",
       " '10.1080/10590500701704011': ['hydrocarbon compositions'],\n",
       " '10.1109/ICEPT.2018.8480582': ['dielectric capacitors',\n",
       "  'polymers composites'],\n",
       " '10.1016/J.NANOEN.2018.11.044': ['dielectric capacitors'],\n",
       " '10.1007/978-94-017-0069-6_21': ['micro components', 'microfluid'],\n",
       " '10.7907/GNV8-6M21.': ['microfluid'],\n",
       " '10.1016/J.IFACOL.2018.08.096': ['evapotranspiration'],\n",
       " '10.1016/J.TCA.2011.06.010': ['nanomaterials', 'polymers composites'],\n",
       " '10.5194/EGUSPHERE-EGU21-3752': ['aerosols atmospheric'],\n",
       " '10.4236/GEP.2018.611002': ['aerosols atmospheric'],\n",
       " '10.21608/amme.1984.49630': ['materials phenomenon'],\n",
       " '10.1002/srin.200300222': ['materials phenomenon'],\n",
       " '10.5772/52794': ['chronic fatigue'],\n",
       " '10.1080/09581599808402917': ['immunodeficiency syndrome',\n",
       "  'worldwide epidemic'],\n",
       " '10.1037/sgd0000303': ['cultural diversity', 'self esteem'],\n",
       " '10.1080/19359705.2013.789811': [],\n",
       " '10.1016/j.neubiorev.2013.01.009': ['psychiatric disorders'],\n",
       " '10.7507/1001-5515.201907011': ['psychiatric disorders', 'emotion'],\n",
       " '10.1007/s11682-012-9170-7': ['cognitive psychology',\n",
       "  'individuals disabilities',\n",
       "  'lateral sclerosis'],\n",
       " '10.1007/s11051-018-4146-1': ['electrochemical', 'carbon fuel'],\n",
       " '10.1016/S0924-9338(11)72124-1': ['games', 'addictive disorders'],\n",
       " '10.1007/s11469-017-9756-9': [],\n",
       " '10.1016/J.ENBUILD.2021.110996': ['pollution environmental',\n",
       "  'construction industry'],\n",
       " '10.1007/978-3-030-10383-5_30': [],\n",
       " '10.1177/073401680402900206': ['adolescents child', 'sexual abuse'],\n",
       " '10.1088/1748-9326/abc122': ['forest ecosystems', 'mangrove forests'],\n",
       " '10.23986/AFSCI.8155': ['soil', 'forest ecosystems'],\n",
       " '10.23851/MJS.V32I2.981': [],\n",
       " '10.1016/J.NANOEN.2016.02.005': ['lithium batteries'],\n",
       " '10.1080/21681376.2021.1967188': ['agricultural activities'],\n",
       " '10.1073/pnas.1116437108': ['global crop', 'agricultural activities'],\n",
       " '10.22363/2312-9182-2017-21-2-390-404': ['language'],\n",
       " '10.12783/DTSSEHS/AEMS2018/27969': ['language'],\n",
       " '10.4028/www.scientific.net/SSP.165.73': ['steel alloys'],\n",
       " '10.1007/S10765-016-2108-3': ['microfluid'],\n",
       " '10.3788/IRLA20174602.216001': [],\n",
       " '10.1016/j.carbon.2021.09.008': ['lithium batteries', 'energy source'],\n",
       " '10.1109/MEMSYS.2013.6474414': ['electrochemical'],\n",
       " '10.3390/APP10196639': ['geothermal energy', 'energy source'],\n",
       " '10.1007/978-1-4612-0905-8_19': ['aerosols atmospheric', 'forest ecosystems'],\n",
       " '10.1016/J.SCITOTENV.2021.145847': ['forest ecosystems', 'thermal condition'],\n",
       " '10.1038/srep19762': ['oxide semiconductor',\n",
       "  'magnetic properties',\n",
       "  'transition metal'],\n",
       " '10.4172/2169-0316.1000161': ['oxide semiconductor', 'transition metal'],\n",
       " '10.1007/S11431-013-5319-X': ['biogas biomass', 'cement'],\n",
       " '10.1016/J.SOILBIO.2019.107567': ['pathogenic bacteria', 'soil'],\n",
       " '10.1016/J.MATPR.2018.10.150': [],\n",
       " '10.1002/PITS.20277': ['adolescents child', 'sexual behavior', 'emotion'],\n",
       " '10.1002/cd.229': ['adolescents child', 'emotion'],\n",
       " '10.1371/journal.pone.0164072': [],\n",
       " '10.1080/00223131.2018.1544941': ['fukushima'],\n",
       " '10.1080/00223131.2015.1071721': ['fukushima'],\n",
       " '10.1016/J.MATDES.2016.02.007': ['glasses sundry',\n",
       "  'plasticity',\n",
       "  'materials phenomenon'],\n",
       " '10.1016/B978-0-12-816189-0.00006-8': ['urban areas',\n",
       "  'industrial wastewaters'],\n",
       " '10.3389/fchem.2020.00411': ['nanomaterials', 'plasmonic'],\n",
       " '10.1117/12.2306737': ['plasmonic', 'nanomaterials'],\n",
       " '10.1007/s11664-012-2079-5': ['solder'],\n",
       " '10.1002/9783527640171.CH1': ['oxide semiconductor',\n",
       "  'electrochemical',\n",
       "  'biogas biomass'],\n",
       " '10.1103/PHYSREVMATERIALS.2.104418': ['oxide semiconductor',\n",
       "  'structures interfaces'],\n",
       " '10.1016/J.CEJ.2021.130729': [],\n",
       " '10.1038/sdata.2018.59': ['river hydrological'],\n",
       " '10.1177/0309133308091951': ['extreme drought', 'thermal condition'],\n",
       " '10.1016/j.jocrd.2014.03.007': ['tourette'],\n",
       " '10.1016/B978-0-12-821506-7.00014-4': ['nanomaterials'],\n",
       " '10.1016/J.RENENE.2020.09.055': ['vehicles electric', 'energy source'],\n",
       " '10.1016/J.JNGSE.2019.05.001': ['mineral resources'],\n",
       " '10.1007/978-3-319-64880-4_5': ['psychiatric disorders'],\n",
       " '10.1007/s11270-019-4197-7': ['urban areas', 'rainfall runoff'],\n",
       " '10.2166/aqua.2019.083': ['rainfall runoff'],\n",
       " '10.1007/s10921-020-00691-4': ['hydrogen',\n",
       "  'steel alloys',\n",
       "  'aeronautical aerospace'],\n",
       " '10.1007/s10570-016-0924-z': ['foamed materials', 'materials phenomenon'],\n",
       " '10.1155/2014/870649': ['foamed materials', 'materials phenomenon'],\n",
       " '10.15160/2038-1034/1593': ['educators'],\n",
       " '10.1007/978-1-4939-6909-8_1': ['science instruction'],\n",
       " '10.1007/S11267-007-9123-0': ['mineral resources'],\n",
       " '10.1021/ACS.ENERGYFUELS.0C03920': ['biogas biomass'],\n",
       " '10.1039/d0ta05758d': ['lithium batteries', 'zinc sulfide'],\n",
       " '10.1080/10298436.2020.1746311': ['recycle', 'cement', 'mineral resources'],\n",
       " '10.1149/ma2014-03/2/83': ['energy source'],\n",
       " '10.1016/j.ijrmhm.2020.105222': ['steel alloys', 'materials plasma'],\n",
       " '10.1016/j.conbuildmat.2019.117458': ['cement', 'nowadays geopolymer'],\n",
       " '10.3390/en13051135': ['nowadays geopolymer', 'cement'],\n",
       " '10.1016/J.BIOMBIOE.2011.05.033': ['hydrocarbon compositions',\n",
       "  'biogas biomass'],\n",
       " '10.1016/j.watres.2011.08.053': ['industrial wastewaters'],\n",
       " '10.1007/s10098-015-1063-1': ['industrial wastewaters'],\n",
       " '10.1016/J.APSUSC.2015.07.064': ['biomedical implant', 'pathogenic bacteria'],\n",
       " '10.1111/J.1468-3148.2008.00433.X': ['health', 'physical activity'],\n",
       " '10.3390/polym10040361': ['cement'],\n",
       " '10.1016/j.aeolia.2020.100636': ['arid regions', 'aerosols atmospheric'],\n",
       " '10.2298/tsci190623421k': ['solar photovoltaic', 'thermal condition'],\n",
       " '10.1051/EPJAP/2016150408': ['solar photovoltaic'],\n",
       " '10.1016/j.wasman.2008.11.002': ['pollution environmental'],\n",
       " '10.1093/AJE/KWH006': ['health',\n",
       "  'socioeconomic disadvantage',\n",
       "  'health inequality'],\n",
       " '10.1177/1359105308095962': ['health', 'socioeconomic disadvantage'],\n",
       " '10.1080/01457632.2015.1044395': [],\n",
       " '10.1007/s10856-015-5456-9': ['synthetic materials',\n",
       "  'biogas biomass',\n",
       "  'artificial bone'],\n",
       " '10.1021/am5029582': ['artificial bone', 'materials phenomenon'],\n",
       " '10.1533/9780857090829.2.99': ['issue industrial', 'materials plasma'],\n",
       " '10.1007/s11666-017-0563-4': ['steel alloys', 'materials plasma'],\n",
       " '10.1111/j.1365-2788.2007.00974.x': ['individuals disabilities',\n",
       "  'stressful dangerous',\n",
       "  'cognitive psychology'],\n",
       " '10.1080/00332747.1991.11024540': ['conduct disorder',\n",
       "  'disorders alcohol',\n",
       "  'antisocial behaviour'],\n",
       " '10.31838/SRP.2020.5.107': ['psychiatric disorders', 'conduct disorder'],\n",
       " '10.1016/J.MATLET.2013.05.090': ['nanomaterials', 'boron'],\n",
       " '10.1016/j.nicl.2014.12.007': ['psychiatric disorders',\n",
       "  'alcohol utero',\n",
       "  'disorders alcohol'],\n",
       " '10.1136/JNNP-2013-306573.86': ['people alzheimer'],\n",
       " '10.1159/000266148': ['adolescents child',\n",
       "  'cognitive psychology',\n",
       "  'language disorder'],\n",
       " '10.1177/026565909901500305': ['cognitive psychology',\n",
       "  'language',\n",
       "  'language disorder'],\n",
       " '10.1111/1467-6494.00140': ['psychiatric disorders', 'cognitive psychology'],\n",
       " '10.1016/J.SEPPUR.2018.11.084': [],\n",
       " '10.1088/1742-6596/1116/4/042014': ['pollution environmental',\n",
       "  'coastal sediments'],\n",
       " '10.1088/1742-6596/1204/1/012093': ['quantum dots', 'optical applications'],\n",
       " '10.1021/ACS.MACROMOL.7B02506': ['nanomaterials', 'block copolymers'],\n",
       " '10.1016/J.AGSY.2016.06.006': ['agricultural activities'],\n",
       " '10.1007/s11661-012-1558-x': ['steel alloys'],\n",
       " '10.1002/adma.201802997': ['aeronautical aerospace', 'materials phenomenon'],\n",
       " '10.1007/s10802-017-0299-0': ['psychiatric disorders'],\n",
       " '10.1159/000437302': ['outcomes pregnancy',\n",
       "  'preterm infants',\n",
       "  'cognitive psychology'],\n",
       " '10.1117/12.711166': ['lithography', 'solar photovoltaic'],\n",
       " '10.5383/IJTEE.03.02.002': ['consumption', 'energy source'],\n",
       " '10.1016/S0924-0136(01)00710-5': ['plastic deformation'],\n",
       " '10.1021/ACS.ENERGYFUELS.1C00503': ['photocatalytic',\n",
       "  'carbon fuel',\n",
       "  'chromium carbide'],\n",
       " '10.2522/ptj.20140211': ['adolescents child'],\n",
       " '10.1016/J.TWS.2017.07.024': ['cement'],\n",
       " '10.1017/S0020859017000396': ['emotion', 'migration'],\n",
       " '10.1111/j.1467-954X.1973.tb00482.x': ['migration'],\n",
       " '10.1016/J.PETROL.2021.109297': [],\n",
       " '10.3389/fpsyg.2020.00391': ['outcomes studies',\n",
       "  'associated burnout',\n",
       "  'stigma'],\n",
       " '10.18682/PD.V18I1.715': ['creativity', 'educators'],\n",
       " '10.30486/IJROWA.2020.1897538.1055': ['biogas biomass'],\n",
       " '10.1177/0004944119878480': ['psychiatric disorders', 'adolescents child'],\n",
       " '10.1126/SCIENCE.277.5327.777': ['carbon fuel', 'coastal sediments'],\n",
       " '10.1016/J.ECOLIND.2021.107633': ['carbon fuel', 'coastal sediments'],\n",
       " '10.1016/J.AGWAT.2018.11.026': ['agricultural activities', 'manure'],\n",
       " '10.1115/HT2007-32699': ['biogas biomass', 'energy source'],\n",
       " '10.1016/j.jallcom.2020.155053': ['energy source', 'thermoelastic'],\n",
       " '10.1108/S1479-364420160000018012': [],\n",
       " '10.1002/adfm.201200673': ['oxide semiconductor',\n",
       "  'solar photovoltaic',\n",
       "  'conventional transparent'],\n",
       " '10.1016/J.PROENG.2012.03.010': ['indium oxide', 'conventional transparent'],\n",
       " '10.1111/1748-8583.12143': [],\n",
       " '10.1177/004005998802000402': ['giftedness'],\n",
       " '10.4103/ed.ed_13_18': ['organic molecular',\n",
       "  'aerosols atmospheric',\n",
       "  'biogas biomass'],\n",
       " '10.1080/10962247.2016.1268982': ['aerosols atmospheric', 'biogas biomass'],\n",
       " '10.1016/J.APPLTHERMALENG.2016.07.049': ['steel slag',\n",
       "  'steel alloys',\n",
       "  'biogas biomass'],\n",
       " '10.15760/ETD.693': ['wavelength tuned', 'terahertz'],\n",
       " '10.1177/00938548211033329': ['psychiatric disorders'],\n",
       " '10.1177/1420326X11420586': ['pollution environmental', 'exposure radon'],\n",
       " '10.1016/J.ECOLIND.2018.08.052': ['pollution environmental'],\n",
       " '10.2466/pr0.94.2.637-648': ['contemporary social', 'isolation loneliness'],\n",
       " '10.1002/adom.201900028': ['solar photovoltaic'],\n",
       " '10.18502/keg.v5i6.7097': [],\n",
       " '10.3390/CRYST11020123': ['steel alloys', 'cryogenic insulation'],\n",
       " '10.1109/ICHVET.2019.8724179': ['voltage transformer',\n",
       "  'cryogenic insulation'],\n",
       " '10.3390/su12187632': ['thermal condition'],\n",
       " '10.1016/J.RSE.2021.112630': [],\n",
       " '10.2139/ssrn.2141598': ['economics anthropology', 'entrepreneurial'],\n",
       " '10.1007/0-306-48742-x_2': ['development industry', 'entrepreneurial'],\n",
       " '10.1016/j.jwpe.2019.101003': ['irrigation',\n",
       "  'industrial wastewaters',\n",
       "  'river hydrological'],\n",
       " '10.2134/jeq2013.07.0299': [],\n",
       " '10.17744/MEHC.28.1.FMC2J3JW5XX1CVBF': ['psychiatric disorders'],\n",
       " '10.1515/humaff-2018-0007': ['adolescents child', 'pollution environmental'],\n",
       " '10.1007/S12541-015-0278-8': ['energy source'],\n",
       " '10.1177/2516103220902778': ['childhood maltreatment', 'trauma'],\n",
       " '10.1016/j.catena.2020.104698': ['rainfall runoff'],\n",
       " '10.1016/J.FORECO.2021.119614': ['carbon fuel', 'litter decomposition'],\n",
       " '10.1007/978-94-017-9771-9_16': ['river hydrological'],\n",
       " '10.1002/(SICI)1098-2337(1999)25:5<331::AID-AB2>3.0.CO;2-1': ['aggression'],\n",
       " '10.1007/978-981-4451-45-1_32': ['electrospun'],\n",
       " '10.1016/j.gecco.2021.e01782': ['forest ecosystems'],\n",
       " '10.1021/EF302023V': ['carbon fuel'],\n",
       " '10.1007/s12540-016-5524-9': ['ferromagnetic'],\n",
       " '10.1016/j.apsusc.2020.147693': ['magnetic properties'],\n",
       " '10.1109/INTMAG.2015.7157743': ['magnetic properties'],\n",
       " '10.25046/aj0505148': ['aphasia'],\n",
       " '10.1007/978-0-387-87579-8_12': ['psychiatric disorders',\n",
       "  'health',\n",
       "  'chronic fatigue'],\n",
       " '10.5539/ELT.V3N3P136': [],\n",
       " '10.1108/S1479-3636(2012)2': ['educators'],\n",
       " '10.24059/OLJ.V8I1.1837': ['communication technologies'],\n",
       " '10.1598/JAAL.52.6.2': ['educators', 'digital technology'],\n",
       " '10.4028/www.scientific.net/AMR.53-54.119': [],\n",
       " '10.1007/s10508-012-0062-0': ['psychiatric disorders', 'impaired sexual'],\n",
       " '10.1117/12.746417': ['photonic'],\n",
       " '10.1117/12.271056': ['vcsels'],\n",
       " '10.1002/hyp.14180': ['forest ecosystems', 'river hydrological', 'riparian'],\n",
       " '10.1038/nature04557': ['oxide semiconductor', 'dislocations'],\n",
       " '10.1016/J.EGYPRO.2019.01.628': ['hydrates'],\n",
       " '10.1109/TCE.1961.6373116': ['failure electrical'],\n",
       " '10.1016/0167-7322(93)80042-T': ['failure electrical'],\n",
       " '10.14412/2074-2711-2013-2458': ['epilepsy', 'cognitive psychology'],\n",
       " '10.1111/j.1528-1167.2006.00685.x': ['epilepsy', 'cognitive psychology'],\n",
       " '10.1016/S0109-5641(86)80052-5': ['porous ceramics', 'dental restorations'],\n",
       " '10.1590/1516-1439.298014': ['hydroxyapatite', 'artificial bone'],\n",
       " '10.1063/1.5018857': ['silicon'],\n",
       " '10.1016/J.BUILDENV.2019.04.050': ['organic molecular'],\n",
       " '10.1080/10426914.2013.864415': [],\n",
       " '10.1002/adfm.201600771': ['transition metal', 'chromium carbide'],\n",
       " '10.3922/J.PSNS.2010.2.004': ['individuals disabilities',\n",
       "  'cognitive psychology'],\n",
       " '10.1007/978-3-319-12970-9_18': ['porous ceramics', 'polymers composites'],\n",
       " '10.29328/journal.ated.1001011': ['noise widespread',\n",
       "  'auditory hallucinations'],\n",
       " '10.1111/gcbb.12403': ['crops switchgrass', 'biogas biomass'],\n",
       " '10.1016/J.EJA.2004.05.001': ['rainfall runoff', 'agricultural activities'],\n",
       " '10.1177/0954405413499011': ['steel alloys', 'impact penetration'],\n",
       " '10.1080/09524622.2008.9753814': [],\n",
       " '10.1016/J.TRF.2017.06.019': ['road safety'],\n",
       " '10.1007/978-94-009-7529-3_3': ['rice', 'east asia', 'food important'],\n",
       " '10.36253/978-88-6453-336-0': [],\n",
       " '10.18066/REVUNIVAP.V18I31.50': [],\n",
       " '10.1080/00103629809369933': ['industrial wastewaters',\n",
       "  'rainfall runoff',\n",
       "  'nitrate removal'],\n",
       " '10.1007/978-3-319-09287-4_17': ['pollution environmental', 'soil'],\n",
       " '10.26634/JPSY.4.1.1221': ['educators'],\n",
       " '10.1016/j.watres.2016.10.045': ['perfluoroalkyl'],\n",
       " '10.1016/J.CEJ.2021.129544': ['ammonia important', 'rainfall runoff'],\n",
       " '10.1002/mus.24345': ['motor neurons', 'lateral sclerosis'],\n",
       " '10.1111/jace.17034': ['porous ceramics', 'piezoelectric'],\n",
       " '10.1016/J.JCLEPRO.2019.04.159': ['transportation'],\n",
       " '10.1111/j.1475-2743.2009.00219.x': ['forest ecosystems'],\n",
       " '10.1016/j.chemosphere.2021.132189': ['pollution environmental'],\n",
       " '10.1016/j.nucengdes.2020.110941': ['nuclear reactor', 'energy source'],\n",
       " '10.1016/J.EGYPRO.2017.09.417': ['bentonite kind'],\n",
       " '10.5465/AMLE.2014.0139': ['media attention'],\n",
       " '10.1007/978-90-481-9625-8_3': ['river hydrological', 'eutrophication'],\n",
       " '10.1007/S12649-015-9386-Z': ['biogas biomass'],\n",
       " '10.2478/kones-2019-0030': ['steel alloys'],\n",
       " '10.1109/ICEPT-HDP.2012.6474604': [],\n",
       " '10.1007/s10461-015-1046-6': [],\n",
       " '10.1016/J.TSF.2014.11.065': ['zinc sulfide'],\n",
       " '10.1016/j.wasman.2009.01.002': ['incinerators mswi'],\n",
       " '10.3390/APP11125425': ['acoustic', 'structural health'],\n",
       " '10.3390/CATAL11060685': ['catalysts ethanol'],\n",
       " '10.1111/J.1745-6606.1992.TB00028.X': ['relevance decade',\n",
       "  'contemporary social',\n",
       "  'homelessness'],\n",
       " '10.4018/978-1-4666-8682-3.CH006': ['lignin', 'carbon fuel'],\n",
       " '10.1016/j.jmst.2020.05.052': ['laser', 'steel alloys'],\n",
       " '10.1179/MST.1985.1.6.417': ['zirconia', 'porous ceramics'],\n",
       " '10.3390/appliedchem1010004': ['erosion corrosion', 'chromium carbide'],\n",
       " '10.17485/IJST/2015/V8I27/81165': ['materials phenomenon',\n",
       "  'erosion corrosion',\n",
       "  'chromium carbide'],\n",
       " '10.1007/s10064-019-01522-1': ['soil', 'mineral resources'],\n",
       " '10.4028/www.scientific.net/KEM.857.417': ['soil'],\n",
       " '10.3390/ijerph15102110': ['pollution environmental'],\n",
       " '10.1186/s12888-017-1326-y': [],\n",
       " '10.1002/CDQ.12146': ['students underrepresented'],\n",
       " '10.3390/su13126882': ['solar photovoltaic'],\n",
       " '10.1016/S1359-6454(03)00440-3': ['interconnects microelectronics'],\n",
       " '10.1002/ehs2.1265': ['carbon fuel', 'river hydrological'],\n",
       " '10.1016/J.DESAL.2017.07.016': ['desalination',\n",
       "  'polyacrylamides',\n",
       "  'membrane based'],\n",
       " '10.1115/IMECE2013-63898': [],\n",
       " '10.5902/2179460x39297': ['river hydrological'],\n",
       " '10.1016/J.CMA.2021.113665': ['materials phenomenon'],\n",
       " '10.1109/PGC.2010.5706011': ['piezoelectric', 'lithium batteries'],\n",
       " '10.1002/PC.23299': ['nanomaterials'],\n",
       " '10.1016/J.COMPOSITESB.2017.01.056': ['cement', 'graphene'],\n",
       " '10.4018/IJTEPD.2018070101': ['cultural diversity', 'tertiary education'],\n",
       " '10.4028/www.scientific.net/AMR.20-21.375': ['erosion corrosion'],\n",
       " '10.1186/S41610-017-0055-Y': ['thermal condition'],\n",
       " '10.1177/1329878X9909000107': ['journalism'],\n",
       " '10.4013/VER.2012.26.62.02': ['journalism'],\n",
       " '10.1166/NNL.2020.3219': ['nanomaterials', 'biosensors'],\n",
       " '10.1056/JW200809230000002': [],\n",
       " '10.1007/s12665-017-6899-8': ['pollution environmental',\n",
       "  'river hydrological'],\n",
       " '10.1121/1.429083': ['biogas biomass',\n",
       "  'electrochemical',\n",
       "  'carbon fuel',\n",
       "  'disadvantage diesel'],\n",
       " '10.7916/D8K64R74': ['religion spirituality'],\n",
       " '10.1016/j.ecolind.2020.106389': ['organic molecular',\n",
       "  'carbon fuel',\n",
       "  'rainfall runoff',\n",
       "  'river hydrological'],\n",
       " '10.3923/JAS.2010.3167.3174': [],\n",
       " '10.1136/jnnp.62.6.549': ['consciousness focus'],\n",
       " '10.1016/j.scs.2019.101880': ['resilience'],\n",
       " '10.1109/INTMAG.2015.7156602': ['magnetic properties', 'rare earth'],\n",
       " '10.1061/(ASCE)AS.1943-5525.0001006': ['optical applications'],\n",
       " '10.1007/s41779-020-00504-x': ['antimicrobial'],\n",
       " '10.1088/2053-1591/AA8A0D': ['fiber', 'polymers composites'],\n",
       " '10.1007/S10854-008-9569-5': ['nanomaterials', 'oxide semiconductor'],\n",
       " '10.21273/HORTTECH03979-18': ['emotion', 'impacts invasive'],\n",
       " '10.1186/s13033-016-0069-3': ['adolescents child', 'emotion'],\n",
       " '10.1016/j.renene.2020.08.041': ['desalination', 'solar photovoltaic'],\n",
       " '10.1111/J.1530-0277.2007.00396.X': ['psychiatric disorders',\n",
       "  'genetic',\n",
       "  'disorders alcohol'],\n",
       " '10.1007/s00382-017-3690-1': ['thermal condition'],\n",
       " '10.12783/dtssehs/icaem2017/18963': ['psychiatric disorders',\n",
       "  'language',\n",
       "  'language disorder'],\n",
       " '10.1016/j.ijpharm.2017.05.074': [],\n",
       " '10.1007/S12671-017-0851-6': ['mindfulness'],\n",
       " '10.1590/S0102-311X2005000300035': ['outcomes studies', 'association social'],\n",
       " '10.1016/j.drugalcdep.2008.06.014': [],\n",
       " '10.1007/978-3-319-50824-5_4': ['flexible electronics'],\n",
       " '10.1016/J.MSSP.2006.08.002': ['germanium', 'oxide semiconductor'],\n",
       " '10.1021/acsnano.7b06307': ['lithography'],\n",
       " '10.4236/JSS.2017.56003': [],\n",
       " '10.1109/tap.2021.3098586': ['laser', 'magnetic properties'],\n",
       " '10.1016/J.MATCHEMPHYS.2019.03.039': ['magnetic properties',\n",
       "  'absorber composites'],\n",
       " '10.1063/5.0050483': ['magnetic properties', 'application spintronic'],\n",
       " '10.1155/2020/8841221': ['nanomaterials', 'forest ecosystems'],\n",
       " '10.1016/J.STILL.2004.11.003': ['soil', 'heavy vehicles'],\n",
       " '10.3390/land10010031': ['thermal condition'],\n",
       " '10.1002/env.2605': ['pollution environmental', 'thermal condition'],\n",
       " '10.1007/978-1-4612-3950-5_8': ['ethical'],\n",
       " '10.1007/978-3-319-55477-8_17': ['social network', 'information systems'],\n",
       " '10.47223/irjay.2020.31201': ['cancer'],\n",
       " '10.5812/IJHRBA.35081': ['individuals disabilities'],\n",
       " '10.1039/c7nr05718k': ['rainfall runoff'],\n",
       " '10.1097/MRR.0b013e328331c5c8': [],\n",
       " '10.3349/ymj.2009.50.6.771': [],\n",
       " '10.1142/S0129183115500631': ['porous ceramics', 'mineral resources'],\n",
       " '10.1016/j.jecp.2008.03.006': ['dyslexia'],\n",
       " '10.1016/J.SOLENER.2016.11.007': ['geothermal energy'],\n",
       " '10.1007/978-3-642-18870-1_22': ['oxide semiconductor', 'steel alloys'],\n",
       " '10.1016/j.tsc.2020.100780': ['educators'],\n",
       " '10.5772/intechopen.94873': ['hydrogels'],\n",
       " '10.1016/S0010-440X(68)80006-9': ['psychiatric disorders'],\n",
       " '10.1109/ISAF.2011.6014131': ['magnetic properties', 'dielectric capacitors'],\n",
       " '10.1155/2020/7023616': ['polymers composites'],\n",
       " '10.1300/J251V06N02_06': ['cocaine marijuana'],\n",
       " '10.1016/J.JIEC.2019.08.033': [],\n",
       " '10.1179/1743280414Y.0000000042': ['magnetic properties'],\n",
       " '10.1002/hbm.22462': ['cerebral palsy'],\n",
       " '10.5194/PIAHS-366-194-2015': ['pollution environmental',\n",
       "  'coastal sediments'],\n",
       " '10.1175/JAMC-D-11-0145.1': ['aerosols atmospheric'],\n",
       " '10.1002/ldr.2743': ['source pyrogenic', 'biogas biomass'],\n",
       " '10.1021/la4049105': ['photocatalytic', 'steel alloys'],\n",
       " '10.1515/9780804771115': ['psychiatric disorders', 'cultural diversity'],\n",
       " '10.1037//0021-843X.108.3.371': ['psychiatric disorders'],\n",
       " '10.1364/OE.17.008253': ['laser'],\n",
       " '10.1016/J.SNA.2014.03.020': ['dielectric capacitors', 'elastomer devices'],\n",
       " '10.1093/brain/awp327': ['persistent neglect', 'cognitive psychology'],\n",
       " '10.3390/ECSOC-22-05652': ['catalysts ethanol', 'heterogeneous'],\n",
       " '10.20528/CJCRL.2018.03.001': [],\n",
       " '10.1016/J.JCLEPRO.2011.10.036': ['industrial wastewaters',\n",
       "  'chromium carbide'],\n",
       " '10.1016/J.CONBUILDMAT.2017.04.142': ['cement'],\n",
       " '10.1007/s10661-020-08404-0': ['river hydrological'],\n",
       " '10.1111/1365-2745.13411': ['coastal sediments', 'seabed contributes'],\n",
       " '10.1007/s10854-020-04296-5': ['multiferroic'],\n",
       " '10.1109/ICEPT.2015.7236748': ['oxide semiconductor', 'laser'],\n",
       " '10.4028/www.scientific.net/MSF.567-568.273': ['chronic fatigue',\n",
       "  'fuels aircraft',\n",
       "  'erosion corrosion',\n",
       "  'thermal condition'],\n",
       " '10.17277/AMT.2016.02.PP.061-068': ['cryogenic insulation',\n",
       "  'thermal condition'],\n",
       " '10.1088/1757-899X/455/1/012064': ['materials phenomenon'],\n",
       " '10.1080/01490459009377891': ['pollution environmental'],\n",
       " '10.1017/CBO9780511520778.001': ['cultural diversity', 'social interaction'],\n",
       " '10.3741/JKWRA.2005.38.10.895': ['geographical research',\n",
       "  'rainfall runoff',\n",
       "  'river hydrological'],\n",
       " '10.3390/w12010273': ['rainfall runoff'],\n",
       " '10.1300/J076V34N01_03': ['psychiatric disorders', 'incarceration'],\n",
       " '10.1007/978-3-030-76208-7_13': ['psychiatric disorders', 'antipsychotic'],\n",
       " '10.1149/05807.0165ECST': ['rram devices', 'energy source'],\n",
       " '10.1109/SBEC.2016.101': ['vapor deposition', 'printers frequent'],\n",
       " '10.1088/1742-6596/97/1/012305': ['failure electrical'],\n",
       " '10.1016/J.JNUCMAT.2020.152321': ['nuclear reactor', 'tritium'],\n",
       " '10.1149/1.2980292': ['oxide semiconductor', 'silicon'],\n",
       " '10.1175/JHM-D-13-0188.1': ['rainfall runoff'],\n",
       " '10.1080/10417948509372629': ['harassment'],\n",
       " '10.1007/s00213-010-2042-1': ['cocaine marijuana'],\n",
       " '10.1007/s12257-015-0733-5': ['nanomaterials', 'antimicrobial'],\n",
       " '10.6007/ijarbss/v8-i9/4695': ['emotion', 'cognitive psychology'],\n",
       " '10.1166/JNN.2012.5832': ['health', 'solar photovoltaic'],\n",
       " '10.22452/katha.vol13no1.4': ['academic performance', 'dishonesty'],\n",
       " '10.24059/olj.v25i2.1586': ['online education', 'mooc'],\n",
       " '10.3390/EN8065440': ['solar photovoltaic', 'absorber composites'],\n",
       " '10.1103/PhysRevE.85.041120': ['catalysts ethanol', 'electrochemical'],\n",
       " '10.1080/15235882.1997.10162712': ['language'],\n",
       " '10.4324/9780367854201-2': ['women gender'],\n",
       " '10.1016/J.SURFCOAT.2006.03.035': ['niobium'],\n",
       " '10.1016/J.APSUSC.2008.03.047': ['niobium'],\n",
       " '10.3390/rs11242958': ['aerosols atmospheric'],\n",
       " '10.31410/itema.2018.375': ['development achieve', 'agricultural activities'],\n",
       " '10.1115/1.4006137': ['interconnects microelectronics'],\n",
       " '10.1007/978-1-4615-7029-5_6': ['adolescents child'],\n",
       " '10.1177/0743554895104001': ['adolescents child',\n",
       "  'socioeconomic disadvantage'],\n",
       " '10.1080/08855072.1981.10668421': ['bilingualism'],\n",
       " '10.1149/05047.0015ECST': ['steel alloys', 'erosion corrosion'],\n",
       " '10.1016/S0920-3796(89)80122-X': ['nuclear reactor', 'neutron'],\n",
       " '10.1021/ACS.JPCC.9B05068': ['lubricant'],\n",
       " '10.1139/L04-112': [],\n",
       " '10.1111/j.1601-183X.2005.00183.x': ['psychiatric disorders',\n",
       "  'individuals disabilities'],\n",
       " '10.3365/KJMM.2014.52.1.031': ['steel alloys'],\n",
       " '10.1016/S0008-8846(97)00162-2': ['steel alloys'],\n",
       " '10.1080/02626667.2019.1584401': ['forest ecosystems',\n",
       "  'agricultural activities'],\n",
       " '10.1002/2016JD025484': ['circulation models', 'thermal condition'],\n",
       " '10.1186/1744-9081-6-76': ['chronic fatigue'],\n",
       " '10.1007/978-90-481-2287-5_25': ['nuclear reactor', 'construction industry'],\n",
       " '10.1007/978-981-15-0214-9_64': ['oxide semiconductor'],\n",
       " '10.1016/S0167-2991(01)82328-4': ['photocatalytic', 'mesoporous silica'],\n",
       " '10.1007/s00221-013-3642-x': ['psychiatric disorders'],\n",
       " '10.1007/S10825-018-1136-6': [],\n",
       " '10.1117/12.649902': ['photonic', 'silicon'],\n",
       " '10.1002/mpr.1414': ['people alzheimer'],\n",
       " '10.1016/J.FUEL.2012.06.120': ['biogas biomass'],\n",
       " '10.1063/1.3591935': ['nondestructive evaluation', 'ultrasonic'],\n",
       " '10.12928/TELKOMNIKA.V17I5.12806': ['hexafluoride'],\n",
       " '10.1177/097172189900400107': ['women gender'],\n",
       " '10.1002/PITS.1014': ['aggression', 'american schools'],\n",
       " '10.1021/JP1015406': ['pathogenic bacteria'],\n",
       " '10.6007/IJARPED/V5-I2/2131': ['psychiatric disorders',\n",
       "  'college life',\n",
       "  'academic performance'],\n",
       " '10.1016/J.NUCENGDES.2014.12.014': ['nuclear reactor', 'fukushima'],\n",
       " '10.1016/J.ATMOSRES.2017.09.006': ['solar photovoltaic', 'energy source'],\n",
       " '10.1016/J.CATENA.2021.105284': [],\n",
       " '10.1016/J.COMPSTRUCT.2013.04.026': ['polymers composites'],\n",
       " '10.1016/J.IJPLAS.2014.03.014': ['sheets ductile'],\n",
       " '10.1155/2021/5536676': ['flame retardant', 'polymers composites'],\n",
       " '10.1016/j.wasman.2013.05.009': ['energy source'],\n",
       " '10.1051/MATECCONF/20165703001': ['steel alloys', 'materials phenomenon'],\n",
       " '10.1016/j.scog.2014.06.001': ['psychiatric disorders', 'aggression'],\n",
       " '10.3390/nano7040083': ['nanomaterials', 'tio2', 'steel alloys'],\n",
       " '10.1186/s40064-016-2062-3': ['solar photovoltaic'],\n",
       " '10.1016/J.OPTLASENG.2021.106770': ['conventional transparent'],\n",
       " '10.3138/JCFS.42.5.687': [],\n",
       " '10.1016/B978-0-12-805314-0.00005-4': [],\n",
       " '10.1080/15507394.2016.1243434': ['ethical'],\n",
       " '10.1109/ESTC.2010.5642823': ['textile', 'energy source'],\n",
       " '10.1002/ECS2.1489': ['forest ecosystems', 'mineral resources'],\n",
       " '10.1109/LED.2018.2808329': ['electrochemical', 'thermal condition'],\n",
       " '10.1016/j.envexpbot.2020.104203': ['global crop', 'agricultural activities'],\n",
       " '10.1097/01.ALC.0000141812.81234.A6': ['disorders alcohol'],\n",
       " '10.1016/J.PETROL.2021.109367': ['salinity'],\n",
       " '10.1039/C7EN00375G': ['pollution environmental', 'cement'],\n",
       " '10.1002/J.1551-8833.1993.TB05955.X': ['disinfectants disinfection'],\n",
       " '10.1016/j.neuropharm.2013.05.042': ['emotion', 'global health'],\n",
       " '10.1016/0094-730X(83)90027-X': [],\n",
       " '10.1177/0886260511403745': [],\n",
       " '10.1007/s10800-019-01307-0': ['fuel cell', 'biogas biomass', 'carbon fuel'],\n",
       " '10.1016/b978-0-12-817840-9.00012-6': ['nanomaterials', 'luminescent'],\n",
       " '10.1109/TASC.2009.2018529': ['yba2cu3oy ybco'],\n",
       " '10.1021/acsami.9b04690': ['catalysts ethanol'],\n",
       " '10.1016/j.jmbbm.2016.01.011': ['biological tissue', 'materials phenomenon'],\n",
       " '10.4018/978-1-4666-5162-3.CH002': ['online education',\n",
       "  'traditional education'],\n",
       " '10.1016/b978-0-12-803581-8.11725-4': ['magnetic properties',\n",
       "  'energy source'],\n",
       " '10.1016/j.eng.2020.06.025': ['organic molecular', 'electrochemical'],\n",
       " '10.1504/IJWOE.2019.10023351': ['emotion',\n",
       "  'cognitive psychology',\n",
       "  'happiness'],\n",
       " '10.5772/16210': ['porous ceramics'],\n",
       " '10.2351/1.5062897': [],\n",
       " '10.1007/978-981-10-7841-5_5': ['interconnects microelectronics'],\n",
       " '10.1039/d0tc04400h': ['ferromagnetic'],\n",
       " '10.1163/15685373-12342146': ['religion spirituality', 'cultural diversity'],\n",
       " '10.1111/J.1399-5618.2010.00854.X': ['psychiatric disorders',\n",
       "  'educators',\n",
       "  'cognitive psychology'],\n",
       " '10.1109/TASC.2010.2090638': ['cryogenic insulation'],\n",
       " '10.1007/s11671-010-9639-5': ['magnetic properties', 'ferromagnetic'],\n",
       " '10.1177/0032329210381238': ['religious'],\n",
       " '10.200609/IJSOC.V2I3.126': ['adolescents child', 'identity'],\n",
       " '10.3390/app10062014': ['carbon fuel', 'refrigerants'],\n",
       " '10.5781/JWJ.2014.32.2.18': [],\n",
       " '10.1029/2018EF001085': ['thermal condition'],\n",
       " '10.17730/HUMO.58.1.G48P765X62574761': ['turnover'],\n",
       " '10.1177/1362168814541735': ['language'],\n",
       " '10.1039/C6TA09967J': ['sodium occupancy'],\n",
       " '10.21467/PROCEEDINGS.112.56': ['pollution environmental'],\n",
       " '10.1016/J.FORECO.2005.10.014': ['biogas biomass', 'forest ecosystems'],\n",
       " '10.1007/BF03226851': ['biogas biomass', 'disadvantage diesel'],\n",
       " '10.20508/ijrer.v10i3.11089.g8021': ['wind turbine'],\n",
       " '10.1016/j.biomaterials.2010.07.089': [],\n",
       " '10.1016/J.ENCONMAN.2012.08.026': ['boron',\n",
       "  'materials phenomenon',\n",
       "  'chromium carbide'],\n",
       " '10.2118/165692-MS': [],\n",
       " '10.1186/s42269-019-0222-7': ['soil', 'management tillage'],\n",
       " '10.3390/cryst10050388': ['luminescent'],\n",
       " '10.1007/978-3-030-44575-1_8': ['separation processes',\n",
       "  'parental separation'],\n",
       " '10.1177/088840640502800403': ['student attrition',\n",
       "  'special educational',\n",
       "  'educators'],\n",
       " '10.1093/geroni/igaa057.1682': ['people alzheimer', 'adults illness'],\n",
       " '10.3390/ma12081198': ['steel slag', 'alkali ions', 'cement'],\n",
       " '10.1016/j.actbio.2009.09.019': ['synthetic graft'],\n",
       " '10.1080/01434632.2012.670242': ['deaf people', 'communication technologies'],\n",
       " '10.1177/1534650117706544': ['psychiatric disorders', 'movement disorder'],\n",
       " '10.1021/acsami.7b02700': ['luminescent', 'solar photovoltaic'],\n",
       " '10.1007/S42154-021-00147-Z': ['fuel cell'],\n",
       " '10.1039/C6RA00083E': ['sno2 high', 'lithium batteries'],\n",
       " '10.1111/SIPR.12002': ['psychiatric disorders', 'people alzheimer'],\n",
       " '10.4028/www.scientific.net/AMR.287-290.2785': ['smart materials',\n",
       "  'magnetic properties'],\n",
       " '10.1016/J.CPLETT.2019.01.021': ['oxide semiconductor', 'piezoelectric'],\n",
       " '10.1007/3-540-36536-2_8': ['laser', 'aerosols atmospheric'],\n",
       " '10.1109/PVSC.2000.916114': ['solar photovoltaic'],\n",
       " '10.1063/1.5112067': ['oxide semiconductor', 'optoelectronic technology'],\n",
       " '10.1021/JP051525M': ['biogas biomass'],\n",
       " '10.1016/j.jneumeth.2007.03.002': ['psychiatric disorders', 'emotion'],\n",
       " '10.5603/PSYCH.2020.0006': ['psychiatric disorders', 'women gender'],\n",
       " '10.1016/S1001-6279(10)60007-8': ['river hydrological'],\n",
       " '10.1037/spy0000105': ['athletes'],\n",
       " '10.1115/1.4028166': ['wind turbine'],\n",
       " '10.1016/J.JNUCMAT.2012.08.035': ['porous ceramics', 'pyrochlore'],\n",
       " '10.1016/j.nicl.2018.06.018': ['psychiatric disorders',\n",
       "  'auditory hallucinations'],\n",
       " '10.1007/s13679-017-0275-6': ['parents'],\n",
       " '10.1039/c5cp06134b': ['nanomaterials'],\n",
       " '10.1080/00102202.2021.1932851': ['biogas biomass'],\n",
       " '10.4314/AJPSSI.V12I1-2.48179': ['africa society'],\n",
       " '10.1111/J.1759-5436.2010.00119.X': ['women gender'],\n",
       " '10.1016/J.COMPSTRUCT.2018.09.069': ['piezoelectric'],\n",
       " '10.1080/02682621.2012.654695': ['trauma'],\n",
       " '10.1556/JBA.2.2013.018': ['addictive disorders'],\n",
       " '10.1007/BF03341556': ['forest ecosystems', 'psychotherapy'],\n",
       " '10.1016/J.RSE.2008.04.015': ['phytoplankton'],\n",
       " '10.1109/ICTONMW.2007.4446967': ['silicon', 'photoluminescence'],\n",
       " '10.1093/CLIPSY/BPG041': ['services latinos', 'psychiatric disorders'],\n",
       " '10.1016/B978-0-12-816207-1.00014-7': ['addictive disorders',\n",
       "  'food important'],\n",
       " '10.1177/0022343314536915': ['violent conflict'],\n",
       " '10.2472/JSMS.17.1168': ['creep behavior'],\n",
       " '10.1109/TCPMT.2019.2921738': ['energy source'],\n",
       " '10.1016/J.MSEA.2021.141581': ['steel alloys', 'energy source'],\n",
       " '10.1016/j.memsci.2020.118702': ['oxide semiconductor', 'electrochemical'],\n",
       " '10.3389/fmars.2015.00049': ['coastal sediments', 'micro hypoxia'],\n",
       " '10.5194/HESS-17-3795-2013': ['river hydrological'],\n",
       " '10.1088/1748-9326/AB1CF1': ['global crop', 'food important'],\n",
       " '10.1039/C8TC01698D': ['oled materials'],\n",
       " '10.1063/1.4917276': ['orbital debris'],\n",
       " '10.1002/cphc.201600362': ['adhesion'],\n",
       " '10.1016/J.SURFCOAT.2011.01.009': ['steel alloys',\n",
       "  'erosion corrosion',\n",
       "  'zinc sulfide'],\n",
       " '10.1142/S0219876218430041': ['aeronautical aerospace', 'walled structures'],\n",
       " '10.1002/anie.201610708': ['plasmonic',\n",
       "  'oxide semiconductor',\n",
       "  'steel alloys'],\n",
       " '10.1051/METAL/2014022': [],\n",
       " '10.1186/2194-6434-1-16': ['pollution environmental', 'forest ecosystems'],\n",
       " '10.1109/CSCITA.2014.6839258': ['permeability properties', 'metamaterials'],\n",
       " '10.1177/1521025118796633': ['status educational'],\n",
       " '10.5209/CUTS.56882': [],\n",
       " '10.1520/JTE20210011': ['porous ceramics', 'cement'],\n",
       " '10.1063/1.4803153': ['graphene'],\n",
       " '10.1016/J.CEJ.2021.128419': ['rainfall runoff'],\n",
       " '10.1007/S11340-011-9569-X': ['granular materials'],\n",
       " '10.1080/21670811.2016.1243990': [],\n",
       " '10.1016/S1359-0294(98)80035-6': ['photonic'],\n",
       " '10.1002/JBM.B.10026': [],\n",
       " '10.1177/004051750207200803': ['biodegradability', 'polymers composites'],\n",
       " '10.1155/2018/2487962': [],\n",
       " '10.1037/a0019295': ['cocaine marijuana'],\n",
       " '10.1007/S11630-018-0985-4': ['efficiency burners'],\n",
       " '10.1016/J.JALLCOM.2014.03.175': ['glasses sundry', 'optical applications'],\n",
       " '10.1109/icvris.2018.00030': [],\n",
       " '10.1175/2011EI398.1': ['forest ecosystems', 'thermal condition'],\n",
       " '10.3389/fpsyg.2019.03041': ['cognitive psychology'],\n",
       " '10.1007/978-3-642-18336-2_79': ['food important', 'agricultural activities'],\n",
       " '10.1007/s10750-008-9417-x': ['rainfall runoff',\n",
       "  'river hydrological',\n",
       "  'eutrophication'],\n",
       " '10.1016/J.ADVWATRES.2011.05.007': ['rainfall runoff'],\n",
       " '10.1016/j.neulet.2011.05.243': [],\n",
       " '10.7567/JJAP.52.01AG04': ['leds'],\n",
       " '10.1016/j.jeurceramsoc.2020.09.056': ['porous ceramics'],\n",
       " '10.4028/www.scientific.net/AMR.911.281': ['magnetic properties'],\n",
       " '10.11114/JETS.V2I1.243': ['civic participation'],\n",
       " '10.1111/J.1745-9125.2011.00227.X': ['offenders'],\n",
       " '10.1016/J.ORGGEOCHEM.2007.07.004': ['issue deterioration',\n",
       "  'biodegradability'],\n",
       " '10.1080/1366880052000323986': ['psychiatric disorders'],\n",
       " '10.3390/geosciences9090393': [],\n",
       " '10.1007/s11284-004-0026-5': ['arid regions'],\n",
       " '10.1088/1748-9326/9/3/034012': ['wind turbine',\n",
       "  'construction offshore',\n",
       "  'river hydrological'],\n",
       " '10.1016/j.jpowsour.2019.227458': ['nanomaterials', 'photocatalytic'],\n",
       " '10.1002/admi.201801148': ['cardiovascular disease'],\n",
       " '10.1016/j.ijdrr.2020.101928': ['infrastructure losses', 'erosion corrosion'],\n",
       " '10.1109/ICEMPE.2019.8727363': ['cryogenic insulation', 'silicon'],\n",
       " '10.1016/j.paid.2019.109801': ['emotion', 'alexithymia'],\n",
       " '10.1111/ETH.12095': ['cognitive psychology', 'behaviour animals'],\n",
       " '10.1039/d0ra01635g': ['vapor deposition', 'oxide semiconductor'],\n",
       " '10.1115/1.3082403': ['supercritical'],\n",
       " '10.1007/s40843-017-9111-1': [],\n",
       " '10.1038/s41598-019-54463-w': ['oxide semiconductor',\n",
       "  'based heterostructures'],\n",
       " '10.1007/S10643-015-0687-4': ['adolescents child', 'attachment formation'],\n",
       " '10.1007/s00422-008-0266-5': ['cerebellum'],\n",
       " '10.1177/096100067901100401': ['migrate parents', 'parents'],\n",
       " '10.1007/S00170-018-03248-Y': [],\n",
       " '10.1016/J.APPLTHERMALENG.2021.117337': [],\n",
       " '10.1007/S10551-017-3550-2': ['citizenship behavior'],\n",
       " '10.1001/ARCHNEUR.1997.00550150041014': ['people alzheimer'],\n",
       " '10.21632/IRJBS.5.1.97.71': ['problems countries', 'unemployment main'],\n",
       " '10.1117/12.2286613': ['laser', 'fiber'],\n",
       " '10.1097/01.psy.0000238216.88515.e5': ['psychiatric disorders', 'cancer'],\n",
       " '10.1016/J.RENENE.2021.03.021': ['pollution environmental', 'wind turbine'],\n",
       " '10.1103/PhysRevB.95.195202': ['diffusive phonon'],\n",
       " '10.4028/www.scientific.net/AMM.278-280.523': ['oxide semiconductor',\n",
       "  'cryogenic insulation',\n",
       "  'thermal condition'],\n",
       " '10.1016/j.ecoenv.2014.09.024': ['pollution environmental'],\n",
       " '10.1016/J.TCA.2018.11.004': ['photonic', 'fibers glass'],\n",
       " '10.1016/J.CEJ.2021.128856': ['catalysts ethanol', 'biogas biomass'],\n",
       " '10.1080/01459740490448911': ['sexual abuse'],\n",
       " '10.36487/ACG_REP/1063_38_YUAN': ['tailings'],\n",
       " '10.1016/J.INTERMET.2013.02.001': ['tial intermetallic', 'steel alloys'],\n",
       " '10.2172/5524606': ['porous ceramics', 'polymers composites'],\n",
       " '10.1016/j.ijpsycho.2011.05.003': ['psychiatric disorders'],\n",
       " '10.1007/S10409-009-0287-X': ['articular cartilage'],\n",
       " '10.3323/JCORR1974.34.6_331': ['austenitic alloys', 'chromium carbide'],\n",
       " '10.1177/1056789520904119': ['materials phenomenon'],\n",
       " '10.1007/s00244-014-0074-y': [],\n",
       " '10.1016/0890-6955(94)00121-Y': ['strength hardness'],\n",
       " '10.4334/JKCI.2003.15.4.606': ['steel bridge', 'erosion corrosion', 'cement'],\n",
       " '10.1016/j.cej.2020.126402': ['electrochemical', 'optoelectronic technology'],\n",
       " '10.1002/adfm.201503344': ['infrared'],\n",
       " '10.3390/ijerph17082924': ['chronic fatigue', 'healthcare systems'],\n",
       " '10.1109/FUSION.1991.218895': ['nuclear reactor', 'magnetic properties'],\n",
       " '10.1016/J.ENERGY.2018.11.109': ['cement', 'thermal condition'],\n",
       " '10.1115/1.2911348': [],\n",
       " '10.36648/1307-234X.21.15.97': ['phytoplankton', 'river hydrological'],\n",
       " '10.1039/c4sm01530d': ['nanomaterials', 'protein interactions'],\n",
       " '10.1068/d050151': [],\n",
       " '10.1007/978-3-319-61630-8_25': ['river hydrological'],\n",
       " '10.1016/J.ATMOSENV.2009.04.014': ['biogas biomass', 'carbon fuel'],\n",
       " '10.1002/HIPO.10140': ['retrograde amnesia'],\n",
       " '10.7843/KGS.2013.29.2.5': ['soil', 'thermal condition'],\n",
       " '10.1007/S11205-017-1727-9': ['health'],\n",
       " '10.1177/0255761405052404': ['musicality', 'music education'],\n",
       " '10.1007/S40940-017-0042-9': ['fibers glass', 'polymers composites'],\n",
       " '10.1051/MATECCONF/201817204004': ['superalloys', 'difficult machine'],\n",
       " '10.1186/1472-6920-10-8': ['psychiatric disorders', 'students clinical'],\n",
       " '10.1007/s11269-015-1091-y': [],\n",
       " '10.1109/PES.2010.5589758': ['wind turbine', 'energy source'],\n",
       " '10.1016/j.still.2019.104447': ['biogas biomass',\n",
       "  'agricultural activities',\n",
       "  'sugarcane important'],\n",
       " '10.1016/j.jhydrol.2020.125687': [],\n",
       " '10.31471/1993-9981-2019-2(43)-32-40': ['crops greenhouses'],\n",
       " '10.1016/B0-08-043076-7/03801-8': ['psychiatric disorders',\n",
       "  'motivation',\n",
       "  'emotion'],\n",
       " '10.1109/CDC.2008.4738884': ['electrochemical', 'polymers composites'],\n",
       " '10.1080/14680770903068233': ['social interaction', 'genetic'],\n",
       " '10.1002/JBM.A.20133': ['biomedical implant', 'synthetic materials'],\n",
       " '10.1515/IP.2007.012': ['pragmatic language'],\n",
       " '10.1016/j.jiec.2020.07.037': ['desulfurization', 'pollution environmental'],\n",
       " '10.1007/BF01611022': ['pollution environmental'],\n",
       " '10.1016/B978-0-444-89397-0.50019-1': ['photonic', 'polymers composites'],\n",
       " '10.1007/s00128-016-1783-x': ['drainage systems',\n",
       "  'rainfall runoff',\n",
       "  'agricultural activities'],\n",
       " '10.1109/TDEI.2014.004521': [],\n",
       " '10.1177/2165143418756609': ['individuals disabilities',\n",
       "  'cognitive psychology'],\n",
       " '10.15581/004.12.%P': ['educators',\n",
       "  'associated burnout',\n",
       "  'cognitive psychology'],\n",
       " '10.3724/SP.J.1226.2017.00273': ['soil', 'frost accumulates'],\n",
       " '10.1007/978-1-4020-9557-3_17': [],\n",
       " '10.15175/1984-2503-201911208': ['criminological'],\n",
       " '10.15244/pjoes/112061': ['carbon fuel', 'indoor environ'],\n",
       " '10.1109/LGRS.2019.2895805': ['forest ecosystems'],\n",
       " '10.1007/s00894-018-3660-5': ['polymers composites'],\n",
       " '10.1016/J.MATTOD.2015.06.001': ['photodetectors'],\n",
       " '10.1002/er.5707': ['energy source'],\n",
       " '10.1002/aenm.202003455': ['compound cathode', 'sodium occupancy'],\n",
       " '10.1080/00223980.2016.1241738': ['aggression', 'behavior'],\n",
       " '10.1016/j.pharmthera.2008.10.009': ['nanomaterials', 'materials phenomenon'],\n",
       " '10.1021/acsnano.9b06618': ['evapotranspiration', 'droplet collision'],\n",
       " '10.1016/J.ACTAMAT.2019.04.009': ['grain boundaries', 'polymers composites'],\n",
       " '10.1080/13502930701321477': ['educators', 'ethical'],\n",
       " '10.1016/J.ATMOSENV.2015.11.054': ['carbon fuel'],\n",
       " '10.1177/1750698010374287': [],\n",
       " '10.2495/SC150091': [],\n",
       " '10.1007/978-1-4020-3286-8_48': ['materials phenomenon'],\n",
       " '10.1177/026988110201600116': ['psychiatric disorders', 'serotonin'],\n",
       " '10.1117/12.2045111': ['structural health'],\n",
       " '10.1002/adma.201803588': ['electrochemical', 'graphene'],\n",
       " '10.1016/J.STILL.2021.105015': ['soil', 'potassium'],\n",
       " '10.2991/icsd-16.2017.6': ['membrane bioreactor', 'rainfall runoff'],\n",
       " '10.1007/978-94-017-2079-3_24': ['philosophical', 'emotion'],\n",
       " '10.2304/plat.2008.7.1.46': ['cognitive psychology'],\n",
       " '10.1016/j.jvb.2019.103365': ['career development'],\n",
       " '10.1046/J.1365-2788.1997.04444.X': ['individuals disabilities',\n",
       "  'psychiatric disorders'],\n",
       " '10.31234/osf.io/9c7df': ['bilingualism', 'cognitive psychology'],\n",
       " '10.1016/j.ejphar.2016.04.015': ['discipline control',\n",
       "  'attention deficit',\n",
       "  'psychiatric disorders'],\n",
       " '10.3109/01612840.2016.1147625': ['psychiatric disorders'],\n",
       " '10.2351/1.2080547': ['porous ceramics'],\n",
       " '10.1051/METAL/2015028': ['steel alloys'],\n",
       " '10.1007/978-3-030-25016-4_14': ['pollution environmental',\n",
       "  'cultural diversity'],\n",
       " '10.1016/S0033-3182(97)71405-1': ['dysmorphic disorder'],\n",
       " '10.13031/2013.17751': [],\n",
       " '10.1016/J.MSEB.2003.10.009': ['nanomaterials', 'polymers composites'],\n",
       " '10.1111/j.1529-8817.2003.00741.x': ['genus eucalyptus', 'forest ecosystems'],\n",
       " '10.1109/IRPS.2009.5173311': ['thermal expansion', 'integrated circuits'],\n",
       " '10.1002/CELC.201500114': ['compound cathode'],\n",
       " '10.37597/ajphes.2021.27.2.9': ['africa society', 'south african'],\n",
       " '10.1080/01431161.2016.1259683': ['forest ecosystems'],\n",
       " '10.1007/978-3-319-39949-2_35': ['people alzheimer', 'digital technology'],\n",
       " '10.1177/1534650103256277': ['psychiatric disorders', 'psychotherapy'],\n",
       " '10.1016/J.CIRP.2015.04.009': [],\n",
       " '10.1177/03611981211020008': ['road safety', 'rainfall runoff'],\n",
       " '10.1007/s13202-019-0702-1': [],\n",
       " '10.1002/HYP.6955': ['rainfall runoff', 'river hydrological'],\n",
       " '10.1016/j.jalz.2006.05.1713': ['amyloid', 'people alzheimer'],\n",
       " '10.1177/105256298801300404': ['curriculum diverse',\n",
       "  'organizational behavior'],\n",
       " '10.3138/JCFS.7.1.87': ['behavior children'],\n",
       " '10.1111/j.1467-9280.2009.02298.x': ['people alzheimer'],\n",
       " '10.22037/BHL.V1I3.18067': ['reproductive techniques'],\n",
       " '10.1177/0957650920939344': ['erosion corrosion', 'cavitation'],\n",
       " '10.1016/j.envpol.2012.01.046': ['soil'],\n",
       " '10.1002/ppsc.202100079': ['nanomaterials'],\n",
       " '10.4028/www.scientific.net/AMM.813-814.218': ['tribological',\n",
       "  'polymers composites'],\n",
       " '10.1016/J.JCRIMJUS.2014.12.005': ['discipline control', 'criminology'],\n",
       " '10.1017/S0140525X00007366': ['hemispheric', 'cognitive psychology'],\n",
       " '10.1007/978-3-030-26342-3_12': ['tertiary education'],\n",
       " '10.1016/J.MOLLIQ.2021.117845': [],\n",
       " '10.1038/nature07080': ['thermal expansion', 'thermal condition'],\n",
       " '10.1016/j.electacta.2020.137565': ['photocatalytic'],\n",
       " '10.1080/09506608.2020.1801229': ['nuclear reactor', 'salt nuclear'],\n",
       " '10.1177/1078390307310154': ['adolescents child'],\n",
       " '10.1038/s41562-020-0856-3': ['cognitive psychology'],\n",
       " '10.1016/S1053-8119(00)91352-1': ['hippocampal'],\n",
       " '10.1177/0957154X0201304901': ['psychiatric disorders'],\n",
       " '10.1109/ICHVE49031.2020.9279889': ['dielectric capacitors', 'energy source'],\n",
       " '10.1007/s11666-012-9858-7': ['carbon fuel'],\n",
       " '10.1080/10376178.2019.1673668': [],\n",
       " '10.47408/jldhe.v0i15.502': [],\n",
       " '10.1016/J.MATCHEMPHYS.2021.124357': ['materials phenomenon',\n",
       "  'ferromagnetic'],\n",
       " ...}"
      ]
     },
     "execution_count": 103,
     "metadata": {},
     "output_type": "execute_result"
    }
   ],
   "source": [
    "hierarchical_tagger.processed_document_terms"
   ]
  },
  {
   "cell_type": "code",
   "execution_count": 121,
   "id": "e02cd0bb",
   "metadata": {},
   "outputs": [],
   "source": [
    "#hierarchical_tagger.filtered_terms"
   ]
  },
  {
   "cell_type": "code",
   "execution_count": 642,
   "id": "e7102724",
   "metadata": {},
   "outputs": [],
   "source": [
    "# processed_topics = list(set(flatten([t for t in hierarchical_tagger.processed_document_terms.values()])))\n",
    "#Apparently these are not the topics that end up in the tree\n",
    "tree_dict = hierarchical_tagger.tree.to_dict()\n",
    "j = hierarchical_tagger.tree.to_json()"
   ]
  },
  {
   "cell_type": "code",
   "execution_count": 643,
   "id": "0a39cada",
   "metadata": {},
   "outputs": [],
   "source": [
    "import json\n",
    "with open('downloads/matscitree.json', 'w') as f:\n",
    "    json.dump(json.dumps(tree_dict), f)"
   ]
  },
  {
   "cell_type": "code",
   "execution_count": 644,
   "id": "9f333689",
   "metadata": {},
   "outputs": [
    {
     "data": {
      "application/json": {
       "materials": {
        "children": [
         {
          "acoustic": {
           "children": [
            "auditory",
            "music education"
           ]
          }
         },
         {
          "biomass": {
           "children": [
            {
             "energy source": {
              "children": [
               {
                "fuels": {
                 "children": [
                  {
                   "biomass fuels": {
                    "children": [
                     {
                      "biogas biomass": {
                       "children": [
                        "based biomass",
                        {
                         "biodegradability": {
                          "children": [
                           "biofuel"
                          ]
                         }
                        }
                       ]
                      }
                     },
                     {
                      "fossil fuel": {
                       "children": [
                        "combustion engines",
                        "diesel engine"
                       ]
                      }
                     }
                    ]
                   }
                  },
                  {
                   "coal gasification": {
                    "children": [
                     "coal production",
                     "gasification systems",
                     "natural resource"
                    ]
                   }
                  },
                  {
                   "environmental issue": {
                    "children": [
                     {
                      "aerosol": {
                       "children": [
                        {
                         "haze": {
                          "children": [
                           "near infrared"
                          ]
                         }
                        },
                        "ozone"
                       ]
                      }
                     },
                     {
                      "carbon": {
                       "children": [
                        "carbon sink",
                        {
                         "organic carbon": {
                          "children": [
                           {
                            "greenhouse gases": {
                             "children": [
                              "global carbon"
                             ]
                            }
                           },
                           "terrestrial carbon"
                          ]
                         }
                        }
                       ]
                      }
                     },
                     {
                      "environmental pollution": {
                       "children": [
                        {
                         "emission": {
                          "children": [
                           "emissions necessary"
                          ]
                         }
                        },
                        "environmental hazards",
                        "worldwide environmental"
                       ]
                      }
                     },
                     {
                      "sustainable development": {
                       "children": [
                        "sustainability"
                       ]
                      }
                     },
                     "world climate"
                    ]
                   }
                  },
                  {
                   "hydrogen generation": {
                    "children": [
                     {
                      "catalysts based": {
                       "children": [
                        "significance catalysis"
                       ]
                      }
                     }
                    ]
                   }
                  }
                 ]
                }
               },
               {
                "liquids": {
                 "children": [
                  {
                   "hydrocarbons": {
                    "children": [
                     "ethanol represents",
                     "hydrogels"
                    ]
                   }
                  },
                  {
                   "industrial processes": {
                    "children": [
                     {
                      "distillation": {
                       "children": [
                        "desalination",
                        "separation processes"
                       ]
                      }
                     },
                     "industrial application",
                     {
                      "sludge": {
                       "children": [
                        "disposal landfill"
                       ]
                      }
                     }
                    ]
                   }
                  }
                 ]
                }
               },
               {
                "nuclear reactor": {
                 "children": [
                  "electrical failure",
                  "high neutron",
                  "reactors"
                 ]
                }
               },
               {
                "solar energy": {
                 "children": [
                  {
                   "renewable electricity": {
                    "children": [
                     "energy consumption",
                     "energy storage",
                     {
                      "renewable": {
                       "children": [
                        "development renewable"
                       ]
                      }
                     }
                    ]
                   }
                  },
                  {
                   "solar cell": {
                    "children": [
                     "heterojunction solar",
                     "photovoltaic"
                    ]
                   }
                  },
                  {
                   "thermal properties": {
                    "children": [
                     {
                      "geotechnical": {
                       "children": [
                        "geothermal"
                       ]
                      }
                     },
                     "high temperature",
                     "refrigeration systems",
                     "thermal",
                     "thermal insulation",
                     "thermal stability",
                     {
                      "thermoplastic": {
                       "children": [
                        "thermoelectric"
                       ]
                      }
                     }
                    ]
                   }
                  },
                  "wind power"
                 ]
                }
               }
              ]
             }
            },
            {
             "hydrological ecological": {
              "children": [
               "alpine areas",
               {
                "catchments runoff": {
                 "children": [
                  {
                   "drought": {
                    "children": [
                     "heavy precipitation",
                     "tropical cyclones"
                    ]
                   }
                  },
                  {
                   "wastewater": {
                    "children": [
                     "hydroelectric",
                     "hydrologic data",
                     "osmosis",
                     "runoff surface",
                     {
                      "wastewater treatment": {
                       "children": [
                        "area groundwater"
                       ]
                      }
                     },
                     "watershed scale"
                    ]
                   }
                  }
                 ]
                }
               },
               {
                "ecosystem": {
                 "children": [
                  {
                   "coastal ecosystem": {
                    "children": [
                     "fisheries management"
                    ]
                   }
                  },
                  {
                   "forest ecosystems": {
                    "children": [
                     "aquatic ecosystems",
                     {
                      "forest": {
                       "children": [
                        "deforestation"
                       ]
                      }
                     },
                     "phytoplankton"
                    ]
                   }
                  }
                 ]
                }
               },
               {
                "organic soils": {
                 "children": [
                  {
                   "agricultural products": {
                    "children": [
                     {
                      "crops": {
                       "children": [
                        "crop production"
                       ]
                      }
                     },
                     {
                      "foods important": {
                       "children": [
                        "food products",
                        "food security"
                       ]
                      }
                     }
                    ]
                   }
                  },
                  "organic inorganic",
                  {
                   "phosphorus nitrogen": {
                    "children": [
                     {
                      "nitrogen": {
                       "children": [
                        "carbon nutrient"
                       ]
                      }
                     },
                     "phosphate based"
                    ]
                   }
                  },
                  {
                   "soil soil": {
                    "children": [
                     "fertilizer",
                     "soil behavior",
                     "soil data"
                    ]
                   }
                  }
                 ]
                }
               }
              ]
             }
            },
            {
             "scientific research": {
              "children": [
               "nondestructive evaluation",
               "research",
               "spectrometry",
               {
                "tribological": {
                 "children": [
                  "mathematics"
                 ]
                }
               }
              ]
             }
            }
           ]
          }
         },
         "droplet",
         {
          "materials electronic": {
           "children": [
            {
             "amorphous": {
              "children": [
               {
                "crystallization behavior": {
                 "children": [
                  "crystal growth",
                  {
                   "multiferroic": {
                    "children": [
                     "tial intermetallic"
                    ]
                   }
                  },
                  "superconductors"
                 ]
                }
               },
               {
                "surface plasmon": {
                 "children": [
                  "perovskite based",
                  "phthalocyanines main",
                  "plasmon resonance"
                 ]
                }
               }
              ]
             }
            },
            "cathode material",
            {
             "cavitation": {
              "children": [
               "plasma"
              ]
             }
            },
            {
             "composite materials": {
              "children": [
               {
                "alloys": {
                 "children": [
                  "ceramic",
                  "lithography",
                  {
                   "materials science": {
                    "children": [
                     "properties materials"
                    ]
                   }
                  },
                  {
                   "stainless steel": {
                    "children": [
                     {
                      "strength steel": {
                       "children": [
                        "welded metal"
                       ]
                      }
                     }
                    ]
                   }
                  },
                  "transition metal"
                 ]
                }
               },
               {
                "concrete": {
                 "children": [
                  "asphalt",
                  {
                   "cement based": {
                    "children": [
                     "cement composites"
                    ]
                   }
                  },
                  "concrete structures",
                  "construction material"
                 ]
                }
               },
               {
                "polymer composites": {
                 "children": [
                  "composite",
                  "fibre reinforced",
                  {
                   "glass fiber": {
                    "children": [
                     {
                      "fiber": {
                       "children": [
                        "carbon fiber",
                        "fiber laser"
                       ]
                      }
                     },
                     "glassy polymers"
                    ]
                   }
                  },
                  {
                   "plastic products": {
                    "children": [
                     "foam materials",
                     "various biomaterials"
                    ]
                   }
                  },
                  "polymer based"
                 ]
                }
               },
               {
                "porous materials": {
                 "children": [
                  "flexible",
                  "membrane",
                  "transparent materials"
                 ]
                }
               }
              ]
             }
            },
            {
             "corrosion": {
              "children": [
               "deterioration quality",
               {
                "mechanical behavior": {
                 "children": [
                  "friction"
                 ]
                }
               },
               {
                "vapor deposition": {
                 "children": [
                  "layer deposition",
                  {
                   "surface treatment": {
                    "children": [
                     "surface salinity"
                    ]
                   }
                  }
                 ]
                }
               }
              ]
             }
            },
            {
             "dielectric": {
              "children": [
               {
                "advanced semiconductor": {
                 "children": [
                  "flexible electronics"
                 ]
                }
               },
               "anode material",
               "optoelectronic technology"
              ]
             }
            },
            {
             "electrical insulators": {
              "children": [
               "capacitors",
               "insulators"
              ]
             }
            },
            {
             "electrochemical": {
              "children": [
               "electrode materials",
               {
                "oxides materials": {
                 "children": [
                  "zinc oxide"
                 ]
                }
               }
              ]
             }
            },
            {
             "magnetic properties": {
              "children": [
               "ferroelectric",
               {
                "magnetoresistance": {
                 "children": [
                  "magnetoelectric"
                 ]
                }
               }
              ]
             }
            },
            {
             "material lithium": {
              "children": [
               {
                "boron nitride": {
                 "children": [
                  "boron",
                  "niobium niobium",
                  {
                   "rare earth": {
                    "children": [
                     "chromium"
                    ]
                   }
                  },
                  "zirconia"
                 ]
                }
               },
               {
                "fe2o3 remarkable": {
                 "children": [
                  "ferrite"
                 ]
                }
               },
               "graphene",
               {
                "lithium batteries": {
                 "children": [
                  "batteries libs",
                  "lithium titanate"
                 ]
                }
               },
               {
                "titanium dioxide": {
                 "children": [
                  {
                   "silicon": {
                    "children": [
                     "silica"
                    ]
                   }
                  }
                 ]
                }
               }
              ]
             }
            },
            {
             "nanotube": {
              "children": [
               {
                "microelectromechanical": {
                 "children": [
                  "nano microscale"
                 ]
                }
               },
               "microfluid",
               "nanocomposites",
               {
                "nanoparticle": {
                 "children": [
                  "nanoscience nanotechnology",
                  "nanostructures"
                 ]
                }
               }
              ]
             }
            },
            {
             "photocatalytic": {
              "children": [
               "photodetectors",
               {
                "photonic": {
                 "children": [
                  {
                   "laser": {
                    "children": [
                     "laser diodes",
                     "laser pulses"
                    ]
                   }
                  },
                  {
                   "microscopy": {
                    "children": [
                     "luminescent",
                     "microscope"
                    ]
                   }
                  },
                  "optical devices"
                 ]
                }
               }
              ]
             }
            },
            "silicon carbide",
            {
             "technological": {
              "children": [
               "aerospace industry",
               {
                "communication technologies": {
                 "children": [
                  "information systems",
                  "interconnect"
                 ]
                }
               },
               "difficult machine",
               "wearable devices"
              ]
             }
            }
           ]
          }
         },
         {
          "mental disorder": {
           "children": [
            {
             "anxiety patients": {
              "children": [
               "anxiety",
               "social anxiety"
              ]
             }
            },
            {
             "aphasia": {
              "children": [
               "apnea"
              ]
             }
            },
            {
             "cognitive impairment": {
              "children": [
               "adhd",
               {
                "cognitive": {
                 "children": [
                  "mild cognitive"
                 ]
                }
               },
               {
                "conditions alzheimer": {
                 "children": [
                  {
                   "neurological disorder": {
                    "children": [
                     {
                      "nonmotor symptoms": {
                       "children": [
                        "motor impairments"
                       ]
                      }
                     }
                    ]
                   }
                  },
                  "parkinson disease"
                 ]
                }
               },
               "disability",
               "dystonia"
              ]
             }
            },
            {
             "cortical": {
              "children": [
               "hippocampal"
              ]
             }
            },
            {
             "depressive illness": {
              "children": [
               "major depressive"
              ]
             }
            },
            {
             "disorder": {
              "children": [
               "affective disorder"
              ]
             }
            },
            {
             "drug addiction": {
              "children": [
               "addiction",
               "nicotine"
              ]
             }
            },
            {
             "health problem": {
              "children": [
               {
                "cardiovascular disease": {
                 "children": [
                  {
                   "diabetes mellitus": {
                    "children": [
                     "adults diabetes",
                     "immunodeficiency syndrome"
                    ]
                   }
                  },
                  "heart disease"
                 ]
                }
               },
               {
                "mental healthcare": {
                 "children": [
                  {
                   "fatigue": {
                    "children": [
                     "obesity"
                    ]
                   }
                  },
                  "physical activity",
                  {
                   "public health": {
                    "children": [
                     "human health"
                    ]
                   }
                  }
                 ]
                }
               }
              ]
             }
            },
            {
             "journalism": {
              "children": [
               "niqab"
              ]
             }
            },
            {
             "obsessive compulsive": {
              "children": [
               {
                "drowsiness": {
                 "children": [
                  "insomnia disorder"
                 ]
                }
               }
              ]
             }
            },
            {
             "psychological distress": {
              "children": [
               {
                "emotion regulation": {
                 "children": [
                  "psychology",
                  "responses emotional"
                 ]
                }
               }
              ]
             }
            },
            {
             "schizophrenia illness": {
              "children": [
               "psychiatry"
              ]
             }
            },
            {
             "social problem": {
              "children": [
               {
                "criminal behaviour": {
                 "children": [
                  {
                   "violence": {
                    "children": [
                     "crime"
                    ]
                   }
                  },
                  "women incarcerated"
                 ]
                }
               },
               {
                "educational researchers": {
                 "children": [
                  {
                   "adolescents child": {
                    "children": [
                     {
                      "adolescent": {
                       "children": [
                        "youth"
                       ]
                      }
                     },
                     "child development",
                     "child protection"
                    ]
                   }
                  },
                  {
                   "education teacher": {
                    "children": [
                     {
                      "education issue": {
                       "children": [
                        "problems educational"
                       ]
                      }
                     }
                    ]
                   }
                  },
                  {
                   "entrepreneurship": {
                    "children": [
                     "career development",
                     "tourism experience"
                    ]
                   }
                  },
                  {
                   "higher education": {
                    "children": [
                     "community colleges"
                    ]
                   }
                  },
                  "medical student"
                 ]
                }
               },
               {
                "ethical issues": {
                 "children": [
                  "ethical decision",
                  "study neoliberalism"
                 ]
                }
               },
               {
                "gender role": {
                 "children": [
                  "gender effect",
                  "incontinence",
                  "masculinity"
                 ]
                }
               },
               {
                "global problems": {
                 "children": [
                  "health global",
                  "problems countries"
                 ]
                }
               },
               "negative effects",
               {
                "older people": {
                 "children": [
                  {
                   "intergenerational": {
                    "children": [
                     "epitaxial growth",
                     "genetic"
                    ]
                   }
                  }
                 ]
                }
               },
               {
                "phenomenon multilingualism": {
                 "children": [
                  {
                   "behavior": {
                    "children": [
                     {
                      "organizational behavior": {
                       "children": [
                        "behavioral traits",
                        "leadership"
                       ]
                      }
                     },
                     {
                      "theory mind": {
                       "children": [
                        {
                         "human perceptual": {
                          "children": [
                           "emotional intelligence",
                           "mindfulness"
                          ]
                         }
                        }
                       ]
                      }
                     }
                    ]
                   }
                  },
                  {
                   "intercultural relations": {
                    "children": [
                     {
                      "cultural diversity": {
                       "children": [
                        "citizenship",
                        "radicalism phenomenon"
                       ]
                      }
                     },
                     {
                      "relationship": {
                       "children": [
                        "mediated communication",
                        "partnership"
                       ]
                      }
                     }
                    ]
                   }
                  },
                  {
                   "language impairment": {
                    "children": [
                     {
                      "language disorder": {
                       "children": [
                        {
                         "second language": {
                          "children": [
                           "bilingual",
                           "foreign language"
                          ]
                         }
                        }
                       ]
                      }
                     }
                    ]
                   }
                  }
                 ]
                }
               },
               {
                "religious": {
                 "children": [
                  "self esteem"
                 ]
                }
               },
               {
                "social isolation": {
                 "children": [
                  {
                   "antisocial personality": {
                    "children": [
                     "antisocial"
                    ]
                   }
                  },
                  "stigma"
                 ]
                }
               },
               "social justice",
               "socioeconomic status",
               {
                "urban areas": {
                 "children": [
                  "traffic accidents"
                 ]
                }
               }
              ]
             }
            }
           ]
          }
         },
         {
          "science bionic": {
           "children": [
            {
             "microbial": {
              "children": [
               {
                "antibiotic": {
                 "children": [
                  "bacterial infection"
                 ]
                }
               },
               {
                "biological tissue": {
                 "children": [
                  "biotechnologies"
                 ]
                }
               }
              ]
             }
            },
            {
             "prostheses": {
              "children": [
               {
                "epoxy": {
                 "children": [
                  "biomedical implant"
                 ]
                }
               }
              ]
             }
            }
           ]
          }
         }
        ]
       }
      },
      "text/plain": [
       "<IPython.core.display.JSON object>"
      ]
     },
     "execution_count": 644,
     "metadata": {
      "application/json": {
       "expanded": false,
       "root": "root"
      }
     },
     "output_type": "execute_result"
    }
   ],
   "source": [
    "JSON(tree_dict)"
   ]
  },
  {
   "cell_type": "code",
   "execution_count": 645,
   "id": "f593e790",
   "metadata": {},
   "outputs": [],
   "source": [
    "def traverse_tree(tree, memory=[]):\n",
    "    for k, v in tree.items():\n",
    "        memory += [k]\n",
    "        children=v.get(\"children\")\n",
    "        if children:\n",
    "            for c in children:\n",
    "                if isinstance(c, dict):\n",
    "                    traverse_tree(c, memory)\n",
    "                else:\n",
    "                    memory += [c]\n",
    "    return memory\n",
    "            \n",
    "        "
   ]
  },
  {
   "cell_type": "code",
   "execution_count": 651,
   "id": "4cd839cf",
   "metadata": {},
   "outputs": [
    {
     "data": {
      "text/plain": [
       "357"
      ]
     },
     "execution_count": 651,
     "metadata": {},
     "output_type": "execute_result"
    }
   ],
   "source": [
    "tree_topics = traverse_tree(tree_dict, [])\n",
    "len(tree_topics)"
   ]
  },
  {
   "cell_type": "code",
   "execution_count": 652,
   "id": "962fe3b6",
   "metadata": {},
   "outputs": [
    {
     "data": {
      "text/plain": [
       "357"
      ]
     },
     "execution_count": 652,
     "metadata": {},
     "output_type": "execute_result"
    }
   ],
   "source": [
    "len(list(set(tree_topics)))"
   ]
  },
  {
   "cell_type": "code",
   "execution_count": 654,
   "id": "335885c9",
   "metadata": {},
   "outputs": [
    {
     "data": {
      "text/plain": [
       "False"
      ]
     },
     "execution_count": 654,
     "metadata": {},
     "output_type": "execute_result"
    }
   ],
   "source": [
    "\"arctic tundra\" in tree_topics"
   ]
  },
  {
   "cell_type": "code",
   "execution_count": 270,
   "id": "29ed1741",
   "metadata": {},
   "outputs": [],
   "source": [
    "with open(\"downloads/loc_topics.json\") as f:\n",
    "    loc = json.loads(f.read())\n",
    "    #print(data['data'][0])"
   ]
  },
  {
   "cell_type": "code",
   "execution_count": 403,
   "id": "5d0287d6",
   "metadata": {},
   "outputs": [],
   "source": [
    "def recursive_items(dictionary, parent_key):\n",
    "    for key, value in dictionary.items():\n",
    "        if type(value) is dict:\n",
    "#             yield (key, value)\n",
    "            yield from recursive_items(value, key)\n",
    "        else:\n",
    "            yield (parent_key, value)"
   ]
  },
  {
   "cell_type": "code",
   "execution_count": 411,
   "id": "f5bc205d",
   "metadata": {},
   "outputs": [],
   "source": [
    "r = recursive_items(loc, \"\")"
   ]
  },
  {
   "cell_type": "code",
   "execution_count": 412,
   "id": "8c65c2e3",
   "metadata": {},
   "outputs": [],
   "source": [
    "loc_flat = dict(r)"
   ]
  },
  {
   "cell_type": "code",
   "execution_count": null,
   "id": "14c40f10",
   "metadata": {},
   "outputs": [],
   "source": []
  },
  {
   "cell_type": "markdown",
   "id": "0a365831",
   "metadata": {},
   "source": [
    "### Topics < > LOC merge trial"
   ]
  },
  {
   "cell_type": "code",
   "execution_count": 413,
   "id": "410e77af",
   "metadata": {},
   "outputs": [],
   "source": [
    "loc_topics = list(loc_flat.values())"
   ]
  },
  {
   "cell_type": "code",
   "execution_count": 414,
   "id": "1b03153e",
   "metadata": {},
   "outputs": [
    {
     "name": "stdout",
     "output_type": "stream",
     "text": [
      "Encode the corpus of 6525... get a coffee in the meantime\n"
     ]
    },
    {
     "data": {
      "application/vnd.jupyter.widget-view+json": {
       "model_id": "83047c3384384a4982a1690bb4222e94",
       "version_major": 2,
       "version_minor": 0
      },
      "text/plain": [
       "Batches:   0%|          | 0/102 [00:00<?, ?it/s]"
      ]
     },
     "metadata": {},
     "output_type": "display_data"
    }
   ],
   "source": [
    "\n",
    "import time\n",
    "start_time = time.time()\n",
    "\n",
    "print(\"Encode the corpus of {}... get a coffee in the meantime\".format(len(loc_topics)))\n",
    "model = SentenceTransformer('sentence-transformers/all-mpnet-base-v2')\n",
    "loc_embs = model.encode(loc_topics, batch_size=64, show_progress_bar=True, convert_to_tensor=True)"
   ]
  },
  {
   "cell_type": "code",
   "execution_count": 135,
   "id": "6f13bc40",
   "metadata": {},
   "outputs": [
    {
     "name": "stdout",
     "output_type": "stream",
     "text": [
      "Encode the corpus of 694... get a coffee in the meantime\n"
     ]
    },
    {
     "data": {
      "application/vnd.jupyter.widget-view+json": {
       "model_id": "8dc2ecde9cf6431ab08487039db93f32",
       "version_major": 2,
       "version_minor": 0
      },
      "text/plain": [
       "Batches:   0%|          | 0/11 [00:00<?, ?it/s]"
      ]
     },
     "metadata": {},
     "output_type": "display_data"
    }
   ],
   "source": [
    "import time\n",
    "start_time = time.time()\n",
    "\n",
    "print(\"Encode the corpus of {}... get a coffee in the meantime\".format(len(tree_topics)))\n",
    "model = SentenceTransformer('sentence-transformers/all-mpnet-base-v2')\n",
    "embeddings = model.encode(tree_topics, batch_size=64, show_progress_bar=True, convert_to_tensor=True)"
   ]
  },
  {
   "cell_type": "code",
   "execution_count": 136,
   "id": "15dd194f",
   "metadata": {
    "collapsed": true,
    "jupyter": {
     "outputs_hidden": true
    }
   },
   "outputs": [
    {
     "name": "stdout",
     "output_type": "stream",
     "text": [
      "Collecting faiss-cpu\n",
      "  Downloading faiss_cpu-1.7.2-cp36-cp36m-manylinux_2_17_x86_64.manylinux2014_x86_64.whl (8.6 MB)\n",
      "     |████████████████████████████████| 8.6 MB 17.2 MB/s            \n",
      "\u001b[?25hInstalling collected packages: faiss-cpu\n",
      "Successfully installed faiss-cpu-1.7.2\n"
     ]
    }
   ],
   "source": [
    "!pip install faiss-cpu"
   ]
  },
  {
   "cell_type": "code",
   "execution_count": 439,
   "id": "aa29340e",
   "metadata": {},
   "outputs": [],
   "source": [
    "import numpy as np\n",
    "import faiss\n",
    "\n",
    "# d = emb.shape[1]\n",
    "# emb.shape, len(df)\n",
    "# #np.array(df[\"emb\"][1])[:].shape\n",
    "# x = [list(e) for e in emb ]\n",
    "# #df[\"emb\"] = x\n",
    "\n",
    "\n",
    "def create_index(vectors):\n",
    "    vectors = vectors.cpu()\n",
    "    vectors = vectors.numpy()\n",
    "    faiss_index = faiss.IndexFlatL2(len(vectors[0]))\n",
    "    faiss_index.add(vectors)\n",
    "\n",
    "#     print(faiss_index.ntotal)\n",
    "\n",
    "    return faiss_index\n",
    "\n",
    "#export\n",
    "def query_index(text, embedder, target_list, index, with_distance=False, k=10):\n",
    "    embedding = embedder.encode([text])\n",
    "    distances, indices = index.search(embedding, k)\n",
    "    \n",
    "    if with_distance:\n",
    "        #I have no clue why this is double\n",
    "        q = list(set([(target_list[index], distances[0][i]) for i, index in enumerate(indices[0])]))\n",
    "        q.sort(key=lambda x: x[1])\n",
    "        return q\n",
    "    \n",
    "    return list(set([target_list[i] for i in indices[0]]))\n"
   ]
  },
  {
   "cell_type": "code",
   "execution_count": 416,
   "id": "a9ffe3a9",
   "metadata": {},
   "outputs": [],
   "source": [
    "# hierarchical_tagger.processed_document_terms"
   ]
  },
  {
   "cell_type": "code",
   "execution_count": 418,
   "id": "3fb80fff",
   "metadata": {},
   "outputs": [],
   "source": [
    "index = create_index(embeddings)"
   ]
  },
  {
   "cell_type": "code",
   "execution_count": 419,
   "id": "d2f1c2de",
   "metadata": {},
   "outputs": [],
   "source": [
    "loc_index = create_index(loc_embs)"
   ]
  },
  {
   "cell_type": "code",
   "execution_count": 421,
   "id": "ec0dda02",
   "metadata": {},
   "outputs": [],
   "source": [
    "#t = query_index(\"Production management\", model, tree_topics, index, True, 10)\n",
    "#t"
   ]
  },
  {
   "cell_type": "code",
   "execution_count": 460,
   "id": "1b2483b6",
   "metadata": {},
   "outputs": [],
   "source": [
    "hier = hierarchical_tagger.tree.to_dict()"
   ]
  },
  {
   "cell_type": "code",
   "execution_count": 655,
   "id": "88825dc6",
   "metadata": {},
   "outputs": [
    {
     "data": {
      "text/plain": [
       "[('Arctic regions', 0.32165393), ('Arctic and Antarctic regions', 0.5393743)]"
      ]
     },
     "execution_count": 655,
     "metadata": {},
     "output_type": "execute_result"
    }
   ],
   "source": [
    "q = query_index('arctic tundra', model, loc_topics, loc_index, True, 3)\n",
    "q"
   ]
  },
  {
   "cell_type": "code",
   "execution_count": 592,
   "id": "0f0fcf6c",
   "metadata": {},
   "outputs": [],
   "source": [
    "def to_loc(term):\n",
    "    q = query_index(term, model, loc_topics, loc_index, True, 3)\n",
    "    prob = str(q[0][1])[:4]\n",
    "    return \"{}:{} |{}\".format(term, q[0][0], prob)\n",
    "\n",
    "\n",
    "#      if children:\n",
    "#             for c in children:\n",
    "#                 if isinstance(c, dict):\n",
    "#                     v[\"children\"] += traverse_t(c,T,k_new)\n",
    "#                 else:\n",
    "#                     v[\"children\"] += to_loc(c)\n",
    "def traverse_t(tree, T, parent=None):\n",
    "    \"\"\"overwrites and builds a tree where every key is mapped into a new name\"\"\"\n",
    "    tree2 = copy.deepcopy(tree)\n",
    "    for k, v in tree2.items():\n",
    "        k_new = to_loc(k)\n",
    "        tree[k_new] = v\n",
    "        \n",
    "        if parent:\n",
    "            T.create_node(k_new, k_new, parent=parent)\n",
    "        else:\n",
    "            T.create_node(k_new, k_new) #root\n",
    "        del tree[k]\n",
    "        children=v.get(\"children\")\n",
    "        if children:\n",
    "            v[\"children\"] = []\n",
    "            for c in children:\n",
    "                if isinstance(c, dict):\n",
    "                    v[\"children\"] += traverse_t(c,T,k_new)\n",
    "                else:\n",
    "                    leaf = to_loc(c)\n",
    "                    v[\"children\"] += leaf\n",
    "                    T.create_node(leaf, leaf, k_new)\n",
    "    return tree            "
   ]
  },
  {
   "cell_type": "code",
   "execution_count": 656,
   "id": "70230849",
   "metadata": {},
   "outputs": [],
   "source": [
    "from treelib import Tree\n",
    "tree = Tree()\n",
    "\n",
    "hh = copy.deepcopy(tree_dict)\n",
    "ff = traverse_t(hh, tree)"
   ]
  },
  {
   "cell_type": "code",
   "execution_count": 657,
   "id": "e93953b7",
   "metadata": {},
   "outputs": [
    {
     "data": {
      "application/json": {
       "materials": {
        "children": [
         {
          "acoustic": {
           "children": [
            "auditory",
            "music education"
           ]
          }
         },
         {
          "biomass": {
           "children": [
            {
             "energy source": {
              "children": [
               {
                "fuels": {
                 "children": [
                  {
                   "biomass fuels": {
                    "children": [
                     {
                      "biogas biomass": {
                       "children": [
                        "based biomass",
                        {
                         "biodegradability": {
                          "children": [
                           "biofuel"
                          ]
                         }
                        }
                       ]
                      }
                     },
                     {
                      "fossil fuel": {
                       "children": [
                        "combustion engines",
                        "diesel engine"
                       ]
                      }
                     }
                    ]
                   }
                  },
                  {
                   "coal gasification": {
                    "children": [
                     "coal production",
                     "gasification systems",
                     "natural resource"
                    ]
                   }
                  },
                  {
                   "environmental issue": {
                    "children": [
                     {
                      "aerosol": {
                       "children": [
                        {
                         "haze": {
                          "children": [
                           "near infrared"
                          ]
                         }
                        },
                        "ozone"
                       ]
                      }
                     },
                     {
                      "carbon": {
                       "children": [
                        "carbon sink",
                        {
                         "organic carbon": {
                          "children": [
                           {
                            "greenhouse gases": {
                             "children": [
                              "global carbon"
                             ]
                            }
                           },
                           "terrestrial carbon"
                          ]
                         }
                        }
                       ]
                      }
                     },
                     {
                      "environmental pollution": {
                       "children": [
                        {
                         "emission": {
                          "children": [
                           "emissions necessary"
                          ]
                         }
                        },
                        "environmental hazards",
                        "worldwide environmental"
                       ]
                      }
                     },
                     {
                      "sustainable development": {
                       "children": [
                        "sustainability"
                       ]
                      }
                     },
                     "world climate"
                    ]
                   }
                  },
                  {
                   "hydrogen generation": {
                    "children": [
                     {
                      "catalysts based": {
                       "children": [
                        "significance catalysis"
                       ]
                      }
                     }
                    ]
                   }
                  }
                 ]
                }
               },
               {
                "liquids": {
                 "children": [
                  {
                   "hydrocarbons": {
                    "children": [
                     "ethanol represents",
                     "hydrogels"
                    ]
                   }
                  },
                  {
                   "industrial processes": {
                    "children": [
                     {
                      "distillation": {
                       "children": [
                        "desalination",
                        "separation processes"
                       ]
                      }
                     },
                     "industrial application",
                     {
                      "sludge": {
                       "children": [
                        "disposal landfill"
                       ]
                      }
                     }
                    ]
                   }
                  }
                 ]
                }
               },
               {
                "nuclear reactor": {
                 "children": [
                  "electrical failure",
                  "high neutron",
                  "reactors"
                 ]
                }
               },
               {
                "solar energy": {
                 "children": [
                  {
                   "renewable electricity": {
                    "children": [
                     "energy consumption",
                     "energy storage",
                     {
                      "renewable": {
                       "children": [
                        "development renewable"
                       ]
                      }
                     }
                    ]
                   }
                  },
                  {
                   "solar cell": {
                    "children": [
                     "heterojunction solar",
                     "photovoltaic"
                    ]
                   }
                  },
                  {
                   "thermal properties": {
                    "children": [
                     {
                      "geotechnical": {
                       "children": [
                        "geothermal"
                       ]
                      }
                     },
                     "high temperature",
                     "refrigeration systems",
                     "thermal",
                     "thermal insulation",
                     "thermal stability",
                     {
                      "thermoplastic": {
                       "children": [
                        "thermoelectric"
                       ]
                      }
                     }
                    ]
                   }
                  },
                  "wind power"
                 ]
                }
               }
              ]
             }
            },
            {
             "hydrological ecological": {
              "children": [
               "alpine areas",
               {
                "catchments runoff": {
                 "children": [
                  {
                   "drought": {
                    "children": [
                     "heavy precipitation",
                     "tropical cyclones"
                    ]
                   }
                  },
                  {
                   "wastewater": {
                    "children": [
                     "hydroelectric",
                     "hydrologic data",
                     "osmosis",
                     "runoff surface",
                     {
                      "wastewater treatment": {
                       "children": [
                        "area groundwater"
                       ]
                      }
                     },
                     "watershed scale"
                    ]
                   }
                  }
                 ]
                }
               },
               {
                "ecosystem": {
                 "children": [
                  {
                   "coastal ecosystem": {
                    "children": [
                     "fisheries management"
                    ]
                   }
                  },
                  {
                   "forest ecosystems": {
                    "children": [
                     "aquatic ecosystems",
                     {
                      "forest": {
                       "children": [
                        "deforestation"
                       ]
                      }
                     },
                     "phytoplankton"
                    ]
                   }
                  }
                 ]
                }
               },
               {
                "organic soils": {
                 "children": [
                  {
                   "agricultural products": {
                    "children": [
                     {
                      "crops": {
                       "children": [
                        "crop production"
                       ]
                      }
                     },
                     {
                      "foods important": {
                       "children": [
                        "food products",
                        "food security"
                       ]
                      }
                     }
                    ]
                   }
                  },
                  "organic inorganic",
                  {
                   "phosphorus nitrogen": {
                    "children": [
                     {
                      "nitrogen": {
                       "children": [
                        "carbon nutrient"
                       ]
                      }
                     },
                     "phosphate based"
                    ]
                   }
                  },
                  {
                   "soil soil": {
                    "children": [
                     "fertilizer",
                     "soil behavior",
                     "soil data"
                    ]
                   }
                  }
                 ]
                }
               }
              ]
             }
            },
            {
             "scientific research": {
              "children": [
               "nondestructive evaluation",
               "research",
               "spectrometry",
               {
                "tribological": {
                 "children": [
                  "mathematics"
                 ]
                }
               }
              ]
             }
            }
           ]
          }
         },
         "droplet",
         {
          "materials electronic": {
           "children": [
            {
             "amorphous": {
              "children": [
               {
                "crystallization behavior": {
                 "children": [
                  "crystal growth",
                  {
                   "multiferroic": {
                    "children": [
                     "tial intermetallic"
                    ]
                   }
                  },
                  "superconductors"
                 ]
                }
               },
               {
                "surface plasmon": {
                 "children": [
                  "perovskite based",
                  "phthalocyanines main",
                  "plasmon resonance"
                 ]
                }
               }
              ]
             }
            },
            "cathode material",
            {
             "cavitation": {
              "children": [
               "plasma"
              ]
             }
            },
            {
             "composite materials": {
              "children": [
               {
                "alloys": {
                 "children": [
                  "ceramic",
                  "lithography",
                  {
                   "materials science": {
                    "children": [
                     "properties materials"
                    ]
                   }
                  },
                  {
                   "stainless steel": {
                    "children": [
                     {
                      "strength steel": {
                       "children": [
                        "welded metal"
                       ]
                      }
                     }
                    ]
                   }
                  },
                  "transition metal"
                 ]
                }
               },
               {
                "concrete": {
                 "children": [
                  "asphalt",
                  {
                   "cement based": {
                    "children": [
                     "cement composites"
                    ]
                   }
                  },
                  "concrete structures",
                  "construction material"
                 ]
                }
               },
               {
                "polymer composites": {
                 "children": [
                  "composite",
                  "fibre reinforced",
                  {
                   "glass fiber": {
                    "children": [
                     {
                      "fiber": {
                       "children": [
                        "carbon fiber",
                        "fiber laser"
                       ]
                      }
                     },
                     "glassy polymers"
                    ]
                   }
                  },
                  {
                   "plastic products": {
                    "children": [
                     "foam materials",
                     "various biomaterials"
                    ]
                   }
                  },
                  "polymer based"
                 ]
                }
               },
               {
                "porous materials": {
                 "children": [
                  "flexible",
                  "membrane",
                  "transparent materials"
                 ]
                }
               }
              ]
             }
            },
            {
             "corrosion": {
              "children": [
               "deterioration quality",
               {
                "mechanical behavior": {
                 "children": [
                  "friction"
                 ]
                }
               },
               {
                "vapor deposition": {
                 "children": [
                  "layer deposition",
                  {
                   "surface treatment": {
                    "children": [
                     "surface salinity"
                    ]
                   }
                  }
                 ]
                }
               }
              ]
             }
            },
            {
             "dielectric": {
              "children": [
               {
                "advanced semiconductor": {
                 "children": [
                  "flexible electronics"
                 ]
                }
               },
               "anode material",
               "optoelectronic technology"
              ]
             }
            },
            {
             "electrical insulators": {
              "children": [
               "capacitors",
               "insulators"
              ]
             }
            },
            {
             "electrochemical": {
              "children": [
               "electrode materials",
               {
                "oxides materials": {
                 "children": [
                  "zinc oxide"
                 ]
                }
               }
              ]
             }
            },
            {
             "magnetic properties": {
              "children": [
               "ferroelectric",
               {
                "magnetoresistance": {
                 "children": [
                  "magnetoelectric"
                 ]
                }
               }
              ]
             }
            },
            {
             "material lithium": {
              "children": [
               {
                "boron nitride": {
                 "children": [
                  "boron",
                  "niobium niobium",
                  {
                   "rare earth": {
                    "children": [
                     "chromium"
                    ]
                   }
                  },
                  "zirconia"
                 ]
                }
               },
               {
                "fe2o3 remarkable": {
                 "children": [
                  "ferrite"
                 ]
                }
               },
               "graphene",
               {
                "lithium batteries": {
                 "children": [
                  "batteries libs",
                  "lithium titanate"
                 ]
                }
               },
               {
                "titanium dioxide": {
                 "children": [
                  {
                   "silicon": {
                    "children": [
                     "silica"
                    ]
                   }
                  }
                 ]
                }
               }
              ]
             }
            },
            {
             "nanotube": {
              "children": [
               {
                "microelectromechanical": {
                 "children": [
                  "nano microscale"
                 ]
                }
               },
               "microfluid",
               "nanocomposites",
               {
                "nanoparticle": {
                 "children": [
                  "nanoscience nanotechnology",
                  "nanostructures"
                 ]
                }
               }
              ]
             }
            },
            {
             "photocatalytic": {
              "children": [
               "photodetectors",
               {
                "photonic": {
                 "children": [
                  {
                   "laser": {
                    "children": [
                     "laser diodes",
                     "laser pulses"
                    ]
                   }
                  },
                  {
                   "microscopy": {
                    "children": [
                     "luminescent",
                     "microscope"
                    ]
                   }
                  },
                  "optical devices"
                 ]
                }
               }
              ]
             }
            },
            "silicon carbide",
            {
             "technological": {
              "children": [
               "aerospace industry",
               {
                "communication technologies": {
                 "children": [
                  "information systems",
                  "interconnect"
                 ]
                }
               },
               "difficult machine",
               "wearable devices"
              ]
             }
            }
           ]
          }
         },
         {
          "mental disorder": {
           "children": [
            {
             "anxiety patients": {
              "children": [
               "anxiety",
               "social anxiety"
              ]
             }
            },
            {
             "aphasia": {
              "children": [
               "apnea"
              ]
             }
            },
            {
             "cognitive impairment": {
              "children": [
               "adhd",
               {
                "cognitive": {
                 "children": [
                  "mild cognitive"
                 ]
                }
               },
               {
                "conditions alzheimer": {
                 "children": [
                  {
                   "neurological disorder": {
                    "children": [
                     {
                      "nonmotor symptoms": {
                       "children": [
                        "motor impairments"
                       ]
                      }
                     }
                    ]
                   }
                  },
                  "parkinson disease"
                 ]
                }
               },
               "disability",
               "dystonia"
              ]
             }
            },
            {
             "cortical": {
              "children": [
               "hippocampal"
              ]
             }
            },
            {
             "depressive illness": {
              "children": [
               "major depressive"
              ]
             }
            },
            {
             "disorder": {
              "children": [
               "affective disorder"
              ]
             }
            },
            {
             "drug addiction": {
              "children": [
               "addiction",
               "nicotine"
              ]
             }
            },
            {
             "health problem": {
              "children": [
               {
                "cardiovascular disease": {
                 "children": [
                  {
                   "diabetes mellitus": {
                    "children": [
                     "adults diabetes",
                     "immunodeficiency syndrome"
                    ]
                   }
                  },
                  "heart disease"
                 ]
                }
               },
               {
                "mental healthcare": {
                 "children": [
                  {
                   "fatigue": {
                    "children": [
                     "obesity"
                    ]
                   }
                  },
                  "physical activity",
                  {
                   "public health": {
                    "children": [
                     "human health"
                    ]
                   }
                  }
                 ]
                }
               }
              ]
             }
            },
            {
             "journalism": {
              "children": [
               "niqab"
              ]
             }
            },
            {
             "obsessive compulsive": {
              "children": [
               {
                "drowsiness": {
                 "children": [
                  "insomnia disorder"
                 ]
                }
               }
              ]
             }
            },
            {
             "psychological distress": {
              "children": [
               {
                "emotion regulation": {
                 "children": [
                  "psychology",
                  "responses emotional"
                 ]
                }
               }
              ]
             }
            },
            {
             "schizophrenia illness": {
              "children": [
               "psychiatry"
              ]
             }
            },
            {
             "social problem": {
              "children": [
               {
                "criminal behaviour": {
                 "children": [
                  {
                   "violence": {
                    "children": [
                     "crime"
                    ]
                   }
                  },
                  "women incarcerated"
                 ]
                }
               },
               {
                "educational researchers": {
                 "children": [
                  {
                   "adolescents child": {
                    "children": [
                     {
                      "adolescent": {
                       "children": [
                        "youth"
                       ]
                      }
                     },
                     "child development",
                     "child protection"
                    ]
                   }
                  },
                  {
                   "education teacher": {
                    "children": [
                     {
                      "education issue": {
                       "children": [
                        "problems educational"
                       ]
                      }
                     }
                    ]
                   }
                  },
                  {
                   "entrepreneurship": {
                    "children": [
                     "career development",
                     "tourism experience"
                    ]
                   }
                  },
                  {
                   "higher education": {
                    "children": [
                     "community colleges"
                    ]
                   }
                  },
                  "medical student"
                 ]
                }
               },
               {
                "ethical issues": {
                 "children": [
                  "ethical decision",
                  "study neoliberalism"
                 ]
                }
               },
               {
                "gender role": {
                 "children": [
                  "gender effect",
                  "incontinence",
                  "masculinity"
                 ]
                }
               },
               {
                "global problems": {
                 "children": [
                  "health global",
                  "problems countries"
                 ]
                }
               },
               "negative effects",
               {
                "older people": {
                 "children": [
                  {
                   "intergenerational": {
                    "children": [
                     "epitaxial growth",
                     "genetic"
                    ]
                   }
                  }
                 ]
                }
               },
               {
                "phenomenon multilingualism": {
                 "children": [
                  {
                   "behavior": {
                    "children": [
                     {
                      "organizational behavior": {
                       "children": [
                        "behavioral traits",
                        "leadership"
                       ]
                      }
                     },
                     {
                      "theory mind": {
                       "children": [
                        {
                         "human perceptual": {
                          "children": [
                           "emotional intelligence",
                           "mindfulness"
                          ]
                         }
                        }
                       ]
                      }
                     }
                    ]
                   }
                  },
                  {
                   "intercultural relations": {
                    "children": [
                     {
                      "cultural diversity": {
                       "children": [
                        "citizenship",
                        "radicalism phenomenon"
                       ]
                      }
                     },
                     {
                      "relationship": {
                       "children": [
                        "mediated communication",
                        "partnership"
                       ]
                      }
                     }
                    ]
                   }
                  },
                  {
                   "language impairment": {
                    "children": [
                     {
                      "language disorder": {
                       "children": [
                        {
                         "second language": {
                          "children": [
                           "bilingual",
                           "foreign language"
                          ]
                         }
                        }
                       ]
                      }
                     }
                    ]
                   }
                  }
                 ]
                }
               },
               {
                "religious": {
                 "children": [
                  "self esteem"
                 ]
                }
               },
               {
                "social isolation": {
                 "children": [
                  {
                   "antisocial personality": {
                    "children": [
                     "antisocial"
                    ]
                   }
                  },
                  "stigma"
                 ]
                }
               },
               "social justice",
               "socioeconomic status",
               {
                "urban areas": {
                 "children": [
                  "traffic accidents"
                 ]
                }
               }
              ]
             }
            }
           ]
          }
         },
         {
          "science bionic": {
           "children": [
            {
             "microbial": {
              "children": [
               {
                "antibiotic": {
                 "children": [
                  "bacterial infection"
                 ]
                }
               },
               {
                "biological tissue": {
                 "children": [
                  "biotechnologies"
                 ]
                }
               }
              ]
             }
            },
            {
             "prostheses": {
              "children": [
               {
                "epoxy": {
                 "children": [
                  "biomedical implant"
                 ]
                }
               }
              ]
             }
            }
           ]
          }
         }
        ]
       }
      },
      "text/plain": [
       "<IPython.core.display.JSON object>"
      ]
     },
     "execution_count": 657,
     "metadata": {
      "application/json": {
       "expanded": false,
       "root": "root"
      }
     },
     "output_type": "execute_result"
    }
   ],
   "source": [
    "JSON(tree_dict)"
   ]
  },
  {
   "cell_type": "code",
   "execution_count": 658,
   "id": "d3660b9b",
   "metadata": {},
   "outputs": [
    {
     "name": "stdout",
     "output_type": "stream",
     "text": [
      "materials:Special materials |0.48\n",
      "╠══ acoustic:Acoustics. Sound |0.59\n",
      "║   ╠══ auditory:Acoustics. Sound |0.82\n",
      "║   ╚══ music education:Music in special education |0.50\n",
      "╠══ biomass:Fuel |0.94\n",
      "║   ╠══ energy source:Renewable energy sources |0.50\n",
      "║   ║   ╠══ fuels:Fuel |0.18\n",
      "║   ║   ║   ╠══ biomass fuels:Renewable energy sources |0.78\n",
      "║   ║   ║   ║   ╠══ biogas biomass:Renewable energy sources |0.92\n",
      "║   ║   ║   ║   ║   ╠══ based biomass:Renewable energy sources |0.98\n",
      "║   ║   ║   ║   ║   ╚══ biodegradability:Industrial and factory wastes |1.00\n",
      "║   ║   ║   ║   ║       ╚══ biofuel:Biotechnology |0.84\n",
      "║   ║   ║   ║   ╚══ fossil fuel:Fuel |0.66\n",
      "║   ║   ║   ║       ╠══ combustion engines:Heat engines |0.58\n",
      "║   ║   ║   ║       ╚══ diesel engine:Miscellaneous motors and engines ⁠Including gas, gasoline, diesel engines |0.87\n",
      "║   ║   ║   ╠══ coal gasification:Gas industry |0.67\n",
      "║   ║   ║   ║   ╠══ coal production:Gas industry |0.68\n",
      "║   ║   ║   ║   ╠══ gasification systems:Gas industry |0.96\n",
      "║   ║   ║   ║   ╚══ natural resource:Conservation of natural resources ⁠Including land conservation |0.75\n",
      "║   ║   ║   ╠══ environmental issue:Environmental pollution |0.44\n",
      "║   ║   ║   ║   ╠══ aerosol:Environmental pollution |1.02\n",
      "║   ║   ║   ║   ║   ╠══ haze:Environmental pollution |1.23\n",
      "║   ║   ║   ║   ║   ║   ╚══ near infrared:Spectroscopy |0.93\n",
      "║   ║   ║   ║   ║   ╚══ ozone:Environmental pollution |1.06\n",
      "║   ║   ║   ║   ╠══ carbon:Fuel |1.08\n",
      "║   ║   ║   ║   ║   ╠══ carbon sink:Industrial and factory wastes |1.34\n",
      "║   ║   ║   ║   ║   ╚══ organic carbon:Organic chemistry |0.74\n",
      "║   ║   ║   ║   ║       ╠══ greenhouse gases:Environmental pollution |0.79\n",
      "║   ║   ║   ║   ║       ║   ╚══ global carbon:Environmental pollution |1.09\n",
      "║   ║   ║   ║   ║       ╚══ terrestrial carbon:Environmental sciences |1.01\n",
      "║   ║   ║   ║   ╠══ environmental pollution:Environmental pollution |6.30\n",
      "║   ║   ║   ║   ║   ╠══ emission:Environmental pollution |0.92\n",
      "║   ║   ║   ║   ║   ║   ╚══ emissions necessary:Environmental pollution |0.97\n",
      "║   ║   ║   ║   ║   ╠══ environmental hazards:Environmental pollution |0.63\n",
      "║   ║   ║   ║   ║   ╚══ worldwide environmental:Environmental management |0.61\n",
      "║   ║   ║   ║   ╠══ sustainable development:Environmental policy |0.76\n",
      "║   ║   ║   ║   ║   ╚══ sustainability:Ecology |0.70\n",
      "║   ║   ║   ║   ╚══ world climate:Climatic geomorphology |0.74\n",
      "║   ║   ║   ╚══ hydrogen generation:Production of electricity by direct energy conversion |0.94\n",
      "║   ║   ║       ╚══ catalysts based:Chemical technology |0.86\n",
      "║   ║   ║           ╚══ significance catalysis:Analytical chemistry |1.28\n",
      "║   ║   ╠══ liquids:Seawater |0.83\n",
      "║   ║   ║   ╠══ hydrocarbons:Oils, fats, and waxes |0.90\n",
      "║   ║   ║   ║   ╠══ ethanol represents:Alcohol. Alcoholic beverages |1.04\n",
      "║   ║   ║   ║   ╚══ hydrogels:Pharmaceutical supplies |1.15\n",
      "║   ║   ║   ╚══ industrial processes:Manufacturing industries |0.62\n",
      "║   ║   ║       ╠══ distillation:Water purification. Water treatment and conditioning. Saline water conversion |0.94\n",
      "║   ║   ║       ║   ╠══ desalination:Water purification. Water treatment and conditioning. Saline water conversion |0.75\n",
      "║   ║   ║       ║   ╚══ separation processes:Processing |1.10\n",
      "║   ║   ║       ╠══ industrial application:Chemical industries |0.83\n",
      "║   ║   ║       ╚══ sludge:Municipal refuse. Solid wastes |0.97\n",
      "║   ║   ║           ╚══ disposal landfill:Sewage collection and disposal systems. Sewerage |0.75\n",
      "║   ║   ╠══ nuclear reactor:Nuclear engineering. Atomic power |0.74\n",
      "║   ║   ║   ╠══ electrical failure:Electricity |1.01\n",
      "║   ║   ║   ╠══ high neutron:Nuclear and particle physics. Atomic energy. Radioactivity |1.04\n",
      "║   ║   ║   ╚══ reactors:Nuclear engineering. Atomic power |0.95\n",
      "║   ║   ╚══ solar energy:Renewable energy sources |0.51\n",
      "║   ║       ╠══ renewable electricity:Renewable energy sources |0.31\n",
      "║   ║       ║   ╠══ energy consumption:Energy conservation |0.79\n",
      "║   ║       ║   ╠══ energy storage:Power resources |0.83\n",
      "║   ║       ║   ╚══ renewable:Renewable energy sources |0.64\n",
      "║   ║       ║       ╚══ development renewable:Renewable energy sources |0.64\n",
      "║   ║       ╠══ solar cell:Photoelectronic devices (General) |0.93\n",
      "║   ║       ║   ╠══ heterojunction solar:Solar system |1.20\n",
      "║   ║       ║   ╚══ photovoltaic:Renewable energy sources |0.78\n",
      "║   ║       ╠══ thermal properties:Temperature |0.98\n",
      "║   ║       ║   ╠══ geotechnical:Geology |0.58\n",
      "║   ║       ║   ║   ╚══ geothermal:Geology |0.96\n",
      "║   ║       ║   ╠══ high temperature:Temperature |0.61\n",
      "║   ║       ║   ╠══ refrigeration systems:Low temperature engineering. Cryogenic engineering. Refrigeration |0.85\n",
      "║   ║       ║   ╠══ thermal insulation:Electric heating |1.01\n",
      "║   ║       ║   ╠══ thermal stability:Temperature |1.09\n",
      "║   ║       ║   ╠══ thermal:Heat |0.61\n",
      "║   ║       ║   ╚══ thermoplastic:Materials of engineering and construction. Mechanics of materials |1.07\n",
      "║   ║       ║       ╚══ thermoelectric:Electric heating |0.88\n",
      "║   ║       ╚══ wind power:Renewable energy sources |0.66\n",
      "║   ╠══ hydrological ecological:Hydrology. Water |0.59\n",
      "║   ║   ╠══ alpine areas:Alps |0.53\n",
      "║   ║   ╠══ catchments runoff:Watersheds. Runoff. Drainage |0.37\n",
      "║   ║   ║   ╠══ drought:Irrigation |0.92\n",
      "║   ║   ║   ║   ╠══ heavy precipitation:Climatology and weather |0.96\n",
      "║   ║   ║   ║   ╚══ tropical cyclones:Natural disasters |0.78\n",
      "║   ║   ║   ╚══ wastewater:Sewage collection and disposal systems. Sewerage |0.74\n",
      "║   ║   ║       ╠══ hydroelectric:Dams. Barrages |0.73\n",
      "║   ║   ║       ╠══ hydrologic data:Marine hydrography. Hydrographic surveying |0.74\n",
      "║   ║   ║       ╠══ osmosis:Hydrology. Water |0.95\n",
      "║   ║   ║       ╠══ runoff surface:Watersheds. Runoff. Drainage |0.71\n",
      "║   ║   ║       ╠══ wastewater treatment:Industrial and factory sanitation |0.58\n",
      "║   ║   ║       ║   ╚══ area groundwater:Groundwater. Hydrogeology |0.57\n",
      "║   ║   ║       ╚══ watershed scale:Watersheds. Runoff. Drainage |0.79\n",
      "║   ║   ╠══ ecosystem:Ecology |0.39\n",
      "║   ║   ║   ╠══ coastal ecosystem:Estuarine oceanography |0.71\n",
      "║   ║   ║   ║   ╚══ fisheries management:Fishery management. Fishery policy |0.21\n",
      "║   ║   ║   ╚══ forest ecosystems:Forestry |0.54\n",
      "║   ║   ║       ╠══ aquatic ecosystems:Lakes. Limnology. Ponds. Lagoons |0.47\n",
      "║   ║   ║       ╠══ forest:Forestry |0.57\n",
      "║   ║   ║       ║   ╚══ deforestation:Forestry |0.59\n",
      "║   ║   ║       ╚══ phytoplankton:Seagrasses |0.83\n",
      "║   ║   ╚══ organic soils:Forest soils |0.60\n",
      "║   ║       ╠══ agricultural products:Animal products |0.44\n",
      "║   ║       ║   ╠══ crops:Food crops |0.28\n",
      "║   ║       ║   ║   ╚══ crop production:Food crops |0.35\n",
      "║   ║       ║   ╚══ foods important:Nutrition. Foods and food supply |0.68\n",
      "║   ║       ║       ╠══ food products:Animal products |0.35\n",
      "║   ║       ║       ╚══ food security:Food and food supply in relation to public health |0.62\n",
      "║   ║       ╠══ organic inorganic:Inorganic chemistry |0.63\n",
      "║   ║       ╠══ phosphorus nitrogen:Fertilizers and improvement of the soil |1.16\n",
      "║   ║       ║   ╠══ nitrogen:Fuel |0.96\n",
      "║   ║       ║   ║   ╚══ carbon nutrient:Nutrition. Foods and food supply |1.09\n",
      "║   ║       ║   ╚══ phosphate based:Inorganic chemistry |1.02\n",
      "║   ║       ╚══ soil soil:Forest soils |0.72\n",
      "║   ║           ╠══ fertilizer:Fertilizers and improvement of the soil |0.48\n",
      "║   ║           ╠══ soil behavior:Soil conservation and protection |0.69\n",
      "║   ║           ╚══ soil data:Soils. Soil science ⁠Including soil surveys, soil chemistry, soil structure, soil-plant relationships |0.74\n",
      "║   ╚══ scientific research:Research. Experimentation |0.36\n",
      "║       ╠══ nondestructive evaluation:Evaluation |1.14\n",
      "║       ╠══ research:Research |7.82\n",
      "║       ╠══ spectrometry:Spectroscopy |0.59\n",
      "║       ╚══ tribological:Mineralogy |1.09\n",
      "║           ╚══ mathematics:Mathematics |8.48\n",
      "╠══ droplet:Seawater |1.28\n",
      "╠══ materials electronic:Electronics |0.83\n",
      "║   ╠══ amorphous:Glass |0.92\n",
      "║   ║   ╠══ crystallization behavior:Crystallography |0.84\n",
      "║   ║   ║   ╠══ crystal growth:Crystallography |0.70\n",
      "║   ║   ║   ╠══ multiferroic:Muscovy |1.23\n",
      "║   ║   ║   ║   ╚══ tial intermetallic:Tiranë |1.12\n",
      "║   ║   ║   ╚══ superconductors:Magnetism |1.11\n",
      "║   ║   ╚══ surface plasmon:Applied optics. Photonics |1.20\n",
      "║   ║       ╠══ perovskite based:Inorganic chemistry |1.02\n",
      "║   ║       ╠══ phthalocyanines main:Organic chemistry |1.02\n",
      "║   ║       ╚══ plasmon resonance:Electromagnetic theory |1.20\n",
      "║   ╠══ cathode material:Industrial electrochemistry |1.18\n",
      "║   ╠══ cavitation:Physics and acoustics |1.20\n",
      "║   ║   ╚══ plasma:Electricity |0.85\n",
      "║   ╠══ composite materials:Materials of engineering and construction. Mechanics of materials |0.80\n",
      "║   ║   ╠══ alloys:Metallurgy |0.64\n",
      "║   ║   ║   ╠══ ceramic:Ceramics |0.19\n",
      "║   ║   ║   ╠══ lithography:Lithography |6.14\n",
      "║   ║   ║   ╠══ materials science:Materials of engineering and construction. Mechanics of materials |0.54\n",
      "║   ║   ║   ║   ╚══ properties materials:Special materials |0.74\n",
      "║   ║   ║   ╠══ stainless steel:Metallurgy |0.90\n",
      "║   ║   ║   ║   ╚══ strength steel:Metallurgy |1.02\n",
      "║   ║   ║   ║       ╚══ welded metal:Metalwork |0.58\n",
      "║   ║   ║   ╚══ transition metal:Inorganic chemistry |0.92\n",
      "║   ║   ╠══ concrete:Stonework |0.92\n",
      "║   ║   ║   ╠══ asphalt:Pavements and paved roads |0.83\n",
      "║   ║   ║   ╠══ cement based:Cement industries |0.79\n",
      "║   ║   ║   ║   ╚══ cement composites:Cement industries |0.82\n",
      "║   ║   ║   ╠══ concrete structures:Earthwork. Foundations |0.66\n",
      "║   ║   ║   ╚══ construction material:Materials of engineering and construction. Mechanics of materials |0.58\n",
      "║   ║   ╠══ polymer composites:Polymers and polymer manufacture |0.44\n",
      "║   ║   ║   ╠══ composite:Costume |1.27\n",
      "║   ║   ║   ╠══ fibre reinforced:Textiles |0.87\n",
      "║   ║   ║   ╠══ glass fiber:Glass |0.53\n",
      "║   ║   ║   ║   ╠══ fiber:Textiles |1.02\n",
      "║   ║   ║   ║   ║   ╠══ carbon fiber:Textiles |0.86\n",
      "║   ║   ║   ║   ║   ╚══ fiber laser:Applied optics. Photonics |1.01\n",
      "║   ║   ║   ║   ╚══ glassy polymers:Glass |0.72\n",
      "║   ║   ║   ╠══ plastic products:Animal products |0.73\n",
      "║   ║   ║   ║   ╠══ foam materials:Special materials |0.99\n",
      "║   ║   ║   ║   ╚══ various biomaterials:Special materials |0.90\n",
      "║   ║   ║   ╚══ polymer based:Polymers and polymer manufacture |0.56\n",
      "║   ║   ╚══ porous materials:Materials of engineering and construction. Mechanics of materials |0.95\n",
      "║   ║       ╠══ flexible:Mechanical movements |1.25\n",
      "║   ║       ╠══ membrane:Seawater |1.13\n",
      "║   ║       ╚══ transparent materials:Glass |0.88\n",
      "║   ╠══ corrosion:Metalwork |0.89\n",
      "║   ║   ╠══ deterioration quality:Degeneration |0.97\n",
      "║   ║   ╠══ mechanical behavior:Mechanical movements |0.50\n",
      "║   ║   ║   ╚══ friction:Mechanical movements |0.87\n",
      "║   ║   ╚══ vapor deposition:Steam engineering |1.11\n",
      "║   ║       ╠══ layer deposition:Lithography |1.09\n",
      "║   ║       ╚══ surface treatment:Technique and materials |1.01\n",
      "║   ║           ╚══ surface salinity:Ground and surface waters |0.83\n",
      "║   ╠══ dielectric:Electromagnetic theory |1.05\n",
      "║   ║   ╠══ advanced semiconductor:Photoelectronic devices (General) |0.92\n",
      "║   ║   ║   ╚══ flexible electronics:Electronics |0.98\n",
      "║   ║   ╠══ anode material:Illuminating industries (Nonelectric) |1.13\n",
      "║   ║   ╚══ optoelectronic technology:Photoelectronic devices (General) |0.55\n",
      "║   ╠══ electrical insulators:Electric apparatus and materials. Electric circuits. Electric networks |0.83\n",
      "║   ║   ╠══ capacitors:Electricity |0.84\n",
      "║   ║   ╚══ insulators:Electricity |0.86\n",
      "║   ╠══ electrochemical:Industrial electrochemistry |0.65\n",
      "║   ║   ╠══ electrode materials:Industrial electrochemistry |0.76\n",
      "║   ║   ╚══ oxides materials:Inorganic chemistry |0.82\n",
      "║   ║       ╚══ zinc oxide:Inorganic chemistry |0.91\n",
      "║   ╠══ magnetic properties:Magnetism |0.64\n",
      "║   ║   ╠══ ferroelectric:Industrial electrochemistry |1.20\n",
      "║   ║   ╚══ magnetoresistance:Magnetism |0.68\n",
      "║   ║       ╚══ magnetoelectric:Electricity and magnetism |0.71\n",
      "║   ╠══ material lithium:Special materials |1.05\n",
      "║   ║   ╠══ boron nitride:Chemical technology |1.27\n",
      "║   ║   ║   ╠══ boron:Ceramics |1.15\n",
      "║   ║   ║   ╠══ niobium niobium:Niue |0.85\n",
      "║   ║   ║   ╠══ rare earth:Precious metals. Bullion |0.85\n",
      "║   ║   ║   ║   ╚══ chromium:Java |1.24\n",
      "║   ║   ║   ╚══ zirconia:Ceramics |1.09\n",
      "║   ║   ╠══ fe2o3 remarkable:Inorganic chemistry |1.08\n",
      "║   ║   ║   ╚══ ferrite:Electricity |0.93\n",
      "║   ║   ╠══ graphene:Special materials |1.11\n",
      "║   ║   ╠══ lithium batteries:Electricity |0.94\n",
      "║   ║   ║   ╠══ batteries libs:Electricity |0.93\n",
      "║   ║   ║   ╚══ lithium titanate:Inorganic chemistry |1.03\n",
      "║   ║   ╚══ titanium dioxide:Inorganic chemistry |0.96\n",
      "║   ║       ╚══ silicon:Ceramics |0.87\n",
      "║   ║           ╚══ silica:Glass |0.98\n",
      "║   ╠══ nanotube:Special materials |1.20\n",
      "║   ║   ╠══ microelectromechanical:Electronics |0.81\n",
      "║   ║   ║   ╚══ nano microscale:Lithography |1.18\n",
      "║   ║   ╠══ microfluid:Hydrometeorology |1.26\n",
      "║   ║   ╠══ nanocomposites:Polymers and polymer manufacture |0.98\n",
      "║   ║   ╚══ nanoparticle:Chemistry |1.17\n",
      "║   ║       ╠══ nanoscience nanotechnology:Bioengineering |0.95\n",
      "║   ║       ╚══ nanostructures:Atomic physics. Constitution and properties of matter ⁠Including molecular physics, relativity, quantum theory, and solid state physics |1.03\n",
      "║   ╠══ photocatalytic:Photochemistry |0.46\n",
      "║   ║   ╠══ photodetectors:Photoelectronic devices (General) |0.56\n",
      "║   ║   ╚══ photonic:Applied optics. Photonics |0.72\n",
      "║   ║       ╠══ laser:Optics. Light |1.03\n",
      "║   ║       ║   ╠══ laser diodes:Photoelectronic devices (General) |1.02\n",
      "║   ║       ║   ╚══ laser pulses:Applied optics. Photonics |1.13\n",
      "║   ║       ╠══ microscopy:Microscopy |9.81\n",
      "║   ║       ║   ╠══ luminescent:Illumination. Lighting |1.00\n",
      "║   ║       ║   ╚══ microscope:Microscopy |0.25\n",
      "║   ║       ╚══ optical devices:Applied optics. Photonics |0.77\n",
      "║   ╠══ silicon carbide:Ceramics |0.92\n",
      "║   ╚══ technological:Technological change |0.66\n",
      "║       ╠══ aerospace industry:Manufacturing industries |0.61\n",
      "║       ╠══ communication technologies:Telecommunication ⁠Including telegraphy, telephone, radio, radar, television |0.59\n",
      "║       ║   ╠══ information systems:Information technology |0.32\n",
      "║       ║   ╚══ interconnect:Electronics |1.11\n",
      "║       ╠══ difficult machine:Calculating machines |0.70\n",
      "║       ╚══ wearable devices:Electronics |1.01\n",
      "╠══ mental disorder:Psychoses |0.51\n",
      "║   ╠══ anxiety patients:Psychiatry |0.77\n",
      "║   ║   ╠══ anxiety:Psychoses |0.84\n",
      "║   ║   ╚══ social anxiety:Social psychology |0.95\n",
      "║   ╠══ aphasia:Literacy. Illiteracy |1.01\n",
      "║   ║   ╚══ apnea:Anesthesiology |1.12\n",
      "║   ╠══ cognitive impairment:Mental retardation. Developmental disabilities |0.94\n",
      "║   ║   ╠══ adhd:Psychoses |0.79\n",
      "║   ║   ╠══ cognitive:Psychology |0.81\n",
      "║   ║   ║   ╚══ mild cognitive:Neurophysiology and neuropsychology |1.01\n",
      "║   ║   ╠══ conditions alzheimer:Degeneration |0.93\n",
      "║   ║   ║   ╠══ neurological disorder:Neurology. Diseases of the nervous system ⁠Including speech disorders |0.73\n",
      "║   ║   ║   ║   ╚══ nonmotor symptoms:Manifestations of disease |0.93\n",
      "║   ║   ║   ║       ╚══ motor impairments:Mental retardation. Developmental disabilities |0.91\n",
      "║   ║   ║   ╚══ parkinson disease:Diseases due to psychosomatic and nerve disorders. Dermatoneuroses |0.99\n",
      "║   ║   ╠══ disability:Children with disabilities |0.68\n",
      "║   ║   ╚══ dystonia:Degeneration |0.98\n",
      "║   ╠══ cortical:Neurophysiology and neuropsychology |0.93\n",
      "║   ║   ╚══ hippocampal:Psychology |1.06\n",
      "║   ╠══ depressive illness:Mental disorders. Child psychiatry |0.69\n",
      "║   ║   ╚══ major depressive:Psychopathology |1.05\n",
      "║   ╠══ disorder:Psychiatry |0.58\n",
      "║   ║   ╚══ affective disorder:Psychopathology |0.70\n",
      "║   ╠══ drug addiction:Drug habits. Drug abuse |0.46\n",
      "║   ║   ╠══ addiction:Drug habits. Drug abuse |0.72\n",
      "║   ║   ╚══ nicotine:Tobacco habit |0.57\n",
      "║   ╠══ health problem:Diseases and adverse factors |0.90\n",
      "║   ║   ╠══ cardiovascular disease:Diseases of the circulatory (Cardiovascular) system |0.58\n",
      "║   ║   ║   ╠══ diabetes mellitus:Metabolic diseases |0.69\n",
      "║   ║   ║   ║   ╠══ adults diabetes:Metabolic diseases |1.04\n",
      "║   ║   ║   ║   ╚══ immunodeficiency syndrome:Immunologic diseases. Allergy |0.91\n",
      "║   ║   ║   ╚══ heart disease:Diseases of the circulatory (Cardiovascular) system |0.73\n",
      "║   ║   ╚══ mental healthcare:Mental health. Mental illness prevention |0.47\n",
      "║   ║       ╠══ fatigue:Psychoses |0.97\n",
      "║   ║       ║   ╚══ obesity:Metabolic diseases |0.91\n",
      "║   ║       ╠══ physical activity:Physical rehabilitation |0.64\n",
      "║   ║       ╚══ public health:Public health |6.16\n",
      "║   ║           ╚══ human health:Public health |0.50\n",
      "║   ╠══ journalism:Journalism. The periodical press, etc. |0.43\n",
      "║   ║   ╚══ niqab:Costume |1.05\n",
      "║   ╠══ obsessive compulsive:Neuroses |0.93\n",
      "║   ║   ╚══ drowsiness:Hallucinations. Sleep. Dreaming. Visions |1.04\n",
      "║   ║       ╚══ insomnia disorder:Hallucinations. Sleep. Dreaming. Visions |1.00\n",
      "║   ╠══ psychological distress:Psychopathology |0.65\n",
      "║   ║   ╚══ emotion regulation:Control of social activities |1.04\n",
      "║   ║       ╠══ psychology:Psychology |6.08\n",
      "║   ║       ╚══ responses emotional:Social psychology |1.02\n",
      "║   ╠══ schizophrenia illness:Psychoses |0.62\n",
      "║   ║   ╚══ psychiatry:Psychiatry |6.61\n",
      "║   ╚══ social problem:Social control |0.78\n",
      "║       ╠══ criminal behaviour:Crimes and offenses |0.57\n",
      "║       ║   ╠══ violence:Violence. Political violence |0.54\n",
      "║       ║   ║   ╚══ crime:Crimes and offenses |0.47\n",
      "║       ║   ╚══ women incarcerated:Reformation and reclamation of adult prisoners |1.00\n",
      "║       ╠══ educational researchers:Study and teaching. Research |0.62\n",
      "║       ║   ╠══ adolescents child:Youth. Adolescents. Teenagers |0.58\n",
      "║       ║   ║   ╠══ adolescent:Youth. Adolescents. Teenagers |0.58\n",
      "║       ║   ║   ║   ╚══ youth:Youth. Adolescents. Teenagers |0.58\n",
      "║       ║   ║   ╠══ child development:Child study |0.53\n",
      "║       ║   ║   ╚══ child protection:Children |0.80\n",
      "║       ║   ╠══ education teacher:Teaching personnel |0.52\n",
      "║       ║   ║   ╚══ education issue:Education |0.59\n",
      "║       ║   ║       ╚══ problems educational:Education |0.64\n",
      "║       ║   ╠══ entrepreneurship:Business |0.67\n",
      "║       ║   ║   ╠══ career development:Vocational guidance. Career devlopment |0.39\n",
      "║       ║   ║   ╚══ tourism experience:Travel and state. Tourism |0.48\n",
      "║       ║   ╠══ higher education:Higher education |7.37\n",
      "║       ║   ║   ╚══ community colleges:Community colleges. Junior colleges |0.32\n",
      "║       ║   ╚══ medical student:Medicine (General) |0.70\n",
      "║       ╠══ ethical issues:Ethics |0.51\n",
      "║       ║   ╠══ ethical decision:Ethics |0.52\n",
      "║       ║   ╚══ study neoliberalism:Liberalism |0.93\n",
      "║       ╠══ gender role:Sex role |0.46\n",
      "║       ║   ╠══ gender effect:Sex differences in education |0.79\n",
      "║       ║   ╠══ incontinence:Pregnancy |1.08\n",
      "║       ║   ╚══ masculinity:Men |0.83\n",
      "║       ╠══ global problems:International security. Disarmament. Global survival |0.82\n",
      "║       ║   ╠══ health global:Public health |0.75\n",
      "║       ║   ╚══ problems countries:America |0.90\n",
      "║       ╠══ negative effects:Diseases and adverse factors |1.05\n",
      "║       ╠══ older people:Geriatrics |0.49\n",
      "║       ║   ╚══ intergenerational:Adulthood |0.97\n",
      "║       ║       ╠══ epitaxial growth:Nuclear engineering. Atomic power |1.20\n",
      "║       ║       ╚══ genetic:Genetics |0.21\n",
      "║       ╠══ phenomenon multilingualism:Mixed languages |0.71\n",
      "║       ║   ╠══ behavior:Interpersonal relations. Social behavior |0.74\n",
      "║       ║   ║   ╠══ organizational behavior:Organizational sociology. Organization theory |0.62\n",
      "║       ║   ║   ║   ╠══ behavioral traits:Temperament. Character |0.65\n",
      "║       ║   ║   ║   ╚══ leadership:Administration |0.79\n",
      "║       ║   ║   ╚══ theory mind:Speculative philosophy |0.95\n",
      "║       ║   ║       ╚══ human perceptual:Social perception. Social cognition ⁠Including perception of the self and others, prejudices, stereotype |0.94\n",
      "║       ║   ║           ╠══ emotional intelligence:Intelligence |0.54\n",
      "║       ║   ║           ╚══ mindfulness:Devotion. Meditation. Prayer |0.62\n",
      "║       ║   ╠══ intercultural relations:Conversation and culture |0.75\n",
      "║       ║   ║   ╠══ cultural diversity:Culture |0.62\n",
      "║       ║   ║   ║   ╠══ citizenship:Citizenship |9.49\n",
      "║       ║   ║   ║   ╚══ radicalism phenomenon:Other beliefs and movements |1.15\n",
      "║       ║   ║   ╚══ relationship:Marriage |0.61\n",
      "║       ║   ║       ╠══ mediated communication:Interpersonal communication |0.64\n",
      "║       ║   ║       ╚══ partnership:Investments |0.89\n",
      "║       ║   ╚══ language impairment:Language acquisition |0.87\n",
      "║       ║       ╚══ language disorder:Language |0.80\n",
      "║       ║           ╚══ second language:Mixed languages |0.44\n",
      "║       ║               ╠══ bilingual:Spanish |0.51\n",
      "║       ║               ╚══ foreign language:Mixed languages |0.40\n",
      "║       ╠══ religious:Religions |0.43\n",
      "║       ║   ╚══ self esteem:Social psychology |0.87\n",
      "║       ╠══ social isolation:Interpersonal relations. Social behavior |0.85\n",
      "║       ║   ╠══ antisocial personality:Deviant behavior. Social deviance |0.77\n",
      "║       ║   ║   ╚══ antisocial:Deviant behavior. Social deviance |0.85\n",
      "║       ║   ╚══ stigma:Psychiatry |0.96\n",
      "║       ╠══ social justice:Social change |0.83\n",
      "║       ╠══ socioeconomic status:Communities. Classes. Races |0.77\n",
      "║       ╚══ urban areas:Metropolitan areas |0.47\n",
      "║           ╚══ traffic accidents:Accidents. Prevention of accidents |0.47\n",
      "╚══ science bionic:Bioengineering |0.69\n",
      "    ╠══ microbial:Microbiology |0.39\n",
      "    ║   ╠══ antibiotic:Antibiotic therapy. Antibiotics |0.47\n",
      "    ║   ║   ╚══ bacterial infection:Bacteria |0.60\n",
      "    ║   ╚══ biological tissue:Prosthesis. Artificial organs |0.88\n",
      "    ║       ╚══ biotechnologies:Biotechnology |0.37\n",
      "    ╚══ prostheses:Prosthesis. Artificial organs |0.48\n",
      "        ╚══ epoxy:Special materials |0.88\n",
      "            ╚══ biomedical implant:Prosthesis. Artificial organs |0.65\n",
      "\n"
     ]
    }
   ],
   "source": [
    "tree.show(line_type=\"ascii-em\")"
   ]
  },
  {
   "cell_type": "code",
   "execution_count": 607,
   "id": "5219cd9d",
   "metadata": {},
   "outputs": [],
   "source": [
    "tree.save2file(\"downloads/matsci2loc.txt\")"
   ]
  },
  {
   "cell_type": "code",
   "execution_count": null,
   "id": "2e9ce2eb",
   "metadata": {},
   "outputs": [],
   "source": []
  },
  {
   "cell_type": "code",
   "execution_count": 553,
   "id": "5cfab87e",
   "metadata": {},
   "outputs": [
    {
     "data": {
      "application/json": {
       "materials:Special materials |0.49": {
        "children": [
         {
          "acoustic:Acoustics. Sound |0.59": {
           "children": [
            "auditory:Acoustics. Sound |0.82",
            "music education:Music in special education |0.5"
           ]
          }
         },
         {
          "biomass:Fuel |0.94": {
           "children": [
            {
             "energy source:Renewable energy sources |0.5": {
              "children": [
               {
                "fuels:Fuel |0.19": {
                 "children": [
                  {
                   "biomass fuels:Renewable energy sources |0.78": {
                    "children": [
                     {
                      "biogas biomass:Renewable energy sources |0.92": {
                       "children": [
                        "based biomass:Renewable energy sources |0.99",
                        {
                         "biodegradability:Industrial and factory wastes |1.0": {
                          "children": [
                           "biofuel:Biotechnology |0.85"
                          ]
                         }
                        }
                       ]
                      }
                     },
                     {
                      "fossil fuel:Fuel |0.66": {
                       "children": [
                        "combustion engines:Heat engines |0.59",
                        "diesel engine:Miscellaneous motors and engines ⁠Including gas, gasoline, diesel engines |0.88"
                       ]
                      }
                     }
                    ]
                   }
                  },
                  {
                   "coal gasification:Gas industry |0.68": {
                    "children": [
                     "coal production:Gas industry |0.69",
                     "gasification systems:Gas industry |0.96",
                     "natural resource:Conservation of natural resources ⁠Including land conservation |0.76"
                    ]
                   }
                  },
                  {
                   "environmental issue:Environmental pollution |0.44": {
                    "children": [
                     {
                      "aerosol:Environmental pollution |1.03": {
                       "children": [
                        {
                         "haze:Environmental pollution |1.23": {
                          "children": [
                           "near infrared:Spectroscopy |0.94"
                          ]
                         }
                        },
                        "ozone:Environmental pollution |1.06"
                       ]
                      }
                     },
                     {
                      "carbon:Fuel |1.08": {
                       "children": [
                        "carbon sink:Industrial and factory wastes |1.35",
                        {
                         "organic carbon:Organic chemistry |0.74": {
                          "children": [
                           {
                            "greenhouse gases:Environmental pollution |0.8": {
                             "children": [
                              "global carbon:Environmental pollution |1.1"
                             ]
                            }
                           },
                           "terrestrial carbon:Environmental sciences |1.02"
                          ]
                         }
                        }
                       ]
                      }
                     },
                     {
                      "environmental pollution:Environmental pollution |0.0": {
                       "children": [
                        {
                         "emission:Environmental pollution |0.93": {
                          "children": [
                           "emissions necessary:Environmental pollution |0.98"
                          ]
                         }
                        },
                        "environmental hazards:Environmental pollution |0.63",
                        "worldwide environmental:Environmental management |0.61"
                       ]
                      }
                     },
                     {
                      "sustainable development:Environmental policy |0.77": {
                       "children": [
                        "sustainability:Ecology |0.7"
                       ]
                      }
                     },
                     "world climate:Climatic geomorphology |0.74"
                    ]
                   }
                  },
                  {
                   "hydrogen generation:Production of electricity by direct energy conversion |0.95": {
                    "children": [
                     {
                      "catalysts based:Chemical technology |0.86": {
                       "children": [
                        "significance catalysis:Analytical chemistry |1.29"
                       ]
                      }
                     }
                    ]
                   }
                  }
                 ]
                }
               },
               {
                "liquids:Seawater |0.84": {
                 "children": [
                  {
                   "hydrocarbons:Oils, fats, and waxes |0.9": {
                    "children": [
                     "ethanol represents:Alcohol. Alcoholic beverages |1.04",
                     "hydrogels:Pharmaceutical supplies |1.16"
                    ]
                   }
                  },
                  {
                   "industrial processes:Manufacturing industries |0.63": {
                    "children": [
                     {
                      "distillation:Water purification. Water treatment and conditioning. Saline water conversion |0.95": {
                       "children": [
                        "desalination:Water purification. Water treatment and conditioning. Saline water conversion |0.75",
                        "separation processes:Processing |1.11"
                       ]
                      }
                     },
                     "industrial application:Chemical industries |0.84",
                     {
                      "sludge:Municipal refuse. Solid wastes |0.98": {
                       "children": [
                        "disposal landfill:Sewage collection and disposal systems. Sewerage |0.76"
                       ]
                      }
                     }
                    ]
                   }
                  }
                 ]
                }
               },
               {
                "nuclear reactor:Nuclear engineering. Atomic power |0.75": {
                 "children": [
                  "electrical failure:Electricity |1.01",
                  "high neutron:Nuclear and particle physics. Atomic energy. Radioactivity |1.05",
                  "reactors:Nuclear engineering. Atomic power |0.95"
                 ]
                }
               },
               {
                "solar energy:Renewable energy sources |0.52": {
                 "children": [
                  {
                   "renewable electricity:Renewable energy sources |0.31": {
                    "children": [
                     "energy consumption:Energy conservation |0.79",
                     "energy storage:Power resources |0.83",
                     {
                      "renewable:Renewable energy sources |0.64": {
                       "children": [
                        "development renewable:Renewable energy sources |0.65"
                       ]
                      }
                     }
                    ]
                   }
                  },
                  {
                   "solar cell:Photoelectronic devices (General) |0.93": {
                    "children": [
                     "heterojunction solar:Solar system |1.21",
                     "photovoltaic:Renewable energy sources |0.78"
                    ]
                   }
                  },
                  {
                   "thermal properties:Temperature |0.98": {
                    "children": [
                     {
                      "geotechnical:Geology |0.58": {
                       "children": [
                        "geothermal:Geology |0.96"
                       ]
                      }
                     },
                     "high temperature:Temperature |0.61",
                     "refrigeration systems:Low temperature engineering. Cryogenic engineering. Refrigeration |0.85",
                     "thermal:Heat |0.61",
                     "thermal insulation:Electric heating |1.02",
                     "thermal stability:Temperature |1.09",
                     {
                      "thermoplastic:Materials of engineering and construction. Mechanics of materials |1.07": {
                       "children": [
                        "thermoelectric:Electric heating |0.89"
                       ]
                      }
                     }
                    ]
                   }
                  },
                  "wind power:Renewable energy sources |0.66"
                 ]
                }
               }
              ]
             }
            },
            {
             "hydrological ecological:Hydrology. Water |0.6": {
              "children": [
               "alpine areas:Alps |0.54",
               {
                "catchments runoff:Watersheds. Runoff. Drainage |0.37": {
                 "children": [
                  {
                   "drought:Irrigation |0.92": {
                    "children": [
                     "heavy precipitation:Climatology and weather |0.96",
                     "tropical cyclones:Natural disasters |0.78"
                    ]
                   }
                  },
                  {
                   "wastewater:Sewage collection and disposal systems. Sewerage |0.74": {
                    "children": [
                     "hydroelectric:Dams. Barrages |0.73",
                     "hydrologic data:Marine hydrography. Hydrographic surveying |0.74",
                     "osmosis:Hydrology. Water |0.95",
                     "runoff surface:Watersheds. Runoff. Drainage |0.71",
                     {
                      "wastewater treatment:Industrial and factory sanitation |0.58": {
                       "children": [
                        "area groundwater:Groundwater. Hydrogeology |0.58"
                       ]
                      }
                     },
                     "watershed scale:Watersheds. Runoff. Drainage |0.79"
                    ]
                   }
                  }
                 ]
                }
               },
               {
                "ecosystem:Ecology |0.4": {
                 "children": [
                  {
                   "coastal ecosystem:Estuarine oceanography |0.71": {
                    "children": [
                     "fisheries management:Fishery management. Fishery policy |0.21"
                    ]
                   }
                  },
                  {
                   "forest ecosystems:Forestry |0.55": {
                    "children": [
                     "aquatic ecosystems:Lakes. Limnology. Ponds. Lagoons |0.47",
                     {
                      "forest:Forestry |0.57": {
                       "children": [
                        "deforestation:Forestry |0.6"
                       ]
                      }
                     },
                     "phytoplankton:Seagrasses |0.84"
                    ]
                   }
                  }
                 ]
                }
               },
               {
                "organic soils:Forest soils |0.6": {
                 "children": [
                  {
                   "agricultural products:Animal products |0.44": {
                    "children": [
                     {
                      "crops:Food crops |0.28": {
                       "children": [
                        "crop production:Food crops |0.35"
                       ]
                      }
                     },
                     {
                      "foods important:Nutrition. Foods and food supply |0.69": {
                       "children": [
                        "food products:Animal products |0.35",
                        "food security:Food and food supply in relation to public health |0.63"
                       ]
                      }
                     }
                    ]
                   }
                  },
                  "organic inorganic:Inorganic chemistry |0.64",
                  {
                   "phosphorus nitrogen:Fertilizers and improvement of the soil |1.17": {
                    "children": [
                     {
                      "nitrogen:Fuel |0.96": {
                       "children": [
                        "carbon nutrient:Nutrition. Foods and food supply |1.1"
                       ]
                      }
                     },
                     "phosphate based:Inorganic chemistry |1.03"
                    ]
                   }
                  },
                  {
                   "soil soil:Forest soils |0.73": {
                    "children": [
                     "fertilizer:Fertilizers and improvement of the soil |0.48",
                     "soil behavior:Soil conservation and protection |0.7",
                     "soil data:Soils. Soil science ⁠Including soil surveys, soil chemistry, soil structure, soil-plant relationships |0.75"
                    ]
                   }
                  }
                 ]
                }
               }
              ]
             }
            },
            {
             "scientific research:Research. Experimentation |0.36": {
              "children": [
               "nondestructive evaluation:Evaluation |1.14",
               "research:Research |0.0",
               "spectrometry:Spectroscopy |0.6",
               {
                "tribological:Mineralogy |1.09": {
                 "children": [
                  "mathematics:Mathematics |0.0"
                 ]
                }
               }
              ]
             }
            }
           ]
          }
         },
         "droplet:Seawater |1.28",
         {
          "materials electronic:Electronics |0.84": {
           "children": [
            {
             "amorphous:Glass |0.93": {
              "children": [
               {
                "crystallization behavior:Crystallography |0.85": {
                 "children": [
                  "crystal growth:Crystallography |0.7",
                  {
                   "multiferroic:Muscovy |1.24": {
                    "children": [
                     "tial intermetallic:Tiranë |1.13"
                    ]
                   }
                  },
                  "superconductors:Magnetism |1.11"
                 ]
                }
               },
               {
                "surface plasmon:Applied optics. Photonics |1.21": {
                 "children": [
                  "perovskite based:Inorganic chemistry |1.03",
                  "phthalocyanines main:Organic chemistry |1.02",
                  "plasmon resonance:Electromagnetic theory |1.2"
                 ]
                }
               }
              ]
             }
            },
            "cathode material:Industrial electrochemistry |1.18",
            {
             "cavitation:Physics and acoustics |1.21": {
              "children": [
               "plasma:Electricity |0.86"
              ]
             }
            },
            {
             "composite materials:Materials of engineering and construction. Mechanics of materials |0.8": {
              "children": [
               {
                "alloys:Metallurgy |0.65": {
                 "children": [
                  "ceramic:Ceramics |0.2",
                  "lithography:Lithography |0.0",
                  {
                   "materials science:Materials of engineering and construction. Mechanics of materials |0.55": {
                    "children": [
                     "properties materials:Special materials |0.75"
                    ]
                   }
                  },
                  {
                   "stainless steel:Metallurgy |0.9": {
                    "children": [
                     {
                      "strength steel:Metallurgy |1.02": {
                       "children": [
                        "welded metal:Metalwork |0.58"
                       ]
                      }
                     }
                    ]
                   }
                  },
                  "transition metal:Inorganic chemistry |0.93"
                 ]
                }
               },
               {
                "concrete:Stonework |0.93": {
                 "children": [
                  "asphalt:Pavements and paved roads |0.83",
                  {
                   "cement based:Cement industries |0.79": {
                    "children": [
                     "cement composites:Cement industries |0.83"
                    ]
                   }
                  },
                  "concrete structures:Earthwork. Foundations |0.66",
                  "construction material:Materials of engineering and construction. Mechanics of materials |0.58"
                 ]
                }
               },
               {
                "polymer composites:Polymers and polymer manufacture |0.45": {
                 "children": [
                  "composite:Costume |1.27",
                  "fibre reinforced:Textiles |0.88",
                  {
                   "glass fiber:Glass |0.53": {
                    "children": [
                     {
                      "fiber:Textiles |1.03": {
                       "children": [
                        "carbon fiber:Textiles |0.86",
                        "fiber laser:Applied optics. Photonics |1.02"
                       ]
                      }
                     },
                     "glassy polymers:Glass |0.72"
                    ]
                   }
                  },
                  {
                   "plastic products:Animal products |0.74": {
                    "children": [
                     "foam materials:Special materials |1.0",
                     "various biomaterials:Special materials |0.91"
                    ]
                   }
                  },
                  "polymer based:Polymers and polymer manufacture |0.57"
                 ]
                }
               },
               {
                "porous materials:Materials of engineering and construction. Mechanics of materials |0.96": {
                 "children": [
                  "flexible:Mechanical movements |1.25",
                  "membrane:Seawater |1.14",
                  "transparent materials:Glass |0.89"
                 ]
                }
               }
              ]
             }
            },
            {
             "corrosion:Metalwork |0.9": {
              "children": [
               "deterioration quality:Degeneration |0.98",
               {
                "mechanical behavior:Mechanical movements |0.5": {
                 "children": [
                  "friction:Mechanical movements |0.87"
                 ]
                }
               },
               {
                "vapor deposition:Steam engineering |1.12": {
                 "children": [
                  "layer deposition:Lithography |1.09",
                  {
                   "surface treatment:Technique and materials |1.01": {
                    "children": [
                     "surface salinity:Ground and surface waters |0.84"
                    ]
                   }
                  }
                 ]
                }
               }
              ]
             }
            },
            {
             "dielectric:Electromagnetic theory |1.05": {
              "children": [
               {
                "advanced semiconductor:Photoelectronic devices (General) |0.92": {
                 "children": [
                  "flexible electronics:Electronics |0.99"
                 ]
                }
               },
               "anode material:Illuminating industries (Nonelectric) |1.14",
               "optoelectronic technology:Photoelectronic devices (General) |0.56"
              ]
             }
            },
            {
             "electrical insulators:Electric apparatus and materials. Electric circuits. Electric networks |0.84": {
              "children": [
               "capacitors:Electricity |0.84",
               "insulators:Electricity |0.87"
              ]
             }
            },
            {
             "electrochemical:Industrial electrochemistry |0.65": {
              "children": [
               "electrode materials:Industrial electrochemistry |0.76",
               {
                "oxides materials:Inorganic chemistry |0.83": {
                 "children": [
                  "zinc oxide:Inorganic chemistry |0.91"
                 ]
                }
               }
              ]
             }
            },
            {
             "magnetic properties:Magnetism |0.64": {
              "children": [
               "ferroelectric:Industrial electrochemistry |1.21",
               {
                "magnetoresistance:Magnetism |0.69": {
                 "children": [
                  "magnetoelectric:Electricity and magnetism |0.72"
                 ]
                }
               }
              ]
             }
            },
            {
             "material lithium:Special materials |1.05": {
              "children": [
               {
                "boron nitride:Chemical technology |1.28": {
                 "children": [
                  "boron:Ceramics |1.15",
                  "niobium niobium:Niue |0.86",
                  {
                   "rare earth:Precious metals. Bullion |0.85": {
                    "children": [
                     "chromium:Java |1.25"
                    ]
                   }
                  },
                  "zirconia:Ceramics |1.1"
                 ]
                }
               },
               {
                "fe2o3 remarkable:Inorganic chemistry |1.09": {
                 "children": [
                  "ferrite:Electricity |0.94"
                 ]
                }
               },
               "graphene:Special materials |1.11",
               {
                "lithium batteries:Electricity |0.95": {
                 "children": [
                  "batteries libs:Electricity |0.93",
                  "lithium titanate:Inorganic chemistry |1.03"
                 ]
                }
               },
               {
                "titanium dioxide:Inorganic chemistry |0.97": {
                 "children": [
                  {
                   "silicon:Ceramics |0.88": {
                    "children": [
                     "silica:Glass |0.98"
                    ]
                   }
                  }
                 ]
                }
               }
              ]
             }
            },
            {
             "nanotube:Special materials |1.2": {
              "children": [
               {
                "microelectromechanical:Electronics |0.81": {
                 "children": [
                  "nano microscale:Lithography |1.19"
                 ]
                }
               },
               "microfluid:Hydrometeorology |1.26",
               "nanocomposites:Polymers and polymer manufacture |0.99",
               {
                "nanoparticle:Chemistry |1.18": {
                 "children": [
                  "nanoscience nanotechnology:Bioengineering |0.96",
                  "nanostructures:Atomic physics. Constitution and properties of matter ⁠Including molecular physics, relativity, quantum theory, and solid state physics |1.03"
                 ]
                }
               }
              ]
             }
            },
            {
             "photocatalytic:Photochemistry |0.47": {
              "children": [
               "photodetectors:Photoelectronic devices (General) |0.56",
               {
                "photonic:Applied optics. Photonics |0.73": {
                 "children": [
                  {
                   "laser:Optics. Light |1.04": {
                    "children": [
                     "laser diodes:Photoelectronic devices (General) |1.03",
                     "laser pulses:Applied optics. Photonics |1.14"
                    ]
                   }
                  },
                  {
                   "microscopy:Microscopy |0.0": {
                    "children": [
                     "luminescent:Illumination. Lighting |1.0",
                     "microscope:Microscopy |0.25"
                    ]
                   }
                  },
                  "optical devices:Applied optics. Photonics |0.77"
                 ]
                }
               }
              ]
             }
            },
            "silicon carbide:Ceramics |0.93",
            {
             "technological:Technological change |0.67": {
              "children": [
               "aerospace industry:Manufacturing industries |0.61",
               {
                "communication technologies:Telecommunication ⁠Including telegraphy, telephone, radio, radar, television |0.59": {
                 "children": [
                  "information systems:Information technology |0.32",
                  "interconnect:Electronics |1.12"
                 ]
                }
               },
               "difficult machine:Calculating machines |0.7",
               "wearable devices:Electronics |1.01"
              ]
             }
            }
           ]
          }
         },
         {
          "mental disorder:Psychoses |0.51": {
           "children": [
            {
             "anxiety patients:Psychiatry |0.78": {
              "children": [
               "anxiety:Psychoses |0.85",
               "social anxiety:Social psychology |0.95"
              ]
             }
            },
            {
             "aphasia:Literacy. Illiteracy |1.01": {
              "children": [
               "apnea:Anesthesiology |1.12"
              ]
             }
            },
            {
             "cognitive impairment:Mental retardation. Developmental disabilities |0.94": {
              "children": [
               "adhd:Psychoses |0.79",
               {
                "cognitive:Psychology |0.82": {
                 "children": [
                  "mild cognitive:Neurophysiology and neuropsychology |1.01"
                 ]
                }
               },
               {
                "conditions alzheimer:Degeneration |0.94": {
                 "children": [
                  {
                   "neurological disorder:Neurology. Diseases of the nervous system ⁠Including speech disorders |0.74": {
                    "children": [
                     {
                      "nonmotor symptoms:Manifestations of disease |0.94": {
                       "children": [
                        "motor impairments:Mental retardation. Developmental disabilities |0.91"
                       ]
                      }
                     }
                    ]
                   }
                  },
                  "parkinson disease:Diseases due to psychosomatic and nerve disorders. Dermatoneuroses |1.0"
                 ]
                }
               },
               "disability:Children with disabilities |0.69",
               "dystonia:Degeneration |0.99"
              ]
             }
            },
            {
             "cortical:Neurophysiology and neuropsychology |0.94": {
              "children": [
               "hippocampal:Psychology |1.06"
              ]
             }
            },
            {
             "depressive illness:Mental disorders. Child psychiatry |0.7": {
              "children": [
               "major depressive:Psychopathology |1.06"
              ]
             }
            },
            {
             "disorder:Psychiatry |0.58": {
              "children": [
               "affective disorder:Psychopathology |0.71"
              ]
             }
            },
            {
             "drug addiction:Drug habits. Drug abuse |0.47": {
              "children": [
               "addiction:Drug habits. Drug abuse |0.72",
               "nicotine:Tobacco habit |0.58"
              ]
             }
            },
            {
             "health problem:Diseases and adverse factors |0.91": {
              "children": [
               {
                "cardiovascular disease:Diseases of the circulatory (Cardiovascular) system |0.58": {
                 "children": [
                  {
                   "diabetes mellitus:Metabolic diseases |0.7": {
                    "children": [
                     "adults diabetes:Metabolic diseases |1.04",
                     "immunodeficiency syndrome:Immunologic diseases. Allergy |0.91"
                    ]
                   }
                  },
                  "heart disease:Diseases of the circulatory (Cardiovascular) system |0.73"
                 ]
                }
               },
               {
                "mental healthcare:Mental health. Mental illness prevention |0.47": {
                 "children": [
                  {
                   "fatigue:Psychoses |0.97": {
                    "children": [
                     "obesity:Metabolic diseases |0.91"
                    ]
                   }
                  },
                  "physical activity:Physical rehabilitation |0.65",
                  {
                   "public health:Public health |0.0": {
                    "children": [
                     "human health:Public health |0.51"
                    ]
                   }
                  }
                 ]
                }
               }
              ]
             }
            },
            {
             "journalism:Journalism. The periodical press, etc. |0.43": {
              "children": [
               "niqab:Costume |1.06"
              ]
             }
            },
            {
             "obsessive compulsive:Neuroses |0.94": {
              "children": [
               {
                "drowsiness:Hallucinations. Sleep. Dreaming. Visions |1.05": {
                 "children": [
                  "insomnia disorder:Hallucinations. Sleep. Dreaming. Visions |1.0"
                 ]
                }
               }
              ]
             }
            },
            {
             "psychological distress:Psychopathology |0.66": {
              "children": [
               {
                "emotion regulation:Control of social activities |1.05": {
                 "children": [
                  "psychology:Psychology |0.0",
                  "responses emotional:Social psychology |1.03"
                 ]
                }
               }
              ]
             }
            },
            {
             "schizophrenia illness:Psychoses |0.63": {
              "children": [
               "psychiatry:Psychiatry |0.0"
              ]
             }
            },
            {
             "social problem:Social control |0.79": {
              "children": [
               {
                "criminal behaviour:Crimes and offenses |0.58": {
                 "children": [
                  {
                   "violence:Violence. Political violence |0.55": {
                    "children": [
                     "crime:Crimes and offenses |0.48"
                    ]
                   }
                  },
                  "women incarcerated:Reformation and reclamation of adult prisoners |1.0"
                 ]
                }
               },
               {
                "educational researchers:Study and teaching. Research |0.63": {
                 "children": [
                  {
                   "adolescents child:Youth. Adolescents. Teenagers |0.59": {
                    "children": [
                     {
                      "adolescent:Youth. Adolescents. Teenagers |0.59": {
                       "children": [
                        "youth:Youth. Adolescents. Teenagers |0.58"
                       ]
                      }
                     },
                     "child development:Child study |0.54",
                     "child protection:Children |0.81"
                    ]
                   }
                  },
                  {
                   "education teacher:Teaching personnel |0.52": {
                    "children": [
                     {
                      "education issue:Education |0.6": {
                       "children": [
                        "problems educational:Education |0.64"
                       ]
                      }
                     }
                    ]
                   }
                  },
                  {
                   "entrepreneurship:Business |0.67": {
                    "children": [
                     "career development:Vocational guidance. Career devlopment |0.39",
                     "tourism experience:Travel and state. Tourism |0.49"
                    ]
                   }
                  },
                  {
                   "higher education:Higher education |0.0": {
                    "children": [
                     "community colleges:Community colleges. Junior colleges |0.33"
                    ]
                   }
                  },
                  "medical student:Medicine (General) |0.71"
                 ]
                }
               },
               {
                "ethical issues:Ethics |0.52": {
                 "children": [
                  "ethical decision:Ethics |0.52",
                  "study neoliberalism:Liberalism |0.93"
                 ]
                }
               },
               {
                "gender role:Sex role |0.46": {
                 "children": [
                  "gender effect:Sex differences in education |0.79",
                  "incontinence:Pregnancy |1.09",
                  "masculinity:Men |0.83"
                 ]
                }
               },
               {
                "global problems:International security. Disarmament. Global survival |0.83": {
                 "children": [
                  "health global:Public health |0.76",
                  "problems countries:America |0.91"
                 ]
                }
               },
               "negative effects:Diseases and adverse factors |1.05",
               {
                "older people:Geriatrics |0.5": {
                 "children": [
                  {
                   "intergenerational:Adulthood |0.97": {
                    "children": [
                     "epitaxial growth:Nuclear engineering. Atomic power |1.2",
                     "genetic:Genetics |0.21"
                    ]
                   }
                  }
                 ]
                }
               },
               {
                "phenomenon multilingualism:Mixed languages |0.72": {
                 "children": [
                  {
                   "behavior:Interpersonal relations. Social behavior |0.75": {
                    "children": [
                     {
                      "organizational behavior:Organizational sociology. Organization theory |0.62": {
                       "children": [
                        "behavioral traits:Temperament. Character |0.66",
                        "leadership:Administration |0.79"
                       ]
                      }
                     },
                     {
                      "theory mind:Speculative philosophy |0.95": {
                       "children": [
                        {
                         "human perceptual:Social perception. Social cognition ⁠Including perception of the self and others, prejudices, stereotype |0.94": {
                          "children": [
                           "emotional intelligence:Intelligence |0.54",
                           "mindfulness:Devotion. Meditation. Prayer |0.62"
                          ]
                         }
                        }
                       ]
                      }
                     }
                    ]
                   }
                  },
                  {
                   "intercultural relations:Conversation and culture |0.75": {
                    "children": [
                     {
                      "cultural diversity:Culture |0.63": {
                       "children": [
                        "citizenship:Citizenship |0.0",
                        "radicalism phenomenon:Other beliefs and movements |1.15"
                       ]
                      }
                     },
                     {
                      "relationship:Marriage |0.61": {
                       "children": [
                        "mediated communication:Interpersonal communication |0.64",
                        "partnership:Investments |0.89"
                       ]
                      }
                     }
                    ]
                   }
                  },
                  {
                   "language impairment:Language acquisition |0.88": {
                    "children": [
                     {
                      "language disorder:Language |0.81": {
                       "children": [
                        {
                         "second language:Mixed languages |0.44": {
                          "children": [
                           "bilingual:Spanish |0.51",
                           "foreign language:Mixed languages |0.4"
                          ]
                         }
                        }
                       ]
                      }
                     }
                    ]
                   }
                  }
                 ]
                }
               },
               {
                "religious:Religions |0.43": {
                 "children": [
                  "self esteem:Social psychology |0.88"
                 ]
                }
               },
               {
                "social isolation:Interpersonal relations. Social behavior |0.85": {
                 "children": [
                  {
                   "antisocial personality:Deviant behavior. Social deviance |0.78": {
                    "children": [
                     "antisocial:Deviant behavior. Social deviance |0.85"
                    ]
                   }
                  },
                  "stigma:Psychiatry |0.96"
                 ]
                }
               },
               "social justice:Social change |0.84",
               "socioeconomic status:Communities. Classes. Races |0.77",
               {
                "urban areas:Metropolitan areas |0.47": {
                 "children": [
                  "traffic accidents:Accidents. Prevention of accidents |0.47"
                 ]
                }
               }
              ]
             }
            }
           ]
          }
         },
         {
          "science bionic:Bioengineering |0.7": {
           "children": [
            {
             "microbial:Microbiology |0.4": {
              "children": [
               {
                "antibiotic:Antibiotic therapy. Antibiotics |0.48": {
                 "children": [
                  "bacterial infection:Bacteria |0.6"
                 ]
                }
               },
               {
                "biological tissue:Prosthesis. Artificial organs |0.88": {
                 "children": [
                  "biotechnologies:Biotechnology |0.37"
                 ]
                }
               }
              ]
             }
            },
            {
             "prostheses:Prosthesis. Artificial organs |0.48": {
              "children": [
               {
                "epoxy:Special materials |0.89": {
                 "children": [
                  "biomedical implant:Prosthesis. Artificial organs |0.65"
                 ]
                }
               }
              ]
             }
            }
           ]
          }
         }
        ]
       }
      },
      "text/plain": [
       "<IPython.core.display.JSON object>"
      ]
     },
     "execution_count": 553,
     "metadata": {
      "application/json": {
       "expanded": false,
       "root": "root"
      }
     },
     "output_type": "execute_result"
    }
   ],
   "source": [
    "JSON(ff)"
   ]
  },
  {
   "cell_type": "code",
   "execution_count": 558,
   "id": "9ec9a8d8",
   "metadata": {},
   "outputs": [
    {
     "name": "stdout",
     "output_type": "stream",
     "text": [
      "Collecting json2txttree\n",
      "  Downloading json2txttree-1.0.4-py3-none-any.whl (3.9 kB)\n",
      "Installing collected packages: json2txttree\n",
      "Successfully installed json2txttree-1.0.4\n"
     ]
    }
   ],
   "source": [
    "!pip install json2txttree"
   ]
  },
  {
   "cell_type": "code",
   "execution_count": 559,
   "id": "e81ba85c",
   "metadata": {},
   "outputs": [
    {
     "data": {
      "text/plain": [
       "'└─  (object)\\n   └─ \"materials:Special materials |0.49\" (object)\\n      └─ \"children\" (array)\\n         └─  (object)\\n            └─ \"acoustic:Acoustics. Sound |0.59\" (object)\\n               └─ \"children\" (array)\\n                  └─  (string)\\n'"
      ]
     },
     "execution_count": 559,
     "metadata": {},
     "output_type": "execute_result"
    }
   ],
   "source": [
    "from json2txttree import json2txttree\n",
    "\n",
    "json2txttree(ff)"
   ]
  },
  {
   "cell_type": "code",
   "execution_count": 557,
   "id": "c320ede0",
   "metadata": {},
   "outputs": [],
   "source": [
    "import json\n",
    "with open('downloads/matsci2loc.json', 'w') as f:\n",
    "    json.dump(ff, f)"
   ]
  },
  {
   "cell_type": "code",
   "execution_count": 444,
   "id": "66b79f54",
   "metadata": {},
   "outputs": [
    {
     "data": {
      "text/plain": [
       "347"
      ]
     },
     "execution_count": 444,
     "metadata": {},
     "output_type": "execute_result"
    }
   ],
   "source": [
    "def change_value_in_nested(tree, value, newvalue):\n",
    "    d = tree\n",
    "    for v"
   ]
  },
  {
   "cell_type": "code",
   "execution_count": null,
   "id": "98798bff",
   "metadata": {},
   "outputs": [],
   "source": []
  },
  {
   "cell_type": "code",
   "execution_count": 659,
   "id": "0149577a",
   "metadata": {},
   "outputs": [],
   "source": [
    "loc_map = {}\n",
    "for tt in tree_topics:\n",
    "    q = query_index(tt, model, loc_topics, loc_index, True, 3)\n",
    "    if q[0][1] < 0.35:\n",
    "        loc_map[tt] = dict(q)"
   ]
  },
  {
   "cell_type": "code",
   "execution_count": 660,
   "id": "bccb82bf",
   "metadata": {},
   "outputs": [
    {
     "data": {
      "text/plain": [
       "[('Acoustics. Sound', 0.59108245),\n",
       " ('Physics and acoustics', 0.89881885),\n",
       " ('Percussion and other instruments', 1.0003775)]"
      ]
     },
     "execution_count": 660,
     "metadata": {},
     "output_type": "execute_result"
    }
   ],
   "source": [
    "query_index(\"acoustic\", model, loc_topics, loc_index, True, 3)\n"
   ]
  },
  {
   "cell_type": "code",
   "execution_count": 661,
   "id": "56c93728",
   "metadata": {},
   "outputs": [
    {
     "data": {
      "text/plain": [
       "(357, 6525)"
      ]
     },
     "execution_count": 661,
     "metadata": {},
     "output_type": "execute_result"
    }
   ],
   "source": [
    "len(tree_topics), len(loc_topics)"
   ]
  },
  {
   "cell_type": "code",
   "execution_count": 662,
   "id": "6cd19339",
   "metadata": {},
   "outputs": [
    {
     "data": {
      "application/json": {
       "ceramic": {
        "Ceramics": 0.19754992425441742,
        "Clay industries. Ceramics. Glass": 0.758150041103363,
        "Glass": 0.826310396194458
       },
       "citizenship": {
        "Citizenship": 9.49751128437315e-13,
        "Immigration": 0.6152618527412415,
        "Sovereignty": 0.7243416905403137
       },
       "community colleges": {
        "Community colleges. Junior colleges": 0.3266602158546448,
        "Universities. Colleges": 0.7280979156494141,
        "Women's colleges": 0.7243179082870483
       },
       "crops": {
        "Agriculture": 0.42252957820892334,
        "Food crops": 0.2848886251449585,
        "Horticulture. Horticultural crops": 0.5261697173118591
       },
       "environmental pollution": {
        "Environmental pollution": 6.300187693590587e-13,
        "Marine pollution. Sea water pollution": 0.4002092182636261,
        "Water pollution": 0.36726051568984985
       },
       "fisheries management": {
        "Fisheries": 0.23721837997436523,
        "Fishery management. Fishery policy": 0.21032553911209106,
        "Fishery processing": 0.32040947675704956
       },
       "fuels": {
        "Energy industries. Energy policy. Fuel trade": 1.0128324031829834,
        "Fuel": 0.18617723882198334,
        "Gas industry": 0.9825010299682617
       },
       "genetic": {
        "Genetic aspects": 0.5567077994346619,
        "Genetic psychology": 0.545676589012146,
        "Genetics": 0.21257728338241577
       },
       "higher education": {
        "Graduate education": 0.35195624828338623,
        "Higher education": 8.253720515209728e-13
       },
       "information systems": {
        "Information technology": 0.3231442868709564,
        "Management information systems": 0.47709110379219055,
        "Systems engineering": 0.6696313619613647
       },
       "lithography": {
        "Lithography": 6.142378814778804e-13,
        "Metal engraving": 0.8350100517272949,
        "Printmaking and engraving": 0.7372017502784729
       },
       "mathematics": {
        "Algebra": 0.3985537588596344,
        "Elementary mathematics. Arithmetic": 0.5038366317749023,
        "Mathematics": 8.487540639930125e-13
       },
       "microscope": {
        "Microbiology": 0.8477559089660645,
        "Microscopy": 0.25263383984565735,
        "Zoology": 0.9912294149398804
       },
       "microscopy": {
        "Microbiology": 0.9260866641998291,
        "Microscopy": 9.817727143410226e-13,
        "Science (General)": 0.8863692879676819
       },
       "psychiatry": {
        "Psychiatry": 6.611052308889975e-13,
        "Psychopathology": 0.4719852805137634,
        "Psychosomatic medicine": 0.5484853982925415
       },
       "psychology": {
        "Psychology": 6.13613055765877e-13,
        "Social psychology": 0.29255199432373047
       },
       "public health": {
        "Public health": 6.169926223577316e-13
       },
       "renewable electricity": {
        "Electricity": 0.764496386051178,
        "Power resources": 0.5907613039016724,
        "Renewable energy sources": 0.3129878640174866
       },
       "research": {
        "Research": 7.824015415582031e-13,
        "Research. Experimentation": 0.487233966588974,
        "Science and arts. Research": 0.7849367260932922
       }
      },
      "text/plain": [
       "<IPython.core.display.JSON object>"
      ]
     },
     "execution_count": 662,
     "metadata": {
      "application/json": {
       "expanded": false,
       "root": "root"
      }
     },
     "output_type": "execute_result"
    }
   ],
   "source": [
    "JSON(loc_map)"
   ]
  },
  {
   "cell_type": "code",
   "execution_count": null,
   "id": "fa4832d3",
   "metadata": {},
   "outputs": [],
   "source": [
    "topic_tree"
   ]
  },
  {
   "cell_type": "code",
   "execution_count": 25,
   "id": "205505e7",
   "metadata": {},
   "outputs": [
    {
     "name": "stdout",
     "output_type": "stream",
     "text": [
      "Collecting treelib\n",
      "  Using cached treelib-1.6.1-py3-none-any.whl\n",
      "Collecting scikit-network\n",
      "  Using cached scikit_network-0.20.0-cp36-cp36m-manylinux2010_x86_64.whl (7.5 MB)\n",
      "Requirement already satisfied: future in /home/ec2-user/anaconda3/envs/pytorch_p36/lib/python3.6/site-packages (from treelib) (0.18.2)\n",
      "Requirement already satisfied: numpy>=1.18.3 in /home/ec2-user/anaconda3/envs/pytorch_p36/lib/python3.6/site-packages (from scikit-network) (1.19.5)\n",
      "Requirement already satisfied: scipy>=1.4.1 in /home/ec2-user/anaconda3/envs/pytorch_p36/lib/python3.6/site-packages (from scikit-network) (1.5.3)\n",
      "Installing collected packages: treelib, scikit-network\n",
      "Successfully installed scikit-network-0.20.0 treelib-1.6.1\n"
     ]
    }
   ],
   "source": [
    "!pip install treelib scikit-network\n",
    "\n",
    "import copy\n",
    "import json\n",
    "import os\n",
    "from collections import Counter, defaultdict, namedtuple\n",
    "from dataclasses import dataclass, field\n",
    "from typing import AnyStr, Dict, List\n",
    "\n",
    "import numpy as np\n",
    "from scipy.sparse import csr_matrix\n",
    "from sentence_transformers import SentenceTransformer\n",
    "from sklearn.cluster import AgglomerativeClustering\n",
    "from sklearn.feature_extraction.text import TfidfTransformer\n",
    "from sklearn.metrics.pairwise import cosine_similarity\n",
    "from sklearn.preprocessing import normalize\n",
    "from sknetwork.clustering import Louvain\n",
    "from treelib import Tree\n",
    "\n",
    "\n",
    "def make_empty_array():\n",
    "    return np.ndarray([])\n",
    "\n",
    "\n",
    "def make_empty_csr_matrix():\n",
    "    return csr_matrix([])\n",
    "\n",
    "\n",
    "DataProperty = namedtuple(\n",
    "    \"DataProperty\", [\"n_terms\", \"n_occurrences\", \"core_terms\", \"term_set\", \"label\"]\n",
    ")\n",
    "\n",
    "\n",
    "@dataclass\n",
    "class HierarchicalTagger:\n",
    "    \"\"\"\n",
    "    # Basic use:\n",
    "\n",
    "    Data must be dictionaries of the form:\n",
    "    {doc_id : [\"term_1\", \"term_2\", ...]}\n",
    "    DOCS  = {\"1\": [\"Burgers\", \"Vegetarian Diet\"],\n",
    "         \"2\": [\"Britney Spears\", \"Music\", \"Conservatorship\"]}\n",
    "\n",
    "    # Instantiate\n",
    "    hierarchical_tagger = HierarchicalTagger()\n",
    "\n",
    "    # Ingest documents\n",
    "    # Ingest can take time. See below for saving and reloading your object\n",
    "    hierarchical_tagger.ingest(document_terms=DOCS)\n",
    "\n",
    "    # Learn tag tree\n",
    "    hierarchical_tagger.fit_tag_tree()\n",
    "\n",
    "    # Inspect tag tree\n",
    "    hierarchical_tagger.tree.show()   # c.tree is a treelib Tree object\n",
    "\n",
    "    # Tag documents\n",
    "    hierarchical_tagger.tag_documents()\n",
    "\n",
    "    # Inspect document tags\n",
    "    hierarchical_tagger.document_tags # {doc_id : [(tag, score, approximate hierarchy level), ...]}\n",
    "\n",
    "    # Saving to JSON string\n",
    "    serialized = hierarchical_tagger.to_json()\n",
    "\n",
    "    # Loading from JSON string\n",
    "    hierarchical_tagger = HierarchicalTagger.from_json(\n",
    "        serialized,\n",
    "        hydrate_tree=True,\n",
    "        hydrate_tags=True\n",
    "    )\n",
    "\n",
    "    Advanced options:\n",
    "\n",
    "    # Upon document ingestion\n",
    "\n",
    "    term_suggestions: List[AnyStr] = A list of suggested terms to consider when building the tree\n",
    "\n",
    "    filter_geo_terms: bool = A boolean parameter to exclude geographical terms from the term set\n",
    "\n",
    "    document_attributes: Dict[AnyStr, Dict] = A dictionary storing additional arbitrary attributes about the documents.\n",
    "    Expected schema is {doc_id: {attribute_1_name: attribute_1_value, attribute_2_name: attribute_2_value, ... }.\n",
    "    This field is useful to store, for example, document title and text for use in later lookups or comparisons.\n",
    "    This field is also used in the webapp.\n",
    "\n",
    "    # Upon fitting tree\n",
    "\n",
    "    Additional terms can be suggested into the term set (note this can only be done on document\n",
    "    ingestion, see above). As the hierarchical clustering step takes account of the empirical\n",
    "    document frequency in the corpus, suggested terms must also be assigned an estimate/prior of\n",
    "    their likely document frequencies to help guide the breadth of the relevance of each term. In\n",
    "    some cases, it may be useful to estimate these document frequencies from a separate corpus.\n",
    "    -  term_suggestions_doc_freq: List[float] = A prior on doc frequency for terms in\n",
    "    term_suggestions\n",
    "\n",
    "    The user can provide a list of terms to exclude. These terms as well as their synonyms\n",
    "    (precisely, all terms falling into a cluster including a term on the excluion list, see next\n",
    "    paragraph) are removed from the cluster set.\n",
    "    -  term_exclusion_list: List[AnyStr] = A list of suggested terms to exclude when building the\n",
    "    tree. Synonyms are also dropped.\n",
    "\n",
    "    Similar terms are deduplicated using Louvain clustering on embeddings representing the term's\n",
    "    meanings.\n",
    "    -  term_similarity_threshold: float [0,1] = Controls the similarity threshold when constructing\n",
    "    the adjacency matrix for this clustering.\n",
    "\n",
    "    Terms in clusters whose terms have low document frequency across all terms in the cluster are\n",
    "    dropped.\n",
    "    -  min_term_cluster_count: int [1,n_docs] = The minimum count of term occurrences across docs\n",
    "    for all terms in each cluster.\n",
    "\n",
    "    Tree fitting is non-deterministic. Use random_state for replicability.\n",
    "    -  random_state: int = None\n",
    "\n",
    "    # Upon tagging documents\n",
    "\n",
    "    When tagging a document, we want to also ensure a connection is made to broader / more abstract\n",
    "    domains. For example, 'batteries' could be mapped to something like:\n",
    "      'battery storage' > 'electricity systems' > 'renewable energy' > 'energy' > 'sustainability'.\n",
    "    The min_abstraction_similarity parameter gives control over how far removed an abstraction can\n",
    "    be from the original term.\n",
    "    -  min_abstraction_similarity:  float [0,1]= .2\n",
    "\n",
    "    Each tag assigned to a document is also given a score measuring how related it is to that\n",
    "    docuement. From observation, a score of >0.4 is very strong, results are quite decent until\n",
    "    ~0.2 and get patchy below that. The min_tag_score parameter sets the threshold below which tags\n",
    "    will not be assigned to documents.\n",
    "    -  min_tag_score: float = .15\n",
    "    \"\"\"\n",
    "\n",
    "    # INGEST INPUT\n",
    "    document_terms: Dict[AnyStr, List] = field(default_factory=dict)\n",
    "    document_attributes: Dict[AnyStr, Dict] = field(default_factory=dict)\n",
    "    term_suggestions: List[AnyStr] = field(default_factory=list)\n",
    "    filter_geo_terms: bool = False\n",
    "\n",
    "    # DERIVED UPON INGEST\n",
    "    n_docs: int = 0\n",
    "    filtered_terms: List[AnyStr] = field(default_factory=list)\n",
    "    term_pipeline: Dict[AnyStr, Dict] = field(default_factory=dict)\n",
    "    term_counts: Counter = field(default_factory=Counter)\n",
    "    term_doc_freq: Dict[AnyStr, float] = field(default_factory=dict)\n",
    "    _term_embeddings: np.array = field(default_factory=make_empty_array)\n",
    "    _filtered_term_similarity: np.array = field(default_factory=make_empty_array)\n",
    "\n",
    "    # FIT TREE INPUT\n",
    "    term_exclusion_list: List[AnyStr] = field(default_factory=list)\n",
    "    term_suggestions_doc_freq: List[float] = field(default_factory=list)\n",
    "    term_similarity_threshold: float = 0.9\n",
    "    min_term_cluster_count: int = 2\n",
    "    random_state: int = None\n",
    "\n",
    "    # DERIVED UPON FITTING TREE\n",
    "    grouped_terms: Dict = field(default_factory=dict)\n",
    "    _collapsed_term_pipeline: Dict = field(default_factory=dict)\n",
    "    processed_document_terms: Dict[AnyStr, List] = field(default_factory=dict)\n",
    "    selected_terms: List[AnyStr] = field(default_factory=list)\n",
    "    _n_selected_terms: int = 0\n",
    "    _selected_terms_idxs: List = field(default_factory=list)\n",
    "    selected_term_counts: Counter = field(default_factory=Counter)\n",
    "    selected_term_doc_freq: Dict[AnyStr, float] = field(default_factory=dict)\n",
    "\n",
    "    # TAG DOCUMENTS INPUT\n",
    "    min_abstraction_similarity: float = 0.2\n",
    "    min_tag_score: float = 0.15\n",
    "\n",
    "    # CONSTANTS\n",
    "    TERM_DROP_KEY: str = \"---DROP---\"\n",
    "    # From https://www.sbert.net/\n",
    "    ENCODER = SentenceTransformer(\"sentence-transformers/paraphrase-mpnet-base-v2\")\n",
    "\n",
    "    # A mapping of output format to list of attribute names for use in serialization.\n",
    "    SERIALIZED_ATTRS = {\n",
    "        \"json_ready\": [\n",
    "            \"document_terms\",\n",
    "            \"document_attributes\",\n",
    "            \"term_exclusion_list\",\n",
    "            \"term_suggestions\",\n",
    "            \"filter_geo_terms\",\n",
    "            \"n_docs\",\n",
    "            \"filtered_terms\",\n",
    "            \"term_pipeline\",\n",
    "            \"term_counts\",\n",
    "            \"term_doc_freq\",\n",
    "            \"term_suggestions_doc_freq\",\n",
    "            \"term_similarity_threshold\",\n",
    "            \"min_term_cluster_count\",\n",
    "            \"random_state\",\n",
    "            \"min_abstraction_similarity\",\n",
    "            \"min_tag_score\",\n",
    "        ],\n",
    "        \"csr_matrix\": [\"_filtered_term_similarity\"],\n",
    "        \"numpy\": [\"_term_embeddings\"],\n",
    "    }\n",
    "\n",
    "    #\n",
    "    # SERIALIZATION METHODS\n",
    "    #\n",
    "\n",
    "    @classmethod\n",
    "    def from_json(cls, serialized_obj, hydrate_tree=False, hydrate_tags=False):\n",
    "\n",
    "        obj_dict = json.loads(serialized_obj)\n",
    "        return cls.from_dict(\n",
    "            obj_dict, hydrate_tree=hydrate_tree, hydrate_tags=hydrate_tags\n",
    "        )\n",
    "\n",
    "    @classmethod\n",
    "    def from_dict(cls, obj_dict, hydrate_tree=False, hydrate_tags=False):\n",
    "\n",
    "        # Convert attributes to target format as per SERIALIZED_ATTRS.\n",
    "        for attr_group, attrs in cls.SERIALIZED_ATTRS.items():\n",
    "            if attr_group == \"numpy\":\n",
    "                for attr in attrs:\n",
    "                    obj_dict[attr] = np.array(obj_dict[attr])\n",
    "            elif attr_group == \"csr_matrix\":\n",
    "                for attr in attrs:\n",
    "                    # csr_matrix is used for serialization, but obj is transformed to dense array\n",
    "                    # for calculations\n",
    "                    obj_dict[attr] = csr_matrix(\n",
    "                        (\n",
    "                            obj_dict[attr][\"data\"],\n",
    "                            (obj_dict[attr][\"row\"], obj_dict[attr][\"col\"]),\n",
    "                        ),\n",
    "                        shape=obj_dict[attr][\"shape\"],\n",
    "                    ).toarray()\n",
    "            elif attr_group == \"set\":\n",
    "                for attr in attrs:\n",
    "                    obj_dict[attr] = set(obj_dict[attr])\n",
    "            else:\n",
    "                # obj_dict[attr] is already of expected type\n",
    "                continue\n",
    "\n",
    "        ht_instance = cls(**obj_dict)\n",
    "\n",
    "        if any([hydrate_tree, hydrate_tags]):\n",
    "            # Recalculate tree with parameter values from serialized object\n",
    "            ht_instance.fit_tag_tree(\n",
    "                **{\n",
    "                    attr: value\n",
    "                    for attr, value in obj_dict.items()\n",
    "                    if attr\n",
    "                    in [\n",
    "                        \"term_suggestions_doc_freq\",\n",
    "                        \"term_similarity_threshold\",\n",
    "                        \"min_term_cluster_count\",\n",
    "                        \"random_state\",\n",
    "                    ]\n",
    "                }\n",
    "            )\n",
    "\n",
    "        if hydrate_tags:\n",
    "            # Recalculate document tags with parameter values from serialized object\n",
    "            ht_instance.tag_documents(\n",
    "                **{\n",
    "                    attr: value\n",
    "                    for attr, value in obj_dict.items()\n",
    "                    if attr in [\"min_abstraction_similarity\", \"min_tag_score\"]\n",
    "                }\n",
    "            )\n",
    "\n",
    "        return ht_instance\n",
    "\n",
    "    def to_json(self):\n",
    "\n",
    "        obj_dict = {\n",
    "            attr: getattr(self, attr)\n",
    "            for attrs in self.SERIALIZED_ATTRS.values()\n",
    "            for attr in attrs\n",
    "        }\n",
    "\n",
    "        # Use smaller csr_matrix for serialization\n",
    "        obj_dict[\"_filtered_term_similarity\"] = csr_matrix(\n",
    "            obj_dict[\"_filtered_term_similarity\"]\n",
    "        )\n",
    "\n",
    "        return json.dumps(obj_dict, cls=CustomEncoder)\n",
    "\n",
    "    def ingest(\n",
    "        self,\n",
    "        document_terms: Dict[AnyStr, List],\n",
    "        document_attributes: Dict[AnyStr, Dict] = None,\n",
    "        term_suggestions: List[AnyStr] = None,\n",
    "        filter_geo_terms: bool = False,\n",
    "        term_similarity_minimum: float = 0.6,\n",
    "    ):\n",
    "        \"\"\"\n",
    "        The ingest step involves going from the terms as they appear in the documents, to a filtered\n",
    "        set of terms to use as candiates in the successive tree fitting step.\n",
    "\n",
    "        We attempt to reduces the term set by combining plurals with singulars and, optionally,\n",
    "        removing geographical names. We then map all the remining filtered_terms into an embedding\n",
    "        space using a large language model.\n",
    "        \"\"\"\n",
    "\n",
    "        # Set up starting values\n",
    "        self._intialize_ingest(document_terms, document_attributes, term_suggestions)\n",
    "\n",
    "        # Create a clean term set from documents and suggestions\n",
    "        self._clean_up_terms(\n",
    "            filter_geo_terms, term_similarity_minimum=term_similarity_minimum\n",
    "        )\n",
    "\n",
    "    def _intialize_ingest(self, document_terms, document_attributes, term_suggestions):\n",
    "        # Resets attributes to empty containers and/or user arguments.\n",
    "        self.term_pipeline = dict()\n",
    "        self.filtered_terms = set()\n",
    "        self.grouped_terms = dict()\n",
    "        self.selected_terms = list()\n",
    "        self.term_suggestions = (\n",
    "            [t.lower() for t in term_suggestions]\n",
    "            if term_suggestions is not None\n",
    "            else list()\n",
    "        )\n",
    "        self.document_terms = document_terms\n",
    "        self.document_attributes = document_attributes\n",
    "        self.n_docs = len(document_terms)\n",
    "\n",
    "    def _clean_up_terms(self, filter_geo_terms, term_similarity_minimum=0.6):\n",
    "        # Create term set from documents and suggestions\n",
    "        self._create_term_set()\n",
    "        # Remove plurals\n",
    "        self._remove_plurals()\n",
    "        # Exclude geographical terms\n",
    "        self.filter_geo_terms = filter_geo_terms\n",
    "        if self.filter_geo_terms is True:\n",
    "            self._apply_geo_term_filter()\n",
    "        # Map terms to embedding space\n",
    "        self._semantic_term_map()\n",
    "        # Create a term similarity matrix, subject to minimum similarity\n",
    "        self._create_filtered_term_similarity(\n",
    "            term_similarity_minimum=term_similarity_minimum\n",
    "        )\n",
    "\n",
    "    def _create_term_set(self):\n",
    "        # Creates initial set of all terms. Also makes lowercase.\n",
    "        lowercase_terms = [\n",
    "            term.lower()\n",
    "            for document in self.document_terms.values()\n",
    "            for term in document\n",
    "        ]\n",
    "        self.filtered_terms = set(lowercase_terms)\n",
    "\n",
    "        # Add suggestions to filtered_terms set\n",
    "        self.filtered_terms = self.filtered_terms.union(set(self.term_suggestions))\n",
    "\n",
    "        # Term counts and frequencies from docs\n",
    "        self.term_counts = Counter(lowercase_terms)\n",
    "        # Calculate term document frequencies.\n",
    "        # Assumes that a term is not present twice in any document.\n",
    "        self.term_doc_freq = {\n",
    "            term: self.term_counts[term] / self.n_docs for term in self.filtered_terms\n",
    "        }\n",
    "\n",
    "    def _remove_plurals(self):\n",
    "        # Creates a term_pipeline step mapping plural terms to their singular\n",
    "        plurals = set()\n",
    "        remove_plurals_step = dict()\n",
    "        for term in self.filtered_terms:\n",
    "            # For each plural term where singular is also in set\n",
    "            # Drop the plural and move its counts to the singular\n",
    "            if term[-1] == \"s\" and term[0:-1] in self.filtered_terms:\n",
    "                plurals.add(term)\n",
    "                remove_plurals_step[term] = term[0:-1]\n",
    "                self.term_counts[term[0:-1]] += self.term_counts[term]\n",
    "                self.term_counts[term] = 0\n",
    "            if term[-3:] == \"ies\" and term[0:-3] + \"y\" in self.filtered_terms:\n",
    "                plurals.add(term)\n",
    "                remove_plurals_step[term] = term[0:-3] + \"y\"\n",
    "                self.term_counts[term[0:-3] + \"y\"] += self.term_counts[term]\n",
    "                self.term_counts[term] = 0\n",
    "\n",
    "        self.term_pipeline[\"1: Remove Plurals\"] = remove_plurals_step\n",
    "        self.filtered_terms = self.filtered_terms - plurals\n",
    "\n",
    "    def _apply_geo_term_filter(self):\n",
    "        # Creates a term_pipeline step to remove geographical locations from the term set\n",
    "\n",
    "        # Load set of locations\n",
    "        locations = get_locations_set()\n",
    "\n",
    "        # Initialize pipeline step\n",
    "        remove_geo_terms_step = dict()\n",
    "\n",
    "        # Remove all terms that are exact matches to the location set\n",
    "        geo_terms = set(self.filtered_terms).intersection(locations)\n",
    "        for term in geo_terms:\n",
    "            remove_geo_terms_step[term] = self.TERM_DROP_KEY\n",
    "        self.filtered_terms = self.filtered_terms - geo_terms\n",
    "\n",
    "        # Remove terms that contain locations\n",
    "        def _is_sublist(sub_lst, lst):\n",
    "            n = len(sub_lst)\n",
    "            return any((sub_lst == lst[i : i + n]) for i in range(len(lst) - n + 1))\n",
    "\n",
    "        for term in self.filtered_terms:\n",
    "            for location in locations:\n",
    "                if _is_sublist(location.split(), term.split()):\n",
    "                    # Remove if location is a subsequence of words in term\n",
    "                    remove_geo_terms_step[term] = self.TERM_DROP_KEY\n",
    "                    geo_terms.add(term)\n",
    "                    # Break out of inner loop to move to next term\n",
    "                    break\n",
    "\n",
    "        self.term_pipeline[\"2: Remove Geo Terms\"] = remove_geo_terms_step\n",
    "        self.filtered_terms = self.filtered_terms - geo_terms\n",
    "\n",
    "    def _semantic_term_map(self):\n",
    "        # Calculate embeddings for terms that passed initial filtering\n",
    "        self.filtered_terms = list(self.filtered_terms)\n",
    "        self._term_embeddings = self.ENCODER.encode(self.filtered_terms)\n",
    "\n",
    "    def _create_filtered_term_similarity(self, term_similarity_minimum=0.6):\n",
    "        self._filtered_term_similarity = cosine_similarity(self._term_embeddings)\n",
    "        # To reduce memory footprint we set all 'low' similarities to zero and convert to csr_matrix\n",
    "        # upon serialization\n",
    "        if term_similarity_minimum:\n",
    "            self._filtered_term_similarity[\n",
    "                self._filtered_term_similarity < term_similarity_minimum\n",
    "            ] = 0\n",
    "\n",
    "    #\n",
    "    # EXTRACT THE HIERARCHICAL TAG TREE\n",
    "    #\n",
    "\n",
    "    def fit_tag_tree(\n",
    "        self,\n",
    "        term_exclusion_list: List[AnyStr] = None,\n",
    "        term_suggestions_doc_freq: List[float] = None,\n",
    "        term_similarity_threshold: float = 0.9,\n",
    "        min_term_cluster_count: int = 2,\n",
    "        random_state: float = None,\n",
    "    ):\n",
    "        \"\"\"\n",
    "        This step fits the tag tree from the document terms.\n",
    "\n",
    "        Some pre-processing steps are carried out further reduce the candidate term sets. We group\n",
    "        semantically similar terms. Terms in groups with low overall document count are dropped.\n",
    "        Terms included in the user-provided exclusion list, as well as their synonyms, are also\n",
    "        dropped. Finally, we select a single term from each remaining group. Terms passing this\n",
    "        processing step are referred to as selected_terms, because they are selected as candidate\n",
    "        terms to appear in the hierarchical tree.\n",
    "        \"\"\"\n",
    "\n",
    "        self._initialize_fit(\n",
    "            term_exclusion_list,\n",
    "            term_suggestions_doc_freq,\n",
    "            term_similarity_threshold,\n",
    "            min_term_cluster_count,\n",
    "            random_state,\n",
    "        )\n",
    "\n",
    "        self._process_terms()\n",
    "\n",
    "        self._extract_tag_tree()\n",
    "\n",
    "    def _initialize_fit(\n",
    "        self,\n",
    "        term_exclusion_list,\n",
    "        term_suggestions_doc_freq,\n",
    "        term_similarity_threshold,\n",
    "        min_term_cluster_count,\n",
    "        random_state,\n",
    "    ):\n",
    "        \"\"\"Resets attributes to empty containers and/or user arguments.\"\"\"\n",
    "\n",
    "        self.term_exclusion_list = (\n",
    "            list({t.lower() for t in term_exclusion_list})\n",
    "            if term_exclusion_list is not None\n",
    "            else list()\n",
    "        )\n",
    "        self.term_similarity_threshold = term_similarity_threshold\n",
    "        self.min_term_cluster_count = min_term_cluster_count\n",
    "        self.term_suggestions_doc_freq = (\n",
    "            term_suggestions_doc_freq\n",
    "            if term_suggestions_doc_freq is not None\n",
    "            else list()\n",
    "        )\n",
    "        if len(self.term_suggestions) != len(self.term_suggestions_doc_freq):\n",
    "            raise ValueError(\n",
    "                \"term_suggestions and term_suggestions_doc_freq must be of equal length.\"\n",
    "            )\n",
    "        self.random_state = (\n",
    "            random_state if random_state is not None else np.random.randint(5000)\n",
    "        )\n",
    "\n",
    "    def _process_terms(self):\n",
    "        # Ingest term suggestion document frequencies\n",
    "        self._read_term_suggestion_doc_freq()\n",
    "        # Group semantically similar terms\n",
    "        self._group_terms()\n",
    "        # Drop low count term clusters\n",
    "        self._drop_low_count_term_clusters()\n",
    "        # Apply term exclusion list\n",
    "        self._apply_term_exclusion_list()\n",
    "        # Select representative terms\n",
    "        self._select_representative_terms()\n",
    "        # Run pipeline to process documents and select final term set\n",
    "        self._run_term_pipeline()\n",
    "        # Refocus internals on selected terms only\n",
    "        self._set_up_for_selected_terms()\n",
    "\n",
    "    def _read_term_suggestion_doc_freq(self):\n",
    "        \"\"\"Add or overwrite doc_freq and counts for suggestions\"\"\"\n",
    "        for suggestion, suggestion_doc_freq in zip(\n",
    "            self.term_suggestions, self.term_suggestions_doc_freq\n",
    "        ):\n",
    "            self.term_doc_freq[suggestion] = suggestion_doc_freq\n",
    "            self.term_counts[suggestion] = int(\n",
    "                self.term_doc_freq[suggestion] * self.n_docs\n",
    "            )\n",
    "\n",
    "    def _group_terms(self):\n",
    "        \"\"\"\n",
    "        Cluster semantically similar terms using Louvain clustering.\n",
    "        In this step, we are aiming to find synonyms, so term_similarity_threshold should be high\n",
    "        (ex. >=0.9)\n",
    "        \"\"\"\n",
    "\n",
    "        louvain = Louvain(random_state=self.random_state)\n",
    "        adjacency = copy.deepcopy(self._filtered_term_similarity)\n",
    "        adjacency[adjacency < self.term_similarity_threshold] = 0\n",
    "        adjacency = csr_matrix(adjacency)\n",
    "        labels = louvain.fit_transform(adjacency)\n",
    "\n",
    "        # Store clustering in dict mapping cluster_label to list of terms\n",
    "        grouped_terms = defaultdict(list)\n",
    "        for t, l in zip(self.filtered_terms, labels):\n",
    "            grouped_terms[str(l)].append(t)\n",
    "\n",
    "        self.grouped_terms = grouped_terms\n",
    "\n",
    "    def _drop_low_count_term_clusters(self):\n",
    "        \"\"\"Creates a term_pipeline step to drop all terms in clusters with low overall term count\"\"\"\n",
    "\n",
    "        low_term_count_clusters = [\n",
    "            k\n",
    "            for k, v in self.grouped_terms.items()\n",
    "            if sum(self.term_counts[t] for t in v) < self.min_term_cluster_count\n",
    "        ]\n",
    "\n",
    "        low_term_count_step = {\n",
    "            term: self.TERM_DROP_KEY\n",
    "            for cluster_id, terms in self.grouped_terms.items()\n",
    "            for term in terms\n",
    "            if cluster_id in low_term_count_clusters\n",
    "        }\n",
    "        self.term_pipeline[\"3: Remove Low Count Terms\"] = low_term_count_step\n",
    "\n",
    "        self.grouped_terms = {\n",
    "            k: v\n",
    "            for k, v in self.grouped_terms.items()\n",
    "            if k not in low_term_count_clusters\n",
    "        }\n",
    "\n",
    "    def _apply_term_exclusion_list(self):\n",
    "        \"\"\"\n",
    "        Creates a term_pipeline step to drop clusters containing terms in the exclusion list\n",
    "        This means that synonyms of the excluded term will also be dropped.\n",
    "        The exclusion list should therefore list *concepts* not merely specific variants of a term.\n",
    "        \"\"\"\n",
    "\n",
    "        exclusion_clusters = [\n",
    "            cluster_id\n",
    "            for cluster_id, terms in self.grouped_terms.items()\n",
    "            if any((term in self.term_exclusion_list) for term in terms)\n",
    "        ]\n",
    "\n",
    "        exclusion_step = {\n",
    "            term: self.TERM_DROP_KEY\n",
    "            for cluster_id, terms in self.grouped_terms.items()\n",
    "            for term in terms\n",
    "            if cluster_id in exclusion_clusters\n",
    "        }\n",
    "\n",
    "        self.term_pipeline[\"4: Apply Term Exclusion List\"] = exclusion_step\n",
    "\n",
    "        self.grouped_terms = {\n",
    "            k: v for k, v in self.grouped_terms.items() if k not in exclusion_clusters\n",
    "        }\n",
    "\n",
    "    def _select_representative_terms(self):\n",
    "        \"\"\"\n",
    "        Creates a term_pipeline step selecting a representative term for each cluster\n",
    "        The term with the highest average cosine similarity with all other terms in the cluster is\n",
    "        chosen.\n",
    "        \"\"\"\n",
    "\n",
    "        term_to_representative_term_step = {}\n",
    "        selected_terms = []\n",
    "\n",
    "        for terms in self.grouped_terms.values():\n",
    "            if len(terms) > 1:\n",
    "                term_ids = [self.filtered_terms.index(t) for t in terms]\n",
    "                # Numerical errors were leading to non-reproducibility of results.\n",
    "                # Use slower dtype=float64 as in Notes here\n",
    "                # https://numpy.org/doc/stable/reference/generated/numpy.sum.html\n",
    "                central_term_id = term_ids[\n",
    "                    np.argsort(\n",
    "                        -self._filtered_term_similarity[term_ids, :][:, term_ids].sum(\n",
    "                            axis=1, dtype=\"float64\"\n",
    "                        )\n",
    "                    )[0]\n",
    "                ]\n",
    "                central_term = self.filtered_terms[central_term_id]\n",
    "                selected_terms.append(central_term)\n",
    "                for term in terms:\n",
    "                    if term != central_term:\n",
    "                        term_to_representative_term_step[term] = central_term\n",
    "\n",
    "        self.term_pipeline[\n",
    "            \"5: Select Representative Terms\"\n",
    "        ] = term_to_representative_term_step\n",
    "\n",
    "    def _run_term_pipeline(self):\n",
    "        \"\"\"\n",
    "        Having logged all term transformation steps in .term_pipeline, we now run the original\n",
    "        document_terms through the pipeline to generate processed_document_terms: a document\n",
    "        representation using terms that have been fully processed.\n",
    "        \"\"\"\n",
    "\n",
    "        # Collapse all pipeline steps to generate a single DAG showing how each term is transformed\n",
    "        # at each step.\n",
    "        self._collapsed_term_pipeline = dict()\n",
    "        for pipeline_step in self.term_pipeline.values():\n",
    "            self._collapsed_term_pipeline.update(pipeline_step)\n",
    "\n",
    "        # Run all document terms through term pipeline\n",
    "        processed_document_terms = {}\n",
    "        for document, term_list in self.document_terms.items():\n",
    "            processed_terms = []\n",
    "            for t in term_list:\n",
    "                # Run lowercase term through pipeline\n",
    "                processed_term = next(self._run_term_through_pipeline(t.lower()))\n",
    "                if processed_term is not None:\n",
    "                    processed_terms.append(processed_term)\n",
    "\n",
    "            processed_document_terms[document] = list(set(processed_terms))\n",
    "\n",
    "        self.processed_document_terms = processed_document_terms\n",
    "\n",
    "    def _run_term_through_pipeline(self, term):\n",
    "        \"\"\"\n",
    "        Recursively traverse the term transformation DAG and yield the final term, or None if term\n",
    "        is dropped.\n",
    "        \"\"\"\n",
    "        term_result = self._collapsed_term_pipeline.get(term)\n",
    "        if term_result is None:\n",
    "            # No further pipeline steps\n",
    "            yield term\n",
    "        if term_result == self.TERM_DROP_KEY:\n",
    "            # Term should be dropped\n",
    "            yield None\n",
    "        # Continue pipeline\n",
    "        yield from self._run_term_through_pipeline(term_result)\n",
    "\n",
    "    def _set_up_for_selected_terms(self):\n",
    "        \"\"\"Set up the final selected_terms and associated embeddings and similarity matrix\"\"\"\n",
    "\n",
    "        # Create set of selected terms from documents after term processing\n",
    "        doc_selected_terms = [\n",
    "            term\n",
    "            for doc_terms in self.processed_document_terms.values()\n",
    "            for term in doc_terms\n",
    "        ]\n",
    "\n",
    "        # Process suggestion terms, and keep only the ones that pass all filters\n",
    "        processed_suggested_terms = [\n",
    "            next(self._run_term_through_pipeline(t)) for t in self.term_suggestions\n",
    "        ]\n",
    "        processed_suggested_terms = [\n",
    "            t for t in processed_suggested_terms if t is not None\n",
    "        ]\n",
    "        suggested_selected_terms = set(self.filtered_terms).intersection(\n",
    "            set(processed_suggested_terms)\n",
    "        )\n",
    "\n",
    "        # Combine into final selected_terms\n",
    "        self.selected_terms = list(\n",
    "            set(doc_selected_terms).union(suggested_selected_terms)\n",
    "        )\n",
    "        self._n_selected_terms = len(self.selected_terms)\n",
    "\n",
    "        # Overwrite count data considering only selected term\n",
    "        self.selected_term_counts = Counter(doc_selected_terms)\n",
    "        self.selected_term_doc_freq = {\n",
    "            term: self.selected_term_counts[term] / self.n_docs\n",
    "            for term in set(doc_selected_terms)\n",
    "        }\n",
    "\n",
    "        # Add or overwrite doc_freq for suggestions\n",
    "        for suggestion, suggestion_doc_freq in zip(\n",
    "            self.term_suggestions, self.term_suggestions_doc_freq\n",
    "        ):\n",
    "            if suggestion in suggested_selected_terms:\n",
    "                self.selected_term_doc_freq[suggestion] = suggestion_doc_freq\n",
    "                self.selected_term_counts[suggestion] = int(\n",
    "                    self.selected_term_doc_freq[suggestion] * self.n_docs\n",
    "                )\n",
    "\n",
    "        # Slice embeddings matrix to focus on selected terms\n",
    "        self._selected_terms_idxs = [\n",
    "            self.filtered_terms.index(t) for t in self.selected_terms\n",
    "        ]\n",
    "        self._selected_terms_embeddings = copy.deepcopy(\n",
    "            self._term_embeddings[self._selected_terms_idxs]\n",
    "        )\n",
    "\n",
    "        # Calculate similarity across selected terms\n",
    "        self._selected_terms_similarity = cosine_similarity(\n",
    "            self._selected_terms_embeddings\n",
    "        )\n",
    "\n",
    "    def _extract_tag_tree(self):\n",
    "\n",
    "        # Run hierarchical clustering on terms\n",
    "        self._build_term_hierarchy()\n",
    "\n",
    "        # Build tree from hierarchy\n",
    "        self._build_tag_tree()\n",
    "\n",
    "    def _build_term_hierarchy(self):\n",
    "        self.hierarchy = AgglomerativeClustering(\n",
    "            n_clusters=None,\n",
    "            affinity=\"cosine\",\n",
    "            memory=None,\n",
    "            connectivity=None,\n",
    "            compute_full_tree=\"auto\",\n",
    "            linkage=\"average\",\n",
    "            distance_threshold=0,\n",
    "            compute_distances=False,\n",
    "        )\n",
    "        self.hierarchy.fit(self._selected_terms_embeddings)\n",
    "\n",
    "    def _build_tag_tree(self):\n",
    "        \"\"\"\n",
    "        Build tree downwards starting from highest node\n",
    "        AgglomerativeClustering.hierarchy.children_ stores the ways in which terms are aggregated\n",
    "        hierarchically we build a tree from these relationships, adding some custom logic and\n",
    "        descriptive data in the process.\n",
    "        \"\"\"\n",
    "\n",
    "        self.tree = Tree()\n",
    "        node_id = self.hierarchy.children_.max() + 1\n",
    "        self._build_term_tree_from_node(\n",
    "            node_id, parent_node_id=None, parent_node_term=None\n",
    "        )\n",
    "\n",
    "        # Filter to core nodes, ie ensuring node labels are unique\n",
    "        self._define_core_nodes()\n",
    "\n",
    "        # Build tag tree from core nodes only\n",
    "        self._build_pruned_tree()\n",
    "\n",
    "        # Replace tree with pruned_tree\n",
    "        self.tree = copy.deepcopy(self.pruned_tree)\n",
    "        self.pruned_tree = None\n",
    "\n",
    "    def _build_term_tree_from_node(self, node_id, parent_node_id, parent_node_term):\n",
    "        \"\"\"\n",
    "        Starting from node_id, recursively traverses all downstream nodes and leaves of\n",
    "        self.hierarchy. At each step computes information about the node/leave in terms of the\n",
    "        downstream nodes and, importantly, selects the most central term to be the name of this\n",
    "        node.\n",
    "        \"\"\"\n",
    "\n",
    "        # Find all terms that contained in this node (i.e. are downstream leaves)\n",
    "        term_ids = list()\n",
    "        self._find_node_term_ids(term_ids, node_id)\n",
    "\n",
    "        # Number of terms and their occurrences in the documents\n",
    "        n_terms = len(term_ids)\n",
    "        n_occurrences = sum(self.term_counts[self.selected_terms[i]] for i in term_ids)\n",
    "\n",
    "        # Represent the node via its contained terms, centrality ranking, and scores\n",
    "        ranked_term_ids, ranked_term_id_scores = self._extract_ranked_term_ids(term_ids)\n",
    "        ranked_terms = [self.selected_terms[i] for i in ranked_term_ids]\n",
    "        terms_set = [\n",
    "            (term, score) for term, score in zip(ranked_terms, ranked_term_id_scores)\n",
    "        ]\n",
    "\n",
    "        # Find all downstream elements\n",
    "        leaves, nodes = self._find_node_children(node_id)\n",
    "\n",
    "        if ranked_terms[0] != parent_node_term:\n",
    "            # If central term for this node different from parent node\n",
    "            # Create a new node with associated term and other metadata\n",
    "            node_term = ranked_terms[0]\n",
    "            self.tree.create_node(\n",
    "                node_term,\n",
    "                node_id,\n",
    "                parent=parent_node_id,\n",
    "                data=DataProperty(\n",
    "                    n_terms,\n",
    "                    n_occurrences,\n",
    "                    ranked_terms[:3],\n",
    "                    terms_set,\n",
    "                    f\"{node_term} - {n_occurrences}\",\n",
    "                ),\n",
    "            )\n",
    "        else:\n",
    "            # If central term for this node is the same a parent node\n",
    "            # Don't create new node and pass parent node id and term downstream\n",
    "            node_id = parent_node_id\n",
    "            node_term = parent_node_term\n",
    "\n",
    "        # Proceed down into the tree, handling nodes and leaves differently\n",
    "\n",
    "        # Recursively move to the downstream nodes, passing this node as parent\n",
    "        for node in nodes:\n",
    "            self._build_term_tree_from_node(node, node_id, node_term)\n",
    "\n",
    "        # Create nodes directly for all immediate downstream leaves\n",
    "        for leaf in leaves:\n",
    "            leaf_term = self.selected_terms[leaf]\n",
    "            if leaf_term != node_term:\n",
    "                # Create leaf nodes if leaf is a different term\n",
    "                self.tree.create_node(\n",
    "                    leaf_term,\n",
    "                    leaf,\n",
    "                    parent=node_id,\n",
    "                    data=DataProperty(\n",
    "                        1,\n",
    "                        self.term_counts[leaf_term],\n",
    "                        [leaf_term],\n",
    "                        [leaf_term],\n",
    "                        f\"{leaf_term} - {self.term_counts[leaf_term]}\",\n",
    "                    ),\n",
    "                )\n",
    "\n",
    "    def _find_node_children(self, node_id):\n",
    "        \"\"\"\n",
    "        Find downstream nodes and leaves for a given node_id\n",
    "        See https://scikit-learn.org/stable/modules/generated/sklearn.cluster.AgglomerativeClustering.html\n",
    "        Section: Attributes -> children_\n",
    "        \"\"\"\n",
    "        if node_id < self._n_selected_terms:\n",
    "            # Leaf node\n",
    "            return [node_id], []\n",
    "        children = self.hierarchy.children_[node_id - self._n_selected_terms]\n",
    "        leaves = [child for child in children if child < self._n_selected_terms]\n",
    "        nodes = [child for child in children if child >= self._n_selected_terms]\n",
    "        return leaves, nodes\n",
    "\n",
    "    def _find_node_term_ids(self, term_ids, node_id):\n",
    "        \"\"\"\n",
    "        Recursively traverse to tree down to the leaves, collecting term_ids for all downstream\n",
    "        terms.\n",
    "        \"\"\"\n",
    "        leaves, nodes = self._find_node_children(node_id)\n",
    "        term_ids.extend(leaves)\n",
    "        for node in nodes:\n",
    "            self._find_node_term_ids(term_ids, node)\n",
    "\n",
    "    def _extract_ranked_term_ids(self, term_ids):\n",
    "        \"\"\"\n",
    "        Rank selected term_ids by (descending) measure of centrality\n",
    "        Centrality is measured by the average term similarity across all terms in the set\n",
    "        weighted by the term document frequencies: semantic similarity to a frequent term will count\n",
    "        more.\n",
    "        \"\"\"\n",
    "\n",
    "        # Similarities in the term set\n",
    "        sim_subgraph = self._selected_terms_similarity[term_ids, :][:, term_ids]\n",
    "        # Term document frequencies\n",
    "        weights = np.array(\n",
    "            [self.selected_term_doc_freq[self.selected_terms[i]] for i in term_ids]\n",
    "        )\n",
    "        # Weighted average term similarity\n",
    "        term_scores = (sim_subgraph * weights.T).sum(axis=1)\n",
    "\n",
    "        # Rankings\n",
    "        ranked_term_ids = [term_ids[i] for i in np.argsort(-term_scores)]\n",
    "        ranked_term_id_scores = -np.sort(-term_scores)\n",
    "        return ranked_term_ids, ranked_term_id_scores\n",
    "\n",
    "    def _define_core_nodes(self, min_n_terms=1):\n",
    "        \"\"\"\n",
    "        Defines set of core_nodes.\n",
    "        If two nodes have the same central term (node.tag), choose the node with the higher document\n",
    "        frequency.\n",
    "        Can also limit nodes to those containing a min_n_terms.\n",
    "        \"\"\"\n",
    "\n",
    "        descending_nodes = sorted(\n",
    "            self.tree.all_nodes(), key=lambda x: x.data.n_occurrences, reverse=True\n",
    "        )\n",
    "\n",
    "        used_terms = set()\n",
    "        core_nodes = []\n",
    "        for node in descending_nodes:\n",
    "            if node.tag not in used_terms and node.data.n_terms > min_n_terms:\n",
    "                core_nodes.append(node)\n",
    "                used_terms.add(node.tag)\n",
    "\n",
    "        self._core_nodes = core_nodes\n",
    "\n",
    "    def _build_pruned_tree(self):\n",
    "        \"\"\"Builds a tree that only exists of nodes in the core nodes\"\"\"\n",
    "        core_node_ids = {x.identifier for x in self._core_nodes}\n",
    "        self.pruned_tree = Tree()\n",
    "        for node in self._core_nodes:\n",
    "            found_parent = False\n",
    "            # Documentation for .predecessor does not exist (yet?)\n",
    "            # See: https://github.com/caesar0301/treelib/blob/master/treelib/node.py#L129\n",
    "            # See: https://github.com/caesar0301/treelib/issues/158\n",
    "            old_tree_parent = node.predecessor(self.tree.identifier)\n",
    "            if not old_tree_parent:\n",
    "                # No parent found -> Add as root node\n",
    "                self.pruned_tree.add_node(node)\n",
    "                found_parent = True\n",
    "            while not found_parent:\n",
    "                # Look until we find ancestor in set of core nodes, and add to pruned_tree.\n",
    "                if old_tree_parent in core_node_ids:\n",
    "                    self.pruned_tree.add_node(node, parent=old_tree_parent)\n",
    "                    found_parent = True\n",
    "                else:\n",
    "                    not_found_node = self.tree.nodes[old_tree_parent]\n",
    "                    old_tree_parent = not_found_node.predecessor(self.tree.identifier)\n",
    "        return self.pruned_tree\n",
    "\n",
    "    #\n",
    "    # TAG DOCUMENTS\n",
    "    #\n",
    "\n",
    "    def tag_documents(\n",
    "        self, min_abstraction_similarity: float = 0.2, min_tag_score: float = 0.15\n",
    "    ):\n",
    "        \"\"\"\n",
    "        Maps document topics to hierarchical tags.\n",
    "\n",
    "        We have a set of candidate tags, represented as nodes in the hierarchical tree, and stored\n",
    "        in core_nodes.\n",
    "\n",
    "        Each node has a unique label (node.tag) and its meaning is represented as a weighted\n",
    "        combination of the children terms (node.data.term_set).\n",
    "\n",
    "        We want to match each of the document topics to the closest candidate node.\n",
    "        Ex 'batteries' -> 'battery storage'.\n",
    "        Additioanlly, we want to also ensure a connection is made to broader / more abstract\n",
    "        domains.\n",
    "        Ex 'batteries' -> 'battery storage' > 'electricity systems' > 'renewable energy' >\n",
    "        'energy' > 'sustainability', ideally with a declining relatedness score as we move further\n",
    "        up the abstractions.\n",
    "\n",
    "        We carry out the following steps to achieve this:\n",
    "            1. Convert core_nodes into a node X term matrix representation\n",
    "            2. Calculate semantic similarity scores across nodes (accounting for the semantic\n",
    "                similarity across terms).\n",
    "            3. Find each node's 'abstractions'. For a node J, 'abstractions' are defined as other\n",
    "                nodes K appearing higher up in the tree, weighted by the similarity between J and K\n",
    "                to capture the increasing remoteness of the abstraction.\n",
    "            4. For each document topic, we map a) closest node (step 1) and b) the node's\n",
    "                abstractions (step 3).\n",
    "            5. We aggregate the topic to abstraction mapping a document level. This yields a\n",
    "                document X node matrix.\n",
    "            6. To account for the fact that higher level abstractions are going to show up more\n",
    "                often, we run this final matrix through a tfidf transformation.\n",
    "        \"\"\"\n",
    "        # Set values\n",
    "        self.min_abstraction_similarity = min_abstraction_similarity\n",
    "        self.min_tag_score = min_tag_score\n",
    "\n",
    "        # Set up a node x term matrix\n",
    "        self._build_node_term_matrix()  # Step 1; nodes X terms matrix\n",
    "        self._build_node_similarity_matrix()  # Step 2; nodes X nodes matrix\n",
    "        self._build_node_abstraction_matrix()  # Step 3 node X nodes matrix\n",
    "        self._match_terms_to_nodes()  # Step 4a; dict term -> closest node\n",
    "\n",
    "        # Match all documents to tags and abstractions\n",
    "        self.document_tag_matrix = np.vstack(\n",
    "            [\n",
    "                self._document_topics_to_tags(document_terms)  # Step 4a, 4b and 5\n",
    "                for document_terms in self.processed_document_terms.values()\n",
    "            ]\n",
    "        )  # documents x nodes matrix\n",
    "\n",
    "        tfidf = TfidfTransformer()  # Step 6\n",
    "        self.document_tags_tfidf = tfidf.fit_transform(self.document_tag_matrix)\n",
    "\n",
    "        self.document_tags = defaultdict(list)\n",
    "        doc_ids = list(self.processed_document_terms.keys())\n",
    "\n",
    "        # Convert documents x nodes matrix to document_id -> tags dictionary\n",
    "        cx = self._tfidf.tocoo()\n",
    "        for idx, i, v in zip(cx.row, cx.col, cx.data):\n",
    "            if v > self.min_tag_score:\n",
    "                self.document_tags[doc_ids[idx]].append(\n",
    "                    tuple([self._core_nodes[i].tag, v, self._core_nodes[i].identifier])\n",
    "                )\n",
    "\n",
    "        # Sort document tags by relevance score\n",
    "        for doc_id, tags in self.document_tags.items():\n",
    "            self.document_tags[doc_id] = sorted(tags, key=lambda x: x[1], reverse=True)\n",
    "\n",
    "    def _build_node_term_matrix(self):\n",
    "        \"\"\"\n",
    "        Build a matrix mapping core nodes (rows) to their contained terms (columns), and their\n",
    "        measure of centrality.\n",
    "        \"\"\"\n",
    "\n",
    "        # Populate as sparse matrix\n",
    "        rows = list()\n",
    "        cols = list()\n",
    "        data = list()\n",
    "        for i, core_node in enumerate(self._core_nodes):\n",
    "            row = np.array(\n",
    "                [i] * core_node.data.n_terms\n",
    "            )  # Rows in same order as _core_nodes\n",
    "            terms, datum = zip(*core_node.data.term_set)\n",
    "            col = np.array([self.selected_terms.index(term) for term in terms])\n",
    "            rows.extend(row)\n",
    "            cols.extend(col)\n",
    "            data.extend(datum)\n",
    "\n",
    "        rows = np.array(rows)\n",
    "        cols = np.array(cols)\n",
    "        data = np.array(data)\n",
    "\n",
    "        node_term_matrix = csr_matrix(\n",
    "            (data, (rows, cols)),\n",
    "            shape=(len(self._core_nodes), len(self.selected_terms)),\n",
    "        )\n",
    "        node_term_matrix = normalize(node_term_matrix)\n",
    "\n",
    "        self._node_term_matrix = node_term_matrix\n",
    "\n",
    "        # Mapping of node identifier to node index in node_term_matrix rows\n",
    "        self._node_id_to_idx = {\n",
    "            core_node.identifier: i for i, core_node in enumerate(self._core_nodes)\n",
    "        }\n",
    "        self._node_idx_to_id = {\n",
    "            i: core_node.identifier for i, core_node in enumerate(self._core_nodes)\n",
    "        }\n",
    "\n",
    "    def _build_node_similarity_matrix(self):\n",
    "\n",
    "        \"\"\"\n",
    "        Calculate a matrix of cosine similarity across all nodes, but weighted to allow similar\n",
    "        terms to count, at least partially, towards the similarity.\n",
    "\n",
    "        See https://en.wikipedia.org/wiki/Cosine_similarity#Soft_cosine_measure\n",
    "\n",
    "        Two docs [\"electric cars\", \"urban mobility\"] & [\"electric vehicles\", \"urban mobility\"]\n",
    "        should have a similarity of almost 1 and not of just 0.5 as would be the case if we only\n",
    "        consider the exact terms.\n",
    "        To achieve this, we weigh the contribution of the \"electric cars\" <-> \"electric vehicles\"\n",
    "        by their term as estimates by based on their language model embedding vectors.\n",
    "\n",
    "        Normally we would construct a document pairwise similarity matrix using cosine similarity.\n",
    "        For unit vectors, this is just the dot product of all vector pairs:\n",
    "\n",
    "        raw_similarity_matrix = entity_set_A_features * entity_set_B_features.T\n",
    "\n",
    "        However, we want for similar terms (electric car vs elecrtic vehicles) to count towards the\n",
    "        similarity. We can do this by weighing the product by the similarity across terms.\n",
    "        So we do this instead:\n",
    "        raw_similarity_matrix = entity_set_A_features * term_similarity * entity_set_B_features.T\n",
    "\n",
    "        However, this similarity score will not be bounded to 1. It will increase arbitrarily with\n",
    "        the number of terms present in a document, and will include some double counting if a\n",
    "        document itself is tagged with two similar terms, which then will be 'doubly' similar when\n",
    "        matched to the terms in the other document.\n",
    "\n",
    "        To remove this effect we aim to normalize similarity by the geometric mean of the\n",
    "        non-normalized similarity scores of entities in set A and set B with themselves.\n",
    "\n",
    "        We take diagonal from the non-normalized similarity matrices of sets A and B and take the\n",
    "        product of all pairs. Then take the sqrt to get geometric mean.\n",
    "\n",
    "        non_normalized_set_A_similarity_matrix =\n",
    "            entity_set_A_features * term_similarity * entity_set_A_features.T\n",
    "\n",
    "        non_normalized_set_B_similarity_matrix =\n",
    "            entity_set_B_features * term_similarity * entity_set_B_features.T\n",
    "\n",
    "        normalization_denominator =\n",
    "            np.sqrt(\n",
    "                non_normalized_set_A_similarity_matrix.diagonal()[:,None] *\n",
    "                non_normalized_set_B_similarity_matrix.diagonal()\n",
    "            )\n",
    "\n",
    "        We then divide the raw_similarity_matrix by the normalization_denominator to get a\n",
    "        similarity_matrix (approximately) bounded by 0 and 1.\n",
    "        Note: Approximately as in practice we've seen values bounded by 1 but going slightly below\n",
    "        0, although we have not investigated why.\n",
    "\n",
    "        The normalization_denominator may have some 0 entries (unless all terms are used) as some\n",
    "        documents may have 0 for all features. These docs will have 0 self-similarity and we get\n",
    "        division by zero. This is not an issue as the numerator is bound to be 0 too, so we just\n",
    "        skip these cells in the division.\n",
    "\n",
    "        similarity_matrix[normalization_denominator>0] = (\n",
    "            raw_similarity_matrix[normalization_denominator>0] /\n",
    "            normalization_denominator[normalization_denominator>0]\n",
    "        )\n",
    "        \"\"\"\n",
    "\n",
    "        raw_node_sim = (\n",
    "            self._node_term_matrix\n",
    "            * self._selected_terms_similarity\n",
    "            * self._node_term_matrix.T\n",
    "        )\n",
    "        normalization_denominator = np.sqrt(\n",
    "            raw_node_sim.diagonal()[:, None] * raw_node_sim.diagonal()\n",
    "        )\n",
    "        node_similarity_matrix = copy.deepcopy(raw_node_sim)\n",
    "        node_similarity_matrix[normalization_denominator > 0] = (\n",
    "            raw_node_sim[normalization_denominator > 0]\n",
    "            / normalization_denominator[normalization_denominator > 0]\n",
    "        )\n",
    "\n",
    "        self._node_similarity_matrix = node_similarity_matrix\n",
    "\n",
    "    def _build_node_abstraction_matrix(self):\n",
    "        \"\"\"Matrix mapping nodes (rows) to all related higher-order nodes (ie abstractions).\"\"\"\n",
    "\n",
    "        rows = list()\n",
    "        cols = list()\n",
    "        data = list()\n",
    "        for i in range(len(self._core_nodes)):\n",
    "            _, col, scores = zip(*self._get_node_abstractions(i))\n",
    "            row = np.array([i] * len(scores))\n",
    "            rows.extend(row)\n",
    "            cols.extend(col)\n",
    "            data.extend(scores)\n",
    "\n",
    "        rows = np.array(rows)\n",
    "        cols = np.array(cols)\n",
    "        data = np.array(data)\n",
    "\n",
    "        node_abstraction_matrix = csr_matrix(\n",
    "            (data, (rows, cols)), shape=(len(self._core_nodes), len(self._core_nodes))\n",
    "        )\n",
    "\n",
    "        self._node_abstraction_matrix = node_abstraction_matrix\n",
    "\n",
    "    def _get_node_abstractions(self, node_idx):\n",
    "        \"\"\"\n",
    "        Look up all higher-order nodes for given node_id and collect node.identifier and similarity\n",
    "        score.\n",
    "        \"\"\"\n",
    "        lineage = self._show_term_lineage(self._core_nodes[node_idx].identifier)\n",
    "\n",
    "        abstractions = [\n",
    "            (\n",
    "                l.tag,\n",
    "                self._node_id_to_idx[l.identifier],\n",
    "                self._node_similarity_matrix[\n",
    "                    node_idx, self._node_id_to_idx[l.identifier]\n",
    "                ],\n",
    "            )\n",
    "            for l in lineage\n",
    "            if self._node_id_to_idx.get(l.identifier) is not None\n",
    "        ]\n",
    "\n",
    "        return abstractions\n",
    "\n",
    "    def _show_term_lineage(self, node_id):\n",
    "        # Return all the parent nodes up to the top\n",
    "\n",
    "        lineage = [self.tree.nodes[node_id]]\n",
    "\n",
    "        while self.tree.parent(node_id) is not None:\n",
    "            lineage.append(self.tree.parent(node_id))\n",
    "            node_id = self.tree.parent(node_id).identifier\n",
    "\n",
    "        lineage.reverse()\n",
    "        return lineage\n",
    "\n",
    "    def _match_terms_to_nodes(self):\n",
    "        # Refer to discussion in _build_node_similarity_matrix\n",
    "        # Here we are matching the terms themselves to the nodes. The matrix in the left of\n",
    "        # selected_term_similarity would just be the identity matrix.\n",
    "        raw_term_to_node_sim = (\n",
    "            self._selected_terms_similarity * self._node_term_matrix.T\n",
    "        )\n",
    "\n",
    "        # non_normalized_single_term_similarity_matrix =\n",
    "        # identity x selected_term_similarity x identity -->\n",
    "        # selected_term_similarity (diagonal is one...)\n",
    "        non_normalized_node_similarity_matrix = (\n",
    "            self._node_term_matrix\n",
    "            * self._selected_terms_similarity\n",
    "            * self._node_term_matrix.T\n",
    "        )\n",
    "        normalization_denominator = np.sqrt(\n",
    "            self._selected_terms_similarity.diagonal()[:, None]\n",
    "            * non_normalized_node_similarity_matrix.diagonal()\n",
    "        )\n",
    "        term_to_node_sim = copy.deepcopy(raw_term_to_node_sim)\n",
    "        term_to_node_sim[normalization_denominator > 0] = (\n",
    "            raw_term_to_node_sim[normalization_denominator > 0]\n",
    "            / normalization_denominator[normalization_denominator > 0]\n",
    "        )\n",
    "        # Closest node to term. Matrix to dictionary.\n",
    "        term_to_node_matches = np.argmax(term_to_node_sim, axis=1)\n",
    "        self._term_to_node_idx = {\n",
    "            term: node_idx\n",
    "            for term, node_idx in zip(self.selected_terms, term_to_node_matches)\n",
    "        }\n",
    "\n",
    "    def _document_topics_to_tags(self, document_terms):\n",
    "        # For all document terms find matching closest node ids\n",
    "        node_ids = [self._term_to_node_idx[term] for term in document_terms]\n",
    "        # Look up nodes and their abstractions in node_abstraction_matrix\n",
    "        node_abstractions = self._node_abstraction_matrix[node_ids]\n",
    "        # Silence all abstractions below threshold similarity value\n",
    "        node_abstractions[node_abstractions <= self.min_abstraction_similarity] = 0\n",
    "        # Sum across to get document to tags match with weights\n",
    "        return node_abstractions.sum(axis=0)\n",
    "\n",
    "\n",
    "class CustomEncoder(json.JSONEncoder):\n",
    "    def default(self, obj):\n",
    "        if isinstance(obj, np.ndarray):\n",
    "            return obj.tolist()\n",
    "        elif isinstance(obj, csr_matrix):\n",
    "            obj_coo = obj.tocoo()\n",
    "            return {\n",
    "                \"data\": obj_coo.data,\n",
    "                \"row\": obj_coo.row,\n",
    "                \"col\": obj_coo.col,\n",
    "                \"shape\": obj_coo.shape,\n",
    "            }\n",
    "        elif isinstance(obj, set):\n",
    "            return list(obj)\n",
    "        else:\n",
    "            return json.JSONEncoder.default(self, obj)\n",
    "\n",
    "\n",
    "def get_locations_set():\n",
    "    \"\"\"\n",
    "    Collects a standard set of locations to allow filtering these from the term set.\n",
    "    This is useful if clustering documents around location is not of interest.\n",
    "    As the step of filtering location names is computationally demanding,\n",
    "    we restrict the set to countries, capitals, and US states and cites\n",
    "    \"\"\"\n",
    "\n",
    "    # Continents, counties and capitals\n",
    "    # Reference: https://gist.github.com/pamelafox/986163\n",
    "    file_path = os.path.join(os.path.dirname(__file__), \"data/countries.json\")\n",
    "    with open(file_path) as f:\n",
    "        countries = json.load(f)\n",
    "\n",
    "    continents = set()\n",
    "    country_names = set()\n",
    "    capitals = set()\n",
    "    for country in countries:\n",
    "        continents.add(country[\"continent\"].lower())\n",
    "        country_names.add(country[\"name\"].lower())\n",
    "        capitals.add(country[\"capital\"].lower())\n",
    "\n",
    "    # US states\n",
    "    file_path = os.path.join(os.path.dirname(__file__), \"data/us_states.json\")\n",
    "    with open(file_path) as f:\n",
    "        state_names = json.load(f)\n",
    "    state_names = {s.lower() for s in state_names}\n",
    "\n",
    "    # Cities list; limit to US to restrict the set\n",
    "    # Reference: https://datahub.io/core/world-cities, which itself sources the data from https://www.geonames.org/.\n",
    "    file_path = os.path.join(os.path.dirname(__file__), \"data/world-cities.json\")\n",
    "    with open(file_path) as f:\n",
    "        world_cities = json.load(f)\n",
    "\n",
    "    us_cities_list = {\n",
    "        c[\"name\"] for c in world_cities if c[\"country\"] == \"United States\"\n",
    "    }\n",
    "\n",
    "    locations = continents | country_names | capitals | state_names | us_cities_list\n",
    "\n",
    "    return locations"
   ]
  },
  {
   "cell_type": "code",
   "execution_count": null,
   "id": "8de5a13b",
   "metadata": {},
   "outputs": [],
   "source": []
  },
  {
   "cell_type": "code",
   "execution_count": null,
   "id": "c0941690",
   "metadata": {},
   "outputs": [],
   "source": []
  }
 ],
 "metadata": {
  "kernelspec": {
   "display_name": "conda_pytorch_p36",
   "language": "python",
   "name": "conda_pytorch_p36"
  },
  "language_info": {
   "codemirror_mode": {
    "name": "ipython",
    "version": 3
   },
   "file_extension": ".py",
   "mimetype": "text/x-python",
   "name": "python",
   "nbconvert_exporter": "python",
   "pygments_lexer": "ipython3",
   "version": "3.6.13"
  }
 },
 "nbformat": 4,
 "nbformat_minor": 5
}
