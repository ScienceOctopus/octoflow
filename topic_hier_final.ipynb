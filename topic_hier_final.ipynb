{
 "cells": [
  {
   "cell_type": "markdown",
   "id": "341a90a3",
   "metadata": {},
   "source": [
    "Keybert for sample subset of each cluster"
   ]
  },
  {
   "cell_type": "markdown",
   "id": "1d129c61",
   "metadata": {},
   "source": [
    "* attach DOI to each cluster\n",
    "* attach topic1 and topic2 to each cluster"
   ]
  },
  {
   "cell_type": "code",
   "execution_count": 3,
   "id": "f4489b6e",
   "metadata": {},
   "outputs": [],
   "source": [
    "import pandas as pd\n",
    "import json\n",
    "\n",
    "clusters_path = \"downloads/matsci_188k_clusters.json\"\n",
    "\n",
    "df = pd.read_csv(\"downloads/matsci_188k_june24.csv\")#.sample(frac=0.6)\n",
    "# df = df[df.text.notna() & df.doi.notna()]"
   ]
  },
  {
   "cell_type": "code",
   "execution_count": 4,
   "id": "90677774",
   "metadata": {},
   "outputs": [],
   "source": [
    "import json\n",
    "with open(clusters_path) as f:\n",
    "    clusters = json.loads(f.read())\n",
    "    #print(data['data'][0])"
   ]
  },
  {
   "cell_type": "code",
   "execution_count": 5,
   "id": "303eb94c",
   "metadata": {},
   "outputs": [
    {
     "name": "stdout",
     "output_type": "stream",
     "text": [
      "Requirement already satisfied: keybert in /home/ec2-user/anaconda3/envs/pytorch_p36/lib/python3.6/site-packages (0.5.1)\n",
      "Requirement already satisfied: flatdict in /home/ec2-user/anaconda3/envs/pytorch_p36/lib/python3.6/site-packages (4.0.1)\n",
      "Requirement already satisfied: rich>=10.4.0 in /home/ec2-user/anaconda3/envs/pytorch_p36/lib/python3.6/site-packages (from keybert) (12.4.4)\n",
      "Requirement already satisfied: scikit-learn>=0.22.2 in /home/ec2-user/anaconda3/envs/pytorch_p36/lib/python3.6/site-packages (from keybert) (0.24.2)\n",
      "Requirement already satisfied: numpy>=1.18.5 in /home/ec2-user/anaconda3/envs/pytorch_p36/lib/python3.6/site-packages (from keybert) (1.19.5)\n",
      "Requirement already satisfied: sentence-transformers>=0.3.8 in /home/ec2-user/anaconda3/envs/pytorch_p36/lib/python3.6/site-packages (from keybert) (2.2.0)\n",
      "Requirement already satisfied: typing-extensions<5.0,>=4.0.0 in /home/ec2-user/anaconda3/envs/pytorch_p36/lib/python3.6/site-packages (from rich>=10.4.0->keybert) (4.1.1)\n",
      "Requirement already satisfied: pygments<3.0.0,>=2.6.0 in /home/ec2-user/anaconda3/envs/pytorch_p36/lib/python3.6/site-packages (from rich>=10.4.0->keybert) (2.9.0)\n",
      "Requirement already satisfied: dataclasses<0.9,>=0.7 in /home/ec2-user/anaconda3/envs/pytorch_p36/lib/python3.6/site-packages (from rich>=10.4.0->keybert) (0.8)\n",
      "Requirement already satisfied: commonmark<0.10.0,>=0.9.0 in /home/ec2-user/anaconda3/envs/pytorch_p36/lib/python3.6/site-packages (from rich>=10.4.0->keybert) (0.9.1)\n",
      "Requirement already satisfied: threadpoolctl>=2.0.0 in /home/ec2-user/anaconda3/envs/pytorch_p36/lib/python3.6/site-packages (from scikit-learn>=0.22.2->keybert) (2.1.0)\n",
      "Requirement already satisfied: joblib>=0.11 in /home/ec2-user/anaconda3/envs/pytorch_p36/lib/python3.6/site-packages (from scikit-learn>=0.22.2->keybert) (1.0.1)\n",
      "Requirement already satisfied: scipy>=0.19.1 in /home/ec2-user/anaconda3/envs/pytorch_p36/lib/python3.6/site-packages (from scikit-learn>=0.22.2->keybert) (1.5.3)\n",
      "Requirement already satisfied: tqdm in /home/ec2-user/anaconda3/envs/pytorch_p36/lib/python3.6/site-packages (from sentence-transformers>=0.3.8->keybert) (4.61.1)\n",
      "Requirement already satisfied: sentencepiece in /home/ec2-user/anaconda3/envs/pytorch_p36/lib/python3.6/site-packages (from sentence-transformers>=0.3.8->keybert) (0.1.96)\n",
      "Requirement already satisfied: nltk in /home/ec2-user/anaconda3/envs/pytorch_p36/lib/python3.6/site-packages (from sentence-transformers>=0.3.8->keybert) (3.6.2)\n",
      "Requirement already satisfied: torch>=1.6.0 in /home/ec2-user/anaconda3/envs/pytorch_p36/lib/python3.6/site-packages (from sentence-transformers>=0.3.8->keybert) (1.10.2)\n",
      "Requirement already satisfied: huggingface-hub in /home/ec2-user/anaconda3/envs/pytorch_p36/lib/python3.6/site-packages (from sentence-transformers>=0.3.8->keybert) (0.4.0)\n",
      "Requirement already satisfied: torchvision in /home/ec2-user/anaconda3/envs/pytorch_p36/lib/python3.6/site-packages (from sentence-transformers>=0.3.8->keybert) (0.5.0)\n",
      "Requirement already satisfied: transformers<5.0.0,>=4.6.0 in /home/ec2-user/anaconda3/envs/pytorch_p36/lib/python3.6/site-packages (from sentence-transformers>=0.3.8->keybert) (4.18.0)\n",
      "Requirement already satisfied: pyyaml>=5.1 in /home/ec2-user/anaconda3/envs/pytorch_p36/lib/python3.6/site-packages (from transformers<5.0.0,>=4.6.0->sentence-transformers>=0.3.8->keybert) (5.4.1)\n",
      "Requirement already satisfied: sacremoses in /home/ec2-user/anaconda3/envs/pytorch_p36/lib/python3.6/site-packages (from transformers<5.0.0,>=4.6.0->sentence-transformers>=0.3.8->keybert) (0.0.53)\n",
      "Requirement already satisfied: requests in /home/ec2-user/anaconda3/envs/pytorch_p36/lib/python3.6/site-packages (from transformers<5.0.0,>=4.6.0->sentence-transformers>=0.3.8->keybert) (2.25.1)\n",
      "Requirement already satisfied: filelock in /home/ec2-user/anaconda3/envs/pytorch_p36/lib/python3.6/site-packages (from transformers<5.0.0,>=4.6.0->sentence-transformers>=0.3.8->keybert) (3.0.12)\n",
      "Requirement already satisfied: packaging>=20.0 in /home/ec2-user/anaconda3/envs/pytorch_p36/lib/python3.6/site-packages (from transformers<5.0.0,>=4.6.0->sentence-transformers>=0.3.8->keybert) (21.3)\n",
      "Requirement already satisfied: importlib-metadata in /home/ec2-user/anaconda3/envs/pytorch_p36/lib/python3.6/site-packages (from transformers<5.0.0,>=4.6.0->sentence-transformers>=0.3.8->keybert) (4.5.0)\n",
      "Requirement already satisfied: tokenizers!=0.11.3,<0.13,>=0.11.1 in /home/ec2-user/anaconda3/envs/pytorch_p36/lib/python3.6/site-packages (from transformers<5.0.0,>=4.6.0->sentence-transformers>=0.3.8->keybert) (0.12.1)\n",
      "Requirement already satisfied: regex!=2019.12.17 in /home/ec2-user/anaconda3/envs/pytorch_p36/lib/python3.6/site-packages (from transformers<5.0.0,>=4.6.0->sentence-transformers>=0.3.8->keybert) (2021.4.4)\n",
      "Requirement already satisfied: click in /home/ec2-user/anaconda3/envs/pytorch_p36/lib/python3.6/site-packages (from nltk->sentence-transformers>=0.3.8->keybert) (8.0.1)\n",
      "Requirement already satisfied: six in /home/ec2-user/anaconda3/envs/pytorch_p36/lib/python3.6/site-packages (from torchvision->sentence-transformers>=0.3.8->keybert) (1.16.0)\n",
      "Requirement already satisfied: pillow>=4.1.1 in /home/ec2-user/anaconda3/envs/pytorch_p36/lib/python3.6/site-packages (from torchvision->sentence-transformers>=0.3.8->keybert) (8.4.0)\n",
      "Requirement already satisfied: pyparsing!=3.0.5,>=2.0.2 in /home/ec2-user/anaconda3/envs/pytorch_p36/lib/python3.6/site-packages (from packaging>=20.0->transformers<5.0.0,>=4.6.0->sentence-transformers>=0.3.8->keybert) (2.4.7)\n",
      "Requirement already satisfied: zipp>=0.5 in /home/ec2-user/anaconda3/envs/pytorch_p36/lib/python3.6/site-packages (from importlib-metadata->transformers<5.0.0,>=4.6.0->sentence-transformers>=0.3.8->keybert) (3.4.1)\n",
      "Requirement already satisfied: urllib3<1.27,>=1.21.1 in /home/ec2-user/anaconda3/envs/pytorch_p36/lib/python3.6/site-packages (from requests->transformers<5.0.0,>=4.6.0->sentence-transformers>=0.3.8->keybert) (1.26.8)\n",
      "Requirement already satisfied: idna<3,>=2.5 in /home/ec2-user/anaconda3/envs/pytorch_p36/lib/python3.6/site-packages (from requests->transformers<5.0.0,>=4.6.0->sentence-transformers>=0.3.8->keybert) (2.10)\n",
      "Requirement already satisfied: certifi>=2017.4.17 in /home/ec2-user/anaconda3/envs/pytorch_p36/lib/python3.6/site-packages (from requests->transformers<5.0.0,>=4.6.0->sentence-transformers>=0.3.8->keybert) (2021.5.30)\n",
      "Requirement already satisfied: chardet<5,>=3.0.2 in /home/ec2-user/anaconda3/envs/pytorch_p36/lib/python3.6/site-packages (from requests->transformers<5.0.0,>=4.6.0->sentence-transformers>=0.3.8->keybert) (4.0.0)\n"
     ]
    }
   ],
   "source": [
    "!pip install keybert flatdict"
   ]
  },
  {
   "cell_type": "code",
   "execution_count": 6,
   "id": "af47e6df",
   "metadata": {},
   "outputs": [],
   "source": [
    "from keybert import KeyBERT\n",
    "kw_model = KeyBERT()"
   ]
  },
  {
   "cell_type": "code",
   "execution_count": 7,
   "id": "b29dd738",
   "metadata": {},
   "outputs": [],
   "source": [
    "with open(\"downloads/verbs-conjugations.json\") as f:\n",
    "    verbs = json.loads(f.read())\n",
    "    #print(data['data'][0])\n",
    "    \n",
    "import flatdict\n",
    "\n",
    "def flatten(xss):\n",
    "    return [x for xs in xss for x in xs]\n",
    "\n",
    "def contains_number(value):\n",
    "    for character in value:\n",
    "        if character.isdigit():\n",
    "            return True\n",
    "    return False\n",
    "\n",
    "all_verbs = [flatten(flatdict.FlatDict(v_dict).values()) for v_dict in verbs]     \n",
    "flat_verbs = flatten(all_verbs)\n",
    "flat_verbs = [v for v in flat_verbs if len(v) > 2]\n",
    "unique_verbs = list(set(flat_verbs))"
   ]
  },
  {
   "cell_type": "code",
   "execution_count": 8,
   "id": "620d42cc",
   "metadata": {},
   "outputs": [],
   "source": [
    "def get_kws(text, kw_model=kw_model, blacklist=unique_verbs):\n",
    "    kws = kw_model.extract_keywords(text, \n",
    "                          keyphrase_ngram_range=(1, 2), \n",
    "                          stop_words='english',\n",
    "                          use_mmr=True, \n",
    "                          diversity=0.25)\n",
    "    \n",
    "    kws.sort(key=lambda x: x[1], reverse=True)\n",
    "    \n",
    "    nkws = []\n",
    "    for kw in kws:\n",
    "        name, probs = kw\n",
    "        terms = name.split(\" \")\n",
    "        if len([term for term in terms if \n",
    "                term.endswith(\"ing\") \n",
    "                or term.endswith(\"ly\") \n",
    "                or term in blacklist\n",
    "                or len(term) < 4\n",
    "                #or the last letter is the only vowel\n",
    "                or contains_number(term) \n",
    "                or not any(vowel in term for vowel in [\"a\", \"e\", \"i\", \"o\", \"u\"]) #avoid words like hdfg\n",
    "               ]) == 0:\n",
    "            nkws += [kw]\n",
    "    \n",
    "    return nkws\n",
    "#         if len([term for term in kw.split(\" \") if term.endswith(\"ing\")] > or \n",
    "#     return kws"
   ]
  },
  {
   "cell_type": "code",
   "execution_count": 9,
   "id": "9c2b77ad",
   "metadata": {},
   "outputs": [
    {
     "data": {
      "text/plain": [
       "[('perovskites stoichiometry', 0.602),\n",
       " ('halide perovskites', 0.5961),\n",
       " ('hybrid metal', 0.3223)]"
      ]
     },
     "execution_count": 9,
     "metadata": {},
     "output_type": "execute_result"
    }
   ],
   "source": [
    "get_kws(clusters[0][\"text\"])"
   ]
  },
  {
   "cell_type": "code",
   "execution_count": 10,
   "id": "2feb76f2",
   "metadata": {},
   "outputs": [
    {
     "name": "stdout",
     "output_type": "stream",
     "text": [
      "0\n",
      "200\n",
      "400\n",
      "600\n",
      "800\n",
      "1000\n",
      "1200\n",
      "1400\n",
      "1600\n",
      "1800\n",
      "2000\n",
      "2200\n",
      "2400\n",
      "2600\n",
      "2800\n",
      "3000\n",
      "3200\n"
     ]
    }
   ],
   "source": [
    "for i, c in enumerate(clusters):\n",
    "    c[\"topics\"] = get_kws(c[\"text\"])\n",
    "    if i % 200 == 0:\n",
    "        print(i)"
   ]
  },
  {
   "cell_type": "code",
   "execution_count": 11,
   "id": "9e155c77",
   "metadata": {},
   "outputs": [],
   "source": [
    "topic_dict = {}\n",
    "for c in clusters:\n",
    "    topic_dict[c[\"doi\"]] = [t[0] for t in c[\"topics\"][:4] if t[1] > 0.4] #limit to top three ?"
   ]
  },
  {
   "cell_type": "code",
   "execution_count": 12,
   "id": "2f1a09b7",
   "metadata": {},
   "outputs": [],
   "source": [
    "from IPython.display import JSON\n",
    "#JSON(topic_dict)"
   ]
  },
  {
   "cell_type": "code",
   "execution_count": 13,
   "id": "fe2c593f",
   "metadata": {},
   "outputs": [],
   "source": [
    "topic_path='downloads/matsci_188k_topics.json'"
   ]
  },
  {
   "cell_type": "code",
   "execution_count": 14,
   "id": "e70eb957",
   "metadata": {},
   "outputs": [],
   "source": [
    "import json\n",
    "with open(topic_path, 'w') as f:\n",
    "    json.dump(topic_dict, f)"
   ]
  },
  {
   "cell_type": "markdown",
   "id": "75ff61f7",
   "metadata": {},
   "source": [
    "## Hiearchies"
   ]
  },
  {
   "cell_type": "code",
   "execution_count": 17,
   "id": "81214a38",
   "metadata": {},
   "outputs": [],
   "source": [
    "#defined at bottom\n",
    "hierarchical_tagger = HierarchicalTagger()"
   ]
  },
  {
   "cell_type": "code",
   "execution_count": 18,
   "id": "b4e9864e",
   "metadata": {},
   "outputs": [
    {
     "data": {
      "text/plain": [
       "2604"
      ]
     },
     "execution_count": 18,
     "metadata": {},
     "output_type": "execute_result"
    }
   ],
   "source": [
    "## Ingest the processed docs into the HierarchicalTagger pipeline\n",
    "\n",
    "# Load topic labels from precomputed datast\n",
    "ROOT_DIR= \"/home/ec2-user/SageMaker/octoflow\"\n",
    "# If you ran Engines on your own data, change the path to where you stored the output.\n",
    "PRECOMPUTED_ITEM_TOPICS = os.path.join(ROOT_DIR, topic_path)\n",
    "with open(PRECOMPUTED_ITEM_TOPICS, \"r\") as f:\n",
    "    topics = json.load(f)\n",
    "# Confirm we have topics for all 3000 documents\n",
    "len(topics)\n"
   ]
  },
  {
   "cell_type": "code",
   "execution_count": 19,
   "id": "726872e8",
   "metadata": {},
   "outputs": [],
   "source": [
    "attrs = {r[\"doi\"]: {\"fields\": r['fields'], \"text\": r['text']} for i, r in df.iterrows()}"
   ]
  },
  {
   "cell_type": "code",
   "execution_count": 20,
   "id": "c0666d49",
   "metadata": {},
   "outputs": [],
   "source": [
    "# # Rework the document topic representations into a dictionary mapping document_id: List[topic labels as str]\n",
    "# document_topics = {document_id: topics_entry['topics'] for document_id, topics_entry in topics.items()}\n",
    "# Send the document ids and their corresponding topic labels for ingest\n",
    "hierarchical_tagger.ingest(document_terms=topics, document_attributes=attrs)"
   ]
  },
  {
   "cell_type": "code",
   "execution_count": 21,
   "id": "f36987a8",
   "metadata": {},
   "outputs": [],
   "source": [
    "# The previous step is the most computationally demanding.\n",
    "# To avoid having to repeat this, we can save our HierarchicalTagger instance to a json file, using the .to_json() helper method.\n",
    "# As this file will also be the input data to our web app, so let's save it in `webapp/data/`\n",
    "SERIALIZED_INSTANCE_PATH = os.path.join(ROOT_DIR, \"downloads/topic_tree_matsci_june24.json\")\n",
    "with open(SERIALIZED_INSTANCE_PATH, \"w\") as f:\n",
    "    f.write(hierarchical_tagger.to_json())\n",
    "\n",
    "# This is how we can reload a HierarchicalTagger instance from file\n",
    "with open(SERIALIZED_INSTANCE_PATH, \"r\") as f:\n",
    "    reloaded_serialized =  json.load(f)\n",
    "hierarchical_tagger = HierarchicalTagger.from_dict(reloaded_serialized)"
   ]
  },
  {
   "cell_type": "code",
   "execution_count": 22,
   "id": "c1fa055e",
   "metadata": {},
   "outputs": [],
   "source": [
    "# import json\n",
    "# with open('downloads/nonmed_hier_tree.json', 'w') as f:\n",
    "#     json.dump(j, f)"
   ]
  },
  {
   "cell_type": "code",
   "execution_count": 23,
   "id": "9e325232",
   "metadata": {},
   "outputs": [
    {
     "name": "stdout",
     "output_type": "stream",
     "text": [
      "functional materials\n",
      "├── human health\n",
      "│   ├── aortic valve\n",
      "│   └── neurodegenerative disease\n",
      "│       └── fluorosis\n",
      "├── libs\n",
      "├── materials electronic\n",
      "│   ├── cement\n",
      "│   │   ├── asphalt\n",
      "│   │   ├── bridge deck\n",
      "│   │   ├── environmental pollution\n",
      "│   │   │   ├── sludge\n",
      "│   │   │   └── wastewaters treatment\n",
      "│   │   │       └── decontamination cleanup\n",
      "│   │   ├── reinforced concrete\n",
      "│   │   │   └── concrete structures\n",
      "│   │   ├── shale\n",
      "│   │   │   └── geotechnical\n",
      "│   │   └── soil\n",
      "│   ├── composite material\n",
      "│   │   ├── carbon fiber\n",
      "│   │   │   ├── optical fiber\n",
      "│   │   │   └── textile\n",
      "│   │   │       └── fibers textile\n",
      "│   │   ├── composite\n",
      "│   │   ├── composites suitable\n",
      "│   │   ├── fibre reinforced\n",
      "│   │   │   └── reinforced composite\n",
      "│   │   ├── graphitic carbon\n",
      "│   │   │   ├── carbon\n",
      "│   │   │   │   ├── carbonaceous materials\n",
      "│   │   │   │   └── multiwall carbon\n",
      "│   │   │   ├── graphene\n",
      "│   │   │   │   └── graphite\n",
      "│   │   │   └── superconductors\n",
      "│   │   │       ├── capacitors\n",
      "│   │   │       └── supercritical carbon\n",
      "│   │   ├── matrix composite\n",
      "│   │   │   └── metal matrix\n",
      "│   │   ├── metals\n",
      "│   │   │   ├── gratings comprehensive\n",
      "│   │   │   ├── metal corrosion\n",
      "│   │   │   │   ├── galvanic corrosion\n",
      "│   │   │   │   ├── metals alloys\n",
      "│   │   │   │   │   ├── aluminium based\n",
      "│   │   │   │   │   ├── austenitic stainless\n",
      "│   │   │   │   │   ├── materials science\n",
      "│   │   │   │   │   │   ├── ceramic material\n",
      "│   │   │   │   │   │   │   ├── ceramic products\n",
      "│   │   │   │   │   │   │   │   └── ceramics structural\n",
      "│   │   │   │   │   │   │   ├── materials\n",
      "│   │   │   │   │   │   │   │   ├── structural material\n",
      "│   │   │   │   │   │   │   │   │   └── material construction\n",
      "│   │   │   │   │   │   │   │   └── synthetic materials\n",
      "│   │   │   │   │   │   │   └── plastic deformation\n",
      "│   │   │   │   │   │   ├── fabrication advanced\n",
      "│   │   │   │   │   │   │   └── micro fabrication\n",
      "│   │   │   │   │   │   └── surface quality\n",
      "│   │   │   │   │   ├── steel\n",
      "│   │   │   │   │   │   └── strength steel\n",
      "│   │   │   │   │   │       └── steel structures\n",
      "│   │   │   │   │   ├── titanium\n",
      "│   │   │   │   │   └── transition metal\n",
      "│   │   │   │   └── structural health\n",
      "│   │   │   └── porous materials\n",
      "│   │   │       ├── coatings deposited\n",
      "│   │   │       │   ├── coatings\n",
      "│   │   │       │   └── layer deposition\n",
      "│   │   │       └── membrane\n",
      "│   │   ├── polymer based\n",
      "│   │   │   ├── biodegradable\n",
      "│   │   │   ├── conjugate polymer\n",
      "│   │   │   ├── polyurethane foam\n",
      "│   │   │   │   └── foamed materials\n",
      "│   │   │   └── processes polymer\n",
      "│   │   ├── resin\n",
      "│   │   └── silicon carbide\n",
      "│   │       └── carbide based\n",
      "│   ├── energy devices\n",
      "│   │   ├── aerosol\n",
      "│   │   ├── industrial application\n",
      "│   │   │   ├── aircraft structures\n",
      "│   │   │   │   └── aircraft constructions\n",
      "│   │   │   └── wind turbine\n",
      "│   │   │       └── turbine blade\n",
      "│   │   ├── solar cell\n",
      "│   │   │   ├── batteries libs\n",
      "│   │   │   │   ├── battery\n",
      "│   │   │   │   ├── high voltage\n",
      "│   │   │   │   │   └── power devices\n",
      "│   │   │   │   └── rechargeable battery\n",
      "│   │   │   │       └── density rechargeable\n",
      "│   │   │   └── solar energy\n",
      "│   │   │       ├── energy storage\n",
      "│   │   │       │   ├── electric energy\n",
      "│   │   │       │   ├── electric vehicles\n",
      "│   │   │       │   ├── energy consumption\n",
      "│   │   │       │   └── renewable energy\n",
      "│   │   │       └── photovoltaic\n",
      "│   │   └── thermal energy\n",
      "│   │       ├── hydrogen generation\n",
      "│   │       │   ├── catalysts based\n",
      "│   │       │   │   ├── advanced oxidation\n",
      "│   │       │   │   │   └── oxidation processes\n",
      "│   │       │   │   └── catalytic performance\n",
      "│   │       │   ├── derived fuel\n",
      "│   │       │   │   ├── combustion technology\n",
      "│   │       │   │   │   └── flame retardant\n",
      "│   │       │   │   │       └── propellants combustion\n",
      "│   │       │   │   ├── diesel engine\n",
      "│   │       │   │   └── fuel cell\n",
      "│   │       │   │       ├── biomass generated\n",
      "│   │       │   │       ├── diesel fuel\n",
      "│   │       │   │       └── oxide fuel\n",
      "│   │       │   ├── hydrogen\n",
      "│   │       │   │   └── catalytic hydrogenation\n",
      "│   │       │   └── nuclear reactor\n",
      "│   │       │       ├── blast furnace\n",
      "│   │       │       ├── neutron science\n",
      "│   │       │       │   └── gamma radiation\n",
      "│   │       │       ├── nuclear fuel\n",
      "│   │       │       └── reactor\n",
      "│   │       └── thermoelectric\n",
      "│   │           ├── cryogenic\n",
      "│   │           ├── microwave\n",
      "│   │           │   ├── developments microwave\n",
      "│   │           │   └── plasma\n",
      "│   │           ├── photothermal therapy\n",
      "│   │           │   └── geothermal\n",
      "│   │           ├── thermal properties\n",
      "│   │           │   ├── insulation\n",
      "│   │           │   ├── temperature applications\n",
      "│   │           │   ├── thermal conductivity\n",
      "│   │           │   └── thermal stability\n",
      "│   │           │       └── thermal barrier\n",
      "│   │           └── thermoplastics\n",
      "│   │               └── thermosets\n",
      "│   ├── inorganic materials\n",
      "│   │   ├── glassy polymers\n",
      "│   │   │   ├── crystallization\n",
      "│   │   │   │   ├── amorphous\n",
      "│   │   │   │   │   └── solidification\n",
      "│   │   │   │   ├── glass optical\n",
      "│   │   │   │   ├── liquid crystals\n",
      "│   │   │   │   │   └── crystal growth\n",
      "│   │   │   │   ├── mesoporous silica\n",
      "│   │   │   │   │   ├── hydrogels important\n",
      "│   │   │   │   │   └── silica\n",
      "│   │   │   │   └── transparent materials\n",
      "│   │   │   └── plasmonic\n",
      "│   │   │       ├── polyelectrolytes\n",
      "│   │   │       │   ├── conjugated polyelectrolytes\n",
      "│   │   │       │   ├── phosphors\n",
      "│   │   │       │   └── polylactic acid\n",
      "│   │   │       │       ├── content polypropylene\n",
      "│   │   │       │       └── polyethersulfone\n",
      "│   │   │       │           └── polyhydroxyalkanoates phas\n",
      "│   │   │       └── surface plasmon\n",
      "│   │   └── organic inorganic\n",
      "│   │       ├── nitride materials\n",
      "│   │       │   ├── boron compounds\n",
      "│   │       │   ├── niobium\n",
      "│   │       │   ├── rare earth\n",
      "│   │       │   │   └── sulfides\n",
      "│   │       │   │       └── alumina combined\n",
      "│   │       │   └── silicon nitride\n",
      "│   │       │       └── titanium nitride\n",
      "│   │       ├── properties organic\n",
      "│   │       │   └── organic molecular\n",
      "│   │       └── pyrolysis\n",
      "│   │           └── pbte compounds\n",
      "│   ├── magnetic properties\n",
      "│   │   ├── ball bearings\n",
      "│   │   │   └── bearings\n",
      "│   │   ├── ferroelectric\n",
      "│   │   │   └── ferromagnetic layers\n",
      "│   │   └── magnetization\n",
      "│   │       └── magnetoresistance\n",
      "│   ├── material lithium\n",
      "│   │   ├── electrochemical\n",
      "│   │   │   ├── cathode material\n",
      "│   │   │   ├── electrochromic devices\n",
      "│   │   │   └── solid electrolyte\n",
      "│   │   │       └── electrolytes\n",
      "│   │   └── lithium batteries\n",
      "│   ├── mechanical behavior\n",
      "│   │   ├── defects\n",
      "│   │   │   ├── cavitation\n",
      "│   │   │   │   ├── barrier discharge\n",
      "│   │   │   │   └── permeability\n",
      "│   │   │   │       └── moisture content\n",
      "│   │   │   ├── degradation\n",
      "│   │   │   │   └── environment fatigue\n",
      "│   │   │   ├── delamination\n",
      "│   │   │   │   ├── adsorption based\n",
      "│   │   │   │   │   └── refractory materials\n",
      "│   │   │   │   ├── nondestructive evaluation\n",
      "│   │   │   │   └── processes separation\n",
      "│   │   │   └── failure structures\n",
      "│   │   └── ultrasonic\n",
      "│   │       ├── perovskite based\n",
      "│   │       │   └── entropy alloys\n",
      "│   │       │       └── high entropy\n",
      "│   │       └── vibration\n",
      "│   │           └── acoustic\n",
      "│   ├── nano semiconductors\n",
      "│   │   ├── nanotube\n",
      "│   │   │   ├── microelectronics\n",
      "│   │   │   │   └── nanometer\n",
      "│   │   │   ├── microfluid\n",
      "│   │   │   ├── nanoparticles based\n",
      "│   │   │   │   ├── magnetic nanoparticles\n",
      "│   │   │   │   └── nanostructures\n",
      "│   │   │   ├── nanowires\n",
      "│   │   │   └── polycrystalline\n",
      "│   │   └── semiconductor material\n",
      "│   │       ├── dielectric\n",
      "│   │       │   ├── anode material\n",
      "│   │       │   │   └── diode oled\n",
      "│   │       │   │       └── oled\n",
      "│   │       │   ├── dielectric constant\n",
      "│   │       │   ├── flexible electronic\n",
      "│   │       │   │   └── electronic properties\n",
      "│   │       │   │       ├── electronic devices\n",
      "│   │       │   │       │   └── electronic applications\n",
      "│   │       │   │       └── organic electronic\n",
      "│   │       │   └── piezoelectric\n",
      "│   │       │       └── pyroelectric\n",
      "│   │       └── oxide semiconductor\n",
      "│   │           ├── advanced semiconductor\n",
      "│   │           │   ├── integrated circuits\n",
      "│   │           │   ├── metal semiconductor\n",
      "│   │           │   ├── organic semiconductor\n",
      "│   │           │   ├── semiconductors field\n",
      "│   │           │   └── silicon\n",
      "│   │           │       └── amorphous silicon\n",
      "│   │           └── conductivity oxide\n",
      "│   │               ├── conductivity materials\n",
      "│   │               └── metal oxide\n",
      "│   │                   ├── oxide\n",
      "│   │                   │   ├── complex oxides\n",
      "│   │                   │   └── oxide surface\n",
      "│   │                   └── zinc oxide\n",
      "│   ├── photocatalytic\n",
      "│   │   ├── artificial photosynthesis\n",
      "│   │   ├── luminescence\n",
      "│   │   ├── optical material\n",
      "│   │   │   ├── laser applications\n",
      "│   │   │   │   ├── laser diodes\n",
      "│   │   │   │   └── ultrashort laser\n",
      "│   │   │   ├── microscope\n",
      "│   │   │   │   └── spectroscopy techniques\n",
      "│   │   │   │       └── ftir spectrometers\n",
      "│   │   │   ├── near infrared\n",
      "│   │   │   │   ├── emission\n",
      "│   │   │   │   │   └── emission field\n",
      "│   │   │   │   └── solar spectrum\n",
      "│   │   │   └── photonic\n",
      "│   │   │       ├── optical devices\n",
      "│   │   │       └── optoelectronic\n",
      "│   │   ├── photocatalytic degradation\n",
      "│   │   ├── photodetector\n",
      "│   │   └── photoelectrochemical activities\n",
      "│   ├── redox chemistry\n",
      "│   │   ├── epoxy based\n",
      "│   │   │   └── redox\n",
      "│   │   ├── rheological properties\n",
      "│   │   ├── solid lubrication\n",
      "│   │   └── zirconia\n",
      "│   ├── sensor\n",
      "│   │   ├── cmos\n",
      "│   │   └── measurement methods\n",
      "│   └── tribological\n",
      "│       ├── applications multiferroic\n",
      "│       ├── heterostructures\n",
      "│       └── interconnection\n",
      "│           ├── confinement fusion\n",
      "│           │   └── fusion devices\n",
      "│           └── transistors igbts\n",
      "└── various biomaterials\n",
      "    ├── bacterial infection\n",
      "    │   ├── bionanocomposites\n",
      "    │   └── effective antibacterial\n",
      "    │       └── materials antimicrobial\n",
      "    ├── bioactive\n",
      "    │   └── biological soft\n",
      "    │       └── science bionic\n",
      "    ├── biological tissue\n",
      "    ├── implant devices\n",
      "    ├── involves adhesion\n",
      "    └── materials cellulose\n",
      "\n"
     ]
    }
   ],
   "source": [
    "# Fit the tree\n",
    "hierarchical_tagger.fit_tag_tree( term_similarity_threshold = 0.9)\n",
    "hierarchical_tagger.tree.show()"
   ]
  },
  {
   "cell_type": "code",
   "execution_count": 24,
   "id": "847c224f",
   "metadata": {},
   "outputs": [],
   "source": [
    "d = hierarchical_tagger.tree.save2file(\"downloads/matsci_tree_188k_90%sim.txt\")"
   ]
  },
  {
   "cell_type": "code",
   "execution_count": 25,
   "id": "17590148",
   "metadata": {},
   "outputs": [
    {
     "name": "stderr",
     "output_type": "stream",
     "text": [
      "/home/ec2-user/anaconda3/envs/pytorch_p36/lib/python3.6/site-packages/scipy/sparse/compressed.py:290: SparseEfficiencyWarning: Comparing a sparse matrix with a scalar greater than zero using <= is inefficient, try using > instead.\n",
      "  warn(bad_scalar_msg, SparseEfficiencyWarning)\n",
      "/home/ec2-user/anaconda3/envs/pytorch_p36/lib/python3.6/site-packages/scipy/sparse/_index.py:124: SparseEfficiencyWarning: Changing the sparsity structure of a csr_matrix is expensive. lil_matrix is more efficient.\n",
      "  self._set_arrayXarray(i, j, x)\n"
     ]
    }
   ],
   "source": [
    "# The final step is tagging the original documents based on the hierarchy we found in the tree\n",
    "hierarchical_tagger.tag_documents()"
   ]
  },
  {
   "cell_type": "code",
   "execution_count": 26,
   "id": "08a8e488",
   "metadata": {},
   "outputs": [
    {
     "data": {
      "text/plain": [
       "[('anode material', 0.6295846293590486, 1267),\n",
       " ('dielectric', 0.3860587940343037, 1341),\n",
       " ('semiconductor material', 0.2968674535132131, 1359),\n",
       " ('lithium batteries', 0.28525649100509864, 1025),\n",
       " ('batteries libs', 0.2717172143206866, 1296),\n",
       " ('nano semiconductors', 0.23138968705126997, 1374),\n",
       " ('materials electronic', 0.19868859634070776, 1437),\n",
       " ('functional materials', 0.1944065402717671, 1442),\n",
       " ('material lithium', 0.1901922855314038, 1353),\n",
       " ('solar cell', 0.17823843997408048, 1356)]"
      ]
     },
     "execution_count": 26,
     "metadata": {},
     "output_type": "execute_result"
    }
   ],
   "source": [
    "# The final step is tagging the original documents based on the hierarchy we found in the tree\n",
    "hierarchical_tagger.document_tags['10.1021/acsomega.0c00729']"
   ]
  },
  {
   "cell_type": "code",
   "execution_count": 27,
   "id": "a25847fe",
   "metadata": {
    "collapsed": true,
    "jupyter": {
     "outputs_hidden": true
    }
   },
   "outputs": [
    {
     "data": {
      "text/plain": [
       "{'10.1117/12.2272727': [],\n",
       " '10.1016/j.jcis.2015.11.010': ['electrode material',\n",
       "  'energy storage',\n",
       "  'renewable energy'],\n",
       " '10.32474/AOICS.2020.04.000193': ['batteries libs'],\n",
       " '10.1002/adsu.201700182': ['energy storage', 'rechargeable battery'],\n",
       " '10.4028/WWW.SCIENTIFIC.NET/MSF.959.74': ['battery important'],\n",
       " '10.1002/aenm.201802423': ['lithium batteries', 'material lithium'],\n",
       " '10.1007/S12598-019-01263-W': ['rechargeable battery', 'material lithium'],\n",
       " '10.1016/j.ensm.2019.11.025': ['energy storage', 'lithium sulfur'],\n",
       " '10.1021/acsami.9b02813': ['batteries libs',\n",
       "  'material lithium',\n",
       "  'anode material'],\n",
       " '10.1002/CELC.201700970': ['lithium organic',\n",
       "  'sulfur battery',\n",
       "  'lithium sulfur'],\n",
       " '10.1021/acs.iecr.0c00847': ['batteries libs', 'anode material'],\n",
       " '10.1016/j.cej.2020.124120': ['energy storage',\n",
       "  'lithium sulfur',\n",
       "  'material lithium'],\n",
       " '10.1039/c8cp01681j': ['batteries libs',\n",
       "  'electrode material',\n",
       "  'material lithium'],\n",
       " '10.1016/j.jallcom.2020.157626': ['batteries libs', 'anode material'],\n",
       " '10.1016/j.ensm.2020.06.037': ['generation lithium', 'capacity lithium'],\n",
       " '10.1016/J.NANOEN.2018.10.052': ['capacitors', 'energy storage'],\n",
       " '10.1016/j.jallcom.2020.154336': ['batteries libs', 'energy storage'],\n",
       " '10.1016/J.ENSM.2019.06.019': ['density rechargeable',\n",
       "  'rechargeable battery',\n",
       "  'anode material'],\n",
       " '10.1016/j.jallcom.2020.155790': ['lithium sulfur', 'lithium polysulfide'],\n",
       " '10.1016/J.ELECTACTA.2017.03.133': ['cathode material'],\n",
       " '10.1016/j.colsurfa.2020.125249': ['energy storage', 'lithium sulfur'],\n",
       " '10.1149/ma2011-02/7/388': ['portable electronic'],\n",
       " '10.1016/J.ELECTACTA.2016.06.114': ['electrochemical', 'cathode lithium'],\n",
       " '10.3389/fenrg.2014.00043': ['batteries libs', 'libs'],\n",
       " '10.1016/j.jallcom.2019.152969': ['batteries libs',\n",
       "  'oxides tmos',\n",
       "  'anode material'],\n",
       " '10.1016/J.ENSM.2020.09.006': ['batteries libs'],\n",
       " '10.1016/j.ijhydene.2019.10.200': ['supercapacitors', 'electrochemical'],\n",
       " '10.1002/CELC.201402331': ['batteries libs',\n",
       "  'titanium dioxide',\n",
       "  'electrode material',\n",
       "  'material lithium'],\n",
       " '10.1016/J.PHYSE.2017.04.020': ['batteries libs',\n",
       "  'density rechargeable',\n",
       "  'rechargeable lithium',\n",
       "  'electrochemical'],\n",
       " '10.1149/ma2014-03/6/575': ['batteries libs', 'libs', 'material lithium'],\n",
       " '10.1021/acsomega.0c00729': ['density batteries',\n",
       "  'metal anode',\n",
       "  'material lithium',\n",
       "  'anode material'],\n",
       " '10.1021/acs.nanolett.7b01400': [],\n",
       " '10.1149/ma2021-0114mtgabs': ['batteries libs', 'renewable energy'],\n",
       " '10.1039/C8TA11151K': [],\n",
       " '10.1016/J.JPOWSOUR.2019.02.037': ['rechargeable battery'],\n",
       " '10.1016/J.JECHEM.2021.03.035': ['batteries libs'],\n",
       " '10.1039/D0TA05964A': [],\n",
       " '10.1002/aenm.201903634': ['layered oxide', 'cathode material'],\n",
       " '10.1007/s10008-017-3638-8': ['solid electrolyte', 'organic electrolyte'],\n",
       " '10.1021/ACS.JPCC.5B01099': [],\n",
       " '10.1002/er.6708': ['energy storage', 'material lithium'],\n",
       " '10.1021/acsnano.7b08035': ['energy storage',\n",
       "  'lithium sulfur',\n",
       "  'cathode lithium'],\n",
       " '10.1016/J.JPOWSOUR.2021.229464': ['material lithium'],\n",
       " '10.1007/s11581-020-03490-z': ['batteries libs', 'libs', 'material lithium'],\n",
       " '10.1016/J.ENSM.2021.06.037': ['lithium sulfur', 'material lithium'],\n",
       " '10.1021/ACSENERGYLETT.9B00816': ['interfaces electrochemistry',\n",
       "  'material lithium'],\n",
       " '10.1021/acs.accounts.9b00437': ['batteries libs',\n",
       "  'graphite anode',\n",
       "  'material lithium'],\n",
       " '10.1039/C2TA00915C': ['sulfur battery',\n",
       "  'lithium sulfur',\n",
       "  'material lithium'],\n",
       " '10.1021/acsami.6b16741': [],\n",
       " '10.1149/1.2943215': ['lithium batteries', 'rechargeable lithium'],\n",
       " '10.1149/ma2013-01/4/297': [],\n",
       " '10.1016/J.JPOWSOUR.2020.228931': ['batteries libs'],\n",
       " '10.1039/d0ta02499f': ['density batteries', 'metal anode', 'battery'],\n",
       " '10.1002/adfm.201808756': ['energy storage',\n",
       "  'lithium sulfur',\n",
       "  'material lithium'],\n",
       " '10.1038/s41598-019-38728-y': ['lithium batteries',\n",
       "  'material lithium',\n",
       "  'cathode material'],\n",
       " '10.1039/d0ra02060e': ['batteries libs', 'layered oxide', 'cathode material'],\n",
       " '10.1021/acsami.0c10459': ['rich manganese', 'cathode material'],\n",
       " '10.1017/S143192761900504X': [],\n",
       " '10.1002/CELC.201800401': ['electrode material', 'material lithium'],\n",
       " '10.1016/J.JPOWSOUR.2018.05.096': ['energy storage',\n",
       "  'lithium sulfur',\n",
       "  'material lithium'],\n",
       " '10.1149/ma2008-02/10/727': ['electric vehicles', 'hybrid electric'],\n",
       " '10.1149/ma2011-01/9/414': ['sulfur battery',\n",
       "  'lithium sulfur',\n",
       "  'material lithium'],\n",
       " '10.1016/J.JECHEM.2018.01.026': ['battery anodes', 'anode material'],\n",
       " '10.3390/catal10060682': ['sulfur battery',\n",
       "  'energy storage',\n",
       "  'lithium sulfur',\n",
       "  'material lithium'],\n",
       " '10.1016/j.nanoen.2020.105481': ['energy storage', 'material lithium'],\n",
       " '10.1021/acsaem.0c00662': ['energy storage'],\n",
       " '10.1016/J.ACTAMAT.2018.06.006': ['electrolyte materials'],\n",
       " '10.1039/C0EE00831A': [],\n",
       " '10.1017/S1431927614009829': ['generation lithium'],\n",
       " '10.1021/acsami.5b11556': ['material lithium', 'anode material'],\n",
       " '10.1002/cssc.201600821': ['batteries libs', 'material lithium'],\n",
       " '10.1002/adfm.201901907': ['lithium sulfur',\n",
       "  'lithium polysulfide',\n",
       "  'material lithium'],\n",
       " '10.1016/J.ELECTACTA.2018.10.188': ['batteries libs',\n",
       "  'lithium titanate',\n",
       "  'material lithium',\n",
       "  'anode material'],\n",
       " '10.1016/J.JOULE.2017.12.001': ['metal anode', 'rechargeable battery'],\n",
       " '10.1021/acsaem.9b01949': ['interfaces electrochemistry'],\n",
       " '10.3390/nano9030436': ['lithium sulfur', 'material lithium'],\n",
       " '10.1039/C7TA00236J': ['batteries libs'],\n",
       " '10.1016/J.ELECTACTA.2018.08.107': ['energy storage', 'battery'],\n",
       " '10.1016/J.NANOEN.2021.105907': ['electrochemical energy',\n",
       "  'energy storage',\n",
       "  'electrochemical'],\n",
       " '10.1016/J.IJHYDENE.2013.05.124': ['electrolytes'],\n",
       " '10.5599/JESE.408': ['generation lithium'],\n",
       " '10.1021/acsaem.9b01794': ['solid electrolyte', 'material lithium'],\n",
       " '10.1016/j.nanoen.2020.104633': ['lithium batteries', 'material lithium'],\n",
       " '10.1038/s41929-019-0377-5': ['redox chemistry'],\n",
       " '10.24355/DBBS.084-202001281109-0': [],\n",
       " '10.1016/J.APSUSC.2021.150899': ['batteries libs',\n",
       "  'organic electrolyte',\n",
       "  'material lithium'],\n",
       " '10.1016/J.JECHEM.2016.12.001': ['sulfur battery',\n",
       "  'lithium sulfur',\n",
       "  'material lithium'],\n",
       " '10.1039/C2TA00205A': ['portable electronic'],\n",
       " '10.1088/1742-6596/439/1/012008': ['nanotube'],\n",
       " '10.1016/J.PMATSCI.2005.04.003': ['nanotube'],\n",
       " '10.1039/c6nr08807d': ['nanotube', 'biomedical applications'],\n",
       " '10.1007/S00466-008-0326-7': ['nanotube', 'polymer based'],\n",
       " '10.1360/02TB9102': ['nanotube'],\n",
       " '10.1039/9781849736817-00182': ['nanotube'],\n",
       " '10.1007/978-3-319-11340-1_5': ['nanotube'],\n",
       " '10.4028/www.scientific.net/MSF.534-536.245': ['nanotube', 'nanotechnology'],\n",
       " '10.1002/adma.201806132': ['nanotube'],\n",
       " '10.1016/j.rinp.2020.103246': ['nanotube'],\n",
       " '10.37256/NAT.222021961': ['nanotube'],\n",
       " '10.1166/JNN.2007.835': ['nanotube'],\n",
       " '10.25903/5D479A9E35AD7': ['carbon', 'nanostructures'],\n",
       " '10.1007/S12274-009-9006-Y': ['nanotube'],\n",
       " '10.1166/sl.2020.4237': ['nanotube', 'multiwall carbon'],\n",
       " '10.1021/ACS.LANGMUIR.6B02023': ['nanotube'],\n",
       " '10.1016/J.MATDES.2018.03.033': ['nanotube', 'graphene'],\n",
       " '10.1016/J.COMPSTRUCT.2016.12.014': ['nanotube', 'cement'],\n",
       " '10.32474/ANOAJ.2018.01.000115': ['nanotube', 'carbon'],\n",
       " '10.1002/9783527610419.NTLS0053': ['nanotube'],\n",
       " '10.1021/JA077886S': ['walled carbon', 'nanotube'],\n",
       " '10.1021/acsami.8b04261': ['nanotube'],\n",
       " '10.1063/1.4940418': ['nanotube'],\n",
       " '10.1002/aelm.201800811': ['nanotube'],\n",
       " '10.1016/J.CARBON.2016.09.045': ['nanotube'],\n",
       " '10.1039/b9nr00104b': ['nanotube'],\n",
       " '10.15866/IREMOS.V9I2.6214': ['nanotube'],\n",
       " '10.1016/J.MATCHEMPHYS.2018.06.021': ['nanotube', 'thermal electrical'],\n",
       " '10.1016/J.PROGPOLYMSCI.2014.02.004': ['nanotube'],\n",
       " '10.1002/adfm.201000994': ['nanotube'],\n",
       " '10.3390/LUBRICANTS3030597': ['nanotube'],\n",
       " '10.1002/SMLL.200600511': ['nanotube'],\n",
       " '10.1063/1.3587033': ['nanotube'],\n",
       " '10.1038/427301a': ['nanotube', 'nanotechnology'],\n",
       " '10.1016/j.nanoso.2020.100429': ['nanotube', 'materials biomedical'],\n",
       " '10.1016/J.IJMECSCI.2018.07.032': ['nanotube'],\n",
       " '10.1109/ICQNM.2009.24': ['nanotube', 'microelectronics'],\n",
       " '10.1088/1361-6528/aa5d7d': ['nanotube', 'photothermal therapy'],\n",
       " '10.1016/j.matt.2020.06.014': ['nanotube'],\n",
       " '10.21236/ada472473': ['nanotube'],\n",
       " '10.1002/smll.200800563': ['nanotube', 'multiwall carbon'],\n",
       " '10.1088/1757-899X/430/1/012004': ['nanotube'],\n",
       " '10.4028/www.scientific.net/AMR.236-238.1738': ['nanotube'],\n",
       " '10.1016/J.CARBON.2015.12.024': ['nanotube'],\n",
       " '10.1063/1.4958850': ['nanotube'],\n",
       " '10.1088/1674-1056/24/11/116103': ['nanotube'],\n",
       " '10.1038/s41598-019-39325-9': ['nanotube',\n",
       "  'multiwall carbon',\n",
       "  'magnetic nanoparticles'],\n",
       " '10.1016/J.CARBON.2004.12.004': ['electronic properties',\n",
       "  'nanotube',\n",
       "  'multiwall carbon'],\n",
       " '10.1155/2018/9592610': ['nanotube'],\n",
       " '10.1049/MNL:20070055': ['nanotube'],\n",
       " '10.1049/CP.2009.1247': ['nanotube'],\n",
       " '10.1109/NANO.2012.6322102': ['nanotube'],\n",
       " '10.1016/J.CARBON.2017.08.037': ['walled carbon', 'nanotube'],\n",
       " '10.1002/cssc.201000002': ['nanotube'],\n",
       " '10.1007/S10853-011-5275-4': ['nanotube'],\n",
       " '10.1016/j.nantod.2020.100992': ['nanotube'],\n",
       " '10.1038/NMAT928': ['nanotube'],\n",
       " '10.4172/2169-0022.S1.014': ['nanotube', 'graphene'],\n",
       " '10.1109/IVNC.2006.335212': ['nanotube'],\n",
       " '10.1002/smll.200701059': ['nanotube',\n",
       "  'application carbon',\n",
       "  'biomedical applications'],\n",
       " '10.1080/15376494.2019.1683660': ['nanotube', 'nanocomposites'],\n",
       " '10.1016/J.APSUSC.2011.07.051': ['nanotube'],\n",
       " '10.1002/anie.200804967': ['nanotube'],\n",
       " '10.1021/nl901802m': ['nanotube'],\n",
       " '10.1016/j.carbon.2019.11.068': ['nanotube'],\n",
       " '10.1016/J.COMPSTRUCT.2011.02.017': ['nanotube', 'carbon fiber'],\n",
       " '10.1021/nn1017318': ['nanotube'],\n",
       " '10.1142/S1793984414410098': ['nanotube'],\n",
       " '10.1016/J.TSF.2009.01.063': ['nanotube'],\n",
       " '10.1021/ACS.JPCC.6B02878': ['nanotube', 'synthesis carbon'],\n",
       " '10.1063/1.5052013': ['nanotube'],\n",
       " '10.1007/s10853-017-1632-2': ['nanotube', 'layer deposition'],\n",
       " '10.1002/adfm.201302497': ['nanotube'],\n",
       " '10.1021/acsami.7b05478': ['nanotube'],\n",
       " '10.1080/00150193.2020.1760601': ['nanotube'],\n",
       " '10.1109/DOD.HPCMP.UGC.2008.75': ['mechanical behavior', 'nanotube'],\n",
       " '10.1039/9781849736817-00234': ['nanotube'],\n",
       " '10.21203/RS.3.RS-418046/V1': ['photocatalytic',\n",
       "  'wastewaters treatment',\n",
       "  'photocatalysts high'],\n",
       " '10.1016/J.APCATB.2018.11.033': ['solar energy', 'photocatalytic'],\n",
       " '10.1038/s41467-017-02547-4': ['fossil fuels',\n",
       "  'solar energy',\n",
       "  'photocatalytic',\n",
       "  'artificial photosynthesis'],\n",
       " '10.1016/j.cej.2020.126193': ['photocatalytic'],\n",
       " '10.1155/2019/1562130': ['catalytic'],\n",
       " '10.1039/C3TA13793G': ['photocatalytic'],\n",
       " '10.1016/J.APSUSC.2018.11.205': ['photocatalytic'],\n",
       " '10.1016/J.APCATB.2017.09.010': ['photocatalytic',\n",
       "  'inexpensive photocatalysts'],\n",
       " '10.1007/s10853-019-04100-8': ['photocatalytic hydrogen',\n",
       "  'hydrogen evolution',\n",
       "  'photocatalytic'],\n",
       " '10.1016/J.APSUSC.2021.149809': ['photocatalytic'],\n",
       " '10.1016/j.cplett.2020.137715': [],\n",
       " '10.1111/jace.17107': ['solar energy', 'photocatalytic'],\n",
       " '10.2174/2665976x01999200617112504': ['photocatalytic oxidation',\n",
       "  'photocatalytic'],\n",
       " '10.1039/c8nr00790j': ['photoelectrochemical activities', 'energy devices'],\n",
       " '10.1016/j.ijhydene.2020.05.027': ['catalyst', 'photocatalytic'],\n",
       " '10.1039/C3TA15265K': ['photocatalytic'],\n",
       " '10.1021/acscatal.0c00462': [],\n",
       " '10.9767/BCREC.11.1.414.40-46': ['titanium dioxide', 'photocatalytic'],\n",
       " '10.1021/am507813g': ['photocatalytic'],\n",
       " '10.1016/j.ijhydene.2020.08.001': ['solar hydrogen',\n",
       "  'photocatalytic hydrogen',\n",
       "  'hydrogen evolution'],\n",
       " '10.1016/J.APT.2019.05.024': ['photocatalytic'],\n",
       " '10.1021/nl404575e': ['photocatalytic', 'inexpensive photocatalysts'],\n",
       " '10.1007/s10854-020-04615-w': ['photocatalytic', 'organic inorganic'],\n",
       " '10.1039/c7nr08943k': ['photocatalytic hydrogen',\n",
       "  'hydrogen evolution',\n",
       "  'photocatalytic',\n",
       "  'nano semiconductors'],\n",
       " '10.1039/C8SE00311D': ['catalysts based'],\n",
       " '10.1039/C6RA03801H': ['solar energy', 'photocatalytic'],\n",
       " '10.1039/c3cp53774a': ['photocatalytic', 'energy hydrogen'],\n",
       " '10.1016/j.ijhydene.2019.10.081': ['hydrogen generation',\n",
       "  'photocatalytic hydrogen',\n",
       "  'photocatalytic',\n",
       "  'hydrogen'],\n",
       " '10.1039/c7dt02929b': ['photocatalytic hydrogen',\n",
       "  'hydrogen evolution',\n",
       "  'photocatalytic',\n",
       "  'hydrogen'],\n",
       " '10.1016/J.MCAT.2017.03.027': ['photocatalytic', 'photocatalysts high'],\n",
       " '10.1039/C8RA06910G': ['photocatalytic', 'oxidation'],\n",
       " '10.1039/c3dt50699a': ['photocatalytic'],\n",
       " '10.1039/C8CY01395K': ['hydrogen generation', 'photocatalytic'],\n",
       " '10.1016/S1872-2067(18)63044-X': ['photocatalytic'],\n",
       " '10.1016/J.MATCHEMPHYS.2017.01.016': ['photocatalytic'],\n",
       " '10.1007/s12209-020-00264-6': ['photocatalytic'],\n",
       " '10.4018/978-1-4666-7336-6.CH003': ['photocatalytic'],\n",
       " '10.1039/C4TA03161J': ['photocatalytic', 'decontamination cleanup'],\n",
       " '10.1039/C7TA09374H': ['photocatalytic'],\n",
       " '10.1002/anie.201602543': ['photocatalytic'],\n",
       " '10.1021/acsaem.0c00273': ['photocatalytic'],\n",
       " '10.1016/j.cej.2021.132381': ['photocatalytic', 'efficiency solar'],\n",
       " '10.4028/www.scientific.net/MSF.712.1': ['photocatalytic degradation'],\n",
       " '10.1021/am4046537': ['photocatalytic'],\n",
       " '10.1016/J.JIEC.2014.08.013': ['photocatalytic'],\n",
       " '10.1016/j.colsurfa.2020.124583': ['photocatalytic'],\n",
       " '10.1016/j.solener.2020.11.030': ['photocatalytic'],\n",
       " '10.1039/C5RA12065A': ['photocatalytic'],\n",
       " '10.1016/B978-0-12-805090-3.00011-5': ['photocatalytic',\n",
       "  'artificial photosynthesis'],\n",
       " '10.1016/J.SPMI.2012.05.009': ['photocatalytic'],\n",
       " '10.1016/J.CJCHE.2015.05.003': ['photocatalytic degradation',\n",
       "  'advanced oxidation',\n",
       "  'photocatalytic'],\n",
       " '10.1007/s10854-014-2151-4': ['photocatalytic'],\n",
       " '10.1109/IRSEC.2018.8702930': ['composite material',\n",
       "  'turbine blade',\n",
       "  'wind turbine'],\n",
       " '10.3103/S0025654409050124': ['composite material', 'thermal expansion'],\n",
       " '10.1007/978-3-319-00690-1_5': ['composite material', 'composite structures'],\n",
       " '10.5151/PROCEEDINGS-ECAADESIGRADI2019_665': ['carbon fiber',\n",
       "  'composite',\n",
       "  'composites fibre'],\n",
       " '10.1016/J.COMPSTRUCT.2018.04.019': ['composite material'],\n",
       " '10.1063/1.4949601': ['polymer composites',\n",
       "  'performance polymer',\n",
       "  'polymer based'],\n",
       " '10.1016/J.MATPR.2021.06.430': ['aluminium based', 'matrix composite'],\n",
       " '10.1016/J.COMPSTRUCT.2017.05.007': ['polymer composites',\n",
       "  'reinforced polymeric',\n",
       "  'fibre reinforced'],\n",
       " '10.1002/9781118097298.WEOC018': ['aircraft structures'],\n",
       " '10.4236/JMMCE.2012.1111115': ['aluminium based',\n",
       "  'matrix composite',\n",
       "  'metal matrix'],\n",
       " '10.1177/0021998318762297': ['polymer composites',\n",
       "  'reinforced polymeric',\n",
       "  'fibre reinforced'],\n",
       " '10.14419/IJET.V7I2.33.14174': ['aluminium based', 'based composites'],\n",
       " '10.1115/IMECE2018-87132': ['composite material',\n",
       "  'composite',\n",
       "  'aerospace industry'],\n",
       " '10.1016/J.PROCIR.2017.03.286': ['composite material'],\n",
       " '10.1142/S0129183198000789': ['reinforced composite',\n",
       "  'fiber',\n",
       "  'composite',\n",
       "  'fibre reinforced'],\n",
       " '10.1090/fic/009/09': ['composite material', 'materials', 'composite'],\n",
       " '10.1016/B978-0-08-100137-0.00001-8': ['composite material', 'composite'],\n",
       " '10.21236/ada028856': ['composite material',\n",
       "  'composite structures',\n",
       "  'advanced composite'],\n",
       " '10.1016/J.PROSTR.2019.05.034': ['composite material',\n",
       "  'reinforced composite',\n",
       "  'fibre reinforced'],\n",
       " '10.1016/J.COMPOSITESB.2017.01.035': ['composite material'],\n",
       " '10.1016/j.matpr.2020.03.316': ['composite material', 'composite'],\n",
       " '10.1016/j.matpr.2019.06.296': ['hybrid composites', 'composite'],\n",
       " '10.15376/BIORES.12.4.RAZALI': ['composite material', 'composite structures'],\n",
       " '10.5604/01.3001.0013.0750': ['lightweight materials',\n",
       "  'laminated composites'],\n",
       " '10.1016/J.PROENG.2013.09.232': ['metal matrix', 'matrix composite'],\n",
       " '10.1016/j.matpr.2020.01.479': ['metal matrix', 'matrix composite'],\n",
       " '10.1088/1757-899X/1126/1/012013': [],\n",
       " '10.1016/J.PROCIR.2017.11.007': ['composite material', 'materials'],\n",
       " '10.1007/s12633-018-9995-9': ['glass fibres',\n",
       "  'composite material',\n",
       "  'reinforced composite',\n",
       "  'fibre reinforced'],\n",
       " '10.4271/2020-01-0773': ['composite'],\n",
       " '10.1016/j.cad.2016.09.001': ['composite material',\n",
       "  'fiber',\n",
       "  'composites fibre'],\n",
       " '10.1016/0266-3538(92)90092-H': ['reinforced composite', 'fibre reinforced'],\n",
       " '10.31274/ETD-180810-3405': ['polymer matrix',\n",
       "  'matrix composite',\n",
       "  'carbon fiber'],\n",
       " '10.5772/14625': ['composite material'],\n",
       " '10.11648/J.IJSQA.20180403.13': ['composite material'],\n",
       " '10.4028/www.scientific.net/JNanoR.45.208': ['composite material',\n",
       "  'composite'],\n",
       " '10.1002/srin.201100073': ['composite material', 'composite'],\n",
       " '10.4314/jasem.v24i6.3': ['composite material',\n",
       "  'composite',\n",
       "  'electronics industry'],\n",
       " '10.2351/7.0004037': ['composite material', 'efficiency'],\n",
       " '10.1016/J.MATPR.2018.02.184': [],\n",
       " '10.1007/978-3-540-75999-7_142': ['composite'],\n",
       " '10.1016/J.MSEA.2014.12.067': ['metal matrix', 'matrix composite'],\n",
       " '10.1177/1558925020948234': ['materials science'],\n",
       " '10.21608/ASAT.2001.24833': ['composite material',\n",
       "  'aircraft constructions',\n",
       "  'aircraft structures'],\n",
       " '10.1179/026708300101508568': ['composite material', 'aluminium based'],\n",
       " '10.1063/1.5024177': ['composite', 'performance composites'],\n",
       " '10.1016/0266-3538(91)90093-5': ['mechanical behavior',\n",
       "  'matrix materials',\n",
       "  'composites fibre'],\n",
       " '10.1016/0010-4361(70)90011-X': ['reinforced polymeric', 'composites fibre'],\n",
       " '10.23947/interagro.2020.1.352-355': ['composite material'],\n",
       " '10.1080/13588265.2021.1914953': ['composite material'],\n",
       " '10.1016/B978-0-08-102289-4.00004-7': ['reinforced composite',\n",
       "  'fibre reinforced'],\n",
       " '10.1002/MAWE.200800305': ['composite material'],\n",
       " '10.1109/ICCET.2010.5485341': ['advanced composite'],\n",
       " '10.4028/WWW.SCIENTIFIC.NET/AMR.984-985.257': [],\n",
       " '10.1177/073168449501400302': ['composite material'],\n",
       " '10.3934/matersci.2020.5.684': ['metal matrix', 'matrix composite'],\n",
       " '10.1177/0021998316655201': ['hybrid composites', 'composite'],\n",
       " '10.32628/ijsrset207224': ['metal matrix', 'matrix composite'],\n",
       " '10.4028/www.scientific.net/KEM.471-472.703': ['composite material',\n",
       "  'delamination'],\n",
       " '10.1145/3366194.3366319': ['carbon', 'carbon fiber', 'composites fibre'],\n",
       " '10.1016/J.COMPSCITECH.2015.06.006': ['performance composites'],\n",
       " '10.1016/j.diamond.2020.108206': ['supercapacitors'],\n",
       " '10.1021/jp506288w': ['electrocatalysis', 'hydrogen evolution'],\n",
       " '10.1002/adfm.201703864': [],\n",
       " '10.1039/d0se00310g': ['photovoltaic',\n",
       "  'photovoltaics opvs',\n",
       "  'organic photovoltaic'],\n",
       " '10.3384/DISS.DIVA-118922': ['organic electronic', 'organic semiconductor'],\n",
       " '10.1021/bk-2010-1039.ch013': ['advanced semiconductor',\n",
       "  'opto electronic',\n",
       "  'organic semiconductor'],\n",
       " '10.1149/1.3553362': ['photovoltaic', 'solar energy', 'organic photovoltaic'],\n",
       " '10.1002/aelm.202100579': ['advanced semiconductor',\n",
       "  'organic electronic',\n",
       "  'organic semiconductor'],\n",
       " '10.1016/j.pbiomolbio.2013.09.002': ['oled',\n",
       "  'diode oled',\n",
       "  'organic semiconductor'],\n",
       " '10.1063/1.4831974': ['photovoltaic',\n",
       "  'photovoltaic cells',\n",
       "  'organic photovoltaic'],\n",
       " '10.3390/ma7043274': ['photovoltaics opvs',\n",
       "  'fullerene',\n",
       "  'organic photovoltaic'],\n",
       " '10.1007/s11426-020-9868-8': ['organic solar', 'solar cell'],\n",
       " '10.1002/aelm.201700136': ['organic electronic', 'optoelectronic'],\n",
       " '10.1002/aenm.202000635': ['organic solar', 'solar cell'],\n",
       " '10.1002/agt2.46': ['polymer based',\n",
       "  'solar cell',\n",
       "  'organic polymer',\n",
       "  'conjugated organic'],\n",
       " '10.1021/ar100043u': ['materials solar', 'electrochromic devices'],\n",
       " '10.1103/PHYSREVAPPLIED.13.024006': ['optoelectronic',\n",
       "  'organic photovoltaic'],\n",
       " '10.1021/ACSAMI.6B11012': ['inorganic semiconductors', 'organic inorganic'],\n",
       " '10.1016/J.MTENER.2017.04.005': ['photovoltaics opvs',\n",
       "  'polyelectrolytes',\n",
       "  'conjugated polyelectrolytes',\n",
       "  'organic photovoltaic'],\n",
       " '10.1021/ar400136b': ['advanced semiconductor',\n",
       "  'solar cell',\n",
       "  'organic semiconductor'],\n",
       " '10.1002/adma.201305414': ['organic electronic',\n",
       "  'semiconductor material',\n",
       "  'organic semiconductor'],\n",
       " '10.1016/j.sna.2020.112309': ['advanced semiconductor',\n",
       "  'inorganic semiconductors',\n",
       "  'organic semiconductor'],\n",
       " '10.1117/12.962183': ['optical material'],\n",
       " '10.1039/d0tc03745a': ['organic semiconductor'],\n",
       " '10.1117/12.615052': ['photovoltaic', 'conjugate polymer', 'polymer based'],\n",
       " '10.2172/1159322': ['oled', 'organic photovoltaic'],\n",
       " '10.1016/J.CEJ.2019.122562': ['optoelectronic', 'organic semiconductor'],\n",
       " '10.3390/coatings10040421': ['organic solar',\n",
       "  'polyelectrolytes',\n",
       "  'solar cell',\n",
       "  'conjugated polyelectrolytes'],\n",
       " '10.1016/J.DYEPIG.2021.109640': ['oled'],\n",
       " '10.1016/j.ultramic.2017.08.011': ['photovoltaic',\n",
       "  'properties organic',\n",
       "  'organic semiconductor'],\n",
       " '10.1016/J.EGYPRO.2012.11.163': ['conjugate polymer'],\n",
       " '10.1016/J.CPLETT.2010.03.017': ['organic solar', 'solar cell'],\n",
       " '10.1117/12.2038126': ['photovoltaic', 'organic semiconductor'],\n",
       " '10.1109/SMELEC.2008.4770332': ['organic solar', 'solar cell'],\n",
       " '10.1063/1.4818324': ['photovoltaic', 'organic photovoltaic'],\n",
       " '10.1021/CM102182X': ['solar cell', 'organic semiconductor'],\n",
       " '10.1016/J.ORGEL.2019.03.043': ['flexible electronic',\n",
       "  'electronic applications'],\n",
       " '10.1109/PVSC.2010.5614676': ['photovoltaic',\n",
       "  'photovoltaics opvs',\n",
       "  'organic photovoltaic'],\n",
       " '10.1016/J.SOLENER.2012.07.010': ['organic solar', 'solar cell'],\n",
       " '10.1039/C9SE00413K': ['organic solar', 'solar cell'],\n",
       " '10.1038/srep12093': ['solar cell', 'organic inorganic'],\n",
       " '10.1039/d0ee01763a': ['organic solar', 'solar cell'],\n",
       " '10.12693/APHYSPOLA.113.845': ['electronic applications'],\n",
       " '10.31031/RDMS.2017.01.000520': ['photovoltaic', 'organic photovoltaic'],\n",
       " '10.1007/s10118-020-2356-3': ['photovoltaic', 'organic photovoltaic'],\n",
       " '10.1039/C7TC03938G': ['flexible electronic', 'organic semiconductor'],\n",
       " '10.1038/ncomms14068': ['photovoltaic',\n",
       "  'photovoltaics opvs',\n",
       "  'organic photovoltaic'],\n",
       " '10.1088/1742-6596/276/1/012169': ['organic solar', 'solar cell'],\n",
       " '10.1039/c8nr09076a': ['graphene'],\n",
       " '10.1039/C9TA04220B': ['pbte compounds', 'thermoelectric'],\n",
       " '10.1039/d0ee00491j': ['conductivity materials', 'thermoelectric'],\n",
       " '10.1080/09500839.2011.579583': ['thermal stability', 'thermoelectric'],\n",
       " '10.1016/J.RSER.2017.04.098': ['electric energy', 'thermoelectric'],\n",
       " '10.1017/S1431927616007182': ['thermoelectric', 'energy conversion'],\n",
       " '10.1016/B978-1-78242-245-7.00014-2': ['thermoelectric'],\n",
       " '10.1103/PhysRevLett.119.085501': ['thermoelectric'],\n",
       " '10.1039/C6CP04572C': ['organic thermoelectric', 'thermoelectric'],\n",
       " '10.1016/J.MATPR.2015.05.097': ['titanium dioxide', 'thermoelectric'],\n",
       " '10.21203/RS.3.RS-288135/V1': ['thermoelectric'],\n",
       " '10.1016/J.MTPHYS.2021.100457': ['thermoelectric'],\n",
       " '10.1039/C6QI00340K': ['thermoelectric'],\n",
       " '10.1039/C6TC01135G': ['thermoelectric'],\n",
       " '10.1142/S1793604714500258': ['thermal conductivity', 'thermoelectric'],\n",
       " '10.1017/dce.2020.7': ['thermoelectric'],\n",
       " '10.1016/J.NANOEN.2019.02.015': ['thermoelectric'],\n",
       " '10.1039/c4dt01177e': ['thermoelectric', 'energy conversion'],\n",
       " '10.3384/DISS.DIVA-117760': ['thermoelectric'],\n",
       " '10.4028/www.scientific.net/MSF.879.2131': ['thermoelectric'],\n",
       " '10.1016/j.cap.2020.06.028': ['pbte compounds', 'thermoelectric'],\n",
       " '10.1016/j.physb.2019.411735': ['thermoelectric'],\n",
       " '10.1016/J.PHYSE.2020.114444': ['thermoelectric'],\n",
       " '10.1002/adts.201800072': ['thermoelectric'],\n",
       " '10.1038/srep07028': ['thermoelectric'],\n",
       " '10.1021/acs.chemmater.9b03156': ['thermoelectric', 'high temperature'],\n",
       " '10.1541/IEEJPES1990.121.8_1011': ['thermoelectric'],\n",
       " '10.1016/j.jmat.2020.08.002': ['conductivity materials',\n",
       "  'organic thermoelectric',\n",
       "  'thermoelectric'],\n",
       " '10.1021/nl5044665': ['thermoelectric'],\n",
       " '10.1109/NMDC.2011.6155338': ['thermal conductivity', 'thermoelectric'],\n",
       " '10.1016/j.apenergy.2020.115075': ['thermoelectric'],\n",
       " '10.1016/S1001-0521(08)60087-X': ['functional materials', 'thermoelectric'],\n",
       " '10.1038/AM.2017.77': ['thermal energy', 'thermoelectric'],\n",
       " '10.1063/5.0042349': ['thermal energy', 'thermoelectric'],\n",
       " '10.1007/978-3-319-07332-3_6': ['thermoelectric'],\n",
       " '10.1016/J.MSER.2018.09.001': ['electric energy', 'thermoelectric'],\n",
       " '10.1016/B978-0-12-818535-3.00026-8': ['thermoelectric', 'oxide'],\n",
       " '10.1103/physrevapplied.13.064020': ['thermoelectric'],\n",
       " '10.1007/S00542-011-1390-Z': ['thermal conductivity', 'thermoelectric'],\n",
       " '10.1016/j.joule.2019.08.017': ['thermoelectric'],\n",
       " '10.1016/j.mtphys.2020.100223': ['thermoelectric', 'properties organic'],\n",
       " '10.1017/S1431927614004401': ['global energy', 'energy conversion'],\n",
       " '10.1021/acs.accounts.7b00480': ['thermoelectric'],\n",
       " '10.1109/ICMAE50897.2020.9178892': [],\n",
       " '10.1504/IJMMM.2011.043088': ['titanium',\n",
       "  'titanium alloys',\n",
       "  'metals alloys',\n",
       "  'corrosion resistance'],\n",
       " '10.3327/JAESJ.13.440': ['silicon carbide', 'materials nuclear'],\n",
       " '10.1016/J.SURFCOAT.2021.127652': [],\n",
       " '10.1038/s41598-020-67070-x': ['industries nuclear', 'silicon carbide'],\n",
       " '10.1007/s11664-015-4185-7': ['silicon carbide'],\n",
       " '10.1016/J.APSUSC.2012.10.162': ['silicon carbide', 'amorphous silicon'],\n",
       " '10.4028/www.scientific.net/MSF.717-720.865': ['silicon carbide',\n",
       "  'carbide based'],\n",
       " '10.2991/AMMSA-18.2018.60': ['silicon carbide',\n",
       "  'carbide widegap',\n",
       "  'advanced semiconductor'],\n",
       " '10.7471/IKEEE.2020.24.1.284': ['high voltage'],\n",
       " '10.1016/j.jascer.2014.05.004': ['silicon carbide',\n",
       "  'nanowires sicnws',\n",
       "  'carbide nanowires',\n",
       "  'sicnws'],\n",
       " '10.1016/S0168-583X(96)00495-8': ['silicon carbide'],\n",
       " '10.1007/S11090-007-9072-4': ['nanomaterials'],\n",
       " '10.1016/J.APSUSC.2019.07.016': ['silicon carbide',\n",
       "  'nanowires sicnws',\n",
       "  'carbide nanowires',\n",
       "  'sicnws'],\n",
       " '10.1038/srep28499': ['silicon carbide', 'cubic silicon'],\n",
       " '10.1111/J.2041-1294.2012.00084.X': ['silicon carbide', 'carbide based'],\n",
       " '10.1109/IWIPP.2017.7936760': ['silicon carbide', 'power devices'],\n",
       " '10.4028/www.scientific.net/MSF.924.339': ['metal semiconductor',\n",
       "  'silicon carbide',\n",
       "  'semiconductor interface'],\n",
       " '10.4028/www.scientific.net/KEM.499.45': ['silicon carbide'],\n",
       " '10.1007/978-3-642-84804-9_15': ['silicon carbide',\n",
       "  'carbide widegap',\n",
       "  'carbide based',\n",
       "  'cubic silicon'],\n",
       " '10.1109/ISDRS.2005.1596020': ['silicon carbide', 'carbide based'],\n",
       " '10.1002/CVDE.200506461': [],\n",
       " '10.1016/j.microrel.2019.113458': ['silicon carbide'],\n",
       " '10.1134/1.1187063': ['silicon carbide',\n",
       "  'carbide based',\n",
       "  'semiconductor suitable'],\n",
       " '10.1109/ISPSD.2006.1666096': ['silicon carbide'],\n",
       " '10.1039/c0nr00449a': ['ceramic material',\n",
       "  'silicon carbide',\n",
       "  'carbide based'],\n",
       " '10.1016/J.ELECTACTA.2015.12.211': ['batteries libs', 'silicon carbide'],\n",
       " '10.1002/adem.201500298': ['silicon carbide'],\n",
       " '10.4028/www.scientific.net/MSF.821-823.428': [],\n",
       " '10.1039/C6TA04729G': ['silicon oxycarbide', 'capacity lithium'],\n",
       " '10.1016/J.PNUCENE.2018.03.016': ['silicon carbide'],\n",
       " '10.1063/1.1571667': ['silicon carbide',\n",
       "  'semiconductor suitable',\n",
       "  'photoconductive semiconductor'],\n",
       " '10.1109/ITEC.2014.6861850': ['silicon carbide'],\n",
       " '10.1557/PROC-242-555': ['silicon carbide'],\n",
       " '10.1109/TCPMT.2011.2106160': ['temperature applications'],\n",
       " '10.1016/S0038-1101(03)00293-4': ['silicon carbide', 'carbide based'],\n",
       " '10.1109/ENERGYTECH.2013.6645337': ['silicon carbide'],\n",
       " '10.1109/ISDRS.2011.6135304': ['silicon carbide', 'nanowires'],\n",
       " '10.1021/acs.nanolett.5b02542': ['silicon carbide', 'carbide based'],\n",
       " '10.1016/J.DT.2021.07.005': ['corrosion resistance'],\n",
       " '10.1007/s11998-017-0015-6': ['metal corrosion',\n",
       "  'corrosion crucial',\n",
       "  'metals'],\n",
       " '10.3390/ma12010144': ['metal corrosion'],\n",
       " '10.1016/B978-044452787-5.00163-3': ['metal corrosion'],\n",
       " '10.1016/J.COMPSTRUCT.2010.01.001': ['corrosion reinforcement',\n",
       "  'concrete structures'],\n",
       " '10.1016/j.rinma.2020.100077': ['erosion corrosion',\n",
       "  'metal corrosion',\n",
       "  'selection materials'],\n",
       " '10.1115/appc2019-7617': ['corrosion crucial'],\n",
       " '10.2534/JJASNAOE1968.1977.142_224': [],\n",
       " '10.15294/JTSP.V16I2.7215': ['corrosive', 'reinforced concrete'],\n",
       " '10.17122/NTJ-OIL-2017-3-165-172': ['metal corrosion', 'corrosive'],\n",
       " '10.1016/B978-1-4832-8386-9.50058-9': ['corrosion reinforcement',\n",
       "  'metal corrosion',\n",
       "  'reinforced concrete'],\n",
       " '10.2478/adms-2013-0004': ['metal corrosion',\n",
       "  'corrosive',\n",
       "  'concrete structures'],\n",
       " '10.4225/03/589018C297C36': ['metal corrosion'],\n",
       " '10.5937/ror1601005T': ['metal corrosion', 'electrochemical'],\n",
       " '10.1016/B978-088415056-5/50009-5': ['metal corrosion'],\n",
       " '10.12989/CAC.2008.5.6.545': ['metal corrosion'],\n",
       " '10.18799/24131830/2019/11/2362': [],\n",
       " '10.5006/0010-9312-9.3.78': ['metal corrosion', 'liquid metal'],\n",
       " '10.1016/j.ijadhadh.2020.102714': ['metal corrosion'],\n",
       " '10.1002/suco.201900506': ['metal corrosion', 'reinforced concrete'],\n",
       " '10.1109/ICRAAE.2017.8297234': ['metal corrosion', 'aircraft constructions'],\n",
       " '10.1016/J.PORGCOAT.2020.106122': ['metal corrosion'],\n",
       " '10.1061/40690(2003)140': ['metal corrosion'],\n",
       " '10.1016/J.PROENG.2011.12.456': ['metal corrosion'],\n",
       " '10.1016/j.colsurfa.2020.124881': ['metal corrosion'],\n",
       " '10.14359/10532': ['corrosion reinforcement', 'metal corrosion'],\n",
       " '10.1007/s11998-017-0025-4': ['metal corrosion',\n",
       "  'coatings',\n",
       "  'corrosion resistance'],\n",
       " '10.1016/J.IJFATIGUE.2004.01.010': ['protective coatings',\n",
       "  'failure mechanism'],\n",
       " '10.1061/(ASCE)BE.1943-5592.0000226': ['concrete structures',\n",
       "  'concrete deteriorated',\n",
       "  'steel reinforcement'],\n",
       " '10.14419/ijet.v7i4.35.22725': ['metal corrosion'],\n",
       " '10.1007/978-1-4899-1724-9_3': [],\n",
       " '10.24036/eksakta/vol20-iss2/190': ['metal corrosion', 'corrosive'],\n",
       " '10.14773/CST.2015.14.3.147': ['metal corrosion'],\n",
       " '10.1016/B978-0-12-803581-8.10114-6': ['corrosive'],\n",
       " '10.1007/978-981-15-1404-3_28': ['corrosion reinforcement',\n",
       "  'metal corrosion'],\n",
       " '10.1051/MATTECH/198775070309': ['corrosion resistance'],\n",
       " '10.1016/0261-3069(83)90137-1': ['metal corrosion'],\n",
       " '10.1007/S12205-014-0362-0': ['steel structures', 'metal corrosion'],\n",
       " '10.3390/IOCC_2020-07319': [],\n",
       " '10.1007/1-4020-4972-2_500': [],\n",
       " '10.1016/J.IJHYDENE.2021.07.038': ['pemfcs', 'fuel cell'],\n",
       " '10.1117/12.916944': ['nanoparticles based',\n",
       "  'magnetic properties',\n",
       "  'magnetic nanoparticles'],\n",
       " '10.1002/sia.4929': ['nanoparticles based', 'magnetic nanoparticles'],\n",
       " '10.1007/978-1-4939-6840-4_5': ['magnetic properties',\n",
       "  'magnetic nanoparticles'],\n",
       " '10.3390/ecsoc-23-06646': ['magnetic nanoparticles'],\n",
       " '10.22180/NA171': ['nanoparticles based',\n",
       "  'magnetic properties',\n",
       "  'magnetic nanoparticles'],\n",
       " '10.1109/NAWDMPV.2014.6997600': ['zinc oxide', 'semiconductor material'],\n",
       " '10.1016/J.MSSP.2018.03.028': ['zinc oxide'],\n",
       " '10.4028/www.scientific.net/MSF.636-637.411': ['zinc oxide'],\n",
       " '10.4172/2169-0022.1000442': ['zinc oxide'],\n",
       " '10.1016/J.SOLIDSTATESCIENCES.2018.05.016': ['zinc oxide'],\n",
       " '10.1016/J.MATPR.2020.09.762': ['cement'],\n",
       " '10.2991/ICMMBE-16.2016.20': ['cement'],\n",
       " '10.34256/irjmtcon42': ['construction industry',\n",
       "  'material construction',\n",
       "  'cement'],\n",
       " '10.1088/1757-899X/1130/1/012036': ['cement'],\n",
       " '10.1039/C6TA06757C': ['fuel cell', 'oxide fuel', 'cell sofc'],\n",
       " '10.1039/B926880D': ['hydrogen storage', 'hydrogen'],\n",
       " '10.1016/J.ACTAMAT.2016.08.020': ['hydrogen storage',\n",
       "  'hydrogen',\n",
       "  'energy hydrogen'],\n",
       " '10.1016/j.ijhydene.2020.09.185': ['hydrogen storage',\n",
       "  'hydrogen',\n",
       "  'energy hydrogen'],\n",
       " '10.21272/jnep.12(4).04013': ['hydrogen storage', 'hydrogen'],\n",
       " '10.1016/J.PROGPOLYMSCI.2013.06.004': ['hydrogels important',\n",
       "  'functional materials'],\n",
       " '10.1680/NME.13.00009': ['fossil fuels', 'renewable energy', 'solar energy'],\n",
       " '10.1007/s10924-015-0747-2': ['biodegradable',\n",
       "  'traditional plastics',\n",
       "  'biodegradable polymer'],\n",
       " '10.1016/J.CEJ.2012.07.058': ['biodegradable',\n",
       "  'polymer based',\n",
       "  'biodegradable polymer'],\n",
       " '10.1016/J.PROENG.2011.04.267': ['biodegradable', 'biodegradable polymer'],\n",
       " '10.1002/jbm.a.34552': ['biodegradable', 'biodegradable polymer'],\n",
       " '10.1016/J.TCA.2015.12.010': ['energy storage'],\n",
       " '10.1039/b9nr00105k': ['nanotechnology'],\n",
       " '10.1007/S12289-014-1184-9': ['reinforced plastic',\n",
       "  'carbon fiber',\n",
       "  'fibre reinforced'],\n",
       " '10.1617/S11527-015-0584-8': ['asphalt'],\n",
       " '10.1080/10298436.2020.1745206': ['asphalt'],\n",
       " '10.1155/2021/5783256': ['asphalt'],\n",
       " '10.1088/1757-899X/162/1/012011': ['derived fuel', 'biomass generated'],\n",
       " '10.1016/J.NANOEN.2018.11.024': ['piezoelectric'],\n",
       " '10.1533/978-1-78242-164-1.419': [],\n",
       " '10.1007/978-94-024-2018-0_35': ['aluminium alloys',\n",
       "  'aluminium based',\n",
       "  'metals alloys'],\n",
       " '10.1111/JACE.16662': ['superconductors'],\n",
       " '10.1016/0956-716X(92)90359-M': ['superconductors'],\n",
       " '10.1109/TASC.2009.2017713': ['superconductors'],\n",
       " '10.1126/SCIENCE.273.5277.882': ['superconductors', 'high temperature'],\n",
       " '10.1088/0022-3727/35/1/313': ['ferroelectric'],\n",
       " '10.1557/S0883769400035879': ['ferroelectric'],\n",
       " '10.1016/0022-3093(91)90753-S': ['ferroelectric'],\n",
       " '10.1007/1-4020-5370-3_94': ['smart materials', 'ferroelectric'],\n",
       " '10.1038/ncomms1916': ['nanocrystalline', 'quantum dots'],\n",
       " '10.14279/DEPOSITONCE-2031': ['opto electronic'],\n",
       " '10.1002/pssa.201600460': [],\n",
       " '10.1063/1.4732500': [],\n",
       " '10.1557/PROC-449-969': ['nitride materials'],\n",
       " '10.1002/ese3.831': ['solar cell'],\n",
       " '10.1002/CELC.201700819': ['optical devices', 'nanowires'],\n",
       " '10.1016/J.COCIS.2017.01.004': ['cellulose nanocrystals'],\n",
       " '10.1039/C6RA09389B': ['solar cell'],\n",
       " '10.1021/acs.chemmater.9b04907': ['processes separation',\n",
       "  'membrane materials'],\n",
       " '10.5360/MEMBRANE.31.161': ['membrane'],\n",
       " '10.1002/ghg.2006': ['membrane'],\n",
       " '10.1007/s10854-020-03507-3': [],\n",
       " '10.2322/JJSASS1969.46.695': ['thermal barrier'],\n",
       " '10.1021/acsami.8b04353': ['industrial contamination'],\n",
       " '10.1016/J.ETI.2021.101402': ['environmental pollution'],\n",
       " '10.1016/J.CERAMINT.2018.04.003': ['environmental pollution'],\n",
       " '10.1007/S12666-010-0036-7': ['based superalloys'],\n",
       " '10.37761/RSQP.V81I4.38': [],\n",
       " '10.1016/j.ensm.2021.09.012': ['energy storage'],\n",
       " '10.1016/S0257-8972(99)00446-6': ['diamond'],\n",
       " '10.1016/0022-3115(62)90006-5': ['metal corrosion'],\n",
       " '10.1007/BF00938461': ['alloy fuel'],\n",
       " '10.1016/J.NUCENGDES.2009.06.008': ['reactor'],\n",
       " '10.1109/PVSC.2009.5411487': ['crystalline silicon'],\n",
       " '10.1016/J.ULTRAMIC.2007.05.002': ['superhydrophobic surfaces'],\n",
       " '10.1007/s40194-019-00824-y': ['high entropy',\n",
       "  'entropy alloys',\n",
       "  'metals alloys'],\n",
       " '10.1063/1.4980427': ['diodes leds'],\n",
       " '10.1109/ICEP.2016.7486783': ['diodes leds'],\n",
       " '10.1109/ICEPT.2017.8046595': ['diodes leds'],\n",
       " '10.1002/er.5434': ['carbonaceous materials'],\n",
       " '10.1007/978-94-010-0724-5_19': ['metals alloys'],\n",
       " '10.1016/J.PROENG.2016.08.239': [],\n",
       " '10.1021/bk-1978-0076.ch003': ['municipal solid'],\n",
       " '10.15373/2249555X/AUGUST2014/188': [],\n",
       " '10.1007/978-3-319-13485-7_2': ['electrolytes', 'electrochemical'],\n",
       " '10.1016/J.CONBUILDMAT.2018.12.033': ['concrete structures',\n",
       "  'reinforced concrete'],\n",
       " '10.1039/c7dt04063f': ['oxygen reduction', 'fuel cell'],\n",
       " '10.1109/ICEPT.2018.8480582': ['polymer composites',\n",
       "  'dielectric',\n",
       "  'composites suitable'],\n",
       " '10.1016/J.NANOEN.2018.11.044': ['dielectric', 'dielectric nano'],\n",
       " '10.1007/978-94-017-0069-6_21': ['microfluid'],\n",
       " '10.1016/J.COLSURFA.2005.01.005': ['microfluid'],\n",
       " '10.7907/GNV8-6M21.': ['microfluid'],\n",
       " '10.1016/J.TCA.2011.06.010': ['nanocomposites', 'polymer based'],\n",
       " '10.1117/12.2045747': ['fatigue'],\n",
       " '10.1126/science.355.6329.1035-c': [],\n",
       " '10.1051/matecconf/201930010002': [],\n",
       " '10.1002/APP.45340': ['stretchable electronics', 'wearable'],\n",
       " '10.3788/IRLA20174602.216001': [],\n",
       " '10.1007/s11051-018-4146-1': [],\n",
       " '10.1109/MEMSYS.2013.6474414': [],\n",
       " '10.1016/J.NANOEN.2016.02.005': [],\n",
       " '10.4028/www.scientific.net/KEM.778.189': [],\n",
       " '10.1007/S10765-016-2108-3': [],\n",
       " '10.1038/srep19762': ['magnetic properties', 'transition metal'],\n",
       " '10.4172/2169-0316.1000161': ['transition metal',\n",
       "  'oxides tmos',\n",
       "  'metal oxide'],\n",
       " '10.1016/j.carbon.2021.09.008': ['energy storage'],\n",
       " '10.1016/J.MATPR.2018.10.150': [],\n",
       " '10.15377/2409-983X.2016.03.01.2': ['carbon dioxide'],\n",
       " '10.1016/J.ENERGY.2018.08.090': ['carbon dioxide'],\n",
       " '10.1016/J.MATDES.2016.02.007': [],\n",
       " '10.4028/www.scientific.net/SSP.165.73': ['welded metal'],\n",
       " '10.3389/fchem.2020.00411': ['plasmon resonance', 'surface plasmon'],\n",
       " '10.1117/12.2306737': ['plasmon resonance',\n",
       "  'surface plasmon',\n",
       "  'metal nanoparticles'],\n",
       " '10.3390/nano6080146': ['nanostructures'],\n",
       " '10.1002/9783527640171.CH1': ['oxide surface', 'catalytic performance'],\n",
       " '10.1021/ACS.JPCC.8B07128': ['oxide surface', 'structures surface', 'oxide'],\n",
       " '10.1103/PHYSREVMATERIALS.2.104418': ['oxide', 'complex oxides'],\n",
       " '10.1016/J.CEJ.2021.130729': [],\n",
       " '10.1007/s10921-020-00691-4': ['strength steel',\n",
       "  'hydrogen',\n",
       "  'aerospace industry'],\n",
       " '10.1007/s10570-016-0924-z': ['mechanical behavior', 'foamed materials'],\n",
       " '10.1155/2014/870649': ['foam'],\n",
       " '10.1016/j.conbuildmat.2019.117458': ['geopolymers',\n",
       "  'portland cement',\n",
       "  'cement'],\n",
       " '10.3390/en13051135': ['portland cement', 'geopolymers'],\n",
       " '10.1007/s11664-012-2079-5': [],\n",
       " '10.1007/978-3-030-70463-6_9': ['nowadays environmental'],\n",
       " '10.1016/j.ijrmhm.2020.105222': ['characteristics tungsten'],\n",
       " '10.1039/d0ta05758d': ['battery anodes', 'rechargeable battery', 'sulfides'],\n",
       " '10.3390/polym10040361': ['reinforced concrete'],\n",
       " '10.1016/J.ENGSTRUCT.2005.01.003': ['reinforced concrete'],\n",
       " '10.1016/J.APSUSC.2015.07.064': ['implant devices', 'bacterial infection'],\n",
       " '10.1007/s10856-015-5456-9': ['synthetic materials'],\n",
       " '10.1021/am5029582': ['mechanical behavior'],\n",
       " '10.1007/S11431-013-5319-X': ['strength concrete', 'coal combustion'],\n",
       " '10.1007/s11661-012-1558-x': ['strength steel'],\n",
       " '10.1002/adma.201802997': [],\n",
       " '10.1016/J.MATLET.2013.05.090': ['boron nitride', 'boron compounds'],\n",
       " '10.1088/1742-6596/1204/1/012093': ['quantum dots'],\n",
       " '10.1021/ACS.MACROMOL.7B02506': ['block copolymers'],\n",
       " '10.1533/9780857090829.2.99': ['industrial application', 'plasma'],\n",
       " '10.1007/s11666-017-0563-4': ['barrier coatings', 'plasma'],\n",
       " '10.1016/J.SEPPUR.2018.11.084': [],\n",
       " '10.1016/j.wasman.2008.11.002': ['environmental problem'],\n",
       " '10.1080/01457632.2015.1044395': [],\n",
       " '10.1117/12.711166': ['ultraviolet', 'lithography'],\n",
       " '10.1002/adfm.201200673': ['conductivity oxide',\n",
       "  'transparent conductive',\n",
       "  'solar cell'],\n",
       " '10.1016/J.PROENG.2012.03.010': ['transparent conductive'],\n",
       " '10.1016/J.TWS.2017.07.024': [],\n",
       " '10.1016/S0924-0136(01)00710-5': ['plastic deformation'],\n",
       " '10.1021/ACS.ENERGYFUELS.1C00503': ['graphitic carbon'],\n",
       " '10.3109/17435390.2010.545487': ['nanoparticles based', 'potential toxicity'],\n",
       " '10.1007/s13204-014-0292-7': ['nanoparticles based',\n",
       "  'metal nanoparticles',\n",
       "  'nanoparticles great'],\n",
       " '10.1016/j.jallcom.2020.155053': ['energy devices'],\n",
       " '10.5850/JKSCT.2014.38.3.372': ['materials cellulose'],\n",
       " '10.1002/adom.201900028': ['photovoltaic'],\n",
       " '10.1016/J.SOILDYN.2018.02.001': [],\n",
       " '10.15760/ETD.693': [],\n",
       " '10.1007/978-981-4451-45-1_32': [],\n",
       " '10.3390/SU13105680': ['strength concrete'],\n",
       " '10.1007/s12540-016-5524-9': [],\n",
       " '10.18502/keg.v5i6.7097': [],\n",
       " '10.1117/12.271056': [],\n",
       " '10.4028/www.scientific.net/AMR.53-54.119': [],\n",
       " '10.1016/S0109-5641(86)80052-5': ['ceramic material', 'ceramic products'],\n",
       " '10.1016/j.dental.2017.09.006': [],\n",
       " '10.1007/S12541-015-0278-8': ['fuel efficiency'],\n",
       " '10.1038/nature04557': ['dislocations'],\n",
       " '10.1088/1361-651X/AB2D16': ['plastic deformation', 'dislocations'],\n",
       " '10.1590/1516-1439.298014': ['synthetic hydroxyapatite'],\n",
       " '10.1063/1.5018857': ['insulators subject'],\n",
       " '10.1039/C6NR03682A': [],\n",
       " '10.1080/10426914.2013.864415': [],\n",
       " '10.1007/978-3-319-12970-9_18': ['matrix composite'],\n",
       " '10.1016/j.apsusc.2020.147693': ['magnetic devices', 'magnetoresistance'],\n",
       " '10.1109/INTMAG.2015.7157743': ['magnetoresistance', 'magnetic properties'],\n",
       " '10.1109/ELINSL.2008.4570436': ['insulation',\n",
       "  'high voltage',\n",
       "  'electrical insulation'],\n",
       " '10.1109/ACCESS.2020.3034458': ['partial discharges'],\n",
       " '10.18066/REVUNIVAP.V18I31.50': [],\n",
       " '10.1117/12.746417': ['photonic', 'photonic crystal'],\n",
       " '10.1111/jace.17034': ['piezoelectric'],\n",
       " '10.1007/s10311-020-01057-y': ['carbon dioxide'],\n",
       " '10.3390/APP11125425': ['acoustic', 'structural health'],\n",
       " '10.3390/CATAL11060685': [],\n",
       " '10.1061/(ASCE)0899-1561(2005)17:5(513)': [],\n",
       " '10.1016/J.CMA.2021.113665': ['materials'],\n",
       " '10.1109/PGC.2010.5706011': [],\n",
       " '10.1002/PC.23299': ['nanocomposites'],\n",
       " '10.1080/15567036.2021.1927250': [],\n",
       " '10.1016/J.COMPOSITESB.2017.01.056': ['graphene', 'cement composites'],\n",
       " '10.1016/j.jmst.2020.05.052': [],\n",
       " '10.1016/S1359-6454(03)00440-3': ['microelectromechanical'],\n",
       " '10.1016/J.MATDES.2006.01.005': ['strength steel', 'steel', 'steel grades'],\n",
       " '10.1179/MST.1985.1.6.417': ['zirconia', 'ceramics structural'],\n",
       " '10.2478/kones-2019-0030': ['stainless steel'],\n",
       " '10.3390/appliedchem1010004': ['metal corrosion', 'corrosion resistance'],\n",
       " '10.1109/ICEPT-HDP.2012.6474604': [],\n",
       " '10.1016/J.DESAL.2017.07.016': ['membrane', 'composite membranes'],\n",
       " '10.1016/J.TSF.2014.11.065': ['sulphide cadmium'],\n",
       " '10.1016/J.PETROL.2021.109297': [],\n",
       " '10.1016/J.CEJ.2016.10.124': [],\n",
       " '10.1590/1980-5373-MR-2017-1108': ['fiber'],\n",
       " '10.1016/j.ijpharm.2017.05.074': ['drug delivery'],\n",
       " '10.1155/2020/8835848': [],\n",
       " '10.1115/IMECE2013-63898': [],\n",
       " '10.1179/1743280414Y.0000000042': ['microwave'],\n",
       " '10.1166/NNL.2020.3219': ['chemical biosensors', 'nanomaterials'],\n",
       " '10.1109/INTMAG.2015.7156602': ['rare earth'],\n",
       " '10.1016/J.CONBUILDMAT.2015.05.131': ['high temperature'],\n",
       " '10.1061/(ASCE)AS.1943-5525.0001006': ['optical fiber'],\n",
       " '10.1007/978-3-319-50824-5_4': ['flexible electronic'],\n",
       " '10.1016/J.MSSP.2006.08.002': ['semiconductor material'],\n",
       " '10.1016/J.JCRYSGRO.2014.03.017': [],\n",
       " '10.1039/c7nr05718k': [],\n",
       " '10.1021/acsnano.7b06307': ['lithography'],\n",
       " '10.1117/12.2045899': [],\n",
       " '10.1021/la4049105': ['photocatalytic photoelectrochemical'],\n",
       " '10.1142/S0129183115500631': ['pore structure', 'shale'],\n",
       " '10.1109/tap.2021.3098586': ['microwave absorber'],\n",
       " '10.1016/J.MATCHEMPHYS.2019.03.039': ['microwave absorber'],\n",
       " '10.1016/J.SNA.2014.03.020': ['dielectric', 'elastomers'],\n",
       " '10.1007/978-3-642-18870-1_22': ['electronic properties',\n",
       "  'advanced semiconductor'],\n",
       " '10.1088/2053-1591/AA8A0D': ['polymer composites', 'fiber'],\n",
       " '10.1007/S10854-008-9569-5': ['nano semiconductors',\n",
       "  'advanced semiconductor'],\n",
       " '10.3390/ECSOC-22-05652': ['catalyst', 'heterogeneous catalyst'],\n",
       " '10.5772/intechopen.94873': [],\n",
       " '10.1155/2020/7023616': [],\n",
       " '10.1007/s10064-019-01522-1': ['soil behavior', 'geotechnical'],\n",
       " '10.4028/www.scientific.net/KEM.857.417': ['soil behavior'],\n",
       " '10.1557/PROC-717-C2.5': [],\n",
       " '10.31649/1997-9266-2018-141-6-24-28': ['insulation', 'thermal insulation'],\n",
       " '10.1007/s10854-020-04296-5': ['applications multiferroic',\n",
       "  'multiferroic materials'],\n",
       " '10.1109/ICEPT.2015.7236748': ['semiconductor laser',\n",
       "  'fiber laser',\n",
       "  'laser diodes'],\n",
       " '10.4028/www.scientific.net/MSF.567-568.273': ['metal corrosion'],\n",
       " '10.1016/J.JIEC.2019.08.033': [],\n",
       " '10.1088/1757-899X/455/1/012064': ['surface quality'],\n",
       " '10.1016/J.EGYPRO.2017.09.417': ['bentonite kind'],\n",
       " '10.1016/J.APSUSC.2008.03.047': ['titanium nitride'],\n",
       " '10.1016/J.SURFCOAT.2006.03.035': ['titanium nitride'],\n",
       " '10.1016/J.CERAMINT.2018.03.127': ['developments microwave', 'dielectric'],\n",
       " '10.1016/J.PHYSC.2007.03.456': [],\n",
       " '10.3390/su13126882': ['photovoltaic'],\n",
       " '10.1115/1.4006137': ['interconnection', 'microelectronics'],\n",
       " '10.1063/5.0050483': ['spintronic devices'],\n",
       " '10.1063/1.36499': ['hydrogenated amorphous', 'amorphous silicon'],\n",
       " '10.1364/OE.17.008253': ['laser applications'],\n",
       " '10.1007/978-90-481-2287-5_25': ['material construction',\n",
       "  'materials nuclear'],\n",
       " '10.1149/05807.0165ECST': [],\n",
       " '10.1155/2018/6840856': ['heavy metal'],\n",
       " '10.1007/978-981-15-0214-9_64': ['size semiconductor'],\n",
       " '10.1016/S0167-2991(01)82328-4': ['silica',\n",
       "  'significance catalysis',\n",
       "  'mesoporous silica'],\n",
       " '10.1016/J.ELECTACTA.2021.138872': ['electrochemical'],\n",
       " '10.1149/05047.0015ECST': ['metal corrosion', 'stainless steel'],\n",
       " '10.1016/J.COMPSTRUCT.2013.04.026': ['laminated composites'],\n",
       " '10.1016/J.FUEL.2018.07.151': ['combustion technology'],\n",
       " '10.1007/S10825-018-1136-6': ['effect transistor'],\n",
       " '10.1117/12.649902': ['photonic', 'silicon'],\n",
       " '10.1016/J.IJPLAS.2014.03.014': [],\n",
       " '10.1007/s12257-015-0733-5': ['silver nanoparticles'],\n",
       " '10.4028/www.scientific.net/AMR.20-21.375': ['metal corrosion'],\n",
       " '10.1016/j.colsurfb.2015.03.042': [],\n",
       " '10.1063/1.3591935': ['nondestructive evaluation'],\n",
       " '10.1021/ACS.JPCC.9B05068': ['lubricant formulations'],\n",
       " '10.1177/8756087907083590': [],\n",
       " '10.1109/LED.2018.2808329': ['high temperature', 'sensor'],\n",
       " '10.5194/egusphere-egu2020-9458': [],\n",
       " '10.1038/s41427-018-0065-y': [],\n",
       " '10.1016/b978-0-12-803581-8.11725-4': ['soft magnetic',\n",
       "  'magnetic properties'],\n",
       " '10.1051/MATECCONF/20165703001': [],\n",
       " '10.2351/1.5062897': [],\n",
       " '10.1016/j.biomaterials.2010.07.089': [],\n",
       " '10.1109/ICHVET.2019.8724179': [],\n",
       " '10.1007/978-981-10-7841-5_5': ['microelectromechanical'],\n",
       " '10.1016/J.ENCONMAN.2012.08.026': [],\n",
       " '10.1038/146729a0': [],\n",
       " '10.1007/s10800-019-01307-0': ['fuel cell'],\n",
       " '10.1039/d0tc04400h': [],\n",
       " '10.1016/J.OPTLASENG.2021.106770': ['transparent materials'],\n",
       " '10.1021/acssuschemeng.0c02829': ['photothermal conversion'],\n",
       " '10.1021/nl903274q': ['human infections', 'bacterial infection'],\n",
       " '10.1109/TASC.2010.2090638': [],\n",
       " '10.1007/s11671-010-9639-5': ['temperature ferromagnetism'],\n",
       " '10.1109/TASC.2009.2018529': [],\n",
       " '10.1007/978-981-13-2718-6_17': ['diesel engine'],\n",
       " '10.1115/1.4042152': [],\n",
       " '10.1021/acsami.9b04690': ['ethanol fuel'],\n",
       " '10.3390/cryst10050388': ['luminescence'],\n",
       " '10.5781/JWJ.2014.32.2.18': [],\n",
       " '10.3390/ma12081198': ['portland cement'],\n",
       " '10.1016/j.jmbbm.2016.01.011': ['biological soft', 'biological tissue'],\n",
       " '10.1039/C6TA09967J': ['sodium storage'],\n",
       " '10.1016/S0920-3796(89)80122-X': ['fusion reactor', 'high neutron'],\n",
       " '10.1039/C8TC01698D': ['oled'],\n",
       " '10.1016/j.actbio.2009.09.019': [],\n",
       " '10.1016/J.JNUCMAT.2012.08.035': ['pyrochlore', 'glasses ceramics'],\n",
       " '10.1557/PROC-1002-N05-08': ['electronics industry'],\n",
       " '10.22214/IJRASET.2021.36802': ['construction industry'],\n",
       " '10.1002/cphc.201600362': ['cell adhesion', 'involves adhesion'],\n",
       " '10.1504/IJNT.2013.053512': ['cell adhesion'],\n",
       " '10.1039/c5cp06134b': ['nanoparticles based'],\n",
       " '10.1021/acsami.7b02700': ['photovoltaic'],\n",
       " '10.1039/C6RA00083E': ['anode material'],\n",
       " '10.4028/www.scientific.net/AMR.287-290.2785': ['smart materials',\n",
       "  'magnetorheological'],\n",
       " '10.1021/am501341u': ['neurodegenerative disease'],\n",
       " '10.1016/J.CPLETT.2019.01.021': ['piezoelectric'],\n",
       " '10.1016/j.jeurceramsoc.2020.09.056': ['porous materials',\n",
       "  'ceramic products'],\n",
       " '10.1016/J.SURFCOAT.2011.01.009': ['metal corrosion', 'steel sheet'],\n",
       " '10.5772/16210': ['porous materials'],\n",
       " '10.3365/KJMM.2014.52.1.031': [],\n",
       " '10.1142/S0219876218430041': [],\n",
       " '10.4028/www.scientific.net/AMR.911.281': ['magnetic properties'],\n",
       " '10.1002/anie.201610708': ['plasmon resonance', 'plasmonic materials'],\n",
       " '10.3390/nano7040083': ['titanium dioxide'],\n",
       " '10.1039/C4RA03919J': ['bandgap semiconductor',\n",
       "  'solar spectrum',\n",
       "  'solar cell',\n",
       "  'efficiency solar'],\n",
       " '10.1016/J.COMPSTRUCT.2018.09.069': ['piezoelectric'],\n",
       " '10.2351/1.5060352': [],\n",
       " '10.1109/CSCITA.2014.6839258': ['negative permittivity', 'metamaterials'],\n",
       " '10.1109/ICTONMW.2007.4446967': ['photoluminescence', 'porous silicon'],\n",
       " '10.1063/1.4803153': ['graphene'],\n",
       " '10.1016/J.CEJ.2021.128419': [],\n",
       " '10.2472/JSMS.17.1168': [],\n",
       " '10.1007/S11340-011-9569-X': [],\n",
       " '10.1109/TCPMT.2019.2921738': ['power devices'],\n",
       " '10.1016/J.MSEA.2021.141581': ['copper alloys', 'copper'],\n",
       " '10.1016/S1359-0294(98)80035-6': ['colloidal', 'crystal'],\n",
       " '10.3390/EN14092423': [],\n",
       " '10.1016/j.memsci.2020.118702': ['ionic conductivity',\n",
       "  'electrolytes',\n",
       "  'electrolyte materials'],\n",
       " '10.1002/JBM.B.10026': [],\n",
       " '10.1063/1.5112067': ['oxide semiconductor',\n",
       "  'optoelectronic',\n",
       "  'advanced semiconductor'],\n",
       " '10.1021/JP051525M': [],\n",
       " '10.1002/PAT.951': ['responsive polymer', 'polymer based'],\n",
       " '10.1016/j.jpowsour.2019.227458': ['significance catalysis', 'nanosheets'],\n",
       " '10.1109/SIU.2015.7130306': ['cancer'],\n",
       " '10.1016/J.JALLCOM.2014.03.175': ['advanced optical'],\n",
       " '10.1016/J.CONBUILDMAT.2017.04.142': [],\n",
       " '10.1088/1755-1315/680/1/012058': [],\n",
       " '10.1039/c4sm01530d': [],\n",
       " '10.1007/S00170-018-03248-Y': [],\n",
       " '10.1007/S40940-017-0042-9': ['glassy polymers', 'polymer based'],\n",
       " '10.7567/JJAP.52.01AG04': [],\n",
       " '10.1051/MATECCONF/201817204004': ['difficult machine'],\n",
       " '10.1039/d0ra01635g': ['layer deposition', 'advanced semiconductor'],\n",
       " '10.1007/S42154-021-00147-Z': ['fuel cell'],\n",
       " '10.1117/12.2286613': ['lasers require', 'fiber laser'],\n",
       " '10.1007/978-1-4757-0067-1_21': ['tokamak reactor'],\n",
       " '10.1088/2043-6254/AA8536': ['nanoparticles based'],\n",
       " '10.1088/1742-6596/100/8/082044': ['wettability', 'liquid metal'],\n",
       " '10.1109/CDC.2008.4738884': [],\n",
       " '10.1103/PhysRevB.95.195202': [],\n",
       " '10.4028/www.scientific.net/AMM.278-280.523': ['conductivity materials',\n",
       "  'thermal conductivity',\n",
       "  'electrical insulation'],\n",
       " '10.1016/J.EGYPRO.2019.01.628': [],\n",
       " '10.1016/J.TCA.2018.11.004': ['crystallization'],\n",
       " '10.1016/J.CEJ.2021.128856': ['catalysts based'],\n",
       " '10.12928/TELKOMNIKA.V17I5.12806': [],\n",
       " '10.1002/JBM.A.20133': ['synthetic materials', 'implant devices'],\n",
       " '10.1016/J.MSEB.2003.10.009': ['nanocrystalline', 'amorphous'],\n",
       " '10.1016/J.INTERMET.2013.02.001': ['tial intermetallic',\n",
       "  'metals alloys',\n",
       "  'intermetallic alloys'],\n",
       " '10.1109/IRPS.2009.5173311': ['integrated circuits', 'thermal expansion'],\n",
       " '10.1016/J.SOLMAT.2018.04.037': ['crystalline silicon', 'solar cell'],\n",
       " '10.1016/B978-0-444-89397-0.50019-1': ['liquid crystalline'],\n",
       " '10.1002/CELC.201500114': ['cathode material'],\n",
       " '10.2172/5524606': ['matrix materials', 'laminated composites'],\n",
       " '10.1109/TDEI.2014.004521': [],\n",
       " '10.1007/S10409-009-0287-X': [],\n",
       " '10.3323/JCORR1974.34.6_331': ['austenitic stainless'],\n",
       " '10.1016/J.CIRP.2015.04.009': [],\n",
       " '10.1177/1056789520904119': ['mechanical behavior'],\n",
       " '10.1115/SMASIS2018-8162': [],\n",
       " '10.1007/s13202-019-0702-1': [],\n",
       " '10.1016/0890-6955(94)00121-Y': [],\n",
       " '10.1007/978-1-4020-9557-3_17': [],\n",
       " '10.1038/s41598-019-54463-w': ['heterostructures', 'advanced semiconductor'],\n",
       " '10.1007/978-1-4899-3454-3_36': [],\n",
       " '10.1016/j.cej.2020.126402': ['electrochromic materials',\n",
       "  'optoelectronic',\n",
       "  'electrochromic devices'],\n",
       " '10.1007/s00894-018-3660-5': ['polymer based',\n",
       "  'polymers represent',\n",
       "  'organic polymer',\n",
       "  'conjugated organic'],\n",
       " '10.1016/J.MATTOD.2015.06.001': ['photodetector'],\n",
       " '10.1002/er.5707': [],\n",
       " '10.1002/aenm.202003455': ['cathode material'],\n",
       " '10.1002/adfm.201503344': ['near infrared'],\n",
       " '10.1177/0957650920939344': ['vibration corrosion', 'cavitation'],\n",
       " '10.1016/J.ACTAMAT.2019.04.009': ['grain boundaries', 'polycrystalline'],\n",
       " '10.1109/FUSION.1991.218895': [],\n",
       " '10.1007/978-1-4020-3286-8_48': [],\n",
       " '10.1002/ppsc.202100079': ['nanoparticles based'],\n",
       " '10.4028/www.scientific.net/AMM.813-814.218': ['polymer based',\n",
       "  'tribological'],\n",
       " '10.1002/adma.201803588': ['graphene', 'electrocatalysis'],\n",
       " '10.1016/j.cej.2020.124190': [],\n",
       " '10.1002/adfm.202106066': ['electronic'],\n",
       " '10.1115/1.2911348': [],\n",
       " '10.1002/cctc.201801684': ['catalytic'],\n",
       " '10.5099/AJ090400312': [],\n",
       " '10.1007/S40684-019-00056-X': [],\n",
       " '10.1016/J.MATCHEMPHYS.2021.124357': ['ferrite', 'materials science'],\n",
       " '10.1109/ACCESS.2019.2892143': ['insulation'],\n",
       " '10.1007/S00170-017-1164-6': [],\n",
       " '10.1016/J.IJHEATMASSTRANSFER.2014.05.022': ['adsorption based'],\n",
       " '10.1016/j.conbuildmat.2020.119573': [],\n",
       " '10.22036/NCR.2018.02.011': [],\n",
       " '10.1016/J.WEAR.2018.12.062': ['industrial application'],\n",
       " '10.4028/WWW.SCIENTIFIC.NET/AMR.1015.101': [],\n",
       " '10.1016/S0165-9936(03)00201-2': ['nanometer'],\n",
       " '10.1016/j.electacta.2020.137565': ['photoelectrochemical activities'],\n",
       " '10.2351/1.2080547': ['ceramics structural'],\n",
       " '10.1243/09544119JEIM139': ['prosthesis'],\n",
       " '10.1016/J.PROCIR.2018.08.276': [],\n",
       " '10.1002/ange.202008787': ['atom catalyst', 'catalyst'],\n",
       " '10.1016/0921-5093(91)90057-T': ['ferromagnetic layers', 'amorphous'],\n",
       " '10.1016/J.APSUSC.2017.08.080': [],\n",
       " '10.1557/PROC-744-M8.17': [],\n",
       " '10.1016/S0167-577X(02)01367-8': [],\n",
       " '10.1038/s41928-019-0314-2': ['epitaxial growth', 'optoelectronic'],\n",
       " '10.7498/aps.60.057103': ['cast alloys', 'magnetic properties'],\n",
       " '10.1007/s10853-016-0619-8': ['renewable'],\n",
       " '10.1016/J.IJRMHM.2013.01.003': ['carbide based'],\n",
       " '10.1016/S0008-8846(97)00162-2': [],\n",
       " '10.5254/1.3542485': ['vulcanization'],\n",
       " '10.1016/J.NANOSO.2017.02.002': [],\n",
       " '10.1016/S0142-1123(00)00104-3': [],\n",
       " '10.1109/ICHVE49031.2020.9279889': ['capacitors',\n",
       "  'energy storage',\n",
       "  'dielectric'],\n",
       " '10.1007/978-0-387-34688-5_15': ['fuel cell'],\n",
       " '10.1007/978-1-4613-9865-3_10': ['molecular dynamics'],\n",
       " '10.1007/978-94-010-0349-0_5': ['nonlinear optical'],\n",
       " '10.1149/1.3697450': ['energy storage', 'redox'],\n",
       " '10.1080/17480272.2014.988750': [],\n",
       " '10.1016/j.jmmm.2020.166983': ['magnetocaloric', 'refrigeration systems'],\n",
       " '10.1016/j.jiec.2020.07.037': ['desulfurization'],\n",
       " '10.1016/B978-008044496-3/50003-4': ['laser induced'],\n",
       " '10.1016/B978-0-12-804302-8.00008-X': [],\n",
       " '10.3390/MET11060896': [],\n",
       " '10.3390/met10091177': ['metal corrosion', 'metals alloys'],\n",
       " '10.1016/j.porgcoat.2020.105565': ['organic inorganic'],\n",
       " '10.1007/978-3-662-10827-7_2': ['silicon', 'semiconductor material'],\n",
       " '10.1111/JACE.12387': [],\n",
       " '10.1109/SMELEC.2014.6920818': ['mosfet technology'],\n",
       " '10.1016/j.applthermaleng.2019.114689': ['energy storage', 'thermal energy'],\n",
       " '10.1021/JP1015406': [],\n",
       " '10.1007/s11666-012-9858-7': ['alloy fuel'],\n",
       " '10.1590/S1516-14392005000400019': ['austenitic stainless'],\n",
       " '10.4334/JKCI.2003.15.4.606': ['corrosion reinforcement',\n",
       "  'bridge deck',\n",
       "  'concrete deteriorated'],\n",
       " '10.1039/C8TA03784A': [],\n",
       " '10.1016/j.solener.2019.11.081': ['energy consumption'],\n",
       " '10.1080/00218464.2016.1179117': [],\n",
       " '10.4028/www.scientific.net/AMR.893.807': [],\n",
       " '10.1007/978-3-642-51062-5_112': ['polymer composites', 'thermoplastics'],\n",
       " '10.1016/j.jallcom.2020.153933': [],\n",
       " '10.1016/j.pharmthera.2008.10.009': ['nanometer', 'nanotechnology'],\n",
       " '10.1002/ADMA.200700594': ['magnetization', 'magnetic properties'],\n",
       " '10.1007/S12588-010-0004-4': ['polymer composites', 'performance polymer'],\n",
       " '10.1016/j.promfg.2020.04.337': [],\n",
       " '10.1109/ISE.2011.6084970': ['solid electrolyte', 'energy storage'],\n",
       " '10.1177/1350650120950535': [],\n",
       " '10.1145/3321289.3321566': ['photonic', 'plasmonic'],\n",
       " '10.1080/15440478.2020.1807435': ['textile', 'fiber'],\n",
       " '10.5916/JKOSME.2010.34.5.670': ['steel structures', 'corrosive'],\n",
       " '10.1016/J.WEAR.2015.02.034': [],\n",
       " '10.1016/S1359-6462(97)00148-6': ['steel grades'],\n",
       " '10.1016/j.jmrt.2020.07.032': [],\n",
       " '10.1016/J.MSEA.2007.02.053': ['silicon carbide'],\n",
       " '10.1007/978-3-540-75999-7_172': ['defects',\n",
       "  'nanostructures',\n",
       "  'devices reliability'],\n",
       " '10.1109/ECTC.2008.4550141': ['interconnection', 'flexible interconnects'],\n",
       " '10.1016/j.biomaterials.2010.12.049': [],\n",
       " '10.1016/j.jssc.2020.121518': [],\n",
       " '10.1016/J.ENGFRACMECH.2011.11.008': ['failure mechanism', 'delamination'],\n",
       " '10.1016/J.NANOEN.2016.12.017': [],\n",
       " '10.4028/www.scientific.net/KEM.697.457': ['silicon nitride', 'silicon'],\n",
       " '10.1016/J.MINPRO.2004.08.003': [],\n",
       " '10.1115/1.4041139': ['composites suitable'],\n",
       " '10.1002/CTPP.200610066': ['tokamak reactor'],\n",
       " '10.3390/met10030394': ['corrosion resistance'],\n",
       " '10.1016/J.COMPSTRUC.2016.05.005': ['failure structures'],\n",
       " '10.1089/pho.2016.4233': [],\n",
       " '10.1016/J.COMPSTRUCT.2010.12.009': [],\n",
       " '10.1121/1.2211587': [],\n",
       " '10.1016/j.ssi.2019.115072': ['piezoelectric'],\n",
       " '10.1016/j.partic.2020.05.001': [],\n",
       " '10.1016/J.PORGCOAT.2014.01.018': ['nowadays biosource'],\n",
       " '10.1063/5.0025792': ['photonic'],\n",
       " '10.1016/J.CONBUILDMAT.2012.11.063': [],\n",
       " '10.1149/1.3481644': [],\n",
       " '10.1016/j.solidstatesciences.2019.106030': [],\n",
       " '10.2320/MATERTRANS.43.694': [],\n",
       " '10.1109/ICBBE.2010.5516657': ['formaldehyde'],\n",
       " '10.1063/1.4917276': [],\n",
       " '10.1115/MSEC2011-50048': [],\n",
       " '10.2355/ISIJINTERNATIONAL.ISIJINT-2016-145': ['soft magnetic',\n",
       "  'magnetic properties'],\n",
       " '10.1007/s11249-015-0548-8': ['tribological'],\n",
       " '10.1109/VLSIDCS47293.2020.9179902': ['capacitance'],\n",
       " '10.1088/0031-9112/31/9/028': ['laser applications'],\n",
       " '10.1166/JNN.2012.5832': ['human health', 'ultraviolet'],\n",
       " '10.1007/BF02663405': ['ferritic steels'],\n",
       " '10.1007/s11051-017-3894-7': [],\n",
       " '10.1155/2021/5536676': ['flame retardant'],\n",
       " '10.1007/s40204-017-0068-8': ['cancer'],\n",
       " '10.1016/S0257-8972(98)00818-4': ['erosion corrosion', 'metal corrosion'],\n",
       " '10.1080/09506608.2020.1801229': ['nuclear reactor', 'reactor technology'],\n",
       " '10.1016/J.COMPSCITECH.2016.08.005': ['silicone'],\n",
       " '10.1109/ELECTRO.2009.5441078': [],\n",
       " '10.1021/LA062255H': ['silsesquioxane poss', 'organic inorganic'],\n",
       " '10.1134/s106378262007009x': ['advanced semiconductor'],\n",
       " '10.1016/J.RENENE.2021.03.021': ['turbine blade', 'wind turbine'],\n",
       " '10.1109/BMN.2006.330940': [],\n",
       " '10.1186/s12938-015-0085-6': ['ultrasound production', 'cavitation'],\n",
       " '10.1126/SCIENCE.351.6279.1276-I': [],\n",
       " '10.5829/ije.2017.30.07a.17': ['polymer composites', 'reinforced polymeric'],\n",
       " '10.1061/(ASCE)1084-0702(2007)12:3(350)': ['bridge deck'],\n",
       " '10.1007/S10512-018-0372-Y': ['nuclear reactor'],\n",
       " '10.1016/S1369-7021(11)70018-9': ['traditional plastics'],\n",
       " '10.1016/j.jcis.2019.10.091': [],\n",
       " '10.1007/978-3-319-26600-8_8': [],\n",
       " '10.4028/www.scientific.net/AMR.476-478.755': ['polymer based'],\n",
       " '10.1007/978-1-4615-7341-8_32': ['crystal'],\n",
       " '10.1016/J.MATPR.2018.06.511': ['structural material',\n",
       "  'smart materials',\n",
       "  'structural health'],\n",
       " '10.1109/ICICDT.2007.4299548': ['dielectric constant', 'gate dielectric'],\n",
       " '10.1039/C7EN00375G': [],\n",
       " '10.1007/s00339-020-03793-y': [],\n",
       " '10.1088/1755-1315/170/5/052041': ['intrinsic microporosity',\n",
       "  'porous materials'],\n",
       " '10.1016/B978-0-12-800054-0.00022-8': ['titanium'],\n",
       " '10.1016/J.JALLCOM.2012.02.027': ['strength steel'],\n",
       " '10.1016/j.petrol.2019.106691': [],\n",
       " '10.1016/J.NANTOD.2014.12.005': ['nanoparticles great'],\n",
       " '10.1016/0032-5910(85)85022-1': ['rice husk'],\n",
       " '10.1007/s10965-014-0401-z': ['carbon dioxide'],\n",
       " '10.1038/srep06275': [],\n",
       " '10.1116/1.4758922': [],\n",
       " '10.3267/HE': ['buildings bridges', 'structural health'],\n",
       " '10.1016/j.cherd.2019.09.020': [],\n",
       " '10.1088/2053-1591/AB38D7': ['graphene'],\n",
       " '10.1016/J.ACTAMAT.2018.11.062': [],\n",
       " '10.1039/C5RA04276C': ['nanoparticles based'],\n",
       " '10.1016/J.APSUSC.2016.06.050': ['magnetic properties'],\n",
       " '10.1007/s12517-019-4860-8': [],\n",
       " '10.4028/www.scientific.net/AMR.718-720.127': [],\n",
       " '10.1039/c4nr02570a': ['nanoparticles based'],\n",
       " '10.1109/TUFFC.2009.1214': ['capacitors', 'capacitance'],\n",
       " '10.1179/174328108X378152': ['blast furnace'],\n",
       " '10.1016/J.IJHYDENE.2010.04.139': ['hydrogen'],\n",
       " '10.1016/J.EJMP.2018.06.057': ['dosimetry', 'radiation therapy'],\n",
       " '10.1117/12.2258062': [],\n",
       " '10.4028/www.scientific.net/AMM.773-774.118': [],\n",
       " '10.7567/SSDM.2007.A-7-2': ['mosfet technology'],\n",
       " '10.1016/J.MSEA.2003.10.141': [],\n",
       " '10.1299/KIKAIA.67.1520': [],\n",
       " '10.1080/10407780600669175': ['hyperthermia combined'],\n",
       " '10.1021/la801633r': [],\n",
       " '10.1109/LEOSST.1996.540696': ['optical communication'],\n",
       " '10.1007/s10971-020-05301-3': ['nanometer'],\n",
       " '10.1016/j.jtice.2021.06.023': ['decontamination cleanup',\n",
       "  'environmental problem'],\n",
       " '10.1007/s40430-021-03153-8': ['combustion engines'],\n",
       " '10.1017/S1431927617010431': ['rare earth', 'luminescence'],\n",
       " '10.1016/j.jnucmat.2020.152627': ['nuclear fuel'],\n",
       " '10.1016/0168-583X(89)90176-6': ['implantation great',\n",
       "  'advanced semiconductor'],\n",
       " '10.1155/2020/8219712': [],\n",
       " '10.1016/J.PROSTR.2016.06.120': [],\n",
       " '10.1007/s11468-014-9673-8': [],\n",
       " '10.1021/am503661w': [],\n",
       " '10.1109/IVNC.2015.7225556': ['carbon', 'emission', 'emission field'],\n",
       " '10.1117/12.167348': ['silicon dioxide', 'vapor deposition'],\n",
       " '10.1166/JNN.2012.6653': [],\n",
       " '10.1016/S0921-4534(03)00854-2': ['superconductors'],\n",
       " ...}"
      ]
     },
     "execution_count": 27,
     "metadata": {},
     "output_type": "execute_result"
    }
   ],
   "source": [
    "hierarchical_tagger.processed_document_terms"
   ]
  },
  {
   "cell_type": "code",
   "execution_count": 28,
   "id": "c77f3eb5",
   "metadata": {},
   "outputs": [],
   "source": [
    "#hierarchical_tagger.filtered_terms"
   ]
  },
  {
   "cell_type": "code",
   "execution_count": 29,
   "id": "29dcd53a",
   "metadata": {},
   "outputs": [],
   "source": [
    "# processed_topics = list(set(flatten([t for t in hierarchical_tagger.processed_document_terms.values()])))\n",
    "#Apparently these are not the topics that end up in the tree\n",
    "tree_dict = hierarchical_tagger.tree.to_dict()\n",
    "j = hierarchical_tagger.tree.to_json()"
   ]
  },
  {
   "cell_type": "code",
   "execution_count": 30,
   "id": "485e9d3a",
   "metadata": {},
   "outputs": [],
   "source": [
    "# import json\n",
    "# with open('downloads/matscitree.json', 'w') as f:\n",
    "#     json.dump(json.dumps(tree_dict), f)"
   ]
  },
  {
   "cell_type": "code",
   "execution_count": 31,
   "id": "c8ec3336",
   "metadata": {},
   "outputs": [
    {
     "data": {
      "application/json": {
       "functional materials": {
        "children": [
         {
          "human health": {
           "children": [
            "aortic valve",
            {
             "neurodegenerative disease": {
              "children": [
               "fluorosis"
              ]
             }
            }
           ]
          }
         },
         "libs",
         {
          "materials electronic": {
           "children": [
            {
             "cement": {
              "children": [
               "asphalt",
               "bridge deck",
               {
                "environmental pollution": {
                 "children": [
                  "sludge",
                  {
                   "wastewaters treatment": {
                    "children": [
                     "decontamination cleanup"
                    ]
                   }
                  }
                 ]
                }
               },
               {
                "reinforced concrete": {
                 "children": [
                  "concrete structures"
                 ]
                }
               },
               {
                "shale": {
                 "children": [
                  "geotechnical"
                 ]
                }
               },
               "soil"
              ]
             }
            },
            {
             "composite material": {
              "children": [
               {
                "carbon fiber": {
                 "children": [
                  "optical fiber",
                  {
                   "textile": {
                    "children": [
                     "fibers textile"
                    ]
                   }
                  }
                 ]
                }
               },
               "composite",
               "composites suitable",
               {
                "fibre reinforced": {
                 "children": [
                  "reinforced composite"
                 ]
                }
               },
               {
                "graphitic carbon": {
                 "children": [
                  {
                   "carbon": {
                    "children": [
                     "carbonaceous materials",
                     "multiwall carbon"
                    ]
                   }
                  },
                  {
                   "graphene": {
                    "children": [
                     "graphite"
                    ]
                   }
                  },
                  {
                   "superconductors": {
                    "children": [
                     "capacitors",
                     "supercritical carbon"
                    ]
                   }
                  }
                 ]
                }
               },
               {
                "matrix composite": {
                 "children": [
                  "metal matrix"
                 ]
                }
               },
               {
                "metals": {
                 "children": [
                  "gratings comprehensive",
                  {
                   "metal corrosion": {
                    "children": [
                     "galvanic corrosion",
                     {
                      "metals alloys": {
                       "children": [
                        "aluminium based",
                        "austenitic stainless",
                        {
                         "materials science": {
                          "children": [
                           {
                            "ceramic material": {
                             "children": [
                              {
                               "ceramic products": {
                                "children": [
                                 "ceramics structural"
                                ]
                               }
                              },
                              {
                               "materials": {
                                "children": [
                                 {
                                  "structural material": {
                                   "children": [
                                    "material construction"
                                   ]
                                  }
                                 },
                                 "synthetic materials"
                                ]
                               }
                              },
                              "plastic deformation"
                             ]
                            }
                           },
                           {
                            "fabrication advanced": {
                             "children": [
                              "micro fabrication"
                             ]
                            }
                           },
                           "surface quality"
                          ]
                         }
                        },
                        {
                         "steel": {
                          "children": [
                           {
                            "strength steel": {
                             "children": [
                              "steel structures"
                             ]
                            }
                           }
                          ]
                         }
                        },
                        "titanium",
                        "transition metal"
                       ]
                      }
                     },
                     "structural health"
                    ]
                   }
                  },
                  {
                   "porous materials": {
                    "children": [
                     {
                      "coatings deposited": {
                       "children": [
                        "coatings",
                        "layer deposition"
                       ]
                      }
                     },
                     "membrane"
                    ]
                   }
                  }
                 ]
                }
               },
               {
                "polymer based": {
                 "children": [
                  "biodegradable",
                  "conjugate polymer",
                  {
                   "polyurethane foam": {
                    "children": [
                     "foamed materials"
                    ]
                   }
                  },
                  "processes polymer"
                 ]
                }
               },
               "resin",
               {
                "silicon carbide": {
                 "children": [
                  "carbide based"
                 ]
                }
               }
              ]
             }
            },
            {
             "energy devices": {
              "children": [
               "aerosol",
               {
                "industrial application": {
                 "children": [
                  {
                   "aircraft structures": {
                    "children": [
                     "aircraft constructions"
                    ]
                   }
                  },
                  {
                   "wind turbine": {
                    "children": [
                     "turbine blade"
                    ]
                   }
                  }
                 ]
                }
               },
               {
                "solar cell": {
                 "children": [
                  {
                   "batteries libs": {
                    "children": [
                     "battery",
                     {
                      "high voltage": {
                       "children": [
                        "power devices"
                       ]
                      }
                     },
                     {
                      "rechargeable battery": {
                       "children": [
                        "density rechargeable"
                       ]
                      }
                     }
                    ]
                   }
                  },
                  {
                   "solar energy": {
                    "children": [
                     {
                      "energy storage": {
                       "children": [
                        "electric energy",
                        "electric vehicles",
                        "energy consumption",
                        "renewable energy"
                       ]
                      }
                     },
                     "photovoltaic"
                    ]
                   }
                  }
                 ]
                }
               },
               {
                "thermal energy": {
                 "children": [
                  {
                   "hydrogen generation": {
                    "children": [
                     {
                      "catalysts based": {
                       "children": [
                        {
                         "advanced oxidation": {
                          "children": [
                           "oxidation processes"
                          ]
                         }
                        },
                        "catalytic performance"
                       ]
                      }
                     },
                     {
                      "derived fuel": {
                       "children": [
                        {
                         "combustion technology": {
                          "children": [
                           {
                            "flame retardant": {
                             "children": [
                              "propellants combustion"
                             ]
                            }
                           }
                          ]
                         }
                        },
                        "diesel engine",
                        {
                         "fuel cell": {
                          "children": [
                           "biomass generated",
                           "diesel fuel",
                           "oxide fuel"
                          ]
                         }
                        }
                       ]
                      }
                     },
                     {
                      "hydrogen": {
                       "children": [
                        "catalytic hydrogenation"
                       ]
                      }
                     },
                     {
                      "nuclear reactor": {
                       "children": [
                        "blast furnace",
                        {
                         "neutron science": {
                          "children": [
                           "gamma radiation"
                          ]
                         }
                        },
                        "nuclear fuel",
                        "reactor"
                       ]
                      }
                     }
                    ]
                   }
                  },
                  {
                   "thermoelectric": {
                    "children": [
                     "cryogenic",
                     {
                      "microwave": {
                       "children": [
                        "developments microwave",
                        "plasma"
                       ]
                      }
                     },
                     {
                      "photothermal therapy": {
                       "children": [
                        "geothermal"
                       ]
                      }
                     },
                     {
                      "thermal properties": {
                       "children": [
                        "insulation",
                        "temperature applications",
                        "thermal conductivity",
                        {
                         "thermal stability": {
                          "children": [
                           "thermal barrier"
                          ]
                         }
                        }
                       ]
                      }
                     },
                     {
                      "thermoplastics": {
                       "children": [
                        "thermosets"
                       ]
                      }
                     }
                    ]
                   }
                  }
                 ]
                }
               }
              ]
             }
            },
            {
             "inorganic materials": {
              "children": [
               {
                "glassy polymers": {
                 "children": [
                  {
                   "crystallization": {
                    "children": [
                     {
                      "amorphous": {
                       "children": [
                        "solidification"
                       ]
                      }
                     },
                     "glass optical",
                     {
                      "liquid crystals": {
                       "children": [
                        "crystal growth"
                       ]
                      }
                     },
                     {
                      "mesoporous silica": {
                       "children": [
                        "hydrogels important",
                        "silica"
                       ]
                      }
                     },
                     "transparent materials"
                    ]
                   }
                  },
                  {
                   "plasmonic": {
                    "children": [
                     {
                      "polyelectrolytes": {
                       "children": [
                        "conjugated polyelectrolytes",
                        "phosphors",
                        {
                         "polylactic acid": {
                          "children": [
                           "content polypropylene",
                           {
                            "polyethersulfone": {
                             "children": [
                              "polyhydroxyalkanoates phas"
                             ]
                            }
                           }
                          ]
                         }
                        }
                       ]
                      }
                     },
                     "surface plasmon"
                    ]
                   }
                  }
                 ]
                }
               },
               {
                "organic inorganic": {
                 "children": [
                  {
                   "nitride materials": {
                    "children": [
                     "boron compounds",
                     "niobium",
                     {
                      "rare earth": {
                       "children": [
                        {
                         "sulfides": {
                          "children": [
                           "alumina combined"
                          ]
                         }
                        }
                       ]
                      }
                     },
                     {
                      "silicon nitride": {
                       "children": [
                        "titanium nitride"
                       ]
                      }
                     }
                    ]
                   }
                  },
                  {
                   "properties organic": {
                    "children": [
                     "organic molecular"
                    ]
                   }
                  },
                  {
                   "pyrolysis": {
                    "children": [
                     "pbte compounds"
                    ]
                   }
                  }
                 ]
                }
               }
              ]
             }
            },
            {
             "magnetic properties": {
              "children": [
               {
                "ball bearings": {
                 "children": [
                  "bearings"
                 ]
                }
               },
               {
                "ferroelectric": {
                 "children": [
                  "ferromagnetic layers"
                 ]
                }
               },
               {
                "magnetization": {
                 "children": [
                  "magnetoresistance"
                 ]
                }
               }
              ]
             }
            },
            {
             "material lithium": {
              "children": [
               {
                "electrochemical": {
                 "children": [
                  "cathode material",
                  "electrochromic devices",
                  {
                   "solid electrolyte": {
                    "children": [
                     "electrolytes"
                    ]
                   }
                  }
                 ]
                }
               },
               "lithium batteries"
              ]
             }
            },
            {
             "mechanical behavior": {
              "children": [
               {
                "defects": {
                 "children": [
                  {
                   "cavitation": {
                    "children": [
                     "barrier discharge",
                     {
                      "permeability": {
                       "children": [
                        "moisture content"
                       ]
                      }
                     }
                    ]
                   }
                  },
                  {
                   "degradation": {
                    "children": [
                     "environment fatigue"
                    ]
                   }
                  },
                  {
                   "delamination": {
                    "children": [
                     {
                      "adsorption based": {
                       "children": [
                        "refractory materials"
                       ]
                      }
                     },
                     "nondestructive evaluation",
                     "processes separation"
                    ]
                   }
                  },
                  "failure structures"
                 ]
                }
               },
               {
                "ultrasonic": {
                 "children": [
                  {
                   "perovskite based": {
                    "children": [
                     {
                      "entropy alloys": {
                       "children": [
                        "high entropy"
                       ]
                      }
                     }
                    ]
                   }
                  },
                  {
                   "vibration": {
                    "children": [
                     "acoustic"
                    ]
                   }
                  }
                 ]
                }
               }
              ]
             }
            },
            {
             "nano semiconductors": {
              "children": [
               {
                "nanotube": {
                 "children": [
                  {
                   "microelectronics": {
                    "children": [
                     "nanometer"
                    ]
                   }
                  },
                  "microfluid",
                  {
                   "nanoparticles based": {
                    "children": [
                     "magnetic nanoparticles",
                     "nanostructures"
                    ]
                   }
                  },
                  "nanowires",
                  "polycrystalline"
                 ]
                }
               },
               {
                "semiconductor material": {
                 "children": [
                  {
                   "dielectric": {
                    "children": [
                     {
                      "anode material": {
                       "children": [
                        {
                         "diode oled": {
                          "children": [
                           "oled"
                          ]
                         }
                        }
                       ]
                      }
                     },
                     "dielectric constant",
                     {
                      "flexible electronic": {
                       "children": [
                        {
                         "electronic properties": {
                          "children": [
                           {
                            "electronic devices": {
                             "children": [
                              "electronic applications"
                             ]
                            }
                           },
                           "organic electronic"
                          ]
                         }
                        }
                       ]
                      }
                     },
                     {
                      "piezoelectric": {
                       "children": [
                        "pyroelectric"
                       ]
                      }
                     }
                    ]
                   }
                  },
                  {
                   "oxide semiconductor": {
                    "children": [
                     {
                      "advanced semiconductor": {
                       "children": [
                        "integrated circuits",
                        "metal semiconductor",
                        "organic semiconductor",
                        "semiconductors field",
                        {
                         "silicon": {
                          "children": [
                           "amorphous silicon"
                          ]
                         }
                        }
                       ]
                      }
                     },
                     {
                      "conductivity oxide": {
                       "children": [
                        "conductivity materials",
                        {
                         "metal oxide": {
                          "children": [
                           {
                            "oxide": {
                             "children": [
                              "complex oxides",
                              "oxide surface"
                             ]
                            }
                           },
                           "zinc oxide"
                          ]
                         }
                        }
                       ]
                      }
                     }
                    ]
                   }
                  }
                 ]
                }
               }
              ]
             }
            },
            {
             "photocatalytic": {
              "children": [
               "artificial photosynthesis",
               "luminescence",
               {
                "optical material": {
                 "children": [
                  {
                   "laser applications": {
                    "children": [
                     "laser diodes",
                     "ultrashort laser"
                    ]
                   }
                  },
                  {
                   "microscope": {
                    "children": [
                     {
                      "spectroscopy techniques": {
                       "children": [
                        "ftir spectrometers"
                       ]
                      }
                     }
                    ]
                   }
                  },
                  {
                   "near infrared": {
                    "children": [
                     {
                      "emission": {
                       "children": [
                        "emission field"
                       ]
                      }
                     },
                     "solar spectrum"
                    ]
                   }
                  },
                  {
                   "photonic": {
                    "children": [
                     "optical devices",
                     "optoelectronic"
                    ]
                   }
                  }
                 ]
                }
               },
               "photocatalytic degradation",
               "photodetector",
               "photoelectrochemical activities"
              ]
             }
            },
            {
             "redox chemistry": {
              "children": [
               {
                "epoxy based": {
                 "children": [
                  "redox"
                 ]
                }
               },
               "rheological properties",
               "solid lubrication",
               "zirconia"
              ]
             }
            },
            {
             "sensor": {
              "children": [
               "cmos",
               "measurement methods"
              ]
             }
            },
            {
             "tribological": {
              "children": [
               "applications multiferroic",
               "heterostructures",
               {
                "interconnection": {
                 "children": [
                  {
                   "confinement fusion": {
                    "children": [
                     "fusion devices"
                    ]
                   }
                  },
                  "transistors igbts"
                 ]
                }
               }
              ]
             }
            }
           ]
          }
         },
         {
          "various biomaterials": {
           "children": [
            {
             "bacterial infection": {
              "children": [
               "bionanocomposites",
               {
                "effective antibacterial": {
                 "children": [
                  "materials antimicrobial"
                 ]
                }
               }
              ]
             }
            },
            {
             "bioactive": {
              "children": [
               {
                "biological soft": {
                 "children": [
                  "science bionic"
                 ]
                }
               }
              ]
             }
            },
            "biological tissue",
            "implant devices",
            "involves adhesion",
            "materials cellulose"
           ]
          }
         }
        ]
       }
      },
      "text/plain": [
       "<IPython.core.display.JSON object>"
      ]
     },
     "execution_count": 31,
     "metadata": {
      "application/json": {
       "expanded": false,
       "root": "root"
      }
     },
     "output_type": "execute_result"
    }
   ],
   "source": [
    "JSON(tree_dict)"
   ]
  },
  {
   "cell_type": "code",
   "execution_count": 32,
   "id": "7f3ffe24",
   "metadata": {},
   "outputs": [],
   "source": [
    "def traverse_tree(tree, memory=[]):\n",
    "    for k, v in tree.items():\n",
    "        memory += [k]\n",
    "        children=v.get(\"children\")\n",
    "        if children:\n",
    "            for c in children:\n",
    "                if isinstance(c, dict):\n",
    "                    traverse_tree(c, memory)\n",
    "                else:\n",
    "                    memory += [c]\n",
    "    return memory\n",
    "            \n",
    "        "
   ]
  },
  {
   "cell_type": "code",
   "execution_count": 33,
   "id": "1fb43bad",
   "metadata": {},
   "outputs": [
    {
     "data": {
      "text/plain": [
       "291"
      ]
     },
     "execution_count": 33,
     "metadata": {},
     "output_type": "execute_result"
    }
   ],
   "source": [
    "tree_topics = traverse_tree(tree_dict, [])\n",
    "len(tree_topics)"
   ]
  },
  {
   "cell_type": "code",
   "execution_count": 34,
   "id": "7a206949",
   "metadata": {},
   "outputs": [
    {
     "data": {
      "text/plain": [
       "291"
      ]
     },
     "execution_count": 34,
     "metadata": {},
     "output_type": "execute_result"
    }
   ],
   "source": [
    "len(list(set(tree_topics)))"
   ]
  },
  {
   "cell_type": "code",
   "execution_count": 35,
   "id": "072fc08d",
   "metadata": {},
   "outputs": [
    {
     "data": {
      "text/plain": [
       "True"
      ]
     },
     "execution_count": 35,
     "metadata": {},
     "output_type": "execute_result"
    }
   ],
   "source": [
    "\"involves adhesion\" in tree_topics"
   ]
  },
  {
   "cell_type": "code",
   "execution_count": 36,
   "id": "655daa44",
   "metadata": {},
   "outputs": [],
   "source": [
    "with open(\"downloads/loc_topics.json\") as f:\n",
    "    loc = json.loads(f.read())\n",
    "    #print(data['data'][0])"
   ]
  },
  {
   "cell_type": "code",
   "execution_count": 37,
   "id": "476989bc",
   "metadata": {},
   "outputs": [],
   "source": [
    "def recursive_items(dictionary, parent_key):\n",
    "    for key, value in dictionary.items():\n",
    "        if type(value) is dict:\n",
    "#             yield (key, value)\n",
    "            yield from recursive_items(value, key)\n",
    "        else:\n",
    "            yield (parent_key, value)"
   ]
  },
  {
   "cell_type": "code",
   "execution_count": 38,
   "id": "c116ebea",
   "metadata": {},
   "outputs": [],
   "source": [
    "r = recursive_items(loc, \"\")"
   ]
  },
  {
   "cell_type": "code",
   "execution_count": 39,
   "id": "82819c4c",
   "metadata": {},
   "outputs": [],
   "source": [
    "loc_flat = dict(r)"
   ]
  },
  {
   "cell_type": "code",
   "execution_count": 40,
   "id": "c2869e88",
   "metadata": {},
   "outputs": [
    {
     "data": {
      "text/plain": [
       "6525"
      ]
     },
     "execution_count": 40,
     "metadata": {},
     "output_type": "execute_result"
    }
   ],
   "source": [
    "len(loc_flat)"
   ]
  },
  {
   "cell_type": "markdown",
   "id": "ba1b8866",
   "metadata": {},
   "source": [
    "### Topics < > LOC merge trial"
   ]
  },
  {
   "cell_type": "code",
   "execution_count": 41,
   "id": "f758a13a",
   "metadata": {},
   "outputs": [],
   "source": [
    "loc_topics = list(loc_flat.values())"
   ]
  },
  {
   "cell_type": "code",
   "execution_count": 42,
   "id": "d10e6978",
   "metadata": {},
   "outputs": [
    {
     "name": "stdout",
     "output_type": "stream",
     "text": [
      "Encode the corpus of 6525... get a coffee in the meantime\n"
     ]
    },
    {
     "data": {
      "application/vnd.jupyter.widget-view+json": {
       "model_id": "c4e5849d6c054b04b57bb6a7ad368601",
       "version_major": 2,
       "version_minor": 0
      },
      "text/plain": [
       "Batches:   0%|          | 0/102 [00:00<?, ?it/s]"
      ]
     },
     "metadata": {},
     "output_type": "display_data"
    }
   ],
   "source": [
    "\n",
    "import time\n",
    "start_time = time.time()\n",
    "\n",
    "print(\"Encode the corpus of {}... get a coffee in the meantime\".format(len(loc_topics)))\n",
    "model = SentenceTransformer('sentence-transformers/all-mpnet-base-v2')\n",
    "loc_embs = model.encode(loc_topics, batch_size=64, show_progress_bar=True, convert_to_tensor=True)"
   ]
  },
  {
   "cell_type": "code",
   "execution_count": 43,
   "id": "d3e0b411",
   "metadata": {},
   "outputs": [
    {
     "name": "stdout",
     "output_type": "stream",
     "text": [
      "Encode the corpus of 291... get a coffee in the meantime\n"
     ]
    },
    {
     "data": {
      "application/vnd.jupyter.widget-view+json": {
       "model_id": "29c9a39f39464d47b419c04456605642",
       "version_major": 2,
       "version_minor": 0
      },
      "text/plain": [
       "Batches:   0%|          | 0/5 [00:00<?, ?it/s]"
      ]
     },
     "metadata": {},
     "output_type": "display_data"
    }
   ],
   "source": [
    "import time\n",
    "start_time = time.time()\n",
    "\n",
    "print(\"Encode the corpus of {}... get a coffee in the meantime\".format(len(tree_topics)))\n",
    "model = SentenceTransformer('sentence-transformers/all-mpnet-base-v2')\n",
    "embeddings = model.encode(tree_topics, batch_size=64, show_progress_bar=True, convert_to_tensor=True)"
   ]
  },
  {
   "cell_type": "code",
   "execution_count": 44,
   "id": "cc4a1fdf",
   "metadata": {},
   "outputs": [
    {
     "name": "stdout",
     "output_type": "stream",
     "text": [
      "Requirement already satisfied: faiss-cpu in /home/ec2-user/anaconda3/envs/pytorch_p36/lib/python3.6/site-packages (1.7.2)\n"
     ]
    }
   ],
   "source": [
    "!pip install faiss-cpu"
   ]
  },
  {
   "cell_type": "code",
   "execution_count": 45,
   "id": "08a28364",
   "metadata": {},
   "outputs": [],
   "source": [
    "import numpy as np\n",
    "import faiss\n",
    "\n",
    "# d = emb.shape[1]\n",
    "# emb.shape, len(df)\n",
    "# #np.array(df[\"emb\"][1])[:].shape\n",
    "# x = [list(e) for e in emb ]\n",
    "# #df[\"emb\"] = x\n",
    "\n",
    "\n",
    "def create_index(vectors):\n",
    "    vectors = vectors.cpu()\n",
    "    vectors = vectors.numpy()\n",
    "    faiss_index = faiss.IndexFlatL2(len(vectors[0]))\n",
    "    faiss_index.add(vectors)\n",
    "\n",
    "#     print(faiss_index.ntotal)\n",
    "\n",
    "    return faiss_index\n",
    "\n",
    "#export\n",
    "def query_index(text, embedder, target_list, index, with_distance=False, k=10):\n",
    "    embedding = embedder.encode([text])\n",
    "    distances, indices = index.search(embedding, k)\n",
    "    \n",
    "    if with_distance:\n",
    "        #I have no clue why this is double\n",
    "        q = list(set([(target_list[index], distances[0][i]) for i, index in enumerate(indices[0])]))\n",
    "        q.sort(key=lambda x: x[1])\n",
    "        return q\n",
    "    \n",
    "    return list(set([target_list[i] for i in indices[0]]))\n"
   ]
  },
  {
   "cell_type": "code",
   "execution_count": 46,
   "id": "373090c4",
   "metadata": {},
   "outputs": [],
   "source": [
    "index = create_index(embeddings)\n",
    "loc_index = create_index(loc_embs)"
   ]
  },
  {
   "cell_type": "code",
   "execution_count": 47,
   "id": "73a42eed",
   "metadata": {},
   "outputs": [
    {
     "data": {
      "text/plain": [
       "[('involves adhesion', 5.042231e-13),\n",
       " ('biological tissue', 0.99439126),\n",
       " ('hydrogels important', 1.0880888),\n",
       " ('various biomaterials', 1.1016836),\n",
       " ('delamination', 1.1347872),\n",
       " ('epoxy based', 1.1404315),\n",
       " ('solid lubrication', 1.1581233),\n",
       " ('permeability', 1.1895592),\n",
       " ('coatings', 1.2153834),\n",
       " ('adsorption based', 1.2665963)]"
      ]
     },
     "execution_count": 47,
     "metadata": {},
     "output_type": "execute_result"
    }
   ],
   "source": [
    "t = query_index(\"involves adhesion\", model, tree_topics, index, True, 10)\n",
    "t"
   ]
  },
  {
   "cell_type": "code",
   "execution_count": 48,
   "id": "ab9940e7",
   "metadata": {},
   "outputs": [],
   "source": [
    "hier = hierarchical_tagger.tree.to_dict()"
   ]
  },
  {
   "cell_type": "code",
   "execution_count": 49,
   "id": "254d90a2",
   "metadata": {},
   "outputs": [
    {
     "data": {
      "text/plain": [
       "[('Biology (General)', 1.1429534),\n",
       " ('Microscopy', 1.1958425),\n",
       " ('Technique and materials', 1.2288812)]"
      ]
     },
     "execution_count": 49,
     "metadata": {},
     "output_type": "execute_result"
    }
   ],
   "source": [
    "q = query_index('involves adhesion', model, loc_topics, loc_index, True, 3)\n",
    "q"
   ]
  },
  {
   "cell_type": "code",
   "execution_count": 86,
   "id": "9a7d5a6c",
   "metadata": {},
   "outputs": [],
   "source": [
    "def to_loc(term):\n",
    "    q = query_index(term, model, loc_topics, loc_index, True, 3)\n",
    "    new_term= q[0][0]\n",
    "    prob=q[0][1]\n",
    "\n",
    "    prob = str(q[0][1])[:4]\n",
    "    return \"{}:{} |{}\".format(term, new_term, prob)\n",
    "\n",
    "\n",
    "def to_loc_tuple(term):\n",
    "    q = query_index(term, model, loc_topics, loc_index, True, 3)\n",
    "    new_term= q[0][0]\n",
    "    prob=q[0][1]\n",
    "\n",
    "    # prob = str(q[0][1])[:4]\n",
    "#   \"{}:{} |{}\".format(term, q[0][0], prob)\n",
    "    return (new_term, prob)\n",
    "\n",
    "\n",
    "#      if children:\n",
    "#             for c in children:\n",
    "#                 if isinstance(c, dict):\n",
    "#                     v[\"children\"] += traverse_t(c,T,k_new)\n",
    "#                 else:\n",
    "#                     v[\"children\"] += to_loc(c)\n",
    "\n",
    "# def enrich_topic(topic):\n",
    "#     d = {}\n",
    "#     loc_topic, prob = to_loc_tuple(k)\n",
    "        \n",
    "#     d[\"loc_topic\"] = loc_topic\n",
    "#     d[\"orig_topic\"] = k\n",
    "#     topic = k if prob > 0.58 else loc_topic\n",
    "#     d[\"topic\"] = topic\n",
    "#     d[\"prob\"] = prob\n",
    "#     d[\"parents\"] = parents\n",
    "#     return d\n",
    "    \n",
    "def traverse_t(tree, T, parent=None, parents=[], depth=0):\n",
    "    \"\"\"overwrites and builds a tree where every key is mapped into a new name\"\"\"\n",
    "    tree2 = copy.deepcopy(tree)\n",
    "    for k, v in tree2.items():\n",
    "        #old\n",
    "        k_new = to_loc(k)\n",
    "        \n",
    "#         tree[k_new] = v\n",
    "        \n",
    "        #new\n",
    "        loc_topic, prob = to_loc_tuple(k)\n",
    "        \n",
    "        tree[\"loc_topic\"] = loc_topic\n",
    "        tree[\"orig_topic\"] = k\n",
    "        topic = k if prob > 0.58 or depth<2 else loc_topic \n",
    "        tree[\"topic\"] = topic\n",
    "        tree[\"prob\"] = prob\n",
    "        tree[\"parents\"] = parents\n",
    "        children=v.get(\"children\")\n",
    "        tree[\"children\"] = children\n",
    "\n",
    "#         del tree[k]\n",
    "        \n",
    "        \n",
    "        \n",
    "        \n",
    "        \n",
    "        if parent:\n",
    "            T.create_node(k_new, k_new, parent=parent)\n",
    "        else:\n",
    "            T.create_node(k_new, k_new) #root\n",
    "        del tree[k]\n",
    "        if children:\n",
    "            v[\"children\"] = []\n",
    "            for c in children:\n",
    "                if isinstance(c, dict):\n",
    "#                     print(\"not leaf\")\n",
    "                    v[\"children\"] += [traverse_t(c,T,k_new, parents+[topic], depth+1)]\n",
    "                else:\n",
    "                    #old\n",
    "#                     leaf = to_loc(c)\n",
    "                    \n",
    "                    \n",
    "                    #new\n",
    "                    leaf={}\n",
    "                    loc_l, prob_l = to_loc_tuple(c)\n",
    "\n",
    "#                     print(leaf, \"leaf\")\n",
    "\n",
    "                    leaf[\"loc_topic\"] = loc_l\n",
    "                    leaf[\"orig_topic\"] = k\n",
    "                    topic = k if prob_l > 0.58 or depth < 2 else loc_l\n",
    "                    leaf[\"topic\"] = topic\n",
    "                    leaf[\"prob\"] = prob_l\n",
    "                    leaf[\"parents\"] = parents\n",
    "    \n",
    "                    v[\"children\"] += [leaf]\n",
    "#                     T.create_node(c, c, k_new)\n",
    "    return tree            "
   ]
  },
  {
   "cell_type": "code",
   "execution_count": 87,
   "id": "f42bcea8",
   "metadata": {},
   "outputs": [
    {
     "data": {
      "text/plain": [
       "123"
      ]
     },
     "execution_count": 87,
     "metadata": {},
     "output_type": "execute_result"
    }
   ],
   "source": [
    "123"
   ]
  },
  {
   "cell_type": "code",
   "execution_count": 88,
   "id": "f6a53277",
   "metadata": {},
   "outputs": [],
   "source": [
    "from treelib import Tree\n",
    "treelib = Tree()\n",
    "\n",
    "hh = copy.deepcopy(tree_dict)\n",
    "ff = traverse_t(hh, treelib)"
   ]
  },
  {
   "cell_type": "code",
   "execution_count": 89,
   "id": "a4bcb89c",
   "metadata": {},
   "outputs": [],
   "source": [
    "#JSON(hier)"
   ]
  },
  {
   "cell_type": "code",
   "execution_count": 90,
   "id": "d534bbe7",
   "metadata": {},
   "outputs": [
    {
     "data": {
      "application/json": {
       "children": [
        {
         "children": [
          "aortic valve",
          {
           "children": [
            "fluorosis"
           ],
           "loc_topic": "Degeneration",
           "orig_topic": "neurodegenerative disease",
           "parents": [
            "functional materials",
            "human health"
           ],
           "prob": 0.7874577641487122,
           "topic": "neurodegenerative disease"
          }
         ],
         "loc_topic": "Public health",
         "orig_topic": "human health",
         "parents": [
          "functional materials"
         ],
         "prob": 0.5090867280960083,
         "topic": "human health"
        },
        "libs",
        {
         "children": [
          {
           "children": [
            "asphalt",
            "bridge deck",
            {
             "children": [
              "sludge",
              {
               "children": [
                "decontamination cleanup"
               ],
               "loc_topic": "Industrial and factory sanitation",
               "orig_topic": "wastewaters treatment",
               "parents": [
                "functional materials",
                "materials electronic",
                "cement",
                "environmental pollution"
               ],
               "prob": 0.5966596603393555,
               "topic": "wastewaters treatment"
              }
             ],
             "loc_topic": "Environmental pollution",
             "orig_topic": "environmental pollution",
             "parents": [
              "functional materials",
              "materials electronic",
              "cement"
             ],
             "prob": 8.077296427197456e-13,
             "topic": "Environmental pollution"
            },
            {
             "children": [
              "concrete structures"
             ],
             "loc_topic": "Earthwork. Foundations",
             "orig_topic": "reinforced concrete",
             "parents": [
              "functional materials",
              "materials electronic",
              "cement"
             ],
             "prob": 0.8396770358085632,
             "topic": "reinforced concrete"
            },
            {
             "children": [
              "geotechnical"
             ],
             "loc_topic": "Geology",
             "orig_topic": "shale",
             "parents": [
              "functional materials",
              "materials electronic",
              "cement"
             ],
             "prob": 0.8303539752960205,
             "topic": "shale"
            },
            "soil"
           ],
           "loc_topic": "Cement industries",
           "orig_topic": "cement",
           "parents": [
            "functional materials",
            "materials electronic"
           ],
           "prob": 0.717549204826355,
           "topic": "cement"
          },
          {
           "children": [
            {
             "children": [
              "optical fiber",
              {
               "children": [
                "fibers textile"
               ],
               "loc_topic": "Textiles",
               "orig_topic": "textile",
               "parents": [
                "functional materials",
                "materials electronic",
                "composite material",
                "carbon fiber"
               ],
               "prob": 0.13254530727863312,
               "topic": "Textiles"
              }
             ],
             "loc_topic": "Textiles",
             "orig_topic": "carbon fiber",
             "parents": [
              "functional materials",
              "materials electronic",
              "composite material"
             ],
             "prob": 0.8617146611213684,
             "topic": "carbon fiber"
            },
            "composite",
            "composites suitable",
            {
             "children": [
              "reinforced composite"
             ],
             "loc_topic": "Textiles",
             "orig_topic": "fibre reinforced",
             "parents": [
              "functional materials",
              "materials electronic",
              "composite material"
             ],
             "prob": 0.8781837821006775,
             "topic": "fibre reinforced"
            },
            {
             "children": [
              {
               "children": [
                "carbonaceous materials",
                "multiwall carbon"
               ],
               "loc_topic": "Fuel",
               "orig_topic": "carbon",
               "parents": [
                "functional materials",
                "materials electronic",
                "composite material",
                "graphitic carbon"
               ],
               "prob": 1.0821205377578735,
               "topic": "carbon"
              },
              {
               "children": [
                "graphite"
               ],
               "loc_topic": "Special materials",
               "orig_topic": "graphene",
               "parents": [
                "functional materials",
                "materials electronic",
                "composite material",
                "graphitic carbon"
               ],
               "prob": 1.1149693727493286,
               "topic": "graphene"
              },
              {
               "children": [
                "capacitors",
                "supercritical carbon"
               ],
               "loc_topic": "Magnetism",
               "orig_topic": "superconductors",
               "parents": [
                "functional materials",
                "materials electronic",
                "composite material",
                "graphitic carbon"
               ],
               "prob": 1.11085045337677,
               "topic": "superconductors"
              }
             ],
             "loc_topic": "Organic chemistry",
             "orig_topic": "graphitic carbon",
             "parents": [
              "functional materials",
              "materials electronic",
              "composite material"
             ],
             "prob": 1.1357110738754272,
             "topic": "graphitic carbon"
            },
            {
             "children": [
              "metal matrix"
             ],
             "loc_topic": "Transparencies. Diapositives",
             "orig_topic": "matrix composite",
             "parents": [
              "functional materials",
              "materials electronic",
              "composite material"
             ],
             "prob": 1.4921324253082275,
             "topic": "matrix composite"
            },
            {
             "children": [
              "gratings comprehensive",
              {
               "children": [
                "galvanic corrosion",
                {
                 "children": [
                  "aluminium based",
                  "austenitic stainless",
                  {
                   "children": [
                    {
                     "children": [
                      {
                       "children": [
                        "ceramics structural"
                       ],
                       "loc_topic": "Ceramics",
                       "orig_topic": "ceramic products",
                       "parents": [
                        "functional materials",
                        "materials electronic",
                        "composite material",
                        "metals",
                        "metal corrosion",
                        "metals alloys",
                        "Materials of engineering and construction. Mechanics of materials",
                        "Ceramics"
                       ],
                       "prob": 0.2906629741191864,
                       "topic": "Ceramics"
                      },
                      {
                       "children": [
                        {
                         "children": [
                          "material construction"
                         ],
                         "loc_topic": "Materials of engineering and construction. Mechanics of materials",
                         "orig_topic": "structural material",
                         "parents": [
                          "functional materials",
                          "materials electronic",
                          "composite material",
                          "metals",
                          "metal corrosion",
                          "metals alloys",
                          "Materials of engineering and construction. Mechanics of materials",
                          "Ceramics",
                          "Special materials"
                         ],
                         "prob": 0.6603452563285828,
                         "topic": "structural material"
                        },
                        "synthetic materials"
                       ],
                       "loc_topic": "Special materials",
                       "orig_topic": "materials",
                       "parents": [
                        "functional materials",
                        "materials electronic",
                        "composite material",
                        "metals",
                        "metal corrosion",
                        "metals alloys",
                        "Materials of engineering and construction. Mechanics of materials",
                        "Ceramics"
                       ],
                       "prob": 0.4872400164604187,
                       "topic": "Special materials"
                      },
                      "plastic deformation"
                     ],
                     "loc_topic": "Ceramics",
                     "orig_topic": "ceramic material",
                     "parents": [
                      "functional materials",
                      "materials electronic",
                      "composite material",
                      "metals",
                      "metal corrosion",
                      "metals alloys",
                      "Materials of engineering and construction. Mechanics of materials"
                     ],
                     "prob": 0.36527591943740845,
                     "topic": "Ceramics"
                    },
                    {
                     "children": [
                      "micro fabrication"
                     ],
                     "loc_topic": "Lithography",
                     "orig_topic": "fabrication advanced",
                     "parents": [
                      "functional materials",
                      "materials electronic",
                      "composite material",
                      "metals",
                      "metal corrosion",
                      "metals alloys",
                      "Materials of engineering and construction. Mechanics of materials"
                     ],
                     "prob": 0.6879348754882812,
                     "topic": "fabrication advanced"
                    },
                    "surface quality"
                   ],
                   "loc_topic": "Materials of engineering and construction. Mechanics of materials",
                   "orig_topic": "materials science",
                   "parents": [
                    "functional materials",
                    "materials electronic",
                    "composite material",
                    "metals",
                    "metal corrosion",
                    "metals alloys"
                   ],
                   "prob": 0.5465463995933533,
                   "topic": "Materials of engineering and construction. Mechanics of materials"
                  },
                  {
                   "children": [
                    {
                     "children": [
                      "steel structures"
                     ],
                     "loc_topic": "Metallurgy",
                     "orig_topic": "strength steel",
                     "parents": [
                      "functional materials",
                      "materials electronic",
                      "composite material",
                      "metals",
                      "metal corrosion",
                      "metals alloys",
                      "steel"
                     ],
                     "prob": 1.024266004562378,
                     "topic": "strength steel"
                    }
                   ],
                   "loc_topic": "Metalwork",
                   "orig_topic": "steel",
                   "parents": [
                    "functional materials",
                    "materials electronic",
                    "composite material",
                    "metals",
                    "metal corrosion",
                    "metals alloys"
                   ],
                   "prob": 0.6617957949638367,
                   "topic": "steel"
                  },
                  "titanium",
                  "transition metal"
                 ],
                 "loc_topic": "Metallurgy",
                 "orig_topic": "metals alloys",
                 "parents": [
                  "functional materials",
                  "materials electronic",
                  "composite material",
                  "metals",
                  "metal corrosion"
                 ],
                 "prob": 0.5393678545951843,
                 "topic": "Metallurgy"
                },
                "structural health"
               ],
               "loc_topic": "Metalwork",
               "orig_topic": "metal corrosion",
               "parents": [
                "functional materials",
                "materials electronic",
                "composite material",
                "metals"
               ],
               "prob": 0.8439401388168335,
               "topic": "metal corrosion"
              },
              {
               "children": [
                {
                 "children": [
                  "coatings",
                  "layer deposition"
                 ],
                 "loc_topic": "Metal engraving",
                 "orig_topic": "coatings deposited",
                 "parents": [
                  "functional materials",
                  "materials electronic",
                  "composite material",
                  "metals",
                  "porous materials"
                 ],
                 "prob": 1.0615533590316772,
                 "topic": "coatings deposited"
                },
                "membrane"
               ],
               "loc_topic": "Materials of engineering and construction. Mechanics of materials",
               "orig_topic": "porous materials",
               "parents": [
                "functional materials",
                "materials electronic",
                "composite material",
                "metals"
               ],
               "prob": 0.9596650004386902,
               "topic": "porous materials"
              }
             ],
             "loc_topic": "Metalwork",
             "orig_topic": "metals",
             "parents": [
              "functional materials",
              "materials electronic",
              "composite material"
             ],
             "prob": 0.5594424605369568,
             "topic": "Metalwork"
            },
            {
             "children": [
              "biodegradable",
              "conjugate polymer",
              {
               "children": [
                "foamed materials"
               ],
               "loc_topic": "Soft home furnishings",
               "orig_topic": "polyurethane foam",
               "parents": [
                "functional materials",
                "materials electronic",
                "composite material",
                "polymer based"
               ],
               "prob": 0.9824289679527283,
               "topic": "polyurethane foam"
              },
              "processes polymer"
             ],
             "loc_topic": "Polymers and polymer manufacture",
             "orig_topic": "polymer based",
             "parents": [
              "functional materials",
              "materials electronic",
              "composite material"
             ],
             "prob": 0.5663890838623047,
             "topic": "Polymers and polymer manufacture"
            },
            "resin",
            {
             "children": [
              "carbide based"
             ],
             "loc_topic": "Ceramics",
             "orig_topic": "silicon carbide",
             "parents": [
              "functional materials",
              "materials electronic",
              "composite material"
             ],
             "prob": 0.9286115765571594,
             "topic": "silicon carbide"
            }
           ],
           "loc_topic": "Special materials",
           "orig_topic": "composite material",
           "parents": [
            "functional materials",
            "materials electronic"
           ],
           "prob": 0.8500809073448181,
           "topic": "composite material"
          },
          {
           "children": [
            "aerosol",
            {
             "children": [
              {
               "children": [
                "aircraft constructions"
               ],
               "loc_topic": "Structural engineering (General)",
               "orig_topic": "aircraft structures",
               "parents": [
                "functional materials",
                "materials electronic",
                "energy devices",
                "industrial application"
               ],
               "prob": 0.8209965825080872,
               "topic": "aircraft structures"
              },
              {
               "children": [
                "turbine blade"
               ],
               "loc_topic": "Turbines. Turbomachines (General)",
               "orig_topic": "wind turbine",
               "parents": [
                "functional materials",
                "materials electronic",
                "energy devices",
                "industrial application"
               ],
               "prob": 0.6120696067810059,
               "topic": "wind turbine"
              }
             ],
             "loc_topic": "Chemical industries",
             "orig_topic": "industrial application",
             "parents": [
              "functional materials",
              "materials electronic",
              "energy devices"
             ],
             "prob": 0.8353409171104431,
             "topic": "industrial application"
            },
            {
             "children": [
              {
               "children": [
                "battery",
                {
                 "children": [
                  "power devices"
                 ],
                 "loc_topic": "Electricity",
                 "orig_topic": "high voltage",
                 "parents": [
                  "functional materials",
                  "materials electronic",
                  "energy devices",
                  "solar cell",
                  "batteries libs"
                 ],
                 "prob": 0.7719230651855469,
                 "topic": "high voltage"
                },
                {
                 "children": [
                  "density rechargeable"
                 ],
                 "loc_topic": "Electricity",
                 "orig_topic": "rechargeable battery",
                 "parents": [
                  "functional materials",
                  "materials electronic",
                  "energy devices",
                  "solar cell",
                  "batteries libs"
                 ],
                 "prob": 1.266175389289856,
                 "topic": "rechargeable battery"
                }
               ],
               "loc_topic": "Electricity",
               "orig_topic": "batteries libs",
               "parents": [
                "functional materials",
                "materials electronic",
                "energy devices",
                "solar cell"
               ],
               "prob": 0.9304384589195251,
               "topic": "batteries libs"
              },
              {
               "children": [
                {
                 "children": [
                  "electric energy",
                  "electric vehicles",
                  "energy consumption",
                  "renewable energy"
                 ],
                 "loc_topic": "Power resources",
                 "orig_topic": "energy storage",
                 "parents": [
                  "functional materials",
                  "materials electronic",
                  "energy devices",
                  "solar cell",
                  "Renewable energy sources"
                 ],
                 "prob": 0.8312729001045227,
                 "topic": "energy storage"
                },
                "photovoltaic"
               ],
               "loc_topic": "Renewable energy sources",
               "orig_topic": "solar energy",
               "parents": [
                "functional materials",
                "materials electronic",
                "energy devices",
                "solar cell"
               ],
               "prob": 0.5150365829467773,
               "topic": "Renewable energy sources"
              }
             ],
             "loc_topic": "Photoelectronic devices (General)",
             "orig_topic": "solar cell",
             "parents": [
              "functional materials",
              "materials electronic",
              "energy devices"
             ],
             "prob": 0.934208333492279,
             "topic": "solar cell"
            },
            {
             "children": [
              {
               "children": [
                {
                 "children": [
                  {
                   "children": [
                    "oxidation processes"
                   ],
                   "loc_topic": "Inorganic chemistry",
                   "orig_topic": "advanced oxidation",
                   "parents": [
                    "functional materials",
                    "materials electronic",
                    "energy devices",
                    "thermal energy",
                    "hydrogen generation",
                    "catalysts based"
                   ],
                   "prob": 1.0453364849090576,
                   "topic": "advanced oxidation"
                  },
                  "catalytic performance"
                 ],
                 "loc_topic": "Chemical technology",
                 "orig_topic": "catalysts based",
                 "parents": [
                  "functional materials",
                  "materials electronic",
                  "energy devices",
                  "thermal energy",
                  "hydrogen generation"
                 ],
                 "prob": 0.8600309491157532,
                 "topic": "catalysts based"
                },
                {
                 "children": [
                  {
                   "children": [
                    {
                     "children": [
                      "propellants combustion"
                     ],
                     "loc_topic": "Explosives and pyrotechnics",
                     "orig_topic": "flame retardant",
                     "parents": [
                      "functional materials",
                      "materials electronic",
                      "energy devices",
                      "thermal energy",
                      "hydrogen generation",
                      "derived fuel",
                      "combustion technology"
                     ],
                     "prob": 0.9542631506919861,
                     "topic": "flame retardant"
                    }
                   ],
                   "loc_topic": "Heat engines",
                   "orig_topic": "combustion technology",
                   "parents": [
                    "functional materials",
                    "materials electronic",
                    "energy devices",
                    "thermal energy",
                    "hydrogen generation",
                    "derived fuel"
                   ],
                   "prob": 0.8287742733955383,
                   "topic": "combustion technology"
                  },
                  "diesel engine",
                  {
                   "children": [
                    "biomass generated",
                    "diesel fuel",
                    "oxide fuel"
                   ],
                   "loc_topic": "Fuel",
                   "orig_topic": "fuel cell",
                   "parents": [
                    "functional materials",
                    "materials electronic",
                    "energy devices",
                    "thermal energy",
                    "hydrogen generation",
                    "derived fuel"
                   ],
                   "prob": 0.745452344417572,
                   "topic": "fuel cell"
                  }
                 ],
                 "loc_topic": "Fuel",
                 "orig_topic": "derived fuel",
                 "parents": [
                  "functional materials",
                  "materials electronic",
                  "energy devices",
                  "thermal energy",
                  "hydrogen generation"
                 ],
                 "prob": 0.7237424254417419,
                 "topic": "derived fuel"
                },
                {
                 "children": [
                  "catalytic hydrogenation"
                 ],
                 "loc_topic": "Fuel",
                 "orig_topic": "hydrogen",
                 "parents": [
                  "functional materials",
                  "materials electronic",
                  "energy devices",
                  "thermal energy",
                  "hydrogen generation"
                 ],
                 "prob": 0.8918414115905762,
                 "topic": "hydrogen"
                },
                {
                 "children": [
                  "blast furnace",
                  {
                   "children": [
                    "gamma radiation"
                   ],
                   "loc_topic": "Nuclear and particle physics. Atomic energy. Radioactivity",
                   "orig_topic": "neutron science",
                   "parents": [
                    "functional materials",
                    "materials electronic",
                    "energy devices",
                    "thermal energy",
                    "hydrogen generation",
                    "nuclear reactor"
                   ],
                   "prob": 0.7648709416389465,
                   "topic": "neutron science"
                  },
                  "nuclear fuel",
                  "reactor"
                 ],
                 "loc_topic": "Nuclear engineering. Atomic power",
                 "orig_topic": "nuclear reactor",
                 "parents": [
                  "functional materials",
                  "materials electronic",
                  "energy devices",
                  "thermal energy",
                  "hydrogen generation"
                 ],
                 "prob": 0.7495526671409607,
                 "topic": "nuclear reactor"
                }
               ],
               "loc_topic": "Production of electricity by direct energy conversion",
               "orig_topic": "hydrogen generation",
               "parents": [
                "functional materials",
                "materials electronic",
                "energy devices",
                "thermal energy"
               ],
               "prob": 0.9496167898178101,
               "topic": "hydrogen generation"
              },
              {
               "children": [
                "cryogenic",
                {
                 "children": [
                  "developments microwave",
                  "plasma"
                 ],
                 "loc_topic": "Cooking",
                 "orig_topic": "microwave",
                 "parents": [
                  "functional materials",
                  "materials electronic",
                  "energy devices",
                  "thermal energy",
                  "thermoelectric"
                 ],
                 "prob": 0.9561136364936829,
                 "topic": "microwave"
                },
                {
                 "children": [
                  "geothermal"
                 ],
                 "loc_topic": "Photochemistry",
                 "orig_topic": "photothermal therapy",
                 "parents": [
                  "functional materials",
                  "materials electronic",
                  "energy devices",
                  "thermal energy",
                  "thermoelectric"
                 ],
                 "prob": 1.0666056871414185,
                 "topic": "photothermal therapy"
                },
                {
                 "children": [
                  "insulation",
                  "temperature applications",
                  "thermal conductivity",
                  {
                   "children": [
                    "thermal barrier"
                   ],
                   "loc_topic": "Temperature",
                   "orig_topic": "thermal stability",
                   "parents": [
                    "functional materials",
                    "materials electronic",
                    "energy devices",
                    "thermal energy",
                    "thermoelectric",
                    "thermal properties"
                   ],
                   "prob": 1.0918318033218384,
                   "topic": "thermal stability"
                  }
                 ],
                 "loc_topic": "Temperature",
                 "orig_topic": "thermal properties",
                 "parents": [
                  "functional materials",
                  "materials electronic",
                  "energy devices",
                  "thermal energy",
                  "thermoelectric"
                 ],
                 "prob": 0.9807307720184326,
                 "topic": "thermal properties"
                },
                {
                 "children": [
                  "thermosets"
                 ],
                 "loc_topic": "Materials of engineering and construction. Mechanics of materials",
                 "orig_topic": "thermoplastics",
                 "parents": [
                  "functional materials",
                  "materials electronic",
                  "energy devices",
                  "thermal energy",
                  "thermoelectric"
                 ],
                 "prob": 0.9130556583404541,
                 "topic": "thermoplastics"
                }
               ],
               "loc_topic": "Electric heating",
               "orig_topic": "thermoelectric",
               "parents": [
                "functional materials",
                "materials electronic",
                "energy devices",
                "thermal energy"
               ],
               "prob": 0.8874080181121826,
               "topic": "thermoelectric"
              }
             ],
             "loc_topic": "Energy conservation",
             "orig_topic": "thermal energy",
             "parents": [
              "functional materials",
              "materials electronic",
              "energy devices"
             ],
             "prob": 0.6615983247756958,
             "topic": "thermal energy"
            }
           ],
           "loc_topic": "Power resources",
           "orig_topic": "energy devices",
           "parents": [
            "functional materials",
            "materials electronic"
           ],
           "prob": 0.7426226735115051,
           "topic": "energy devices"
          },
          {
           "children": [
            {
             "children": [
              {
               "children": [
                {
                 "children": [
                  "solidification"
                 ],
                 "loc_topic": "Glass",
                 "orig_topic": "amorphous",
                 "parents": [
                  "functional materials",
                  "materials electronic",
                  "Inorganic chemistry",
                  "glassy polymers",
                  "crystallization"
                 ],
                 "prob": 0.9253363609313965,
                 "topic": "amorphous"
                },
                "glass optical",
                {
                 "children": [
                  "crystal growth"
                 ],
                 "loc_topic": "Crystallography",
                 "orig_topic": "liquid crystals",
                 "parents": [
                  "functional materials",
                  "materials electronic",
                  "Inorganic chemistry",
                  "glassy polymers",
                  "Glass"
                 ],
                 "prob": 0.9803661108016968,
                 "topic": "liquid crystals"
                },
                {
                 "children": [
                  "hydrogels important",
                  "silica"
                 ],
                 "loc_topic": "Inorganic chemistry",
                 "orig_topic": "mesoporous silica",
                 "parents": [
                  "functional materials",
                  "materials electronic",
                  "Inorganic chemistry",
                  "glassy polymers",
                  "Glass"
                 ],
                 "prob": 1.0243077278137207,
                 "topic": "mesoporous silica"
                },
                "transparent materials"
               ],
               "loc_topic": "Crystallography",
               "orig_topic": "crystallization",
               "parents": [
                "functional materials",
                "materials electronic",
                "Inorganic chemistry",
                "glassy polymers"
               ],
               "prob": 0.7394537329673767,
               "topic": "crystallization"
              },
              {
               "children": [
                {
                 "children": [
                  "conjugated polyelectrolytes",
                  "phosphors",
                  {
                   "children": [
                    "content polypropylene",
                    {
                     "children": [
                      "polyhydroxyalkanoates phas"
                     ],
                     "loc_topic": "Polymers and polymer manufacture",
                     "orig_topic": "polyethersulfone",
                     "parents": [
                      "functional materials",
                      "materials electronic",
                      "Inorganic chemistry",
                      "glassy polymers",
                      "plasmonic",
                      "polyelectrolytes",
                      "polylactic acid"
                     ],
                     "prob": 1.0797369480133057,
                     "topic": "polyethersulfone"
                    }
                   ],
                   "loc_topic": "Polymers and polymer manufacture",
                   "orig_topic": "polylactic acid",
                   "parents": [
                    "functional materials",
                    "materials electronic",
                    "Inorganic chemistry",
                    "glassy polymers",
                    "plasmonic",
                    "polyelectrolytes"
                   ],
                   "prob": 1.144206166267395,
                   "topic": "polylactic acid"
                  }
                 ],
                 "loc_topic": "Polymers and polymer manufacture",
                 "orig_topic": "polyelectrolytes",
                 "parents": [
                  "functional materials",
                  "materials electronic",
                  "Inorganic chemistry",
                  "glassy polymers",
                  "plasmonic"
                 ],
                 "prob": 1.1123757362365723,
                 "topic": "polyelectrolytes"
                },
                "surface plasmon"
               ],
               "loc_topic": "Applied optics. Photonics",
               "orig_topic": "plasmonic",
               "parents": [
                "functional materials",
                "materials electronic",
                "Inorganic chemistry",
                "glassy polymers"
               ],
               "prob": 1.0051896572113037,
               "topic": "plasmonic"
              }
             ],
             "loc_topic": "Glass",
             "orig_topic": "glassy polymers",
             "parents": [
              "functional materials",
              "materials electronic",
              "Inorganic chemistry"
             ],
             "prob": 0.7248304486274719,
             "topic": "glassy polymers"
            },
            {
             "children": [
              {
               "children": [
                "boron compounds",
                "niobium",
                {
                 "children": [
                  {
                   "children": [
                    "alumina combined"
                   ],
                   "loc_topic": "Biochemistry",
                   "orig_topic": "sulfides",
                   "parents": [
                    "functional materials",
                    "materials electronic",
                    "Inorganic chemistry",
                    "organic inorganic",
                    "nitride materials",
                    "rare earth"
                   ],
                   "prob": 1.1267082691192627,
                   "topic": "sulfides"
                  }
                 ],
                 "loc_topic": "Precious metals. Bullion",
                 "orig_topic": "rare earth",
                 "parents": [
                  "functional materials",
                  "materials electronic",
                  "Inorganic chemistry",
                  "organic inorganic",
                  "nitride materials"
                 ],
                 "prob": 0.8500096201896667,
                 "topic": "rare earth"
                },
                {
                 "children": [
                  "titanium nitride"
                 ],
                 "loc_topic": "Ceramics",
                 "orig_topic": "silicon nitride",
                 "parents": [
                  "functional materials",
                  "materials electronic",
                  "Inorganic chemistry",
                  "organic inorganic",
                  "nitride materials"
                 ],
                 "prob": 1.2070529460906982,
                 "topic": "silicon nitride"
                }
               ],
               "loc_topic": "Special materials",
               "orig_topic": "nitride materials",
               "parents": [
                "functional materials",
                "materials electronic",
                "Inorganic chemistry",
                "organic inorganic"
               ],
               "prob": 1.1651076078414917,
               "topic": "nitride materials"
              },
              {
               "children": [
                "organic molecular"
               ],
               "loc_topic": "Organic chemistry",
               "orig_topic": "properties organic",
               "parents": [
                "functional materials",
                "materials electronic",
                "Inorganic chemistry",
                "organic inorganic"
               ],
               "prob": 0.82723468542099,
               "topic": "properties organic"
              },
              {
               "children": [
                "pbte compounds"
               ],
               "loc_topic": "Metallurgy",
               "orig_topic": "pyrolysis",
               "parents": [
                "functional materials",
                "materials electronic",
                "Inorganic chemistry",
                "organic inorganic"
               ],
               "prob": 0.972959578037262,
               "topic": "pyrolysis"
              }
             ],
             "loc_topic": "Inorganic chemistry",
             "orig_topic": "organic inorganic",
             "parents": [
              "functional materials",
              "materials electronic",
              "Inorganic chemistry"
             ],
             "prob": 0.6399012207984924,
             "topic": "organic inorganic"
            }
           ],
           "loc_topic": "Inorganic chemistry",
           "orig_topic": "inorganic materials",
           "parents": [
            "functional materials",
            "materials electronic"
           ],
           "prob": 0.41227075457572937,
           "topic": "Inorganic chemistry"
          },
          {
           "children": [
            {
             "children": [
              "bearings"
             ],
             "loc_topic": "Rubber industry",
             "orig_topic": "ball bearings",
             "parents": [
              "functional materials",
              "materials electronic",
              "magnetic properties"
             ],
             "prob": 1.2005305290222168,
             "topic": "ball bearings"
            },
            {
             "children": [
              "ferromagnetic layers"
             ],
             "loc_topic": "Industrial electrochemistry",
             "orig_topic": "ferroelectric",
             "parents": [
              "functional materials",
              "materials electronic",
              "magnetic properties"
             ],
             "prob": 1.2093966007232666,
             "topic": "ferroelectric"
            },
            {
             "children": [
              "magnetoresistance"
             ],
             "loc_topic": "Magnetism",
             "orig_topic": "magnetization",
             "parents": [
              "functional materials",
              "materials electronic",
              "magnetic properties"
             ],
             "prob": 0.2326565682888031,
             "topic": "Magnetism"
            }
           ],
           "loc_topic": "Magnetism",
           "orig_topic": "magnetic properties",
           "parents": [
            "functional materials",
            "materials electronic"
           ],
           "prob": 0.6417719125747681,
           "topic": "magnetic properties"
          },
          {
           "children": [
            {
             "children": [
              "cathode material",
              "electrochromic devices",
              {
               "children": [
                "electrolytes"
               ],
               "loc_topic": "Industrial electrochemistry",
               "orig_topic": "solid electrolyte",
               "parents": [
                "functional materials",
                "materials electronic",
                "material lithium",
                "electrochemical"
               ],
               "prob": 1.0760689973831177,
               "topic": "solid electrolyte"
              }
             ],
             "loc_topic": "Industrial electrochemistry",
             "orig_topic": "electrochemical",
             "parents": [
              "functional materials",
              "materials electronic",
              "material lithium"
             ],
             "prob": 0.6521329283714294,
             "topic": "electrochemical"
            },
            "lithium batteries"
           ],
           "loc_topic": "Special materials",
           "orig_topic": "material lithium",
           "parents": [
            "functional materials",
            "materials electronic"
           ],
           "prob": 1.0519981384277344,
           "topic": "material lithium"
          },
          {
           "children": [
            {
             "children": [
              {
               "children": [
                "barrier discharge",
                {
                 "children": [
                  "moisture content"
                 ],
                 "loc_topic": "Hydrology. Water",
                 "orig_topic": "permeability",
                 "parents": [
                  "functional materials",
                  "materials electronic",
                  "Mechanical movements",
                  "defects",
                  "cavitation"
                 ],
                 "prob": 1.1564167737960815,
                 "topic": "permeability"
                }
               ],
               "loc_topic": "Physics and acoustics",
               "orig_topic": "cavitation",
               "parents": [
                "functional materials",
                "materials electronic",
                "Mechanical movements",
                "defects"
               ],
               "prob": 1.2090766429901123,
               "topic": "cavitation"
              },
              {
               "children": [
                "environment fatigue"
               ],
               "loc_topic": "Degeneration",
               "orig_topic": "degradation",
               "parents": [
                "functional materials",
                "materials electronic",
                "Mechanical movements",
                "defects"
               ],
               "prob": 0.6948789358139038,
               "topic": "degradation"
              },
              {
               "children": [
                {
                 "children": [
                  "refractory materials"
                 ],
                 "loc_topic": "Chemical engineering",
                 "orig_topic": "adsorption based",
                 "parents": [
                  "functional materials",
                  "materials electronic",
                  "Mechanical movements",
                  "defects",
                  "delamination"
                 ],
                 "prob": 1.0240365266799927,
                 "topic": "adsorption based"
                },
                "nondestructive evaluation",
                "processes separation"
               ],
               "loc_topic": "Fractures (General)",
               "orig_topic": "delamination",
               "parents": [
                "functional materials",
                "materials electronic",
                "Mechanical movements",
                "defects"
               ],
               "prob": 1.0535223484039307,
               "topic": "delamination"
              },
              "failure structures"
             ],
             "loc_topic": "Maintenance and repair",
             "orig_topic": "defects",
             "parents": [
              "functional materials",
              "materials electronic",
              "Mechanical movements"
             ],
             "prob": 1.1207143068313599,
             "topic": "defects"
            },
            {
             "children": [
              {
               "children": [
                {
                 "children": [
                  "high entropy"
                 ],
                 "loc_topic": "Metallurgy",
                 "orig_topic": "entropy alloys",
                 "parents": [
                  "functional materials",
                  "materials electronic",
                  "Mechanical movements",
                  "ultrasonic",
                  "perovskite based"
                 ],
                 "prob": 1.1307235956192017,
                 "topic": "entropy alloys"
                }
               ],
               "loc_topic": "Inorganic chemistry",
               "orig_topic": "perovskite based",
               "parents": [
                "functional materials",
                "materials electronic",
                "Mechanical movements",
                "ultrasonic"
               ],
               "prob": 1.0265779495239258,
               "topic": "perovskite based"
              },
              {
               "children": [
                "acoustic"
               ],
               "loc_topic": "Mechanical movements",
               "orig_topic": "vibration",
               "parents": [
                "functional materials",
                "materials electronic",
                "Mechanical movements",
                "ultrasonic"
               ],
               "prob": 0.796530544757843,
               "topic": "vibration"
              }
             ],
             "loc_topic": "Acoustics. Sound",
             "orig_topic": "ultrasonic",
             "parents": [
              "functional materials",
              "materials electronic",
              "Mechanical movements"
             ],
             "prob": 0.7305111289024353,
             "topic": "ultrasonic"
            }
           ],
           "loc_topic": "Mechanical movements",
           "orig_topic": "mechanical behavior",
           "parents": [
            "functional materials",
            "materials electronic"
           ],
           "prob": 0.5002661943435669,
           "topic": "Mechanical movements"
          },
          {
           "children": [
            {
             "children": [
              {
               "children": [
                "nanometer"
               ],
               "loc_topic": "Electronics",
               "orig_topic": "microelectronics",
               "parents": [
                "functional materials",
                "materials electronic",
                "nano semiconductors",
                "nanotube"
               ],
               "prob": 0.7179403901100159,
               "topic": "microelectronics"
              },
              "microfluid",
              {
               "children": [
                "magnetic nanoparticles",
                "nanostructures"
               ],
               "loc_topic": "Special materials",
               "orig_topic": "nanoparticles based",
               "parents": [
                "functional materials",
                "materials electronic",
                "nano semiconductors",
                "nanotube"
               ],
               "prob": 1.2673957347869873,
               "topic": "nanoparticles based"
              },
              "nanowires",
              "polycrystalline"
             ],
             "loc_topic": "Special materials",
             "orig_topic": "nanotube",
             "parents": [
              "functional materials",
              "materials electronic",
              "nano semiconductors"
             ],
             "prob": 1.2030003070831299,
             "topic": "nanotube"
            },
            {
             "children": [
              {
               "children": [
                {
                 "children": [
                  {
                   "children": [
                    "oled"
                   ],
                   "loc_topic": "Illuminating industries (Nonelectric)",
                   "orig_topic": "diode oled",
                   "parents": [
                    "functional materials",
                    "materials electronic",
                    "nano semiconductors",
                    "semiconductor material",
                    "dielectric",
                    "anode material"
                   ],
                   "prob": 1.3090777397155762,
                   "topic": "diode oled"
                  }
                 ],
                 "loc_topic": "Illuminating industries (Nonelectric)",
                 "orig_topic": "anode material",
                 "parents": [
                  "functional materials",
                  "materials electronic",
                  "nano semiconductors",
                  "semiconductor material",
                  "dielectric"
                 ],
                 "prob": 1.135738492012024,
                 "topic": "anode material"
                },
                "dielectric constant",
                {
                 "children": [
                  {
                   "children": [
                    {
                     "children": [
                      "electronic applications"
                     ],
                     "loc_topic": "Electronics",
                     "orig_topic": "electronic devices",
                     "parents": [
                      "functional materials",
                      "materials electronic",
                      "nano semiconductors",
                      "semiconductor material",
                      "dielectric",
                      "flexible electronic",
                      "electronic properties"
                     ],
                     "prob": 0.3795927166938782,
                     "topic": "Electronics"
                    },
                    "organic electronic"
                   ],
                   "loc_topic": "Physical and theoretical chemistry",
                   "orig_topic": "electronic properties",
                   "parents": [
                    "functional materials",
                    "materials electronic",
                    "nano semiconductors",
                    "semiconductor material",
                    "dielectric",
                    "flexible electronic"
                   ],
                   "prob": 0.8618036508560181,
                   "topic": "electronic properties"
                  }
                 ],
                 "loc_topic": "Electronics",
                 "orig_topic": "flexible electronic",
                 "parents": [
                  "functional materials",
                  "materials electronic",
                  "nano semiconductors",
                  "semiconductor material",
                  "dielectric"
                 ],
                 "prob": 1.0119256973266602,
                 "topic": "flexible electronic"
                },
                {
                 "children": [
                  "pyroelectric"
                 ],
                 "loc_topic": "Electronics",
                 "orig_topic": "piezoelectric",
                 "parents": [
                  "functional materials",
                  "materials electronic",
                  "nano semiconductors",
                  "semiconductor material",
                  "dielectric"
                 ],
                 "prob": 1.150783896446228,
                 "topic": "piezoelectric"
                }
               ],
               "loc_topic": "Electromagnetic theory",
               "orig_topic": "dielectric",
               "parents": [
                "functional materials",
                "materials electronic",
                "nano semiconductors",
                "semiconductor material"
               ],
               "prob": 1.050698161125183,
               "topic": "dielectric"
              },
              {
               "children": [
                {
                 "children": [
                  "integrated circuits",
                  "metal semiconductor",
                  "organic semiconductor",
                  "semiconductors field",
                  {
                   "children": [
                    "amorphous silicon"
                   ],
                   "loc_topic": "Ceramics",
                   "orig_topic": "silicon",
                   "parents": [
                    "functional materials",
                    "materials electronic",
                    "nano semiconductors",
                    "semiconductor material",
                    "oxide semiconductor",
                    "advanced semiconductor"
                   ],
                   "prob": 0.8764294385910034,
                   "topic": "silicon"
                  }
                 ],
                 "loc_topic": "Photoelectronic devices (General)",
                 "orig_topic": "advanced semiconductor",
                 "parents": [
                  "functional materials",
                  "materials electronic",
                  "nano semiconductors",
                  "semiconductor material",
                  "oxide semiconductor"
                 ],
                 "prob": 0.9212943315505981,
                 "topic": "advanced semiconductor"
                },
                {
                 "children": [
                  "conductivity materials",
                  {
                   "children": [
                    {
                     "children": [
                      "complex oxides",
                      "oxide surface"
                     ],
                     "loc_topic": "Inorganic chemistry",
                     "orig_topic": "oxide",
                     "parents": [
                      "functional materials",
                      "materials electronic",
                      "nano semiconductors",
                      "semiconductor material",
                      "oxide semiconductor",
                      "conductivity oxide",
                      "metal oxide"
                     ],
                     "prob": 0.9826493263244629,
                     "topic": "oxide"
                    },
                    "zinc oxide"
                   ],
                   "loc_topic": "Inorganic chemistry",
                   "orig_topic": "metal oxide",
                   "parents": [
                    "functional materials",
                    "materials electronic",
                    "nano semiconductors",
                    "semiconductor material",
                    "oxide semiconductor",
                    "conductivity oxide"
                   ],
                   "prob": 0.7456159591674805,
                   "topic": "metal oxide"
                  }
                 ],
                 "loc_topic": "Inorganic chemistry",
                 "orig_topic": "conductivity oxide",
                 "parents": [
                  "functional materials",
                  "materials electronic",
                  "nano semiconductors",
                  "semiconductor material",
                  "oxide semiconductor"
                 ],
                 "prob": 1.1032013893127441,
                 "topic": "conductivity oxide"
                }
               ],
               "loc_topic": "Inorganic chemistry",
               "orig_topic": "oxide semiconductor",
               "parents": [
                "functional materials",
                "materials electronic",
                "nano semiconductors",
                "semiconductor material"
               ],
               "prob": 0.9294511079788208,
               "topic": "oxide semiconductor"
              }
             ],
             "loc_topic": "Ceramics",
             "orig_topic": "semiconductor material",
             "parents": [
              "functional materials",
              "materials electronic",
              "nano semiconductors"
             ],
             "prob": 0.9943789839744568,
             "topic": "semiconductor material"
            }
           ],
           "loc_topic": "Photoelectronic devices (General)",
           "orig_topic": "nano semiconductors",
           "parents": [
            "functional materials",
            "materials electronic"
           ],
           "prob": 0.9913247227668762,
           "topic": "nano semiconductors"
          },
          {
           "children": [
            "artificial photosynthesis",
            "luminescence",
            {
             "children": [
              {
               "children": [
                "laser diodes",
                "ultrashort laser"
               ],
               "loc_topic": "Applied optics. Photonics",
               "orig_topic": "laser applications",
               "parents": [
                "functional materials",
                "materials electronic",
                "photocatalytic",
                "optical material"
               ],
               "prob": 0.895617663860321,
               "topic": "laser applications"
              },
              {
               "children": [
                {
                 "children": [
                  "ftir spectrometers"
                 ],
                 "loc_topic": "Spectroscopy",
                 "orig_topic": "spectroscopy techniques",
                 "parents": [
                  "functional materials",
                  "materials electronic",
                  "photocatalytic",
                  "optical material",
                  "Microscopy"
                 ],
                 "prob": 0.38941606879234314,
                 "topic": "Spectroscopy"
                }
               ],
               "loc_topic": "Microscopy",
               "orig_topic": "microscope",
               "parents": [
                "functional materials",
                "materials electronic",
                "photocatalytic",
                "optical material"
               ],
               "prob": 0.2526337504386902,
               "topic": "Microscopy"
              },
              {
               "children": [
                {
                 "children": [
                  "emission field"
                 ],
                 "loc_topic": "Environmental pollution",
                 "orig_topic": "emission",
                 "parents": [
                  "functional materials",
                  "materials electronic",
                  "photocatalytic",
                  "optical material",
                  "near infrared"
                 ],
                 "prob": 0.9254900813102722,
                 "topic": "emission"
                },
                "solar spectrum"
               ],
               "loc_topic": "Spectroscopy",
               "orig_topic": "near infrared",
               "parents": [
                "functional materials",
                "materials electronic",
                "photocatalytic",
                "optical material"
               ],
               "prob": 0.9389549493789673,
               "topic": "near infrared"
              },
              {
               "children": [
                "optical devices",
                "optoelectronic"
               ],
               "loc_topic": "Applied optics. Photonics",
               "orig_topic": "photonic",
               "parents": [
                "functional materials",
                "materials electronic",
                "photocatalytic",
                "optical material"
               ],
               "prob": 0.729231595993042,
               "topic": "photonic"
              }
             ],
             "loc_topic": "Applied optics. Photonics",
             "orig_topic": "optical material",
             "parents": [
              "functional materials",
              "materials electronic",
              "photocatalytic"
             ],
             "prob": 0.6709515452384949,
             "topic": "optical material"
            },
            "photocatalytic degradation",
            "photodetector",
            "photoelectrochemical activities"
           ],
           "loc_topic": "Photochemistry",
           "orig_topic": "photocatalytic",
           "parents": [
            "functional materials",
            "materials electronic"
           ],
           "prob": 0.46742069721221924,
           "topic": "Photochemistry"
          },
          {
           "children": [
            {
             "children": [
              "redox"
             ],
             "loc_topic": "Special materials",
             "orig_topic": "epoxy based",
             "parents": [
              "functional materials",
              "materials electronic",
              "redox chemistry"
             ],
             "prob": 0.885424017906189,
             "topic": "epoxy based"
            },
            "rheological properties",
            "solid lubrication",
            "zirconia"
           ],
           "loc_topic": "Inorganic chemistry",
           "orig_topic": "redox chemistry",
           "parents": [
            "functional materials",
            "materials electronic"
           ],
           "prob": 0.821384847164154,
           "topic": "redox chemistry"
          },
          {
           "children": [
            "cmos",
            "measurement methods"
           ],
           "loc_topic": "Cameras",
           "orig_topic": "sensor",
           "parents": [
            "functional materials",
            "materials electronic"
           ],
           "prob": 1.134039044380188,
           "topic": "sensor"
          },
          {
           "children": [
            "applications multiferroic",
            "heterostructures",
            {
             "children": [
              {
               "children": [
                "fusion devices"
               ],
               "loc_topic": "Plasma engineering. Applied plasma dynamics",
               "orig_topic": "confinement fusion",
               "parents": [
                "functional materials",
                "materials electronic",
                "tribological",
                "interconnection"
               ],
               "prob": 1.1474225521087646,
               "topic": "confinement fusion"
              },
              "transistors igbts"
             ],
             "loc_topic": "Electronics",
             "orig_topic": "interconnection",
             "parents": [
              "functional materials",
              "materials electronic",
              "tribological"
             ],
             "prob": 1.0447871685028076,
             "topic": "interconnection"
            }
           ],
           "loc_topic": "Mineralogy",
           "orig_topic": "tribological",
           "parents": [
            "functional materials",
            "materials electronic"
           ],
           "prob": 1.0946019887924194,
           "topic": "tribological"
          }
         ],
         "loc_topic": "Electronics",
         "orig_topic": "materials electronic",
         "parents": [
          "functional materials"
         ],
         "prob": 0.8384890556335449,
         "topic": "materials electronic"
        },
        {
         "children": [
          {
           "children": [
            "bionanocomposites",
            {
             "children": [
              "materials antimicrobial"
             ],
             "loc_topic": "Antibiotic therapy. Antibiotics",
             "orig_topic": "effective antibacterial",
             "parents": [
              "functional materials",
              "various biomaterials",
              "bacterial infection"
             ],
             "prob": 0.9527501463890076,
             "topic": "effective antibacterial"
            }
           ],
           "loc_topic": "Bacteria",
           "orig_topic": "bacterial infection",
           "parents": [
            "functional materials",
            "various biomaterials"
           ],
           "prob": 0.601025402545929,
           "topic": "bacterial infection"
          },
          {
           "children": [
            {
             "children": [
              "science bionic"
             ],
             "loc_topic": "Biotechnology",
             "orig_topic": "biological soft",
             "parents": [
              "functional materials",
              "various biomaterials",
              "bioactive"
             ],
             "prob": 1.1826536655426025,
             "topic": "biological soft"
            }
           ],
           "loc_topic": "Therapeutics",
           "orig_topic": "bioactive",
           "parents": [
            "functional materials",
            "various biomaterials"
           ],
           "prob": 1.0293174982070923,
           "topic": "bioactive"
          },
          "biological tissue",
          "implant devices",
          "involves adhesion",
          "materials cellulose"
         ],
         "loc_topic": "Special materials",
         "orig_topic": "various biomaterials",
         "parents": [
          "functional materials"
         ],
         "prob": 0.9072348475456238,
         "topic": "various biomaterials"
        }
       ],
       "loc_topic": "Special materials",
       "orig_topic": "functional materials",
       "parents": [],
       "prob": 0.6987673044204712,
       "topic": "functional materials"
      },
      "text/plain": [
       "<IPython.core.display.JSON object>"
      ]
     },
     "execution_count": 90,
     "metadata": {
      "application/json": {
       "expanded": false,
       "root": "root"
      }
     },
     "output_type": "execute_result"
    }
   ],
   "source": [
    "JSON(ff)"
   ]
  },
  {
   "cell_type": "code",
   "execution_count": null,
   "id": "9bc652ae",
   "metadata": {},
   "outputs": [],
   "source": [
    "treelib.show(line_type=\"ascii-em\")"
   ]
  },
  {
   "cell_type": "code",
   "execution_count": 56,
   "id": "a2d78fbb",
   "metadata": {},
   "outputs": [
    {
     "ename": "NameError",
     "evalue": "name 'tree' is not defined",
     "output_type": "error",
     "traceback": [
      "\u001b[0;31m---------------------------------------------------------------------------\u001b[0m",
      "\u001b[0;31mNameError\u001b[0m                                 Traceback (most recent call last)",
      "\u001b[0;32m<ipython-input-56-c1fca83b492f>\u001b[0m in \u001b[0;36m<module>\u001b[0;34m\u001b[0m\n\u001b[0;32m----> 1\u001b[0;31m \u001b[0mtree\u001b[0m\u001b[0;34m.\u001b[0m\u001b[0msave2file\u001b[0m\u001b[0;34m(\u001b[0m\u001b[0;34m\"downloads/matsci2loc.txt\"\u001b[0m\u001b[0;34m)\u001b[0m\u001b[0;34m\u001b[0m\u001b[0;34m\u001b[0m\u001b[0m\n\u001b[0m",
      "\u001b[0;31mNameError\u001b[0m: name 'tree' is not defined"
     ]
    }
   ],
   "source": [
    "tree.save2file(\"downloads/matsci2loc.txt\")"
   ]
  },
  {
   "cell_type": "code",
   "execution_count": null,
   "id": "099fc4a3",
   "metadata": {},
   "outputs": [],
   "source": [
    "JSON(ff)"
   ]
  },
  {
   "cell_type": "code",
   "execution_count": null,
   "id": "dd3edbc5",
   "metadata": {},
   "outputs": [],
   "source": [
    "!pip install json2txttree"
   ]
  },
  {
   "cell_type": "code",
   "execution_count": null,
   "id": "3f8541ec",
   "metadata": {},
   "outputs": [],
   "source": [
    "import json\n",
    "with open('downloads/matsci2loc.json', 'w') as f:\n",
    "    json.dump(ff, f)"
   ]
  },
  {
   "cell_type": "code",
   "execution_count": null,
   "id": "e24a219d",
   "metadata": {},
   "outputs": [],
   "source": [
    "def change_value_in_nested(tree, value, newvalue):\n",
    "    d = tree\n",
    "    for v"
   ]
  },
  {
   "cell_type": "code",
   "execution_count": null,
   "id": "d6cf591a",
   "metadata": {},
   "outputs": [],
   "source": []
  },
  {
   "cell_type": "code",
   "execution_count": null,
   "id": "45a335d5",
   "metadata": {},
   "outputs": [],
   "source": [
    "loc_map = {}\n",
    "for tt in tree_topics:\n",
    "    q = query_index(tt, model, loc_topics, loc_index, True, 3)\n",
    "    if q[0][1] < 0.35:\n",
    "        loc_map[tt] = dict(q)"
   ]
  },
  {
   "cell_type": "code",
   "execution_count": null,
   "id": "6e19dac5",
   "metadata": {},
   "outputs": [],
   "source": [
    "query_index(\"acoustic\", model, loc_topics, loc_index, True, 3)\n"
   ]
  },
  {
   "cell_type": "code",
   "execution_count": null,
   "id": "dfc71b16",
   "metadata": {},
   "outputs": [],
   "source": [
    "len(tree_topics), len(loc_topics)"
   ]
  },
  {
   "cell_type": "code",
   "execution_count": null,
   "id": "aaea2f29",
   "metadata": {},
   "outputs": [],
   "source": [
    "JSON(loc_map)"
   ]
  },
  {
   "cell_type": "code",
   "execution_count": null,
   "id": "0a1a5182",
   "metadata": {},
   "outputs": [],
   "source": [
    "topic_tree"
   ]
  },
  {
   "cell_type": "code",
   "execution_count": 16,
   "id": "a00232ce",
   "metadata": {},
   "outputs": [
    {
     "name": "stdout",
     "output_type": "stream",
     "text": [
      "Requirement already satisfied: treelib in /home/ec2-user/anaconda3/envs/pytorch_p36/lib/python3.6/site-packages (1.6.1)\n",
      "Requirement already satisfied: scikit-network in /home/ec2-user/anaconda3/envs/pytorch_p36/lib/python3.6/site-packages (0.20.0)\n",
      "Requirement already satisfied: future in /home/ec2-user/anaconda3/envs/pytorch_p36/lib/python3.6/site-packages (from treelib) (0.18.2)\n",
      "Requirement already satisfied: scipy>=1.4.1 in /home/ec2-user/anaconda3/envs/pytorch_p36/lib/python3.6/site-packages (from scikit-network) (1.5.3)\n",
      "Requirement already satisfied: numpy>=1.18.3 in /home/ec2-user/anaconda3/envs/pytorch_p36/lib/python3.6/site-packages (from scikit-network) (1.19.5)\n"
     ]
    }
   ],
   "source": [
    "!pip install treelib scikit-network\n",
    "import copy\n",
    "import json\n",
    "import os\n",
    "from collections import Counter, defaultdict, namedtuple\n",
    "from dataclasses import dataclass, field\n",
    "from typing import AnyStr, Dict, List\n",
    "\n",
    "import numpy as np\n",
    "from scipy.sparse import csr_matrix\n",
    "from sentence_transformers import SentenceTransformer\n",
    "from sklearn.cluster import AgglomerativeClustering\n",
    "from sklearn.feature_extraction.text import TfidfTransformer\n",
    "from sklearn.metrics.pairwise import cosine_similarity\n",
    "from sklearn.preprocessing import normalize\n",
    "from sknetwork.clustering import Louvain\n",
    "from treelib import Tree\n",
    "\n",
    "\n",
    "def make_empty_array():\n",
    "    return np.ndarray([])\n",
    "\n",
    "\n",
    "def make_empty_csr_matrix():\n",
    "    return csr_matrix([])\n",
    "\n",
    "\n",
    "DataProperty = namedtuple(\n",
    "    \"DataProperty\", [\"n_terms\", \"n_occurrences\", \"core_terms\", \"term_set\", \"label\"]\n",
    ")\n",
    "\n",
    "\n",
    "@dataclass\n",
    "class HierarchicalTagger:\n",
    "    \"\"\"\n",
    "    # Basic use:\n",
    "\n",
    "    Data must be dictionaries of the form:\n",
    "    {doc_id : [\"term_1\", \"term_2\", ...]}\n",
    "    DOCS  = {\"1\": [\"Burgers\", \"Vegetarian Diet\"],\n",
    "         \"2\": [\"Britney Spears\", \"Music\", \"Conservatorship\"]}\n",
    "\n",
    "    # Instantiate\n",
    "    hierarchical_tagger = HierarchicalTagger()\n",
    "\n",
    "    # Ingest documents\n",
    "    # Ingest can take time. See below for saving and reloading your object\n",
    "    hierarchical_tagger.ingest(document_terms=DOCS)\n",
    "\n",
    "    # Learn tag tree\n",
    "    hierarchical_tagger.fit_tag_tree()\n",
    "\n",
    "    # Inspect tag tree\n",
    "    hierarchical_tagger.tree.show()   # c.tree is a treelib Tree object\n",
    "\n",
    "    # Tag documents\n",
    "    hierarchical_tagger.tag_documents()\n",
    "\n",
    "    # Inspect document tags\n",
    "    hierarchical_tagger.document_tags # {doc_id : [(tag, score, approximate hierarchy level), ...]}\n",
    "\n",
    "    # Saving to JSON string\n",
    "    serialized = hierarchical_tagger.to_json()\n",
    "\n",
    "    # Loading from JSON string\n",
    "    hierarchical_tagger = HierarchicalTagger.from_json(\n",
    "        serialized,\n",
    "        hydrate_tree=True,\n",
    "        hydrate_tags=True\n",
    "    )\n",
    "\n",
    "    Advanced options:\n",
    "\n",
    "    # Upon document ingestion\n",
    "\n",
    "    term_suggestions: List[AnyStr] = A list of suggested terms to consider when building the tree\n",
    "\n",
    "    filter_geo_terms: bool = A boolean parameter to exclude geographical terms from the term set\n",
    "\n",
    "    document_attributes: Dict[AnyStr, Dict] = A dictionary storing additional arbitrary attributes about the documents.\n",
    "    Expected schema is {doc_id: {attribute_1_name: attribute_1_value, attribute_2_name: attribute_2_value, ... }.\n",
    "    This field is useful to store, for example, document title and text for use in later lookups or comparisons.\n",
    "    This field is also used in the webapp.\n",
    "\n",
    "    # Upon fitting tree\n",
    "\n",
    "    Additional terms can be suggested into the term set (note this can only be done on document\n",
    "    ingestion, see above). As the hierarchical clustering step takes account of the empirical\n",
    "    document frequency in the corpus, suggested terms must also be assigned an estimate/prior of\n",
    "    their likely document frequencies to help guide the breadth of the relevance of each term. In\n",
    "    some cases, it may be useful to estimate these document frequencies from a separate corpus.\n",
    "    -  term_suggestions_doc_freq: List[float] = A prior on doc frequency for terms in\n",
    "    term_suggestions\n",
    "\n",
    "    The user can provide a list of terms to exclude. These terms as well as their synonyms\n",
    "    (precisely, all terms falling into a cluster including a term on the excluion list, see next\n",
    "    paragraph) are removed from the cluster set.\n",
    "    -  term_exclusion_list: List[AnyStr] = A list of suggested terms to exclude when building the\n",
    "    tree. Synonyms are also dropped.\n",
    "\n",
    "    Similar terms are deduplicated using Louvain clustering on embeddings representing the term's\n",
    "    meanings.\n",
    "    -  term_similarity_threshold: float [0,1] = Controls the similarity threshold when constructing\n",
    "    the adjacency matrix for this clustering.\n",
    "\n",
    "    Terms in clusters whose terms have low document frequency across all terms in the cluster are\n",
    "    dropped.\n",
    "    -  min_term_cluster_count: int [1,n_docs] = The minimum count of term occurrences across docs\n",
    "    for all terms in each cluster.\n",
    "\n",
    "    Tree fitting is non-deterministic. Use random_state for replicability.\n",
    "    -  random_state: int = None\n",
    "\n",
    "    # Upon tagging documents\n",
    "\n",
    "    When tagging a document, we want to also ensure a connection is made to broader / more abstract\n",
    "    domains. For example, 'batteries' could be mapped to something like:\n",
    "      'battery storage' > 'electricity systems' > 'renewable energy' > 'energy' > 'sustainability'.\n",
    "    The min_abstraction_similarity parameter gives control over how far removed an abstraction can\n",
    "    be from the original term.\n",
    "    -  min_abstraction_similarity:  float [0,1]= .2\n",
    "\n",
    "    Each tag assigned to a document is also given a score measuring how related it is to that\n",
    "    docuement. From observation, a score of >0.4 is very strong, results are quite decent until\n",
    "    ~0.2 and get patchy below that. The min_tag_score parameter sets the threshold below which tags\n",
    "    will not be assigned to documents.\n",
    "    -  min_tag_score: float = .15\n",
    "    \"\"\"\n",
    "\n",
    "    # INGEST INPUT\n",
    "    document_terms: Dict[AnyStr, List] = field(default_factory=dict)\n",
    "    document_attributes: Dict[AnyStr, Dict] = field(default_factory=dict)\n",
    "    term_suggestions: List[AnyStr] = field(default_factory=list)\n",
    "    filter_geo_terms: bool = False\n",
    "\n",
    "    # DERIVED UPON INGEST\n",
    "    n_docs: int = 0\n",
    "    filtered_terms: List[AnyStr] = field(default_factory=list)\n",
    "    term_pipeline: Dict[AnyStr, Dict] = field(default_factory=dict)\n",
    "    term_counts: Counter = field(default_factory=Counter)\n",
    "    term_doc_freq: Dict[AnyStr, float] = field(default_factory=dict)\n",
    "    _term_embeddings: np.array = field(default_factory=make_empty_array)\n",
    "    _filtered_term_similarity: np.array = field(default_factory=make_empty_array)\n",
    "\n",
    "    # FIT TREE INPUT\n",
    "    term_exclusion_list: List[AnyStr] = field(default_factory=list)\n",
    "    term_suggestions_doc_freq: List[float] = field(default_factory=list)\n",
    "    term_similarity_threshold: float = 0.9\n",
    "    min_term_cluster_count: int = 2\n",
    "    random_state: int = None\n",
    "\n",
    "    # DERIVED UPON FITTING TREE\n",
    "    grouped_terms: Dict = field(default_factory=dict)\n",
    "    _collapsed_term_pipeline: Dict = field(default_factory=dict)\n",
    "    processed_document_terms: Dict[AnyStr, List] = field(default_factory=dict)\n",
    "    selected_terms: List[AnyStr] = field(default_factory=list)\n",
    "    _n_selected_terms: int = 0\n",
    "    _selected_terms_idxs: List = field(default_factory=list)\n",
    "    selected_term_counts: Counter = field(default_factory=Counter)\n",
    "    selected_term_doc_freq: Dict[AnyStr, float] = field(default_factory=dict)\n",
    "\n",
    "    # TAG DOCUMENTS INPUT\n",
    "    min_abstraction_similarity: float = 0.2\n",
    "    min_tag_score: float = 0.15\n",
    "\n",
    "    # CONSTANTS\n",
    "    TERM_DROP_KEY: str = \"---DROP---\"\n",
    "    # From https://www.sbert.net/\n",
    "    ENCODER = SentenceTransformer(\"sentence-transformers/paraphrase-mpnet-base-v2\")\n",
    "\n",
    "    # A mapping of output format to list of attribute names for use in serialization.\n",
    "    SERIALIZED_ATTRS = {\n",
    "        \"json_ready\": [\n",
    "            \"document_terms\",\n",
    "            \"document_attributes\",\n",
    "            \"term_exclusion_list\",\n",
    "            \"term_suggestions\",\n",
    "            \"filter_geo_terms\",\n",
    "            \"n_docs\",\n",
    "            \"filtered_terms\",\n",
    "            \"term_pipeline\",\n",
    "            \"term_counts\",\n",
    "            \"term_doc_freq\",\n",
    "            \"term_suggestions_doc_freq\",\n",
    "            \"term_similarity_threshold\",\n",
    "            \"min_term_cluster_count\",\n",
    "            \"random_state\",\n",
    "            \"min_abstraction_similarity\",\n",
    "            \"min_tag_score\",\n",
    "        ],\n",
    "        \"csr_matrix\": [\"_filtered_term_similarity\"],\n",
    "        \"numpy\": [\"_term_embeddings\"],\n",
    "    }\n",
    "\n",
    "    #\n",
    "    # SERIALIZATION METHODS\n",
    "    #\n",
    "\n",
    "    @classmethod\n",
    "    def from_json(cls, serialized_obj, hydrate_tree=False, hydrate_tags=False):\n",
    "\n",
    "        obj_dict = json.loads(serialized_obj)\n",
    "        return cls.from_dict(\n",
    "            obj_dict, hydrate_tree=hydrate_tree, hydrate_tags=hydrate_tags\n",
    "        )\n",
    "\n",
    "    @classmethod\n",
    "    def from_dict(cls, obj_dict, hydrate_tree=False, hydrate_tags=False):\n",
    "\n",
    "        # Convert attributes to target format as per SERIALIZED_ATTRS.\n",
    "        for attr_group, attrs in cls.SERIALIZED_ATTRS.items():\n",
    "            if attr_group == \"numpy\":\n",
    "                for attr in attrs:\n",
    "                    obj_dict[attr] = np.array(obj_dict[attr])\n",
    "            elif attr_group == \"csr_matrix\":\n",
    "                for attr in attrs:\n",
    "                    # csr_matrix is used for serialization, but obj is transformed to dense array\n",
    "                    # for calculations\n",
    "                    obj_dict[attr] = csr_matrix(\n",
    "                        (\n",
    "                            obj_dict[attr][\"data\"],\n",
    "                            (obj_dict[attr][\"row\"], obj_dict[attr][\"col\"]),\n",
    "                        ),\n",
    "                        shape=obj_dict[attr][\"shape\"],\n",
    "                    ).toarray()\n",
    "            elif attr_group == \"set\":\n",
    "                for attr in attrs:\n",
    "                    obj_dict[attr] = set(obj_dict[attr])\n",
    "            else:\n",
    "                # obj_dict[attr] is already of expected type\n",
    "                continue\n",
    "\n",
    "        ht_instance = cls(**obj_dict)\n",
    "\n",
    "        if any([hydrate_tree, hydrate_tags]):\n",
    "            # Recalculate tree with parameter values from serialized object\n",
    "            ht_instance.fit_tag_tree(\n",
    "                **{\n",
    "                    attr: value\n",
    "                    for attr, value in obj_dict.items()\n",
    "                    if attr\n",
    "                    in [\n",
    "                        \"term_suggestions_doc_freq\",\n",
    "                        \"term_similarity_threshold\",\n",
    "                        \"min_term_cluster_count\",\n",
    "                        \"random_state\",\n",
    "                    ]\n",
    "                }\n",
    "            )\n",
    "\n",
    "        if hydrate_tags:\n",
    "            # Recalculate document tags with parameter values from serialized object\n",
    "            ht_instance.tag_documents(\n",
    "                **{\n",
    "                    attr: value\n",
    "                    for attr, value in obj_dict.items()\n",
    "                    if attr in [\"min_abstraction_similarity\", \"min_tag_score\"]\n",
    "                }\n",
    "            )\n",
    "\n",
    "        return ht_instance\n",
    "\n",
    "    def to_json(self):\n",
    "\n",
    "        obj_dict = {\n",
    "            attr: getattr(self, attr)\n",
    "            for attrs in self.SERIALIZED_ATTRS.values()\n",
    "            for attr in attrs\n",
    "        }\n",
    "\n",
    "        # Use smaller csr_matrix for serialization\n",
    "        obj_dict[\"_filtered_term_similarity\"] = csr_matrix(\n",
    "            obj_dict[\"_filtered_term_similarity\"]\n",
    "        )\n",
    "\n",
    "        return json.dumps(obj_dict, cls=CustomEncoder)\n",
    "\n",
    "    def ingest(\n",
    "        self,\n",
    "        document_terms: Dict[AnyStr, List],\n",
    "        document_attributes: Dict[AnyStr, Dict] = None,\n",
    "        term_suggestions: List[AnyStr] = None,\n",
    "        filter_geo_terms: bool = False,\n",
    "        term_similarity_minimum: float = 0.6,\n",
    "    ):\n",
    "        \"\"\"\n",
    "        The ingest step involves going from the terms as they appear in the documents, to a filtered\n",
    "        set of terms to use as candiates in the successive tree fitting step.\n",
    "\n",
    "        We attempt to reduces the term set by combining plurals with singulars and, optionally,\n",
    "        removing geographical names. We then map all the remining filtered_terms into an embedding\n",
    "        space using a large language model.\n",
    "        \"\"\"\n",
    "\n",
    "        # Set up starting values\n",
    "        self._intialize_ingest(document_terms, document_attributes, term_suggestions)\n",
    "\n",
    "        # Create a clean term set from documents and suggestions\n",
    "        self._clean_up_terms(\n",
    "            filter_geo_terms, term_similarity_minimum=term_similarity_minimum\n",
    "        )\n",
    "\n",
    "    def _intialize_ingest(self, document_terms, document_attributes, term_suggestions):\n",
    "        # Resets attributes to empty containers and/or user arguments.\n",
    "        self.term_pipeline = dict()\n",
    "        self.filtered_terms = set()\n",
    "        self.grouped_terms = dict()\n",
    "        self.selected_terms = list()\n",
    "        self.term_suggestions = (\n",
    "            [t.lower() for t in term_suggestions]\n",
    "            if term_suggestions is not None\n",
    "            else list()\n",
    "        )\n",
    "        self.document_terms = document_terms\n",
    "        self.document_attributes = document_attributes\n",
    "        self.n_docs = len(document_terms)\n",
    "\n",
    "    def _clean_up_terms(self, filter_geo_terms, term_similarity_minimum=0.6):\n",
    "        # Create term set from documents and suggestions\n",
    "        self._create_term_set()\n",
    "        # Remove plurals\n",
    "        self._remove_plurals()\n",
    "        # Exclude geographical terms\n",
    "        self.filter_geo_terms = filter_geo_terms\n",
    "        if self.filter_geo_terms is True:\n",
    "            self._apply_geo_term_filter()\n",
    "        # Map terms to embedding space\n",
    "        self._semantic_term_map()\n",
    "        # Create a term similarity matrix, subject to minimum similarity\n",
    "        self._create_filtered_term_similarity(\n",
    "            term_similarity_minimum=term_similarity_minimum\n",
    "        )\n",
    "\n",
    "    def _create_term_set(self):\n",
    "        # Creates initial set of all terms. Also makes lowercase.\n",
    "        lowercase_terms = [\n",
    "            term.lower()\n",
    "            for document in self.document_terms.values()\n",
    "            for term in document\n",
    "        ]\n",
    "        self.filtered_terms = set(lowercase_terms)\n",
    "\n",
    "        # Add suggestions to filtered_terms set\n",
    "        self.filtered_terms = self.filtered_terms.union(set(self.term_suggestions))\n",
    "\n",
    "        # Term counts and frequencies from docs\n",
    "        self.term_counts = Counter(lowercase_terms)\n",
    "        # Calculate term document frequencies.\n",
    "        # Assumes that a term is not present twice in any document.\n",
    "        self.term_doc_freq = {\n",
    "            term: self.term_counts[term] / self.n_docs for term in self.filtered_terms\n",
    "        }\n",
    "\n",
    "    def _remove_plurals(self):\n",
    "        # Creates a term_pipeline step mapping plural terms to their singular\n",
    "        plurals = set()\n",
    "        remove_plurals_step = dict()\n",
    "        for term in self.filtered_terms:\n",
    "            # For each plural term where singular is also in set\n",
    "            # Drop the plural and move its counts to the singular\n",
    "            if term[-1] == \"s\" and term[0:-1] in self.filtered_terms:\n",
    "                plurals.add(term)\n",
    "                remove_plurals_step[term] = term[0:-1]\n",
    "                self.term_counts[term[0:-1]] += self.term_counts[term]\n",
    "                self.term_counts[term] = 0\n",
    "            if term[-3:] == \"ies\" and term[0:-3] + \"y\" in self.filtered_terms:\n",
    "                plurals.add(term)\n",
    "                remove_plurals_step[term] = term[0:-3] + \"y\"\n",
    "                self.term_counts[term[0:-3] + \"y\"] += self.term_counts[term]\n",
    "                self.term_counts[term] = 0\n",
    "\n",
    "        self.term_pipeline[\"1: Remove Plurals\"] = remove_plurals_step\n",
    "        self.filtered_terms = self.filtered_terms - plurals\n",
    "\n",
    "    def _apply_geo_term_filter(self):\n",
    "        # Creates a term_pipeline step to remove geographical locations from the term set\n",
    "\n",
    "        # Load set of locations\n",
    "        locations = get_locations_set()\n",
    "\n",
    "        # Initialize pipeline step\n",
    "        remove_geo_terms_step = dict()\n",
    "\n",
    "        # Remove all terms that are exact matches to the location set\n",
    "        geo_terms = set(self.filtered_terms).intersection(locations)\n",
    "        for term in geo_terms:\n",
    "            remove_geo_terms_step[term] = self.TERM_DROP_KEY\n",
    "        self.filtered_terms = self.filtered_terms - geo_terms\n",
    "\n",
    "        # Remove terms that contain locations\n",
    "        def _is_sublist(sub_lst, lst):\n",
    "            n = len(sub_lst)\n",
    "            return any((sub_lst == lst[i : i + n]) for i in range(len(lst) - n + 1))\n",
    "\n",
    "        for term in self.filtered_terms:\n",
    "            for location in locations:\n",
    "                if _is_sublist(location.split(), term.split()):\n",
    "                    # Remove if location is a subsequence of words in term\n",
    "                    remove_geo_terms_step[term] = self.TERM_DROP_KEY\n",
    "                    geo_terms.add(term)\n",
    "                    # Break out of inner loop to move to next term\n",
    "                    break\n",
    "\n",
    "        self.term_pipeline[\"2: Remove Geo Terms\"] = remove_geo_terms_step\n",
    "        self.filtered_terms = self.filtered_terms - geo_terms\n",
    "\n",
    "    def _semantic_term_map(self):\n",
    "        # Calculate embeddings for terms that passed initial filtering\n",
    "        self.filtered_terms = list(self.filtered_terms)\n",
    "        self._term_embeddings = self.ENCODER.encode(self.filtered_terms)\n",
    "\n",
    "    def _create_filtered_term_similarity(self, term_similarity_minimum=0.6):\n",
    "        self._filtered_term_similarity = cosine_similarity(self._term_embeddings)\n",
    "        # To reduce memory footprint we set all 'low' similarities to zero and convert to csr_matrix\n",
    "        # upon serialization\n",
    "        if term_similarity_minimum:\n",
    "            self._filtered_term_similarity[\n",
    "                self._filtered_term_similarity < term_similarity_minimum\n",
    "            ] = 0\n",
    "\n",
    "    #\n",
    "    # EXTRACT THE HIERARCHICAL TAG TREE\n",
    "    #\n",
    "\n",
    "    def fit_tag_tree(\n",
    "        self,\n",
    "        term_exclusion_list: List[AnyStr] = None,\n",
    "        term_suggestions_doc_freq: List[float] = None,\n",
    "        term_similarity_threshold: float = 0.9,\n",
    "        min_term_cluster_count: int = 2,\n",
    "        random_state: float = None,\n",
    "    ):\n",
    "        \"\"\"\n",
    "        This step fits the tag tree from the document terms.\n",
    "\n",
    "        Some pre-processing steps are carried out further reduce the candidate term sets. We group\n",
    "        semantically similar terms. Terms in groups with low overall document count are dropped.\n",
    "        Terms included in the user-provided exclusion list, as well as their synonyms, are also\n",
    "        dropped. Finally, we select a single term from each remaining group. Terms passing this\n",
    "        processing step are referred to as selected_terms, because they are selected as candidate\n",
    "        terms to appear in the hierarchical tree.\n",
    "        \"\"\"\n",
    "\n",
    "        self._initialize_fit(\n",
    "            term_exclusion_list,\n",
    "            term_suggestions_doc_freq,\n",
    "            term_similarity_threshold,\n",
    "            min_term_cluster_count,\n",
    "            random_state,\n",
    "        )\n",
    "\n",
    "        self._process_terms()\n",
    "\n",
    "        self._extract_tag_tree()\n",
    "\n",
    "    def _initialize_fit(\n",
    "        self,\n",
    "        term_exclusion_list,\n",
    "        term_suggestions_doc_freq,\n",
    "        term_similarity_threshold,\n",
    "        min_term_cluster_count,\n",
    "        random_state,\n",
    "    ):\n",
    "        \"\"\"Resets attributes to empty containers and/or user arguments.\"\"\"\n",
    "\n",
    "        self.term_exclusion_list = (\n",
    "            list({t.lower() for t in term_exclusion_list})\n",
    "            if term_exclusion_list is not None\n",
    "            else list()\n",
    "        )\n",
    "        self.term_similarity_threshold = term_similarity_threshold\n",
    "        self.min_term_cluster_count = min_term_cluster_count\n",
    "        self.term_suggestions_doc_freq = (\n",
    "            term_suggestions_doc_freq\n",
    "            if term_suggestions_doc_freq is not None\n",
    "            else list()\n",
    "        )\n",
    "        if len(self.term_suggestions) != len(self.term_suggestions_doc_freq):\n",
    "            raise ValueError(\n",
    "                \"term_suggestions and term_suggestions_doc_freq must be of equal length.\"\n",
    "            )\n",
    "        self.random_state = (\n",
    "            random_state if random_state is not None else np.random.randint(5000)\n",
    "        )\n",
    "\n",
    "    def _process_terms(self):\n",
    "        # Ingest term suggestion document frequencies\n",
    "        self._read_term_suggestion_doc_freq()\n",
    "        # Group semantically similar terms\n",
    "        self._group_terms()\n",
    "        # Drop low count term clusters\n",
    "        self._drop_low_count_term_clusters()\n",
    "        # Apply term exclusion list\n",
    "        self._apply_term_exclusion_list()\n",
    "        # Select representative terms\n",
    "        self._select_representative_terms()\n",
    "        # Run pipeline to process documents and select final term set\n",
    "        self._run_term_pipeline()\n",
    "        # Refocus internals on selected terms only\n",
    "        self._set_up_for_selected_terms()\n",
    "\n",
    "    def _read_term_suggestion_doc_freq(self):\n",
    "        \"\"\"Add or overwrite doc_freq and counts for suggestions\"\"\"\n",
    "        for suggestion, suggestion_doc_freq in zip(\n",
    "            self.term_suggestions, self.term_suggestions_doc_freq\n",
    "        ):\n",
    "            self.term_doc_freq[suggestion] = suggestion_doc_freq\n",
    "            self.term_counts[suggestion] = int(\n",
    "                self.term_doc_freq[suggestion] * self.n_docs\n",
    "            )\n",
    "\n",
    "    def _group_terms(self):\n",
    "        \"\"\"\n",
    "        Cluster semantically similar terms using Louvain clustering.\n",
    "        In this step, we are aiming to find synonyms, so term_similarity_threshold should be high\n",
    "        (ex. >=0.9)\n",
    "        \"\"\"\n",
    "\n",
    "        louvain = Louvain(random_state=self.random_state)\n",
    "        adjacency = copy.deepcopy(self._filtered_term_similarity)\n",
    "        adjacency[adjacency < self.term_similarity_threshold] = 0\n",
    "        adjacency = csr_matrix(adjacency)\n",
    "        labels = louvain.fit_transform(adjacency)\n",
    "\n",
    "        # Store clustering in dict mapping cluster_label to list of terms\n",
    "        grouped_terms = defaultdict(list)\n",
    "        for t, l in zip(self.filtered_terms, labels):\n",
    "            grouped_terms[str(l)].append(t)\n",
    "\n",
    "        self.grouped_terms = grouped_terms\n",
    "\n",
    "    def _drop_low_count_term_clusters(self):\n",
    "        \"\"\"Creates a term_pipeline step to drop all terms in clusters with low overall term count\"\"\"\n",
    "\n",
    "        low_term_count_clusters = [\n",
    "            k\n",
    "            for k, v in self.grouped_terms.items()\n",
    "            if sum(self.term_counts[t] for t in v) < self.min_term_cluster_count\n",
    "        ]\n",
    "\n",
    "        low_term_count_step = {\n",
    "            term: self.TERM_DROP_KEY\n",
    "            for cluster_id, terms in self.grouped_terms.items()\n",
    "            for term in terms\n",
    "            if cluster_id in low_term_count_clusters\n",
    "        }\n",
    "        self.term_pipeline[\"3: Remove Low Count Terms\"] = low_term_count_step\n",
    "\n",
    "        self.grouped_terms = {\n",
    "            k: v\n",
    "            for k, v in self.grouped_terms.items()\n",
    "            if k not in low_term_count_clusters\n",
    "        }\n",
    "\n",
    "    def _apply_term_exclusion_list(self):\n",
    "        \"\"\"\n",
    "        Creates a term_pipeline step to drop clusters containing terms in the exclusion list\n",
    "        This means that synonyms of the excluded term will also be dropped.\n",
    "        The exclusion list should therefore list *concepts* not merely specific variants of a term.\n",
    "        \"\"\"\n",
    "\n",
    "        exclusion_clusters = [\n",
    "            cluster_id\n",
    "            for cluster_id, terms in self.grouped_terms.items()\n",
    "            if any((term in self.term_exclusion_list) for term in terms)\n",
    "        ]\n",
    "\n",
    "        exclusion_step = {\n",
    "            term: self.TERM_DROP_KEY\n",
    "            for cluster_id, terms in self.grouped_terms.items()\n",
    "            for term in terms\n",
    "            if cluster_id in exclusion_clusters\n",
    "        }\n",
    "\n",
    "        self.term_pipeline[\"4: Apply Term Exclusion List\"] = exclusion_step\n",
    "\n",
    "        self.grouped_terms = {\n",
    "            k: v for k, v in self.grouped_terms.items() if k not in exclusion_clusters\n",
    "        }\n",
    "\n",
    "    def _select_representative_terms(self):\n",
    "        \"\"\"\n",
    "        Creates a term_pipeline step selecting a representative term for each cluster\n",
    "        The term with the highest average cosine similarity with all other terms in the cluster is\n",
    "        chosen.\n",
    "        \"\"\"\n",
    "\n",
    "        term_to_representative_term_step = {}\n",
    "        selected_terms = []\n",
    "\n",
    "        for terms in self.grouped_terms.values():\n",
    "            if len(terms) > 1:\n",
    "                term_ids = [self.filtered_terms.index(t) for t in terms]\n",
    "                # Numerical errors were leading to non-reproducibility of results.\n",
    "                # Use slower dtype=float64 as in Notes here\n",
    "                # https://numpy.org/doc/stable/reference/generated/numpy.sum.html\n",
    "                central_term_id = term_ids[\n",
    "                    np.argsort(\n",
    "                        -self._filtered_term_similarity[term_ids, :][:, term_ids].sum(\n",
    "                            axis=1, dtype=\"float64\"\n",
    "                        )\n",
    "                    )[0]\n",
    "                ]\n",
    "                central_term = self.filtered_terms[central_term_id]\n",
    "                selected_terms.append(central_term)\n",
    "                for term in terms:\n",
    "                    if term != central_term:\n",
    "                        term_to_representative_term_step[term] = central_term\n",
    "\n",
    "        self.term_pipeline[\n",
    "            \"5: Select Representative Terms\"\n",
    "        ] = term_to_representative_term_step\n",
    "\n",
    "    def _run_term_pipeline(self):\n",
    "        \"\"\"\n",
    "        Having logged all term transformation steps in .term_pipeline, we now run the original\n",
    "        document_terms through the pipeline to generate processed_document_terms: a document\n",
    "        representation using terms that have been fully processed.\n",
    "        \"\"\"\n",
    "\n",
    "        # Collapse all pipeline steps to generate a single DAG showing how each term is transformed\n",
    "        # at each step.\n",
    "        self._collapsed_term_pipeline = dict()\n",
    "        for pipeline_step in self.term_pipeline.values():\n",
    "            self._collapsed_term_pipeline.update(pipeline_step)\n",
    "\n",
    "        # Run all document terms through term pipeline\n",
    "        processed_document_terms = {}\n",
    "        for document, term_list in self.document_terms.items():\n",
    "            processed_terms = []\n",
    "            for t in term_list:\n",
    "                # Run lowercase term through pipeline\n",
    "                processed_term = next(self._run_term_through_pipeline(t.lower()))\n",
    "                if processed_term is not None:\n",
    "                    processed_terms.append(processed_term)\n",
    "\n",
    "            processed_document_terms[document] = list(set(processed_terms))\n",
    "\n",
    "        self.processed_document_terms = processed_document_terms\n",
    "\n",
    "    def _run_term_through_pipeline(self, term):\n",
    "        \"\"\"\n",
    "        Recursively traverse the term transformation DAG and yield the final term, or None if term\n",
    "        is dropped.\n",
    "        \"\"\"\n",
    "        term_result = self._collapsed_term_pipeline.get(term)\n",
    "        if term_result is None:\n",
    "            # No further pipeline steps\n",
    "            yield term\n",
    "        if term_result == self.TERM_DROP_KEY:\n",
    "            # Term should be dropped\n",
    "            yield None\n",
    "        # Continue pipeline\n",
    "        yield from self._run_term_through_pipeline(term_result)\n",
    "\n",
    "    def _set_up_for_selected_terms(self):\n",
    "        \"\"\"Set up the final selected_terms and associated embeddings and similarity matrix\"\"\"\n",
    "\n",
    "        # Create set of selected terms from documents after term processing\n",
    "        doc_selected_terms = [\n",
    "            term\n",
    "            for doc_terms in self.processed_document_terms.values()\n",
    "            for term in doc_terms\n",
    "        ]\n",
    "\n",
    "        # Process suggestion terms, and keep only the ones that pass all filters\n",
    "        processed_suggested_terms = [\n",
    "            next(self._run_term_through_pipeline(t)) for t in self.term_suggestions\n",
    "        ]\n",
    "        processed_suggested_terms = [\n",
    "            t for t in processed_suggested_terms if t is not None\n",
    "        ]\n",
    "        suggested_selected_terms = set(self.filtered_terms).intersection(\n",
    "            set(processed_suggested_terms)\n",
    "        )\n",
    "\n",
    "        # Combine into final selected_terms\n",
    "        self.selected_terms = list(\n",
    "            set(doc_selected_terms).union(suggested_selected_terms)\n",
    "        )\n",
    "        self._n_selected_terms = len(self.selected_terms)\n",
    "\n",
    "        # Overwrite count data considering only selected term\n",
    "        self.selected_term_counts = Counter(doc_selected_terms)\n",
    "        self.selected_term_doc_freq = {\n",
    "            term: self.selected_term_counts[term] / self.n_docs\n",
    "            for term in set(doc_selected_terms)\n",
    "        }\n",
    "\n",
    "        # Add or overwrite doc_freq for suggestions\n",
    "        for suggestion, suggestion_doc_freq in zip(\n",
    "            self.term_suggestions, self.term_suggestions_doc_freq\n",
    "        ):\n",
    "            if suggestion in suggested_selected_terms:\n",
    "                self.selected_term_doc_freq[suggestion] = suggestion_doc_freq\n",
    "                self.selected_term_counts[suggestion] = int(\n",
    "                    self.selected_term_doc_freq[suggestion] * self.n_docs\n",
    "                )\n",
    "\n",
    "        # Slice embeddings matrix to focus on selected terms\n",
    "        self._selected_terms_idxs = [\n",
    "            self.filtered_terms.index(t) for t in self.selected_terms\n",
    "        ]\n",
    "        self._selected_terms_embeddings = copy.deepcopy(\n",
    "            self._term_embeddings[self._selected_terms_idxs]\n",
    "        )\n",
    "\n",
    "        # Calculate similarity across selected terms\n",
    "        self._selected_terms_similarity = cosine_similarity(\n",
    "            self._selected_terms_embeddings\n",
    "        )\n",
    "\n",
    "    def _extract_tag_tree(self):\n",
    "\n",
    "        # Run hierarchical clustering on terms\n",
    "        self._build_term_hierarchy()\n",
    "\n",
    "        # Build tree from hierarchy\n",
    "        self._build_tag_tree()\n",
    "\n",
    "    def _build_term_hierarchy(self):\n",
    "        self.hierarchy = AgglomerativeClustering(\n",
    "            n_clusters=None,\n",
    "            affinity=\"cosine\",\n",
    "            memory=None,\n",
    "            connectivity=None,\n",
    "            compute_full_tree=\"auto\",\n",
    "            linkage=\"average\",\n",
    "            distance_threshold=0,\n",
    "            compute_distances=False,\n",
    "        )\n",
    "        self.hierarchy.fit(self._selected_terms_embeddings)\n",
    "\n",
    "    def _build_tag_tree(self):\n",
    "        \"\"\"\n",
    "        Build tree downwards starting from highest node\n",
    "        AgglomerativeClustering.hierarchy.children_ stores the ways in which terms are aggregated\n",
    "        hierarchically we build a tree from these relationships, adding some custom logic and\n",
    "        descriptive data in the process.\n",
    "        \"\"\"\n",
    "\n",
    "        self.tree = Tree()\n",
    "        node_id = self.hierarchy.children_.max() + 1\n",
    "        self._build_term_tree_from_node(\n",
    "            node_id, parent_node_id=None, parent_node_term=None\n",
    "        )\n",
    "\n",
    "        # Filter to core nodes, ie ensuring node labels are unique\n",
    "        self._define_core_nodes()\n",
    "\n",
    "        # Build tag tree from core nodes only\n",
    "        self._build_pruned_tree()\n",
    "\n",
    "        # Replace tree with pruned_tree\n",
    "        self.tree = copy.deepcopy(self.pruned_tree)\n",
    "        self.pruned_tree = None\n",
    "\n",
    "    def _build_term_tree_from_node(self, node_id, parent_node_id, parent_node_term):\n",
    "        \"\"\"\n",
    "        Starting from node_id, recursively traverses all downstream nodes and leaves of\n",
    "        self.hierarchy. At each step computes information about the node/leave in terms of the\n",
    "        downstream nodes and, importantly, selects the most central term to be the name of this\n",
    "        node.\n",
    "        \"\"\"\n",
    "\n",
    "        # Find all terms that contained in this node (i.e. are downstream leaves)\n",
    "        term_ids = list()\n",
    "        self._find_node_term_ids(term_ids, node_id)\n",
    "\n",
    "        # Number of terms and their occurrences in the documents\n",
    "        n_terms = len(term_ids)\n",
    "        n_occurrences = sum(self.term_counts[self.selected_terms[i]] for i in term_ids)\n",
    "\n",
    "        # Represent the node via its contained terms, centrality ranking, and scores\n",
    "        ranked_term_ids, ranked_term_id_scores = self._extract_ranked_term_ids(term_ids)\n",
    "        ranked_terms = [self.selected_terms[i] for i in ranked_term_ids]\n",
    "        terms_set = [\n",
    "            (term, score) for term, score in zip(ranked_terms, ranked_term_id_scores)\n",
    "        ]\n",
    "\n",
    "        # Find all downstream elements\n",
    "        leaves, nodes = self._find_node_children(node_id)\n",
    "\n",
    "        if ranked_terms[0] != parent_node_term:\n",
    "            # If central term for this node different from parent node\n",
    "            # Create a new node with associated term and other metadata\n",
    "            node_term = ranked_terms[0]\n",
    "            self.tree.create_node(\n",
    "                node_term,\n",
    "                node_id,\n",
    "                parent=parent_node_id,\n",
    "                data=DataProperty(\n",
    "                    n_terms,\n",
    "                    n_occurrences,\n",
    "                    ranked_terms[:3],\n",
    "                    terms_set,\n",
    "                    f\"{node_term} - {n_occurrences}\",\n",
    "                ),\n",
    "            )\n",
    "        else:\n",
    "            # If central term for this node is the same a parent node\n",
    "            # Don't create new node and pass parent node id and term downstream\n",
    "            node_id = parent_node_id\n",
    "            node_term = parent_node_term\n",
    "\n",
    "        # Proceed down into the tree, handling nodes and leaves differently\n",
    "\n",
    "        # Recursively move to the downstream nodes, passing this node as parent\n",
    "        for node in nodes:\n",
    "            self._build_term_tree_from_node(node, node_id, node_term)\n",
    "\n",
    "        # Create nodes directly for all immediate downstream leaves\n",
    "        for leaf in leaves:\n",
    "            leaf_term = self.selected_terms[leaf]\n",
    "            if leaf_term != node_term:\n",
    "                # Create leaf nodes if leaf is a different term\n",
    "                self.tree.create_node(\n",
    "                    leaf_term,\n",
    "                    leaf,\n",
    "                    parent=node_id,\n",
    "                    data=DataProperty(\n",
    "                        1,\n",
    "                        self.term_counts[leaf_term],\n",
    "                        [leaf_term],\n",
    "                        [leaf_term],\n",
    "                        f\"{leaf_term} - {self.term_counts[leaf_term]}\",\n",
    "                    ),\n",
    "                )\n",
    "\n",
    "    def _find_node_children(self, node_id):\n",
    "        \"\"\"\n",
    "        Find downstream nodes and leaves for a given node_id\n",
    "        See https://scikit-learn.org/stable/modules/generated/sklearn.cluster.AgglomerativeClustering.html\n",
    "        Section: Attributes -> children_\n",
    "        \"\"\"\n",
    "        if node_id < self._n_selected_terms:\n",
    "            # Leaf node\n",
    "            return [node_id], []\n",
    "        children = self.hierarchy.children_[node_id - self._n_selected_terms]\n",
    "        leaves = [child for child in children if child < self._n_selected_terms]\n",
    "        nodes = [child for child in children if child >= self._n_selected_terms]\n",
    "        return leaves, nodes\n",
    "\n",
    "    def _find_node_term_ids(self, term_ids, node_id):\n",
    "        \"\"\"\n",
    "        Recursively traverse to tree down to the leaves, collecting term_ids for all downstream\n",
    "        terms.\n",
    "        \"\"\"\n",
    "        leaves, nodes = self._find_node_children(node_id)\n",
    "        term_ids.extend(leaves)\n",
    "        for node in nodes:\n",
    "            self._find_node_term_ids(term_ids, node)\n",
    "\n",
    "    def _extract_ranked_term_ids(self, term_ids):\n",
    "        \"\"\"\n",
    "        Rank selected term_ids by (descending) measure of centrality\n",
    "        Centrality is measured by the average term similarity across all terms in the set\n",
    "        weighted by the term document frequencies: semantic similarity to a frequent term will count\n",
    "        more.\n",
    "        \"\"\"\n",
    "\n",
    "        # Similarities in the term set\n",
    "        sim_subgraph = self._selected_terms_similarity[term_ids, :][:, term_ids]\n",
    "        # Term document frequencies\n",
    "        weights = np.array(\n",
    "            [self.selected_term_doc_freq[self.selected_terms[i]] for i in term_ids]\n",
    "        )\n",
    "        # Weighted average term similarity\n",
    "        term_scores = (sim_subgraph * weights.T).sum(axis=1)\n",
    "\n",
    "        # Rankings\n",
    "        ranked_term_ids = [term_ids[i] for i in np.argsort(-term_scores)]\n",
    "        ranked_term_id_scores = -np.sort(-term_scores)\n",
    "        return ranked_term_ids, ranked_term_id_scores\n",
    "\n",
    "    def _define_core_nodes(self, min_n_terms=1):\n",
    "        \"\"\"\n",
    "        Defines set of core_nodes.\n",
    "        If two nodes have the same central term (node.tag), choose the node with the higher document\n",
    "        frequency.\n",
    "        Can also limit nodes to those containing a min_n_terms.\n",
    "        \"\"\"\n",
    "\n",
    "        descending_nodes = sorted(\n",
    "            self.tree.all_nodes(), key=lambda x: x.data.n_occurrences, reverse=True\n",
    "        )\n",
    "\n",
    "        used_terms = set()\n",
    "        core_nodes = []\n",
    "        for node in descending_nodes:\n",
    "            if node.tag not in used_terms and node.data.n_terms > min_n_terms:\n",
    "                core_nodes.append(node)\n",
    "                used_terms.add(node.tag)\n",
    "\n",
    "        self._core_nodes = core_nodes\n",
    "\n",
    "    def _build_pruned_tree(self):\n",
    "        \"\"\"Builds a tree that only exists of nodes in the core nodes\"\"\"\n",
    "        core_node_ids = {x.identifier for x in self._core_nodes}\n",
    "        self.pruned_tree = Tree()\n",
    "        for node in self._core_nodes:\n",
    "            found_parent = False\n",
    "            # Documentation for .predecessor does not exist (yet?)\n",
    "            # See: https://github.com/caesar0301/treelib/blob/master/treelib/node.py#L129\n",
    "            # See: https://github.com/caesar0301/treelib/issues/158\n",
    "            old_tree_parent = node.predecessor(self.tree.identifier)\n",
    "            if not old_tree_parent:\n",
    "                # No parent found -> Add as root node\n",
    "                self.pruned_tree.add_node(node)\n",
    "                found_parent = True\n",
    "            while not found_parent:\n",
    "                # Look until we find ancestor in set of core nodes, and add to pruned_tree.\n",
    "                if old_tree_parent in core_node_ids:\n",
    "                    self.pruned_tree.add_node(node, parent=old_tree_parent)\n",
    "                    found_parent = True\n",
    "                else:\n",
    "                    not_found_node = self.tree.nodes[old_tree_parent]\n",
    "                    old_tree_parent = not_found_node.predecessor(self.tree.identifier)\n",
    "        return self.pruned_tree\n",
    "\n",
    "    #\n",
    "    # TAG DOCUMENTS\n",
    "    #\n",
    "\n",
    "    def tag_documents(\n",
    "        self, min_abstraction_similarity: float = 0.2, min_tag_score: float = 0.15\n",
    "    ):\n",
    "        \"\"\"\n",
    "        Maps document topics to hierarchical tags.\n",
    "\n",
    "        We have a set of candidate tags, represented as nodes in the hierarchical tree, and stored\n",
    "        in core_nodes.\n",
    "\n",
    "        Each node has a unique label (node.tag) and its meaning is represented as a weighted\n",
    "        combination of the children terms (node.data.term_set).\n",
    "\n",
    "        We want to match each of the document topics to the closest candidate node.\n",
    "        Ex 'batteries' -> 'battery storage'.\n",
    "        Additioanlly, we want to also ensure a connection is made to broader / more abstract\n",
    "        domains.\n",
    "        Ex 'batteries' -> 'battery storage' > 'electricity systems' > 'renewable energy' >\n",
    "        'energy' > 'sustainability', ideally with a declining relatedness score as we move further\n",
    "        up the abstractions.\n",
    "\n",
    "        We carry out the following steps to achieve this:\n",
    "            1. Convert core_nodes into a node X term matrix representation\n",
    "            2. Calculate semantic similarity scores across nodes (accounting for the semantic\n",
    "                similarity across terms).\n",
    "            3. Find each node's 'abstractions'. For a node J, 'abstractions' are defined as other\n",
    "                nodes K appearing higher up in the tree, weighted by the similarity between J and K\n",
    "                to capture the increasing remoteness of the abstraction.\n",
    "            4. For each document topic, we map a) closest node (step 1) and b) the node's\n",
    "                abstractions (step 3).\n",
    "            5. We aggregate the topic to abstraction mapping a document level. This yields a\n",
    "                document X node matrix.\n",
    "            6. To account for the fact that higher level abstractions are going to show up more\n",
    "                often, we run this final matrix through a tfidf transformation.\n",
    "        \"\"\"\n",
    "        # Set values\n",
    "        self.min_abstraction_similarity = min_abstraction_similarity\n",
    "        self.min_tag_score = min_tag_score\n",
    "\n",
    "        # Set up a node x term matrix\n",
    "        self._build_node_term_matrix()  # Step 1; nodes X terms matrix\n",
    "        self._build_node_similarity_matrix()  # Step 2; nodes X nodes matrix\n",
    "        self._build_node_abstraction_matrix()  # Step 3 node X nodes matrix\n",
    "        self._match_terms_to_nodes()  # Step 4a; dict term -> closest node\n",
    "\n",
    "        # Match all documents to tags and abstractions\n",
    "        self.document_tag_matrix = np.vstack(\n",
    "            [\n",
    "                self._document_topics_to_tags(document_terms)  # Step 4a, 4b and 5\n",
    "                for document_terms in self.processed_document_terms.values()\n",
    "            ]\n",
    "        )  # documents x nodes matrix\n",
    "\n",
    "        tfidf = TfidfTransformer()  # Step 6\n",
    "        self.document_tags_tfidf = tfidf.fit_transform(self.document_tag_matrix)\n",
    "\n",
    "        self.document_tags = defaultdict(list)\n",
    "        doc_ids = list(self.processed_document_terms.keys())\n",
    "\n",
    "        # Convert documents x nodes matrix to document_id -> tags dictionary\n",
    "        cx = self.document_tags_tfidf.tocoo()\n",
    "        for idx, i, v in zip(cx.row, cx.col, cx.data):\n",
    "            if v > self.min_tag_score:\n",
    "                self.document_tags[doc_ids[idx]].append(\n",
    "                    tuple([self._core_nodes[i].tag, v, self._core_nodes[i].identifier])\n",
    "                )\n",
    "\n",
    "        # Sort document tags by relevance score\n",
    "        for doc_id, tags in self.document_tags.items():\n",
    "            self.document_tags[doc_id] = sorted(tags, key=lambda x: x[1], reverse=True)\n",
    "\n",
    "    def _build_node_term_matrix(self):\n",
    "        \"\"\"\n",
    "        Build a matrix mapping core nodes (rows) to their contained terms (columns), and their\n",
    "        measure of centrality.\n",
    "        \"\"\"\n",
    "\n",
    "        # Populate as sparse matrix\n",
    "        rows = list()\n",
    "        cols = list()\n",
    "        data = list()\n",
    "        for i, core_node in enumerate(self._core_nodes):\n",
    "            row = np.array(\n",
    "                [i] * core_node.data.n_terms\n",
    "            )  # Rows in same order as _core_nodes\n",
    "            terms, datum = zip(*core_node.data.term_set)\n",
    "            col = np.array([self.selected_terms.index(term) for term in terms])\n",
    "            rows.extend(row)\n",
    "            cols.extend(col)\n",
    "            data.extend(datum)\n",
    "\n",
    "        rows = np.array(rows)\n",
    "        cols = np.array(cols)\n",
    "        data = np.array(data)\n",
    "\n",
    "        node_term_matrix = csr_matrix(\n",
    "            (data, (rows, cols)),\n",
    "            shape=(len(self._core_nodes), len(self.selected_terms)),\n",
    "        )\n",
    "        node_term_matrix = normalize(node_term_matrix)\n",
    "\n",
    "        self._node_term_matrix = node_term_matrix\n",
    "\n",
    "        # Mapping of node identifier to node index in node_term_matrix rows\n",
    "        self._node_id_to_idx = {\n",
    "            core_node.identifier: i for i, core_node in enumerate(self._core_nodes)\n",
    "        }\n",
    "        self._node_idx_to_id = {\n",
    "            i: core_node.identifier for i, core_node in enumerate(self._core_nodes)\n",
    "        }\n",
    "\n",
    "    def _build_node_similarity_matrix(self):\n",
    "\n",
    "        \"\"\"\n",
    "        Calculate a matrix of cosine similarity across all nodes, but weighted to allow similar\n",
    "        terms to count, at least partially, towards the similarity.\n",
    "\n",
    "        See https://en.wikipedia.org/wiki/Cosine_similarity#Soft_cosine_measure\n",
    "\n",
    "        Two docs [\"electric cars\", \"urban mobility\"] & [\"electric vehicles\", \"urban mobility\"]\n",
    "        should have a similarity of almost 1 and not of just 0.5 as would be the case if we only\n",
    "        consider the exact terms.\n",
    "        To achieve this, we weigh the contribution of the \"electric cars\" <-> \"electric vehicles\"\n",
    "        by their term as estimates by based on their language model embedding vectors.\n",
    "\n",
    "        Normally we would construct a document pairwise similarity matrix using cosine similarity.\n",
    "        For unit vectors, this is just the dot product of all vector pairs:\n",
    "\n",
    "        raw_similarity_matrix = entity_set_A_features * entity_set_B_features.T\n",
    "\n",
    "        However, we want for similar terms (electric car vs elecrtic vehicles) to count towards the\n",
    "        similarity. We can do this by weighing the product by the similarity across terms.\n",
    "        So we do this instead:\n",
    "        raw_similarity_matrix = entity_set_A_features * term_similarity * entity_set_B_features.T\n",
    "\n",
    "        However, this similarity score will not be bounded to 1. It will increase arbitrarily with\n",
    "        the number of terms present in a document, and will include some double counting if a\n",
    "        document itself is tagged with two similar terms, which then will be 'doubly' similar when\n",
    "        matched to the terms in the other document.\n",
    "\n",
    "        To remove this effect we aim to normalize similarity by the geometric mean of the\n",
    "        non-normalized similarity scores of entities in set A and set B with themselves.\n",
    "\n",
    "        We take diagonal from the non-normalized similarity matrices of sets A and B and take the\n",
    "        product of all pairs. Then take the sqrt to get geometric mean.\n",
    "\n",
    "        non_normalized_set_A_similarity_matrix =\n",
    "            entity_set_A_features * term_similarity * entity_set_A_features.T\n",
    "\n",
    "        non_normalized_set_B_similarity_matrix =\n",
    "            entity_set_B_features * term_similarity * entity_set_B_features.T\n",
    "\n",
    "        normalization_denominator =\n",
    "            np.sqrt(\n",
    "                non_normalized_set_A_similarity_matrix.diagonal()[:,None] *\n",
    "                non_normalized_set_B_similarity_matrix.diagonal()\n",
    "            )\n",
    "\n",
    "        We then divide the raw_similarity_matrix by the normalization_denominator to get a\n",
    "        similarity_matrix (approximately) bounded by 0 and 1.\n",
    "        Note: Approximately as in practice we've seen values bounded by 1 but going slightly below\n",
    "        0, although we have not investigated why.\n",
    "\n",
    "        The normalization_denominator may have some 0 entries (unless all terms are used) as some\n",
    "        documents may have 0 for all features. These docs will have 0 self-similarity and we get\n",
    "        division by zero. This is not an issue as the numerator is bound to be 0 too, so we just\n",
    "        skip these cells in the division.\n",
    "\n",
    "        similarity_matrix[normalization_denominator>0] = (\n",
    "            raw_similarity_matrix[normalization_denominator>0] /\n",
    "            normalization_denominator[normalization_denominator>0]\n",
    "        )\n",
    "        \"\"\"\n",
    "\n",
    "        raw_node_sim = (\n",
    "            self._node_term_matrix\n",
    "            * self._selected_terms_similarity\n",
    "            * self._node_term_matrix.T\n",
    "        )\n",
    "        normalization_denominator = np.sqrt(\n",
    "            raw_node_sim.diagonal()[:, None] * raw_node_sim.diagonal()\n",
    "        )\n",
    "        node_similarity_matrix = copy.deepcopy(raw_node_sim)\n",
    "        node_similarity_matrix[normalization_denominator > 0] = (\n",
    "            raw_node_sim[normalization_denominator > 0]\n",
    "            / normalization_denominator[normalization_denominator > 0]\n",
    "        )\n",
    "\n",
    "        self._node_similarity_matrix = node_similarity_matrix\n",
    "\n",
    "    def _build_node_abstraction_matrix(self):\n",
    "        \"\"\"Matrix mapping nodes (rows) to all related higher-order nodes (ie abstractions).\"\"\"\n",
    "\n",
    "        rows = list()\n",
    "        cols = list()\n",
    "        data = list()\n",
    "        for i in range(len(self._core_nodes)):\n",
    "            _, col, scores = zip(*self._get_node_abstractions(i))\n",
    "            row = np.array([i] * len(scores))\n",
    "            rows.extend(row)\n",
    "            cols.extend(col)\n",
    "            data.extend(scores)\n",
    "\n",
    "        rows = np.array(rows)\n",
    "        cols = np.array(cols)\n",
    "        data = np.array(data)\n",
    "\n",
    "        node_abstraction_matrix = csr_matrix(\n",
    "            (data, (rows, cols)), shape=(len(self._core_nodes), len(self._core_nodes))\n",
    "        )\n",
    "\n",
    "        self._node_abstraction_matrix = node_abstraction_matrix\n",
    "\n",
    "    def _get_node_abstractions(self, node_idx):\n",
    "        \"\"\"\n",
    "        Look up all higher-order nodes for given node_id and collect node.identifier and similarity\n",
    "        score.\n",
    "        \"\"\"\n",
    "        lineage = self._show_term_lineage(self._core_nodes[node_idx].identifier)\n",
    "\n",
    "        abstractions = [\n",
    "            (\n",
    "                l.tag,\n",
    "                self._node_id_to_idx[l.identifier],\n",
    "                self._node_similarity_matrix[\n",
    "                    node_idx, self._node_id_to_idx[l.identifier]\n",
    "                ],\n",
    "            )\n",
    "            for l in lineage\n",
    "            if self._node_id_to_idx.get(l.identifier) is not None\n",
    "        ]\n",
    "\n",
    "        return abstractions\n",
    "\n",
    "    def _show_term_lineage(self, node_id):\n",
    "        # Return all the parent nodes up to the top\n",
    "\n",
    "        lineage = [self.tree.nodes[node_id]]\n",
    "\n",
    "        while self.tree.parent(node_id) is not None:\n",
    "            lineage.append(self.tree.parent(node_id))\n",
    "            node_id = self.tree.parent(node_id).identifier\n",
    "\n",
    "        lineage.reverse()\n",
    "        return lineage\n",
    "\n",
    "    def _match_terms_to_nodes(self):\n",
    "        # Refer to discussion in _build_node_similarity_matrix\n",
    "        # Here we are matching the terms themselves to the nodes. The matrix in the left of\n",
    "        # selected_term_similarity would just be the identity matrix.\n",
    "        raw_term_to_node_sim = (\n",
    "            self._selected_terms_similarity * self._node_term_matrix.T\n",
    "        )\n",
    "\n",
    "        # non_normalized_single_term_similarity_matrix =\n",
    "        # identity x selected_term_similarity x identity -->\n",
    "        # selected_term_similarity (diagonal is one...)\n",
    "        non_normalized_node_similarity_matrix = (\n",
    "            self._node_term_matrix\n",
    "            * self._selected_terms_similarity\n",
    "            * self._node_term_matrix.T\n",
    "        )\n",
    "        normalization_denominator = np.sqrt(\n",
    "            self._selected_terms_similarity.diagonal()[:, None]\n",
    "            * non_normalized_node_similarity_matrix.diagonal()\n",
    "        )\n",
    "        term_to_node_sim = copy.deepcopy(raw_term_to_node_sim)\n",
    "        term_to_node_sim[normalization_denominator > 0] = (\n",
    "            raw_term_to_node_sim[normalization_denominator > 0]\n",
    "            / normalization_denominator[normalization_denominator > 0]\n",
    "        )\n",
    "        # Closest node to term. Matrix to dictionary.\n",
    "        term_to_node_matches = np.argmax(term_to_node_sim, axis=1)\n",
    "        self._term_to_node_idx = {\n",
    "            term: node_idx\n",
    "            for term, node_idx in zip(self.selected_terms, term_to_node_matches)\n",
    "        }\n",
    "\n",
    "    def _document_topics_to_tags(self, document_terms):\n",
    "        # For all document terms find matching closest node ids\n",
    "        node_ids = [self._term_to_node_idx[term] for term in document_terms]\n",
    "        # Look up nodes and their abstractions in node_abstraction_matrix\n",
    "        node_abstractions = self._node_abstraction_matrix[node_ids]\n",
    "        # Silence all abstractions below threshold similarity value\n",
    "        node_abstractions[node_abstractions <= self.min_abstraction_similarity] = 0\n",
    "        # Sum across to get document to tags match with weights\n",
    "        return node_abstractions.sum(axis=0)\n",
    "\n",
    "\n",
    "class CustomEncoder(json.JSONEncoder):\n",
    "    def default(self, obj):\n",
    "        if isinstance(obj, np.ndarray):\n",
    "            return obj.tolist()\n",
    "        elif isinstance(obj, csr_matrix):\n",
    "            obj_coo = obj.tocoo()\n",
    "            return {\n",
    "                \"data\": obj_coo.data,\n",
    "                \"row\": obj_coo.row,\n",
    "                \"col\": obj_coo.col,\n",
    "                \"shape\": obj_coo.shape,\n",
    "            }\n",
    "        elif isinstance(obj, set):\n",
    "            return list(obj)\n",
    "        else:\n",
    "            return json.JSONEncoder.default(self, obj)\n",
    "\n",
    "\n",
    "def get_locations_set():\n",
    "    \"\"\"\n",
    "    Collects a standard set of locations to allow filtering these from the term set.\n",
    "    This is useful if clustering documents around location is not of interest.\n",
    "    As the step of filtering location names is computationally demanding,\n",
    "    we restrict the set to countries, capitals, and US states and cites\n",
    "    \"\"\"\n",
    "\n",
    "    # Continents, counties and capitals\n",
    "    # Reference: https://gist.github.com/pamelafox/986163\n",
    "    file_path = os.path.join(os.path.dirname(__file__), \"data/countries.json\")\n",
    "    with open(file_path) as f:\n",
    "        countries = json.load(f)\n",
    "\n",
    "    continents = set()\n",
    "    country_names = set()\n",
    "    capitals = set()\n",
    "    for country in countries:\n",
    "        continents.add(country[\"continent\"].lower())\n",
    "        country_names.add(country[\"name\"].lower())\n",
    "        capitals.add(country[\"capital\"].lower())\n",
    "\n",
    "    # US states\n",
    "    file_path = os.path.join(os.path.dirname(__file__), \"data/us_states.json\")\n",
    "    with open(file_path) as f:\n",
    "        state_names = json.load(f)\n",
    "    state_names = {s.lower() for s in state_names}\n",
    "\n",
    "    # Cities list; limit to US to restrict the set\n",
    "    # Reference: https://datahub.io/core/world-cities, which itself sources the data from https://www.geonames.org/.\n",
    "    file_path = os.path.join(os.path.dirname(__file__), \"data/world-cities.json\")\n",
    "    with open(file_path) as f:\n",
    "        world_cities = json.load(f)\n",
    "\n",
    "    us_cities_list = {\n",
    "        c[\"name\"] for c in world_cities if c[\"country\"] == \"United States\"\n",
    "    }\n",
    "\n",
    "    locations = continents | country_names | capitals | state_names | us_cities_list\n",
    "\n",
    "    return locations"
   ]
  },
  {
   "cell_type": "code",
   "execution_count": null,
   "id": "fede0412",
   "metadata": {},
   "outputs": [],
   "source": [
    "def keyword_averaging(sample):\n",
    "    topics = {}\n",
    "    all_kws = []\n",
    "    for s in sample:\n",
    "        all_kws += get_kws(s[\"text\"])\n",
    "    \n",
    "    #average\n",
    "    topic_mem = []\n",
    "    for kws in all_kws:\n",
    "        topic, prob = kws\n",
    "        topic_mem += [topic]\n",
    "        if topics.get(topic):\n",
    "            topics[topic] += prob\n",
    "        else:\n",
    "            topics[topic] = prob\n",
    "                \n",
    "    for topic, prob in topics.items():\n",
    "        #normalize topic probability\n",
    "        topics[topic] = topics[topic] / len([t for t in topic_mem if t == topic])\n",
    "    sort_ = {k: v for k, v in sorted(topics.items(), key=lambda item: item[1])}\n",
    "    return topics\n",
    "        "
   ]
  },
  {
   "cell_type": "code",
   "execution_count": null,
   "id": "6a87c342",
   "metadata": {},
   "outputs": [],
   "source": []
  },
  {
   "cell_type": "code",
   "execution_count": null,
   "id": "8ec2aa67",
   "metadata": {},
   "outputs": [],
   "source": []
  }
 ],
 "metadata": {
  "kernelspec": {
   "display_name": "conda_pytorch_p36",
   "language": "python",
   "name": "conda_pytorch_p36"
  },
  "language_info": {
   "codemirror_mode": {
    "name": "ipython",
    "version": 3
   },
   "file_extension": ".py",
   "mimetype": "text/x-python",
   "name": "python",
   "nbconvert_exporter": "python",
   "pygments_lexer": "ipython3",
   "version": "3.6.13"
  }
 },
 "nbformat": 4,
 "nbformat_minor": 5
}
