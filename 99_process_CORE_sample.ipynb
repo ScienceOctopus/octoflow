{
 "cells": [
  {
   "cell_type": "markdown",
   "id": "cd5f8460",
   "metadata": {},
   "source": [
    "One-off code to turn the CORE sample (a bunch of nested folders "
   ]
  },
  {
   "cell_type": "code",
   "execution_count": null,
   "id": "4fa2e4c6",
   "metadata": {},
   "outputs": [],
   "source": [
    "!unzip 'resync_datadump_sample220218.zip' -d \"datadump/\"\n",
    "!mkdir jsons"
   ]
  },
  {
   "cell_type": "code",
   "execution_count": null,
   "id": "0ae1b2e2",
   "metadata": {},
   "outputs": [],
   "source": [
    "import os\n",
    "import json\n",
    "\n",
    "locs = []\n",
    "for root, dirs, files in os.walk(\"datadump/\", topdown=False):\n",
    "    for name in files:    \n",
    "        fname = os.path.join(root, name)\n",
    "        if (fname.endswith(\".json\")):\n",
    "            locs.append(fname)\n",
    "\n",
    "\n",
    "locs[0]\n",
    "jsons = []\n",
    "\n",
    "for loc in locs:\n",
    "    f = open(loc,)\n",
    "    data = json.load(f)\n",
    "    jsons.append(data)\n",
    "d = {\"data\": jsons}"
   ]
  }
 ],
 "metadata": {
  "kernelspec": {
   "display_name": "conda_python3",
   "language": "python",
   "name": "conda_python3"
  },
  "language_info": {
   "codemirror_mode": {
    "name": "ipython",
    "version": 3
   },
   "file_extension": ".py",
   "mimetype": "text/x-python",
   "name": "python",
   "nbconvert_exporter": "python",
   "pygments_lexer": "ipython3",
   "version": "3.6.13"
  }
 },
 "nbformat": 4,
 "nbformat_minor": 5
}
