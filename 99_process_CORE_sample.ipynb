{
 "cells": [
  {
   "cell_type": "markdown",
   "id": "b9003399",
   "metadata": {},
   "source": [
    "One-off code to turn the CORE sample (a bunch of nested folders) into a JSON "
   ]
  },
  {
   "cell_type": "code",
   "execution_count": null,
   "id": "1e0e71a5",
   "metadata": {},
   "outputs": [
    {
     "name": "stdout",
     "output_type": "stream",
     "text": [
      "unzip:  cannot find or open resync_datadump_sample220218.zip, resync_datadump_sample220218.zip.zip or resync_datadump_sample220218.zip.ZIP.\n"
     ]
    }
   ],
   "source": [
    "#https://core.ac.uk/exports/resync_datadump_sample220218.zip\n",
    "!unzip 'resync_datadump_sample220218.zip' -d \"datadump/\"\n",
    "!mkdir jsons"
   ]
  },
  {
   "cell_type": "code",
   "execution_count": null,
   "id": "eb4421df",
   "metadata": {},
   "outputs": [],
   "source": [
    "import os\n",
    "import json\n",
    "\n",
    "locs = []\n",
    "for root, dirs, files in os.walk(\"datadump/\", topdown=False):\n",
    "    for name in files:    \n",
    "        fname = os.path.join(root, name)\n",
    "        if (fname.endswith(\".json\")):\n",
    "            locs.append(fname)\n",
    "\n",
    "\n",
    "locs[0]\n",
    "jsons = []\n",
    "\n",
    "for loc in locs:\n",
    "    f = open(loc,)\n",
    "    data = json.load(f)\n",
    "    jsons.append(data)\n",
    "d = {\"data\": jsons}"
   ]
  },
  {
   "cell_type": "markdown",
   "id": "128b10ad",
   "metadata": {},
   "source": [
    "## Archived Code Snippets "
   ]
  },
  {
   "cell_type": "code",
   "execution_count": null,
   "id": "553d2496",
   "metadata": {},
   "outputs": [],
   "source": [
    "\n",
    "#d = sample.json...\n",
    "with open(\"sample.json\") as f:\n",
    "    g = f.read()\n",
    "    data = json.loads(g)\n",
    "    #print(data['data'][0])\n",
    "\n",
    "hits = [paper for paper in data['data'] if paper[\"abstract\"] and paper[\"fullText\"] and len(paper[\"abstract\"])> 15]\n",
    "len(data[\"data\"]), len(hits)"
   ]
  },
  {
   "cell_type": "code",
   "execution_count": null,
   "id": "8d2d6ab1",
   "metadata": {},
   "outputs": [],
   "source": [
    "\n",
    "#from utils\n",
    "coll = [{\"abstract\": e[\"abstract\"], \"fullText\": e[\"fullText\"], \"doi\": e[\"doi\"]} for e in hits]\n",
    "coll[0]\n",
    "[c.update(\n",
    "    {\"keysentence_abstract\": find_sentence_in_abstract(c[\"abstract\"]), \n",
    "    \"sent_before_ABST\":find_sentence_in_abstract(c[\"abstract\"], -1),\n",
    "    \"sent_after_ABST\":find_sentence_in_abstract(c[\"abstract\"], -1),\n",
    "\n",
    "     \"keysentence_fulltext\": find_sentence_in_abstract(c[\"fullText\"]),\n",
    "     \"sent_before_FT\":find_sentence_in_abstract(c[\"fullText\"], -1),\n",
    "     \"sent_after_FT\": find_sentence_in_abstract(c[\"fullText\"], 1),\n",
    "     }) for c in coll]\n",
    "\n",
    "4\n",
    "\n",
    "[c.update({\"sentiment\": sentiment(c[\"phrase\"])}) for c in phrase_hits]\n",
    "[c.update({\"modality\": modality(c[\"phrase\"]) }) for c in phrase_hits]\n",
    "\n",
    "4\n",
    "only_both = [c for c in coll if c[\"keysentence_abstract\"] and c[\"keysentence_fulltext\"]]\n",
    "len(only_both)"
   ]
  }
 ],
 "metadata": {
  "kernelspec": {
   "display_name": "conda_python3",
   "language": "python",
   "name": "conda_python3"
  }
 },
 "nbformat": 4,
 "nbformat_minor": 5
}
